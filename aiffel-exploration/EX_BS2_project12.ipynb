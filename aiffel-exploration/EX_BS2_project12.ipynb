{
  "nbformat": 4,
  "nbformat_minor": 0,
  "metadata": {
    "colab": {
      "name": "EX_BS2_project12.ipynb",
      "provenance": [],
      "authorship_tag": "ABX9TyMxX+wmNCqVSbSLyHBJILzB",
      "include_colab_link": true
    },
    "kernelspec": {
      "name": "python3",
      "display_name": "Python 3"
    },
    "language_info": {
      "name": "python"
    },
    "accelerator": "GPU",
    "gpuClass": "standard"
  },
  "cells": [
    {
      "cell_type": "markdown",
      "metadata": {
        "id": "view-in-github",
        "colab_type": "text"
      },
      "source": [
        "<a href=\"https://colab.research.google.com/github/RealMyeong/Aiffel_Exploration/blob/main/EX_BS2_project12.ipynb\" target=\"_parent\"><img src=\"https://colab.research.google.com/assets/colab-badge.svg\" alt=\"Open In Colab\"/></a>"
      ]
    },
    {
      "cell_type": "markdown",
      "source": [
        "## 라이브러리 버전 확인"
      ],
      "metadata": {
        "id": "DPdVDztZFC8d"
      }
    },
    {
      "cell_type": "code",
      "source": [
        "!pip install summa"
      ],
      "metadata": {
        "colab": {
          "base_uri": "https://localhost:8080/"
        },
        "id": "b9m1wISjFeqd",
        "outputId": "04e30644-e3f5-4ee8-c1cc-38182b98f493"
      },
      "execution_count": 2,
      "outputs": [
        {
          "output_type": "stream",
          "name": "stdout",
          "text": [
            "Looking in indexes: https://pypi.org/simple, https://us-python.pkg.dev/colab-wheels/public/simple/\n",
            "Collecting summa\n",
            "  Downloading summa-1.2.0.tar.gz (54 kB)\n",
            "\u001b[K     |████████████████████████████████| 54 kB 2.5 MB/s \n",
            "\u001b[?25hRequirement already satisfied: scipy>=0.19 in /usr/local/lib/python3.7/dist-packages (from summa) (1.7.3)\n",
            "Requirement already satisfied: numpy<1.23.0,>=1.16.5 in /usr/local/lib/python3.7/dist-packages (from scipy>=0.19->summa) (1.21.6)\n",
            "Building wheels for collected packages: summa\n",
            "  Building wheel for summa (setup.py) ... \u001b[?25l\u001b[?25hdone\n",
            "  Created wheel for summa: filename=summa-1.2.0-py3-none-any.whl size=54412 sha256=f78f90e93508faa1891d66cd750df24b8bbb399c33b31f90acbeeee763c5b99a\n",
            "  Stored in directory: /root/.cache/pip/wheels/29/64/ac/7b443477588d365ef37ada30d456bdf5f07dc5be9f6324cb6e\n",
            "Successfully built summa\n",
            "Installing collected packages: summa\n",
            "Successfully installed summa-1.2.0\n"
          ]
        }
      ]
    },
    {
      "cell_type": "code",
      "execution_count": 3,
      "metadata": {
        "colab": {
          "base_uri": "https://localhost:8080/"
        },
        "id": "xzwNTDAdE2Ig",
        "outputId": "734c7671-76ca-49ab-be22-6f1de8dbedbb"
      },
      "outputs": [
        {
          "output_type": "stream",
          "name": "stdout",
          "text": [
            "3.7\n",
            "2.8.2\n",
            "1.2.0\n"
          ]
        }
      ],
      "source": [
        "from importlib_metadata import version\n",
        "import nltk\n",
        "import tensorflow\n",
        "import summa\n",
        "\n",
        "print(nltk.__version__)\n",
        "print(tensorflow.__version__)\n",
        "print(version('summa'))"
      ]
    },
    {
      "cell_type": "markdown",
      "source": [
        "## Step 1. 데이터 수집하기\n"
      ],
      "metadata": {
        "id": "zq2jYFVQFo37"
      }
    },
    {
      "cell_type": "code",
      "source": [
        "import nltk\n",
        "nltk.download('stopwords')\n",
        "\n",
        "import numpy as np\n",
        "import pandas as pd\n",
        "import os\n",
        "import re\n",
        "import matplotlib.pyplot as plt\n",
        "from nltk.corpus import stopwords\n",
        "from bs4 import BeautifulSoup \n",
        "from tensorflow.keras.preprocessing.text import Tokenizer \n",
        "from tensorflow.keras.preprocessing.sequence import pad_sequences\n",
        "import urllib.request\n",
        "import warnings\n",
        "warnings.filterwarnings(\"ignore\", category=UserWarning, module='bs4')"
      ],
      "metadata": {
        "colab": {
          "base_uri": "https://localhost:8080/"
        },
        "id": "ATby875sFxwZ",
        "outputId": "f5d75753-7368-42b6-b3a6-ccc32071cdf1"
      },
      "execution_count": 4,
      "outputs": [
        {
          "output_type": "stream",
          "name": "stderr",
          "text": [
            "[nltk_data] Downloading package stopwords to /root/nltk_data...\n",
            "[nltk_data]   Unzipping corpora/stopwords.zip.\n"
          ]
        }
      ]
    },
    {
      "cell_type": "code",
      "source": [
        "import urllib.request\n",
        "urllib.request.urlretrieve(\"https://raw.githubusercontent.com/sunnysai12345/News_Summary/master/news_summary_more.csv\", filename=\"news_summary_more.csv\")\n",
        "data = pd.read_csv('news_summary_more.csv', encoding='iso-8859-1')"
      ],
      "metadata": {
        "id": "Hn0m7hf8Fni3"
      },
      "execution_count": 5,
      "outputs": []
    },
    {
      "cell_type": "code",
      "source": [
        "data.sample(10)"
      ],
      "metadata": {
        "colab": {
          "base_uri": "https://localhost:8080/",
          "height": 363
        },
        "id": "GUwKMHy-FISa",
        "outputId": "e8ed1fcf-d58b-4006-de63-d7696489d3c5"
      },
      "execution_count": 6,
      "outputs": [
        {
          "output_type": "execute_result",
          "data": {
            "text/plain": [
              "                                               headlines  \\\n",
              "77437  J&K cops ask Pak High Commission to claim LeT ...   \n",
              "5066   Baring may buy CCD Founder's Mindtree stake fo...   \n",
              "2116   Pandya-Rahul drama spoiled India's Test series...   \n",
              "25667  Companies that collect user data have no right...   \n",
              "9869   Fitch keeps India's rating unchanged for 12th ...   \n",
              "13479  Lust is replacing love: Karan Johar on loss of...   \n",
              "58269  The Big Bang Theory's Kaley Cuoco gets engaged...   \n",
              "75021  Adani Group accused of illegally diverting Ã¢Â...   \n",
              "6471   Dhoni must play domestic cricket for India sel...   \n",
              "95074  Arunachal borders Tibet, not China: CM on Dala...   \n",
              "\n",
              "                                                    text  \n",
              "77437  Jammu and Kashmir Police have approached the P...  \n",
              "5066   Baring Private Equity Asia has reportedly emer...  \n",
              "2116   Former India captain Sunil Gavaskar has said s...  \n",
              "25667  Talking about the ownership rights over users'...  \n",
              "9869   Fitch Ratings on Thursday retained India's sov...  \n",
              "13479  Karan Johar, on being asked how showcasing rom...  \n",
              "58269  'The Big Bang Theory' actress Kaley Cuoco got ...  \n",
              "75021  Indian customs intelligence has accused Adani ...  \n",
              "6471   World Cup-winning former Indian cricketer Mohi...  \n",
              "95074  Slamming China for its objection to Dalai Lama...  "
            ],
            "text/html": [
              "\n",
              "  <div id=\"df-2f5be29d-fbda-4183-87af-77fa75a8da48\">\n",
              "    <div class=\"colab-df-container\">\n",
              "      <div>\n",
              "<style scoped>\n",
              "    .dataframe tbody tr th:only-of-type {\n",
              "        vertical-align: middle;\n",
              "    }\n",
              "\n",
              "    .dataframe tbody tr th {\n",
              "        vertical-align: top;\n",
              "    }\n",
              "\n",
              "    .dataframe thead th {\n",
              "        text-align: right;\n",
              "    }\n",
              "</style>\n",
              "<table border=\"1\" class=\"dataframe\">\n",
              "  <thead>\n",
              "    <tr style=\"text-align: right;\">\n",
              "      <th></th>\n",
              "      <th>headlines</th>\n",
              "      <th>text</th>\n",
              "    </tr>\n",
              "  </thead>\n",
              "  <tbody>\n",
              "    <tr>\n",
              "      <th>77437</th>\n",
              "      <td>J&amp;K cops ask Pak High Commission to claim LeT ...</td>\n",
              "      <td>Jammu and Kashmir Police have approached the P...</td>\n",
              "    </tr>\n",
              "    <tr>\n",
              "      <th>5066</th>\n",
              "      <td>Baring may buy CCD Founder's Mindtree stake fo...</td>\n",
              "      <td>Baring Private Equity Asia has reportedly emer...</td>\n",
              "    </tr>\n",
              "    <tr>\n",
              "      <th>2116</th>\n",
              "      <td>Pandya-Rahul drama spoiled India's Test series...</td>\n",
              "      <td>Former India captain Sunil Gavaskar has said s...</td>\n",
              "    </tr>\n",
              "    <tr>\n",
              "      <th>25667</th>\n",
              "      <td>Companies that collect user data have no right...</td>\n",
              "      <td>Talking about the ownership rights over users'...</td>\n",
              "    </tr>\n",
              "    <tr>\n",
              "      <th>9869</th>\n",
              "      <td>Fitch keeps India's rating unchanged for 12th ...</td>\n",
              "      <td>Fitch Ratings on Thursday retained India's sov...</td>\n",
              "    </tr>\n",
              "    <tr>\n",
              "      <th>13479</th>\n",
              "      <td>Lust is replacing love: Karan Johar on loss of...</td>\n",
              "      <td>Karan Johar, on being asked how showcasing rom...</td>\n",
              "    </tr>\n",
              "    <tr>\n",
              "      <th>58269</th>\n",
              "      <td>The Big Bang Theory's Kaley Cuoco gets engaged...</td>\n",
              "      <td>'The Big Bang Theory' actress Kaley Cuoco got ...</td>\n",
              "    </tr>\n",
              "    <tr>\n",
              "      <th>75021</th>\n",
              "      <td>Adani Group accused of illegally diverting Ã¢Â...</td>\n",
              "      <td>Indian customs intelligence has accused Adani ...</td>\n",
              "    </tr>\n",
              "    <tr>\n",
              "      <th>6471</th>\n",
              "      <td>Dhoni must play domestic cricket for India sel...</td>\n",
              "      <td>World Cup-winning former Indian cricketer Mohi...</td>\n",
              "    </tr>\n",
              "    <tr>\n",
              "      <th>95074</th>\n",
              "      <td>Arunachal borders Tibet, not China: CM on Dala...</td>\n",
              "      <td>Slamming China for its objection to Dalai Lama...</td>\n",
              "    </tr>\n",
              "  </tbody>\n",
              "</table>\n",
              "</div>\n",
              "      <button class=\"colab-df-convert\" onclick=\"convertToInteractive('df-2f5be29d-fbda-4183-87af-77fa75a8da48')\"\n",
              "              title=\"Convert this dataframe to an interactive table.\"\n",
              "              style=\"display:none;\">\n",
              "        \n",
              "  <svg xmlns=\"http://www.w3.org/2000/svg\" height=\"24px\"viewBox=\"0 0 24 24\"\n",
              "       width=\"24px\">\n",
              "    <path d=\"M0 0h24v24H0V0z\" fill=\"none\"/>\n",
              "    <path d=\"M18.56 5.44l.94 2.06.94-2.06 2.06-.94-2.06-.94-.94-2.06-.94 2.06-2.06.94zm-11 1L8.5 8.5l.94-2.06 2.06-.94-2.06-.94L8.5 2.5l-.94 2.06-2.06.94zm10 10l.94 2.06.94-2.06 2.06-.94-2.06-.94-.94-2.06-.94 2.06-2.06.94z\"/><path d=\"M17.41 7.96l-1.37-1.37c-.4-.4-.92-.59-1.43-.59-.52 0-1.04.2-1.43.59L10.3 9.45l-7.72 7.72c-.78.78-.78 2.05 0 2.83L4 21.41c.39.39.9.59 1.41.59.51 0 1.02-.2 1.41-.59l7.78-7.78 2.81-2.81c.8-.78.8-2.07 0-2.86zM5.41 20L4 18.59l7.72-7.72 1.47 1.35L5.41 20z\"/>\n",
              "  </svg>\n",
              "      </button>\n",
              "      \n",
              "  <style>\n",
              "    .colab-df-container {\n",
              "      display:flex;\n",
              "      flex-wrap:wrap;\n",
              "      gap: 12px;\n",
              "    }\n",
              "\n",
              "    .colab-df-convert {\n",
              "      background-color: #E8F0FE;\n",
              "      border: none;\n",
              "      border-radius: 50%;\n",
              "      cursor: pointer;\n",
              "      display: none;\n",
              "      fill: #1967D2;\n",
              "      height: 32px;\n",
              "      padding: 0 0 0 0;\n",
              "      width: 32px;\n",
              "    }\n",
              "\n",
              "    .colab-df-convert:hover {\n",
              "      background-color: #E2EBFA;\n",
              "      box-shadow: 0px 1px 2px rgba(60, 64, 67, 0.3), 0px 1px 3px 1px rgba(60, 64, 67, 0.15);\n",
              "      fill: #174EA6;\n",
              "    }\n",
              "\n",
              "    [theme=dark] .colab-df-convert {\n",
              "      background-color: #3B4455;\n",
              "      fill: #D2E3FC;\n",
              "    }\n",
              "\n",
              "    [theme=dark] .colab-df-convert:hover {\n",
              "      background-color: #434B5C;\n",
              "      box-shadow: 0px 1px 3px 1px rgba(0, 0, 0, 0.15);\n",
              "      filter: drop-shadow(0px 1px 2px rgba(0, 0, 0, 0.3));\n",
              "      fill: #FFFFFF;\n",
              "    }\n",
              "  </style>\n",
              "\n",
              "      <script>\n",
              "        const buttonEl =\n",
              "          document.querySelector('#df-2f5be29d-fbda-4183-87af-77fa75a8da48 button.colab-df-convert');\n",
              "        buttonEl.style.display =\n",
              "          google.colab.kernel.accessAllowed ? 'block' : 'none';\n",
              "\n",
              "        async function convertToInteractive(key) {\n",
              "          const element = document.querySelector('#df-2f5be29d-fbda-4183-87af-77fa75a8da48');\n",
              "          const dataTable =\n",
              "            await google.colab.kernel.invokeFunction('convertToInteractive',\n",
              "                                                     [key], {});\n",
              "          if (!dataTable) return;\n",
              "\n",
              "          const docLinkHtml = 'Like what you see? Visit the ' +\n",
              "            '<a target=\"_blank\" href=https://colab.research.google.com/notebooks/data_table.ipynb>data table notebook</a>'\n",
              "            + ' to learn more about interactive tables.';\n",
              "          element.innerHTML = '';\n",
              "          dataTable['output_type'] = 'display_data';\n",
              "          await google.colab.output.renderOutput(dataTable, element);\n",
              "          const docLink = document.createElement('div');\n",
              "          docLink.innerHTML = docLinkHtml;\n",
              "          element.appendChild(docLink);\n",
              "        }\n",
              "      </script>\n",
              "    </div>\n",
              "  </div>\n",
              "  "
            ]
          },
          "metadata": {},
          "execution_count": 6
        }
      ]
    },
    {
      "cell_type": "markdown",
      "source": [
        "- headlines와 text 두가지 열로 구성되어 있음\n",
        "- 추상적 요약을 할 때는 headlines를 미리 요약되어 있는 문장으로 간주해도 됨\n",
        "- 추출적 요약을 할 때는 text만 이용"
      ],
      "metadata": {
        "id": "_YOUOL2eGAlW"
      }
    },
    {
      "cell_type": "markdown",
      "source": [
        "## Step 2. 데이터 전처리하기 (추상적 요약)\n"
      ],
      "metadata": {
        "id": "Z92SkOh8GSY-"
      }
    },
    {
      "cell_type": "markdown",
      "source": [
        "- 중복치 확인"
      ],
      "metadata": {
        "id": "ofoBWahWJav0"
      }
    },
    {
      "cell_type": "code",
      "source": [
        "print('전체 headline 데이터', len(data['headlines']))\n",
        "print('유니크한 headline 데이터: ', (data['headlines'].nunique()))\n",
        "print('전체 text 데이터', len(data['text']))\n",
        "print('유니크한 text데이터', data['text'].nunique())"
      ],
      "metadata": {
        "colab": {
          "base_uri": "https://localhost:8080/"
        },
        "id": "zny2KKogIVqz",
        "outputId": "1afc00be-b522-4798-9897-6ff12a786be1"
      },
      "execution_count": 7,
      "outputs": [
        {
          "output_type": "stream",
          "name": "stdout",
          "text": [
            "전체 headline 데이터 98401\n",
            "유니크한 headline 데이터:  98280\n",
            "전체 text 데이터 98401\n",
            "유니크한 text데이터 98360\n"
          ]
        }
      ]
    },
    {
      "cell_type": "markdown",
      "source": [
        "- 중복치 제거\n",
        "\n",
        "headlines는 요약된 내용이므로 중복이 될 수도 있지만 text자체가 중복이 되면 안되기 때문에 text에서 중복치들을 지워준다"
      ],
      "metadata": {
        "id": "xGgP-wpWJZ4D"
      }
    },
    {
      "cell_type": "code",
      "source": [
        "data.drop_duplicates(subset = ['text'], inplace = True)\n",
        "print(len(data['text']))"
      ],
      "metadata": {
        "colab": {
          "base_uri": "https://localhost:8080/"
        },
        "id": "2l4vcYkWJctP",
        "outputId": "a001137a-03c6-476c-a284-ca1e4abbe016"
      },
      "execution_count": 8,
      "outputs": [
        {
          "output_type": "stream",
          "name": "stdout",
          "text": [
            "98360\n"
          ]
        }
      ]
    },
    {
      "cell_type": "markdown",
      "source": [
        "- Null값 확인\n",
        "\n",
        "null값이 존재하지 않는것을 확인"
      ],
      "metadata": {
        "id": "8gO6aNHtJ1ub"
      }
    },
    {
      "cell_type": "code",
      "source": [
        "data.isnull().sum()"
      ],
      "metadata": {
        "colab": {
          "base_uri": "https://localhost:8080/"
        },
        "id": "7ZC_Rha7J0RG",
        "outputId": "3ca37cbc-c197-439c-f6b8-848acc759516"
      },
      "execution_count": 9,
      "outputs": [
        {
          "output_type": "execute_result",
          "data": {
            "text/plain": [
              "headlines    0\n",
              "text         0\n",
              "dtype: int64"
            ]
          },
          "metadata": {},
          "execution_count": 9
        }
      ]
    },
    {
      "cell_type": "markdown",
      "source": [
        "- 텍스트 정규화와 불용어 제거\n"
      ],
      "metadata": {
        "id": "KzvXFNoFKCdP"
      }
    },
    {
      "cell_type": "code",
      "source": [
        "# 정규화 사전 준비\n",
        "\n",
        "contractions = {\"ain't\": \"is not\", \"aren't\": \"are not\",\"can't\": \"cannot\", \"'cause\": \"because\", \"could've\": \"could have\", \"couldn't\": \"could not\",\n",
        "                           \"didn't\": \"did not\",  \"doesn't\": \"does not\", \"don't\": \"do not\", \"hadn't\": \"had not\", \"hasn't\": \"has not\", \"haven't\": \"have not\",\n",
        "                           \"he'd\": \"he would\",\"he'll\": \"he will\", \"he's\": \"he is\", \"how'd\": \"how did\", \"how'd'y\": \"how do you\", \"how'll\": \"how will\", \"how's\": \"how is\",\n",
        "                           \"I'd\": \"I would\", \"I'd've\": \"I would have\", \"I'll\": \"I will\", \"I'll've\": \"I will have\",\"I'm\": \"I am\", \"I've\": \"I have\", \"i'd\": \"i would\",\n",
        "                           \"i'd've\": \"i would have\", \"i'll\": \"i will\",  \"i'll've\": \"i will have\",\"i'm\": \"i am\", \"i've\": \"i have\", \"isn't\": \"is not\", \"it'd\": \"it would\",\n",
        "                           \"it'd've\": \"it would have\", \"it'll\": \"it will\", \"it'll've\": \"it will have\",\"it's\": \"it is\", \"let's\": \"let us\", \"ma'am\": \"madam\",\n",
        "                           \"mayn't\": \"may not\", \"might've\": \"might have\",\"mightn't\": \"might not\",\"mightn't've\": \"might not have\", \"must've\": \"must have\",\n",
        "                           \"mustn't\": \"must not\", \"mustn't've\": \"must not have\", \"needn't\": \"need not\", \"needn't've\": \"need not have\",\"o'clock\": \"of the clock\",\n",
        "                           \"oughtn't\": \"ought not\", \"oughtn't've\": \"ought not have\", \"shan't\": \"shall not\", \"sha'n't\": \"shall not\", \"shan't've\": \"shall not have\",\n",
        "                           \"she'd\": \"she would\", \"she'd've\": \"she would have\", \"she'll\": \"she will\", \"she'll've\": \"she will have\", \"she's\": \"she is\",\n",
        "                           \"should've\": \"should have\", \"shouldn't\": \"should not\", \"shouldn't've\": \"should not have\", \"so've\": \"so have\",\"so's\": \"so as\",\n",
        "                           \"this's\": \"this is\",\"that'd\": \"that would\", \"that'd've\": \"that would have\", \"that's\": \"that is\", \"there'd\": \"there would\",\n",
        "                           \"there'd've\": \"there would have\", \"there's\": \"there is\", \"here's\": \"here is\",\"they'd\": \"they would\", \"they'd've\": \"they would have\",\n",
        "                           \"they'll\": \"they will\", \"they'll've\": \"they will have\", \"they're\": \"they are\", \"they've\": \"they have\", \"to've\": \"to have\",\n",
        "                           \"wasn't\": \"was not\", \"we'd\": \"we would\", \"we'd've\": \"we would have\", \"we'll\": \"we will\", \"we'll've\": \"we will have\", \"we're\": \"we are\",\n",
        "                           \"we've\": \"we have\", \"weren't\": \"were not\", \"what'll\": \"what will\", \"what'll've\": \"what will have\", \"what're\": \"what are\",\n",
        "                           \"what's\": \"what is\", \"what've\": \"what have\", \"when's\": \"when is\", \"when've\": \"when have\", \"where'd\": \"where did\", \"where's\": \"where is\",\n",
        "                           \"where've\": \"where have\", \"who'll\": \"who will\", \"who'll've\": \"who will have\", \"who's\": \"who is\", \"who've\": \"who have\",\n",
        "                           \"why's\": \"why is\", \"why've\": \"why have\", \"will've\": \"will have\", \"won't\": \"will not\", \"won't've\": \"will not have\",\n",
        "                           \"would've\": \"would have\", \"wouldn't\": \"would not\", \"wouldn't've\": \"would not have\", \"y'all\": \"you all\",\n",
        "                           \"y'all'd\": \"you all would\",\"y'all'd've\": \"you all would have\",\"y'all're\": \"you all are\",\"y'all've\": \"you all have\",\n",
        "                           \"you'd\": \"you would\", \"you'd've\": \"you would have\", \"you'll\": \"you will\", \"you'll've\": \"you will have\",\n",
        "                           \"you're\": \"you are\", \"you've\": \"you have\"}\n",
        "\n",
        "print(\"정규화 사전의 수: \", len(contractions))"
      ],
      "metadata": {
        "colab": {
          "base_uri": "https://localhost:8080/"
        },
        "id": "WEvb4pj6KIX5",
        "outputId": "1843f74e-1c4c-4e40-ad9f-69c312905887"
      },
      "execution_count": 10,
      "outputs": [
        {
          "output_type": "stream",
          "name": "stdout",
          "text": [
            "정규화 사전의 수:  120\n"
          ]
        }
      ]
    },
    {
      "cell_type": "markdown",
      "source": [
        "NLTK에서 제공하는 불용어 리스트를 참조해, 샘플에서 불용어를 제거"
      ],
      "metadata": {
        "id": "v4hSdfwtKRnK"
      }
    },
    {
      "cell_type": "code",
      "source": [
        "print('불용어 개수 :', len(stopwords.words('english') ))\n",
        "print(stopwords.words('english'))"
      ],
      "metadata": {
        "colab": {
          "base_uri": "https://localhost:8080/"
        },
        "id": "Z-KEVm7AKMtt",
        "outputId": "bb6704c6-72f3-4d46-ac18-692c5025cdd1"
      },
      "execution_count": 11,
      "outputs": [
        {
          "output_type": "stream",
          "name": "stdout",
          "text": [
            "불용어 개수 : 179\n",
            "['i', 'me', 'my', 'myself', 'we', 'our', 'ours', 'ourselves', 'you', \"you're\", \"you've\", \"you'll\", \"you'd\", 'your', 'yours', 'yourself', 'yourselves', 'he', 'him', 'his', 'himself', 'she', \"she's\", 'her', 'hers', 'herself', 'it', \"it's\", 'its', 'itself', 'they', 'them', 'their', 'theirs', 'themselves', 'what', 'which', 'who', 'whom', 'this', 'that', \"that'll\", 'these', 'those', 'am', 'is', 'are', 'was', 'were', 'be', 'been', 'being', 'have', 'has', 'had', 'having', 'do', 'does', 'did', 'doing', 'a', 'an', 'the', 'and', 'but', 'if', 'or', 'because', 'as', 'until', 'while', 'of', 'at', 'by', 'for', 'with', 'about', 'against', 'between', 'into', 'through', 'during', 'before', 'after', 'above', 'below', 'to', 'from', 'up', 'down', 'in', 'out', 'on', 'off', 'over', 'under', 'again', 'further', 'then', 'once', 'here', 'there', 'when', 'where', 'why', 'how', 'all', 'any', 'both', 'each', 'few', 'more', 'most', 'other', 'some', 'such', 'no', 'nor', 'not', 'only', 'own', 'same', 'so', 'than', 'too', 'very', 's', 't', 'can', 'will', 'just', 'don', \"don't\", 'should', \"should've\", 'now', 'd', 'll', 'm', 'o', 're', 've', 'y', 'ain', 'aren', \"aren't\", 'couldn', \"couldn't\", 'didn', \"didn't\", 'doesn', \"doesn't\", 'hadn', \"hadn't\", 'hasn', \"hasn't\", 'haven', \"haven't\", 'isn', \"isn't\", 'ma', 'mightn', \"mightn't\", 'mustn', \"mustn't\", 'needn', \"needn't\", 'shan', \"shan't\", 'shouldn', \"shouldn't\", 'wasn', \"wasn't\", 'weren', \"weren't\", 'won', \"won't\", 'wouldn', \"wouldn't\"]\n"
          ]
        }
      ]
    },
    {
      "cell_type": "code",
      "source": [
        "# 데이터 전처리 함수\n",
        "from collections import Counter\n",
        "def preprocess_sentence(sentence, remove_stopwords=True):\n",
        "    sentence = sentence.lower() # 텍스트 소문자화\n",
        "    sentence = BeautifulSoup(sentence, \"lxml\").text # <br />, <a href = ...> 등의 html 태그 제거\n",
        "    sentence = re.sub(r'\\([^)]*\\)', '', sentence) # 괄호로 닫힌 문자열 (...) 제거 Ex) my husband (and myself!) for => my husband for\n",
        "    sentence = re.sub('\"','', sentence) # 쌍따옴표 \" 제거\n",
        "    sentence = ' '.join([contractions[t] if t in contractions else t for t in sentence.split(\" \")]) # 약어 정규화\n",
        "    sentence = re.sub(r\"'s\\b\",\"\", sentence) # 소유격 제거. Ex) roland's -> roland\n",
        "    sentence = re.sub(\"[^a-zA-Z0-9_]\", \" \", sentence) # 영어 외 문자(특수문자 등) 공백으로 변환\n",
        "    # 단어 내에 같은 문자들이 3개 이상 연속해서 반복되면 삭제하고 최대 2개까지만 반복되도록 만들어줌( ex. iiit -> iit )\n",
        "    b=[]\n",
        "    for i in sentence.split():\n",
        "      a = list(i)\n",
        "      char_cnt = 0\n",
        "      for j in a:\n",
        "        if a.count(j) >= 3:\n",
        "          a.remove(j)\n",
        "      word_a = ''.join(a)\n",
        "      b.append(word_a)\n",
        "    sentence = ' '.join(b)\n",
        "\n",
        "          \n",
        "    # 불용어 제거 (Text)\n",
        "    if remove_stopwords:\n",
        "        tokens = ' '.join(word for word in sentence.split() if not word in stopwords.words('english') if len(word) > 1) \n",
        "        # sentence를 공백으로 나눈 단어들 중에서 불용어에 포함 되어있지 않은 단어만을 사이에 공백을 두고 합친다( 단어의 길이가 1보다 클 때)\n",
        "\n",
        "    # 불용어 미제거 (Summary)\n",
        "    else:\n",
        "        tokens = ' '.join(word for word in sentence.split() if len(word) > 1)\n",
        "    return tokens\n",
        "print('=3')"
      ],
      "metadata": {
        "colab": {
          "base_uri": "https://localhost:8080/"
        },
        "id": "_1OGRAwYK2zo",
        "outputId": "568dd1a8-b5f9-4329-8cd6-39a984749419"
      },
      "execution_count": 12,
      "outputs": [
        {
          "output_type": "stream",
          "name": "stdout",
          "text": [
            "=3\n"
          ]
        }
      ]
    },
    {
      "cell_type": "markdown",
      "source": [
        "- 전처리 전, 후 확인\n",
        "\n",
        "임의로 작성한 문장\n"
      ],
      "metadata": {
        "id": "O7Vz3lfLLlCx"
      }
    },
    {
      "cell_type": "code",
      "source": [
        "temp_text = 'Everything I bought was great, infact I ordered iiiiit twice and the third ordered 123 was<br />for my mother and father. '\n",
        "temp_summary = 'Great way to start (or finish) the day!!!'\n",
        "\n",
        "print(\"text: \", preprocess_sentence(temp_text))\n",
        "print(\"summary:\", preprocess_sentence(temp_summary, False))  # 불용어를 제거하지 않습니다."
      ],
      "metadata": {
        "colab": {
          "base_uri": "https://localhost:8080/"
        },
        "id": "p7kl8DnDLmJ8",
        "outputId": "3d987901-496b-4635-d4dd-5b728f43c0dd"
      },
      "execution_count": 13,
      "outputs": [
        {
          "output_type": "stream",
          "name": "stdout",
          "text": [
            "text:  everything bought great infact ordered iit twice third ordered 123 wasfor mother father\n",
            "summary: great way to start the day\n"
          ]
        }
      ]
    },
    {
      "cell_type": "markdown",
      "source": [
        "- data['text'] 부분 전처리 진행"
      ],
      "metadata": {
        "id": "l4bAESWkLxms"
      }
    },
    {
      "cell_type": "code",
      "source": [
        "clean_text = []\n",
        "# 전체 Text 데이터에 대한 전처리\n",
        "for s in data['text']:\n",
        "    clean_text.append(preprocess_sentence(s))\n",
        "\n",
        "# 전처리 후 출력\n",
        "print(\"Text 전처리 후 결과: \", clean_text[:5])"
      ],
      "metadata": {
        "colab": {
          "base_uri": "https://localhost:8080/"
        },
        "id": "N4EnkeeKLp7Y",
        "outputId": "2845a463-55f7-4dab-afd7-6895cbdde63f"
      },
      "execution_count": 14,
      "outputs": [
        {
          "output_type": "stream",
          "name": "stdout",
          "text": [
            "Text 전처리 후 결과:  ['saurav kant alumnus upgrad iit pg program machine learning artficial intlligence sr ystems ngineer infosys almost years work xprience program upgrad 360 dgree career support helped transition data scientist tech mahindra 90 salary hike upgrad online power learning powered lakh careers', 'kunal shah credit card bill payment platform cred gave users chance win free food swiggy one year pranav kaushik delhi techie bagged reward spending 200 cred coins users get one cred coin per rupee bill paid used avail rewards brands like ixigo bokmyshow ubereats cult fit', 'new zealand dfeated india wickets fourth odi hamilton thursday win first match five match odi series india lost iternational match rohit sharma captaincy 12 consecutive victories dating back march 2018 match witnessed india getting 92 seventh lowest total odi cricket history', 'aegon life iterm insurance plan customers enjoy tax benefits premiums paid save 46 800 taxes plan provides life cover age 100 years also customers options insure critical illneses dsability accidental death benefit rider life cover age 80 years', 'speaking sexual harassment allegations rajkumar hirani sonam kapoor said known hirani many years true metoo movement get derailed metoo movement always blieve woman case need rserve judgment aded hirani accused asistant worked sanju']\n"
          ]
        }
      ]
    },
    {
      "cell_type": "code",
      "source": [
        "clean_headlines=[]\n",
        "# 전체 headlines 데이터에 대한 전처리\n",
        "for s in data['headlines']:\n",
        "  clean_headlines.append(preprocess_sentence(s, False))\n",
        "\n",
        "#전처리 후 출력\n",
        "print('Headlines 전처리 후 결과: ', clean_headlines[:5])"
      ],
      "metadata": {
        "colab": {
          "base_uri": "https://localhost:8080/"
        },
        "id": "ZxQUfGIzL2eZ",
        "outputId": "b1346a06-8abd-4b9f-f682-787a1627db49"
      },
      "execution_count": 15,
      "outputs": [
        {
          "output_type": "stream",
          "name": "stdout",
          "text": [
            "Headlines 전처리 후 결과:  ['upgrad learner switches to career in ml al with 90 salary hike', 'delhi techie wins free food from swiggy for one year on cred', 'new zealand end rohit sharma led india 12 match wining streak', 'aegon life iterm insurance plan helps customers save tax', 'have known hirani for yrs what if metoo claims are not true sonam']\n"
          ]
        }
      ]
    },
    {
      "cell_type": "markdown",
      "source": [
        "전처리 진행 후 각 데이터에서 빈 값이 생겼는지 확인"
      ],
      "metadata": {
        "id": "o_HOrlBQO1Hj"
      }
    },
    {
      "cell_type": "code",
      "source": [
        "data['text'] = clean_text\n",
        "data['headlines'] = clean_headlines\n",
        "\n",
        "data.replace('', np.nan, inplace=True)"
      ],
      "metadata": {
        "id": "fihFVL-zOiPI"
      },
      "execution_count": 16,
      "outputs": []
    },
    {
      "cell_type": "code",
      "source": [
        "data.isnull().sum()"
      ],
      "metadata": {
        "colab": {
          "base_uri": "https://localhost:8080/"
        },
        "id": "THj_4_aaPGOd",
        "outputId": "2b1f6905-d502-4480-fce9-fa458f31b3a4"
      },
      "execution_count": 17,
      "outputs": [
        {
          "output_type": "execute_result",
          "data": {
            "text/plain": [
              "headlines    0\n",
              "text         0\n",
              "dtype: int64"
            ]
          },
          "metadata": {},
          "execution_count": 17
        }
      ]
    },
    {
      "cell_type": "code",
      "source": [
        "data.dropna(axis=0, inplace=True)\n",
        "print('전체 샘플수 :', (len(data)))"
      ],
      "metadata": {
        "colab": {
          "base_uri": "https://localhost:8080/"
        },
        "id": "MOghWzuolwMY",
        "outputId": "8aeed41e-a5ed-4910-b4e9-97b4bd2c7c1f"
      },
      "execution_count": 18,
      "outputs": [
        {
          "output_type": "stream",
          "name": "stdout",
          "text": [
            "전체 샘플수 : 98360\n"
          ]
        }
      ]
    },
    {
      "cell_type": "markdown",
      "source": [
        "추가적인 null값이 생기지 않은 것을 알 수 있음"
      ],
      "metadata": {
        "id": "eK2EkoXMPKUp"
      }
    },
    {
      "cell_type": "markdown",
      "source": [
        "- train, test 데이터 나누기"
      ],
      "metadata": {
        "id": "SPT-v39aPXk7"
      }
    },
    {
      "cell_type": "markdown",
      "source": [
        "먼저 text, headlines데이터들의 길이 분포를 시각화 해봄"
      ],
      "metadata": {
        "id": "PaeB6Ln-PfFM"
      }
    },
    {
      "cell_type": "code",
      "source": [
        "import matplotlib.pyplot as plt\n",
        "\n",
        "text_len = [len(x.split()) for x in data['text']]\n",
        "headlines_len = [len(x.split()) for x in data['headlines']]\n",
        "\n",
        "print('텍스트 길이 최대: ', np.max(text_len))\n",
        "print('텍스트 길이 최소: ', np.min(text_len))\n",
        "print('텍스트 길이 평균: ', np.mean(text_len))\n",
        "print('헤드라인 길이 최대: ', np.max(headlines_len))\n",
        "print('헤드라인 길이 최소: ', np.min(headlines_len))\n",
        "print('헤드라인 길이 평균: ', np.mean(headlines_len))\n",
        "\n",
        "plt.subplot(1,2,1)\n",
        "plt.boxplot(text_len)\n",
        "plt.title('Text')\n",
        "plt.subplot(1,2,2)\n",
        "plt.boxplot(headlines_len)\n",
        "plt.title('Headlines')\n",
        "plt.tight_layout()\n",
        "plt.show()\n",
        "\n",
        "plt.title('Text')\n",
        "plt.hist(text_len, bins = 40)\n",
        "plt.xlabel('length of samples')\n",
        "plt.ylabel('number of samples')\n",
        "plt.show()\n",
        "\n",
        "plt.title('Headlines')\n",
        "plt.hist(headlines_len, bins = 40)\n",
        "plt.xlabel('length of samples')\n",
        "plt.ylabel('number of samples')\n",
        "plt.show()"
      ],
      "metadata": {
        "colab": {
          "base_uri": "https://localhost:8080/",
          "height": 960
        },
        "id": "DpoyBDdkPM7p",
        "outputId": "59bde79a-02e3-4c6d-94d3-ca6aab825848"
      },
      "execution_count": 19,
      "outputs": [
        {
          "output_type": "stream",
          "name": "stdout",
          "text": [
            "텍스트 길이 최대:  60\n",
            "텍스트 길이 최소:  1\n",
            "텍스트 길이 평균:  36.420994306628714\n",
            "헤드라인 길이 최대:  16\n",
            "헤드라인 길이 최소:  1\n",
            "헤드라인 길이 평균:  9.569591297275315\n"
          ]
        },
        {
          "output_type": "display_data",
          "data": {
            "text/plain": [
              "<Figure size 432x288 with 2 Axes>"
            ],
            "image/png": "[encoded data removed]"
          },
          "metadata": {
            "needs_background": "light"
          }
        },
        {
          "output_type": "display_data",
          "data": {
            "text/plain": [
              "<Figure size 432x288 with 1 Axes>"
            ],
            "image/png": "[encoded data removed]"
          },
          "metadata": {
            "needs_background": "light"
          }
        },
        {
          "output_type": "display_data",
          "data": {
            "text/plain": [
              "<Figure size 432x288 with 1 Axes>"
            ],
            "image/png": "[encoded data removed]"
          },
          "metadata": {
            "needs_background": "light"
          }
        }
      ]
    },
    {
      "cell_type": "markdown",
      "source": [
        "text, headlines 길이를 임의로 정해줌"
      ],
      "metadata": {
        "id": "MWswWGRDQ_XX"
      }
    },
    {
      "cell_type": "code",
      "source": [
        "max_text_len = 60\n",
        "max_headline_len = 16"
      ],
      "metadata": {
        "id": "mzHyi_tFQpJy"
      },
      "execution_count": 20,
      "outputs": []
    },
    {
      "cell_type": "markdown",
      "source": [
        "최대 길이를 기준으로 나눴을때의 최대 길이보다 짧은 데이터의 비율"
      ],
      "metadata": {
        "id": "Iz_1GxSlRqL7"
      }
    },
    {
      "cell_type": "code",
      "source": [
        "def below_threshold_len(max_len, list):\n",
        "  count = 0\n",
        "  for s in list:\n",
        "    if len(s.split()) <= max_len:\n",
        "      count += 1\n",
        "  \n",
        "  print(f'길이가 {max_len}보다 짧은 데이터의 비율: {count/len(list)}')\n"
      ],
      "metadata": {
        "id": "nc8bg370RtLz"
      },
      "execution_count": 21,
      "outputs": []
    },
    {
      "cell_type": "code",
      "source": [
        "below_threshold_len(max_text_len, data['text'])\n",
        "below_threshold_len(max_headline_len, data['headlines'])"
      ],
      "metadata": {
        "colab": {
          "base_uri": "https://localhost:8080/"
        },
        "id": "PBhYJEx8Sc0d",
        "outputId": "23a3ce19-c20a-4a5d-dfb9-a9d66aeb8e1c"
      },
      "execution_count": 22,
      "outputs": [
        {
          "output_type": "stream",
          "name": "stdout",
          "text": [
            "길이가 60보다 짧은 데이터의 비율: 1.0\n",
            "길이가 16보다 짧은 데이터의 비율: 1.0\n"
          ]
        }
      ]
    },
    {
      "cell_type": "markdown",
      "source": [
        "길이가 max_len 보다 긴 데이터들을 삭제"
      ],
      "metadata": {
        "id": "TFzw-jUnS5dK"
      }
    },
    {
      "cell_type": "code",
      "source": [
        "data = data[data['text'].apply(lambda x: len(x.split()) <= max_text_len)]\n",
        "data = data[data['headlines'].apply(lambda x: len(x.split()) <= max_headline_len)]\n",
        "print('전체 샘플수 :', (len(data)))"
      ],
      "metadata": {
        "colab": {
          "base_uri": "https://localhost:8080/"
        },
        "id": "_V6VnnSLS8Xb",
        "outputId": "cbdf6192-42ab-4c42-b239-9212b6986d39"
      },
      "execution_count": 23,
      "outputs": [
        {
          "output_type": "stream",
          "name": "stdout",
          "text": [
            "전체 샘플수 : 98360\n"
          ]
        }
      ]
    },
    {
      "cell_type": "markdown",
      "source": [
        "시작 토큰과 마무리 토큰 추가해줌\n"
      ],
      "metadata": {
        "id": "ukLG3d-KyZUf"
      }
    },
    {
      "cell_type": "code",
      "source": [
        "data['decoder_input'] = data['headlines'].apply(lambda x : 'starttoken ' + x)\n",
        "data['decoder_output'] = data['headlines'].apply(lambda x : x + ' endtoken')\n"
      ],
      "metadata": {
        "id": "C5hxI45ryzFe"
      },
      "execution_count": 24,
      "outputs": []
    },
    {
      "cell_type": "code",
      "source": [
        "data.head()"
      ],
      "metadata": {
        "colab": {
          "base_uri": "https://localhost:8080/",
          "height": 337
        },
        "id": "U210zwlXzbQy",
        "outputId": "bf8832e6-7e8a-4c86-9360-3809cf49b3d7"
      },
      "execution_count": 25,
      "outputs": [
        {
          "output_type": "execute_result",
          "data": {
            "text/plain": [
              "                                           headlines  \\\n",
              "0  upgrad learner switches to career in ml al wit...   \n",
              "1  delhi techie wins free food from swiggy for on...   \n",
              "2  new zealand end rohit sharma led india 12 matc...   \n",
              "3  aegon life iterm insurance plan helps customer...   \n",
              "4  have known hirani for yrs what if metoo claims...   \n",
              "\n",
              "                                                text  \\\n",
              "0  saurav kant alumnus upgrad iit pg program mach...   \n",
              "1  kunal shah credit card bill payment platform c...   \n",
              "2  new zealand dfeated india wickets fourth odi h...   \n",
              "3  aegon life iterm insurance plan customers enjo...   \n",
              "4  speaking sexual harassment allegations rajkuma...   \n",
              "\n",
              "                                       decoder_input  \\\n",
              "0  starttoken upgrad learner switches to career i...   \n",
              "1  starttoken delhi techie wins free food from sw...   \n",
              "2  starttoken new zealand end rohit sharma led in...   \n",
              "3  starttoken aegon life iterm insurance plan hel...   \n",
              "4  starttoken have known hirani for yrs what if m...   \n",
              "\n",
              "                                      decoder_output  \n",
              "0  upgrad learner switches to career in ml al wit...  \n",
              "1  delhi techie wins free food from swiggy for on...  \n",
              "2  new zealand end rohit sharma led india 12 matc...  \n",
              "3  aegon life iterm insurance plan helps customer...  \n",
              "4  have known hirani for yrs what if metoo claims...  "
            ],
            "text/html": [
              "\n",
              "  <div id=\"df-5044eb24-0ff2-4412-af1b-32af1f20068b\">\n",
              "    <div class=\"colab-df-container\">\n",
              "      <div>\n",
              "<style scoped>\n",
              "    .dataframe tbody tr th:only-of-type {\n",
              "        vertical-align: middle;\n",
              "    }\n",
              "\n",
              "    .dataframe tbody tr th {\n",
              "        vertical-align: top;\n",
              "    }\n",
              "\n",
              "    .dataframe thead th {\n",
              "        text-align: right;\n",
              "    }\n",
              "</style>\n",
              "<table border=\"1\" class=\"dataframe\">\n",
              "  <thead>\n",
              "    <tr style=\"text-align: right;\">\n",
              "      <th></th>\n",
              "      <th>headlines</th>\n",
              "      <th>text</th>\n",
              "      <th>decoder_input</th>\n",
              "      <th>decoder_output</th>\n",
              "    </tr>\n",
              "  </thead>\n",
              "  <tbody>\n",
              "    <tr>\n",
              "      <th>0</th>\n",
              "      <td>upgrad learner switches to career in ml al wit...</td>\n",
              "      <td>saurav kant alumnus upgrad iit pg program mach...</td>\n",
              "      <td>starttoken upgrad learner switches to career i...</td>\n",
              "      <td>upgrad learner switches to career in ml al wit...</td>\n",
              "    </tr>\n",
              "    <tr>\n",
              "      <th>1</th>\n",
              "      <td>delhi techie wins free food from swiggy for on...</td>\n",
              "      <td>kunal shah credit card bill payment platform c...</td>\n",
              "      <td>starttoken delhi techie wins free food from sw...</td>\n",
              "      <td>delhi techie wins free food from swiggy for on...</td>\n",
              "    </tr>\n",
              "    <tr>\n",
              "      <th>2</th>\n",
              "      <td>new zealand end rohit sharma led india 12 matc...</td>\n",
              "      <td>new zealand dfeated india wickets fourth odi h...</td>\n",
              "      <td>starttoken new zealand end rohit sharma led in...</td>\n",
              "      <td>new zealand end rohit sharma led india 12 matc...</td>\n",
              "    </tr>\n",
              "    <tr>\n",
              "      <th>3</th>\n",
              "      <td>aegon life iterm insurance plan helps customer...</td>\n",
              "      <td>aegon life iterm insurance plan customers enjo...</td>\n",
              "      <td>starttoken aegon life iterm insurance plan hel...</td>\n",
              "      <td>aegon life iterm insurance plan helps customer...</td>\n",
              "    </tr>\n",
              "    <tr>\n",
              "      <th>4</th>\n",
              "      <td>have known hirani for yrs what if metoo claims...</td>\n",
              "      <td>speaking sexual harassment allegations rajkuma...</td>\n",
              "      <td>starttoken have known hirani for yrs what if m...</td>\n",
              "      <td>have known hirani for yrs what if metoo claims...</td>\n",
              "    </tr>\n",
              "  </tbody>\n",
              "</table>\n",
              "</div>\n",
              "      <button class=\"colab-df-convert\" onclick=\"convertToInteractive('df-5044eb24-0ff2-4412-af1b-32af1f20068b')\"\n",
              "              title=\"Convert this dataframe to an interactive table.\"\n",
              "              style=\"display:none;\">\n",
              "        \n",
              "  <svg xmlns=\"http://www.w3.org/2000/svg\" height=\"24px\"viewBox=\"0 0 24 24\"\n",
              "       width=\"24px\">\n",
              "    <path d=\"M0 0h24v24H0V0z\" fill=\"none\"/>\n",
              "    <path d=\"M18.56 5.44l.94 2.06.94-2.06 2.06-.94-2.06-.94-.94-2.06-.94 2.06-2.06.94zm-11 1L8.5 8.5l.94-2.06 2.06-.94-2.06-.94L8.5 2.5l-.94 2.06-2.06.94zm10 10l.94 2.06.94-2.06 2.06-.94-2.06-.94-.94-2.06-.94 2.06-2.06.94z\"/><path d=\"M17.41 7.96l-1.37-1.37c-.4-.4-.92-.59-1.43-.59-.52 0-1.04.2-1.43.59L10.3 9.45l-7.72 7.72c-.78.78-.78 2.05 0 2.83L4 21.41c.39.39.9.59 1.41.59.51 0 1.02-.2 1.41-.59l7.78-7.78 2.81-2.81c.8-.78.8-2.07 0-2.86zM5.41 20L4 18.59l7.72-7.72 1.47 1.35L5.41 20z\"/>\n",
              "  </svg>\n",
              "      </button>\n",
              "      \n",
              "  <style>\n",
              "    .colab-df-container {\n",
              "      display:flex;\n",
              "      flex-wrap:wrap;\n",
              "      gap: 12px;\n",
              "    }\n",
              "\n",
              "    .colab-df-convert {\n",
              "      background-color: #E8F0FE;\n",
              "      border: none;\n",
              "      border-radius: 50%;\n",
              "      cursor: pointer;\n",
              "      display: none;\n",
              "      fill: #1967D2;\n",
              "      height: 32px;\n",
              "      padding: 0 0 0 0;\n",
              "      width: 32px;\n",
              "    }\n",
              "\n",
              "    .colab-df-convert:hover {\n",
              "      background-color: #E2EBFA;\n",
              "      box-shadow: 0px 1px 2px rgba(60, 64, 67, 0.3), 0px 1px 3px 1px rgba(60, 64, 67, 0.15);\n",
              "      fill: #174EA6;\n",
              "    }\n",
              "\n",
              "    [theme=dark] .colab-df-convert {\n",
              "      background-color: #3B4455;\n",
              "      fill: #D2E3FC;\n",
              "    }\n",
              "\n",
              "    [theme=dark] .colab-df-convert:hover {\n",
              "      background-color: #434B5C;\n",
              "      box-shadow: 0px 1px 3px 1px rgba(0, 0, 0, 0.15);\n",
              "      filter: drop-shadow(0px 1px 2px rgba(0, 0, 0, 0.3));\n",
              "      fill: #FFFFFF;\n",
              "    }\n",
              "  </style>\n",
              "\n",
              "      <script>\n",
              "        const buttonEl =\n",
              "          document.querySelector('#df-5044eb24-0ff2-4412-af1b-32af1f20068b button.colab-df-convert');\n",
              "        buttonEl.style.display =\n",
              "          google.colab.kernel.accessAllowed ? 'block' : 'none';\n",
              "\n",
              "        async function convertToInteractive(key) {\n",
              "          const element = document.querySelector('#df-5044eb24-0ff2-4412-af1b-32af1f20068b');\n",
              "          const dataTable =\n",
              "            await google.colab.kernel.invokeFunction('convertToInteractive',\n",
              "                                                     [key], {});\n",
              "          if (!dataTable) return;\n",
              "\n",
              "          const docLinkHtml = 'Like what you see? Visit the ' +\n",
              "            '<a target=\"_blank\" href=https://colab.research.google.com/notebooks/data_table.ipynb>data table notebook</a>'\n",
              "            + ' to learn more about interactive tables.';\n",
              "          element.innerHTML = '';\n",
              "          dataTable['output_type'] = 'display_data';\n",
              "          await google.colab.output.renderOutput(dataTable, element);\n",
              "          const docLink = document.createElement('div');\n",
              "          docLink.innerHTML = docLinkHtml;\n",
              "          element.appendChild(docLink);\n",
              "        }\n",
              "      </script>\n",
              "    </div>\n",
              "  </div>\n",
              "  "
            ]
          },
          "metadata": {},
          "execution_count": 25
        }
      ]
    },
    {
      "cell_type": "markdown",
      "source": [
        "데이터들 Numpy 타입으로 바꿔줌"
      ],
      "metadata": {
        "id": "U2xMbII2zv5a"
      }
    },
    {
      "cell_type": "code",
      "source": [
        "encoder_input = np.array(data['text'])\n",
        "\n",
        "decoder_input = np.array(data['decoder_input'])\n",
        "decoder_output = np.array(data['decoder_output'])"
      ],
      "metadata": {
        "id": "gd7wcf9Tzywj"
      },
      "execution_count": 26,
      "outputs": []
    },
    {
      "cell_type": "markdown",
      "source": [
        "- train, test 데이터셋 나눠주기\n",
        "\n",
        "데이터들을 한 번 잘 섞어줌"
      ],
      "metadata": {
        "id": "T6gswqC90J5p"
      }
    },
    {
      "cell_type": "code",
      "source": [
        "indices = np.arange(encoder_input.shape[0])\n",
        "np.random.shuffle(indices)\n",
        "\n",
        "encoder_input = encoder_input[indices]\n",
        "decoder_input = decoder_input[indices]\n",
        "decoder_output = decoder_output[indices]"
      ],
      "metadata": {
        "id": "w9rzybhb0MJX"
      },
      "execution_count": 27,
      "outputs": []
    },
    {
      "cell_type": "markdown",
      "source": [
        "섞였는지 확인"
      ],
      "metadata": {
        "id": "JQYd0xvo0wAr"
      }
    },
    {
      "cell_type": "code",
      "source": [
        "encoder_input[:5]"
      ],
      "metadata": {
        "colab": {
          "base_uri": "https://localhost:8080/"
        },
        "id": "uCWFKvv30vnX",
        "outputId": "25891e85-dd75-4135-e2b0-111cbb06e426"
      },
      "execution_count": 28,
      "outputs": [
        {
          "output_type": "execute_result",
          "data": {
            "text/plain": [
              "array(['trailer ranveer singh sara ali khan starer simmba rleased directed rohit shetty film orphan named simmba blieves corrupt officer life ideal life inspires become one also starring sonu sood ashutosh rana film scheduled rlease dcember 28',\n",
              "       'oneplus anounced launch oneplus red edition priced 39 99 featuring 8gb ram 128gb built storage oneplus red edition dramatic take oneplus vailable sale 12 00 noon 16th july oneplus bullets wireless also go sale 12 00 noon 16th july',\n",
              "       'us asked pakistan enact legislation formally bans 26 11 mumbai attack mastermind hafiz saeed led jmaat ud dawa falah insaniat foundation two longer banned ordinance banned lapsed pakistani government extend removal ban runs counter pakistan comitment fatf fight terorism us said',\n",
              "       'islamic school teacher umar haque found guilty friday trying recruit army children carry wave isis inspired attacks across london made students roleplay attacking officers showed violent militant propganda haque blieved inspired london westminster bridge attack killed four people last year',\n",
              "       '11 people killed police firing protests vedanta sterlite copper unit tamil nadu tuticorin congress president rahul gandhi termed police action state sponsored terorism thousands protestors gathered protest expansion plant alleging polluted ground water police imposed section 144 area'],\n",
              "      dtype=object)"
            ]
          },
          "metadata": {},
          "execution_count": 28
        }
      ]
    },
    {
      "cell_type": "markdown",
      "source": [
        "테스트 사이즈 설정(0.2)"
      ],
      "metadata": {
        "id": "_aFIoJMJ06k6"
      }
    },
    {
      "cell_type": "code",
      "source": [
        "val_size = int(encoder_input.shape[0] * 0.2)\n",
        "val_size"
      ],
      "metadata": {
        "colab": {
          "base_uri": "https://localhost:8080/"
        },
        "id": "7PMxjB1c01-9",
        "outputId": "37f52133-5763-4778-9652-72ca327e8cee"
      },
      "execution_count": 29,
      "outputs": [
        {
          "output_type": "execute_result",
          "data": {
            "text/plain": [
              "19672"
            ]
          },
          "metadata": {},
          "execution_count": 29
        }
      ]
    },
    {
      "cell_type": "code",
      "source": [
        "encoder_input_train = encoder_input[:-val_size]\n",
        "decoder_input_train = decoder_input[:-val_size]\n",
        "decoder_output_train = decoder_output[:-val_size]\n",
        "\n",
        "encoder_input_test = encoder_input[-val_size:]\n",
        "decoder_input_test = decoder_input[-val_size:]\n",
        "decoder_output_test = decoder_output[-val_size:]\n",
        "\n",
        "print('훈련 데이터의 개수 :', len(encoder_input_train))\n",
        "print('훈련 레이블의 개수 :', len(decoder_input_train))\n",
        "print('테스트 데이터의 개수 :', len(encoder_input_test))\n",
        "print('테스트 레이블의 개수 :', len(decoder_input_test))"
      ],
      "metadata": {
        "colab": {
          "base_uri": "https://localhost:8080/"
        },
        "id": "2PhqHSxd1TKc",
        "outputId": "a892579f-78d8-4eec-ca74-c6a2a0ceb440"
      },
      "execution_count": 30,
      "outputs": [
        {
          "output_type": "stream",
          "name": "stdout",
          "text": [
            "훈련 데이터의 개수 : 78688\n",
            "훈련 레이블의 개수 : 78688\n",
            "테스트 데이터의 개수 : 19672\n",
            "테스트 레이블의 개수 : 19672\n"
          ]
        }
      ]
    },
    {
      "cell_type": "markdown",
      "source": [
        "- train, test 나눠주는 함수로 정의하여 편하게 이용"
      ],
      "metadata": {
        "id": "c3IJLr5x1__i"
      }
    },
    {
      "cell_type": "code",
      "source": [
        "def create_train_test(encoder_input, decoder_input, decoder_target):\n",
        "\n",
        "  #input 사이즈와 같은 크기의 배열 생성 후 섞음\n",
        "  indices = np.arange(encoder_input.shape[0])\n",
        "  np.random.shuffle(indices)\n",
        "\n",
        "  #정수 시퀀스를 이용해 데이터를 잘 섞어줌\n",
        "  encoder_input = encoder_input[indices]\n",
        "  decoder_input = decoder_input[indices]\n",
        "  decoder_target = decoder_target[indices]\n",
        "\n",
        "  #테스트 데이터 크기 정의\n",
        "  val_size = int(len(encoder_input)*0.2)\n",
        "\n",
        "  #데이터 val_size 기준으로 양분\n",
        "  encoder_input_train = encoder_input[:-val_size]\n",
        "  decoder_input_train = decoder_input[:-val_size]\n",
        "  decoder_target_train = decoder_target[:-val_size]\n",
        "\n",
        "  encoder_input_test = encoder_input[-val_size:]\n",
        "  decoder_input_test = decoder_input[-val_size:]\n",
        "  decoder_target_test = decoder_target[-val_size:]\n",
        "\n",
        "  print('훈련 데이터의 개수 :', len(encoder_input_train))\n",
        "  print('훈련 레이블의 개수 :', len(decoder_input_train))\n",
        "  print('테스트 데이터의 개수 :', len(encoder_input_test))\n",
        "  print('테스트 레이블의 개수 :', len(decoder_input_test))\n",
        "  \n",
        "  return encoder_input_train, decoder_input_train, decoder_target_train, encoder_input_test, decoder_input_test, decoder_target_test"
      ],
      "metadata": {
        "id": "kz-lBtph12Q0"
      },
      "execution_count": 31,
      "outputs": []
    },
    {
      "cell_type": "markdown",
      "source": [
        "- 정수 인코딩 진행"
      ],
      "metadata": {
        "id": "mwguSjAA2OTl"
      }
    },
    {
      "cell_type": "markdown",
      "source": [
        "먼저 토크나이저 설정해줌"
      ],
      "metadata": {
        "id": "85b2VBwf3WIT"
      }
    },
    {
      "cell_type": "code",
      "source": [
        "src_tokenizer = Tokenizer()\n",
        "src_tokenizer.fit_on_texts(encoder_input_train)"
      ],
      "metadata": {
        "id": "HHt9YgpP2PrQ"
      },
      "execution_count": 32,
      "outputs": []
    },
    {
      "cell_type": "markdown",
      "source": [
        "단어의 빈도수를 체크해봄"
      ],
      "metadata": {
        "id": "lBm-GlXg20QD"
      }
    },
    {
      "cell_type": "code",
      "source": [
        "threshold = 4\n",
        "total_cnt = len(src_tokenizer.word_index) # 단어의 수\n",
        "rare_cnt = 0 # 등장 빈도수가 threshold보다 작은 단어의 개수를 카운트\n",
        "total_freq = 0 # 훈련 데이터의 전체 단어 빈도수 총 합\n",
        "rare_freq = 0 # 등장 빈도수가 threshold보다 작은 단어의 등장 빈도수의 총 합\n",
        "\n",
        "# 단어와 빈도수의 쌍(pair)을 key와 value로 받는다.\n",
        "for key, value in src_tokenizer.word_counts.items():\n",
        "    total_freq = total_freq + value\n",
        "\n",
        "    # 단어의 등장 빈도수가 threshold보다 작으면\n",
        "    if(value < threshold):\n",
        "        rare_cnt = rare_cnt + 1\n",
        "        rare_freq = rare_freq + value\n",
        "\n",
        "print('단어 집합(vocabulary)의 크기 :', total_cnt)\n",
        "print('등장 빈도가 %s번 이하인 희귀 단어의 수: %s'%(threshold - 1, rare_cnt))\n",
        "print('단어 집합에서 희귀 단어를 제외시킬 경우의 단어 집합의 크기 %s'%(total_cnt - rare_cnt))\n",
        "print(\"단어 집합에서 희귀 단어의 비율:\", (rare_cnt / total_cnt)*100)\n",
        "print(\"전체 등장 빈도에서 희귀 단어 등장 빈도 비율:\", (rare_freq / total_freq)*100)"
      ],
      "metadata": {
        "colab": {
          "base_uri": "https://localhost:8080/"
        },
        "id": "t3oI8aNK2zsM",
        "outputId": "8ddb7ed6-1ae8-4634-c025-3a59639077f5"
      },
      "execution_count": 33,
      "outputs": [
        {
          "output_type": "stream",
          "name": "stdout",
          "text": [
            "단어 집합(vocabulary)의 크기 : 71761\n",
            "등장 빈도가 3번 이하인 희귀 단어의 수: 40914\n",
            "단어 집합에서 희귀 단어를 제외시킬 경우의 단어 집합의 크기 30847\n",
            "단어 집합에서 희귀 단어의 비율: 57.01425565418542\n",
            "전체 등장 빈도에서 희귀 단어 등장 빈도 비율: 2.1589212825750317\n"
          ]
        }
      ]
    },
    {
      "cell_type": "markdown",
      "source": [
        "희귀 단어 등장 빈도가 4% 정도밖에 안되기 때문에 얘들은 훈련 데이터에서 빼준다.\n",
        "단어장의 크기는 약 19000정도로 할 예정"
      ],
      "metadata": {
        "id": "m_jNbNOl3CAX"
      }
    },
    {
      "cell_type": "code",
      "source": [
        "src_vocab = 30847\n",
        "src_tokenizer = Tokenizer(num_words=src_vocab) \n",
        "src_tokenizer.fit_on_texts(encoder_input_train) # 단어 집합 재생성"
      ],
      "metadata": {
        "id": "0rK8HwRz3M6G"
      },
      "execution_count": 34,
      "outputs": []
    },
    {
      "cell_type": "markdown",
      "source": [
        "정수 인코딩 시작"
      ],
      "metadata": {
        "id": "4VrcNtFA3Tov"
      }
    },
    {
      "cell_type": "code",
      "source": [
        "# 텍스트 시퀀스를 정수 시퀀스로 변환\n",
        "encoder_input_train = src_tokenizer.texts_to_sequences(encoder_input_train) \n",
        "encoder_input_test = src_tokenizer.texts_to_sequences(encoder_input_test)\n",
        "\n",
        "# 잘 진행되었는지 샘플 출력\n",
        "print(encoder_input_train[:3])"
      ],
      "metadata": {
        "colab": {
          "base_uri": "https://localhost:8080/"
        },
        "id": "Bdkum8Th3TJD",
        "outputId": "21081af1-2d65-43d8-e3b6-25e5ac7c17d9"
      },
      "execution_count": 35,
      "outputs": [
        {
          "output_type": "stream",
          "name": "stdout",
          "text": [
            "[[1804, 899, 49, 2235, 573, 74, 605, 6296, 187, 265, 891, 2222, 15, 20140, 230, 6296, 3299, 5296, 321, 145, 8933, 145, 13350, 208, 17, 6, 1535, 3588, 8361, 8934, 4424, 15, 432, 235, 361, 651], [2253, 97, 495, 2253, 878, 1252, 2432, 2169, 1874, 1641, 18141, 350, 23019, 855, 3565, 2253, 878, 1252, 11906, 106, 2253, 984, 680, 141, 26, 15869, 5297, 500, 2253, 5298, 3609, 6, 298, 680, 141, 26, 15869, 5297, 500], [5, 70, 44, 12968, 4861, 4547, 5932, 574, 189, 78, 223, 3589, 4170, 2815, 125, 6362, 6043, 12242, 17304, 17305, 1492, 12, 1869, 614, 5338, 614, 21455, 477, 8, 3883, 3438, 412, 307, 2403, 44, 3760, 23020, 730, 1123, 5, 1]]\n"
          ]
        }
      ]
    },
    {
      "cell_type": "markdown",
      "source": [
        "headline에 대해서도 진행"
      ],
      "metadata": {
        "id": "ntg7Gj9l3qtk"
      }
    },
    {
      "cell_type": "code",
      "source": [
        "tar_tokenizer = Tokenizer()\n",
        "tar_tokenizer.fit_on_texts(decoder_input_train)"
      ],
      "metadata": {
        "id": "KN1-nuHw3sTY"
      },
      "execution_count": 36,
      "outputs": []
    },
    {
      "cell_type": "code",
      "source": [
        "threshold = 4\n",
        "total_cnt = len(tar_tokenizer.word_index) # 단어의 수\n",
        "rare_cnt = 0 # 등장 빈도수가 threshold보다 작은 단어의 개수를 카운트\n",
        "total_freq = 0 # 훈련 데이터의 전체 단어 빈도수 총 합\n",
        "rare_freq = 0 # 등장 빈도수가 threshold보다 작은 단어의 등장 빈도수의 총 합\n",
        "\n",
        "# 단어와 빈도수의 쌍(pair)을 key와 value로 받는다.\n",
        "for key, value in tar_tokenizer.word_counts.items():\n",
        "    total_freq = total_freq + value\n",
        "\n",
        "    # 단어의 등장 빈도수가 threshold보다 작으면\n",
        "    if(value < threshold):\n",
        "        rare_cnt = rare_cnt + 1\n",
        "        rare_freq = rare_freq + value\n",
        "\n",
        "print('단어 집합(vocabulary)의 크기 :', total_cnt)\n",
        "print('등장 빈도가 %s번 이하인 희귀 단어의 수: %s'%(threshold - 1, rare_cnt))\n",
        "print('단어 집합에서 희귀 단어를 제외시킬 경우의 단어 집합의 크기 %s'%(total_cnt - rare_cnt))\n",
        "print(\"단어 집합에서 희귀 단어의 비율:\", (rare_cnt / total_cnt)*100)\n",
        "print(\"전체 등장 빈도에서 희귀 단어 등장 빈도 비율:\", (rare_freq / total_freq)*100)"
      ],
      "metadata": {
        "colab": {
          "base_uri": "https://localhost:8080/"
        },
        "id": "6TF-JYrM3szk",
        "outputId": "3fce0a06-45ec-49c5-f939-f4393899b5e5"
      },
      "execution_count": 37,
      "outputs": [
        {
          "output_type": "stream",
          "name": "stdout",
          "text": [
            "단어 집합(vocabulary)의 크기 : 31818\n",
            "등장 빈도가 3번 이하인 희귀 단어의 수: 18142\n",
            "단어 집합에서 희귀 단어를 제외시킬 경우의 단어 집합의 크기 13676\n",
            "단어 집합에서 희귀 단어의 비율: 57.0180401030863\n",
            "전체 등장 빈도에서 희귀 단어 등장 빈도 비율: 3.2907131220957844\n"
          ]
        }
      ]
    },
    {
      "cell_type": "markdown",
      "source": [
        "단어장 개수는 9824 정도로 하면 될 것 같다."
      ],
      "metadata": {
        "id": "tc7M36tS35o-"
      }
    },
    {
      "cell_type": "code",
      "source": [
        "tar_vocab = 13676\n",
        "tar_tokenizer = Tokenizer(num_words=tar_vocab) \n",
        "tar_tokenizer.fit_on_texts(decoder_input_train)\n",
        "tar_tokenizer.fit_on_texts(decoder_output_train)\n",
        "\n",
        "# 텍스트 시퀀스를 정수 시퀀스로 변환\n",
        "decoder_input_train = tar_tokenizer.texts_to_sequences(decoder_input_train) \n",
        "decoder_target_train = tar_tokenizer.texts_to_sequences(decoder_output_train)\n",
        "decoder_input_test = tar_tokenizer.texts_to_sequences(decoder_input_test)\n",
        "decoder_target_test = tar_tokenizer.texts_to_sequences(decoder_output_test)\n",
        "\n",
        "# 잘 변환되었는지 확인\n",
        "print('input')\n",
        "print('input ',decoder_input_train[:5])\n",
        "print('target')\n",
        "print('decoder ',decoder_target_train[:5])"
      ],
      "metadata": {
        "colab": {
          "base_uri": "https://localhost:8080/"
        },
        "id": "E2k4xzjl37Y2",
        "outputId": "4a185c28-67be-4f75-f155-a0f3dbc252f7"
      },
      "execution_count": 38,
      "outputs": [
        {
          "output_type": "stream",
          "name": "stdout",
          "text": [
            "input\n",
            "input  [[1, 595, 6, 375, 226, 1299, 766, 168, 3622, 318], [1, 1420, 1065, 3531, 1271, 3, 283, 7, 378, 4, 8, 7, 1670, 327], [1, 14, 139, 103, 3, 136, 2022, 1649, 11987, 11988], [1, 911, 1313, 3, 122, 166, 6, 616, 3, 142, 538], [1, 1498, 7, 397, 4428, 31, 213, 6094, 1404, 76]]\n",
            "target\n",
            "decoder  [[595, 6, 375, 226, 1299, 766, 168, 3622, 318, 2], [1420, 1065, 3531, 1271, 3, 283, 7, 378, 4, 8, 7, 1670, 327, 2], [14, 139, 103, 3, 136, 2022, 1649, 11987, 11988, 2], [911, 1313, 3, 122, 166, 6, 616, 3, 142, 538, 2], [1498, 7, 397, 4428, 31, 213, 6094, 1404, 76, 2]]\n"
          ]
        }
      ]
    },
    {
      "cell_type": "markdown",
      "source": [
        "빈도수에 따른 전처리를 해줬는데 이렇게 되면 또 다시 null값이 발생할 수 있기때문에 확인해보고 데이터에서 지워준다."
      ],
      "metadata": {
        "id": "vnGsDLJg4XcL"
      }
    },
    {
      "cell_type": "code",
      "source": [
        "drop_train = [index for index, sentence in enumerate(decoder_input_train) if len(sentence) == 1]\n",
        "drop_test = [index for index, sentence in enumerate(decoder_input_test) if len(sentence) == 1]\n",
        "\n",
        "print('삭제할 훈련 데이터의 개수 :', len(drop_train))\n",
        "print('삭제할 테스트 데이터의 개수 :', len(drop_test))\n",
        "\n",
        "encoder_input_train = [sentence for index, sentence in enumerate(encoder_input_train) if index not in drop_train]\n",
        "decoder_input_train = [sentence for index, sentence in enumerate(decoder_input_train) if index not in drop_train]\n",
        "decoder_target_train = [sentence for index, sentence in enumerate(decoder_target_train) if index not in drop_train]\n",
        "\n",
        "encoder_input_test = [sentence for index, sentence in enumerate(encoder_input_test) if index not in drop_test]\n",
        "decoder_input_test = [sentence for index, sentence in enumerate(decoder_input_test) if index not in drop_test]\n",
        "decoder_target_test = [sentence for index, sentence in enumerate(decoder_target_test) if index not in drop_test]\n",
        "\n",
        "print('훈련 데이터의 개수 :', len(encoder_input_train))\n",
        "print('훈련 레이블의 개수 :', len(decoder_input_train))\n",
        "print('테스트 데이터의 개수 :', len(encoder_input_test))\n",
        "print('테스트 레이블의 개수 :', len(decoder_input_test))"
      ],
      "metadata": {
        "colab": {
          "base_uri": "https://localhost:8080/"
        },
        "id": "C_qR4Sjz4lmi",
        "outputId": "5eb7d418-13db-4184-efc4-9ff5806e3821"
      },
      "execution_count": 39,
      "outputs": [
        {
          "output_type": "stream",
          "name": "stdout",
          "text": [
            "삭제할 훈련 데이터의 개수 : 0\n",
            "삭제할 테스트 데이터의 개수 : 0\n",
            "훈련 데이터의 개수 : 78688\n",
            "훈련 레이블의 개수 : 78688\n",
            "테스트 데이터의 개수 : 19672\n",
            "테스트 레이블의 개수 : 19672\n"
          ]
        }
      ]
    },
    {
      "cell_type": "markdown",
      "source": [
        "- 패딩 진행해줌"
      ],
      "metadata": {
        "id": "OpXOyayB4s-F"
      }
    },
    {
      "cell_type": "code",
      "source": [
        "encoder_input_train = pad_sequences(encoder_input_train, maxlen=max_text_len, padding='post')\n",
        "encoder_input_test = pad_sequences(encoder_input_test, maxlen=max_text_len, padding='post')\n",
        "decoder_input_train = pad_sequences(decoder_input_train, maxlen=max_headline_len, padding='post')\n",
        "decoder_target_train = pad_sequences(decoder_target_train, maxlen=max_headline_len, padding='post')\n",
        "decoder_input_test = pad_sequences(decoder_input_test, maxlen=max_headline_len, padding='post')\n",
        "decoder_target_test = pad_sequences(decoder_target_test, maxlen=max_headline_len, padding='post')\n"
      ],
      "metadata": {
        "id": "Iqlxaszv4nkR"
      },
      "execution_count": 40,
      "outputs": []
    },
    {
      "cell_type": "markdown",
      "source": [
        "## Step 3. 어텐션 메커니즘 사용하여 모델 설계 (추상적 요약)\n"
      ],
      "metadata": {
        "id": "D6RzDvIm6AZL"
      }
    },
    {
      "cell_type": "markdown",
      "source": [
        "- LSTM층 설계"
      ],
      "metadata": {
        "id": "C7tDkpsU6iaQ"
      }
    },
    {
      "cell_type": "code",
      "source": [
        "from tensorflow.keras.layers import Input, LSTM, Embedding, Dense, Concatenate, TimeDistributed\n",
        "from tensorflow.keras.models import Model\n",
        "from tensorflow.keras.callbacks import EarlyStopping, ModelCheckpoint\n",
        "\n",
        "#인코더 설계 시작\n",
        "embedding_dim = 256\n",
        "hidden_size = 128\n",
        "\n",
        "#인코더\n",
        "encoder_inputs = Input(shape=(max_text_len,))\n",
        "\n",
        "# 인코더의 임베딩 층\n",
        "enc_emb = Embedding(src_vocab, embedding_dim)(encoder_inputs)\n",
        "\n",
        "# 인코더의 LSTM 1\n",
        "# encoder_lstm1 = LSTM(hidden_size, return_sequences=True, return_state=True ,dropout = 0.5, recurrent_dropout = 0.5)\n",
        "encoder_lstm1 = LSTM(hidden_size, return_sequences=True, return_state=True ,dropout = 0.5)\n",
        "encoder_output1, state_h1, state_c1 = encoder_lstm1(enc_emb)\n",
        "\n",
        "# 인코더의 LSTM 2\n",
        "# encoder_lstm2 = LSTM(hidden_size, return_sequences=True, return_state=True, dropout=0.5, recurrent_dropout=0.5)\n",
        "encoder_lstm2 = LSTM(hidden_size, return_sequences=True, return_state=True, dropout=0.5)\n",
        "encoder_output2, state_h2, state_c2 = encoder_lstm2(encoder_output1)\n",
        "\n",
        "# 인코더의 LSTM 3\n",
        "# encoder_lstm3 = LSTM(hidden_size, return_state=True, return_sequences=True, dropout=0.5, recurrent_dropout=0.5)\n",
        "encoder_lstm3 = LSTM(hidden_size, return_state=True, return_sequences=True, dropout=0.5)\n",
        "encoder_outputs, state_h, state_c= encoder_lstm3(encoder_output2)"
      ],
      "metadata": {
        "id": "lb62f-mu6jnY"
      },
      "execution_count": 41,
      "outputs": []
    },
    {
      "cell_type": "code",
      "source": [
        "# 디코더 설계\n",
        "decoder_inputs = Input(shape=(None,))\n",
        "\n",
        "# 디코더의 임베딩 층\n",
        "dec_emb_layer = Embedding(tar_vocab, embedding_dim)\n",
        "dec_emb = dec_emb_layer(decoder_inputs)\n",
        "\n",
        "# 디코더의 LSTM\n",
        "# decoder_lstm = LSTM(hidden_size, return_sequences=True, return_state=True, dropout=0.4, recurrent_dropout=0.2)\n",
        "decoder_lstm = LSTM(hidden_size, return_sequences=True, return_state=True, dropout=0.5)\n",
        "decoder_outputs, _, _ = decoder_lstm(dec_emb, initial_state=[state_h, state_c])\n",
        "\n",
        "# 디코더의 출력층\n",
        "decoder_softmax_layer = Dense(tar_vocab, activation='softmax')\n",
        "decoder_softmax_outputs = decoder_softmax_layer(decoder_outputs) "
      ],
      "metadata": {
        "id": "Gfob4tG27n2o"
      },
      "execution_count": 42,
      "outputs": []
    },
    {
      "cell_type": "code",
      "source": [
        "# 모델 정의\n",
        "model = Model([encoder_inputs, decoder_inputs], decoder_softmax_outputs)\n",
        "model.summary()"
      ],
      "metadata": {
        "colab": {
          "base_uri": "https://localhost:8080/"
        },
        "id": "33gQaVG48ANN",
        "outputId": "791dad83-9b36-4645-ddf8-c94536d7d2ae"
      },
      "execution_count": 43,
      "outputs": [
        {
          "output_type": "stream",
          "name": "stdout",
          "text": [
            "Model: \"model\"\n",
            "__________________________________________________________________________________________________\n",
            " Layer (type)                   Output Shape         Param #     Connected to                     \n",
            "==================================================================================================\n",
            " input_1 (InputLayer)           [(None, 60)]         0           []                               \n",
            "                                                                                                  \n",
            " embedding (Embedding)          (None, 60, 256)      7896832     ['input_1[0][0]']                \n",
            "                                                                                                  \n",
            " lstm (LSTM)                    [(None, 60, 128),    197120      ['embedding[0][0]']              \n",
            "                                 (None, 128),                                                     \n",
            "                                 (None, 128)]                                                     \n",
            "                                                                                                  \n",
            " input_2 (InputLayer)           [(None, None)]       0           []                               \n",
            "                                                                                                  \n",
            " lstm_1 (LSTM)                  [(None, 60, 128),    131584      ['lstm[0][0]']                   \n",
            "                                 (None, 128),                                                     \n",
            "                                 (None, 128)]                                                     \n",
            "                                                                                                  \n",
            " embedding_1 (Embedding)        (None, None, 256)    3501056     ['input_2[0][0]']                \n",
            "                                                                                                  \n",
            " lstm_2 (LSTM)                  [(None, 60, 128),    131584      ['lstm_1[0][0]']                 \n",
            "                                 (None, 128),                                                     \n",
            "                                 (None, 128)]                                                     \n",
            "                                                                                                  \n",
            " lstm_3 (LSTM)                  [(None, None, 128),  197120      ['embedding_1[0][0]',            \n",
            "                                 (None, 128),                     'lstm_2[0][1]',                 \n",
            "                                 (None, 128)]                     'lstm_2[0][2]']                 \n",
            "                                                                                                  \n",
            " dense (Dense)                  (None, None, 13676)  1764204     ['lstm_3[0][0]']                 \n",
            "                                                                                                  \n",
            "==================================================================================================\n",
            "Total params: 13,819,500\n",
            "Trainable params: 13,819,500\n",
            "Non-trainable params: 0\n",
            "__________________________________________________________________________________________________\n"
          ]
        }
      ]
    },
    {
      "cell_type": "markdown",
      "source": [
        "- 어텐션 레이어 추가"
      ],
      "metadata": {
        "id": "l71aJEEx8FkE"
      }
    },
    {
      "cell_type": "code",
      "source": [
        "from tensorflow.keras.layers import AdditiveAttention\n",
        "\n",
        "# 어텐션 층(어텐션 함수)\n",
        "attn_layer = AdditiveAttention(name='attention_layer')\n",
        "\n",
        "# 인코더와 디코더의 모든 time step의 hidden state를 어텐션 층에 전달하고 결과를 리턴\n",
        "attn_out = attn_layer([decoder_outputs, encoder_outputs])\n",
        "\n",
        "\n",
        "# 어텐션의 결과와 디코더의 hidden state들을 연결\n",
        "decoder_concat_input = Concatenate(axis=-1, name='concat_layer')([decoder_outputs, attn_out])\n",
        "\n",
        "# 디코더의 출력층\n",
        "decoder_softmax_layer = Dense(tar_vocab, activation='softmax')\n",
        "decoder_softmax_outputs = decoder_softmax_layer(decoder_concat_input)\n",
        "\n",
        "# 모델 정의\n",
        "model = Model([encoder_inputs, decoder_inputs], decoder_softmax_outputs)\n",
        "model.summary()"
      ],
      "metadata": {
        "colab": {
          "base_uri": "https://localhost:8080/"
        },
        "id": "YHu1t1AQ8Gei",
        "outputId": "25687a77-4448-40bb-b75b-f8d3ceaf80c5"
      },
      "execution_count": 44,
      "outputs": [
        {
          "output_type": "stream",
          "name": "stdout",
          "text": [
            "Model: \"model_1\"\n",
            "__________________________________________________________________________________________________\n",
            " Layer (type)                   Output Shape         Param #     Connected to                     \n",
            "==================================================================================================\n",
            " input_1 (InputLayer)           [(None, 60)]         0           []                               \n",
            "                                                                                                  \n",
            " embedding (Embedding)          (None, 60, 256)      7896832     ['input_1[0][0]']                \n",
            "                                                                                                  \n",
            " lstm (LSTM)                    [(None, 60, 128),    197120      ['embedding[0][0]']              \n",
            "                                 (None, 128),                                                     \n",
            "                                 (None, 128)]                                                     \n",
            "                                                                                                  \n",
            " input_2 (InputLayer)           [(None, None)]       0           []                               \n",
            "                                                                                                  \n",
            " lstm_1 (LSTM)                  [(None, 60, 128),    131584      ['lstm[0][0]']                   \n",
            "                                 (None, 128),                                                     \n",
            "                                 (None, 128)]                                                     \n",
            "                                                                                                  \n",
            " embedding_1 (Embedding)        (None, None, 256)    3501056     ['input_2[0][0]']                \n",
            "                                                                                                  \n",
            " lstm_2 (LSTM)                  [(None, 60, 128),    131584      ['lstm_1[0][0]']                 \n",
            "                                 (None, 128),                                                     \n",
            "                                 (None, 128)]                                                     \n",
            "                                                                                                  \n",
            " lstm_3 (LSTM)                  [(None, None, 128),  197120      ['embedding_1[0][0]',            \n",
            "                                 (None, 128),                     'lstm_2[0][1]',                 \n",
            "                                 (None, 128)]                     'lstm_2[0][2]']                 \n",
            "                                                                                                  \n",
            " attention_layer (AdditiveAtten  (None, None, 128)   128         ['lstm_3[0][0]',                 \n",
            " tion)                                                            'lstm_2[0][0]']                 \n",
            "                                                                                                  \n",
            " concat_layer (Concatenate)     (None, None, 256)    0           ['lstm_3[0][0]',                 \n",
            "                                                                  'attention_layer[0][0]']        \n",
            "                                                                                                  \n",
            " dense_1 (Dense)                (None, None, 13676)  3514732     ['concat_layer[0][0]']           \n",
            "                                                                                                  \n",
            "==================================================================================================\n",
            "Total params: 15,570,156\n",
            "Trainable params: 15,570,156\n",
            "Non-trainable params: 0\n",
            "__________________________________________________________________________________________________\n"
          ]
        }
      ]
    },
    {
      "cell_type": "markdown",
      "source": [
        "- 모델 훈련"
      ],
      "metadata": {
        "id": "qVAKIItg8Zu5"
      }
    },
    {
      "cell_type": "code",
      "source": [
        "model.compile(optimizer='rmsprop', loss='sparse_categorical_crossentropy')\n",
        "es = EarlyStopping(monitor='val_loss', patience=2, verbose=1)\n",
        "history = model.fit(x=[encoder_input_train, decoder_input_train], y=decoder_target_train, \\\n",
        "          validation_data=([encoder_input_test, decoder_input_test], decoder_target_test), \\\n",
        "          batch_size=256, callbacks=[es], epochs=50)"
      ],
      "metadata": {
        "colab": {
          "base_uri": "https://localhost:8080/"
        },
        "id": "1Ib6scTx8aVB",
        "outputId": "db5c0e7f-d674-46be-86e2-f85fba67a1ab"
      },
      "execution_count": 45,
      "outputs": [
        {
          "output_type": "stream",
          "name": "stdout",
          "text": [
            "Epoch 1/50\n",
            "308/308 [==============================] - 39s 89ms/step - loss: 4.6524 - val_loss: 4.2679\n",
            "Epoch 2/50\n",
            "308/308 [==============================] - 27s 87ms/step - loss: 4.1732 - val_loss: 3.9734\n",
            "Epoch 3/50\n",
            "308/308 [==============================] - 28s 90ms/step - loss: 3.8895 - val_loss: 3.7576\n",
            "Epoch 4/50\n",
            "308/308 [==============================] - 28s 90ms/step - loss: 3.6974 - val_loss: 3.6263\n",
            "Epoch 5/50\n",
            "308/308 [==============================] - 28s 90ms/step - loss: 3.5630 - val_loss: 3.5484\n",
            "Epoch 6/50\n",
            "308/308 [==============================] - 28s 90ms/step - loss: 3.4522 - val_loss: 3.4597\n",
            "Epoch 7/50\n",
            "308/308 [==============================] - 28s 90ms/step - loss: 3.3589 - val_loss: 3.4016\n",
            "Epoch 8/50\n",
            "308/308 [==============================] - 28s 90ms/step - loss: 3.2766 - val_loss: 3.3396\n",
            "Epoch 9/50\n",
            "308/308 [==============================] - 28s 90ms/step - loss: 3.2054 - val_loss: 3.2953\n",
            "Epoch 10/50\n",
            "308/308 [==============================] - 28s 90ms/step - loss: 3.1420 - val_loss: 3.2652\n",
            "Epoch 11/50\n",
            "308/308 [==============================] - 28s 90ms/step - loss: 3.0822 - val_loss: 3.2293\n",
            "Epoch 12/50\n",
            "308/308 [==============================] - 28s 90ms/step - loss: 3.0304 - val_loss: 3.2065\n",
            "Epoch 13/50\n",
            "308/308 [==============================] - 28s 90ms/step - loss: 2.9818 - val_loss: 3.1715\n",
            "Epoch 14/50\n",
            "308/308 [==============================] - 28s 90ms/step - loss: 2.9367 - val_loss: 3.1535\n",
            "Epoch 15/50\n",
            "308/308 [==============================] - 28s 90ms/step - loss: 2.8962 - val_loss: 3.1361\n",
            "Epoch 16/50\n",
            "308/308 [==============================] - 28s 90ms/step - loss: 2.8582 - val_loss: 3.1130\n",
            "Epoch 17/50\n",
            "308/308 [==============================] - 28s 90ms/step - loss: 2.8199 - val_loss: 3.1016\n",
            "Epoch 18/50\n",
            "308/308 [==============================] - 28s 90ms/step - loss: 2.7874 - val_loss: 3.0851\n",
            "Epoch 19/50\n",
            "308/308 [==============================] - 28s 90ms/step - loss: 2.7584 - val_loss: 3.0726\n",
            "Epoch 20/50\n",
            "308/308 [==============================] - 28s 90ms/step - loss: 2.7293 - val_loss: 3.0626\n",
            "Epoch 21/50\n",
            "308/308 [==============================] - 28s 90ms/step - loss: 2.7010 - val_loss: 3.0522\n",
            "Epoch 22/50\n",
            "308/308 [==============================] - 28s 90ms/step - loss: 2.6738 - val_loss: 3.0426\n",
            "Epoch 23/50\n",
            "308/308 [==============================] - 28s 90ms/step - loss: 2.6488 - val_loss: 3.0365\n",
            "Epoch 24/50\n",
            "308/308 [==============================] - 28s 90ms/step - loss: 2.6246 - val_loss: 3.0268\n",
            "Epoch 25/50\n",
            "308/308 [==============================] - 28s 90ms/step - loss: 2.5993 - val_loss: 3.0191\n",
            "Epoch 26/50\n",
            "308/308 [==============================] - 28s 90ms/step - loss: 2.5771 - val_loss: 3.0142\n",
            "Epoch 27/50\n",
            "308/308 [==============================] - 28s 90ms/step - loss: 2.5549 - val_loss: 3.0057\n",
            "Epoch 28/50\n",
            "308/308 [==============================] - 28s 90ms/step - loss: 2.5332 - val_loss: 3.0028\n",
            "Epoch 29/50\n",
            "308/308 [==============================] - 28s 90ms/step - loss: 2.5154 - val_loss: 2.9995\n",
            "Epoch 30/50\n",
            "308/308 [==============================] - 28s 90ms/step - loss: 2.4979 - val_loss: 2.9929\n",
            "Epoch 31/50\n",
            "308/308 [==============================] - 28s 90ms/step - loss: 2.4798 - val_loss: 2.9886\n",
            "Epoch 32/50\n",
            "308/308 [==============================] - 28s 90ms/step - loss: 2.4605 - val_loss: 2.9857\n",
            "Epoch 33/50\n",
            "308/308 [==============================] - 28s 90ms/step - loss: 2.4438 - val_loss: 2.9863\n",
            "Epoch 34/50\n",
            "308/308 [==============================] - 28s 90ms/step - loss: 2.4277 - val_loss: 2.9815\n",
            "Epoch 35/50\n",
            "308/308 [==============================] - 28s 90ms/step - loss: 2.4120 - val_loss: 2.9811\n",
            "Epoch 36/50\n",
            "308/308 [==============================] - 28s 90ms/step - loss: 2.3964 - val_loss: 2.9776\n",
            "Epoch 37/50\n",
            "308/308 [==============================] - 28s 90ms/step - loss: 2.3804 - val_loss: 2.9739\n",
            "Epoch 38/50\n",
            "308/308 [==============================] - 28s 90ms/step - loss: 2.3637 - val_loss: 2.9715\n",
            "Epoch 39/50\n",
            "308/308 [==============================] - 28s 90ms/step - loss: 2.3454 - val_loss: 2.9719\n",
            "Epoch 40/50\n",
            "308/308 [==============================] - 28s 90ms/step - loss: 2.3308 - val_loss: 2.9682\n",
            "Epoch 41/50\n",
            "308/308 [==============================] - 28s 90ms/step - loss: 2.3182 - val_loss: 2.9630\n",
            "Epoch 42/50\n",
            "308/308 [==============================] - 28s 90ms/step - loss: 2.3044 - val_loss: 2.9603\n",
            "Epoch 43/50\n",
            "308/308 [==============================] - 28s 90ms/step - loss: 2.2907 - val_loss: 2.9667\n",
            "Epoch 44/50\n",
            "308/308 [==============================] - 28s 90ms/step - loss: 2.2781 - val_loss: 2.9656\n",
            "Epoch 44: early stopping\n"
          ]
        }
      ]
    },
    {
      "cell_type": "code",
      "source": [
        "plt.plot(history.history['loss'], label='train')\n",
        "plt.plot(history.history['val_loss'], label='test')\n",
        "plt.legend()\n",
        "plt.show()"
      ],
      "metadata": {
        "colab": {
          "base_uri": "https://localhost:8080/",
          "height": 265
        },
        "id": "aSYXFK218anj",
        "outputId": "c3a62499-3724-4ef9-c70e-fa750828a34e"
      },
      "execution_count": 45,
      "outputs": [
        {
          "output_type": "display_data",
          "data": {
            "text/plain": [
              "<Figure size 432x288 with 1 Axes>"
            ],
            "image/png": "[encoded data removed]"
          },
          "metadata": {
            "needs_background": "light"
          }
        }
      ]
    },
    {
      "cell_type": "markdown",
      "source": [
        "- 인퍼런스 모델 구현"
      ],
      "metadata": {
        "id": "qq7Rt4BRBB9H"
      }
    },
    {
      "cell_type": "code",
      "source": [
        "src_index_to_word = src_tokenizer.index_word # 원문 단어 집합에서 정수 -> 단어를 얻음\n",
        "tar_word_to_index = tar_tokenizer.word_index # 요약 단어 집합에서 단어 -> 정수를 얻음\n",
        "tar_index_to_word = tar_tokenizer.index_word # 요약 단어 집합에서 정수 -> 단어를 얻음\n"
      ],
      "metadata": {
        "id": "0_3HLmDjBC8R"
      },
      "execution_count": 46,
      "outputs": []
    },
    {
      "cell_type": "code",
      "source": [
        "# 인코더 설계\n",
        "encoder_model = Model(inputs=encoder_inputs, outputs=[encoder_outputs, state_h, state_c])\n",
        "\n",
        "# 이전 시점의 상태들을 저장하는 텐서\n",
        "decoder_state_input_h = Input(shape=(hidden_size,))\n",
        "decoder_state_input_c = Input(shape=(hidden_size,))\n",
        "\n",
        "dec_emb2 = dec_emb_layer(decoder_inputs)\n",
        "\n",
        "# 문장의 다음 단어를 예측하기 위해서 초기 상태(initial_state)를 이전 시점의 상태로 사용. 이는 뒤의 함수 decode_sequence()에 구현\n",
        "# 훈련 과정에서와 달리 LSTM의 리턴하는 은닉 상태와 셀 상태인 state_h와 state_c를 버리지 않음.\n",
        "decoder_outputs2, state_h2, state_c2 = decoder_lstm(dec_emb2, initial_state=[decoder_state_input_h, decoder_state_input_c])\n"
      ],
      "metadata": {
        "id": "e_lNU6EHBKiT"
      },
      "execution_count": 47,
      "outputs": []
    },
    {
      "cell_type": "code",
      "source": [
        "# 어텐션 함수\n",
        "decoder_hidden_state_input = Input(shape=(max_text_len, hidden_size))\n",
        "attn_out_inf = attn_layer([decoder_outputs2, decoder_hidden_state_input])\n",
        "decoder_inf_concat = Concatenate(axis=-1, name='concat')([decoder_outputs2, attn_out_inf])\n",
        "\n",
        "# 디코더의 출력층\n",
        "decoder_outputs2 = decoder_softmax_layer(decoder_inf_concat) \n",
        "\n",
        "# 최종 디코더 모델\n",
        "decoder_model = Model(\n",
        "    [decoder_inputs] + [decoder_hidden_state_input,decoder_state_input_h, decoder_state_input_c],\n",
        "    [decoder_outputs2] + [state_h2, state_c2])\n"
      ],
      "metadata": {
        "id": "tprcWwlnBRXt"
      },
      "execution_count": 48,
      "outputs": []
    },
    {
      "cell_type": "code",
      "source": [
        "def decode_sequence(input_seq):\n",
        "    # 입력으로부터 인코더의 상태를 얻음\n",
        "    e_out, e_h, e_c = encoder_model.predict(input_seq)\n",
        "\n",
        "     # <SOS>에 해당하는 토큰 생성\n",
        "    target_seq = np.zeros((1,1))\n",
        "    target_seq[0, 0] = tar_word_to_index['starttoken']\n",
        "\n",
        "    stop_condition = False\n",
        "    decoded_sentence = ''\n",
        "    while not stop_condition: # stop_condition이 True가 될 때까지 루프 반복\n",
        "\n",
        "        output_tokens, h, c = decoder_model.predict([target_seq] + [e_out, e_h, e_c])\n",
        "        sampled_token_index = np.argmax(output_tokens[0, -1, :])\n",
        "        sampled_token = tar_index_to_word[sampled_token_index]\n",
        "\n",
        "        if (sampled_token!='endtoken'):\n",
        "            decoded_sentence += ' '+sampled_token\n",
        "\n",
        "        #  <eos>에 도달하거나 최대 길이를 넘으면 중단.\n",
        "        if (sampled_token == 'endtoken'  or len(decoded_sentence.split()) >= (max_headline_len-1)):\n",
        "            stop_condition = True\n",
        "\n",
        "        # 길이가 1인 타겟 시퀀스를 업데이트\n",
        "        target_seq = np.zeros((1,1))\n",
        "        target_seq[0, 0] = sampled_token_index\n",
        "\n",
        "        # 상태를 업데이트 합니다.\n",
        "        e_h, e_c = h, c\n",
        "\n",
        "    return decoded_sentence\n",
        "print('=3')"
      ],
      "metadata": {
        "colab": {
          "base_uri": "https://localhost:8080/"
        },
        "id": "ywcdQzaUBwAB",
        "outputId": "cdf81820-a2d4-439b-a003-d29fcf108bda"
      },
      "execution_count": 49,
      "outputs": [
        {
          "output_type": "stream",
          "name": "stdout",
          "text": [
            "=3\n"
          ]
        }
      ]
    },
    {
      "cell_type": "markdown",
      "source": [
        "- 모델 테스트하기"
      ],
      "metadata": {
        "id": "mFKz0Q-vB3Rp"
      }
    },
    {
      "cell_type": "code",
      "source": [
        "# 원문의 정수 시퀀스를 텍스트 시퀀스로 변환\n",
        "def seq2text(input_seq):\n",
        "    temp=''\n",
        "    for i in input_seq:\n",
        "        if (i!=0):\n",
        "            temp = temp + src_index_to_word[i]+' '\n",
        "    return temp\n",
        "\n",
        "# 요약문의 정수 시퀀스를 텍스트 시퀀스로 변환\n",
        "def seq2summary(input_seq):\n",
        "    temp=''\n",
        "    for i in input_seq:\n",
        "        if ((i!=0 and i!=tar_word_to_index['starttoken']) and i!=tar_word_to_index['endtoken']):\n",
        "            temp = temp + tar_index_to_word[i] + ' '\n",
        "    return temp\n",
        "\n",
        "print('=3')"
      ],
      "metadata": {
        "colab": {
          "base_uri": "https://localhost:8080/"
        },
        "id": "ttdhOnWrB4fv",
        "outputId": "a4447f20-46a6-4c8d-b2f3-fde7f3267ef0"
      },
      "execution_count": 50,
      "outputs": [
        {
          "output_type": "stream",
          "name": "stdout",
          "text": [
            "=3\n"
          ]
        }
      ]
    },
    {
      "cell_type": "markdown",
      "source": [
        "## Step 4. 실제 결과와 요약문 비교하기(추상적 요약)"
      ],
      "metadata": {
        "id": "mvhXBkTXP54H"
      }
    },
    {
      "cell_type": "code",
      "source": [
        "for i in range(50, 60):\n",
        "    print(\"원문 :\", seq2text(encoder_input_test[i]))\n",
        "    print(\"실제 요약 :\", seq2summary(decoder_input_test[i]))\n",
        "    print(\"예측 요약 :\", decode_sequence(encoder_input_test[i].reshape(1, max_text_len)))\n",
        "    print(\"\\n\")"
      ],
      "metadata": {
        "colab": {
          "base_uri": "https://localhost:8080/"
        },
        "id": "KOt13tpDB90R",
        "outputId": "b576c786-527f-4906-be31-daa68847485e"
      },
      "execution_count": 51,
      "outputs": [
        {
          "output_type": "stream",
          "name": "stdout",
          "text": [
            "원문 : government vaults unclaimed deposits amounting 19 567 crore june 2018 33 higher previous year unclaimed deposits stood 14 crore deposits tansferred rbi education awareness fund takes bank accounts deposits operated claimed 10 years \n",
            "실제 요약 : 19 crore left unclaimed in bank as of june 2018 \n",
            "예측 요약 :  deposits of money in deposits of crore in 2016 17\n",
            "\n",
            "\n",
            "원문 : bahrain court tuesday revoked ctizenship 115 people awarded life sntences 53 others mass terorism trial prosecutors said accused detonated bombs rceived weapons training atempted kill police officers bahrain claimed iran helped accused set militant group called zulfiqar \n",
            "실제 요약 : bahrain revokes ctizenship of 115 people on teror charges \n",
            "예측 요약 :  isis claims responsbility for killing us in iraq\n",
            "\n",
            "\n",
            "원문 : comedian turned actor andy dick fired two movies accused sexual misconduct harassment sets andy accused groping people non consensual kissing licking said anybody might kissed somebody cheek say good bye thing said funny \n",
            "실제 요약 : comedian andy fired from films post sexual misconduct claims \n",
            "예측 요약 :  was sexually abused by comedian kapil sharma\n",
            "\n",
            "\n",
            "원문 : eight time grand slam champion ustralia ken writes good luck letter adressed wiss tennis star roger fderer ustralian open fderer tournament five times said cherishes letters write simple half page good luck hope family well extent said \n",
            "실제 요약 : tennis legend writes letter to fderer at every aus open \n",
            "예측 요약 :  fderer is not fderer roger fderer\n",
            "\n",
            "\n",
            "원문 : denying rumours making biopic late actress sridevi filmmaker ram gopal verma said blieve foolish atempt also cannot actress remotely worthy enough play late actress worked ram gopal varma 1991 telugu film \n",
            "실제 요약 : no actress worthy enough to play sridevi in biopic rgv \n",
            "예측 요약 :  am not playing an actor on sridevi demise\n",
            "\n",
            "\n",
            "원문 : oil companies monday reduced price petrol 16 litre price diesel 10 litre non branded petrol diesel delhi cost 65 32 litre 54 90 litre rspectively current level iternational product prices petrol diesel exchange rate warrant dcrease selling price petrol diesel state owned said \n",
            "실제 요약 : petrol price cut by 16 litre diesel by 10 litre \n",
            "예측 요약 :  petrol price cut by diesel by diesel by diesel by end\n",
            "\n",
            "\n",
            "원문 : playing 74th t20i mithali raj became first ever indian woman cricketer reach 00 runs t20i cricket india dfeated sri lanka seven wickets women asia cup thursday india currently top points table six points four matches india next face pakistan june \n",
            "실제 요약 : mithali 1st indian lady to hit 200 t20i runs as ind beat sl \n",
            "예측 요약 :  india beat sl in t20i cricket 1st t20i to win 1st t20i\n",
            "\n",
            "\n",
            "원문 : stating split smajwadi party complete xpelled leader amar singh wednesday said never return party xpelled father son would prefer sitting home going back singh aded \n",
            "실제 요약 : split in sp complete will never return amar singh \n",
            "예측 요약 :  will not be sacked if he is not political party leader\n",
            "\n",
            "\n",
            "원문 : responding shane warne crticism ustralia pacer mitchell starc said keep listening warne may well retire keep going stuff done weeks starc aded warne questioned starc restrained body language crticised performance first india test despite pacer taking five wickets \n",
            "실제 요약 : if keep listening to warne may as well retire mitchell starc \n",
            "예측 요약 :  warne responds to troll who called him for her\n",
            "\n",
            "\n",
            "원문 : bllionaire david rockfeller died march age 101 rvealed donated betle collection lakh specimens started age rockfeller also donated several works art including eservoir de pablo picasso left behind island daughter \n",
            "실제 요약 : betles picasso art given in bllionaire will \n",
            "예측 요약 :  michael jackson dies after being paid for lakh at her age\n",
            "\n",
            "\n"
          ]
        }
      ]
    },
    {
      "cell_type": "markdown",
      "source": [
        "## Step 5. Summa를 이용해 추출적 요약 해보기"
      ],
      "metadata": {
        "id": "thx_wLwzP--b"
      }
    },
    {
      "cell_type": "code",
      "source": [
        "import requests\n",
        "from summa.summarizer import summarize"
      ],
      "metadata": {
        "id": "2Ccvpdk6QHdn"
      },
      "execution_count": 52,
      "outputs": []
    },
    {
      "cell_type": "code",
      "source": [
        "data = pd.read_csv('news_summary_more.csv', encoding='iso-8859-1')"
      ],
      "metadata": {
        "id": "vahTdbKRQVYB"
      },
      "execution_count": 53,
      "outputs": []
    },
    {
      "cell_type": "code",
      "source": [
        "print(data[:1500])"
      ],
      "metadata": {
        "colab": {
          "base_uri": "https://localhost:8080/"
        },
        "id": "fokDkgXYQYPY",
        "outputId": "398abb2d-5c31-43e2-9805-14f9c8c2f775"
      },
      "execution_count": 54,
      "outputs": [
        {
          "output_type": "stream",
          "name": "stdout",
          "text": [
            "                                              headlines  \\\n",
            "0     upGrad learner switches to career in ML & Al w...   \n",
            "1     Delhi techie wins free food from Swiggy for on...   \n",
            "2     New Zealand end Rohit Sharma-led India's 12-ma...   \n",
            "3     Aegon life iTerm insurance plan helps customer...   \n",
            "4     Have known Hirani for yrs, what if MeToo claim...   \n",
            "...                                                 ...   \n",
            "1495  Have seen Sachin Tendulkar get angry but not M...   \n",
            "1496  Player ensures wife stays dry in rain during A...   \n",
            "1497  Federer denied entry into locker room by secur...   \n",
            "1498  42/42 seats in West Bengal: CM Mamata's cutout...   \n",
            "1499  Court refuses chargesheet by Delhi Police agai...   \n",
            "\n",
            "                                                   text  \n",
            "0     Saurav Kant, an alumnus of upGrad and IIIT-B's...  \n",
            "1     Kunal Shah's credit card bill payment platform...  \n",
            "2     New Zealand defeated India by 8 wickets in the...  \n",
            "3     With Aegon Life iTerm Insurance plan, customer...  \n",
            "4     Speaking about the sexual harassment allegatio...  \n",
            "...                                                 ...  \n",
            "1495  India head coach Ravi Shastri has said that he...  \n",
            "1496  Italian tennis player Andreas Seppi ensured hi...  \n",
            "1497  World number three Roger Federer was stopped b...  \n",
            "1498  A cutout of TMC chief and West Bengal CM Mamat...  \n",
            "1499  A Delhi court on Saturday pulled up Delhi Poli...  \n",
            "\n",
            "[1500 rows x 2 columns]\n"
          ]
        }
      ]
    },
    {
      "cell_type": "code",
      "source": [
        "for i in range(5):\n",
        "    print(\"* 원문 :\", data['text'][i])\n",
        "    print(\"* 실제 요약 :\", data['headlines'][i])\n",
        "    print(\"* 추출적 요약 :\", summarize(data['text'][i], ratio=0.4))\n",
        "    print(\"\\n\")\n"
      ],
      "metadata": {
        "colab": {
          "base_uri": "https://localhost:8080/"
        },
        "id": "l47ClI9jQcaU",
        "outputId": "79a8fb85-55c2-4fde-b679-dfbe875a44b7"
      },
      "execution_count": 55,
      "outputs": [
        {
          "output_type": "stream",
          "name": "stdout",
          "text": [
            "* 원문 : Saurav Kant, an alumnus of upGrad and IIIT-B's PG Program in Machine learning and Artificial Intelligence, was a Sr Systems Engineer at Infosys with almost 5 years of work experience. The program and upGrad's 360-degree career support helped him transition to a Data Scientist at Tech Mahindra with 90% salary hike. upGrad's Online Power Learning has powered 3 lakh+ careers.\n",
            "* 실제 요약 : upGrad learner switches to career in ML & Al with 90% salary hike\n",
            "* 추출적 요약 : upGrad's Online Power Learning has powered 3 lakh+ careers.\n",
            "\n",
            "\n",
            "* 원문 : Kunal Shah's credit card bill payment platform, CRED, gave users a chance to win free food from Swiggy for one year. Pranav Kaushik, a Delhi techie, bagged this reward after spending 2000 CRED coins. Users get one CRED coin per rupee of bill paid, which can be used to avail rewards from brands like Ixigo, BookMyShow, UberEats, Cult.Fit and more.\n",
            "* 실제 요약 : Delhi techie wins free food from Swiggy for one year on CRED\n",
            "* 추출적 요약 : Users get one CRED coin per rupee of bill paid, which can be used to avail rewards from brands like Ixigo, BookMyShow, UberEats, Cult.Fit and more.\n",
            "\n",
            "\n",
            "* 원문 : New Zealand defeated India by 8 wickets in the fourth ODI at Hamilton on Thursday to win their first match of the five-match ODI series. India lost an international match under Rohit Sharma's captaincy after 12 consecutive victories dating back to March 2018. The match witnessed India getting all out for 92, their seventh lowest total in ODI cricket history.\n",
            "* 실제 요약 : New Zealand end Rohit Sharma-led India's 12-match winning streak\n",
            "* 추출적 요약 : The match witnessed India getting all out for 92, their seventh lowest total in ODI cricket history.\n",
            "\n",
            "\n",
            "* 원문 : With Aegon Life iTerm Insurance plan, customers can enjoy tax benefits on your premiums paid and save up to Ã¢ÂÂ¹46,800^ on taxes. The plan provides life cover up to the age of 100 years. Also, customers have options to insure against Critical Illnesses, Disability and Accidental Death Benefit Rider with a life cover up to the age of 80 years.\n",
            "* 실제 요약 : Aegon life iTerm insurance plan helps customers save tax\n",
            "* 추출적 요약 : Also, customers have options to insure against Critical Illnesses, Disability and Accidental Death Benefit Rider with a life cover up to the age of 80 years.\n",
            "\n",
            "\n",
            "* 원문 : Speaking about the sexual harassment allegations against Rajkumar Hirani, Sonam Kapoor said, \"I've known Hirani for many years...What if it's not true, the [#MeToo] movement will get derailed.\" \"In the #MeToo movement, I always believe a woman. But in this case, we need to reserve our judgment,\" she added. Hirani has been accused by an assistant who worked in 'Sanju'.\n",
            "* 실제 요약 : Have known Hirani for yrs, what if MeToo claims are not true: Sonam\n",
            "* 추출적 요약 : Speaking about the sexual harassment allegations against Rajkumar Hirani, Sonam Kapoor said, \"I've known Hirani for many years...What if it's not true, the [#MeToo] movement will get derailed.\" \"In the #MeToo movement, I always believe a woman.\n",
            "\n",
            "\n"
          ]
        }
      ]
    },
    {
      "cell_type": "markdown",
      "source": [
        "## 훈련 기록 및 회고\n",
        "\n",
        "\n",
        "1차\n",
        "----\n",
        "\n",
        "- embedding_dim : 256\n",
        "- hidden_size : 256\n",
        "- dropout 0.5\n",
        "- recurrent_dropout : x\n",
        "- 결과 : Epoch 23/50\n",
        "254/254 [==============================] - 17s 66ms/step - loss: 2.8334 - val_loss: 3.9281\n",
        "Epoch 23: early stopping\n",
        "\n",
        "2차\n",
        "---\n",
        "\n",
        "- embedding_dim : 128\n",
        "- hidden_size : 128\n",
        "- dropout : 0.5\n",
        "- recurrent_dropout : 0.5\n",
        "- 결과 : Epoch 44/50\n",
        "254/254 [==============================] - 124s 487ms/step - loss: 3.1554 - val_loss: 3.9407\n",
        "Epoch 44: early stopping\n",
        "\n",
        "3차\n",
        "---\n",
        "\n",
        "- embedding_dim : 128\n",
        "- hidden_size : 128\n",
        "- dropout : 0.5\n",
        "- recurrent_dropout : x\n",
        "- 결과 : Epoch 50/50\n",
        "308/308 [==============================] - 17s 57ms/step - loss: 2.2820 - val_loss: 2.8037\n",
        "\n",
        "4차\n",
        "---\n",
        "\n",
        "- embedding_dim : 256\n",
        "- hidden_size : 128\n",
        "- dropout : 0.5\n",
        "- recurrent_dropout : x\n",
        "- 결과 : Epoch 37/50\n",
        "308/308 [==============================] - 22s 71ms/step - loss: 2.4450 - val_loss: 3.0373\n",
        "Epoch 37: early stopping\n",
        "\n",
        "5차\n",
        "---\n",
        "\n",
        "- embedding_dim : 256\n",
        "- hidden_size : 128\n",
        "- recurrent_dropout : x\n",
        "- 결과 : Epoch 44/50\n",
        "308/308 [==============================] - 28s 90ms/step - loss: 2.2781 - val_loss: 2.9656\n",
        "Epoch 44: early stopping\n",
        " 실제 요약 : upGrad learner switches to career in ML & Al with 90% salary hike\n",
        "* 추출적 요약 : upGrad's Online Power Learning has powered 3 lakh+ careers.\n",
        "\n",
        "결과 비교\n",
        "---\n",
        "|  실제 요약  |추상적 요약(Abstractive)  |\n",
        "|:-:|:-:|\n",
        "|petrol price cut by 16 litre diesel by 10 litre   |petrol price cut by diesel by diesel by diesel by end   |\n",
        "|New Zealand end Rohit Sharma-led India's 12-match winning streak   |The match witnessed India getting all out for 92, their seventh lowest total in ODI cricket history.   |\n",
        "|betles picasso art given in bllionaire will   |michael jackson dies after being paid for lakh at her age   |\n",
        "\n",
        "|  실제 요약  |추출적 요약(Extractive)  |\n",
        "|:-:|:-:|\n",
        "|upGrad learner switches to career in ML & Al with 90% salary hike   |upGrad's Online Power Learning has powered 3 lakh+ careers. |\n",
        "\n",
        "추상적 요약은 실제 요약과는 다르지만 어느정도 원문 내용을 정리하는 새로운 요약을 만들어주려고 하는 것 같은데 모델 성능이 안좋아서 그런지 말도 안되는 번역이 나오기도 함  \n",
        "추출적 요약은 어느정도 비슷해 보이긴 하지만 문장이 너무 길어서 아쉬움\n",
        "\n",
        "회고\n",
        "---\n",
        "데이터를 확인할 때 문장에 'iiit'가 들어있는 걸 보고 한 단어에서 같은 알파벳이 3개이상 연속으로 나오는 단어들을 최대 2개까지 나오게 만들어주는 과정을 추가했음\n",
        "그리고 실제 요약중에 숫자들이 들어가는 요약도 있어서 숫자를 제외하는 부분에서 숫자도 포함하게 만들어 줬음\n",
        "    # 단어 내에 같은 문자들이 3개 이상 연속해서 반복되면 삭제하고 최대 2개까지만 반복되도록 만들어줌( ex. iiit -> iit )\n",
        "    b=[]\n",
        "    for i in sentence.split():\n",
        "      a = list(i)\n",
        "      char_cnt = 0\n",
        "      for j in a:\n",
        "        if a.count(j) >= 3:\n",
        "          a.remove(j)\n",
        "      word_a = ''.join(a)\n",
        "      b.append(word_a)\n",
        "    sentence = ' '.join(b)\n",
        "\n",
        "하지만 이런 과정을 추가해도 눈에 띄는 성과를 얻지 못했음. 다른 전처리 방법을 택했어야 하는건지 모델을 다양하게 써봐야 하는건지를 잘 모르겠음...\n",
        "\n"
      ],
      "metadata": {
        "id": "vwn0fQMA7OkL"
      }
    }
  ]
}