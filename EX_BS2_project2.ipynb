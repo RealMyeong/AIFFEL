{
  "nbformat": 4,
  "nbformat_minor": 0,
  "metadata": {
    "colab": {
      "name": "EX_BS2_project2.ipynb",
      "provenance": [],
      "collapsed_sections": [],
      "mount_file_id": "1LU00l7wfi4Rf-64GvyFY85wZNrWXA-zW",
      "authorship_tag": "ABX9TyOOc5PlLHtihwaBX8QqucEA",
      "include_colab_link": true
    },
    "kernelspec": {
      "name": "python3",
      "display_name": "Python 3"
    },
    "language_info": {
      "name": "python"
    },
    "gpuClass": "standard"
  },
  "cells": [
    {
      "cell_type": "markdown",
      "metadata": {
        "id": "view-in-github",
        "colab_type": "text"
      },
      "source": [
        "<a href=\"https://colab.research.google.com/github/RealMyeong/Aiffel_Exploration/blob/main/EX_BS2_project2.ipynb\" target=\"_parent\"><img src=\"https://colab.research.google.com/assets/colab-badge.svg\" alt=\"Open In Colab\"/></a>"
      ]
    },
    {
      "cell_type": "markdown",
      "source": [
        "# 당뇨병 수치 맞추기"
      ],
      "metadata": {
        "id": "-rKr9mcJhP6G"
      }
    },
    {
      "cell_type": "markdown",
      "source": [
        "## 1. 데이터 가져오기"
      ],
      "metadata": {
        "id": "G5k5HHRUhSHA"
      }
    },
    {
      "cell_type": "code",
      "execution_count": 1,
      "metadata": {
        "id": "V8kO-hEcgykp"
      },
      "outputs": [],
      "source": [
        "from sklearn.datasets import load_diabetes\n",
        "\n",
        "diabetes = load_diabetes()"
      ]
    },
    {
      "cell_type": "code",
      "source": [
        "diabetes.feature_names"
      ],
      "metadata": {
        "colab": {
          "base_uri": "https://localhost:8080/"
        },
        "id": "gLNm1Ea4p-Si",
        "outputId": "298e7b9f-ee6b-4663-a674-a8940a352143"
      },
      "execution_count": 2,
      "outputs": [
        {
          "output_type": "execute_result",
          "data": {
            "text/plain": [
              "['age', 'sex', 'bmi', 'bp', 's1', 's2', 's3', 's4', 's5', 's6']"
            ]
          },
          "metadata": {},
          "execution_count": 2
        }
      ]
    },
    {
      "cell_type": "markdown",
      "source": [
        "## 2. 모델에 입력할 데이터 X 준비하기"
      ],
      "metadata": {
        "id": "fEXAGjh4kASq"
      }
    },
    {
      "cell_type": "code",
      "source": [
        "df_x = diabetes.data\n",
        "\n",
        "print(df_x.shape)"
      ],
      "metadata": {
        "id": "UQ3L3aZymp9W",
        "colab": {
          "base_uri": "https://localhost:8080/"
        },
        "outputId": "a598eee0-c694-4a1b-b528-5bc5b3fb6f5f"
      },
      "execution_count": 3,
      "outputs": [
        {
          "output_type": "stream",
          "name": "stdout",
          "text": [
            "(442, 10)\n"
          ]
        }
      ]
    },
    {
      "cell_type": "markdown",
      "source": [
        "## 3. 모델에 예측할 데이터 y준비하기"
      ],
      "metadata": {
        "id": "YSG7i-oHkESB"
      }
    },
    {
      "cell_type": "code",
      "source": [
        "df_y = diabetes.target\n",
        "\n",
        "print(df_y.shape)"
      ],
      "metadata": {
        "colab": {
          "base_uri": "https://localhost:8080/"
        },
        "id": "GlNmt7NWs9B8",
        "outputId": "281f3a8d-4008-4645-ef9c-d7183cec71bc"
      },
      "execution_count": 4,
      "outputs": [
        {
          "output_type": "stream",
          "name": "stdout",
          "text": [
            "(442,)\n"
          ]
        }
      ]
    },
    {
      "cell_type": "markdown",
      "source": [
        "## 4. train, test데이터로 나누기"
      ],
      "metadata": {
        "id": "sbNfIFsMkIKd"
      }
    },
    {
      "cell_type": "code",
      "source": [
        "from sklearn.model_selection import train_test_split\n",
        "\n",
        "X_train, X_test, y_train, y_test = train_test_split(df_x, df_y, test_size=0.2, random_state=8)\n",
        "\n",
        "print(X_train.shape, X_test.shape)\n",
        "print(y_train.shape, y_test.shape)"
      ],
      "metadata": {
        "colab": {
          "base_uri": "https://localhost:8080/"
        },
        "id": "9-8kz2nJtC_E",
        "outputId": "f129319a-f828-4bef-82a4-c77e4b48c99f"
      },
      "execution_count": 5,
      "outputs": [
        {
          "output_type": "stream",
          "name": "stdout",
          "text": [
            "(353, 10) (89, 10)\n",
            "(353,) (89,)\n"
          ]
        }
      ]
    },
    {
      "cell_type": "markdown",
      "source": [
        "## 5. 모델 준비하기"
      ],
      "metadata": {
        "id": "ahbuglzdkMK-"
      }
    },
    {
      "cell_type": "code",
      "source": [
        "# feature의 갯수에 맞는 w, b 정하기\n",
        "import numpy as np\n",
        "\n",
        "W = np.random.rand(10)\n",
        "b = np.random.rand()\n",
        "\n",
        "print(W)\n",
        "print(b)"
      ],
      "metadata": {
        "colab": {
          "base_uri": "https://localhost:8080/"
        },
        "id": "0HFwxCAZtoJ0",
        "outputId": "7e9ca0c1-3dff-4cbc-a1d6-8411d13ade0b"
      },
      "execution_count": 6,
      "outputs": [
        {
          "output_type": "stream",
          "name": "stdout",
          "text": [
            "[0.48189523 0.7698449  0.09102556 0.63017124 0.18823637 0.32421286\n",
            " 0.36940783 0.96580178 0.30761194 0.50605912]\n",
            "0.9775346113778699\n"
          ]
        }
      ]
    },
    {
      "cell_type": "code",
      "source": [
        "# model 준비하기\n",
        "\n",
        "def model(X, W, b):\n",
        "  prediction = 0\n",
        "  for i in range(len(W)):\n",
        "    prediction = prediction + X[:,i] * W[i]\n",
        "  prediction = prediction + b\n",
        "  return prediction\n",
        "  \n"
      ],
      "metadata": {
        "id": "7iTwsKiTuMwo"
      },
      "execution_count": 7,
      "outputs": []
    },
    {
      "cell_type": "markdown",
      "source": [
        "## 6. 손실함수 loss정의하기"
      ],
      "metadata": {
        "id": "ZpRdJb2RkPqI"
      }
    },
    {
      "cell_type": "code",
      "source": [
        "# 손실함수 MSE로 정의하기\n",
        "# MSE함수 정의\n",
        "def MSE(a, b):\n",
        "  mse = ((a-b)**2).mean()\n",
        "  return mse\n",
        "\n",
        "def RMSE(a, b):\n",
        "  rmse = np.sqrt(((a-b)**2).mean())\n",
        "  return rmse\n",
        "\n",
        "\n",
        "#손실함수 정의\n",
        "def loss(X, W, b, y):\n",
        "  predictions = model(X, W, b)\n",
        "  L = RMSE(predictions, y) #손실\n",
        "  return L"
      ],
      "metadata": {
        "id": "MR0IxVJpu2pm"
      },
      "execution_count": 8,
      "outputs": []
    },
    {
      "cell_type": "markdown",
      "source": [
        "## 7. 기울기를 구하는 gradient 함수 구현하기"
      ],
      "metadata": {
        "id": "yPx_0aWPkVQI"
      }
    },
    {
      "cell_type": "code",
      "source": [
        "def gradient(X, W, b, y):\n",
        "  # 가중치 개수\n",
        "  N = len(W)\n",
        "\n",
        "  #y_pred 준비\n",
        "  y_pred = model(X, W, b)\n",
        "\n",
        "  #dw 계산\n",
        "  dw = 1/N * 2 * X.T.dot(y_pred - y)\n",
        "\n",
        "  #db 계산\n",
        "  db = (2 * (y_pred - y)).mean()\n",
        "\n",
        "  return dw, db\n"
      ],
      "metadata": {
        "id": "4TmWqNvUwB1h"
      },
      "execution_count": 9,
      "outputs": []
    },
    {
      "cell_type": "markdown",
      "source": [
        "## 8. 학습률 설정하기"
      ],
      "metadata": {
        "id": "-tkgqRKTkaZP"
      }
    },
    {
      "cell_type": "code",
      "source": [
        "learning_rate = 0.5\n"
      ],
      "metadata": {
        "id": "BjzTM4wexVoq"
      },
      "execution_count": 10,
      "outputs": []
    },
    {
      "cell_type": "code",
      "source": [
        "'''#R-Squre 함수 정의\n",
        "def rsqr(a, b):\n",
        "  rsqr = sum((a-b)**2)/sum((b-b.mean())**2)\n",
        "  return rsqr\n",
        "\n",
        "\n",
        "#손실함수 정의\n",
        "def loss(X, W, b, y):\n",
        "  predictions = model(X, W, b)\n",
        "  L = rsqr(predictions, y) #손실\n",
        "  return L\n",
        "\n",
        "\n",
        "def gradient_rsqr(X, W, b, y):\n",
        "  N = len(W)\n",
        "  #y_pred 준비\n",
        "  y_pred = model(X, W, b)\n",
        "\n",
        "  #dw 계산\n",
        "  dw = (2 * X.T.dot(y_pred - y) / sum((y-y.mean())**2))\n",
        "\n",
        "  #db 계산\n",
        "  db = sum((2 * (y_pred - y))/sum((y-y.mean())**2))\n",
        "\n",
        "  return dw, db\n",
        "\n",
        "\n",
        "losses = []\n",
        "\n",
        "for i in range(1, 10000):\n",
        "  dw, db = gradient_rsqr(X_train, W, b, y_train)\n",
        "  W -= learning_rate*dw\n",
        "  b -= learning_rate*db\n",
        "  L = loss(X_train, W, b, y_train)\n",
        "  losses.append(L)\n",
        "  if i % 100 == 0 :\n",
        "    print('Iteration %d : Loss %.4f' %(i, L))'''"
      ],
      "metadata": {
        "colab": {
          "base_uri": "https://localhost:8080/",
          "height": 143
        },
        "id": "2Jc-mzSDbGrW",
        "outputId": "44bcadd2-3806-4ef7-a925-23df993f9b3a"
      },
      "execution_count": 11,
      "outputs": [
        {
          "output_type": "execute_result",
          "data": {
            "text/plain": [
              "\"#R-Squre 함수 정의\\ndef rsqr(a, b):\\n  rsqr = sum((a-b)**2)/sum((b-b.mean())**2)\\n  return rsqr\\n\\n\\n#손실함수 정의\\ndef loss(X, W, b, y):\\n  predictions = model(X, W, b)\\n  L = rsqr(predictions, y) #손실\\n  return L\\n\\n\\ndef gradient_rsqr(X, W, b, y):\\n  N = len(W)\\n  #y_pred 준비\\n  y_pred = model(X, W, b)\\n\\n  #dw 계산\\n  dw = (2 * X.T.dot(y_pred - y) / sum((y-y.mean())**2))\\n\\n  #db 계산\\n  db = sum((2 * (y_pred - y))/sum((y-y.mean())**2))\\n\\n  return dw, db\\n\\n\\nlosses = []\\n\\nfor i in range(1, 10000):\\n  dw, db = gradient_rsqr(X_train, W, b, y_train)\\n  W -= learning_rate*dw\\n  b -= learning_rate*db\\n  L = loss(X_train, W, b, y_train)\\n  losses.append(L)\\n  if i % 100 == 0 :\\n    print('Iteration %d : Loss %.4f' %(i, L))\""
            ],
            "application/vnd.google.colaboratory.intrinsic+json": {
              "type": "string"
            }
          },
          "metadata": {},
          "execution_count": 11
        }
      ]
    },
    {
      "cell_type": "markdown",
      "source": [
        "## 9. 모델 학습하기"
      ],
      "metadata": {
        "id": "z1Jr4roJkdKE"
      }
    },
    {
      "cell_type": "code",
      "source": [
        "losses = []\n",
        "\n",
        "for i in range(1, 1001):\n",
        "  dw, db = gradient(X_train, W, b, y_train)\n",
        "  W -= learning_rate*dw\n",
        "  b -= learning_rate*db\n",
        "  L = loss(X_train, W, b, y_train)\n",
        "  losses.append(L)\n",
        "  if i % 10 == 0 :\n",
        "    print('Iteration %d : Loss %.4f' %(i, L))"
      ],
      "metadata": {
        "colab": {
          "base_uri": "https://localhost:8080/"
        },
        "id": "h1R_7qSOxbmz",
        "outputId": "d8389b2e-e3d6-4868-f380-d92e0987e0e4"
      },
      "execution_count": 12,
      "outputs": [
        {
          "output_type": "stream",
          "name": "stdout",
          "text": [
            "Iteration 10 : Loss 55.9712\n",
            "Iteration 20 : Loss 54.2774\n",
            "Iteration 30 : Loss 53.9414\n",
            "Iteration 40 : Loss 53.8617\n",
            "Iteration 50 : Loss 53.8376\n",
            "Iteration 60 : Loss 53.8274\n",
            "Iteration 70 : Loss 53.8214\n",
            "Iteration 80 : Loss 53.8167\n",
            "Iteration 90 : Loss 53.8126\n",
            "Iteration 100 : Loss 53.8088\n",
            "Iteration 110 : Loss 53.8050\n",
            "Iteration 120 : Loss 53.8013\n",
            "Iteration 130 : Loss 53.7977\n",
            "Iteration 140 : Loss 53.7942\n",
            "Iteration 150 : Loss 53.7907\n",
            "Iteration 160 : Loss 53.7872\n",
            "Iteration 170 : Loss 53.7838\n",
            "Iteration 180 : Loss 53.7804\n",
            "Iteration 190 : Loss 53.7771\n",
            "Iteration 200 : Loss 53.7738\n",
            "Iteration 210 : Loss 53.7705\n",
            "Iteration 220 : Loss 53.7673\n",
            "Iteration 230 : Loss 53.7642\n",
            "Iteration 240 : Loss 53.7611\n",
            "Iteration 250 : Loss 53.7580\n",
            "Iteration 260 : Loss 53.7549\n",
            "Iteration 270 : Loss 53.7519\n",
            "Iteration 280 : Loss 53.7490\n",
            "Iteration 290 : Loss 53.7461\n",
            "Iteration 300 : Loss 53.7432\n",
            "Iteration 310 : Loss 53.7403\n",
            "Iteration 320 : Loss 53.7375\n",
            "Iteration 330 : Loss 53.7347\n",
            "Iteration 340 : Loss 53.7320\n",
            "Iteration 350 : Loss 53.7293\n",
            "Iteration 360 : Loss 53.7266\n",
            "Iteration 370 : Loss 53.7240\n",
            "Iteration 380 : Loss 53.7214\n",
            "Iteration 390 : Loss 53.7188\n",
            "Iteration 400 : Loss 53.7163\n",
            "Iteration 410 : Loss 53.7138\n",
            "Iteration 420 : Loss 53.7113\n",
            "Iteration 430 : Loss 53.7089\n",
            "Iteration 440 : Loss 53.7065\n",
            "Iteration 450 : Loss 53.7041\n",
            "Iteration 460 : Loss 53.7017\n",
            "Iteration 470 : Loss 53.6994\n",
            "Iteration 480 : Loss 53.6971\n",
            "Iteration 490 : Loss 53.6949\n",
            "Iteration 500 : Loss 53.6927\n",
            "Iteration 510 : Loss 53.6905\n",
            "Iteration 520 : Loss 53.6883\n",
            "Iteration 530 : Loss 53.6862\n",
            "Iteration 540 : Loss 53.6840\n",
            "Iteration 550 : Loss 53.6820\n",
            "Iteration 560 : Loss 53.6799\n",
            "Iteration 570 : Loss 53.6779\n",
            "Iteration 580 : Loss 53.6759\n",
            "Iteration 590 : Loss 53.6739\n",
            "Iteration 600 : Loss 53.6719\n",
            "Iteration 610 : Loss 53.6700\n",
            "Iteration 620 : Loss 53.6681\n",
            "Iteration 630 : Loss 53.6662\n",
            "Iteration 640 : Loss 53.6644\n",
            "Iteration 650 : Loss 53.6625\n",
            "Iteration 660 : Loss 53.6607\n",
            "Iteration 670 : Loss 53.6589\n",
            "Iteration 680 : Loss 53.6572\n",
            "Iteration 690 : Loss 53.6555\n",
            "Iteration 700 : Loss 53.6537\n",
            "Iteration 710 : Loss 53.6520\n",
            "Iteration 720 : Loss 53.6504\n",
            "Iteration 730 : Loss 53.6487\n",
            "Iteration 740 : Loss 53.6471\n",
            "Iteration 750 : Loss 53.6455\n",
            "Iteration 760 : Loss 53.6439\n",
            "Iteration 770 : Loss 53.6423\n",
            "Iteration 780 : Loss 53.6408\n",
            "Iteration 790 : Loss 53.6393\n",
            "Iteration 800 : Loss 53.6378\n",
            "Iteration 810 : Loss 53.6363\n",
            "Iteration 820 : Loss 53.6348\n",
            "Iteration 830 : Loss 53.6334\n",
            "Iteration 840 : Loss 53.6319\n",
            "Iteration 850 : Loss 53.6305\n",
            "Iteration 860 : Loss 53.6291\n",
            "Iteration 870 : Loss 53.6277\n",
            "Iteration 880 : Loss 53.6264\n",
            "Iteration 890 : Loss 53.6251\n",
            "Iteration 900 : Loss 53.6237\n",
            "Iteration 910 : Loss 53.6224\n",
            "Iteration 920 : Loss 53.6211\n",
            "Iteration 930 : Loss 53.6199\n",
            "Iteration 940 : Loss 53.6186\n",
            "Iteration 950 : Loss 53.6174\n",
            "Iteration 960 : Loss 53.6162\n",
            "Iteration 970 : Loss 53.6149\n",
            "Iteration 980 : Loss 53.6138\n",
            "Iteration 990 : Loss 53.6126\n",
            "Iteration 1000 : Loss 53.6114\n"
          ]
        }
      ]
    },
    {
      "cell_type": "code",
      "source": [
        "import matplotlib.pyplot as plt\n",
        "plt.plot(losses)\n",
        "plt.show()"
      ],
      "metadata": {
        "colab": {
          "base_uri": "https://localhost:8080/",
          "height": 269
        },
        "id": "Bd5NbMhyyoDJ",
        "outputId": "7ec68179-3eff-4823-b699-e95f76d88cd5"
      },
      "execution_count": 13,
      "outputs": [
        {
          "output_type": "display_data",
          "data": {
            "text/plain": [
              "<Figure size 432x288 with 1 Axes>"
            ],
            "image/png": "[encoded data removed]"
          },
          "metadata": {
            "needs_background": "light"
          }
        }
      ]
    },
    {
      "cell_type": "code",
      "source": [
        "W, b, dw, db"
      ],
      "metadata": {
        "id": "mymZLJWJyxV0",
        "colab": {
          "base_uri": "https://localhost:8080/"
        },
        "outputId": "edb383ec-8ce5-4010-81a9-1b629a49342f"
      },
      "execution_count": 14,
      "outputs": [
        {
          "output_type": "execute_result",
          "data": {
            "text/plain": [
              "(array([   2.46965763, -268.68260583,  528.56677447,  369.23306366,\n",
              "        -540.37587279,  221.61775122,  -39.69845098,  183.80654723,\n",
              "         566.52004633,  106.16160611]),\n",
              " 152.04428851085495,\n",
              " array([ 6.62694617e-03,  5.22898594e-03,  6.69998838e-03,  4.39564786e-04,\n",
              "         6.64283794e-01, -5.30117626e-01, -2.90934982e-01, -7.79079312e-02,\n",
              "        -2.45744791e-01, -8.65231591e-04]),\n",
              " 2.8112935315710497e-06)"
            ]
          },
          "metadata": {},
          "execution_count": 14
        }
      ]
    },
    {
      "cell_type": "markdown",
      "source": [
        "## 10. test데이터에 대한 성능 확인하기"
      ],
      "metadata": {
        "id": "xzIQYt3skfg-"
      }
    },
    {
      "cell_type": "code",
      "source": [
        "prediction = model(X_test, W, b)\n",
        "mse = loss(X_test, W, b, y_test)\n",
        "mse"
      ],
      "metadata": {
        "id": "nFs2hqnTzFmR",
        "colab": {
          "base_uri": "https://localhost:8080/"
        },
        "outputId": "ffedb3ba-8b83-4674-89f1-1ae4d610b1f2"
      },
      "execution_count": 15,
      "outputs": [
        {
          "output_type": "execute_result",
          "data": {
            "text/plain": [
              "53.90476872723714"
            ]
          },
          "metadata": {},
          "execution_count": 15
        }
      ]
    },
    {
      "cell_type": "markdown",
      "source": [
        "## 11. 정답 데이터와 예측한 데이터 시각화 하기"
      ],
      "metadata": {
        "id": "yHQM0cWwklei"
      }
    },
    {
      "cell_type": "code",
      "source": [
        "plt.scatter(X_test[:,0], y_test)  #X_test[:,0] -> 모든 행에 대해서 나이부분 값\n",
        "plt.scatter(X_test[:,0], prediction)\n",
        "plt.show()"
      ],
      "metadata": {
        "colab": {
          "base_uri": "https://localhost:8080/",
          "height": 265
        },
        "id": "32mOEMq15nUW",
        "outputId": "be4098c3-dff1-45ac-bffd-34c6da021d09"
      },
      "execution_count": 16,
      "outputs": [
        {
          "output_type": "display_data",
          "data": {
            "text/plain": [
              "<Figure size 432x288 with 1 Axes>"
            ],
            "image/png": "[encoded data removed]"
          },
          "metadata": {
            "needs_background": "light"
          }
        }
      ]
    },
    {
      "cell_type": "markdown",
      "source": [
        "# 자전거 타는 사람 수 예측"
      ],
      "metadata": {
        "id": "4DxzdVHvknz5"
      }
    },
    {
      "cell_type": "markdown",
      "source": [
        "## 1. 데이터 가져오기"
      ],
      "metadata": {
        "id": "QRpV7DaqlACu"
      }
    },
    {
      "cell_type": "code",
      "source": [
        "import pandas as pd\n",
        "import numpy as np\n",
        "\n",
        "data_path = '/content/drive/MyDrive/캐글_필사/.kaggle/'\n",
        "\n",
        "train = pd.read_csv(data_path + 'train.csv')\n",
        "test = pd.read_csv(data_path + 'test.csv')\n"
      ],
      "metadata": {
        "id": "h2W3rsQfl2VK"
      },
      "execution_count": 17,
      "outputs": []
    },
    {
      "cell_type": "code",
      "source": [
        "train.head()"
      ],
      "metadata": {
        "colab": {
          "base_uri": "https://localhost:8080/",
          "height": 206
        },
        "id": "4ErwjYJXmmgC",
        "outputId": "6ba23e40-da34-4d17-cd25-e3762a5fa10c"
      },
      "execution_count": 18,
      "outputs": [
        {
          "output_type": "execute_result",
          "data": {
            "text/plain": [
              "              datetime  season  holiday  workingday  weather  temp   atemp  \\\n",
              "0  2011-01-01 00:00:00       1        0           0        1  9.84  14.395   \n",
              "1  2011-01-01 01:00:00       1        0           0        1  9.02  13.635   \n",
              "2  2011-01-01 02:00:00       1        0           0        1  9.02  13.635   \n",
              "3  2011-01-01 03:00:00       1        0           0        1  9.84  14.395   \n",
              "4  2011-01-01 04:00:00       1        0           0        1  9.84  14.395   \n",
              "\n",
              "   humidity  windspeed  casual  registered  count  \n",
              "0        81        0.0       3          13     16  \n",
              "1        80        0.0       8          32     40  \n",
              "2        80        0.0       5          27     32  \n",
              "3        75        0.0       3          10     13  \n",
              "4        75        0.0       0           1      1  "
            ],
            "text/html": [
              "\n",
              "  <div id=\"df-87255b4a-920c-4a83-aeba-55bfb5e7d919\">\n",
              "    <div class=\"colab-df-container\">\n",
              "      <div>\n",
              "<style scoped>\n",
              "    .dataframe tbody tr th:only-of-type {\n",
              "        vertical-align: middle;\n",
              "    }\n",
              "\n",
              "    .dataframe tbody tr th {\n",
              "        vertical-align: top;\n",
              "    }\n",
              "\n",
              "    .dataframe thead th {\n",
              "        text-align: right;\n",
              "    }\n",
              "</style>\n",
              "<table border=\"1\" class=\"dataframe\">\n",
              "  <thead>\n",
              "    <tr style=\"text-align: right;\">\n",
              "      <th></th>\n",
              "      <th>datetime</th>\n",
              "      <th>season</th>\n",
              "      <th>holiday</th>\n",
              "      <th>workingday</th>\n",
              "      <th>weather</th>\n",
              "      <th>temp</th>\n",
              "      <th>atemp</th>\n",
              "      <th>humidity</th>\n",
              "      <th>windspeed</th>\n",
              "      <th>casual</th>\n",
              "      <th>registered</th>\n",
              "      <th>count</th>\n",
              "    </tr>\n",
              "  </thead>\n",
              "  <tbody>\n",
              "    <tr>\n",
              "      <th>0</th>\n",
              "      <td>2011-01-01 00:00:00</td>\n",
              "      <td>1</td>\n",
              "      <td>0</td>\n",
              "      <td>0</td>\n",
              "      <td>1</td>\n",
              "      <td>9.84</td>\n",
              "      <td>14.395</td>\n",
              "      <td>81</td>\n",
              "      <td>0.0</td>\n",
              "      <td>3</td>\n",
              "      <td>13</td>\n",
              "      <td>16</td>\n",
              "    </tr>\n",
              "    <tr>\n",
              "      <th>1</th>\n",
              "      <td>2011-01-01 01:00:00</td>\n",
              "      <td>1</td>\n",
              "      <td>0</td>\n",
              "      <td>0</td>\n",
              "      <td>1</td>\n",
              "      <td>9.02</td>\n",
              "      <td>13.635</td>\n",
              "      <td>80</td>\n",
              "      <td>0.0</td>\n",
              "      <td>8</td>\n",
              "      <td>32</td>\n",
              "      <td>40</td>\n",
              "    </tr>\n",
              "    <tr>\n",
              "      <th>2</th>\n",
              "      <td>2011-01-01 02:00:00</td>\n",
              "      <td>1</td>\n",
              "      <td>0</td>\n",
              "      <td>0</td>\n",
              "      <td>1</td>\n",
              "      <td>9.02</td>\n",
              "      <td>13.635</td>\n",
              "      <td>80</td>\n",
              "      <td>0.0</td>\n",
              "      <td>5</td>\n",
              "      <td>27</td>\n",
              "      <td>32</td>\n",
              "    </tr>\n",
              "    <tr>\n",
              "      <th>3</th>\n",
              "      <td>2011-01-01 03:00:00</td>\n",
              "      <td>1</td>\n",
              "      <td>0</td>\n",
              "      <td>0</td>\n",
              "      <td>1</td>\n",
              "      <td>9.84</td>\n",
              "      <td>14.395</td>\n",
              "      <td>75</td>\n",
              "      <td>0.0</td>\n",
              "      <td>3</td>\n",
              "      <td>10</td>\n",
              "      <td>13</td>\n",
              "    </tr>\n",
              "    <tr>\n",
              "      <th>4</th>\n",
              "      <td>2011-01-01 04:00:00</td>\n",
              "      <td>1</td>\n",
              "      <td>0</td>\n",
              "      <td>0</td>\n",
              "      <td>1</td>\n",
              "      <td>9.84</td>\n",
              "      <td>14.395</td>\n",
              "      <td>75</td>\n",
              "      <td>0.0</td>\n",
              "      <td>0</td>\n",
              "      <td>1</td>\n",
              "      <td>1</td>\n",
              "    </tr>\n",
              "  </tbody>\n",
              "</table>\n",
              "</div>\n",
              "      <button class=\"colab-df-convert\" onclick=\"convertToInteractive('df-87255b4a-920c-4a83-aeba-55bfb5e7d919')\"\n",
              "              title=\"Convert this dataframe to an interactive table.\"\n",
              "              style=\"display:none;\">\n",
              "        \n",
              "  <svg xmlns=\"http://www.w3.org/2000/svg\" height=\"24px\"viewBox=\"0 0 24 24\"\n",
              "       width=\"24px\">\n",
              "    <path d=\"M0 0h24v24H0V0z\" fill=\"none\"/>\n",
              "    <path d=\"M18.56 5.44l.94 2.06.94-2.06 2.06-.94-2.06-.94-.94-2.06-.94 2.06-2.06.94zm-11 1L8.5 8.5l.94-2.06 2.06-.94-2.06-.94L8.5 2.5l-.94 2.06-2.06.94zm10 10l.94 2.06.94-2.06 2.06-.94-2.06-.94-.94-2.06-.94 2.06-2.06.94z\"/><path d=\"M17.41 7.96l-1.37-1.37c-.4-.4-.92-.59-1.43-.59-.52 0-1.04.2-1.43.59L10.3 9.45l-7.72 7.72c-.78.78-.78 2.05 0 2.83L4 21.41c.39.39.9.59 1.41.59.51 0 1.02-.2 1.41-.59l7.78-7.78 2.81-2.81c.8-.78.8-2.07 0-2.86zM5.41 20L4 18.59l7.72-7.72 1.47 1.35L5.41 20z\"/>\n",
              "  </svg>\n",
              "      </button>\n",
              "      \n",
              "  <style>\n",
              "    .colab-df-container {\n",
              "      display:flex;\n",
              "      flex-wrap:wrap;\n",
              "      gap: 12px;\n",
              "    }\n",
              "\n",
              "    .colab-df-convert {\n",
              "      background-color: #E8F0FE;\n",
              "      border: none;\n",
              "      border-radius: 50%;\n",
              "      cursor: pointer;\n",
              "      display: none;\n",
              "      fill: #1967D2;\n",
              "      height: 32px;\n",
              "      padding: 0 0 0 0;\n",
              "      width: 32px;\n",
              "    }\n",
              "\n",
              "    .colab-df-convert:hover {\n",
              "      background-color: #E2EBFA;\n",
              "      box-shadow: 0px 1px 2px rgba(60, 64, 67, 0.3), 0px 1px 3px 1px rgba(60, 64, 67, 0.15);\n",
              "      fill: #174EA6;\n",
              "    }\n",
              "\n",
              "    [theme=dark] .colab-df-convert {\n",
              "      background-color: #3B4455;\n",
              "      fill: #D2E3FC;\n",
              "    }\n",
              "\n",
              "    [theme=dark] .colab-df-convert:hover {\n",
              "      background-color: #434B5C;\n",
              "      box-shadow: 0px 1px 3px 1px rgba(0, 0, 0, 0.15);\n",
              "      filter: drop-shadow(0px 1px 2px rgba(0, 0, 0, 0.3));\n",
              "      fill: #FFFFFF;\n",
              "    }\n",
              "  </style>\n",
              "\n",
              "      <script>\n",
              "        const buttonEl =\n",
              "          document.querySelector('#df-87255b4a-920c-4a83-aeba-55bfb5e7d919 button.colab-df-convert');\n",
              "        buttonEl.style.display =\n",
              "          google.colab.kernel.accessAllowed ? 'block' : 'none';\n",
              "\n",
              "        async function convertToInteractive(key) {\n",
              "          const element = document.querySelector('#df-87255b4a-920c-4a83-aeba-55bfb5e7d919');\n",
              "          const dataTable =\n",
              "            await google.colab.kernel.invokeFunction('convertToInteractive',\n",
              "                                                     [key], {});\n",
              "          if (!dataTable) return;\n",
              "\n",
              "          const docLinkHtml = 'Like what you see? Visit the ' +\n",
              "            '<a target=\"_blank\" href=https://colab.research.google.com/notebooks/data_table.ipynb>data table notebook</a>'\n",
              "            + ' to learn more about interactive tables.';\n",
              "          element.innerHTML = '';\n",
              "          dataTable['output_type'] = 'display_data';\n",
              "          await google.colab.output.renderOutput(dataTable, element);\n",
              "          const docLink = document.createElement('div');\n",
              "          docLink.innerHTML = docLinkHtml;\n",
              "          element.appendChild(docLink);\n",
              "        }\n",
              "      </script>\n",
              "    </div>\n",
              "  </div>\n",
              "  "
            ]
          },
          "metadata": {},
          "execution_count": 18
        }
      ]
    },
    {
      "cell_type": "code",
      "source": [
        "test.head()"
      ],
      "metadata": {
        "colab": {
          "base_uri": "https://localhost:8080/",
          "height": 206
        },
        "id": "YJ7HaO2ompX7",
        "outputId": "61e2cddd-31d4-4e5f-e67f-756d5471a726"
      },
      "execution_count": 19,
      "outputs": [
        {
          "output_type": "execute_result",
          "data": {
            "text/plain": [
              "              datetime  season  holiday  workingday  weather   temp   atemp  \\\n",
              "0  2011-01-20 00:00:00       1        0           1        1  10.66  11.365   \n",
              "1  2011-01-20 01:00:00       1        0           1        1  10.66  13.635   \n",
              "2  2011-01-20 02:00:00       1        0           1        1  10.66  13.635   \n",
              "3  2011-01-20 03:00:00       1        0           1        1  10.66  12.880   \n",
              "4  2011-01-20 04:00:00       1        0           1        1  10.66  12.880   \n",
              "\n",
              "   humidity  windspeed  \n",
              "0        56    26.0027  \n",
              "1        56     0.0000  \n",
              "2        56     0.0000  \n",
              "3        56    11.0014  \n",
              "4        56    11.0014  "
            ],
            "text/html": [
              "\n",
              "  <div id=\"df-131ffc02-ff2e-4548-878e-f24bccb49a5d\">\n",
              "    <div class=\"colab-df-container\">\n",
              "      <div>\n",
              "<style scoped>\n",
              "    .dataframe tbody tr th:only-of-type {\n",
              "        vertical-align: middle;\n",
              "    }\n",
              "\n",
              "    .dataframe tbody tr th {\n",
              "        vertical-align: top;\n",
              "    }\n",
              "\n",
              "    .dataframe thead th {\n",
              "        text-align: right;\n",
              "    }\n",
              "</style>\n",
              "<table border=\"1\" class=\"dataframe\">\n",
              "  <thead>\n",
              "    <tr style=\"text-align: right;\">\n",
              "      <th></th>\n",
              "      <th>datetime</th>\n",
              "      <th>season</th>\n",
              "      <th>holiday</th>\n",
              "      <th>workingday</th>\n",
              "      <th>weather</th>\n",
              "      <th>temp</th>\n",
              "      <th>atemp</th>\n",
              "      <th>humidity</th>\n",
              "      <th>windspeed</th>\n",
              "    </tr>\n",
              "  </thead>\n",
              "  <tbody>\n",
              "    <tr>\n",
              "      <th>0</th>\n",
              "      <td>2011-01-20 00:00:00</td>\n",
              "      <td>1</td>\n",
              "      <td>0</td>\n",
              "      <td>1</td>\n",
              "      <td>1</td>\n",
              "      <td>10.66</td>\n",
              "      <td>11.365</td>\n",
              "      <td>56</td>\n",
              "      <td>26.0027</td>\n",
              "    </tr>\n",
              "    <tr>\n",
              "      <th>1</th>\n",
              "      <td>2011-01-20 01:00:00</td>\n",
              "      <td>1</td>\n",
              "      <td>0</td>\n",
              "      <td>1</td>\n",
              "      <td>1</td>\n",
              "      <td>10.66</td>\n",
              "      <td>13.635</td>\n",
              "      <td>56</td>\n",
              "      <td>0.0000</td>\n",
              "    </tr>\n",
              "    <tr>\n",
              "      <th>2</th>\n",
              "      <td>2011-01-20 02:00:00</td>\n",
              "      <td>1</td>\n",
              "      <td>0</td>\n",
              "      <td>1</td>\n",
              "      <td>1</td>\n",
              "      <td>10.66</td>\n",
              "      <td>13.635</td>\n",
              "      <td>56</td>\n",
              "      <td>0.0000</td>\n",
              "    </tr>\n",
              "    <tr>\n",
              "      <th>3</th>\n",
              "      <td>2011-01-20 03:00:00</td>\n",
              "      <td>1</td>\n",
              "      <td>0</td>\n",
              "      <td>1</td>\n",
              "      <td>1</td>\n",
              "      <td>10.66</td>\n",
              "      <td>12.880</td>\n",
              "      <td>56</td>\n",
              "      <td>11.0014</td>\n",
              "    </tr>\n",
              "    <tr>\n",
              "      <th>4</th>\n",
              "      <td>2011-01-20 04:00:00</td>\n",
              "      <td>1</td>\n",
              "      <td>0</td>\n",
              "      <td>1</td>\n",
              "      <td>1</td>\n",
              "      <td>10.66</td>\n",
              "      <td>12.880</td>\n",
              "      <td>56</td>\n",
              "      <td>11.0014</td>\n",
              "    </tr>\n",
              "  </tbody>\n",
              "</table>\n",
              "</div>\n",
              "      <button class=\"colab-df-convert\" onclick=\"convertToInteractive('df-131ffc02-ff2e-4548-878e-f24bccb49a5d')\"\n",
              "              title=\"Convert this dataframe to an interactive table.\"\n",
              "              style=\"display:none;\">\n",
              "        \n",
              "  <svg xmlns=\"http://www.w3.org/2000/svg\" height=\"24px\"viewBox=\"0 0 24 24\"\n",
              "       width=\"24px\">\n",
              "    <path d=\"M0 0h24v24H0V0z\" fill=\"none\"/>\n",
              "    <path d=\"M18.56 5.44l.94 2.06.94-2.06 2.06-.94-2.06-.94-.94-2.06-.94 2.06-2.06.94zm-11 1L8.5 8.5l.94-2.06 2.06-.94-2.06-.94L8.5 2.5l-.94 2.06-2.06.94zm10 10l.94 2.06.94-2.06 2.06-.94-2.06-.94-.94-2.06-.94 2.06-2.06.94z\"/><path d=\"M17.41 7.96l-1.37-1.37c-.4-.4-.92-.59-1.43-.59-.52 0-1.04.2-1.43.59L10.3 9.45l-7.72 7.72c-.78.78-.78 2.05 0 2.83L4 21.41c.39.39.9.59 1.41.59.51 0 1.02-.2 1.41-.59l7.78-7.78 2.81-2.81c.8-.78.8-2.07 0-2.86zM5.41 20L4 18.59l7.72-7.72 1.47 1.35L5.41 20z\"/>\n",
              "  </svg>\n",
              "      </button>\n",
              "      \n",
              "  <style>\n",
              "    .colab-df-container {\n",
              "      display:flex;\n",
              "      flex-wrap:wrap;\n",
              "      gap: 12px;\n",
              "    }\n",
              "\n",
              "    .colab-df-convert {\n",
              "      background-color: #E8F0FE;\n",
              "      border: none;\n",
              "      border-radius: 50%;\n",
              "      cursor: pointer;\n",
              "      display: none;\n",
              "      fill: #1967D2;\n",
              "      height: 32px;\n",
              "      padding: 0 0 0 0;\n",
              "      width: 32px;\n",
              "    }\n",
              "\n",
              "    .colab-df-convert:hover {\n",
              "      background-color: #E2EBFA;\n",
              "      box-shadow: 0px 1px 2px rgba(60, 64, 67, 0.3), 0px 1px 3px 1px rgba(60, 64, 67, 0.15);\n",
              "      fill: #174EA6;\n",
              "    }\n",
              "\n",
              "    [theme=dark] .colab-df-convert {\n",
              "      background-color: #3B4455;\n",
              "      fill: #D2E3FC;\n",
              "    }\n",
              "\n",
              "    [theme=dark] .colab-df-convert:hover {\n",
              "      background-color: #434B5C;\n",
              "      box-shadow: 0px 1px 3px 1px rgba(0, 0, 0, 0.15);\n",
              "      filter: drop-shadow(0px 1px 2px rgba(0, 0, 0, 0.3));\n",
              "      fill: #FFFFFF;\n",
              "    }\n",
              "  </style>\n",
              "\n",
              "      <script>\n",
              "        const buttonEl =\n",
              "          document.querySelector('#df-131ffc02-ff2e-4548-878e-f24bccb49a5d button.colab-df-convert');\n",
              "        buttonEl.style.display =\n",
              "          google.colab.kernel.accessAllowed ? 'block' : 'none';\n",
              "\n",
              "        async function convertToInteractive(key) {\n",
              "          const element = document.querySelector('#df-131ffc02-ff2e-4548-878e-f24bccb49a5d');\n",
              "          const dataTable =\n",
              "            await google.colab.kernel.invokeFunction('convertToInteractive',\n",
              "                                                     [key], {});\n",
              "          if (!dataTable) return;\n",
              "\n",
              "          const docLinkHtml = 'Like what you see? Visit the ' +\n",
              "            '<a target=\"_blank\" href=https://colab.research.google.com/notebooks/data_table.ipynb>data table notebook</a>'\n",
              "            + ' to learn more about interactive tables.';\n",
              "          element.innerHTML = '';\n",
              "          dataTable['output_type'] = 'display_data';\n",
              "          await google.colab.output.renderOutput(dataTable, element);\n",
              "          const docLink = document.createElement('div');\n",
              "          docLink.innerHTML = docLinkHtml;\n",
              "          element.appendChild(docLink);\n",
              "        }\n",
              "      </script>\n",
              "    </div>\n",
              "  </div>\n",
              "  "
            ]
          },
          "metadata": {},
          "execution_count": 19
        }
      ]
    },
    {
      "cell_type": "code",
      "source": [
        "train.info()"
      ],
      "metadata": {
        "colab": {
          "base_uri": "https://localhost:8080/"
        },
        "id": "RJLFuzoxongf",
        "outputId": "e8bfb9e3-55cd-4dc3-ab70-fd9ca78ed80f"
      },
      "execution_count": 20,
      "outputs": [
        {
          "output_type": "stream",
          "name": "stdout",
          "text": [
            "<class 'pandas.core.frame.DataFrame'>\n",
            "RangeIndex: 10886 entries, 0 to 10885\n",
            "Data columns (total 12 columns):\n",
            " #   Column      Non-Null Count  Dtype  \n",
            "---  ------      --------------  -----  \n",
            " 0   datetime    10886 non-null  object \n",
            " 1   season      10886 non-null  int64  \n",
            " 2   holiday     10886 non-null  int64  \n",
            " 3   workingday  10886 non-null  int64  \n",
            " 4   weather     10886 non-null  int64  \n",
            " 5   temp        10886 non-null  float64\n",
            " 6   atemp       10886 non-null  float64\n",
            " 7   humidity    10886 non-null  int64  \n",
            " 8   windspeed   10886 non-null  float64\n",
            " 9   casual      10886 non-null  int64  \n",
            " 10  registered  10886 non-null  int64  \n",
            " 11  count       10886 non-null  int64  \n",
            "dtypes: float64(3), int64(8), object(1)\n",
            "memory usage: 1020.7+ KB\n"
          ]
        }
      ]
    },
    {
      "cell_type": "markdown",
      "source": [
        "## 2. datatime 컬럼을 datetime 자료형으로 변환하고 연,월,일,시,분,초 6개의 칼럼 생성하기"
      ],
      "metadata": {
        "id": "Tzx293fxlCD0"
      }
    },
    {
      "cell_type": "code",
      "source": [
        "train['date'] = train['datetime'].apply(lambda x : x.split()[0])\n",
        "\n",
        "train['year'] = train['datetime'].apply(lambda x : x.split()[0].split('-')[0])\n",
        "train['month'] = train['datetime'].apply(lambda x : x.split()[0].split('-')[1])\n",
        "train['day'] = train['datetime'].apply(lambda x : x.split()[0].split('-')[2])\n",
        "train['hour'] = train['datetime'].apply(lambda x : x.split()[1].split(':')[0])\n",
        "train['minute'] = train['datetime'].apply(lambda x : x.split()[1].split(':')[1])\n",
        "train['second'] = train['datetime'].apply(lambda x : x.split()[1].split(':')[2])\n",
        "\n",
        "train.head()"
      ],
      "metadata": {
        "id": "yuFOX_zVl2kL",
        "colab": {
          "base_uri": "https://localhost:8080/",
          "height": 357
        },
        "outputId": "8b99d7d2-9c71-4191-d18a-4c5864110407"
      },
      "execution_count": 21,
      "outputs": [
        {
          "output_type": "execute_result",
          "data": {
            "text/plain": [
              "              datetime  season  holiday  workingday  weather  temp   atemp  \\\n",
              "0  2011-01-01 00:00:00       1        0           0        1  9.84  14.395   \n",
              "1  2011-01-01 01:00:00       1        0           0        1  9.02  13.635   \n",
              "2  2011-01-01 02:00:00       1        0           0        1  9.02  13.635   \n",
              "3  2011-01-01 03:00:00       1        0           0        1  9.84  14.395   \n",
              "4  2011-01-01 04:00:00       1        0           0        1  9.84  14.395   \n",
              "\n",
              "   humidity  windspeed  casual  registered  count        date  year month day  \\\n",
              "0        81        0.0       3          13     16  2011-01-01  2011    01  01   \n",
              "1        80        0.0       8          32     40  2011-01-01  2011    01  01   \n",
              "2        80        0.0       5          27     32  2011-01-01  2011    01  01   \n",
              "3        75        0.0       3          10     13  2011-01-01  2011    01  01   \n",
              "4        75        0.0       0           1      1  2011-01-01  2011    01  01   \n",
              "\n",
              "  hour minute second  \n",
              "0   00     00     00  \n",
              "1   01     00     00  \n",
              "2   02     00     00  \n",
              "3   03     00     00  \n",
              "4   04     00     00  "
            ],
            "text/html": [
              "\n",
              "  <div id=\"df-34927ead-7239-4632-81eb-691e42a380cf\">\n",
              "    <div class=\"colab-df-container\">\n",
              "      <div>\n",
              "<style scoped>\n",
              "    .dataframe tbody tr th:only-of-type {\n",
              "        vertical-align: middle;\n",
              "    }\n",
              "\n",
              "    .dataframe tbody tr th {\n",
              "        vertical-align: top;\n",
              "    }\n",
              "\n",
              "    .dataframe thead th {\n",
              "        text-align: right;\n",
              "    }\n",
              "</style>\n",
              "<table border=\"1\" class=\"dataframe\">\n",
              "  <thead>\n",
              "    <tr style=\"text-align: right;\">\n",
              "      <th></th>\n",
              "      <th>datetime</th>\n",
              "      <th>season</th>\n",
              "      <th>holiday</th>\n",
              "      <th>workingday</th>\n",
              "      <th>weather</th>\n",
              "      <th>temp</th>\n",
              "      <th>atemp</th>\n",
              "      <th>humidity</th>\n",
              "      <th>windspeed</th>\n",
              "      <th>casual</th>\n",
              "      <th>registered</th>\n",
              "      <th>count</th>\n",
              "      <th>date</th>\n",
              "      <th>year</th>\n",
              "      <th>month</th>\n",
              "      <th>day</th>\n",
              "      <th>hour</th>\n",
              "      <th>minute</th>\n",
              "      <th>second</th>\n",
              "    </tr>\n",
              "  </thead>\n",
              "  <tbody>\n",
              "    <tr>\n",
              "      <th>0</th>\n",
              "      <td>2011-01-01 00:00:00</td>\n",
              "      <td>1</td>\n",
              "      <td>0</td>\n",
              "      <td>0</td>\n",
              "      <td>1</td>\n",
              "      <td>9.84</td>\n",
              "      <td>14.395</td>\n",
              "      <td>81</td>\n",
              "      <td>0.0</td>\n",
              "      <td>3</td>\n",
              "      <td>13</td>\n",
              "      <td>16</td>\n",
              "      <td>2011-01-01</td>\n",
              "      <td>2011</td>\n",
              "      <td>01</td>\n",
              "      <td>01</td>\n",
              "      <td>00</td>\n",
              "      <td>00</td>\n",
              "      <td>00</td>\n",
              "    </tr>\n",
              "    <tr>\n",
              "      <th>1</th>\n",
              "      <td>2011-01-01 01:00:00</td>\n",
              "      <td>1</td>\n",
              "      <td>0</td>\n",
              "      <td>0</td>\n",
              "      <td>1</td>\n",
              "      <td>9.02</td>\n",
              "      <td>13.635</td>\n",
              "      <td>80</td>\n",
              "      <td>0.0</td>\n",
              "      <td>8</td>\n",
              "      <td>32</td>\n",
              "      <td>40</td>\n",
              "      <td>2011-01-01</td>\n",
              "      <td>2011</td>\n",
              "      <td>01</td>\n",
              "      <td>01</td>\n",
              "      <td>01</td>\n",
              "      <td>00</td>\n",
              "      <td>00</td>\n",
              "    </tr>\n",
              "    <tr>\n",
              "      <th>2</th>\n",
              "      <td>2011-01-01 02:00:00</td>\n",
              "      <td>1</td>\n",
              "      <td>0</td>\n",
              "      <td>0</td>\n",
              "      <td>1</td>\n",
              "      <td>9.02</td>\n",
              "      <td>13.635</td>\n",
              "      <td>80</td>\n",
              "      <td>0.0</td>\n",
              "      <td>5</td>\n",
              "      <td>27</td>\n",
              "      <td>32</td>\n",
              "      <td>2011-01-01</td>\n",
              "      <td>2011</td>\n",
              "      <td>01</td>\n",
              "      <td>01</td>\n",
              "      <td>02</td>\n",
              "      <td>00</td>\n",
              "      <td>00</td>\n",
              "    </tr>\n",
              "    <tr>\n",
              "      <th>3</th>\n",
              "      <td>2011-01-01 03:00:00</td>\n",
              "      <td>1</td>\n",
              "      <td>0</td>\n",
              "      <td>0</td>\n",
              "      <td>1</td>\n",
              "      <td>9.84</td>\n",
              "      <td>14.395</td>\n",
              "      <td>75</td>\n",
              "      <td>0.0</td>\n",
              "      <td>3</td>\n",
              "      <td>10</td>\n",
              "      <td>13</td>\n",
              "      <td>2011-01-01</td>\n",
              "      <td>2011</td>\n",
              "      <td>01</td>\n",
              "      <td>01</td>\n",
              "      <td>03</td>\n",
              "      <td>00</td>\n",
              "      <td>00</td>\n",
              "    </tr>\n",
              "    <tr>\n",
              "      <th>4</th>\n",
              "      <td>2011-01-01 04:00:00</td>\n",
              "      <td>1</td>\n",
              "      <td>0</td>\n",
              "      <td>0</td>\n",
              "      <td>1</td>\n",
              "      <td>9.84</td>\n",
              "      <td>14.395</td>\n",
              "      <td>75</td>\n",
              "      <td>0.0</td>\n",
              "      <td>0</td>\n",
              "      <td>1</td>\n",
              "      <td>1</td>\n",
              "      <td>2011-01-01</td>\n",
              "      <td>2011</td>\n",
              "      <td>01</td>\n",
              "      <td>01</td>\n",
              "      <td>04</td>\n",
              "      <td>00</td>\n",
              "      <td>00</td>\n",
              "    </tr>\n",
              "  </tbody>\n",
              "</table>\n",
              "</div>\n",
              "      <button class=\"colab-df-convert\" onclick=\"convertToInteractive('df-34927ead-7239-4632-81eb-691e42a380cf')\"\n",
              "              title=\"Convert this dataframe to an interactive table.\"\n",
              "              style=\"display:none;\">\n",
              "        \n",
              "  <svg xmlns=\"http://www.w3.org/2000/svg\" height=\"24px\"viewBox=\"0 0 24 24\"\n",
              "       width=\"24px\">\n",
              "    <path d=\"M0 0h24v24H0V0z\" fill=\"none\"/>\n",
              "    <path d=\"M18.56 5.44l.94 2.06.94-2.06 2.06-.94-2.06-.94-.94-2.06-.94 2.06-2.06.94zm-11 1L8.5 8.5l.94-2.06 2.06-.94-2.06-.94L8.5 2.5l-.94 2.06-2.06.94zm10 10l.94 2.06.94-2.06 2.06-.94-2.06-.94-.94-2.06-.94 2.06-2.06.94z\"/><path d=\"M17.41 7.96l-1.37-1.37c-.4-.4-.92-.59-1.43-.59-.52 0-1.04.2-1.43.59L10.3 9.45l-7.72 7.72c-.78.78-.78 2.05 0 2.83L4 21.41c.39.39.9.59 1.41.59.51 0 1.02-.2 1.41-.59l7.78-7.78 2.81-2.81c.8-.78.8-2.07 0-2.86zM5.41 20L4 18.59l7.72-7.72 1.47 1.35L5.41 20z\"/>\n",
              "  </svg>\n",
              "      </button>\n",
              "      \n",
              "  <style>\n",
              "    .colab-df-container {\n",
              "      display:flex;\n",
              "      flex-wrap:wrap;\n",
              "      gap: 12px;\n",
              "    }\n",
              "\n",
              "    .colab-df-convert {\n",
              "      background-color: #E8F0FE;\n",
              "      border: none;\n",
              "      border-radius: 50%;\n",
              "      cursor: pointer;\n",
              "      display: none;\n",
              "      fill: #1967D2;\n",
              "      height: 32px;\n",
              "      padding: 0 0 0 0;\n",
              "      width: 32px;\n",
              "    }\n",
              "\n",
              "    .colab-df-convert:hover {\n",
              "      background-color: #E2EBFA;\n",
              "      box-shadow: 0px 1px 2px rgba(60, 64, 67, 0.3), 0px 1px 3px 1px rgba(60, 64, 67, 0.15);\n",
              "      fill: #174EA6;\n",
              "    }\n",
              "\n",
              "    [theme=dark] .colab-df-convert {\n",
              "      background-color: #3B4455;\n",
              "      fill: #D2E3FC;\n",
              "    }\n",
              "\n",
              "    [theme=dark] .colab-df-convert:hover {\n",
              "      background-color: #434B5C;\n",
              "      box-shadow: 0px 1px 3px 1px rgba(0, 0, 0, 0.15);\n",
              "      filter: drop-shadow(0px 1px 2px rgba(0, 0, 0, 0.3));\n",
              "      fill: #FFFFFF;\n",
              "    }\n",
              "  </style>\n",
              "\n",
              "      <script>\n",
              "        const buttonEl =\n",
              "          document.querySelector('#df-34927ead-7239-4632-81eb-691e42a380cf button.colab-df-convert');\n",
              "        buttonEl.style.display =\n",
              "          google.colab.kernel.accessAllowed ? 'block' : 'none';\n",
              "\n",
              "        async function convertToInteractive(key) {\n",
              "          const element = document.querySelector('#df-34927ead-7239-4632-81eb-691e42a380cf');\n",
              "          const dataTable =\n",
              "            await google.colab.kernel.invokeFunction('convertToInteractive',\n",
              "                                                     [key], {});\n",
              "          if (!dataTable) return;\n",
              "\n",
              "          const docLinkHtml = 'Like what you see? Visit the ' +\n",
              "            '<a target=\"_blank\" href=https://colab.research.google.com/notebooks/data_table.ipynb>data table notebook</a>'\n",
              "            + ' to learn more about interactive tables.';\n",
              "          element.innerHTML = '';\n",
              "          dataTable['output_type'] = 'display_data';\n",
              "          await google.colab.output.renderOutput(dataTable, element);\n",
              "          const docLink = document.createElement('div');\n",
              "          docLink.innerHTML = docLinkHtml;\n",
              "          element.appendChild(docLink);\n",
              "        }\n",
              "      </script>\n",
              "    </div>\n",
              "  </div>\n",
              "  "
            ]
          },
          "metadata": {},
          "execution_count": 21
        }
      ]
    },
    {
      "cell_type": "markdown",
      "source": [
        "## 3. year, month, day, hour, minute, second 데이터 개수 시각화하기\n",
        "\n",
        "\n"
      ],
      "metadata": {
        "id": "aMYECApUlMu5"
      }
    },
    {
      "cell_type": "code",
      "source": [
        "import matplotlib.pyplot as plt\n",
        "import seaborn as sns\n",
        "import matplotlib as mpl \n",
        "\n",
        "%matplotlib inline\n",
        "\n",
        "f, ax = plt.subplots(2, 3, figsize = (20, 18))\n",
        "sns.barplot(x=train['year'], y=train['count'], ax=ax[0,0])\n",
        "sns.barplot(x=train['month'], y=train['count'], ax=ax[0,1])\n",
        "sns.barplot(x=train['day'], y=train['count'], ax=ax[0,2])\n",
        "sns.barplot(x=train['hour'], y=train['count'], ax=ax[1,0])\n",
        "sns.barplot(x=train['minute'], y=train['count'], ax=ax[1,1])\n",
        "sns.barplot(x=train['second'], y=train['count'], ax=ax[1,2])"
      ],
      "metadata": {
        "id": "mHEzojeDl1DM",
        "colab": {
          "base_uri": "https://localhost:8080/",
          "height": 924
        },
        "outputId": "ee89faf1-d029-4c28-dea5-db1d7de98b0f"
      },
      "execution_count": 22,
      "outputs": [
        {
          "output_type": "execute_result",
          "data": {
            "text/plain": [
              "<matplotlib.axes._subplots.AxesSubplot at 0x7fec496ef090>"
            ]
          },
          "metadata": {},
          "execution_count": 22
        },
        {
          "output_type": "display_data",
          "data": {
            "text/plain": [
              "<Figure size 1440x1296 with 6 Axes>"
            ],
            "image/png": "[encoded data removed]"
          },
          "metadata": {
            "needs_background": "light"
          }
        }
      ]
    },
    {
      "cell_type": "code",
      "source": [
        "sns.heatmap(train.corr(), annot=True, cmap='RdYlGn', linewidths=0.2)\n",
        "fig = plt.gcf()\n",
        "fig.set_size_inches(10,8)\n",
        "plt.show()"
      ],
      "metadata": {
        "colab": {
          "base_uri": "https://localhost:8080/",
          "height": 535
        },
        "id": "ZuZbU1DW_ZVv",
        "outputId": "66717c3d-8174-42a9-bf5c-02330cbb65b0"
      },
      "execution_count": 23,
      "outputs": [
        {
          "output_type": "display_data",
          "data": {
            "text/plain": [
              "<Figure size 720x576 with 2 Axes>"
            ],
            "image/png": "[encoded data removed]"
          },
          "metadata": {
            "needs_background": "light"
          }
        }
      ]
    },
    {
      "cell_type": "markdown",
      "source": [
        "- temp와 atemp의 상관관계가 0.98이라 두 데이터 모두는 필요 없어보임\n",
        "- temp나 atemp만 써도 될 것 같다."
      ],
      "metadata": {
        "id": "XxYPMl0dBoVV"
      }
    },
    {
      "cell_type": "code",
      "source": [
        "#temp 구간나누기\n",
        "train['temp_band'] = pd.qcut(train['temp'], 4)\n",
        "train.groupby(['temp_band'])['count'].mean().to_frame().style.background_gradient(cmap='summer_r')"
      ],
      "metadata": {
        "colab": {
          "base_uri": "https://localhost:8080/",
          "height": 206
        },
        "id": "4C83Dc6ZAL9q",
        "outputId": "7d7b21cc-a2e3-4468-b4b5-a7852f91c67e"
      },
      "execution_count": 24,
      "outputs": [
        {
          "output_type": "execute_result",
          "data": {
            "text/plain": [
              "<pandas.io.formats.style.Styler at 0x7fec4fdefd50>"
            ],
            "text/html": [
              "<style type=\"text/css\">\n",
              "#T_07b0e_row0_col0 {\n",
              "  background-color: #ffff66;\n",
              "  color: #000000;\n",
              "}\n",
              "#T_07b0e_row1_col0 {\n",
              "  background-color: #9ece66;\n",
              "  color: #000000;\n",
              "}\n",
              "#T_07b0e_row2_col0 {\n",
              "  background-color: #60b066;\n",
              "  color: #f1f1f1;\n",
              "}\n",
              "#T_07b0e_row3_col0 {\n",
              "  background-color: #008066;\n",
              "  color: #f1f1f1;\n",
              "}\n",
              "</style>\n",
              "<table id=\"T_07b0e_\" class=\"dataframe\">\n",
              "  <thead>\n",
              "    <tr>\n",
              "      <th class=\"blank level0\" >&nbsp;</th>\n",
              "      <th class=\"col_heading level0 col0\" >count</th>\n",
              "    </tr>\n",
              "    <tr>\n",
              "      <th class=\"index_name level0\" >temp_band</th>\n",
              "      <th class=\"blank col0\" >&nbsp;</th>\n",
              "    </tr>\n",
              "  </thead>\n",
              "  <tbody>\n",
              "    <tr>\n",
              "      <th id=\"T_07b0e_level0_row0\" class=\"row_heading level0 row0\" >(0.819, 13.94]</th>\n",
              "      <td id=\"T_07b0e_row0_col0\" class=\"data row0 col0\" >103.200615</td>\n",
              "    </tr>\n",
              "    <tr>\n",
              "      <th id=\"T_07b0e_level0_row1\" class=\"row_heading level0 row1\" >(13.94, 20.5]</th>\n",
              "      <td id=\"T_07b0e_row1_col0\" class=\"data row1 col0\" >172.143595</td>\n",
              "    </tr>\n",
              "    <tr>\n",
              "      <th id=\"T_07b0e_level0_row2\" class=\"row_heading level0 row2\" >(20.5, 26.24]</th>\n",
              "      <td id=\"T_07b0e_row2_col0\" class=\"data row2 col0\" >216.393254</td>\n",
              "    </tr>\n",
              "    <tr>\n",
              "      <th id=\"T_07b0e_level0_row3\" class=\"row_heading level0 row3\" >(26.24, 41.0]</th>\n",
              "      <td id=\"T_07b0e_row3_col0\" class=\"data row3 col0\" >284.861469</td>\n",
              "    </tr>\n",
              "  </tbody>\n",
              "</table>\n"
            ]
          },
          "metadata": {},
          "execution_count": 24
        }
      ]
    },
    {
      "cell_type": "code",
      "source": [
        "train['temp_cat'] = 0\n",
        "train.loc[train['temp']<=13.94, 'temp_cat'] = 0\n",
        "train.loc[(train['temp']>13.94)&(train['temp']<=20.5), 'temp_cat'] = 1\n",
        "train.loc[(train['temp']>20.5)&(train['temp']<=26.24), 'temp_cat'] = 2\n",
        "train.loc[(train['temp']>26.24)&(train['temp']<=41.0), 'temp_cat'] = 3"
      ],
      "metadata": {
        "id": "EdYexD8VB2kO"
      },
      "execution_count": 25,
      "outputs": []
    },
    {
      "cell_type": "code",
      "source": [
        "sns.barplot(x=train['temp_cat'], y=train['count'])\n",
        "plt.show()"
      ],
      "metadata": {
        "colab": {
          "base_uri": "https://localhost:8080/",
          "height": 280
        },
        "id": "JF3qPAJ7Cvw_",
        "outputId": "d137314c-6c72-4305-b623-7bded0767d54"
      },
      "execution_count": 26,
      "outputs": [
        {
          "output_type": "display_data",
          "data": {
            "text/plain": [
              "<Figure size 432x288 with 1 Axes>"
            ],
            "image/png": "[encoded data removed]"
          },
          "metadata": {
            "needs_background": "light"
          }
        }
      ]
    },
    {
      "cell_type": "markdown",
      "source": [
        "temp_cat이 커지며 count가 커지므로 학습에 쓸만한 데이터인것같다."
      ],
      "metadata": {
        "id": "hWbwBPRQGHLd"
      }
    },
    {
      "cell_type": "markdown",
      "source": [
        "- 필요없는 피처 없애기"
      ],
      "metadata": {
        "id": "jWz0wea9G5Pl"
      }
    },
    {
      "cell_type": "code",
      "source": [
        "train.head()"
      ],
      "metadata": {
        "colab": {
          "base_uri": "https://localhost:8080/",
          "height": 386
        },
        "id": "WbXruyKHGOMI",
        "outputId": "8d3f46bb-3811-4532-8397-d435a972217b"
      },
      "execution_count": 27,
      "outputs": [
        {
          "output_type": "execute_result",
          "data": {
            "text/plain": [
              "              datetime  season  holiday  workingday  weather  temp   atemp  \\\n",
              "0  2011-01-01 00:00:00       1        0           0        1  9.84  14.395   \n",
              "1  2011-01-01 01:00:00       1        0           0        1  9.02  13.635   \n",
              "2  2011-01-01 02:00:00       1        0           0        1  9.02  13.635   \n",
              "3  2011-01-01 03:00:00       1        0           0        1  9.84  14.395   \n",
              "4  2011-01-01 04:00:00       1        0           0        1  9.84  14.395   \n",
              "\n",
              "   humidity  windspeed  casual  ...  count        date  year month day hour  \\\n",
              "0        81        0.0       3  ...     16  2011-01-01  2011    01  01   00   \n",
              "1        80        0.0       8  ...     40  2011-01-01  2011    01  01   01   \n",
              "2        80        0.0       5  ...     32  2011-01-01  2011    01  01   02   \n",
              "3        75        0.0       3  ...     13  2011-01-01  2011    01  01   03   \n",
              "4        75        0.0       0  ...      1  2011-01-01  2011    01  01   04   \n",
              "\n",
              "  minute second       temp_band temp_cat  \n",
              "0     00     00  (0.819, 13.94]        0  \n",
              "1     00     00  (0.819, 13.94]        0  \n",
              "2     00     00  (0.819, 13.94]        0  \n",
              "3     00     00  (0.819, 13.94]        0  \n",
              "4     00     00  (0.819, 13.94]        0  \n",
              "\n",
              "[5 rows x 21 columns]"
            ],
            "text/html": [
              "\n",
              "  <div id=\"df-4fea395a-717b-4c94-96b6-ae61520f0f72\">\n",
              "    <div class=\"colab-df-container\">\n",
              "      <div>\n",
              "<style scoped>\n",
              "    .dataframe tbody tr th:only-of-type {\n",
              "        vertical-align: middle;\n",
              "    }\n",
              "\n",
              "    .dataframe tbody tr th {\n",
              "        vertical-align: top;\n",
              "    }\n",
              "\n",
              "    .dataframe thead th {\n",
              "        text-align: right;\n",
              "    }\n",
              "</style>\n",
              "<table border=\"1\" class=\"dataframe\">\n",
              "  <thead>\n",
              "    <tr style=\"text-align: right;\">\n",
              "      <th></th>\n",
              "      <th>datetime</th>\n",
              "      <th>season</th>\n",
              "      <th>holiday</th>\n",
              "      <th>workingday</th>\n",
              "      <th>weather</th>\n",
              "      <th>temp</th>\n",
              "      <th>atemp</th>\n",
              "      <th>humidity</th>\n",
              "      <th>windspeed</th>\n",
              "      <th>casual</th>\n",
              "      <th>...</th>\n",
              "      <th>count</th>\n",
              "      <th>date</th>\n",
              "      <th>year</th>\n",
              "      <th>month</th>\n",
              "      <th>day</th>\n",
              "      <th>hour</th>\n",
              "      <th>minute</th>\n",
              "      <th>second</th>\n",
              "      <th>temp_band</th>\n",
              "      <th>temp_cat</th>\n",
              "    </tr>\n",
              "  </thead>\n",
              "  <tbody>\n",
              "    <tr>\n",
              "      <th>0</th>\n",
              "      <td>2011-01-01 00:00:00</td>\n",
              "      <td>1</td>\n",
              "      <td>0</td>\n",
              "      <td>0</td>\n",
              "      <td>1</td>\n",
              "      <td>9.84</td>\n",
              "      <td>14.395</td>\n",
              "      <td>81</td>\n",
              "      <td>0.0</td>\n",
              "      <td>3</td>\n",
              "      <td>...</td>\n",
              "      <td>16</td>\n",
              "      <td>2011-01-01</td>\n",
              "      <td>2011</td>\n",
              "      <td>01</td>\n",
              "      <td>01</td>\n",
              "      <td>00</td>\n",
              "      <td>00</td>\n",
              "      <td>00</td>\n",
              "      <td>(0.819, 13.94]</td>\n",
              "      <td>0</td>\n",
              "    </tr>\n",
              "    <tr>\n",
              "      <th>1</th>\n",
              "      <td>2011-01-01 01:00:00</td>\n",
              "      <td>1</td>\n",
              "      <td>0</td>\n",
              "      <td>0</td>\n",
              "      <td>1</td>\n",
              "      <td>9.02</td>\n",
              "      <td>13.635</td>\n",
              "      <td>80</td>\n",
              "      <td>0.0</td>\n",
              "      <td>8</td>\n",
              "      <td>...</td>\n",
              "      <td>40</td>\n",
              "      <td>2011-01-01</td>\n",
              "      <td>2011</td>\n",
              "      <td>01</td>\n",
              "      <td>01</td>\n",
              "      <td>01</td>\n",
              "      <td>00</td>\n",
              "      <td>00</td>\n",
              "      <td>(0.819, 13.94]</td>\n",
              "      <td>0</td>\n",
              "    </tr>\n",
              "    <tr>\n",
              "      <th>2</th>\n",
              "      <td>2011-01-01 02:00:00</td>\n",
              "      <td>1</td>\n",
              "      <td>0</td>\n",
              "      <td>0</td>\n",
              "      <td>1</td>\n",
              "      <td>9.02</td>\n",
              "      <td>13.635</td>\n",
              "      <td>80</td>\n",
              "      <td>0.0</td>\n",
              "      <td>5</td>\n",
              "      <td>...</td>\n",
              "      <td>32</td>\n",
              "      <td>2011-01-01</td>\n",
              "      <td>2011</td>\n",
              "      <td>01</td>\n",
              "      <td>01</td>\n",
              "      <td>02</td>\n",
              "      <td>00</td>\n",
              "      <td>00</td>\n",
              "      <td>(0.819, 13.94]</td>\n",
              "      <td>0</td>\n",
              "    </tr>\n",
              "    <tr>\n",
              "      <th>3</th>\n",
              "      <td>2011-01-01 03:00:00</td>\n",
              "      <td>1</td>\n",
              "      <td>0</td>\n",
              "      <td>0</td>\n",
              "      <td>1</td>\n",
              "      <td>9.84</td>\n",
              "      <td>14.395</td>\n",
              "      <td>75</td>\n",
              "      <td>0.0</td>\n",
              "      <td>3</td>\n",
              "      <td>...</td>\n",
              "      <td>13</td>\n",
              "      <td>2011-01-01</td>\n",
              "      <td>2011</td>\n",
              "      <td>01</td>\n",
              "      <td>01</td>\n",
              "      <td>03</td>\n",
              "      <td>00</td>\n",
              "      <td>00</td>\n",
              "      <td>(0.819, 13.94]</td>\n",
              "      <td>0</td>\n",
              "    </tr>\n",
              "    <tr>\n",
              "      <th>4</th>\n",
              "      <td>2011-01-01 04:00:00</td>\n",
              "      <td>1</td>\n",
              "      <td>0</td>\n",
              "      <td>0</td>\n",
              "      <td>1</td>\n",
              "      <td>9.84</td>\n",
              "      <td>14.395</td>\n",
              "      <td>75</td>\n",
              "      <td>0.0</td>\n",
              "      <td>0</td>\n",
              "      <td>...</td>\n",
              "      <td>1</td>\n",
              "      <td>2011-01-01</td>\n",
              "      <td>2011</td>\n",
              "      <td>01</td>\n",
              "      <td>01</td>\n",
              "      <td>04</td>\n",
              "      <td>00</td>\n",
              "      <td>00</td>\n",
              "      <td>(0.819, 13.94]</td>\n",
              "      <td>0</td>\n",
              "    </tr>\n",
              "  </tbody>\n",
              "</table>\n",
              "<p>5 rows × 21 columns</p>\n",
              "</div>\n",
              "      <button class=\"colab-df-convert\" onclick=\"convertToInteractive('df-4fea395a-717b-4c94-96b6-ae61520f0f72')\"\n",
              "              title=\"Convert this dataframe to an interactive table.\"\n",
              "              style=\"display:none;\">\n",
              "        \n",
              "  <svg xmlns=\"http://www.w3.org/2000/svg\" height=\"24px\"viewBox=\"0 0 24 24\"\n",
              "       width=\"24px\">\n",
              "    <path d=\"M0 0h24v24H0V0z\" fill=\"none\"/>\n",
              "    <path d=\"M18.56 5.44l.94 2.06.94-2.06 2.06-.94-2.06-.94-.94-2.06-.94 2.06-2.06.94zm-11 1L8.5 8.5l.94-2.06 2.06-.94-2.06-.94L8.5 2.5l-.94 2.06-2.06.94zm10 10l.94 2.06.94-2.06 2.06-.94-2.06-.94-.94-2.06-.94 2.06-2.06.94z\"/><path d=\"M17.41 7.96l-1.37-1.37c-.4-.4-.92-.59-1.43-.59-.52 0-1.04.2-1.43.59L10.3 9.45l-7.72 7.72c-.78.78-.78 2.05 0 2.83L4 21.41c.39.39.9.59 1.41.59.51 0 1.02-.2 1.41-.59l7.78-7.78 2.81-2.81c.8-.78.8-2.07 0-2.86zM5.41 20L4 18.59l7.72-7.72 1.47 1.35L5.41 20z\"/>\n",
              "  </svg>\n",
              "      </button>\n",
              "      \n",
              "  <style>\n",
              "    .colab-df-container {\n",
              "      display:flex;\n",
              "      flex-wrap:wrap;\n",
              "      gap: 12px;\n",
              "    }\n",
              "\n",
              "    .colab-df-convert {\n",
              "      background-color: #E8F0FE;\n",
              "      border: none;\n",
              "      border-radius: 50%;\n",
              "      cursor: pointer;\n",
              "      display: none;\n",
              "      fill: #1967D2;\n",
              "      height: 32px;\n",
              "      padding: 0 0 0 0;\n",
              "      width: 32px;\n",
              "    }\n",
              "\n",
              "    .colab-df-convert:hover {\n",
              "      background-color: #E2EBFA;\n",
              "      box-shadow: 0px 1px 2px rgba(60, 64, 67, 0.3), 0px 1px 3px 1px rgba(60, 64, 67, 0.15);\n",
              "      fill: #174EA6;\n",
              "    }\n",
              "\n",
              "    [theme=dark] .colab-df-convert {\n",
              "      background-color: #3B4455;\n",
              "      fill: #D2E3FC;\n",
              "    }\n",
              "\n",
              "    [theme=dark] .colab-df-convert:hover {\n",
              "      background-color: #434B5C;\n",
              "      box-shadow: 0px 1px 3px 1px rgba(0, 0, 0, 0.15);\n",
              "      filter: drop-shadow(0px 1px 2px rgba(0, 0, 0, 0.3));\n",
              "      fill: #FFFFFF;\n",
              "    }\n",
              "  </style>\n",
              "\n",
              "      <script>\n",
              "        const buttonEl =\n",
              "          document.querySelector('#df-4fea395a-717b-4c94-96b6-ae61520f0f72 button.colab-df-convert');\n",
              "        buttonEl.style.display =\n",
              "          google.colab.kernel.accessAllowed ? 'block' : 'none';\n",
              "\n",
              "        async function convertToInteractive(key) {\n",
              "          const element = document.querySelector('#df-4fea395a-717b-4c94-96b6-ae61520f0f72');\n",
              "          const dataTable =\n",
              "            await google.colab.kernel.invokeFunction('convertToInteractive',\n",
              "                                                     [key], {});\n",
              "          if (!dataTable) return;\n",
              "\n",
              "          const docLinkHtml = 'Like what you see? Visit the ' +\n",
              "            '<a target=\"_blank\" href=https://colab.research.google.com/notebooks/data_table.ipynb>data table notebook</a>'\n",
              "            + ' to learn more about interactive tables.';\n",
              "          element.innerHTML = '';\n",
              "          dataTable['output_type'] = 'display_data';\n",
              "          await google.colab.output.renderOutput(dataTable, element);\n",
              "          const docLink = document.createElement('div');\n",
              "          docLink.innerHTML = docLinkHtml;\n",
              "          element.appendChild(docLink);\n",
              "        }\n",
              "      </script>\n",
              "    </div>\n",
              "  </div>\n",
              "  "
            ]
          },
          "metadata": {},
          "execution_count": 27
        }
      ]
    },
    {
      "cell_type": "code",
      "source": [
        "train = train[train['weather']!=4]"
      ],
      "metadata": {
        "id": "c_2NQisnaioJ"
      },
      "execution_count": 28,
      "outputs": []
    },
    {
      "cell_type": "code",
      "source": [
        "drop_features = ['casual', 'atemp', 'datetime', 'date', 'windspeed', 'month', 'temp_band', 'registered']\n",
        "train = train.drop(drop_features, axis=1)"
      ],
      "metadata": {
        "id": "DSUrTaOLJafy"
      },
      "execution_count": 29,
      "outputs": []
    },
    {
      "cell_type": "code",
      "source": [
        "test['temp_cat'] = 0\n",
        "test.loc[test['temp']<=13.94, 'temp_cat'] = 0\n",
        "test.loc[(test['temp']>13.94)&(test['temp']<=20.5), 'temp_cat'] = 1\n",
        "test.loc[(test['temp']>20.5)&(test['temp']<=26.24), 'temp_cat'] = 2\n",
        "test.loc[(test['temp']>26.24)&(test['temp']<=41.0), 'temp_cat'] = 3"
      ],
      "metadata": {
        "id": "pOP_BohqT1gM"
      },
      "execution_count": 30,
      "outputs": []
    },
    {
      "cell_type": "code",
      "source": [
        "test['date'] = test['datetime'].apply(lambda x : x.split()[0])\n",
        "\n",
        "test['year'] = test['datetime'].apply(lambda x : x.split()[0].split('-')[0])\n",
        "test['month'] = test['datetime'].apply(lambda x : x.split()[0].split('-')[1])\n",
        "test['day'] = test['datetime'].apply(lambda x : x.split()[0].split('-')[2])\n",
        "test['hour'] = test['datetime'].apply(lambda x : x.split()[1].split(':')[0])\n",
        "test['minute'] = test['datetime'].apply(lambda x : x.split()[1].split(':')[1])\n",
        "test['second'] = test['datetime'].apply(lambda x : x.split()[1].split(':')[2])\n",
        "\n",
        "test.head()"
      ],
      "metadata": {
        "colab": {
          "base_uri": "https://localhost:8080/",
          "height": 444
        },
        "id": "mki5fIAEVmlv",
        "outputId": "b9bc7edd-a0e4-4efe-e703-123e33eb4750"
      },
      "execution_count": 31,
      "outputs": [
        {
          "output_type": "execute_result",
          "data": {
            "text/plain": [
              "              datetime  season  holiday  workingday  weather   temp   atemp  \\\n",
              "0  2011-01-20 00:00:00       1        0           1        1  10.66  11.365   \n",
              "1  2011-01-20 01:00:00       1        0           1        1  10.66  13.635   \n",
              "2  2011-01-20 02:00:00       1        0           1        1  10.66  13.635   \n",
              "3  2011-01-20 03:00:00       1        0           1        1  10.66  12.880   \n",
              "4  2011-01-20 04:00:00       1        0           1        1  10.66  12.880   \n",
              "\n",
              "   humidity  windspeed  temp_cat        date  year month day hour minute  \\\n",
              "0        56    26.0027         0  2011-01-20  2011    01  20   00     00   \n",
              "1        56     0.0000         0  2011-01-20  2011    01  20   01     00   \n",
              "2        56     0.0000         0  2011-01-20  2011    01  20   02     00   \n",
              "3        56    11.0014         0  2011-01-20  2011    01  20   03     00   \n",
              "4        56    11.0014         0  2011-01-20  2011    01  20   04     00   \n",
              "\n",
              "  second  \n",
              "0     00  \n",
              "1     00  \n",
              "2     00  \n",
              "3     00  \n",
              "4     00  "
            ],
            "text/html": [
              "\n",
              "  <div id=\"df-2423cd28-55ab-4e67-a4a6-a90f5cfab2d9\">\n",
              "    <div class=\"colab-df-container\">\n",
              "      <div>\n",
              "<style scoped>\n",
              "    .dataframe tbody tr th:only-of-type {\n",
              "        vertical-align: middle;\n",
              "    }\n",
              "\n",
              "    .dataframe tbody tr th {\n",
              "        vertical-align: top;\n",
              "    }\n",
              "\n",
              "    .dataframe thead th {\n",
              "        text-align: right;\n",
              "    }\n",
              "</style>\n",
              "<table border=\"1\" class=\"dataframe\">\n",
              "  <thead>\n",
              "    <tr style=\"text-align: right;\">\n",
              "      <th></th>\n",
              "      <th>datetime</th>\n",
              "      <th>season</th>\n",
              "      <th>holiday</th>\n",
              "      <th>workingday</th>\n",
              "      <th>weather</th>\n",
              "      <th>temp</th>\n",
              "      <th>atemp</th>\n",
              "      <th>humidity</th>\n",
              "      <th>windspeed</th>\n",
              "      <th>temp_cat</th>\n",
              "      <th>date</th>\n",
              "      <th>year</th>\n",
              "      <th>month</th>\n",
              "      <th>day</th>\n",
              "      <th>hour</th>\n",
              "      <th>minute</th>\n",
              "      <th>second</th>\n",
              "    </tr>\n",
              "  </thead>\n",
              "  <tbody>\n",
              "    <tr>\n",
              "      <th>0</th>\n",
              "      <td>2011-01-20 00:00:00</td>\n",
              "      <td>1</td>\n",
              "      <td>0</td>\n",
              "      <td>1</td>\n",
              "      <td>1</td>\n",
              "      <td>10.66</td>\n",
              "      <td>11.365</td>\n",
              "      <td>56</td>\n",
              "      <td>26.0027</td>\n",
              "      <td>0</td>\n",
              "      <td>2011-01-20</td>\n",
              "      <td>2011</td>\n",
              "      <td>01</td>\n",
              "      <td>20</td>\n",
              "      <td>00</td>\n",
              "      <td>00</td>\n",
              "      <td>00</td>\n",
              "    </tr>\n",
              "    <tr>\n",
              "      <th>1</th>\n",
              "      <td>2011-01-20 01:00:00</td>\n",
              "      <td>1</td>\n",
              "      <td>0</td>\n",
              "      <td>1</td>\n",
              "      <td>1</td>\n",
              "      <td>10.66</td>\n",
              "      <td>13.635</td>\n",
              "      <td>56</td>\n",
              "      <td>0.0000</td>\n",
              "      <td>0</td>\n",
              "      <td>2011-01-20</td>\n",
              "      <td>2011</td>\n",
              "      <td>01</td>\n",
              "      <td>20</td>\n",
              "      <td>01</td>\n",
              "      <td>00</td>\n",
              "      <td>00</td>\n",
              "    </tr>\n",
              "    <tr>\n",
              "      <th>2</th>\n",
              "      <td>2011-01-20 02:00:00</td>\n",
              "      <td>1</td>\n",
              "      <td>0</td>\n",
              "      <td>1</td>\n",
              "      <td>1</td>\n",
              "      <td>10.66</td>\n",
              "      <td>13.635</td>\n",
              "      <td>56</td>\n",
              "      <td>0.0000</td>\n",
              "      <td>0</td>\n",
              "      <td>2011-01-20</td>\n",
              "      <td>2011</td>\n",
              "      <td>01</td>\n",
              "      <td>20</td>\n",
              "      <td>02</td>\n",
              "      <td>00</td>\n",
              "      <td>00</td>\n",
              "    </tr>\n",
              "    <tr>\n",
              "      <th>3</th>\n",
              "      <td>2011-01-20 03:00:00</td>\n",
              "      <td>1</td>\n",
              "      <td>0</td>\n",
              "      <td>1</td>\n",
              "      <td>1</td>\n",
              "      <td>10.66</td>\n",
              "      <td>12.880</td>\n",
              "      <td>56</td>\n",
              "      <td>11.0014</td>\n",
              "      <td>0</td>\n",
              "      <td>2011-01-20</td>\n",
              "      <td>2011</td>\n",
              "      <td>01</td>\n",
              "      <td>20</td>\n",
              "      <td>03</td>\n",
              "      <td>00</td>\n",
              "      <td>00</td>\n",
              "    </tr>\n",
              "    <tr>\n",
              "      <th>4</th>\n",
              "      <td>2011-01-20 04:00:00</td>\n",
              "      <td>1</td>\n",
              "      <td>0</td>\n",
              "      <td>1</td>\n",
              "      <td>1</td>\n",
              "      <td>10.66</td>\n",
              "      <td>12.880</td>\n",
              "      <td>56</td>\n",
              "      <td>11.0014</td>\n",
              "      <td>0</td>\n",
              "      <td>2011-01-20</td>\n",
              "      <td>2011</td>\n",
              "      <td>01</td>\n",
              "      <td>20</td>\n",
              "      <td>04</td>\n",
              "      <td>00</td>\n",
              "      <td>00</td>\n",
              "    </tr>\n",
              "  </tbody>\n",
              "</table>\n",
              "</div>\n",
              "      <button class=\"colab-df-convert\" onclick=\"convertToInteractive('df-2423cd28-55ab-4e67-a4a6-a90f5cfab2d9')\"\n",
              "              title=\"Convert this dataframe to an interactive table.\"\n",
              "              style=\"display:none;\">\n",
              "        \n",
              "  <svg xmlns=\"http://www.w3.org/2000/svg\" height=\"24px\"viewBox=\"0 0 24 24\"\n",
              "       width=\"24px\">\n",
              "    <path d=\"M0 0h24v24H0V0z\" fill=\"none\"/>\n",
              "    <path d=\"M18.56 5.44l.94 2.06.94-2.06 2.06-.94-2.06-.94-.94-2.06-.94 2.06-2.06.94zm-11 1L8.5 8.5l.94-2.06 2.06-.94-2.06-.94L8.5 2.5l-.94 2.06-2.06.94zm10 10l.94 2.06.94-2.06 2.06-.94-2.06-.94-.94-2.06-.94 2.06-2.06.94z\"/><path d=\"M17.41 7.96l-1.37-1.37c-.4-.4-.92-.59-1.43-.59-.52 0-1.04.2-1.43.59L10.3 9.45l-7.72 7.72c-.78.78-.78 2.05 0 2.83L4 21.41c.39.39.9.59 1.41.59.51 0 1.02-.2 1.41-.59l7.78-7.78 2.81-2.81c.8-.78.8-2.07 0-2.86zM5.41 20L4 18.59l7.72-7.72 1.47 1.35L5.41 20z\"/>\n",
              "  </svg>\n",
              "      </button>\n",
              "      \n",
              "  <style>\n",
              "    .colab-df-container {\n",
              "      display:flex;\n",
              "      flex-wrap:wrap;\n",
              "      gap: 12px;\n",
              "    }\n",
              "\n",
              "    .colab-df-convert {\n",
              "      background-color: #E8F0FE;\n",
              "      border: none;\n",
              "      border-radius: 50%;\n",
              "      cursor: pointer;\n",
              "      display: none;\n",
              "      fill: #1967D2;\n",
              "      height: 32px;\n",
              "      padding: 0 0 0 0;\n",
              "      width: 32px;\n",
              "    }\n",
              "\n",
              "    .colab-df-convert:hover {\n",
              "      background-color: #E2EBFA;\n",
              "      box-shadow: 0px 1px 2px rgba(60, 64, 67, 0.3), 0px 1px 3px 1px rgba(60, 64, 67, 0.15);\n",
              "      fill: #174EA6;\n",
              "    }\n",
              "\n",
              "    [theme=dark] .colab-df-convert {\n",
              "      background-color: #3B4455;\n",
              "      fill: #D2E3FC;\n",
              "    }\n",
              "\n",
              "    [theme=dark] .colab-df-convert:hover {\n",
              "      background-color: #434B5C;\n",
              "      box-shadow: 0px 1px 3px 1px rgba(0, 0, 0, 0.15);\n",
              "      filter: drop-shadow(0px 1px 2px rgba(0, 0, 0, 0.3));\n",
              "      fill: #FFFFFF;\n",
              "    }\n",
              "  </style>\n",
              "\n",
              "      <script>\n",
              "        const buttonEl =\n",
              "          document.querySelector('#df-2423cd28-55ab-4e67-a4a6-a90f5cfab2d9 button.colab-df-convert');\n",
              "        buttonEl.style.display =\n",
              "          google.colab.kernel.accessAllowed ? 'block' : 'none';\n",
              "\n",
              "        async function convertToInteractive(key) {\n",
              "          const element = document.querySelector('#df-2423cd28-55ab-4e67-a4a6-a90f5cfab2d9');\n",
              "          const dataTable =\n",
              "            await google.colab.kernel.invokeFunction('convertToInteractive',\n",
              "                                                     [key], {});\n",
              "          if (!dataTable) return;\n",
              "\n",
              "          const docLinkHtml = 'Like what you see? Visit the ' +\n",
              "            '<a target=\"_blank\" href=https://colab.research.google.com/notebooks/data_table.ipynb>data table notebook</a>'\n",
              "            + ' to learn more about interactive tables.';\n",
              "          element.innerHTML = '';\n",
              "          dataTable['output_type'] = 'display_data';\n",
              "          await google.colab.output.renderOutput(dataTable, element);\n",
              "          const docLink = document.createElement('div');\n",
              "          docLink.innerHTML = docLinkHtml;\n",
              "          element.appendChild(docLink);\n",
              "        }\n",
              "      </script>\n",
              "    </div>\n",
              "  </div>\n",
              "  "
            ]
          },
          "metadata": {},
          "execution_count": 31
        }
      ]
    },
    {
      "cell_type": "code",
      "source": [
        "drop_features = ['atemp', 'datetime', 'date', 'windspeed', 'month']\n",
        "test = test.drop(drop_features, axis=1)"
      ],
      "metadata": {
        "id": "mIlD8jLFV1W2"
      },
      "execution_count": 32,
      "outputs": []
    },
    {
      "cell_type": "markdown",
      "source": [
        "## 4. x, y컬럼 선택과 train/test 데이터 분리"
      ],
      "metadata": {
        "id": "byd49azelU0C"
      }
    },
    {
      "cell_type": "code",
      "source": [
        "y = train['count']\n",
        "train = train.drop('count', axis=1)\n",
        "X_train = train\n",
        "X_test = test"
      ],
      "metadata": {
        "id": "Q2Nrhx98l2_w"
      },
      "execution_count": 33,
      "outputs": []
    },
    {
      "cell_type": "markdown",
      "source": [
        "## 5. LinearRegression 모델 학습"
      ],
      "metadata": {
        "id": "GrN-7pioldFw"
      }
    },
    {
      "cell_type": "code",
      "source": [
        "from sklearn.linear_model import LinearRegression\n",
        "\n",
        "model = LinearRegression()\n",
        "model.fit(X_train, y)\n",
        "y_pred = model.predict(X_train)"
      ],
      "metadata": {
        "id": "unn6z7QFl3cP"
      },
      "execution_count": 34,
      "outputs": []
    },
    {
      "cell_type": "code",
      "source": [
        "X_train.shape, y.shape, y_pred.shape, X_test.shape"
      ],
      "metadata": {
        "colab": {
          "base_uri": "https://localhost:8080/"
        },
        "id": "NjZmdD3bbgoe",
        "outputId": "955fa12d-416c-4c80-8f66-41e9cfbb5ae0"
      },
      "execution_count": 35,
      "outputs": [
        {
          "output_type": "execute_result",
          "data": {
            "text/plain": [
              "((10885, 12), (10885,), (10885,), (6493, 12))"
            ]
          },
          "metadata": {},
          "execution_count": 35
        }
      ]
    },
    {
      "cell_type": "markdown",
      "source": [
        "## 6. 학습된 모델로 X_test에 대한 예측값 출력 및 손실함수값 계산"
      ],
      "metadata": {
        "id": "5zgBEdTfljb5"
      }
    },
    {
      "cell_type": "code",
      "source": [
        "#평가지표 계산 함수 정의\n",
        "def r2_square(y, y_pred):\n",
        "  loss = sum((y-y_pred)**2) / sum((y-y.mean())**2)\n",
        "  return loss\n",
        "\n",
        "def mse(y, y_pred):\n",
        "  \n",
        "  loss = np.mean((y-y_pred)**2)\n",
        "  return loss\n",
        "\n",
        "def rmse(y, y_pred):\n",
        "  loss = np.sqrt(mse(y, y_pred))\n",
        "  return loss"
      ],
      "metadata": {
        "id": "ksLi_rXAl387"
      },
      "execution_count": 36,
      "outputs": []
    },
    {
      "cell_type": "code",
      "source": [
        "print(f'선형회귀의 r2_square값 : {r2_square(y, y_pred):.4f}')\n",
        "print(f'선형회귀의 mse값 : {mse(y, y_pred):.4f}')\n",
        "print(f'선형회귀의 rmse값 : {rmse(y, y_pred):.4f}')"
      ],
      "metadata": {
        "colab": {
          "base_uri": "https://localhost:8080/"
        },
        "id": "BVzMEP65aN6V",
        "outputId": "dbf8adb9-6cc7-49f0-d392-4bc55f3bd846"
      },
      "execution_count": 37,
      "outputs": [
        {
          "output_type": "stream",
          "name": "stdout",
          "text": [
            "선형회귀의 r2_square값 : 0.6137\n",
            "선형회귀의 mse값 : 20137.3749\n",
            "선형회귀의 rmse값 : 141.9062\n"
          ]
        }
      ]
    },
    {
      "cell_type": "markdown",
      "source": [
        "## 7. x축은 temp 또는 humidity로, y축은 count로 예측 결과 시각화하기"
      ],
      "metadata": {
        "id": "abVrsgfvlqoW"
      }
    },
    {
      "cell_type": "code",
      "source": [
        "from sklearn.linear_model import LinearRegression\n",
        "\n",
        "model = LinearRegression()\n",
        "model.fit(X_train, y)\n",
        "y_pred_2 = model.predict(X_test)"
      ],
      "metadata": {
        "colab": {
          "base_uri": "https://localhost:8080/"
        },
        "id": "MZUcfYD34IDM",
        "outputId": "8a1ec1e2-0869-49b3-bebc-3a2caa3495de"
      },
      "execution_count": 38,
      "outputs": [
        {
          "output_type": "stream",
          "name": "stderr",
          "text": [
            "/usr/local/lib/python3.7/dist-packages/sklearn/base.py:493: FutureWarning: The feature names should match those that were passed during fit. Starting version 1.2, an error will be raised.\n",
            "Feature names must be in the same order as they were in fit.\n",
            "\n",
            "  warnings.warn(message, FutureWarning)\n"
          ]
        }
      ]
    },
    {
      "cell_type": "code",
      "source": [
        "f, ax = plt.subplots(1, 2, figsize=(12,10))\n",
        "point1 = sns.pointplot(x='temp', y= y, data=train, ax=ax[0]) \n",
        "point2 = sns.pointplot(x='temp', y= y_pred_2, data=test, ax=ax[1]) "
      ],
      "metadata": {
        "id": "9dBGm32El4dP",
        "colab": {
          "base_uri": "https://localhost:8080/",
          "height": 606
        },
        "outputId": "1992b8fb-6c7f-4260-d5f6-260aa67536cf"
      },
      "execution_count": 39,
      "outputs": [
        {
          "output_type": "display_data",
          "data": {
            "text/plain": [
              "<Figure size 864x720 with 2 Axes>"
            ],
            "image/png": "[encoded data removed]"
          },
          "metadata": {
            "needs_background": "light"
          }
        }
      ]
    },
    {
      "cell_type": "markdown",
      "source": [
        "# 회고"
      ],
      "metadata": {
        "id": "8nl7JktYWxW2"
      }
    },
    {
      "cell_type": "code",
      "source": [
        "'''# feature의 갯수에 맞는 w, b 정하기\n",
        "import numpy as np\n",
        "\n",
        "W = np.random.rand(10)\n",
        "b = np.random.rand()\n",
        "\n",
        "print(W)\n",
        "print(b)\n",
        "\n",
        "# model 준비하기\n",
        "\n",
        "def model(X, W, b):\n",
        "  prediction = 0\n",
        "  for i in range(10):\n",
        "    prediction = prediction + X[:,i] * W[i]\n",
        "  prediction = prediction + b\n",
        "  return prediction\n",
        "\n",
        "\n",
        "#R-Squre 함수 정의\n",
        "def rsqr(a, b):\n",
        "  rsqr = sum((a-b)**2)/sum((b-b.mean())**2)\n",
        "  return rsqr\n",
        "\n",
        "\n",
        "#손실함수 정의\n",
        "def loss(X, W, b, y):\n",
        "  predictions = model(X, W, b)\n",
        "  L = rsqr(predictions, y) #손실\n",
        "  return L\n",
        "\n",
        "\n",
        "def gradient_rsqr(X, W, b, y):\n",
        "  N = len(W)\n",
        "  #y_pred 준비\n",
        "  y_pred = model(X, W, b)\n",
        "\n",
        "  #dw 계산\n",
        "  dw = 1/N * (2 * X.T.dot(y_pred - y) / sum((y-y.mean())**2))\n",
        "\n",
        "  #db 계산\n",
        "  db = 1/N * ((2 * (y_pred - y))/sum((y-y.mean())**2))\n",
        "\n",
        "  return dw, db\n",
        "\n",
        "\n",
        "losses = []\n",
        "\n",
        "for i in range(1, 1001):\n",
        "  dw, db = gradient_rsqr(X_train, W, b, y_train)\n",
        "  W -= learning_rate*dw\n",
        "  b -= learning_rate*db\n",
        "  L = loss(X_train, W, b, y_train)\n",
        "  losses.append(L)\n",
        "  if i % 10 == 0 :\n",
        "    print('Iteration %d : Loss %.4f' %(i, L))'''"
      ],
      "metadata": {
        "id": "OR9CUV08W0ol"
      },
      "execution_count": null,
      "outputs": []
    }
  ]
}