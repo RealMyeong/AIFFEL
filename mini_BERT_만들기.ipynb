{
  "nbformat": 4,
  "nbformat_minor": 0,
  "metadata": {
    "colab": {
      "provenance": [],
      "mount_file_id": "1qvlrt-JRNMk53lf5P46Tg1Pi0lugFJ0N",
      "authorship_tag": "ABX9TyP7LUhtQe76GwGxFarv+ynM",
      "include_colab_link": true
    },
    "kernelspec": {
      "name": "python3",
      "display_name": "Python 3"
    },
    "language_info": {
      "name": "python"
    },
    "accelerator": "GPU",
    "gpuClass": "standard",
    "widgets": {
      "application/vnd.jupyter.widget-state+json": {
        "74c4be16167f4fd7a70c24f2df17af96": {
          "model_module": "@jupyter-widgets/controls",
          "model_name": "HBoxModel",
          "model_module_version": "1.5.0",
          "state": {
            "_dom_classes": [],
            "_model_module": "@jupyter-widgets/controls",
            "_model_module_version": "1.5.0",
            "_model_name": "HBoxModel",
            "_view_count": null,
            "_view_module": "@jupyter-widgets/controls",
            "_view_module_version": "1.5.0",
            "_view_name": "HBoxView",
            "box_style": "",
            "children": [
              "IPY_MODEL_6580b4231ff54b19a725b6b4f4485556",
              "IPY_MODEL_78fde47ca27f4e46bb28c3271445fcfe",
              "IPY_MODEL_449e15b664db4298b725dcd952a72945"
            ],
            "layout": "IPY_MODEL_387208841a85478e8ea32069e33d4417"
          }
        },
        "6580b4231ff54b19a725b6b4f4485556": {
          "model_module": "@jupyter-widgets/controls",
          "model_name": "HTMLModel",
          "model_module_version": "1.5.0",
          "state": {
            "_dom_classes": [],
            "_model_module": "@jupyter-widgets/controls",
            "_model_module_version": "1.5.0",
            "_model_name": "HTMLModel",
            "_view_count": null,
            "_view_module": "@jupyter-widgets/controls",
            "_view_module_version": "1.5.0",
            "_view_name": "HTMLView",
            "description": "",
            "description_tooltip": null,
            "layout": "IPY_MODEL_5aea43c6da134de98e8ae0af6c00f1c7",
            "placeholder": "​",
            "style": "IPY_MODEL_a2d907251c38419698236882e64c511f",
            "value": "  0%"
          }
        },
        "78fde47ca27f4e46bb28c3271445fcfe": {
          "model_module": "@jupyter-widgets/controls",
          "model_name": "FloatProgressModel",
          "model_module_version": "1.5.0",
          "state": {
            "_dom_classes": [],
            "_model_module": "@jupyter-widgets/controls",
            "_model_module_version": "1.5.0",
            "_model_name": "FloatProgressModel",
            "_view_count": null,
            "_view_module": "@jupyter-widgets/controls",
            "_view_module_version": "1.5.0",
            "_view_name": "ProgressView",
            "bar_style": "danger",
            "description": "",
            "description_tooltip": null,
            "layout": "IPY_MODEL_ac08b735e7834f2d946420b654efaa47",
            "max": 3957761,
            "min": 0,
            "orientation": "horizontal",
            "style": "IPY_MODEL_1e6515aa15ae47f1897a913f56b1a122",
            "value": 105
          }
        },
        "449e15b664db4298b725dcd952a72945": {
          "model_module": "@jupyter-widgets/controls",
          "model_name": "HTMLModel",
          "model_module_version": "1.5.0",
          "state": {
            "_dom_classes": [],
            "_model_module": "@jupyter-widgets/controls",
            "_model_module_version": "1.5.0",
            "_model_name": "HTMLModel",
            "_view_count": null,
            "_view_module": "@jupyter-widgets/controls",
            "_view_module_version": "1.5.0",
            "_view_name": "HTMLView",
            "description": "",
            "description_tooltip": null,
            "layout": "IPY_MODEL_d6dd4911186a4cc89a5f4ee46ea0bdd9",
            "placeholder": "​",
            "style": "IPY_MODEL_9600fa67026b4b5caadfcae769fceb99",
            "value": " 105/3957761 [00:00&lt;43:11, 1527.42it/s]"
          }
        },
        "387208841a85478e8ea32069e33d4417": {
          "model_module": "@jupyter-widgets/base",
          "model_name": "LayoutModel",
          "model_module_version": "1.2.0",
          "state": {
            "_model_module": "@jupyter-widgets/base",
            "_model_module_version": "1.2.0",
            "_model_name": "LayoutModel",
            "_view_count": null,
            "_view_module": "@jupyter-widgets/base",
            "_view_module_version": "1.2.0",
            "_view_name": "LayoutView",
            "align_content": null,
            "align_items": null,
            "align_self": null,
            "border": null,
            "bottom": null,
            "display": null,
            "flex": null,
            "flex_flow": null,
            "grid_area": null,
            "grid_auto_columns": null,
            "grid_auto_flow": null,
            "grid_auto_rows": null,
            "grid_column": null,
            "grid_gap": null,
            "grid_row": null,
            "grid_template_areas": null,
            "grid_template_columns": null,
            "grid_template_rows": null,
            "height": null,
            "justify_content": null,
            "justify_items": null,
            "left": null,
            "margin": null,
            "max_height": null,
            "max_width": null,
            "min_height": null,
            "min_width": null,
            "object_fit": null,
            "object_position": null,
            "order": null,
            "overflow": null,
            "overflow_x": null,
            "overflow_y": null,
            "padding": null,
            "right": null,
            "top": null,
            "visibility": null,
            "width": null
          }
        },
        "5aea43c6da134de98e8ae0af6c00f1c7": {
          "model_module": "@jupyter-widgets/base",
          "model_name": "LayoutModel",
          "model_module_version": "1.2.0",
          "state": {
            "_model_module": "@jupyter-widgets/base",
            "_model_module_version": "1.2.0",
            "_model_name": "LayoutModel",
            "_view_count": null,
            "_view_module": "@jupyter-widgets/base",
            "_view_module_version": "1.2.0",
            "_view_name": "LayoutView",
            "align_content": null,
            "align_items": null,
            "align_self": null,
            "border": null,
            "bottom": null,
            "display": null,
            "flex": null,
            "flex_flow": null,
            "grid_area": null,
            "grid_auto_columns": null,
            "grid_auto_flow": null,
            "grid_auto_rows": null,
            "grid_column": null,
            "grid_gap": null,
            "grid_row": null,
            "grid_template_areas": null,
            "grid_template_columns": null,
            "grid_template_rows": null,
            "height": null,
            "justify_content": null,
            "justify_items": null,
            "left": null,
            "margin": null,
            "max_height": null,
            "max_width": null,
            "min_height": null,
            "min_width": null,
            "object_fit": null,
            "object_position": null,
            "order": null,
            "overflow": null,
            "overflow_x": null,
            "overflow_y": null,
            "padding": null,
            "right": null,
            "top": null,
            "visibility": null,
            "width": null
          }
        },
        "a2d907251c38419698236882e64c511f": {
          "model_module": "@jupyter-widgets/controls",
          "model_name": "DescriptionStyleModel",
          "model_module_version": "1.5.0",
          "state": {
            "_model_module": "@jupyter-widgets/controls",
            "_model_module_version": "1.5.0",
            "_model_name": "DescriptionStyleModel",
            "_view_count": null,
            "_view_module": "@jupyter-widgets/base",
            "_view_module_version": "1.2.0",
            "_view_name": "StyleView",
            "description_width": ""
          }
        },
        "ac08b735e7834f2d946420b654efaa47": {
          "model_module": "@jupyter-widgets/base",
          "model_name": "LayoutModel",
          "model_module_version": "1.2.0",
          "state": {
            "_model_module": "@jupyter-widgets/base",
            "_model_module_version": "1.2.0",
            "_model_name": "LayoutModel",
            "_view_count": null,
            "_view_module": "@jupyter-widgets/base",
            "_view_module_version": "1.2.0",
            "_view_name": "LayoutView",
            "align_content": null,
            "align_items": null,
            "align_self": null,
            "border": null,
            "bottom": null,
            "display": null,
            "flex": null,
            "flex_flow": null,
            "grid_area": null,
            "grid_auto_columns": null,
            "grid_auto_flow": null,
            "grid_auto_rows": null,
            "grid_column": null,
            "grid_gap": null,
            "grid_row": null,
            "grid_template_areas": null,
            "grid_template_columns": null,
            "grid_template_rows": null,
            "height": null,
            "justify_content": null,
            "justify_items": null,
            "left": null,
            "margin": null,
            "max_height": null,
            "max_width": null,
            "min_height": null,
            "min_width": null,
            "object_fit": null,
            "object_position": null,
            "order": null,
            "overflow": null,
            "overflow_x": null,
            "overflow_y": null,
            "padding": null,
            "right": null,
            "top": null,
            "visibility": null,
            "width": null
          }
        },
        "1e6515aa15ae47f1897a913f56b1a122": {
          "model_module": "@jupyter-widgets/controls",
          "model_name": "ProgressStyleModel",
          "model_module_version": "1.5.0",
          "state": {
            "_model_module": "@jupyter-widgets/controls",
            "_model_module_version": "1.5.0",
            "_model_name": "ProgressStyleModel",
            "_view_count": null,
            "_view_module": "@jupyter-widgets/base",
            "_view_module_version": "1.2.0",
            "_view_name": "StyleView",
            "bar_color": null,
            "description_width": ""
          }
        },
        "d6dd4911186a4cc89a5f4ee46ea0bdd9": {
          "model_module": "@jupyter-widgets/base",
          "model_name": "LayoutModel",
          "model_module_version": "1.2.0",
          "state": {
            "_model_module": "@jupyter-widgets/base",
            "_model_module_version": "1.2.0",
            "_model_name": "LayoutModel",
            "_view_count": null,
            "_view_module": "@jupyter-widgets/base",
            "_view_module_version": "1.2.0",
            "_view_name": "LayoutView",
            "align_content": null,
            "align_items": null,
            "align_self": null,
            "border": null,
            "bottom": null,
            "display": null,
            "flex": null,
            "flex_flow": null,
            "grid_area": null,
            "grid_auto_columns": null,
            "grid_auto_flow": null,
            "grid_auto_rows": null,
            "grid_column": null,
            "grid_gap": null,
            "grid_row": null,
            "grid_template_areas": null,
            "grid_template_columns": null,
            "grid_template_rows": null,
            "height": null,
            "justify_content": null,
            "justify_items": null,
            "left": null,
            "margin": null,
            "max_height": null,
            "max_width": null,
            "min_height": null,
            "min_width": null,
            "object_fit": null,
            "object_position": null,
            "order": null,
            "overflow": null,
            "overflow_x": null,
            "overflow_y": null,
            "padding": null,
            "right": null,
            "top": null,
            "visibility": null,
            "width": null
          }
        },
        "9600fa67026b4b5caadfcae769fceb99": {
          "model_module": "@jupyter-widgets/controls",
          "model_name": "DescriptionStyleModel",
          "model_module_version": "1.5.0",
          "state": {
            "_model_module": "@jupyter-widgets/controls",
            "_model_module_version": "1.5.0",
            "_model_name": "DescriptionStyleModel",
            "_view_count": null,
            "_view_module": "@jupyter-widgets/base",
            "_view_module_version": "1.2.0",
            "_view_name": "StyleView",
            "description_width": ""
          }
        },
        "be72ae5f6cf6409789a960a8d7315962": {
          "model_module": "@jupyter-widgets/controls",
          "model_name": "HBoxModel",
          "model_module_version": "1.5.0",
          "state": {
            "_dom_classes": [],
            "_model_module": "@jupyter-widgets/controls",
            "_model_module_version": "1.5.0",
            "_model_name": "HBoxModel",
            "_view_count": null,
            "_view_module": "@jupyter-widgets/controls",
            "_view_module_version": "1.5.0",
            "_view_name": "HBoxView",
            "box_style": "",
            "children": [
              "IPY_MODEL_ba3a9fa4fe1c46c2b77fe745df16ee9b",
              "IPY_MODEL_ebeeb4efcce04b75a89c1c097fd46ea1",
              "IPY_MODEL_003497e093df462c867180f9bd1e5ca0"
            ],
            "layout": "IPY_MODEL_caa6b4ee16ae437d8dc97dbcea837bfb"
          }
        },
        "ba3a9fa4fe1c46c2b77fe745df16ee9b": {
          "model_module": "@jupyter-widgets/controls",
          "model_name": "HTMLModel",
          "model_module_version": "1.5.0",
          "state": {
            "_dom_classes": [],
            "_model_module": "@jupyter-widgets/controls",
            "_model_module_version": "1.5.0",
            "_model_name": "HTMLModel",
            "_view_count": null,
            "_view_module": "@jupyter-widgets/controls",
            "_view_module_version": "1.5.0",
            "_view_name": "HTMLView",
            "description": "",
            "description_tooltip": null,
            "layout": "IPY_MODEL_0ffec2d519cf4927bd1e64964ed50f70",
            "placeholder": "​",
            "style": "IPY_MODEL_9fa150fae92044daa7675a7795b71d83",
            "value": "  0%"
          }
        },
        "ebeeb4efcce04b75a89c1c097fd46ea1": {
          "model_module": "@jupyter-widgets/controls",
          "model_name": "FloatProgressModel",
          "model_module_version": "1.5.0",
          "state": {
            "_dom_classes": [],
            "_model_module": "@jupyter-widgets/controls",
            "_model_module_version": "1.5.0",
            "_model_name": "FloatProgressModel",
            "_view_count": null,
            "_view_module": "@jupyter-widgets/controls",
            "_view_module_version": "1.5.0",
            "_view_name": "ProgressView",
            "bar_style": "danger",
            "description": "",
            "description_tooltip": null,
            "layout": "IPY_MODEL_d8fc0b63972a444cb39b07aefbb1ba21",
            "max": 3957761,
            "min": 0,
            "orientation": "horizontal",
            "style": "IPY_MODEL_9a1a04a74d3e43a2a2b822a3a81b9488",
            "value": 105
          }
        },
        "003497e093df462c867180f9bd1e5ca0": {
          "model_module": "@jupyter-widgets/controls",
          "model_name": "HTMLModel",
          "model_module_version": "1.5.0",
          "state": {
            "_dom_classes": [],
            "_model_module": "@jupyter-widgets/controls",
            "_model_module_version": "1.5.0",
            "_model_name": "HTMLModel",
            "_view_count": null,
            "_view_module": "@jupyter-widgets/controls",
            "_view_module_version": "1.5.0",
            "_view_name": "HTMLView",
            "description": "",
            "description_tooltip": null,
            "layout": "IPY_MODEL_9b519a19185c48d69a52b1afa1ae390a",
            "placeholder": "​",
            "style": "IPY_MODEL_f00700e9f5b442218c238df8928d8656",
            "value": " 105/3957761 [00:00&lt;37:52, 1741.68it/s]"
          }
        },
        "caa6b4ee16ae437d8dc97dbcea837bfb": {
          "model_module": "@jupyter-widgets/base",
          "model_name": "LayoutModel",
          "model_module_version": "1.2.0",
          "state": {
            "_model_module": "@jupyter-widgets/base",
            "_model_module_version": "1.2.0",
            "_model_name": "LayoutModel",
            "_view_count": null,
            "_view_module": "@jupyter-widgets/base",
            "_view_module_version": "1.2.0",
            "_view_name": "LayoutView",
            "align_content": null,
            "align_items": null,
            "align_self": null,
            "border": null,
            "bottom": null,
            "display": null,
            "flex": null,
            "flex_flow": null,
            "grid_area": null,
            "grid_auto_columns": null,
            "grid_auto_flow": null,
            "grid_auto_rows": null,
            "grid_column": null,
            "grid_gap": null,
            "grid_row": null,
            "grid_template_areas": null,
            "grid_template_columns": null,
            "grid_template_rows": null,
            "height": null,
            "justify_content": null,
            "justify_items": null,
            "left": null,
            "margin": null,
            "max_height": null,
            "max_width": null,
            "min_height": null,
            "min_width": null,
            "object_fit": null,
            "object_position": null,
            "order": null,
            "overflow": null,
            "overflow_x": null,
            "overflow_y": null,
            "padding": null,
            "right": null,
            "top": null,
            "visibility": null,
            "width": null
          }
        },
        "0ffec2d519cf4927bd1e64964ed50f70": {
          "model_module": "@jupyter-widgets/base",
          "model_name": "LayoutModel",
          "model_module_version": "1.2.0",
          "state": {
            "_model_module": "@jupyter-widgets/base",
            "_model_module_version": "1.2.0",
            "_model_name": "LayoutModel",
            "_view_count": null,
            "_view_module": "@jupyter-widgets/base",
            "_view_module_version": "1.2.0",
            "_view_name": "LayoutView",
            "align_content": null,
            "align_items": null,
            "align_self": null,
            "border": null,
            "bottom": null,
            "display": null,
            "flex": null,
            "flex_flow": null,
            "grid_area": null,
            "grid_auto_columns": null,
            "grid_auto_flow": null,
            "grid_auto_rows": null,
            "grid_column": null,
            "grid_gap": null,
            "grid_row": null,
            "grid_template_areas": null,
            "grid_template_columns": null,
            "grid_template_rows": null,
            "height": null,
            "justify_content": null,
            "justify_items": null,
            "left": null,
            "margin": null,
            "max_height": null,
            "max_width": null,
            "min_height": null,
            "min_width": null,
            "object_fit": null,
            "object_position": null,
            "order": null,
            "overflow": null,
            "overflow_x": null,
            "overflow_y": null,
            "padding": null,
            "right": null,
            "top": null,
            "visibility": null,
            "width": null
          }
        },
        "9fa150fae92044daa7675a7795b71d83": {
          "model_module": "@jupyter-widgets/controls",
          "model_name": "DescriptionStyleModel",
          "model_module_version": "1.5.0",
          "state": {
            "_model_module": "@jupyter-widgets/controls",
            "_model_module_version": "1.5.0",
            "_model_name": "DescriptionStyleModel",
            "_view_count": null,
            "_view_module": "@jupyter-widgets/base",
            "_view_module_version": "1.2.0",
            "_view_name": "StyleView",
            "description_width": ""
          }
        },
        "d8fc0b63972a444cb39b07aefbb1ba21": {
          "model_module": "@jupyter-widgets/base",
          "model_name": "LayoutModel",
          "model_module_version": "1.2.0",
          "state": {
            "_model_module": "@jupyter-widgets/base",
            "_model_module_version": "1.2.0",
            "_model_name": "LayoutModel",
            "_view_count": null,
            "_view_module": "@jupyter-widgets/base",
            "_view_module_version": "1.2.0",
            "_view_name": "LayoutView",
            "align_content": null,
            "align_items": null,
            "align_self": null,
            "border": null,
            "bottom": null,
            "display": null,
            "flex": null,
            "flex_flow": null,
            "grid_area": null,
            "grid_auto_columns": null,
            "grid_auto_flow": null,
            "grid_auto_rows": null,
            "grid_column": null,
            "grid_gap": null,
            "grid_row": null,
            "grid_template_areas": null,
            "grid_template_columns": null,
            "grid_template_rows": null,
            "height": null,
            "justify_content": null,
            "justify_items": null,
            "left": null,
            "margin": null,
            "max_height": null,
            "max_width": null,
            "min_height": null,
            "min_width": null,
            "object_fit": null,
            "object_position": null,
            "order": null,
            "overflow": null,
            "overflow_x": null,
            "overflow_y": null,
            "padding": null,
            "right": null,
            "top": null,
            "visibility": null,
            "width": null
          }
        },
        "9a1a04a74d3e43a2a2b822a3a81b9488": {
          "model_module": "@jupyter-widgets/controls",
          "model_name": "ProgressStyleModel",
          "model_module_version": "1.5.0",
          "state": {
            "_model_module": "@jupyter-widgets/controls",
            "_model_module_version": "1.5.0",
            "_model_name": "ProgressStyleModel",
            "_view_count": null,
            "_view_module": "@jupyter-widgets/base",
            "_view_module_version": "1.2.0",
            "_view_name": "StyleView",
            "bar_color": null,
            "description_width": ""
          }
        },
        "9b519a19185c48d69a52b1afa1ae390a": {
          "model_module": "@jupyter-widgets/base",
          "model_name": "LayoutModel",
          "model_module_version": "1.2.0",
          "state": {
            "_model_module": "@jupyter-widgets/base",
            "_model_module_version": "1.2.0",
            "_model_name": "LayoutModel",
            "_view_count": null,
            "_view_module": "@jupyter-widgets/base",
            "_view_module_version": "1.2.0",
            "_view_name": "LayoutView",
            "align_content": null,
            "align_items": null,
            "align_self": null,
            "border": null,
            "bottom": null,
            "display": null,
            "flex": null,
            "flex_flow": null,
            "grid_area": null,
            "grid_auto_columns": null,
            "grid_auto_flow": null,
            "grid_auto_rows": null,
            "grid_column": null,
            "grid_gap": null,
            "grid_row": null,
            "grid_template_areas": null,
            "grid_template_columns": null,
            "grid_template_rows": null,
            "height": null,
            "justify_content": null,
            "justify_items": null,
            "left": null,
            "margin": null,
            "max_height": null,
            "max_width": null,
            "min_height": null,
            "min_width": null,
            "object_fit": null,
            "object_position": null,
            "order": null,
            "overflow": null,
            "overflow_x": null,
            "overflow_y": null,
            "padding": null,
            "right": null,
            "top": null,
            "visibility": null,
            "width": null
          }
        },
        "f00700e9f5b442218c238df8928d8656": {
          "model_module": "@jupyter-widgets/controls",
          "model_name": "DescriptionStyleModel",
          "model_module_version": "1.5.0",
          "state": {
            "_model_module": "@jupyter-widgets/controls",
            "_model_module_version": "1.5.0",
            "_model_name": "DescriptionStyleModel",
            "_view_count": null,
            "_view_module": "@jupyter-widgets/base",
            "_view_module_version": "1.2.0",
            "_view_name": "StyleView",
            "description_width": ""
          }
        },
        "6bc8cd3e958946a49d3c22fb6707313a": {
          "model_module": "@jupyter-widgets/controls",
          "model_name": "HBoxModel",
          "model_module_version": "1.5.0",
          "state": {
            "_dom_classes": [],
            "_model_module": "@jupyter-widgets/controls",
            "_model_module_version": "1.5.0",
            "_model_name": "HBoxModel",
            "_view_count": null,
            "_view_module": "@jupyter-widgets/controls",
            "_view_module_version": "1.5.0",
            "_view_name": "HBoxView",
            "box_style": "",
            "children": [
              "IPY_MODEL_996e2db3fbbb44b0bcd8db3c023369a5",
              "IPY_MODEL_1a8b76a860fc4d9a89a20e23fe74f48a",
              "IPY_MODEL_f9a7c0193e6e4563b34670d055a1c540"
            ],
            "layout": "IPY_MODEL_7d7f17dafd78479893f0ce280a9a5b74"
          }
        },
        "996e2db3fbbb44b0bcd8db3c023369a5": {
          "model_module": "@jupyter-widgets/controls",
          "model_name": "HTMLModel",
          "model_module_version": "1.5.0",
          "state": {
            "_dom_classes": [],
            "_model_module": "@jupyter-widgets/controls",
            "_model_module_version": "1.5.0",
            "_model_name": "HTMLModel",
            "_view_count": null,
            "_view_module": "@jupyter-widgets/controls",
            "_view_module_version": "1.5.0",
            "_view_name": "HTMLView",
            "description": "",
            "description_tooltip": null,
            "layout": "IPY_MODEL_9ac85e3ce3484923ac5a1ebd542a4054",
            "placeholder": "​",
            "style": "IPY_MODEL_a96af1424dc44f898ef12f0edc28614b",
            "value": "100%"
          }
        },
        "1a8b76a860fc4d9a89a20e23fe74f48a": {
          "model_module": "@jupyter-widgets/controls",
          "model_name": "FloatProgressModel",
          "model_module_version": "1.5.0",
          "state": {
            "_dom_classes": [],
            "_model_module": "@jupyter-widgets/controls",
            "_model_module_version": "1.5.0",
            "_model_name": "FloatProgressModel",
            "_view_count": null,
            "_view_module": "@jupyter-widgets/controls",
            "_view_module_version": "1.5.0",
            "_view_name": "ProgressView",
            "bar_style": "success",
            "description": "",
            "description_tooltip": null,
            "layout": "IPY_MODEL_d1fdcf00b35e4665b854d0d923a86a3c",
            "max": 3957761,
            "min": 0,
            "orientation": "horizontal",
            "style": "IPY_MODEL_1c48ef257cd54dbab26a4e0f59976e7e",
            "value": 3957761
          }
        },
        "f9a7c0193e6e4563b34670d055a1c540": {
          "model_module": "@jupyter-widgets/controls",
          "model_name": "HTMLModel",
          "model_module_version": "1.5.0",
          "state": {
            "_dom_classes": [],
            "_model_module": "@jupyter-widgets/controls",
            "_model_module_version": "1.5.0",
            "_model_name": "HTMLModel",
            "_view_count": null,
            "_view_module": "@jupyter-widgets/controls",
            "_view_module_version": "1.5.0",
            "_view_name": "HTMLView",
            "description": "",
            "description_tooltip": null,
            "layout": "IPY_MODEL_46c77deee5db47ffa4a884acc559bc20",
            "placeholder": "​",
            "style": "IPY_MODEL_8df034d37f5c41aab983401355c63581",
            "value": " 3957761/3957761 [05:23&lt;00:00, 17931.10it/s]"
          }
        },
        "7d7f17dafd78479893f0ce280a9a5b74": {
          "model_module": "@jupyter-widgets/base",
          "model_name": "LayoutModel",
          "model_module_version": "1.2.0",
          "state": {
            "_model_module": "@jupyter-widgets/base",
            "_model_module_version": "1.2.0",
            "_model_name": "LayoutModel",
            "_view_count": null,
            "_view_module": "@jupyter-widgets/base",
            "_view_module_version": "1.2.0",
            "_view_name": "LayoutView",
            "align_content": null,
            "align_items": null,
            "align_self": null,
            "border": null,
            "bottom": null,
            "display": null,
            "flex": null,
            "flex_flow": null,
            "grid_area": null,
            "grid_auto_columns": null,
            "grid_auto_flow": null,
            "grid_auto_rows": null,
            "grid_column": null,
            "grid_gap": null,
            "grid_row": null,
            "grid_template_areas": null,
            "grid_template_columns": null,
            "grid_template_rows": null,
            "height": null,
            "justify_content": null,
            "justify_items": null,
            "left": null,
            "margin": null,
            "max_height": null,
            "max_width": null,
            "min_height": null,
            "min_width": null,
            "object_fit": null,
            "object_position": null,
            "order": null,
            "overflow": null,
            "overflow_x": null,
            "overflow_y": null,
            "padding": null,
            "right": null,
            "top": null,
            "visibility": null,
            "width": null
          }
        },
        "9ac85e3ce3484923ac5a1ebd542a4054": {
          "model_module": "@jupyter-widgets/base",
          "model_name": "LayoutModel",
          "model_module_version": "1.2.0",
          "state": {
            "_model_module": "@jupyter-widgets/base",
            "_model_module_version": "1.2.0",
            "_model_name": "LayoutModel",
            "_view_count": null,
            "_view_module": "@jupyter-widgets/base",
            "_view_module_version": "1.2.0",
            "_view_name": "LayoutView",
            "align_content": null,
            "align_items": null,
            "align_self": null,
            "border": null,
            "bottom": null,
            "display": null,
            "flex": null,
            "flex_flow": null,
            "grid_area": null,
            "grid_auto_columns": null,
            "grid_auto_flow": null,
            "grid_auto_rows": null,
            "grid_column": null,
            "grid_gap": null,
            "grid_row": null,
            "grid_template_areas": null,
            "grid_template_columns": null,
            "grid_template_rows": null,
            "height": null,
            "justify_content": null,
            "justify_items": null,
            "left": null,
            "margin": null,
            "max_height": null,
            "max_width": null,
            "min_height": null,
            "min_width": null,
            "object_fit": null,
            "object_position": null,
            "order": null,
            "overflow": null,
            "overflow_x": null,
            "overflow_y": null,
            "padding": null,
            "right": null,
            "top": null,
            "visibility": null,
            "width": null
          }
        },
        "a96af1424dc44f898ef12f0edc28614b": {
          "model_module": "@jupyter-widgets/controls",
          "model_name": "DescriptionStyleModel",
          "model_module_version": "1.5.0",
          "state": {
            "_model_module": "@jupyter-widgets/controls",
            "_model_module_version": "1.5.0",
            "_model_name": "DescriptionStyleModel",
            "_view_count": null,
            "_view_module": "@jupyter-widgets/base",
            "_view_module_version": "1.2.0",
            "_view_name": "StyleView",
            "description_width": ""
          }
        },
        "d1fdcf00b35e4665b854d0d923a86a3c": {
          "model_module": "@jupyter-widgets/base",
          "model_name": "LayoutModel",
          "model_module_version": "1.2.0",
          "state": {
            "_model_module": "@jupyter-widgets/base",
            "_model_module_version": "1.2.0",
            "_model_name": "LayoutModel",
            "_view_count": null,
            "_view_module": "@jupyter-widgets/base",
            "_view_module_version": "1.2.0",
            "_view_name": "LayoutView",
            "align_content": null,
            "align_items": null,
            "align_self": null,
            "border": null,
            "bottom": null,
            "display": null,
            "flex": null,
            "flex_flow": null,
            "grid_area": null,
            "grid_auto_columns": null,
            "grid_auto_flow": null,
            "grid_auto_rows": null,
            "grid_column": null,
            "grid_gap": null,
            "grid_row": null,
            "grid_template_areas": null,
            "grid_template_columns": null,
            "grid_template_rows": null,
            "height": null,
            "justify_content": null,
            "justify_items": null,
            "left": null,
            "margin": null,
            "max_height": null,
            "max_width": null,
            "min_height": null,
            "min_width": null,
            "object_fit": null,
            "object_position": null,
            "order": null,
            "overflow": null,
            "overflow_x": null,
            "overflow_y": null,
            "padding": null,
            "right": null,
            "top": null,
            "visibility": null,
            "width": null
          }
        },
        "1c48ef257cd54dbab26a4e0f59976e7e": {
          "model_module": "@jupyter-widgets/controls",
          "model_name": "ProgressStyleModel",
          "model_module_version": "1.5.0",
          "state": {
            "_model_module": "@jupyter-widgets/controls",
            "_model_module_version": "1.5.0",
            "_model_name": "ProgressStyleModel",
            "_view_count": null,
            "_view_module": "@jupyter-widgets/base",
            "_view_module_version": "1.2.0",
            "_view_name": "StyleView",
            "bar_color": null,
            "description_width": ""
          }
        },
        "46c77deee5db47ffa4a884acc559bc20": {
          "model_module": "@jupyter-widgets/base",
          "model_name": "LayoutModel",
          "model_module_version": "1.2.0",
          "state": {
            "_model_module": "@jupyter-widgets/base",
            "_model_module_version": "1.2.0",
            "_model_name": "LayoutModel",
            "_view_count": null,
            "_view_module": "@jupyter-widgets/base",
            "_view_module_version": "1.2.0",
            "_view_name": "LayoutView",
            "align_content": null,
            "align_items": null,
            "align_self": null,
            "border": null,
            "bottom": null,
            "display": null,
            "flex": null,
            "flex_flow": null,
            "grid_area": null,
            "grid_auto_columns": null,
            "grid_auto_flow": null,
            "grid_auto_rows": null,
            "grid_column": null,
            "grid_gap": null,
            "grid_row": null,
            "grid_template_areas": null,
            "grid_template_columns": null,
            "grid_template_rows": null,
            "height": null,
            "justify_content": null,
            "justify_items": null,
            "left": null,
            "margin": null,
            "max_height": null,
            "max_width": null,
            "min_height": null,
            "min_width": null,
            "object_fit": null,
            "object_position": null,
            "order": null,
            "overflow": null,
            "overflow_x": null,
            "overflow_y": null,
            "padding": null,
            "right": null,
            "top": null,
            "visibility": null,
            "width": null
          }
        },
        "8df034d37f5c41aab983401355c63581": {
          "model_module": "@jupyter-widgets/controls",
          "model_name": "DescriptionStyleModel",
          "model_module_version": "1.5.0",
          "state": {
            "_model_module": "@jupyter-widgets/controls",
            "_model_module_version": "1.5.0",
            "_model_name": "DescriptionStyleModel",
            "_view_count": null,
            "_view_module": "@jupyter-widgets/base",
            "_view_module_version": "1.2.0",
            "_view_name": "StyleView",
            "description_width": ""
          }
        },
        "a752243108ff4594a3033af009dcd6f3": {
          "model_module": "@jupyter-widgets/controls",
          "model_name": "HBoxModel",
          "model_module_version": "1.5.0",
          "state": {
            "_dom_classes": [],
            "_model_module": "@jupyter-widgets/controls",
            "_model_module_version": "1.5.0",
            "_model_name": "HBoxModel",
            "_view_count": null,
            "_view_module": "@jupyter-widgets/controls",
            "_view_module_version": "1.5.0",
            "_view_name": "HBoxView",
            "box_style": "",
            "children": [
              "IPY_MODEL_c615d95830794efe8ee3a39fc7676b18",
              "IPY_MODEL_d50e00cce3ab4b9482f8c6be0060bd62",
              "IPY_MODEL_fe0c9775cc894ee3aac1a17412a67957"
            ],
            "layout": "IPY_MODEL_0f777857aea84892a3ef3b544bcbb2c3"
          }
        },
        "c615d95830794efe8ee3a39fc7676b18": {
          "model_module": "@jupyter-widgets/controls",
          "model_name": "HTMLModel",
          "model_module_version": "1.5.0",
          "state": {
            "_dom_classes": [],
            "_model_module": "@jupyter-widgets/controls",
            "_model_module_version": "1.5.0",
            "_model_name": "HTMLModel",
            "_view_count": null,
            "_view_module": "@jupyter-widgets/controls",
            "_view_module_version": "1.5.0",
            "_view_name": "HTMLView",
            "description": "",
            "description_tooltip": null,
            "layout": "IPY_MODEL_0849798e49c3432ba4284c518ee37ea8",
            "placeholder": "​",
            "style": "IPY_MODEL_bc5d123589f14877958678475c320466",
            "value": "100%"
          }
        },
        "d50e00cce3ab4b9482f8c6be0060bd62": {
          "model_module": "@jupyter-widgets/controls",
          "model_name": "FloatProgressModel",
          "model_module_version": "1.5.0",
          "state": {
            "_dom_classes": [],
            "_model_module": "@jupyter-widgets/controls",
            "_model_module_version": "1.5.0",
            "_model_name": "FloatProgressModel",
            "_view_count": null,
            "_view_module": "@jupyter-widgets/controls",
            "_view_module_version": "1.5.0",
            "_view_name": "ProgressView",
            "bar_style": "danger",
            "description": "",
            "description_tooltip": null,
            "layout": "IPY_MODEL_6dd62c74f1ed450e9941da27925381fc",
            "max": 128000,
            "min": 0,
            "orientation": "horizontal",
            "style": "IPY_MODEL_285d1dd2f9a84283abbb24c7462f5766",
            "value": 128000
          }
        },
        "fe0c9775cc894ee3aac1a17412a67957": {
          "model_module": "@jupyter-widgets/controls",
          "model_name": "HTMLModel",
          "model_module_version": "1.5.0",
          "state": {
            "_dom_classes": [],
            "_model_module": "@jupyter-widgets/controls",
            "_model_module_version": "1.5.0",
            "_model_name": "HTMLModel",
            "_view_count": null,
            "_view_module": "@jupyter-widgets/controls",
            "_view_module_version": "1.5.0",
            "_view_name": "HTMLView",
            "description": "",
            "description_tooltip": null,
            "layout": "IPY_MODEL_27c63f15b9304de4a09fcd32987c0690",
            "placeholder": "​",
            "style": "IPY_MODEL_9040d5856ec546eeac31a905bb14f316",
            "value": " 128000/128000 [00:31&lt;00:00, 4534.83it/s]"
          }
        },
        "0f777857aea84892a3ef3b544bcbb2c3": {
          "model_module": "@jupyter-widgets/base",
          "model_name": "LayoutModel",
          "model_module_version": "1.2.0",
          "state": {
            "_model_module": "@jupyter-widgets/base",
            "_model_module_version": "1.2.0",
            "_model_name": "LayoutModel",
            "_view_count": null,
            "_view_module": "@jupyter-widgets/base",
            "_view_module_version": "1.2.0",
            "_view_name": "LayoutView",
            "align_content": null,
            "align_items": null,
            "align_self": null,
            "border": null,
            "bottom": null,
            "display": null,
            "flex": null,
            "flex_flow": null,
            "grid_area": null,
            "grid_auto_columns": null,
            "grid_auto_flow": null,
            "grid_auto_rows": null,
            "grid_column": null,
            "grid_gap": null,
            "grid_row": null,
            "grid_template_areas": null,
            "grid_template_columns": null,
            "grid_template_rows": null,
            "height": null,
            "justify_content": null,
            "justify_items": null,
            "left": null,
            "margin": null,
            "max_height": null,
            "max_width": null,
            "min_height": null,
            "min_width": null,
            "object_fit": null,
            "object_position": null,
            "order": null,
            "overflow": null,
            "overflow_x": null,
            "overflow_y": null,
            "padding": null,
            "right": null,
            "top": null,
            "visibility": null,
            "width": null
          }
        },
        "0849798e49c3432ba4284c518ee37ea8": {
          "model_module": "@jupyter-widgets/base",
          "model_name": "LayoutModel",
          "model_module_version": "1.2.0",
          "state": {
            "_model_module": "@jupyter-widgets/base",
            "_model_module_version": "1.2.0",
            "_model_name": "LayoutModel",
            "_view_count": null,
            "_view_module": "@jupyter-widgets/base",
            "_view_module_version": "1.2.0",
            "_view_name": "LayoutView",
            "align_content": null,
            "align_items": null,
            "align_self": null,
            "border": null,
            "bottom": null,
            "display": null,
            "flex": null,
            "flex_flow": null,
            "grid_area": null,
            "grid_auto_columns": null,
            "grid_auto_flow": null,
            "grid_auto_rows": null,
            "grid_column": null,
            "grid_gap": null,
            "grid_row": null,
            "grid_template_areas": null,
            "grid_template_columns": null,
            "grid_template_rows": null,
            "height": null,
            "justify_content": null,
            "justify_items": null,
            "left": null,
            "margin": null,
            "max_height": null,
            "max_width": null,
            "min_height": null,
            "min_width": null,
            "object_fit": null,
            "object_position": null,
            "order": null,
            "overflow": null,
            "overflow_x": null,
            "overflow_y": null,
            "padding": null,
            "right": null,
            "top": null,
            "visibility": null,
            "width": null
          }
        },
        "bc5d123589f14877958678475c320466": {
          "model_module": "@jupyter-widgets/controls",
          "model_name": "DescriptionStyleModel",
          "model_module_version": "1.5.0",
          "state": {
            "_model_module": "@jupyter-widgets/controls",
            "_model_module_version": "1.5.0",
            "_model_name": "DescriptionStyleModel",
            "_view_count": null,
            "_view_module": "@jupyter-widgets/base",
            "_view_module_version": "1.2.0",
            "_view_name": "StyleView",
            "description_width": ""
          }
        },
        "6dd62c74f1ed450e9941da27925381fc": {
          "model_module": "@jupyter-widgets/base",
          "model_name": "LayoutModel",
          "model_module_version": "1.2.0",
          "state": {
            "_model_module": "@jupyter-widgets/base",
            "_model_module_version": "1.2.0",
            "_model_name": "LayoutModel",
            "_view_count": null,
            "_view_module": "@jupyter-widgets/base",
            "_view_module_version": "1.2.0",
            "_view_name": "LayoutView",
            "align_content": null,
            "align_items": null,
            "align_self": null,
            "border": null,
            "bottom": null,
            "display": null,
            "flex": null,
            "flex_flow": null,
            "grid_area": null,
            "grid_auto_columns": null,
            "grid_auto_flow": null,
            "grid_auto_rows": null,
            "grid_column": null,
            "grid_gap": null,
            "grid_row": null,
            "grid_template_areas": null,
            "grid_template_columns": null,
            "grid_template_rows": null,
            "height": null,
            "justify_content": null,
            "justify_items": null,
            "left": null,
            "margin": null,
            "max_height": null,
            "max_width": null,
            "min_height": null,
            "min_width": null,
            "object_fit": null,
            "object_position": null,
            "order": null,
            "overflow": null,
            "overflow_x": null,
            "overflow_y": null,
            "padding": null,
            "right": null,
            "top": null,
            "visibility": null,
            "width": null
          }
        },
        "285d1dd2f9a84283abbb24c7462f5766": {
          "model_module": "@jupyter-widgets/controls",
          "model_name": "ProgressStyleModel",
          "model_module_version": "1.5.0",
          "state": {
            "_model_module": "@jupyter-widgets/controls",
            "_model_module_version": "1.5.0",
            "_model_name": "ProgressStyleModel",
            "_view_count": null,
            "_view_module": "@jupyter-widgets/base",
            "_view_module_version": "1.2.0",
            "_view_name": "StyleView",
            "bar_color": null,
            "description_width": ""
          }
        },
        "27c63f15b9304de4a09fcd32987c0690": {
          "model_module": "@jupyter-widgets/base",
          "model_name": "LayoutModel",
          "model_module_version": "1.2.0",
          "state": {
            "_model_module": "@jupyter-widgets/base",
            "_model_module_version": "1.2.0",
            "_model_name": "LayoutModel",
            "_view_count": null,
            "_view_module": "@jupyter-widgets/base",
            "_view_module_version": "1.2.0",
            "_view_name": "LayoutView",
            "align_content": null,
            "align_items": null,
            "align_self": null,
            "border": null,
            "bottom": null,
            "display": null,
            "flex": null,
            "flex_flow": null,
            "grid_area": null,
            "grid_auto_columns": null,
            "grid_auto_flow": null,
            "grid_auto_rows": null,
            "grid_column": null,
            "grid_gap": null,
            "grid_row": null,
            "grid_template_areas": null,
            "grid_template_columns": null,
            "grid_template_rows": null,
            "height": null,
            "justify_content": null,
            "justify_items": null,
            "left": null,
            "margin": null,
            "max_height": null,
            "max_width": null,
            "min_height": null,
            "min_width": null,
            "object_fit": null,
            "object_position": null,
            "order": null,
            "overflow": null,
            "overflow_x": null,
            "overflow_y": null,
            "padding": null,
            "right": null,
            "top": null,
            "visibility": null,
            "width": null
          }
        },
        "9040d5856ec546eeac31a905bb14f316": {
          "model_module": "@jupyter-widgets/controls",
          "model_name": "DescriptionStyleModel",
          "model_module_version": "1.5.0",
          "state": {
            "_model_module": "@jupyter-widgets/controls",
            "_model_module_version": "1.5.0",
            "_model_name": "DescriptionStyleModel",
            "_view_count": null,
            "_view_module": "@jupyter-widgets/base",
            "_view_module_version": "1.2.0",
            "_view_name": "StyleView",
            "description_width": ""
          }
        }
      }
    }
  },
  "cells": [
    {
      "cell_type": "markdown",
      "metadata": {
        "id": "view-in-github",
        "colab_type": "text"
      },
      "source": [
        "<a href=\"https://colab.research.google.com/github/RealMyeong/Going_Deeper_NLP/blob/main/mini_BERT_%EB%A7%8C%EB%93%A4%EA%B8%B0.ipynb\" target=\"_parent\"><img src=\"https://colab.research.google.com/assets/colab-badge.svg\" alt=\"Open In Colab\"/></a>"
      ]
    },
    {
      "cell_type": "markdown",
      "source": [
        "## 1. Tokenizer 준비\n",
        "\n",
        "SentencePiece 기반의 토크나이저를 준비."
      ],
      "metadata": {
        "id": "R_629xinr5qu"
      }
    },
    {
      "cell_type": "code",
      "source": [
        "!pip install sentencepiece"
      ],
      "metadata": {
        "colab": {
          "base_uri": "https://localhost:8080/"
        },
        "id": "di6kSVVKtEVi",
        "outputId": "5dee9cdc-998e-49a6-c9b0-d4ca1ab53f44"
      },
      "execution_count": 1,
      "outputs": [
        {
          "output_type": "stream",
          "name": "stdout",
          "text": [
            "Looking in indexes: https://pypi.org/simple, https://us-python.pkg.dev/colab-wheels/public/simple/\n",
            "Requirement already satisfied: sentencepiece in /usr/local/lib/python3.7/dist-packages (0.1.97)\n"
          ]
        }
      ]
    },
    {
      "cell_type": "code",
      "execution_count": 2,
      "metadata": {
        "colab": {
          "base_uri": "https://localhost:8080/"
        },
        "id": "hiIevat7r3H3",
        "outputId": "fd16cab0-cb01-4417-f128-56333e7878f4"
      },
      "outputs": [
        {
          "output_type": "stream",
          "name": "stdout",
          "text": [
            "2.9.2\n"
          ]
        }
      ],
      "source": [
        "# imports\n",
        "from __future__ import absolute_import, division, print_function, unicode_literals\n",
        "\n",
        "import tensorflow as tf\n",
        "import tensorflow.keras.backend as K\n",
        "\n",
        "import os\n",
        "import re\n",
        "import math\n",
        "import numpy as np\n",
        "import pandas as pd\n",
        "import random\n",
        "import collections\n",
        "import json\n",
        "import shutil\n",
        "import zipfile\n",
        "import copy\n",
        "from datetime import datetime\n",
        "\n",
        "import matplotlib.pyplot as plt\n",
        "import sentencepiece as spm\n",
        "from tqdm.notebook import tqdm\n",
        "\n",
        "random_seed = 1234\n",
        "random.seed(random_seed)\n",
        "np.random.seed(random_seed)\n",
        "tf.random.set_seed(random_seed)\n",
        "\n",
        "# tf version 확인\n",
        "print(tf.__version__)\n"
      ]
    },
    {
      "cell_type": "code",
      "source": [
        "\n",
        "import sentencepiece as spm\n",
        "import os\n",
        "\n",
        "# corpus_file = '/content/drive/MyDrive/AIFFEL/GoingDeeper_NLP/14_mini_BERT/kowiki.txt'\n",
        "# prefix = 'ko_8000'\n",
        "# vocab_size = 8000\n",
        "\n",
        "# spm.SentencePieceTrainer.train(\n",
        "#     f\"--input={corpus_file} --model_prefix={prefix} --vocab_size={vocab_size + 7}\" + \n",
        "#     \" --model_type=bpe\" +\n",
        "#     \" --max_sentence_length=999999\" + # 문장 최대 길이\n",
        "#     \" --pad_id=0 --pad_piece=[PAD]\" + # pad (0)\n",
        "#     \" --unk_id=1 --unk_piece=[UNK]\" + # unknown (1)\n",
        "#     \" --bos_id=2 --bos_piece=[BOS]\" + # begin of sequence (2)\n",
        "#     \" --eos_id=3 --eos_piece=[EOS]\" + # end of sequence (3)\n",
        "#     \" --user_defined_symbols=[SEP],[CLS],[MASK]\") # 사용자 정의 토큰\n",
        "\n"
      ],
      "metadata": {
        "id": "j7SjaLj-sLeU"
      },
      "execution_count": 3,
      "outputs": []
    },
    {
      "cell_type": "code",
      "source": [
        "data_dir = '/content/drive/MyDrive/AIFFEL/GoingDeeper_NLP/14_mini_BERT'\n",
        "model_dir = '/content'\n",
        "\n",
        "# vocab loading\n",
        "vocab = spm.SentencePieceProcessor()\n",
        "vocab.load(f\"{model_dir}/ko_8000.model\")"
      ],
      "metadata": {
        "colab": {
          "base_uri": "https://localhost:8080/"
        },
        "id": "gzBYtPXCsUkT",
        "outputId": "d7a37bd8-9d9d-4076-ddf1-721a42f8a028"
      },
      "execution_count": 4,
      "outputs": [
        {
          "output_type": "execute_result",
          "data": {
            "text/plain": [
              "True"
            ]
          },
          "metadata": {},
          "execution_count": 4
        }
      ]
    },
    {
      "cell_type": "code",
      "source": [
        "# 특수 token 7개를 제외한 나머지 tokens 들\n",
        "vocab_list = []\n",
        "for id in range(7, len(vocab)):\n",
        "    if not vocab.is_unknown(id):\n",
        "        vocab_list.append(vocab.id_to_piece(id))\n",
        "print(vocab_list)"
      ],
      "metadata": {
        "colab": {
          "base_uri": "https://localhost:8080/"
        },
        "id": "j8_A9ELgs5Lw",
        "outputId": "af92b573-1485-460e-e486-0e391bbe1621"
      },
      "execution_count": 5,
      "outputs": [
        {
          "output_type": "stream",
          "name": "stdout",
          "text": [
            "['▁1', '▁이', '으로', '에서', '▁있', '▁2', '▁그', '▁대', '▁사', '이다', '었다', '▁지', '▁수', '▁19', '▁가', '▁시', '▁20', '▁기', '▁전', '▁아', '▁하', '▁있다', '▁다', '▁제', '했다', '하였', '▁일', '▁한', '▁중', '▁정', '▁주', '하는', '▁것', '▁자', '▁공', '▁인', '되었다', '▁경', '▁위', '▁유', '▁보', '하고', '▁3', '▁등', '▁부', '하였다', '▁조', '하여', '▁미', '▁동', '▁선', '▁나', '으며', '▁모', '▁연', '▁영', '▁의', '▁오', '▁마', '에는', '▁발', '▁소', '한다', '▁고', '▁개', '▁201', '▁구', '▁세', '▁도', '▁상', '▁비', '▁스', '▁국', '▁서', '▁후', '▁여', '▁200', '▁때', '▁4', '▁성', '▁해', '▁관', '▁있는', '▁신', '▁프', '▁대한', '부터', '▁5', '▁방', '▁또', '지만', '▁(', '▁역', '되어', '▁않', '▁만', '▁\"', '▁장', '▁바', '까지', '▁무', '▁남', '▁통', '▁현', '▁교', '▁같', '에게', '▁내', '학교', '▁문', '▁출', '▁거', '▁포', '▁결', '된다', '▁《', '적인', '이라', '▁6', '▁우', '적으로', '▁불', '▁원', '▁최', '▁10', '▁진', '▁생', '▁작', '▁어', '▁당', '국의', '▁노', '▁강', '▁알', '▁반', '▁7', '▁8', '▁계', '▁따', '▁파', '▁분', '▁없', '▁받', '▁말', '면서', '들이', 'or', '되었', '▁사용', \"▁'\", '▁두', '▁실', '에서는', '▁리', '들은', '▁명', '▁함', '▁단', '▁이후', '00', '하기', '▁예', '년에', '),', '▁한다', '▁안', '하게', '▁재', '▁9', '▁일본', '▁차', '▁설', '▁배', '▁에', 'er', '▁199', '▁다음', '았다', '▁특', '▁요', '였다', '▁18', '▁데', '▁종', '으나', '▁초', '▁군', '▁로', '▁독', '▁12', '()', 'la', '▁추', '▁김', '▁많', '▁그는', '▁~', '▁대한민', '▁되었다', '리아', '▁카', '▁활', '▁감', '▁라', '이며', '는데', '▁입', 'on', '▁건', '스트', '▁타', '▁다른', '▁형', '▁더', '▁지역', '▁S', '▁참', '▁운', '▁매', '▁같은', '▁태', '▁및', '▁그리', '▁양', '▁위해', '▁평', '▁음', '▁11', 'in', '▁행', '▁산', '주의', '▁적', '▁본', '▁)', '들어', '▁미국', '▁열', '▁과', '▁왕', '들의', '▁올', '▁승', '▁때문', '▁북', '▁크', '▁시작', '▁번', '기도', 'an', '▁프로', '▁코', '들을', '▁피', '▁호', '▁총', '레이', '▁C', '라는', '▁목', '되는', '▁화', '▁그러', '▁회', '▁베', '▁따라', '▁임', '▁각', '▁198', '▁또한', '하며', '▁변', '▁사람', '▁함께', '▁A', '▁표', '▁외', '▁속', '▁처', '▁f', '라고', '▁경우', '▁물', '▁달', '▁M', '이나', '▁위치', '▁현재', '▁약', '시아', '▁자신', '▁민', '▁직', '▁이름', 'mu', '하지', '▁새', '▁간', '▁학', '▁선수', '▁그의', '▁게', '▁F', '19', '▁드', '하다', '▁집', '▁기록', '▁영화', '▁당시', '되고', '▁한국', '▁for', '에도', '▁저', '▁항', '▁가장', '▁하나', '▁세계', '▁때문에', 'en', '▁사이', '기에', '▁그러나', 'mula', '▁존', '기를', '▁메', '▁점', '▁체', 'ar', '▁박', '▁뒤', '▁것을', '▁확', '▁15', '▁또는', '▁formula', '▁했다', '▁조선', '▁있으며', '스의', '▁것으로', '▁197', '▁된다', '▁국가', '▁있었다', '이라고', '▁의해', '▁T', '▁것이', '▁레', '▁16', '▁복', '▁청', '▁축', '▁토', '▁못', '▁투', '▁천', '▁광', '리는', '▁필', '지는', '▁그리고', '▁브', '일에', '▁통해', '▁활동', '졌다', '▁법', '▁합', '▁프랑', '▁철', '▁17', '▁야', 'al', '▁판', '등학교', '▁196', '▁근', '▁창', '▁증', '▁편', '▁삼', '했고', '▁디', '▁금', '▁B', '▁치', '▁살', 'ti', '▁많은', '▁것이다', '▁언', '리를', '▁들어', '▁첫', '이라는', '▁돌', '▁버', '▁심', '▁높', '▁대한민국', '▁아니', '▁다음과', '▁‘', '하였고', '▁쓰', '(,', '▁D', '랜드', '▁하는', '▁뜻', '하면서', '▁경기', '스는', '20', '▁충', '▁다시', '▁황', 'es', '▁플', '는다', '▁서울', '▁포함', '▁대해', '▁있었', '▁가지', '▁할', '이었다', '▁194', '▁I', '▁P', '▁여러', '▁애', '▁완', '▁네', '▁트', '▁K', '▁대한민국의', '대로', '▁14', '▁되', '사를', '▁병', '▁페', '로서', 'km', '▁백', '▁독일', '이고', '▁큰', '상을', '▁죽', '개의', '이는', '▁하였다', '되었고', '▁모두', '▁루', '▁패', '▁용', '▁연구', '보다', '▁순', '▁팀', '▁도시', '▁클', '▁권', '▁13', '▁사회', '▁195', '장을', '▁채', '위를', '▁은', '▁모든', '▁L', '▁히', '▁취', '▁처음', '▁알려', '성을', '니아', 'he', '지를', '▁규', '▁이루', '▁친', '▁시즌', '▁일부', '▁중국', '이었', '▁인구', '▁등이', '▁제작', '라이', '▁대표', '▁전쟁', '▁등의', '대의', '▁이용', 'ic', '회의', '▁감독', '▁정부', '▁식', '▁축구', '▁손', '리에', '자가', 'is', '▁아이', '▁위한', '▁존재', '년부터', '▁끝', '▁구성', '▁있어', '도의', '▁R', '부분', '했으며', '▁허', '▁정치', '▁즉', '▁이상', '도로', '▁영국', '▁G', '▁프랑스', '나라', '▁-', '력을', '▁이어', '▁테', '거나', '▁것은', '▁중심', '이자', '년에는', '▁일반', '▁문제', '▁자신의', '▁길', '▁같다', '▁맡', '▁나타', '시에', '▁월', '▁러', '▁가능', '▁온', '▁작품', '▁앞', '▁논', '▁뉴', '▁환', '▁N', '000', '▁게임', '기의', '▁개발', '▁걸', '▁맞', '▁리그', '▁곳', '▁이러', '▁동안', '▁갖', '▁193', '▁발견', '▁이러한', '▁기준', '▁캐', '▁접', '▁준', '리스', '▁H', '▁별', '▁새로', '▁하지만', '▁U', '▁주장', '▁30', '▁등을', '▁이는', 'at', '년대', '▁면', '▁위치한', '▁발표', '▁향', '▁E', '▁밀', '통령', '하면', '▁국제', 'le', '▁되어', '되었으며', '▁〈', '▁방송', '도록', '로부터', '▁농', '들과', '위원', '났다', '▁협', '(1', '▁지방', '시키', '▁볼', '로는', '▁잘', 're', '자의', '▁검', '▁의미', '기는', '▁2010', '▁섬', '▁이를', '▁대부분', '서는', '군의', 'it', '▁사건', '▁전투', 'ou', '리가', '기가', '다는', '▁공격', '에서도', '▁하고', '▁번째', '란드', '▁밝', '▁담', '월에', '▁폭', '사가', '▁육', '▁귀', '▁대회', '리카', '하였으며', '▁문화', '다고', '▁홍', '▁음악', '▁영향', '▁대학', '▁대통령', '▁막', '어진', '정을', '▁얻', '이트', '리그', '세기', '했던', '▁W', '년까지', '스를', '▁최초', '명의', '쪽으로', '▁참여', '▁미국의', '▁프로그', '▁석', '▁키', '▁극', '성이', '들에게', '▁설립', '▁날', '▁우승', '▁진행', '자를', '▁설치', '인의', '▁줄', '▁결과', '▁이에', '자는', '▁효', '▁특히', '▁앨', '와의', '도를', '▁발생', '10', '▁관계', '▁관련', '▁역사', '▁<', '▁일어', 'el', '▁곡', '▁배우', '▁된', '림픽', '▁2008', '▁책', '▁그녀', '디오', '▁절', '▁“', '▁봉', '▁25', '▁유럽', '▁사망', '▁발매', '리의', '▁만들어', '▁다양', '자로', '대를', '렸다', '가지', '▁암', '▁같이', '▁러시아', '▁이전', '▁생각', '이스', '▁독립', '▁형태', '▁부분', '(19', '▁갈', '므로', '요한', '▁태어', '▁시간', 'om', '▁사실', '▁폐', '▁글', '▁인해', '▁교육', '스터', '▁블', '▁헤', 'st', '▁주로', 'ol', '▁새로운', '▁소속', '▁질', '▁자유', '▁이것', '▁받아', '▁경제', '▁측', '▁2007', '▁좋', '▁수도', '▁지원', '▁2011', '▁받았다', '▁이탈', '▁있고', '스가', '▁2009', '르는', '▁기술', '▁올림픽', '라마', '▁2012', '▁중앙', '식을', '▁와', '▁계속', '과의', '▁침', '▁출신', '화국', '▁프로그램', '▁엔', '▁머', '▁t', '▁등장', '▁송', '번째', '▁지정', '▁잡', '▁로마', '▁커', '▁상태', '▁참가', '▁범', '▁구조', '▁있던', '도는', '▁누', '-1', 'ch', '▁192', '▁데뷔', '▁탄', '▁벌', '▁골', '학자', '▁2014', '▁결정', '▁매우', '▁성공', '다가', '사의', '▁선거', '▁탈', '부의', '▁운영', '▁난', '리즈', '인이', '이지', '대학교', 'am', '▁않았다', '프트', '▁아버', '▁혼', '으로서', '▁넘', '▁아들', '이션', '▁가지고', '르크', '▁J', '▁이탈리아', '▁2013', '전을', '▁21', ',000', '▁니', '▁타이', '드는', '▁몇', '비아', '▁일본의', '▁고려', '▁윤', '기로', '▁돌아', '▁없다', '명을', '▁급', '▁아니라', '▁슈', '하기도', '▁O', '▁들', '▁찾', '대에', '처럼', 'tion', '▁터', '에서의', 'ing', '▁차지', '해서', '▁결국', '▁만들', '장이', '▁100', '도가', '했지만', '▁24', '▁생산', '▁없는', '왔다', '▁한편', '되지', '▁운동', '▁악', '▁싱', '▁2015', 'us', 'et', '▁해당', '▁최고', '▁행정', '▁떨', '▁0', '▁조직', 'il', '▁2006', '▁출연', '남도', 'ro', '▁않고', '우스', '하자', '운데', '▁아래', '▁22', '▁23', 'FA', '▁케', '사는', '▁앨범', '▁전체', '▁계획', '권을', '▁업', '▁좌', '▁많이', '간의', '▁이유', '▁내용', '▁2016', '▁2018', '부에', '▁쿠', '원을', '냈다', '▁가리', '명이', '▁라이', '▁폴', '화를', '▁음반', '스타', '▁여성', '▁둘', '▁유명', '▁따르', '군은', '수를', '▁방법', '선의', '일부터', '수의', '▁힘', '\")', '▁가운데', '▁주요', '스크', '스템', '초등학교', '으로써', '원의', '▁떠', '▁하여', '▁후보', '▁빠', 'of', '▁팔', '▁대학교', '▁역할', '▁제공', '▁데이', '▁남아', 'as', '▁국민', '음을', '▁스타', '장으로', '어로', '장은', '▁2017', '▁다양한', '▁묘', '▁월드', '▁28', '진다', '▁몸', '▁26', '사로', '지의', '나는', '▁이루어', '▁않는다', '▁거의', '▁콘', '였던', '▁표현', '대학', '▁각각', '▁컴', '자인', '▁드라마', '하던', '▁인터', '▁잠', '리고', '민주', '▁27', '▁모습', '했으나', '▁헌', '이의', '인민', '인다', '지가', '▁스페', '운동', '▁수상', '(\"', '전에', '스와', '수가', '▁연결', '▁칼', '머니', 'ra', 'BS', '▁졸', '하려', '▁붙', 'de', '▁191', '▁마지', '됐다', '▁이름을', '▁이미', '으로는', '▁V', '▁격', '▁공식', '▁190', '_1', '▁경상', '▁,', '문화', '▁출전', '원이', '▁알려져', '▁얼', '▁임명', '▁필요', '▁2005', '▁시리즈', '스로', '성의', '▁따라서', '▁열린', '가는', '▁높은', '으로부터', '대표', '위원회', '점을', '▁작은', '▁마이', '▁몰', '력이', '▁마지막', '▁지구', '▁영향을', '▁시스템', '▁뛰', '제로', '▁인정', '▁공개', '▁직접', '▁과정', '▁정보', '▁능', '시켰', '지에', '▁2000', '대한', '▁빌', '▁따르면', '▁of', '었고', ').', '어를', '▁대신', '▁기원', '▁이야', '시의', '상의', '200', '▁보고', '이가', '▁2004', '▁개최', '지고', '▁진출', '▁추가', '▁대전', '▁기능', '북도', '▁항공', '▁센', '▁자연', '▁활약', '있다', '제를', '▁않은', '해야', '▁엘', '▁풍', '▁그리스', '▁평가', '》(', '군이', '▁c', '▁민주', '▁시대', '▁되는', '▁쇼', '▁29', '▁그룹', '▁정도', '▁있는데', '▁상황', '▁홈', '▁정의', '▁오스트', '▁녹', '▁생활', '▁유지', '▁브라', '▁눈', '▁바이', '▁그가', '갔다', '▁건물', '▁졸업', '▁말한다', '이드', '선을', '사에', '▁후에', 'ed', '▁변경', '▁비롯', '▁먹', '▁인도', '▁인구는', '▁철도', '▁서로', '▁노래', '▁역시', '수로', '▁발전', '▁크게', '▁퍼', '▁보여', '▁핵', '위에', '▁아르', '▁관한', '▁제국', '▁지금', '▁않았', '▁프리', '▁압', '▁중요한', 'ac', '르트', '▁여자', '▁레이', '▁응', '인을', '▁결혼', '전에서', '들에', '▁건설', '적은', '▁뿐', '▁인물', '▁거쳐', '▁울', '▁그것', '세의', '지로', '▁학교', '▁뜻은', '인은', '▁사업', '▁하였', 'ri', '▁부산', '부를', '일까지', '▁분류', '▁m', '원은', '▁낮', '계를', '▁[', '▁FC', '▁관리', '니다', '치는', '▁나라', '▁2019', '어는', '50', '식으로', '▁경기도', '▁상대', '▁혹', '▁이론', '특별', '▁일으', '▁공동', '킨다', '▁반대', '▁플레이', '▁요구', '▁가진', '▁형성', '▁희', '▁딸', '문을', '전히', '▁티', '광역', '임을', '▁밴', '▁만든', '▁원래', '▁연합', '원으로', '치를', '▁놓', '트로', '부는', '▁모델', '▁기업', '되면서', '▁31', '▁중화', '▁시절', '▁2002', '▁않는', '레스', '수는', '른다', '▁동시에', '▁색', '▁군사', '제가', '▁이르', '▁사이에', '▁느', '리오', '▁실시', '▁시작했다', '▁지하', '▁기본', '▁워', '운드', '군을', '하였으나', '▁겸', '장의', '인민공', 'ent', '▁싱글', '▁2003', '대는', '▁어떤', '상이', '▁지역의', '▁비판', '▁승강', '▁아닌', '이었던', '▁제외', '▁노동', '▁:', '역이다', '대가', '프리카', '회를', '▁계약', '▁긴', '▁잉', '제의', '▁역할을', '▁운행', '정한', '▁현대', '▁학생', '하는데', '상으로', '▁자동', '▁50', '▁싸', '▁민족', '▁명칭', '▁지도', '▁소련', '▁야구', '이기도', '▁189', '▁전통', '▁처음으로', '▁여기', '주는', '▁최초의', 'and', '장에', '▁전라', '체의', '명은', '▁콜', '▁판매', '나다', '▁보통', '▁공간', '▁휴', '▁영화이다', '스탄', '▁이동', '▁이때', '▁망', '되며', '린다', '있는', '▁특징', '▁수행', '▁의한', '▁있을', '▁나오', '12', '▁「', '▁기준으로', '이를', '18', '▁기반', '▁기간', '▁넓', '▁도입', '▁달리', '▁되고', '단의', '▁그래', '▁초기', '▁특별', '자와', '▁견', '▁교황', '호로', '▁비슷', '▁전문', '▁옮', '▁도쿄', '소를', 'un', '키는', '▁서비', '▁푸', '▁개인', '카이', '▁있다고', '▁인간', '과는', '▁하며', '▁마을', '▁위하여', '적을', '▁기존', '▁종교', 'ig', '연구', 'BC', '.5', '격을', '서를', '성은', '▁다이', '▁퇴', '관은', '▁웨', '시마', '▁바로', '장에서', '▁개의', '▁혹은', ')·', '▁엄', 'ur', '▁지나', '▁혁', '호를', '체를', '15', '▁역임', '독교', '▁궁', '▁월드컵', '중에', '▁애니', '▁슬', '▁벨', '▁탑', '가와', '물을', '▁과학', '▁모양', '▁훈', '▁빈', '시간', '▁s', '▁출시', 'os', '▁1990', '▁목록', '▁기타', 'um', '▁정책', '▁어머니', '.\"', '▁사랑', '▁유일', '▁태양', '고등학교', '혔다', '동안', '▁지배', '무를', '트를', '명이다', '퓨터', '▁이끌', '▁아버지', '▁국내', '30', '▁일반적으로', '드로', '했는데', '드의', '▁전국', '▁될', '텔레', '▁경기에서', '하지만', '▁연방', '▁경찰', '▁기관', '광역시', '▁과거', 'od', '리로', '▁언어', '▁소설', '▁지휘', '▁주변', '16', '▁공연', '▁맥', '리와', 'ation', '도에', '화가', '▁동일', '▁기원전', '기관', 'ot', '▁샤', '▁p', '▁중심으로', '트의', '▁부르', '마다', '피언', '학과', '방송', '▁이적', '쪽에', '시켰다', '▁40', '▁산업', 'ad', '▁2001', '드를', '▁이것은', '▁보내', '▁그를', '▁받은', '스코', '▁적용', '▁탐', '▁가수', '▁비교', '▁FI', '의를', '▁흔', '구의', '▁먼', '군에', '▁1,', '▁곧', '호는', '▁획', '▁뮤', '메이션', '▁풀', '위로', '▁속하는', '경기', '▁받았', '▁추정', '▁밖', '▁작업', '▁지정되었다', '▁있다는', '▁확인', '▁분야', '▁클럽', '▁충청', '▁가까', '쳤다', '▁담당', '▁떨어', 'id', 'ter', '▁선정', '▁받고', '▁방영', '▁the', '▁찾아', '▁건축', '류의', '▁컴퓨터', '▁없이', '동에', '▁되었고', '체가', '리지', 've', '▁노선', '▁숙', '▁착', '▁국가대표', '▁옥', '당의', '▁방향', '▁챔', '▁때문이다', '▁기독교', '년의', '▁규모', '▁열차', '▁작곡', '▁피해', '어가', '▁자기', '트는', '▁통합', '▁득', '사와', '▁환경', '-2', '▁지지', '비전', '▁낙', '▁염', '▁차량', '▁증가', '▁배우이다', '14', '정에', '단을', '세는', '야마', '▁어느', '▁두고', '▁실패', '스에', 'ow', '▁설명', '하거나', 'op', '▁가족', '▁대부분의', '▁그녀는', '글랜드', '어의', '60', '조의', '크로', '▁우주', '▁멤', '인으로', '▁개념', '▁넣', '르게', '▁너', '▁기념', '▁늘', '▁올라', '▁활동을', '종의', '▁태어났다', '▁갑', '▁뉴욕', '▁이런', '11', '▁윌', '▁상당', '▁챔피언', '▁오늘', '부가', '▁최대', '▁자신이', '▁이와', '중학교', '나무', '▁수록', '▁이상의', '▁보호', '제는', 'ec', '.2', '회는', '▁캐나다', '인이다', '동을', '▁있지만', '시켜', '▁애니메이션', '▁걸쳐', '학적', '이로', '▁이름은', '▁서울특별', '▁TV', '트남', '▁1980', '▁FIFA', '일에는', '▁데이터', '▁사상', '면에', '▁사고', '▁(19', '▁하나이다', '▁어린', '원에', '▁대체', '교육', '▁다음을', '계의', '▁없었다', '▁1999', '관을', '▁있어서', '렇게', '움을', '▁수는', '▁등에', '으면', '▁대하여', '적이', 'cm', '▁멤버', '▁·', 'em', '세가', '▁스페인', '겼다', '▁1998', '식의', '▁최초로', '▁예정', '▁최근', '스카', '이란', '▁등으로', '구에', '▁있었던', '치가', '▁하다', '13', '▁뛰어', '메리카', '▁흐', '▁나가', '▁획득', '▁위원', '했다고', '성과', '일을', '17', '기와', '▁땅', 'ag', '▁선출', '▁자료', '80', '심을', '자들은', '.)', 'ir', '▁더욱', '▁불가', '▁공화국', '드리', '▁잉글랜드', '식은', '▁윈', '▁텔레', '▁개봉', '▁선택', '▁최종', '▁내려', '단은', '▁구간', '_2', '식이', '성에', '했을', '▁지역에', '세를', '지역', '▁베이', '▁인천', 'oc', '▁맺', '어서', '▁부족', '▁흑', '▁솔', '▁잔', 'ia', '▁조사', '▁조건', '인민공화국', '▁보인다', '▁시민', '널리', '▁평균', '▁d', '▁정당', '▁선언', '학을', '트리', '40', '▁물리', '▁변화', '▁앤', '▁b', '▁런', '▁조지', '시키는', '되었으나', '.0', '▁연주', '▁자리', '▁명령', 'th', '▁대구', '▁선발', '프로', '▁어려', '▁흥', '▁1997', '한다는', '▁공산', '덜란드', 'ver', '개월', '》,', '시대', '▁동물', '▁연속', '▁에너', '▁도로', '▁서울특별시', '난다', '렀다', '▁결승', '▁가리킨다', '▁점령', '▁칭', '정부', '▁있게', '함으로써', '▁이름으로', '소가', '▁불구', '▁효과', '라도', '만을', '▁작가', '▁1995', '▁반응', '▁전기', '호선', '▁표준', '명으로', '▁Y', '▁움', '▁이들은', '▁옛', '▁관할', '포츠', '▁잃', '년간', '▁거주', '▁좋은', '▁국립', '▁X', '자들이', '하도록', '▁예를', '▁헌법', '내는', '만이', '▁언급', '▁몽', '▁교통', '상에', '이지만', 'ce', '▁이유로', '▁1996', '회에서', '▁팬', '▁이해', '▁아시아', '▁선수이다', '▁컨', '구를', '▁현재는', '이에', '▁고대', '▁유사', '▁후반', '▁덕', '▁마르', '▁덴', '쪽으로는', '▁국가대표팀', '▁그들의', '▁승리', '상은', '▁전에', ']]', '▁징', '▁네덜란드', '웠다', '▁익', '비를', '▁액', '▁소유', '▁주의', '역을', '▁출판', '▁베트남', '▁왜', '인데', '▁전자', '▁조약', '▁단체', '▁목표', '▁메이', '▁정규', '▁폴란드', '스턴', '▁사무', '레일', '▁겨', '▁km', '▁북한', '었으며', '진을', '▁것이라고', 'nd', 'mm', '▁휘', '학의', '모토', '▁면적은', '▁예술', '으므로', '▁공립', '일랜드', '▁명의', '▁세포', '▁지속', '▁이곳', '▁입단', '▁하나의', '▁맡았다', '▁주민', '주에', '▁188', '과에', '▁현재의', '▁1994', '랐다', '▁시설', '▁구분', '라의', '▁모습을', '월에는', '▁쌍', '▁깊', '▁밤', '▁이듬', '▁밝혔다', '▁국회의', '▁하지', '▁버전', '▁정신', '▁영국의', '정이', '▁하나로', '▁1970', '민주주의', '▁정확', '▁드러', '▁우리', '▁불구하고', '▁돈', '▁사용하는', '▁대중', '▁아직', '베이', '되기', '▁지상', '▁말했다', '▁끌', '▁실험', '▁소프트', '▁실제', '▁오늘날', '▁소비', 'ay', '▁강화', '지지', '▁그런', '▁1992', '▁분리', '▁쓴', '70', '계에', '▁씨', '라스', '지방', '자리', '..', '▁포르', '▁제한', '▁유래', '사카', '▁[[', '▁그림', '원에서', '▁세워', '▁거두', '▁이듬해', '▁육군', '▁사이의', '나이', '▁믿', '단에', '▁크리스', '스키', '관이', '치고', '주시', '▁핀', '직을', '지와', '▁페르', '금을', '▁가문', '▁웹', '메달', '소의', '버스', '▁알려진', '단이', '▁은퇴', '▁불리', '▁언론', '시코', '▁고등학교', '회에', '▁통과', '부르크', '거리', '월부터', '스테', '▁비해', '▁찬', 'The', '▁분석', '가의', '골을', '▁위에', '▁널리', 'im', '▁남자', '▁포함한', '회가', '형을', '▁그들은', '▁의미한다', '들로', '▁제품', '▁물질', '톨릭', '▁방문', '베르', '▁나온', '▁발달', '▁헬', '▁칸', '▁펼', '▁움직', '▁회사', '▁등과', '장과', '정의', '▁중에', 'ul', '바이', \")'\", '▁경험', '로의', '▁1991', '철도', '▁차례', '▁이사', '▁결합', '스티', '▁못했다', '▁완전히', '▁제조', '체는', '▁홀', '법을', '▁비행', '▁설계', '▁크로', '▁바탕', '불어', '하의', '▁자치', '▁친구', '▁프로젝', '르고', '▁것에', '드가', '루스', '이어', '▁여겨', '▁1993', '-0', '▁전해', '▁꽃', '▁괴', '▁사람이', '▁연기', '▁요청', '▁갖고', '▁부여', 'te', '▁배치', '▁더불어', '들도', '아의', '▁통일', '▁멸', '▁자주', '▁때까지', '▁소재', '당은', '▁1960', '▁마음', '▁스웨', '러스', '선에', '▁정도로', '점이', '▁알렉', '▁독일의', '사업', '▁수준', '▁프랑스의', '▁비롯한', '▁주연', '일본', '▁빛', '시는', '▁런던', 'EFA', '▁브라질', '산을', '▁맨', '▁멀', '▁깨', '소는', '▁제안', '▁나머', '▁오른', '▁중요', '▁그대로', '찬가지', 'TV', '▁영토', '▁목적으로', '▁마찬가지', '▁1988', '▁초등학교', '▁오래', '▁파괴', '▁요시', '로를', '▁쉽', '▁바뀌', '릭터', '▁유전', '트가', '▁아프리카', '▁감독의', '▁스스로', '▁이로', '위가', '부로', '▁주인', '경을', '▁텔레비전', '스토', '▁않아', '웨어', '▁인터넷', '▁만나', '▁유명한', '▁60', '위는', '▁확장', '지에서', '기술', '우는', '▁있도록', '▁외국', '▁패배', '관으로', '》()', '▁성장', '.3', '▁이들', '▁식민', '인과', '정은', '▁추진', '▁밝혀', '선거', '가를', '▁오스트리아', '었던', '▁의하여', '▁많다', '▁치료', 'ap', '\",', '▁스웨덴', '문에', '위의', '▁존재한다', '▁사라', '선이', '▁달러', '▁UEFA', '▁하이', '물의', '▁지난', '▁우승을', '▁아마', '주를', '▁남부', '▁기여', '▁사람들이', '▁칠', '▁가르', '받았다', '▁복귀', '되기도', '일의', '지게', '감을', '르의', '▁불교', '아가', '▁경우가', '▁경쟁', '▁1989', '종이다', '▁혈', '없이', '▁스포츠', '영화', '▁과정에서', '신을', '▁강력', '▁근처', '▁법률', '▁습', '▁몬', '▁짧', '▁되었', '▁먼저', '▁일어나', '▁하계', '▁캐릭터', '▁공항', '▁해석', '▁왕국', '회사', '▁있으나', '▁이외', '▁초대', '라인', '멕시코', 'NA', '▁주도', '▁것이었다', '많은', '▁영어', '▁접근', '48', '▁수용', '▁가톨릭', '▁광주', '규모', '▁폐지', '력은', '▁집합', '▁일제', '▁밴드', '▁서식', '▁들어가', '▁관측', '▁불리는', '▁품', '▁선수로', '이기', '카와', '하라', '스에서', '레일리아', '▁KBS', '▁가능하다', '▁단순', '군과', '도와', '▁알고', '조는', '▁그녀의', '▁잇', '▁작용', '▁제작된', '▁개혁', '▁특정', '▁촉', 'li', '구는', '행을', '▁스위', '정보', '▁않다', '25', '오는', '▁가져', '디어', '▁구성되어', '▁기초', '형의', '▁필리', '화국의', '▁이야기', '▁도착', '▁십', '▁인민', '▁노르', '▁때는', '▁결성', '하다가', '▁여기서', '과학', '▁교수', '하이', '▁제국의', '소년', '▁비슷한', '자이다', 'og', '▁70', '주로', '▁여객', '▁성립', '▁술', '▁St', '졌고', '▁/', '▁강원', '▁자동차', '▁조각', '량이', '간다', '▁186', '▁해결', '▁궤', '▁조선민주주의', '▁선수권', '▁수많은', '수한', '전의', '▁거부', '▁록', '▁떨어진', '▁스테', '하였는데', '▁아카', '크의', '▁해안', '▁경영', '_3', '▁앙', '웨이', '▁사용한다', '▁디자인', '▁파견', '▁기록했다', '▁상대로', '▁삼성', '▁반란', '속도로', '고를', '▁아무', '시를', '▁지역에서', '▁라디오', '▁바꾸', '▁지냈다', '했다는', '▁행동', '선은', '▁상호', '▁생성', '▁의하면', '▁보다', 'ab', '▁동맹', '▁『', '▁다르', '▁발행', '▁겪', '▁중간', '▁아시', '▁히로', '▁여름', '▁미국에서', '▁북쪽', '▁그린', '▁이루어진', '▁살아', '▁놀', '전이', '▁외교', '어나', '▁187', '▁의원', '▁대표적인', '▁을', '▁남쪽', '▁황제', '▁프레', '90', '▁제시', '▁부정', '▁당선', '센터', '구가', '하기로', '▁나무', '▁대해서', '▁승강장', '▁훈련', '▁슈퍼', '▁지하철', '함을', '▁공작', '▁임시', '▁분포', '자에', '▁타이틀', '▁다만', '▁시행', '▁만에', '▁2020', '촬영', '▁논란', '량을', '▁것과', '▁마찬가지로', '▁오스트레일리아', '▁1945', '(200', '▁형태로', '▁이렇게', '▁투표', '▁근거', '▁위해서', '▁엔진', '미터', '▁in', '부에서', '▁방어', '▁이주', '▁상징', '▁처리', '트워', '관의', 'ard', '▁흡', '▁캠', '▁중에서', '▁빅', '와는', '인트', '▁번역', '▁위험', '아시아', '▁계열', '▁대응', '▁시작하였다', '낸다', '▁교회', '▁일을', '▁1950', '▁끝에', '(20', '▁윌리', '만의', '▁스트', '전은', '왕의', '▁1986', '나가', '▁출생', '▁등록', '▁유니', '았고', '▁부른다', '▁멕시코', '▁1987', '▁디지', '▁년', '지션', '▁표시', '▁벽', '▁개통', '▁야마', '였고', '한다고', '▁시도', '▁n', '▁재판', '업을', '▁제주', '교회', '면을', '시즌', '으면서', '▁붕', '▁꾸', '▁체포', '성으로', '▁준비', '▁사용된다', '▁값', '평양', '▁곳에', '▁즉위', '▁몇몇', '▁있었고', '▁뇌', '▁통치', '조선', '▁있기', '크라', '▁규정', '▁?', '▁삶', '화된', '.1', '.4', '사에서', '▁한국의', '▁아일랜드', '사회', '▁이름이', '▁숨', '21', '▁적이', '▁사용할', '▁곤', '점으로', '▁좋아', '▁시험', '조를', '년을', '요일', '▁회의', '어졌다', '23', '▁활용', '▁쌓', '▁체결', '▁동생', '▁바다', '▁보유', '리에서', '문화재', '▁중단', '24', '▁따른', '▁캘', '디아', '▁제기', '▁대해서는', '▁벤', '화의', '오카', '.6', '86', 'ut', '▁그렇', '학생', 'ie', '▁있지', '▁낳', '대와', '▁본래', '▁1984', '▁보존', '▁다카', '▁미사', '▁안정', '▁다루', '▁종합', '▁나타나', '인들이', '▁조성', '▁가정', '▁직후', '▁귀족', '▁80', '▁유로', '▁경상북도', '▁윈도', '나의', '연합', '▁카를', '▁관련된', '▁종류', '▁밑', '물이', '▁나머지', '부와', '국이', '당이', '해졌다', '▁얼마', '▁시기', '▁지적', '량은', '▁표기', '▁경상남도', '▁계승', '수이다', 'ine', '가이다', '도시', '▁살해', '▁주인공', '▁촬영', 'ht', '▁것도', '▁오브', '▁못하고', '35', '▁완성', '.7', '▁보수', '▁센터', '가로', '습니다', '▁하루', '▁1985', '▁팀의', '▁문학', '▁엘리', '▁서비스', '▁and', '▁못한', '▁떠나', '▁혁명', '였으며', '▁옮겨', '▁사진', '▁내각', '리포', '로가', '니는', '▁동쪽', '▁오후', 'ion', '▁수비', '력의', '나라의', '트에서', '러운', '▁대사', '▁둔', '▁강한', '되자', 'ess', '하에', '▁천황', '▁가능한', '▁금지', '▁대륙', '▁혐', '역으로', '▁유일한', '▁이루어져', '▁위치하고', '▁싶', '인지', '시키고', '전한', '권의', '선에서', '롭게', '▁홍콩', '자들의', '소에', '내고', '▁묘사', '시킨', '▁이스', '▁취임', '안을', '소로', '주교', '▁윌리엄', '▁안에', '▁류', '▁달성', '▁왼', '체로', '려고', '▁유대', 'nt', '서로', '▁비디오', '▁젊', '▁디지털', '▁바르', '국은', '▁해외', '▁스코', '▁의견', '계가', '▁종료', '▁포르투', '티아', '學校', '▁충돌', '▁정부는', '▁르', '▁베르', '▁물론', '▁이용하여', '력으로', '▁벗', '▁스튜', '▁친일', '89', '▁각종', '▁일어난', '▁소개', '▁인근', '▁중의', '▁경우에는', '▁이집', '▁지명', 'br', 'ak', '민족', '치의', '피아', '▁전달', '▁근무', '▁사이에서', '▁필요한', '▁간의', '▁아내', '▁35', '▁위치해', '▁승격', '▁문제가', '▁오사카', '세에', '▁주목', '▁관광', '헝가', '▁억', '▁2,', '▁경기를', '▁가까운', '당을', '▁발사', '▁지역을', '월까지', '로로', '▁빨', '치로', '▁낮은', '▁읽', '▁참여하였다', '▁말을', '▁도시로', '▁32', '▁제거', '임스', '▁베네', 'ity', ')\"', '▁죄', '▁아니다', '▁나누', '▁파이', '▁관계를', '▁위의', '▁전환', '▁듣', '▁이슬', '분을', '적으로는', '조가', '92', '▁1982', '▁합류', '45', '분에', '▁만들었다', '▁남북', '▁둘러', '▁가입', '▁뒤에', '▁알렉산', '▁문제를', '량의', '▁만들어진', '▁폰', '▁썼', '단으로', '▁굴', '작용', '▁중국의', '▁미술', '▁해군', '▁서쪽', '기업', '▁빼', '▁이래', '승을', '워드', '▁명예', '고로', '▁만화', '라우', '▁에이', '▁되었으며', '▁평화', '▁후쿠', 'ph', '▁제도', '▁수가', '▁꼬', '▁출신의', '▁주는', '준다', '니스', '▁불린다', '▁건너', '▁구조를', '▁즐', '▁Ch', \"',\", '▁북부', '.(', '▁갖추', '물관', '그룹', '▁뮤직', '라고도', '▁1983', '▁바탕으로', '▁네트워', '▁미래', '▁정식', '지도', '▁그려', '▁반면', '▁계산', '▁실제로', '석을', '▁옆', '론을', '▁실행', '▁멜', '▁신라', '▁전반', '상과', '▁전시', '▁전략', '되었던', '▁펜', '▁종목', '종이', '▁최고의', '▁너무', '▁마련', '▁정치적', '▁기존의', '▁제목', '인들은', '▁만약', '만에', '일은', '문학', '▁전라남도', '메이', '▁w', '▁부문', '계는', '▁주었다', '신의', '▁오르', '▁In', '권이', '85', '▁사실을', '▁납', '프는', '▁재직', '▁MBC', '▁그해', '▁비밀', 'ist', '시가', '▁기록을', '▁저항', '산으로', '버트', '▁스토', '▁집중', '▁신문', '▁강조', '이던', 'ge', '▁The', '▁통하여', '▁사람은', '▁가는', '▁인식', '산의', '▁부모', '▁넘어', '리어', '미널', '▁맹', '▁배경', '▁생물', '▁연장', 'ber', '▁기후', '산업', '\"(', '즈의', '사이', '먼트', '상에서', '▁작성', '-3', 'ne', '생활', '관리', '▁아키', '메달을', '▁상업', '▁던', '▁사령', '이라고도', '▁정착', '▁마이크로', '점에서', '▁불러', '▁성격', '비가', '크는', '했기', '▁무렵', '▁II', '▁인한', '로스', '년대에', 'CA', '차를', '▁적극', '▁기능을', '▁끼', '▁제외한', '▁하기', '라노', '▁보여주', '▁영역', '질을', '세포', 'est', '▁허용', '▁혜', '▁객', '단체', '▁공급', '보다는', '▁아우', '졌으며', '해를', '▁올랐다', '은행', '교의', '공항', '두고', '시대의', '장이다', '로운', '▁로스', '▁내부', '▁확대', '▁셀', '▁뿐만', '에게는', '▁유형', '▁왔다', '법원', '▁대회에서', '파의', '▁이후에', '전쟁', '47', '▁최소', '▁입학', '▁사용하여', '▁사회주의', 'all', '▁일반적인', '▁나중에', '▁일이', 'ran', '▁의사', '▁오스', '▁사람을', '밖에', ')》', '계에서', '프가', '▁항상', '▁헨', '▁포지션', '22', '▁받아들', '▁정부의', '▁생활을', '▁이슬람', '▁1979', '리포니아', '▁여전히', '▁지진', '▁뒷', '▁족', '▁터키', '▁만드는', '.8', '▁부근', '적이고', '가가', '물로', '▁1981', '▁국방', '▁보면', '▁인디', '▁관찰', '▁전투에서', '르타', '▁이번', '▁제정', '▁케이', '▁그래서', '래프트', '되었는데', 'qu', '.9', '▁시대의', '▁판단', '세이', '▁출발', '▁보도', '▁동료', '▁동부', '▁연극', '▁1972', '년과', '▁원자', '▁확보', '▁핀란드', '호가', '과를', '▁위협', '▁있었지만', '개발', '기고', '▁편집', '▁채널', '▁매년', '원과', '주가', '▁사용되는', '한국', 'ers', '▁a', '▁덴마', '▁보이', '▁붕괴', '▁선의', '▁가리키는', 'ub', '▁바람', '▁쉽게', '▁포르투갈', '▁국왕', '▁뒤를', '면의', '▁등은', '시오', '다이', '▁경우도', '27', '▁정리', '사령', '▁de', '까지의', '▁채택', '로도', '서관', '▁마리아', '았으며', '▁문서', '26', '끄는', '▁젊은', '력에', '▁충분', '▁90', '▁동계', '▁교체', '▁전개', '36', '▁마사', '동차', '▁흰', '▁높이', '실을', '▁이승', '경제', '▁방식', '▁시의', '시로', '▁범죄', '▁시작되었다', '▁1973', '▁합병', '▁500', '▁세운', '▁유리', '▁남동', '대전', 'tic', '▁승리를', '▁끊', '▁모스크', '▁일종이다', 'ST', '▁남편', '▁외에도', '▁말이다', '▁공격을', '▁겨울', '▁다섯', '▁감소', 'art', '▁하자', '▁점차', '37', '▁아나', '▁장기', 'ell', '▁척', '세기에', '▁시기에', '46', '구려', '▁없어', '▁득점', '모리', '화에', '▁떨어져', 'FC', '라운드', '▁계약을', '▁자리를', '▁밖에', '력과', '비는', '▁탑재', '▁측정', '트라', '▁귀국', '당에', '드와', '▁강력한', '로서의', '87', '▁옹', '배우', '▁등에서', '▁전사', '▁의해서', '▁중학교', '▁사람들은', '▁울산', '리기', '▁사용한', '▁서부', '▁블랙', '▁k', '음악', '▁구축', '▁그곳', '의로', '▁녹음', '▁잠시', '하려는', '▁강원도', '▁민간', '▁수학', '대에서', '테인', '▁본관은', '▁얼굴', '▁수립', '▁관심을', '▁냉', '데미', '▁갖춘', '▁하게', '▁성우', '▁책임', '까지는', '▁세르', '▁설립된', '▁에드', '자치', '▁하면서', '계로', '▁당시의', '▁헝가', '문이', '▁캘리포니아', '▁안전', '▁정보를', '▁통신', '▁충청남도', '▁해체', '▁필리핀', '당한', '▁구역', '▁주장했다', '▁변호', '협회', '▁시청', '▁흘', '▁인수', '▁평양', '▁g', '95', '▁파일', '▁증거', '설을', '▁춘', '▁마쓰', '▁45', '▁신경', '▁1974', '▁185', '라엘', '일보', '붉은', '▁알아', '▁불과', '▁자체', '▁화학', '▁침공', '▁해방', '▁균', '구로', '▁만족', 'uc', '스케', '▁왔', '해의', '▁집단', '정으로', '▁구단', '▁잎', '받아', '트에', '▁레코', '되었지만', '면에서', '▁v', '▁주연으로', '▁길이', '▁예선', '▁간주', '98', '▁종종', '틀랜드', '▁사후', '▁발표했다', '▁나뉘', '▁게이', '▁소프트웨어', '다운', '▁경향', '▁요리', '▁라이브', '네시아', '▁건강', '▁델', '일러', '▁여행', '▁시내', '▁대립', '▁쇠', '용으로', '▁나폴', '우리', '▁샌', '▁기획', '민국', '개를', '사키', '▁좀', '무원', '티브', '▁이끄는', 'ice', '▁텍', '▁쪽', '▁이란', '▁개봉한', '▁쓰인다', '▁인간의', '하나', '하다고', '▁임명되었다', '약을', '레이션', '리스트', '▁에스', '▁무역', '▁편입', '▁죽은', '▁음력', '같은', '▁1976', '▁봄', '▁찰', '▁회원', '▁태평양', '었는데', '▁정상', '▁힘을', '류를', '▁컬', '▁나오는', '티나', '▁자신을', '학년', '▁짓', '▁폭발', '▁태어난', '▁때에는', '▁제임스', '▁받는', '▁방식으로', 'our', '▁엑', '▁인사', '자들을', '▁1978', '▁회복', '자에게', '▁개편', '▁비교적', '▁대형', '▁인기를', '▁수입', '▁한다는', 'se', '▁장애', '명한', '75', '▁대상', '후의', '▁설치되어', '▁속에', '▁뛰어난', '▁연맹', '하고자', '키아', '▁기계', '▁라틴', '리학', '▁사례', '▁둥', '▁공공', '▁조정', '박쥐', '▁자본', '▁수정', '▁국회의원', '적이다', '▁아름', '점에', '...', '었으나', '▁1920', '▁조선민주주의인민공화국', '▁&', '▁특수', '▁1971', '▁신설', '▁남성', '▁노력', '▁후손', '▁어떻', '다른', '▁했지만', '▁블루', '라비아', '▁메이저', '신이', '▁루이', '▁에피', '초등학교는', '음이의', '▁숲', '족의', '▁고양', '▁전차', '65', \"'(\", '데스', '32', '▁이것이', '▁저장', 'ip', '▁보이는', '▁형식', '▁위치한다', '종은', '▁사람의', '▁대규모', '화는', '▁고구려', '▁1968', '▁1963', '▁1975', '▁몽골', '▁180', '▁초등학교이다', '▁함수', '▁불가능', '▁카메', '▁피아', '▁복잡', '니어', '포르', '▁네트워크', '▁프로듀', '▁발견된다', '▁농업', 'av', '룬다', '▁이스라엘', '어져', '▁내에서', '형이', '▁e', '▁않을', '로나', '여자', '▁부터', '▁1930', '정책', '▁파리', '▁털', '동의', '▁한다고', '▁원칙', '▁문화재', '▁사실상', '료로', '▁우선', '▁초반', '▁흔히', '▁고전', '리트', '▁내용을', '▁시대에', '▁편성', '▁홈런', '▁식물', '▁본격', '소에서', '▁1940', '▁감염', '▁링', '이었고', '▁아르헨', '유럽', '차례', '43', '▁꿈', '싱턴', '▁있었으며', '▁콩', '▁발매되었다', '군으로', '▁과정을', '49', '▁조금', '▁부인', '종으로', '▁1969', '▁스튜디오', '▁외에', '국을', '▁쉬', '▁기억', '▁구성된', '▁인하여', '▁근대', 'ik', '오프', '▁나카', '▁북서', ',5', '▁트리', '▁300', '▁지역은', '구역', '▁속에서', '터테인', '▁팀은', '▁나서', '▁전혀', '셔널', '▁이전에', '▁어떻게', '미디', '▁모스크바', '제에', '▁원작', '시와', '▁참석', '료를', '품을', '▁아주', '▁도움을', '▁형태의', '▁유명하다', '▁통한', '▁윈도우', '▁있었으나', '예술', '▁열대', '▁구체', '▁아랍', '▁오리', '▁행사', '크라이나', '려는', '▁죽음', '▁잭', '지기', '분의', '▁대상으로', '아버', '▁잘못', '▁증명', 'for', '▁세이', '▁암살', '▁중화인민공화국', '▁설정', '▁사회적', '▁섭', '▁물러', '76', '▁때에', '▁하는데', '▁사용되었다', '전으로', '지면서', '28', '▁탄생', '▁본선', '▁확정', '▁플로', '드에서', '라크', '▁사는', '대회', '었지만', '▁1948', '▁Z', '▁정도의', '▁비난', '법의', '서에', '▁캄', '▁숫', '▁카운', '세계', '공업', '인들의', '▁등장하는', '어와', '▁공부', '▁했고', '▁시장', '▁창설', '년이', '▁짧은', '동음이의', '권에', '▁되면서', '어도', '▁개선', '▁박사', '▁현실', '▁철도역이다', '▁보급', '받은', '▁묻', '▁하였고', '▁기사', '▁한때', '권은', '▁뜻이', '라가', '법에', '인에', '▁', '이', '다', '.', '에', '의', '는', '로', ',', '하', '1', '을', '가', '고', '지', '서', '한', '은', '기', '0', ')', '(', '으', '2', '사', '대', '리', '시', '를', '년', '스', '도', '인', '일', '아', '자', '9', '어', '있', '라', '수', '나', '부', '그', '전', '되', '정', '국', '과', '해', '주', '었', '제', '들', '성', '장', '3', '구', '여', '상', 'e', '적', '동', '했', '5', '8', '월', '위', 'a', '와', '4', '원', '선', '게', '공', '였', '보', '6', '마', '만', '조', '트', '중', '며', 'o', '드', '7', '화', '경', '학', '미', '교', '소', '우', '유', 'r', '세', 'i', '비', '신', '오', '문', '치', '르', 'n', '명', '개', '면', '계', '역', '후', '연', '관', '등', '회', '된', '것', '진', '터', '영', '모', '용', '\"', 't', '발', '프', '군', 'l', '당', '무', '산', '러', '작', '재', '방', '민', '타', '니', '음', 'm', '데', '단', '거', 's', '레', '통', '간', '카', '분', '반', '생', '바', '안', '체', '포', '차', '행', '크', '내', '호', '현', '식', '운', '본', '노', 'u', \"'\", '남', '할', '종', '파', '물', '양', '요', '때', '출', '속', '임', '실', '야', '두', 'S', '-', '함', '형', '던', 'C', '결', '토', '강', '설', '루', '려', '표', 'A', 'c', '히', '키', '코', '각', '법', '초', '승', '독', '태', '업', '직', '건', '까', '디', '불', 'h', '래', '입', 'd', '배', '버', '력', '합', '록', '또', '점', '최', '예', '않', '번', '받', '매', '피', '같', '았', '약', '천', '른', '권', '왕', '말', '베', '메', '티', '《', '》', 'M', 'T', '심', '판', '격', '립', '알', '브', '청', '더', '금', '목', '감', 'B', '투', '추', '처', '북', '없', '항', 'f', '란', '달', '~', '평', '활', 'F', 'I', '외', '네', '열', '따', '린', '특', '저', '·', 'g', '집', '언', '편', 'P', '석', '준', '복', 'D', '테', '향', '즈', '병', '광', '류', '변', 'p', 'k', '질', '름', '령', '난', 'y', '족', '근', 'E', '랑', '급', '총', '람', '황', '송', '김', '존', '페', '축', '많', '올', '쪽', '능', '박', '술', '참', '철', '울', '론', '별', '살', 'L', '환', 'R', 'N', '온', '창', '악', '증', '품', '절', '및', 'O', '육', '료', '곡', '쿠', '백', ':', '새', '쓰', 'K', '플', '져', 'G', '순', '돌', '졌', '량', '필', '께', 'b', '확', '애', '망', '든', '머', '규', '림', '글', '패', '케', '색', '워', '팀', '범', '탈', '날', '견', '극', 'H', '쟁', '클', '련', '삼', '탄', '너', '친', '충', 'V', '랜', '째', '손', '봉', '막', '_', '책', '접', 'v', '뒤', '못', '완', '협', '퍼', '션', 'U', '/', '담', '런', '밀', '채', '츠', '길', '녀', '습', '골', '측', '블', '혼', '곳', '취', 'W', '럽', '엔', '험', '칭', '귀', '누', '겨', '암', '벌', '찰', '슬', '갈', '커', '씨', '’', '앙', '높', '웨', '슈', '‘', '첫', '뜻', '쳐', '침', '허', '즌', 'w', '죽', '효', '획', '볼', '널', '뉴', '응', '센', '났', '착', '큰', '락', '잡', '헌', '례', '희', '렸', '검', '폭', '득', '징', '움', '논', 'J', '%', '농', '섬', '걸', '캐', '홍', '럼', '틀', '풍', '느', '좌', '퇴', '택', '왔', '끝', '폴', '즉', '엘', '폐', '층', '될', '압', '줄', '픽', '헤', '덕', '윤', '싱', '맞', '먼', '념', '앞', '>', '찬', '맡', '긴', '<', '혁', '늘', '갖', '킨', '율', '써', '익', '〈', '〉', '턴', ']', '[', '릭', '잘', '램', '묘', '빈', '슨', '염', '링', '냈', '얼', '벨', '흥', '균', '억', '델', '닌', '앨', '객', '궁', '콘', '밝', '몇', '엄', '맹', '빌', '휘', '훈', '팔', '옥', '얻', '숙', '컵', '렌', '칸', '갔', '쇼', '“', '”', '텔', '칼', '됐', '므', '괴', '넘', '콜', '맥', '푸', '뷔', '좋', 'X', '몰', '붙', '덴', '핵', '찾', '혹', '낸', '흐', '둘', '빠', '떠', '켰', '템', 'x', '액', '혀', '샤', '컴', '릴', '몬', '뿐', '놓', '룹', '률', '쥐', 'z', '탑', '굴', '욕', '십', '끌', '떨', '힘', '잠', '롯', '싸', '죄', '칙', '갑', '핀', '벽', '척', '졸', '략', '춘', '풀', '몸', '먹', '눈', '맨', '켜', '잉', '끼', 'Y', '촌', '휴', '쳤', '잔', '컬', '홈', '벤', '칠', '렉', '밖', '大', '틴', '녹', '렇', '뛰', '몽', '뮤', '곤', '탁', '!', '륙', '폰', '털', '꾸', '혜', '멸', '탕', '둥', '겼', '밴', '웠', '솔', '겸', '혈', '돈', '딸', '톤', '렀', '혔', '셀', '쿄', '팅', '?', '낮', '넷', '컨', '홀', '앤', '님', '둔', '퓨', '냐', '」', '「', '윈', '텐', '랐', '겠', '욱', '롤', '톨', '탐', '떤', '헨', '꽃', '낙', '넓', '촉', '킬', '읍', '왜', '金', '셔', '콩', '렬', '붕', '山', '펜', '뇌', '랙', '옹', '덜', '슷', '흔', '융', '李', '옮', '섭', '=', '듬', '넣', '멘', '빛', '깨', '놀', '곧', '땅', '學', '킹', '닝', '룬', '헬', '팬', '딩', '쌍', '흑', '겐', '힌', '답', '켓', '챔', '롭', '룡', '값', '튜', '멤', '짓', '젤', '큐', '즘', '윌', '쉬', '쇄', '밤', '릉', '렵', '뢰', '웅', '닉', '흡', '튼', '젠', '씩', '납', '듀', '옛', '맺', '닥', '궤', '쉽', '짜', '랭', '숭', '듯', '+', '랫', '中', '文', '잃', '州', '숨', 'Z', '섯', 'j', '젝', '깊', '웃', '&', '롱', '빙', '꼬', '멜', '國', '멀', '쓴', '王', '캠', '펠', '웹', '핑', '큼', '잇', '즐', '끄', '텍', '믿', '뜨', '찍', '잎', '셰', '덤', ';', 'Q', '』', '『', '밍', '펼', '뷰', '짐', '틱', '빅', '돼', '뀌', '멕', '빨', '엽', '틸', '쇠', '짧', '삭', '곱', '子', '롬', '|', '校', '城', '첨', '폼', '東', '힐', '촬', '럴', '럭', '릿', '혐', '三', '道', 'q', '켈', '캘', '썼', '겪', '安', '곽', '낭', '랍', '딘', '옆', '밑', '켄', '氏', '쌓', '삶', '콤', '高', '흘', '人', '南', '벗', '뉘', '싶', '헝', '첩', '낳', '컷', '젊', '닐', '꿈', '냥', '빼', '옷', '랄', '天', '왼', '듣', '됨', '公', '얀', '읽', '닛', '톱', '냉', '셜', '°', '믹', '룩', '平', '寺', '엑', '픈', '事', '法', '벡', '낼', '섰', '숲', '퀴', '봄', '뒷', '엇', '띠', '書', '흰', '宗', '軍', '묵', '벼', '셋', '뤄', '튀', '븐', '붉', '잭', '쿨', '캄', '川', '元', '좀', '앗', '괄', '샌', '뿌', '義', '正', '끊', '뱅', '슴', '맛', '덮', '一', '씬', '넬', '팽', '녕', '륜', '찌', '–', '떻', '숫', '댄', '뱀', '府', '늬', '묻', '院', '長', '첼', '팩', '∼', '・', '짝', '둑', '웰', '石', '춤', 'é', '늄', '成', '쾌', '렴', '톰', '明', '쓸', '海', '셈', '탱', '뤼', '앵', '캔', '엠', '꼽', '깔', '陽', '뽑', '샘', '늦', '렐', '훨', '꺼', '밥', '닫', '西', '쫓', '光', '옌', '횡', '꼭', '君', '上', '太', '앉', '使', '郡', '팝', '德', '會', '原', '뼈', '륨', '地', '덩', '흉', '좁', '끈', '北', '겔', '武', '世', '끔', '家', '行', '部', '新', '봇', '렘', '本', '훗', '主', '꾼', '룸', 'ᆞ', '等', '깃', '룰', '뚜', '日', '都', '멍', '田', '윗', '神', '水', '韓', '덧', '춰', '펙', '랩', '門', '仁', '햄', '갤', '縣', '홋', '政', '퀘', '펴', '듭', '딕', '딜', '삽', '쿼', '꺾', '*', '龍', '生', '묶', '싼', '궐', '官', '륭', '經', '司', '탠', '퀸', '뮌', '윙', '無', '쌀', '꼴', '섞', '朴', '뉜', '겹', '里', '빗', '킴', '興', '눌', '훌', '띄', '趙', '×', '林', '긍', '첸', '슐', '펄', '洞', '忠', '녁', '밭', '셉', '깥', '돔', '相', '넌', 'а', '敎', '녔', '넥', '漢', '夫', '툰', '렛', '白', '民', '所', '永', '江', '聖', '낌', '五', '鄭', '펑', '臣', '和', '慶', '理', '빵', '돕', '馬', '깝', '史', '뿔', '張', '엉', '늑', '섹', '곰', '펀', '똑', '닷', '틈', '훼', '→', '全', 'の', '랴', '딱', '넨', '皇', '善', '컫', '前', '昌', '記', 'о', '흙', '힙', '朝', '굳', '將', '島', '帝', '툴', '갱', '定', '性', '핸', '心', '羅', '팡', '知', '尹', '化', '킥', '셸', '콰', '堂', '빚', 'и', '킷', '톡', '有', '겁', '껍', '之', '士', '풋', '小', '面', '맷', '닭', '벳', '崔', '十', '方', '겉', '京', '河', '松', '社', '쏘', '同', '뮬', '룽', '佛', '下', '時', '不', '淸', '굽', '멈', '古', '콥', '콕', '宮', '옵', '콧', 'α', '뇨', '봐', '푼', '通', '뻗', '代', '밸', '핫', '턱', '四', '信', '師', '딴', '럿', '年', '二', '떼', '꿀', '굿', '像', '렷', '탓', '퉁', '쯤', '論', '華', '죠', '後', '守', '닮', '劉', '樂', '쑤', '홉', '禮', '月', '祖', '八', '왈', '孝', '샹', '尙', '캡', '女', '굉', '줬', '權', '릎', '눅', '릇', '重', '圖', '쁜', '市', '붓', '뚫', '木', '字', 'е', 'н', '툼', '洪', '基', '칩', '黃', '싫', '낱', '物', '샬', '孫', '댐', '雲', '셨', '內', '陵', '놈', '立', '엣', '名', '業', '띤', '닿', '걷', '寧', '侯', '鎭', '듈', '吉', '낀', '合', '自', '科', '、', '廣', '驛', '헐', 'р', '삿', '判', '兵', '集', '갓', '흠', '派', '젖', '功', '殿', '柳', '順', '分', '봤', '監', '냄', '쩌', '衛', '宋', '承', '體', 'ー', '靑', '솟', '六', '春', '펌', '잊', '谷', '웬', '걱', '九', '周', '建', '議', '퐁', '景', '쉐', '※', '曹', '덟', '앱', '直', '옴', '솜', '•', '制', '돋', '곁', '美', '흩', '쥬', '쿤', '度', '톈', '둠', '슘', '者', '얄', '얇', '郞', '源', '굵', '英', '路', '륵', '긋', '쏟', '村', '얘', '福', 'á', '휩', '껴', '館', '멋', '짙', '宣', '見', '身', '左', '章', '萬', '팜', '탤', '花', '星', '貞', '꾀', '觀', '號', '렁', '#', '맵', '眞', '的', '$', '初', '節', 'с', '쯔', '밟', '濟', '꿔', '動', '治', '野', '훔', '덱', '泰', '뭉', '侍', '康', '副', '컸', '傳', '造', '챌', '캉', '왓', '뚝', '開', '根', '뤘', '外', '典', '音', '国', '壽', '떡', '令', '臺', 'к', '式', '쁘', '옐', '寶', '玉', '끓', '別', '應', '憲', '利', '햇', '{', '吳', '族', '奉', '思', '휠', 'い', '鮮', 'в', '뀐', '텀', '핍', '댓', 'ü', '后', '實', '命', '戰', '`', '씀', '語', '짱', '良', '御', 'ン', '唐', '弘', '修', '꽤', '保', '申', '촨', '잦', '맘', '횟', '智', '슭', '說', '浦', '親', 'л', '在', '作', '賢', '空', '錄', '阿', '픔', '形', '줌', '펫', '來', '塔', '省', '梁', '썬', '빔', '進', '位', '괘', '土', '敬', '앓', 'т', '老', '詩', '싯', '歌', '뒀', '벅', '밋', '工', '色', '界', '津', 'ا', '徐', '붐', '右', '엿', 'ο', '線', '參', '井', '秀', '碑', '갇', '얹', '땄', '눠', '七', '流', '延', '溪', '齋', '言', '風', '陳', '多', '깎', '딪', '護', '運', '멧', '샨', '間', '헥', '땃', '줘', '用', '팟', '如', '數', '藤', 'ö', '맑', '맏', 'ó', '常', 'ā', '藏', '口', '찐', 'μ', '슛', '벵', '玄', '任', '達', '꼈', '反', '텝', '楊', '몫', '許', '닦', '찔', '密', '甲', '場', '걀', '先', '鳳', '車', '옳', '對', '志', '깐', 'í', '亭', '뭇', '곶', '씌', '錫', '沈', '끗', '靈', '낫', '朱', '郎', '頭', '윅', '統', '쟈', '≪', '印', '≫', '夏', '禪', '얽', '佐', '랏', '熙', '麗', '烈', '姜', '팍', '出', '츄', '務', '뻔', '察', '團', '伯', '園', 'ν', '愛', '百', '識', '쭉', '榮', '器', '草', '關', '캅', '豊', '}', 'ι', '湖', '員', 'ς', '嘉', '現', '鄕', '튬', '儀', '귄', '諸', '뚱', '勝', '橋', '從', '意', '植', '晉', '商', '解', '墓', '■', '낚', '氣', '볍', '앰', '遠', 'ä', '祭', '鐵', '뜬', '○', '益', '千', '뱃', '容', '管', '뻐', '헛', '加', '竹', '伊', '起', '領', '坐', '챙', '쾰', '궈', '沙', '遺', '第', '팰', '찮', '調', '엮', '귤', '魏', '엥', '쩔', '恩', '秦', '處', '想', '機', '싹', '욘', '力', '非', 'ρ', '居', '雄', '―', 'し', '뾰', '報', '異', '畵', '핏', '렝', '뫼', '꿨', '泉', '惠', '次', 'ん', '캣', '柱', '鍾', '샐', '術', '黨', '火', 'β', '始', '我', 'τ', '支', '훙', '岩', '。', '崇', '뭄', '丁', '탬', '紀', '室', '쉴', '秋', '俊', '受', '得', '宇', '盧', '섀', 'か', '샀', '品', '웍', '廳', '昭', 'な', '資', '池', '깜', '類', '삐', '푹', 'う', '交', '얕', '낄', '넛', '果', '랬', '쿡', '싣', '舍', '뮈', '嚴', '營', '咸', '目', '育', '提', '돗', '꽂', '姓', '챈', 'ل', '曲', '늙', '系', '뜸', '局', '試', '總', 'ε', '믈', 'λ', '仲', '렙', '妃', '齊', '香', '@', '彦', '富', '卿', '圓', '尉', '少', 'ス', '顯', '能', '手', '波', '男', '表', '魚', '致', '꽝', '껏', '發', '댈', 'м', '群', '瑞', '냅', '慧', 'д', '吏', '숀', '戶', '防', '極', '角', '눔', '갚', '象', '農', '셴', 'た', '共', '母', '큘', '恭', '츰', '産', '情', '首', '쾨', '故', '署', '늪', '薩', '»', '촛', '짖', '邑', '즙', 'σ', 'と', '因', '췄', '蘇', '샵', '썩', '훤', '博', '☆', '짚', '尊', '樞', '탭', '虎', '覺', '陸', '찢', '△', '庵', '仙', 'й', '町', '結', '峰', '牧', '電', '갯', '듐', '쪼', '入', '房', '릅', 'イ', '몹', 'ル', '딧', '陰', '區', 'у', '半', '펭', '뿜', '獻', '蓮', '췌', '協', '倉', '屬', '淑', '閣', '녜', '빽', '完', '뜰', 'è', '域', '蔡', '뇽', '巖', '贊', '딥', '룻', '板', '겟', '範', '쁨', '슌', '괌', '굶', '溫', '翼', '菩', 'り', '普', '呂', '씻', '靖', '숍', '變', '～', '펩', '勳', '可', '쩐', '깁', '父', '넉', '乙', '連', '−', '쿰', 'る', '鶴', '맬', '哲', '엎', '銀', '丹', '퀄', '퀼', '샷', '邊', '僧', '死', '督', '뮐', '엡', '律', '燕', '핼', '学', '貴', '壇', '«', '船', '越', '祠', '台', '友', '淵', '뭐', '珍', '復', 'κ', '衆', '彌', '淳', '職', '載', '輔', '久', '벙', '—', '斗', '탔', '볶', '舊', '港', '롄', '\\\\', '藝', '近', '郭', '샴', '슝', 'ラ', '젯', '喜', '境', '莊', '쵸', '隆', '種', '赤', '奇', '잼', '껑', '벚', 'に', '具', '똥', '꿰', '뜯', '足', '윽', '允', '精', '臨', '썰', '衣', '땀', '澤', '純', '舞', '層', '特', '禹', '잣', '튠', '毛', '禁', '座', 'ま', '煥', '퓌', '球', '둡', '촘', '爲', '둬', '亞', '惡', '旨', '龜', '′', '素', '訓', '均', '맴', 'ら', '住', '낡', '뵈', '뽀', '촐', '陀', '雨', '奎', '쥘', '址', '廟', '洋', '멩', '쑨', 'リ', '儒', '꼼', '洙', '養', '劇', '條', '誠', '期', '轉', '텅', 'ト', '깅', '盛', '蘭', '閔', '魯', 'き', '備', '射', '隨', '괜', '멱', '浩', '私', '욤', '댕', '慈', '낯', '퓰', 'π', '聲', '丘', '内', '執', '€', '牛', '警', '좡', '今', '隊', '刑', '葉', '藩', '要', '念', '隱', '醫', '켐', '那', '放', '젓', '쥔', '以', '麻', '緣', '取', '킵', '列', '岳', '弼', '兼', 'γ', '淨', '뎀', '됩', '綱', '츨', '獨', '팎', '胡', '布', '質', '兒', '岡', '戦', '至', '桂', '聯', '팻', '±', '愼', '持', '謙', '훅', '檢', '改', '穆', '雙', 'は', '祿', '肅', '靜', '量', '캇', '觸', '羽', '製', '嶺', '希', '然', '若', '밧', '冠', 'ッ', '딤', 'く', '狀', '茂', '밈', '亂', 'ن', '封', '譜', '웜', '쉰', '圭', '洛', '由', 'お', '캥', '戒', '苦', '몄', '離', '띈', '釋', '쏠', '比', '錦', '約', '計', '랠', '聞', '助', '惱', '望', '賀', '썸', '퀀', '夢', '補', '銅', '于', '汝', 'я', 'ي', 'ク', '亨', '孔', '件', '飛', '珠', '뇰', '單', '甫', 'さ', '팥', 'δ', '帶', '卷', '欲', '兩', '委', '裵', '쑹', '칫', '剛', '末', '鏡', '뱌', 'ア', '摠', '考', '藥', '엌', '‧', '^', '왁', '客', '寅', '餘', '孟', '敏', '辛', '問', '屋', '樹', '杜', '易', '清', '짠', '尾', '恒', '鳥', '型', '留', 'à', '眼', '準', 'ī', 'て', '向', '誌', '쏜', '챠', '慕', '헴', 'η', '夷', '廷', '樓', '쐐', 'ç', '宰', '麟', '뭔', '퍽', '克', '役', '祥', '端', '윔', '쿵', '꽁', '威', '紅', '格', '滿', '環', '갸', '폈', '丞', '求', '黑', '솥', '技', '影', '会', '梅', '好', '晋', '葛', '釜', '鉉', 'г', '烏', '宅', '僉', '翰', 'あ', '究', '細', 'ь', '食', '쨌', 'ر', 'م', '厚', '己', 'و', '演', '叔', '辰', '摩', '넴', '乘', '講', '丙', '諫', '먀', '秉', '酒', '덥', '衡', '잖', '回', '啓', '選', '題', '騎', '깡', '뺏', '指', '曺', '證', '財', '乾', 'ち', '則', '쩍', '徳', '筆', '돛', '煩', '遊', 'É', 'â', 'タ', '增', '斷', '邱', '簡', '茶', '滅', '妙', '祐', '骨', '服', '話', '炳', '假', '籍', '敦', '未', '雅', '욜', '懿', '桓', '略', '젬', '句', '댁', 'こ', 'だ', '散', '宜', '条', '點', '콴', '昇', 'С', '邪', '늠', '雜', '裕', '딛', 'み', '軒', '銘', '얌', '扶', '輪', 'ы', '눕', '央', 'ú', '遼', '巨', '續', '革', '歸', 'シ', '뛴', '設', '刺', '襄', '鎬', '툭', '坊', '旗', '雪', '季', '擧', '硏', '策', '登', '盟', '뎅', '賜', '찻', 'つ', '休', '振', '曆', '丸', '征', '倭', '庶', '難', '칵', '震', 'ド', '庭', '繼', '固', '寬', '殷', '핌', '積', '廉', 'ч', '依', '契', '庫', '翁', '쑥', '貪', '卞', '勞', '病', '뮴', 'θ', 'が', '健', '놉', '앳', 'ί', 'ᄀ', 'を', '罪', '送', '읊', '簿', '峴', '最', '紙', '웁', '́', '俗', '旌', '感', '願', 'ω', '株', '欽', '版', '超', 'п', '洲', '옅', '姬', '贈', '際', '뺨', '힉', '刻', '坡', '寫', '皮', '⁄', '注', '童', '땐', '볕', '캬', 'も', '夜', '消', '燮', '뛸', 'υ', '詞', '賓', '邦', '★', '紫', 'ά', '翊', '쉘', '爾', '琴', '뺀', '懷', '漏', '僕', '再', '勢', '逸', 'す', '梵', '룀', 'カ', '晩', 'マ', '旅', '組', 'ᄋ', '区', '匡', '潤', '蒙', '諦', '횃', 'ό', '徒', '盤', '鑑', 'Δ', '←', '程', '蓋', '追', '介', '팸', 'れ', '深', '鼎', 'б', '序', 'え', '甘', '速', '過', '陶', 'よ', '歷', '썹', '쭈', '切', '鐘', '∙', '才', '県', '亮', '惟', '納', '엷', '磨', '巡', '站', '뀔', '봅', '料', '뽕', '凉', '止', '症', '퀵', 'د', '譯', '掌', '殺', '浮', '옙', '構', '팁', 'ジ', 'ロ', '配', '落', '壤', '芳', '샛', '推', '楚', '웸', 'š', 'з', '存', '毅', '刊', '熊', '꼰', '斯', '磁', '勇', 'ñ', '習', '背', 'ł', '꿇', '텃', '畿', '碩', '編', '置', '蘊', '갠', '숄', '尼', '虛', '於', '灣', '露', '땡', '춧', '泳', 'х', 'レ', '宿', '戸', '넵', '施', '頼', 'ê', '也', '而', '袁', '奴', '疏', '染', '維', '述', '活', '織', '씹', 'キ', '텡', '嬪', '街', '깬', '쉼', 'け', '項', 'フ', '率', '鹿', '失', '岐', '켤', 'ب', '祚', '迦', '냇', '뎌', '評', '깼', '奏', '當', '짤', '튿', '勒', '将', '崎', '뻘', '壁', '峯', '稅', '鳴', 'К', '輝', '差', '帥', '熱', '真', '〜', '專', '弟', '與', '告', '墳', '鬼', 'ß', '긁', '何', '干', '幸', '揚', '導', '米', '坪', '潭', '睦', 'ニ', '倫', '規', '墨', '爭', '步', 'コ', '堅', '模', '階', '刀', '援', '꽉', '찼', '휼', 'オ', '標', '닙', '뱉', '펨', 'ᄂ', 'っ', '冬', '舜', 'А', '移', '貢', '徽', '血', '賊', '蹟', '쇤', '撰', '獄', '紋', '綠', '引', '壬', '燈', '耶', '댑', '享', '決', '錢', '텟', '폄', '幕', '渡', '謝', '꺽', '눗', 'ᄅ', '案', '兪', '眠', '視', '貫', '깍', 'じ', '害', '蔚', '랗', '윳', '홑', '吾', '耳', '賞', '鼓', '其', '嗣', '葬', 'ô', '午', '奈', '弓', '愚', '照', '邉', 'ᄃ', '勤', '般', '輸', '撫', '青', '줍', '紹', '裝', '▲', '阮', '段', '솝', 'で', '秘', '胤', '辭', '힝', 'ᄆ', '豆', '솅', 'æ', 'ı', '候', '坂', '讀', '限', '얏', '戱', '浪', '伽', '庚', '歲', '쏴', '伏', '됭', '젼', '函', '操', '教', 'ナ', '栗', 'ū', 'φ', 'М', '豫', '査', '降', '웡', '喪', '魔', '算', '쌈', '쭤', '附', '뢴', '劍', '篇', '鴻', 'ə', 'や', '堤', '微', '忍', '授', '쎄', 'わ', '兄', '喆', '齡', '챕', 'ᅳ', '帖', '芝', '薛', '쫒', '諡', '£', 'П', '関', '頂', '符', '륀', 'ウ', '뎃', '創', '禧', '뜩', '傅', '壯', '材', '庄', '稷', '破', '鬪', '춥', '曾', '顔', '唱', '塚', '睿', '瞋', '障', '빴', '是', '班', '韻', '뎬', '幀', '級', '惑', '映', '蜀', '衍', '哀', '肉', '号', '廢', '彩', '接', '赫', '寒', 'س', '優', '閭', '뵤', '쩡', 'テ', '收', '脈', 'ø', 'ć', '伐', '脫', '舌', '還', '驪', '놨', '森', '檀', '須', 'В', 'ノ', 'ミ', '淮', '董', '郵', 'ш', '─', '冊', '꿩', '텁', 'バ', '箕', '萊', '談', '⟫', 'ャ', '徵', '油', '땜', '숱', '佑', '攝', '経', '묀', '찹', '岸', '救', '牙', '鍊', '̊', '包', '桃', '菴', '巴', '癡', '碧', '展', '請', '맙', '헵', '⟪', '味', '尺', '孤', '幹', '敵', '꿉', '튕', '給', '齒', '씽', '宝', '漁', '稱', '終', '讓', '退', '匠', '卯', '舟', '蔵', '黎', '놔', 'エ', 'チ', '融', '랸', 'ã', '去', '婦', '疑', '댜', '륄', '젱', '찜', 'サ', '逆', '떴', '卓', '潘', '볜', '헹', 'ع', '梨', '뤽', '뽐', '亥', '絶', '跋', '넋', '좇', 'έ', '寂', '잿', '橫', '番', '雍', '例', '崖', '換', '駐', '鷄', 'ひ', '唯', '実', '必', '陣', '빡', '쌌', '審', '蕭', 'ت', '羊', '숯', '컹', '仕', '湯', 'モ', '屯', '默', '县', '強', '腹', '썽', 'ュ', '價', '示', '옻', '잰', '햐', 'ᅵ', '柴', '旭', '覆', '賦', '鹽', '셍', '巫', '彭', '酉', '〕', '輿', '얗', '了', '婆', '戊', '毘', '菊', '著', '귈', '묄', '便', '培', '愍', '胎', '꿋', 'ィ', '慢', '爵', '뻣', '숏', '他', '낵', '潮', '탸', 'ē', '俱', '祀', '껌', 'ō', '〔', '댔', '볏', '앎', '흄', '貨', '푀', 'め', '築', '航', 'Б', 'י', 'グ', '妻', '朔', '澄', '禎', '遂', '酸', '丈', 'χ', 'ц', '巳', '濬', 'Р', '砲', '쌔', '広', '뷸', '녘', '括', '泥', '牟', '굼', '밌', '븀', '핥', 'Đ', '□', '停', '打', '折', '癸', '蔣', '覽', 'ư', 'ば', '牌', '탯', 'ょ', '輕', 'ズ', 'ム', '片', '헷', '底', '及', '듦', '줏', 'ه', '仇', '複', '軌', '툇', '占', '幡', '莫', '衙', '쳇', '万', '稿', 'ハ', '楽', 'プ', '祝', 'ή', '拳', '沃', '着', '蟲', '鎌', '炎', '탉', '戴', '整', '泗', 'ガ', '裁', '똘', 'メ', '肖', '駿', '챗', '券', '尚', '짊', '\\xad', 'ブ', '拓', '殊', 'ă', 'ˈ', 'ᄉ', '升', '召', '嫡', '庸', '槐', '沢', '突', '筵', '討', '乳', '擊', '菜', '휜', '佳', '尋', '店', '桐', '놋', '彰', '杉', '梧', '短', '쨩', '禍', '范', '鼻', '測', '曉', '朗', '枝', '鎮', '除', '덫', '坤', '就', '敍', 'Α', 'ろ', '係', '抗', '遷', '갬', 'ë', 'ː', '災', 'ᄇ', 'ゃ', '傑', '勅', '奭', '彈', '戌', '淡', '炯', '訴', 'И', '宙', '彫', '訪', '註', '냑', 'ύ', '凡', 'Н', '丑', '競', '賈', '辨', '溝', '藍', '幢', '態', '早', '갭', 'า', '胞', '荷', '被', '悲', '抄', '暴', '漆', '虞', 'ح', '壺', '槃', '汗', '耆', '額', '●', '穴', '雷', 'デ', '昊', '渾', '笠', 'Π', '乱', '昧', '苑', '荊', '待', '氷', '豪', '履', '甁', '遍', '郷', '魂', 'č', '乃', '禦', '綜', '綾', '艦', '閑', '隋', '괭', '눙', '욧', '仰', '幽', '探', '核', '穀', '卜', '各', '婚', '鈴', '塘', '毒', '炭', '粉', '鉢', '췬', 'Г', '∞', '垂', '扈', '賴', '껀', '젭', 'Σ', '犯', '遞', '拜', '눴', '沖', '珪', '采', '귓', '亡', '側', '呼', '権', '沼', '砂', '賣', '넙', 'ş', '█', '悟', '捨', '涅', '租', '頌', '앴', '첵', 'ふ', '濃', '荒', '費', '遇', '닳', 'ו', '儉', '迎', '뉠', '쁠', '쿱', '悅', '熟', '蕃', '궂', '쭝', 'å', '云', '企', '浚', '薰', '넜', 'Á', 'ж', '་', '投', '来', '耕', 'Т', '為', '総', '肥', '陜', '뺄', 'ゆ', '伴', '供', '宴', '按', '絲', '謹', '走', '긱', 'ぶ', '応', '卽', '庾', '效', '曰', '跡', 'そ', '卒', '哈', '浜', '鏞', '튤', '懸', '矢', '認', '뷜', 'ダ', '余', '卑', '寛', '床', '排', '擇', '晴', '璋', '網', 'ビ', '低', '急', '暗', '更', '盡', '黄', '넝', '숴', 'ق', '姫', '屠', '뵐', 'ی', '幼', '杖', '樣', '驗', '늉', '뚤', '콸', '億', '謀', '軸', '陟', '깟', '伝', '僞', '筑', '縛', '諱', '쥰', 'パ', '席', '攻', '晶', '섣', 'Д', 'ה', 'ف', 'せ', 'ど', 'ワ', '倍', '宏', '息', '窟', '鎔', '兆', '堯', '菌', '諭', 'ᄌ', '勿', '灘', '鄧', '헉', '冷', '彬', '獸', '舒', '馮', '喬', '忘', '眉', '緖', '豐', '飯', '쳅', '팹', '免', '含', '播', '洗', '燦', '瓦', '꾹', '垣', '奮', '招', '瀬', '謨', '겜', '†', 'ず', '圈', '烽', '迪', 'Л', 'ة', '銃', '쟝', '짬', 'ᄒ', '又', '戎', '緯', '훠', 'ᄏ', '塾', '駕', '鷹', '뎠', '솽', '펍', '【', '】', '束', '答', '買', '頓', '髮', '돤', 'ר', '壓', '奥', '蔭', '衝', '뭘', 'ج', 'ツ', '呪', '課', '頃', 'Κ', '党', '冥', '慰', '負', '껄', '벰', 'Ö', '↔', '憂', '昆', '텨', 'О', '浙', '蒲', '詳', '윕', '东', '充', '損', '뀜', '몐', '셤', '왠', 'ョ', '忽', '扇', '蜜', '劑', '强', '架', '索', '聚', '黒', '涉', '混', 'ร', '体', '渠', '犬', '篆', '險', '뗀', 'ð', 'ơ', 'ェ', '荀', '阪', '寄', '悌', '掛', '湘', '爐', '辦', 'ŋ', 'ほ', 'セ', '押', '詔', '괵', '듄', '셧', '숟', 'Φ', '沿', '綏', '韋', '뗏', '쬐', '팠', 'ï', 'ケ', '偏', '寇', '往', '揮', '樑', '訥', '阜', '샥', '텼', '⋅', 'び', '迷', '雀', '믐', '뷴', '쫄', 'î', 'ý', '瞻', '鑄', '빤', '푈', '伸', '嶽', '潛', '灌', '疾', '筒', '羲', '겅', '떳', '偉', '対', '戚', '拉', '糖', '訟', '顧', '맣', '왑', '此', '澈', '箭', '켠', 'ò', 'ệ', '付', '忌', '桑', '絃', '챘', '堀', '帽', '悼', '沒', '甄', '笑', '鉄', '镇', '雕', '닻', '씰', 'む', '傷', '屛', '幾', '溟', '練', '襲', '왐', '参', '綿', '諺', '適', '只', '姚', '晦', '満', '쏙', '챤', '≤', 'ね', '乞', '柔', '栢', '樊', '蒼', '観', '鑛', '끽', '숑', 'ś', 'א', '々', '꼿', 'ヶ', '갉', '뎁', '似', '广', '捕', '橘', '覇', '鵬', 'Ε', 'أ', 'ボ', '堡', '蘆', '蛇', '쪄', '刹', '郁', 'ž', '廊', '浅', '繫', '耽', '샅', '햅', '吹', '渓', '僖', '娘', '巾', '斤', '燧', '畫', '療', '线', '貝', '遮', '隣', '霞', 'э', 'ю', 'น', '冀', '脚', '誤', '꿍', '쥴', '톳', 'Å', 'ァ', '塵', '已', '看', '祉', '綬', '訣', '違', '넹', '뺑', '뻑', 'ᅡ', '旦', '游', '纂', '芸', '짼', '쳄', '휨', 'Š', 'ա', 'げ', '慮', '琉', '翔', 'ネ', '値', '劃', '斥', '暦', '瑜', '膺', 'ù', '借', '勸', '吐', '峻', '曜', '減', '燁', '皆', '窯', '膜', '零', '従', '循', '晟', '狄', '猛', '璿', '禄', '互', '圃', '幻', '燒', '獅', '瓊', '盜', '萱', '讚', '뭍', '債', '婢', '裏', '譚', '貿', '鳩', 'ế', '円', '屈', '歐', '漫', '皐', '趣', '鐸', '岑', '旋', '갛', 'ش', 'ヤ', '勉', '婁', '杏', '杓', '汀', '煙', '礙', '稽', '竿', '賤', '遣', '馨', '割', '卵', '塞', '変', '寵', '怪', '斬', '横', '狂', '珉', '避', '땔', '묽', '짰', '칡', 'ベ', '揆', '敞', '榜', '琳', '盆', '翠', '闕', '넸', '्', '恪', '挺', '擬', '旺', '棋', '睡', '翟', '裴', 'へ', 'ゅ', '亀', '抱', '湛', '粹', '솁', '쉔', '힛', 'ì', 'ń', '伎', '弐', '衿', '껫', '톄', 'ψ', 'ك', 'र', 'ソ', '姑', '弁', '怡', '昔', '杞', '畢', '確', '礪', '祈', '肇', '趾', '週', '預', 'ğ', 'Λ', 'ё', '誘', '閤', '륌', '폿', '徹', '殉', '遵', '邵', '閉', '飾', '빳', '쩨', '쳉', 'Ω', 'َ', '凝', '媛', '恐', '斎', '票', '辯', '閻', '켁', '斜', '熹', '画', '畜', '縱', '藻', '遜', '냘', '횔', 'ф', '個', '倒', '寿', '廻', '析', '沛', '炫', '窩', '腦', '説', '龐', '냔', 'ě', '♪', '串', '廬', '恵', '涼', '濱', '繁', '纏', '邸', '욥', '잽', '튈', 'ز', 'ᄎ', 'ᅩ', 'ḥ', '叢', '妄', '帳', '湜', '盈', '祗', '羌', '聰', '肩', '駒', '뒬', 'Μ', 'ξ', '„', '竺', '腸', '託', '録', '®', 'У', 'ב', '卦', '壞', '拔', '杭', '渭', '糧', '脂', '謁', '퉈', 'ạ', 'ピ', '奧', '峽', '快', '柏', '漸', '隸', '顕', '섐', '탰', 'ᄑ', '妓', '朋', '札', '棟', '檜', '渤', '珥', '畠', '秩', '詠', '鴨', '빻', 'Ü', 'і', '‚', 'ヒ', '凰', '峙', '灰', '猿', '瑩', '繡', '脩', '詮', '謠', '铁', 'ぎ', '圍', '崗', '敷', '溶', '脣', '苻', '醴', '隅', '좨', '쭐', 'מ', '场', '幣', '弥', '捷', '皓', '績', '誓', '陝', '녓', '씁', '윷', '죤', 'Γ', 'ご', '否', '彼', '悔', '滉', '狗', '窮', '褒', '輯', '鈞', '鎖', '뢸', 'ा', '什', '叉', '棺', '牒', '猶', '逢', '鄒', '銓', '閱', '▶', 'ぬ', '倂', '冶', '凶', '患', '液', '瀛', '疇', '筋', '薄', '裂', '阳', '냠', '찧', 'ζ', 'ṭ', 'ễ', '夕', '尤', '拘', '柄', '璽', '需', '響', '뗄', '∎', '勃', '戀', '楷', '歡', '溥', '軾', '鎰', '駅', '윰', '予', '伺', '採', '紗', '詹', '針', '飮', '黔', '깰', '멎', '틋', 'ܐ', '寸', '崙', '拾', '獲', '祇', '禿', '蠶', '遲', '鋼', '飡', '亦', '滋', '疫', '硬', '꽈', '뵙', '셩', '웩', '츤', 'ל', 'ა', 'ザ', 'ポ', '吸', '巢', '恨', '據', '暉', '楞', '电', '畏', '誕', 'ʼ', 'ก', 'ᄐ', '僚', '嵌', '椒', '爆', '瓚', '研', '篤', '胄', '螺', 'ʿ', 'ъ', '倻', '償', '哉', '爀', '狼', '窓', 'ง', '与', '你', '凌', '危', '坦', '塑', '弗', '弱', '械', '棲', '澗', '誼', '뜀', '솀', 'ɪ', 'Ο', 'อ', '♭', 'ぐ', '滄', '苗', '趺', '밉', '뺐', '‰', 'ゴ', '冕', '団', '旻', '瑛', '穡', '辺', '잴', '쫑', 'ώ', 'ᅮ', '偶', '厭', '当', '殘', '滑', '瓜', '竟', '臧', '醉', '隴', '믄', '웽', '쿈', '훑', 'Β', '図', '幅', '恋', '愧', '暎', '槍', '粒', '縮', '臥', '虹', '衰', '醮', '霖', '퍄', '§', 'Č', 'đ', 'ʻ', 'Ф', 'ი', 'ṣ', 'ギ', '凱', '叱', '幷', '批', '晃', '栄', '每', '気', '琦', '禾', '諍', '辟', '鞍', '韶', '驅', '쐈', '쾡', '홰', 'Θ', 'ม', 'ホ', '兎', '峨', '曼', '沆', '瀑', '燃', '罰', '聽', '腫', '腺', '莞', '鱗', '뷧', 'ط', '丕', '兢', '到', '媒', '悳', '掾', '旬', '曇', '汚', '涵', '牡', '猫', '璧', '郊', '髻', '鬱', '龙', 'З', 'べ', 'ヴ', '墩', '拍', '敗', '旣', '椿', '沔', '点', '籠', '継', '耀', '豹', '貸', '閩', '鞠', '쇳', '쟌', '刷', '哥', '懺', '昕', '楓', '痛', '矣', '礎', '竇', '虜', '鄴', '겊', '꽌', '垈', '尸', '慚', '楠', '絹']\n"
          ]
        }
      ]
    },
    {
      "cell_type": "code",
      "source": [
        "print(len(vocab_list))"
      ],
      "metadata": {
        "colab": {
          "base_uri": "https://localhost:8080/"
        },
        "id": "qC4-6K6htRHO",
        "outputId": "add72ef0-eb68-404f-ddb2-cb4a431f07ce"
      },
      "execution_count": 6,
      "outputs": [
        {
          "output_type": "stream",
          "name": "stdout",
          "text": [
            "8000\n"
          ]
        }
      ]
    },
    {
      "cell_type": "code",
      "source": [
        "# [CLS], tokens a, [SEP], tokens b, [SEP] 형태의 token 생성\n",
        "string_a = \"추적추적 비가 내리는 날이었어 그날은 왠지 손님이 많아 첫 번에 삼십 전 둘째번 오십 전 오랜만에 받아보는 십 전짜리 백통화 서푼에\"\n",
        "string_b = \"손바닥 위엔 기쁨의 눈물이 흘러 컬컬한 목에 모주 한잔을 적셔 몇 달 포 전부터 콜록거리는 아내 생각에 그토록 먹고 싶다던\"\n",
        "tokens_org = [\"[CLS]\"] + vocab.encode_as_pieces(string_a) + [\"[SEP]\"] + vocab.encode_as_pieces(string_b) + [\"[SEP]\"]\n",
        "print(tokens_org)"
      ],
      "metadata": {
        "colab": {
          "base_uri": "https://localhost:8080/"
        },
        "id": "W5HZA0ZGtSN8",
        "outputId": "5e7d0759-56ba-478d-f683-2d96dedbe78d"
      },
      "execution_count": 7,
      "outputs": [
        {
          "output_type": "stream",
          "name": "stdout",
          "text": [
            "['[CLS]', '▁추', '적', '추', '적', '▁비', '가', '▁내', '리는', '▁날', '이었', '어', '▁그', '날', '은', '▁', '왠', '지', '▁손', '님', '이', '▁많', '아', '▁첫', '▁번', '에', '▁삼', '십', '▁전', '▁둘', '째', '번', '▁오', '십', '▁전', '▁오', '랜', '만에', '▁받아', '보', '는', '▁십', '▁전', '짜', '리', '▁백', '통', '화', '▁서', '푼', '에', '[SEP]', '▁손', '바', '닥', '▁위', '엔', '▁기', '쁨', '의', '▁눈', '물이', '▁흘', '러', '▁컬', '컬', '한', '▁목', '에', '▁모', '주', '▁한', '잔', '을', '▁적', '셔', '▁몇', '▁달', '▁포', '▁전', '부터', '▁콜', '록', '거', '리는', '▁아내', '▁생각', '에', '▁그', '토', '록', '▁먹', '고', '▁싶', '다', '던', '[SEP]']\n"
          ]
        }
      ]
    },
    {
      "cell_type": "markdown",
      "source": [
        "## 2. Mask 생성\n",
        "\n",
        "BERT의 Masked Language Model(MLM)은 GPT의 Next Token Prediction 태스크처럼 ```다음 이어질 단어는?``` 을 맞추는 게 아니라 마스킹 된 ```다음 빈칸에 알맞은 단어는?``` 문제를 푸는 형식으로 구성됩니다.\n",
        "\n",
        "MLM을 위해 BERT는 학습 데이터의 전체에서 15%를 [MASK] 토큰으로 랜덤하게 바꿉니다. 이 15%의 [MASK] 토큰 중 80%는 [MASK] 토큰, 10%는 무작위로 랜덤한 토큰, 나머지 10%는 원래의 토큰을 그대로 사용합니다."
      ],
      "metadata": {
        "id": "8FFCgJoKvCsH"
      }
    },
    {
      "cell_type": "code",
      "source": [
        "print(tokens_org)\n",
        "\n",
        "# 전체 token의 15% mask\n",
        "mask_cnt = int((len(tokens_org) - 3) * 0.15)\n",
        "mask_cnt"
      ],
      "metadata": {
        "id": "GsNPb09ptVWS",
        "colab": {
          "base_uri": "https://localhost:8080/"
        },
        "outputId": "1ec147dc-fd86-48e4-a546-e4e9772af86d"
      },
      "execution_count": 8,
      "outputs": [
        {
          "output_type": "stream",
          "name": "stdout",
          "text": [
            "['[CLS]', '▁추', '적', '추', '적', '▁비', '가', '▁내', '리는', '▁날', '이었', '어', '▁그', '날', '은', '▁', '왠', '지', '▁손', '님', '이', '▁많', '아', '▁첫', '▁번', '에', '▁삼', '십', '▁전', '▁둘', '째', '번', '▁오', '십', '▁전', '▁오', '랜', '만에', '▁받아', '보', '는', '▁십', '▁전', '짜', '리', '▁백', '통', '화', '▁서', '푼', '에', '[SEP]', '▁손', '바', '닥', '▁위', '엔', '▁기', '쁨', '의', '▁눈', '물이', '▁흘', '러', '▁컬', '컬', '한', '▁목', '에', '▁모', '주', '▁한', '잔', '을', '▁적', '셔', '▁몇', '▁달', '▁포', '▁전', '부터', '▁콜', '록', '거', '리는', '▁아내', '▁생각', '에', '▁그', '토', '록', '▁먹', '고', '▁싶', '다', '던', '[SEP]']\n"
          ]
        },
        {
          "output_type": "execute_result",
          "data": {
            "text/plain": [
              "14"
            ]
          },
          "metadata": {},
          "execution_count": 8
        }
      ]
    },
    {
      "cell_type": "markdown",
      "source": [
        "15%를 마스킹 한다고 해도 생각해 볼 것이 더 있습니다. Subword 기반으로 토크나이징을 했을 때 _대, [MASK], 민국이라고 가운데를 마스킹 했을 경우 해당 [MASK]가 '한'일 거라는 건 너무 쉽게 맞출 수 있습니다. '대한민국'이라는 패턴을 아주 자주 보게 될 테니까요.\n",
        "\n",
        "그래서 Masked LM 태스크를 구성할 땐 띄어쓰기 단위로 한꺼번에 마스킹해 주는 것이 좋습니다. 다음과 같이 처리합니다."
      ],
      "metadata": {
        "id": "waPHqNPHPVmZ"
      }
    },
    {
      "cell_type": "markdown",
      "source": [
        "위 과정을 하나로 묶어서 함수 생성\n",
        "\n",
        "🔶 create_pretrain_mask() : Masked LM을 위한 코퍼스 생성 메소드\n"
      ],
      "metadata": {
        "id": "VdvVo84nUpYs"
      }
    },
    {
      "cell_type": "code",
      "source": [
        "def create_pretrain_mask(tokens, mask_cnt, vocab_list):\n",
        "    \"\"\"\n",
        "    마스크 생성\n",
        "    :param tokens: tokens\n",
        "    :param mask_cnt: mask 개수 (전체 tokens의 15%)\n",
        "    :param vocab_list: vocab list (random token 용)\n",
        "    :return tokens: mask된 tokens\n",
        "    :return mask_idx: mask된 token의 index\n",
        "    :return mask_label: mask된 token의 원래 값\n",
        "    \"\"\"\n",
        "    # 단어 단위로 mask 하기 위해서 index 분할\n",
        "    cand_idx = []  # word 단위의 index array\n",
        "    for (i, token) in enumerate(tokens):\n",
        "        if token == \"[CLS]\" or token == \"[SEP]\":\n",
        "            continue\n",
        "        if 0 < len(cand_idx) and not token.startswith(u\"\\u2581\"): # u\"\\u2581\"는 단어의 시작을 의미하는 값\n",
        "            cand_idx[-1].append(i)\n",
        "        else:\n",
        "            cand_idx.append([i])\n",
        "    # random mask를 위해서 순서를 섞음\n",
        "    random.shuffle(cand_idx)\n",
        "\n",
        "    mask_lms = []  # mask 된 값\n",
        "    for index_set in cand_idx:\n",
        "        if len(mask_lms) >= mask_cnt:  # 현재 mask된 개수가 15%를 넘으면 중지\n",
        "            break\n",
        "        if len(mask_lms) + len(index_set) > mask_cnt:  # 이번에 mask할 개수를 포함해 15%를 넘으면 skip\n",
        "            continue\n",
        "        dice = random.random()  # 0..1 사이의 확률 값\n",
        "        for index in index_set:\n",
        "            masked_token = None\n",
        "            if dice < 0.8:  # 80% replace with [MASK]\n",
        "                masked_token = \"[MASK]\"\n",
        "            elif dice < 0.9: # 10% keep original\n",
        "                masked_token = tokens[index]\n",
        "            else:  # 10% random word\n",
        "                masked_token = random.choice(vocab_list)\n",
        "            mask_lms.append({\"index\": index, \"label\": tokens[index]})\n",
        "            tokens[index] = masked_token\n",
        "    # mask_lms 정렬 후 mask_idx, mask_label 추출\n",
        "    mask_lms = sorted(mask_lms, key=lambda x: x[\"index\"])\n",
        "    mask_idx = [p[\"index\"] for p in mask_lms]  # mask된 token의 index\n",
        "    mask_label = [p[\"label\"] for p in mask_lms]  # mask된 token의 원래 값\n",
        "\n",
        "    return tokens, mask_idx, mask_label"
      ],
      "metadata": {
        "id": "JlF8PJzBUtyC"
      },
      "execution_count": 13,
      "outputs": []
    },
    {
      "cell_type": "markdown",
      "source": [
        "새로 정의한 함수를 이용해서 잘 되는지 확인"
      ],
      "metadata": {
        "id": "WvVcy7c6VWUC"
      }
    },
    {
      "cell_type": "code",
      "source": [
        "# tokens가 mask되므로 재 실행을 위해서 넣어줌 (테스트용)\n",
        "tokens = copy.deepcopy(tokens_org)\n",
        "\n",
        "tokens, mask_idx, mask_label = create_pretrain_mask(tokens, mask_cnt, vocab_list)\n",
        "\n",
        "print(\"tokens_org\")\n",
        "print(tokens_org, \"\\n\")\n",
        "print(\"tokens\")\n",
        "print(tokens, \"\\n\")\n",
        "\n",
        "print(\"mask_idx   :\", mask_idx)\n",
        "print(\"mask_label :\", mask_label)"
      ],
      "metadata": {
        "colab": {
          "base_uri": "https://localhost:8080/"
        },
        "id": "zRoBlILWVVi9",
        "outputId": "9e5e09e2-4900-48db-c439-96872dc394ea"
      },
      "execution_count": 14,
      "outputs": [
        {
          "output_type": "stream",
          "name": "stdout",
          "text": [
            "tokens_org\n",
            "['[CLS]', '▁추', '적', '추', '적', '▁비', '가', '▁내', '리는', '▁날', '이었', '어', '▁그', '날', '은', '▁', '왠', '지', '▁손', '님', '이', '▁많', '아', '▁첫', '▁번', '에', '▁삼', '십', '▁전', '▁둘', '째', '번', '▁오', '십', '▁전', '▁오', '랜', '만에', '▁받아', '보', '는', '▁십', '▁전', '짜', '리', '▁백', '통', '화', '▁서', '푼', '에', '[SEP]', '▁손', '바', '닥', '▁위', '엔', '▁기', '쁨', '의', '▁눈', '물이', '▁흘', '러', '▁컬', '컬', '한', '▁목', '에', '▁모', '주', '▁한', '잔', '을', '▁적', '셔', '▁몇', '▁달', '▁포', '▁전', '부터', '▁콜', '록', '거', '리는', '▁아내', '▁생각', '에', '▁그', '토', '록', '▁먹', '고', '▁싶', '다', '던', '[SEP]'] \n",
            "\n",
            "tokens\n",
            "['[CLS]', '▁추', '적', '추', '적', '▁비', '가', '▁내', '리는', '▁날', '이었', '어', '▁그', '날', '은', '▁', '왠', '지', '▁손', '님', '이', '[MASK]', '[MASK]', '[MASK]', '▁번', '에', '▁삼', '십', '▁전', '▁둘', '째', '번', '▁오', '십', '▁전', '▁오', '랜', '만에', '▁받아', '보', '는', '▁십', '▁전', '짜', '리', '▁백', '통', '화', '팹', '著', '內', '[SEP]', '▁손', '바', '닥', '[MASK]', '[MASK]', '▁기', '쁨', '의', '▁눈', '물이', '▁흘', '러', '▁컬', '컬', '한', '▁목', '에', '[MASK]', '[MASK]', '▁한', '잔', '을', '▁적', '셔', '▁몇', '▁달', '▁포', '▁전', '부터', '▁콜', '록', '거', '리는', '▁아내', '[MASK]', '[MASK]', '▁그', '토', '록', '▁먹', '고', '▁싶', '다', '던', '[SEP]'] \n",
            "\n",
            "mask_idx   : [21, 22, 23, 48, 49, 50, 55, 56, 62, 63, 69, 70, 86, 87]\n",
            "mask_label : ['▁많', '아', '▁첫', '▁서', '푼', '에', '▁위', '엔', '▁흘', '러', '▁모', '주', '▁생각', '에']\n"
          ]
        }
      ]
    },
    {
      "cell_type": "markdown",
      "source": [
        "## 2. NSP Pair 생성\n",
        "\n",
        "BERT의 pretrain task로 Next Sentence Prediction이 있습니다. 문장 2개를 붙여 놓고 두 문장이 이어지는 것인지 아닌지 문장 호응관계를 맞출 수 있게 하는 것입니다.\n",
        "\n",
        "아래 문장을 예시로 진행해 보겠습니다.\n",
        "\n"
      ],
      "metadata": {
        "id": "yGp-sb2CVfVZ"
      }
    },
    {
      "cell_type": "code",
      "source": [
        "string = \"\"\"추적추적 비가 내리는 날이었어\n",
        "그날은 왠지 손님이 많아\n",
        "첫 번에 삼십 전 둘째 번 오십 전\n",
        "오랜만에 받아보는 십 전짜리 백통화 서푼에\n",
        "손바닥 위엔 기쁨의 눈물이 흘러\n",
        "컬컬한 목에 모주 한잔을 적셔\n",
        "몇 달 포 전부터 콜록거리는 아내\n",
        "생각에 그토록 먹고 싶다던\n",
        "설렁탕 한 그릇을 이제는 살 수 있어\n",
        "집으로 돌아가는 길 난 문득 떠올라\n",
        "아내의 목소리가 거칠어만 가는 희박한 숨소리가\n",
        "오늘은 왠지 나가지 말라던 내 옆에 있어 달라던\n",
        "그리도 나가고 싶으면 일찍이라도 들어와 달라던\n",
        "아내의 간절한 목소리가 들려와\n",
        "나를 원망하듯 비는 점점 거세져\n",
        "싸늘히 식어가는 아내가 떠올라 걱정은 더해져\n",
        "난 몰라 오늘은 운수 좋은 날\n",
        "난 맨날 이렇게 살 수 있으면 얼마나 좋을까\"\"\""
      ],
      "metadata": {
        "id": "C20xsscIVZr-"
      },
      "execution_count": 15,
      "outputs": []
    },
    {
      "cell_type": "code",
      "source": [
        "# 줄 단위로 tokenize\n",
        "doc = [vocab.encode_as_pieces(line) for line in string.split(\"\\n\")]\n",
        "doc[:3]"
      ],
      "metadata": {
        "colab": {
          "base_uri": "https://localhost:8080/"
        },
        "id": "Xm88UW_4VuOr",
        "outputId": "f3d8eda1-3eb3-4ab1-a567-acf3edaec4a0"
      },
      "execution_count": 16,
      "outputs": [
        {
          "output_type": "execute_result",
          "data": {
            "text/plain": [
              "[['▁추', '적', '추', '적', '▁비', '가', '▁내', '리는', '▁날', '이었', '어'],\n",
              " ['▁그', '날', '은', '▁', '왠', '지', '▁손', '님', '이', '▁많', '아'],\n",
              " ['▁첫', '▁번', '에', '▁삼', '십', '▁전', '▁둘', '째', '▁번', '▁오', '십', '▁전']]"
            ]
          },
          "metadata": {},
          "execution_count": 16
        }
      ]
    },
    {
      "cell_type": "markdown",
      "source": [
        "우선 원문에서 이어진 두 문장씩 짝지어 보겠습니다.\n",
        "\n",
        "이 단계에서 넣어줄 특수 token은 [CLS]와 [SEP]이고, sequence의 최대 길이는 n_test_seq - 3으로 정합니다."
      ],
      "metadata": {
        "id": "nH7oZ5BxV31K"
      }
    },
    {
      "cell_type": "code",
      "source": [
        "# 최대 길이\n",
        "n_test_seq = 64\n",
        "# 최소 길이\n",
        "min_seq = 8\n",
        "# [CLS], tokens_a, [SEB], tokens_b, [SEP]\n",
        "max_seq = n_test_seq - 3"
      ],
      "metadata": {
        "id": "xpLgYx2fVvj9"
      },
      "execution_count": 17,
      "outputs": []
    },
    {
      "cell_type": "code",
      "source": [
        "current_chunk = []  # line 단위 tokens\n",
        "current_length = 0\n",
        "for i in range(len(doc)):  # doc 전체를 loop\n",
        "    current_chunk.append(doc[i])  # line 단위로 추가\n",
        "    current_length += len(doc[i])  # current_chunk의 token 수\n",
        "    if 1 < len(current_chunk) and (i == len(doc) - 1 or current_length >= max_seq):  # 마지막 줄 이거나 길이가 max_seq 이상 인 경우, 학습 데이터를 만듭니다. \n",
        "        print(\"current_chunk:\", len(current_chunk), current_length, current_chunk)\n",
        "\n",
        "        #######################################\n",
        "        # token a\n",
        "        a_end = 1\n",
        "        if 1 < len(current_chunk):\n",
        "            # 1부터 len(current_chunk) 사이의 랜덤한 정수 한 개\n",
        "            a_end = random.randrange(1, len(current_chunk))\n",
        "        tokens_a = []\n",
        "        for j in range(a_end):\n",
        "            # 리스트로 넣는게 아니라 안에 있는 iterables 전부를 넣어줌.\n",
        "            tokens_a.extend(current_chunk[j])\n",
        "        # token b\n",
        "        # a만들고 난 나머지는 전부 b에 추가.\n",
        "        tokens_b = []\n",
        "        for j in range(a_end, len(current_chunk)):\n",
        "            tokens_b.extend(current_chunk[j])\n",
        "          \n",
        "        print(\"tokens_a:\", len(tokens_a), tokens_a)\n",
        "        print(\"tokens_b:\", len(tokens_b), tokens_b)\n",
        "        #######################################\n",
        "        print()\n",
        "\n",
        "        current_chunk = []\n",
        "        current_length = 0"
      ],
      "metadata": {
        "colab": {
          "base_uri": "https://localhost:8080/"
        },
        "id": "1rNK74ikV56Y",
        "outputId": "357536e1-e4f2-4fe7-b42a-8ba832b10d2f"
      },
      "execution_count": 18,
      "outputs": [
        {
          "output_type": "stream",
          "name": "stdout",
          "text": [
            "current_chunk: 5 62 [['▁추', '적', '추', '적', '▁비', '가', '▁내', '리는', '▁날', '이었', '어'], ['▁그', '날', '은', '▁', '왠', '지', '▁손', '님', '이', '▁많', '아'], ['▁첫', '▁번', '에', '▁삼', '십', '▁전', '▁둘', '째', '▁번', '▁오', '십', '▁전'], ['▁오', '랜', '만에', '▁받아', '보', '는', '▁십', '▁전', '짜', '리', '▁백', '통', '화', '▁서', '푼', '에'], ['▁손', '바', '닥', '▁위', '엔', '▁기', '쁨', '의', '▁눈', '물이', '▁흘', '러']]\n",
            "tokens_a: 50 ['▁추', '적', '추', '적', '▁비', '가', '▁내', '리는', '▁날', '이었', '어', '▁그', '날', '은', '▁', '왠', '지', '▁손', '님', '이', '▁많', '아', '▁첫', '▁번', '에', '▁삼', '십', '▁전', '▁둘', '째', '▁번', '▁오', '십', '▁전', '▁오', '랜', '만에', '▁받아', '보', '는', '▁십', '▁전', '짜', '리', '▁백', '통', '화', '▁서', '푼', '에']\n",
            "tokens_b: 12 ['▁손', '바', '닥', '▁위', '엔', '▁기', '쁨', '의', '▁눈', '물이', '▁흘', '러']\n",
            "\n",
            "current_chunk: 6 71 [['▁컬', '컬', '한', '▁목', '에', '▁모', '주', '▁한', '잔', '을', '▁적', '셔'], ['▁몇', '▁달', '▁포', '▁전', '부터', '▁콜', '록', '거', '리는', '▁아내'], ['▁생각', '에', '▁그', '토', '록', '▁먹', '고', '▁싶', '다', '던'], ['▁설', '렁', '탕', '▁한', '▁그', '릇', '을', '▁이', '제는', '▁살', '▁수', '▁있어'], ['▁집', '으로', '▁돌아', '가는', '▁길', '▁난', '▁문', '득', '▁떠', '올', '라'], ['▁아내', '의', '▁목', '소', '리가', '▁거', '칠', '어', '만', '▁가는', '▁희', '박', '한', '▁숨', '소', '리가']]\n",
            "tokens_a: 55 ['▁컬', '컬', '한', '▁목', '에', '▁모', '주', '▁한', '잔', '을', '▁적', '셔', '▁몇', '▁달', '▁포', '▁전', '부터', '▁콜', '록', '거', '리는', '▁아내', '▁생각', '에', '▁그', '토', '록', '▁먹', '고', '▁싶', '다', '던', '▁설', '렁', '탕', '▁한', '▁그', '릇', '을', '▁이', '제는', '▁살', '▁수', '▁있어', '▁집', '으로', '▁돌아', '가는', '▁길', '▁난', '▁문', '득', '▁떠', '올', '라']\n",
            "tokens_b: 16 ['▁아내', '의', '▁목', '소', '리가', '▁거', '칠', '어', '만', '▁가는', '▁희', '박', '한', '▁숨', '소', '리가']\n",
            "\n",
            "current_chunk: 5 73 [['▁오늘', '은', '▁', '왠', '지', '▁나', '가지', '▁말', '라', '던', '▁내', '▁옆', '에', '▁있어', '▁달', '라', '던'], ['▁그리', '도', '▁나가', '고', '▁싶', '으면', '▁일', '찍', '이라', '도', '▁들어', '와', '▁달', '라', '던'], ['▁아내', '의', '▁간', '절', '한', '▁목', '소', '리가', '▁들', '려', '와'], ['▁나', '를', '▁원', '망', '하', '듯', '▁비', '는', '▁점', '점', '▁거', '세', '져'], ['▁싸', '늘', '히', '▁식', '어', '가는', '▁아내', '가', '▁떠', '올', '라', '▁', '걱', '정은', '▁더', '해', '져']]\n",
            "tokens_a: 56 ['▁오늘', '은', '▁', '왠', '지', '▁나', '가지', '▁말', '라', '던', '▁내', '▁옆', '에', '▁있어', '▁달', '라', '던', '▁그리', '도', '▁나가', '고', '▁싶', '으면', '▁일', '찍', '이라', '도', '▁들어', '와', '▁달', '라', '던', '▁아내', '의', '▁간', '절', '한', '▁목', '소', '리가', '▁들', '려', '와', '▁나', '를', '▁원', '망', '하', '듯', '▁비', '는', '▁점', '점', '▁거', '세', '져']\n",
            "tokens_b: 17 ['▁싸', '늘', '히', '▁식', '어', '가는', '▁아내', '가', '▁떠', '올', '라', '▁', '걱', '정은', '▁더', '해', '져']\n",
            "\n",
            "current_chunk: 2 22 [['▁난', '▁몰', '라', '▁오늘', '은', '▁운', '수', '▁좋은', '▁날'], ['▁난', '▁맨', '날', '▁이렇게', '▁살', '▁수', '▁있', '으면', '▁얼마', '나', '▁좋', '을', '까']]\n",
            "tokens_a: 9 ['▁난', '▁몰', '라', '▁오늘', '은', '▁운', '수', '▁좋은', '▁날']\n",
            "tokens_b: 13 ['▁난', '▁맨', '날', '▁이렇게', '▁살', '▁수', '▁있', '으면', '▁얼마', '나', '▁좋', '을', '까']\n",
            "\n"
          ]
        }
      ]
    },
    {
      "cell_type": "markdown",
      "source": [
        "짝지은 두 문장을 그대로 두면 NSP task의 true label 케이스가 되고, 둘의 순서를 뒤바꾸면 false label 케이스가 됩니다.\n",
        "\n",
        "두 문장의 최대 길이를 유지하도록 trim을 적용한 후 50%의 확률로 true/false 케이스를 생성해 보겠습니다.\n",
        "\n",
        "token A의 길이가 max_seq보다 길면 앞에서부터 토큰을 제거하고, token B의 길이가 길면 뒤에서부터 토큰을 제거합니다."
      ],
      "metadata": {
        "id": "QTyAkxdXYCvw"
      }
    },
    {
      "cell_type": "code",
      "source": [
        "def trim_tokens(tokens_a, tokens_b, max_seq):\n",
        "    \"\"\"\n",
        "    tokens_a, tokens_b의 길이를 줄임 최대 길이: max_seq\n",
        "    :param tokens_a: tokens A\n",
        "    :param tokens_b: tokens B\n",
        "    :param max_seq: 두 tokens 길이의 최대 값\n",
        "    \"\"\"\n",
        "    while True:\n",
        "        total_length = len(tokens_a) + len(tokens_b)\n",
        "        if total_length <= max_seq:\n",
        "            break\n",
        "\n",
        "        if len(tokens_a) > len(tokens_b):\n",
        "            del tokens_a[0]\n",
        "        else:\n",
        "            tokens_b.pop()"
      ],
      "metadata": {
        "id": "7bI6rhoAWdzn"
      },
      "execution_count": 19,
      "outputs": []
    },
    {
      "cell_type": "code",
      "source": [
        "current_chunk = []  # line 단위 tokens\n",
        "current_length = 0\n",
        "for i in range(len(doc)):  # doc 전체를 loop\n",
        "    current_chunk.append(doc[i])  # line 단위로 추가\n",
        "    current_length += len(doc[i])  # current_chunk의 token 수\n",
        "    if 1 < len(current_chunk) and (i == len(doc) - 1 or current_length >= max_seq):  # 마지막 줄 이거나 길이가 max_seq 이상 인 경우\n",
        "        print(\"current_chunk:\", len(current_chunk), current_length, current_chunk)\n",
        "\n",
        "        # token a\n",
        "        a_end = 1\n",
        "        if 1 < len(current_chunk):\n",
        "            a_end = random.randrange(1, len(current_chunk))\n",
        "        tokens_a = []\n",
        "        for j in range(a_end):\n",
        "            tokens_a.extend(current_chunk[j])\n",
        "        # token b\n",
        "        tokens_b = []\n",
        "        for j in range(a_end, len(current_chunk)):\n",
        "            tokens_b.extend(current_chunk[j])\n",
        "\n",
        "        #######################################\n",
        "        if random.random() < 0.5:  # 50% 확률로 swap\n",
        "            is_next = 0     #False\n",
        "            tokens_t = tokens_a\n",
        "            tokens_a = tokens_b\n",
        "            tokens_b = tokens_t\n",
        "        else:\n",
        "            is_next = 1    #True\n",
        "        # max_seq 보다 큰 경우 길이 조절\n",
        "        trim_tokens(tokens_a, tokens_b, max_seq)\n",
        "        assert 0 < len(tokens_a)\n",
        "        assert 0 < len(tokens_b)\n",
        "\n",
        "        print(\"is_next:\", is_next)\n",
        "        print(\"tokens_a:\", len(tokens_a), tokens_a)\n",
        "        print(\"tokens_b:\", len(tokens_b), tokens_b)\n",
        "        #######################################\n",
        "        print()\n",
        "\n",
        "        current_chunk = []\n",
        "        current_length = 0"
      ],
      "metadata": {
        "colab": {
          "base_uri": "https://localhost:8080/"
        },
        "id": "wPoXV-0vYIQ6",
        "outputId": "806fc52c-3983-49eb-8bd7-7c0f5dfa0898"
      },
      "execution_count": 20,
      "outputs": [
        {
          "output_type": "stream",
          "name": "stdout",
          "text": [
            "current_chunk: 5 62 [['▁추', '적', '추', '적', '▁비', '가', '▁내', '리는', '▁날', '이었', '어'], ['▁그', '날', '은', '▁', '왠', '지', '▁손', '님', '이', '▁많', '아'], ['▁첫', '▁번', '에', '▁삼', '십', '▁전', '▁둘', '째', '▁번', '▁오', '십', '▁전'], ['▁오', '랜', '만에', '▁받아', '보', '는', '▁십', '▁전', '짜', '리', '▁백', '통', '화', '▁서', '푼', '에'], ['▁손', '바', '닥', '▁위', '엔', '▁기', '쁨', '의', '▁눈', '물이', '▁흘', '러']]\n",
            "is_next: 0\n",
            "tokens_a: 28 ['▁오', '랜', '만에', '▁받아', '보', '는', '▁십', '▁전', '짜', '리', '▁백', '통', '화', '▁서', '푼', '에', '▁손', '바', '닥', '▁위', '엔', '▁기', '쁨', '의', '▁눈', '물이', '▁흘', '러']\n",
            "tokens_b: 33 ['▁추', '적', '추', '적', '▁비', '가', '▁내', '리는', '▁날', '이었', '어', '▁그', '날', '은', '▁', '왠', '지', '▁손', '님', '이', '▁많', '아', '▁첫', '▁번', '에', '▁삼', '십', '▁전', '▁둘', '째', '▁번', '▁오', '십']\n",
            "\n",
            "current_chunk: 6 71 [['▁컬', '컬', '한', '▁목', '에', '▁모', '주', '▁한', '잔', '을', '▁적', '셔'], ['▁몇', '▁달', '▁포', '▁전', '부터', '▁콜', '록', '거', '리는', '▁아내'], ['▁생각', '에', '▁그', '토', '록', '▁먹', '고', '▁싶', '다', '던'], ['▁설', '렁', '탕', '▁한', '▁그', '릇', '을', '▁이', '제는', '▁살', '▁수', '▁있어'], ['▁집', '으로', '▁돌아', '가는', '▁길', '▁난', '▁문', '득', '▁떠', '올', '라'], ['▁아내', '의', '▁목', '소', '리가', '▁거', '칠', '어', '만', '▁가는', '▁희', '박', '한', '▁숨', '소', '리가']]\n",
            "is_next: 0\n",
            "tokens_a: 39 ['▁설', '렁', '탕', '▁한', '▁그', '릇', '을', '▁이', '제는', '▁살', '▁수', '▁있어', '▁집', '으로', '▁돌아', '가는', '▁길', '▁난', '▁문', '득', '▁떠', '올', '라', '▁아내', '의', '▁목', '소', '리가', '▁거', '칠', '어', '만', '▁가는', '▁희', '박', '한', '▁숨', '소', '리가']\n",
            "tokens_b: 22 ['▁컬', '컬', '한', '▁목', '에', '▁모', '주', '▁한', '잔', '을', '▁적', '셔', '▁몇', '▁달', '▁포', '▁전', '부터', '▁콜', '록', '거', '리는', '▁아내']\n",
            "\n",
            "current_chunk: 5 73 [['▁오늘', '은', '▁', '왠', '지', '▁나', '가지', '▁말', '라', '던', '▁내', '▁옆', '에', '▁있어', '▁달', '라', '던'], ['▁그리', '도', '▁나가', '고', '▁싶', '으면', '▁일', '찍', '이라', '도', '▁들어', '와', '▁달', '라', '던'], ['▁아내', '의', '▁간', '절', '한', '▁목', '소', '리가', '▁들', '려', '와'], ['▁나', '를', '▁원', '망', '하', '듯', '▁비', '는', '▁점', '점', '▁거', '세', '져'], ['▁싸', '늘', '히', '▁식', '어', '가는', '▁아내', '가', '▁떠', '올', '라', '▁', '걱', '정은', '▁더', '해', '져']]\n",
            "is_next: 1\n",
            "tokens_a: 17 ['▁오늘', '은', '▁', '왠', '지', '▁나', '가지', '▁말', '라', '던', '▁내', '▁옆', '에', '▁있어', '▁달', '라', '던']\n",
            "tokens_b: 44 ['▁그리', '도', '▁나가', '고', '▁싶', '으면', '▁일', '찍', '이라', '도', '▁들어', '와', '▁달', '라', '던', '▁아내', '의', '▁간', '절', '한', '▁목', '소', '리가', '▁들', '려', '와', '▁나', '를', '▁원', '망', '하', '듯', '▁비', '는', '▁점', '점', '▁거', '세', '져', '▁싸', '늘', '히', '▁식', '어']\n",
            "\n",
            "current_chunk: 2 22 [['▁난', '▁몰', '라', '▁오늘', '은', '▁운', '수', '▁좋은', '▁날'], ['▁난', '▁맨', '날', '▁이렇게', '▁살', '▁수', '▁있', '으면', '▁얼마', '나', '▁좋', '을', '까']]\n",
            "is_next: 1\n",
            "tokens_a: 9 ['▁난', '▁몰', '라', '▁오늘', '은', '▁운', '수', '▁좋은', '▁날']\n",
            "tokens_b: 13 ['▁난', '▁맨', '날', '▁이렇게', '▁살', '▁수', '▁있', '으면', '▁얼마', '나', '▁좋', '을', '까']\n",
            "\n"
          ]
        }
      ]
    },
    {
      "cell_type": "markdown",
      "source": [
        "이제 두 문장 사이에 segment 처리를 해주어야 합니다. 첫 번째 문장의 segment는 모두 0으로, 두 번째 문장은 1로 채워준 후 둘 사이에 구분자인 [SEP] 등을 넣어주는 것으로 마무리됩니다.\n",
        "\n",
        "이전 스텝의 create_pretrain_mask()까지 함께 호출되어 Mask LM용 데이터셋과 NSP용 데이터셋이 결합된 하나의 데이터셋으로 완성될 것입니다. BERT의 pretrain은 MLM과 NSP, 두 가지 task가 동시에 수행되니까요."
      ],
      "metadata": {
        "id": "q-ApecRNY27B"
      }
    },
    {
      "cell_type": "code",
      "source": [
        "instances = []\n",
        "current_chunk = []  # line 단위 tokens\n",
        "current_length = 0\n",
        "for i in range(len(doc)):  # doc 전체를 loop\n",
        "    current_chunk.append(doc[i])  # line 단위로 추가\n",
        "    current_length += len(doc[i])  # current_chunk의 token 수\n",
        "    if 1 < len(current_chunk) and (i == len(doc) - 1 or current_length >= max_seq):  # 마지막 줄 이거나 길이가 max_seq 이상 인 경우\n",
        "        print(\"current_chunk:\", len(current_chunk), current_length, current_chunk)\n",
        "\n",
        "        # token a\n",
        "        a_end = 1\n",
        "        if 1 < len(current_chunk):\n",
        "            a_end = random.randrange(1, len(current_chunk))\n",
        "        tokens_a = []\n",
        "        for j in range(a_end):\n",
        "            tokens_a.extend(current_chunk[j])\n",
        "        # token b\n",
        "        tokens_b = []\n",
        "        for j in range(a_end, len(current_chunk)):\n",
        "            tokens_b.extend(current_chunk[j])\n",
        "\n",
        "        if random.random() < 0.5:  # 50% 확률로 swap\n",
        "            is_next = 0    # False\n",
        "            tokens_t = tokens_a\n",
        "            tokens_a = tokens_b\n",
        "            tokens_b = tokens_t\n",
        "        else:\n",
        "            is_next = 1   # True\n",
        "        # max_seq 보다 큰 경우 길이 조절\n",
        "        trim_tokens(tokens_a, tokens_b, max_seq)\n",
        "        assert 0 < len(tokens_a)\n",
        "        assert 0 < len(tokens_b)\n",
        "\n",
        "        print(\"is_next:\", is_next)\n",
        "        print(\"tokens_a:\", len(tokens_a), tokens_a)\n",
        "        print(\"tokens_b:\", len(tokens_b), tokens_b)\n",
        "        #######################################\n",
        "\n",
        "        # tokens & segment 생성\n",
        "        tokens = [\"[CLS]\"] + tokens_a + [\"[SEP]\"] + tokens_b + [\"[SEP]\"]\n",
        "        segment = [0] * (len(tokens_a) + 2) + [1] * (len(tokens_b) + 1)\n",
        "        print(\"tokens:\", len(tokens), tokens)\n",
        "        print(\"segment:\", len(segment), segment)\n",
        "        \n",
        "        # mask\n",
        "        tokens, mask_idx, mask_label = create_pretrain_mask(tokens, int((len(tokens) - 3) * 0.15), vocab_list)\n",
        "        print(\"masked tokens:\", len(tokens), tokens)\n",
        "        print(\"masked index:\", len(mask_idx), mask_idx)\n",
        "        print(\"masked label:\", len(mask_label), mask_label)\n",
        "\n",
        "        instance = {\n",
        "            \"tokens\": tokens,\n",
        "            \"segment\": segment,\n",
        "            \"is_next\": is_next,\n",
        "            \"mask_idx\": mask_idx,\n",
        "            \"mask_label\": mask_label\n",
        "        }\n",
        "        instances.append(instance)\n",
        "        #######################################\n",
        "        print()\n",
        "\n",
        "        current_chunk = []\n",
        "        current_length = 0"
      ],
      "metadata": {
        "colab": {
          "base_uri": "https://localhost:8080/"
        },
        "id": "yYW3ptDxY6aX",
        "outputId": "8f91c594-468b-4c6c-fa8e-42922f8e3c90"
      },
      "execution_count": 21,
      "outputs": [
        {
          "output_type": "stream",
          "name": "stdout",
          "text": [
            "current_chunk: 5 62 [['▁추', '적', '추', '적', '▁비', '가', '▁내', '리는', '▁날', '이었', '어'], ['▁그', '날', '은', '▁', '왠', '지', '▁손', '님', '이', '▁많', '아'], ['▁첫', '▁번', '에', '▁삼', '십', '▁전', '▁둘', '째', '▁번', '▁오', '십', '▁전'], ['▁오', '랜', '만에', '▁받아', '보', '는', '▁십', '▁전', '짜', '리', '▁백', '통', '화', '▁서', '푼', '에'], ['▁손', '바', '닥', '▁위', '엔', '▁기', '쁨', '의', '▁눈', '물이', '▁흘', '러']]\n",
            "is_next: 0\n",
            "tokens_a: 12 ['▁손', '바', '닥', '▁위', '엔', '▁기', '쁨', '의', '▁눈', '물이', '▁흘', '러']\n",
            "tokens_b: 49 ['▁추', '적', '추', '적', '▁비', '가', '▁내', '리는', '▁날', '이었', '어', '▁그', '날', '은', '▁', '왠', '지', '▁손', '님', '이', '▁많', '아', '▁첫', '▁번', '에', '▁삼', '십', '▁전', '▁둘', '째', '▁번', '▁오', '십', '▁전', '▁오', '랜', '만에', '▁받아', '보', '는', '▁십', '▁전', '짜', '리', '▁백', '통', '화', '▁서', '푼']\n",
            "tokens: 64 ['[CLS]', '▁손', '바', '닥', '▁위', '엔', '▁기', '쁨', '의', '▁눈', '물이', '▁흘', '러', '[SEP]', '▁추', '적', '추', '적', '▁비', '가', '▁내', '리는', '▁날', '이었', '어', '▁그', '날', '은', '▁', '왠', '지', '▁손', '님', '이', '▁많', '아', '▁첫', '▁번', '에', '▁삼', '십', '▁전', '▁둘', '째', '▁번', '▁오', '십', '▁전', '▁오', '랜', '만에', '▁받아', '보', '는', '▁십', '▁전', '짜', '리', '▁백', '통', '화', '▁서', '푼', '[SEP]']\n",
            "segment: 64 [0, 0, 0, 0, 0, 0, 0, 0, 0, 0, 0, 0, 0, 0, 1, 1, 1, 1, 1, 1, 1, 1, 1, 1, 1, 1, 1, 1, 1, 1, 1, 1, 1, 1, 1, 1, 1, 1, 1, 1, 1, 1, 1, 1, 1, 1, 1, 1, 1, 1, 1, 1, 1, 1, 1, 1, 1, 1, 1, 1, 1, 1, 1, 1]\n",
            "masked tokens: 64 ['[CLS]', '▁손', '바', '닥', '▁위', '엔', '▁기', '쁨', '의', '▁눈', '물이', '▁흘', '러', '[SEP]', '▁추', '적', '추', '적', '▁비', '가', '▁내', '리는', '▁날', '이었', '어', '[MASK]', '[MASK]', '[MASK]', '▁', '왠', '지', '▁손', '님', '이', '▁많', '아', '[MASK]', '▁번', '에', '▁삼', '십', '가로', '[MASK]', '[MASK]', '▁번', '[MASK]', '[MASK]', '▁전', '▁오', '랜', '만에', '▁받아', '보', '는', '▁십', '▁전', '짜', '리', '▁백', '통', '화', '▁서', '푼', '[SEP]']\n",
            "masked index: 9 [25, 26, 27, 36, 41, 42, 43, 45, 46]\n",
            "masked label: 9 ['▁그', '날', '은', '▁첫', '▁전', '▁둘', '째', '▁오', '십']\n",
            "\n",
            "current_chunk: 6 71 [['▁컬', '컬', '한', '▁목', '에', '▁모', '주', '▁한', '잔', '을', '▁적', '셔'], ['▁몇', '▁달', '▁포', '▁전', '부터', '▁콜', '록', '거', '리는', '▁아내'], ['▁생각', '에', '▁그', '토', '록', '▁먹', '고', '▁싶', '다', '던'], ['▁설', '렁', '탕', '▁한', '▁그', '릇', '을', '▁이', '제는', '▁살', '▁수', '▁있어'], ['▁집', '으로', '▁돌아', '가는', '▁길', '▁난', '▁문', '득', '▁떠', '올', '라'], ['▁아내', '의', '▁목', '소', '리가', '▁거', '칠', '어', '만', '▁가는', '▁희', '박', '한', '▁숨', '소', '리가']]\n",
            "is_next: 1\n",
            "tokens_a: 12 ['▁컬', '컬', '한', '▁목', '에', '▁모', '주', '▁한', '잔', '을', '▁적', '셔']\n",
            "tokens_b: 49 ['▁몇', '▁달', '▁포', '▁전', '부터', '▁콜', '록', '거', '리는', '▁아내', '▁생각', '에', '▁그', '토', '록', '▁먹', '고', '▁싶', '다', '던', '▁설', '렁', '탕', '▁한', '▁그', '릇', '을', '▁이', '제는', '▁살', '▁수', '▁있어', '▁집', '으로', '▁돌아', '가는', '▁길', '▁난', '▁문', '득', '▁떠', '올', '라', '▁아내', '의', '▁목', '소', '리가', '▁거']\n",
            "tokens: 64 ['[CLS]', '▁컬', '컬', '한', '▁목', '에', '▁모', '주', '▁한', '잔', '을', '▁적', '셔', '[SEP]', '▁몇', '▁달', '▁포', '▁전', '부터', '▁콜', '록', '거', '리는', '▁아내', '▁생각', '에', '▁그', '토', '록', '▁먹', '고', '▁싶', '다', '던', '▁설', '렁', '탕', '▁한', '▁그', '릇', '을', '▁이', '제는', '▁살', '▁수', '▁있어', '▁집', '으로', '▁돌아', '가는', '▁길', '▁난', '▁문', '득', '▁떠', '올', '라', '▁아내', '의', '▁목', '소', '리가', '▁거', '[SEP]']\n",
            "segment: 64 [0, 0, 0, 0, 0, 0, 0, 0, 0, 0, 0, 0, 0, 0, 1, 1, 1, 1, 1, 1, 1, 1, 1, 1, 1, 1, 1, 1, 1, 1, 1, 1, 1, 1, 1, 1, 1, 1, 1, 1, 1, 1, 1, 1, 1, 1, 1, 1, 1, 1, 1, 1, 1, 1, 1, 1, 1, 1, 1, 1, 1, 1, 1, 1]\n",
            "masked tokens: 64 ['[CLS]', '▁컬', '컬', '한', '▁목', '에', '▁모', '주', '▁한', '잔', '을', '暴', '°', '[SEP]', '▁몇', '▁달', '▁포', '▁전', '부터', '▁콜', '록', '거', '리는', '▁아내', '▁생각', '에', '▁그', '토', '록', '▁먹', '고', '▁싶', '다', '던', '▁설', '렁', '탕', '▁한', '▁그', '릇', '을', '▁이', '제는', '[MASK]', '▁수', '▁있어', '▁집', '으로', '▁돌아', '가는', '[MASK]', '▁난', '▁문', '득', '[MASK]', '[MASK]', '[MASK]', '[MASK]', '[MASK]', '▁목', '소', '리가', '▁거', '[SEP]']\n",
            "masked index: 9 [11, 12, 43, 50, 54, 55, 56, 57, 58]\n",
            "masked label: 9 ['▁적', '셔', '▁살', '▁길', '▁떠', '올', '라', '▁아내', '의']\n",
            "\n",
            "current_chunk: 5 73 [['▁오늘', '은', '▁', '왠', '지', '▁나', '가지', '▁말', '라', '던', '▁내', '▁옆', '에', '▁있어', '▁달', '라', '던'], ['▁그리', '도', '▁나가', '고', '▁싶', '으면', '▁일', '찍', '이라', '도', '▁들어', '와', '▁달', '라', '던'], ['▁아내', '의', '▁간', '절', '한', '▁목', '소', '리가', '▁들', '려', '와'], ['▁나', '를', '▁원', '망', '하', '듯', '▁비', '는', '▁점', '점', '▁거', '세', '져'], ['▁싸', '늘', '히', '▁식', '어', '가는', '▁아내', '가', '▁떠', '올', '라', '▁', '걱', '정은', '▁더', '해', '져']]\n",
            "is_next: 1\n",
            "tokens_a: 17 ['▁오늘', '은', '▁', '왠', '지', '▁나', '가지', '▁말', '라', '던', '▁내', '▁옆', '에', '▁있어', '▁달', '라', '던']\n",
            "tokens_b: 44 ['▁그리', '도', '▁나가', '고', '▁싶', '으면', '▁일', '찍', '이라', '도', '▁들어', '와', '▁달', '라', '던', '▁아내', '의', '▁간', '절', '한', '▁목', '소', '리가', '▁들', '려', '와', '▁나', '를', '▁원', '망', '하', '듯', '▁비', '는', '▁점', '점', '▁거', '세', '져', '▁싸', '늘', '히', '▁식', '어']\n",
            "tokens: 64 ['[CLS]', '▁오늘', '은', '▁', '왠', '지', '▁나', '가지', '▁말', '라', '던', '▁내', '▁옆', '에', '▁있어', '▁달', '라', '던', '[SEP]', '▁그리', '도', '▁나가', '고', '▁싶', '으면', '▁일', '찍', '이라', '도', '▁들어', '와', '▁달', '라', '던', '▁아내', '의', '▁간', '절', '한', '▁목', '소', '리가', '▁들', '려', '와', '▁나', '를', '▁원', '망', '하', '듯', '▁비', '는', '▁점', '점', '▁거', '세', '져', '▁싸', '늘', '히', '▁식', '어', '[SEP]']\n",
            "segment: 64 [0, 0, 0, 0, 0, 0, 0, 0, 0, 0, 0, 0, 0, 0, 0, 0, 0, 0, 0, 1, 1, 1, 1, 1, 1, 1, 1, 1, 1, 1, 1, 1, 1, 1, 1, 1, 1, 1, 1, 1, 1, 1, 1, 1, 1, 1, 1, 1, 1, 1, 1, 1, 1, 1, 1, 1, 1, 1, 1, 1, 1, 1, 1, 1]\n",
            "masked tokens: 64 ['[CLS]', '[MASK]', '[MASK]', '▁', '왠', '지', '▁나', '가지', '▁말', '라', '던', '▁내', '▁옆', '에', '▁있어', '[MASK]', '[MASK]', '[MASK]', '[SEP]', '▁그리', '도', '▁나가', '고', '▁싶', '으면', '[MASK]', '[MASK]', '[MASK]', '[MASK]', '▁들어', '와', '▁달', '라', '던', '▁아내', '의', '▁간', '절', '한', '▁목', '소', '리가', '▁들', '려', '와', '▁나', '를', '▁원', '망', '하', '듯', '▁비', '는', '▁점', '점', '▁거', '세', '져', '▁싸', '늘', '히', '▁식', '어', '[SEP]']\n",
            "masked index: 9 [1, 2, 15, 16, 17, 25, 26, 27, 28]\n",
            "masked label: 9 ['▁오늘', '은', '▁달', '라', '던', '▁일', '찍', '이라', '도']\n",
            "\n",
            "current_chunk: 2 22 [['▁난', '▁몰', '라', '▁오늘', '은', '▁운', '수', '▁좋은', '▁날'], ['▁난', '▁맨', '날', '▁이렇게', '▁살', '▁수', '▁있', '으면', '▁얼마', '나', '▁좋', '을', '까']]\n",
            "is_next: 0\n",
            "tokens_a: 13 ['▁난', '▁맨', '날', '▁이렇게', '▁살', '▁수', '▁있', '으면', '▁얼마', '나', '▁좋', '을', '까']\n",
            "tokens_b: 9 ['▁난', '▁몰', '라', '▁오늘', '은', '▁운', '수', '▁좋은', '▁날']\n",
            "tokens: 25 ['[CLS]', '▁난', '▁맨', '날', '▁이렇게', '▁살', '▁수', '▁있', '으면', '▁얼마', '나', '▁좋', '을', '까', '[SEP]', '▁난', '▁몰', '라', '▁오늘', '은', '▁운', '수', '▁좋은', '▁날', '[SEP]']\n",
            "segment: 25 [0, 0, 0, 0, 0, 0, 0, 0, 0, 0, 0, 0, 0, 0, 0, 1, 1, 1, 1, 1, 1, 1, 1, 1, 1]\n",
            "masked tokens: 25 ['[CLS]', '▁난', '▁맨', '날', '▁이렇게', '▁살', '▁수', '▁있', '으면', '▁얼마', '나', '▁좋', '을', '까', '[SEP]', '▁난', '▁몰', '라', '▁오늘', '은', '▁운', '수', '▁좋은', '▁날', '[SEP]']\n",
            "masked index: 3 [7, 8, 15]\n",
            "masked label: 3 ['▁있', '으면', '▁난']\n",
            "\n"
          ]
        }
      ]
    },
    {
      "cell_type": "code",
      "source": [
        "# 최종 데이터셋 결과 확인\n",
        "for instance in instances:\n",
        "    print(instance)"
      ],
      "metadata": {
        "colab": {
          "base_uri": "https://localhost:8080/"
        },
        "id": "AlsF_IuUY605",
        "outputId": "cf0e63a4-c8f4-4002-f74d-c2ca85f8732a"
      },
      "execution_count": 22,
      "outputs": [
        {
          "output_type": "stream",
          "name": "stdout",
          "text": [
            "{'tokens': ['[CLS]', '▁손', '바', '닥', '▁위', '엔', '▁기', '쁨', '의', '▁눈', '물이', '▁흘', '러', '[SEP]', '▁추', '적', '추', '적', '▁비', '가', '▁내', '리는', '▁날', '이었', '어', '[MASK]', '[MASK]', '[MASK]', '▁', '왠', '지', '▁손', '님', '이', '▁많', '아', '[MASK]', '▁번', '에', '▁삼', '십', '가로', '[MASK]', '[MASK]', '▁번', '[MASK]', '[MASK]', '▁전', '▁오', '랜', '만에', '▁받아', '보', '는', '▁십', '▁전', '짜', '리', '▁백', '통', '화', '▁서', '푼', '[SEP]'], 'segment': [0, 0, 0, 0, 0, 0, 0, 0, 0, 0, 0, 0, 0, 0, 1, 1, 1, 1, 1, 1, 1, 1, 1, 1, 1, 1, 1, 1, 1, 1, 1, 1, 1, 1, 1, 1, 1, 1, 1, 1, 1, 1, 1, 1, 1, 1, 1, 1, 1, 1, 1, 1, 1, 1, 1, 1, 1, 1, 1, 1, 1, 1, 1, 1], 'is_next': 0, 'mask_idx': [25, 26, 27, 36, 41, 42, 43, 45, 46], 'mask_label': ['▁그', '날', '은', '▁첫', '▁전', '▁둘', '째', '▁오', '십']}\n",
            "{'tokens': ['[CLS]', '▁컬', '컬', '한', '▁목', '에', '▁모', '주', '▁한', '잔', '을', '暴', '°', '[SEP]', '▁몇', '▁달', '▁포', '▁전', '부터', '▁콜', '록', '거', '리는', '▁아내', '▁생각', '에', '▁그', '토', '록', '▁먹', '고', '▁싶', '다', '던', '▁설', '렁', '탕', '▁한', '▁그', '릇', '을', '▁이', '제는', '[MASK]', '▁수', '▁있어', '▁집', '으로', '▁돌아', '가는', '[MASK]', '▁난', '▁문', '득', '[MASK]', '[MASK]', '[MASK]', '[MASK]', '[MASK]', '▁목', '소', '리가', '▁거', '[SEP]'], 'segment': [0, 0, 0, 0, 0, 0, 0, 0, 0, 0, 0, 0, 0, 0, 1, 1, 1, 1, 1, 1, 1, 1, 1, 1, 1, 1, 1, 1, 1, 1, 1, 1, 1, 1, 1, 1, 1, 1, 1, 1, 1, 1, 1, 1, 1, 1, 1, 1, 1, 1, 1, 1, 1, 1, 1, 1, 1, 1, 1, 1, 1, 1, 1, 1], 'is_next': 1, 'mask_idx': [11, 12, 43, 50, 54, 55, 56, 57, 58], 'mask_label': ['▁적', '셔', '▁살', '▁길', '▁떠', '올', '라', '▁아내', '의']}\n",
            "{'tokens': ['[CLS]', '[MASK]', '[MASK]', '▁', '왠', '지', '▁나', '가지', '▁말', '라', '던', '▁내', '▁옆', '에', '▁있어', '[MASK]', '[MASK]', '[MASK]', '[SEP]', '▁그리', '도', '▁나가', '고', '▁싶', '으면', '[MASK]', '[MASK]', '[MASK]', '[MASK]', '▁들어', '와', '▁달', '라', '던', '▁아내', '의', '▁간', '절', '한', '▁목', '소', '리가', '▁들', '려', '와', '▁나', '를', '▁원', '망', '하', '듯', '▁비', '는', '▁점', '점', '▁거', '세', '져', '▁싸', '늘', '히', '▁식', '어', '[SEP]'], 'segment': [0, 0, 0, 0, 0, 0, 0, 0, 0, 0, 0, 0, 0, 0, 0, 0, 0, 0, 0, 1, 1, 1, 1, 1, 1, 1, 1, 1, 1, 1, 1, 1, 1, 1, 1, 1, 1, 1, 1, 1, 1, 1, 1, 1, 1, 1, 1, 1, 1, 1, 1, 1, 1, 1, 1, 1, 1, 1, 1, 1, 1, 1, 1, 1], 'is_next': 1, 'mask_idx': [1, 2, 15, 16, 17, 25, 26, 27, 28], 'mask_label': ['▁오늘', '은', '▁달', '라', '던', '▁일', '찍', '이라', '도']}\n",
            "{'tokens': ['[CLS]', '▁난', '▁맨', '날', '▁이렇게', '▁살', '▁수', '▁있', '으면', '▁얼마', '나', '▁좋', '을', '까', '[SEP]', '▁난', '▁몰', '라', '▁오늘', '은', '▁운', '수', '▁좋은', '▁날', '[SEP]'], 'segment': [0, 0, 0, 0, 0, 0, 0, 0, 0, 0, 0, 0, 0, 0, 0, 1, 1, 1, 1, 1, 1, 1, 1, 1, 1], 'is_next': 0, 'mask_idx': [7, 8, 15], 'mask_label': ['▁있', '으면', '▁난']}\n"
          ]
        }
      ]
    },
    {
      "cell_type": "markdown",
      "source": [
        "🔶 create_pretrain_instances() : Next Sentence Prediction을 위한 코퍼스 생성 메소드\n"
      ],
      "metadata": {
        "id": "8SUDB_o6ZUTh"
      }
    },
    {
      "cell_type": "code",
      "source": [
        "def create_pretrain_instances(vocab, doc, n_seq, mask_prob, vocab_list):\n",
        "    \"\"\"\n",
        "    doc별 pretrain 데이터 생성\n",
        "    \"\"\"\n",
        "    # for [CLS], [SEP], [SEP]\n",
        "    max_seq = n_seq - 3\n",
        "\n",
        "    instances = []\n",
        "    current_chunk = []\n",
        "    current_length = 0\n",
        "    for i in range(len(doc)):\n",
        "        current_chunk.append(doc[i])  # line\n",
        "        current_length += len(doc[i])\n",
        "        if 1 < len(current_chunk) and (i == len(doc) - 1 or current_length >= max_seq):\n",
        "            # token a\n",
        "            a_end = 1\n",
        "            if 1 < len(current_chunk):\n",
        "                a_end = random.randrange(1, len(current_chunk))\n",
        "            tokens_a = []\n",
        "            for j in range(a_end):\n",
        "                tokens_a.extend(current_chunk[j])\n",
        "            # token b\n",
        "            tokens_b = []\n",
        "            for j in range(a_end, len(current_chunk)):\n",
        "                tokens_b.extend(current_chunk[j])\n",
        "\n",
        "            if random.random() < 0.5:  # 50% 확률로 swap\n",
        "                is_next = 0\n",
        "                tokens_t = tokens_a\n",
        "                tokens_a = tokens_b\n",
        "                tokens_b = tokens_t\n",
        "            else:\n",
        "                is_next = 1\n",
        "            # max_seq 보다 큰 경우 길이 조절\n",
        "            trim_tokens(tokens_a, tokens_b, max_seq)\n",
        "            assert 0 < len(tokens_a)\n",
        "            assert 0 < len(tokens_b)\n",
        "            # tokens & segment 생성\n",
        "            tokens = [\"[CLS]\"] + tokens_a + [\"[SEP]\"] + tokens_b + [\"[SEP]\"]\n",
        "            segment = [0] * (len(tokens_a) + 2) + [1] * (len(tokens_b) + 1)\n",
        "            # mask\n",
        "            tokens, mask_idx, mask_label = create_pretrain_mask(tokens, int((len(tokens) - 3) * mask_prob), vocab_list)\n",
        "\n",
        "            instance = {\n",
        "                \"tokens\": tokens,\n",
        "                \"segment\": segment,\n",
        "                \"is_next\": is_next,\n",
        "                \"mask_idx\": mask_idx,\n",
        "                \"mask_label\": mask_label\n",
        "            }\n",
        "            instances.append(instance)\n",
        "\n",
        "            current_chunk = []\n",
        "            current_length = 0\n",
        "    return instances"
      ],
      "metadata": {
        "id": "nI7ZI3EJZJtk"
      },
      "execution_count": 23,
      "outputs": []
    },
    {
      "cell_type": "code",
      "source": [
        "instances = create_pretrain_instances(vocab, doc, n_test_seq, 0.15, vocab_list)\n",
        "\n",
        "# 최종 데이터셋 결과 확인\n",
        "for instance in instances:\n",
        "    print(instance)"
      ],
      "metadata": {
        "colab": {
          "base_uri": "https://localhost:8080/"
        },
        "id": "N52Lgz7pZoUa",
        "outputId": "1676364b-7fea-46e4-cd49-ec9887864330"
      },
      "execution_count": 24,
      "outputs": [
        {
          "output_type": "stream",
          "name": "stdout",
          "text": [
            "{'tokens': ['[CLS]', '▁번', '에', '▁삼', '십', '[MASK]', '▁둘', '째', 'え', '▁오', '십', '▁전', '▁오', '랜', '만에', '[MASK]', '[MASK]', '[MASK]', '▁십', '▁전', '짜', '리', '▁백', '통', '화', '▁서', '푼', '에', '▁손', '바', '닥', '▁위', '엔', '▁기', '쁨', '의', '[MASK]', '[MASK]', '[MASK]', '[MASK]', '[SEP]', '▁추', '적', '추', '적', '▁비', '가', '▁내', '리는', '▁날', '이었', '어', '▁그', '날', '은', '▁', '왠', '지', '▁손', '님', '이', '▁많', '아', '[SEP]'], 'segment': [0, 0, 0, 0, 0, 0, 0, 0, 0, 0, 0, 0, 0, 0, 0, 0, 0, 0, 0, 0, 0, 0, 0, 0, 0, 0, 0, 0, 0, 0, 0, 0, 0, 0, 0, 0, 0, 0, 0, 0, 0, 1, 1, 1, 1, 1, 1, 1, 1, 1, 1, 1, 1, 1, 1, 1, 1, 1, 1, 1, 1, 1, 1, 1], 'is_next': 0, 'mask_idx': [5, 8, 15, 16, 17, 36, 37, 38, 39], 'mask_label': ['▁전', '▁번', '▁받아', '보', '는', '▁눈', '물이', '▁흘', '러']}\n",
            "{'tokens': ['[CLS]', '[MASK]', '[MASK]', '▁몇', '▁달', '[MASK]', '▁전', '부터', '[MASK]', '[MASK]', '[MASK]', '[MASK]', '▁아내', '▁생각', '에', '▁그', '토', '록', '▁먹', '고', '▁싶', '다', '던', '▁설', '렁', '탕', '▁한', '▁그', '릇', '을', '▁이', '제는', '[MASK]', '▁수', '▁있어', '▁집', '으로', '▁돌아', '가는', '[MASK]', '▁난', '▁문', '득', '▁떠', '올', '라', '[SEP]', '▁아내', '의', '▁목', '소', '리가', '▁거', '칠', '어', '만', '▁가는', '▁희', '박', '한', '▁숨', '소', '리가', '[SEP]'], 'segment': [0, 0, 0, 0, 0, 0, 0, 0, 0, 0, 0, 0, 0, 0, 0, 0, 0, 0, 0, 0, 0, 0, 0, 0, 0, 0, 0, 0, 0, 0, 0, 0, 0, 0, 0, 0, 0, 0, 0, 0, 0, 0, 0, 0, 0, 0, 0, 1, 1, 1, 1, 1, 1, 1, 1, 1, 1, 1, 1, 1, 1, 1, 1, 1], 'is_next': 1, 'mask_idx': [1, 2, 5, 8, 9, 10, 11, 32, 39], 'mask_label': ['▁적', '셔', '▁포', '▁콜', '록', '거', '리는', '▁살', '▁길']}\n",
            "{'tokens': ['[CLS]', '에', '▁있어', '▁달', '라', '던', '▁그리', '도', '[MASK]', '[MASK]', '▁싶', '으면', '▁일', '찍', '이라', '도', '▁들어', '와', '▁달', '라', '던', '▁아내', '의', '▁간', '절', '한', '▁목', '소', '리가', '▁들', '려', '와', '[SEP]', '▁나', '를', '▁원', '망', '하', '듯', '▁비', '는', '▁점', '점', '썹', '숙', '촐', '▁싸', '늘', '히', '▁식', '어', '가는', '▁아내', '가', '▁떠', '올', '라', '[MASK]', '[MASK]', '[MASK]', '▁더', '해', '져', '[SEP]'], 'segment': [0, 0, 0, 0, 0, 0, 0, 0, 0, 0, 0, 0, 0, 0, 0, 0, 0, 0, 0, 0, 0, 0, 0, 0, 0, 0, 0, 0, 0, 0, 0, 0, 0, 1, 1, 1, 1, 1, 1, 1, 1, 1, 1, 1, 1, 1, 1, 1, 1, 1, 1, 1, 1, 1, 1, 1, 1, 1, 1, 1, 1, 1, 1, 1], 'is_next': 1, 'mask_idx': [2, 8, 9, 43, 44, 45, 57, 58, 59], 'mask_label': ['▁있어', '▁나가', '고', '▁거', '세', '져', '▁', '걱', '정은']}\n",
            "{'tokens': ['[CLS]', '▁난', '[MASK]', '[MASK]', '▁이렇게', '▁살', '[MASK]', '▁있', '으면', '▁얼마', '나', '▁좋', '을', '까', '[SEP]', '▁난', '▁몰', '라', '▁오늘', '은', '▁운', '수', '▁좋은', '▁날', '[SEP]'], 'segment': [0, 0, 0, 0, 0, 0, 0, 0, 0, 0, 0, 0, 0, 0, 0, 1, 1, 1, 1, 1, 1, 1, 1, 1, 1], 'is_next': 0, 'mask_idx': [2, 3, 6], 'mask_label': ['▁맨', '날', '▁수']}\n"
          ]
        }
      ]
    },
    {
      "cell_type": "markdown",
      "source": [
        "## 3. 데이터셋 완성"
      ],
      "metadata": {
        "id": "YZafGq0iZumY"
      }
    },
    {
      "cell_type": "code",
      "source": [
        "corpus_file = '/content/drive/MyDrive/AIFFEL/GoingDeeper_NLP/14_mini_BERT/kowiki.txt'\n",
        "\n",
        "# line count 확인\n",
        "total = 0\n",
        "with open(corpus_file, 'r') as in_f:\n",
        "    for line in in_f:\n",
        "        total += 1\n",
        "\n",
        "total"
      ],
      "metadata": {
        "colab": {
          "base_uri": "https://localhost:8080/"
        },
        "id": "FkAsTypDZo8H",
        "outputId": "ffddbf06-e7d0-4e74-ac02-369755712881"
      },
      "execution_count": 25,
      "outputs": [
        {
          "output_type": "execute_result",
          "data": {
            "text/plain": [
              "3957761"
            ]
          },
          "metadata": {},
          "execution_count": 25
        }
      ]
    },
    {
      "cell_type": "code",
      "source": [
        "# 위키가 주제별로 잘 나눠지는지 여부 확인\n",
        "count = 5\n",
        "\n",
        "with open(corpus_file, 'r') as in_f:\n",
        "    doc = []  # 단락 단위로 문서 저장\n",
        "    for line in tqdm(in_f, total=total):\n",
        "        line = line.strip()\n",
        "        if line == \"\":  # line이 빈줄 일 경우 (새로운 단락)  \n",
        "            if 0 < len(doc):\n",
        "                if 0 < count:\n",
        "                    count -= 1\n",
        "                    print(len(doc), \"lines :\", doc[0])\n",
        "                    print(doc[1])\n",
        "                    print(doc[-1])\n",
        "                    print()\n",
        "                else:\n",
        "                    break\n",
        "                doc = []\n",
        "        else:  # 빈 줄이 아니면 doc에 저장\n",
        "            pieces = vocab.encode_as_pieces(line)    \n",
        "            if 0 < len(pieces):\n",
        "                doc.append(pieces)\n",
        "    if 0 < len(doc):  # 마지막에 처리되지 않은 doc가 있는 경우\n",
        "        print(doc[0])\n",
        "        print(doc[1])\n",
        "        print(doc[-1])\n",
        "        doc = []"
      ],
      "metadata": {
        "colab": {
          "base_uri": "https://localhost:8080/",
          "height": 480,
          "referenced_widgets": [
            "74c4be16167f4fd7a70c24f2df17af96",
            "6580b4231ff54b19a725b6b4f4485556",
            "78fde47ca27f4e46bb28c3271445fcfe",
            "449e15b664db4298b725dcd952a72945",
            "387208841a85478e8ea32069e33d4417",
            "5aea43c6da134de98e8ae0af6c00f1c7",
            "a2d907251c38419698236882e64c511f",
            "ac08b735e7834f2d946420b654efaa47",
            "1e6515aa15ae47f1897a913f56b1a122",
            "d6dd4911186a4cc89a5f4ee46ea0bdd9",
            "9600fa67026b4b5caadfcae769fceb99"
          ]
        },
        "id": "EAZVBWcvZ0sH",
        "outputId": "7982e83e-bc49-4c0f-c257-9dbcd9f8d917"
      },
      "execution_count": 26,
      "outputs": [
        {
          "output_type": "display_data",
          "data": {
            "text/plain": [
              "  0%|          | 0/3957761 [00:00<?, ?it/s]"
            ],
            "application/vnd.jupyter.widget-view+json": {
              "version_major": 2,
              "version_minor": 0,
              "model_id": "74c4be16167f4fd7a70c24f2df17af96"
            }
          },
          "metadata": {}
        },
        {
          "output_type": "stream",
          "name": "stdout",
          "text": [
            "21 lines : ['▁지', '미', '▁카', '터']\n",
            "['▁제임스', '▁얼', '▁\"', '지', '미', '\"', '▁카', '터', '▁주', '니어', '(,', '▁192', '4', '년', '▁10', '월', '▁1', '일', '▁~', '▁)', '는', '▁민주', '당', '▁출신', '▁미국', '▁3', '9', '번째', '▁대통령', '▁(19', '7', '7', '년', '▁~', '▁1981', '년', ')', '이다', '.']\n",
            "['▁그는', '▁2002', '년', '▁말', '▁인', '권', '과', '▁중', '재', '▁역할', '에', '▁대한', '▁공', '로를', '▁인정', '받아', '▁노', '벨', '▁평화', '상을', '▁받', '게', '▁되었다', '.']\n",
            "\n",
            "14 lines : ['▁수학']\n",
            "['▁수학', '(', '數', '學', ',', '▁)', '은', '▁양', ',', '▁구조', ',', '▁공간', ',', '▁변화', ',', '▁미', '적', '분', '▁등의', '▁개념', '을', '▁다루', '는', '▁학', '문', '이다', '.', '▁현대', '▁수학', '은', '▁형식', '▁논', '리를', '▁이용', '해서', '▁공', '리로', '▁구성된', '▁추', '상', '적', '▁구조를', '▁연구', '하는', '▁학', '문', '으로', '▁여겨', '지', '기도', '▁한다', '.', '▁수학', '은', '▁그', '▁구조', '와', '▁발전', '▁과정', '에서는', '▁자연', '과학', '에', '▁속하는', '▁물리', '학을', '▁비롯한', '▁다른', '▁학', '문', '들과', '▁깊', '은', '▁연', '관을', '▁맺', '고', '▁있다', '.', '▁하지만', ',', '▁어느', '▁과학', '의', '▁분야', '들과', '는', '▁달리', ',', '▁자연', '계에서', '▁관측', '되지', '▁않는', '▁개념', '들에', '▁대해서', '까지', '▁이론', '을', '▁일반', '화', '▁및', '▁추', '상', '화', '시', '킬', '▁수', '▁있다는', '▁차', '이가', '▁있다고', '▁한다', '.', '▁수', '학자', '들은', '▁그러', '한', '▁개념', '들에', '▁대해서', '▁추', '측', '을', '▁하고', ',', '▁적', '절', '하게', '▁선택', '된', '▁정의', '와', '▁공', '리', '로부터', '의', '▁엄', '밀', '한', '▁연', '역을', '▁통해', '서', '▁추', '측', '들의', '▁진', '위를', '▁파', '악', '한다', '.']\n",
            "['▁수', '학의', '▁기초', '를', '▁확', '실', '히', '▁세', '우', '기', '▁위해', ',', '▁수', '리', '논', '리', '학과', '▁집합', '론', '이', '▁발전', '하였고', ',', '▁이와', '▁더불어', '▁범', '주', '론', '이', '▁최근', '에도', '▁발전', '되고', '▁있다', '.', '▁“', '근', '본', '▁위', '기', '”', '라는', '▁말', '은', '▁대', '략', '▁19', '00', '년', '에서', '▁1930', '년', '▁사이에', '▁일어난', ',', '▁수', '학의', '▁엄', '밀', '한', '▁기초', '에', '▁대한', '▁탐', '구를', '▁상징', '적으로', '▁보여', '주는', '▁말이다', '.', '▁수', '학의', '▁엄', '밀', '한', '▁기초', '에', '▁대한', '▁몇', '▁가지', '▁의견', '▁불', '일', '치는', '▁오늘날', '에도', '▁계속', '되고', '▁있다', '.', '▁수', '학의', '▁기초', '에', '▁대한', '▁위', '기는', '▁그', '▁당시', '▁수많은', '▁논', '쟁', '에', '▁의해', '▁촉', '발', '되었으며', ',', '▁그', '▁논', '쟁', '에는', '▁칸', '토', '어의', '▁집합', '론', '과', '▁브라', '우', '어', '-', '힐', '베', '르트', '▁논', '쟁', '이', '▁포함', '되었다', '.']\n",
            "\n",
            "4 lines : ['▁수학', '▁상', '수']\n",
            "['▁수학', '에서', '▁상', '수', '란', '▁그', '▁값', '이', '▁변', '하지', '▁않는', '▁불', '변', '량', '으로', ',', '▁변', '수의', '▁반대', '말', '이다', '.', '▁물리', '▁상', '수', '와는', '▁달리', ',', '▁수학', '▁상', '수는', '▁물리', '적', '▁측정', '과는', '▁상', '관', '없이', '▁정의', '된다', '.']\n",
            "['▁특정', '▁수학', '▁상', '수', ',', '▁예를', '▁들', '면', '▁골', '롬', '-', '딕', '맨', '▁상', '수', ',', '▁프랑', '세', '즈', '-', '로', '빈', '슨', '▁상', '수', ',', '▁formula', '_1', ',', '▁레', '비', '▁상', '수', '같은', '▁상', '수는', '▁다른', '▁수학', '상', '수', '▁또는', '▁함수', '와', '▁약', '한', '▁상', '관', '관', '계', '▁또는', '▁강한', '▁상', '관', '관', '계를', '▁갖', '는다', '.']\n",
            "\n",
            "10 lines : ['▁문학']\n",
            "['▁문학', '(', '文', '學', ')', '은', '▁언', '어를', '▁예술', '적', '▁표현', '의', '▁제', '재', '로', '▁삼', '아', '▁새로운', '▁의미', '를', '▁창', '출', '하여', ',', '▁인간', '과', '▁사회', '를', '▁진', '실', '되', '게', '▁묘사', '하는', '▁예술', '의', '▁하', '위', '분', '야', '이다', '.', '▁간', '단', '하게', '▁설명', '하면', ',', '▁언', '어를', '▁통해', '▁인간의', '▁삶', '을', '▁미', '적', '(', '美', '的', ')', '으로', '▁형', '상', '화', '한', '▁것이라고', '▁볼', '▁수', '▁있다', '.', '▁문학', '은', '▁원래', '▁문', '예', '(', '文', '藝', ')', '라고', '▁부', '르는', '▁것이', '▁', '옳', '으며', ',', '▁문', '학을', '▁학', '문', '의', '▁대상', '으로서', '▁탐', '구', '하는', '▁학', '문', '의', '▁명칭', '▁역시', '▁문', '예', '학', '이다', '.', '▁문', '예', '학', '은', '▁음악', '사', '학', ',', '▁미술', '사', '학', '▁등과', '▁함께', '▁예술', '학의', '▁핵', '심', '분', '야', '로서', '▁인', '문', '학의', '▁하', '위', '범', '주에', '▁포함', '된다', '.']\n",
            "['▁반', '영', '론', '적', '▁관', '점에', '▁의한', '▁감', '상은', '▁작품', '을', '▁창', '작', '된', '▁당시', '▁시대', '▁정', '황', '과', '▁연결', '시켜', '▁감', '상', '하는', '▁입', '장', '이고', ',', '▁내', '재', '적', '▁관', '점', '의', '▁감', '상은', '▁작품', '의', '▁형식', ',', '▁내용', '에', '▁국', '한', '하여', '▁감', '상', '하는', '▁것이다', '.', '▁표현', '론', '적', '▁관', '점', '의', '▁감', '상은', '▁작가', '의', '▁전기', '적', '▁사실', '과', '▁작품', '을', '▁연결', '시켜', '▁감', '상', '하는', '▁것이', '고', ',', '▁수용', '론', '적', '▁관', '점', '의', '▁감', '상은', '▁독', '자와', '▁작품', '을', '▁연결', '시켜', '▁감', '상', '하는', '▁것을', '▁말한다', '.']\n",
            "\n",
            "10 lines : ['▁나라', '▁목록']\n",
            "['▁이', '▁문', '서는', '▁나라', '▁목록', '이며', ',', '▁전', '▁세계', '▁20', '6', '개', '▁나라', '의', '▁각', '▁현', '황', '과', '▁주', '권', '▁승', '인', '▁정보를', '▁개', '요', '▁형태로', '▁나', '열', '하고', '▁있다', '.']\n",
            "['▁위', '▁목록', '에', '▁포함', '되지', '▁않은', '▁다음', '▁국가', '는', '▁몬', '테', '비', '데', '오', '▁협', '약', '의', '▁모든', '▁조건', '을', '▁만족', '하지', '▁못', '하거나', ',', '▁자주', '적이고', '▁독립', '적', '임을', '▁주장', '하지', '▁않는', '▁국가', '이다', '.']\n",
            "\n",
            "['▁화학']\n",
            "['▁화학', '(', '化', '學', ',', '▁)', '은', '▁물질', '의', '▁성', '질', ',', '▁조성', ',', '▁구조', ',', '▁변화', '▁및', '▁그', '에', '▁수', '반', '하는', '▁에너', '지의', '▁변', '화를', '▁연구', '하는', '▁자연', '과', '학의', '▁한', '▁분야', '이다', '.', '▁물리', '학', '도', '▁역시', '▁물질', '을', '▁다루', '는', '▁학', '문', '이지만', ',', '▁물리', '학', '이', '▁원', '소', '와', '▁화', '합', '물을', '▁모두', '▁포함한', '▁물', '체의', '▁운동', '과', '▁에너', '지', ',', '▁열', '적', '·', '전', '기', '적', '·', '광', '학적', '·', '기', '계', '적', '▁속', '성을', '▁다루', '고', '▁이러한', '▁현', '상', '으로부터', '▁통일', '된', '▁이론', '을', '▁구축', '하려는', '▁것', '과는', '▁달리', '▁화학', '에서는', '▁물질', '▁자', '체를', '▁연구', '▁대상으로', '▁한다', '.', '▁화학', '은', '▁이미', '▁존재', '하는', '▁물질', '을', '▁이용하여', '▁특', '정한', '▁목', '적', '에', '▁맞', '는', '▁새로운', '▁물질', '을', '▁합', '성', '하는', '▁길', '을', '▁제공', '하며', ',', '▁이는', '▁농', '작', '물의', '▁증', '산', ',', '▁질', '병', '의', '▁치료', '▁및', '▁예', '방', ',', '▁에너', '지', '▁효', '율', '▁증', '대', ',', '▁환경', '오', '염', '▁감소', '▁등', '▁여러', '▁가지', '▁이', '점을', '▁제공', '한다', '.']\n",
            "['▁유', '기', '화', '학', '은', '▁탄', '소로', '▁이루어진', '▁화', '합', '물을', '▁연구', '하는', '▁분', '과', '이다', '.', '▁원래', '▁유', '기', '▁화', '합', '물', '은', '▁식물', '이나', '▁동물', '로부터', '▁추', '출', '해', '낸', '▁화', '합', '물을', '▁뜻', '하였으나', '▁지금', '은', '▁유', '기', '▁화', '합', '물의', '▁범', '위가', '▁크게', '▁넓', '어져', '▁탄', '소', '▁사', '슬', '▁또는', '▁탄', '소', '▁고', '리를', '▁가진', '▁모든', '▁화', '합', '물을', '▁뜻', '한다', '.', '▁유', '기', '화', '학의', '▁오', '랜', '▁관', '심', '사는', '▁유', '기', '▁화', '합', '물의', '▁합', '성', '▁메', '커', '니', '즘', '이다', '.', '▁현', '대에', '▁들어', '서', '▁핵', '자', '기', '▁공', '명', '법', '과', '▁X', '선', '▁결정', '학', '▁등이', '▁개발', '되어', '▁유', '기', '▁화', '합', '물', '▁분석', '에', '▁있어서', '▁매우', '▁중요한', '▁방법', '으로', '▁자리', '잡', '았다', '.', '▁플', '라스', '틱', ',', '▁합', '성', '섬', '유', '등', '의', '▁고', '분', '자', '물', '질', '▁등', '도', '▁유', '기', '화', '학', '에서', '▁다루', '어진', '다', '.']\n"
          ]
        }
      ]
    },
    {
      "cell_type": "code",
      "source": [
        "# instance 생성 기능 확인\n",
        "count = 5\n",
        "\n",
        "with open(corpus_file, 'r') as in_f:\n",
        "    doc = []  # 단락 단위로 문서 저장\n",
        "    for line in tqdm(in_f, total=total):\n",
        "        line = line.strip()\n",
        "        if line == \"\":  # line이 빈줄 일 경우 (새로운 단락)\n",
        "            if 0 < len(doc):\n",
        "                instances = create_pretrain_instances(vocab, doc, n_test_seq, 0.15, vocab_list)\n",
        "                # save\n",
        "                print(\"doc:\", len(doc), \"instances:\", len(instances))\n",
        "                print(instances[0])\n",
        "                print(instances[-1])\n",
        "                print()\n",
        "                doc = []\n",
        "                if 0 < count:  # 테스트를 위해서 부분 처리함\n",
        "                    count -= 1\n",
        "                else:\n",
        "                    break\n",
        "        else:  # doc에 저장\n",
        "            if 0 < len(pieces):\n",
        "                doc.append(pieces)\n",
        "    if 0 < len(doc):  # 마지막에 처리되지 않은 doc가 있는 경우\n",
        "        instances = create_pretrain_instances(doc, 128)\n",
        "        # save\n",
        "        print(\"doc:\", len(doc), \"instances:\", len(instances))\n",
        "        print(instances[0])\n",
        "        print(instances[-1])\n",
        "        print()\n",
        "        doc = []"
      ],
      "metadata": {
        "colab": {
          "base_uri": "https://localhost:8080/",
          "height": 498,
          "referenced_widgets": [
            "be72ae5f6cf6409789a960a8d7315962",
            "ba3a9fa4fe1c46c2b77fe745df16ee9b",
            "ebeeb4efcce04b75a89c1c097fd46ea1",
            "003497e093df462c867180f9bd1e5ca0",
            "caa6b4ee16ae437d8dc97dbcea837bfb",
            "0ffec2d519cf4927bd1e64964ed50f70",
            "9fa150fae92044daa7675a7795b71d83",
            "d8fc0b63972a444cb39b07aefbb1ba21",
            "9a1a04a74d3e43a2a2b822a3a81b9488",
            "9b519a19185c48d69a52b1afa1ae390a",
            "f00700e9f5b442218c238df8928d8656"
          ]
        },
        "id": "6w4NhH5daUGe",
        "outputId": "a8b024f8-f2fe-44ee-ae4a-0d8a40d79652"
      },
      "execution_count": 27,
      "outputs": [
        {
          "output_type": "display_data",
          "data": {
            "text/plain": [
              "  0%|          | 0/3957761 [00:00<?, ?it/s]"
            ],
            "application/vnd.jupyter.widget-view+json": {
              "version_major": 2,
              "version_minor": 0,
              "model_id": "be72ae5f6cf6409789a960a8d7315962"
            }
          },
          "metadata": {}
        },
        {
          "output_type": "stream",
          "name": "stdout",
          "text": [
            "doc: 21 instances: 10\n",
            "{'tokens': ['[CLS]', '으로', '▁자리', '잡', '았다', '.', '▁플', '라스', '틱', ',', '[MASK]', '[MASK]', '[MASK]', '[MASK]', '[MASK]', '[MASK]', '▁고', '분', '자', '물', '질', '▁등', '도', '▁유', '기', '화', '학', '에서', '▁다루', '어진', '다', '.', '[SEP]', '▁유', '기', '화', '학', '은', '▁탄', '소로', '▁이루어진', '[MASK]', '[MASK]', '[MASK]', '▁연구', '하는', '▁분', '과', '이다', '.', '▁원래', '▁유', '기', '▁화', '합', '물', '은', '▁식물', '이나', '▁동물', '로부터', '▁추', '출', '[SEP]'], 'segment': [0, 0, 0, 0, 0, 0, 0, 0, 0, 0, 0, 0, 0, 0, 0, 0, 0, 0, 0, 0, 0, 0, 0, 0, 0, 0, 0, 0, 0, 0, 0, 0, 0, 1, 1, 1, 1, 1, 1, 1, 1, 1, 1, 1, 1, 1, 1, 1, 1, 1, 1, 1, 1, 1, 1, 1, 1, 1, 1, 1, 1, 1, 1, 1], 'is_next': 0, 'mask_idx': [10, 11, 12, 13, 14, 15, 41, 42, 43], 'mask_label': ['▁합', '성', '섬', '유', '등', '의', '▁화', '합', '물을']}\n",
            "{'tokens': ['[CLS]', '으로', '▁자리', '잡', '았다', '.', '▁플', '라스', '틱', ',', '▁합', '성', '섬', '유', '등', '의', '▁고', '분', '자', '물', '질', '▁등', '도', '[MASK]', '[MASK]', '[MASK]', '[MASK]', '[MASK]', '▁다루', '어진', '다', '.', '[SEP]', '▁유', '기', '화', '학', '은', '▁탄', '소로', '▁이루어진', '▁화', '합', '물을', '▁연구', '하는', '▁분', '과', '이다', '.', '▁원래', '▁유', '기', '[MASK]', '[MASK]', '[MASK]', '[MASK]', '▁식물', '이나', '▁동물', '로부터', '▁추', '출', '[SEP]'], 'segment': [0, 0, 0, 0, 0, 0, 0, 0, 0, 0, 0, 0, 0, 0, 0, 0, 0, 0, 0, 0, 0, 0, 0, 0, 0, 0, 0, 0, 0, 0, 0, 0, 0, 1, 1, 1, 1, 1, 1, 1, 1, 1, 1, 1, 1, 1, 1, 1, 1, 1, 1, 1, 1, 1, 1, 1, 1, 1, 1, 1, 1, 1, 1, 1], 'is_next': 1, 'mask_idx': [23, 24, 25, 26, 27, 53, 54, 55, 56], 'mask_label': ['▁유', '기', '화', '학', '에서', '▁화', '합', '물', '은']}\n",
            "\n",
            "doc: 14 instances: 7\n",
            "{'tokens': ['[CLS]', '으로', '▁자리', '잡', '았다', '.', '▁플', '라스', '틱', ',', '▁합', '성', '섬', '유', '등', '의', '▁고', '분', '자', '물', '질', '▁등', '도', '▁유', '기', '화', '학', '에서', '▁다루', '어진', '다', '.', '[SEP]', '▁유', '기', '화', '학', '은', '[MASK]', '[MASK]', '[MASK]', '▁화', '합', '물을', '[MASK]', '[MASK]', '[MASK]', '[MASK]', '[MASK]', '[MASK]', '▁원래', '▁유', '기', '▁화', '합', '물', '은', '▁식물', '이나', '▁동물', '로부터', '▁추', '출', '[SEP]'], 'segment': [0, 0, 0, 0, 0, 0, 0, 0, 0, 0, 0, 0, 0, 0, 0, 0, 0, 0, 0, 0, 0, 0, 0, 0, 0, 0, 0, 0, 0, 0, 0, 0, 0, 1, 1, 1, 1, 1, 1, 1, 1, 1, 1, 1, 1, 1, 1, 1, 1, 1, 1, 1, 1, 1, 1, 1, 1, 1, 1, 1, 1, 1, 1, 1], 'is_next': 1, 'mask_idx': [38, 39, 40, 44, 45, 46, 47, 48, 49], 'mask_label': ['▁탄', '소로', '▁이루어진', '▁연구', '하는', '▁분', '과', '이다', '.']}\n",
            "{'tokens': ['[CLS]', '[MASK]', '▁자리', '잡', '았다', '.', '▁플', '라스', '틱', ',', '▁합', '성', '섬', '유', '등', '의', '▁고', '분', '자', '물', '질', '▁등', '도', '▁유', '기', '화', '학', '에서', '▁다루', '어진', '다', '.', '[SEP]', '▁유', '기', '화', '학', '은', '▁탄', '소로', '[MASK]', '▁화', '합', '물을', '[MASK]', '[MASK]', '▁분', '과', '이다', '.', '[MASK]', '[MASK]', '[MASK]', '▁화', '합', '물', '은', '▁식물', '이나', '▁동물', '로부터', '[MASK]', '[MASK]', '[SEP]'], 'segment': [0, 0, 0, 0, 0, 0, 0, 0, 0, 0, 0, 0, 0, 0, 0, 0, 0, 0, 0, 0, 0, 0, 0, 0, 0, 0, 0, 0, 0, 0, 0, 0, 0, 1, 1, 1, 1, 1, 1, 1, 1, 1, 1, 1, 1, 1, 1, 1, 1, 1, 1, 1, 1, 1, 1, 1, 1, 1, 1, 1, 1, 1, 1, 1], 'is_next': 0, 'mask_idx': [1, 40, 44, 45, 50, 51, 52, 61, 62], 'mask_label': ['으로', '▁이루어진', '▁연구', '하는', '▁원래', '▁유', '기', '▁추', '출']}\n",
            "\n",
            "doc: 4 instances: 2\n",
            "{'tokens': ['[CLS]', '으로', '▁자리', '잡', '았다', '.', '▁플', '라스', '틱', ',', '▁합', '성', '섬', '유', '등', '의', '[MASK]', '[MASK]', '[MASK]', '[MASK]', '[MASK]', '▁등', '도', '▁유', '기', '화', '학', '에서', '▁다루', '어진', '다', '.', '[SEP]', '▁유', '기', '화', '학', '은', '▁탄', '소로', '▁이루어진', '▁화', '합', '물을', '[MASK]', '[MASK]', '▁분', '과', '이다', '.', '▁원래', '[MASK]', '[MASK]', '▁화', '합', '물', '은', '▁식물', '이나', '▁동물', '로부터', '▁추', '출', '[SEP]'], 'segment': [0, 0, 0, 0, 0, 0, 0, 0, 0, 0, 0, 0, 0, 0, 0, 0, 0, 0, 0, 0, 0, 0, 0, 0, 0, 0, 0, 0, 0, 0, 0, 0, 0, 1, 1, 1, 1, 1, 1, 1, 1, 1, 1, 1, 1, 1, 1, 1, 1, 1, 1, 1, 1, 1, 1, 1, 1, 1, 1, 1, 1, 1, 1, 1], 'is_next': 0, 'mask_idx': [16, 17, 18, 19, 20, 44, 45, 51, 52], 'mask_label': ['▁고', '분', '자', '물', '질', '▁연구', '하는', '▁유', '기']}\n",
            "{'tokens': ['[CLS]', '[MASK]', '▁자리', '잡', '았다', '.', '▁플', '라스', '틱', ',', '[MASK]', '[MASK]', '[MASK]', '[MASK]', '[MASK]', '[MASK]', '▁고', '분', '자', '물', '질', '[MASK]', '[MASK]', '▁유', '기', '화', '학', '에서', '▁다루', '어진', '다', '.', '[SEP]', '▁유', '기', '화', '학', '은', '▁탄', '소로', '▁이루어진', '▁화', '합', '물을', '▁연구', '하는', '▁분', '과', '이다', '.', '▁원래', '▁유', '기', '▁화', '합', '물', '은', '▁식물', '이나', '▁동물', '로부터', '▁추', '출', '[SEP]'], 'segment': [0, 0, 0, 0, 0, 0, 0, 0, 0, 0, 0, 0, 0, 0, 0, 0, 0, 0, 0, 0, 0, 0, 0, 0, 0, 0, 0, 0, 0, 0, 0, 0, 0, 1, 1, 1, 1, 1, 1, 1, 1, 1, 1, 1, 1, 1, 1, 1, 1, 1, 1, 1, 1, 1, 1, 1, 1, 1, 1, 1, 1, 1, 1, 1], 'is_next': 1, 'mask_idx': [1, 10, 11, 12, 13, 14, 15, 21, 22], 'mask_label': ['으로', '▁합', '성', '섬', '유', '등', '의', '▁등', '도']}\n",
            "\n",
            "doc: 10 instances: 5\n",
            "{'tokens': ['[CLS]', '으로', '▁자리', '잡', '았다', '.', '▁플', '라스', '틱', ',', '▁합', '성', '섬', '유', '등', '의', '▁고', '분', '자', '물', '질', '▁등', '도', '▁유', '기', '화', '학', '에서', '▁다루', '어진', '다', '.', '[SEP]', '▁유', '기', '화', '학', '은', '▁탄', '소로', '許', '▁화', '합', '물을', '▁연구', '하는', '▁분', '과', '이다', '.', '▁원래', '▁유', '기', '[MASK]', '[MASK]', '[MASK]', '[MASK]', '적', '惠', '▁동물', '로부터', '[MASK]', '[MASK]', '[SEP]'], 'segment': [0, 0, 0, 0, 0, 0, 0, 0, 0, 0, 0, 0, 0, 0, 0, 0, 0, 0, 0, 0, 0, 0, 0, 0, 0, 0, 0, 0, 0, 0, 0, 0, 0, 1, 1, 1, 1, 1, 1, 1, 1, 1, 1, 1, 1, 1, 1, 1, 1, 1, 1, 1, 1, 1, 1, 1, 1, 1, 1, 1, 1, 1, 1, 1], 'is_next': 0, 'mask_idx': [40, 53, 54, 55, 56, 57, 58, 61, 62], 'mask_label': ['▁이루어진', '▁화', '합', '물', '은', '▁식물', '이나', '▁추', '출']}\n",
            "{'tokens': ['[CLS]', '으로', '▁자리', '잡', '았다', '.', '▁플', '라스', '틱', ',', '▁합', '성', '섬', '유', '등', '의', '▁고', '분', '자', '물', '질', '▁등', '도', '[MASK]', '[MASK]', '[MASK]', '[MASK]', '[MASK]', '▁다루', '어진', '다', '.', '[SEP]', '▁유', '기', '화', '학', '은', '[MASK]', '[MASK]', '▁이루어진', '▁화', '합', '물을', '▁연구', '하는', '▁분', '과', '이다', '.', '▁원래', '[MASK]', '[MASK]', '▁화', '합', '물', '은', '▁식물', '이나', '▁동물', '로부터', '▁추', '출', '[SEP]'], 'segment': [0, 0, 0, 0, 0, 0, 0, 0, 0, 0, 0, 0, 0, 0, 0, 0, 0, 0, 0, 0, 0, 0, 0, 0, 0, 0, 0, 0, 0, 0, 0, 0, 0, 1, 1, 1, 1, 1, 1, 1, 1, 1, 1, 1, 1, 1, 1, 1, 1, 1, 1, 1, 1, 1, 1, 1, 1, 1, 1, 1, 1, 1, 1, 1], 'is_next': 1, 'mask_idx': [23, 24, 25, 26, 27, 38, 39, 51, 52], 'mask_label': ['▁유', '기', '화', '학', '에서', '▁탄', '소로', '▁유', '기']}\n",
            "\n",
            "doc: 10 instances: 5\n",
            "{'tokens': ['[CLS]', '[MASK]', '▁자리', '잡', '았다', '.', '▁플', '라스', '틱', ',', '▁합', '성', '섬', '유', '등', '의', '▁고', '분', '자', '물', '질', '▁등', '도', '▁유', '기', '화', '학', '에서', '▁다루', '어진', '다', '.', '[SEP]', '▁유', '기', '화', '학', '은', '▁탄', '소로', '▁이루어진', '▁화', '합', '물을', '▁연구', '하는', '[MASK]', '[MASK]', '[MASK]', '[MASK]', '▁원래', '[MASK]', '[MASK]', '▁화', '합', '물', '은', '[MASK]', '[MASK]', '▁동물', '로부터', '▁추', '출', '[SEP]'], 'segment': [0, 0, 0, 0, 0, 0, 0, 0, 0, 0, 0, 0, 0, 0, 0, 0, 0, 0, 0, 0, 0, 0, 0, 0, 0, 0, 0, 0, 0, 0, 0, 0, 0, 1, 1, 1, 1, 1, 1, 1, 1, 1, 1, 1, 1, 1, 1, 1, 1, 1, 1, 1, 1, 1, 1, 1, 1, 1, 1, 1, 1, 1, 1, 1], 'is_next': 0, 'mask_idx': [1, 46, 47, 48, 49, 51, 52, 57, 58], 'mask_label': ['으로', '▁분', '과', '이다', '.', '▁유', '기', '▁식물', '이나']}\n",
            "{'tokens': ['[CLS]', '으로', '▁자리', '잡', '았다', '.', '▁플', '라스', '틱', ',', '▁합', '성', '섬', '유', '등', '의', '▁고', '분', '자', '물', '질', '▁등', '도', '▁유', '기', '화', '학', '에서', '▁다루', '어진', '다', '.', '[SEP]', '▁유', '기', '화', '학', '은', '▁탄', '소로', '▁이루어진', '▁화', '합', '물을', '[MASK]', '[MASK]', '▁분', '과', '이다', '.', '[MASK]', '▁유', '기', '▁화', '합', '물', '은', '▁식물', '이나', '▁동물', '로부터', '[MASK]', '[MASK]', '[SEP]'], 'segment': [0, 0, 0, 0, 0, 0, 0, 0, 0, 0, 0, 0, 0, 0, 0, 0, 0, 0, 0, 0, 0, 0, 0, 0, 0, 0, 0, 0, 0, 0, 0, 0, 0, 1, 1, 1, 1, 1, 1, 1, 1, 1, 1, 1, 1, 1, 1, 1, 1, 1, 1, 1, 1, 1, 1, 1, 1, 1, 1, 1, 1, 1, 1, 1], 'is_next': 1, 'mask_idx': [44, 45, 50, 53, 54, 55, 56, 61, 62], 'mask_label': ['▁연구', '하는', '▁원래', '▁화', '합', '물', '은', '▁추', '출']}\n",
            "\n",
            "doc: 31 instances: 15\n",
            "{'tokens': ['[CLS]', '[MASK]', '▁자리', '잡', '았다', '.', '▁플', '라스', '틱', ',', '▁합', '성', '섬', '유', '등', '의', '▁고', '분', '자', '물', '질', '▁등', '도', '[MASK]', '[MASK]', '[MASK]', '[MASK]', '[MASK]', '▁다루', '어진', '다', '.', '[SEP]', '▁유', '기', '화', '학', '은', '▁탄', '소로', '[MASK]', '▁화', '합', '물을', '▁연구', '하는', '▁분', '과', '이다', '.', '▁원래', '[MASK]', '[MASK]', '▁화', '합', '물', '은', '▁식물', '이나', '▁동물', '로부터', '▁추', '출', '[SEP]'], 'segment': [0, 0, 0, 0, 0, 0, 0, 0, 0, 0, 0, 0, 0, 0, 0, 0, 0, 0, 0, 0, 0, 0, 0, 0, 0, 0, 0, 0, 0, 0, 0, 0, 0, 1, 1, 1, 1, 1, 1, 1, 1, 1, 1, 1, 1, 1, 1, 1, 1, 1, 1, 1, 1, 1, 1, 1, 1, 1, 1, 1, 1, 1, 1, 1], 'is_next': 1, 'mask_idx': [1, 23, 24, 25, 26, 27, 40, 51, 52], 'mask_label': ['으로', '▁유', '기', '화', '학', '에서', '▁이루어진', '▁유', '기']}\n",
            "{'tokens': ['[CLS]', '으로', '▁자리', '잡', '았다', '.', '▁플', '라스', '틱', ',', '▁합', '성', '섬', '유', '등', '의', '▁고', '분', '자', '물', '질', '▁등', '도', '▁유', '기', '화', '학', '에서', '▁다루', '어진', '다', '.', '[SEP]', '▁유', '기', '화', '학', '은', '▁탄', '소로', '▁이루어진', '[MASK]', '[MASK]', '[MASK]', '▁연구', '하는', '▁분', '과', '이다', '.', '[MASK]', '▁유', '기', '▁화', '합', '물', '은', '▁식물', '이나', '▁동물', '로부터', '▁추', '출', '[SEP]'], 'segment': [0, 0, 0, 0, 0, 0, 0, 0, 0, 0, 0, 0, 0, 0, 0, 0, 0, 0, 0, 0, 0, 0, 0, 0, 0, 0, 0, 0, 0, 0, 0, 0, 0, 1, 1, 1, 1, 1, 1, 1, 1, 1, 1, 1, 1, 1, 1, 1, 1, 1, 1, 1, 1, 1, 1, 1, 1, 1, 1, 1, 1, 1, 1, 1], 'is_next': 0, 'mask_idx': [23, 24, 25, 26, 27, 41, 42, 43, 50], 'mask_label': ['▁유', '기', '화', '학', '에서', '▁화', '합', '물을', '▁원래']}\n",
            "\n"
          ]
        }
      ]
    },
    {
      "cell_type": "markdown",
      "source": [
        "🔶 make_pretrain_data() : BERT pretrain 데이터셋 생성 메소드\n"
      ],
      "metadata": {
        "id": "3OzjeD8vbdea"
      }
    },
    {
      "cell_type": "code",
      "source": [
        "def make_pretrain_data(vocab, in_file, out_file, n_seq, mask_prob=0.15):\n",
        "    \"\"\" pretrain 데이터 생성 \"\"\"\n",
        "    def save_pretrain_instances(out_f, doc):\n",
        "        instances = create_pretrain_instances(vocab, doc, n_seq, mask_prob, vocab_list)\n",
        "        for instance in instances:\n",
        "            out_f.write(json.dumps(instance, ensure_ascii=False))\n",
        "            out_f.write(\"\\n\")\n",
        "\n",
        "    # 특수문자 7개를 제외한 vocab_list 생성\n",
        "    vocab_list = []\n",
        "    for id in range(7, len(vocab)):\n",
        "        if not vocab.is_unknown(id):        # 생성되는 단어 목록이 unknown인 경우는 제거합니다. \n",
        "            vocab_list.append(vocab.id_to_piece(id))\n",
        "\n",
        "    # line count 확인\n",
        "    line_cnt = 0\n",
        "    with open(in_file, \"r\") as in_f:\n",
        "        for line in in_f:\n",
        "            line_cnt += 1\n",
        "\n",
        "    with open(in_file, \"r\") as in_f:\n",
        "        with open(out_file, \"w\") as out_f:\n",
        "            doc = []\n",
        "            for line in tqdm(in_f, total=line_cnt):\n",
        "                line = line.strip()\n",
        "                if line == \"\":  # line이 빈줄 일 경우 (새로운 단락)\n",
        "                    if 0 < len(doc):\n",
        "                        save_pretrain_instances(out_f, doc)\n",
        "                        doc = []\n",
        "                else:  # line이 빈줄이 아닐 경우 tokenize 해서 doc에 저장\n",
        "                    pieces = vocab.encode_as_pieces(line)\n",
        "                    if 0 < len(pieces):\n",
        "                        doc.append(pieces)\n",
        "            if 0 < len(doc):  # 마지막에 처리되지 않은 doc가 있는 경우\n",
        "                save_pretrain_instances(out_f, doc)\n",
        "                doc = []"
      ],
      "metadata": {
        "id": "cFzwbN2Ca21u"
      },
      "execution_count": 28,
      "outputs": []
    },
    {
      "cell_type": "code",
      "source": [
        "pretrain_json_path = '/content/drive/MyDrive/AIFFEL/GoingDeeper_NLP/14_mini_BERT/bert_pre_train.json'\n",
        "\n",
        "make_pretrain_data(vocab, corpus_file, pretrain_json_path, 128)"
      ],
      "metadata": {
        "colab": {
          "base_uri": "https://localhost:8080/",
          "height": 49,
          "referenced_widgets": [
            "6bc8cd3e958946a49d3c22fb6707313a",
            "996e2db3fbbb44b0bcd8db3c023369a5",
            "1a8b76a860fc4d9a89a20e23fe74f48a",
            "f9a7c0193e6e4563b34670d055a1c540",
            "7d7f17dafd78479893f0ce280a9a5b74",
            "9ac85e3ce3484923ac5a1ebd542a4054",
            "a96af1424dc44f898ef12f0edc28614b",
            "d1fdcf00b35e4665b854d0d923a86a3c",
            "1c48ef257cd54dbab26a4e0f59976e7e",
            "46c77deee5db47ffa4a884acc559bc20",
            "8df034d37f5c41aab983401355c63581"
          ]
        },
        "id": "ODMySP-0bfvv",
        "outputId": "7851e8b4-8dc1-4c1b-fb36-21db8203b310"
      },
      "execution_count": 29,
      "outputs": [
        {
          "output_type": "display_data",
          "data": {
            "text/plain": [
              "  0%|          | 0/3957761 [00:00<?, ?it/s]"
            ],
            "application/vnd.jupyter.widget-view+json": {
              "version_major": 2,
              "version_minor": 0,
              "model_id": "6bc8cd3e958946a49d3c22fb6707313a"
            }
          },
          "metadata": {}
        }
      ]
    },
    {
      "cell_type": "code",
      "source": [
        "# 라인수\n",
        "total = 0\n",
        "with open(pretrain_json_path, \"r\") as f:\n",
        "    for line in f:\n",
        "        total += 1\n",
        "total"
      ],
      "metadata": {
        "colab": {
          "base_uri": "https://localhost:8080/"
        },
        "id": "2nW5ESMTdzTM",
        "outputId": "a3117b1a-0359-4dcb-8b6c-b986278c752e"
      },
      "execution_count": 30,
      "outputs": [
        {
          "output_type": "execute_result",
          "data": {
            "text/plain": [
              "918189"
            ]
          },
          "metadata": {},
          "execution_count": 30
        }
      ]
    },
    {
      "cell_type": "markdown",
      "source": [
        "🔶 load_pre_train_data() : 학습에 필요한 데이터를 로딩하는 함수\n",
        "\n",
        "np.memmap을 사용해 메모리 효율적으로 만들어진 데이터를 로딩하는 함수를 아래와 같이 구성하였습니다."
      ],
      "metadata": {
        "id": "SV5gTMzzeOMG"
      }
    },
    {
      "cell_type": "code",
      "source": [
        "def load_pre_train_data(vocab, filename, n_seq, count=None):\n",
        "    \"\"\"\n",
        "    학습에 필요한 데이터를 로드\n",
        "    :param vocab: vocab\n",
        "    :param filename: 전처리된 json 파일\n",
        "    :param n_seq: 시퀀스 길이 (number of sequence)\n",
        "    :param count: 데이터 수 제한 (None이면 전체)\n",
        "    :return enc_tokens: encoder inputs\n",
        "    :return segments: segment inputs\n",
        "    :return labels_nsp: nsp labels\n",
        "    :return labels_mlm: mlm labels\n",
        "    \"\"\"\n",
        "    total = 0\n",
        "    with open(filename, \"r\") as f:\n",
        "        for line in f:\n",
        "            total += 1\n",
        "            # 데이터 수 제한\n",
        "            if count is not None and count <= total:\n",
        "                break\n",
        "    \n",
        "    # np.memmap을 사용하면 메모리를 적은 메모리에서도 대용량 데이터 처리가 가능 함\n",
        "    enc_tokens = np.memmap(filename='enc_tokens.memmap', mode='w+', dtype=np.int32, shape=(total, n_seq))\n",
        "    segments = np.memmap(filename='segments.memmap', mode='w+', dtype=np.int32, shape=(total, n_seq))\n",
        "    labels_nsp = np.memmap(filename='labels_nsp.memmap', mode='w+', dtype=np.int32, shape=(total,))\n",
        "    labels_mlm = np.memmap(filename='labels_mlm.memmap', mode='w+', dtype=np.int32, shape=(total, n_seq))\n",
        "\n",
        "    with open(filename, \"r\") as f:\n",
        "        for i, line in enumerate(tqdm(f, total=total)):\n",
        "            if total <= i:\n",
        "                print(\"data load early stop\", total, i)\n",
        "                break\n",
        "            data = json.loads(line)\n",
        "            # encoder token\n",
        "            enc_token = [vocab.piece_to_id(p) for p in data[\"tokens\"]]\n",
        "            enc_token += [0] * (n_seq - len(enc_token))\n",
        "            # segment\n",
        "            segment = data[\"segment\"]\n",
        "            segment += [0] * (n_seq - len(segment))\n",
        "            # nsp label\n",
        "            label_nsp = data[\"is_next\"]\n",
        "            # mlm label\n",
        "            mask_idx = np.array(data[\"mask_idx\"], dtype=np.int32)\n",
        "            mask_label = np.array([vocab.piece_to_id(p) for p in data[\"mask_label\"]], dtype=np.int32)\n",
        "            label_mlm = np.full(n_seq, dtype=np.int32, fill_value=0)\n",
        "            label_mlm[mask_idx] = mask_label\n",
        "\n",
        "            assert len(enc_token) == len(segment) == len(label_mlm) == n_seq\n",
        "\n",
        "            enc_tokens[i] = enc_token\n",
        "            segments[i] = segment\n",
        "            labels_nsp[i] = label_nsp\n",
        "            labels_mlm[i] = label_mlm\n",
        "\n",
        "    return (enc_tokens, segments), (labels_nsp, labels_mlm)"
      ],
      "metadata": {
        "id": "Z9oCA1Y_eTSL"
      },
      "execution_count": 31,
      "outputs": []
    },
    {
      "cell_type": "code",
      "source": [
        "# 128000건만 메모리에 로딩\n",
        "pre_train_inputs, pre_train_labels = load_pre_train_data(vocab, pretrain_json_path, 128, count=128000)"
      ],
      "metadata": {
        "colab": {
          "base_uri": "https://localhost:8080/",
          "height": 67,
          "referenced_widgets": [
            "a752243108ff4594a3033af009dcd6f3",
            "c615d95830794efe8ee3a39fc7676b18",
            "d50e00cce3ab4b9482f8c6be0060bd62",
            "fe0c9775cc894ee3aac1a17412a67957",
            "0f777857aea84892a3ef3b544bcbb2c3",
            "0849798e49c3432ba4284c518ee37ea8",
            "bc5d123589f14877958678475c320466",
            "6dd62c74f1ed450e9941da27925381fc",
            "285d1dd2f9a84283abbb24c7462f5766",
            "27c63f15b9304de4a09fcd32987c0690",
            "9040d5856ec546eeac31a905bb14f316"
          ]
        },
        "id": "4gRDi5J2eWN1",
        "outputId": "b3a3f68d-8165-4156-def0-9e57bb8e66e3"
      },
      "execution_count": 32,
      "outputs": [
        {
          "output_type": "display_data",
          "data": {
            "text/plain": [
              "  0%|          | 0/128000 [00:00<?, ?it/s]"
            ],
            "application/vnd.jupyter.widget-view+json": {
              "version_major": 2,
              "version_minor": 0,
              "model_id": "a752243108ff4594a3033af009dcd6f3"
            }
          },
          "metadata": {}
        },
        {
          "output_type": "stream",
          "name": "stdout",
          "text": [
            "data load early stop 128000 128000\n"
          ]
        }
      ]
    },
    {
      "cell_type": "code",
      "source": [
        "# 처음과 마지막 확인\n",
        "pre_train_inputs[0][0], pre_train_inputs[0][-1], pre_train_inputs[1][0], pre_train_inputs[1][-1], pre_train_labels[0][0], pre_train_labels[0][-1], pre_train_labels[1][0], pre_train_labels[1][-1]"
      ],
      "metadata": {
        "colab": {
          "base_uri": "https://localhost:8080/"
        },
        "id": "QrENJs3IeZAX",
        "outputId": "26022158-4ec8-473b-c77e-db8cd16d266e"
      },
      "execution_count": 33,
      "outputs": [
        {
          "output_type": "execute_result",
          "data": {
            "text/plain": [
              "(memmap([   5, 3629,  203,    6,    6, 1114, 3724,  788,  243,   49, 3632,\n",
              "          796,  663, 1647, 3682, 3682, 3625,    6, 3008, 3625, 3616,   16,\n",
              "         3599,   18, 3686,  207, 3714, 3602,    6,    6,    6,  630, 3714,\n",
              "         3565, 3835,  429, 3740, 3628, 3626, 1369,   10, 1605, 3599, 1755,\n",
              "         3630,   41, 3644,  830, 3624, 1135,   52, 3599,   13,   81,   87,\n",
              "         1501, 2247,   25, 3779, 3873, 3667, 3631, 3813, 3873, 4196, 3636,\n",
              "         3779, 3601,  249, 3725, 1232,   33,   52, 3599,  479, 3652, 3625,\n",
              "          243, 2780,   14, 1509,  168, 3877,  414,  165, 1697, 4290, 3873,\n",
              "         3703, 3683,    6,   21, 5007,  399,    6,    6,    6,    6,    6,\n",
              "          307,  587,  931,  103, 4313, 4290,  613, 3638, 3718,   98, 3878,\n",
              "         3656,  256, 2543,  309,  337, 3735,  181, 3616, 3603,    6,    6,\n",
              "            6,    4,   18, 3686,  207, 3714,    4], dtype=int32),\n",
              " memmap([   5, 3676,  848, 3784, 1931,   58, 3676,  416, 2316, 3619, 3625,\n",
              "         3617, 3744, 4335,   12, 3625, 3616,  175, 3662,    7, 3629,  203,\n",
              "            6,    6,    6,    6,    6,    6,  143, 3625, 3616,  131, 3662,\n",
              "          342, 3629, 3616, 3602,  176,  334,  829, 1115, 3665,    6,    6,\n",
              "         3451, 1633,  375,  671, 1644, 3608,  547, 3423,  765,  815, 3604,\n",
              "            6,    6,    6, 2375, 3608, 3604,  532, 2589, 3599,    4,  307,\n",
              "          323,    6,  321, 3611,  622,  122, 3725, 3620, 3627, 3837, 3608,\n",
              "            6,  176,  268, 4082,   94,  567, 4014, 3617, 7474, 3616, 3830,\n",
              "           66, 3590,  307,  192, 1272,  158, 3788,  353, 3599,  202,  316,\n",
              "         3600,  176,   10,  323,  476, 3663, 1329,  605,  238, 3631, 2470,\n",
              "         3604, 1939,  106, 3627,   13,    6,    6, 1128,   48,    6,    6,\n",
              "          848, 3784, 3833,    8, 3637, 2263,    4], dtype=int32),\n",
              " memmap([0, 0, 0, 0, 0, 0, 0, 0, 0, 0, 0, 0, 0, 0, 0, 0, 0, 0, 0, 0, 0, 0,\n",
              "         0, 0, 0, 0, 0, 0, 0, 0, 0, 0, 0, 0, 0, 0, 0, 0, 0, 0, 0, 0, 0, 0,\n",
              "         0, 0, 0, 0, 0, 0, 0, 0, 0, 0, 0, 0, 0, 0, 0, 0, 0, 0, 0, 0, 0, 0,\n",
              "         0, 0, 0, 0, 0, 0, 0, 0, 0, 0, 0, 0, 0, 0, 0, 0, 0, 0, 0, 0, 0, 0,\n",
              "         0, 0, 0, 0, 0, 0, 0, 0, 0, 0, 0, 0, 0, 0, 0, 0, 0, 0, 0, 0, 0, 0,\n",
              "         0, 0, 0, 0, 0, 0, 0, 0, 0, 0, 0, 0, 0, 1, 1, 1, 1, 1], dtype=int32),\n",
              " memmap([0, 0, 0, 0, 0, 0, 0, 0, 0, 0, 0, 0, 0, 0, 0, 0, 0, 0, 0, 0, 0, 0,\n",
              "         0, 0, 0, 0, 0, 0, 0, 0, 0, 0, 0, 0, 0, 0, 0, 0, 0, 0, 0, 0, 0, 0,\n",
              "         0, 0, 0, 0, 0, 0, 0, 0, 0, 0, 0, 0, 0, 0, 0, 0, 0, 0, 0, 0, 0, 1,\n",
              "         1, 1, 1, 1, 1, 1, 1, 1, 1, 1, 1, 1, 1, 1, 1, 1, 1, 1, 1, 1, 1, 1,\n",
              "         1, 1, 1, 1, 1, 1, 1, 1, 1, 1, 1, 1, 1, 1, 1, 1, 1, 1, 1, 1, 1, 1,\n",
              "         1, 1, 1, 1, 1, 1, 1, 1, 1, 1, 1, 1, 1, 1, 1, 1, 1, 1], dtype=int32),\n",
              " 0,\n",
              " 1,\n",
              " memmap([   0,    0,    0,  241, 3602,    0,    0,    0,    0,   49, 3632,\n",
              "          796,    0,    0,    0,    0,    0,  203,    0,    0,    0,    0,\n",
              "            0,    0,    0,    0,    0,    0, 1755, 3630, 3646,    0,    0,\n",
              "            0,    0,    0,    0,    0,    0,    0,    0,    0,    0,    0,\n",
              "            0,    0,    0,    0,    0,    0,    0,    0,    0,    0,    0,\n",
              "            0,    0,    0,    0,    0,    0,    0,    0,    0,    0,    0,\n",
              "            0,    0,    0,    0,    0,    0,    0,    0,    0,    0,    0,\n",
              "            0,    0,    0,    0,    0,    0,    0,    0,    0,    0,    0,\n",
              "            0,    0,  593,    0,    0,    0, 1927, 3607,  813,   17, 3599,\n",
              "            0,    0,    0,    0,    0,    0,    0,    0,    0,    0,    0,\n",
              "            0,    0,    0,    0,    0,    0,    0,    0,    0,  489,  376,\n",
              "         3599,    0,    0,    0,    0,    0,    0], dtype=int32),\n",
              " memmap([   0,    0,    0,    0,    0,    0,    0,    0,    0,    0,    0,\n",
              "            0,    0,    0,    0,    0,    0,    0,    0,    0,    0,    0,\n",
              "          578, 3652, 3625, 3617, 4148, 3665,    0,    0,    0,    0,    0,\n",
              "            0,    0,    0,    0,    0,    0,    0,    0,    0, 1381, 4148,\n",
              "         3451,    0,    0,    0,    0,    0,    0,    0,    0,    0,    0,\n",
              "          752, 3608, 3604,    0,    0,    0,    0,    0,    0,    0,    0,\n",
              "            0, 2143,    0,    0,    0,    0,    0,    0,    0,    0,    0,\n",
              "          347,    0,    0,    0,    0,    0,    0,    0,    0,    0,    0,\n",
              "            0,    0,    0,    0,    0,    0,    0,    0,    0,    0,    0,\n",
              "            0,    0,    0,    0,    0,    0,    0,    0,    0,    0,    0,\n",
              "            0,    0,    0,    0,    0,  162,  490,    0,    0,   28, 3599,\n",
              "            0,    0,    0,    0,    0,    0,    0], dtype=int32))"
            ]
          },
          "metadata": {},
          "execution_count": 33
        }
      ]
    },
    {
      "cell_type": "markdown",
      "source": [
        "## 4. BERT 구현\n",
        "\n",
        "먼저 몇 가지 유틸리티 함수 정의"
      ],
      "metadata": {
        "id": "OGnY_beffjGA"
      }
    },
    {
      "cell_type": "code",
      "source": [
        "def get_pad_mask(tokens, i_pad=0):\n",
        "    \"\"\"\n",
        "    pad mask 계산하는 함수\n",
        "    :param tokens: tokens (bs, n_seq)\n",
        "    :param i_pad: id of pad\n",
        "    :return mask: pad mask (pad: 1, other: 0)\n",
        "    \"\"\"\n",
        "    mask = tf.cast(tf.math.equal(tokens, i_pad), tf.float32)\n",
        "    mask = tf.expand_dims(mask, axis=1)\n",
        "    return mask\n",
        "\n",
        "\n",
        "def get_ahead_mask(tokens, i_pad=0):\n",
        "    \"\"\"\n",
        "    ahead mask 계산하는 함수\n",
        "    :param tokens: tokens (bs, n_seq)\n",
        "    :param i_pad: id of pad\n",
        "    :return mask: ahead and pad mask (ahead or pad: 1, other: 0)\n",
        "    \"\"\"\n",
        "    n_seq = tf.shape(tokens)[1]\n",
        "    ahead_mask = 1 - tf.linalg.band_part(tf.ones((n_seq, n_seq)), -1, 0)\n",
        "    ahead_mask = tf.expand_dims(ahead_mask, axis=0)\n",
        "    pad_mask = get_pad_mask(tokens, i_pad)\n",
        "    mask = tf.maximum(ahead_mask, pad_mask)\n",
        "    return mask"
      ],
      "metadata": {
        "id": "sXfK4x0efmRd"
      },
      "execution_count": 34,
      "outputs": []
    },
    {
      "cell_type": "markdown",
      "source": [
        "![스크린샷 2022-10-24 오전 9.59.35.png](data:image/png;base64,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)"
      ],
      "metadata": {
        "id": "dqCL6vJBgJiK"
      }
    },
    {
      "cell_type": "markdown",
      "source": [
        "https://arxiv.org/pdf/1606.08415.pdf\n",
        "\n",
        "GELU함수의 식은 아래와 같음.\n",
        "\n",
        "$$0.5x(1+\\tanh[\\sqrt{2/\\pi}(x + 0.044715x^{3})])$$"
      ],
      "metadata": {
        "id": "6gbJpFX5gOOy"
      }
    },
    {
      "cell_type": "code",
      "source": [
        "#@tf.function(reduce_retracing=True)\n",
        "## experimental_relax_shapes는 더이상 안쓴다는디.\n",
        "@tf.function(experimental_relax_shapes=True)\n",
        "def gelu(x):\n",
        "    \"\"\"\n",
        "    gelu activation 함수\n",
        "    :param x: 입력 값\n",
        "    :return: gelu activation result\n",
        "    \"\"\"\n",
        "    return 0.5*x*(1+tf.tanh(np.sqrt(2/np.pi)*(x+0.044715*tf.pow(x, 3))))"
      ],
      "metadata": {
        "id": "_fikVmv_f95M"
      },
      "execution_count": 35,
      "outputs": []
    },
    {
      "cell_type": "code",
      "source": [
        "def kernel_initializer(stddev=0.02):\n",
        "    \"\"\"\n",
        "    parameter initializer 생성\n",
        "    :param stddev: 생성할 랜덤 변수의 표준편차\n",
        "    \"\"\"\n",
        "    return tf.keras.initializers.TruncatedNormal(stddev=stddev)\n",
        "\n",
        "\n",
        "def bias_initializer():\n",
        "    \"\"\"\n",
        "    bias initializer 생성\n",
        "    \"\"\"\n",
        "    return tf.zeros_initializer"
      ],
      "metadata": {
        "id": "7EaHoTwcg563"
      },
      "execution_count": 36,
      "outputs": []
    },
    {
      "cell_type": "code",
      "source": [
        "class Config(dict):\n",
        "    \"\"\"\n",
        "    json을 config 형태로 사용하기 위한 Class\n",
        "    :param dict: config dictionary\n",
        "    \"\"\"\n",
        "    __getattr__ = dict.__getitem__\n",
        "    __setattr__ = dict.__setitem__\n",
        "\n",
        "    @classmethod\n",
        "    def load(cls, file):\n",
        "        \"\"\"\n",
        "        file에서 Config를 생성 함\n",
        "        :param file: filename\n",
        "        \"\"\"\n",
        "        with open(file, 'r') as f:\n",
        "            config = json.loads(f.read())\n",
        "            return Config(config)"
      ],
      "metadata": {
        "id": "1wCxSkFYg79b"
      },
      "execution_count": 37,
      "outputs": []
    },
    {
      "cell_type": "code",
      "source": [
        "class SharedEmbedding(tf.keras.layers.Layer):\n",
        "    \"\"\"\n",
        "    Weighed Shared Embedding Class\n",
        "    \"\"\"\n",
        "    def __init__(self, config, name=\"weight_shared_embedding\"):\n",
        "        \"\"\"\n",
        "        생성자\n",
        "        :param config: Config 객체\n",
        "        :param name: layer name\n",
        "        \"\"\"\n",
        "        super().__init__(name=name)\n",
        "\n",
        "        self.n_vocab = config.n_vocab\n",
        "        self.d_model = config.d_model\n",
        "    # build는 레이어 안에 변수를 만들어주는 것.\n",
        "    # variables는 보통 학습가능한? 가중치 같은것들.\n",
        "    def build(self, input_shape):\n",
        "        \"\"\"\n",
        "        shared weight 생성\n",
        "        :param input_shape: Tensor Shape (not used)\n",
        "        \"\"\"\n",
        "        with tf.name_scope(\"shared_embedding_weight\"):\n",
        "            # build 함수 안에서 self.add_weight를 이용해 가중치를 간단하게 만들어주는 것임.\n",
        "            self.shared_weights = self.add_weight(\n",
        "                \"weights\",\n",
        "                shape=[self.n_vocab, self.d_model], # 임베딩 레이어기 때문에 사이즈를 단어장 X 임베딩 차원으로 만들어줌.\n",
        "                initializer=kernel_initializer()\n",
        "            )\n",
        "\n",
        "    def call(self, inputs, mode=\"embedding\"):\n",
        "        \"\"\"\n",
        "        layer 실행\n",
        "        :param inputs: 입력\n",
        "        :param mode: 실행 모드\n",
        "        :return: embedding or linear 실행 결과\n",
        "        \"\"\"\n",
        "        # mode가 embedding일 경우 embedding lookup 실행\n",
        "        if mode == \"embedding\":\n",
        "            return self._embedding(inputs)\n",
        "        # mode가 linear일 경우 linear 실행\n",
        "        elif mode == \"linear\":\n",
        "            return self._linear(inputs)\n",
        "        # mode가 기타일 경우 오류 발생\n",
        "        else:\n",
        "            raise ValueError(f\"mode {mode} is not valid.\")\n",
        "    \n",
        "    def _embedding(self, inputs):\n",
        "        \"\"\"\n",
        "        embedding lookup\n",
        "        :param inputs: 입력\n",
        "        \"\"\"\n",
        "        # tf.gather는 간단하게 보면 룩업테이블에서 인덱스 번호를 가져오는 것.\n",
        "        # inputs에 해당하는 단어들의 임베딩을 가져온다고 보면 될듯.\n",
        "        embed = tf.gather(self.shared_weights, tf.cast(inputs, tf.int32))\n",
        "        return embed\n",
        "\n",
        "    def _linear(self, inputs):  # (bs, n_seq, d_model)\n",
        "        \"\"\"\n",
        "        linear 실행\n",
        "        :param inputs: 입력\n",
        "        \"\"\"\n",
        "        n_batch = tf.shape(inputs)[0]\n",
        "        n_seq = tf.shape(inputs)[1]\n",
        "        inputs = tf.reshape(inputs, [-1, self.d_model])  # (bs * n_seq, d_model)\n",
        "        outputs = tf.matmul(inputs, self.shared_weights, transpose_b=True)\n",
        "        outputs = tf.reshape(outputs, [n_batch, n_seq, self.n_vocab])  # (bs, n_seq, n_vocab)\n",
        "        return outputs"
      ],
      "metadata": {
        "id": "N_cWOrbZg_Qb"
      },
      "execution_count": 38,
      "outputs": []
    },
    {
      "cell_type": "code",
      "source": [
        "class PositionEmbedding(tf.keras.layers.Layer):\n",
        "    \"\"\"\n",
        "    Position Embedding Class\n",
        "    \"\"\"\n",
        "    def __init__(self, config, name=\"position_embedding\"):\n",
        "        \"\"\"\n",
        "        생성자\n",
        "        :param config: Config 객체\n",
        "        :param name: layer name\n",
        "        \"\"\"\n",
        "        super().__init__(name=name)\n",
        "        \n",
        "        self.embedding = tf.keras.layers.Embedding(config.n_seq, config.d_model, embeddings_initializer=kernel_initializer())\n",
        "\n",
        "    def call(self, inputs):\n",
        "        \"\"\"\n",
        "        layer 실행\n",
        "        :param inputs: 입력\n",
        "        :return embed: position embedding lookup 결과\n",
        "        \"\"\"\n",
        "        # tf.math.cumsum = 누적합(cumulative sum) 진행하는 함수임.\n",
        "        # axis=1 로 각 행마다 열방향으로 누적합\n",
        "        # exclusive=True = [a, b, c] 의 누적합을 [0, a, a+b]이렇게 진행하는 것.\n",
        "        # 계산 후 position의 첫 번째 행은 아마 [0,1,2,3,4,...]의 형태일 것임. 이는 sequence에서 토큰의 위치를 나타낸다고 볼 수 있음.\n",
        "        # 위치에 따른 임베딩을 따로 학습한다고 볼 수 있음. 근데 굳이 exclusive를 해 준 이유는 아마 인덱스가 0부터 시작해서일듯?\n",
        "        position = tf.cast(tf.math.cumsum(tf.ones_like(inputs), axis=1, exclusive=True), tf.int32)\n",
        "        embed = self.embedding(position)\n",
        "        return embed"
      ],
      "metadata": {
        "id": "SFsW3WTZhsP7"
      },
      "execution_count": 39,
      "outputs": []
    },
    {
      "cell_type": "code",
      "source": [
        "class ScaleDotProductAttention(tf.keras.layers.Layer):\n",
        "    \"\"\"\n",
        "    Scale Dot Product Attention Class\n",
        "    \"\"\"\n",
        "    def __init__(self, name=\"scale_dot_product_attention\"):\n",
        "        \"\"\"\n",
        "        생성자\n",
        "        :param name: layer name\n",
        "        \"\"\"\n",
        "        super().__init__(name=name)\n",
        "\n",
        "    def call(self, Q, K, V, attn_mask):\n",
        "        \"\"\"\n",
        "        layer 실행\n",
        "        :param Q: Q value\n",
        "        :param K: K value\n",
        "        :param V: V value\n",
        "        :param attn_mask: 실행 모드\n",
        "        :return attn_out: attention 실행 결과\n",
        "        \"\"\"\n",
        "        attn_score = tf.matmul(Q, K, transpose_b=True)\n",
        "        scale = tf.math.sqrt(tf.cast(tf.shape(K)[-1], tf.float32))\n",
        "        attn_scale = tf.math.divide(attn_score, scale)\n",
        "        attn_scale -= 1.e9 * attn_mask\n",
        "        attn_prob = tf.nn.softmax(attn_scale, axis=-1)\n",
        "        attn_out = tf.matmul(attn_prob, V)\n",
        "        return attn_out"
      ],
      "metadata": {
        "id": "4DWEeYE5htkX"
      },
      "execution_count": 40,
      "outputs": []
    },
    {
      "cell_type": "code",
      "source": [
        "class MultiHeadAttention(tf.keras.layers.Layer):\n",
        "    \"\"\"\n",
        "    Multi Head Attention Class\n",
        "    \"\"\"\n",
        "    def __init__(self, config, name=\"multi_head_attention\"):\n",
        "        \"\"\"\n",
        "        생성자\n",
        "        :param config: Config 객체\n",
        "        :param name: layer name\n",
        "        \"\"\"\n",
        "        super().__init__(name=name)\n",
        "\n",
        "        self.d_model = config.d_model\n",
        "        self.n_head = config.n_head\n",
        "        self.d_head = config.d_head\n",
        "\n",
        "        # Q, K, V input dense layer\n",
        "        self.W_Q = tf.keras.layers.Dense(config.n_head * config.d_head, kernel_initializer=kernel_initializer(), bias_initializer=bias_initializer())\n",
        "        self.W_K = tf.keras.layers.Dense(config.n_head * config.d_head, kernel_initializer=kernel_initializer(), bias_initializer=bias_initializer())\n",
        "        self.W_V = tf.keras.layers.Dense(config.n_head * config.d_head, kernel_initializer=kernel_initializer(), bias_initializer=bias_initializer())\n",
        "        # Scale Dot Product Attention class\n",
        "        self.attention = ScaleDotProductAttention(name=\"self_attention\")\n",
        "        # output dense layer\n",
        "        self.W_O = tf.keras.layers.Dense(config.d_model, kernel_initializer=kernel_initializer(), bias_initializer=bias_initializer())\n",
        "\n",
        "    def call(self, Q, K, V, attn_mask):\n",
        "        \"\"\"\n",
        "        layer 실행\n",
        "        :param Q: Q value\n",
        "        :param K: K value\n",
        "        :param V: V value\n",
        "        :param attn_mask: 실행 모드\n",
        "        :return attn_out: attention 실행 결과\n",
        "        \"\"\"\n",
        "        # reshape Q, K, V, attn_mask\n",
        "        batch_size = tf.shape(Q)[0]\n",
        "        Q_m = tf.transpose(tf.reshape(self.W_Q(Q), [batch_size, -1, self.n_head, self.d_head]), [0, 2, 1, 3])  # (bs, n_head, Q_len, d_head)\n",
        "        K_m = tf.transpose(tf.reshape(self.W_K(K), [batch_size, -1, self.n_head, self.d_head]), [0, 2, 1, 3])  # (bs, n_head, K_len, d_head)\n",
        "        V_m = tf.transpose(tf.reshape(self.W_V(V), [batch_size, -1, self.n_head, self.d_head]), [0, 2, 1, 3])  # (bs, n_head, K_len, d_head)\n",
        "        attn_mask_m = tf.expand_dims(attn_mask, axis=1)\n",
        "        # Scale Dot Product Attention with multi head Q, K, V, attn_mask\n",
        "        attn_out = self.attention(Q_m, K_m, V_m, attn_mask_m)  # (bs, n_head, Q_len, d_head)\n",
        "        # transpose and liner\n",
        "        attn_out_m = tf.transpose(attn_out, perm=[0, 2, 1, 3])  # (bs, Q_len, n_head, d_head)\n",
        "        attn_out = tf.reshape(attn_out_m, [batch_size, -1, config.n_head * config.d_head])  # (bs, Q_len, d_model)\n",
        "        attn_out = self.W_O(attn_out) # (bs, Q_len, d_model)\n",
        "\n",
        "        return attn_out"
      ],
      "metadata": {
        "id": "2bpvcz0NiSIm"
      },
      "execution_count": 41,
      "outputs": []
    },
    {
      "cell_type": "code",
      "source": [
        "class PositionWiseFeedForward(tf.keras.layers.Layer):\n",
        "    \"\"\"\n",
        "    Position Wise Feed Forward Class\n",
        "    \"\"\"\n",
        "    def __init__(self, config, name=\"feed_forward\"):\n",
        "        \"\"\"\n",
        "        생성자\n",
        "        :param config: Config 객체\n",
        "        :param name: layer name\n",
        "        \"\"\"\n",
        "        super().__init__(name=name)\n",
        "\n",
        "        self.W_1 = tf.keras.layers.Dense(config.d_ff, activation=gelu, kernel_initializer=kernel_initializer(), bias_initializer=bias_initializer())\n",
        "        self.W_2 = tf.keras.layers.Dense(config.d_model, kernel_initializer=kernel_initializer(), bias_initializer=bias_initializer())\n",
        "\n",
        "    def call(self, inputs):\n",
        "        \"\"\"\n",
        "        layer 실행\n",
        "        :param inputs: inputs\n",
        "        :return ff_val: feed forward 실행 결과\n",
        "        \"\"\"\n",
        "        ff_val = self.W_2(self.W_1(inputs))\n",
        "        return ff_val"
      ],
      "metadata": {
        "id": "c5P7huPviTKe"
      },
      "execution_count": 42,
      "outputs": []
    },
    {
      "cell_type": "code",
      "source": [
        "class EncoderLayer(tf.keras.layers.Layer):\n",
        "    \"\"\"\n",
        "    Encoder Layer Class\n",
        "    \"\"\"\n",
        "    def __init__(self, config, name=\"encoder_layer\"):\n",
        "        \"\"\"\n",
        "        생성자\n",
        "        :param config: Config 객체\n",
        "        :param name: layer name\n",
        "        \"\"\"\n",
        "        super().__init__(name=name)\n",
        "\n",
        "        self.self_attention = MultiHeadAttention(config)\n",
        "        self.norm1 = tf.keras.layers.LayerNormalization(epsilon=config.layernorm_epsilon)\n",
        "\n",
        "        self.ffn = PositionWiseFeedForward(config)\n",
        "        self.norm2 = tf.keras.layers.LayerNormalization(epsilon=config.layernorm_epsilon)\n",
        "\n",
        "        self.dropout = tf.keras.layers.Dropout(config.dropout)\n",
        " \n",
        "    def call(self, enc_embed, self_mask):\n",
        "        \"\"\"\n",
        "        layer 실행\n",
        "        :param enc_embed: enc_embed 또는 이전 EncoderLayer의 출력\n",
        "        :param self_mask: enc_tokens의 pad mask\n",
        "        :return enc_out: EncoderLayer 실행 결과\n",
        "        \"\"\"\n",
        "        self_attn_val = self.self_attention(enc_embed, enc_embed, enc_embed, self_mask)\n",
        "        norm1_val = self.norm1(enc_embed + self.dropout(self_attn_val))\n",
        "\n",
        "        ffn_val = self.ffn(norm1_val)\n",
        "        enc_out = self.norm2(norm1_val + self.dropout(ffn_val))\n",
        "\n",
        "        return enc_out"
      ],
      "metadata": {
        "id": "w68ANBCxiY2e"
      },
      "execution_count": 43,
      "outputs": []
    },
    {
      "cell_type": "code",
      "source": [
        "class BERT(tf.keras.layers.Layer):\n",
        "    \"\"\"\n",
        "    BERT Class\n",
        "    \"\"\"\n",
        "    def __init__(self, config, name=\"bert\"):\n",
        "        \"\"\"\n",
        "        생성자\n",
        "        :param config: Config 객체\n",
        "        :param name: layer name\n",
        "        \"\"\"\n",
        "        super().__init__(name=name)\n",
        "\n",
        "        self.i_pad = config.i_pad\n",
        "        self.embedding = SharedEmbedding(config)\n",
        "        self.position = PositionEmbedding(config)\n",
        "        # segment는 A문장 아니면 B문장이기 때문에 단어장 크기가 2임.\n",
        "        self.segment = tf.keras.layers.Embedding(2, config.d_model, embeddings_initializer=kernel_initializer())\n",
        "        self.norm = tf.keras.layers.LayerNormalization(epsilon=config.layernorm_epsilon)\n",
        "        \n",
        "        self.encoder_layers = [EncoderLayer(config, name=f\"encoder_layer_{i}\") for i in range(config.n_layer)]\n",
        "\n",
        "        self.dropout = tf.keras.layers.Dropout(config.dropout)\n",
        "\n",
        "    def call(self, inputs):\n",
        "        \"\"\"\n",
        "        layer 실행\n",
        "        :param inputs: (enc_tokens, segments)\n",
        "        :return logits: dec_tokens에 대한 다음 토큰 예측 결과 logits\n",
        "        \"\"\"\n",
        "        # input에 대한 segments가 [a,a,a,a,a,a,b,b,b,b,b,b]뭐 이런 식으로 들어오면 a,b에 해당하는 임베딩을 학습함.\n",
        "        enc_tokens, segments = inputs \n",
        "\n",
        "        enc_self_mask = tf.keras.layers.Lambda(get_pad_mask, output_shape=(1, None), name='enc_self_mask')(enc_tokens, self.i_pad)\n",
        "\n",
        "        enc_embed = self.get_embedding(enc_tokens, segments)\n",
        "\n",
        "        enc_out = self.dropout(enc_embed)\n",
        "        for encoder_layer in self.encoder_layers:\n",
        "            enc_out = encoder_layer(enc_out, enc_self_mask)\n",
        "\n",
        "        logits_cls = enc_out[:,0] # [CLS]토큰의 최종 hidden state가져옴.\n",
        "        logits_lm = self.embedding(enc_out, mode=\"linear\")\n",
        "        return logits_cls, logits_lm\n",
        "    \n",
        "    def get_embedding(self, tokens, segments):\n",
        "        \"\"\"\n",
        "        token embedding, position embedding lookup\n",
        "        :param tokens: 입력 tokens\n",
        "        :param segments: 입력 segments\n",
        "        :return embed: embedding 결과\n",
        "        \"\"\"\n",
        "        embed = self.embedding(tokens) + self.position(tokens) + self.segment(segments)\n",
        "        embed = self.norm(embed)\n",
        "        return embed"
      ],
      "metadata": {
        "id": "b3kNAnzAibKt"
      },
      "execution_count": 44,
      "outputs": []
    },
    {
      "cell_type": "code",
      "source": [
        "# Encoder Layer class 정의\n",
        "class PooledOutput(tf.keras.layers.Layer):\n",
        "    def __init__(self, config, n_output, name=\"pooled_output\"):\n",
        "        super().__init__(name=name)\n",
        "\n",
        "        self.dense1 = tf.keras.layers.Dense(config.d_model, activation=tf.nn.tanh, kernel_initializer=kernel_initializer(), bias_initializer=bias_initializer())\n",
        "        self.dense2 = tf.keras.layers.Dense(n_output, use_bias=False, activation=tf.nn.softmax, name=\"nsp\", kernel_initializer=kernel_initializer(), bias_initializer=bias_initializer())\n",
        " \n",
        "    def call(self, inputs):\n",
        "        outputs = self.dense1(inputs)\n",
        "        outputs = self.dense2(outputs)\n",
        "        return outputs"
      ],
      "metadata": {
        "id": "5I-YJKkcjSbd"
      },
      "execution_count": 45,
      "outputs": []
    },
    {
      "cell_type": "code",
      "source": [
        "def build_model_pre_train(config):\n",
        "    enc_tokens = tf.keras.layers.Input((None,), name=\"enc_tokens\")\n",
        "    segments = tf.keras.layers.Input((None,), name=\"segments\")\n",
        "\n",
        "    bert = BERT(config)\n",
        "    logits_cls, logits_lm = bert((enc_tokens, segments))\n",
        "    # [CLS]토큰의 마지막 hidden state를 이용해서 IsNext 인지 NotNext인지를 판단함.\n",
        "    logits_cls = PooledOutput(config, 2, name=\"pooled_nsp\")(logits_cls)\n",
        "    outputs_nsp = tf.keras.layers.Softmax(name=\"nsp\")(logits_cls)\n",
        "\n",
        "    outputs_mlm = tf.keras.layers.Softmax(name=\"mlm\")(logits_lm)\n",
        "\n",
        "    model = tf.keras.Model(inputs=(enc_tokens, segments), outputs=(outputs_nsp, outputs_mlm))\n",
        "    return model\n"
      ],
      "metadata": {
        "id": "AKtqMncJjcJy"
      },
      "execution_count": 46,
      "outputs": []
    },
    {
      "cell_type": "code",
      "source": [
        "config = Config({\"d_model\": 128, \"n_head\": 4, \"d_head\": 32, \"dropout\": 0.1, \"d_ff\": 256, \"layernorm_epsilon\": 0.001, \"n_layer\": 1, \"n_seq\": 256, \"n_vocab\": 0, \"i_pad\": 0})\n",
        "config.n_vocab = len(vocab)\n",
        "config.i_pad = vocab.pad_id()\n",
        "config"
      ],
      "metadata": {
        "colab": {
          "base_uri": "https://localhost:8080/"
        },
        "id": "F7Ci8QgXjjo9",
        "outputId": "a6e01cbf-71d1-4929-b0de-7f8712a684e9"
      },
      "execution_count": 47,
      "outputs": [
        {
          "output_type": "execute_result",
          "data": {
            "text/plain": [
              "{'d_model': 128,\n",
              " 'n_head': 4,\n",
              " 'd_head': 32,\n",
              " 'dropout': 0.1,\n",
              " 'd_ff': 256,\n",
              " 'layernorm_epsilon': 0.001,\n",
              " 'n_layer': 1,\n",
              " 'n_seq': 256,\n",
              " 'n_vocab': 8007,\n",
              " 'i_pad': 0}"
            ]
          },
          "metadata": {},
          "execution_count": 47
        }
      ]
    },
    {
      "cell_type": "code",
      "source": [
        "n_seq = 10\n",
        "\n",
        "# make test inputs\n",
        "enc_tokens = np.random.randint(0, len(vocab), (10, n_seq))\n",
        "segments = np.random.randint(0, 2, (10, n_seq))\n",
        "labels_nsp = np.random.randint(0, 2, (10,))\n",
        "labels_mlm = np.random.randint(0, len(vocab), (10, n_seq))\n",
        "\n",
        "test_model = build_model_pre_train(config)\n",
        "test_model.compile(loss=tf.keras.losses.sparse_categorical_crossentropy, optimizer=tf.keras.optimizers.Adam(), metrics=[\"acc\"])\n",
        "\n",
        "# test model fit\n",
        "test_model.fit((enc_tokens, segments), (labels_nsp, labels_mlm), epochs=2, batch_size=5)"
      ],
      "metadata": {
        "colab": {
          "base_uri": "https://localhost:8080/"
        },
        "id": "ZTowx1k4jszj",
        "outputId": "2a98b41f-afc3-4188-faca-3933f9004e8e"
      },
      "execution_count": 48,
      "outputs": [
        {
          "output_type": "stream",
          "name": "stdout",
          "text": [
            "Epoch 1/2\n",
            "2/2 [==============================] - 3s 15ms/step - loss: 9.7129 - nsp_loss: 0.7023 - mlm_loss: 9.0106 - nsp_acc: 0.4000 - mlm_acc: 0.0000e+00\n",
            "Epoch 2/2\n",
            "2/2 [==============================] - 0s 11ms/step - loss: 9.3294 - nsp_loss: 0.6781 - mlm_loss: 8.6514 - nsp_acc: 0.6000 - mlm_acc: 0.0000e+00\n"
          ]
        },
        {
          "output_type": "execute_result",
          "data": {
            "text/plain": [
              "<keras.callbacks.History at 0x7ff97d152c10>"
            ]
          },
          "metadata": {},
          "execution_count": 48
        }
      ]
    },
    {
      "cell_type": "markdown",
      "source": [
        "## 5. pretrain 진행"
      ],
      "metadata": {
        "id": "POygim2tj7S8"
      }
    },
    {
      "cell_type": "code",
      "source": [
        "def lm_loss(y_true, y_pred):\n",
        "    \"\"\"\n",
        "    loss 계산 함수\n",
        "    :param y_true: 정답 (bs, n_seq)\n",
        "    :param y_pred: 예측 값 (bs, n_seq, n_vocab)\n",
        "    \"\"\"\n",
        "    # loss 계산\n",
        "    loss = tf.keras.losses.SparseCategoricalCrossentropy(reduction=tf.keras.losses.Reduction.NONE)(y_true, y_pred)\n",
        "    # pad(0) 인 부분 mask\n",
        "    mask = tf.cast(tf.math.not_equal(y_true, 0), dtype=loss.dtype)\n",
        "    loss *= mask\n",
        "    return loss * 20  # mlm을 더 잘 학습하도록 20배 증가 시킴"
      ],
      "metadata": {
        "id": "5z7SGqELjv_t"
      },
      "execution_count": 49,
      "outputs": []
    },
    {
      "cell_type": "code",
      "source": [
        "def lm_acc(y_true, y_pred):\n",
        "    \"\"\"\n",
        "    acc 계산 함수\n",
        "    :param y_true: 정답 (bs, n_seq)\n",
        "    :param y_pred: 예측 값 (bs, n_seq, n_vocab)\n",
        "    \"\"\"\n",
        "    # 정답 여부 확인\n",
        "    y_pred_class = tf.cast(K.argmax(y_pred, axis=-1), tf.float32)\n",
        "    matches = tf.cast(K.equal(y_true, y_pred_class), tf.float32)\n",
        "    # pad(0) 인 부분 mask\n",
        "    mask = tf.cast(tf.math.not_equal(y_true, 0), dtype=matches.dtype)\n",
        "    matches *= mask\n",
        "    # 정확도 계산\n",
        "    accuracy = K.sum(matches) / K.maximum(K.sum(mask), 1)\n",
        "    return accuracy"
      ],
      "metadata": {
        "id": "QXqMByMqk-Xk"
      },
      "execution_count": 50,
      "outputs": []
    },
    {
      "cell_type": "code",
      "source": [
        "class CosineSchedule(tf.keras.optimizers.schedules.LearningRateSchedule):\n",
        "    \"\"\"\n",
        "    CosineSchedule Class\n",
        "    \"\"\"\n",
        "    def __init__(self, train_steps=4000, warmup_steps=2000, max_lr=2.5e-4):\n",
        "        \"\"\"\n",
        "        생성자\n",
        "        :param train_steps: 학습 step 총 합\n",
        "        :param warmup_steps: warmup steps\n",
        "        :param max_lr: 최대 learning rate\n",
        "        \"\"\"\n",
        "        super().__init__()\n",
        "\n",
        "        assert 0 < warmup_steps < train_steps\n",
        "        self.warmup_steps = warmup_steps\n",
        "        self.train_steps = train_steps\n",
        "        self.max_lr = max_lr\n",
        "\n",
        "    def __call__(self, step_num):\n",
        "        \"\"\"\n",
        "        learning rate 계산\n",
        "        :param step_num: 현재 step number\n",
        "        :retrun: 계산된 learning rate\n",
        "        \"\"\"\n",
        "        state = tf.cast(step_num <= self.warmup_steps, tf.float32)\n",
        "        lr1 = tf.cast(step_num, tf.float32) / self.warmup_steps\n",
        "        progress = tf.cast(step_num - self.warmup_steps, tf.float32) / max(1, self.train_steps - self.warmup_steps)\n",
        "        lr2 = 0.5 * (1.0 + tf.math.cos(math.pi * progress))\n",
        "        return (state * lr1 + (1 - state) * lr2) * self.max_lr"
      ],
      "metadata": {
        "id": "VZjWEjpzlH5P"
      },
      "execution_count": 51,
      "outputs": []
    },
    {
      "cell_type": "code",
      "source": [
        "# compute lr \n",
        "test_schedule = CosineSchedule(train_steps=4000, warmup_steps=500)\n",
        "lrs = []\n",
        "for step_num in range(4000):\n",
        "    lrs.append(test_schedule(float(step_num)).numpy())\n",
        "\n",
        "# draw\n",
        "plt.plot(lrs, 'r-', label='learning_rate')\n",
        "plt.xlabel('Step')\n",
        "plt.show()"
      ],
      "metadata": {
        "colab": {
          "base_uri": "https://localhost:8080/",
          "height": 279
        },
        "id": "5kc_peemlaUH",
        "outputId": "6303e63f-61e0-4b73-8ef6-c217580f85ee"
      },
      "execution_count": 52,
      "outputs": [
        {
          "output_type": "display_data",
          "data": {
            "text/plain": [
              "<Figure size 432x288 with 1 Axes>"
            ],
            "image/png": "[encoded data removed]"
          },
          "metadata": {
            "needs_background": "light"
          }
        }
      ]
    },
    {
      "cell_type": "code",
      "source": [
        "# 모델 생성\n",
        "pre_train_model = build_model_pre_train(config)\n",
        "pre_train_model.summary()"
      ],
      "metadata": {
        "colab": {
          "base_uri": "https://localhost:8080/"
        },
        "id": "O45hqOGklkUG",
        "outputId": "c0e2e384-ae8d-4eae-c706-1475195da25e"
      },
      "execution_count": 53,
      "outputs": [
        {
          "output_type": "stream",
          "name": "stdout",
          "text": [
            "Model: \"model_1\"\n",
            "__________________________________________________________________________________________________\n",
            " Layer (type)                   Output Shape         Param #     Connected to                     \n",
            "==================================================================================================\n",
            " enc_tokens (InputLayer)        [(None, None)]       0           []                               \n",
            "                                                                                                  \n",
            " segments (InputLayer)          [(None, None)]       0           []                               \n",
            "                                                                                                  \n",
            " bert (BERT)                    ((None, 128),        1190656     ['enc_tokens[0][0]',             \n",
            "                                 (None, None, 8007)               'segments[0][0]']               \n",
            "                                )                                                                 \n",
            "                                                                                                  \n",
            " pooled_nsp (PooledOutput)      (None, 2)            16768       ['bert[0][0]']                   \n",
            "                                                                                                  \n",
            " nsp (Softmax)                  (None, 2)            0           ['pooled_nsp[0][0]']             \n",
            "                                                                                                  \n",
            " mlm (Softmax)                  (None, None, 8007)   0           ['bert[0][1]']                   \n",
            "                                                                                                  \n",
            "==================================================================================================\n",
            "Total params: 1,207,424\n",
            "Trainable params: 1,207,424\n",
            "Non-trainable params: 0\n",
            "__________________________________________________________________________________________________\n"
          ]
        }
      ]
    },
    {
      "cell_type": "code",
      "source": [
        "epochs = 20\n",
        "batch_size = 64\n",
        "\n",
        "# optimizer\n",
        "train_steps = math.ceil(len(pre_train_inputs[0]) / batch_size) * epochs\n",
        "print(\"train_steps:\", train_steps)\n",
        "learning_rate = CosineSchedule(train_steps=train_steps, warmup_steps=max(100, train_steps // 10))\n",
        "optimizer = tf.keras.optimizers.Adam(learning_rate, beta_1=0.9, beta_2=0.98, epsilon=1e-9)\n",
        "\n",
        "# compile\n",
        "pre_train_model.compile(loss=(tf.keras.losses.sparse_categorical_crossentropy, lm_loss), optimizer=optimizer, metrics={\"nsp\": \"acc\", \"mlm\": lm_acc})"
      ],
      "metadata": {
        "colab": {
          "base_uri": "https://localhost:8080/"
        },
        "id": "9vW9CTWelkjz",
        "outputId": "9695414a-9f1c-4bca-84fa-79b13c9ea98f"
      },
      "execution_count": 54,
      "outputs": [
        {
          "output_type": "stream",
          "name": "stdout",
          "text": [
            "train_steps: 40000\n"
          ]
        }
      ]
    },
    {
      "cell_type": "code",
      "source": [
        "# save weights callback\n",
        "save_weights = tf.keras.callbacks.ModelCheckpoint(f\"{model_dir}/bert_pre_train.hdf5\", monitor=\"mlm_lm_acc\", verbose=1, save_best_only=True, mode=\"max\", save_freq=\"epoch\", save_weights_only=True)\n",
        "# train\n",
        "history = pre_train_model.fit(pre_train_inputs, pre_train_labels, epochs=epochs, batch_size=batch_size, callbacks=[save_weights])"
      ],
      "metadata": {
        "colab": {
          "base_uri": "https://localhost:8080/"
        },
        "id": "QYKS5gVtlsCi",
        "outputId": "acffe8fa-9fc8-4f88-cbb4-424ffec208bd"
      },
      "execution_count": 55,
      "outputs": [
        {
          "output_type": "stream",
          "name": "stdout",
          "text": [
            "Epoch 1/20\n",
            "2000/2000 [==============================] - ETA: 0s - loss: 20.9991 - nsp_loss: 0.6911 - mlm_loss: 20.3080 - nsp_acc: 0.5169 - mlm_lm_acc: 0.0507\n",
            "Epoch 1: mlm_lm_acc improved from -inf to 0.05072, saving model to /content/bert_pre_train.hdf5\n",
            "2000/2000 [==============================] - 106s 52ms/step - loss: 20.9991 - nsp_loss: 0.6911 - mlm_loss: 20.3080 - nsp_acc: 0.5169 - mlm_lm_acc: 0.0507\n",
            "Epoch 2/20\n",
            "2000/2000 [==============================] - ETA: 0s - loss: 18.9019 - nsp_loss: 0.6442 - mlm_loss: 18.2576 - nsp_acc: 0.5993 - mlm_lm_acc: 0.0932\n",
            "Epoch 2: mlm_lm_acc improved from 0.05072 to 0.09325, saving model to /content/bert_pre_train.hdf5\n",
            "2000/2000 [==============================] - 106s 53ms/step - loss: 18.9019 - nsp_loss: 0.6442 - mlm_loss: 18.2576 - nsp_acc: 0.5993 - mlm_lm_acc: 0.0932\n",
            "Epoch 3/20\n",
            "2000/2000 [==============================] - ETA: 0s - loss: 18.1099 - nsp_loss: 0.6320 - mlm_loss: 17.4780 - nsp_acc: 0.6121 - mlm_lm_acc: 0.1199\n",
            "Epoch 3: mlm_lm_acc improved from 0.09325 to 0.11990, saving model to /content/bert_pre_train.hdf5\n",
            "2000/2000 [==============================] - 106s 53ms/step - loss: 18.1099 - nsp_loss: 0.6320 - mlm_loss: 17.4780 - nsp_acc: 0.6121 - mlm_lm_acc: 0.1199\n",
            "Epoch 4/20\n",
            "2000/2000 [==============================] - ETA: 0s - loss: 17.6676 - nsp_loss: 0.6206 - mlm_loss: 17.0469 - nsp_acc: 0.6221 - mlm_lm_acc: 0.1267\n",
            "Epoch 4: mlm_lm_acc improved from 0.11990 to 0.12670, saving model to /content/bert_pre_train.hdf5\n",
            "2000/2000 [==============================] - 106s 53ms/step - loss: 17.6676 - nsp_loss: 0.6206 - mlm_loss: 17.0469 - nsp_acc: 0.6221 - mlm_lm_acc: 0.1267\n",
            "Epoch 5/20\n",
            "2000/2000 [==============================] - ETA: 0s - loss: 17.4333 - nsp_loss: 0.6171 - mlm_loss: 16.8162 - nsp_acc: 0.6259 - mlm_lm_acc: 0.1301\n",
            "Epoch 5: mlm_lm_acc improved from 0.12670 to 0.13010, saving model to /content/bert_pre_train.hdf5\n",
            "2000/2000 [==============================] - 106s 53ms/step - loss: 17.4333 - nsp_loss: 0.6171 - mlm_loss: 16.8162 - nsp_acc: 0.6259 - mlm_lm_acc: 0.1301\n",
            "Epoch 6/20\n",
            "2000/2000 [==============================] - ETA: 0s - loss: 17.2100 - nsp_loss: 0.6144 - mlm_loss: 16.5956 - nsp_acc: 0.6324 - mlm_lm_acc: 0.1328\n",
            "Epoch 6: mlm_lm_acc improved from 0.13010 to 0.13280, saving model to /content/bert_pre_train.hdf5\n",
            "2000/2000 [==============================] - 106s 53ms/step - loss: 17.2100 - nsp_loss: 0.6144 - mlm_loss: 16.5956 - nsp_acc: 0.6324 - mlm_lm_acc: 0.1328\n",
            "Epoch 7/20\n",
            "2000/2000 [==============================] - ETA: 0s - loss: 16.9046 - nsp_loss: 0.6129 - mlm_loss: 16.2917 - nsp_acc: 0.6376 - mlm_lm_acc: 0.1367\n",
            "Epoch 7: mlm_lm_acc improved from 0.13280 to 0.13667, saving model to /content/bert_pre_train.hdf5\n",
            "2000/2000 [==============================] - 106s 53ms/step - loss: 16.9046 - nsp_loss: 0.6129 - mlm_loss: 16.2917 - nsp_acc: 0.6376 - mlm_lm_acc: 0.1367\n",
            "Epoch 8/20\n",
            "2000/2000 [==============================] - ETA: 0s - loss: 16.5974 - nsp_loss: 0.6115 - mlm_loss: 15.9860 - nsp_acc: 0.6391 - mlm_lm_acc: 0.1406\n",
            "Epoch 8: mlm_lm_acc improved from 0.13667 to 0.14059, saving model to /content/bert_pre_train.hdf5\n",
            "2000/2000 [==============================] - 106s 53ms/step - loss: 16.5974 - nsp_loss: 0.6115 - mlm_loss: 15.9860 - nsp_acc: 0.6391 - mlm_lm_acc: 0.1406\n",
            "Epoch 9/20\n",
            "2000/2000 [==============================] - ETA: 0s - loss: 16.3366 - nsp_loss: 0.6106 - mlm_loss: 15.7259 - nsp_acc: 0.6390 - mlm_lm_acc: 0.1442\n",
            "Epoch 9: mlm_lm_acc improved from 0.14059 to 0.14416, saving model to /content/bert_pre_train.hdf5\n",
            "2000/2000 [==============================] - 106s 53ms/step - loss: 16.3366 - nsp_loss: 0.6106 - mlm_loss: 15.7259 - nsp_acc: 0.6390 - mlm_lm_acc: 0.1442\n",
            "Epoch 10/20\n",
            "2000/2000 [==============================] - ETA: 0s - loss: 15.8421 - nsp_loss: 0.6098 - mlm_loss: 15.2323 - nsp_acc: 0.6438 - mlm_lm_acc: 0.1502\n",
            "Epoch 10: mlm_lm_acc improved from 0.14416 to 0.15019, saving model to /content/bert_pre_train.hdf5\n",
            "2000/2000 [==============================] - 106s 53ms/step - loss: 15.8421 - nsp_loss: 0.6098 - mlm_loss: 15.2323 - nsp_acc: 0.6438 - mlm_lm_acc: 0.1502\n",
            "Epoch 11/20\n",
            "2000/2000 [==============================] - ETA: 0s - loss: 15.2253 - nsp_loss: 0.6105 - mlm_loss: 14.6147 - nsp_acc: 0.6419 - mlm_lm_acc: 0.1596\n",
            "Epoch 11: mlm_lm_acc improved from 0.15019 to 0.15962, saving model to /content/bert_pre_train.hdf5\n",
            "2000/2000 [==============================] - 106s 53ms/step - loss: 15.2253 - nsp_loss: 0.6105 - mlm_loss: 14.6147 - nsp_acc: 0.6419 - mlm_lm_acc: 0.1596\n",
            "Epoch 12/20\n",
            "2000/2000 [==============================] - ETA: 0s - loss: 14.8466 - nsp_loss: 0.6096 - mlm_loss: 14.2370 - nsp_acc: 0.6442 - mlm_lm_acc: 0.1673\n",
            "Epoch 12: mlm_lm_acc improved from 0.15962 to 0.16729, saving model to /content/bert_pre_train.hdf5\n",
            "2000/2000 [==============================] - 107s 54ms/step - loss: 14.8466 - nsp_loss: 0.6096 - mlm_loss: 14.2370 - nsp_acc: 0.6442 - mlm_lm_acc: 0.1673\n",
            "Epoch 13/20\n",
            "2000/2000 [==============================] - ETA: 0s - loss: 14.6270 - nsp_loss: 0.6079 - mlm_loss: 14.0191 - nsp_acc: 0.6472 - mlm_lm_acc: 0.1734\n",
            "Epoch 13: mlm_lm_acc improved from 0.16729 to 0.17341, saving model to /content/bert_pre_train.hdf5\n",
            "2000/2000 [==============================] - 106s 53ms/step - loss: 14.6270 - nsp_loss: 0.6079 - mlm_loss: 14.0191 - nsp_acc: 0.6472 - mlm_lm_acc: 0.1734\n",
            "Epoch 14/20\n",
            "2000/2000 [==============================] - ETA: 0s - loss: 14.4783 - nsp_loss: 0.6065 - mlm_loss: 13.8718 - nsp_acc: 0.6514 - mlm_lm_acc: 0.1781\n",
            "Epoch 14: mlm_lm_acc improved from 0.17341 to 0.17808, saving model to /content/bert_pre_train.hdf5\n",
            "2000/2000 [==============================] - 106s 53ms/step - loss: 14.4783 - nsp_loss: 0.6065 - mlm_loss: 13.8718 - nsp_acc: 0.6514 - mlm_lm_acc: 0.1781\n",
            "Epoch 15/20\n",
            "2000/2000 [==============================] - ETA: 0s - loss: 14.3762 - nsp_loss: 0.6049 - mlm_loss: 13.7713 - nsp_acc: 0.6540 - mlm_lm_acc: 0.1813\n",
            "Epoch 15: mlm_lm_acc improved from 0.17808 to 0.18128, saving model to /content/bert_pre_train.hdf5\n",
            "2000/2000 [==============================] - 106s 53ms/step - loss: 14.3762 - nsp_loss: 0.6049 - mlm_loss: 13.7713 - nsp_acc: 0.6540 - mlm_lm_acc: 0.1813\n",
            "Epoch 16/20\n",
            "2000/2000 [==============================] - ETA: 0s - loss: 14.3050 - nsp_loss: 0.6033 - mlm_loss: 13.7017 - nsp_acc: 0.6561 - mlm_lm_acc: 0.1834\n",
            "Epoch 16: mlm_lm_acc improved from 0.18128 to 0.18340, saving model to /content/bert_pre_train.hdf5\n",
            "2000/2000 [==============================] - 106s 53ms/step - loss: 14.3050 - nsp_loss: 0.6033 - mlm_loss: 13.7017 - nsp_acc: 0.6561 - mlm_lm_acc: 0.1834\n",
            "Epoch 17/20\n",
            "2000/2000 [==============================] - ETA: 0s - loss: 14.2580 - nsp_loss: 0.6033 - mlm_loss: 13.6547 - nsp_acc: 0.6582 - mlm_lm_acc: 0.1848\n",
            "Epoch 17: mlm_lm_acc improved from 0.18340 to 0.18478, saving model to /content/bert_pre_train.hdf5\n",
            "2000/2000 [==============================] - 106s 53ms/step - loss: 14.2580 - nsp_loss: 0.6033 - mlm_loss: 13.6547 - nsp_acc: 0.6582 - mlm_lm_acc: 0.1848\n",
            "Epoch 18/20\n",
            "2000/2000 [==============================] - ETA: 0s - loss: 14.2265 - nsp_loss: 0.6023 - mlm_loss: 13.6242 - nsp_acc: 0.6582 - mlm_lm_acc: 0.1852\n",
            "Epoch 18: mlm_lm_acc improved from 0.18478 to 0.18523, saving model to /content/bert_pre_train.hdf5\n",
            "2000/2000 [==============================] - 106s 53ms/step - loss: 14.2265 - nsp_loss: 0.6023 - mlm_loss: 13.6242 - nsp_acc: 0.6582 - mlm_lm_acc: 0.1852\n",
            "Epoch 19/20\n",
            "2000/2000 [==============================] - ETA: 0s - loss: 14.2105 - nsp_loss: 0.6020 - mlm_loss: 13.6085 - nsp_acc: 0.6614 - mlm_lm_acc: 0.1859\n",
            "Epoch 19: mlm_lm_acc improved from 0.18523 to 0.18594, saving model to /content/bert_pre_train.hdf5\n",
            "2000/2000 [==============================] - 106s 53ms/step - loss: 14.2105 - nsp_loss: 0.6020 - mlm_loss: 13.6085 - nsp_acc: 0.6614 - mlm_lm_acc: 0.1859\n",
            "Epoch 20/20\n",
            "2000/2000 [==============================] - ETA: 0s - loss: 14.2047 - nsp_loss: 0.6014 - mlm_loss: 13.6033 - nsp_acc: 0.6614 - mlm_lm_acc: 0.1860\n",
            "Epoch 20: mlm_lm_acc improved from 0.18594 to 0.18603, saving model to /content/bert_pre_train.hdf5\n",
            "2000/2000 [==============================] - 107s 53ms/step - loss: 14.2047 - nsp_loss: 0.6014 - mlm_loss: 13.6033 - nsp_acc: 0.6614 - mlm_lm_acc: 0.1860\n"
          ]
        }
      ]
    },
    {
      "cell_type": "code",
      "source": [
        "# training result\n",
        "plt.figure(figsize=(12, 4))\n",
        "\n",
        "plt.subplot(1, 2, 1)\n",
        "plt.plot(history.history['nsp_loss'], 'b-', label='nsp_loss')\n",
        "plt.plot(history.history['mlm_loss'], 'r--', label='mlm_loss')\n",
        "plt.xlabel('Epoch')\n",
        "plt.legend()\n",
        "\n",
        "plt.subplot(1, 2, 2)\n",
        "plt.plot(history.history['nsp_acc'], 'g-', label='nsp_acc')\n",
        "plt.plot(history.history['mlm_lm_acc'], 'k--', label='mlm_acc')\n",
        "plt.xlabel('Epoch')\n",
        "plt.legend()\n",
        "\n",
        "plt.show()"
      ],
      "metadata": {
        "colab": {
          "base_uri": "https://localhost:8080/",
          "height": 279
        },
        "id": "fItG6pRVlxKc",
        "outputId": "581e9c58-2c8d-4d8a-d8c2-caf60df29fb2"
      },
      "execution_count": 56,
      "outputs": [
        {
          "output_type": "display_data",
          "data": {
            "text/plain": [
              "<Figure size 864x288 with 2 Axes>"
            ],
            "image/png": "[encoded data removed]"
          },
          "metadata": {
            "needs_background": "light"
          }
        }
      ]
    }
  ]
}