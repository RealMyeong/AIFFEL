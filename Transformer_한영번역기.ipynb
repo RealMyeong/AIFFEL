{
  "nbformat": 4,
  "nbformat_minor": 0,
  "metadata": {
    "colab": {
      "provenance": [],
      "collapsed_sections": [],
      "machine_shape": "hm",
      "mount_file_id": "1Z0U98FVFLh-AeNPQtI-vQ-g7IqlzMKd_",
      "authorship_tag": "ABX9TyM547x8nP+ZWNRBPkiJO4Tw",
      "include_colab_link": true
    },
    "kernelspec": {
      "name": "python3",
      "display_name": "Python 3"
    },
    "language_info": {
      "name": "python"
    },
    "accelerator": "GPU"
  },
  "cells": [
    {
      "cell_type": "markdown",
      "metadata": {
        "id": "view-in-github",
        "colab_type": "text"
      },
      "source": [
        "<a href=\"https://colab.research.google.com/github/RealMyeong/Going_Deeper_NLP/blob/main/Transformer_%ED%95%9C%EC%98%81%EB%B2%88%EC%97%AD%EA%B8%B0.ipynb\" target=\"_parent\"><img src=\"https://colab.research.google.com/assets/colab-badge.svg\" alt=\"Open In Colab\"/></a>"
      ]
    },
    {
      "cell_type": "markdown",
      "source": [
        "1. 데이터 불러온 후 정제 및 토큰화"
      ],
      "metadata": {
        "id": "mL62YO-ePdwg"
      }
    },
    {
      "cell_type": "code",
      "source": [
        "!sudo apt-get install -y fonts-nanum\n",
        "!sudo fc-cache -fv\n",
        "!rm ~/.cache/matplotlib -rf"
      ],
      "metadata": {
        "colab": {
          "base_uri": "https://localhost:8080/"
        },
        "id": "s4MGBZA7SThk",
        "outputId": "132db21b-4352-4e57-896f-b040d33d2455"
      },
      "execution_count": 1,
      "outputs": [
        {
          "output_type": "stream",
          "name": "stdout",
          "text": [
            "Reading package lists... Done\n",
            "Building dependency tree       \n",
            "Reading state information... Done\n",
            "The following package was automatically installed and is no longer required:\n",
            "  libnvidia-common-460\n",
            "Use 'sudo apt autoremove' to remove it.\n",
            "The following NEW packages will be installed:\n",
            "  fonts-nanum\n",
            "0 upgraded, 1 newly installed, 0 to remove and 22 not upgraded.\n",
            "Need to get 9,604 kB of archives.\n",
            "After this operation, 29.5 MB of additional disk space will be used.\n",
            "Get:1 http://archive.ubuntu.com/ubuntu bionic/universe amd64 fonts-nanum all 20170925-1 [9,604 kB]\n",
            "Fetched 9,604 kB in 3s (3,183 kB/s)\n",
            "debconf: unable to initialize frontend: Dialog\n",
            "debconf: (No usable dialog-like program is installed, so the dialog based frontend cannot be used. at /usr/share/perl5/Debconf/FrontEnd/Dialog.pm line 76, <> line 1.)\n",
            "debconf: falling back to frontend: Readline\n",
            "debconf: unable to initialize frontend: Readline\n",
            "debconf: (This frontend requires a controlling tty.)\n",
            "debconf: falling back to frontend: Teletype\n",
            "dpkg-preconfigure: unable to re-open stdin: \n",
            "Selecting previously unselected package fonts-nanum.\n",
            "(Reading database ... 123941 files and directories currently installed.)\n",
            "Preparing to unpack .../fonts-nanum_20170925-1_all.deb ...\n",
            "Unpacking fonts-nanum (20170925-1) ...\n",
            "Setting up fonts-nanum (20170925-1) ...\n",
            "Processing triggers for fontconfig (2.12.6-0ubuntu2) ...\n",
            "/usr/share/fonts: caching, new cache contents: 0 fonts, 1 dirs\n",
            "/usr/share/fonts/truetype: caching, new cache contents: 0 fonts, 3 dirs\n",
            "/usr/share/fonts/truetype/humor-sans: caching, new cache contents: 1 fonts, 0 dirs\n",
            "/usr/share/fonts/truetype/liberation: caching, new cache contents: 16 fonts, 0 dirs\n",
            "/usr/share/fonts/truetype/nanum: caching, new cache contents: 10 fonts, 0 dirs\n",
            "/usr/local/share/fonts: caching, new cache contents: 0 fonts, 0 dirs\n",
            "/root/.local/share/fonts: skipping, no such directory\n",
            "/root/.fonts: skipping, no such directory\n",
            "/var/cache/fontconfig: cleaning cache directory\n",
            "/root/.cache/fontconfig: not cleaning non-existent cache directory\n",
            "/root/.fontconfig: not cleaning non-existent cache directory\n",
            "fc-cache: succeeded\n"
          ]
        }
      ]
    },
    {
      "cell_type": "code",
      "source": [
        "import tensorflow as tf\n",
        "import numpy as np\n",
        "\n",
        "from sklearn.model_selection import train_test_split\n",
        "\n",
        "import matplotlib.ticker as ticker\n",
        "import matplotlib.pyplot as plt\n",
        "\n",
        "%config InlineBackend.figure_format = 'retina'\n",
        "import matplotlib as mpl\n",
        "import matplotlib.font_manager as fm\n",
        "fontpath = '/usr/share/fonts/truetype/nanum/NanumBarunGothic.ttf'\n",
        "font = fm.FontProperties(fname=fontpath, size=9)\n",
        "plt.rc('font', family='NanumBarunGothic') \n",
        "mpl.font_manager.findfont(font)\n",
        "import time\n",
        "import re\n",
        "import os"
      ],
      "metadata": {
        "id": "WBJD5SpkzogN"
      },
      "execution_count": 2,
      "outputs": []
    },
    {
      "cell_type": "code",
      "execution_count": 3,
      "metadata": {
        "id": "v2kJzoTJPFUF"
      },
      "outputs": [],
      "source": [
        "\n",
        "kor_path = '/content/drive/MyDrive/AIFFEL/GoingDeeper_NLP/8_한영번역기/korean-english-park.train/korean-english-park.train.ko'\n",
        "eng_path = '/content/drive/MyDrive/AIFFEL/GoingDeeper_NLP/8_한영번역기/korean-english-park.train/korean-english-park.train.en'\n",
        "\n",
        "# 중복된 데이터 삭제\n",
        "\n",
        "def clean_corpus(kor_path, eng_path):\n",
        "  with open(kor_path, 'r') as f:\n",
        "    kor = f.read().splitlines()\n",
        "  with open(eng_path, 'r') as f:\n",
        "    eng = f.read().splitlines()\n",
        "  assert len(kor) == len(eng)\n",
        "\n",
        "  sen_zip = zip(kor, eng)\n",
        "  sen_zip = set(sen_zip)\n",
        "  n_dup_ko, n_dup_eng = zip(*sen_zip)\n",
        "\n",
        "  return n_dup_ko, n_dup_eng\n",
        "\n",
        "cleaned_ko, cleaned_eng = clean_corpus(kor_path, eng_path)\n",
        "\n"
      ]
    },
    {
      "cell_type": "code",
      "source": [
        "print(len(cleaned_ko))\n",
        "cleaned_ko[:5]"
      ],
      "metadata": {
        "colab": {
          "base_uri": "https://localhost:8080/"
        },
        "id": "DZou9AcUT8hT",
        "outputId": "6fce5a77-31d0-4b4c-8ff7-cf14119a087e"
      },
      "execution_count": 4,
      "outputs": [
        {
          "output_type": "stream",
          "name": "stdout",
          "text": [
            "78968\n"
          ]
        },
        {
          "output_type": "execute_result",
          "data": {
            "text/plain": [
              "('미 캘리포니아 남부 산불로 14명이 사망하고 50만8000에이커가 불에 탔으며 1600채의 가옥이 전소됐다.',\n",
              " '최초의 폭발은 아침 10시경 유명 식당에서 있었고 두 번째 폭발은 10분 뒤 100야드 떨어진 지점의 알 수타 알 라베이아 지구의 시장거리에서 발생했다.',\n",
              " '미국 남부로 조지아주 토속 음식 여행을 떠나보자.',\n",
              " '특히 대졸이나 고등교육을 받은 전문직과 기술직의 부족은 각각 7,300명과 17,000명에 이른다고 한다.',\n",
              " '이에앞서 미국반도핑기구(USADA)는 53페이지의 조항을 들어 게이틀린에게 출전정지 4년의 중징계를 내렸다.')"
            ]
          },
          "metadata": {},
          "execution_count": 4
        }
      ]
    },
    {
      "cell_type": "code",
      "source": [
        "print(len(cleaned_eng))\n",
        "cleaned_eng[:5]"
      ],
      "metadata": {
        "colab": {
          "base_uri": "https://localhost:8080/"
        },
        "id": "flYEGYsfUAgo",
        "outputId": "8d431fd3-69f9-420b-a6f1-920d10191eef"
      },
      "execution_count": 5,
      "outputs": [
        {
          "output_type": "stream",
          "name": "stdout",
          "text": [
            "78968\n"
          ]
        },
        {
          "output_type": "execute_result",
          "data": {
            "text/plain": [
              "('The fires are blamed for 14 deaths and charred more than 508,000 acres, destroying about 1,600 homes.',\n",
              " 'The first bomb hit a popular restaurant at about 10 a.m., while a second one exploded 10 minutes later and 100 yards away in an outdoor market in al-Shurta al-Rabeia district, police said.',\n",
              " \"T+L heads south to get a taste of some of Georgia's best homegrown talent.\",\n",
              " 'In particular, the lack of professionals and technicians with undergraduate or higher-level educations stood at 7,300 and 17,000, respectively.',\n",
              " \"A three-member arbitration panel cut Gatlin's suspension in half to four years in a 53-page ruling released Tuesday.\")"
            ]
          },
          "metadata": {},
          "execution_count": 5
        }
      ]
    },
    {
      "cell_type": "markdown",
      "source": [
        "- 간단한 전처리 함수 정의\n",
        "  - 모든 입력 소문자로 변환\n",
        "  - 알파벳, 문장부호, 한글만 남기고 제거\n",
        "  - 문장부호 양 옆에 공백 추가\n",
        "  - 문장 앞뒤의 불필요한 공백 제거"
      ],
      "metadata": {
        "id": "HxF7YL45UU6Q"
      }
    },
    {
      "cell_type": "code",
      "source": [
        "import re\n",
        "\n",
        "def preprocess_sentence(sentence, s_token=False, e_token=False, ko=False):\n",
        "    sentence = sentence.lower().strip()\n",
        "    sentence = re.sub(r\"([?.!,])\", r\" \\1 \", sentence)\n",
        "    sentence = re.sub(r'[\" \"]+', \" \", sentence)\n",
        "    sentence = re.sub(r\"[^0-9a-zA-Z가-힣ㄱ-ㅎㅏ-ㅣ?.!,]+\", \" \", sentence)\n",
        "    sentence = sentence.strip()\n",
        "\n",
        "    if s_token:\n",
        "        sentence = '<start> ' + sentence\n",
        "\n",
        "    if e_token:\n",
        "        sentence += ' <end>'\n",
        "    \n",
        "    return sentence"
      ],
      "metadata": {
        "id": "AYVnSwglUCY_"
      },
      "execution_count": 6,
      "outputs": []
    },
    {
      "cell_type": "code",
      "source": [
        "cleaned_ko = [preprocess_sentence(x, ko=True) for x in cleaned_ko]\n",
        "cleaned_eng = [preprocess_sentence(x) for x in cleaned_eng]"
      ],
      "metadata": {
        "id": "gQ6T0AJEUyBO"
      },
      "execution_count": 7,
      "outputs": []
    },
    {
      "cell_type": "code",
      "source": [
        "cleaned_ko[:5]"
      ],
      "metadata": {
        "colab": {
          "base_uri": "https://localhost:8080/"
        },
        "id": "wxlGuPUbVG7Y",
        "outputId": "67e8e9a2-048b-4830-8001-1c8ed7870f43"
      },
      "execution_count": 8,
      "outputs": [
        {
          "output_type": "execute_result",
          "data": {
            "text/plain": [
              "['미 캘리포니아 남부 산불로 14명이 사망하고 50만8000에이커가 불에 탔으며 1600채의 가옥이 전소됐다 .',\n",
              " '최초의 폭발은 아침 10시경 유명 식당에서 있었고 두 번째 폭발은 10분 뒤 100야드 떨어진 지점의 알 수타 알 라베이아 지구의 시장거리에서 발생했다 .',\n",
              " '미국 남부로 조지아주 토속 음식 여행을 떠나보자 .',\n",
              " '특히 대졸이나 고등교육을 받은 전문직과 기술직의 부족은 각각 7 , 300명과 17 , 000명에 이른다고 한다 .',\n",
              " '이에앞서 미국반도핑기구 usada 는 53페이지의 조항을 들어 게이틀린에게 출전정지 4년의 중징계를 내렸다 .']"
            ]
          },
          "metadata": {},
          "execution_count": 8
        }
      ]
    },
    {
      "cell_type": "code",
      "source": [
        "cleaned_eng[:5]"
      ],
      "metadata": {
        "colab": {
          "base_uri": "https://localhost:8080/"
        },
        "id": "vMK-wLzeVJU7",
        "outputId": "b50e47be-45e2-464a-9a7f-a3f415d67c11"
      },
      "execution_count": 9,
      "outputs": [
        {
          "output_type": "execute_result",
          "data": {
            "text/plain": [
              "['the fires are blamed for 14 deaths and charred more than 508 , 000 acres , destroying about 1 , 600 homes .',\n",
              " 'the first bomb hit a popular restaurant at about 10 a . m . , while a second one exploded 10 minutes later and 100 yards away in an outdoor market in al shurta al rabeia district , police said .',\n",
              " 't l heads south to get a taste of some of georgia s best homegrown talent .',\n",
              " 'in particular , the lack of professionals and technicians with undergraduate or higher level educations stood at 7 , 300 and 17 , 000 , respectively .',\n",
              " 'a three member arbitration panel cut gatlin s suspension in half to four years in a 53 page ruling released tuesday .']"
            ]
          },
          "metadata": {},
          "execution_count": 9
        }
      ]
    },
    {
      "cell_type": "markdown",
      "source": [
        "- SentencePiece로 토큰화하기"
      ],
      "metadata": {
        "id": "wxMgGHcpV1tc"
      }
    },
    {
      "cell_type": "code",
      "source": [
        "!pip install sentencepiece"
      ],
      "metadata": {
        "colab": {
          "base_uri": "https://localhost:8080/"
        },
        "id": "EnbtoUcWVK7a",
        "outputId": "93bbd1dd-e0c2-44ac-fdea-1bf94a179a76"
      },
      "execution_count": 10,
      "outputs": [
        {
          "output_type": "stream",
          "name": "stdout",
          "text": [
            "Looking in indexes: https://pypi.org/simple, https://us-python.pkg.dev/colab-wheels/public/simple/\n",
            "Collecting sentencepiece\n",
            "  Downloading sentencepiece-0.1.97-cp37-cp37m-manylinux_2_17_x86_64.manylinux2014_x86_64.whl (1.3 MB)\n",
            "\u001b[K     |████████████████████████████████| 1.3 MB 4.2 MB/s \n",
            "\u001b[?25hInstalling collected packages: sentencepiece\n",
            "Successfully installed sentencepiece-0.1.97\n"
          ]
        }
      ]
    },
    {
      "cell_type": "code",
      "source": [
        "import sentencepiece as spm"
      ],
      "metadata": {
        "id": "acKd8hTCWI6w"
      },
      "execution_count": 11,
      "outputs": []
    },
    {
      "cell_type": "code",
      "source": [
        "import os\n",
        "# Sentencepiece를 활용하여 학습한 tokenizer를 생성합니다.\n",
        "def generate_tokenizer(corpus, model_type='unigram', vocab_size=32000, lang=\"ko\"): \n",
        "    \n",
        "    input_file = f'{lang}_spm_input.txt'\n",
        "\n",
        "    with open(input_file, 'w', encoding='utf-8') as f:\n",
        "        for sent in corpus:\n",
        "            f.write('{}\\n'.format(sent))\n",
        "        \n",
        "    sp_model_root='sentencepiece'\n",
        "    if not os.path.isdir(sp_model_root): os.mkdir(sp_model_root)\n",
        "    \n",
        "    prefix = 'tokenizer_%s_%s' % (lang,model_type+str(vocab_size))\n",
        "    prefix = os.path.join(sp_model_root, prefix) # 저장될 tokenizer 모델에 붙는 이름\n",
        "    pad_id=0\n",
        "    bos_id=1 #<start> token을 1으로 설정\n",
        "    eos_id=2 #<end> token을 2으로 설정\n",
        "    unk_id=3 #<unknown> token을 3으로 설정\n",
        "    # model_type = model_type # Choose from unigram (default), bpe, char, or word\n",
        "    input_argument = '--input=%s --pad_id=%s --bos_id=%s --eos_id=%s --unk_id=%s --model_prefix=%s --vocab_size=%s --model_type=%s'\n",
        "    cmd = input_argument%(input_file, pad_id, bos_id, eos_id, unk_id, prefix, vocab_size, model_type)\n",
        "                      \n",
        "    spm.SentencePieceTrainer.Train(cmd)\n",
        "    tokenizer = spm.SentencePieceProcessor()\n",
        "    tokenizer.Load(f'{prefix}.model')\n",
        "    \n",
        "    return tokenizer"
      ],
      "metadata": {
        "id": "7Jub5K68a0d7"
      },
      "execution_count": 12,
      "outputs": []
    },
    {
      "cell_type": "code",
      "source": [
        "SRC_VOCAB_SIZE = TGT_VOCAB_SIZE = 32000\n",
        "\n",
        "ko_tokenizer = generate_tokenizer(cleaned_ko, 'bpe', SRC_VOCAB_SIZE, \"ko\")\n",
        "en_tokenizer = generate_tokenizer(cleaned_eng, 'bpe', TGT_VOCAB_SIZE, \"en\")\n",
        "en_tokenizer.set_encode_extra_options(\"bos:eos\")"
      ],
      "metadata": {
        "colab": {
          "base_uri": "https://localhost:8080/"
        },
        "id": "7GW4WZDwjLgW",
        "outputId": "694a0ff4-8aa0-45ed-83b0-344839983a1c"
      },
      "execution_count": 13,
      "outputs": [
        {
          "output_type": "execute_result",
          "data": {
            "text/plain": [
              "True"
            ]
          },
          "metadata": {},
          "execution_count": 13
        }
      ]
    },
    {
      "cell_type": "code",
      "source": [
        "def testSP(sp, txts):\n",
        "    tokens_list = []\n",
        "    for txt in txts:\n",
        "        tokens = sp.encode_as_pieces(txt)\n",
        "        #ids = sp.encode_as_ids(txt)\n",
        "        tokens_list.append(tokens)\n",
        "    return tokens_list"
      ],
      "metadata": {
        "id": "oCeAtIlce4aY"
      },
      "execution_count": 14,
      "outputs": []
    },
    {
      "cell_type": "code",
      "source": [
        "ko_test_txts = ['한편 이번 금융사고는 개인이 저지른 것 중 규모가 가장 클 뿐만아니라 유럽에서 발생한 금융사기 중 최대 규모이다.']\n",
        "en_test_txts = ['Polanski failed to show up for sentencing and never returned to the United States.']"
      ],
      "metadata": {
        "id": "LkMSeuJFfNC9"
      },
      "execution_count": 15,
      "outputs": []
    },
    {
      "cell_type": "code",
      "source": [
        "testSP(ko_tokenizer, ko_test_txts)\n"
      ],
      "metadata": {
        "colab": {
          "base_uri": "https://localhost:8080/"
        },
        "id": "mP7JHkf4j06h",
        "outputId": "05e6ad24-2c50-419f-f2d3-e05cc32c014a"
      },
      "execution_count": 16,
      "outputs": [
        {
          "output_type": "execute_result",
          "data": {
            "text/plain": [
              "[['▁한편',\n",
              "  '▁이번',\n",
              "  '▁금융',\n",
              "  '사고는',\n",
              "  '▁개인이',\n",
              "  '▁저지른',\n",
              "  '▁것',\n",
              "  '▁중',\n",
              "  '▁규모가',\n",
              "  '▁가장',\n",
              "  '▁클',\n",
              "  '▁뿐만아니라',\n",
              "  '▁유럽에서',\n",
              "  '▁발생한',\n",
              "  '▁금융',\n",
              "  '사기',\n",
              "  '▁중',\n",
              "  '▁최대',\n",
              "  '▁규모',\n",
              "  '이다',\n",
              "  '.']]"
            ]
          },
          "metadata": {},
          "execution_count": 16
        }
      ]
    },
    {
      "cell_type": "code",
      "source": [
        "testSP(en_tokenizer, en_test_txts)\n"
      ],
      "metadata": {
        "colab": {
          "base_uri": "https://localhost:8080/"
        },
        "id": "lJQtckeuj1NA",
        "outputId": "9726530c-e132-4063-a783-6e22cdb4a592"
      },
      "execution_count": 17,
      "outputs": [
        {
          "output_type": "execute_result",
          "data": {
            "text/plain": [
              "[['<s>',\n",
              "  '▁',\n",
              "  'P',\n",
              "  'ol',\n",
              "  'anski',\n",
              "  '▁failed',\n",
              "  '▁to',\n",
              "  '▁show',\n",
              "  '▁up',\n",
              "  '▁for',\n",
              "  '▁sentencing',\n",
              "  '▁and',\n",
              "  '▁never',\n",
              "  '▁returned',\n",
              "  '▁to',\n",
              "  '▁the',\n",
              "  '▁',\n",
              "  'U',\n",
              "  'n',\n",
              "  'ited',\n",
              "  '▁',\n",
              "  'S',\n",
              "  't',\n",
              "  'ates',\n",
              "  '.',\n",
              "  '</s>']]"
            ]
          },
          "metadata": {},
          "execution_count": 17
        }
      ]
    },
    {
      "cell_type": "code",
      "source": [
        "src_corpus = []\n",
        "tgt_corpus = []\n",
        "\n",
        "assert len(cleaned_ko) == len(cleaned_eng)\n",
        "\n",
        "# 토큰의 길이가 50 이하인 문장만 남깁니다.\n",
        "for idx in (range(len(cleaned_ko))):\n",
        "    src = ko_tokenizer.EncodeAsIds(cleaned_ko[idx])\n",
        "    tgt = en_tokenizer.EncodeAsIds(cleaned_eng[idx])\n",
        "    \n",
        "    if 5<= len(src) <= 60 and 5<= len(tgt) <= 60:\n",
        "        src_corpus.append(src)\n",
        "        tgt_corpus.append(tgt)\n",
        "\n",
        "\n",
        "# 패딩처리를 완료하여 학습용 데이터를 완성합니다. \n",
        "enc_train = tf.keras.preprocessing.sequence.pad_sequences(src_corpus, padding='post')\n",
        "dec_train = tf.keras.preprocessing.sequence.pad_sequences(tgt_corpus, padding='post')"
      ],
      "metadata": {
        "id": "Y76wLi87j3Bm"
      },
      "execution_count": 18,
      "outputs": []
    },
    {
      "cell_type": "code",
      "source": [
        "print(enc_train.shape)\n",
        "enc_train[1]"
      ],
      "metadata": {
        "colab": {
          "base_uri": "https://localhost:8080/"
        },
        "id": "zuZpgKx-kZ-Y",
        "outputId": "03b53fd9-8a7c-460a-f36a-b116001a8c63"
      },
      "execution_count": 19,
      "outputs": [
        {
          "output_type": "stream",
          "name": "stdout",
          "text": [
            "(77089, 60)\n"
          ]
        },
        {
          "output_type": "execute_result",
          "data": {
            "text/plain": [
              "array([ 2920, 13091,  1570,   215, 11093,  1201, 15648,  5100,   231,\n",
              "        1407, 13091,   215, 30981,   420,   989, 13242,  1170,  9298,\n",
              "       30815,    98,    18, 30950,    98,   186,  1385, 30842,  9991,\n",
              "        1700, 30931,  1447,  1497,     4,     0,     0,     0,     0,\n",
              "           0,     0,     0,     0,     0,     0,     0,     0,     0,\n",
              "           0,     0,     0,     0,     0,     0,     0,     0,     0,\n",
              "           0,     0,     0,     0,     0,     0], dtype=int32)"
            ]
          },
          "metadata": {},
          "execution_count": 19
        }
      ]
    },
    {
      "cell_type": "code",
      "source": [
        "print(dec_train.shape)\n",
        "dec_train[1]"
      ],
      "metadata": {
        "colab": {
          "base_uri": "https://localhost:8080/"
        },
        "id": "MtGd3zZTkf7s",
        "outputId": "28db58af-abee-490d-edff-13ae58ddbd0d"
      },
      "execution_count": 20,
      "outputs": [
        {
          "output_type": "stream",
          "name": "stdout",
          "text": [
            "(77089, 60)\n"
          ]
        },
        {
          "output_type": "execute_result",
          "data": {
            "text/plain": [
              "array([    1,     9,   367,   907,  1243,     5,  2329,  5652,    97,\n",
              "         253,   663,     5,    15,    26,    15,    16,   648,     5,\n",
              "         769,   291,  4545,   663,  1835,  1112,    45,  1277,  9138,\n",
              "        1439,    29,    36, 10706,   869,    29,   103,   142,    71,\n",
              "        1824,   103, 31021,   202,  2252,    16,   358,    77,    15,\n",
              "           2,     0,     0,     0,     0,     0,     0,     0,     0,\n",
              "           0,     0,     0,     0,     0,     0], dtype=int32)"
            ]
          },
          "metadata": {},
          "execution_count": 20
        }
      ]
    },
    {
      "cell_type": "markdown",
      "source": [
        "- 모델 설계"
      ],
      "metadata": {
        "id": "XFlZuwrDk8C6"
      }
    },
    {
      "cell_type": "code",
      "source": [
        "def positional_encoding(pos, d_model):\n",
        "    def cal_angle(position, i):\n",
        "        return position / np.power(10000, (2*int(i)) / d_model)\n",
        "\n",
        "    def get_posi_angle_vec(position):\n",
        "        return [cal_angle(position, i) for i in range(d_model)]\n",
        "\n",
        "    sinusoid_table = np.array([get_posi_angle_vec(pos_i) for pos_i in range(pos)])\n",
        "    # 짝수 인덱스에는 sin함수 적용\n",
        "    sinusoid_table[:, 0::2] = np.sin(sinusoid_table[:, 0::2])\n",
        "    # 홀수 인덱스에는 cos함수 적용\n",
        "    sinusoid_table[:, 1::2] = np.cos(sinusoid_table[:, 1::2])\n",
        "    return sinusoid_table\n"
      ],
      "metadata": {
        "id": "0fw8uHybk-Wk"
      },
      "execution_count": 21,
      "outputs": []
    },
    {
      "cell_type": "code",
      "source": [
        "class MultiHeadAttention(tf.keras.layers.Layer):\n",
        "    def __init__(self, d_model, num_heads):\n",
        "        super(MultiHeadAttention, self).__init__()\n",
        "        # 나눌 헤드의 개수\n",
        "        self.num_heads = num_heads\n",
        "        self.d_model = d_model\n",
        "        # 헤드 당 차원의 크기\n",
        "        self.depth = d_model // self.num_heads\n",
        "        # Q, K, V 가중치\n",
        "        self.W_q = tf.keras.layers.Dense(d_model)\n",
        "        self.W_k = tf.keras.layers.Dense(d_model)\n",
        "        self.W_v = tf.keras.layers.Dense(d_model)\n",
        "        \n",
        "        self.linear = tf.keras.layers.Dense(d_model)\n",
        "\n",
        "    def scaled_dot_product_attention(self, Q, K, V, mask):\n",
        "        d_k = tf.cast(K.shape[-1], tf.float32)\n",
        "        # Q K^T 계산\n",
        "\n",
        "        QK = tf.matmul(Q, K, transpose_b=True)\n",
        "        \n",
        "        scaled_qk = QK / tf.math.sqrt(d_k)\n",
        "\n",
        "        if mask is not None: scaled_qk += (mask * -1e9)  \n",
        "\n",
        "        attentions = tf.nn.softmax(scaled_qk, axis=-1)\n",
        "        \n",
        "        out = tf.matmul(attentions, V)\n",
        "\n",
        "        return out, attentions\n",
        "            \n",
        "\n",
        "    def split_heads(self, x):\n",
        "        # x.shape = (batch_size, length, d_model)\n",
        "        batch_size = x.shape[0]\n",
        "        # split_x.shape = (batch_size, length, heads, (d_model / n_heads))\n",
        "        split_x = tf.reshape(x, (batch_size, -1, self.num_heads, self.depth))\n",
        "        split_x = tf.transpose(split_x, perm=[0, 2, 1, 3]) # 각 배치에 각 헤드당 (length X depth)가 있음.\n",
        "                                                           # (batch_size, heads, length, depth)\n",
        "\n",
        "        return split_x\n",
        "\n",
        "    def combine_heads(self, x):\n",
        "        # x.shape = (batch_size, heads, length, depth)\n",
        "        batch_size = x.shape[0]\n",
        "        # (batch_size, length, heads, depth)로 바꿔줌\n",
        "        combined_x = tf.transpose(x, perm=[0, 2, 1, 3])\n",
        "        # (batch_size, length, heads X depth)로 최종 변환 -> concat한 것.\n",
        "        combined_x = tf.reshape(combined_x, (batch_size, -1, self.d_model))\n",
        "\n",
        "        return combined_x\n",
        "\n",
        "        \n",
        "    def call(self, Q, K, V, mask):\n",
        "        # Q, K, V각각 linear transformation함.\n",
        "        WQ = self.W_q(Q)\n",
        "        WK = self.W_k(K)\n",
        "        WV = self.W_v(V)\n",
        "        \n",
        "        # 각각을 헤드 개수만큼 나눠줌 \n",
        "        WQ_splits = self.split_heads(WQ)\n",
        "        WK_splits = self.split_heads(WK)\n",
        "        WV_splits = self.split_heads(WV)\n",
        "        \n",
        "\n",
        "        out, attention_weights = self.scaled_dot_product_attention(\n",
        "            WQ_splits, WK_splits, WV_splits, mask)\n",
        "    \t\t\n",
        "        out = self.combine_heads(out)\n",
        "        # 이 부분이 concat(head_1, ..., head_n) x WO 부분임.\n",
        "        out = self.linear(out)\n",
        "                \n",
        "        return out, attention_weights"
      ],
      "metadata": {
        "id": "AMc6I64pk-6O"
      },
      "execution_count": 22,
      "outputs": []
    },
    {
      "cell_type": "code",
      "source": [
        "class PoswiseFeedForwardNet(tf.keras.layers.Layer):\n",
        "    def __init__(self, d_model, d_ff):\n",
        "        super(PoswiseFeedForwardNet, self).__init__()\n",
        "        self.w_1 = tf.keras.layers.Dense(d_ff, activation='relu')\n",
        "        self.w_2 = tf.keras.layers.Dense(d_model)\n",
        "\n",
        "    def call(self, x):\n",
        "        out = self.w_1(x)\n",
        "        out = self.w_2(out)\n",
        "            \n",
        "        return out\n"
      ],
      "metadata": {
        "id": "5VwImNhTlBFl"
      },
      "execution_count": 23,
      "outputs": []
    },
    {
      "cell_type": "code",
      "source": [
        "class EncoderLayer(tf.keras.layers.Layer):\n",
        "    def __init__(self, d_model, n_heads, d_ff, dropout):\n",
        "        super(EncoderLayer, self).__init__()\n",
        "\n",
        "        self.enc_self_attn = MultiHeadAttention(d_model, n_heads)\n",
        "        self.ffn = PoswiseFeedForwardNet(d_model, d_ff)\n",
        "\n",
        "        self.norm_1 = tf.keras.layers.LayerNormalization(epsilon=1e-6)\n",
        "        self.norm_2 = tf.keras.layers.LayerNormalization(epsilon=1e-6)\n",
        "\n",
        "        self.dropout = tf.keras.layers.Dropout(dropout)\n",
        "        \n",
        "    def call(self, x, mask):\n",
        "\n",
        "        \"\"\"\n",
        "        Multi-Head Attention\n",
        "        \"\"\"\n",
        "        residual = x\n",
        "        out = self.norm_1(x)\n",
        "        # Multi-Head Attention 계산\n",
        "        out, enc_attn = self.enc_self_attn(out, out, out, mask)\n",
        "        out = self.dropout(out)\n",
        "        # residual connection \n",
        "        out += residual\n",
        "        \n",
        "        \"\"\"\n",
        "        Position-Wise Feed Forward Network\n",
        "        \"\"\"\n",
        "        residual = out\n",
        "        out = self.norm_2(out)\n",
        "        out = self.ffn(out)\n",
        "        out = self.dropout(out)\n",
        "        out += residual\n",
        "        \n",
        "        return out, enc_attn"
      ],
      "metadata": {
        "id": "nB2CgkpZlEwQ"
      },
      "execution_count": 24,
      "outputs": []
    },
    {
      "cell_type": "code",
      "source": [
        "class DecoderLayer(tf.keras.layers.Layer):\n",
        "    def __init__(self, d_model, num_heads, d_ff, dropout):\n",
        "        super(DecoderLayer, self).__init__()\n",
        "\n",
        "        self.dec_self_attn = MultiHeadAttention(d_model, num_heads)\n",
        "        self.enc_dec_attn = MultiHeadAttention(d_model, num_heads)\n",
        "\n",
        "        self.ffn = PoswiseFeedForwardNet(d_model, d_ff)\n",
        "\n",
        "        self.norm_1 = tf.keras.layers.LayerNormalization(epsilon=1e-6)\n",
        "        self.norm_2 = tf.keras.layers.LayerNormalization(epsilon=1e-6)\n",
        "        self.norm_3 = tf.keras.layers.LayerNormalization(epsilon=1e-6)\n",
        "\n",
        "        self.dropout = tf.keras.layers.Dropout(dropout)\n",
        "    \n",
        "    def call(self, x, enc_out, causality_mask, padding_mask):\n",
        "\n",
        "        \"\"\"\n",
        "        Masked Multi-Head Attention\n",
        "        \"\"\"\n",
        "        residual = x\n",
        "        out = self.norm_1(x)\n",
        "        out, dec_attn = self.dec_self_attn(out, out, out, padding_mask)\n",
        "        out = self.dropout(out)\n",
        "        out += residual\n",
        "\n",
        "        \"\"\"\n",
        "        Multi-Head Attention\n",
        "        \"\"\"\n",
        "        residual = out\n",
        "        out = self.norm_2(out)\n",
        "        # 인코더의 output과 디코더 output을 입력으로 넣어주는 부분.\n",
        "        # 마스킹을 통하여 leftward information flow를 유지해줌\n",
        "        out, dec_enc_attn = self.enc_dec_attn(out, enc_out, enc_out, causality_mask)\n",
        "        out = self.dropout(out)\n",
        "        out += residual\n",
        "        \n",
        "        \"\"\"\n",
        "        Position-Wise Feed Forward Network\n",
        "        \"\"\"\n",
        "        residual = out\n",
        "        out = self.norm_3(out)\n",
        "        out = self.ffn(out)\n",
        "        out = self.dropout(out)\n",
        "        out += residual\n",
        "\n",
        "        return out, dec_attn, dec_enc_attn"
      ],
      "metadata": {
        "id": "B3HT65SDlIPr"
      },
      "execution_count": 25,
      "outputs": []
    },
    {
      "cell_type": "code",
      "source": [
        "class Encoder(tf.keras.Model):\n",
        "    def __init__(self,\n",
        "                 n_layers, # 인코더 레이어의 개수\n",
        "                 d_model, # input 차원\n",
        "                 n_heads, # 헤드 몇개로 나눌것인지\n",
        "                 d_ff, # feed forward net의 히든레이어 차원\n",
        "                 dropout):\n",
        "        super(Encoder, self).__init__()\n",
        "        self.n_layers = n_layers\n",
        "        self.enc_layers = [EncoderLayer(d_model, n_heads, d_ff, dropout) \n",
        "                        for _ in range(n_layers)]\n",
        "        \n",
        "    def call(self, x, mask):\n",
        "        out = x\n",
        "    \n",
        "        enc_attns = list()\n",
        "        for i in range(self.n_layers):\n",
        "            out, enc_attn = self.enc_layers[i](out, mask)\n",
        "            enc_attns.append(enc_attn)\n",
        "        \n",
        "        return out, enc_attns"
      ],
      "metadata": {
        "id": "ep99I85LlKj1"
      },
      "execution_count": 26,
      "outputs": []
    },
    {
      "cell_type": "code",
      "source": [
        "class Decoder(tf.keras.Model):\n",
        "    def __init__(self,\n",
        "                 n_layers,\n",
        "                 d_model,\n",
        "                 n_heads,\n",
        "                 d_ff,\n",
        "                 dropout):\n",
        "        super(Decoder, self).__init__()\n",
        "        self.n_layers = n_layers\n",
        "        self.dec_layers = [DecoderLayer(d_model, n_heads, d_ff, dropout) \n",
        "                            for _ in range(n_layers)]\n",
        "                            \n",
        "                            \n",
        "    def call(self, x, enc_out, causality_mask, padding_mask):\n",
        "        out = x\n",
        "    \n",
        "        dec_attns = list()\n",
        "        dec_enc_attns = list()\n",
        "        for i in range(self.n_layers):\n",
        "            out, dec_attn, dec_enc_attn = \\\n",
        "            self.dec_layers[i](out, enc_out, causality_mask, padding_mask)\n",
        "\n",
        "            dec_attns.append(dec_attn)\n",
        "            dec_enc_attns.append(dec_enc_attn)\n",
        "\n",
        "        return out, dec_attns, dec_enc_attns"
      ],
      "metadata": {
        "id": "PwiT4SPrlNJn"
      },
      "execution_count": 27,
      "outputs": []
    },
    {
      "cell_type": "code",
      "source": [
        "class Transformer(tf.keras.Model):\n",
        "    def __init__(self,\n",
        "                    n_layers,\n",
        "                    d_model,\n",
        "                    n_heads,\n",
        "                    d_ff,\n",
        "                    src_vocab_size,\n",
        "                    tgt_vocab_size,\n",
        "                    pos_len,\n",
        "                    dropout=0.1,\n",
        "                    shared=True):\n",
        "        super(Transformer, self).__init__()\n",
        "        self.d_model = tf.cast(d_model, tf.float32)\n",
        "\n",
        "        self.enc_emb = tf.keras.layers.Embedding(src_vocab_size, d_model)\n",
        "        self.dec_emb = tf.keras.layers.Embedding(tgt_vocab_size, d_model)\n",
        "\n",
        "        self.pos_encoding = positional_encoding(pos_len, d_model)\n",
        "        self.dropout = tf.keras.layers.Dropout(dropout)\n",
        "\n",
        "        self.encoder = Encoder(n_layers, d_model, n_heads, d_ff, dropout)\n",
        "        self.decoder = Decoder(n_layers, d_model, n_heads, d_ff, dropout)\n",
        "\n",
        "        self.fc = tf.keras.layers.Dense(tgt_vocab_size)\n",
        "\n",
        "        self.shared = shared\n",
        "\n",
        "        if shared: self.fc.set_weights(tf.transpose(self.dec_emb.weights))\n",
        "\n",
        "    def embedding(self, emb, x):\n",
        "        seq_len = x.shape[1]\n",
        "        out = emb(x)\n",
        "\n",
        "        if self.shared: out *= tf.math.sqrt(self.d_model)\n",
        "        # [length x d_model]로 된 positional_encoding의 반환값을\n",
        "        # np.newaxis를 통해 [1 x length x d_model]로 바꿔줌 -> 브로드캐스팅을 가능하게 하기위해\n",
        "        out += self.pos_encoding[np.newaxis, ...][:, :seq_len, :]\n",
        "        out = self.dropout(out)\n",
        "\n",
        "        return out\n",
        "\n",
        "        \n",
        "    def call(self, enc_in, dec_in, enc_mask, causality_mask, dec_mask):\n",
        "        enc_in = self.embedding(self.enc_emb, enc_in)\n",
        "        dec_in = self.embedding(self.dec_emb, dec_in)\n",
        "\n",
        "        enc_out, enc_attns = self.encoder(enc_in, enc_mask)\n",
        "        \n",
        "        dec_out, dec_attns, dec_enc_attns = \\\n",
        "        self.decoder(dec_in, enc_out, causality_mask, dec_mask)\n",
        "        \n",
        "        logits = self.fc(dec_out)\n",
        "        \n",
        "        return logits, enc_attns, dec_attns, dec_enc_attns"
      ],
      "metadata": {
        "id": "S59WcJMNlQO7"
      },
      "execution_count": 28,
      "outputs": []
    },
    {
      "cell_type": "code",
      "source": [
        "def generate_padding_mask(seq):\n",
        "    seq = tf.cast(tf.math.equal(seq, 0), tf.float32)\n",
        "    return seq[:, tf.newaxis, tf.newaxis, :]\n",
        "\n",
        "def generate_causality_mask(src_len, tgt_len):\n",
        "    mask = 1 - np.cumsum(np.eye(src_len, tgt_len), 0)\n",
        "    return tf.cast(mask, tf.float32)\n",
        "\n",
        "def generate_masks(src, tgt):\n",
        "    enc_mask = generate_padding_mask(src)\n",
        "    dec_mask = generate_padding_mask(tgt)\n",
        "\n",
        "    dec_enc_causality_mask = generate_causality_mask(tgt.shape[1], src.shape[1])\n",
        "    dec_enc_mask = tf.maximum(enc_mask, dec_enc_causality_mask)\n",
        "\n",
        "    dec_causality_mask = generate_causality_mask(tgt.shape[1], tgt.shape[1])\n",
        "    dec_mask = tf.maximum(dec_mask, dec_causality_mask)\n",
        "\n",
        "    return enc_mask, dec_enc_mask, dec_mask"
      ],
      "metadata": {
        "id": "qnhYtj5_lj9f"
      },
      "execution_count": 29,
      "outputs": []
    },
    {
      "cell_type": "code",
      "source": [
        "transformer = Transformer(\n",
        "    n_layers=4,\n",
        "    d_model=512,\n",
        "    n_heads=8,\n",
        "    d_ff = 2048,\n",
        "    src_vocab_size=SRC_VOCAB_SIZE,\n",
        "    tgt_vocab_size=TGT_VOCAB_SIZE,\n",
        "    pos_len=200,\n",
        "    dropout=0.2,\n",
        "    shared=True\n",
        ")"
      ],
      "metadata": {
        "id": "RF1iVFIelkQi"
      },
      "execution_count": 30,
      "outputs": []
    },
    {
      "cell_type": "code",
      "source": [
        "class LearningRateScheduler(tf.keras.optimizers.schedules.LearningRateSchedule):\n",
        "    def __init__(self, d_model, warmup_steps=4000):\n",
        "        super(LearningRateScheduler, self).__init__()\n",
        "        self.d_model = d_model\n",
        "        self.warmup_steps = warmup_steps\n",
        "    \n",
        "    def __call__(self, step):\n",
        "        arg1 = step ** -0.5\n",
        "        arg2 = step * (self.warmup_steps ** -1.5)\n",
        "        \n",
        "        return (self.d_model ** -0.5) * tf.math.minimum(arg1, arg2)"
      ],
      "metadata": {
        "id": "a4oOihp1lt14"
      },
      "execution_count": 31,
      "outputs": []
    },
    {
      "cell_type": "code",
      "source": [
        "learning_rate = LearningRateScheduler(512)\n",
        "optimizer = tf.keras.optimizers.Adam(learning_rate, beta_1=0.9, beta_2=0.98, epsilon=1e-9)\n"
      ],
      "metadata": {
        "id": "Qp93Ow3zl0u6"
      },
      "execution_count": 32,
      "outputs": []
    },
    {
      "cell_type": "code",
      "source": [
        "loss_object = tf.keras.losses.SparseCategoricalCrossentropy(\n",
        "    from_logits=True, reduction='none')\n",
        "\n",
        "def loss_function(real, pred):\n",
        "    mask = tf.math.logical_not(tf.math.equal(real, 0))\n",
        "    loss_ = loss_object(real, pred)\n",
        "\n",
        "    # Masking 되지 않은 입력의 개수로 Scaling하는 과정\n",
        "    mask = tf.cast(mask, dtype=loss_.dtype)\n",
        "    loss_ *= mask\n",
        "\n",
        "    return tf.reduce_sum(loss_)/tf.reduce_sum(mask)"
      ],
      "metadata": {
        "id": "nhz8h5DIl30J"
      },
      "execution_count": 33,
      "outputs": []
    },
    {
      "cell_type": "code",
      "source": [
        "# Train Step 함수 정의\n",
        "\n",
        "@tf.function()\n",
        "def train_step(src, tgt, model, optimizer):\n",
        "    gold = tgt[:, 1:]\n",
        "        \n",
        "    enc_mask, dec_enc_mask, dec_mask = generate_masks(src, tgt)\n",
        "\n",
        "    # 계산된 loss에 tf.GradientTape()를 적용해 학습을 진행합니다.\n",
        "    with tf.GradientTape() as tape:\n",
        "        predictions, enc_attns, dec_attns, dec_enc_attns = \\\n",
        "        model(src, tgt, enc_mask, dec_enc_mask, dec_mask)\n",
        "        loss = loss_function(gold, predictions[:, :-1])\n",
        "\n",
        "    # 최종적으로 optimizer.apply_gradients()가 사용됩니다. \n",
        "    gradients = tape.gradient(loss, model.trainable_variables)    \n",
        "    optimizer.apply_gradients(zip(gradients, model.trainable_variables))\n",
        "    \n",
        "    return loss, enc_attns, dec_attns, dec_enc_attns"
      ],
      "metadata": {
        "id": "CipEU8abl8H9"
      },
      "execution_count": 34,
      "outputs": []
    },
    {
      "cell_type": "code",
      "source": [
        "# Attention 시각화 함수\n",
        "\n",
        "def visualize_attention(src, tgt, enc_attns, dec_attns, dec_enc_attns):\n",
        "    def draw(data, ax, x=\"auto\", y=\"auto\"):\n",
        "        import seaborn\n",
        "        seaborn.heatmap(data, \n",
        "                        square=True,\n",
        "                        vmin=0.0, vmax=1.0, \n",
        "                        cbar=False, ax=ax,\n",
        "                        xticklabels=x,\n",
        "                        yticklabels=y)\n",
        "        \n",
        "    for layer in range(0, 2, 1):\n",
        "        fig, axs = plt.subplots(1, 4, figsize=(20, 10))\n",
        "        print(\"Encoder Layer\", layer + 1)\n",
        "        for h in range(4):\n",
        "            draw(enc_attns[layer][0, h, :len(src), :len(src)], axs[h], src, src)\n",
        "        plt.show()\n",
        "        \n",
        "    for layer in range(0, 2, 1):\n",
        "        fig, axs = plt.subplots(1, 4, figsize=(20, 10))\n",
        "        print(\"Decoder Self Layer\", layer+1)\n",
        "        for h in range(4):\n",
        "            draw(dec_attns[layer][0, h, :len(tgt), :len(tgt)], axs[h], tgt, tgt)\n",
        "        plt.show()\n",
        "\n",
        "        print(\"Decoder Src Layer\", layer+1)\n",
        "        fig, axs = plt.subplots(1, 4, figsize=(20, 10))\n",
        "        for h in range(4):\n",
        "            draw(dec_enc_attns[layer][0, h, :len(tgt), :len(src)], axs[h], src, tgt)\n",
        "        plt.show()"
      ],
      "metadata": {
        "id": "uAoSyPeamcVJ"
      },
      "execution_count": 35,
      "outputs": []
    },
    {
      "cell_type": "code",
      "source": [
        "# 번역 생성 함수\n",
        "\n",
        "def evaluate(sentence, model, src_tokenizer, tgt_tokenizer):\n",
        "    sentence = preprocess_sentence(sentence)\n",
        "\n",
        "    pieces = src_tokenizer.encode_as_pieces(sentence)\n",
        "    tokens = src_tokenizer.encode_as_ids(sentence)\n",
        "\n",
        "    _input = tf.keras.preprocessing.sequence.pad_sequences([tokens],\n",
        "                                                           maxlen=enc_train.shape[-1],\n",
        "                                                           padding='post')\n",
        "    \n",
        "    ids = []\n",
        "    output = tf.expand_dims([tgt_tokenizer.bos_id()], 0)\n",
        "    for i in range(dec_train.shape[-1]):\n",
        "        enc_padding_mask, combined_mask, dec_padding_mask = \\\n",
        "        generate_masks(_input, output)\n",
        "\n",
        "        predictions, enc_attns, dec_attns, dec_enc_attns =\\\n",
        "        model(_input, \n",
        "              output,\n",
        "              enc_padding_mask,\n",
        "              combined_mask,\n",
        "              dec_padding_mask)\n",
        "\n",
        "        predicted_id = \\\n",
        "        tf.argmax(tf.math.softmax(predictions, axis=-1)[0, -1]).numpy().item()\n",
        "\n",
        "        if tgt_tokenizer.eos_id() == predicted_id:\n",
        "            result = tgt_tokenizer.decode_ids(ids)\n",
        "            return pieces, result, enc_attns, dec_attns, dec_enc_attns\n",
        "\n",
        "        ids.append(predicted_id)\n",
        "        output = tf.concat([output, tf.expand_dims([predicted_id], 0)], axis=-1)\n",
        "\n",
        "    result = tgt_tokenizer.decode_ids(ids)\n",
        "\n",
        "    return pieces, result, enc_attns, dec_attns, dec_enc_attns"
      ],
      "metadata": {
        "id": "PwpxLL1ZmgLH"
      },
      "execution_count": 36,
      "outputs": []
    },
    {
      "cell_type": "code",
      "source": [
        "# 번역 생성 및 Attention 시각화 결합\n",
        "\n",
        "def translate(sentence, model, src_tokenizer, tgt_tokenizer, plot_attention=False):\n",
        "    pieces, result, enc_attns, dec_attns, dec_enc_attns = \\\n",
        "    evaluate(sentence, model, src_tokenizer, tgt_tokenizer)\n",
        "    \n",
        "    print('Input: %s' % (sentence))\n",
        "    print('Predicted translation: {}'.format(result))\n",
        "\n",
        "    if plot_attention:\n",
        "        visualize_attention(pieces, result.split(), enc_attns, dec_attns, dec_enc_attns)"
      ],
      "metadata": {
        "id": "JBn1lYiSmiE8"
      },
      "execution_count": 37,
      "outputs": []
    },
    {
      "cell_type": "code",
      "source": [
        "from tqdm import tqdm\n",
        "import random\n",
        "\n",
        "BATCH_SIZE = 64\n",
        "EPOCHS = 15\n",
        "\n",
        "examples = [\n",
        "            \"오바마는 대통령이다.\",\n",
        "            \"시민들은 도시 속에 산다.\",\n",
        "            \"커피는 필요 없다.\",\n",
        "            \"일곱 명의 사망자가 발생했다.\",\n",
        "            \"넌 젖을수록 투명해지는 꽃\"      \n",
        "]\n",
        "\n",
        "# loss 시각화를 위해 값을 저장할 리스트 생성\n",
        "loss_=[]\n",
        "\n",
        "for epoch in range(EPOCHS):\n",
        "    total_loss = 0\n",
        "    \n",
        "    idx_list = list(range(0, enc_train.shape[0], BATCH_SIZE))\n",
        "    random.shuffle(idx_list)\n",
        "    t = tqdm(idx_list)\n",
        "    \n",
        "    \n",
        "    for (batch, idx) in enumerate(t):\n",
        "        batch_loss, enc_attns, dec_attns, dec_enc_attns = \\\n",
        "        train_step(enc_train[idx:idx+BATCH_SIZE],\n",
        "                    dec_train[idx:idx+BATCH_SIZE],\n",
        "                    transformer,\n",
        "                    optimizer)\n",
        "        \n",
        "        loss_.append(batch_loss)\n",
        "        total_loss += batch_loss\n",
        "        \n",
        "        t.set_description_str('Epoch %2d' % (epoch + 1))\n",
        "        t.set_postfix_str('Loss %.4f' % (total_loss.numpy() / (batch + 1)))\n",
        "\n",
        "\n",
        "    for example in examples:\n",
        "        translate(example, transformer, ko_tokenizer, en_tokenizer)"
      ],
      "metadata": {
        "colab": {
          "base_uri": "https://localhost:8080/"
        },
        "id": "wx8Wxok-mGP4",
        "outputId": "81c0620f-88ad-462f-ba0a-cc8e51811cea"
      },
      "execution_count": 38,
      "outputs": [
        {
          "output_type": "stream",
          "name": "stderr",
          "text": [
            "Epoch  1: 100%|██████████| 1205/1205 [08:07<00:00,  2.47it/s, Loss 6.3225]\n"
          ]
        },
        {
          "output_type": "stream",
          "name": "stdout",
          "text": [
            "Input: 오바마는 대통령이다.\n",
            "Predicted translation: obama s remarks .\n",
            "Input: 시민들은 도시 속에 산다.\n",
            "Predicted translation: the sun is a half of the sun .\n",
            "Input: 커피는 필요 없다.\n",
            "Predicted translation: we don t think that we ll be .\n",
            "Input: 일곱 명의 사망자가 발생했다.\n",
            "Predicted translation: the blast was killed in the city of the city of the city s death toll .\n",
            "Input: 넌 젖을수록 투명해지는 꽃\n",
            "Predicted translation: the new york city is the first time .\n"
          ]
        },
        {
          "output_type": "stream",
          "name": "stderr",
          "text": [
            "Epoch  2: 100%|██████████| 1205/1205 [07:59<00:00,  2.51it/s, Loss 4.9086]\n"
          ]
        },
        {
          "output_type": "stream",
          "name": "stdout",
          "text": [
            "Input: 오바마는 대통령이다.\n",
            "Predicted translation: obama is a presidential candidate for obama .\n",
            "Input: 시민들은 도시 속에 산다.\n",
            "Predicted translation: the city s urban urban .\n",
            "Input: 커피는 필요 없다.\n",
            "Predicted translation: it is not a good thing .\n",
            "Input: 일곱 명의 사망자가 발생했다.\n",
            "Predicted translation: cnn a suicide bomber died in a suicide bombing at least 20 people dead .\n",
            "Input: 넌 젖을수록 투명해지는 꽃\n",
            "Predicted translation: it s a big thing for a good time , and it seems to go back to a new study .\n"
          ]
        },
        {
          "output_type": "stream",
          "name": "stderr",
          "text": [
            "Epoch  3: 100%|██████████| 1205/1205 [07:58<00:00,  2.52it/s, Loss 4.3042]\n"
          ]
        },
        {
          "output_type": "stream",
          "name": "stdout",
          "text": [
            "Input: 오바마는 대통령이다.\n",
            "Predicted translation: obama is the presidential nominee .\n",
            "Input: 시민들은 도시 속에 산다.\n",
            "Predicted translation: the cities are a major night .\n",
            "Input: 커피는 필요 없다.\n",
            "Predicted translation: coffee is not a coffee .\n",
            "Input: 일곱 명의 사망자가 발생했다.\n",
            "Predicted translation: seven people were killed in the attack .\n",
            "Input: 넌 젖을수록 투명해지는 꽃\n",
            "Predicted translation: the couple s parents are increasingly increasingly increasingly increasingly important to get a chance to get a chance to find a chance to get a chance to get a chance to get a chance to get a chance to get a chance to get a chance to a relationship with a small relationship with a relationship with a relationship with\n"
          ]
        },
        {
          "output_type": "stream",
          "name": "stderr",
          "text": [
            "Epoch  4: 100%|██████████| 1205/1205 [07:57<00:00,  2.52it/s, Loss 3.8165]\n"
          ]
        },
        {
          "output_type": "stream",
          "name": "stdout",
          "text": [
            "Input: 오바마는 대통령이다.\n",
            "Predicted translation: obama is a major problem .\n",
            "Input: 시민들은 도시 속에 산다.\n",
            "Predicted translation: the cities of the city is a urban city .\n",
            "Input: 커피는 필요 없다.\n",
            "Predicted translation: no coffee is a good reason .\n",
            "Input: 일곱 명의 사망자가 발생했다.\n",
            "Predicted translation: the  ⁇  . 9 magnitude quake struck .\n",
            "Input: 넌 젖을수록 투명해지는 꽃\n",
            "Predicted translation: they say they were a particular relationship with a particular relationship .\n"
          ]
        },
        {
          "output_type": "stream",
          "name": "stderr",
          "text": [
            "Epoch  5: 100%|██████████| 1205/1205 [07:57<00:00,  2.53it/s, Loss 3.0383]\n"
          ]
        },
        {
          "output_type": "stream",
          "name": "stdout",
          "text": [
            "Input: 오바마는 대통령이다.\n",
            "Predicted translation: obama is a new presidential candidate .\n",
            "Input: 시민들은 도시 속에 산다.\n",
            "Predicted translation: the urban city of urban areas\n",
            "Input: 커피는 필요 없다.\n",
            "Predicted translation: don t need to need anything .\n",
            "Input: 일곱 명의 사망자가 발생했다.\n",
            "Predicted translation: seven people were killed .\n",
            "Input: 넌 젖을수록 투명해지는 꽃\n",
            "Predicted translation: it s a simple thing that you want\n"
          ]
        },
        {
          "output_type": "stream",
          "name": "stderr",
          "text": [
            "Epoch  6: 100%|██████████| 1205/1205 [07:57<00:00,  2.52it/s, Loss 2.2336]\n"
          ]
        },
        {
          "output_type": "stream",
          "name": "stdout",
          "text": [
            "Input: 오바마는 대통령이다.\n",
            "Predicted translation: obama is a leading presidential candidate .\n",
            "Input: 시민들은 도시 속에 산다.\n",
            "Predicted translation: the urban sanja san fighters .\n",
            "Input: 커피는 필요 없다.\n",
            "Predicted translation: the idea is needed .\n",
            "Input: 일곱 명의 사망자가 발생했다.\n",
            "Predicted translation: seven people were killed .\n",
            "Input: 넌 젖을수록 투명해지는 꽃\n",
            "Predicted translation: and , it s a simple hour , like a simple hour search .\n"
          ]
        },
        {
          "output_type": "stream",
          "name": "stderr",
          "text": [
            "Epoch  7: 100%|██████████| 1205/1205 [07:57<00:00,  2.52it/s, Loss 1.5712]\n"
          ]
        },
        {
          "output_type": "stream",
          "name": "stdout",
          "text": [
            "Input: 오바마는 대통령이다.\n",
            "Predicted translation: obama is a sign of the f 11 . 2 million .\n",
            "Input: 시민들은 도시 속에 산다.\n",
            "Predicted translation: the cities in the cities across the cities\n",
            "Input: 커피는 필요 없다.\n",
            "Predicted translation: for the common , the need for resolution .\n",
            "Input: 일곱 명의 사망자가 발생했다.\n",
            "Predicted translation: seven people died , and seven were wounded .\n",
            "Input: 넌 젖을수록 투명해지는 꽃\n",
            "Predicted translation: and , and , they just want to learn more about the importance of looking for a generation of stay on sleep and sleep deprivation , says the relationship with a particular importance study .\n"
          ]
        },
        {
          "output_type": "stream",
          "name": "stderr",
          "text": [
            "Epoch  8: 100%|██████████| 1205/1205 [07:57<00:00,  2.52it/s, Loss 1.0858]\n"
          ]
        },
        {
          "output_type": "stream",
          "name": "stdout",
          "text": [
            "Input: 오바마는 대통령이다.\n",
            "Predicted translation: obama is a leading presidential nominee .\n",
            "Input: 시민들은 도시 속에 산다.\n",
            "Predicted translation: several of the cities around the world .\n",
            "Input: 커피는 필요 없다.\n",
            "Predicted translation: for the first half of the necessary democracy , the united states is illegal .\n",
            "Input: 일곱 명의 사망자가 발생했다.\n",
            "Predicted translation: seven people were injured .\n",
            "Input: 넌 젖을수록 투명해지는 꽃\n",
            "Predicted translation: and , the friends of these were all unusual films , watching and transparency , watching and watching from all these activities .\n"
          ]
        },
        {
          "output_type": "stream",
          "name": "stderr",
          "text": [
            "Epoch  9: 100%|██████████| 1205/1205 [07:57<00:00,  2.52it/s, Loss 0.7846]\n"
          ]
        },
        {
          "output_type": "stream",
          "name": "stdout",
          "text": [
            "Input: 오바마는 대통령이다.\n",
            "Predicted translation: obama is a candidate with the president .\n",
            "Input: 시민들은 도시 속에 산다.\n",
            "Predicted translation: with the sun in the cities of the spring .\n",
            "Input: 커피는 필요 없다.\n",
            "Predicted translation: no coffee is a lohan who do not need to do it .\n",
            "Input: 일곱 명의 사망자가 발생했다.\n",
            "Predicted translation: seven people were injured in the next day .\n",
            "Input: 넌 젖을수록 투명해지는 꽃\n",
            "Predicted translation: he described the mehdi army as a oct .\n"
          ]
        },
        {
          "output_type": "stream",
          "name": "stderr",
          "text": [
            "Epoch 10: 100%|██████████| 1205/1205 [07:57<00:00,  2.52it/s, Loss 0.6027]\n"
          ]
        },
        {
          "output_type": "stream",
          "name": "stdout",
          "text": [
            "Input: 오바마는 대통령이다.\n",
            "Predicted translation: obama is out for mccain .\n",
            "Input: 시민들은 도시 속에 산다.\n",
            "Predicted translation: they are the best of fire in the region .\n",
            "Input: 커피는 필요 없다.\n",
            "Predicted translation: needed all necessary testing is needed .\n",
            "Input: 일곱 명의 사망자가 발생했다.\n",
            "Predicted translation: seven people died in the blast .\n",
            "Input: 넌 젖을수록 투명해지는 꽃\n",
            "Predicted translation: and as the friends do better .\n"
          ]
        },
        {
          "output_type": "stream",
          "name": "stderr",
          "text": [
            "Epoch 11: 100%|██████████| 1205/1205 [07:57<00:00,  2.52it/s, Loss 0.4961]\n"
          ]
        },
        {
          "output_type": "stream",
          "name": "stdout",
          "text": [
            "Input: 오바마는 대통령이다.\n",
            "Predicted translation: obama is out of the presidential nomination .\n",
            "Input: 시민들은 도시 속에 산다.\n",
            "Predicted translation: that handle the urban cities of the weekend .\n",
            "Input: 커피는 필요 없다.\n",
            "Predicted translation: needed to ensure that needed much needed based .\n",
            "Input: 일곱 명의 사망자가 발생했다.\n",
            "Predicted translation: seven people were wounded .\n",
            "Input: 넌 젖을수록 투명해지는 꽃\n",
            "Predicted translation: and , it d better those images like a simple conversation\n"
          ]
        },
        {
          "output_type": "stream",
          "name": "stderr",
          "text": [
            "Epoch 12: 100%|██████████| 1205/1205 [07:58<00:00,  2.52it/s, Loss 0.4184]\n"
          ]
        },
        {
          "output_type": "stream",
          "name": "stdout",
          "text": [
            "Input: 오바마는 대통령이다.\n",
            "Predicted translation: obama is out on the presidency during the presidential nomination .\n",
            "Input: 시민들은 도시 속에 산다.\n",
            "Predicted translation: these san fantastic 199 ⁇  .\n",
            "Input: 커피는 필요 없다.\n",
            "Predicted translation: needed to do it .\n",
            "Input: 일곱 명의 사망자가 발생했다.\n",
            "Predicted translation: seven people died in the blast .\n",
            "Input: 넌 젖을수록 투명해지는 꽃\n",
            "Predicted translation: and , it s a kids that can be sleep .\n"
          ]
        },
        {
          "output_type": "stream",
          "name": "stderr",
          "text": [
            "Epoch 13: 100%|██████████| 1205/1205 [07:57<00:00,  2.52it/s, Loss 0.3639]\n"
          ]
        },
        {
          "output_type": "stream",
          "name": "stdout",
          "text": [
            "Input: 오바마는 대통령이다.\n",
            "Predicted translation: obama is a front runner up .\n",
            "Input: 시민들은 도시 속에 산다.\n",
            "Predicted translation: with 10 , 000 people out of the cities .\n",
            "Input: 커피는 필요 없다.\n",
            "Predicted translation: for all you need in coffee .\n",
            "Input: 일곱 명의 사망자가 발생했다.\n",
            "Predicted translation: seven people died in the blast .\n",
            "Input: 넌 젖을수록 투명해지는 꽃\n",
            "Predicted translation: he d like a member of the axis of evil .\n"
          ]
        },
        {
          "output_type": "stream",
          "name": "stderr",
          "text": [
            "Epoch 14: 100%|██████████| 1205/1205 [07:57<00:00,  2.52it/s, Loss 0.3238]\n"
          ]
        },
        {
          "output_type": "stream",
          "name": "stdout",
          "text": [
            "Input: 오바마는 대통령이다.\n",
            "Predicted translation: obama is ahead for obama .\n",
            "Input: 시민들은 도시 속에 산다.\n",
            "Predicted translation: hundreds of people took out of the city .\n",
            "Input: 커피는 필요 없다.\n",
            "Predicted translation: needed half the rights to go ahead .\n",
            "Input: 일곱 명의 사망자가 발생했다.\n",
            "Predicted translation: seven others died in the blast .\n",
            "Input: 넌 젖을수록 투명해지는 꽃\n",
            "Predicted translation: and , the effort picture isn t all that actors and children all david improve the chances of touch .\n"
          ]
        },
        {
          "output_type": "stream",
          "name": "stderr",
          "text": [
            "Epoch 15: 100%|██████████| 1205/1205 [07:58<00:00,  2.52it/s, Loss 0.2896]\n"
          ]
        },
        {
          "output_type": "stream",
          "name": "stdout",
          "text": [
            "Input: 오바마는 대통령이다.\n",
            "Predicted translation: obama is ahead of the president .\n",
            "Input: 시민들은 도시 속에 산다.\n",
            "Predicted translation: they want to get out of this country .\n",
            "Input: 커피는 필요 없다.\n",
            "Predicted translation: needed to do your needed .\n",
            "Input: 일곱 명의 사망자가 발생했다.\n",
            "Predicted translation: seven people were killed .\n",
            "Input: 넌 젖을수록 투명해지는 꽃\n",
            "Predicted translation: and the fact that the kids were born when they were born drunk to 41 percent of attack people .\n"
          ]
        }
      ]
    },
    {
      "cell_type": "code",
      "source": [
        "plt.figure(figsize=(10,8))\n",
        "plt.plot(loss_)\n",
        "plt.xlabel('iters')\n",
        "plt.ylabel('loss')\n",
        "plt.show()"
      ],
      "metadata": {
        "colab": {
          "base_uri": "https://localhost:8080/",
          "height": 514
        },
        "id": "blX3jEppRVlN",
        "outputId": "a1516b52-01a5-44da-e7d9-98e802e2f4d5"
      },
      "execution_count": 39,
      "outputs": [
        {
          "output_type": "stream",
          "name": "stderr",
          "text": [
            "WARNING:matplotlib.font_manager:findfont: Font family ['NanumBarunGothic'] not found. Falling back to DejaVu Sans.\n"
          ]
        },
        {
          "output_type": "display_data",
          "data": {
            "text/plain": [
              "<Figure size 720x576 with 1 Axes>"
            ],
            "image/png": "[encoded data removed]"
          },
          "metadata": {
            "image/png": {
              "width": 605,
              "height": 479
            },
            "needs_background": "light"
          }
        }
      ]
    },
    {
      "cell_type": "markdown",
      "source": [
        "- 실험 결과 비교\n",
        "\n",
        "| | 1st | 2nd | 3rd | 4th|\n",
        "|:---:|---|---|---|---|\n",
        "|epoch|15|15 |15 |15 |\n",
        "|batch_size|64 |64 |64 |64 |\n",
        "|n_layer|4 |4 |4 |4 |\n",
        "|d_model|512 |512 |512 |512 |\n",
        "|d_ff|2048 |2048 |2048 |2048 |\n",
        "|n_heads|8 |8 |8 |8 |\n",
        "|pos_len|100 |100 |200 |200 |\n",
        "|dropout|0.1 |0.1 |0.2 |0.2 |\n",
        "|vocab_size|srs, tgt : 25000|srs, tgt : 25000 |srs, tgt : 25000 |srs, tgt : 32000 |\n",
        "|preprocess|sentencepiece : 'unigram' \\| toekn_restrict : 3$\\leq$#token$\\leq$50 |sentencepiece : 'bpe' \\| toekn_restrict : 3$\\leq$#token$\\leq$60 |sentencepiece : 'unigram' \\| toekn_restrict : 3$\\leq$#token$\\leq$60 |sentencepiece : 'unigram' \\| toekn_restrict : 3$\\leq$#token$\\leq$60 |\n",
        "|best translation|[Epoch 13:  Loss 0.3270]<br><br>Input: 오바마는 대통령이다.<br>Predicted translation: obama is the son of president .<br><br>Input: 시민들은 도시 속에 산다.<br>Predicted translation: some quick get in the city .<br><br>Input: 커피는 필요 없다.<br>Predicted translation: no one is coffee .<br><br>Input: 일곱 명의 사망자가 발생했다.<br>Predicted translation: seven other people died in the attack .<br><br>Input: 넌 젖을수록 투명해지는 꽃<br>Predicted translation: the equivalent of the horses , williams then turned out very cars with what s happening . |[Epoch  4: Loss 3.8017]<br><br>Input: 오바마는 대통령이다.<br>Predicted translation: obama is a leading presidential candidate .<br><br>Input: 시민들은 도시 속에 산다.<br>Predicted translation: the city s main city .<br><br>Input: 커피는 필요 없다.<br>Predicted translation: coffee is not allowed .<br><br>Input: 일곱 명의 사망자가 발생했다.<br>Predicted translation: seven people have died .<br><br>Input: 넌 젖을수록 투명해지는 꽃<br>Predicted translation: the paper said that snails and transparently . |[Epoch  6:  Loss 2.2295]<br><br>Input: 오바마는 대통령이다.<br>Predicted translation: obama is the democratic presidential candidate .<br><br>Input: 시민들은 도시 속에 산다.<br>Predicted translation: citizens are called in the city of commemorate the city .<br><br>Input: 커피는 필요 없다.<br>Predicted translation: you can t need for coffee .<br><br>Input: 일곱 명의 사망자가 발생했다.<br>Predicted translation: seven people died , the official said .<br><br>Input: 넌 젖을수록 투명해지는 꽃<br>Predicted translation: others have left more transparent and have caused serious tumor . |[Epoch 15:  Loss 0.2896]<br><br>Input: 오바마는 대통령이다.<br>Predicted translation: obama is ahead of the president .<br><br>Input: 시민들은 도시 속에 산다.<br>Predicted translation: they want to get out of this country .<br><br>Input: 커피는 필요 없다.<br>Predicted translation: needed to do your needed .<br><br>Input: 일곱 명의 사망자가 발생했다.<br>Predicted translation: seven people were killed .<br><br>Input: 넌 젖을수록 투명해지는 꽃<br>Predicted translation: and the fact that the kids were born when they were born drunk to 41 percent of attack people . |\n",
        "|평가|어느정도 중요한 단어는 포함하고 있지만 의미가 맞는 문장이 그닥 없음 | 전보다 훨씬 의미적으로 쓸만한 문장들이 나옴|마지막 문장은 훈련 데이터에 관련 단어나 내용이 너무 없어서 그런지는 몰라도 번역을 너무 못하는 모습을 보임. |어째 단어장 크기를 늘리니까 더 이상해지는 것 같기도….허허 |"
      ],
      "metadata": {
        "id": "o1fId1c-n6NJ"
      }
    }
  ]
}