{
  "nbformat": 4,
  "nbformat_minor": 0,
  "metadata": {
    "colab": {
      "name": "EX_BS2_project10.ipynb",
      "provenance": [],
      "machine_shape": "hm",
      "mount_file_id": "1kbQLqSW5kEN2lJ5HKctvpRHP2ttKzszW",
      "authorship_tag": "ABX9TyNMVTiiXqq9UaOjpxlK/po+",
      "include_colab_link": true
    },
    "kernelspec": {
      "name": "python3",
      "display_name": "Python 3"
    },
    "language_info": {
      "name": "python"
    },
    "accelerator": "GPU",
    "gpuClass": "standard"
  },
  "cells": [
    {
      "cell_type": "markdown",
      "metadata": {
        "id": "view-in-github",
        "colab_type": "text"
      },
      "source": [
        "<a href=\"https://colab.research.google.com/github/RealMyeong/Aiffel_Exploration/blob/main/EX_BS2_project10.ipynb\" target=\"_parent\"><img src=\"https://colab.research.google.com/assets/colab-badge.svg\" alt=\"Open In Colab\"/></a>"
      ]
    },
    {
      "cell_type": "markdown",
      "source": [
        "- 라이브러리 버전 확인"
      ],
      "metadata": {
        "id": "RQzrrTTx26eW"
      }
    },
    {
      "cell_type": "code",
      "execution_count": 1,
      "metadata": {
        "id": "Y8Utk_je23Si"
      },
      "outputs": [],
      "source": [
        "# !pip uninstall tensorflow\n",
        "# !pip uninstall keras\n",
        "# !pip install tensorflow==2.6.0\n",
        "# !pip install keras==2.6.0"
      ]
    },
    {
      "cell_type": "code",
      "source": [
        "import pandas as pd\n",
        "from tensorflow.keras.preprocessing.text import Tokenizer\n",
        "from tensorflow.keras.preprocessing.sequence import pad_sequences\n",
        "from tensorflow.keras.utils import to_categorical\n",
        "import numpy as np\n",
        "import re\n",
        "import matplotlib.pyplot as plt\n"
      ],
      "metadata": {
        "id": "WiJ8uybN2_ve"
      },
      "execution_count": 2,
      "outputs": []
    },
    {
      "cell_type": "markdown",
      "source": [
        "- 필요 데이터 불러옴"
      ],
      "metadata": {
        "id": "0hnO23J83gQC"
      }
    },
    {
      "cell_type": "code",
      "source": [
        "file_path = '/content/drive/MyDrive/AIFFEL/EX/10. 번역기/fra.txt'\n",
        "lines = pd.read_csv(file_path, names=['eng', 'fra', 'cc'], sep='\\t')\n",
        "print('전체 샘플의 수 :',len(lines))\n",
        "lines.sample(5) #샘플 5개 출력"
      ],
      "metadata": {
        "colab": {
          "base_uri": "https://localhost:8080/",
          "height": 224
        },
        "id": "-XRJRPnK3f8T",
        "outputId": "84e420e4-8de6-4a2c-e3b7-9d2505d3975e"
      },
      "execution_count": 3,
      "outputs": [
        {
          "output_type": "stream",
          "name": "stdout",
          "text": [
            "전체 샘플의 수 : 194513\n"
          ]
        },
        {
          "output_type": "execute_result",
          "data": {
            "text/plain": [
              "                                              eng  \\\n",
              "162586  He is by far the best player on the team.   \n",
              "149952      The situation went from bad to worse.   \n",
              "43302                       I'm sure Tom can win.   \n",
              "40503                       Did you volunteer us?   \n",
              "144637       I'm going to go out and take a walk.   \n",
              "\n",
              "                                                   fra  \\\n",
              "162586  Il est de loin le meilleur joueur de l'équipe.   \n",
              "149952            La situation allait de pire en pire.   \n",
              "43302                Je suis sûre que Tom peut gagner.   \n",
              "40503                            Nous as-tu désignés ?   \n",
              "144637                   Je vais sortir faire un tour.   \n",
              "\n",
              "                                                       cc  \n",
              "162586  CC-BY 2.0 (France) Attribution: tatoeba.org #2...  \n",
              "149952  CC-BY 2.0 (France) Attribution: tatoeba.org #2...  \n",
              "43302   CC-BY 2.0 (France) Attribution: tatoeba.org #6...  \n",
              "40503   CC-BY 2.0 (France) Attribution: tatoeba.org #3...  \n",
              "144637  CC-BY 2.0 (France) Attribution: tatoeba.org #3...  "
            ],
            "text/html": [
              "\n",
              "  <div id=\"df-2010b782-efbd-4687-afb8-4d4d7645e490\">\n",
              "    <div class=\"colab-df-container\">\n",
              "      <div>\n",
              "<style scoped>\n",
              "    .dataframe tbody tr th:only-of-type {\n",
              "        vertical-align: middle;\n",
              "    }\n",
              "\n",
              "    .dataframe tbody tr th {\n",
              "        vertical-align: top;\n",
              "    }\n",
              "\n",
              "    .dataframe thead th {\n",
              "        text-align: right;\n",
              "    }\n",
              "</style>\n",
              "<table border=\"1\" class=\"dataframe\">\n",
              "  <thead>\n",
              "    <tr style=\"text-align: right;\">\n",
              "      <th></th>\n",
              "      <th>eng</th>\n",
              "      <th>fra</th>\n",
              "      <th>cc</th>\n",
              "    </tr>\n",
              "  </thead>\n",
              "  <tbody>\n",
              "    <tr>\n",
              "      <th>162586</th>\n",
              "      <td>He is by far the best player on the team.</td>\n",
              "      <td>Il est de loin le meilleur joueur de l'équipe.</td>\n",
              "      <td>CC-BY 2.0 (France) Attribution: tatoeba.org #2...</td>\n",
              "    </tr>\n",
              "    <tr>\n",
              "      <th>149952</th>\n",
              "      <td>The situation went from bad to worse.</td>\n",
              "      <td>La situation allait de pire en pire.</td>\n",
              "      <td>CC-BY 2.0 (France) Attribution: tatoeba.org #2...</td>\n",
              "    </tr>\n",
              "    <tr>\n",
              "      <th>43302</th>\n",
              "      <td>I'm sure Tom can win.</td>\n",
              "      <td>Je suis sûre que Tom peut gagner.</td>\n",
              "      <td>CC-BY 2.0 (France) Attribution: tatoeba.org #6...</td>\n",
              "    </tr>\n",
              "    <tr>\n",
              "      <th>40503</th>\n",
              "      <td>Did you volunteer us?</td>\n",
              "      <td>Nous as-tu désignés ?</td>\n",
              "      <td>CC-BY 2.0 (France) Attribution: tatoeba.org #3...</td>\n",
              "    </tr>\n",
              "    <tr>\n",
              "      <th>144637</th>\n",
              "      <td>I'm going to go out and take a walk.</td>\n",
              "      <td>Je vais sortir faire un tour.</td>\n",
              "      <td>CC-BY 2.0 (France) Attribution: tatoeba.org #3...</td>\n",
              "    </tr>\n",
              "  </tbody>\n",
              "</table>\n",
              "</div>\n",
              "      <button class=\"colab-df-convert\" onclick=\"convertToInteractive('df-2010b782-efbd-4687-afb8-4d4d7645e490')\"\n",
              "              title=\"Convert this dataframe to an interactive table.\"\n",
              "              style=\"display:none;\">\n",
              "        \n",
              "  <svg xmlns=\"http://www.w3.org/2000/svg\" height=\"24px\"viewBox=\"0 0 24 24\"\n",
              "       width=\"24px\">\n",
              "    <path d=\"M0 0h24v24H0V0z\" fill=\"none\"/>\n",
              "    <path d=\"M18.56 5.44l.94 2.06.94-2.06 2.06-.94-2.06-.94-.94-2.06-.94 2.06-2.06.94zm-11 1L8.5 8.5l.94-2.06 2.06-.94-2.06-.94L8.5 2.5l-.94 2.06-2.06.94zm10 10l.94 2.06.94-2.06 2.06-.94-2.06-.94-.94-2.06-.94 2.06-2.06.94z\"/><path d=\"M17.41 7.96l-1.37-1.37c-.4-.4-.92-.59-1.43-.59-.52 0-1.04.2-1.43.59L10.3 9.45l-7.72 7.72c-.78.78-.78 2.05 0 2.83L4 21.41c.39.39.9.59 1.41.59.51 0 1.02-.2 1.41-.59l7.78-7.78 2.81-2.81c.8-.78.8-2.07 0-2.86zM5.41 20L4 18.59l7.72-7.72 1.47 1.35L5.41 20z\"/>\n",
              "  </svg>\n",
              "      </button>\n",
              "      \n",
              "  <style>\n",
              "    .colab-df-container {\n",
              "      display:flex;\n",
              "      flex-wrap:wrap;\n",
              "      gap: 12px;\n",
              "    }\n",
              "\n",
              "    .colab-df-convert {\n",
              "      background-color: #E8F0FE;\n",
              "      border: none;\n",
              "      border-radius: 50%;\n",
              "      cursor: pointer;\n",
              "      display: none;\n",
              "      fill: #1967D2;\n",
              "      height: 32px;\n",
              "      padding: 0 0 0 0;\n",
              "      width: 32px;\n",
              "    }\n",
              "\n",
              "    .colab-df-convert:hover {\n",
              "      background-color: #E2EBFA;\n",
              "      box-shadow: 0px 1px 2px rgba(60, 64, 67, 0.3), 0px 1px 3px 1px rgba(60, 64, 67, 0.15);\n",
              "      fill: #174EA6;\n",
              "    }\n",
              "\n",
              "    [theme=dark] .colab-df-convert {\n",
              "      background-color: #3B4455;\n",
              "      fill: #D2E3FC;\n",
              "    }\n",
              "\n",
              "    [theme=dark] .colab-df-convert:hover {\n",
              "      background-color: #434B5C;\n",
              "      box-shadow: 0px 1px 3px 1px rgba(0, 0, 0, 0.15);\n",
              "      filter: drop-shadow(0px 1px 2px rgba(0, 0, 0, 0.3));\n",
              "      fill: #FFFFFF;\n",
              "    }\n",
              "  </style>\n",
              "\n",
              "      <script>\n",
              "        const buttonEl =\n",
              "          document.querySelector('#df-2010b782-efbd-4687-afb8-4d4d7645e490 button.colab-df-convert');\n",
              "        buttonEl.style.display =\n",
              "          google.colab.kernel.accessAllowed ? 'block' : 'none';\n",
              "\n",
              "        async function convertToInteractive(key) {\n",
              "          const element = document.querySelector('#df-2010b782-efbd-4687-afb8-4d4d7645e490');\n",
              "          const dataTable =\n",
              "            await google.colab.kernel.invokeFunction('convertToInteractive',\n",
              "                                                     [key], {});\n",
              "          if (!dataTable) return;\n",
              "\n",
              "          const docLinkHtml = 'Like what you see? Visit the ' +\n",
              "            '<a target=\"_blank\" href=https://colab.research.google.com/notebooks/data_table.ipynb>data table notebook</a>'\n",
              "            + ' to learn more about interactive tables.';\n",
              "          element.innerHTML = '';\n",
              "          dataTable['output_type'] = 'display_data';\n",
              "          await google.colab.output.renderOutput(dataTable, element);\n",
              "          const docLink = document.createElement('div');\n",
              "          docLink.innerHTML = docLinkHtml;\n",
              "          element.appendChild(docLink);\n",
              "        }\n",
              "      </script>\n",
              "    </div>\n",
              "  </div>\n",
              "  "
            ]
          },
          "metadata": {},
          "execution_count": 3
        }
      ]
    },
    {
      "cell_type": "markdown",
      "source": [
        "- cc부분은 필요없고, 나중에 test셋은 3000개로 사용"
      ],
      "metadata": {
        "id": "vUtc5pQL3uCi"
      }
    },
    {
      "cell_type": "code",
      "source": [
        "lines = lines[['eng', 'fra']][:63000] \n",
        "lines.sample(5)"
      ],
      "metadata": {
        "colab": {
          "base_uri": "https://localhost:8080/",
          "height": 206
        },
        "id": "4dQRPJTr3hu9",
        "outputId": "257cd47e-bd00-4c1c-eae3-985e233b8df5"
      },
      "execution_count": 4,
      "outputs": [
        {
          "output_type": "execute_result",
          "data": {
            "text/plain": [
              "                           eng                              fra\n",
              "60827  You have my permission.             Tu as ma permission.\n",
              "18392        I don't allow it.            Je ne le permets pas.\n",
              "30493      Is Tom from Boston?   Est-ce que Tom est de Boston ?\n",
              "2829              Cover it up.                    Camouflez-le.\n",
              "22979       Go away. I'm busy.  Allez-vous-en. Je suis occupée."
            ],
            "text/html": [
              "\n",
              "  <div id=\"df-f485d325-31a0-4ce0-a4aa-233115a9f757\">\n",
              "    <div class=\"colab-df-container\">\n",
              "      <div>\n",
              "<style scoped>\n",
              "    .dataframe tbody tr th:only-of-type {\n",
              "        vertical-align: middle;\n",
              "    }\n",
              "\n",
              "    .dataframe tbody tr th {\n",
              "        vertical-align: top;\n",
              "    }\n",
              "\n",
              "    .dataframe thead th {\n",
              "        text-align: right;\n",
              "    }\n",
              "</style>\n",
              "<table border=\"1\" class=\"dataframe\">\n",
              "  <thead>\n",
              "    <tr style=\"text-align: right;\">\n",
              "      <th></th>\n",
              "      <th>eng</th>\n",
              "      <th>fra</th>\n",
              "    </tr>\n",
              "  </thead>\n",
              "  <tbody>\n",
              "    <tr>\n",
              "      <th>60827</th>\n",
              "      <td>You have my permission.</td>\n",
              "      <td>Tu as ma permission.</td>\n",
              "    </tr>\n",
              "    <tr>\n",
              "      <th>18392</th>\n",
              "      <td>I don't allow it.</td>\n",
              "      <td>Je ne le permets pas.</td>\n",
              "    </tr>\n",
              "    <tr>\n",
              "      <th>30493</th>\n",
              "      <td>Is Tom from Boston?</td>\n",
              "      <td>Est-ce que Tom est de Boston ?</td>\n",
              "    </tr>\n",
              "    <tr>\n",
              "      <th>2829</th>\n",
              "      <td>Cover it up.</td>\n",
              "      <td>Camouflez-le.</td>\n",
              "    </tr>\n",
              "    <tr>\n",
              "      <th>22979</th>\n",
              "      <td>Go away. I'm busy.</td>\n",
              "      <td>Allez-vous-en. Je suis occupée.</td>\n",
              "    </tr>\n",
              "  </tbody>\n",
              "</table>\n",
              "</div>\n",
              "      <button class=\"colab-df-convert\" onclick=\"convertToInteractive('df-f485d325-31a0-4ce0-a4aa-233115a9f757')\"\n",
              "              title=\"Convert this dataframe to an interactive table.\"\n",
              "              style=\"display:none;\">\n",
              "        \n",
              "  <svg xmlns=\"http://www.w3.org/2000/svg\" height=\"24px\"viewBox=\"0 0 24 24\"\n",
              "       width=\"24px\">\n",
              "    <path d=\"M0 0h24v24H0V0z\" fill=\"none\"/>\n",
              "    <path d=\"M18.56 5.44l.94 2.06.94-2.06 2.06-.94-2.06-.94-.94-2.06-.94 2.06-2.06.94zm-11 1L8.5 8.5l.94-2.06 2.06-.94-2.06-.94L8.5 2.5l-.94 2.06-2.06.94zm10 10l.94 2.06.94-2.06 2.06-.94-2.06-.94-.94-2.06-.94 2.06-2.06.94z\"/><path d=\"M17.41 7.96l-1.37-1.37c-.4-.4-.92-.59-1.43-.59-.52 0-1.04.2-1.43.59L10.3 9.45l-7.72 7.72c-.78.78-.78 2.05 0 2.83L4 21.41c.39.39.9.59 1.41.59.51 0 1.02-.2 1.41-.59l7.78-7.78 2.81-2.81c.8-.78.8-2.07 0-2.86zM5.41 20L4 18.59l7.72-7.72 1.47 1.35L5.41 20z\"/>\n",
              "  </svg>\n",
              "      </button>\n",
              "      \n",
              "  <style>\n",
              "    .colab-df-container {\n",
              "      display:flex;\n",
              "      flex-wrap:wrap;\n",
              "      gap: 12px;\n",
              "    }\n",
              "\n",
              "    .colab-df-convert {\n",
              "      background-color: #E8F0FE;\n",
              "      border: none;\n",
              "      border-radius: 50%;\n",
              "      cursor: pointer;\n",
              "      display: none;\n",
              "      fill: #1967D2;\n",
              "      height: 32px;\n",
              "      padding: 0 0 0 0;\n",
              "      width: 32px;\n",
              "    }\n",
              "\n",
              "    .colab-df-convert:hover {\n",
              "      background-color: #E2EBFA;\n",
              "      box-shadow: 0px 1px 2px rgba(60, 64, 67, 0.3), 0px 1px 3px 1px rgba(60, 64, 67, 0.15);\n",
              "      fill: #174EA6;\n",
              "    }\n",
              "\n",
              "    [theme=dark] .colab-df-convert {\n",
              "      background-color: #3B4455;\n",
              "      fill: #D2E3FC;\n",
              "    }\n",
              "\n",
              "    [theme=dark] .colab-df-convert:hover {\n",
              "      background-color: #434B5C;\n",
              "      box-shadow: 0px 1px 3px 1px rgba(0, 0, 0, 0.15);\n",
              "      filter: drop-shadow(0px 1px 2px rgba(0, 0, 0, 0.3));\n",
              "      fill: #FFFFFF;\n",
              "    }\n",
              "  </style>\n",
              "\n",
              "      <script>\n",
              "        const buttonEl =\n",
              "          document.querySelector('#df-f485d325-31a0-4ce0-a4aa-233115a9f757 button.colab-df-convert');\n",
              "        buttonEl.style.display =\n",
              "          google.colab.kernel.accessAllowed ? 'block' : 'none';\n",
              "\n",
              "        async function convertToInteractive(key) {\n",
              "          const element = document.querySelector('#df-f485d325-31a0-4ce0-a4aa-233115a9f757');\n",
              "          const dataTable =\n",
              "            await google.colab.kernel.invokeFunction('convertToInteractive',\n",
              "                                                     [key], {});\n",
              "          if (!dataTable) return;\n",
              "\n",
              "          const docLinkHtml = 'Like what you see? Visit the ' +\n",
              "            '<a target=\"_blank\" href=https://colab.research.google.com/notebooks/data_table.ipynb>data table notebook</a>'\n",
              "            + ' to learn more about interactive tables.';\n",
              "          element.innerHTML = '';\n",
              "          dataTable['output_type'] = 'display_data';\n",
              "          await google.colab.output.renderOutput(dataTable, element);\n",
              "          const docLink = document.createElement('div');\n",
              "          docLink.innerHTML = docLinkHtml;\n",
              "          element.appendChild(docLink);\n",
              "        }\n",
              "      </script>\n",
              "    </div>\n",
              "  </div>\n",
              "  "
            ]
          },
          "metadata": {},
          "execution_count": 4
        }
      ]
    },
    {
      "cell_type": "markdown",
      "source": [
        "## Step 1. 정제, 정규화, 전처리 (영어, 프랑스어 모두!)\n",
        "\n",
        "1. 구두점(Punctuation)을 단어와 분리\n",
        "2. 문장을 소문자로 변경\n"
      ],
      "metadata": {
        "id": "WsBepcLc4M_o"
      }
    },
    {
      "cell_type": "code",
      "source": [
        "lines_np_eng= lines['eng'].to_numpy()\n",
        "lines_np_fra= lines['fra'].to_numpy()"
      ],
      "metadata": {
        "id": "vDWGWlqY6u4A"
      },
      "execution_count": 5,
      "outputs": []
    },
    {
      "cell_type": "markdown",
      "source": [
        "문장을 소문자로 변경 후, 특수문자와 문자 사이에 공백을 넣어주는 함수 정의"
      ],
      "metadata": {
        "id": "bo46-1na9_tJ"
      }
    },
    {
      "cell_type": "code",
      "source": [
        "sos_token = '<start> '\n",
        "eos_token = ' <end>'\n",
        "\n",
        "def preprocess_line(line, plus_token = True):\n",
        "    # 소문자로 변경하기\n",
        "    line = line.lower().strip()\n",
        "    # 구두점(Punctuation)을 단어와 분리하기\n",
        "    line = re.sub(r\"([?.!,¿])\", r\" \\1 \", line)\n",
        "    line = re.sub(r'[\" \"]+', \" \", line)\n",
        "    line = re.sub(r\"[^a-zA-Z?.!,¿]+\", \" \", line)\n",
        "\n",
        "    line = line.strip()\n",
        "    \n",
        "    if plus_token == True:\n",
        "        line = sos_token + line + eos_token\n",
        "    \n",
        "    return line"
      ],
      "metadata": {
        "id": "4seGJyia7Bbd"
      },
      "execution_count": 6,
      "outputs": []
    },
    {
      "cell_type": "markdown",
      "source": [
        "띄어쓰기 단위로 토큰화 함수 정의"
      ],
      "metadata": {
        "id": "g3reDzdRB5U0"
      }
    },
    {
      "cell_type": "code",
      "source": [
        "def tokenize(corpus):\n",
        "    tokenizer = Tokenizer(\n",
        "        num_words=9000,  \n",
        "        filters=' ',   \n",
        "        oov_token=\"<unk>\"  \n",
        "    )\n",
        "    tokenizer.fit_on_texts(corpus)  \n",
        "\n",
        "    tensor = tokenizer.texts_to_sequences(corpus)   \n",
        "\n",
        "    return tensor, tokenizer"
      ],
      "metadata": {
        "id": "m3DzN9al7EaW"
      },
      "execution_count": 7,
      "outputs": []
    },
    {
      "cell_type": "markdown",
      "source": [
        "영어, 프랑스어 전처리하기\n"
      ],
      "metadata": {
        "id": "1-OXzeiaB95n"
      }
    },
    {
      "cell_type": "code",
      "source": [
        "eng_lines = []\n",
        "fra_lines = []\n",
        "\n",
        "# eng_lines.append(lines.eng.apply(lambda x : preprocess_line(x,plus_token = False)))\n",
        "# fra_lines.append(lines.fra.apply(lambda x : preprocess_line(x),))\n",
        "\n",
        "for eng, fra in zip(lines.eng, lines.fra):\n",
        "    if len(eng) == 0: continue\n",
        "    if len(fra) == 0: continue   \n",
        "        \n",
        "    eng_lines.append(preprocess_line(eng, plus_token = False))\n",
        "    fra_lines.append(preprocess_line(fra))"
      ],
      "metadata": {
        "id": "XVA8KlCr7IqE"
      },
      "execution_count": 8,
      "outputs": []
    },
    {
      "cell_type": "code",
      "source": [
        "eng_tensor, eng_tokenizer = tokenize(eng_lines)\n",
        "fra_tensor, fra_tokenizer = tokenize(fra_lines)\n",
        "fra_tensor[:10]"
      ],
      "metadata": {
        "colab": {
          "base_uri": "https://localhost:8080/"
        },
        "id": "oICZPaq27Ldv",
        "outputId": "db840b2b-dc48-4038-dec7-9999943735e4"
      },
      "execution_count": 9,
      "outputs": [
        {
          "output_type": "execute_result",
          "data": {
            "text/plain": [
              "[[2, 97, 21, 3],\n",
              " [2, 537, 4, 3],\n",
              " [2, 1086, 21, 3],\n",
              " [2, 1185, 21, 3],\n",
              " [2, 1185, 4, 3],\n",
              " [2, 658, 21, 3],\n",
              " [2, 2509, 21, 3],\n",
              " [2, 255, 192, 1343, 192, 4131, 21, 3],\n",
              " [2, 1296, 21, 3],\n",
              " [2, 3504, 21, 3]]"
            ]
          },
          "metadata": {},
          "execution_count": 9
        }
      ]
    },
    {
      "cell_type": "markdown",
      "source": [
        "input, target 설정\n"
      ],
      "metadata": {
        "id": "Fo4onW8zCA1z"
      }
    },
    {
      "cell_type": "code",
      "source": [
        "encoder_input = eng_tensor\n",
        "# 종료 토큰 제거\n",
        "decoder_input = [[char for char in line if char != fra_tokenizer.word_index['<end>']] for line in fra_tensor]\n",
        "# 시작 토큰 제거\n",
        "decoder_target =[[char for char in line if char != fra_tokenizer.word_index['<start>']] for line in fra_tensor]"
      ],
      "metadata": {
        "id": "eSnNK0ev7Q3l"
      },
      "execution_count": 10,
      "outputs": []
    },
    {
      "cell_type": "markdown",
      "source": [
        "padding 추가\n"
      ],
      "metadata": {
        "id": "MSk81sW9CCQH"
      }
    },
    {
      "cell_type": "code",
      "source": [
        "def pad_tensor(tensor):\n",
        "    total_data_text = list(tensor)\n",
        "    num_tokens = [len(tokens) for tokens in total_data_text]\n",
        "    max_tokens = max(num_tokens)\n",
        "    maxlen = int(max_tokens)\n",
        "    tensor = pad_sequences(tensor, padding='post', maxlen=maxlen)  \n",
        "    return tensor"
      ],
      "metadata": {
        "id": "msDLrnIU7Vmc"
      },
      "execution_count": 11,
      "outputs": []
    },
    {
      "cell_type": "code",
      "source": [
        "encoder_input = pad_tensor(encoder_input)\n",
        "decoder_input = pad_tensor(decoder_input)\n",
        "decoder_target = pad_tensor(decoder_target)\n",
        "print('영어 데이터의 크기(shape) :',np.shape(encoder_input))\n",
        "print('프랑스어 입력데이터의 크기(shape) :',np.shape(decoder_input))\n",
        "print('프랑스어 출력데이터의 크기(shape) :',np.shape(decoder_target))"
      ],
      "metadata": {
        "colab": {
          "base_uri": "https://localhost:8080/"
        },
        "id": "2zpAhFaf7c-U",
        "outputId": "472052a1-523d-4357-b8e3-94103409c80d"
      },
      "execution_count": 12,
      "outputs": [
        {
          "output_type": "stream",
          "name": "stdout",
          "text": [
            "영어 데이터의 크기(shape) : (63000, 9)\n",
            "프랑스어 입력데이터의 크기(shape) : (63000, 19)\n",
            "프랑스어 출력데이터의 크기(shape) : (63000, 19)\n"
          ]
        }
      ]
    },
    {
      "cell_type": "code",
      "source": [
        "eng_vocab_size = len(eng_tokenizer.word_index)+1\n",
        "fra_vocab_size = len(fra_tokenizer.word_index)+1\n",
        "\n",
        "max_eng_seq_len = encoder_input.shape[1]\n",
        "max_fra_seq_len = decoder_input.shape[1]"
      ],
      "metadata": {
        "id": "FOyD8hhQ7e1p"
      },
      "execution_count": 13,
      "outputs": []
    },
    {
      "cell_type": "code",
      "source": [
        "print('전체 샘플의 수 :',len(lines))\n",
        "print('영어 단어장의 크기 :', eng_vocab_size)\n",
        "print('프랑스어 단어장의 크기 :', fra_vocab_size)\n",
        "print('영어 시퀀스의 최대 길이', max_eng_seq_len)\n",
        "print('프랑스어 시퀀스의 최대 길이', max_fra_seq_len)"
      ],
      "metadata": {
        "colab": {
          "base_uri": "https://localhost:8080/"
        },
        "id": "6RwQvpEL7nQE",
        "outputId": "12b34b02-3aa4-4f4e-8e8b-bbe40a82feac"
      },
      "execution_count": 14,
      "outputs": [
        {
          "output_type": "stream",
          "name": "stdout",
          "text": [
            "전체 샘플의 수 : 63000\n",
            "영어 단어장의 크기 : 6829\n",
            "프랑스어 단어장의 크기 : 10556\n",
            "영어 시퀀스의 최대 길이 9\n",
            "프랑스어 시퀀스의 최대 길이 19\n"
          ]
        }
      ]
    },
    {
      "cell_type": "markdown",
      "source": [
        "train, test dataset 나누기\n"
      ],
      "metadata": {
        "id": "d0srDHrsCEeT"
      }
    },
    {
      "cell_type": "code",
      "source": [
        "indices = np.arange(encoder_input.shape[0])\n",
        "np.random.shuffle(indices)\n",
        "\n",
        "encoder_input = encoder_input[indices]\n",
        "decoder_input = decoder_input[indices]\n",
        "decoder_target = decoder_target[indices]"
      ],
      "metadata": {
        "id": "LxNN-Xsc7qni"
      },
      "execution_count": 15,
      "outputs": []
    },
    {
      "cell_type": "code",
      "source": [
        "n_of_val = 3000\n",
        "\n",
        "encoder_input_train = encoder_input[:-n_of_val]\n",
        "decoder_input_train = decoder_input[:-n_of_val]\n",
        "decoder_target_train = decoder_target[:-n_of_val]\n",
        "\n",
        "encoder_input_test = encoder_input[-n_of_val:]\n",
        "decoder_input_test = decoder_input[-n_of_val:]\n",
        "decoder_target_test = decoder_target[-n_of_val:]\n",
        "\n",
        "print(encoder_input_train.shape)\n",
        "print(decoder_input_train.shape)\n",
        "print(decoder_target_train.shape)\n",
        "print(encoder_input_test.shape)\n",
        "print(decoder_input_test.shape)\n",
        "print(decoder_target_test.shape)"
      ],
      "metadata": {
        "colab": {
          "base_uri": "https://localhost:8080/"
        },
        "id": "aZ15u_CH7rPE",
        "outputId": "8d77b190-a602-4331-bb8a-17aca0b80b59"
      },
      "execution_count": 16,
      "outputs": [
        {
          "output_type": "stream",
          "name": "stdout",
          "text": [
            "(60000, 9)\n",
            "(60000, 19)\n",
            "(60000, 19)\n",
            "(3000, 9)\n",
            "(3000, 19)\n",
            "(3000, 19)\n"
          ]
        }
      ]
    },
    {
      "cell_type": "markdown",
      "source": [
        "## Step 2. 임베딩 층(Embedding layer) 사용하여 모델 학습\n"
      ],
      "metadata": {
        "id": "GawWL0hdCHlf"
      }
    },
    {
      "cell_type": "code",
      "source": [
        "from tensorflow.keras.layers import Input, Embedding, Masking, LSTM, Dense\n",
        "from tensorflow.keras.models import Model\n",
        "\n",
        "embedding_size = 512\n",
        "hidden_size = 512\n",
        "# 인코더에서 사용할 임베딩 층 사용 예시\n",
        "encoder_inputs = Input(shape=(None, ), name='encoder_input')\n",
        "enc_emb =  Embedding(eng_vocab_size, embedding_size,\n",
        "                    input_length=max_eng_seq_len)(encoder_inputs)\n",
        "enc_masking = Masking(mask_value=0.0)(enc_emb)\n",
        "encoder_lstm = LSTM(hidden_size, dropout = 0.4, return_state=True)\n",
        "encoder_outputs, state_h, state_c = encoder_lstm(enc_masking)\n",
        "encoder_states = [state_h, state_c]"
      ],
      "metadata": {
        "id": "DsL0QI2X73gS"
      },
      "execution_count": 17,
      "outputs": []
    },
    {
      "cell_type": "code",
      "source": [
        "decoder_inputs = Input(shape=(None, ), name='decoder_input')\n",
        "dec_emb =  Embedding(fra_vocab_size, embedding_size)(decoder_inputs)\n",
        "dec_masking = Masking(mask_value=0.0)(dec_emb)\n",
        "decoder_lstm = LSTM(hidden_size, dropout = 0.4, return_sequences = True, return_state=True)\n",
        "decoder_outputs, _, _ = decoder_lstm(dec_masking, initial_state = encoder_states)"
      ],
      "metadata": {
        "id": "GA3Nh_-87vvx"
      },
      "execution_count": 18,
      "outputs": []
    },
    {
      "cell_type": "code",
      "source": [
        "decoder_softmax_layer = Dense(fra_vocab_size, activation='softmax')\n",
        "decoder_outputs = decoder_softmax_layer(decoder_outputs)"
      ],
      "metadata": {
        "id": "3VCZ_yln7wHD"
      },
      "execution_count": 19,
      "outputs": []
    },
    {
      "cell_type": "code",
      "source": [
        "\n",
        "model = Model([encoder_inputs, decoder_inputs], decoder_outputs)\n",
        "model.compile(optimizer='rmsprop', loss='sparse_categorical_crossentropy')"
      ],
      "metadata": {
        "id": "W1YoMZ2N7zz5"
      },
      "execution_count": 20,
      "outputs": []
    },
    {
      "cell_type": "code",
      "source": [
        "model.summary()\n"
      ],
      "metadata": {
        "colab": {
          "base_uri": "https://localhost:8080/"
        },
        "id": "AxmAcEsd7suJ",
        "outputId": "45e1232d-1970-4cc3-f413-49b82e9c3e53"
      },
      "execution_count": 21,
      "outputs": [
        {
          "output_type": "stream",
          "name": "stdout",
          "text": [
            "Model: \"model\"\n",
            "__________________________________________________________________________________________________\n",
            " Layer (type)                   Output Shape         Param #     Connected to                     \n",
            "==================================================================================================\n",
            " encoder_input (InputLayer)     [(None, None)]       0           []                               \n",
            "                                                                                                  \n",
            " decoder_input (InputLayer)     [(None, None)]       0           []                               \n",
            "                                                                                                  \n",
            " embedding (Embedding)          (None, None, 512)    3496448     ['encoder_input[0][0]']          \n",
            "                                                                                                  \n",
            " embedding_1 (Embedding)        (None, None, 512)    5404672     ['decoder_input[0][0]']          \n",
            "                                                                                                  \n",
            " masking (Masking)              (None, None, 512)    0           ['embedding[0][0]']              \n",
            "                                                                                                  \n",
            " masking_1 (Masking)            (None, None, 512)    0           ['embedding_1[0][0]']            \n",
            "                                                                                                  \n",
            " lstm (LSTM)                    [(None, 512),        2099200     ['masking[0][0]']                \n",
            "                                 (None, 512),                                                     \n",
            "                                 (None, 512)]                                                     \n",
            "                                                                                                  \n",
            " lstm_1 (LSTM)                  [(None, None, 512),  2099200     ['masking_1[0][0]',              \n",
            "                                 (None, 512),                     'lstm[0][1]',                   \n",
            "                                 (None, 512)]                     'lstm[0][2]']                   \n",
            "                                                                                                  \n",
            " dense (Dense)                  (None, None, 10556)  5415228     ['lstm_1[0][0]']                 \n",
            "                                                                                                  \n",
            "==================================================================================================\n",
            "Total params: 18,514,748\n",
            "Trainable params: 18,514,748\n",
            "Non-trainable params: 0\n",
            "__________________________________________________________________________________________________\n"
          ]
        }
      ]
    },
    {
      "cell_type": "code",
      "source": [
        "history = model.fit(x=[encoder_input_train, decoder_input_train], \n",
        "          y=decoder_target_train, \n",
        "          validation_data = ([encoder_input_test, decoder_input_test], \n",
        "                             decoder_target_test),\n",
        "          batch_size=64, \n",
        "          epochs=20)"
      ],
      "metadata": {
        "colab": {
          "base_uri": "https://localhost:8080/"
        },
        "id": "HXZXC27F7-fa",
        "outputId": "ffb253d5-60e8-4ccf-bc3b-f95db43e6884"
      },
      "execution_count": 22,
      "outputs": [
        {
          "output_type": "stream",
          "name": "stdout",
          "text": [
            "Epoch 1/20\n",
            "938/938 [==============================] - 37s 28ms/step - loss: 1.3360 - val_loss: 1.0659\n",
            "Epoch 2/20\n",
            "938/938 [==============================] - 23s 25ms/step - loss: 0.9526 - val_loss: 0.8886\n",
            "Epoch 3/20\n",
            "938/938 [==============================] - 23s 25ms/step - loss: 0.8089 - val_loss: 0.7961\n",
            "Epoch 4/20\n",
            "938/938 [==============================] - 23s 24ms/step - loss: 0.7152 - val_loss: 0.7281\n",
            "Epoch 5/20\n",
            "938/938 [==============================] - 23s 25ms/step - loss: 0.6457 - val_loss: 0.6928\n",
            "Epoch 6/20\n",
            "938/938 [==============================] - 24s 25ms/step - loss: 0.5945 - val_loss: 0.6577\n",
            "Epoch 7/20\n",
            "938/938 [==============================] - 23s 25ms/step - loss: 0.5552 - val_loss: 0.6446\n",
            "Epoch 8/20\n",
            "938/938 [==============================] - 23s 25ms/step - loss: 0.5263 - val_loss: 0.6329\n",
            "Epoch 9/20\n",
            "938/938 [==============================] - 23s 25ms/step - loss: 0.5048 - val_loss: 0.6256\n",
            "Epoch 10/20\n",
            "938/938 [==============================] - 23s 25ms/step - loss: 0.4816 - val_loss: 0.6187\n",
            "Epoch 11/20\n",
            "938/938 [==============================] - 23s 25ms/step - loss: 0.4632 - val_loss: 0.6156\n",
            "Epoch 12/20\n",
            "938/938 [==============================] - 23s 24ms/step - loss: 0.4461 - val_loss: 0.6062\n",
            "Epoch 13/20\n",
            "938/938 [==============================] - 24s 25ms/step - loss: 0.4312 - val_loss: 0.6085\n",
            "Epoch 14/20\n",
            "938/938 [==============================] - 24s 25ms/step - loss: 0.4197 - val_loss: 0.6035\n",
            "Epoch 15/20\n",
            "938/938 [==============================] - 24s 25ms/step - loss: 0.4049 - val_loss: 0.5966\n",
            "Epoch 16/20\n",
            "938/938 [==============================] - 24s 25ms/step - loss: 0.3960 - val_loss: 0.5995\n",
            "Epoch 17/20\n",
            "938/938 [==============================] - 24s 25ms/step - loss: 0.3885 - val_loss: 0.5970\n",
            "Epoch 18/20\n",
            "938/938 [==============================] - 24s 25ms/step - loss: 0.3799 - val_loss: 0.5963\n",
            "Epoch 19/20\n",
            "938/938 [==============================] - 24s 25ms/step - loss: 0.3730 - val_loss: 0.5942\n",
            "Epoch 20/20\n",
            "938/938 [==============================] - 24s 26ms/step - loss: 0.3658 - val_loss: 0.5946\n"
          ]
        }
      ]
    },
    {
      "cell_type": "code",
      "source": [
        "history_dict = history.history\n",
        "print(history_dict.keys()) # epoch에 따른 그래프를 그려볼 수 있는 항목들"
      ],
      "metadata": {
        "colab": {
          "base_uri": "https://localhost:8080/"
        },
        "id": "e6QxTEUmH4tn",
        "outputId": "8782476f-f4ca-4e7c-8381-2daf8ae16cf1"
      },
      "execution_count": 23,
      "outputs": [
        {
          "output_type": "stream",
          "name": "stdout",
          "text": [
            "dict_keys(['loss', 'val_loss'])\n"
          ]
        }
      ]
    },
    {
      "cell_type": "code",
      "source": [
        "\n",
        "loss = history_dict['loss']\n",
        "val_loss = history_dict['val_loss']\n",
        "\n",
        "epochs = range(1, 21)\n",
        "\n",
        "# \"bo\"는 \"파란색 점\"입니다\n",
        "plt.plot(epochs, loss, 'bo', label='Training loss')\n",
        "# b는 \"파란 실선\"입니다\n",
        "plt.plot(epochs, val_loss, 'b', label='Validation loss')\n",
        "plt.title('Training and validation loss')\n",
        "plt.xlabel('Epochs')\n",
        "plt.ylabel('Loss')\n",
        "plt.legend()\n",
        "\n",
        "plt.show()"
      ],
      "metadata": {
        "colab": {
          "base_uri": "https://localhost:8080/",
          "height": 295
        },
        "id": "Nj9Rdx-tH7m9",
        "outputId": "5ed44a4c-7076-40f4-f957-4bb3fa7654e5"
      },
      "execution_count": 24,
      "outputs": [
        {
          "output_type": "display_data",
          "data": {
            "text/plain": [
              "<Figure size 432x288 with 1 Axes>"
            ],
            "image/png": "[encoded data removed]"
          },
          "metadata": {
            "needs_background": "light"
          }
        }
      ]
    },
    {
      "cell_type": "markdown",
      "source": [
        "![스크린샷 2022-08-19 오후 5.46.22-1.jpg](data:image/jpeg;base64,/9j/4AAQSkZJRgABAQAASABIAAD/4QBMRXhpZgAATU0AKgAAAAgAAgESAAMAAAABAAEAAIdpAAQAAAABAAAAJgAAAAAAAqACAAQAAAABAAAGKKADAAQAAAABAAAEWAAAAAD/7QA4UGhvdG9zaG9wIDMuMAA4QklNBAQAAAAAAAA4QklNBCUAAAAAABDUHYzZjwCyBOmACZjs+EJ+/8AAEQgEWAYoAwEiAAIRAQMRAf/EAB8AAAEFAQEBAQEBAAAAAAAAAAABAgMEBQYHCAkKC//EALUQAAIBAwMCBAMFBQQEAAABfQECAwAEEQUSITFBBhNRYQcicRQygZGhCCNCscEVUtHwJDNicoIJChYXGBkaJSYnKCkqNDU2Nzg5OkNERUZHSElKU1RVVldYWVpjZGVmZ2hpanN0dXZ3eHl6g4SFhoeIiYqSk5SVlpeYmZqio6Slpqeoqaqys7S1tre4ubrCw8TFxsfIycrS09TV1tfY2drh4uPk5ebn6Onq8fLz9PX29/j5+v/EAB8BAAMBAQEBAQEBAQEAAAAAAAABAgMEBQYHCAkKC//EALURAAIBAgQEAwQHBQQEAAECdwABAgMRBAUhMQYSQVEHYXETIjKBCBRCkaGxwQkjM1LwFWJy0QoWJDThJfEXGBkaJicoKSo1Njc4OTpDREVGR0hJSlNUVVZXWFlaY2RlZmdoaWpzdHV2d3h5eoKDhIWGh4iJipKTlJWWl5iZmqKjpKWmp6ipqrKztLW2t7i5usLDxMXGx8jJytLT1NXW19jZ2uLj5OXm5+jp6vLz9PX29/j5+v/bAEMAAgICAgICAwICAwQDAwMEBQQEBAQFBwUFBQUFBwgHBwcHBwcICAgICAgICAoKCgoKCgsLCwsLDQ0NDQ0NDQ0NDf/bAEMBAgICAwMDBgMDBg0JBwkNDQ0NDQ0NDQ0NDQ0NDQ0NDQ0NDQ0NDQ0NDQ0NDQ0NDQ0NDQ0NDQ0NDQ0NDQ0NDQ0NDf/dAAQAY//aAAwDAQACEQMRAD8A/N+iinxxvLIsUYyzsFUepPAoAbkelGR6V9iR/sEftTyxrLH4OyrgMp+32fIPI/5b0/8A4YE/aq/6E3/yoWX/AMfoA+OMj0oyPSvsf/hgT9qr/oTf/KhZf/H6P+GBP2qv+hN/8qFl/wDH6APjjI9KMj0r7H/4YE/aq/6E3/yoWX/x+j/hgT9qr/oTf/KhZf8Ax+gD44yPSjI9K+x/+GBP2qv+hN/8qFl/8fo/4YE/aq/6E3/yoWX/AMfoA+OMj0oyPSvsf/hgT9qr/oTf/KhZf/H6P+GBP2qv+hN/8qFl/wDH6APjjI9KMj0r7H/4YE/aq/6E3/yoWX/x+j/hgT9qr/oTf/KhZf8Ax+gD44yPSjI9K+x/+GBP2qv+hN/8qFl/8fo/4YE/aq/6E3/yoWX/AMfoA+OMj0oyPSvsf/hgT9qr/oTf/KhZf/H6P+GBP2qv+hN/8qFl/wDH6APjjI9KMj0r7H/4YE/aq/6E3/yoWX/x+j/hgT9qr/oTf/KhZf8Ax+gD44yPSjI9K+x/+GBP2qv+hN/8qFl/8fo/4YE/aq/6E3/yoWX/AMfoA+OMj0oyPSvsf/hgT9qr/oTf/KhZf/H6P+GBP2qv+hN/8qFl/wDH6APjjI9KMj0r7H/4YE/aq/6E3/yoWX/x+j/hgT9qr/oTf/KhZf8Ax+gD44yPSjI9K+x/+GBP2qv+hN/8qFl/8fo/4YE/aq/6E3/yoWX/AMfoA+OMj0oyPSvsf/hgT9qr/oTf/KhZf/H6P+GBP2qv+hN/8qFl/wDH6APjjI9KMj0r7H/4YE/aq/6E3/yoWX/x+j/hgT9qr/oTf/KhZf8Ax+gD44yPSjI9K+x/+GBP2qv+hN/8qFl/8fo/4YE/aq/6E3/yoWX/AMfoA+OMj0oyPSvsf/hgT9qr/oTf/KhZf/H6P+GBP2qv+hN/8qFl/wDH6APjjI9KMj0r7H/4YE/aq/6E3/yoWX/x+j/hgT9qr/oTf/KhZf8Ax+gD44yPSjI9K+x/+GBP2qv+hN/8qFl/8fo/4YE/aq/6E3/yoWX/AMfoA+OMj0oyPSvsf/hgT9qr/oTf/KhZf/H6P+GBP2qv+hN/8qFl/wDH6APjjI9KMj0r7H/4YE/aq/6E3/yoWX/x+j/hgT9qr/oTf/KhZf8Ax+gD44yPSjI9K+x/+GBP2qv+hN/8qFl/8fo/4YE/aq/6E3/yoWX/AMfoA+OMj0oyPSvsf/hgT9qr/oTf/KhZf/H6P+GBP2qv+hN/8qFl/wDH6APjjI9KMj0r7H/4YE/aq/6E3/yoWX/x+j/hgT9qr/oTf/KhZf8Ax+gD44yPSjI9K+x/+GBP2qv+hN/8qFl/8fo/4YE/aq/6E3/yoWX/AMfoA+OMj0oyPSvsf/hgT9qr/oTf/KhZf/H6P+GBP2qv+hN/8qFl/wDH6APjjI9KMj0r7H/4YE/aq/6E3/yoWX/x+j/hgT9qr/oTf/KhZf8Ax+gD44yPSjI9K+x/+GBP2qv+hN/8qFl/8fo/4YE/aq/6E3/yoWX/AMfoA+OMj0oyPSvsf/hgT9qr/oTf/KhZf/H6P+GBP2qv+hN/8qFl/wDH6APjjI9KMj0r7H/4YE/aq/6E3/yoWX/x+j/hgT9qr/oTf/KhZf8Ax+gD44yPSjI9K+x/+GBP2qv+hN/8qFl/8fo/4YE/aq/6E3/yoWX/AMfoA+OMj0oyPSvsf/hgT9qr/oTf/KhZf/H6P+GBP2qv+hN/8qFl/wDH6APjjI9KMj0r7H/4YE/aq/6E3/yoWX/x+j/hgT9qr/oTf/KhZf8Ax+gD44yPSjI9K+x/+GBP2qv+hN/8qFl/8fo/4YE/aq/6E3/yoWX/AMfoA+OMj0oyPSvsf/hgT9qr/oTf/KhZf/H6P+GBP2qv+hN/8qFl/wDH6APjjI9KMj0r7H/4YE/aq/6E3/yoWX/x+j/hgT9qr/oTf/KhZf8Ax+gD44yPSjI9K+x/+GBP2qv+hN/8qFl/8fo/4YE/aq/6E3/yoWX/AMfoA+OMj0oyPSvsf/hgT9qr/oTf/KhZf/H6P+GBP2qv+hN/8qFl/wDH6APjjI9KMj0r7H/4YE/aq/6E3/yoWX/x+j/hgT9qr/oTf/KhZf8Ax+gD44yPSjI9K+x/+GBP2qv+hN/8qFl/8fo/4YE/aq/6E3/yoWX/AMfoA+OMj0oyPSvsf/hgT9qr/oTf/KhZf/H6P+GBP2qv+hN/8qFl/wDH6APjjI9KMj0r7H/4YE/aq/6E3/yoWX/x+j/hgT9qr/oTf/KhZf8Ax+gD44yPSjI9K+x/+GBP2qv+hN/8qFl/8fo/4YE/aq/6E3/yoWX/AMfoA+OMj0oyPSvsf/hgT9qr/oTf/KhZf/H6P+GBP2qv+hN/8qFl/wDH6APjjI9KMj0r7H/4YE/aq/6E3/yoWX/x+j/hgT9qr/oTf/KhZf8Ax+gD44yPSjI9K+x/+GBP2qv+hN/8qFl/8fo/4YE/aq/6E3/yoWX/AMfoA+OMj0oyPSvsf/hgT9qr/oTf/KhZf/H6P+GBP2qv+hN/8qFl/wDH6APjjI9KMj0r7H/4YE/aq/6E3/yoWX/x+j/hgT9qr/oTf/KhZf8Ax+gD44yPSjI9K+x/+GBP2qv+hN/8qFl/8fo/4YE/aq/6E3/yoWX/AMfoA+OMj0oyPSvsf/hgT9qr/oTf/KhZf/H6P+GBP2qv+hN/8qFl/wDH6APjjI9KMj0r7H/4YE/aq/6E3/yoWX/x+j/hgT9qr/oTf/KhZf8Ax+gD44yPSjI9K+x/+GBP2qv+hN/8qFl/8fo/4YE/aq/6E3/yoWX/AMfoA+OMj0oyPSvsf/hgT9qr/oTf/KhZf/H6P+GBP2qv+hN/8qFl/wDH6APjjI9KMj0r7H/4YE/aq/6E3/yoWX/x+j/hgT9qr/oTf/KhZf8Ax+gD44yPSjI9K+x/+GBP2qv+hN/8qFl/8fo/4YE/aq/6E3/yoWX/AMfoA+OMj0oyPSvsf/hgT9qr/oTf/KhZf/H6P+GBP2qv+hN/8qFl/wDH6APjjI9KMj0r7H/4YE/aq/6E3/yoWX/x+j/hgT9qr/oTf/KhZf8Ax+gD44yPSjI9K+x/+GBP2qv+hN/8qFl/8fo/4YE/aq/6E3/yoWX/AMfoA+OMj0oyPSvsf/hgT9qr/oTf/KhZf/H6P+GBP2qv+hN/8qFl/wDH6APjjI9KMj0r7H/4YE/aq/6E3/yoWX/x+j/hgT9qr/oTf/KhZf8Ax+gD44yPSjI9K+x/+GBP2qv+hN/8qFl/8fo/4YE/aq/6E3/yoWX/AMfoA+OMj0oyPSvsf/hgT9qr/oTf/KhZf/H6P+GBP2qv+hN/8qFl/wDH6APjjI9KMj0r7H/4YE/aq/6E3/yoWX/x+j/hgT9qr/oTf/KhZf8Ax+gD44yPSjI9K+x/+GBP2qv+hN/8qFl/8fo/4YE/aq/6E3/yoWX/AMfoA+OMj0oyPSvsf/hgT9qr/oTf/KhZf/H6P+GBP2qv+hN/8qFl/wDH6APjjI9KMj0r7H/4YE/aq/6E3/yoWX/x+j/hgT9qr/oTf/KhZf8Ax+gD44yPSjI9K+x/+GBP2qv+hN/8qFl/8fo/4YE/aq/6E3/yoWX/AMfoA+OMj0oyPSvsf/hgT9qr/oTf/KhZf/H6P+GBP2qv+hN/8qFl/wDH6APjjI9KMj0r7H/4YE/aq/6E3/yoWX/x+j/hgT9qr/oTf/KhZf8Ax+gD44yPSjI9K+x/+GBP2qv+hN/8qFl/8fo/4YE/aq/6E3/yoWX/AMfoA+OMj0oyPSvsf/hgT9qr/oTf/KhZf/H6P+GBP2qv+hN/8qFl/wDH6APjjI9KMj0r7H/4YE/aq/6E3/yoWX/x+j/hgT9qr/oTf/KhZf8Ax+gD44yPSjI9K+x/+GBP2qv+hN/8qFl/8fo/4YE/aq/6E3/yoWX/AMfoA+OMj0oyPSvsf/hgT9qr/oTf/KhZf/H6P+GBP2qv+hN/8qFl/wDH6APjjI9KMj0r7H/4YE/aq/6E3/yoWX/x+j/hgT9qr/oTf/KhZf8Ax+gD44yPSjI9K+x/+GBP2qv+hN/8qFl/8fo/4YE/aq/6E3/yoWX/AMfoA+OMj0oyPSvsf/hgT9qr/oTf/KhZf/H6P+GBP2qv+hN/8qFl/wDH6APjjI9KMj0r7H/4YE/aq/6E3/yoWX/x+j/hgT9qr/oTf/KhZf8Ax+gD44yPSjI9K+x/+GBP2qv+hN/8qFl/8fo/4YE/aq/6E3/yoWX/AMfoA+OMj0oyPSvsf/hgT9qr/oTf/KhZf/H6P+GBP2qv+hN/8qFl/wDH6APjjI9KMj0r7H/4YE/aq/6E3/yoWX/x+j/hgT9qr/oTf/KhZf8Ax+gD44yPSjI9K+x/+GBP2qv+hN/8qFl/8fo/4YE/aq/6E3/yoWX/AMfoA+OMj0oyPSvsf/hgT9qr/oTf/KhZf/H6P+GBP2qv+hN/8qFl/wDH6APjjI9KMj0r7H/4YE/aq/6E3/yoWX/x+j/hgT9qr/oTf/KhZf8Ax+gD44yPSjI9K+x/+GBP2qv+hN/8qFl/8fo/4YE/aq/6E3/yoWX/AMfoA+OMj0oyPSvsf/hgT9qr/oTf/KhZf/H6P+GBP2qv+hN/8qFl/wDH6APjjI9KMj0r7H/4YE/aq/6E3/yoWX/x+j/hgT9qr/oTf/KhZf8Ax+gD44yPSjI9K+x/+GBP2qv+hN/8qFl/8fo/4YE/aq/6E3/yoWX/AMfoA+OMj0oyPSvsf/hgT9qr/oTf/KhZf/H6P+GBP2qv+hN/8qFl/wDH6APjjI9KMj0r7H/4YE/aq/6E3/yoWX/x+j/hgT9qr/oTf/KhZf8Ax+gD44yPSjI9K+x/+GBP2qv+hN/8qFl/8fo/4YE/aq/6E3/yoWX/AMfoA+OMj0oyPSvsf/hgT9qr/oTf/KhZf/H6P+GBP2qv+hN/8qFl/wDH6APjjI9KMj0r7H/4YE/aq/6E3/yoWX/x+j/hgT9qr/oTf/KhZf8Ax+gD44yPSjI9K+x/+GBP2qv+hN/8qFl/8fo/4YE/aq/6E3/yoWX/AMfoA+OMj0oyPSvsf/hgT9qr/oTf/KhZf/H6P+GBP2qv+hN/8qFl/wDH6APjjI9KMj0r7H/4YE/aq/6E3/yoWX/x+j/hgT9qr/oTf/KhZf8Ax+gD463CNw6nBfO1evTrzUfMahVXG/7rZ6Y68V9iz/sG/tUQxyXEvg3ZtG4v9vszgDrx53pXx9Mhikkt5bfYVbaV352lTzyOtADKKKKAP//Q/N+rmnf8hC2/67R/+hCqdXNO/wCQhbf9do//AEIUAf2Cad/yD7b/AK4x/wDoIq5VPTv+Qfbf9cY//QRVygAooooAKKKKACiiigAooooAKKKKACiiigAooooAKKKKACiiigAooooAKKKKACiiigAooooAKKKKACiiigAooooAKKKKACiiigAooooAKKKKACiiigAooooAKKKKACiiigAooooAKKKKACiiigAooooAKKKKACiiigAooooAKKKKACiiigAooooAKKKKACiiigAooooAKKKKACiiigAooooAKKKKACiiigAooooAKKKKACiiigAooooAKKKKACiiigAooooAKKKKACiiigAooooAKKKKACiiigAooooAKKKKACiiigAooooAKKKKACiiigAooooAKKKKACiiigAooooAKKKKACiiigAooooAKKKKACiiigAooooAKKKKACiiigAooooAKKKKACiiigAooooAKKKKACiiigAooooAKKKKACiiigAooooAKKKKACiiigAooooAKKKKACiiigAooooAKKKKACiiigAooooAKKKKACiiigAooooAKKKKAKeo/wDIPuf+uMn/AKCa/j71H/kIXP8A12k/9CNf2Caj/wAg+5/64yf+gmv4+9R/5CFz/wBdpP8A0I0AU6KKKAP/0fzfq5p3/IQtv+u0f/oQqnVzTv8AkIW3/XaP/wBCFAH9gmnf8g+2/wCuMf8A6CKuVT07/kH23/XGP/0EVcoAKKKKACiiigAooooAKKKKACiiigAooooAKKKKACiiigAooooAKKKKACiiigAooooAKKKKACiiigAooooAKKKKACiiigAooooAKKKKACiiigAooooAKKKKACiiigAooooAKKKKACiiigAooooAKKKKACiiigAooooAKKKKAI15Ykrg/XNIquAdzZ9OK8J+Lf7QPgv4QADxPLtJ9pD/AHf7iP8A3xXgf/Dwb4KHB+08f7txx/5AoA+9RgfLTTvHTmvgZP8AgoZ8EpJMLdAkf7Nx/wDGK0LH9vn4PX90IY7jqcD5Z/8A4xQB91Yf+9+lADfx1w3g/wAd6L44s/tOmtwQCOG7k+qr6V3WDtx3oAdRRRQAxckfP1o5PIOBQOXb2xWHr5vH0qU2H3yOOnXI9aANoNGxKgjj39aUFSPk718N+Ch8bD4kuF1YN9mVl6+R02t6c+lfamltN9gh+0nEpBz+Z9KANSiiigBuG7HA+lNZlQgcZPvSHbufd04r5e+PJ+JwvLVfAoJDFs48r0T/AJ6fjQB9Sg5GabjGS9eM/Ch/GJsQfFYIfHfZ/tf3Pwr2bOFyvIoAfRRRQAUUUUAFFFFABRRRQAUUUUAFFFFABRRRQAUUUUAFFFFAERdSoywXPrTtyscjnb/WvzT/AG0/jd4s+GHiDTLbQ2KRztIDjZ2WH+8jf3jX1R8CvGWr+KvD0N1fcySLk/d/vP6AelAH0PRRRQAUUUUAFFFFABRRRQBC22Pazfw55+tBaNGLFgpb19qcxCoWf8a/LL9ub4++Nfhb4p0nTfDrFY7h5AcbOdqwH+JG/vHvQB+pZ2NuB6Nj9KTdmRlYgqcYGa8P+HPiXWPE3gGK+PN1JHkfd6729gOgrw6yX4z/APCSLI+77KzHH+o6bfzoA+5D93I5pxAJGevasvSfP+woZ+uPb1rUYKfvUAJlc88GmFkwd7hh/n0rifiNqt5pHgvUtRtBtngRCvTu4HfI6V+Yv7In7RXjX4ieONT0vXXLQW7oAPk7rKf4UU/wigD9dQc0tVrZy8YJqZSdxoAfRRQeKAI/mcAg7T+dDOAQpHB6mvA/iF+0J4J+G+qQ6br8gjnuCQo/eHoFP8KMP4hXtOj6vba1psGpW3MM4JU89jjuAetAGkTtZA3v3oL8MVIOMdK8c+KR8ZGyZfDQPmAcfc9V/vfjXnXwE/4WULy5PjLPlArjPlekn9z8KAPq2iiigAooooAKKKKACiiigCNmK8mjK/fJwKdnJYHoMV8+fHTxhqPhTw1LdWDbSqk9v7yeoPrQB9ALhhtLhz3xSs2HVB3zX5nfsVfHDxT8TvEOoWetuWSBkHOzusx/hRf7or9MCN2Hj6j9aAJaKKKACiiigAooooAKKKKACiiigAooooAKKKKACiiigAooooAKKKKACiiigAooooAKKKKACiiigAooooAKKKKACiiigAooooAKKKKACiiigAooooAKKKKACiiigAooooAKKKKACiiigAooooAp6j/yD7n/AK4yf+gmv4+9R/5CFz/12k/9CNf2Caj/AMg+5/64yf8AoJr+PvUf+Qhc/wDXaT/0I0AU6KKKAP/S/N+rmnf8hC2/67R/+hCqdXNO/wCQhbf9do//AEIUAf2Cad/yD7b/AK4x/wDoIq5VPTv+Qfbf9cY//QRVygAooooAKKKKACiiigAooooAKKKKACiiigAooooAKKKKACiiigAooooAKKKKACiiigAooooAKKKKACiiigAooooAKKKKACiiigAooooAKKKKACiiigAooooAKKKKACiiigAooooAKKKKACiiigAooooAKKKKACiiigAooooA8C+Lf7Pvgr4xIo8Sw7tv+1IP7v8AckX+4K+VvHf7Bnwa0nwnqN/awbTGin70/wDeA7zV+kbFuq81wHxSUP4E1RDxlF/9DWgD+dH9nX4AeDPF/ju80vUYjtjdR9+Tukh7SD0r9TJ/2OfgR4MsIda1GHmMFj81z647Sn19K+Lv2TGeT4l6tOD0kjxx/sSiv0v/AGiG8v4f3ABwVj6/8DSgDn/h98f/AIM+H7a407RZhst9oI/f/wC0f4kPvXW6L+178NPEF9/Z1lL+8Bx0l75PeIelfiV+yr4G1v4h+O9SijVvspdARkH+CX/aU9Vr9kvBf7IPgHQIYNRkT/SmyTzL1BI/56kd6APafGnx28H+BbCK+1mXarAno/qB/Ch/vCvCT+3p8GvPa2+1YOR/BP8A/Ga3/iz8B7Xx6kFrdJ+4XII3EcfJ/tqf4a8l1b9hP4YjSGu4rcfaAuc+ZL1zj/nvigD62+Hnxx8I/EYZ0SUbB/v853f3kX+6a9b1C/g06ykv7g/uohkn6nHbNfgDb6r4i+APju30eKUrayyEYyvQLn/bPV/Wv2tvtUOq/Cye+B3GSJT6fx4oAwtB/aF8C65qTabbTL5ynHAf0J/55j0r0DxF8QtC8LaeL6/kAixkHDeoHZT61+JPwXcyfEm+ByTHKnGfVHr72/aea4HgYBVxiM85/wBqOgD1aL9rL4YyNJtuwfs/3vll/i/7Z1xth+3H8I7y7GmLPtYnH3Z/r/zxr8lv2S/hxqvxJ8UajHfxs1uzRg/MP7svoyn+GvtH4wfsY+HfDWgPruiwFbiFdxIZ+OVH8UpHc9qAP1C8KeNdI8Y2S3ulyBs9MZ9SO4HpXI/EL4weFfh1cRWuuEBpc4zv7bT/AAo394V+c3/BP74o6rr+r3+g6m5ItiijOO4nPZR6etan7fcobVNPmgY9Xz27QUAfpH4Z+IGj+JrQXtgwMYBJxn39VHpXmfij9pPwJ4RultdSkCyEkc+Z2x6Rn1rxL9mkuPCMw3bgEXP4tJX5a/tcS6pc+PraxsWYbpGBxj+5Ee9AH7Ca/wDtnfCvQVj+23AAlzj5Zj0x6RH1rrPAH7TXgH4ju0ejSh8Yx/rB13f3o1/u18efDn9kLR/GfhC0u/EUBkm2MQSzDqzf3ZR2Ar43+J2h6l+zX4/02w0NjBDdyOMcH7iKf4jIf+WhoA/oUhuElhFxGMCTvn0rxT4jfH7wV8Nzt1ycfk/+z/dRv7wqva+N1g+FcWsvJ+9WEt0/28elfjx4XfW/2mfGV3p04aWKKQDqBwVJ7eWf+WdAH6W6f+298ItVMixXWdxH8E3b/tiPSvQ7L9p74fajdx2ltcBjJ04k9M94xXyV4s/Yt8KeHPCE2paHaETogOfMfruA/imI7mvzI+HkfiK0+JaWmpbkhjkwASp/gb0560Af06WF2moWSXKdHGR+dXSMt9K4/wAESZ8J2Mh6lD/6Ea6/ozH6UAZeqalZ6TaPcXJwkQyevc/SvlHxL+2h8KvDV21tqE+HiOD8s3cD0iPrX0r4s0mbVtMntcZEgA/Ij3FfCtt+xh4N8T6lcXfiGMNvIPLuO3+zMPQUAen+Hf21vhT4luY7XTrgGSU4HyzDpn+9CPSvrHR9ZttctUu7JwUYZ/n6gelfjp8eP2VtH+F8UeteC49vkbjw7d9g/jlb+8e1e4/sO/FnWfG8lzourN/x67QBlT184/wqP7tAH2n8Q/jF4U+G8qR6/IEeTPXf22/3Vb+8K8x1T9rv4YaTCJbu4AjIzwJT6ekR9a+NP+CjJn861WyJM/z4AOO1v68V4p+yt8Ebr4pwyHxlCXgXbjLevmf3HU/wigD9G/DP7avwl8R3402xuAHzhcrN6E/xQj0r6v0fV7fWbFby1fesgyvboSP6V+Kv7RX7NGjfC25tNW8JwmIgsThnPTyx/HI39419dfsmfFS/8R6JJDeN8tioB6H7xl9FHpQB9neLvHuh+DLWW91SQKowTnd2wOyn1r5im/bk+EsOorYPcbXUkfdmPUZ/5418T/tc/EvXfE/i200HQWJt5mdWAK9liP8AEoPUHvXsHgf9ijwhrHhuLXtYiP2uRS2d0nXJH8M2OmO1AHzv+3J8TNC8ea/oU+jkMA03du4g/vKvpX6R/svssvhe3PQlR/6FJX4eftSeBvEHw+8caXYSZMSvJjO3ptiPqx/ir9v/ANltxL4Oss8OUP8A6FJQB9cgDJb1rmPEfifTPDFk1/fHCqMnr6gdgfWukzsZEHfP6V5n8VtAtdc8IXyP1CDHXuy+49KAMT4afHDwl8Tryex0KQGW2Kgj5/4tx/iRf7pr2OWZbZPMlb5BnJxX4Vfs06zdfCr4iajHqEhCXUiAA/7KSegb+9X7JeJNchtvAtzqCSZbywwOMZ+ce1AHD+J/2hfA/hbVRpV7OPtExwBh+wB7IR0Nem3/AI20mx0sazLJ+4I3Dg+oHpmvxL8DxyfG34kzz3GSbOQYGf7yMO2z+5X63694KutQ8M22ihPl2kdR6g+tAHlOtftvfCjRLs2t1c4IOPuzeg9IT61s+E/2wvhl4tv1srK5GXOBlZR2J7xD0ryVP2IPh7r0s13rUYD5B+/J34/hmHoK+P8A4/8AwDg+DWrWt74JTK5Y8P6CMf8ALSR/7xoA/cKzvYr+yW8tSGEnI/A471+J/wDwU1ct458Or2R5/wBUtq+4P2TPiZqPjOw+xXjbvIAHbv5voo/u18Pf8FMwG8deH/d5v/QLagD9L/gXeRab8PbO9n/1SR5P/fbDtV22/aE8CXGqf2bEy+cpx/Hxxn/nniuT+GqhPg4kbHgQ/wDtRq/L7w9LL/wsifynJxIvH/ADQB+8H9pWxsDfqw8vGf1xXzR41/az+HPgid7bV7kRunB+WVvT+7G3rXIfGr4kyeDfAUdvG/lXMifKOv8AGn+yR0Nfnv8AAn4N3vx28RXt34ziM1sWTHzbequP4HQ9UFAH3xr37VXw48feBNXg0ecEGNMcSj+P/ajX+7X52f8ABPe5S8+Imuz2p5MkOP8Avi4z1r2f4+fs1QfDTwrdHwNAVjCjdhif4k/56SN/eNfP/wDwTdjlj8Zait18kivHu7/w3HpQB+7eueMtK8L6et5fnaiAk9fUDsD618w6x+3J8I9JuZLK9nwyEAjbP7HtCa9i+JHgu58V2aWw5hYHPQf3fcHtXzLH+w98OtbaW61OIGVsE/PIP5TD0oA9h8G/tb/DXxrcrBpV0A0nAysvbP8AeiX0r6K1LWLWDQ21NW3R7cg89M49K/Dv4+/Bw/A7xFY3HhJdke584fPRY/77v/fNfo3+z942b4geDP7K1M/OqAHv1Zz2C/3fWgD8ff23vjf4W8SfEjTX024INnJJv4k/iSH1Qehr9LPhN+3H8I4fDelaIbj/AElVZW+WfrliP+WOP1r80f23vgn4T8NfEjTU02DLXskm/wCZ/wCFIfVz61+lvwl/Yd+EU/hvStc8j/SGVmb5p+uWA/5bY/SgD7AuvjP4Sg05NVlkAjwTyH7nH9ypPh98YvCnxEmmh0KVS0W3OA3fd/eRf7pr5Z/aO8K2HhTwv9hsUIAUgcns0Z7k+teI/sD3ElrfatOwLbTF1PtPQB+pviHxTpPhq0e81GQJGoyc59h2B9a+UtW/bg+E2k3UllNcgSREA/LMevP/ADxr5H/bQ+MOvtr2n6H4bcmC5aRWA2/wiE/xLnrmuu+HH7F3hXxfoK614iiJuJ13E7pOoLD+GUDsKAPtjwD+0X4J+IhYaLMJM4wPnH97+9Gv92vcbvUYLKyl1KQYVQCTnPfFfg78WvDWv/s3+KrGPQd0FtK755DcBU/vGQ9ZDX6reG/HaeLPhQ5kk33Bi54x/wAtD7AdBQBMn7Ufw5FxcWwuAPsuA3Ev8X/bOuF1H9uH4R6bcCGe6w2cfcn9v+mNfie9h4l1b4k3drZBvs88qggMvZPcg9a/UGP9i/wRqvgo6pf2pN0qBid8nUtjtMB2oA+1/h18cPCPxOQtokgYrj++Ou7+8i/3a9qVhIgda/AX4X6zrvwc8dHRbZz5TOBzjoEY9w/9+v3Y8KX76joFndS/fmVj+TGgDpH+6a+U/wBpv/kVLz/dH/oUdfVj/dNfKf7Tf/IqXn+6P/Qo6APhL/gnCxfxRrbpxuaH9FuK/XjXvENl4fs2vL5wNgzz9R6A+tfkJ/wTmmFv4k157ngRtD79VuPSuw/be+M2s6PrNr4d0GQ4uiykDb2ELfxKfU96APp/Xv22fhPolz9mursLIpx9yY+npCfWu88C/tLeAfiAyxaVOJC3QYkX19Y1/u18P/C39jjRfHOkNr3iy1LySBWGZGGclh/BKPQdq8H+Nnw/1j9nrxbZyeEA0Nu7NxkHgKn99nP8ZoA/dn7fF9kW9I+Xnv05xXgXj79pbwF8PGcazcDjHGJDj7v92Nv71cX4H+KB1/4T3U/mbriGJe3cyN/sj0r8rfh6bL4yePtT0/xqS8EUkYGSR1Rj/Bs/uCgD9MtO/bw+D2oXC2aXWXbj7k/1/wCeNfT3gr4i6N44t/tWky7o+vQ+47qPSvjbTP2HvhDLFDqNlABLgkfvJvp3mr6B8F+AY/h3oN2dPXCRqNvOe7erN/eoA6T4jfGzwp8NYt+tyhQOv3v9n+6jf3hXz8f2+Pg4J/JNx83+7P8A/GK+CPi9r83jjxjFpeuyHyHdgR04Cqf4Qp7CvrLwr+xT8Hde0GDUEjBndST8845yR/z2A7UAfY/wz+Nfhb4phm8Oz7guONr99395F/umvZCBj5ucV8z/AAQ+COk/CwsdIi+U/wC03bf/AHnb+9X0zjI54JoAfRRRQAUUUUAFFFFABRRRQAUUUUAFFFFABRRRQAUUUUAFFFFABRRRQAUUUUAFFFFABRRRQAUUUUAFFFFABRRRQAUUUUAFFFFABRRRQAUUUUAFFFFABRRRQBT1H/kH3P8A1xk/9BNfx96j/wAhC5/67Sf+hGv7BNR/5B9z/wBcZP8A0E1/H3qP/IQuf+u0n/oRoAp0UUUAf//T/N+rmnf8hC2/67R/+hCqdXNO/wCQhbf9do//AEIUAf2Cad/yD7b/AK4x/wDoIq5VPTv+Qfbf9cY//QRVygAooooAKKKKACiiigAooooAKKKKACiiigAooooAKKKKACiiigAooooAKKKKACiiigAooooAKKKKACiiigAooooAKKKKACiiigAooooAKKKKACiiigAooooAKKKKACiiigAooooAKKKKACiiigAooooAKKKKACiiigAooooAQdTXAfFD/kR9U/65r/6EK78dTXAfE8Z8D6pj+4v/AKEKAPxH/ZK/5KRq3/XWP/0CWv01/aF/5Eeb/rn/AOzJX5mfslo4+JGrZU/62Pt/sS1+mn7QgJ8ETYH/ACz/APZkoA+Gv+CbmmxR+KdZlIGd8X/oNx71+zd3cR2kLXMvCoM1+OH/AATjSX/hLNcVgVAeHqP9m4r9evE1tJeaPNHEcMV4/MUAfnV+0h+0vqOmXI0zwfL+/JIAwOo8s/xxketfKtxrv7XviG3W+0nf5Dgkf8ef0/iA9K5b476FqPgzx5Bq2uoVt0die/8AAg/hJPcdq+x9A/bI+Ga+E7fRtNkC3KIyn5JTyWJ7w4/WgD8evibc/F2L4j6PJ8Qid/mScHyf7if88vwr+kXRisvwOhlHUwH/ANGmv54v2gPEfifxV8UtIvL5T5RlkIwF6GOMdgPSv6HNF2yfAyHdx+4PH/bU0AfkZ8FP+SmXn/XVf/QHr77/AGk+fA8f+43/AKFHXwN8FUYfEy8ODjzV7f7D199ftJAnwPEAM/If/Qo6APAP+CedikOt6qcD70X8p6/Sr4vxeZ8P9Y/65p/6GtfnF/wT8jkGtapuBHMXX6T1+kfxZ/5EHWOM/u0/9DWgD8WP+Cfj+V8SNfH/AE1h/wDQJ6+gv29m3anpf1k/lBXzz+wLG/8AwsnXcqQPNi/9Anr6G/b1jZdR0sgE8ydPpBQB7h+zUceDpB/sD/0KSvz9+Pdkk/xNsiRn943/AKBHX6B/s1oT4PkyCPkH/oUlfBHx0ilHxLsyFOBI3b/YSgD9ufhqgTwXpoA/gb/0I1+Of/BS6Pb488PkcfPN/wCgW1fsf8OjjwdpoP8Acb/0I1+PP/BTJHPjnw+VUn55ugz/AA21AH1jPPfP8E40UnasJ44/56V8p/8ABN7yW8ba7uxG5eHrz/DcV96eA/Do8Q/B+LTyMzSQkAf9tCfUDoK/L3wuNb/Zs8dX17qW6K3ndDwAeFQ/3fMP/LSgD91/Gm0eGbslRtCjIz/tCvwSv2tW+KX+i4RvN7c/8s6+0vFX7aXg3xH4Un0zRrotdOgA+SQc7gf4ogOgNfmP8OZvEOpfEhdU1Yk28kuV+7z8jDtz1xQB/St4G/5Fax/3W/8AQjXU/wAS/jXLeBv+RWsf91v/AEI11P8AEv40AeQfFT4kad4E0m4nu2EchAx1PQr6Kf71fkvqnxt+OXxB1W5g+HcrPGhGMC3HUf8ATRF/umvuD9rvwhqviHRzcWBLoAc4wO8Q7kelfn7+zR8afBvwd1a/t/FzeU6FOqyN1En9xH/vCgDgfiZL+1tLotw+uyMbYKN2RZ+q/wB3nrXp/wDwSuur6TW9WTVDm63Rbunpc+nHSu6/aH/aJtPiR4fuk8CHMBUZwp9U/wCekanqprgf+CWH2g+IdXe9BExaLOfpc+nFAHu//BQJd2racnvJ/KCve/2P7BINIV8AZA4/GWvB/wBv9WbWdOKgnmToPaCvoL9kfe2ioDkcDt7y0ASftawr/ZLz9eD/ADjFfKH7Fcjmz1zb1Ii/nNX1n+1mrf2EyAZ4P846+Y/2DrX7Td6xaSKQCYuv/bc+1AHgOpED4mKuotndLwSPRB6V+43gtBF4btFLAxBTjjHc/wBa/Hn9rz4YeIfC3iK11/QIiIVdmYjae0Q/iYnua9m8Eftq+E9I8OJ4d1icrexLt+655JLfwwkdMd6APFf+Ck4tH8YaLIjDfvl6D/Zt6/QD9lw58JWcnoh/9Ckr8Qf2pfG2tfEPxzpN2xZog8p6DoVi9l/u1+3v7LCmLwlbCTjCf+zSUAfW4JaPPrVHU7MX1o0XqCMVfJA+UU4DFAH4Yftf6Be/Drx3pl7YriKWSQkjA6LCPVv71fSnxN+OFrZ/D2z0eCX99cxsCPo6nunv613n7Y/w3PirTRqapk2YZgf94xf7Q9K/DS58b+IfGPj200KJn2W0hXGB3QH+6P7tAH6y/sI/DttN1bUNXvV+Wdo2UnnoJweje9fZnx2+MOl/DPTHWT5ZWHyjJ7FP9lv71b/wJ8GW3h/wjYTouHdGLdf7z+59a+OP28fBGveIZrO90zJiTeWxt/6Y+pHpQB823XxX/aM8eXsjeCJGCk8YFt6f9NFX+6a+ffi+P2nogjeM5GaPnqLQf3f7n4V9P/s9/tHfD74ZRPp3iM4uOACVl6jzD/DGw/iFct+1B8bZfiVbovg47kIOMLj/AJ5/30X+6aAPZ/8AgnLdXUst0Lz7/wAn/tx6V5r/AMFMd58c+Hyem+bH/fFtXov/AATh+0edd/a1KyfJ/wC3HpXn/wDwUxSRvHOgYBI3zdB/sW1AH6F/DT/kkcX/AFxP/oxq/L/w7/yUmT/rr/7Ia/UD4agj4Rxf9cT/AOjGr8wfDqP/AMLJkO0/630/2DQB9DftgG4/szQzbMSmJt3HvDXs37Gq2CWrG2A3MF3cn/pr611Xxq+GknjLwLBdxQ4mSNtvOf4kH94D+Gvz4+AXxkm+BGvXdn43laOEMu3K57SH/lmjn+MUAfrf8dzZf8IHqSXhBby1wSP9tPSvx2/4J+sh+ImvvKMgSQ4HT+Cf0r2/49ftLx/Erwxcw+BiWj2jcQCP4k/56Rr/AHTXz1/wTba5n8X6tNdKfM3xbgRj+G4oA/Vf4/fHGx+GGmJbSy+Xc3AOzgn7pQ/3GHRq/OSf4jftN+Obqa68IM0tupGzH2Udf99QeoNevft/eBtc1+40vULFC0Ft5pcggfe8gdyD2rm/gL+038Ofh5p7adqkoinQKGBjlbnLntGw/ioA+MfjHJ+0a15byeOyxUFuv2b0T/nn+Ffo1+wZe3ktlPHffMwC+g/57elfJ/7VfxhvfiXeQP4WXdB82SFA7Rf30U/wmvq79gJbpLKdJgfO+XORjvP+HSgD5i/4KBbYviPoJkO4mSXBxj+CD0r9nfhCqD4c6QjnIMb/APobV+U//BQvwRqV14q0vX4oSLe3aRmIIPVbcf3s9R6V7v8AB/8AbS+HGl6NYeG76b/SIAVIKy9WLHtDjp70AesftYk/2NIf9k/zjr5O/YccbNcV16+V/wC16+iP2j/FOn+LfDBurDoVJ7/3o/UD0rxL9gW3ae91e2lTqYuvH/PegD56+MGxPiRZyXh3FpXwT7Ilftz8PPKHg3TVUAqUfp/vGvyt/bQ+EPiOHxFaa74cgIghZ2Ygr3WEfxNnrntXYfDb9s/wx4P8PR6N4llK3NspUgh+pZj/AAwkdCO9ADv2+Tp7anYRTAM6F8de4g9K7n4BNOfh7qMtwp2iNNuT/tyV8W/FzxRrv7RHiyxfw2Ge3R33cDoVTH3wh/5Zmv1U8NeB18J/CeVJExOIhuH/AG0P+0R3oA/KH4OWi3HxPvXIB/er/wCgPX7hxQr/AMIWiY6If/Qq/En4KrJF8TL35SMyr2/2Hr9uEz/whyf7h/8AQqAPxG+NmIfiTZ4/56t/6Alft38Ovm8IWH+4f/QjX4h/HNXb4l2QCn/Wt2/2Er9vfh2Nvg/Tz/sH/wBCNAHbD7x/CvlL9pz/AJFW8/3R/wChR19Wj7x/CvlP9psE+FbwD+6P/Qo6APz8/wCCfbA6p4jjTgEwY79rivO/2pyo+J2km/QnbJJjJ9Y4vSvV/wDgnVEk/iXWradSrBouuf7twa6/9t34M61rWs2HiDw/GcQGRiRt9IR/Ew9D2oA/Sz4YfZ5PBGmiMABUbge7GvhL9t8WhltvtIBb5tvPtD6V5/8ACr9sjQPBekR+H/FkxWaAFeVY92b+CIjuO9eA/Gv4g6p+0F4ms5PBsjPbqzZAUdCqf89FQ/wGgD67/ZD0+XWNIvrO9Um3uAgx9DL6Y71558Tf2aPE/hjVLjU/hxb4nlIOQU7BR/y0kI7ntX2L8KfBp+HPgT7fjbIqAn/vth6t/erw8ftqeFvC+s3Nr4nm2LEVHKO3Uf7MJ9RQB8g2njz9o/4b3scnigvFbKTuz9mPGP8AZVj/ABCv0e/Z8+NGlfF/SZdOEnmXCAB+COpc/wB1R0SvjL45/tL/AA3+KVqLHQpBLPcAhQElXpsP8Uaj+E1v/sKeAfEPgYarrF/GVhl8tkyV7eeOzE/xelAHon7QP7N13qd5/aXhiL/SicggjrhB/FJjpmvlGW5/ac8AECfeNPtv+vXgH/vo9TX2xr37V+i+BtWePX2zGpxkhj2H92I+orzj4j/tlfCXxf4cl0SxkH2m4UgfJN1DA94QOg9aAO9/Ze/aNk8ctLpmr3O+a32gjaBy3mH+GNR/DX6AQTLcxLcQ9JO/0471+H/7Fvw611vF97q0UTCGR1IyR02zDu1ftvp8DwW9vG42lQ2R9aANSiiigAooooAKKKKACiiigAooooAKKKKACiiigAooooAKKKKACiiigAooooAKKKKACiiigAooooAKKKKACiiigAooooAKKKKACiiigAooooAKKKKACiiigCnqP/IPuf8ArjJ/6Ca/j71H/kIXP/XaT/0I1/YJqP8AyD7n/rjJ/wCgmv4+9R/5CFz/ANdpP/QjQBTooooA/9T836uad/yELb/rtH/6EKp1c07/AJCFt/12j/8AQhQB/YJp3/IPtv8ArjH/AOgirlU9O/5B9t/1xj/9BFXKACiiigAooooAKKKKACiiigAooooAKKKKACiiigAooooAKKKKACiiigAooooAKKKKACiiigAooooAKKKKACiiigAooooAKKKKACiiigAooooAKKKKACiiigAooooAKKKKACiiigAooooAKKKKACiiigAooooAKKKKACiiigBo+834Vl6jp8Wr6dJYzj5ZBg/n+FaXH+spc5HyUAeBeDf2efA/g3Um1XRogjucn/WdcEfxOfU16X4g8F6P4l05tM1BMqwx/F6g9iPSux+Y/LjA+uaNy43AZNAHjXw2+CHhT4ZXUl1oEYQyHJA3/wC1/edv7xr2J0V0KT8qe3/6qkXheRj9abvGzzOooA8S+IvwH8G/EgFdegDA+7/7P911/uivE9N/YV+Eul3H2i1gwc5+9N/WavtpW+TIOfwxTiflz0oA+VNZ/ZI+GetXVrc3dspltixU5l749JR2FfRNv4a0230VPDyx5tUUqBk9Cc+uevvW+x+Vip9KaoWMCNT8xzjj0oA8E0b9njwNouoDULGILJkn/lp3B9XPrXofib4eaN4osRYX4BjUYHX1B7MPSu63ZH7wbfxzR86HjkUAeRfD74PeGPh1I93oSBWfGcbu24fxM39416ZrGmW2r6dJp17ykwwevYg9iK08nJ3DA7UgX5dpOTQB4B8P/wBnfwT8PNSn1XQoQJJyCfv9gw/idv7xrpPH/wAHfCvxFlt59cgDGDdjJf8Ai2/3WX+6K9a4OGVsAe1GN/IbIb29KAOD8LfDzRPC1i1hYxbYyMdW9Se7H1rz7Xf2d/AmuagdRvoA0uQc5k7ADs49K9+2uTkPx9KUMCCU5NAFCw06HTrKPT7U7Y4hgD6nPc1478TvgJ4Q+KV9Ff8AiBAzwkkZ39wo/hdf7or3HJJKjgikJ2DcvIoA5fRvDumeGtKFjaL+7iGO/qT3J9a8M+IHwq+G3xNm26sq+YvXJkHXb6Mv92vpC/Vns5fJ5ZgMfn71+YPx58K/HeC7kn8CK2CeMG3/ANj/AJ6H60AdR42/Za+Cnw+8P3mrxwr5pVSDvnPRgP8Ano3970r4P+DOn2njP4gPDo4/c2jjHB/iR/72P7tdYvgn9rPxe66f4iV2tG4fJtBx1/hIPUCvvH9mH9nOz+HKyX2oW+b2baWyT1HmekjDo1AH2p4YtTbaBbW5GCqn/wBCNdEeM1HGqwKkK9OcU/u34UAY+s6HZa7ZPY30e5HGOp9QexHpXyX4g/Yj+FHiC+a/vYBvY5ODMOwHaYelfZQ+bgNn8Kdhu5zQB8o+H/2SPhl4fspbXTbcCKYAHJlPQn+9KfWu3+Fv7P8A4J+Et5Ld+G4Aks5BYgv2Df3nb++a92XOSxPHYUh3FSqtg+uKAPJ/iD8H/C3xEmS41tAzp0J3/wCz/dZf7oro/CXgPRvBkCW+lptVf9739WPrXbqAGPrTVZyD5i7fxzQBxPi3wHpHjGKS31RdyNj19vRh6Vzvw9+D3hn4dSST6IgVnxnG7tu/vM39416zyMFBkUGNOR60AcL4v8BaR42t2tdYhDRt6k+390j0r5mm/YZ+EUt8b+W3y5OfvT+mP+e1fai5CZc5Priky4Gev6UAfKV/+yF8MtQeKWW3G+Hocy+3/TX2r6C8OeEdM8KWkVppseI4gQOT3z6k+tdWwQNlup6Ui7lYKTkHpxQBLRRRQBzfiDw1p/iWwk07UYwYpBg8n1B7EHtXzFpP7Gnws0bX28QR2ymZiGPMvUKV/wCep9fSvrwjPyhv0pR8gCjk0AUdPsrfTIUs4BhFGB1+tYPifwfpfii2+x3qgqQQc5PXB7EeldYxfZwPmpV3FPnHNAHxLqP7DPwg1e4+0yW4DZz96f8A+PD0rr9J/ZF+GekwC3t4BtHHWX39ZT619V/MSMjFG5SMA4oA8g+HfwY8KfDR5pNChCmXbnBftu/vO3941m/E/wCA3g74p3trd+IIQ7W5Y8l++3+66/3RXuCkl2XP3cfrQNrDBOd39KAOV0zwhpemaR/ZCL+6Khe/QHPrXlVv+zx4Gt9VbVliHmsQf+WnYY/v4r6Bz/d5oOR0XP40AZY0u2SwNgwzGRjv2OfWvmjxp+yZ8N/HE7XWqRDe3X/Wj0H8Mq+lfVSlVOzPNG592NvHrmgD5P8ADn7IXw08NWctnp0A8qYAMCZT0J9ZT611Xw2/Zx8CfC2+lvPDsASWYgsQZOwb+9Iw/iNfQoDsTuOB6U1chdgOG9cUAcZ4t8B6H4ws2stVhDIwwclvUHsw9K+Wr79hP4PX1417PbfMxyfmnHT6TV9tjKD52z+GKd06UAfKNl+yJ8NLGLyoYBj3Mp/nLXrngX4T+HPADGTRowG9i3+1/eY/3jXqOM9DxTRt6IcGgDzbx18LfDfxAjaPXYg6t6lv9n+6y/3RXzdB+wp8I4dSOpLb4ckH70/YY/57V9shg3CN09qdgsMEYoA8fufgz4Tm0hdIuE3RgYB+f1z/AH8/rUnw9+Dnhf4czS3GhRhWkxnG/tu/vM394162cpuYDPTFJuZtpA65zQBzHibwjpPiazazv4gytweT6g9iPSvlfV/2IPhHrN217e2w3sc/en9h2mHpX2kMgfMc0DdnkUAfPHw//Zw8DfDw50OMKR3/AHh/vf3pG/vGvcbvTIbrTWsJxlSMfmfY1okKU8wcVJtIbNAHgGh/s6+CtB1M6nZxgSE5/j9CO8h9a9xWwt/sf2JfuAY79zn1q0zExbov88+9SfKuM8GgD5/1z9nfwVr99HqdxGPNjJIPz98D++PSvctNsItKs4dPtv8AVxAgfjz3zV07W++OlO3L1oAR9wX5etcp4o8H6Z4us/s2oLwQQep7j0I9K6pAhHydKVsnKgUAeL/Dj4I+EvhldS3ugoFaQgnG/tuH8Tt/eNej+IPDdh4itWs79QyyDHIPbB7Eelb5bDHeMDtTuAMdTQB8Ya9+xD8Itduzd3ttznP3px6ekw9K7/wL+zH8PfAcqy6LbhQPeQ+v96RvU19I5OcYzSnnjPNAGNeaPbX2nNp0gzEwwe3fPr/WvlDxJ+xR8KPFF++oaja7pHOT88w7AdpgO1fYgHyjyun+fWnHceA3P0oA+K9E/Yc+EOjXqX9lb4ZDkfNOexHeY19R6L4L0fQ7EWFhEFjUY6n39SfWux+btxQQ3QNj8KAPl/xt+yj8OPHE5uNWhznqMy+392VfSvO7H9gr4OWVx9pt7fBByPmn/rPX3Hnb8i8mlDH+LigDzbwP8MvDvgCLytKQL6H5u2fVm/vV6RtG7fSgsByP1pcbh8woAdRRRQAUUUUAFFFFABRRRQAUUUUAFFFFABRRRQAUUUUAFFFFABRRRQAUUUUAFFFFABRRRQAUUUUAFFFFABRRRQAUUUUAFFFFABRRRQAUUUUAFFFFABRRRQBT1H/kH3P/AFxk/wDQTX8feo/8hC5/67Sf+hGv7BNR/wCQfc/9cZP/AEE1/H3qP/IQuf8ArtJ/6EaAKdFFFAH/1fzfq5p3/IQtv+u0f/oQqnVzTv8AkIW3/XaP/wBCFAH9gmnf8g+2/wCuMf8A6CKuVT07/kH23/XGP/0EVcoAKKKKACiiigAooooAKKKKACiiigAooooAKKKKACiiigAooooAgcMA7euMVR1jUYdIsJtQl4VACfzA9DWiwLLtPeuG+Jm0+C9SOeVRf1YUAfNt3+2t8J7bULnTLi7BeIqMBZu4z2h/rTj+2x8KtxHn5X/dm/8AjNfnx+yv8A/B3xM8b64+voXMbxY+aTusv92Rf7or9BB+xR8KXUnyOO3zTf8Ax6gB/wDw218J/wDnv/47N/8AGqP+G2vhP/z3/wDHZv8A41R/wxL8J/8Anh/49N/8do/4Yl+E/wDzw/8AHpv/AI7QAf8ADbXwn/57/wDjs3/xqj/htr4T/wDPf/x2b/41R/wxL8J/+eH/AI9N/wDHaP8AhiX4T/8APD/x6b/47QAf8NtfCf8A57/+Ozf/ABqj/htr4T/89/8Ax2b/AONUf8MS/Cf/AJ4f+PTf/HaP+GJfhP8A88P/AB6b/wCO0AH/AA218J/+e/8A47N/8ao/4ba+E/8Az3/8dm/+NUf8MS/Cf/nh/wCPTf8Ax2j/AIYl+E//ADw/8em/+O0AH/DbXwn/AOe//js3/wAao/4ba+E//Pf/AMdm/wDjVH/DEvwn/wCeH/j03/x2j/hiX4T/APPD/wAem/8AjtAB/wANtfCf/nv/AOOzf/GqP+G2vhP/AM9//HZv/jVH/DEvwn/54f8Aj03/AMdo/wCGJfhP/wA8P/Hpv/jtAB/w218J/wDnv/47N/8AGqP+G2vhP/z3/wDHZv8A41R/wxL8J/8Anh/49N/8do/4Yl+E/wDzw/8AHpv/AI7QAf8ADbXwn/57/wDjs3/xqj/htr4T/wDPf/x2b/41R/wxL8J/+eH/AI9N/wDHaP8AhiX4T/8APD/x6b/47QAf8NtfCf8A57/+Ozf/ABqj/htr4T/89/8Ax2b/AONUf8MS/Cf/AJ4f+PTf/HaP+GJfhP8A88P/AB6b/wCO0AH/AA218J/+e/8A47N/8ao/4ba+E/8Az3/8dm/+NUf8MS/Cf/nh/wCPTf8Ax2j/AIYl+E//ADw/8em/+O0AH/DbXwn/AOe//js3/wAao/4ba+E//Pf/AMdm/wDjVH/DEvwn/wCeH/j03/x2j/hiX4T/APPD/wAem/8AjtAB/wANtfCf/nv/AOOzf/GqP+G2vhP/AM9//HZv/jVH/DEvwn/54f8Aj03/AMdo/wCGJfhP/wA8P/Hpv/jtAB/w218J/wDnv/47N/8AGqP+G2vhP/z3/wDHZv8A41R/wxL8J/8Anh/49N/8do/4Yl+E/wDzw/8AHpv/AI7QAf8ADbXwn/57/wDjs3/xqj/htr4T/wDPf/x2b/41R/wxL8J/+eH/AI9N/wDHaP8AhiX4T/8APD/x6b/47QAf8NtfCf8A57/+Ozf/ABqj/htr4T/89/8Ax2b/AONUf8MS/Cf/AJ4f+PTf/HaP+GJfhP8A88P/AB6b/wCO0AH/AA218J/+e/8A47N/8ao/4ba+E/8Az3/8dm/+NUf8MS/Cf/nh/wCPTf8Ax2j/AIYl+E//ADw/8em/+O0AH/DbXwn/AOe//js3/wAao/4ba+E//Pf/AMdm/wDjVH/DEvwn/wCeH/j03/x2j/hiX4T/APPD/wAem/8AjtAB/wANtfCf/nv/AOOzf/GqP+G2vhP/AM9//HZv/jVH/DEvwn/54f8Aj03/AMdo/wCGJfhP/wA8P/Hpv/jtAB/w218J/wDnv/47N/8AGqP+G2vhP/z3/wDHZv8A41R/wxL8J/8Anh/49N/8do/4Yl+E/wDzw/8AHpv/AI7QAf8ADbXwn/57/wDjs3/xqj/htr4T/wDPf/x2b/41R/wxL8J/+eH/AI9N/wDHaP8AhiX4T/8APD/x6b/47QAf8NtfCf8A57/+Ozf/ABqj/htr4T/89/8Ax2b/AONUf8MS/Cf/AJ4f+PTf/HaP+GJfhP8A88P/AB6b/wCO0AH/AA218J/+e/8A47N/8ao/4ba+E/8Az3/8dm/+NUf8MS/Cf/nh/wCPTf8Ax2j/AIYl+E//ADw/8em/+O0AH/DbXwn/AOe//js3/wAao/4ba+E//Pf/AMdm/wDjVH/DEvwn/wCeH/j03/x2j/hiX4T/APPD/wAem/8AjtAB/wANtfCf/nv/AOOzf/GqP+G2vhP/AM9//HZv/jVH/DEvwn/54f8Aj03/AMdo/wCGJfhP/wA8P/Hpv/jtAB/w218J/wDnv/47N/8AGqP+G2fhP/z3/wDHZv8A41R/wxL8J/8Anh/49N/8do/4Yl+E/wDzw/8AHpv/AI7QAf8ADbXwn/57/wDjs3/xqj/htr4T/wDPf/x2b/41R/wxL8J/+eH/AI9N/wDHaP8AhiX4T/8APD/x6b/47QAf8NtfCf8A57/+Ozf/ABqj/htr4T/89/8Ax2b/AONUf8MS/Cf/AJ4f+PTf/HaP+GJfhP8A88P/AB6b/wCO0AH/AA218J/+e/8A47N/8ao/4ba+E/8Az3/8dm/+NUf8MS/Cf/nh/wCPTf8Ax2j/AIYl+E//ADw/8em/+O0AH/DbXwn/AOe//js3/wAao/4ba+E//Pf/AMdm/wDjVH/DEvwn/wCeH/j03/x2j/hiX4T/APPD/wAem/8AjtAB/wANtfCf/nv/AOOzf/GqP+G2vhP/AM9//HZv/jVH/DEvwn/54f8Aj03/AMdo/wCGJfhP/wA8P/Hpv/jtAB/w218J/wDnv/47N/8AGqaf21/hIesoP1Sb/wCM07/hiX4T/wDPD/x6b/47R/wxL8J/+eH/AI9N/wDHaAGD9tX4RjpIv/fE3/xmnD9tn4TDpNj/AIDN/wDGaX/hiX4T/wDPD/x6b/47R/wxL8J/+eH/AI9N/wDHaAD/AIba+E//AD3/APHZv/jVH/DbXwn/AOe//js3/wAao/4Yl+E//PD/AMem/wDjtH/DEvwn/wCeH/j03/x2gA/4ba+E/wDz3/8AHZv/AI1R/wANtfCf/nv/AOOzf/GqP+GJfhP/AM8P/Hpv/jtH/DEvwn/54f8Aj03/AMdoAP8Ahtr4T/8APf8A8dm/+NUf8NtfCf8A57/+Ozf/ABqj/hiX4T/88P8Ax6b/AOO0f8MS/Cf/AJ4f+PTf/HaAD/htr4T/APPf/wAdm/8AjVH/AA218J/+e/8A47N/8ao/4Yl+E/8Azw/8em/+O0f8MS/Cf/nh/wCPTf8Ax2gA/wCG2vhP/wA9/wDx2b/41R/w218J/wDnv/47N/8AGqP+GJfhP/zw/wDHpv8A47R/wxL8J/8Anh/49N/8doAP+G2vhP8A89//AB2b/wCNUf8ADbXwn/57/wDjs3/xqj/hiX4T/wDPD/x6b/47R/wxL8J/+eH/AI9N/wDHaAD/AIba+E//AD3/APHZv/jVH/DbXwn/AOe//js3/wAao/4Yl+E//PD/AMem/wDjtH/DEvwn/wCeH/j03/x2gA/4ba+E/wDz3/8AHZv/AI1R/wANtfCf/nv/AOOzf/GqP+GJfhP/AM8P/Hpv/jtH/DEvwn/54f8Aj03/AMdoAP8Ahtr4T/8APf8A8dm/+NUf8NtfCf8A57/+Ozf/ABqj/hiX4T/88P8Ax6b/AOO0f8MS/Cf/AJ4f+PTf/HaAD/htr4T/APPf/wAdm/8AjVH/AA218J/+e/8A47N/8ao/4Yl+E/8Azw/8em/+O0f8MS/Cf/nh/wCPTf8Ax2gA/wCG2vhP/wA9/wDx2b/41R/w218J/wDnv/47N/8AGqP+GJfhP/zw/wDHpv8A47R/wxL8J/8Anh/49N/8doAP+G2vhP8A89//AB2b/wCNUf8ADbXwn/57/wDjs3/xqj/hiX4T/wDPD/x6b/47R/wxL8J/+eH/AI9N/wDHaAD/AIba+E//AD3/APHZv/jVH/DbXwn/AOe//js3/wAao/4Yl+E//PD/AMem/wDjtH/DEvwn/wCeH/j03/x2gA/4ba+E/wDz3/8AHZv/AI1R/wANtfCf/nv/AOOzf/GqP+GJfhP/AM8P/Hpv/jtH/DEvwn/54f8Aj03/AMdoAP8Ahtr4T/8APf8A8dm/+NUf8NtfCf8A57/+Ozf/ABqj/hiX4T/88P8Ax6b/AOO0f8MS/Cf/AJ4f+PTf/HaAD/htr4T/APPf/wAdm/8AjVH/AA218J/+e/8A47N/8ao/4Yl+E/8Azw/8em/+O0f8MS/Cf/nh/wCPTf8Ax2gA/wCG2vhP/wA9/wDx2b/41R/w218J/wDnv/47N/8AGqP+GJfhP/zw/wDHpv8A47R/wxL8J/8Anh/49N/8doAP+G2vhP8A89//AB2b/wCNUf8ADbXwn/57/wDjs3/xqj/hiX4T/wDPD/x6b/47R/wxL8J/+eH/AI9N/wDHaAD/AIba+E//AD3/APHZv/jVH/DbXwn/AOe//js3/wAao/4Yl+E//PD/AMem/wDjtH/DEvwn/wCeH/j03/x2gA/4ba+E/wDz3/8AHZv/AI1R/wANtfCf/nv/AOOzf/GqP+GJfhP/AM8P/Hpv/jtH/DEvwn/54f8Aj03/AMdoAP8Ahtr4T/8APf8A8dm/+NUf8NtfCf8A57/+Ozf/ABqj/hiX4T/88P8Ax6b/AOO0f8MS/Cf/AJ4f+PTf/HaAD/htr4T/APPf/wAdm/8AjVH/AA218J/+e/8A47N/8ao/4Yl+E/8Azw/8em/+O0f8MS/Cf/nh/wCPTf8Ax2gA/wCG2vhP/wA9/wDx2b/41R/w218J/wDnv/47N/8AGqP+GJfhP/zw/wDHpv8A47R/wxL8J/8Anh/49N/8doAP+G2vhP8A89//AB2b/wCNUf8ADbXwn/57/wDjs3/xqj/hiX4T/wDPD/x6b/47R/wxL8J/+eH/AI9N/wDHaAD/AIba+E//AD3/APHZv/jVH/DbXwn/AOe//js3/wAao/4Yl+E//PD/AMem/wDjtH/DEvwn/wCeH/j03/x2gA/4ba+E/wDz3/8AHZv/AI1R/wANtfCf/nv/AOOzf/GqP+GJfhP/AM8P/Hpv/jtH/DEvwn/54f8Aj03/AMdoAP8Ahtr4T/8APf8A8dm/+NUf8NtfCf8A57/+Ozf/ABqj/hiX4T/88P8Ax6b/AOO0f8MS/Cf/AJ4f+PTf/HaAD/htr4T/APPf/wAdm/8AjVH/AA218J/+e/8A47N/8ao/4Yl+E/8Azw/8em/+O0f8MS/Cf/nh/wCPTf8Ax2gA/wCG2vhP/wA9/wDx2b/41R/w218J/wDnv/47N/8AGqP+GJfhP/zw/wDHpv8A47R/wxL8J/8Anh/49N/8doAP+G2vhP8A89//AB2b/wCNUf8ADbXwn/57/wDjs3/xqj/hiX4T/wDPD/x6b/47R/wxL8J/+eH/AI9N/wDHaAD/AIba+E//AD3/APHZv/jVH/DbXwn/AOe//js3/wAao/4Yl+E//PD/AMem/wDjtH/DEvwn/wCeH/j03/x2gA/4ba+E/wDz3/8AHZv/AI1R/wANtfCf/nv/AOOzf/GqP+GJfhP/AM8P/Hpv/jtH/DEvwn/54f8Aj03/AMdoAP8Ahtr4T/8APf8A8dm/+NUf8NtfCf8A57/+Ozf/ABqj/hiX4T/88P8Ax6b/AOO0f8MS/Cf/AJ4f+PTf/HaAD/htr4T/APPf/wAdm/8AjVH/AA218J/+e/8A47N/8ao/4Yl+E/8Azw/8em/+O0f8MS/Cf/nh/wCPTf8Ax2gA/wCG2vhP/wA9/wDx2b/41R/w218J/wDnv/47N/8AGqP+GJfhP/zw/wDHpv8A47R/wxL8J/8Anh/49N/8doAP+G2vhP8A89//AB2b/wCNUf8ADbXwn/57/wDjs3/xqj/hiX4T/wDPD/x6b/47R/wxL8J/+eH/AI9N/wDHaAD/AIba+E//AD3/APHZv/jVH/DbXwn/AOe//js3/wAao/4Yl+E//PD/AMem/wDjtH/DEvwn/wCeH/j03/x2gA/4ba+E/wDz3/8AHZv/AI1R/wANtfCf/nv/AOOzf/GqP+GJfhP/AM8P/Hpv/jtH/DEvwn/54f8Aj03/AMdoAP8Ahtr4T/8APf8A8dm/+NUf8NtfCf8A57/+Ozf/ABqj/hiX4T/88P8Ax6b/AOO0f8MS/Cf/AJ4f+PTf/HaAD/htr4T/APPf/wAdm/8AjVH/AA218J/+e/8A47N/8ao/4Yl+E/8Azw/8em/+O0f8MS/Cf/nh/wCPTf8Ax2gA/wCG2vhP/wA9/wDx2b/41R/w218J/wDnv/47N/8AGqP+GJfhP/zw/wDHpv8A47R/wxL8J/8Anh/49N/8doAP+G2vhP8A89//AB2b/wCNUf8ADbXwn/57/wDjs3/xqj/hiX4T/wDPD/x6b/47R/wxL8J/+eH/AI9N/wDHaAD/AIba+E//AD3/APHZv/jVH/DbXwn/AOe//js3/wAao/4Yl+E//PD/AMem/wDjtH/DEvwn/wCeH/j03/x2gA/4ba+E/wDz3/8AHZv/AI1R/wANtfCf/nv/AOOzf/GqP+GJfhP/AM8P/Hpv/jtH/DEvwn/54f8Aj03/AMdoAP8Ahtr4T/8APf8A8dm/+NUf8NtfCf8A57/+Ozf/ABqj/hiX4T/88P8Ax6b/AOO0f8MS/Cf/AJ4f+PTf/HaAD/htr4T/APPf/wAdm/8AjVH/AA218J/+e/8A47N/8ao/4Yl+E/8Azw/8em/+O0f8MS/Cf/nh/wCPTf8Ax2gA/wCG2vhP/wA9/wDx2b/41R/w218J/wDnv/47N/8AGqP+GJfhP/zw/wDHpv8A47R/wxL8J/8Anh/49N/8doAP+G2vhP8A89//AB2b/wCNUf8ADbXwn/57/wDjs3/xqj/hiX4T/wDPD/x6b/47R/wxL8J/+eH/AI9N/wDHaAD/AIba+E//AD3/APHZv/jVH/DbXwn/AOe//js3/wAao/4Yl+E//PD/AMem/wDjtH/DEvwn/wCeH/j03/x2gA/4ba+E/wDz3/8AHZv/AI1R/wANtfCf/nv/AOOzf/GqP+GJfhP/AM8P/Hpv/jtH/DEvwn/54f8Aj03/AMdoAX/htf4VFx/pGB/uzf8Axmo7b9tb4UXOoW2m290FeUsANs3YZ7xUD9ij4UqgPkcd/mm/+PV+fv7U3wC8HfDTxxob6ChTe8ufmk7LF/ekb+8aAP290fUYtXsIdQi5DgkfmR6CryBiEb0zmuJ+Ge0eC9NOeWRv0Y13Kgqu0dqAK+o/8g+5/wCuMn/oJr+PvUf+Qhc/9dpP/QjX9gmo/wDIPuf+uMn/AKCa/j71H/kIXP8A12k/9CNAFOiiigD/1vzfq5p3/IQtv+u0f/oQqnVzTv8AkIW3/XaP/wBCFAH9gmnf8g+2/wCuMf8A6CKuVT07/kH23/XGP/0EVcoAKKKKACiiigAooooAKKKKACiikLKvUgfWgBaKZ5kf94fnTgQehzQAtFFFABRTd6Dqw/OgOrdCD9DQA6iiigBv8NcN8Sv+RL1P/cT/ANCFdz/DXDfEr/kS9T/3E/8AQhQB+bn7Cn/I7a5/vxf+gT1+rh71+Uf7Cv8AyO2uf78X/oE9fq4e9ADqKKKACiiigAopCQOtN8yP+8v5inZgPopodD0YH8adSsAUUUUAFFFFABRRRQAUUUUAFFFFABRRRQAUUUUAFFFFABRRRQAUUUUAFFFFABRRRQAUUUUAFFFFABRRRQAUUUUAFFFFABRRRQAUUUUAFFFFABRRRQAUUUUAFFFFABRRRQAUUUUAFFFFABRRRQAUUUUAFFFFABRRRQAUUUUAFFFFABRRRQAUUUUAFFFFABRRRQAUUUUAFFFFABRRRQAUUUUAFFFFABRRRQAUUUUAFFFFABRRRQAUUUUAFFFFABRRRQAUUUUAFFFFADG2n71OI44OKjd0VPNboK4jVNamuW8qyPI/+t6igDusmjJrzD/ipvf/AMco/wCKm9//ABygD1D8aPxrzDHif3/8cox4n9//ABygD07Joya8w/4qb3/8co/4qb3/APHKAPT8mjJrzD/ipvf/AMco/wCKm9//ABygD0/Joya8w/4qb3/8co/4qb3/APHKAPUPxo/GvMMeJ/f/AMcox4n9/wDxygD07Joya8w/4qb3/wDHKP8Aipvf/wAcoA9PyaMmvMP+Km9//HKP+Km9/wDxygD0/Joya8w/4qb3/wDHKP8Aipvf/wAcoA9Q/Gj8a8wx4n9//HKMeJ/f/wAcoA9OyaMmvMP+Km9//HKP+Km9/wDxygD0/Joya8w/4qb3/wDHKP8Aipvf/wAcoA9PyaMmvMP+Km9//HKP+Km9/wDxygD1D8aPxrzDHif3/wDHKMeJ/f8A8coA9OyaMmvMP+Km9/8Axyj/AIqb3/8AHKAPT8mjJrzD/ipvf/xyj/ipvf8A8coA9PyaMmvMP+Km9/8Axyj/AIqb3/8AHKAPUPxo/GvMMeJ/f/xyjHif3/8AHKAPTsmjJrzD/ipvf/xyj/ipvf8A8coA9PyaMmvMP+Km9/8Axyj/AIqb3/8AHKAPT8mjJrzD/ipvf/xyj/ipvf8A8coA9Q/Gj8a8wx4n9/8AxyjHif3/APHKAPTsmjJrzD/ipvf/AMco/wCKm9//ABygD0/Joya8w/4qb3/8co/4qb3/APHKAPT8mjJrzD/ipvf/AMco/wCKm9//ABygD1D8aPxrzDHif3/8cox4n9//ABygD04Z9aU4715hFe6raOPPPH4f0rttL1BbuP5uv/66ANk9RX5R/t1/8jpon+/L/wCgQV+rh6ivyi/br/5HTRP9+X/0CCgD9JPht/yJmmf7jf8AoRruE+6K4f4bf8iZpn+43/oRruE+6KAKuo/8g+5/64yf+gmv4+9R/wCQhc/9dpP/AEI1/YJqP/IPuf8ArjJ/6Ca/j71H/kIXP/XaT/0I0AU6KKKAP//X/N+rmnf8hC2/67R/+hCqdXNO/wCQhbf9do//AEIUAf2Cad/yD7b/AK4x/wDoIq5VPTv+Qfbf9cY//QRVygAooooAKKKKACiiigAooooAgmcpEWXnFfCH7RPiH4qwz+X4JLA+wh/6Z/3x9a+8CF8vavQ1gXXhzTbicSTKC3pg/wCNAH47y6z+1fpLDVL9nFpHy/Fp06dgT1NfX/7M/wAd5vG0sul63Jvuo9oYH1PmH+FAOgr6Y+KL6Za+Cb+K5KgBF5x/tLX5Vfsl2yXnj/VZtJcsRJH2P9yX1/GgD9pYmWVFYVwPj7xhbeF9JmuJWwdvH4Eex9a7OwDJZqx6kfyNfAP7Y3iq50iS30yFsCYsD+HlH0PrQB8wa18YPjp451O6h8BSN5ULDoIO/wD10Uf3TXo/wp+PPjrwlrQ074nSkSzkDBEY+6GP/LJD6rX0L+y34ItNItWv2iGLkAnPPTzB6n1r5e/bj0JNJ8baTcaam0u8mcHHRIPU+9AH61aLqMep6XBqSciQEg/iR6VrY+ZvfFeMfBzVHv8AwZaQyHLBOv8AwNvavaT60AN+Yp8w5rh/iMPM8G6mjDA2J/6EKPF3j3RPBsBudVkwF68N7ein1r5H+IX7YfwuufDmp6f5/wA4VB92bqWB/wCeVAHiX7CflN4x1tWHO+LH/fM9fq7nLFTX5F/8E+dYtdd8T61ewdC0RHXus49B6V+uucjK9aAHUUUUAREZqpPKtvbtK5wF/wAasfxL75rkPH16dP8ACt9cr1RAR/30KdGjUqThFStd9h+0tC58e/tGftM6X8PbV47acCYDoM8H5P8Apm396vyB8Sft3/E1tTkXT7g+STxxF2A9Yc14P+0L8SdU8U+K7yyuycROABkd1Q9lHpXzWSWVfx5r/U/wn+j1kWCyqnUzOkqk5a637vtL0/rb4rG5k4VLRP2e+Av7cGs3upi38U3G8ykDB2joH/uw/Sv2g8CeN9P8X6ZFc2JDBgT1PqfVR6V/Gppl9Ppd4lxGxDKc/pX7+f8ABOf4i6j4usZIbyUkQhRjA7mf0Uelfi/0jvBbLsoy/wDtzKlaK3Sv3jHq33/rr3ZZmPOz9cKNu2hucUoOK/hX3b8y3Z9PJXQ+iiiqEFFFFABRRRQAUUUUAFFFFABRRRQAUUUUAFFFFABRRRQAUUUUAFFFFABRRRQAUUUUAFFFFABRRRQAUUUUAFFFFABRRRQAUUUUAFFFFABRRRQAUUUUAFFFFABRRRQAUUUUAFFFFABRRRQAUUUUAFFFFABRRRQAUUUUAFFFFABRRRQAUUUUAFFFFABRRRQAUUUUAFFFFABRRRQAUUUUAFFFFABRRRQAUUUUAFFFFABRRRQAUUUUAFFFFABRRRQAUUUUAVL84tZD9P51554bi8+7k+o/ka9Bv+bOT6D+dcJ4Qb/S5R7j+TUAej4FLgUUUAGBRgUUUANYCjANNprSIPvMB+NZ82vIN6DsCnMgaqwkjP8AGv51MQD0OaUYzkuWpHQUWnsS4FGBRRWlwDAowKKbuoauA7AowKKKYDTkdBmm/K3Tg0E7AFRc14h8Sfjz4Q+GI3a+2z8HP93+6jf3hQB7j9Bmj6jFfEl1+3Z8IrT/AFk/6T//ABmi1/bs+EV3/q5x+U//AMZoA+2cKRhuacVywI6DOa8U+Gfxy8I/FFifD77yPZx/e/vIv9017RyUIl6f59KAJcCjAoooAhdCFCxnaB7Z/nS5RnBHJFYWu+I7DQIHuNQO1Fx6n09AfWub8IfEbQvF8zwaScsvX73v/eUehoA9GwKMCiigCIKRtzzjOTTCmd0kZwWx29KlwQPl5ryrxx8WvDvgK/gsdWba0xIHDHoFP8Kt/eFAHqgPzlSOO1NZAse1f881T0/UE1CxS8j6OM/rWgDkBqAHYFGBRRQAYFGBRRQAYFGBRRQAzaei8D6UmFGWAyRXNeIfFWneGYJbrUXComPX2HYH1rkfAfxY8O+PJnttHYM0fX73fcf4lX+6aAPV8CjAoooAMCjAoooAMCjAoooAMCjAoooAMCjAoooAMCjAoooAMCjAoooAyNVg32zv9P6Vx/hFi1y6Htj+tdzqDAWkn4fzrhfCS7byQ+/9DQB6N/FX5Q/t2f8AI6aL/vyf+gwV+r38VflD+3Z/yOmi/wC/J/6DBQB+kvw1/wCRL0z/AHH/APQjXc/w1w3w1/5EvTP9x/8A0I13P8NAFXUf+Qfc/wDXGT/0E1/H3qP/ACELn/rtJ/6Ea/sE1H/kH3P/AFxk/wDQTX8feo/8hC5/67Sf+hGgCnRRRQB//9D836uad/yELb/rtH/6EKp1c07/AJCFt/12j/8AQhQB/YJp3/IPtv8ArjH/AOgirlU9O/5B9t/1xj/9BFXKACiiigAooooAKKKKACiiigBhOHHvmsvVNSh0yzlvLohBEAefc+2a0J5lgjaZuif1r8xP20f2kZvAcCaTZkr5+4HHPTyj/wA8z/e9aAOf/aF+NmpeOdYi0DwY5dGLLLjA7IR99B6HvX0Z+zL8FLbwLb/2tJD+8vsGQ5PVPMA/jP8Aer88f2dPiv8ACzTr6XVvEjZuCQeRN6SD+FCOhFfqR4B/aP8Ah/4ptBHpM22GL/Zl7lv70YPUUAfTIBBGDxX5i/tu2ly+r6bcxjPls+encQivtuL4y+GJJfs8LZbIHR+/1SvLv2g/Ag8a6I2q243bFyPxKDuV/u+lAFz9nO7jn0aONX3sq/NxjHMlfI37el7FD4l0iGY4+aXb7/LB6VyfwS/aF0n4T6heaX4wYws5UJwzfdDk/cjb+8K5D4neID+0f4t0268MA3EVm7k8Ffvqv98R/wDPM0Afpt8BbJ4/DNlO390/zevoIfNtb0zXD/D3SBo/hqztsYIUg/mfeu2HyBU9c0AcR4v8BaP4xgNtqceVb3b29GHpXyP8Qv2OvhnD4d1PUDF8xVD96bsQP+etfeO7Yvzn8cVw/wAR9i+DdTdv7i/+hCgD8wv+CfWj2uheJ9at4OgaId+yz+59a/XXoCy96/KP9hPYnjHW0PXfFj/vmev1d/iNADqKKKAIOSwPpmuP8fWbX3hS+tV6ugA/76FdkTiqc8S3Nu8LjIbr+dOjWqU5wmo3s+4/Z80LH8kP7Q3w21Twt4rvL27BxK4IOAOioOzH1r5rIKqv48V/UV+0Z+zNpfxCtne2gBmYdRnn7n/TRf7tfkB4k/YQ+Jq6nI2n258kHjmLuB6zZr/U/wAJ/pC5Fjcqp08zqqnKOmt+77R9D4vG5a51LxPgXTLKbU7yG2jBLOSP0r9/v+CdHw71DwlYXE17CQJghBJHYz+jH1rwz4B/sPazZ6jHc+KrfaYjnJ2nqH/uS/Sv2h8B+CNP8H6ZHbWICgDBGD6n1J9a/GPpG+NWW5tl/wDYeVO8Xu1fvGXVLt3/AOB2ZZl3I/M9CPGPelAzSUbt1fwp7t+Vbo+ok7IkoooqhBRRRQAUUUUAFFFFABRRRQAUUUUAFFFFABRRRQAUUUUAFFFFABRRRQAUUUUAFFFFABRRRQAUUUUAFFFFABRRRQAUUUUAFFFFABRRRQAUUUUAFFFFABRRRQAUUUUAFFFFABRRRQAUUUUAFFFFABRRRQAUUUUAFFFFABRRRQAUUUUAFFFFABRRRQAUUUUAFFFFABRRRQAUUUUAFFFFABRRRQAUUUUAFFFFABRRRQAUUUUAFFFFABRRRQAUUUUAFFFFAFK+/wCPaX6CuE8If8fMv1H8jXd33/HtL9BXCeEP+PmX6j+RoA9IooooAKKKKAPOvHvjfTvB+mvcXzhcDPOfUegPrX4v/Hv9uLWrLUpLfwrd7DEcYAU9Qn9+H617n/wUW+IeoeEtPgisnOJg4IGOxg9VPrX4A6nez6peTXEgJdyCea/ur6N/gnlmb5es4zSPMnqlr3kujT6f10+azPNHBWR98+G/27viZ/aaR6hcEwqef9V3B9Ic1+v/AOzp+05pnxAtEjubgGYjnr/t/wDTNR/DX8uq5RWI9q+lP2e/iTqnhbxXZ2doSRI+MZHZXPdT61+x+KX0f8jzHKpV8npKEopvS/dd5evQ4cHm027Nn9cUE6z26zLyG/xq31P0rivAd4dQ8J2Ny3V0JP8A30a7JTgt7Yr/AC3rw5ZOPZn2liSmEYp9Fc8WIKKKKsCMjeAyNivEPiT8BvCHxOG3X13595B/d/uuv90V7idx6cUmAvTk0AfjP+0p+y58PfCrQppMJUHPRpf+mfrIfU1wPwu+FnwV0ZS3itME46tcf7X9xj6ivt39r1nVrc/d+97/APPKvzU8eQyOqpG5B/8A2aAP0M+H3xI+AnwjuGg0ZwjS4wR9pbpu/vK39419RaH8evCes6e99aSeYiDPRx1JHdB6V+cv7MP7P2neOQbnxZGZXjxjLMM7vM/uOP7or78k+EvgzwLo7xQxiONxz8zngH3Y/wB6gDkb/wDbN+FOnXTWrzfMhx92bv8A9sq9N8AfH3wZ8RDt0e4BJ6DD/wC1/eRf7tfnj4xt/wBmKyu7o3wAlJHe7PPHpXz5pXxX8KeCvGNtZ+AiTFK5HWQdFz/y1Un+I0Aft349vfDcVix1oZhx1y4/u/3a8s+EmufDx57y88NkF4duR+877x/EPrXLfFXUZ9Q+HcF8eWljY5z6Oor5d/ZGkIXxCZSTt8nHXv51AH27rv7SPgXQpWguJgHi6jEnfH/TM+tcJJ+2n8K470WRnxK3H3ZvTP8AzxxX5e/ELQr/AF3x61vC7GOWQAj6IvuPSvtzW/2SPA8HgJ/ESwZv4owxO6TqXA/5646e1AH3d4L+ImheNrZLrSHDK3pu9/VR6V4F+0DrHwq0vW9OXxoQLktJ5YJm5OI8/cyOhFfI/wCwZ4t1WXxRqWk6gxa3RkEYOP7s5PQZ61yX/BROYt428OybiGWSbp3ytvQB+rMfi3w/4e8PWl8r7bTaxB+bpnHoT1NeMS/tdfDSGWaKS6DeVjICy/0irgviA0y/ByzeEkgwt/6MWvz6/ZI+DkHxI8Taq2vRmSFWj6sR1Ev911P8IoA/UHw/+198LvEN8llZXI82UkDKzDoD6xD0r6ft9StrrT11JGzEwyD+OK/Gf9o34JaN8KPEWm3nhiExjc5OGY/wxj+N2/vGvs/wt8Srr/hXAjmba6RHHQ/xn/ZoA9M8b/tLeAvAdx5WrTBWfqcSHpj+7G396uY079sD4ZapzbzBtvciUdfrEK/Pr4F+CX/aF8YX0HjBTIls64+bH3lk/uMn/PMV2P7RP7OemeANKWTwkhjLA5wWPQp/fkP940Afpj8P/i/4Y+IjsmiOGK+m/vu/vKv9016vtfBG76cV+Uv7AEc1te3kNwxZlKdfcT1+rTD51JPrQB8w/tFqx0C5YE/dH80r5Z/YbY/25qLuThWTk/Savqj9og48PzD1X+qV8a/si3501Ndu16x+Uf8A0dQB+gvj/wCNHhL4dBDrEgUc/wB8/wB3+6rf3q8fsf2yvhffXkdpHPtYkgfLKe3/AFyr4Tkmvvj94tk0m9YvFbvhhx/Eue2z/nnXvXjb9kfwroHhtvEWmwnzbZdxO5+pIXvKR39KAP0L0bxXp2uacNRtCDG4z1PqR3A9K8l8fftE+B/AMnlavOEkX2kPXb/dRh/FXw9+yd8UtX1yDWtJupi/2QRiIYA6+aT0UeleC6zqeieIPFN1Z/E7IV3Xyyd/Zcn/AFWPRaAP0f0z9s/4WapqMen21xmSQ4HyzDtnvEP519KP4w00aSuro2YmBYdegOPT+lfBngP4AfBXXDb6xpCASryPmn75H8Ug9PSvUfjsdS8OeGo9O0TKworDjB43If4s+p70AaOqftk/C7SrqSyuJuYzg8TfXtEa7nwB+0Z4J+IbFdElzjA6Sd9396Nf7pr8s/g94d+EnjXXLxfFQ+csvUz9cP8A3CPQV+kHwr+CXw78LCK58IgMr5P3pe27++59TQB9WRSCZA/rUgbJxUcMYhQLUgXBzQA6iiigAooooApX3/HtL9BXCeEP+PmX6j+Rru77/j2l+grhPCH/AB8y/UfyNAHo56ivyi/br/5HTRP9+X/0CCv1dPUV+Uf7df8AyOmif78v/oEFAH6RfDX/AJEvTP8Acf8A9CNdz/DXDfDX/kS9M/3H/wDQjXc/w0AVdR/5B9z/ANcZP/QTX8feo/8AIQuf+u0n/oRr+wTUf+Qfc/8AXGT/ANBNfx96j/yELn/rtJ/6EaAKdFFFAH//0fzfq5p3/IQtv+u0f/oQqnVzTv8AkIW3/XaP/wBCFAH9gmnf8g+2/wCuMf8A6CKuVT07/kH23/XGP/0EVcoAKKKKACiiigAooooAKKKKAK8sKzJszgGvmv4m/sv/AA7+KEm7xJEHYnPWUf3f7si/3RX0wd7cqcUFnHRc/jQB8WxfsOfCCBAiWwGP9qf/AOPV6R4O/Zo8A+DGLafF1/2pff1kPrX0WGP8QxTunWgDyCH4NeF4LlboJ86nI5f/AOLr0qXSLeXTxp5/1YBH5nPrWnwSAw/Wj5txB6dqAPlDxR+yD8MfFl2bu/txuJz96X29JR6V1/gD9nbwV8O5hLokIGPdz/e/vSN/er6B56D86RlJGN36UARwx7Bj0qYnFJuoxnmgAf7prh/iT/yJmp/7i/8AoQruH+6a4f4k/wDIman/ALi/+hCgD82/2FP+R01v/fi/9Anr9XR1NflF+wp/yOmt/wC/F/6BPX6ujqaAFooooAKKKKAEIB603yo/7i/kKfRTuwGhEHRQPwp1FFK4BRRRQAUUUUAFFFFABRRRQAUUUUAFFFFABRRRQAUUUUAFFFFABRRRQAUUUUAFFFFABRRRQAUUUUAFFFFABRRRQAUUUUAFFFFABRRRQAUUUUAFFFFABRRRQAUUUUAFFFFABRRRQAUUUUAFFFFABRRRQAUUUUAFFFFABRRRQAUUUUAFFFFABRRRQAUUUUAFFFFABRRRQAUUUUAFFFFABRRRQAUUUUAFFFFABRRRQAUUUUAFFFFABRRRQAUUUUAFFFFABRRRQAUUUUAUr7/j2l+grhfCH/HxN9R/I13V9/x7S/QVwvhD/j4m+o/kaAPR6KKKACiiigD8jf8Agov8PL/xdp8E1khIi3kkY7mD1I9K/n/1Oym0y8ltpCQyEA8e1f2VePfBGneMNNe2vkDAjHOfUehHpX4w/Hr9hvWb7UpLjwra7zKc5BUdAn9+b61/dX0b/GzLMoy9ZPmkuVLRPXvJ9E31/rr81meVuauj8Y1y6sB7V9Kfs9/DbVPFPiuzvLQECN85wO6uO7D0r3fw3+wj8TP7TSTULciFjz/quwPpNmv1/wD2dP2Y9M+H9oklzbgTAc8n/b/6aMP4q/Y/FL6QGR5dlUqGT1VOUk1pfuu8fXqcODymad2j7C8B2Z0/wnY2zdUQg/8AfRrslGS3viq8ECwW6wrwF/xq30P1r/LevPmk5d2faXFoophOa54oQ+iiirAKKKKAPgD9r4eYIDjkbv8A2lX5z+KSj6nbeYmRk9/QCv1Z/aO+HeteNGi/s0HjP93v5fqw9K+L9a/Zv8czX0OIycE/88/Qf9NKAPsj9mOBBpkeRyB/WSvP/wBsHx/rHhpo9KsMiO4yDjHbyj3U+te8/A3wXqnhK08rUBjeBjp23+hPrWX+0B8KE8fWLSxD99EPl+p2f7S/3aAPjX4Vfs+eC/Huny6t4jjClQG5d+5YfwyL/dHavjH48+D/AAN4P+ImlWnhXiRJJBwZD/BH/fJ9TXv2k/D/APaZ0PVZbOzDfYyQMf6KOMHHVieprlvFv7LfxW1/xNpWsXFuzS75C3zRdgo/56DsKAP0E8fYHwjs0kG4PE3f0kWvnf8AZJWTbr4T7i+T+vm19f8AijwBrF/8OodCgG6aKPH8Pdwe7V4z+zl8G/E/g5dW/tRSq3Hl4+5/D5nox/vUAfNFtGrfEFWVekhz3/gr9RtfjD/CucDg+UP/AEZXxNZ/AzxYPGP9plCIlfJ+53XH9+vu/XNIuLzwBPpUf+uMYGPffn1xQB+VH7FkjJ481g7sMZI8/wDfE2Kp/wDBQ9T/AMJr4ekDZYPLgf8AAbevdv2Y/gh4t8B+LdT1HW4SEunjK8p/Csg/hc/3hVf9sv4FeLviV4p0O+0KEslo0pflP4lh/vOv900AeteNgW+EOmu43Yhf2/5aLXjX7C8QGvas543NF+gnr6d8T+ANb1D4d2eiWY3SiNh/COd4PdvavM/2U/hH4l+H+q313rYISQp/d7CX+6zf3hQBgftnR7bzTpGG4sZP0ENcf4MsLq88DXzqDhEXH4u1e5/tM/DHX/G9zaPpILCAv/d/i8v1Yelbfwq+Gmq6Z4Zn07WVx5ygHOOzMf4W96APkP8AYT12zg8WaxCcL88QySf7s/tX0n+1f4p0rSNFaKYjMwOOSehj9AfWvlTx18DviJ4C1m4v/hblTOwJwYuwA/5auf7zV4R8TLH4s3ESx/ERifL6cw99v/PI/SgD6z/YMeO41W+mTnJT+U9fqdjKhT3r8y/2E/DcujfapHBGdn/tb3PrX6aHl0P1oA+Y/wBod0bRZIX5Kqf5oa+I/wBlqF5NM8SLH3EOPzlr9BfjJ4V1DxLpUkGmjMjjHb1X1I9K+c/2Yvgx4g8G3WqDxApEVwY+u3t5v91z/eFAHyt+zLf23g/4iaoupHaJpI9uQeySemfWv0++JnijTIPh7e/vFLSxrtHPZ19q+OPjz8AfEdtdNf8AgKArcZzkFf8AY/56PjpmvB08F/tK6/Pb6bqcT/ZRkEbrbp17EHqKAL/7CWm/bfFPiD7R9yZ4eo9Fnr6++If7Ovg/xe5u7KJftY5PzOP7vrIB0FdT8GvgsPh3oEl5BDs1C5X16lS4/vsOjV8sfECw/aRt9Yk/4R/csTE7T/op7D+9+NAHinxGvPiL8F/E9jZaYTFbMzg4MTcBVPfeer1+jfgvU9O+I3hSG28QgSySKQc5X+I/3Qv90V+f8Xwm+PHj/W7KbxqjSRozZz9nGMj/AGGU/wAIr7m13wB4k8O+FoofDQKXKKc42nksP7zEdzQB4n44/ZksfDAu9b8IxhJeCMMfYfxyH1NeM/Bz4q+P/C/iM6PrspWEMAOIzjhj/Cp9RUmqWP7VdzNc2KbjH8va06da9I+BfwJ8Y398NS+IEZ3g5ydn+2P+Wbj2oA/TbRLv7XpUN238Yz+pFau3lj64rP0yxFjp8VkOiAj9c+9aLHAPtQA6iiigAooooApX3/HtL9BXC+EP+Pib6j+Rrur7/j2l+grhfCH/AB8TfUfyNAHox6ivyh/bp/5HTRP9+X/0CCv1ePUV+UP7dP8AyOmif78v/oEFAH6SfDX/AJEvTP8Acf8A9CNdz/DXDfDX/kS9M/3H/wDQjXc/w0AVdR/5B9z/ANcZP/QTX8feo/8AIQuf+u0n/oRr+wTUf+Qfc/8AXGT/ANBNfx96j/yELn/rtJ/6EaAKdFFFAH//0vzfq5p3/IQtv+u0f/oQqnVzTv8AkIW3/XaP/wBCFAH9gmnf8g+2/wCuMf8A6CKuVT07/kH23/XGP/0EVcoAKKKKACiiigAooooAKKKKACiiigAooooAKKKKACiiigAooooAb/DXDfEr/kS9T/3E/wDQhXc/w1w3xK/5EvU/9xP/AEIUAfm5+wr/AMjtrn+/F/6BPX6uHvX5R/sK/wDI7a5/vxf+gT1+rh70AOooooAKKKKACiiigAooooAKKKKACiiigAooooAKKKKACiiigAooooAKKKKACiiigAooooAKKKKACiiigAooooAKKKKACiiigAooooAKKKKACiiigAooooAKKKKACiiigAooooAKKKKACiiigAooooAKKKKACiiigAooooAKKKKACiiigAooooAKKKKACiiigAooooAKKKKACiiigAooooAKKKKACiiigAooooAKKKKACiiigAooooAKKKKACiiigAooooAKKKKACiiigAooooAKKKKACiiigClff8e0v0FcJ4Q/4+ZfqP5Gu7vv+PaX6CuE8If8fMv1H8jQB6RRRRQAUUUUAR01o0PVQfwqRqPu1ny6843qVhHGP4F/KpiQOgxS05m20oynFc1SWgopLYdRRRWlgCm7adRQ3YAooopgFFFFACEA9Rmk2J/dH5U6igBMAdKMA9aWigBnlx/3R+VLsT+6Pyp1FACYFAVR0AFLRQAm1fQUuKKKAGhVHIAH4UpVW+8AfqKWigBMCgBR0AFLRQBEyjZyM1Q1HebRhEPmIOK1KaSp4NAH5lfFyH9oL7bMPC6krkY4tv8AZ/v/AI14Za/Cz49+PNatF8XqfLUtni29P9hl/uiv2n2KR8yjP0qLZA7YUDcvt0zQB5V8L/h7aeDdOWNFAfAz19W/2j6164CD0poVFG0DApR6CgB2M0gCjoAKWigBCqnqAab5cY/hH5U+igAphjQ9VH5U+igBnloOij8qcQD1GaWigBnlx/3R+VKFUdAB+FOooAKKKKACiiigAooooApX3/HtL9BXC+EP+Pib6j+Rrur7/j2l+grhfCH/AB8TfUfyNAHox6ivyj/br/5HTRP9+X/0CCv1cPUV+UX7df8AyOmif78v/oEFAH6SfDb/AJEzTP8Acb/0I13CfdFcP8Nv+RM0z/cb/wBCNdwn3RQBV1H/AJB9z/1xk/8AQTX8feo/8hC5/wCu0n/oRr+wTUf+Qfc/9cZP/QTX8feo/wDIQuf+u0n/AKEaAKdFFFAH/9P836uad/yELb/rtH/6EKp1c07/AJCFt/12j/8AQhQB/YJp3/IPtv8ArjH/AOgirlU9O/5B9t/1xj/9BFXKACiiigAooooAKKKKACiiigAooooAKKKKACiiigAooooAKKKKAG/w1w3xK/5EvU/9xP8A0IV3P8NcN8Sv+RL1P/cT/wBCFAH5ufsKf8jprf8Avxf+gT1+ro6mvyj/AGFP+R01v/fi/wDQJ6/VwdTQAtFFFABRRRQAUUUUAFFFFABRRRQAUUUUAFFFFABRRRQAUUUUAFFFFABRRRQAUUUUAFFFFABRRRQAUUUUAFFFFABRRRQAUUUUAFFFFABRRRQAUUUUAFFFFABRRRQAUUUUAFFFFABRRRQAUUUUAFFFFABRRRQAUUUUAFFFFABRRRQAUUUUAFFFFABRRRQAUUUUAFFFFABRRRQAUUUUAFFFFABRRRQAUUUUAFFFFABRRRQAUUUUAFFFFABRRRQAUUUUAFFFFABRRRQAUUUUAFFFFABRRRQAUUUUAUr7/j2l+grhfCH/AB8TfUfyNd1ff8e0v0FcL4Q/4+JvqP5GgD0YnFRNSgYpxGKw0mv3qsWtBi1JupgOaRqqnGm1+7Bq42inbqN1b2fcj96Nop26jdRZ9w/ekm6o2oWlJxWFSNNL94WlYRalBzTQM00jNTpBfulcHqS0UUVuQQZCAGT7x604HDAKRt7iuf8AFV1dWmgXd3YczBV29PUDvX5qeDfj1400zxjc6b4lciEuoQHZ/dJ/hTPcUAfqf0HNNyCAQcVk6Je/btIgvH/jBP64r5G/aZ+Ml98OJ4beybBkyO3YR+qt/eoA+zlO4YPOKcpVvumvkb9nXxh4w8SBpPEJ+Tg5JTv5n90D0FfWhmibcqOMjHegB3y4MY7UMSBguFJ9cU7cgBcHOetfn9+1n8XvEXw+1uxtdJcqkzODjb2EXqrf3qAPv9CNu89T1pEZSdicgdTmvAPAHijWPEfhH7WDm7dMp93ruYHsB0Fc98IJfiWda1CLxYP9FBTYcxej5+5z1xQB9S9Tn0pvH3j0FICFZgSB0rB13UFsdGmnVhuVcjketAG6GGQAwxSjy1OF61+ZNj8c/F58Wpp5cmMuR/B/d/3K/R3QbyS60aC6l++wOeg7kUAbtFM8yP8AvD86cGU9CDQAw7Op7/0p2QcqOtfM/wAbPikfAtxZwhsby/f02f7J/vV3Pwy8br4qtzMWByB3H+17D0oA9cy4OSePTinH/YPNeD/FlvGYliPhtvkJOceX/sf3vxrrvAf/AAkX2eL+3PvkHP3f9r+7+FAHptFNLqOpA/GgSIejD86AHUUU3en94fnQA6imeZH/AHh+dPoAYTt5alJAGScCmDgAPXhnxp8Wah4b0xprI4IBPb/Z9QfWgD3RST0cNR8v3f739K+Df2Ufix4h8f6tfW+quWWIoOdvcS+ir/dr7x82PYJWIHpmgCWimeZH/eH50/NABRTS6jqQPxpPMjP8Q/OgB9FGRTPMj/vD86AH0U0Op6EH8adQBSvv+PaX6CuE8If8fMv1H8jXd33/AB7S/QVwnhD/AI+ZfqP5GgD0b+Kvyh/bs/5HTRf9+T/0GCv1e/ir8of27P8AkdNF/wB+T/0GCgD9Jfhr/wAiXpn+4/8A6Ea7n+GuG+Gv/Il6Z/uP/wChGu5/hoAq6j/yD7n/AK4yf+gmv4+9R/5CFz/12k/9CNf2Caj/AMg+5/64yf8AoJr+PvUf+Qhc/wDXaT/0I0AU6KKKAP/U/N+rmnf8hC2/67R/+hCqdXNO/wCQhbf9do//AEIUAf2Cad/yD7b/AK4x/wDoIq5VPTv+Qfbf9cY//QRVygAooooAKKKKACiiigAooooAKKKKACiiigAooooAKKKKACiiigBv8NcN8Sv+RL1P/cT/ANCFdz/DXDfEr/kS9T/3E/8AQhQB+bv7Cn/I6a3/AL8X/oE9fq4Opr8o/wBhT/kdNb/34v8A0Cev1cHU0ALRRRQAUUUUAFFFFABRRRQAUUUUAFFFFABRRRQAUUUUAFFFFABRRRQAUUUUAFFFFABRRRQAUUUUAFFFFABRRRQAUUUUAFFFFABRRRQAUUUUAFFFFABRRRQAUUUUAFFFFABRRRQAUUUUAFFFFABRRRQAUUUUAFFFFABRRRQAUUUUAFFFFABRRRQAUUUUAFFFFABRRRQAUUUUAFFFFABRRRQAUUUUAFFFFABRRRQAUUUUAFFFFABRRRQAUUUUAFFFFABRRRQAUUUUAFFFFABRRRQAUUUUAFFFFAFK+/49pfoK4Twh/wAfMv1H8jXd33/HtL9BXCeEP+PmX6j+RoATxt8RNC8EwiXWGAHP972/uqfUV4tL+1r8OllEbTAHn/np/wDGqwP2l/hvr3jO1CaNlm54G0d4/Vh6Gvzd1H9lT4lTT7hC/Of4o/8A45X7lwJwZwzmWHU81xXs36Pz8/JHnYjFuOyP06/4a2+G56zD/wAi/wDxqpV/a4+G6/8ALYf+Rf8A41X5bL+yf8TR/wAsH/76i/8AjtJ/wyd8TT1gcf8AAo//AI7X20fCrw7jO8cx/CX+ZzU8wbdrH6lf8NefDb/nqP8AyL/8apf+GvPht/z1H/kX/wCNV+W//DJ/xM/54v8A99R//HaP+GT/AImf88X/AO+o/wD47Vf8Qv8AD7/oY/hL/MX1vF9j9Sv+Gvfht/z2H5S//GqT/hr34bf89h/5F/8AjVflp/wyj8TP+eD/APfUf/x2j/hlH4mf88H/AO+o/wD47R/xC7w//wChj+Ev8xfW8X2P1Kb9rn4bt/y2A/7+/wDxqoh+1t8Nx/y2H/kX/wCNV+W//DKHxN7QP/31H/8AHaU/so/E09bdx/wKL/47US8KvDyU7yzH8Jf5l1Mxae35n6mRftafDiSUoJQT2/1n/wAar2rwV8R9D8cw+ZpLArxj73+1/eUf3a/FOy/ZR+JUdyJBC4Uf7Uf/AMdr9J/2a/htrng+z8vV8qwxwcHvJ6MfWviuO+DOGMtw7qZViud/Py8/U6KGLb6H2dRRRX4aeiUrm2juovJ/h5z+Nfjj+2R4fufB/jnTbvSlPzu5bHHRIfUn1Nfso4ARmXvivjf9qP4eJ4msW1hV3PZgn/vryx6j0oA9i+FPjDT9Q8E2blgXgjOevG5m9vavzD/ay1i88d+N9NtLA+YsMjg4x3WI+g/u1137OfxcW50XW9KlfD2qxhcn1Mp/u+1cR+zTY3HxO8eaje6n+8jtpEK5/wBpJB22/wB2gD648S6L450PwVZf8IUSk2w8Dy/7y/3z7mvl3U9Y/ak0+4lvZSfIXBzutOnT0NfUP7RHxkj+Htla6VpxC3UoZUHuvlnujDo1fG3iDUv2nta0C4urVD9kmUFWxadAeeoBoA+0P2aPjhqnjB5dM19/9Ij2g/dPJ8w/woB0Arxj9u3a3iPS5IvvFpP/AEGCvlP9ke68W6J4num1xz5xdOMJ6S/3cjvX0x+2lIz6joMmcySGb9BD/SgD6w+HWpvpfwvnvLQfvoYlKn6u3qMV4D+yp8dPFXj3xXrNtrr7obV4gB8n8Sy/3UU/wivb/B25vhDcLFx+6GT/ANtGr4O/Y2kWHxT4olgbcUaDjHqs3rQB9f8A7S3x8v8Awc0djoD4vJchQMdR5Z/iQjoTXyNc+Iv2m7zSZdXut/2KUZH/AB69AcdhnrV3xrBH4w8eWa6u2HR3xnJ/gX0x6Cv1HbR7RfhitrKq+WkRHT1k/OgD8W/g74qvtd8XmO+k3Tq4yCB/db0AHav1t8eXHjGHwnbp4VGZCh5BjH8S/wB/8a/LvwT4asdH+JN1LaqF3SL3P9xvUn1r9APjP8YrH4deGrCy84JdTK+3IJ5DIf7jDo1AHyjrl/8AtU285u7Vz5MWSebPocDvzXsf7P8A8dfFFzPPp/jFv9KXaDkp1O8/wJjpivnPV/EH7SfiOxuL/RATauB2temcfxAHtXgfw8uPiHoPjVX8SkiSRxu/1fZW/uZ9RQB73+3ddeOLu90+TSicOZMY2ekPrXBfAQ/tFxz2qWG/ycnP/Ht0+f15r6k/akdJNK0KQ8uwlzx7xV9Ifsz+WdMiUoCQDzj3koA8m+NHxP8AHXgKLTYJG5mD5GI+o2f7Lf3q9u+FvxJ1PUvC1xqeqNjy1Un7v95h2X2r5+/bUCf2lpyRnHlmTt6iGqnhfU5Yfh/cQRtgSRjt6OfagDz/AMd/Hz4jePtaaw+GUxZrUkHAi/iAP/LVB/dauQsviv8AHnwNqVrJ43lZUctnIt+g/wCuat/eFdh+wvoVnJ4t1a4VQ/zx9c/3Z/U19UftQeE9J1XTRcToFMAYjGe5j9CPSgD0fTPiimv/AA6utX0ybN1BGpxjuXI7qB0HpX5Y+Df2nPiv4o8VanpFvMxWJkC8Q91Y94x6V7h+zxrF3deGfENrODsjWIAZHrL7V4n+xl4Ustf+ImsXF6o2iSL1/uTehHpQBsav8Rf2ifC2sxahrBf7KTk/8e3TAH8Kk9TX6XfAz4onx3psS3Em64UfN+Jf0VR0WuU/aA8PWM3hV1wAY164/wBpPevmv9hm/Nz4g1KEuWELRge2VnoA/Ujuv418x/tE/wDICn/3f6pX053X8a+Y/wBon/kAz/7v9UoA+S/2K7tLDUtWlmOUQxk/lN6Vs/Hj9oHxNdXi6Z4FcmWIkfLt77D/AMtE+teefsus1vpniGWI8gRfzlrkf2ZNPTxj8QNUfUW3CKSPGR6pL6Y9KAI18aftL6FcQ6trcr/ZTkvxa9On8IJ7197fBr46WfjjQ5ZfP3XNoo8zg9WL/wCwB0WvS/iX4a02bwDfO0Y2xxjB/wCBD3r8vf2KI5brWvE2kWoLu7QBecY4nPegD0b4q/HP4ieItZbTPh3Id2cYHl9gp/5aoPQ1g+G739qhtZtkv9xgJOf+PTpg+nNYfjT4Y/ErwH4jfWtDhIiZs5zEf4QP4mb+8e1e1+Cf2mbbw9Lb6N40kCXLZHKfU/wRkdCO9AH1H4w+Il/4P8JJ/aGUvdhx0PO4eikdDX5vw/Eb9ovxlq0w8MMzwZ+Xm2HY/wB9Qexr9APijoZ+JXhZL3QR5021iuPl6so/iKjopr8+PAk/xT+E2tTXOtqYbMNxxC3GG/uhj1YUAfWXwHn+OkVwqeOWZlzzkW/+3/zz/Cv0Bti32dWb7xFfHXwl/aM8MeLJltZHUynjow5G7/pmPSvsa3mSaFZ0PyN0oAjvv+PaX6CuE8If8fMv1H8jXd33/HtL9BXCeEP+PmX6j+RoA9HPUV+UX7df/I6aJ/vy/wDoEFfq6eor8o/26/8AkdNE/wB+X/0CCgD9Ivhr/wAiXpn+4/8A6Ea7n+GuG+Gv/Il6Z/uP/wChGu5/hoAq6j/yD7n/AK4yf+gmv4+9R/5CFz/12k/9CNf2Caj/AMg+5/64yf8AoJr+PvUf+Qhc/wDXaT/0I0AU6KKKAP/V/N+rmnf8hC2/67R/+hCqdXNO/wCQhbf9do//AEIUAf2Cad/yD7b/AK4x/wDoIq5VPTv+Qfbf9cY//QRVygAooooAKKKKACiiigAooooAz766hsLea6ujiNQCf8jmvlPxV+2J8LfB1w1lqU+HjOD8s3fB7RH1r6l1Wy/tDS5bWT5i4x6d6/Mb4x/sueHr2yvtc1CAlsAj539VHaT+lAH3B8K/jp4S+LW5vDrh9mORv77v7yL/AHTXtuGI4OCfavx7/wCCdlkuna9qNjAxZI2Qc544uD3Jr9gwFB296AFOSMg8ivHPiF8avC3w5i365IBn/e/2f7qN/eFej+IbmW00m7uIThkC4/MV+NnxY1U+PvGCaNrUhEe8j/x1T/Dt/u0AfcsP7bPwpluks0n+dyQPlm7c/wDPGvo/wd4+0XxhaifSHEin0zxyfVR6V8BeKP2WvhxpXgiXX7aIC6hjDA+ZKeSwH/PUjp7Vxv7A3ivW9T8Sapp10xNrbNGFBx/Es59M9RQB+ttFFFADX+6a4f4k/wDIman/ALi/+hCu4f7prh/iT/yJmp/7i/8AoQoA/Nz9hT/kdNb/AN+L/wBAnr9XB1NflF+wp/yOmt/78X/oE9fq6OpoAWiiigAooooAKKKKACiiigAooooAKKKKACiiigAooooAKKKKACiiigAooooAKKKKACiiigAooooAKKKKACiiigAooooAKKKKACiiigAooooAKKKKACiiigAooooAKKKKACiiigAooooAKKKKACiiigAooooAKKKKACiiigAooooAKKKKACiiigAooooAKKKKACiiigAooooAKKKKACiiigAooooAKKKKACiiigAooooAKKKKACiiigAooooAKKKKACiiigAooooAKKKKACiiigAooooAKKKKAKV9/wAe0v0FcL4Q/wCPib6j+Rrur7/j2l+grhfCH/HxN9R/I0AejFVPUA03y4/7o/Kn0U7sBvlp/dH5Unlx/wB0fkKfRRdgN8tP7o/Kjy0/uj8qdRRdgN8tP7o/Kjy0/uj8qdRRdgM8uP8Auj8hR5cf90fkKfRRdgM8uP8Auj8qcFUdABS0UXYBRRRSAi6FPxrj/H+n/wBpeF723AyWUD/x4V2hFQ3EKXELQv0agD+ZX4gz+IPg940uLHS0ZYtQcBsY/hUeu8/x1+rP7G/w1k8OadJqzR4kvwrE/wC4ZR/eI7+gr37xx+zD8PvG+pLqurRDzIjkf6zjIUfwyD+6K908PeGbHwzYJYacgVIhhevqT3J9aAPyL/bU0W+sfGOm6teqTBC0hb05WEdjn9K9cX9qvwCvw0XQrSUfaVjKn5JOu/PeLH619zfEH4T+GPiMv2fX4xJj/fHXaf4WX+6K8Nt/2KfhXazGRYM7uo3Tf/HqAPy//Zx1PWNV8e3V7fZ2SyKRwOgSQdgK+l/2zCn2jQTDk7TNng8Z8n1r7t8Lfs5+BvCcpudLhG7jvJ2yO8h9a6bxv8HfCvjr7O+pwA+Ruxy/fb6MP7tAHiXg7zk+EF2VHymJcj/to1fDv7E9l9q8Z+I7UIVaR4f/AEGc1+vFl4I0my0Q6FEP3DjaR83Y59c/rXD+Bfgb4T+HuoXGq6OgWW4KliN/YMP4nYfxGgD83v2lPDOs+CfFGn6pYIRbRNIWIx3WMdyT1Nezt+154FfwL/Y08/8ApaxlSNsvXfkdIsdPevuDxt8NPD/ju2NnrCBl/wCBex7MPSvn6P8AYr+FUNw1y0G9mOfvTDp/22oA/LX4NaxqOs+P5L++jYxTyAj6BHHYCvof9tfwprOqJoWrWSt9ntvNLYx0Pkj1B7V+gnh79m/wL4duVmsoQDH0H7zuD6yH1r0DxX8NtA8X2C6fqKAwKCB97uQezA9RQB8A+Ef2p/hxovgkaBEQL+KPbysvJLE94iOh9a+HLDxHqniT4gW1xNlYpZGI4HZPYD0r9X0/Yp+FiXb30cGJWIOd030/57YrstP/AGYvh/YvDMIAJLfOOZP4v+2lAHzf+0N4YvNQ8MaZe2ozFArk/i0Y7n2rlfgD+0p4J8MzJoOoS7J0O37sh5+c9oyO/rX6Pan4H0fVtMXS7lA0IBHO71z/AHs9q+dIP2OPhYNSGsC3xKxz96bsMf8APXFAHzt+114hs9dudNu7RCyy+Ye/YRD0HpXe/DTw8NX8A3FvGuG8sY/F29xX1BrHwR8Ka1bQW12gb7Nnafn/AIiD2celdv4e8D6P4dtWtbJAEYAfxds+pPrQB+O/wN8ZP+z14x1STxtmKGd0wcZ4Cyf88w//AD0FelfGj9o7R/iT9j03wexkDFwcBh12H+ONf7pr7q8efs5eBPHx3axAJHfqcyL02/3ZF/u1zGgfsi/Dbw3MlzYxBWjORzKfX1lPrQB458LPhvc+Ffh3q2oXqbTcRxnHrh3HZj6183fsK7l8ea6hjKhZIsZ90nr9g5PDthNo50d0AhI2kc+ufWvNfAvwS8KeAr65vdIjCS3RUt98/dDern+8aAOV+PZb/hGLhcZAQf8AoSV8e/sIkt4k1ZthXLRYz/uz1+l+veGrDxFbPBejMcgAPXtj0I9K5DwJ8JfDfw/uJLjR0CSTkEkbv4d395m/vUAeqg5Y4r5f/aLXOgyqBk7f6pX0+CGyVrl/EXhWw8SWhgvl3A/X1HoR6UAfmF+yLYSX8ev2kqmRpPKA/h/57V5r9m1D4D+MJtSu0MEdy4Oev3Vx23/36/VvwN8KPDPgG6ml0ZAjz4z949A395m/vGqHxB+DHhP4i7G11A/l57OPvbf7rr/dFAHxX43/AGuvCviTww+g6ZKXuJ12j5XHIYHvEB29axf2Mvh/q3hC81PxPqakQ3RRlzgfdEy9iT39K+k7D9jP4WWF0tzBbjzIzkfNN3+stfR+m+DNK0zShpMCBIgMd/Un1oA+S/FX7Svw3029msfEpDKSB92XsAf4Yz7V+f3xu1b4d/ELxPaXHgcneGPQS91T/noF/umv078S/slfDfxTcG5vos7jnGZfb0lHpVXQP2QfhhoF0t3YQAPGcjmY+vrKfWgDlfAvie58AeGbaTWwREinOfTcf7oY/wAQrzjx1+0V8EvEljdWF9IBMQBjZP6g9RGB2r7e134Z6Dr9h/Zt2v7rGMfN6g9mHpXz5cfsU/Ci5unnlg3PJyfmmHT/ALbUAfn58JtGstZ8XC68EowhD56t3Vv+emPQ1+1vhpJrXQrWG45lAbP/AH0a8s+HvwG8G/DgsdGjA6f3z/e/vO396vbgqoF8sZAzQBDff8e0v0FcL4Q/4+JvqP5Gu6vf+PaX6CuF8If8fE31H9aAPRj1FflD+3T/AMjpon+/L/6BBX6vHqK/KH9un/kdNE/35f8A0CCgD9JPhr/yJemf7j/+hGu5/hrhvhr/AMiXpn+4/wD6Ea7n+GgCrqP/ACD7n/rjJ/6Ca/j71H/kIXP/AF2k/wDQjX9gmo/8g+5/64yf+gmv4+9R/wCQhc/9dpP/AEI0AU6KKKAP/9b836uad/yELb/rtH/6EKp1c07/AJCFt/12j/8AQhQB/YJp3/IPtv8ArjH/AOgirlU9O/5B9t/1xj/9BFXKACiiigAooooAKKKKACiiigBjdD+FeH/HAD/hE73/AHB/6Ete4N0P4V4b8cHT/hE70bh9wd/9paAPz9/YA/5G3Wv9+L/0Gev12HU1+Q/7ALoPFus5YD54u/8Asz1+uwZcnkfnQBnaqkD6dLHLxEQM/n+dfjd+1PpKWuuI/gc/vyxyR2OI/wC/x61+uvjOZ4PDmozRnkKmMfUV+QvgTV4Na8fXFr4kPAkXbuz/AHGP8IHoKAPHNWb9qEaXA2pBxo+D5n/Hr0yMdPm619v/ALFFz4SRrldPx9uOzzfv9f33rx0zX1341g0ZfhrdmYIIPLXbjr98fj1r8zf2MG2eOdaXT87PMhx/3xN60AftEhDDdT6qWbE2ysfSrAPyZoA4Xxh4/wBH8GQmXUzhF6n5vb0U+tfJPxC/bE+Fs3h3U9OWfEu1Aflm6kg/88sV9beMPAGj+M4TFqYyjdR83t6MPSvkn4hfsd/C2Hw7qeorBmXahPzTdQQP+euKAPnz/gn5rVnrPifWr636O0RHX+7OO4FfrmA2MNX5Gf8ABPzRbPRvE+tWNv0RogOv92c9ya/XMFsZagB9FFFABRRRQAUUUUAFFFFABRRRQAUUUUAFFFFABRRRQAUUUUAFFFFABRRRQAUUUUAFFFFABRRRQAUUUUAFFFFABRRRQAUUUUAFFFFABRRRQAUUUUAFFFFABRRRQAUUUUAFFFFABRRRQAUUUUAFFFFABRRRQAUUUUAFFFFABRRRQAUUUUAFFFFABRRRQAUUUUAFFFFABRRRQAUUUUAFFFFABRRRQAUUUUAFFFFABRRRQAUUUUAFFFFABRRRQAUUUUAFFFFABRRRQAUUUUAFFFFABRRRQAUUUUAUbwYtpS3cCuF8HHF1KvqR/Jq726Xz7VlH8X+Necwt/Yt0zYxn/Pv60AengH1/SlwfWuSXxVp/r/P/AAqT/hKtO9f5/wCFAHU4PrRg+tct/wAJbp3r+h/wo/4S3TvX9D/hQB1OD60YPrXLf8Jbp3r+h/wo/wCEt071/Q/4UAdTg+tGD61zH/CV6d/e/Q/4Uf8ACV6d/e/Q/wCFAHT4PrRg+tct/wAJbp3r+h/wo/4S3TvX9D/hQB1OD60YPrXLf8Jbp3r+h/wo/wCEt071/Q/4UAdTg+tGD61y3/CW6d6/of8ACj/hLdO9f0P+FAHU4PrRg+tcx/wlenf3v0P+FH/CV6d/e/Q/4UAdPg+tGD61y3/CW6d6/of8KP8AhLdO9f0P+FAHU4PrRg+tct/wlunev6H/AAo/4S3TvX9D/hQB1OD60YPrXLf8Jbp3r+h/wo/4S3TvX9D/AIUAdTg+tGD61zH/AAlenf3v0P8AhR/wlenf3v0P+FAHT4PrRg+tct/wlunev6H/AAo/4S3TvX9D/hQB1OD60YPrXLf8Jbp3r+h/wo/4S3TvX9D/AIUAdTg+tGD61y3/AAlunev6H/Cj/hLdO9f0P+FAHU4PrRg+tcx/wlenf3v0P+FH/CV6d/e/Q/4UAdPg+tGD61y3/CW6d6/of8KP+Et071/Q/wCFAHU4PrRg+tct/wAJbp3r+h/wo/4S3TvX9D/hQB1OD60YPrXLf8Jbp3r+h/wo/wCEt071/Q/4UAdTg+tGD61zH/CV6d/e/Q/4Uf8ACV6d/e/Q/wCFAHT4PrRg+tct/wAJbp3r+h/wo/4S3TvX9D/hQB1OD60YPrXLf8Jbp3r+h/wo/wCEt071/Q/4UAdTg+tGD61y3/CW6d6/of8ACj/hLdO9f0P+FAHU4PrRg+tcx/wlenf3v0P+FH/CV6d/e/Q/4UAdPg+tGD61y3/CW6d6/of8KP8AhLdO9f0P+FAHU4PrRg+tct/wlunev6H/AAo/4S3TvX+f+FAG5eYFrKU9BXC+DtwuZg3cj+TVa1DxHHeRmG2/i/z3Aqx4aspLd/Mk/i/+vQB2p6ivyj/br/5HTRP9+X/0CCv1cPUV+UX7df8AyOmif78v/oEFAH6SfDb/AJEzTP8Acb/0I13CfdFcP8Nv+RM0z/cb/wBCNdwn3RQBV1H/AJB9z/1xk/8AQTX8feo/8hC5/wCu0n/oRr+wTUf+Qfc/9cZP/QTX8feo/wDIQuf+u0n/AKEaAKdFFFAH/9f836uad/yELb/rtH/6EKp1c07/AJCFt/12j/8AQhQB/YJp3/IPtv8ArjH/AOgirlU9O/5B9t/1xj/9BFXKACiiigAooooAKKKKACiiigDF15b0aRONOOLjA2dPUevFfkP8bPD37S/iKe5sdK3+Q2AP+PX/AGT3IPav2OwpPmDv/wDqpDFEwyVB/CgD+eD4N/Br9qT4a69/aFur+XM2W/49Owcd2b+9X6l6Z/wuAWduLwsZGB3cQ9unSvtERwxlYwi4Oe3pTsBtyccY7UAeG+BbTxVqNldaf4pB8uUKOdnYsf4Me1fFvx9/Z78UWuqx6r4CUmTLHjZ6IP8Alo/1r9RgAU6YzTfLj2ghQ2OmaAPxV/4Rr9qTUVTS7zf9hfhh/onQc9jnrX2t+zL8Cl+HfmalfJi9nwWPuPMHZ2HRq+09kIBXaPlxnj1owS8bBcAZzQBPRRRQA3+GuG+JX/Il6n/uJ/6EK7n+GuG+JX/Il6n/ALif+hCgD83P2FP+R01v/fi/9Anr9XR1NflH+wp/yOmt/wC/F/6BPX6uDqaAFooooAKKKKACiiigAooooAKKKKACiiigAooooAKKKKACiiigAooooAKKKKACiiigAooooAKKKKACiiigAooooAKKKKACiiigAooooAKKKKACiiigAooooAKKKKACiiigAooooAKKKKACiiigAooooAKKKKACiiigAooooAKKKKACiiigAooooAKKKKACiiigAooooAKKKKACiiigAooooAKKKKACiiigAooooAKKKKACiiigAooooAKKKKACiiigAooooAKKKKACiiigAooooAKKKKACiiigBGOOtZV3pVtej5/6/wCNagyB81NBjY8c0Ac3/wAIpp3939T/AI0f8Ipp3939T/jXT5PpRk+lAHLf8Ilp3p+p/wAaP+ES070/U/411OT6UZPpQBy3/CJad6fqf8aP+ES070/U/wCNdTk+lGT6UAct/wAIlp3p+p/xo/4RLTvT9T/jXU5PpRk+lAHLf8Ilp3p+p/xo/wCES070/U/411OT6UZPpQBy3/CJad6fqf8AGj/hEtO9P1P+NdTk+lGT6UAct/wiWnen6n/Gj/hEtO9P1P8AjXU5PpRk+lAHLf8ACJad6fqf8aP+ES070/U/411OT6UZPpQBy3/CJad6fqf8aP8AhEtO9P1P+NdTk+lGT6UAct/wiWnen6n/ABo/4RLTvT9T/jXU5PpRk+lAHLf8Ilp3p+p/xo/4RLTvT9T/AI11OT6UZPpQBy3/AAiWnen6n/Gj/hEtO9P1P+NdTk+lGT6UAct/wiWnen6n/Gj/AIRLTvT9T/jXU5PpRk+lAHLf8Ilp3p+p/wAaP+ES070/U/411OT6UZPpQBy3/CJad6fqf8aP+ES070/U/wCNdTk+lGT6UAct/wAIlp3p+p/xo/4RLTvT9T/jXU5PpRk+lAHLf8Ilp3p+p/xo/wCES070/U/411OT6UZPpQBy3/CJad6fqf8AGj/hEtO9P1P+NdTk+lGT6UAct/wiWnen6n/Gj/hEtO9P1P8AjXU5PpRk+lAHLf8ACJad6fqf8aP+ES070/U/411OT6UZPpQBy3/CJad6fqf8aP8AhEtO9P1P+NdTk+lGT6UAct/wiWnen6n/ABo/4RLTvT9T/jXU5PpRk+lAHLf8Ilp3p+p/xo/4RLTvT9T/AI11OT6UZPpQBy3/AAiWnen6n/Gj/hEtO9P1P+NdTk+lGT6UAct/wiWnen6n/Gj/AIRLTvT9T/jXU5PpRk+lAHLf8Ilp3p+p/wAaP+ES070/U/411OT6UZPpQBz0PhuygIKdvr/jW3DAsAwtShVHQU7FADf4q/KH9uz/AJHTRf8Afk/9Bgr9Xv4q/KH9uz/kdNF/35P/AEGCgD9Jfhr/AMiXpn+4/wD6Ea7n+GuG+Gv/ACJemf7j/wDoRruf4aAKuo/8g+5/64yf+gmv4+9R/wCQhc/9dpP/AEI1/YJqP/IPuf8ArjJ/6Ca/j71H/kIXP/XaT/0I0AU6KKKAP//Q/N+rmnf8hC2/67R/+hCqdXNO/wCQhbf9do//AEIUAf2Cad/yD7b/AK4x/wDoIq5VPTv+Qfbf9cY//QRVygAooooAKKKKACiiigAooooAKKKKACiiigAooooAKKKKACiiigBv8NcN8Sv+RL1P/cT/ANCFdz/DXDfEr/kS9T/3E/8AQhQB+bv7Cn/I6a3/AL8X/oE9fq4Opr8o/wBhT/kdNb/34v8A0Cev1cHU0ALRRRQAUUUUAFFFFABRRRQAUUUUAFFFFABRRRQAUUUUAFFFFABRRRQAUUUUAFFFFABRRRQAUUUUAFFFFABRRRQAUUUUAFFFFABRRRQAUUUUAFFFFABRRRQAUUUUAFFFFABRRRQAUUUUAFFFFABRRRQAUUUUAFFFFABRRRQAUUUUAFFFFABRRRQAUUUUAFFFFABRRRQAUUUUAFFFFABRRRQAUUUUAFFFFABRRRQAUUUUAFFFFABRRRQAUUUUAFFFFABRRRQAUUUUAFFFFABRRRQAUUUUAFFFFABRRRQAUUUUAFFFFABRRRQAUUUUAFFFFABRRRQAUUUUAFFFFABRRRQAUUUUAFFFFABRRRQAUUUUAFFFFABRRRQAUUUUAFFFFABRRRQAUUUUAFFFFABRRRQAUUUUAFFFFABRRRQAUUUUAFFFFABRRRQAh6ivyi/br/5HTRP9+X/0CCv1dPUV+Uf7df8AyOmif78v/oEFAH6RfDX/AJEvTP8Acf8A9CNdz/DXDfDX/kS9M/3H/wDQjXc/w0AVdR/5B9z/ANcZP/QTX8feo/8AIQuf+u0n/oRr+wTUf+Qfc/8AXGT/ANBNfx96j/yELn/rtJ/6EaAKdFFFAH//0fzfq5p3/IQtv+u0f/oQqnVzTv8AkIW3/XaP/wBCFAH9gmnf8g+2/wCuMf8A6CKuVT07/kH23/XGP/0EVcoAKKKKACiiigAooooAKKKKACiiigAooooAKKKKACiiigAooooAa/3TXD/En/kTNT/3F/8AQhXcP901w/xJ/wCRM1P/AHF/9CFAH5ufsKf8jprf+/F/6BPX6uDqa/KL9hT/AJHTW/8Afi/9Anr9XR1NAC0UUUAFFFFABRRRQAUUUUAFFFFABRRRQAUUUUAFFFFABRRRQAUUUUAFFFFABRRRQAUUUUAFFFFABRRRQAUUUUAFFFFABRRRQAUUUUAFFFFABRRRQAUUUUAFFFFABRRRQAUUUUAFFFFABRRRQAUUUUAFFFFABRRRQAUUUUAFFFFABRRRQAUUUUAFFFFABRRRQAUUUUAFFFFABRRRQAUUUUAFFFFABRRRQAUUUUAFFFFABRRRQAUUUUAFFFFABRRRQAUUUUAFFFFABRRRQAUUUUAFFFFABRRRQAUUUUAFFFFABRRRQAUUUUAFFFFABRRRQAUUUUAFFFFABRRRQAUUUUAFFFFABRRRQAUUUUAFFFFABRRRQAUUUUAFFFFABRRRQAUUUUAFFFFABRRRQAUUUUAFFFFABRRRQAUUUUAFFFFABRRRQAUUUUAIeor8of26f+R00T/fl/8AQIK/V49RX5Q/t0/8jpon+/L/AOgQUAfpJ8Nf+RL0z/cf/wBCNdz/AA1w3w1/5EvTP9x//QjXc/w0AVdR/wCQfc/9cZP/AEE1/H3qP/IQuf8ArtJ/6Ea/sE1H/kH3P/XGT/0E1/H3qP8AyELn/rtJ/wChGgCnRRRQB//S/N+rmnf8hC2/67R/+hCqdXNO/wCQhbf9do//AEIUAf2Cad/yD7b/AK4x/wDoIq5VPTv+Qfbf9cY//QRVygAooooAKKKKACiiigAooooAKKKKACiiigAooooAKKKKACiiigBv8NcN8Sv+RL1P/cT/ANCFdz/DXDfEr/kS9T/3E/8AQhQB+bn7Cv8AyO2uf78X/oE9fq4e9flH+wr/AMjtrn+/F/6BPX6uHvQA6iiigAooooAKKKKACiiigAooooAKKKKACiiigAooooAKKKKACiiigAooooAKKKKACiiigAooooAKKKKACiiigAooooAKKKKACiiigAooooAKKKKACiiigAooooAKKKKACiiigAooooAKKKKACiiigAooooAKKKKACiiigAooooAKKKKACiiigAooooAKKKKACiiigAooooAKKKKACiiigAooooAKKKKACiiigAooooAKKKKACiiigAooooAKKKKACiiigAooooAKKKKACiiigAooooAKKKKACiiigAooooAKKKKACiiigAooooAKKKKACiiigAooooAKKKKACiiigAooooAKKKKACiiigAooooAKKKKACiiigAooooAKKKKACiiigAooooAKKKKACiiigAooooAKKKKACiiigAooooAKKKKACiiigBD1FflH+3X/AMjpon+/L/6BBX6uHqK/KL9uv/kdNE/35f8A0CCgD9JPht/yJmmf7jf+hGu4T7orh/ht/wAiZpn+43/oRruE+6KAKuo/8g+5/wCuMn/oJr+PvUf+Qhc/9dpP/QjX9gmo/wDIPuf+uMn/AKCa/j71H/kIXP8A12k/9CNAFOiiigD/0/zfq5p3/IQtv+u0f/oQqnVzTv8AkIW3/XaP/wBCFAH9gmnf8g+2/wCuMf8A6CKuVT07/kH23/XGP/0EVcoAKKKKACiiigAooooAKKKKAGnn5hzUeGk+WROPrVa/v4tPs3vLg7FTk9++O1fKvij9sL4ZeEr17LVbrayHn5JfQHtEfWgD60GCgCHIpxG4gqcYrxH4VfHTwf8AFcE+GnDgdfv/AO1/fRf7pr20E8g8GgBqspfCDj1qTGDmk3HsK5bxL4v0zwtB5+oMABzzn29AfWgDqFx98jBNOPPGMivji6/bR+FdtfvY3M+Chx92b0z2hr2T4afGnwr8UQ//AAj0u7bjs467v7yL/dNAHstFFFADf4a4b4lf8iXqf+4n/oQruf4a4b4lf8iXqf8AuJ/6EKAPzc/YU/5HTW/9+L/0Cev1dHU1+Uf7Cn/I6a3/AL8X/oE9fq4OpoAWiiigCIjNNJzUgOKirnlJyppIVR6oG4xjpS8IWZjwcVFPIsFuzv0Xr+dfNvjn9o/wl4P1iHTL9gGYkdX9FPaM+vrXt5fk2JzCqqeFjzNX/IKtdQR9LAAk+tIqb1KHgcVz/h7X7PxDYrfWxG1hnjJ7keg9K6QfKDivMnhpQnzVI2mh0/h0GMtFOalIzXOo81VVAp6OzJaKKK6ACiiigAooooAKKKKACiiigAooooAKKKKACiiigAooooAKKKKACiiigAooooAKKKKACiiigAooooAKKKKACiiigAooooAKKKKACiiigAooooAKKKKACiiigAooooAKKKKACiiigAooooAKKKKACiiigAooooAKKKKACiiigAooooAKKKKACiiigAooooAKKKKACiiigAooooAKKKKACiiigAooooAKKKKACiiigAooooAKKKKACiiigAooooAKKKKACiiigAooooAKKKKACiiigAooooAKKKKACiiigAooooAKKKKACiiigAooooAKKKKACiiigAooooAKKKKACiiigAooooAKKKKACiiigAooooAKKKKACiiigAooooAKKKKACiiigAooooAKKKKACiiigBv8VflD+3Z/yOmi/wC/J/6DBX6vfxV+UP7dn/I6aL/vyf8AoMFAH6S/DX/kS9M/3H/9CNdz/DXDfDX/AJEvTP8Acf8A9CNdz/DQBV1H/kH3P/XGT/0E1/H3qP8AyELn/rtJ/wChGv7BNR/5B9z/ANcZP/QTX8feo/8AIQuf+u0n/oRoAp0UUUAf/9T836uad/yELb/rtH/6EKp1c07/AJCFt/12j/8AQhQB/YJp3/IPtv8ArjH/AOgirlU9O/5B9t/1xj/9BFXKACiiigAooooAKKKKACiiigDI1q0+36ZcWjdHAH6ivzH+M/7LHh2+ttR1rUAQSFI5fttHaSv1K5LOB7YrxD44Df4Qv0287F/9CWgD88P+CdenjTda1iyUk7WhA59BcH1NfsADztr8i/8Agn6GPi/W2PQPF/6DPX64giRSwoAiupltoWnbgRjP51+WH7UPxD1vxDrtnoXh+XMbs6yY2jjEZH3lHoe9fpn4ulEOgXcucBFH6kV+CfjnxfcW3i6WK3ctNI/7s+4UeoIoA/QXwd+xx4B1jSYtU1lAZnGfvydckfwzCvpj4VfBbw58MDI+grnOMDLf7X952/vGvzNs/EX7SGl6fFqSlzp8Yyf+PboTj0z1r7J/Zu+On/CdNJpt/L/pcWAwI7nzD2QDotAH2/SEZpFbIp1AEJKhiHPXp2rhfiS4HgzUwrD7iY5H94Vxfxf/AOEu+wH/AIRTPnEcY2eq/wB/8a/M/wAej9qJbHU0uN/2chP+fXpxnpzQB6L+wqGHjPXGlbPzxY/75n9K/VrhEJPSvx2/4JxjUv7b1h9XJ8wtFnOOuLj+7X7FE7c7ulAElFFFAEdO200N1pqturKVWMZql3KauQ3MAuoWik6EV+L37dXgC/sNUsdb04M3lNITjjqIR3b+lftGkgZtp718+fHX4f2ni/wzevKmWiUbRz/Eye49K/RfC3iuGQcQU61fWL0t6prs+5x46naJ8tfsUfGB/Etm2l3r/NAFGCfXzj2UelfpOrJKAyn7/T8K/nB+E/irU/g18RH0+ZisdxJgA4H3UY+jf36/oO8D67Hrfhy0v1O4upJ/76I9B6V9l498H08nzZZph/4NTVevLG/V9Wc+XYpyVmdz96m1J2zUO6vwio1pT6v9D1IomooorUkKKKKACiiigAooooAKKKKACiiigAooooAKKKKACiiigAooooAKKKKACiiigAooooAKKKKACiiigAooooAKKKKACiiigAooooAKKKKACiiigAooooAKKKKACiiigAooooAKKKKACiiigAooooAKKKKACiiigAooooAKKKKACiiigAooooAKKKKACiiigAooooAKKKKACiiigAooooAKKKKACiiigAooooAKKKKACiiigAooooAKKKKACiiigAooooAKKKKACiiigAooooAKKKKACiiigAooooAKKKKACiiigAooooAKKKKACiiigAooooAKKKKACiiigAooooAKKKKACiiigAooooAKKKKACiiigAooooAKKKKACiiigAooooAKKKKACiiigAooooAKKKKAEPUV+UX7df8AyOmif78v/oEFfq6eor8o/wBuv/kdNE/35f8A0CCgD9Ivhr/yJemf7j/+hGu5/hrhvhr/AMiXpn+4/wD6Ea7n+GgCrqP/ACD7n/rjJ/6Ca/j71H/kIXP/AF2k/wDQjX9gmo/8g+5/64yf+gmv4+9R/wCQhc/9dpP/AEI0AU6KKKAP/9X836uad/yELb/rtH/6EKp1c07/AJCFt/12j/8AQhQB/YJp3/IPtv8ArjH/AOgirlU9O/5B9t/1xj/9BFXKACiiigAooooAKKKKACiiigCLb9xpOq5/WvDfjfJbnwlekkHKDvj+Ja9e1pbt9Mnj0/mcAbeg7+/FfkP8btA/aa165ubHQlc274Ax9l6fKf4iD2NAG3+wE2fFWshyFBeLHI/uz1+uW6NiQSOPev54Pg38Gf2n/h7rcup26usczKWH+i9g47u396v1J0xfjCLGNbvd5xHP+p/pQB9b+KbY3mhXdvHyXVf0YV+KfxC8D6donxDik1RMB5Cec/3F9CfWv1l+HA8ZNHMPEgJUbevl/wC1/d/CvBf2lvgnfeMZbfU9Aj/eLvIIx1/dj+Jx6GgD2i+t9GHwpYBU2JFzye8lfmb+zWLdfHuoxaMpV/MTPJ/uSf3uPWnN4Z/annabRNr/AGH5VPNp06+uevvX2D+zV8B5vB8s2p63HsvH2lvqPMH8LkdDQB9saYCNPjB64/rWiVzxTIo/LjEfpTyfmA+tACOAVORmuF+JKJ/whmpnaPuL2/2hXdv901w/xJ/5EzU/9xf/AEIUAfm3+woAPGmt4/vxf+gT1+ro6mvyi/YU/wCR01v/AH4v/QJ6/V0dTQAtFFFABRRRQBGCWjyepqpqFot7avCRncMY/wA4q9x0oPAppgfhp+258KI9B1i11zSkMZVnYkc9oR3Y+vpX1P8AsXfF2TxbYyaZdy7vs4Qc+/mn+6PSvpP4/fDiz8aeGpg8YkljU47dSn+0PSvxP+Dviq/+DXxAnsbtzDFcSKACAfuq/oH/AL9f1xw/OnxvwJPK3rWw/wAPf3p3b6dvP/Pw8ZTdKqpH9GjYwGU5DVLKM7T3rkvBmtJrOhWt1nJdSc568n2FdgTnIr+SsVGdOr7GS1V7ns86r09CaiiisywooooAKKKKACiiigAooooAKKKKACiiigAooooAKKKKACiiigAooooAKKKKACiiigAooooAKKKKACiiigAooooAKKKKACiiigAooooAKKKKACiiigAooooAKKKKACiiigAooooAKKKKACiiigAooooAKKKKACiiigAooooAKKKKACiiigAooooAKKKKACiiigAooooAKKKKACiiigAooooAKKKKACiiigAooooAKKKKACiiigAooooAKKKKACiiigAooooAKKKKACiiigAooooAKKKKACiiigAooooAKKKKACiiigAooooAKKKKACiiigAooooAKKKKACiiigAooooAKKKKACiiigAooooAKKKKACiiigAooooAKKKKACiiigAooooAKKKKACiiigAooooAQ9RX5Q/t0/8AI6aJ/vy/+gQV+rx6ivyh/bp/5HTRP9+X/wBAgoA/ST4a/wDIl6Z/uP8A+hGu5/hrhvhr/wAiXpn+4/8A6Ea7n+GgCrqP/IPuf+uMn/oJr+PvUf8AkIXP/XaT/wBCNf2Caj/yD7n/AK4yf+gmv4+9R/5CFz/12k/9CNAFOiiigD//1vzfq5p3/IQtv+u0f/oQqnVzTv8AkIW3/XaP/wBCFAH9gmnf8g+2/wCuMf8A6CKuVT07/kH23/XGP/0EVcoAKKKKACiiigAooooAKKKKACmGOM9VB/Cn0UAM8qP+4v5CnbV9B+VLRQAYA6UhAPUZpaKAGeXH/dH5U4ADoMUtFABRRRQA3+GuG+JX/Il6n/uJ/wChCu5/hrhviV/yJep/7if+hCgD83P2Ff8Akdtc/wB+L/0Cev1cPevyj/YV/wCR21z/AH4v/QJ6/Vw96AHUUUUAFFFFABRRRQBm6hZLfwNA/wB1gQf85r8Of21PhU/hnXLfxDpa5ZWZjgY7Qr3Y+vpX7qE/Kfwr5m/aE+G9l408M3LFAZI1z37sn+0PSv0/wl4xlw7ndKbfuSumvVPyfc48ZS9pHU8B/Yz+Lr+MNPGj3T4a1ABz/teaeyj09a/Q5WDxJjvn+dfzofBDxlqnwh+IE9ncMVjnkUAcD7qP7N/fr+g7whrEWs6NbXKHJdSf1PsPSvf8cODYZNnn1ugv3dbVeqjG/V9zLL5uL5WddRRRX4ieiFFFFABRRRQAUUUUAFFFFABRRRQAUUUUAFFFFABRRRQAUUUUAFFFFABRRRQAUUUUAFFFFABRRRQAUUUUAFFFFABRRRQAUUUUAFFFFABRRRQAUUUUAFFFFABRRRQAUUUUAFFFFABRRRQAUUUUAFFFFABRRRQAUUUUAFFFFABRRRQAUUUUAFFFFABRRRQAUUUUAFFFFABRRRQAUUUUAFFFFABRRRQAUUUUAFFFFABRRRQAUUUUAFFFFABRRRQAUUUUAFFFFABRRRQAUUUUAFFFFABRRRQAUUUUAFFFFABRRRQAUUUUAFFFFABRRRQAUUUUAFFFFABRRRQAUUUUAFFFFABRRRQAUUUUAFFFFABRRRQAUUUUAFFFFABRRRQAUUUUAFFFFABRRRQAUUUUAFFFFACHqK/KP9uv/kdNE/35f/QIK/Vw9RX5Rft1/wDI6aJ/vy/+gQUAfpJ8Nv8AkTNM/wBxv/QjXcJ90Vw/w2/5EzTP9xv/AEI13CfdFAFXUf8AkH3P/XGT/wBBNfx96j/yELn/AK7Sf+hGv7BNR/5B9z/1xk/9BNfx96j/AMhC5/67Sf8AoRoAp0UUUAf/1/zfq5p3/IQtv+u0f/oQqnVzTv8AkIW3/XaP/wBCFAH9gmnf8g+2/wCuMf8A6CKuVT07/kH23/XGP/0EVcoAKKKKACiiigAooooAKKKKACiiigAooooAKKKKACiiigAooooAb/DXDfEr/kS9T/3E/wDQhXc/w1w3xK/5EvU/9xP/AEIUAfm5+wp/yOmt/wC/F/6BPX6ujqa/KP8AYU/5HTW/9+L/ANAnr9XB1NAC0UUUAFFFFABRRRQBEMkZ9aztUsxf2TwH+IYq4Dgc04naQAODU00prntv+gOHPCx+D/7aPwufwrr9prOkoYwruxI57Qjux9T2r7d/Y5+L48Z6S9hcSb3twg9Opl/2R/dr2P8AaM+Glv438OTS+WJHiUn06lP9oelfjp8AvGlx8JPHk+mXLmJLiQAA8/dVz6N/fr+wMlrw474Dlhm718Mvd7vmlr26Lzf6+Ao/VqnMz+i4nABHemDDe2K5vwrqo1bQoL0HO9c/qR6Cum285r+P6uHg1yVEfQUpqUboFobtTwcU0nFRLmatF2YoR5WSZpN1NpQM0U6iehXKOIzQRmmg4oJzVqNtUQ2luPoooqhhRRRQAUUUUAFFFFABRRRQAUUUUAFFFFABRRRQAUUUUAFFFFABRRRQAUUUUAFFFFABRRRQAUUUUAFFFFABRRRQAUUUUAFFFFABRRRQAUUUUAFFFFABRRRQAUUUUAFFFFABRRRQAUUUUAFFFFABRRRQAUUUUAFFFFABRRRQAUUUUAFFFFABRRRQAUUUUAFFFFABRRRQAUUUUAFFFFABRRRQAUUUUAFFFFABRRRQAUUUUAFFFFABRRRQAUUUUAFFFFABRRRQAUUUUAFFFFABRRRQAUUUUAFFFFABRRRQAUUUUAFFFFABRRRQAUUUUAFFFFABRRRQAUUUUAFFFFABRRRQAUUUUAFFFFABRRRQAUUUUAFFFFABRRRQAUUUUAFFFFADf4q/KH9uz/kdNF/35P8A0GCv1e/ir8of27P+R00X/fk/9BgoA/SX4a/8iXpn+4//AKEa7n+GuG+Gv/Il6Z/uP/6Ea7n+GgCrqP8AyD7n/rjJ/wCgmv4+9R/5CFz/ANdpP/QjX9gmo/8AIPuf+uMn/oJr+PvUf+Qhc/8AXaT/ANCNAFOiiigD/9D836uad/yELb/rtH/6EKp1c07/AJCFt/12j/8AQhQB/YJp3/IPtv8ArjH/AOgirlU9O/5B9t/1xj/9BFXKACiiigAooooAKKKKACiiigAooooAKKKKACiiigAooooAKKKKAG/w1w3xK/5EvU/9xP8A0IV3P8NcN8Sv+RL1P/cT/wBCFAH5u/sKf8jprf8Avxf+gT1+rg6mvyj/AGFP+R01v/fi/wDQJ6/VwdTQAtFFFABRRRQAUUUUAMAzQRikDdagJzUVFaDsTKfKyjq1jHqOnzWr/dkAH5Gvwo/bG+FsngnxPYazpqklXkYkcfwxDux9fSv3mOAhFfK/7SnwvsvG3h2e827pIF68/wARjH94f3a/W/CDjB8PZ1Tk/wCFK6a9U0uj6s5sww/tIXPMv2Pfi5/wmelDTJn+a1AByf7xlP8AdH92vvTiQLt6c1/PB+zt491D4R+O7zSLljtlkQDOB0WQ/wB1v73rX7y23iIN4NGuKfupu/Nsen9K9Lxy4Plk+dfW8DG9CrrH1sr767tmOAxN4cxc8V+NNJ8K2putTcKi8nJPqB2B9a+YdR/bd+FWm3b2VxOodTg/636/88jX5eftc/tQ6rfXbabo052EsCBjjHlnvH9a/LDVdbvtSuTdXLt5jHPX6emK/cPDH6Kf9q5asdnNRwlPay7N9pen9befi8ydOR/Wr4H/AGlPA/jh/L0iRST7v7/3ox6V9C2t1HeR+YnIr+QP4U/GPxD4J1iGS1lbygeR8vo3qretf0a/sr/GdfiVokaSHdIBzz7yf7C/3a/NPGXwJqcKR9vRfNT8/l5vub4DMfauzPtRaUjNJuptfzdBPY9vluSUUUVQgooooAKKKKACiiigAooooAKKKKACiiigAooooAKKKKACiiigAooooAKKKKACiiigAooooAKKKKACiiigAooooAKKKKACiiigAooooAKKKKACiiigAooooAKKKKACiiigAooooAKKKKACiiigAooooAKKKKACiiigAooooAKKKKACiiigAooooAKKKKACiiigAooooAKKKKACiiigAooooAKKKKACiiigAooooAKKKKACiiigAooooAKKKKACiiigAooooAKKKKACiiigAooooAKKKKACiiigAooooAKKKKACiiigAooooAKKKKACiiigAooooAKKKKACiiigAooooAKKKKACiiigAooooAKKKKACiiigAooooAKKKKACiiigBD1FflF+3X/yOmif78v/AKBBX6unqK/KP9uv/kdNE/35f/QIKAP0i+Gv/Il6Z/uP/wChGu5/hrhvhr/yJemf7j/+hGu5/hoAq6j/AMg+5/64yf8AoJr+PvUf+Qhc/wDXaT/0I1/YJqP/ACD7n/rjJ/6Ca/j71H/kIXP/AF2k/wDQjQBTooooA//R/N+rmnf8hC2/67R/+hCqdXNO/wCQhbf9do//AEIUAf2Cad/yD7b/AK4x/wDoIq5VPTv+Qfbf9cY//QRVygAooooAKKKKACiiigAooooAKKKYZIx1YD8aAH0UgZW+6QfoaWgAooooAKKaXVepA+ppQQelAC0UUUANf7prh/iT/wAiZqf+4v8A6EK7h/umuH+JP/Iman/uL/6EKAPzc/YU/wCR01v/AH4v/QJ6/VwdTX5RfsKf8jprf+/F/wCgT1+ro6mgBaKKKACiiigAooooAKKKKAGKcs3pxWRrFkuoaXLbt/EMfrWzkZxRgYxTTtqB+An7X3wzbwD4st9W06M43sxI4/hiHdj/AHq+0vgn8XW8dfDK/sfM+e3iQfm7/wCyv92vav2nfhZB428PXF4yAvCufzMY/vD+7X4//A7xjP8AD/X9R8P3LkJcMigHjoHPo3971r+y+H50eN+EIU564nCa+vNK/kto+f8An87VrSwy9ij4Q+LzXa+MdRW5UlGcYyfRVryoyIxygr9Tf2lP2bNRnhTxLoykrKCxwBz/AKte8n17V+ZWo6JfadcrZXEbK+SOmenPav7h8NuLcvzjKqdShNc0bprXTVpdF2PnMVhZw/evqZivl1MS4Iz3r9z/APgmCLoW92JwRu8vGTnobivyj+FHwd17x3qkP2eNhFnnp6N6sp/hr+jT9lf4Mx/DTSI/l2yMvPHoZP8Aab+9X4N9KDjbLIcPzyijJOcltr3i+q9ep62TYdwlzH2ktKBigDFSAYr/ADAwnN7PlkfZSFooorrICiiigAooooAKKKKACiiigAooooAKKKKACiiigAooooAKKKKACiiigAooooAKKKKACiiigAooooAKKKKACiiigAooooAKKKKACiiigAooooAKKKKACiiigAooooAKKKKACiiigAooooAKKKKACiiigAooooAKKKKACiiigAooooAKKKKACiiigAooooAKKKKACiiigAooooAKKKKACiiigAooooAKKKKACiiigAooooAKKKKACiiigAooooAKKKKACiiigAooooAKKKKACiiigAooooAKKKKACiiigAooooAKKKKACiiigAooooAKKKKACiiigAooooAKKKKACiiigAooooAKKKKACiiigAooooAKKKKACiiigAooooAKKKKAEPUV+UP7dP8AyOmif78v/oEFfq8eor8of26f+R00T/fl/wDQIKAP0k+Gv/Il6Z/uP/6Ea7n+GuG+Gv8AyJemf7j/APoRruf4aAKuo/8AIPuf+uMn/oJr+PvUf+Qhc/8AXaT/ANCNf2Caj/yD7n/rjJ/6Ca/j71H/AJCFz/12k/8AQjQBTooooA//0vzfq5p3/IQtv+u0f/oQqnVzTv8AkIW3/XaP/wBCFAH9gmnf8g+2/wCuMf8A6CKuVT07/kH23/XGP/0EVcoAKKKKACiiigAooooAKKKKAOf8RteRaLO+nf60AbenqPWvx2+MXxF/aHsNSuLjQS/kwn/p26EL/eXPrX7PyrE4CN0fP6V83/GHwpYaf4Vv7iFRvKjnB/vL6k0AfMv7Dvxp8Z/Ei5vLLxWxZ4tgOdncTH+BF/uiv0v3YLt24r8jv+CfiCPxbrak8h4sf98z1+uL4YFZBgH/AD2oAduzgjvmsnWtSi0vTpdQkOPKGfzOPetMyqgcH+DGfxr4o/aS+K7+GzHokLf8fOV49vLP90+vrQB8T/tD/tb+NLbxXZ6V4Luj5KO4YBU/uxn+OLPrX6Lfs9+N9d8VaJBLq7ZllX5jhexf0A9K/J74h/Cv/hHNUtNev4sG5LMuTnoFHZj6+lfp9+zGv/EqjQ8YHH5yUAfYVFFFAEfJT5l/DNcN8RmWTwbqaOOiL/6EKf4v8faN4Mga41STCr14b2/uqfWvkf4g/ti/DK48Oanp4l+YKg+7N3IP/PKgDxL9hcxt4z1tm4O+LH/fM9fq6CSfavyL/wCCfutWeu+KNauIOhaIjr/dn9h6V+uZIYEL1FAD6KKKACiiigAooooAKKKKACiiigDn9X09NU02ayl6SAD9c1+DX7W3wyn+Hfi+z1qzXgu7HAx/DEP7zf3q/ftjkMG6Lj9a+QP2o/hXB470GW9K5aFSfzMY/vD+7X614N8aw4c4ihKr8FXSS72i7dH3OLMKMKkfadjy/wDZy8SaL8ZdBGkaptkEagEHPcyHsE/uV31/+xJ8KdVuftVxbqXBJ/5a9/pMPSvy+/Zi+IU/wx8Y3Wj3DkAyIADx/DIf7rf3vWv3y8Pakuo6VBeI2fNGc/iRX0vi9hs64Tz1zyeo44epqrNLou93u2cuCnTxSdOx4r4J/Zp8D+BZRLpaLlenD+/rI3rX0NbW8dvEIohhV4qYkLggdalDDB7V+HZlm+Px0/a4ubk/M9KOHjHYSng5pPvULXnuSaujZjqKKKoQUUUUAFFFFABRRRQAUUUUAFFFFABRRRQAUUUUAFFFFABRRRQAUUUUAFFFFABRRRQAUUUUAFFFFABRRRQAUUUUAFFFFABRRRQAUUUUAFFFFABRRRQAUUUUAFFFFABRRRQAUUUUAFFFFABRRRQAUUUUAFFFFABRRRQAUUUUAFFFFABRRRQAUUUUAFFFFABRRRQAUUUUAFFFFABRRRQAUUUUAFFFFABRRRQAUUUUAFFFFABRRRQAUUUUAFFFFABRRRQAUUUUAFFFFABRRRQAUUUUAFFFFABRRRQAUUUUAFFFFABRRRQAUUUUAFFFFABRRRQAUUUUAFFFFABRRRQAUUUUAFFFFABRRRQAUUUUAFFFFABRRRQAUUUUAFFFFABRRRQAh6ivyj/br/5HTRP9+X/0CCv1cPUV+UX7df8AyOmif78v/oEFAH6SfDb/AJEzTP8Acb/0I13CfdFcP8Nv+RM0z/cb/wBCNdwn3RQBV1H/AJB9z/1xk/8AQTX8feo/8hC5/wCu0n/oRr+wTUf+Qfc/9cZP/QTX8feo/wDIQuf+u0n/AKEaAKdFFFAH/9P836uad/yELb/rtH/6EKp1c07/AJCFt/12j/8AQhQB/YJp3/IPtv8ArjH/AOgirlU9O/5B9t/1xj/9BFXKACiiigAooooAKKKKACiiigCInCkJ2rxP43hv+ETvfLbDbBx/wJa9hv76DT7OW+uDiNACevrjtX5+fHv9qj4c2Om3+kzyfvlVQeJe+w9osfrQB41+wEX/AOEr1koMMXjz/wB8z1+ux4+9yK/Aj9i39pHwJ4K8U6qdWkKtcPFt+WXss3pG394V+xFp8cvBlzZxzxTZWUEj5ZOx/wBygD0Txleyab4avbuE4eFVIP1YV+ID/Hnwp4g8cXcnxAlJS1ddoKyd1/6ZoPQV+0um+JtE8f2M2n23zRSgBvvDoSe4U/w1856t+xH8JtVvZr2W2DSykFvmmHbH/PYUAfnl+0V+0v8ADXxDFpsOkSYSLeOkv/TP+9GPSvrz9kz43eEvEMS2lk+XUAdH7+b6oPSvln9qT9lP4eeEL+xTSIiEYvnmU9ovWQ+tfU37JPwQ8K+H7f7ZaRkSMAer9vNHdz60Afo5BKJ4g471P1FQQRCCIIO1T9BQBw3i/wABaN4xgNtqceVbqct7ejD0r5H+IX7Hfwzi8O6nqBi+cqh6zdiP+mtfd2difvWz74/wrhviPsHg3U3J/gX/ANCFAH5i/wDBPnRbTQvE+tWcHQNEB17LcH1PrX66hQowtflD+wkqJ4y1tmPO+LH/AHzPX6u7cOXoAfRRRQAUUUUAFFFFABRRRQAUUUUAVycsR6Vj61pov9LmtDzvGP1rY3BQTThx1rKNWUOVLrcH78OU/n2/ap+HEnw58YWesWaGJWd2JHssQ/vN/e9K/Tf9lH4rR+OPD8NoHEjW649Opk/2R/dp/wC1V8KU8c+H5box+Y9uufT7xj/2h/dr8w/2WviRL8NPGV5o925jVnQAH2WQ/wB1v71f2GpLjzgW8XfEYVfN80te3Reb/XwOb6tUuf0GAhcL1zScINuOtY2haiNQ0qG7BzuXP6mtiRfmX8a/juuqsY8lNWkj6GNmSE7ffNLuphGae1XVkooLDqKKKskKKKKACiiigAooooAKKKKACiiigAooooAKKKKACiiigAooooAKKKKACiiigAooooAKKKKACiiigAooooAKKKKACiiigAooooAKKKKACiiigAooooAKKKKACiiigAooooAKKKKACiiigAooooAKKKKACiiigAooooAKKKKACiiigAooooAKKKKACiiigAooooAKKKKACiiigAooooAKKKKACiiigAooooAKKKKACiiigAooooAKKKKACiiigAooooAKKKKACiiigAooooAKKKKACiiigAooooAKKKKACiiigAooooAKKKKACiiigAooooAKKKKACiiigAooooAKKKKACiiigAooooAKKKKACiiigAooooAKKKKACiiigAooooAb/FX5Q/t2f8jpov8Avyf+gwV+r38VflD+3Z/yOmi/78n/AKDBQB+kvw1/5EvTP9x//QjXc/w1w3w1/wCRL0z/AHH/APQjXc/w0AVdR/5B9z/1xk/9BNfx96j/AMhC5/67Sf8AoRr+wTUf+Qfc/wDXGT/0E1/H3qP/ACELn/rtJ/6EaAKdFFFAH//U/N+rmnf8hC2/67R/+hCqdXNO/wCQhbf9do//AEIUAf2Cad/yD7b/AK4x/wDoIq5VPTv+Qfbf9cY//QRVygAooooAKKKKACiiigAooooAo39nFqFrJZXHKSAA/hz2xXyb4p/Y2+GXim6kvNUj3NIQTzMPQdpR6V9eEkKCvJpCXLAFePXNAHw5pX7BPwg0q8W9trcB1Oes/pj/AJ717ta/AjwfaWq2dvFhU4+9J9e717gQT0OKQLjoaAOJ8NeCdH8JjbYLz9W9/Vj612+CTnpRlv7v600Bzy1AHm/jP4X6D43mWfVVDEf73t6MP7tbPhbwbpXhWAQaWNoX2Pv6sfWuxB4+Xmg7j04P50AOooooAb/DXDfEr/kS9T/3E/8AQhXc/wANcN8Sv+RL1P8A3E/9CFAH5u/sKf8AI6a3/vxf+gT1+rg6mvyj/YU/5HTW/wDfi/8AQJ6/VwdTQAtFFFABRRRQAUUUUAFFFFABRRRQAwDb75pKYhzmkV89ulTzpScWKT5NEY/iDTv7U06W0I/1gx+o9xX4J/tRfCbVPh14si1+xQlC7MSMDosY/vN/e9K/oD3AZfrmvEPjF8LdL8e6Lcw3UYZwo29e5X0Yf3a/VfCjjuXC+ZxqT1oy+JfJrs+5x5hhVOPMfLP7KH7Q9r4psP7H1CXzJYgoGcjr5h7IPSv0OtpluohIv3Wr+b3xNoni39nXxrHcQK0NpNI2T8p4VR7yHrJX7L/s6fG7TPH+hxQRzCSdBz1Gcl/VFH8NfYeMHhxTpTXEeTK+Gnrp02Te/e/T/N82DxzqO59cE5pF+agcjIoVutfzupKL5Jbs9joSUUUVqSFFFFABRRRQAUUUUAFFFFABRRRQAUUUUAFFFFABRRRQAUUUUAFFFFABRRRQAUUUUAFFFFABRRRQAUUUUAFFFFABRRRQAUUUUAFFFFABRRRQAUUUUAFFFFABRRRQAUUUUAFFFFABRRRQAUUUUAFFFFABRRRQAUUUUAFFFFABRRRQAUUUUAFFFFABRRRQAUUUUAFFFFABRRRQAUUUUAFFFFABRRRQAUUUUAFFFFABRRRQAUUUUAFFFFABRRRQAUUUUAFFFFABRRRQAUUUUAFFFFABRRRQAUUUUAFFFFABRRRQAUUUUAFFFFABRRRQAUUUUAFFFFABRRRQAUUUUAFFFFABRRRQAUUUUAFFFFABRRRQAUUUUAFFFFABRRRQAUUUUAIeor8ov26/+R00T/fl/wDQIK/V09RX5R/t1/8AI6aJ/vy/+gQUAfpF8Nf+RL0z/cf/ANCNdz/DXDfDX/kS9M/3H/8AQjXc/wANAFXUf+Qfc/8AXGT/ANBNfx96j/yELn/rtJ/6Ea/sE1H/AJB9z/1xk/8AQTX8feo/8hC5/wCu0n/oRoAp0UUUAf/V/N+rmnf8hC2/67R/+hCqdXNO/wCQhbf9do//AEIUAf2Cad/yD7b/AK4x/wDoIq5VPTv+Qfbf9cY//QRVygAooooAKKKKACiiigAooooAKKKKACiiigAooooAKKKKACiiigBr/dNcP8Sf+RM1P/cX/wBCFdw/3TXD/En/AJEzU/8AcX/0IUAfm5+wp/yOmt/78X/oE9fq4Opr8ov2FP8AkdNb/wB+L/0Cev1dHU0ALRRRQAUUUUAFFFFABRRRQAUUUUAFFFFABQRkYNFFAHx3+0h8DtL+IOkS3TQg3CDjGe5QdnXstfjr4R8QeK/2evG8lpcuy2kzqAPl6KpPo56yV/R/NCJozDL86v1/Cvzs/as/Zwt/Floda0uPMsYJwO+fLHeQenpX9EeEXiLSoRfD+da4ap0fS12tlffpf/g+bjMM5/vV0Pq/4R/FDR/HuiwtZONyrzyT1Leqr/dr2sjIJJ6V/PZ8AfjLrHwl8Tnw/rjNtLgYOB0Dt2Vv7w71+7fgTxhp/izRoL21cHeCe/qR6D0r4/xY8OKvDmY80feoz1g/kr9X1fUrB45V37Nneg4pG5pCM0tfkU0p0/cPSsDfNSEZpV+WngYqbe1pckh3sLRRRW5AUUUUAFFFFABRRRQAUUUUAFFFFABRRRQAUUUUAFFFFABRRRQAUUUUAFFFFABRRRQAUUUUAFFFFABRRRQAUUUUAFFFFABRRRQAUUUUAFFFFABRRRQAUUUUAFFFFABRRRQAUUUUAFFFFABRRRQAUUUUAFFFFABRRRQAUUUUAFFFFABRRRQAUUUUAFFFFABRRRQAUUUUAFFFFABRRRQAUUUUAFFFFABRRRQAUUUUAFFFFABRRRQAUUUUAFFFFABRRRQAUUUUAFFFFABRRRQAUUUUAFFFFABRRRQAUUUUAFFFFABRRRQAUUUUAFFFFABRRRQAUUUUAFFFFABRRRQAUUUUAFFFFABRRRQAUUUUAFFFFABRRRQAUUUUAIeor8of26f+R00T/fl/9Agr9Xj1FflD+3T/AMjpon+/L/6BBQB+knw1/wCRL0z/AHH/APQjXc/w1w3w1/5EvTP9x/8A0I13P8NAFXUf+Qfc/wDXGT/0E1/H3qP/ACELn/rtJ/6Ea/sE1H/kH3P/AFxk/wDQTX8feo/8hC5/67Sf+hGgCnRRRQB//9b836uad/yELb/rtH/6EKp1c07/AJCFt/12j/8AQhQB/YJp3/IPtv8ArjH/AOgirlU9O/5B9t/1xj/9BFXKACiiigCEhixXOFpQyspSI4I9umfrXj/xD+MHh/4fX9pZaswWa4LgD5uwX0Qj+IV1d34y0220BtcmYLCyhgeT0OPTP6UAdsDu5zgUmMkMV+YdOa/OjV/2xPDVxrf9nWFx8sTYbCv6A94q+ufhh8XNC+I9qsmnShnQfNw3Od3qq/3aAPY6KKKACiiigAooooAKKKKACiiigAooooAb/DXDfEr/AJEvU/8AcT/0IV3P8NcN8Sv+RL1P/cT/ANCFAH5ufsK/8jtrn+/F/wCgT1+rh71+Uf7Cv/I7a5/vxf8AoE9fq4e9ADqKKKACiiigAooooAKKKKACiiigAooooAKKKKAK7JtHB61R1Kwj1K2a3kAwRj/PSr6HZwetGT2rCg6yqKttfoVJJrkZ+PP7Xf7MsiSL4n8KxESQlmJXvnyl/ik+vauE/ZQ/aQvPDeoyeGvE0hjdCq4bHpI38MZ9R3r9mfEOhWviCxltLgAowxgj6H1HpX4hftQ/s/6h4I1seI/DcZBkYtlePuiNf4nPqe1f1v4a8W4LijLHwpn7u38En03k9ktXZLV/8HwMVS/s/wDfR/r+rn7laHrFnq9nHdWrA+aM9+2fYelbbDGdx4FflF+yN+0kNU36Hr7Ykg2qNx9fNPaP2Hev1R069hvrZLy3OUlH8uO9fz3xrwdX4ZzCWErqy6Pv+L7nq4fEcxdWpGpCMU4nFfJSV3odL3FooopiCiiigAooooAKKKKACiiigAooooAKKKKACiiigAooooAKKKKACiiigAooooAKKKKACiiigAooooAKKKKACiiigAooooAKKKKACiiigAooooAKKKKACiiigAooooAKKKKACiiigAooooAKKKKACiiigAorHm8QaJb65beGp72FNVvIJbqC0ZwJZIYSqu6r3Clhn/6xxsVc6U4JOaaurrzW115XTIjUjJtRd7aPyfYKzdZ1jTPD2k3mu6zcLaWGnwSXNzO+dscUSlnY4BJwB0Aye1X0ljk3eW6tsYq205ww6g+h9q8Z/aMtJ734F+N4bckOujXMxx/chHmP/wCOqc135PgoYvH0MJVdoznGLfZSaTf4nHmeKlhsFWxNNXcIykl3aTdj2G0ura+tYb6zkWaC4jWWKRDlXRwGVgfQg5FWK8v+CM73Pwa8DTync7eHdL3E9SRbRjJ9+K9QrLMcL9VxdXDXvySlH7m0a4HE/WMNTxFrc0U/vVwoqpfX9jplrJfalcRWltEN0k07rHGg9WZiAB9TXBeEfi78OPHuvah4b8G65b6ve6XEs1yLUO8KozbQVm2+VJz/AHHNKjl+KrUZ4ijSlKEPiaTaj01ey1fUKuNw9KrCjUqJTl8KbSb9Fu/kd9e31lptrJfajcRWttCu6SaZ1jjRfVmYgAfU1ZBBAIOQehrwX9qHTLnVvgD40tbUEulgt0cf3LSWOd/ySM13nwpubC7+GPhK50t5JLSTRNPaFpXMkmwwJgOx5LDoc969CeURWTwzRT1dSUHG2iSjGSd79btWt03OKOZyeaSy9x0UFNO+95Si1bysne/U7+iiivDPXCiiigAooooAKKKKACiiigAooooAKKKKACiiigAooooAKKKKACiiigAooooAKKKKACiiigAooooAKKK8G+EPxI8ReOvF/wAR9H1wWkMHhbXjplhbwxssy26bwJZWZiG87aGXAGMN1GMejhMrrYjDV8VTty0knLv70lFW+b/rQ4cTmFKhXo4ad+ao2l8ouTv8kev+IPEnh/wppkmteJtRtdLsIeHuLuVYYwTnA3MQCxxwBye1fKsH7bXwml1m+tWtNZ/saznSAa3HZmSyYsdpdgreYiZxtyu5gfujofpvxZ4I8JeO7O207xjpNtq9raXK3cMN2nmRrMgZQ208H5WIIOQQeRXxjqXwI+PPhbw54j+E/wAO7zw7feBvEc9y0TamJo73Torsjei+WNhCjocPk8hVzgfb8FYDhjFUZ082k1Wuvin7OCjf3nGXLLmmlqoySTu7XaPkuLMZxBh6sJ5bFOlZ7Q55OVtFJc0bRb6xba62TPu6yvLTUbODULCVLi2uokmhljO5JI5AGVlI4IYEEH0qzXLeB/DQ8G+DNB8IrMbkaLptpYecRjzPs0Sx7sdt23OO3Supr8+xUKUK040Zc0E3Z91fR/NH2uHlUlSjKqrSaV12fVBRRUEN1bXDyxwTRyNA2yVUYMUbGdrAdDg5waxSb1RrdbE9FFFIYUUUUAFFFFABRRRQAUUUUAFFFFABRRRQAUUUUAFFFFABRRRQAUUUUAFFFFABRRRQAUUUUAFFFFABRRRQAUUUUAFFFFACHqK/KP8Abr/5HTRP9+X/ANAgr9XD1FflF+3X/wAjpon+/L/6BBQB+knw2/5EzTP9xv8A0I13CfdFcP8ADb/kTNM/3G/9CNdwn3RQBV1H/kH3P/XGT/0E1/H3qP8AyELn/rtJ/wChGv7BNR/5B9z/ANcZP/QTX8feo/8AIQuf+u0n/oRoAp0UUUAf/9f836uad/yELb/rtH/6EKp1c07/AJCFt/12j/8AQhQB/YJp3/IPtv8ArjH/AOgirlU9O/5B9t/1xj/9BFXKACiiigD8mP2851tvFmhvuJ2PLnAPdYK6z4o/FvTtJ8GaT4esn/4+kkU4z/CyN3U+vrX0X+0L8Grb4iwfbREGuo+U57nyx/fUdFr4ss/2efH+u69bnxDCfslqx2ZaPoR/suD1AoAs/D79nDw3N4c1TxLfx/vHVGBJf1Ze0n9K2P2DLkjxRq2mwAiG2aMDJz95Zz35r7l1Hw0dN8FHSLFV3SJt+8OzZ7n3rx79mj4Oah8P9c1HUbpdoumjPY/dEg7O396gD7eooooAKKKKACiiigAooooAKKKKACiiigBv8NcN8Sv+RL1P/cT/ANCFdz/DXDfEr/kS9T/3E/8AQhQB+bn7Cn/I6a3/AL8X/oE9fq6Opr8o/wBhT/kdNb/34v8A0Cev1cHU0ALRRRQAUUUUAFFFFABRRRQAUUUUAFFFFABRRRQAUUUVMgIf42/CvNfiJ4F0rxdo0sF3GCSuBnPqPQj0r00EY+TmmbWIwy5FdGHxEqclOIH86Xxg+GPiL4KeK/7V0kNDbyPk42nOFUd2c9X9K/TP9l/9oK08b6YNOuHDTwhQSSR1Mh/uKP4a90+N/wAHtJ+IugPFeIGnRTjrzkr6Mo/hr8KNbtvGX7Onil7i1LR20z8fc6Ko9fMPWSv6+yurlnibkDyvGu2Mpr3d9db7q2lo/wBdfDq0vq9Tn6H9EnibxzpPhe0W8vHAjwSeT7egPrXzPqn7bPwq0u7e2uZ1WRSAf9ac8e0Rr8dPjZ+11q/iHRobaxuCdwIPT1T1iHpX58anrl7qd293M7FmIPX2xXv8CfRLWNwjrZrJxktkvV/3jLF57Dk5Vuf1seB/2k/A3jphHo8qkn/f9/70Y9K+hLWdbuMSRng9O9fx/fCr4wa74H1iKS0mbyweRx6N6q3rX9HP7K3xoX4laIkbtukUDP5yf7K/3a/LfGbwExHCVNYui26Xd28v7z7nTgszVWyPs9acvFFI4xiv5pfvVE+x7d77ktFFFakBRRRQAUUUUAFFFFABRRRQAUUUUAFFFFABRRRQAUUUUAFFFFABRRRQAUUUUAFFFFABRRRQAUUUUAFFFFABRRRQAUUUUAFFFFABRRRQAUUUUAFFFFABRRRQAUUUUAFFFc5c+LfDtp4ns/Bk96q61qFtLeW9mFdna3gIDyEqpVFBOAWI3HIGSDWtKhUqtqlFtpNuyvotW/RLVvoZ1K0KaTqSSu0tdNXol6t7HR1DNc21uYxcSpEZnEcYdgu9zkhVz1YgHgc1NXwX+2DqEg8a/DqzR2T7FLNqMe0kf6SLywihbjuu5gD/ALRr3uE+H3neZ08uU+TmUne17csXLa63tb5njcSZ0spy+eO5eblcVa9r3klvZ7Xv8j7YufEuhWev2Xha6vI49V1KCe5tbVs75YrYqJWU4x8u8cZzjkDg43K+Zv2jnk8J/wDCG/GWBGYeCdaX+0NgJYaTqgFrdkAdSMxkD8e1YsX7XvhW8iW70jwP461KzkG6K7tdGV4JEPRkY3AyD2OBXoYfgvHY7AUMdldN1IyTU9rRmpP3dbbwcJLrq+xxVuKsJg8ZWweYTUGrOO95QaWvXaXMu2iJPiy48P8A7SHwh8TEkRakur6JOSflzJEpgH1aST8cV9X1+Wfx3/aV0rx1Dp82leFdf0m98DeIdK1iC4v7ZYyNgYyRXCqzC3JYxmPLN5n+z0P2L4C/aa+HnxE8SWfhTRrTWra/v1kaH7bp7xRERoZDl1Z1UbVOCeCeM8ivqOKeCc7hk2BxNXDSvSpzjO1naKm6kW7N6ctT5W12Pn+HeLMplmmLw9OvG1ScZRvdXbiqbSulrzQ/HTcxf2Xrhrqx+JVxKSZpPiLrzSA9VJEHHtgV137QHjPw1oXwl8Z2d7qtlb3tzoeoWsFvJcRpNJLcQPEiohYMzZYcAZr4V8P+AtR0f4tX3h/9o651XQtN8cX19qFkdO1E2ej3OptORIsgiYj96m0ozFHGVVgS2R6T8fvgX8HfCOgaD4B8AeHbe38U+NNYtNPtJ2lmubmG3WRXuLgGaR9qqAqsRjhz2zj6TG8NZTLinD1q2IlJVXCcfZwjKnywS537RzV1DllzWg7WPBwufZkuHa9KlQjF01KD55NT5pX5V7NQesuZct5K9y58BP2qPhp4T+C3h/w/4pv7iXxBpkM9oNOtLSe4mkjikfydpVPLGYio+ZxyD2rstB0v9pf416LbeLr7xla/DzQdVQ3Nrp2mWXn3yWxJ8syzSmN1Zl+bKyYwc7R90aPwr03TPhD+0H4t+GENtFZaV4rtINf8PhECIGiUpd26YHUEFgo6Imcc16b+034svPBfwN8V6zp4YXMlotjG6EKYzfSLbFwc5yokJGOc4+o4c3xeD/t+NLIsKlVxkoTjUq8lRJVXe0IShyx5ZScW3zNODSaOzLcNif7GlUzjEN08LGcJQp81Nt09Lymp80rxSaS5U1K7R8o/B39nzRfjDrereOvHet634s8KWd5LY6KdUvZWfU3tzsmu2ZWDJAXBWNFbccHceMH6V8S+OvAfwLlsvhz8OPCL6n4i1GH7Ta6DoVusbNECVE91MAQiEggyNvbgkjHNeMfCf4m/G9fAWk+E/hv8IXhtNCt4tOa81nUVs1eaJFMkhglSCQ72bedpYZYjPBxW+IGhftAadpmu/F/x1rnh/wAF/ZNKFrdP4at3n1Se1STdHbCa4O2NnlcAOj5BIPQAV6ub4XF5lnTw+d4mH1dPlpUfbJ3d7Q5oUeZpy3lZRk27JxW3nZbiMNgMpVfKaEvbNc1Sr7Jqy3nyzq8qajtG7aSV2pPf1K0+FPxP+LF3HrXx31RNM0qPL2nhLRJWWBGIIDXtwDmd1z9wFoyehALIZP2QdYuz8NLzwFqzZ1PwNrF9olwp+9tjkLofplmRfZK+ifB94dR8JaJqB+0ZutOtJj9sZWuf3kSt++ZQFMnPzkAAtnFfLnhc/wDCvP2vPE3hw/u9P+Iejw6zaqPum9s9yyAe5CzyN35FfF0syr5vl+YZVWjGPsoqpThFcsY+yk1NJavWE5SbbcpcvvNn1VTAUcsxuCzGk5S9o3TnKTvKXtEnFt+U4RSSSS5tEj7Fooor8tP0MKKKKACiiigAooooAKKKKACiiigAooooAKKKKACiiigAooooAKKKKACiivnz/hofw5B8S9Z8A6ppl7Y2GhyR2914gmKLpsE8kPnhbiQkfZ1ZQVjdzh2GBivTy3J8ZmHtPqdNy5I80rW0V0r+erSsrt9EcGPzTC4Lk+tT5ed8qv1dm/lonq7LzPoOivI1+PnwTabyB460DdnGTqEIX/vott/WvTNL1bStbso9S0W8t7+0l/1dxayrNE+P7roSp/A1ni8qxuFipYqjKCf80WvzReGzHCYhuOHqxk12kn+RoUUUVwHYFfKPxr/au8A/DW11nw/ot9HfeMrFkt0sJre5EEUsm355ZRGEZI0beVRyzY2jBOR9XV8w/tReHNevfDPhzxd4a0t9Xn8IeJtO1+7sYE3TXNtZ794UAEuRkcDPy5Pavr+BaGV185o0M2g5Qk9FzqC5t0pNxleMvhaTjvfm0PmOL62YUcrq1stmozS1fK5O3VxSktVuvi2tY6/4a/H74XfEMWWjaR4q0/UNdeBBNAkU9l506oDKYIrpUdlyCQoLEL1JxmvLbgn4X/taxXB/daP8U9K8piflQatpoAX8TGAB6tNXkXjj4g/D/wDaC8WfD/QPhFpUv/CQ2+v2uqalqBsPs1xpdlaEmVZZQOckhsK7IWQDO4rXY/tk/ETwBp+j6Ra2mtWx8b+GNastX0+zhLSSo0TjekrICsIKkPiQqW2jANfo2X8KOhmtPL6FCpD65TqQnSmlKdNX9ybcYxSgqijJNxVlFvZpnw2N4kVbLqmOq1qcvqs4ShUi2oz09+C5pSfNyOUWlJ3cl1TR920V8oXH7TN74sJs/gf4J1jxlK3yjUZozp2kox9biYDcQeqkJns1Zsnwk/aB+J/7z4r+O18NaXL97RPCamJih6pJdP8AN04IPmqa/PocF1sP7+c1oYZdpO9T5Uo3mv8At9QXmfbS4rpVvdyqlKu+8VaH/gyVov8A7dcn5HtPjz45fCn4ah08XeI7O2uo+tlExuLvPYGCIPIufVgB714b/wANF/FP4hfu/gd8Nb67tZP9XrPiAiysiP7ypuUSL3+Wbdj+HJxXrXgT9nL4OfDwx3Gh+Hbae+TDfbtQH2y53/3g0u4Rt/1zVK9wrX+0uG8v0weGliJr7VZ8sPlTpu//AIFUfmjL6hn2N/3rERoR/lpLml86k1b7qa9T40/4Ud8e/iJ+8+LvxMm02yk+/pHhZPs0ew9UaciMt9HSUe9e8/C34O+Bvg9pl1pvgu2mjN+6SXlxczPPNcPGCFZy3yjAY8Kqjk8V6lRXnZpxjmeOw7wcpKFB2/d04xhDTVXUUuaz1vK7vrc7su4Xy/B1lioxc6q+3OTnLXezk3b0jZBRXnfw9+JOj/Ega9LoltdRQaDrFzozzTqqx3Mtrt3yQlWbMeW4JwfavRK8HGYKvhKzw+JjyzW6fS6uezhcVSxNJVqErxez/AKKKK5ToCiiigAooooAKKKKACiiigAooooAKKKKACiiigAooooAKKKKACiiigAooooAKKKKACiiigAooooAKKKKACiiigBv8VflD+3Z/wAjpov+/J/6DBX6vfxV+UP7dn/I6aL/AL8n/oMFAH6S/DX/AJEvTP8Acf8A9CNdz/DXDfDX/kS9M/3H/wDQjXc/w0AVdR/5B9z/ANcZP/QTX8feo/8AIQuf+u0n/oRr+wTUf+Qfc/8AXGT/ANBNfx96j/yELn/rtJ/6EaAKdFFFAH//0Pzfq5p3/IQtv+u0f/oQqnVzTv8AkIW3/XaP/wBCFAH9gmnf8g+2/wCuMf8A6CKuVT07/kH23/XGP/0EVcoAKKKKAPhP9pj4xat8PfEel6fpx2wzNIO3OFjPdGPVq9e1z4gtpXgFNRlYLc3EZI4HVXA/u46H0r4//bt0G/vdd0rVYwRBatIWxg/eEA9c9vSvGviJ+0BpnjGHSfC2hsfNhDq4w3fa38UYHY96AOO/4Wj+0X4k1ua70eVhYW7Zbi2PBH+0oPUGv0B/ZX+MF98QI5LHVpM3lrgPwOreZ/dVR0WofCHgu18N/DW91GeMCSWNT05++w9T614J+whEy+MddldCAXhwSf8AZnoA/WSiiigBmOfm5x0ppkQHJcAfUVjeI5rmDR7h7TmYAbenqPXivx2+MXxC/aF0q/uX0UuIEII/49+mF/vLn1oA/Z/fGY8khsen/wBapTt4T1r8zv2GfjN43+I895aeK2LNEUHPl9/O/uKv90V+l/HEjcYz+tAClVf5hSb0xiQgfjVHVpXi0+WaP7ygY/MV+bHxc8Q/HS/1KSDwWGKA8Y8j0X++PrQB+mvmpnlhjsc0vzAddx7dq/FiTxn+014YuEl8Qb1tIjlz/ovQ/wC6CepFfoR8A/jJZfEm1WKJ991CMSDnqd+P4FHRaAPqOiiigBv8NcN8Sv8AkS9T/wBxP/QhXc/w1w3xK/5EvU/9xP8A0IUAfm7+wp/yOmt/78X/AKBPX6uDqa/KL9hT/kdNb/34v/QJ6/V0dTQAtFFFABRRRQAUUUUAFFFFABRRRQAUUUUAFFFFABRRRSaAKKKKXKBTljSQCGTnf/SviH9qX4FaH410GW9eMbolJOA3cx/7Y/u19w7ckH0rG13T01bTJ7B13CVcY+hz7V73C+fVMlzSnmFF2kmr/l+TIqUY14WZ/GX420ptI1+4ssEKjYGfoD61yJKhRjrzX6t/td/sv3ekX02t6XGQrnPA/wCuY7yH19K/LK90u60+7NpKpDj1Htmv9mPDjjrCcRZXTxNFq9tdfN+S7H53jcM4VGirDncrx9ecV+5n/BL/AO0JFdpcKRv8vGT6faK/J34UfCfV/Herwi1B8rdyOD2b1Yelf0g/ssfBpPhro8R2bZHXn8DJ/tN/er+f/pT8a4Ohw/PJ5tOrLT/yaL7Hr5Lh3zXPtFeKUHFMZt1SNX+Y8abjDlW59i7LVjqKKK0EFFFFABRRRQAUUUUAFFFFABRRRQAUUUUAFFFFABRRRQAUUUUAFFFFABRRRQAUUUUAFFFFABRRRQAUUUUAFFFFABRRRQAUUUUAFFFFABRRRQAUUUUAFeVa98R5dD+LPhb4bvZI0HiWx1G5S7LkOk1iqvsCYwQU3EnOenpz6rXyd+0LKfD3xO+DXjknZFaeIp9Hmk6BV1iNYuT6BUc/TNfS8J5fRx2PeErRvzU6vL/jVKbh/wCTJHg8SY2rg8EsTSduWdO/+F1IqX/krZ9Y0UUV80e8FfM+m3PmftdazBLy0fgS1EWe0f28s2PbcwzX0xXyJ8SdStPh5+0/4G8carcRWeleJdDv/Dt3czOI4omtn+1Rl2YhQGd0XJI6e1fYcG0XXq4rCwV5zo1OVdW4pTsvNqLPmOKKqo08PiJaRjVhfyUnyXfleSPruvgP9rLSbzUPjL8HIIQTDqepiykx02pe2UjZ+gIP0Fe7+I/2qPgV4ckNsfE0Oq3RO1LfSY5L9pG9FeFWiz9XFfFP7QH7Q+t+JvFnhDW/DHhPVdJTwVN/wkTHXLf7PJcW7zQwJIY1JZbdnzGWDHcW4wVr7jwu4Sz6lnVPFvDShFxqJOa5FeVOUY25rN+80tEz5HxC4kyaplNTDLEKUuam2oPmdlOLd7Xt7qe7R+oHiTw/pnizw/qPhnWovOsdUtZbS4ToTHMpU4PZhnIPY4NfLn7P3jmTwLc3X7O/xGmisdc8L7hpFzLiGLVdKJLRSRE4Uui9V67Rzlkkx0/hSx/ab1nVtO1/xj4j8L6NoiyxXM+n6RavdNcWwIZozNOfk3rxvRzjOR6VH8aJv2YPGNrDafFfWdDlmsSTCy36rfQg/eVfs7+dtPdSCpPOMgV4OV4OFGNTIsU/rFKpaV6CdSVKpG6UkmoxldNxlFSs00+ZOKPZzDFTquGcYdexqQvH981CNSDs2m05ONmk4tq6d9LNnBfDPw1H8Yvhz8YNUXDRePNd1WLTJm+61vaxrDZS59FkXP8AwGvUv2XPGTeL/g1osV5ldT8Pq2hahE/34p7DEah887jFsY57k15lb/tY/s7+ANDs/Cnw8h1DVbWxCWllZaTYyhd7k7UDXPlFmdiSWyzMST8xPPCfDy4+O0HxQ8S+NPh18OrnR9A8Xy2899Z+JZ1skgukb97cJH8s2ZAXJCo3LZOQFFfWZpkeYY/BY2GOovDU+aNSj7Zxpv3Eqbg1Jp3lT5XomrwS6o+by/N8Fg8XhJYOr7efLKFX2SlP4m5865U1ZT5lq72m30PuHxt4E8J/EXQZfDXjPTotT0+UhvLkyrI4yA8bqQ8bjJwykHBI6E15r8Ov2cfhh8Mte/4SfQbW6udTSIwW9xqFy901rEwIZYQ3CZBxnBbBIBwSDU8W/Eb4yf27eeHPh38N5bsW0hiGs6xfQ2lg2MfvEjVjLKhz/CVb2HQcmfhD8cvH3PxW+IraTYSf6zSPB8Rs0IPVTeSDzipHBVlYH1r4vLsPmGFwDw+JzKNDD1FdwVRzck1/z7p81m1up8l+rsfVY6vgsRjVXoYCVavB2UnBRSa/v1OW6T2cea3Q5f8Aac8efDCw8T+DbG7v9QHjHRNTW/sm0GCO9vLeMY8y3ljaRBi62qgQknOGIKghsb49638R/iD+zZ4v1fxJ4TfwxBHc6fcWNnLOJr6SyjuIzJJcRqo8krw208gZyOMtu/AP4feD/Avx6+KPh/w9YLHFotr4fjs5ZyZ7hRd2zzXDebJl8yyEF8EA4AxgAD7IvbKz1Kzn07UIUubW6jeGaGVQySRyAqysp4KsCQQeor3cwz7AZBisvw+EpOr7D2VVVJu0rT5a3LGMXaCalZqTnZ3as22/HwWTYzOcPja+JqKn7b2lNwgrq8OaleUnrK1rqyhdWTukksvwtrmmeJvDemeINGmS4stQtYriCRDlSjqCPoR0I6ggg818nftFar/wtDxt4Y/Zw8PSGZr+9h1TxO0RyLXTLUiQRyEcBn++AcEMI/74q9cfsoXPh26mn+DfxB17wRb3Ds76erG9sVLddkTSREexdnYetetfB/4I+GvhDZ3k1ncXGsa9qr+bqmtXx33V05O4jJJ2puJO3JJPLMxwa8vB1sgyavLOMDinWqK/soOEoyjJ7SqN3j7m65JS5pJbK56GKpZ1mtGOWYzDqlB29pNTUlKK3jBL3vf2fMlaLe7PZI40iRYo1CIgCqqjAAHAAHoK+Pf2sI5fCV34A+Ndmjb/AAfrscV8UHzHT77Cyg+3ybB7yV9i1558WfBMfxF+G/iLwW4Bk1OxkjgLdFuU/eQMfZZVUn6V81wfmtPL85oYnEfw78s/8E04T/8AJZM9/ifLqmNyutQofxLc0P8AHFqUP/Jkjv4pYp4kngcSRyKHRlOQysMgg9wRUlfMf7K3xP07xr8L9G8PX99CPE2gW7adf6e8qi7VLFhCkrRE+ZtKGMM5GN5IzmvpyuDPsnr5VmFbL8QvehJr1Sdk15PdPsduT5pSzHBUsbRek0n6XWqfmtmFFFFeQekFFFFABRRRQAUUUUAFFFFABRRRQByfjey8X6h4YvLbwHqVtpWuEI1pc3cH2iAMjhmR0/uyKChYAlc5AJFfOX/DRnjT4fn7D8dPAOpaZ5XytrWhJ/aGlS4/jJzuhB67Szv6gdvrmivoMpzfB0KTw2OwsasG73u4TT02mr6abSjJLdJNu/i5llmJrVFXweJlTmla1lKD9Yvr5xcX0belvnfSv2rv2ftXRWg8X20BPVbuG4tip9D5sSj8iRXsHhXxt4Q8c2cuoeD9YstYt4X8qWSzmWYRvgHa20kqcHOD2qjr3w0+HnijJ8ReGdJ1Fiwctc2UMjbh33Fc/rWn4a8H+FPBtpJYeEtHsdGt5n82SKwt47dHfAG5hGBubAAyecVtmdTh+eHby+FaNXtOUJRt11UYv00MsBDO417Y2dKVPvGMoy+5ykvxOI8C/E5vF/jvxz4HudPNhP4Qu7SJGZjuube7iLpLtKjALK2MZBUqc88+tV8mapOfA/7XmlXcnyWPxB8OSWOTwp1DTW8wEn1EKqg93x6V6X4w/aH+C3gO8k07xL4rsoryElZLe3El5NGw/hdLZJSjezYNd+b8NVq+Iw7yfDynGrShNRgpTd7ck9rv+JGfpsceW59SpUa39qVoxdOpOLcmoq1+aG9l8EontFFUdM1Kz1jTbTV9Ocy2t9BHcwOVZC0Uyh0JVgGXKkHBAI7jNXq+MnCUJOMlZo+pjJSSlF3TCvzV/aL0vTfBf7Qei6z4jtornwp4wutJv9RguFD281zpDG0lEiNlGSO1uPMKsMMf1/Sqvlz9rz4aSfEX4P382nxGTVfDrHVbQKMu6RKRcRjHJ3QliFH3mVRX3/hjm9LA59Tp4mXLSrJ0pPaylbld+nLNRlfpY+M8QMsqYvJpzoRvUpNVIru43uvO8XJW8z0HxN8Nvgf4f8O6hrmveC/DyabptrLdXDLpFszJFCpZiqpFuJAHG3mvKP2X/Al3pF14q+IcGkP4U0LxZPA+jeHiz5gtYFIFzKjMwSSfO7aMbRnHylcet/APxXc+Nvg34S8SXrF7m406OKdz1ea1Jgkc+7NGW/Gum8QfErwH4U1y18N+JNbtNN1C8tpbyOK4fy1W3h+9LJIR5cSZ4UyMoYghckEVnUzHN6FPG8PWnVqOTjPWUrRpyu7Q1SfNG7nq1FWVk3e6eByytPC53eNOCipR0jG7mrK8uqtKyjs27u9lbuKK+WfEf7W3w2t7uTQvAMWpeONbIKx22hWclwgfsWkO1WXPUx764r4YL+2j4k1aw1PxvfaV4f0VZ45bm3ubWB7qaAMCyLHCGZCy5HzyIy9eawp8BZjDCzxmYzhhopXSrNwlPf4IWcnt2S1RtPjLAyxEcNgYyrtuzdJKUY7fFK6ivv6M+26KKK+JPrD4w13xv8U/il8SvFfwh+GkNt4b0nSLqCHVvFkQLXUcbRAyRRLwPtDOWVCDlVUnKnkeZ/tFeBvhl8F/h14a8GaNZJG/iXxDZ/2rqNyRLfXdpasJbh5Z25PzmM7RhBk4Ar2P4CBNH+NXxr8MzHbcNrNnqqK33mivkklyPYbl/wC+hWR8ZdD0rx7+0x8OfA/iO3W80ldD1u5uLd8hXF1BJCeRgggxqQQQQQCDmv33K8fHAZ/RwVJcmEo0Y15KGkqjjh1UUpNv3nzNcqb5Y9Endv8AGcwwcsZk1XF1Hz4mrVdGLltTTrum4xSWi5b8zS5pdW1a32ZEsSRokIVY1UBAoAUKOmMcYx0ryb47+PNV+GXwm8Q+N9Eijmv9OhhFusqlkD3E8cAdlBGQnmbiM84rL+Gnw68ffDnUf7Ffxb/b3gyCBksbTUbbOpWmCPLjF0jASRouRllyBhQABXq/iLw/pPirQr/w3rtut1p+pQPbXMTfxRyDBwRyCOoI5BwRzX5HCGAwGbUZ1JrEUIyjJ2TXNG93FqSTTa0a1XZtan6XOeMxmW1YQi6NZxlFXafLK1lJOLaaT1T37pbHz/8AGv4hePtH8F+Dbb4dXNmniTxjqNlYw3bxrJbqJYGmd0V964ZlUAsGwpPfBr0H4J/Ej/hafw707xRcxLbakpks9UtQCv2e/tjsmTaclQTh1BJIVgDzXgHhf4BfFbQfGnhHQ9S16z1jwB4M1GXU9Kmn3DVIlMTxxWrgLsZUZhhs4C5xgbYwuu+Afj54D8c+L7b4KWmnvoXjyePUDf3k6RjRb5wVupRCTudpCd4Ko4Hy5HykH77FZRkOIwSynCYil7VXqRqt8iac2nCbaTTVPlmoatOLUbuWvxuHzLOaGLeZYmhU9m/3bppczTUE1OKT1XPzR5tmpJuyjp3njT4p+KNf+K+lfCD4SSxfa7CaO+8U6o8SzwWFkhBNthgVM0wOOMFcgAg7in01Xk3wd+Emi/CLwwdHspXv9TvpDdatqk3M99dvktI5JJCgk7FJOASSSxZj6zXwXEWJy+VSGEyuP7qmrc7VpVH1nLqk38MfsxS6t3+xyPD41Qnicwl+8qO/Le8YLpFdG19qXWV+iVsHw34X0DwfpS6J4bs0sbJZZphFGSR5k7tJIxLEsSzsTyfYcACt6iivBrVqlWo6tWTlJu7bd233b6s9mlShTgqdNJRWiS0SXkgooorMsKKKKACiiigAooooAKKKKACiiigAooooAKKKKACiiigAooooAKKKKACiiigAooooAKKKKACiiigAooooAKKKKAEPUV+UX7df/I6aJ/vy/wDoEFfq6eor8o/26/8AkdNE/wB+X/0CCgD9Ivhr/wAiXpn+4/8A6Ea7n+GuG+Gv/Il6Z/uP/wChGu5/hoAq6j/yD7n/AK4yf+gmv4+9R/5CFz/12k/9CNf2Caj/AMg+5/64yf8AoJr+PvUf+Qhc/wDXaT/0I0AU6KKKAP/R/N+rmnf8hC2/67R/+hCqdXNO/wCQhbf9do//AEIUAf2Cad/yD7b/AK4x/wDoIq5VPTv+Qfbf9cY//QRVygAooooA8q+Ivgrw34js5G19R5OOc7v9n+6QeoFfnpd6T+zT4D1uS8mAE6MCT/pR5xj1Yd69Q/bF+KGteEbmy0PTpDvui44Cj7vlHup9fWvN/h/+y+/jy2/tbxZASk4BDb/TcP4JF9BQB9F6P+0L8JfF1gugWrgo424/fDuT3jHp616/8Mvht4P8IrNqGgRgvebTwzj7u4fxMfU+lfC3jz9mJfAVo+seF0I8oZ6n2H8cjep7V6L+xz8Udc8Y3N3pmrOcWRUYO3+ISnso/u0AfolRRRQBXmiW5R4H6HH+NfOfxl8L6fZ+Fr+4ABJVe3+0vvX0gBhm/CvDvjcgXwjfmQ5BQf8AoS0Afn7/AME/wB4t1kD+/F/6DcV+uw6mvyJ/YA/5G3Wv9+L/ANBnr9dh1NAEM0KXCNE/Q1hWnhzTbF2uNoJPfB+nqa6IdSDXH+LfE9h4Z0157lhgDPU9iPY+tAHin7Q2oeHrTwxcwXm3zplwnBHRk9BXxd+wHp9/aeJ9Xe6UrEWj2Z/3Z65D4oeOtd+OviyCw8IEtawOwfGOdyqf4wh6oa/SD4J/DO18FaJb3Ij23Mqnf9QXH94joaAPfaKKKAOC8YePtI8FQm41LhO5+b29FPrXyT8Q/wBsP4Zy+H9S0tJsS7UH3ZfUH/nlX1t4w8A6R41hNvqXKdx83t6MPSvkn4h/sefDOLw/qWqJDmXah+9L6gf89aAPnz/gn7rNrrPibWr2y+67RHv/AHZx3r9cyMAheDX5F/8ABP3RrXRvE2tWVl91GiHf+7Oe9froTkEryaAH0UUUAFFFFABRRRQAUUUUAFFFFABRRRQAUUUUAFFFFABRRRQAhOKZQvzU3dUWVSNyoo4Txn4E0jxlata6nGGRhg9fb0I9K/Iz9pr9ieFA+qeEYN0jZJx7eWP45fTNftYoO3Geneqd7p0F7EYJwDkY5FfdcE+JGdcM4hVMJJ27XVvyffsc2IoKS0P5m/gtrcvwX8QiDWh5SbuQRnoH9A/98V++/wAIPi/4c8eaPbxaVMvmYP8Ae55b+8q/3TXzF+0F+yVonia2nvtLi3XI5XG4c/J6ygdBX5kabrfxJ/Z/8RCO7DxWitxzGeMewc9Xr+m89wOT+KmFeLwdTkxiXwu+v5LZf118SFWphJ+zivdP6TAqsMhs0pG0fMcivir4FftO+HfHNotvJIPOIAGS3X5/+ma+lfZkN0lzCsyEMj9MGv5Dz/Isbk2JlhcfBxS/roe/HkXvR3LtO20oOaCM147k1uUopARmoycVIRmoyM1m1Tesy4vuS0UUVsSFFFFABRRRQAUUUUAFFFFABRRRQAUUUUAFFFFABRRRQAUUUUAFFFFABRRRQAUUUUAFFFFABRRRQAUUUUAFFFFABRRRQAUUUUAFfOnx/wDjQPh3pdp4Z8KXVi/jPxBcxWOnQ3EqBLMTHBu7hWOFiQdC/wApb1UMK+i6+GvDXgnwl8f/AI9+PPG3ifSrbUvD3hlYfDFikifJcXkB3XEzFcF2iOVUk/cdcdBj7TgnA4GWIq5jmsW8Ph487SSfNJyUYRs2r3k7tXV4p6pXPlOLMXjI0KeBy5pVq0uVNu3Kkm5Suk7WS0dnZtaHvP7PHjXXvH3wj0LxF4ruY7nWp1uUu3jRIi5huZYkdo0ACF40VsBQDnIABrkf2vNCn1j4Gazf2WReaDPaavbMOqPbSqHYehWJ3NWb39kv4FXD/adN0GXRrxeY7vTL66tpoj6piUoCPdTWH8NrXXvEWk/FL4K+ItXuPENnokjaPZalfkNdyW+o2e7y55AB5jwlsbyNxz6YA97DVMrjm74jyeo1ClVjVlTlTUOWEqiVouM5xklzKNvddtlozx68MwllqyLNIJyq05U41Izcuaag3eSlGLTfK5X95X3Z9GeEtfg8VeFdG8T22PK1ewtr5AOgFxGsgH4bsV0NfMX7H+vy638B9Dtbon7Vost3pU4PVTbysUU+m2J0FfTtfEcS5X/ZubYnAdKc5RXom0n81qfW5DmH17LcPjOs4Rk/VpN/cwr5B/bM+Fln45+Flz4qtrYy614UU3kDqzAmzLKbtCoO0jyx5mSMgpgEAnP19UU8EN1BJbXMaywzI0ciONysjDBUg8EEcEU+G89r5NmlDM8O/epyT3tddY+kldPyYs+yejmuX1svrr3ZprvZ9H6p2a80eV/BvR/h5F4B8P654A0uztLO9022eOaKCFLhx5YDee8aJvlDAiQ45cGvn3wf4Ysvjd8QPjZruo4fTbqIeCdPmxuEa2sebhkPfE4jlXHc59K5O7u/iz+y9Z+IvAnhfw/deI/DGqPPP4T1GAlxpNxdHmG7zkLHGx3hmKqxBOfnbZ3Hw0+I3wa/Z6+HvhzwRr/irT7zVbyWWXVZrC4jvvKvZw00rzmJmZUUgRK2CWwvHUj9SllONwsMXmOUzlXniHFUXF88+RSVWUpJXcZR5YwadndyS0PzxZlhMRPDYHMoKjCgm6ql7sOdp04xi3ZSUuaU01pZRb1PLPgL8FdS+L2napP8d7jUtRtPDk8Ph+w0s6hcQQQvpkYimV4UEfYRkSI53ktu+YZP2DoX7P3wT8N7f7K8F6OGT7slxbLdyDHcPceYwPvnNeYah+2d8Fo5/sfhyTV/E10eFg0nTpWdj7Cfyc/UV5lN8dfjB8QfjP4K8JeHPDt34LsCz6lcWuuv9lm1OzUlZCUKBsIgcpGm4s3zHhQRrm2E40zjEVa9ZSweHUZS5JTdOEVGN3aGjd7b8u7u3a7M8uxPCuWUadKk44qtzKPOoqpKTlKyvLVK19ubZWWuh6N+1BaWWjaX8M57a3itdOsfiDoks6RII40QebyVUAAYBH419b14L+034Rm8ZfBLxNY2ak3tjbrqlqV++JbBhOdv+0yKyj/er0L4Z+LovHvw/wDD/jCIgnVdPguJQOizFQJV/wCASBl/Cvz/ADJvE8N4TEJ3dOpUhL/t7lnF/P3l/wBun2mBSoZ7iaL/AOXkKc4/9u80JL5e6/8At47iiiivjD6o+VNImHhf9rzX7C7+SPxr4Ys721Y9JJ9NbyWjHqwjVmI9BX1XXh/xn+FeqePU0TxN4N1GPR/GHhS5a70i9mUtA3mALLbzhQT5UqgA4BI6YIJB9L8Hy+LZ/DdjJ46gsbbXSjfbI9Nd5LQMHYKY2kAfBTaSDnBJGTjJ+u4grYfG4PC4+lUXtIwjSnD7ScE4xkl1i4KOq2kmn0v81ktKthMViMHUg+RylUhLo1N3lF9pKblp1TTXW3S0UUV8ifShRRRQB81eBf2fovA3x58U/Fqwu4f7O8QWckcViFYSw3V1LFNcOT93azxFlxz85GBtyfpWiivVzfOsZmdWFbGz5pRjGCf92KsvV23e76nnZZlOFy+nKlhI8sZSlJrzk7v/AIbZBRRRXlHohRRRQAUVyni3xz4O8B2A1PxjrNno9u2QjXcyxmQjqI1PzOw9FBNfPNz+2D8Pb24ez8A6J4k8aTKdoOj6ZI0W70Jk2OPwQ17+VcK5vmUHVwWHlKC+1a0V6ydor5s8bMeIsswM/Z4uvGMv5b+98or3n9x9Y0V8eal+0/430HT5fEPiL4Q+IdN0K12vdXs8yI8MTMF3GFo1JOSONw+o619d2l1BfWkN7atvhuI0ljbpuRwGU/iDU5vw3mGWQhUxkEoybSalCaurXV4Skk1daOz1KyzPcFmEpQwsm3GzacZRdneztJK6dnqtNCxRRRXhHrhRRRQB418Tdb+Nuk6rpg+F3hvStd04o7agb68+zTbuQqR5Kqo6NuO/PI2jqeEPxD/afh+aT4S6fcAdVh8RWyMfoXGK+oKK+lwfEGGo0IUauAo1HH7UvaqT1vry1Yr8NjwcVkterWlVp4yrC/RezaXpzU5P8T4ZH7bENtrA8K6t8P8AWbTX1vTp0tkLiBkW63bREszeWHZj93gBuME5Few6T+0JZHWNO0Txr4P8TeEJdVu4rG0utTsgbCS6nO2KH7RE7gO54AZQPfGSK37WkOmSfAHxTNqW1TbR201rIeHjuluIhEyHqGLHbkc4JHQmuH8S61efFv4q+BfhlYgyxeC5rLxV4quV+5Be28ebW1J6eY0jEuvofVGA+/w+W5DmeAhjaGB9jD977R+0nLl9nCElKLlpaTmoqLTd3Fcz5j4yvjs4y/GywlbGe1n+75F7OK5ueUo8rtrdKDk5JpWu7K2sv7ang+91v4UJ4v0ZpYdT8I3iX8csDFJltpf3U+xl5XG5JCR0CGvY/hD4I+FuheDtH1b4c6PaW1nqFnBdRXXlq93MsqBw00xzIz885PByAB0r03U9N0/XdKvNH1KJbmyv4JbW4iblZIpVKSIceoJBrxr9n/4f+MPhd4Uv/A3iS6hvtO03U7j+wZ0ctK2nSnzFEoIAVg7NwCcZIHAGfl1nsq/Cv9mOu4yo1LqN2lOE91bq4TV0n0nJrqfQPJ40eIv7QVJSjVhZytdwlDZ+SnF2dusIp9D3aiiuZ8N+MvDHi9tSXw1qEWof2PeyademLdtiuogC8eSAGKhhkqSM8ZyDXxEKFWcJVIRbjG13bRX0V30u9rn1sq1OM405SSctlfV23t3seOeIv2qPgx4S8Yah4L8SarcWF5pgb7RLJZTtAJF2/u1KIzuxByCqFCAcN0zyM37XHh/XGa2+F3hDxN41nJIV7OxeC09PnmcMyDPcx4Hevqm80zTdQKNf2kFyY/uGaNZCv03A4q4qqihEAVVGABwABX1dDM+HKVOMngZzqJK/NW9xvq7Rpxlr251bu9z5yrgM9qTkli4Rhd25aXvJdFeU5R078uvbofHVta/taeN7dLKxt/D/AMKtGxhEiVdQ1BI27Kq7oB+UTD69PIfDvwK8LD9pK98GfGa/vfGt1eaDBqulXuqTyp9pkjcpMhVZOQmGKRliqopyCK/SWvmn9pLwJr+raNpXxM8BIT4u8B3B1KyRQS11akD7TbEDlt6DIXq2Cg5evq+GOOK9XFzy+koYWFaMoKVNcrjN6wlKo26jXMkpXnZRbZ85xBwjSp4aONqc+IlSkpuM3zKUVpJKCSgnytuNo3bSR71oHhnw54VsRpnhnS7PSbRcYhsoEgTI7kIACfc81uV5X8PPjF4H+IvhXRfEunala2z6yfIjsp50S4W9Rd0tsEYhnkTrhR8y4YfKQa9Ur80zTC4zD4mdPHxkqibT5r3unZ776o+9y/EYWtQjPByTptK3LtZq6220CiiivPO08C1v4T69H8eNF+L/AISvre1glsZNM8SWk5cG6t1UmF4wqkNIGCA7ioARSM8g2PG/wh1XxH8WfCfxU0DX/wCx7nQIms7yBrVbgXdk7l3iUswEZcM6FsEgMGXBXn3WivoocVZjCdOpGS5oU3ST5Yu8HzK0rpp6SaTa0SXZHhy4dwMo1IOLtOaqbtWmrO6s01qru27v3YUUUV86e4FFFFABRRRQAUUUUAFFFFABRRRQAUUUUAFFFFABRRRQAUUUUAFFFFABRRRQAUUUUAFFFFABRRRQAUUUUAFFFFABRRRQAUUUUAFFFFABRRRQAh6ivyh/bp/5HTRP9+X/ANAgr9Xj1FflD+3T/wAjpon+/L/6BBQB+knw1/5EvTP9x/8A0I13P8NcN8Nf+RL0z/cf/wBCNdz/AA0AVdR/5B9z/wBcZP8A0E1/H3qP/IQuf+u0n/oRr+wTUf8AkH3P/XGT/wBBNfx96j/yELn/AK7Sf+hGgCnRRRQB/9L836uad/yELb/rtH/6EKp1c07/AJCFt/12j/8AQhQB/YJp3/IPtv8ArjH/AOgirlU9O/5B9t/1xj/9BFXKACiiigD80f22fAmta9qmm63YA+VamQsRtP3hCO5Hp6U/4d/tkeA/CelR6H4kmxLAMEbZO5J/hiI7jvX6DeI/DOl+JrFrPUkDowwevqPQj0r5H1z9iP4WanfNdzQ5eU5PMw6Aek1AHmXxB/bH8B+LtKn0Xw7PmW5AA+WTsQf44QOx71B+xP4F1bQNUvtZvTmK5KEcAdBMOxJ7+ldrdfsb/C3wnYT67bw7XtQGHzTfxHHeU+vpWv8AsvfETTPEeoXuhabgJalFHU9RIe6j09aAPuWiiigClfXkNhavezHCRjJ6/Svz4+Pf7Vfw+sdEvdHu5f3pUL92X1Q9osV+gt7Zw6hbTWMw/dsAD/OvlDxV+xz8MfGFw11qcG55Dk/NN2x6Sj0oA/L/APYv/aR8CeDPFl6t+5U3DrjKy9lm9Iz/AHq/Y22+OnhG7tY7mCf5ZM4+V+x90rwjS/2Cvg9pd6L63tAsgOR80/pj/ntXvFn8DPCFpapbQwfKnA+Z/X/foA6jTfiJpWs2U11ZHBiALD5uMk46qPSvyO/bE/aeez1tPD+myt5DkiTCnsIm7x5/Wv140X4faJolvcWkAyLgKG+9/Dk/3j614L4r/Y7+GPi+8+2albCSTOSd0o6gDtKPSgD4j/Z6+MnwX8FWv9pz8XEgBbInPI3j+4R3r9KfhZ8aPCfxSiJ8LyfJF14fvu/vov8AdNeLxfsR/ClR5SQ7dnUbpu//AG2r2z4YfBXwn8LFY+GY9qSdeXPTd/fdv7xoA9qooooAb/DXDfEr/kS9T/3E/wDQhXc/w1w3xK/5EvU/9xP/AEIUAfm5+wp/yO2uf78X/oE9fq4e9flH+wr/AMjtrn+/F/6BPX6uHvQA6iiigAooooAKKKKACiiigAooooAKKKKACiiigAooooAKKKKAEAxTKctG2sZxkl7g1YYRmgpjvS0pGKanViveRVyvOiMmxhkGvmP40fs++FviTZN9tjAfB6b/APZ9HX+7X1D90YqL5XGHFerlGa1ssrxxWEnytGc5wa5JH85fjX4W+Pfgbrg1HR1cW4YnjZ0AA7s5/jr7c/Z1/a+sLh00bxTL++GAc5HPzn+GLHpX6FfEP4Z6J48sWtdQjGSPQ+qnsw/u1+OXx4/ZZ8Q+C799d8GwMxB3DBUdAg/jkPqa/q3KeNsk48wiwHEcVDEWspL/AICXRK1/+H8P6pVw0/ay1R+4ui67Z61aC8tSCrAHg/UdwK3AAykY/Cvwp+Af7VOseE71ND8ZTNwdvzADpvP8EZ9RX7F/D74iaB43sFvNLmBJH+16sP4lHpX4Vx94aZhw1XaxEbxezXy7N9zvw2J5lqz0ymuvSnbt1KRivzFxp1lZndNtLQfRRRWwBRRRQAUUUUAFFFFABRRRQAUUUUAFFFFABRRRQAUUUUAFFFFABRRRQAUUUUAFFFFABRRRQAUUUUAFFFFABRRRQAUUUUAFFFFAHL+N/EA8J+DNe8UHH/Eo0y7vsHubeJpAPxK4rxb9kvw8dA+BPh6afJu9ZE+rXUh+9I93KzIx9T5QQZ74rs/j9bXV38E/G8FmjPKdDvWCrySqxlmwO/yg15T8OPj/APBvwd8DvCU+seKdOSfTtBsLaexhmWa+FxBbojx/ZoyZQ29SMlQO5IHNfoOV5bi8TwvUpYClKc6leCaim3aMJcq06NzfzR8VmGOw1DiCFTGVFCMKMmnJpK8px5nr2UV95758RvH+g/DHwdqPjPxFIFtrCIlIwQHuJm4jhjz1eRsAenJPAJHnv7O/hLXPD/gi48Q+LkMfiPxlqNx4h1OMggwSXmDHDg8qI4go2n7rEjtXmXgvwt4p+P8A4us/iz8T7GbS/Cekyibwr4auBhpXH3b68XoWPVFPHp8nMv2PXHnEaWUYF5NTkpV5tOs07qPLflpJrRtN3m1pzcsV8Lb6srdTM8Ys0nFxoxTVJPRyv8VRrpdK0E9eW7fxWXx7+zSf+Ec+Ivxh+HJ+SPT/ABGNWto/SLUg5GB/spHGPxFfYVfHvhj/AIlP7avjC1HyprfhK1vSP70lu9tAD/3yrV9hVXH/AO8zGnjP+f1GjN+rpxUv/Jk2TwZ7mBqYX/n1VqwXoqknH/yVo8I+JrftC3viK00b4VLoOn6LNbb7nWNSLzXEM4ZsosIyMFdu35HBOcle/n5/Z/8Ai/4h+fxx8ZtdcSf6yDRLdNLQDuA0T4I+sY+lfW9FceD4wxmCoQo4KnSg0vi9nCU35uU1Jp/4eVeR1YrhjC4qtKriqlSab+H2klFeSjFxT+d2fJdr+xh8HXnF14lk1zxNOOsmq6nIzN65MAhP61w3x2+CHw1+GPhXQ/iD4O8J2SW/hXXbG+1eDyzctdaWW8udH84yF8FlPOQME9q+7aoapplhremXejarAlzZX0EltcQuMrJFKpV1PsVJFell/iNnkMdSr43FVKlKL96HO1Fxekkkmkrpuzto9TgxvA2UTwlSjhMPCFRrSXKm1LdO9ruztfXUq6BBoCaXbXPhqG1i0+6ijngNpGscTxSKGRlCAAgqQR7V5t8X/g3ovxZ0+zeS7n0bX9HkNxpGtWZ23NnMcHsVLISoLLkHjIKnmrfwe8A638MvC83g3UdXGr6dY3kw0V3QieDTmw0cEzHh2jYsAQANuAMDCj1evAnjqmWZrLE5ZiHJxb5Z90+6a6p2lFprdO639qGEhmGXKhmFGyklzQ7Pya7PWLVns9GfG8Pjz9pr4YJ/Znj/AMGR/EPTYwUXV/Dz4u5E9ZbXYS7EdQsaL/tN1L7H9qzwxpVjHoul/DPxrZzwL5dvpsOixxRqeyIqS/KufRPwr7For2pcT5VXXNjctjzPV+znOnFvu4e9Ff8AbqiuyR5K4fzKi7YXHy5enPCM2l2Uvdk/+3nJ97nhfwRb4q6rBr3jH4oJJph129SXStBkYMdLsolKqrEAESS5BcHnK5IUsVHulFFfL5rmH13FTxKpxgna0Yq0Ukkkl8ktW229W22z6HLsF9Uw8aDm5tXvKTu2222383srJLRKyCiiivPO0KKKKACiiigAooooAKKrXd7Z2EX2i+nit4gcb5XCLn6sQKhstV0vUwx028gugv3vIlWTGfXaTirVKbjzpO3foR7SPNy31MLxr428PfD7w/N4l8TztBZxPHEBHG00ssszBI4440BZ3diAAB79ATVrwr4r0HxroVt4j8NXQu7C63BH2sjKyMVdHRwHR0YFWVgCCMEV8+/tP3H2cfDBrk4sP+FhaIbon7u1TKRu/wBngk/Su/8AAqx6T8UfiH4dtRstZX0nXljH3Vn1KKWCcj03vZeY3+0xPc19dLIMMsihj037V80t1y8sZwp8trX5ryUr3tbS3U+bjnNd5xLB2Xs1yx683M4Sne97WtG1rXvrfoY/xM+Bth4/+IXhT4gl7OWbQm+zXthqdqt7Z3dgzFmCxtwk6FiY3wecZBC4Pu1ta21lAlrZwxwQxjakcShEUegUAACp65HxH448P+FtV0HQ9Vlk+3+JLw2WnwQxtK8joheRyF+7HGoy7nhcjNePUx+Y5lSo4FtzVKLUUltFXk9t7au72Xkj04YPA4GpVxaSi6jTk293pFb99FZbvzZ4p+1Zez3Xw2tvAGnN/wATLxzrGn6FbAcsolmWSV8f3VSMhj0G6vpCztILC0gsbZdsNvGkUa+iIAoH5CuS1f4f+Htd8Z6J461RZp9Q8PQ3MenxtIfs0T3QCvL5WMGXaNobPAPTIBHbVtj8yoyyzC5fQv7jnOd/55tKy7pQhH5uXzyweBqxzDEY2tb3lCMf8MU3r5uUpfJL5FFNDoxZVYEqcMAeQcZ59ODmnV4B7IUUUUAFFFFAHxb+1X4U+L3xM1nwp8Pvh/pzDSRMNUv9UlZVtI54m2RLKTnIiG5ym1t5ZcKSte7fC34P6F8L/B03hqwnnur7Ut82ras7Fby9u5gQ8xfJZSMnYMnb1yWLMfXKK+rxfGGNq5RQySmlCjTbb5d5ybvzTfW3RbKy00VvnMNwxhKeZ1s2qNzqzslfaMUrWiul+r3133v8e6H8Pf2gPgho40f4b6ho3jTw5ZPNNDpepwmw1LbK7SusdxEfLkkZmJ3ynBJ6dAPfvhd8R9K+KXhOPxNptvNYypNLZ31jcjE9ne25xLBJ7qSCDxlSCQDwPRK+A/h58YPDHws0X4u+NdSfz7C68e6oukWsRHmaheMFLJEOeD8jM+MKpzycA+9RhieKcJiKroKWLjKFpQjyuo5ycWpJWi2/i5rJ6SbbW3j1Z0OHsTRpqs1hpRneMnzKChG6cW7ySXw8t2tUkk9/cP2gfiRrOgWOn/Db4fnzvHHjNzZ6aqnmztzkTXjkZKLGudrHuC3IRhXpfwu+HWjfCvwRp3gzRfnS0TdcXBGHubmTmWZ+vLt0GTtXCjgCvI/gN8OPEi3+ofGj4qLu8aeJ0AjtmGF0nTuDHaxqfuMRgv3GAD828t9O15PEeKoYLDxyHAzUowfNVmtqlTbR9YU03GHduUvtI9HI8PWxVeWc4yLjKStTi94U99V0lN2lLslGP2WFFFFfGH1QUUUUAeLab+z18INI8eN8SNP8PQw64ZWuFkEknkRzvndKkBbylc5zkLweQAea9poorvx+aY3HSjLG1ZVHFKK5pOVktkrt2S7HHg8uwuEUo4WnGCk7vlSV2927bvzCiiiuA7AooooAKKKKACiiigAooooAKKKKACiiigAooooAKKKKACiiigAooooAKKKKACiiigAooooAKKKKACiiigAooooAKKKKACiiigAooooAKKKKACiiigAooooAQ9RX5R/t1/8AI6aJ/vy/+gQV+rh6ivyi/br/AOR00T/fl/8AQIKAP0k+G3/ImaZ/uN/6Ea7hPuiuH+G3/ImaZ/uN/wChGu4T7ooAq6j/AMg+5/64yf8AoJr+PvUf+Qhc/wDXaT/0I1/YJqP/ACD7n/rjJ/6Ca/j71H/kIXP/AF2k/wDQjQBTooooA//T/N+rmnf8hC2/67R/+hCqdXNO/wCQhbf9do//AEIUAf2Cad/yD7b/AK4x/wDoIq5VPTv+Qfbf9cY//QRVygBAeM1Gzop2sQM+ppeflLcdcivhD9rT/hdp2D4YBuc8jyP+mX/PX/gVAH3b5yeq/wDfQpfOT1X/AL6FfhNn9tf0k/8AJGjP7a/pJ/5I0Afsv8UZYz4E1UOyn5E74z849K/MH/gn+yf8J1rrAfxxd/8AYnrxTVdM/bR1XT5tPuA5jnAB/wCPHsc+tfS/7AXwW+Ivw5v72/8AG6FZJyhOfL7CcfwO394UAfqzRRRQAUUUUAFFFFABRRRQAUUUUAFFFFADf4a4b4lf8iXqf+4n/oQruf4a4b4lf8iXqf8AuJ/6EKAPzc/YU/5HTW/9+L/0Cev1dHU1+Uf7Cn/I6a3/AL8X/oE9fq4OpoAWiiigAooooAKKKKACiiigAooooAKKKKACiiigAooooAKKKKACiiigAooooAKKKKnlAh4ZARWBr/h+y16za2u1BBGP1HoR6V0JB/g4oYKflNbU6kotNMD8k/2jf2P4JydZ8Jx7ZUyw255z5Y/jl+tfHPgH4w/ED4Ja/wDYtcZ0gRgOdnTB/uq/98V/Q/Jbw30bxygFTxg18UfHj9lzw/46tHvLaMCbBPG7n7g/56L/AHa/ovgXxgoVqC4e4njz0ej6rd9Fft1/yfh5ng3Rkp0j1H4OfHzwx8SNOV7KYF8D+91y3qi/3a+kI3FxGGA2jtzmv5uruy+JX7PXiFERWt7QMc8xkYx/wM9Xr9Q/2fv2sdB8W2sem6tMDcDg53DJ+c9owO1eb4i+EFXC0v7XyF+0wz7fJdXffb+r9dDHRqQ5auh+gyMSSCKd3zVKwv7e+hE0TDB561fDZHNfz/KnNPTQ76clYXdtpzNto20gOKc48ytF6mmnQfRRRVEhRRRQAUUUUAFFFFABRRRQAUUUUAFFFFABRRRQAUUUUAFFFFABRRRQAUUUUAFFFFABRRRQAUUUUAFFFFABRRRQA1lV1KOAysCCCMgg9jXmOn/BP4Q6VrA17TvB2i29+r+YkyWUQKPnO5F27UbPdQDXqFFdmFzDFYaMo4erKKlo7Nq687b/ADObEYLD13GVempOO10nb0vsFFFFcZ0ny9ZeBfHs/wC1fffES+0+K38M2/htdNtLxJlZrhmZHKtHu3hxIZM/KF2KvOTz9Q0UV6+b5zWzB0XVil7OEaatfaOzd29Xu+nZI8zLMrp4JVVTk37Scpu9t5dFZLRdPzYUUUV5B6YUUUUAFFFFABRRRQAUUUUAZGseINB8PQrca/qVnpsTkhZLyeOBWI6gGRlBNcDqHxz+DOlqWvPHGgAr1WPUYJX/AO+Y3Zv0rG8Y/APwJ8QvHsfjfxvA2sJBpa6bBptwx+ywsszSmdQpU72DbSDxj3xi7Yfs+fBDTWD23gfQ2I5HnWcc/wD6ND19bhaPDUKMHi6laVRq7UIwUU+ycpNu3flt2Pm8RVz6dWSw1OlGCdk5Sk213tFJK/a5yemftRfDLxN4qsPCPgZNV8UXV5cRwSz6XYSNbWayNtM08kvlbYk6syhgACa9rsfFvh3UvEeqeEbG9WXV9Gitpr62CsGgS7DNCSxUKd4UnAJIGMgZGdPTdJ0vRbVbHR7O3sbZPuw20Swxj6KgAH5V8wfC6f7J+0/8ZNOvD/pF7B4fu4M/xQQ2pQkewMiqfet1gcqzCji6uX0501Qpc65pqUpP2tODbtGKSUZt2S6LV6mLxmY4KphqeNqRm61TldouKivZzkkryk224pXb67bH1dRRRXxZ9UFUo9S06a/m0uG6ge9t0SSa2WRTNGkmdjOgO5VbB2kjBwcdKu18g+P9vw2/ag8F+Oosx6f47tJfDWpnJ2/aoyjWrHPAZ28tBj+FG7k593IMnjmVaph1K01Ccoq1+ZwXM4/OKlbzsup5Gc5m8BTp13G8HOMZPspPl5vlJq/ld9DrfEfwD0jx/wDFjVfFPxIs4te0FtMsodHt5rqdPsU8ZkFyohjZUKyfK+8knPAFZniP9lH4apZS6n8NbWfwh4otY2k03U9Ou7hDHOoygkRpGRo2bAcYyVzzX1JXn3xQ8f2Pw08GX3ii7Q3E6bbewtF/1l5fTnZBAgHJLuRnGSFBbtXsZbxZxFVxFDCYGvNW5YRgpPkdrJJwvyvm+1dWldt7s8vHcN5HTo1sTjKMX8U5TaXMr3balbmVvs2d1ZJbI+cPiLd6n8aP2Rf+EuaPydctLKPWDsGPLvdIlIuigHTIil2jtkCvOfh147+L3xw8ceLPEvwkex8N6ff2Wh2WoarqkXn3FtJawSsVtYAWR2Mk8hBk+XYFOVJxX1x4S0bTfhT8F7bTvF8sbW2jaTNcau5wY2kkDz3eB0KtI7hR3yBXy3+wfrWn2ej+J/A8ti+m6gbuHXreOYkyTabfQxiFgTjcsYVTuAAPmD1NfoWXY+jDIM2r4PDxnCjVfsnJc0FCrUhf3X8Sj7Om0mmlzXas9ficdg6ss5y2jiqzhOrT/eWdpOdOEre8vh5vaTV003ayeh9K/Dj4KweBtal8Xa14m1vxV4iubdraW91O6YwrG7KzLDbqdka5UYBLbexFcT8QLr7L+1H8LBd8Q3Gma9DblvuifyQzY9CVAHvkCvqOvm/9pXwP4j8QeGNK8beBozL4p8Dagms6fEoLNcRpjz4ABy3mKoO0cvs2j71fB8O5zUx2dKWZVdasKlLmdko89OUI6JJRipSV7JJK59jnmVQweU2wFP8AhzhU5VduXJOM5b3bk0na7bbsfSFYfifxDpvhLw7qfifWJPLstKtZrudu+yFSxA9WOMAdyQK89+Fnxs8CfFfw/Bq+iahBBehB9t0yeVUurSUD5kdDglQc7XA2sPfIHz78c/FUnxv8W6d+zl8O7oXFtNPHeeLNStWDw2llbsG8neMqXLYJH98ImeXC8uTcIYutmzwGYQdKFO7qtq3JCOsm/lpH+ZtJXudGacT4allqxmCkqkqmlNJ355y+FffrLsk29jsP2StG1i58I638VfEu8ar8QdVl1VkYkiO1RmSBQD0HLlf+mZT0r6wqjpem2Oi6baaPpkK29nYwR21vEn3Y4oVCIo9lUAVeryeI84eaZnWx/LyqT91fyxWkY/8AbsUl8j0siyv+zsBSwd7uK1feT1k/nJt/MKKKK8Q9YKKKKACiiigDF8R2urXvh7VLPQZ0tdTnsriKynkzsiuXjYRO2AThXIJwM4FfGH7Pn7I9z4HvbPxT8U7yHV9S0p3fSdOhdpbKxkdtzTkuq75i3I+XCkA5ZgpT7por6XKuLMyy3AYjLsFNRhWtzNL3rJNWUt0mm07dG1s3fwcx4bwOPxtHHYuPNKlflTfu6tO7WzaaVr9k90rFFFFfNHvBRRRQAUUUUAFFFFABRRRQAUUUUAFFFFABRRRQAUUUUAFFFFABRRRQAUUUUAFFFFABRRRQAUUUUAFFFFABRRRQAUUUUAFFFFABRRRQAUUUUAFFFFABRRRQAUUUUAFFFFABRRRQAUUUUAN/ir8of27P+R00X/fk/wDQYK/V7+Kvyh/bs/5HTRf9+T/0GCgD9Jfhr/yJemf7j/8AoRruf4a4b4a/8iXpn+4//oRruf4aAKuo/wDIPuf+uMn/AKCa/j71H/kIXP8A12k/9CNf2Caj/wAg+5/64yf+gmv4+9R/5CFz/wBdpP8A0I0AU6KKKAP/1Pzfq5p3/IQtv+u0f/oQqnVzTv8AkIW3/XaP/wBCFAH9gmnf8g+2/wCuMf8A6CKuVT07/kH23/XGP/0EVcoAKaVVvvAH6inUUAM8qL+4v5Cjyov7i/kKfRQBH5UX9xfyFOCqv3QB9BTqKACiiigAooooAKKKKACiiigAooooAKKKKAG/w1w3xK/5EvU/9xP/AEIV3P8ADXDfEr/kS9T/ANxP/QhQB+bv7Cn/ACOmt/78X/oE9fq4Opr8o/2FP+R01v8A34v/AECev1cHU0ALRRRQAUUUUAFFFFABRRRQAUUUUAFFFFABRRRQAUUUUAFFFFABRRRQAUUUUAFFIDmlqYyuAUUUUSQFaNtxbjFVJ7lIbdpHAwvWrijBHvXF+Pr1rDwreXKdUQH82FbYWHtK0MPV+07B7RQg5VT80/20fF3w7msTDflfOUHp5nrF6DFfh5afELUfCutT3fh5ykW4FcEdgf7yn1NegftDfEnVfFXiq5s7piVjfGMj+6h7KPSvmg7nURk4/rX+u3g54dRyXh+OHxT54zWqe278+58BjcQ69W1LY/Un4I/tw+KbO5is/EdwTEDg52f7Z/hh+lftT8Kfj54T+IVjELKdTLjn73q3qi/3a/kQhYwvuU9Pwr6h+CXxP+IHhp/N0HeyKRnBT/b/ALyn1Nfnni/9G/KMzovE5QlTmunTpu3Jef8AW/dg81lKXKz+tGO4idd6c596mZsLvVcn0zX5N/A39tTTHC6d4qk/enA5yOm8/wAMX0r9J/B3j3RvF1uLjTJQyN0HPv6gelf57cWeH+acO1nSx8bRXXp07N9z6elXuk2eiUUZB6UV8idQUUUUAFFFFABRRRQAUUUUAFFFFABRRRQAUUUUAFFFFABRRRQAUUUUAFFFFABRRRQAUUUUAFFFFABRRRQAUUV5b8VviDc+BtHtLbQbRdT8Ta/cjTtD08nCzXTgkySEcrBAoMkrcAKMZGQa7MBga2MxEcLh1eUvkvNt7JJatvRJNvQ5sZjKWFoyxFZ2ivn6JLdtvRJat6I7OXxT4eh8SQeD5L+Ea1c2sl7HZA5mNtGwVpCB91dzAAnGTnGcHG/Xlfwx+GcPgW3u9W1e7bWvFetss+tazMP3lxKBxHGP+WdvF92KNcAAdM16pWmZ0sJSr+ywc3OKVnJ6KT6uK3Ue19WtXa/Ks8vqYmpS9pioqMnry72XRN7OXe2ieiva7KKKK887QooooAKKKQkAEk4A6mgBaK+cPE37T3gHTdWk8M+C7bUfHWuxna1l4dtzdpG3T95OP3QUHqVL7e4rCXxj+1p4l/f6D4G8OeF7d+UGv6hJdylT0JFoylT7MuRX1tLgrM/ZqrilGjF6r2s40213UZNTa81Fo+bq8V4DndLDuVWS39nGU0vWSXKn5OSZ9Ma3rWleHNIu9e1y5Sz0+wiae4uJThI40GSxxk/gOT2qxp+oWWq2Ftqmmzpc2l5Ek8E0R3JJFIoZHUjgqykEH0r4x1/x94g+L/7Knj691ezgs9b0f7fpuox2RY27Saa8csrxbyzBDH2JPfmvpD4NnSW+E3g99DjWKxfRLF4o1JYJvhVmGSSchiQcnrTzbheWXZfKtiG/bRrSptKzjZRUk7+d3bo0ugst4hWOxsaVBfupUlUTd1K7k01bytr1TZ6VRXxB4T8C+I/2grzxL4h8feNte0+00zxBqOjw+H9EuBYW9sti4ULMQrGVypBJIB564OA3XvB1z+zT4v8ABfiTwfr+sXnhzxDrdv4f1rS9UuzdxZvg3lXEeQNjRlWJPU4AzgkH0v8AUvC+3eXLGJ4tJvkUJcrajzcvO2tWtE+Xlb621OD/AFrxHsljnhWsM2ve5lzWb5ebkV9OrXNzJdL6H0f8Y1+IqeB7nUvhddpBrulyJfpbyQrMl/DBlpLQhgSvmr0K4YsAoZcki98MPiDpfxW8A6Z410Ym3XUISJYshntrlCUljORyUcHBI+YYOMGvN/Fvxh8T6zrd94D+COhnXdbsZntNQ1a9DQaLpUyHDrLKQDPKh6xR5I9TgrXC/s1W2reCfiF8TPhXrc8M01pd6frqtbIYrdptUtw90YUJOyMOECr2HFax4el/q7VlioRjXpWqxWntHTk4wlzxWtryhKHNZ25rJxd1m87j/blOOHlKVKpenJ68iqRUpR5W9L2jNS5dL8t3dHdn9nptRJuPE/xE8b6ncuSWMWrfYbcH/YgtkRE/WuJvfEfi79nfxhYeGbuXX/iB4b8UxSro0Ujpeavaalb4Z4DNIY/MgkibepY5XaQBwS32DXzl8dnH/CW/CWOL/j4bxlCy46+UttP5n4YIzU8PZ9icxxn1HMrVKMoz91pRScYSknHlS5bNL4baXWzY87yahgcN9bwF6dVSh7122+aSi0+Zvmum/ivrZ7omH7QSaRJE3j/wT4m8KWMsscR1O8top7CAysEQzzW8shiBYgZZcAnkiuG+J0n/AArv9pjwB8Q/9Vp3iy1m8Kak44USlg9qWPTLSMg/3YzXQftL6s2v6XpHwN0Q+brfj28hgcLybTTLeRZrq5Yc4AVNoz975scrXV/tF/DW7+J3wq1HQtFU/wBs2DRalpJDbWF5aZKqrEjDSIXjBJGCwJPFenk8suw1bB4itT9jDFKrTmuZtKnJKEanvXaSm5Pd607q3XgzOOOr0sVQpT9rPDunUg7JN1ItzlT92yd4KK2Xx6+XFa5488ffF7xZqXgD4N3a6JoeiTm017xayCVhcL9+109D8rSL0eQ8L1BHyl9qb9o7wNZfDjxF4v0l7zVj4WmXTfLnjEM2oXbP5ELRsoKsk8qn51Xjax2DGKvfs3+EdW+HnwN0bSdfs2stXVLy9vopMGTzpp5ZFMhBOW8soDzkYweRXwv+zpp3hX4q+EvEHwb1PUprHVtV0/Tr7T54I3kaC40+a4maViBtGGlTKsylgxCkHBr3MHkGTYyOMThfC4GpSjzQV3ODm1VqTkk5NOMeZJO0I/Ct2/IxOc5phXhWpWxGLhUdpOyhJRTp04p2SacrNtXk93tb6/sfg38bNWsoNR8Q/F/WLS+niSWW1s7C1iit5HALRfIdsgQnbuAAbGcCvBPiU/xC8R+DfiP8O/Emqx+Itb+FFxpPiPS9dht1tpnR0aV1mjT5FkigLkEZ3Eck4zXtcWufti+Fof7EuPDPh7xk6L5cOsQXq2Wewe4hleIs3dhGqj0z1r0P4NfCa/8AB3hzXJvHtxDq/iTxldy32vyoCYGMylRbx5AJijRiBwPvEDjArKnns8qUswx1XD1XGUHSjRVK91OMpP3IqUYezUoOM7c3MtHa60nk8MxawWEp16alGaqOq6lrODSXvycZS53GScL25XrrZ+k/D/xZa+O/BGh+MbPAj1exguiq87JJFBkT6o+VPuK+XP2kvEX/AAivxX+GfiXxXp+oXng7RZL++m+wwG4H9piPbbFxkAMjbWTJH8WM81c/Zgv7nwHrvi79nfXJGNx4WvZL/RmkPNxpN2wcFf8AdZ1ZsdGlI/hNfY1fJ4iVHhniKpKNP2lFqXJryt06sGoyjKzs+SW9nZ36n0lGNXP8jpxlP2dVOPNpe1SnNOUXG6uuaO11dHwxqVz8Qf2r9QtNCTRdR8H/AAvgnjuNRn1FfIv9ZEbBkhjQH5YyR1BZQRuLFgqV2/xu8Da74Q1rw58bvhZppuNS8JQjT9R0m1XBv9D6NEiqDloRkoADgcgEooP1hRWH+vFSliKX1ShGGGpqS9lduMozVp87espTWjlpa0eVLlRt/qjTqUKn1mrKdebi/aWScXB3hyJaRUXqo63u+Zu7OF+HHjf/AIWJ4TtvFi6Rf6LHdvKIrXUoxFcGONyqyFQTgOBkfpkYJ7qiivjcXUpVK86lCHJBt2jduy6K71du/U+ow1OpClGFaXNJJXdrXfV2W1+x4F45/Zi+CnxB1WTXdf8ADyR6jO26a5sppLRpWPVpFiZUZj3YruPrXefDz4WeAvhXpkmleBdJi02Kdg87hmlmmZehklkLO2MnAJwuTgDNeg0V6eJ4lzbEYRYCviqkqKtaDnJx020btp07dDgoZDltHEvG0cPCNV7yUUpa762vr17hRRRXiHrBRRRQAUUUUAFFFFABRRRQAUUUUAFFFFABRRRQAUUUUAFFFFABRRRQAUUUUAFFFFABRRRQAUUUUAFFFFABRRRQAUUUUAFFFFABRRRQAUUUUAFFFFABRRRQAUUUUAFFFFABRRRQAUUUUAFFFFABRRRQAUUUUAFFFFABRRRQAh6ivyi/br/5HTRP9+X/ANAgr9XT1FflH+3X/wAjpon+/L/6BBQB+kXw1/5EvTP9x/8A0I13P8NcN8Nf+RL0z/cf/wBCNdz/AA0AVdR/5B9z/wBcZP8A0E1/H3qP/IQuf+u0n/oRr+wTUf8AkH3P/XGT/wBBNfx96j/yELn/AK7Sf+hGgCnRRRQB/9X836uad/yELb/rtH/6EKp1c07/AJCFt/12j/8AQhQB/YJp3/IPtv8ArjH/AOgirlU9O/5B9t/1xj/9BFXKACiiigAooooAKKKKACiiigAooooAKKKKACiiigAooooAKKKKAGv901w/xJ/5EzU/9xf/AEIV3D/dNcP8Sf8AkTNT/wBxf/QhQB+bn7Cn/I6a3/vxf+gT1+rg6mvyi/YU/wCR01v/AH4v/QJ6/V0dTQAtFFFABRRRQAUUUUAFFFFABRRRQAUUUUAFFFFABRRRQAUUUUAFFFFABRRRQAUUUUAFFFFAEOORXFePLE33ha9tl6unH/fQruCc/hVS6t1ubYwt0P8AjTwklDGRrv7LTCaurH8kP7Q3w31Twp4svL27B2zPnOB2VB2Y+tfNByoUH34r+oz9or9mPTPiHayPbQAzEcHJ5+56yKP4a/IDxH+wh8TE1V5NOtmMKnjmLuB6zZr/AFK8KfpC5DjMrhQzKoqco97932j/AF+fx2YZdKc7xPgTS7KS/u4beBSXckYr9rf2K/2arTU9FuH16DCzBMZz2M392Qe1c38Av2HNcs9TjufFNtt8o55KnGQ/92X6V+0ngfwXpvhLS47OwULtGDgH1J7k+tflX0gvH2jXovK+H6l1/Mn/AIX1j69f+B1YDKpU3qfkx8bf2LbjTp/tnguIoyZOQc/3P78v1r5w0H4n/FT4KaoLLVZHWBCO0XTBPZXP8df0VTWsN1G8MgBBxnIr5n+J37NHg3x7bPJeIPNx1w/P3fSRf7tfjHCPjhGph1lfFVP2tL8Vu90r9v6vfvxOXcy3PJfg7+2F4Y8UxpbXrgznAGd45+bPSIDtX3Ho2tWms2ou7VgVbkc/Ue3pX4NfE79l7xr8PL06p4OVtsZJGNn+yP45G/vGl+Fv7UvjX4f340/xtIyohAwQnox/gjb1Fehnvg/lWb0XjODqnNHdxd7r5ya8/wCt5p5hOLtI/f8AB/iU5Bpje9fMfww/aR8J+PrdVsWUMQMct/teqL/dr6Utp454BMjAg1/OeaZLi8rquji4OMuz/p9z1adSFVXZdzim0bttC/NXkKE972N9hSMUhNRl8dqdtrKOJo1Hyx1fzJaknsTUUUV0gFFFFABRRRQAUUUUAFFFFABRRRQAUUUUAFFFFABRRRQAUUUUAFFFFABRRRQAV83+EyPHX7QXizxNc/vLLwJaW/h7SweVF3eKLi+lA7SAeXDnuo/P6Qr5n/ZzkEmp/Fgyf64fELVwQevlqkIj/DAOK+qyFezy7H4qPxKEYp9uecVJ/OKcX5SZ87nD58bg8PL4XNyfnyQbX3Sal6xR9MUUUV8qfRBRRRQAUUUUAFcb8QvCT+PPBWseDk1CbSv7Xtmtmu7cZkjRyN2ASMhlyrDIypNdlRW+FxNTD1oYii7Si0097NO60em/cxxFCnXpSo1VeMk0/R6PbU5jwj4M8MeBNFg8P+E9Nt9NsoFVRHBGELsBjfIRy7nuzEsT1NU/iJ4vtfAPgXXfGV4V2aTYzXKq3R5VUiKP6vIVUe5ryr4/+J/EFk3gzwJ4Z1KbR7vxnr8Onz39sVFxBYxjfcGEsGCyEbQrYOOa9S1/wB4f8YeDF8DeM1l1zT2itkuGuJGjmuXtSjrJI8HlfOzoGbaFUnPGOK+hWDjCWFzTN6jlCtNuSV3NwjK0pXdldtSSu73Wuh4v1pyjiMvy2CjKlG0W7KCk43irLWyTTdls9DyL9nLwB/ZvwA07RfESM8/ii2udQ1IPwz/2rub5h2byWQHPcH6Vlfsh6pdr8MbrwJqrZ1LwRrOoaHcA/exFKZEOP7vzlF/3K938deLdK+HXgjVvF2ohUs9Fs3mEYwocoMRRL2BdyqL7kV+dvwy8b/Fv4dfE2eCfQo/EXiX4s6NZeIYbJJY9Pt4Z8zsWkLAhAkIcyD7zMAOpr7nLMJjeJsuzXES5U6lRVY80lFc8XJzSbslGFKbcm2kko/L4/MMThMgx2XUI3fJB05WTk+WSiotpXbcqkEopJtty+f3p4T+H9x4T8e+LvEtleIdJ8UtZ3hsNhDQahEjRTyhs42zKEJ77geg6/MH7VkfxH8S/EDwB8O/Dt5p1vaapqcF7YRsjS3P2yw3vNcz8YWCCNlIVcl8tk/Lge0aFN+1Vc6zYza/beA7PR2uIjewwPqMt8ttuHmCNv9SZduduflz14rJ8BeF/Efin47eLfit4w0640+10RT4b8MwXSFC1vGS1xeID1WZifLccMrsv8NcmS4ieWZjUznGVqVWVGlpZqV5KKpU15taNvX3Yyd7u51ZtQhj8DDK8LSqU1Vqa3TjaN3Um/JPVJae80rW0PSfhjd/FuSDULD4sabpNvcWcka2l/o8zNBfIwbexhk+eIphc7sbixwoA58k0xo9P/bH1/LrHDdeA4LqdicKHivI4lLE8fd/SvpbxDfahpmganqWk2jahfWlnPPbWi8NcTRxs0cQ93YBfxr4i+DX7P+rfEi41X4qftMaa+o61q8ka2GnXjSQC0tos/fgjZAoYkBInB2hdxG5jXJw9VwdSjmGa46UaNOUFT5IK8nKbi/chKS0XK5SvJJfZ6JdOd08VCrgsuwkZVakZupzTdoqMU1701F6vmUY2i2+vc+6rO/sdQjM2n3MVzGDtLwusigjtlSRmvi/9pPxjq/hL4xfDTUrPQr7X/wCzrfWJ7Gxs42b7VqNzEtvEjMAcCPIckAkA9DWv8UPBGg/AC3tPjP8ADC0XRINJurWDxDploWW01HS7mVYWLQ5KiaFpA0bgAjnORX2GrK6hlIIIyCOhBrhwFTCZJXo5xRi8Rh6kasLS/dyUnDlnF8rla0akWnF6qS+F3t2Y2GJzajVyyrL2NaDpzvH31ZS5otXUd3BpprRrqt/nb4LfCvxHo+p6j8VPincJf+OvEMapKseDBpdmCGSzt+SMDjeQSCQACeXfufhP4+ufiF4HHjbUIoLO2ubzURalGIU2VrcywxSOXPDMse5j07jA4Hc+Ibt7DQNSvojh7aznmU+6Rsw/lXyN8Pfh3efEz9lXwN4RsdSOnWc7W02pqpZftdglzI1zbbkIZfMHcHqMHgmr54Zzh6uY5nJQvVo01JL3adPkqtxjFdEoxSXlq9WyOWeV16eBy+LnanVm03rOfNTs5SfVuUm356LRI0vEnxS8afGrVbv4f/ABhb6VC5t9Z8aSqTawA8PFYj/ltMQeHHTqpUESDy//AIJ+aE2n6F41v54gJjqdvYmTHzZtkdmXPXAMgOK+7LOx8NeAvDBttNtoNJ0XRrV5PKhQJFDDCpdzgewJJPJOSea+Sf2Gtbj1zwF4uvkhWA3Piy9vNij7q3MFuwX/AIDgivpaGcU6nCGaYbLcP7PDqVBXes5Pmk25y6t2Xuq0YrRLVt+BWyucOJ8vxGOrc9dxrOy0jFcsUlCPRK71fvS6vRJfbNFFFfjR+pnEXnw78J33juw+JM9mf+Eg02zlsYblJGUGCXOVdAQr7dzbdwONx9sdvRRXRXxdasoKtNy5Vyq7vZXbsuyu3p5mNHDUqTk6UUuZ3dla70V33dktQooornNgooooAKKKKACiiigAooooAKKKKACiiigAooooAKKKKACiiigAooooAKKKKACiiigAooooAKKKKACiiigAooooAKKKKACiiigAooooAKKKKACiiigAooooAKKKKACiiigAooooAKKKKACiiigAooooAKKKKACiiigAooooAKKKKACiiigAooooAQ9RX5Q/t0/8jpon+/L/AOgQV+rx6ivyh/bp/wCR00T/AH5f/QIKAP0k+Gv/ACJemf7j/wDoRruf4a4b4a/8iXpn+4//AKEa7n+GgCrqP/IPuf8ArjJ/6Ca/j71H/kIXP/XaT/0I1/YJqP8AyD7n/rjJ/wCgmv4+9R/5CFz/ANdpP/QjQBTooooA/9b836uad/yELb/rtH/6EKp1c07/AJCFt/12j/8AQhQB/YJp3/IPtv8ArjH/AOgirlU9O/5B9t/1xj/9BFXKACiiigAooooAKKKKACiiigBnzDov60LuP3xVO+vIrK0e8mbCIMnj3xXyt4p/bC+GPhO8ew1SfDocHiX0B7RH1oA+tQQeVORSEZ+4cGvE/hX8dPCPxXj3eGXDgem8f3v76L/dNe2Z+baetADtvocUHPrTctnB6V5d47+Knhn4dxeZqzgf99dseit/eoA9SJUHnrSHkfOuB9a+PLX9tT4UXd+unwXGZGOB8sw7Z7w19Q+HfE2n+JbFb+xkDRuMjAPqR3APagDpqKKKAG/w1w3xK/5EvU/9xP8A0IV3P8NcN8Sv+RL1P/cT/wBCFAH5ufsK/wDI7a5/vxf+gT1+rh71+Uf7Cv8AyO2uf78X/oE9fq4e9ADqKKKACiiigAooooAKKKKACiiigAooooAKKKKACiiigAooooAKKKKACiiigAooooAKKKKAGEYpWphOKWs1b+I+pdmN2jvzUYgjH8Kn8Kmb5aN26lGpCH7mm7P+mRKmpajFjReigfhT2XpRt2077tEItPRj0Ww2mvg4p5Oz3zTGrP2lptRV5fcWtWYeraLYazaNaXcQZG/xB7Yr4b+Mn7H/AIR8Sxtc2kI81snjf1+XH/LUelff0cZXPzUZGCBya+nyDi7H5HWVfATcV/X+ZhWw1OeyP5y9d+GXxX+C+pedo29bdCT/AMsjxgf3mc/x19LfBf8AbQ/sy5GleNJjvTAOQf8AaP8ABEfav1h8XfD7RPGVm1tqca4YcnB9R6Eelfm58Z/2JtGcvqHhyHdM2TwWH90D702PWv6PyvxO4d4vorDcR01Go/tq/wCSS7W/rXy6uGnS1gz728DfHDwp44gB0uVcnpy3v/eQelezxTI0O/cGB9K/nCufDfxu+D11/oySLEp9YTwPqW/vV9GfCj9tXUNFmGn+M5W3rgHI/wB4/wAER9RXzvEngJUUHi+HairUvL/gyuawzOMnY/bMyDggZzSnaeTXzd4E/aU8F+OIlSwdQx939/WMelfQ9neW91brNG4Ib396/Bc0ynFZdJ0sTFwl5npQrwktDSooorzgCiiigAooooAKKKKACiiigAooooAKKKKACiiigAooooAKKKKACiiigAooooAK+cPFfwf8a6V4w1H4ifBXxFDomqawY31XSdThM+k6hLEu1ZGCfvIZCPvMgJb2yc/R9Nd1jUu5CqoJJJwAB1JNerlOcYnL6kp4ezUlyyjJKUZK6dpRaaeqTXVNJqzVzzsyyuhjYKFe94u6abjKL2umrNaNrs02ndHjfwj+I3iDxlL4h8M+NtMt9K8T+FLuK11GKzlM1pKtzEJoZoWb5gsiZ+VskY5POB7NXzR+zpK3iiXxz8WcEW/jDxBJ/Z7Ef6zTtLQWlvJ9W2vx7V9L138W4Wjhs1q0KMFC3LzRV7Rnyx9pFXbdlPmSTbslY4+GsRVr5dTrVZOV+azdruPM+Ru1ldw5W9NQooor5s90KKKKACiiigD5P/aLkGnfEH4Na5cfLaweK/skkh+6r3iKiZPb7p/AV9YV5F8cfhkPiz8O77wtbzC11KN473S7kkjyL62JaJsjJAbJRiBkKxI5r55tP2ttT0Tw63hPxV4R1hvifaJ9jGkxWjNBeXY+VJkdD/qpD8x2g9wm4YY/o2HybE8QZPhKWWR56tBzhON0moyk5xnr9m8pKT2jZXtdHwtfNMPkuaYmpmD5adZRlGVm05Rjyyhp9qyi4reV3bZm58a7hvi/8WPDX7P+mkyaVp7x+IPFrIflFtDgwWzkd5SwyP8AbjYdDVr9qO3fwdc+BPjdp8OD4K1mOG/8pcMdLv8AEUo47DARR2Mh9891+z78LNW8B6FqHiXxtILvxr4tuP7R1uckN5bNkx2ykcbYgxzt+XcSBlQtet+NvCem+O/CWr+D9YH+iavaS2sjAZKFx8rr/tI2GX3ArpnxHg8tzbCYPDvnwuHvCbW1T2itXkvKSbjH+7GBhHIsVj8txOKrrlxFe0op/Y5NaMX/AIWlKX96Ujo4J4bqCO5t3WSKVFdHU5VlYZBB7gjkVLXzd+zTr3iUeFL34ZeNrWaHX/AM6aTNM6N5N1aEMbSaJyMMDEuPXAVj96vpGvhc8yqWW4+rgpSUuV6NbSi9YyXlKLUl5M+wyjMY47B08XFW5lqnumtJRfnFpp+aCiisXxG3iBNB1B/CaWkmsrbyGxS+Li1a4wdglMfz7M9duD7ivOpU+eahdK7td6Jevkd1SfJBzte3bf5Hzz+13rMMHweu/CNuPP1jxdeWWkaXajl5p3uI3OB1wFU89AxUdxX0pp1q1lp9tZM/mG3hjiLf3iigZ/HFfNPw/wDhD461jx4nxd+Ol7ZX2uWMbQ6JpOnbjp+lo/3pF38tM3qS2Ou5iF2fUVfV8Q1cLhsFh8mwtRVHTc5znH4XOaguWL6xjGCV+snK2lmfN5JTxFfF1s0xEHDnUYxi/iUYOTvJdHJyenRJX1uiG5t4bu3ltLlQ8UyNHIp6MrjBH4g18MeC/iDdfsrtP8LPivaXp8JW9zLJ4c8S28DXEBtZ3MnkXAjBZZEZjwAWySAuzax+7aimhhuYmguI1ljcbWRwGVgexB4IrjyPPKOEpVcFjqPtaFSzcU+WSlG/LKErO0kpSWqaabTWzXVm+UVcTUp4rCVfZ1oXSduZNSteMo3V02k9Gmmk097/ABD4++Lo/aKhPwf+Bf2q9tNVKR+IPETW8tvaWGnEgyovnKjtLKoK7So3LlVzksn078NfhX4P+E+mXukeDLeS3tb+7N7KkkhkxIY0jwueihUGB6k13dlYWGmwC1062htYQSRHAixpk9TtUAVbrpzfiWNTCRyrLIOlhk7uLlzSnJ296bSim1ZKKUUopaatt4ZZkMqeJeY5hNVMQ9E1HlUI6+7BNyaTu7ttt9dEkiiiivkz6QKKKKACiiigAooooAKKKKACiiigAooooAKKKKACiiigAooooAKKKKACiiigAooooAKKKKACiiigAooooAKKKKACiiigAooooAKKKKACiiigAooooAKKKKACiiigAooooAKKKKACiiigAooooAKKKKACiiigAooooAKKKKACiiigAooooAKKKKACiiigAooooAQ9RX5R/t1/8jpon+/L/wCgQV+rh6ivyi/br/5HTRP9+X/0CCgD9JPht/yJmmf7jf8AoRruE+6K4f4bf8iZpn+43/oRruE+6KAKuo/8g+5/64yf+gmv4+9R/wCQhc/9dpP/AEI1/YJqP/IPuf8ArjJ/6Ca/j71H/kIXP/XaT/0I0AU6KKKAP//X/N+rmnf8hC2/67R/+hCqdXNO/wCQhbf9do//AEIUAf2Cad/yD7b/AK4x/wDoIq5VPTv+Qfbf9cY//QRVygAooooAKKKKACiiigAooooAyNatPt+mXFo3RwB+or8x/jP+yx4dvrbUda1AEEhWHL9to7Sf0r9SuSzge2K8Q+OA8zwhfx7edi/+hLQB+d3/AATqsRp2t6xYqSQrQgc+guD6mv2EHpX5D/8ABP1T/wAJfrbE8B4v/QZ6/XRX3qWWgDJ128+w6Xc3fTYFP6ivyG+M+v3/AMV/FMWkW2WWNyGwR0KofRf7tfrB49cr4T1F16hF/wDQhX5K/AY/2r4+1CW4GTHImM+6Sf4UAet+Jf2QvB2h+DR4o06Erd26bs7pOpYL3lI6H0qT9in4lapq2q6hpGpzHybYxqFIHcTHsue1feniyPHgC8jlGU8tf/QxX5V/sn403x5rZtBuBkh4zj+GX1zQB+zYYOu4dKd/tVSsH32qsfSrmfkzQA1igwJD/SuF+JL/APFHaltYfcXuP7wrivi7/wAJd9jceFc+fjjGz/Z/v8etfmd47H7UK6bqguC/2fCY/wCPXpkZ6c0AejfsJBh4y1xpDk74v/QZ6/VqTCxnPSvx2/4JxjUhresPq5Jk3RZzjri4/u1+xZ4zu6UAPooooAKKKKACiiigAooooAKKKKACiiigAooooAKKKKACiiigAooooAKKKKACiiigAooooAKKKKACiiigAooooAKKKKAKyr5ffOaFO/J6YqXOKrSzeShY1y89CUfZy/UcEoRbJPlcDeMfjTC0ci4dl/MV8I/tG/tOaZ8P7R4bOYCUA+vH+r9Y2/vV+QPiT9u/4mHU3NhcHyc8f6r0HrDX7xwL4BcScT4T6xhIpLzaXV92ux5cs0hGVpH9Fviz4e+H/GMBg1JUZT1xn2/usPSvhT4tfsSeF75WudGjy7ZPG/8A2fWX618mfAT9uPVry9jsvFMxZnPfH+2f4IfpX7ReAvGemeM9JjvLJwwYe57kdwPSrzzJuLfDmtH6xPRelv17/iOVSGLXun4Ia38GPi/8Lb03Ph7zFiQk5/dHsP7zt/eNeh/Dv9rzxd4OvhY+M5WO0gHIUdmP8ER9RX7i+IvCWl+JbY296i4PXg+3oR6V8Z/FL9jTwR4iiaazgBnOScGQf3fWUDtX2+A8ZMm4h5aHFWHT/vLR/gu6X9b4/wBlxi9zs/hz+1p4I8XosMTjzWwMZf8A2vWJfSvqjSdbs9XgFxbkHPQZ+vrivwF8afsz/EzwBfHUPCiuscZzx5foB/HI3949qTwd+0v8Sfh5eiy8USOqIcHIj9Cf4I2/vCsM38EMuzam8RwtiFU6tbfm/wCvuvUcwlD40f0JttTqc5oZS2M8Yr4I+F37Z3gXxBAsF1MPOYAciQc/N/0yHpX2X4f8WaV4mthdWUy7D06+47gelfz9nXCeYZVVdLHUXG39dGz0KWJhVVmdYEx3pwGKYiLz8w/z+NPIzXzlTa8Fc35IrYcTmk5pAme9IcjiseeKX72NvxB3XwjqKKUnNVDll0HtsAOKXbSAZpxOK1b5diRaKKKoAooooAKKKKACiiigAooooAKK4fxB4/0Xw14u8MeDdSjuBdeK2vY7KdEBt0kso1lZJXLAq0it+7AB3EEcV3FdFbCVqUKdSpGymrxfdJuN184tfIxpYilUnOEJXcHZ+TspWfyafzCvnD9pTxXqln4Vsfht4UfHiX4gXQ0WyweYbaTH2u4OOQkcRwSOV3hu1fRxIAJJwBySa+RfhAx+L/xg8S/HG4/eaJom/wAN+Fc/cZIzm6u0/wCuhbCsOquVP3a+n4Rw9OnVqZxiFenhkpWe0qjdqcPnL3mv5IyPn+Ja8504ZXQdp13y3W8YLWpL5R0T/mlE+mvCXhnTPBnhjS/CejJsstJtYrSEHqViUDc3qzHLMe5JNdDRRXytatUrVJVarvKTbbfVvVs+ipUoUoKnTVopWS7JbBRRRWRoFFFFABRRRQAUUUUAFFFFABRRRQAUUUUAFFFFABRRRQAUUUUAFFFFABRRRQAUUUUAFFFFABRRRQAUUUUAFFFFABRRRQAUUUUAFFFFABRRRQAUUUUAFFFFABRRRQAUUUUAFFFFABRRRQAUUUUAFFFFABRRRQAUUUUAFFFFABRRRQAUUUUAFFFFABRRRQAUUUUAFFFFABRRRQAUUUUAFFFFABRRRQAUUUUAFFFFABRRRQAUUUUAFFFFADf4q/KH9uz/AJHTRf8Afk/9Bgr9Xv4q/KH9uz/kdNF/35P/AEGCgD9Jfhr/AMiXpn+4/wD6Ea7n+GuG+Gv/ACJemf7j/wDoRruf4aAKuo/8g+5/64yf+gmv4+9R/wCQhc/9dpP/AEI1/YJqP/IPuf8ArjJ/6Ca/j71H/kIXP/XaT/0I0AU6KKKAP//Q/N+rmnf8hC2/67R/+hCqdXNO/wCQhbf9do//AEIUAf2Cad/yD7b/AK4x/wDoIq5VPTv+Qfbf9cY//QRVygAooooAKKKKACiiigAooooAhX5tjuORmvD/AI4SIfCV7tYHKDv/ALS169rhvDplwtgMzgDb09R68V+Q/wAbtA/aW8RXN1ZaIHNu2AAPsvTCn+Ig9jQBs/sAY/4SrWi5ChnixyOcLPX65h0YkZHHv61/PD8Hfgt+1D8O9al1O3V0jmZSw/0TnAYf32/vV+pGln4wiwjW83ecw5/1Pr7UAfV/jGFrrw3fW8fzMVX/ANCFfkJ4Xu/+Fc/ECb+0F2rcyD/x1D6bv71fpx8N4fFcoli8TZKyY4Oztu/ufhXy5+038BtU8SXKap4UTbLEScjHU+WP43Hoe1AH0z468T2Ft8M7iXIJmjHc9nHtX5z/ALFlhc6x481iXb8oeIjp/cm+npXJxeCP2ntQuU0fUVc6enDf8evQ89jnrX6Kfs+/B61+HNmLtlxe3Iy/Xqpcf3mHRqAPp+2Ty48VKv3jUnTikwKAGkAryK4T4lRx/wDCF6mdo+4vb/aFd5/DXDfEr/kS9T/3E/8AQhQB+bn7CgA8aa3j+/F/6BPX6ujqa/KP9hT/AJHTW/8Afi/9Anr9XB1NAC0UUUAFFFFABRRRQAUUUUAFFFFABRRRQAUUUUAFFFFABRRRQAUUUUAFFFFABRRRQAUUUUAFFFFABRRRQAUUUUAFFFFAFSXHArkPH961h4Uv7tOqopB/4EK7ThfxrifH9m1/4Uv7RerooH/fQ+laYSUZYmiqy3ZNad6Z/Kb+0L8StU8V+KbyyuGIEL46juqHso9K+aXbc5OetfS37Qvw21Twp4qvL25BKzuCOB2VB2Y+tfNLKFJ46f1r/b/gKGCeS0Hl9lG3T1fc/PMe/wB4aWmahPpl7HdQE7kJPX2r+gD/AIJz/EbU/Feny296SRGEA5Hcz+ij0r8ANL0+fUb1LaAHc5x69q/f/wD4J0fDzUvCeny3F6CA4XsOxn9CfWvwr6VccE+GJe2S9pbTX+9D9D0slU4yufrdt3UyUb8e1SKMZpnX8K/yrnOKjy1GfZW5kZGp6NY6tbNbXKAqfb/DHpXyh8RP2TvBPi+J5njAcg54f/Z/6aL6V9j7s0gYj7y17mUZ7mWVVVWwFVwt2/rzMamHhVWh+CfxG/ZE8X+E7k3vg+JlKkkEFf8AZH8cp9TXnuj/ABb+NXwsn+y6vI4ROuRD7nsrf3q/ohurKK9jMcyjHuK8E8Zfs4+CPGDmXUkXJ9n9v7sg9K/fsn8d8Pj6SwvE1BVYrrqn+COCeXOHws+APh/+3VpqOsfiSU575Df7X92H6V9e+Fv2yPhtriiGOYZ/7a+//TIeleH+Ov2E/B80TTabD83bBk9vWavkbxH+x/488PymTwzC+0dMMnt/elPqa9eOSeHef60q7oPzUn+pzwlUg9T9qtA+KPhzxDgWUqkn3b39VHpXoazxumUZWz71/Oa1n+0F8P5M7JFA97f/AOy/vV2nh39rL4leGJBF4glcAdQVj9/7sR9RXiY/6PeIxH7zJK8asfu/OR1LNqcPiR/QADnoadgN2zX5X+A/27/C7kLrkvX1D+/92H6V9VeG/wBq34e+IVH2OZTn/roPX1jHpX5TnHhpxHlrtiKL9bL9GdkcTc+qSccDrSj1PWuO0DxnpWvLm1def9o+/qB6V1oZW/iB/Gvh69GVF8lZWZvGVyxRRkUVIwooooAKKKKACiiigAooooA+XP2sluNJ8AaR8RLFSbrwR4h0zWQV+8YhL5Mif7r+au4eg54r6ctbqC9tYb21cSQ3EayxuOjI4BUj2INeZfHLRB4i+DvjPSSu5pdFvZIx6ywxNLH/AOPoKzP2ffEI1/4HeDdZuJB8mjwQSyMcDdZgwOzE+8ZJNfZ4iH1jhehW+1RrTh/27UipxXylGb+Z8tQl7DiGrS6VaUZfOEnGT+6UPuOR/ad8b6pofgy18B+Ezu8U+PLkaJpqKcMkc2FuJsjlVRGC7v4S4bsa9j+H3grS/h14K0fwVo4/0bSbVIN+MGWT70krD+9JIWc+5r5j+Dwf41/GXX/jxeqX0DQDJoHhNWHysFyLi7UHu4Y4PpIVPKV9nVtxQv7MwdDh+Pxx/eVv+vslpH/uHC0fKTmY8PP+0MTVzuXwy9yl/wBe4vWX/cSV3/hUAooor4Y+vCiiigAooooAKKKKACiiigAooooAKKKKACiiigAooooAKKKKACiiigAooooAKKKKACiiigAooooAKKKKACiiigAooooAKKKKACiiigAooooAKKKKACiiigAooooAKKKKACiiigAooooAKKKKACiiigAooooAKKKKACiiigAooooAKKKKACiiigAooooAKKKKACiiigAooooAKKKKACiiigAooooAKKKKACiiigAooooAKKKKACiiigAooooAQ9RX5Rft1/8AI6aJ/vy/+gQV+rp6ivyj/br/AOR00T/fl/8AQIKAP0i+Gv8AyJemf7j/APoRruf4a4b4a/8AIl6Z/uP/AOhGu5/hoAq6j/yD7n/rjJ/6Ca/j71H/AJCFz/12k/8AQjX9gmo/8g+5/wCuMn/oJr+PvUf+Qhc/9dpP/QjQBTooooA//9H836uad/yELb/rtH/6EKp1c07/AJCFt/12j/8AQhQB/YJp3/IPtv8ArjH/AOgirlU9O/5B9t/1xj/9BFXKACiiigAooooAKKKKACiiigAphjjPVR+VPooAZ5Uf9xfyFO2r6D8qWigBAAOgoKq3UA/WlooAZ5cf90flTsAdKWigAooooAa/3TXD/En/AJEzU/8AcX/0IV3D/dNcP8Sf+RM1P/cX/wBCFAH5ufsKf8jprf8Avxf+gT1+rg6mvyi/YU/5HTW/9+L/ANAnr9XR1NAC0UUUAFFFFABRRRQAUUUUAFFFFABRRRQAUUUUAFFFFABRRRQAUUUUAFFFFABRRRQAUUUUAFFFFABRRRQAUUUUAFFFFAEXRs1DcQ+dGVP+c1YXmmk4qYVHKSlEfKnofBn7Rv7Mel/EG0eWyhBmI46+sfrIo/hr8gPE37B/xM/tRxYW7eTnjmL0HrNX9OIKgYbn8KjMSdSq/kK/buC/HviDhaj7HCSTXmk+/dPueZissjVdz8IfgH+w/q+najHd+KLf7pzzj0cfwS/Sv2h8B+CtO8H6ZHaafEF2jHBPqfUn1rvFiAPyqMfSnOSRiNtp+ma+U478Uc64uqe1x0vutbp0sux04fDcpMTmhxnFAGaCc1+e8qfus6J6IcBikxijp+NIBmsp1HD3YIrcAcUu6o/M29qdnPbFPlq7tjaGAA9acYozwVH5VGr5zxU7Ntop1YVNYCu30PPdf+HeheIFK3UK4br19vQj0rwbxJ+yB8OfEBL3MI3H08z29JR6V9a+YBwadtPXP6V9Dg+I8zwS/wBmqNGTwkeqPyR8efsJaDCxbQoyW7YLj0/vTfWvl7X/ANl/4s+FZd3h+Jyg6YaL2/vSH1Nf0FgoRkrUc9tFOmHVcfSv1LJ/H3iLAR5MRJTj5pP/ANtOSWWx6n86K+Jv2h/h83zGRUXr/wAe5/o396vUPDH7ZfjDQgF8TTMWHX5V9/7sR9RX7GeIfg74Z8SArfIuD14b29GHpXgPib9i74aa3ljAGY+8o9P+mo9K+3o+LfCObR/4V8AnJ9U5R/JHLPJ4v+v+CeTeC/27/A82BqcmCcdfM9/SGvo/w/8AtV/D7xAB9lnAz0/1nv6xj0r4Y8afsK6VFubR4ju7YLe3rNXzxrP7Mfxb8NnHh2F9o6fNF7f3pD6muj/Ujw9zaPNgsU6T6J8z/wAiI16kNkfuxonj7Q9dAFnMpJ6dff1A9K7BplC5Qhj9RX86A1L9onwM43JIoHvb/wCB9a7fQf2sviT4ecJ4hlcY6/LH7/3Yj6ivnsb9H3GVXz5XXjUj8l+cinmc46NH7/YA5zkUpXcPlNfkx4J/bv0FGA1uXI75Dj1/uw/SvqDw9+2R8NNcRfKmAP8A219/WIelfmub+GXEWAb58O36W/zZ2Usw5nqj7MC46nNRFc968n0H4v8AhjXnCW0i5Pu3v6qPSvSoLi2uUDwyKR9a+HxGW4ii7YqDizrjOnLdl4PntS7qTcn94U7I9RXEp95D/eFHVbVL7S7yykGUuLeWJh7OpU/zr8rfhX8QPE3jX4I6D+zl8NIpX13UnvYtY1HYwt9K0me6keRnf+9IrkcfwnaPnZcfoJ8ZPAXhvx94bWPxhrepaNoelmS8v1sbwWcNzAqHcl0xVsxADOMj+RH56fs1eJPjhe+Aj4H+Cnh2x08teTS6l4r1BR5QZ8bEXKEO8a4GNsxAP3FHJ/ePDnCYd8PYrFxcZThVpT/ePkpU5JVVGUpO/Pvfkirt8q1TaPyLjnE4hZ3h8M1KMZ06kf3a56k4t03KMYr4Nrc8na3M9Gkz9PPBXhPQ/h14P03wloqiHTtItlhVnIBbGWeVz03O5LsemSa5PxH8dvg54T3rrnjDSYZE+9DFcrczLj1ih8yQf9814JB+yPfeLmW9+NXxA13xTOSHa0t5fstkh7qqN5ny5/uCL6CvXPDf7MfwK8MbTp/g/T53TB336tfsT6/6S0gB+gGO1fEYvDcNUas62PxlXEVJNuXsoKKbbu3z1WpO76+zPq6GIz+dONLB4SnQgkkvaTcmktvcpqysunOec6h+2x8JjcGx8JWOveKbo/cTTbBgGP8A22aNwD7IT7V9C/DbxlqPj3wrD4j1Pw9qHhmaaSRPsGppsuAqHCvtIUhXHIyoP1GCeq07S9O0m3FnpVrBZwL0it41iQfRVAFXwcV4Wa5lktegqOW4KVNp/HOrzya10sowir+j2PVyzBZrTre1x+KU1b4Y0+VJ97uUpO3qAOKSnLRur5qMX3PoBtN3VKRmmMtEufpIXMySmEYp9FNSAatOooqmrgFFFFMAooooAKKKKACiiigAooooAKKKKACiiigAooooAKKKKACiiigAooooAKKKKACiiigAooooAKKKKACiiigAooooAKKKKACiiigAooooAKKKKACiiigAooooAKKKKACiiigAooooAKKKKACiiigAooooAKKKKACiiigAooooAKKKKACiiigAooooAKKKKACiiigAooooAKKKKACiiigAooooAKKKKACiiigBD1FflD+3T/yOmif78v8A6BBX6vHqK/KH9un/AJHTRP8Afl/9AgoA/ST4a/8AIl6Z/uP/AOhGu5/hrhvhr/yJemf7j/8AoRruf4aAKuo/8g+5/wCuMn/oJr+PvUf+Qhc/9dpP/QjX9gmo/wDIPuf+uMn/AKCa/j71H/kIXP8A12k/9CNAFOiiigD/0vzfq5p3/IQtv+u0f/oQqnVzTv8AkIW3/XaP/wBCFAH9gmnf8g+2/wCuMf8A6CKuVT07/kH23/XGP/0EVcoAKKKKACiiigAooooAKKKKACiiigAooooAKKKKACiiigAooooAb/DXDfEr/kS9T/3E/wDQhXc/w1w3xK/5EvU/9xP/AEIUAfm5+wr/AMjtrn+/F/6BPX6uHvX5R/sK/wDI7a5/vxf+gT1+rh70AOooooAKKKKACiiigAooooAKKKKACiiigAooooAKKKKACiiigAooooAKKKKACiiigAooooAKKKKACiiigAooooAKKKKAI6UnNNBzTic1PPzL3RKm0JSkYpKUHFEXUW5buhMZ74pvl7e9PAzQRio5quyQ7iU77tN347UUoU3D3pMT1Hk4ppOaAM0AZrRO65kJdyEIG5dcH60jzJxkgfjXCeO/G2leENMe71CULtGeh9QOwPrX4tfHr9uLVNP1OSz8MXBG044A44Q/xQ/Wv0TgTwuzri6p7HAx++1uvW67HPXxCifu95ykYVl/76FS4UD5efxr+Y7w3+3h8TBqiG+uD5OeeIvQ+kNfr9+zl+05pfxBtEivZgZsDPX1k9I1H8NfV8beAnEPC9F1sVFW8mn27N9zjwubQrO0T71Awc01uaZBOJl3DHY/nUm6vw9RfM41Nz05Rcth1KDin0U9VuwIicUypycU01nKNV/BL8Ck2MKq3UCq8trHIpBUc+wqQHNTDk0o2k+aEiJKD0Z5lr3wt8O68CtzEuD7N7ejD0rxXXv2PfhxrpLXMYJP/XX29JR6V9a5A4zQFwc19LgeKc2wK/2eu4oz+rw7H5XeNv2EfCioRo0R3exf2/vTV8u+IP2PvH2gMW0KNyvbBT2/vSn1r999o781X8kH74BH0FfpmTePPEeXJRc+deaX+RjPCxex/Oa/hb9o3wOfMUyAD2t/8T61oWX7THxl8KnyNTnfevVcQ8deuIz61+4nxH0zTpLZbEBTcTjJOOUT14I5JGBXyfq37P8A4O1hzJcxgs3U/Pz+T1+m5T4q5Fm1NVs/wSd+11f7kv6/H8k4u47w2V4x4CldzXxPtfp5vv29dvhu1/bf8Vhtuo3rxL6RqFP5rFn9a9c8Mft3WtsgW41CTr/y0DSev96E16Fqn7Hvw6vFLqgz/wBtf/jtePa/+xp4YdithH0939vWWvoXjPD7Hx9ksN7NfN/ofDz4xwmLqe1lXqxn3Umv1PYfF/7YHgb4q+BdV8B6neC3g1aJI3uIklEqGN1kUj92FI3IMjHIyK9B+DH7QPgH4ceCdO8EaNturSx8xjNIZEllkmdpHdvkIGWJwMcAAe9fn5qn7JGrWOf7Mibd2+Yf1lrgb/8AZ++Lulc2EDlR0+aL+rn1rWpwBwPjsueWRxvLRc+fktK3Pbl5tNb207G1DMH9cWYYfHSVVR5VKTTfLe9tb6X1P3t8M/HPwV4mIjsJgkxH+rfcCevT5cGvVrLWra/GYyuP96v5pk8PfHnw6RLCJFZDkEGDII/E+tdjpnxm/aD0oeXJM+5PvcW/T1+6fWvh8x+jxCteWWYuMl5//tH6vw9xc68fY4qpGU+jj1+Xf009D+j3zIz0YfnTSUYckfnX4Dab+1l8TdMO7VZX2jrxH/SI16joX7dUUQCalK24deD7+kNfJY36PnEuHV6cVJeTX/yR9jDMoM/awD1bNIc9q/MTQf28vA3H22bP1Env6Q161pf7cXwtu1/1wBPr53/xmvhMd4YcRYZ60Jfh/maxx0ZH3Dg+tNwewr5c039q/wCHF+MQzj/yL/WOu50/45+EtQ5imXH1b/4ivnq/C2dUvioS/A6o1Yvqe2Dd3Ofwp+VWuJsPG2hakdsMqnP1/wABXWRXls65SRTn3ryamGnD4kUXKKZ5kf8AeH50u5fUfnWKTQh1FJketLkUWAKKKKACiiigAooooAKKKKACiiigAooooAKKKKACiiigAooooAKKKKACiiigAooooAKKKKACiiigAooooAKKKKACiiigAooooAKKKKACiiigAooooAKKKKACiiigAooooAKKKKACiiigAooooAKKKKACiiigAooooAKKKKACiiigAooooAKKKKACiiigAooooAKKKKACiiigAooooAKKKKACiiigAooooAQ9RX5R/t1/8jpon+/L/wCgQV+rh6ivyi/br/5HTRP9+X/0CCgD9JPht/yJmmf7jf8AoRruE+6K4f4bf8iZpn+43/oRruE+6KAKuo/8g+5/64yf+gmv4+9R/wCQhc/9dpP/AEI1/YJqP/IPuf8ArjJ/6Ca/j71H/kIXP/XaT/0I0AU6KKKAP//T/N+rmnf8hC2/67R/+hCqdXNO/wCQhbf9do//AEIUAf2Cad/yD7b/AK4x/wDoIq5VPTv+Qfbf9cY//QRVygAooooAKKKKACiiigAooooAKKKKACiiigAooooAKKKKACiiigBv8NcN8Sv+RL1P/cT/ANCFdz/DXDfEr/kS9T/3E/8AQhQB+bn7Cn/I6a3/AL8X/oE9fq6Opr8o/wBhT/kdNb/34v8A0Cev1cHU0ALRRRQAUUUUAFFFFABRRRQAUUUUAFFFFABRRRQAUUUUAFFFFABRRRQAUUUUAFFFFABRRRQAUUUUAFFFFABRRRQAUUUUAFFFFABRRRQAUUUUAFFFFAEdHShmphOa5cTdwUkWtj8kf+Ci3xG1Pwpp8NvZZAkDjggd4PVT61+AWq6hPqd7JdTk7pD/AEr9/v8Agov8N9T8V2ENzZ5KxhzwB3MHqw9K/ADV9On0u8e1uAQ0Zxz7gV/q39Fp5dLhen9Wa9tbXfvL5f16HxWeK87oz1YKw/2f619K/s9fEjVPCvimzsbYkrO5B5A6K57qfWvmlBucDH3s19Lfs9fDbU/FfimzvbdTiB/Qd1cf3h6V+5cdywbyWusxty26+q7Hl4BfvEf1aeALxtQ8KWF0/V0JP/fRrs22jgjrXG/D+ybT/Clhav1RCD/30a66IryT2r/EDGpSxNZ0X1P0SjC9MtA5pajpSc1zUpucbsti7aUnFJto21UYRT0C9w20pNMpQcVKc3o1YdgJzSUpOaXdVKnNdQuOqOaWOCJ55TtSNSzH0CjJqSuV8Z3RttBmVTgzssQ/E5P6A11Yaj7WrGn3djys6zFYDAVsa/sRcvWy0Xzeh5Bql/Lqd/Ney9ZGyB/dUcAfgKoUUV+nwgoRUY7I/hjE4ipiKsq9Z3lJtt929WFJtB7CloqjEbtX0H5Unlxn+EflT6Kd2Fzlr/wxYagNsqrg+3/165JvhP4ae7S6kjBCn5h83zKeo+8K9QEYPenHjpzXTRzHE01aNRnfhcwxGGqRq4ebUou69Uc3d/slfC3W4EmEStHKoZSDLyDg9pa8y139hH4aT5a3hBJ95R6f9Nq+nfC3iSbSbgW10xazkb5gf+WZP8Q/qK9rBDAFeQeR714FfjHiLLKvLDES5em3+R/W/B3EeF4hwftoe7UjZTj2fdeT6fNdD8jNf/YM0QgmyjOfq3t6zV5Fqv7EWtW5P2KJsdvmHt6zV+53y9wKXYjdQPyr6XAePHFWH+OtzLz5X/7afVzy5M/n1v8A9l34tachOmxvntzF/WQ1yh+En7ROiufLjkwPe3/+LPrX9GXlRnnav5Cs290q1vRiRF/KvoI/SWzXbE0YS+S/+ROeWVR3X5n88Lav+0n4fGUkk49rb/A+tXLL49ftA6RxevJx14t/6IfWv3bv/hh4e1AEPGoz7H/4quIv/wBnjwVqBzPGv5P/AEevWwvjZw1if98wKf3/AOQnlzj1PyN079rn4i6dltUnfjr8sf8ASKu+0f8AbnlDBL6ZuOvH19Ia+/8AUP2PfhrqHE0Ix/21/wDjtefaz+wf8LrgboIgG+s3t/02rsqceeHeKdqmCcX6y/yJeD5ev5niGmft6eHgcTyk/g//AMZr0TTf28vh/jM8v6S//GawNS/YL8FgEQJz/wBtP/j1ed6n+wXpOT5EZx9W9v8ApvUew8NcXopOPykCrY5dPyPp2z/bv+EzfKJRk+03/wAZrpbb9tP4YXX3JR/5F/8AjNfAd7+wrNBzaRNntyf6zVzVz+xz40teLSBiO3zJ/WWnHgDw5r6rGtfKX+Ynicb/ACn6h2v7Vnw+uOI5Bz/10/8AjddNa/tDeDLjlJF/N/8A4ivx1uv2XPjHa82sb5+sP9ZK526+An7RFpxbRyYHvb/1eol4UcE1P93zFfc/8zT65UWlj9zrb4yeF7vGyRfzb/4muitviBoN2PklX8z/AIV+Ap8AftJ6Zz5cnHvbf/FGk3ftKaZx5cnHvbVzT8Dcsq/7rmEPx/zD6/UW6P6DF8VaW3SRfz/+tVpPEWnt0kU/j/8AWr+e7/hKP2kou8n/AJLf4U0+P/2kYuP3n/kt/wDE1yvwArP4cZD+vmP+0J9T+h9dVs26Sr+dWFvLdukq/nX87H/CzP2kYzktJ/5Lf/E0H4xftHxcZk4/69v/AImsn9HfGy2xcP6+Yf2jI/os8+P+8v8A30KXz4/7y/8AfQr+dNfjn+0knLySY+lt/wDEVZH7QP7Qyffkkz9Lf/43U/8AEu2cPavD71/mN5hLsf0Q+bH/AHl/MUonjHQr+dfzyJ+0R8el+9I/5Qf/ABFXU/aS+NqD55H/ACh/+N1D+jjnT2qw+9f5h/aM+35H9CHmx/3l/MUecnYj8xX8/C/tN/GJOXkf8of/AI3Vpf2qfiqnDyP+UX/xuo/4l14g6Tj96/zH/aR+/vmx/wB4fnS+an94fnX4Gr+1h8RU+/K/5R//ABqriftfeOU4eV/++U/+NVnL6OvEP88fvX+Yf2kfvV5qeo/OjzE9R+dfg4v7Zfi6Pl5W/wC+V/8AjVWV/bZ8RRj55W/75H/xmuZ/R34o6JffH/5Iv+1KB+7IdB/EPzp3mL6j86/DBP249RX78rfl/wDaauJ+3bKvDyN+X/2ms5fR84o/lX4f5iWaUO5+4O5fUfnQHX1H51+KcX7d0Axulb8j/wDGa1ov28NOH3pDk+zf/Ga45+AvE0dofl/mbf2hh+5+y+/3pd4/ya/H+L9vHQQfnlP5P/8AGa14f28vC2PmlP5P/wDGa4qnglxRHal+X+Yf2hh+5+swYHvS5HrX5Yxft5eEB96X9H/+M1qw/t5eBz9+XP4Sf/Ga4p+EPEMf+XD/AA/zF/aOH7n6dhqXdX5swft5/DvPzzfpL/8AGa3YP29fhfgb5P0m/wDjNcVXww4ijth5fh/mCzCh3P0F20oGK+Hrb9ur4UXJCrKM/wDbb/4zXTWv7YnwzuRlJhz/ANdf/jVeXLgDiSn/ABMNL7kbvFRPrwg+lDA4r5ptf2n/AABd8JMvP/XT/wCN10dr8dfBl1yk6/8Aj/8A8RXBV4WzSGlSi/uJeMge47qd2xXmVr8UvD939x1/M/8AxNdLa+K9Lu+UdfzP+ArzZ5ViKerps19vTfU6rg0lU47uOT+NfzFTiWP+8v5iuCcaydkh80H1JKKi3J/eH50u5P7w/Oq5/In3ySio9yf3h+dG5P7w/Ojn8g98duo3UeYn94fnR5if3h+dO0+47zDdRuo8xP7w/OjzE/vD86LT7heYbqN1HmJ/eH50eYn94fnVWl3C8w3UbqPMT+8Pzo8xP7w/Oi0u4XmOopu9P7w/Ojen94fnU88C7T7jqKbvT+8Pzo3p/eH50c8AtPuNpQcU/wAxPUfnR5qf3h+dFp9xe93G7qN1O81P7w/OjzU/vD86XLN9Rrm7jt1G6oPOj/vD8xR50f8AeH5ii9+gc0SWiovOj/vD8xS+bF/fX8xT9nfoTzIeDmnZHpUAnjP8S/mKhkvIk/jX8xSjCX2Yg60OrLeD2P6UZx1NYkuv2MIyzr+f/wBasqXxrpEJw0i/mf8ACto4TGz+Cmx+2h3Owwe5/SlrzuX4leH4uWlX8z/8TWRN8YfCsJw0i/m3/wATXVTynFS0jTZn7an3PXMj0pNy14fN8ePB8Iy8y8f7/wD8RWTJ+0f4GiOGlA/77/8AjddseG8zl8NFj9rTPojd7Ubq+a2/ac8Ar/y2H/kT/wCN1Ef2ovAA/wCWq/nJ/wDG62/1Rzj/AKB5C+sU+59M7qTI9K+Yj+1P8PR1mH/kT/43UJ/at+HY6zD/AMif/G6f+p+cf9A8hPEU+59Q5PpRk+lfKjftZ/Dof8tR/wCRP/jVQt+1x8Oh/wAtR/5E/wDjVbf6k53/ANAsg+twPrEHNGT6V8l/8Ne/DMLnzx+Uv/xqkt/2vfhpO+0TjJ9pf/jVL/UnO/8AoFkH1uB9ZqDjk0oVjw3SuH8KeONG8Wxebpzbs4/ve/qB6V3BJBr5fEUJ4N+zmrM2JqQjNBOKRqyqS5VzDQ6iiitRDf4q/KH9uz/kdNF/35P/AEGCv1e/ir8of27P+R00X/fk/wDQYKAP0l+Gv/Il6Z/uP/6Ea7n+GuG+Gv8AyJemf7j/APoRruf4aAKuo/8AIPuf+uMn/oJr+PvUf+Qhc/8AXaT/ANCNf2Caj/yD7n/rjJ/6Ca/j71H/AJCFz/12k/8AQjQBTooooA//1Pzfq5p3/IQtv+u0f/oQqnVzTv8AkIW3/XaP/wBCFAH9gmnf8g+2/wCuMf8A6CKuVT07/kH23/XGP/0EVcoAKKKKACiiigAooooAKKKKACiijOOtABRTPMj/ALw/OnAg9DmgBaKKKACimeYnTcPzpQ6noQfxoAdRRRQA3+GuG+JX/Il6n/uJ/wChCu5/hrhviV/yJep/7if+hCgD83f2FP8AkdNb/wB+L/0Cev1cHU1+UX7Cn/I6a3/vxf8AoE9fq6OpoAWiiigAooooAKKKKACiiigAooooAKKKKACiiigAooooAKKKKACiiigAooooAKKKKACiiigAooooAKKKKACiiigAooooAKKKKACiiigAooooAKKKKAI6Pue+aKG+Ws3L2fxbDi7o888d+CtN8X6Y9pqMQfcO5PqPQj0r8Xfj5+w9rGoajJd+F7f75zxt9E/vzD3r94VJXh2yfpSFATyoP1Ar9G4F8Tcz4UqfWMtlp/w66p92cOJy+NR3P5kPDf7CHxM/tNBf258nPP8AqvQ+k1fr9+zn+zHpngC0SW9hAlAHrx9/0kb+9X3h5SsMqij8BSnY6nacfhX1nG3j9xJxRhPq+LkkvKy7eS7GMMrhGV4kcMCwIEXpU5HpTGBcilkbysd81+DyhQlH2i/U9WTUI6E33aFp1FdDskSRDHQUuPf9KgnuFgiMsoCqPevnfxv+0l4D8DymLV51Qr1++fT+7GfWuvAZNiMXK1GPMy0u7Poosuc4o3buCv618Y6X+2z8KdUuRa2dwpZjgf6739Yh6V9N+FfG+k+LbYXOnOCp6YJ9/UD0rvzPhfOMDDnxNNxXmkcyqtux3G7dQy9Kd0qIpnvXz6Udqj1OhK5PXn/xBcjT7WPs0xb/AL5U/wCNegV5n8Q5v+PK3H/TRz/46B/WvcyWPNjYfP8AJnwXiXWVPhrFNvdRX3yijzOiiiv0Q/joKKKKACiiigCHaaUDFOD57Uu6uWKo/Z/UOViA4r3Hwdetf6HFvOXt2MJPsuCv/jpArw2vWfh9n+zrnPTz/wD2UV5PEML4S9tmj9V8HcVUp5/7KL0nCSfy1X5HoAGaXbTAc0tfB81RfZP6usOxRtpAcUlNOb3E2wpQcUu6kJzT5kTcCc0hjB70UhGahwpsdkN2D/Ip21fQUzy/elCY70R5usPxBuXYXavoPyo2J/dH5UoGKXdtrT3VuRaTGeVH3RfypjQRH+BfyFSg5oIzV+28w5INGFP4b065GHjXH0/+vXPXHw50S4bLov5H/Gu920ba1jjqsfhn+Avq9PqeWt8KPDEn8C8+zf8AxVVz8G/Cz/8ALNfyb/4qvXcGjBrtWd45f8vWT7GHY8Zb4J+EXH+pX/x//wCLqs3wI8GscmFf/H//AIuvb8D1o2n1/Stf7ex/SqyvY0zwdv2fvBjD/Ur/AOP/APxdVm/Z18Ft1iX/AMf/APi699yppdtOPFWZdMQw9lA+eX/Zr8Av1hX/AMif/HKqP+y78P35MI/8if8AxyvpOm7fetVxXmf/AD/YeypnzG/7LHw+k/5Yr/5E/wDjlU3/AGS/h255iH/kT/47X1VSYPrW0eNs7/5/y+8z+qwPkx/2Q/hm4x5I/wDIv/x2qj/sbfDGQ/6gZ+sv/wAdr7B3UhY9q1XGueL/AJiJfehfVInxu/7FXwufjyx/5F/+PVUf9hz4VucmMf8Akb/49X2hto210f6+8Qf9BUifquH7HxI/7CPwmfrEP/I3/wAeqq/7BHwmb/lkP/I3/wAfr7l20mB601x/xAv+YqX4f5B9Uw/b8z4Dl/YK+FePli/Wb/49WVL+wX8NAfki/WX/AOPV+imF9aXb6V10/E3iOO+Il+H+RH9n0Ox+aU37BngAD5I/1k/+PVjTfsG+DCcLF+sn/wAer9RcCk2j0rth4tcQx/5fv8P8g/s7D9j8pJv2DfCuPljP5v8A/Hqx5v2DvD+fkiP5v/8AHq/XQKD2ppQjoorqh41cUx/5eP71/kP+z8P2Px3m/YQ0vHyRn82/+PViTfsH22TsiPt8x/8Aj1ftNsHp+lMKL6D8q74eO3E8d5/l/kH9n4fsfhrdfsQ6lbAm1hbI6fN/jNXLXX7I/wAQLZiLWF8dvmT+stfvl5a+g/IUmyI/wj8q9XD/AEh+IofE0/VL/wCROdZbfqfz1Xn7N/xrsR/oMT5+sP8AWSsU/B79o3TzxHJge9v/APFmv6LPIX+6v5Cq0+nwXA2Oq/lXoL6Rucv+JhoS9bf5DWXW2ufztDRP2j9JGcScf9e3+J9aF8X/ALR+lN92Tj3t/wDA1/QHd+CdIvPvxr+R/wAa525+E/hy6+8i/k3/AMVXoU/HXC1f97wMH/X+EyWAqJbn4TRfHL9oqyINw8gA9rf/AOIrftf2nPjLAMXMj5+kP/xuv2Xu/wBn3wddjDxqPwf/AOLrlrn9lbwBMdzovPtJ/wDHK9Cl4t8G1P8AeMuV/V/5FfVKqV7n5P8A/DVnxS/57P8A98x//GqP+GrPij/z2f8A75j/APjVfqr/AMMk/Dj/AJ4D85P/AI7R/wAMk/Dj/ngPzk/+O1t/xFHgL/oW/i/8iPq+P/m/I/K7/hrD4mf89n/75j/+NUf8NYfEz/ns/wD3zH/8ar9TP+GRvht/zxX/AMi//HaT/hkb4bf88V/8i/8Ax2l/xFDgL/oWr73/AJB9Xx3835H5cf8ADWnxM/57N/3zH/8AGqP+GtPiZ/z2b/vmP/41X6jf8MhfDj/nkP8AyL/8do/4ZC+G/wDzyH/kX/47Uf8AET/D3/oX/jL/ACD6tjv5j8uf+GtfiP8A89n/ACj/APjVH/DWvxH/AOez/wDfMf8A8ar9Qv8Ahj74bf8APIf+Rf8A47R/wx98Nv8AnkP/ACL/APHaP+In+Hv/AEL/AMZf5B9Wx38x+Yf/AA1v8QR1nf8A75T/AONU4ftd/EEdZ3/75T/41X6cH9jz4aH/AJZD/wAi/wDx2m/8Mc/DQ/8ALIf+Rf8A47S/4iRwB1y/8Zf5B9Xx3835H5m/8Ng+NB1lf8k/+NVIP2xfGg/5bP8A98p/8ar9Kj+xv8MD1hX/AMi//HajP7GnwwJ/1I/8i/8Ax2j/AIiPwB1y/wDGQfV8d/N+R+bw/bL8XD/lq/8A3yv/AMap/wDw2f4tH/LZv++V/wDjVfoyf2LPhgf+WQ/8i/8Ax2mf8MVfDDtEP/Iv/wAdpf8AERPDn/oAf3yF9Wx/835H52D9tHxIP+Wzf98j/wCNU/8A4bV8SD/ls3/fI/8AjNfod/wxN8LP+eI/Ob/47TP+GI/hYf8AlkP/ACL/APHqn/iIXhz/ANAL++X+QfVsd/Mfnk37aPiNvuzN/wB8j/41Vdv2y/Frfdmb/vlf/jVfosv7E/wrXpCPzl/+O1YX9i34XAcQj85v/jtP/iInh8v+YD8Zf5B9Wx/835H5tt+2F43P3Z3/AO+U/wDjVQN+138QW+5Ox/4Cn/xqv0wX9jT4XjkQj/yL/wDHasr+x58Mh0hHH/XX/wCO1a8SfD9f8y/8Zf5C+rY/+b8j8v2/as+JZztnf/vmP/43UDftTfFQ/dmf/vmL/wCN1+qS/sifDhekI/8AIn/x2ph+yZ8O1GBCP/In/wAdpvxT4DW2W/i/8jX6nV/mPyeb9p/4ttwsz/8AfMX/AMbqs/7THxmP3Jn/AO+Yf/jdfrev7Knw+XpCP/In/wAcqwP2XfAK9IV/8if/AByofizwKtstX3v/ACD6nV/mPx4l/aH+PU3Ebvk+0H/xuqB+Nn7Rk/Mbyflbf/EV+08X7NfgWI5WNfyk/wDjlasPwB8HQj5Y1P4P/wDF1M/GHhSP8PLY/e//AJEPqVXufiH/AMLE/aOu+A8n5W3/AMTTf7Z/aTuuRJJ+Vt/hX7qRfBjwpEcrEvHs3/xVa8Xww8ORYCxLx7N/8VXHPxxymH8HL4L+v8IfU6vc/BT+z/2kbvgeZ/5LUf8ACAftKXXzDzOf+vb/AOKr9/4fBOjxHKIv5H/GtWPw9YxjCoo/D/69Yz+kAl/AwUF/XoP+z5H89g+Dn7R12drxSc+9t/8AF1ci/Z7/AGgZPmkR+fe3/wDi6/oWWzgj6Kv/AHyKf5MXov5VxT+kTnEf4OFhb5f5Astl1ufz5j9m745H78b/AJwf/HKlH7M3xpPLI/5w/wDxyv6CRCndV/IUvkx/3R+QrP8A4mP4h6UY/wDkv/yIf2U+5/P2v7MvxgP/ACyf/vqL/wCOVKP2X/i43WJ/zh/+OV+/3lRf3R+VL5Mf90fkKr/iZHiP/n1H/wAl/wAg/sl9z8BV/ZX+Kjfeif8AOL/45Vhf2Ufigesb/nF/8dr99/Kj7KPypPKX0H5Co/4mN4h7R+5f/Ij/ALNPwQH7JfxFkwHhfj/aj/8AjtaWj/sl+OoNQSWSJsA88p6H/prX7uiNMn5R+QpPLjA3YH1xUz+kVxDKLi1H7l/8iNZaz5y+BngjUPCGmiK9ByAM5x6v6E+tfSfUZWmqFAxjAp/+5X4ZmWPeOquvLqek30EpQM0u6kJzXmKcZ+6Vqh9FFFaiEPUV+UX7df8AyOmif78v/oEFfq6eor8o/wBuv/kdNE/35f8A0CCgD9Ivhr/yJemf7j/+hGu5/hrhvhr/AMiXpn+4/wD6Ea7n+GgCrqP/ACD7n/rjJ/6Ca/j71H/kIXP/AF2k/wDQjX9gmo/8g+5/64yf+gmv4+9R/wCQhc/9dpP/AEI0AU6KKKAP/9X836uad/yELb/rtH/6EKp1c07/AJCFt/12j/8AQhQB/YJp3/IPtv8ArjH/AOgirlU9O/5B9t/1xj/9BFXKACiiigAooooAKKKKACiiigCIuAW9Vxn8a+RP2kPjXF8MrSOyt2/fXO4Ad8qYz/cb+9X1VqEv2azuLvsQv6HFfj3+0/NN4w8faekjZjid+PqkX09KAOcPjX9pu5Ya9bu/2J8nOLXoOO656+1fZn7MfxzvfGSy2HiCbN3DtByB38z+6gHQCvoPRfDtkPhhBamFcmIgn/gZ96/Mnw3Gfhx4+LWPW7k6f7iH13f3qAP2djkWRBIe3Q/WvBfjT8U7XwJpjA8TTA7eT1Up/st/er17w1M93oNvO/LOpz+DGvi39rvwdrWvJFqFh/qrfcW+7/F5Q7kelAHyPH8Qf2kPF2o3M/hQsYIyMEfZuhH+2oPY11ngH49/EvwFrKaT8SpzG9w2ACsR+6Cf+WSN/eWs/wCDf7Tngb4fQ3mja7KI5k2A5SRv75/hjb+8O9eb+O9b039ojxvZXvhH98sDsTjKdUUfxiP/AJ5mgD9vPD1+ur6Ta6kpyJAxH5ke38q2NmEEdcp4EsW0/wAK2No5+ZEIP/fRrrM/db60ABxjewwa4f4jbH8G6kWH8C/+hCjxd490fwXC02qyYVevDe391T618j/EP9sT4ZXPh3U9L835wqD7s3cg/wDPKgDxT9hPy38Y625674sf98z1+rv8Rr8if+CfWsWuueJ9auIehaI9/wC7P7D0r9deoKr2oAfRRRQAUUUUAFFFFABRRRQAUUUUAFFFFABRRRQAUUUUAFFFFABRRRQAUUUUAFFFFABRRRQAUUUUAFFFFABRRRQAUUUUAFFFFABRRRQAUUUUAFFFFABRRRQAUUUUAFFFFABRRRQAwDNNQZzTiMU0nFQ58sHJ7lRVtEfF/wC1R8Z4vhnpEg83ZI44/Ax/7Lf3q/nF+Kfxe13x1q05uLhhFu46ei+ij0r9XP8AgqB9rSCzaBT83mdD6fZ6/DGVfmZZByMV/pt9FjgfA0eH4ZvGKdWev4yXf9D43Oq7UrJmvpmuX+nXEU9tMyuhP9fXNfqj+yL+1DqOn3lvpGsTkhjjnHP+tPaP6V+So8tTmRcH616n8Hor0+NNOa3B2s5zjHZWr918TOEcrz7JqtLGRS5Vo/mvTt/Wp5mBxEnUUWf2I6DfjVdMhvVPDrkfmfpWrtztYnpmuH+Gu5fCGnburIc/gxruFGF21/ixjqUKOKqyh0dl+R+h0Z3p3LIOa8q+IQP220Pbym/9Cr1KvOfiJAWgs7oDhHeMn/eAI/8AQTXo8O1b4uDl1v8Akz8+8U8PKpw3iOXpyv7pK55fto+7RijGa/Q4winofyDe4baN1R7aeDiovN6NWCwE5pCCPxpSc06SR5W3SHJwB+AGAPwAo5J/zFJxt5i0UUVsQFeyeA4DFojSn/ltM7D6ABf5g144qs7BFGSxwAO5NfQ+lWY0/Trez7xRgN/vdWP4nNfO8SVlGhGn1b/L+kfsngtlsqua1ca17tONvnJ6fgmaFFFFfEn9OBRRRQAUUUUAFFFFABRRRQAUUUUAFFFFABRRRQAUUUUAFFFFABRRRQAUUUUAFFFFABRRRQAUUUUAFFFFABRRRQAUUUUAFFFFABRRRQAUUUUAFFFFABRRRQAUUUUAFFFFABRRRQAUUUUAFFFFABRRRQAUUUUAFFFFABRRRQAUUUUAFFFFABRRRQAUUUUAFFFFABRRRQAUUUUAFFFFABRRRQAUUUUAFFFFABRRRQAUUUUAFFFFABRRRQAh6ivyh/bp/wCR00T/AH5f/QIK/V49RX5Q/t0/8jpon+/L/wCgQUAfpJ8Nf+RL0z/cf/0I13P8NcN8Nf8AkS9M/wBx/wD0I13P8NAFXUf+Qfc/9cZP/QTX8feo/wDIQuf+u0n/AKEa/sE1H/kH3P8A1xk/9BNfx96j/wAhC5/67Sf+hGgCnRRRQB//1vzfq5p3/IQtv+u0f/oQqnVzTv8AkIW3/XaP/wBCFAH9gmnf8g+2/wCuMf8A6CKuVT07/kH23/XGP/0EVcoAKKKKACiiigAooooAKKKKAMjW1RtOmDDOQP5ivx2+MZj03xzZvMuHMjYB/wB1K/ZiSFJl8tucf1r8qv2zvh/rSeI9O8QaUhEUbSM2NvTbCvdvr2oA/Q/R5FHw/t5s4Xy2z/33X5W+MRHe+P4Fs2yUkbOPdBXsGnfteeCbPwR/wjdxMTeqm1RtkHO/cf8Alljp715n+zpoepeMfEt/4n1SIvZoyMhJA4KyKehB6j0oA/WHweGTw1Z5XBCnjP8AtGvkD9q/4jN4VjttGeXBu94HH93yj/dPr619AeH/AIp+GpTHpVq+SMgDDjpk91r47/bR8B6p4ym03WNPUlYTI3b/AKYjuR/doA4n4W/sgeEfHMU2seIoN73YDD5nH3dw/glX0FeF/FPwiv7NXjHTbbwr+5juncf3vuKn98yf89DX0b8JP2rvCfgnTH0zxLNsktQFHyuepb+7EfUV8+fHPxG37RHjDSbrwkDNHbPIemOGWP8AviP/AJ5mgD9j/hzqY1jwpp153ZHJ/wC+iPQV3v8AtVwHw20z+yPCWm2h+8EYEf8AAifU16BjjFAHCeL/AAFo/jGA22px5Vvdvb0YelfI/wAQv2O/hnD4d1PUTF8xVD96bqCB/wA9a+8d2xfnP44rh/iPsHg3U3b+4v8A6EKAPzD/AOCf2j2uheKdat4OitEO/wDdn9z61+uh+VSV61+Un7C5iXxnranrvi/9Bnr9XehoAWiiigAooooAKKKKACiiigAooooAKKKKACiiigAooooAKKKKACiiigAooooAKKKKACiiigAooooAKKKKACiiigAooooAKKKKACiiigAooooAKKKKACiiigAooooAKKKKACiiigCIHNOAzSMtNZttYcjnVaeyLtc+Mv2qPgvH8StEkkjXdKB6e8f+2v8Adr+cT4rfB7X/AARrMsd1CxjB4PHovox9a/sBubdLqIxSDKmvnvxv+zZ4I8dMZNXiUk9eH9v7sg9K/pbwZ8eMRwjTeFrXdLtp5/3X3/rr4mNyxVbtn8lGmaBeapcC2gVmdjjpj+tfqd+yL+zDqmo3KX+q25Cgg5OP+mnpJ7V+oulfsS/CvSLpbu2hUOpyP9b7+sp9a+nPC/gjS/CduLfTgFUdOD7+rH1r9I8TfpV4bO8vlhcog4N7t/L+6uxlSySNOfMbHh/TRpmlQ2f9wY/U+5raZsMB60pbOOOlMLAjdX8TVKvtYuqup7ihyQsif7tYXiLTzqej3FugzIo8yP13Jzj8RkfjW/RWlKq6U1UjutTkzDA0sZhamErfDNOL9GrHzCMDgU7Hv+ldX420k6PcNqaJi0nJY4PCOeo+h6j8q+WPF/x78GeD5DHqcwUr1++fT0Q+tfqeVYKePgqtBXv+HkfxbmPDWOwePqZfODc4vot10a8mtT3f/eOaXzD2FfKWnftcfDPULgW9vOpZjj/lr/WIV9BeHfF+leJ7cXGnSBlP19/UD0r0sw4fzTCR5q0Gl6I8vE5di8Or16bivM64HNBTHenA4qJlrxko/wDL16nGlcsUUUV1EnY+C9JN/qYu5VzDaYc57yfwj8Ov4e9ez1yngyxay0SN3GHuWMxz6HAX9AD+NdXX55nOKdbFS7LRH9h+G2RRyzI6V1adT35fPZfJW073CiiivKPvQooooAKKKKACiiigAooooAKKKKACiiigAooooAKKKKACiiigAooooAKKKKACiiigAooooAKKKKACiiigAooooAKKKKACiiigAooooAKKKKACiiigAooooAKKKKACiiigAooooAKKKKACiiigAooooAKKKKACiiigAooooAKKKKACiiigAooooAKKKKACiiigAooooAKKKKACiiigAooooAKKKKACiiigAooooAKKKKACiiigAooooAQ9RX5R/t1/8jpon+/L/wCgQV+rh6ivyi/br/5HTRP9+X/0CCgD9JPht/yJmmf7jf8AoRruE+6K4f4bf8iZpn+43/oRruE+6KAKuo/8g+5/64yf+gmv4+9R/wCQhc/9dpP/AEI1/YJqP/IPuf8ArjJ/6Ca/j71H/kIXP/XaT/0I0AU6KKKAP//X/N+rmnf8hC2/67R/+hCqdXNO/wCQhbf9do//AEIUAf2Cad/yD7b/AK4x/wDoIq5VPTv+Qfbf9cY//QRVygAooooAKKKKACiiigAooooAjxIB1yfpXH+KfBekeLoPI1FAQQRznvj0I9K6/aS+VPHennBODQB8Zv8AsTfCiXUmvxb4cHON03cY/wCe1e+eE/hZ4Z8H6YbHTYAFxjq3qfVj616hx94UhO4EI2D9KAPJtP8Ag/4d068+2RD5wc/x+/8At12eteFNN1yzFneKCgBHfvj0I9K6f+dNG453jigD4/1T9jH4V6ncG5u4MknP3pv6TCu78Dfs4eBvAtwJ9HhAA95D6/3pG9a+iMcYbmmNhsxg4NAEdvCIV2ipsZOaQnJwKcTgZoAT+GuG+JX/ACJep/7if+hCu5/hrhviV/yJep/7if8AoQoA/Nz9hT/kdNb/AN+L/wBAnr9XR1NflH+wp/yOmt/78X/oE9fq4OpoAWiiigAooooAKKKKACiiigAooooAKKKKACiiigAooooAKKKKACiiigAooooAKKKKACiiigAooooAKKKKACiiigAooooAKKKKACiiigAooooAKKKKACiiigAooooAKKKKACiiigAooooAKKKKACiiigAooooAatRqu6nkYpG4rJ1XGHM9xqy0R8VftXfGG1+HmhzwT4JmXG0+xj/2G/vV/Nx8S/iZq3i/Vp98jeTu+XkHsvoo9K/W7/gqB9rSCzaAkBvM6e32evwwlXLssh54r/Tr6LHBeFocOxzWCTqT1/GS79vI+Ez+lSnWVWUVzLRPqX7HVruwlW4gdgyn1/xzX6NfszftDX1jex6dqjkhiByRzxIeyV+a7GPDrIcEYr0T4WW1/ceLrKGzJwzn05wretfv/iBw1l2c5TUhi0lyrfXTVenb+uvyeZZVSzCjKlON30P6iNFvl1PT4bofxDP6n6VpKm8K2emazvAfhjXk8L2JNnI25D90huhPoTXYQeFdfkO1bNx/vFV/ma/yYxeJwlGvVmpr3X3+R+Dy4azb2jhDC1L3/kl/kY1dH4b8PyazeguCLWIgyt6/7I9z+gro9N8AXDOsmqyqidfLiO5j7Fug/DNelWlpbWMC21pGIok6Kv8Ank+9fP5pxDCjD2OE1k+vRH6TwT4VYzEYiOLziHJSjryv4peTXRd76va3UsIFRQqjAAwAOAAKUnNM8zb2p2c9sV8a41d2z+l+VLZCkYpKUHFJVSjNbCsxQM0EYpoGKCcU/ZqS94z9o0S0UUVRYUUUUAFFFFABRRRQAUUUUAFFFFABRRRQAUUUUAFFFFABRRRQAUUUUAFFFFABRRRQAUUUUAFFFFABRRRQAUUUUAFFFFABRRRQAUUUUAFFFFABRRRQAUUUUAFFFFABRRRQAUUUUAFFFFABRRRQAUUUUAFFFFABRRRQAUUUUAFFFFABRRRQAUUUUAFFFFABRRRQAUUUUAFFFFABRRRQAUUUUAFFFFABRRRQAUUUUAFFFFADf4q/KH9uz/kdNF/35P8A0GCv1e/ir8of27P+R00X/fk/9BgoA/SX4a/8iXpn+4//AKEa7n+GuG+Gv/Il6Z/uP/6Ea7n+GgCrqP8AyD7n/rjJ/wCgmv4+9R/5CFz/ANdpP/QjX9gmo/8AIPuf+uMn/oJr+PvUf+Qhc/8AXaT/ANCNAFOiiigD/9D836uad/yELb/rtH/6EKp1c07/AJCFt/12j/8AQhQB/YJp3/IPtv8ArjH/AOgirlU9O/5B9t/1xj/9BFXKACiiigAooooAKKKKACiiigAooooAKKKKACiiigAooooAKKKKAG/w1w3xK/5EvU/9xP8A0IV3P8NcN8Sv+RL1P/cT/wBCFAH5u/sKf8jprf8Avxf+gT1+rg6mvyj/AGFP+R01v/fi/wDQJ6/VwdTQAtFFFABRRRQAUUUUAFFFFABRRRQAUUUUAFFFFABRRRQAUUUUAFFFFABRRRQAUUUUAFFFFABRRRQAUUUUAFFFFABRRRQAUUUUAFFFFABRRRQAUUUUAFFFFABRRRQAUUUUAFFFFABRRRQAUUUUAFFFFABRRRQBEhxmlobimtWSfNUa7FtX2Pi/9qn4Lr8StFeRF3SAHHHvH/tr/dr+cn4q/B3XPBGsSx3cLeWDwePRfRj61/X9cwC6iMUi8Gvn3xx+zX4H8cuZNYiVic/3/b+7IPSv6W8GPH6vwlTeErLmpdvv/uvueJjcsVXc/km0vQ7zUbtbaBGZ2OBx7H1r9Tv2Q/2X9Uv75NS1W3IXIIJI/wCmo7Se1fqDpn7Enwr0u5W8toFDg5B/e/TvKa+ofC/gnS/CtqLbTgFUcdD6n1J9a/RvEz6VuGzzLpYXKIODe7fqn/KuxhhskjTqcxs6Dp39naXFZ/3Rj9T7mtmTgr+NITk0m4MN1fxNUqe2i6q6nvyhyxJgM0E5oQ5zQBmjmT95ChoiJMkZYY/GmNKAfmYY+tcJ488a6b4O0yS71GULtHcH1HoD61+MPx7/AG4NX0/UpLTwvcY2ntj0Q/xRfWv0PgTwuzri2r7LAx++1uvW67HPiMTyn7seavRWX8xUpCgfL/Ov5jfDn7ePxM/tNDf3DeTnniL0PpDX7Afs4/tOaX8QbRIr2YGYgZ6+snpGo/hr6vjTwE4g4Wo+2xcU15NPt2b7mGFzKNR2PvPGOac3NQ28omTcP85qY8GvxGdNyk4yPS3JKKKKokKKKKACiiigAooooAKKKKACiiigAooooAKKKKACiiigAooooAKKKKACiiigAooooAKKKKACiiigAooooAKKKKACiiigAooooAKKKKACiiigAooooAKKKKACiiigAooooAKKKKACiiigAooooAKKKKACiiigAooooAKKKKACiiigAooooAKKKKACiiigAooooAKKKKACiiigAooooAKKKKACiiigAooooAKKKKACiiigBD1FflF+3X/yOmif78v/AKBBX6unqK/KP9uv/kdNE/35f/QIKAP0i+Gv/Il6Z/uP/wChGu5/hrhvhr/yJemf7j/+hGu5/hoAq6j/AMg+5/64yf8AoJr+PvUf+Qhc/wDXaT/0I1/YJqP/ACD7n/rjJ/6Ca/j71H/kIXP/AF2k/wDQjQBTooooA//R/N+rmnf8hC2/67R/+hCqdXNO/wCQhbf9do//AEIUAf2Cad/yD7b/AK4x/wDoIq5VPTv+Qfbf9cY//QRVygAooooAKKKKACiiigAooooAKKKKACiiigAooooAKKKKACiiigBr/dNcP8Sf+RM1P/cX/wBCFdw/3TXD/En/AJEzU/8AcX/0IUAfm5+wp/yOmt/78X/oE9fq4Opr8ov2FP8AkdNb/wB+L/0Cev1dHU0ALRRRQAUUUUAFFFFABRRRQAUUUUAFFFFABRRRQAUUUUAFFFFABRRRQAUUUUAFFFFABRRRQAUUUUAFFFFABRRRQAUUUUAFFFFABRRRQAUUUUAFFFFABRRRQAUUUUAFFFFABRRRQAUUUUAFFFFABRRRQAUUUUAFFFFABRRRQAUUUUAFFFFAEdKDigjFNBzWdRStzIvdH5J/8FFviNqfhTToreyJCyBhwR6weqn1r+f3U9QuNTvZLm4JLOe/sK/oC/4KL/DnVPFenRXFlkrGG7DuYPVh6V/P7qmnz6bePbTghozjkeor/VL6KssunwvH6q17Wy5t/wCaffT+vQ+JzuN5XiZ6sFYH+7/WvpX9nr4kap4V8U2djbElZ3I6jsrnup9a+aVAZwMfez+lfS37PXw21PxX4ps723U4hf0HdXH94elfuvHcsG8lrrMbctuvqux5uAT9oj+rTwBdm+8KWFy3VkJ/8eNdmzbce9cd8P7M2HhSxtW6qhH/AI8a62LqTX+IGNSliazou2p+iUYJ0ywBml6fjQtITmsYxTjaOxbuBGKiYAcZz+FR3F1HBCZpflVetfO/jf8AaW8D+BpTFqjrlevL8dPSNvWvRy7J8bj37LAQbfkYPExi7M+jsHrmlJLcFf1r4r0v9tj4T6ndLa2dwpdjjpN/WKvqHwp440jxbbC502UFW6Yzz19QPSuvMeFs1y1e0xlJxT7qw3WhzWudmTigjNBTHel3ba8NWStA3lFNElFFFUQFFFFABRRRQAUUUUAFFFFABRRRQAUUUUAFFFFABRRRQAUUUUAFFFFABRRRQAUUUUAFFFFABRRRQAUUUUAFFFFABRRRQAUUUUAFFFFABRRRQAUUUUAFFFFABRRRQAUUUUAFFFFABRRRQAUUUUAFFFFABRRRQAUUUUAFFFFABRRRQAUUUUAFFFFABRRRQAUUUUAFFFFABRRRQAUUUUAFFFFACHqK/KH9un/kdNE/35f/AECCv1ePUV+UP7dP/I6aJ/vy/wDoEFAH6SfDX/kS9M/3H/8AQjXc/wANcN8Nf+RL0z/cf/0I13P8NAFXUf8AkH3P/XGT/wBBNfx96j/yELn/AK7Sf+hGv7BNR/5B9z/1xk/9BNfx96j/AMhC5/67Sf8AoRoAp0UUUAf/0vzfq5p3/IQtv+u0f/oQqnVzTv8AkIW3/XaP/wBCFAH9gmnf8g+2/wCuMf8A6CKuVT07/kH23/XGP/0EVcoAKKKKACiiigAooooAKKKKACiiigAooooAKKKKACiiigAooooAb/DXDfEr/kS9T/3E/wDQhXc/w1w3xK/5EvU/9xP/AEIUAfm5+wr/AMjtrn+/F/6BPX6uHvX5R/sK/wDI7a5/vxf+gT1+rh70AOooooAKKKKACiiigAooooAKKKKACiiigAooooAKKKKACiiigAooooAKKKKACiiigAooooAKKKKACiiigAooooAKKKKACiiigAooooAKKKKACiiigAooooAKKKKACiiigAooooAKKKKACiiigAooooAKKKKACiiigAooooAKKKKACiiigBhfHaoydvvmn7d1DfNUQ5oylzbdCoO6PO/HfgfTvF2mSWmoRB9w7k+o9CPSvxf+PX7D+r3+oyXfhe2++exHog/il+tfvAhIHzHJ+lNZQTyoI+gr9B4B8Tsx4Tk8Rlk7L/h+6fdnBicvjU1Z/Mj4d/YQ+Jn9poL+3Ihzz/qvQ+k1fr7+zj+zHpnw/tEmvIQJgB6/9NPSRvWvvAxKwBVFH4CnLtdfk4/CvsONvH7iPijCfV8XJJeVl27JdjGGVwjK6IoYfIQIBgelWStRsN+BSyN5WO+a/B5QoTXtF+p6srRjoTLUe/HalL57UzbmoxTqezUqG39dxxS6nxf+1R8Z4vhrpMg8zZI4OPwMf+w396v5y/ir8Yde8dapN9onYRZ46ei+ij0r9XP+Cnv2tbazaAH5vMzj2+z1+GDodzLIMEYr/UT6L3BGVwyCGbVI3qSV7695LufG5ziHTlZGrpuvahpk63drIwdDnr68dxX6n/sl/tRajp99FpmsyEgkAZI9JD/DH9K/JfaiqwlOGGMd69U+EC3n/CaWK2xO0vzj/dav23xF4FyjOMrrwxMNUt9fLz8jzsDXqSqo/sM8P6iNU02G9HRxkfr7Vsbvut6ZrhfhxlPB+nFurIf0Y13akFduOlf4uY1x+uVoUPss+9hCUqaZaooopFhRRTS6DqwH40WAdRTPMj/vL+YpwIPSnZgLRRRSAKKKKACiiigAooooAKKKKACiiigAooooAKKKKACiiigAooooAKKKKACiiigAooooAKKKKACiiigAooooAKKKKACiiigAooooAKKKKACiiigAooooAKKKKACiiigAooooAKKKKACiiigAooooAKKKKACiiigAooooAKKKKACiiigAooooAKKKKACiiigAooooAKKKKAEPUV+Uf7df/I6aJ/vy/wDoEFfq4eor8ov26/8AkdNE/wB+X/0CCgD9JPht/wAiZpn+43/oRruE+6K4f4bf8iZpn+43/oRruE+6KAKuo/8AIPuf+uMn/oJr+PvUf+Qhc/8AXaT/ANCNf2Caj/yD7n/rjJ/6Ca/j71H/AJCFz/12k/8AQjQBTooooA//0/zfq5p3/IQtv+u0f/oQqnVzTv8AkIW3/XaP/wBCFAH9gmnf8g+2/wCuMf8A6CKuVT07/kH23/XGP/0EVcoAKKKKACiiigAooooAKKKKAGDhz70wnZyeEp25Q4GeX6fhXyJ+0Z8b/wDhWluNLib97LkL9R5Z/uN/eoA+t/NjYZVgG+tKpYLvZw2O3FfiYfGn7T93I+v2u/8As5PmP/Hr0PA7buvtX2N+zL8c7rxmX0vXJM3ceAwOOv7w/wAKAdBQB95A5JX0pm9N+PSmQuJCXHfFcx4q8SWvh7R5b6Q9BkdexA9D60AdRuVATK4x69KRZkx1AJ6DOa/Ibxp8afit8Q9WuNL+GjMzQkA48nuAf+WqL/datrwHfftOHVbUeJFcRAnd/wAevTB/u/hQB+seWXk8inEEA7etYegtdLpUTXxy+OenqfSts53rjpzmgBf4a4b4lf8AIl6n/uJ/6EK7n+GuG+JX/Il6n/uJ/wChCgD83P2FP+R01v8A34v/AECev1dHU1+UX7Cn/I6a3/vxf+gT1+ro6mgBaKKKACiiigAooooAKKKKACiiigAooooAKKKKACiiigAooooAKKKKACiiigAooooAKKKKACiiigAooooAKKKKACiiigAooooAKKKKACiiigAooooAKKKKACiiigAooooAKKKKACiiigAooooAKKKKACiiigAooooAKKKKACiiigAooooAKKKKACiiigAooooAKKKKAIgMU4HFAOKAcVm2lZz3KvzbHxZ+1P8ABVfiZokjxjdIBxx7x/7a/wB2v5yvit8HPEXgfWJorqJjFnjhfRfRj61/X9c2kd3GUfoa+evHP7Nfgfx2xfV41JPXh/b+7IvpX9K+DPjvW4TXsMUuan2XTfyfc8LHZc6rufyT6bod7qdyLSBGLk4HH496/VH9kT9l/Vb+6TUdVgIXIIJxx/rR2kr9QtL/AGI/hVpV2LyCBd6nI/1vpjvMa+oPDHgnSvCtstrpqhUXpwfc9yfWv0vxM+lUs5wUsFlEHDm769n/ACrt3MMBlTpu7NTQtP8A7M0yG0/uDH61tP8AeX8aBJnnHSnlgBu61/D1RSVaWKrSvc+lScVYdt3UUpOaQcZ96v3b8z3RMVyo8+8eeN9P8IabJdXxCgDPU+o9AfWvxg+Pn7cGs2WpSW/hW42mI4wNp6hP70P1r3L/AIKLfETUfCVhBDZykLMHB4HYweqn1r8AdSvZ9TvJriQks5B/Sv7q+jl4K5bm+X/25mqvF7J37yj0a7dv+B8vmeY8jPvnw3+3f8TRqca6hcN5KnniLoQfSGv1+/Zz/aa0z4hWscd1cAzEeh/6af8ATNR/DX8uy/Krn6V9Kfs8/EnVPC3iyzsrQnErkEZHZXPdT61+0+K/0fchxeVVKuV0lTnFdLvqu8vX+t+LBZk5VLSP63oJlu4EmQ8NnFXANtcX4AvGvvCtlct1dDn/AL6NdfnLGv8AK+vRqUak6cpXs7bWPtOe8LjkTbnnOalWkCY70m7bWFP2spXmW9RCM0rL0opjTJ3IH40uWKm3BXkS3bcft3UL8tQmeMfxKfxqTcO3NVKnCH76orP+kKNRS0HUgGKetIDiiVv4a6l3Y4HNLUdKTmilPnjdksXbSk4pNtG2qjCKegXuG2lJplKDipTm9GrBYCc0lKTml3VSpzXUdx1FFFWSFFFFABRRRQAUUUUAFFFFABRRRQAUUUUAFFFFABRRRQAUUUUAFFFFABRRRQAUUUUAFFFFABRRRQAUUUUAFFFFABRRRQAUUUUAFFFFABRRRQAUUUUAFFFFABRRRQAUUUUAFFFFABRRRQAUUUUAFFFFADf4q/KH9uz/AJHTRf8Afk/9Bgr9Xv4q/KH9uz/kdNF/35P/AEGCgD9Jfhr/AMiXpn+4/wD6Ea7n+GuG+Gv/ACJemf7j/wDoRruf4aAKuo/8g+5/64yf+gmv4+9R/wCQhc/9dpP/AEI1/YJqP/IPuf8ArjJ/6Ca/j71H/kIXP/XaT/0I0AU6KKKAP//U/N+rmnf8hC2/67R/+hCqdXNO/wCQhbf9do//AEIUAf2Cad/yD7b/AK4x/wDoIq5VPTv+Qfbf9cY//QRVygAooooAKKKKACiiigAooooAzr+X7PaNJH/AK/Hn9qOc+L/HWnoxzskf/wBAi+npX6/a2pfTZvL6sB/MV+PHxjX+zfH1mLn+KRv/AEBKAP0w0bwxZr8MEslUYaLB4/28+tfmboEafDfx7Ktjw00g9uiH13f3q/VPSJUTwAG/hWMfq9flh4uVdR8fQy2p5Ehzj/cH+FAH6/eGblr7RrW7k+8yn+ZFfE/7XPj2fw3FBZA4V9wPP/XL2PrX2f4QQr4eslPZW/ma/Nf9vqwu797RrPORv5/78etAHMfAn4lfDf4YmbVNUYRvJtPSVum8dlb+9X3N4Q/aA+HvxAljXSnV3XOBiReuf70a/wB2vz4/Zt+ANj8QLOf/AIS1N6xhf4iOpk/uOv8AdFYnx38JT/ATxXp8XghTFHO75Gc/dWP/AJ6F/wC+aAP2stpElhWWPo39Km+6teVfCXxDJr3hWzuJTkspz+DN7D0r1IncXX0xQBw/jHx/o/gqE3OpnCdz83sOyn1r5J+If7YXwsk8PanpSz4kKoPuzeoP/PKvrbxj4A0fxrCbbUxlO4+b2PZh6V8k/EP9j34WR+HtT1VYMyBUP3pvUD/nrQB8+f8ABP3WbXWfE2tXtl912iPf+7OO9frmRgELwa/Iz/gn7o1ro3ibWrKy+6jRDv8A3Zz3r9cycgleTQA+iiigAooooAKKKKACiiigAooooAKKKKACiiigAooooAKKKKACiiigAooooAKKKKACiiigAooooAKKKKACiiigAooooAKKKKACiiigAooooAKKKKACiiigAooooAKKKKACiiigAooooAKKKKACiiigAooooAKKKKACiiigAooooAKKKKACiiigAooooAKKKKACiiigBgGaBQpzmmg5rJzirKpuNRSFpCM0/NNpVaaa9/YaYUpOaYoxUm6qSnNe8rMhyVxgOacRinEZqMnFZNRgv3ruXuOIxSDnPtRux260Vv7t+V7sUXzI/JH/AIKMfDu/8XWEE1ihKxBySMHqYPVh6V/P9qljPpt3LbSEh0IB49q/ss8eeCdO8Y6ZJbXyBgRjBz6j0I9K/GD49/sO6xe6lJceFrTd5pzkFewT+9N9a/ur6OXjVluUZd/Yeau0Vs3fvKXRPv3/AOD8xmeX87PxjX5lcfSvpT9nn4bap4p8WWd7aA4icknA7q47sPSvd/Df7CHxNOpxtqFuwgJ55i7A+k2a/X79nP8AZl0z4e2scl1bgTAep/6af9NGH8VftPiv9ILIcJlVSlldVVJyXS66rvH1/rbhwWWuNS8j7B8AWbWPhWytm6ohz/30a6/GGNQQQraQJCg4XOKuA7q/yvr1qlapOo42u77n2nJaFgDUhGaQfJ15zSk4rnqVJQXtJbDprQ4Dx54307wjp8lzfOECjrz6j0B9a/Fz49/tw6zZ38tt4WuyDEccBe+z+/D9a9y/4KJ/ETUPCNnbwWTELMHBxjsYPVT61+Aeo302qXM11ICWcg9a/vL6OXgXl2Z4OOfZnHmjLo7/AN5fzfp/wPm82x0qL0Pvzw3+3f8AExNVSPUbljCp54i7g+kOa/X79nX9p3TPiHaRpdTgzEc8Hn7/AKRr/dr+XMZUMfpzX0v+zz8R9U8KeK7OytCdszkYyOyue6n1r9g8V/o9ZDjMrnXy2mqco9r913l/X58OX5jOc7SP63rW4W8thMvRun51bAzXD+A71rzwtZXLcl0JP/fRrtgeSPSv8tcWlDGToL7LaPsYO6uP+7QtOoqHogIhjoKXHv8ApUE9wsERllAVR7187+N/2kvAfgeUxavOqFev3z6f3Yz6114DJsRi5Wox5mWl3Z9FFlznFG7dwV/WvjHS/wBtn4U6pci1s7hSzHA/13v6xD0r6b8K+N9J8W2wudOcFT0wT7+oHpXfmfC+cYGHPiabivNI5lVbdjuN26hl6U7pURTPevn0o7VHqdCVyeiiiugkKKKKACiiigAooooAKKKKACiiigAooooAKKKKACiiigAooooAKKKKACiiigAooooAKKKKACiiigAooooAKKKKACiiigAooooAKKKKACiiigAooooAKKKKACiiigAooooAKKKKACiiigAooooAKKKKAEPUV+UX7df/ACOmif78v/oEFfq6eor8o/26/wDkdNE/35f/AECCgD9Ivhr/AMiXpn+4/wD6Ea7n+GuG+Gv/ACJemf7j/wDoRruf4aAKuo/8g+5/64yf+gmv4+9R/wCQhc/9dpP/AEI1/YJqP/IPuf8ArjJ/6Ca/j71H/kIXP/XaT/0I0AU6KKKAP//V/N+rmnf8hC2/67R/+hCqdXNO/wCQhbf9do//AEIUAf2Cad/yD7b/AK4x/wDoIq5VPTv+Qfbf9cY//QRVygAooooAKKKKACiiigAooooAqzxRzRNA/I4/xr8rf2zvAeqjxBY67pKkLEzk4x/dhHc/XtX6rktjdGM5/CuP8V+CtI8WwCHVkBBBHf29CPSgD89tN/bA8F2Xgg+GrqYtfhNoG2Qc7t3aLHT3rzP9nPw9qXjHxJqHiLWgTZMyMpIHQLIP4SD1A7V9fP8AsUfCx9SN/wDZ8NnI+abuMf8APWvefCHwr8O+D9ObTdNQKjDH8XYk92Pr60AZPh34reFpimk27/OvGMP7nuv9a88+P/gAeM9MGpLFvUAkc+6D+8P7vpXqdl8IPC9he/braPa+c9XPb3evRZ9Nt5rD+z5TlCMdPfNAH5PfBf4+aD8I72903xcxiXKAcMem8/wI394V5z8f/HqfHvxbpj+BsyxxO+SAR1WP/noqf3DX6H+I/wBkz4a+KZ2udQhDtKc9ZR0x6Sj0ra8E/s0eAfA06vpEAVl6cyH1/vSN60Adx8JNAk0TwxZwSjDKhyPqWPr716qBl3H0pltDHbRC3j6J0/HmpwMEn1oAR/umuH+JP/Iman/uL/6EK7h/umuH+JP/ACJmp/7i/wDoQoA/Nv8AYU/5HTW/9+L/ANAnr9XR1NflF+wp/wAjprf+/F/6BPX6ujqaAFooooAKKKKACiiigAooooAKKKKACiiigAooooAKKKKACiiigAooooAKKKKACiiigAooooAKKKKACiiigAooooAKKKKACiiigAooooAKKKKACiiigAooooAKKKKACiiigAooooAKKKKACiiigAooooAKKKKACiiigAooooAKKKKACiiigAooooAKKKKACiiigAooooAKKKKACiiigAooooAKKKKACiiigAppRD1UH6inUUXAZ5cf91fyFOAA6UtFO7AKKKKQEAO72xTiM03binE4rllGpU/dyWg4PQ/I/wD4KLfDvUfF2n209nESIRISRjuYPVh6V+Auq2M+mXk1tIpDIQP0Ff2V+PPBOn+LtMe1v8MCPQ+o9CPSvxd+Pf7D2s3uqSXHhaDcZTnjaM4Cf3pfrX97/Rx8cMty7BRyHNJKMY9Xf+8+36/8H5zNcA6z0PxiGWDfhxX0v+zz8N9U8V+LLO9tAdsL5zgd1cd2HpXu3hz9hD4mPqqSajbMIWPPMXYH0mzX6/8A7Ov7MWmfDy0je5gCzAcnJ4+/6SN/er9e8V/pC5Dg8rnQy2oqkpdr913j/X5cGX5dOE7yPr3wJZNY+FrK2brGhz/30a7THJ/CoLW3W1txCvRf8asg4P1r/LXFtTxkq6+02z7GCsrCgZpqDOacRimk4rNz5YOT3KiraI+L/wBqj4zxfDPSJB5uyRxx+Bj/ANlv71fzi/FP4va7461ac3Fwwi3cdPRfRR6V+rn/AAVA+1pBZtAp+bzOh9Ps9fhjKvzMsg5GK/02+ixwPgaPD8M3jFOrPX8ZLv8AofG51XalZM19M1y/064intpmV0J/r65r9Uf2Rf2odR0+8t9I1ickMcc45/1p7R/SvyVHlqcyLg/WvU/g9FenxppzW4O1nOcY7K1fuviZwjlefZNVpYyKXKtH816dv61PMwOIk6iiz+xHQb8arpkN6p4dcj8z9K1dudrE9M1w/wANdy+ENO3dWQ5/BjXcKMLtr/FjHUoUcVVlDo7L8j9DozvTuTbttRt8tSkbvamkZrOm5c8ubYuFloMRDjng00SYPzkD6kVwPjvxtpvg7S3vNSlChR6H1A7A+tfjD8ef239XstRks/C1zjYccBfRD/HF9a/QeAfC7MuJZOllkNO/392uzOHEY+FPc/dsyqOFcH8RTl2ovyc/jX8yPh39u/4mf2mhv7gmHPP+q9D6Q1+vn7OP7TmmfEC0SG8mBmIHr/009I19K+w428AeJOF8J9YxcU15Wfbs33OeOaQlK0T7yYlCKWRfNx2xUUM6zoHXpU5PpX4PKdCMfZr9T1ZJTjoSgYoAxTQcUE5rocb6shNPYXdS5ppGKSoqVEtC+UQHNOIxSUU05wXvO7JcIjt1MIzQBinE5rNyjNWqopaD6KKK6CQooooAKKKKACiiigAooooAKKKKACiiigAooooAKKKKACiiigAooooAKKKKACiiigAooooAKKKKACiiigAooooAKKKKACiiigAooooAKKKKAEPUV+UP7dP/ACOmif78v/oEFfq8eor8of26f+R00T/fl/8AQIKAP0k+Gv8AyJemf7j/APoRruf4a4b4a/8AIl6Z/uP/AOhGu5/hoAq6j/yD7n/rjJ/6Ca/j71H/AJCFz/12k/8AQjX9gmo/8g+5/wCuMn/oJr+PvUf+Qhc/9dpP/QjQBTooooA//9b836uad/yELb/rtH/6EKp1c07/AJCFt/12j/8AQhQB/YJp3/IPtv8ArjH/AOgirlU9O/5B9t/1xj/9BFXKACiiigAooooAKKKKACiiigAooooAKKKKACiiigAooooAKKKKAG/w1w3xK/5EvU/9xP8A0IV3P8NcN8Sv+RL1P/cT/wBCFAH5ufsK/wDI7a5/vxf+gT1+rh71+Uf7Cv8AyO2uf78X/oE9fq4e9ADqKKKACiiigAooooAKKKKACiiigAooooAKKKKACiiigAooooAKKKKACiiigAooooAKKKKACiiigAooooAKKKKACiiigAooooAKKKKACiiigAooooAKKKKACiiigAooooAKKKKACiiigAooooAKKKKACiiigAooooAKKKKACiiigAooooAKKKKACiiigAooooAKKKKACiiigAooooAKKKKACiiigAooooAKKKKACiiigAooooAYDikZaUfN7Uq1mpTUrMrYYRmozGndQfqKlb5aUvjtWUo3m/Zu0hWvuQeRGf4VH4VJtHbinbttC/NWkqkJfuaju/6Yo01HUctIBmkpAc03b+IuhdmAOacBmkZaazbajkc6rT2QWufGX7VHwXj+JWiSSRrulA9PeP8A21/u1/OJ8Vvg9r/gjWZY7qFjGDwePRfRj61/YDc26XURikGVNfPfjf8AZs8EeOmMmrxKSevD+392Qelf0t4M+PGI4RpvC1rul208/wC6+/8AXXxMbliq3bP5KNM0C81S4FtArM7HHTH9a/U79kX9mHVNRuUv9VtyFBBycf8ATT0k9q/UXSv2JfhXpF0t3bQqHU5H+t9/WU+tfTnhfwRpfhO3FvpwCqOnB9/Vj61+keJv0q8NneXywuUQcG92/l/dXYypZJGnPmNjw/po0zSobP8AuDH6n3NbTNhgPWlLZxx0phYEbq/iapV9rF1V1PcUOSFkS0U8nFNU5zUVIuasti0z8kP+Ci/xG1Pwpp8UFlkCQN0I7GD1U+tfz/apfz6pePczk7nOfXoPwr+gL/got8OdT8V6dHcWQJEYY8AdzB6sPSv5/tR0+fTb6S1nB3IfT2r/AFT+itPL/wDVeMcLb2tlzb/zT76f16Hw+d1Hz2RmoQrg5+7/AFr6W/Z6+JOp+FPFNnZW7HEz+o7K5/un1r5qVQzAf3v6V9K/s9fDfVPFXimzvrYELA5J4B6q47sPSv3XjuODWS13mNuW3X1XY4MA37RH9W3gC8a+8K2F0/VkJP8A30a62Lbkg965DwDaPY+FLC1fqqEH/vo12ZAb8K/xAxrUcTWVFdT9DoztT1JgMUjU2nbqxmnsXy2KV1cC0jMrngfh/jXz144/aT8DeBm8vWZVBX/f9v7sZ9a89/an+MyfDXRJERsSEcc47x/7Df3q/nI+K3xg1zxvrM0l1M3lE8dPRfRR6V/SPg14E1OK4+3rPlp+Xz812PDx+Y+yeh/RtpX7bvwq1S6Wyt513seB+9+veH2r6g8MeNdK8VWi3WnMHVhkYJ9T6gelfxmaZrt7pt4t1A7K6nPX2+lfqj+yJ+1Bqtjerpuq3BKZUAHH/TQ9o/pX6Z4mfRVWTYKWNyibny99Oy/mffsZ4DNXVlY/oPEYHGetSFR0rB0PUP7S0yG7/vDP61tyD51/Gv4gqSk60sNWjax9GnzJMs0UUVoZhRRTS6DqwH40WAdRTPMj/vL+YpwIPSnZgLRRRSAKKKKACiiigAooooAKKKKACiiigAooooAKKKKACiiigAooooAKKKKACiiigAooooAKKKKACiiigAooooAKKKKACiiigBD1FflH+3X/AMjpon+/L/6BBX6uHqK/KL9uv/kdNE/35f8A0CCgD9JPht/yJmmf7jf+hGu4T7orh/ht/wAiZpn+43/oRruE+6KAKuo/8g+5/wCuMn/oJr+PvUf+Qhc/9dpP/QjX9gmo/wDIPuf+uMn/AKCa/j71H/kIXP8A12k/9CNAFOiiigD/1/zfq5p3/IQtv+u0f/oQqnVzTv8AkIW3/XaP/wBCFAH9gmnf8g+2/wCuMf8A6CKuVT07/kH23/XGP/0EVcoAKKKKACiiigAooooAKKKKACiiigAooooAKKKKACiiigAooooAb/DXDfEr/kS9T/3E/wDQhXc/w1w3xK/5EvU/9xP/AEIUAfm5+wp/yOmt/wC/F/6BPX6ujqa/KP8AYU/5HTW/9+L/ANAnr9XB1NAC0UUUAFFFFABRRRQAUUUUAFFFFABRRRQAUUUUAFFFFABRRRQAUUUUAFFFFABRRRQAUUUUAFFFFABRRRQAUUUUAFFFFABRRRQAUUUUAFFFFABRRRQAUUUUAFFFFABRRRQAUUUUAFFFFABRRRQAUUUUAFFFFABRRRQAUUUUAFFFFABRRRQAUUUUAFFFFABRRRQAUUUUAFFFFABRRRQAUUUUAFFFFABRRRQAUUUUAFFFFABRRRQAUUUUAFFFFABRRRQAUUUUAFFFFABRRRQAUUUUAFFFFADAcUA4pxGaaRipSsuVDXY898e+C9L8Yaa9pqEQbcMdT6qexHpX4t/Hv9h/VNQ1J7vwvb53HPBHog/jm+tfvAjcYdsn6UjxIcZUH8K/ROBPFHOuEantcDL77W69LPuYYjDqR/Mj4Z/YQ+Jv9roL63Yw555i9D6TV+wH7Of7Mml/D63Sa9hAmAGev+36SN/er7s8pc5VVH4CpSy/w8GvquNPHviDimj7HFySXkku3ZLscuEy2NN3GQRCFdo/zipjyabnPFObivxGc3GTlI9LYQjNI1SkZqMjNc2L5vZ8sRxPxS/4KgfaWt7NYFJ2eZkg+pt6/DJ2be7OOTiv6qf2p/gynxL0eQlNzovH4mP/AG1/u1/OP8Vfg5rngXVZ/tKMYs8cD0X0YnvX+n/0X+N8snw/DKK0kpxVra95PovQ+OznDucuZHhAAZGXucYr1f4Qm+HjSwEIJVXOcY/utXA6doWo6rOlvBG29zjp6fl6V+qf7JP7L+qX17Fq+qIdqkEZA/6aDtJX7f4jcdZTk+WV54ierXn5eXmedgaE41Ufun8N9zeDdN3feVD+rGu8Che+c1j+H9OXS9Lgsh/ApH6k+ta5XDIvrmv8XMYo/XK06H2mfeU5yjTSJ9u6ilJzSDjPvU+7fme6NIqyPPvHnjfT/CGmyXV8QoAz1PqPQH1r8YPj5+3BrNlqUlv4VuNpiOMDaeoT+9D9a9y/4KLfETUfCVhBDZykLMHB4HYweqn1r8AdSvZ9TvJriQks5B/Sv7q+jl4K5bm+X/25mqvF7J37yj0a7dv+B8vmeY8jPvnw3+3f8TRqca6hcN5KnniLoQfSGv1+/Zz/AGmtM+IVrHHdXAMxHof+mn/TNR/DX8uy/Krn6V9Kfs8/EnVPC3iyzsrQnErkEZHZXPdT61+0+K/0fchxeVVKuV0lTnFdLvqu8vX+t+LBZk5VLSP63oJlu4EmQ8NnFXANtcX4AvGvvCtlct1dDn/vo11+csa/yvr0alGpOnKV7O21j7TnvC5Lu20N8tOZd1REbvbFZxUpTfNsVCIkals71x+NIXUdWAHuRXA+O/G+neEdLku9QlCbR3B9R6A+tfi78e/24dX0/UZLTwvcH5DjgD0Q/wAUJ96/QfD/AMMMy4rk8PlcdP8Ah+7XZnBicwjTdmfu95qqMK6n8RTvlQHYM/jX8yHhv9u/4mf2mhv7g+TnniL0PpDX6/fs5ftOaZ8QLRIbyYGUgevP+s9I1/u19hxz4A8ScMYT2+LimvKz6rs33MY5pCcrI+8XO3HfNDrv9sVHFL5qBh0NWd2a/COehFezj+p6s/fjoOPaj71KRmmVuopqzEhSAQOaiGI/vGorq4jt4jNIcBa+ePGv7S3gfwPKYdUdcr15f29Iz616GW5Pj8dL2WEg5PysZSxEY6M+jsepzSszHgL+tfFel/tsfCbU7lbW3uF3McAfvv6xV9QeFfHGj+LrYXGlSgq3I6+/qB6V25jwtmuW/vMZScb91YHWhzWTO0JxQRmgpjvS7tteErJWgbyimhAMUAYpwOKTGe+Kjki9am4ua+o7FIUz36UlG7bSq1Ek+fYnlvqNU5qTbTaUjFUnOC953YnFXHE4qMjNAGKcTmsm4zX71WL2Eo2Y707p+NNqpVHD3YoFqKDignNM8zb2p2c9sVXLV3bHYUjFJSg4pKqUZrYmzFAzQRimgYoJxT9mpL3jP2jRLRRRVFjf4q/KH9uz/kdNF/35P/QYK/V7+Kvyh/bs/wCR00X/AH5P/QYKAP0l+Gv/ACJemf7j/wDoRruf4a4b4a/8iXpn+4//AKEa7n+GgCrqP/IPuf8ArjJ/6Ca/j71H/kIXP/XaT/0I1/YJqP8AyD7n/rjJ/wCgmv4+9R/5CFz/ANdpP/QjQBTooooA/9D836uad/yELb/rtH/6EKp1c07/AJCFt/12j/8AQhQB/YJp3/IPtv8ArjH/AOgirlU9O/5B9t/1xj/9BFXKACiiigAooooAKKKKACiiigAooooAKKKKACiiigAooooAKKKKAG/w1w3xK/5EvU/9xP8A0IV3P8NcN8Sv+RL1P/cT/wBCFAH5u/sKf8jprf8Avxf+gT1+rg6mvyj/AGFP+R01v/fi/wDQJ6/VwdTQAtFFFABRRRQAUUUUAFFFFABRRRQAUUUUAFFFFABRRRQAUUUUAFFFFABRRRQAUUUUAFFFFABRRRQAUUUUAFFFFABRRRQAUUUUAFFFFABRRRQAUUUUAFFFFABRRRQAUUUUAFFFFABRRRQAUUUUAFFFFABRRRQAUUUUAFFFFABRRRQAUUUUAFFFFABRRRQAUUUUAFFFFABRRRQAUUUUAFFFFABRRRQAUUUUAFFFFABRRRQAUUUUAFFFFABRRRQAUUUUAFFFFABRRRQAUUUUAFFFFABRRRQA3r+FIDinA5pM5rGdNz96DHsR+Xu707GO+aUDNLtp81XZobYgGaSlJzSVUpTewrsQHNBGacDignNP2iiveM/ZtjicUynHtR92hSSV2aIqXMEc8RikGVbrXzx42/Zp8D+OpTLqiLluvD+3pIvpX0iWGB3qIEPyRXoZbm+PwM/a4Sbi/Iylh4y3Pi7S/wBif4TaZcrc29uu5Tkf6739Za+oPCvgfR/CNsLfSogFXgdff1J9a7PPqMUrKw5DfpXbmPFOa5l+7xlVyt3dwdGHNdIC+e1Lt3UhGaCcV4Ss1eBvKSSHEYpBzn2o3baKPdvyvdkxd0fkj/wUY+Hd/wCLrCCaxQlYg5JGD1MHqw9K/n+1Sxn027ltpCQ6EA8e1f2WePPBOneMdMktr5AwIxg59R6EelfjB8e/2HdYvdSkuPC1pu805yCvYJ/em+tf3V9HLxqy3KMu/sPNXaK2bv3lLon37/8AB+YzPL+dn4xr8yuPpX0p+zz8NtU8U+LLO9tAcROSTgd1cd2HpXu/hv8AYQ+Jp1ONtQt2EBPPMXYH0mzX6/fs5/sy6Z8PbWOS6twJgPU/9NP+mjD+Kv2nxX+kFkOEyqpSyuqqk5LpddV3j6/1tw4LLXGpeR9g+ALNrHwrZWzdUQ5/76NdfjDGoIIVtIEhQcLnFXAd1f5X161StUnUlG13fe59pyWhYc1MAxS05aylf4Stkfkd/wAFGPiNqfhSwht7IkCUODyOxg9VPrX4Aapfz6nePczk7nOfXoK/oA/4KLfDrU/Fmnwz2YJWMPngesHqw9K/n/1Own0y9ktrgHchHXjt+Nf6pfRXjl8OFo/VEva2XNv/ADS76f16HxWeStK0TNRtrg56V9Lfs9fErVPCnimzsrdjiZ8Hkdlc/wB0+tfNKqGI4619Lfs9fDbVPFfiqzvrYELA5PQd1cd2HpX7rx7DBLJa7zCzjbr6rsebgH+8P6tvAF59v8KWN0f4kPP/AAI11sXeuP8AANn9g8K2FqR91D/6Ea7XG7HPSv8AEDFyjHE1lRXU/RKM0qZKTioycUE4pGrgxfN7PmiaRPi/9qf4zRfDTSJB5uyRhx+Bj/2W/vV/OR8VfjDr/jrVZ/tE7CLPHT0X0VfSv1b/AOCn7Xa29mYFPzeZkg+ht6/DJ0+ZhJwRX+n/ANF/gjLIcPwzetG85K99e8l0fp0Pjs5xDhLlNXTNev8AS7mG7hnYOhJ/mPev1O/ZI/ag1Cxu7fTNTmJVjgZx/wBND2jr8mFKKfnXJ7c16l8IlvP+Ez05IgdjOc49lav2/wAReBMozjK68MTDVLz8vPyPNwNepKqkf2HeH9RGqabDejo4yP19q2N33W9M1wvw4yng/Ti3VkP6Ma7tSCu3Ff4u41x+uVoUPss+9hCUqaZOBmgDNAGaSsWk7Ke5olbYr3V0ltGZJDgCvnrxv+0n4I8COY9XlXI7Zf2/uxn+9XnH7U/xpi+GuiSRxttlIOOfeP8A2GH8Vfzk/Fb4wa/441iaW5mbyieBx6L6KPSv6W8GfAitxZH2+KdqffS73/vLsePjcf7J2P6N9L/bc+FWqXYs4J13scD/AFv17wivqDwx410rxVai601g6MOOT7juB6V/GZpuuXumXAu4HYODnr+Hev1Q/ZE/ag1Wwuk07VZyVyAAcc/609o/pX6X4mfRVWTYKWNyibny99Oy/mffscmAzV1JWZ/QiI8cZ608rnjpWDoN9/aOmQ3Z/jGc/ia23+8v41/D1RydaWGrRs0fSq8lcmAzQTmhDnNAGa05k/eRnDRESZIywx+NMaUA/Mwx9a4Tx54103wdpkl3qMoXaO4PqPQH1r8Yfj3+3Bq+n6lJaeF7jG09seiH+KL61+hcCeF2dcW1fZYGP32t163XY58RieU/djzV6Ky/mKlIUD5f51/Mb4c/bx+Jn9pob+4byc88Reh9Ia/YD9nH9pzS/iDaJFezAzEDPX1k9I1H8NfV8aeAnEHC1H22LimvJp9uzfcwwuZRqOx954xzTm5qG3lEybh/nNTHg1+IzpuUnGR6W5JRRRVEiHqK/KL9uv8A5HTRP9+X/wBAgr9XT1FflH+3X/yOmif78v8A6BBQB+kXw1/5EvTP9x//AEI13P8ADXDfDX/kS9M/3H/9CNdz/DQBV1H/AJB9z/1xk/8AQTX8feo/8hC5/wCu0n/oRr+wTUf+Qfc/9cZP/QTX8feo/wDIQuf+u0n/AKEaAKdFFFAH/9H836uad/yELb/rtH/6EKp1c07/AJCFt/12j/8AQhQB/YJp3/IPtv8ArjH/AOgirlU9O/5B9t/1xj/9BFXKACiiigAooooAKKKKACiiigCIsR9wcfWnN8o3UnzlORg/WuS8U+MtJ8I2nn6k4AAJwcjuPQH1oA65ywHyjNBDbMAc18bS/trfCq2vBY+flySB8s3bn/njX0H4J+I2g+O4hdaRMGVugw3uO6r/AHaAPSaKKKAGYz8ynGaMMBjdz9K4nxh460fwbaS3urOFjiAPOe+PQH1ryn4c/tL+A/iVeS2GjygyREAj9533esa/3TQB9H0ZxVeGTfyO9TkZoAR/umuH+JP/ACJmp/7i/wDoQruH+6a4b4k/8iXqf+4v/oQoA/N39hT/AJHTW/8Afi/9Anr9XB1NflH+wp/yOmt/78X/AKBPX6uDqaAFooooAKKKKACiiigAooooAKKKKACiiigAooooAKKKKACiiigAooooAKKKKACiiigAooooAKKKKACiiigAooooAKKKKACiiigAooooAKKKKACiiigAooooAKKKKACiiigAooooAKKKKACiiigAooooAKKKKACiiigAooooAKKKKACiiigAooooAKKKKACiiigAooooAKKKKACiiigAooooAKKKKACiiigAooooAKKKKACiiigAooooAKKKKACiiigAooooAKKKKACiiigAooooAKKKKACiiigAooooAKKKKACiiigAooooAKKKKACiiigAooooAKKKKACmlEPVQfqKdRRcBnlx/wB1fyFOAA6UtFO7AKKKKQDAcUA4pxGaaRipSsuVDXY888eeC9O8Yaa9pqEQbcO5PqPQj0r8XPj3+xBrGo6lJeeF7fO854K88IP4pR71+8KbgMO24/SmPECfmUfkK/ROBPFHOuEqntcDL77W69LPuc+Iw/MfzJeG/wBg/wCJv9oIL+3PlZ5/1XofSav1/wD2c/2Y9L+H1gkl7CBMMZ6+r+kjD+Kvu0RLnhVA+gqUsh+VePwr6rjXx74h4po+xxckl5JLt2S7HNhctjTdxlvEIU2j2H5VMeTTc54pzcV+IzqOMnKR6WwU7bSg5pGom3uLmufFf7VHwYi+JOiSOg3Sgcce8f8Atr/dr+cf4rfB/X/BOszR3MLeUDx09F9GPrX9f93bJdxGKQcGvnrxv+zZ4J8cuZNXiUk9fv8At/dkX0r+kfBnx2qcKRdCsuan/wAP/dfc8PH5d7V3P5KdM0O91K5FpAjF2PTH41+qP7In7L+q390mo6rAQuQQTjjHmjtJ7Cv1D0r9iL4VaXdreW8C71OQf33uO81fUHhjwVpXhW2W101QqKOMA+pPcn1r9N8TPpVLOMFLBZRBw5u+vZ/yrt3M8DlXspXNHQdPOl6XDaH+BcY/E/Wt1/vL+NN37u3SnswUbq/h6qpKtLFVpXv5H0aXKtRxGaRqlIzUZGaxxfN7PliKJ+KX/BUD7S0FmsBPyeZnHv8AZ6/DJ2bcxc8mv6qf2pvg0nxL0eQmHdIg459TH/tr/dr+cf4q/BzW/AuqzfaYT5WeOnovoxPev9P/AKL/ABvlk+HoZPWlacVa2veT6L06nx2c4dzlzI8JHlniQZJ969U+EH21vGmnC3B2CQ5wfVWrhtK0G/1K5hhtY2LvuHT6+uK/U39kn9mDUb+7t9X1iMqAcjIH/TQdpPav2/xG46ynJ8rrzxE9WvPy8vM83A0KkaqZ+63w2DHwdpyt1VDn8WNd4qjbkHrWN4e04aZpkNkOiDH6mtjZjanrmv8AF3G8v1ytOh9pn3sJyjBInpQcUEYpoOayqKVuZG26PyT/AOCi3xG1Pwpp0VvZEhZAw4I9YPVT61/P7qeoXGp3slzcElnPf2Ff0Bf8FF/hzqnivToriyyVjDdh3MHqw9K/n91TT59NvHtpwQ0ZxyPUV/ql9FWWXT4Xj9Va9rZc2/8ANPvp/XofE53G8rxM9WCsD/d/rX0r+z18SNU8K+KbOxtiSs7kdR2Vz3U+tfNKgM4GPvZ/Svpb9nr4ban4r8U2d7bqcQv6Durj+8PSv3XjuWDeS11mNuW3X1XY83AJ+0R/Vp4AuzfeFLC5bqyE/wDjxrsy23HvXHfD+zNh4UsbVuqoR/48a62LqTX+IGNSliazou2p+iUYJ0y3RRRWYxD1FflD+3T/AMjpon+/L/6BBX6vHqK/KH9un/kdNE/35f8A0CCgD9JPhr/yJemf7j/+hGu5/hrhvhr/AMiXpn+4/wD6Ea7n+GgCrqP/ACD7n/rjJ/6Ca/j71H/kIXP/AF2k/wDQjX9gmo/8g+5/64yf+gmv4+9R/wCQhc/9dpP/AEI0AU6KKKAP/9L836uad/yELb/rtH/6EKp1c07/AJCFt/12j/8AQhQB/YJp3/IPtv8ArjH/AOgirlU9O/5B9t/1xj/9BFXKACiiigAooooAKKKKACiiigCrLLDAPObjPfntX5YftnfEDVZPEOneHtJYmKRpFbGP7sLd1+vev1D1gn+zpmIxgDH51+PHxhDan46tEmOXWRsE/wC6n09KAPYtK/Y+8EXXgpfFc8BF+qFh80nUsV/5646e1ebfsz+J9U8E+KLzSNTmKWwdAgIB/hkPYE9TX6b6Sq/8K8hX7yeWeP8Agdflf4yEOm+P41s1wJJDnBPZB6/WgD9itOuBeWUUmMrID+hqTUL2KwtJLyT7sQB/M4rD8HMZPD1rG3VV5/EmvB/2gvira+DNPbRiQJLgYHOOhQ/3T/e9aAPjb9rPx1qvja1ntfCTEpAMOAR/F5f94L6GvAf2FdDOmeILu4ucm4lZN3PoJvfHQ19M/Cz4c3dxoWs6/r7DbKsbKDj1cfwt9O1eS/srIkPjvUbYEBFdMf8AfMpoA/Z2w/480+n9auH7w/GqWnkGzTHPH9aun7w/GgCNmRG+c4zXCfEh4D4N1RCw+4nf/aFcZ8Xm8aJYN/wiwJmI4xs9V/v8etfmh4/P7URsNTSdXFvhO9r0yM+9AHov7C2U8Za47nPzxf8AoM9fqyMbPn6V+O3/AATiGpx63rDawT5paLJOOuLj+7X7GH36UAOooooAKKKKACiiigAooooAKKKKACiiigAooooAKKKKACiiigAooooAKKKKACiiigAooooAKKKKACiiigAooooAKKKKACiiigAooooAKKKKACiiigAooooAKKKKACiiigAooooAKKKKACiiigAooooAKKKKACiiigAooooAKKKKACiiigAooooAKKKKACiiigAooooAKKKKACiiigAooooAKKKKACiiigAooooAKKKKACiiigAooooAKKKKACiiigAooooAKKKKACiiigAooooAKKKKACiiigAooooAKKKKACiiigAooooAKKKKACiiigAooooAKKKKACiiigAooooAKKKKAG9fwpAcU4HNJnNYzpufvQY9iPy93enYx3zSgZpdtPmq7NDbEAzSUpOaSqlKb2FdiA5oIzTgcUE5p+0UV7xn7NsAM0EYpwOaAc0OVtGUkkNJzSU7bS4qKlNPUvmGUUgGKcTmmlOa95WZLnEaDmnEYpdtMJxWbjGCvVZS1JCcUynHtR92tlJJXYkVLmCOeIxSDKtxXzx42/Zp8D+OpTLqiLluvD+3pIvpX0iWGB3qIEPyRXoZbm+PwM/a4Sbi/Ixlh4y3Pi7S/wBif4T6XdLdWduoZTnrN/WU19Q+FPA2j+ErYW2mxAKvTGff1J9a7LJ6YpSCvJb9K7Mx4pzXMl7PGVXJLu7jdGHNdIC+e1Lt3UhGaCcV4as1eBvKSSHF8dqjJ2++aft3UN81KHNGUubboKDujzvx34H07xdpklpqEQfcO5PqPQj0r8X/AI9fsP6vf6jJd+F7b757EeiD+KX61+8CEgfMcn6U1lBPKgj6Cv0HgHxOzHhOTxGWTsv+H7p92cGJy+NTVn8yPh39hD4mf2mgv7ciHPP+q9D6TV+vv7OP7MemfD+0Sa8hAmAHr/009JG9a+8DErAFUUfgKcu11+Tj8K+w428fuI+KMJ9Xxckl5WXbsl2MYZXCMroihh8hAgGB6VZK1Gw34FLI3lY75r8HlChNe0X6nqytCOhYooorqJEPUV+Uf7df/I6aJ/vy/wDoEFfq4eor8ov26/8AkdNE/wB+X/0CCgD9JPht/wAiZpn+43/oRruE+6K4f4bf8iZpn+43/oRruE+6KAKuo/8AIPuf+uMn/oJr+PvUf+Qhc/8AXaT/ANCNf2Caj/yD7n/rjJ/6Ca/j71H/AJCFz/12k/8AQjQBTooooA//0/zfq5p3/IQtv+u0f/oQqnVzTv8AkIW3/XaP/wBCFAH9gmnf8g+2/wCuMf8A6CKuVT07/kH23/XGP/0EVcoAKKKKACiiigAooooAKKKKAMvUI/tVtcWp6YX/ABr8ef2n4pfBvjuxaRcRzSNz9Ei+vrX7KlQwJHVsfpXyD+0t8FE+JdvFd26/vrbcRjrlvLx/Gv8AdoA9T0LxBZyfDFLqF1VVizjP+2fUV+Znh+SP4h+PphYrue0kHOf76H12/wB2sRvBP7TsEsmg25dbBMLj/Reh57nPX3r65/Z3+Beo+Cbe81DVEzfThCScdR5g7OR0agD7i8NQyW2i29uxG9FOencmvzZ/bh+EXxJ8f31lf+EAzNCXPHl9xCB991/umvpLw+vxMh1eZtQJ8hWXA/ddCD6c19UWqt9lRplDMB3x60AfgveaD+1loPhm5glV/s4VQ3/Hn03fUnvXzL8Bf+FznxxPJpisJ96bz+5/uv68dM1/TF4x0qTUvD1/Z2yKZJlUKMDsR61+enwI+BXizwn4xvr7UosRzOhUnZ2V/Rz60Afcvww/4SBtDg/tzIfb32+rf3fwr1BtrbhJ93iq1nEVtY1bggH+dXATuII4HQ0AIQCvIzXCfEpE/wCEL1M7R9xO3+0K7z+GuG+JX/Il6n/uL/6EKAPza/YTKt4y1vzE2tvixz/sz1+rpOCc9DX4Z/ssfHnwd8NvGutx+IpCjb4v4ZP7sv8AdRv7wr9Al/bZ+FJBdJ8j/dm/+M0AfZmT6UZPpXxn/wANt/Cn/nv/AOOzf/GaP+G2/hT/AM9//HZv/jNAH2Zk+lGT6V8Z/wDDbfwp/wCe/wD47N/8Zo/4bb+FP/Pf/wAdm/8AjNAH2Zk+lGT6V8Z/8Nt/Cn/nv/47N/8AGaP+G2/hT/z3/wDHZv8A4zQB9mZPpRk+lfGf/Dbfwp/57/8Ajs3/AMZo/wCG2/hT/wA9/wDx2b/4zQB9mZPpRk+lfGf/AA238Kf+e/8A47N/8Zo/4bb+FP8Az3/8dm/+M0AfZmT6UZPpXxn/AMNt/Cn/AJ7/APjs3/xmj/htv4U/89//AB2b/wCM0AfZmT6UZPpXxn/w238Kf+e//js3/wAZo/4bb+FP/Pf/AMdm/wDjNAH2Zk+lGT6V8Z/8Nt/Cn/nv/wCOzf8Axmj/AIbb+FP/AD2/8dm/+M0AfZQCHpTsCvjQftr/AAnUZ8/H/AZv/jNVZv25vhHCcNcD/vmb/wCM0AfauT6UZPpXxmP23PhQRkT5z/szf/GaP+G2/hT/AM9v/HZv/jNAH2Zk+lGT6V8Z/wDDbfwp/wCe/wD47N/8Zo/4bb+FP/Pf/wAdm/8AjNAH2Zk+lGT6V8Z/8Nt/Cn/nv/47N/8AGaP+G2/hT/z3/wDHZv8A4zQB9mZPpRk+lfGf/Dbfwp/57/8Ajs3/AMZo/wCG2/hT/wA9/wDx2b/4zQB9mZPpRk+lfGf/AA238Kf+e/8A47N/8Zo/4bb+FP8Az3/8dm/+M0AfZmT6UZPpXxn/AMNt/Cn/AJ7/APjs3/xmj/htv4U/89//AB2b/wCM0AfZmT6UZPpXxn/w238Kf+e//js3/wAZo/4bb+FP/Pf/AMdm/wDjNAH2Zk+lGT6V8Z/8Nt/Cn/nv/wCOzf8Axmj/AIbb+FP/AD3/APHZv/jNAH2Zk+lGT6V8Z/8ADbfwp/57/wDjs3/xmj/htv4U/wDPf/x2b/4zQB9lBVXpxTuDXxmP22fhOR/r/wDx2b/4zVab9uX4SQHDXA/75m/+M0AfauT6UZPpXxmP23PhSRkT9f8AZm/+M0f8Nt/Cn/nt/wCOzf8AxmgD7MyfSjJ9K+M/+G2/hT/z3/8AHZv/AIzR/wANt/Cn/nv/AOOzf/GaAPszJ9KMn0r4z/4bb+FP/Pf/AMdm/wDjNH/Dbfwp/wCe/wD47N/8ZoA+zMn0oyfSvjP/AIbb+FP/AD3/APHZv/jNH/Dbfwp/57/+Ozf/ABmgD7MyfSjJ9K+M/wDhtv4U/wDPf/x2b/4zR/w238Kf+e//AI7N/wDGaAPszJ9KMn0r4z/4bb+FP/Pf/wAdm/8AjNH/AA238Kf+e/8A47N/8ZoA+zMn0oyfSvjP/htv4U/89/8Ax2b/AOM0f8Nt/Cn/AJ7/APjs3/xmgD7MyfSjJ9K+M/8Ahtv4U/8APf8A8dm/+M0f8Nt/Cn/nv/47N/8AGaAPszJ9KMn0r4z/AOG2/hT/AM9//HZv/jNH/Dbfwp/57/8Ajs3/AMZoA+zMn0oyfSvjP/htv4U/89v/AB2b/wCM0H9tz4UgZM/T/Zm/+M0AfZucU0hW618VQ/tzfCO4OFuAf+Az/wDxmrR/ba+E4/5b/wDjs3/xmgD7MyfSjJ9K+M/+G2/hT/z3/wDHZv8A4zR/w238Kf8Anv8A+Ozf/GaAPszJ9KMn0r4z/wCG2/hT/wA9/wDx2b/4zR/w238Kf+e//js3/wAZoA+zMn0oyfSvjP8A4bb+FP8Az3/8dm/+M0f8Nt/Cn/nv/wCOzf8AxmgD7MyfSjJ9K+M/+G2/hT/z3/8AHZv/AIzR/wANt/Cn/nv/AOOzf/GaAPszJ9KMn0r4z/4bb+FP/Pf/AMdm/wDjNH/Dbfwp/wCe/wD47N/8ZoA+zMn0oyfSvjP/AIbb+FP/AD3/APHZv/jNH/Dbfwp/57/+Ozf/ABmgD7MyfSjJ9K+M/wDhtv4U/wDPf/x2b/4zR/w238Kf+e//AI7N/wDGaAPszJ9KMn0r4z/4bb+FP/Pf/wAdm/8AjNH/AA238Kf+e/8A47N/8ZoA+zMn0oyfSvjP/htv4U/89v8Ax2b/AOM0H9tz4UgZM/T/AGZv/jNAH2Zk+lBGRzXxTB+3L8JpzhbgH/gM3/xmrR/ba+Ffab/x2b/4zQB9mZPpRk+lfGf/AA238Kf+e/8A47N/8Zo/4bb+FP8Az3/8dm/+M0AfZmT6UZPpXxn/AMNt/Cn/AJ7/APjs3/xmj/htv4U/89//AB2b/wCM0AfZmT6UZPpXxn/w238Kf+e//js3/wAZo/4bb+FP/Pf/AMdm/wDjNAH2Zk+lGT6V8Z/8Nt/Cn/nv/wCOzf8Axmj/AIbb+FP/AD3/APHZv/jNAH2Zk+lGT6V8Z/8ADbfwp/57/wDjs3/xmj/htv4U/wDPf/x2b/4zQB9mZPpRk+lfGf8Aw238Kf8Anv8A+Ozf/GaP+G2/hT/z3/8AHZv/AIzQB9mZPpRk+lfGf/Dbfwp/57/+Ozf/ABmj/htv4U/89/8Ax2b/AOM0AfZmT6UZPpXxn/w238Kf+e//AI7N/wDGaP8Ahtv4U/8APf8A8dm/+M0AfZmT6UZPpXxn/wANt/Cn/nt/47N/8ZoP7bnwpAyZ+n+zN/8AGaAPs3OKaQrda+Kof25vhHcHC3AP/AZ//jNWj+218Jx/y3/8dm/+M0AfZmT6UZPpXxn/AMNt/Cn/AJ7/APjs3/xmj/htv4U/89//AB2b/wCM0AfZmT6UZPpXxn/w238Kf+e//js3/wAZo/4bb+FP/Pf/AMdm/wDjNAH2Zk+lGT6V8Z/8Nt/Cn/nv/wCOzf8Axmj/AIbb+FP/AD3/APHZv/jNAH2Zk+lGT6V8Z/8ADbfwp/57/wDjs3/xmj/htv4U/wDPf/x2b/4zQB9mZPpRk+lfGf8Aw238Kf8Anv8A+Ozf/GaP+G2/hT/z3/8AHZv/AIzQB9mZPpRk+lfGf/Dbfwp/57/+Ozf/ABmj/htv4U/89/8Ax2b/AOM0AfZmT6UZPpXxn/w238Kf+e//AI7N/wDGaP8Ahtv4U/8APf8A8dm/+M0AfZmT6UZPpXxn/wANt/Cn/nv/AOOzf/GaP+G2/hT/AM9//HZv/jNAH2Zk+lGT6V8Z/wDDbfwp/wCe3/js3/xmg/tufCkDJn6f7M3/AMZoA+zMn0oIyOa+KYP25fhNOcLcA/8AAZv/AIzVo/ttfCvtN/47N/8AGaAPszJ9KMn0r4z/AOG2/hT/AM9//HZv/jNH/Dbfwp/57/8Ajs3/AMZoA+zMn0oyfSvjP/htv4U/89//AB2b/wCM0f8ADbfwp/57/wDjs3/xmgD7MyfSjJ9K+M/+G2/hT/z3/wDHZv8A4zR/w238Kf8Anv8A+Ozf/GaAPszJ9KMn0r4z/wCG2/hT/wA9/wDx2b/4zR/w238Kf+e//js3/wAZoA+zMn0oyfSvjP8A4bb+FP8Az3/8dm/+M0f8Nt/Cn/nv/wCOzf8AxmgD7MyfSjJ9K+M/+G2/hT/z3/8AHZv/AIzR/wANt/Cn/nv/AOOzf/GaAPszJ9KMn0r4z/4bb+FP/Pf/AMdm/wDjNH/Dbfwp/wCe/wD47N/8ZoA+zMn0oyfSvjP/AIbb+FP/AD3/APHZv/jNH/Dbfwp/57/+Ozf/ABmgD7MyfSjJ9K+M/wDhtv4U/wDPb/x2b/4zQf23PhSBkz9P9mb/AOM0AfZucU0hW618VQ/tzfCO4OFuAf8AgM//AMZq0f22vhOP+W//AI7N/wDGaAPszJ9KMn0r4z/4bb+FP/Pf/wAdm/8AjNH/AA238Kf+e/8A47N/8ZoA+zMn0oyfSvjP/htv4U/89/8Ax2b/AOM0f8Nt/Cn/AJ7/APjs3/xmgD7MyfSjJ9K+M/8Ahtv4U/8APf8A8dm/+M0f8Nt/Cn/nv/47N/8AGaAPszJ9KMn0r4z/AOG2/hT/AM9//HZv/jNH/Dbfwp/57/8Ajs3/AMZoA+zMn0oyfSvjP/htv4U/89//AB2b/wCM0f8ADbfwp/57/wDjs3/xmgD7MyfSjJ9K+M/+G2/hT/z3/wDHZv8A4zR/w238Kf8Anv8A+Ozf/GaAPszJ9KMn0r4z/wCG2/hT/wA9/wDx2b/4zR/w238Kf+e//js3/wAZoA+zMn0oyfSvjP8A4bb+FP8Az3/8dm/+M0f8Nt/Cn/nv/wCOzf8AxmgD7MyfSjJ9K+M/+G2/hT/z2/8AHZv/AIzQf23PhSBkz9P9mb/4zQB9mZPpQRkc18Uwfty/Cac4W4B/4DN/8Zq0f22vhX2m/wDHZv8A4zQB9mZPpRz6V8Z/8Nt/Cn/nv/47N/8AGaP+G2/hT/z3/wDHZv8A4zQB9mZPpRk+lfGf/Dbfwp/57/8Ajs3/AMZo/wCG2/hT/wA9/wDx2b/4zQB9kqVJ4r8o/wButtnjPRDIu5d8uOf9mCvpM/tsfCcYdp8H/dn/APjNfn9+1N8evCHxJ8baImiyFgHl6LJ3WL+8i/3TQB+ynw258F6b/uN/6Ea7fHyYrhvhoc+C9M/3G/8AQjXdjpQBU1H/AJB9z/1xk/8AQTX8feo/8hC5/wCu0n/oRr+wTUf+Qfc/9cZP/QTX8feo/wDIQuf+u0n/AKEaAKdFFFAH/9T836uad/yELb/rtH/6EKp1c07/AJCFt/12j/8AQhQB/YJp3/IPtv8ArjH/AOgirlU9O/5B9t/1xj/9BFXKACiiigAooooAKKKKACiiigApCAevNLRQAzy4/wC6v5U4Ko6AClooATavoKWiigApAqjkAClooAKKKKAGjO456cYrJ1HT4dY0+Sxn6OMH88+o9K1cHO7P4UZXB2mgD4zm/Yl+FFxqMl81uAzHJG6buP8ArtSr+xN8KQCfI6/7U3/x6vsvOzA65pcYG3NAHxp/wxJ8Kf8Anj/49N/8eo/4Yk+FP/PD/wAem/8Aj1fZmD60YPrQB8Z/8MSfCn/nh/49N/8AHqP+GJPhT/zw/wDHpv8A49X2Zg+tGD60AfGf/DEnwp/54f8Aj03/AMeo/wCGJPhT/wA8P/Hpv/j1fZmD60YPrQB8Z/8ADEnwp/54f+PTf/HqP+GJPhT/AM8P/Hpv/j1fZmD60YPrQB8Z/wDDEnwp/wCeH/j03/x6j/hiT4U/88P/AB6b/wCPV9mYPrRg+tAHxn/wxJ8Kf+eH/j03/wAeo/4Yk+FP/PD/AMem/wDj1fZmD60YPrQB8Z/8MSfCn/nh/wCPTf8Ax6j/AIYk+FP/ADw/8em/+PV9mYPrRg+tAHxn/wAMSfCn/nh/49N/8eo/4Yk+FP8Azw/8em/+PV9mYPrRg+tAHxkP2JvhPuy0GSv+1N3/AO21fnh+1p+z94I8D+K9HsdMhIWdpQcPJ2WI95D/AHq/drChjn+L+lfmj+2X4P1bxB4q0e7sQSIXk6Y/iWEdyPSgDtfA/wCxr8Lb/wALadevBksrk/NN/eI/56117fsT/CYLtaDr/tT/APx6vpf4f2z2nhLTrV+qo2f++ia7PKtz6f1oA+Nf+GJPhT/zw/8AHpv/AI9R/wAMSfCn/nh/49N/8er7MwfWjB9aAPjP/hiT4U/88P8Ax6b/AOPUf8MSfCn/AJ4f+PTf/Hq+zMH1owfWgD4z/wCGJPhT/wA8P/Hpv/j1H/DEnwp/54f+PTf/AB6vszB9aMH1oA+M/wDhiT4U/wDPD/x6b/49R/wxJ8Kf+eH/AI9N/wDHq+zMH1owfWgD4z/4Yk+FP/PD/wAem/8Aj1H/AAxJ8Kf+eH/j03/x6vszB9aMH1oA+M/+GJPhT/zw/wDHpv8A49R/wxJ8Kf8Anh/49N/8er7MwfWjB9aAPjP/AIYk+FP/ADw/8em/+PUf8MSfCn/nh/49N/8AHq+zMH1owfWgD4z/AOGJPhT/AM8P/Hpv/j1H/DEnwp/54f8Aj03/AMer7MwfWjB9aAPjL/hif4SFsm35T/bn7/8Abavzx/a0/Z88G+B/FWj2WlRFUnaUcNJ2WI95G/vGv3YBO7DDG7+lfmj+2X4O1PxD4r0a8sskQPJ2H8SwjuR6UAdv4H/Y2+Ft/wCFtOvZ4cllcn5pv7xH/PWuu/4Yl+E+3CQdf9qb/wCPV9LfD+1e08I6dazdVRs/99E12iujfd5xQB8a/wDDEnwp/wCeH/j03/x6j/hiT4U/88P/AB6b/wCPV9mYPrRg+tAHxn/wxJ8Kf+eH/j03/wAeo/4Yk+FP/PD/AMem/wDj1fZmD60YPrQB8Z/8MSfCn/nh/wCPTf8Ax6j/AIYk+FP/ADw/8em/+PV9mYPrRg+tAHxn/wAMSfCn/nh/49N/8eo/4Yk+FP8Azw/8em/+PV9mYPrRg+tAHxn/AMMSfCn/AJ4f+PTf/HqP+GJPhT/zw/8AHpv/AI9X2Zg+tGD60AfGf/DEnwp/54f+PTf/AB6j/hiT4U/88P8Ax6b/AOPV9mYPrRg+tAHxn/wxJ8Kf+eH/AI9N/wDHqP8AhiT4U/8APD/x6b/49X2Zg+tGD60AfGf/AAxJ8Kf+eH/j03/x6j/hiT4U/wDPD/x6b/49X2Zg+tGD60AfGf8AwxJ8JguGgzj/AGp//j1ch44/Y4+F+n+FtRvbeDBRUI+ab+8B3lr74JVPvnrXG+P7Z7rwjqNrAPmZFx/30D3oA/Fj9kv9n7wT448VaxY6nASsDRAZeTusp7SD+7X6Hn9ib4T7srBgt/tTdv8AttXjn7Gng/VvD/irWLu+BAmePrj+FZh2J9a/S7Clhj+H+tAHxr/wxJ8Kf+eH/j03/wAeo/4Yk+FP/PD/AMem/wDj1fZmD60YPrQB8Z/8MSfCn/nh/wCPTf8Ax6j/AIYk+FP/ADw/8em/+PV9mYPrRg+tAHxn/wAMSfCn/nh/49N/8eo/4Yk+FP8Azw/8em/+PV9mYPrRg+tAHxn/AMMSfCn/AJ4f+PTf/HqP+GJPhT/zw/8AHpv/AI9X2Zg+tGD60AfGf/DEnwp/54f+PTf/AB6j/hiT4U/88P8Ax6b/AOPV9mYPrRg+tAHxn/wxJ8Kf+eH/AI9N/wDHqP8AhiT4U/8APD/x6b/49X2Zg+tGD60AfGf/AAxJ8Kf+eH/j03/x6j/hiT4U/wDPD/x6b/49X2Zg+tGD60AfGf8AwxJ8Kf8Anh/49N/8eo/4Yk+FP/PD/wAem/8Aj1fZmD60YPrQB8Zj9if4TBdywcf70/8A8erkfHH7Gnwv07wtqV1HByFQj5pv7w/6bGvvgBQNgrjfiBE1z4S1K3TqUTH/AH0KAPxX/ZL/AGfvBPjfxXrFlqcJKwNEBl5O6yntIP7tfoef2JvhPuysGC3+1N2/7bV45+xp4P1bw/4q1i7vgQJnj9P4VmHYn1r9LsKWGP4f60AfGv8AwxJ8Kf8Anh/49N/8eo/4Yk+FP/PD/wAem/8Aj1fZmD60YPrQB8Z/8MSfCn/nh/49N/8AHqP+GJPhT/zw/wDHpv8A49X2Zg+tGD60AfGf/DEnwp/54f8Aj03/AMeo/wCGJPhT/wA8P/Hpv/j1fZmD60YPrQB8Z/8ADEnwp/54f+PTf/HqP+GJPhT/AM8P/Hpv/j1fZmD60YPrQB8Z/wDDEnwp/wCeH/j03/x6j/hiT4U/88P/AB6b/wCPV9mYPrRg+tAHxn/wxJ8Kf+eH/j03/wAeo/4Yk+FP/PD/AMem/wDj1fZmD60YPrQB8Z/8MSfCn/nh/wCPTf8Ax6j/AIYk+FP/ADw/8em/+PV9mYPrRg+tAHxn/wAMSfCn/nh/49N/8eo/4Yk+FP8Azw/8em/+PV9mYPrRg+tAHxn/AMMSfCYLhoM4/wBqf/49XIeOP2OPhfp/hbUb23gwUVCPmm/vAd5a++CVT7561xvj+2e68I6jawD5mRcf99A96APxY/ZL/Z+8E+OPFWsWOpwErA0QGXk7rKe0g/u1+h5/Ym+E+7KwYLf7U3b/ALbV45+xp4P1bw/4q1i7vgQJnj64/hWYdifWv0uwpYY/h/rQB8a/8MSfCn/nh/49N/8AHqP+GJPhT/zw/wDHpv8A49X2Zg+tGD60AfGf/DEnwp/54f8Aj03/AMeo/wCGJPhT/wA8P/Hpv/j1fZmD60YPrQB8Z/8ADEnwp/54f+PTf/HqP+GJPhT/AM8P/Hpv/j1fZmD60YPrQB8Z/wDDEnwp/wCeH/j03/x6j/hiT4U/88P/AB6b/wCPV9mYPrRg+tAHxn/wxJ8Kf+eH/j03/wAeo/4Yk+FP/PD/AMem/wDj1fZmD60YPrQB8Z/8MSfCn/nh/wCPTf8Ax6j/AIYk+FP/ADw/8em/+PV9mYPrRg+tAHxn/wAMSfCn/nh/49N/8eo/4Yk+FP8Azw/8em/+PV9mYPrRg+tAHxn/AMMSfCn/AJ4f+PTf/HqP+GJPhT/zw/8AHpv/AI9X2Zg+tGD60AfGY/Yn+EwXcsHH+9P/APHq5Hxx+xp8L9O8LaldRwchUI+ab+8P+mxr74AUDYK434gRNc+EtSt06lEx/wB9CgD8V/2S/wBn7wT438V6xZanCSsDRAZeTusp7SD+7X6Hn9ib4T7srBgt/tTdv+21eOfsaeD9W8P+KtYu74ECZ4/T+FZh2J9a/S7Clhj+H+tAHxr/AMMSfCn/AJ4f+PTf/HqP+GJPhT/zw/8AHpv/AI9X2Zg+tGD60AfGf/DEnwp/54f+PTf/AB6j/hiT4U/88P8Ax6b/AOPV9mYPrRg+tAHxn/wxJ8Kf+eH/AI9N/wDHqP8AhiT4U/8APD/x6b/49X2Zg+tGD60AfGf/AAxJ8Kf+eH/j03/x6j/hiT4U/wDPD/x6b/49X2Zg+tGD60AfGf8AwxJ8Kf8Anh/49N/8eo/4Yk+FP/PD/wAem/8Aj1fZmD60YPrQB8Z/8MSfCn/nh/49N/8AHqP+GJPhT/zw/wDHpv8A49X2Zg+tGD60AfGf/DEnwp/54f8Aj03/AMeo/wCGJPhT/wA8P/Hpv/j1fZmD60YPrQB8Z/8ADEnwp/54f+PTf/HqP+GJPhT/AM8P/Hpv/j1fZmD60YPrQB8Z/wDDEnwmC4aDOP8Aan/+PVyHjj9jj4X6f4W1G9t4MFFQj5pv7wHeWvvglU++etcb4/tnuvCOo2sA+ZkXH/fQPegD8WP2S/2fvBPjjxVrFjqcBKwNEBl5O6yntIP7tfoef2JvhPuysGC3+1N2/wC21eOfsa+D9W8P+KtYu75SBM8fXH8KzDsT61+l2FLDH8P9aAPjX/hiT4U/88P/AB6b/wCPUf8ADEnwp/54f+PTf/Hq+zMH1owfWgD4z/4Yk+FP/PD/AMem/wDj1H/DEnwp/wCeH/j03/x6vszB9aMH1oA+M/8AhiT4U/8APD/x6b/49R/wxJ8Kf+eH/j03/wAer7MwfWjB9aAPjP8A4Yk+FP8Azw/8em/+PUf8MSfCn/nh/wCPTf8Ax6vszB9aMH1oA+M/+GJPhT/zw/8AHpv/AI9R/wAMSfCn/nh/49N/8er7MwfWjB9aAPjP/hiT4U/88P8Ax6b/AOPUf8MSfCn/AJ4f+PTf/Hq+zMH1owfWgD4z/wCGJPhT/wA8P/Hpv/j1H/DEnwp/54f+PTf/AB6vszB9aMH1oA+M/wDhiT4U/wDPD/x6b/49R/wxJ8Kf+eH/AI9N/wDHq+zMH1owfWgD4zH7E/wmC7lg4/3p/wD49XI+OP2NPhfp3hbUrqODkKhHzTf3h/02NffACgbBXG/ECJrnwlqVunUomP8AvoUAfiv+yX+z94J8b+K9YstThJWBogMvJ3WU9pB/dr9Dz+xN8J92VgwW/wBqbt/22rxz9jTwfq3h/wAVaxd3wIEzx+n8KzDsT61+l2FLDH8P9aAPjX/hiT4U/wDPD/x6b/49R/wxJ8Kf+eH/AI9N/wDHq+zMH1owfWgD4z/4Yk+FP/PD/wAem/8Aj1H/AAxJ8Kf+eP8A49N/8er7MwfWjB9aAPjJv2JvhSQp8jp/tTf/AB6kh/Yl+FMGox3wtwWU5A3Tdh/12r7Nxkbc0md+R0xQBk6fp0Oj6dHYW44QYH55759a1mzuXHvSnHftQQ2c/pQBV1H/AJB9z/1xk/8AQTX8feo/8hC5/wCu0n/oRr+wTUf+Qfc/9cZP/QTX8feo/wDIQuf+u0n/AKEaAKdFFFAH/9X836uad/yELb/rtH/6EKp1c07/AJCFt/12j/8AQhQB/YJp3/IPtv8ArjH/AOgirlU9O/5B9t/1xj/9BFXKACiiigAooooAKKKKACiiigAooooAKKKKACiiigAooooAKKKKACiiigAooooAKKKKACiiigAooooAKKKKACiiigAooooAKKKKAGKM5JGM+9NVcR7BzivFviF8cvCHw6wdcm2jn+Fz/d/uo394V4/D+238J55xBb3G4nj7sw/nDQB9mAqcba5PX/B2meIZVlvVDFTnnPt6EelZfgr4jaF44jMulODjH97vn1Ueld+M7fnFAEFtD9mhWFE4UY61MyZYMDg1yfinxhpnhOzkv9Tl2xIMng+w7AnvXyxJ+3J8ITdyWDXI8yM4ICzn3/540Afam1h/F+lBVercmvmHwn+1P8O/FVytnpkmWb2l9z3iHpX0pZ3MN3brdw8q/Tr9KALtFFFABRRRQAUUUUAFFFFABRRRQAUUUUAMX7xyME0mDtIfpXiPxT+PPgv4T4XxLMEJ9Q/+z/dRv7wrxxP24/hPKA8U+4H/AGZv/jNAH2kQ2Rz+lcpr3hDTNemWa+UNj6+3oR6Vwnwz+NfhH4pRmXRHyR2w/wDtf3kX+6a9mXkYPNAFW2g+y26wxJjb71aIAO88YqneXkOnxPc3UmEUZ6f4Zr5f8U/tb/DTwpdSWeq3I3IcH5ZfY/wxH1oA+q2KcbjmnA5Hymvn74eftF+CPiO4GiSAk/8AXQf3v70a/wB0176jrOgYd6AJqKKKACiiigAooooAKKKKACiiigAooooAbjnJ4NNYAqfM5FeF/EH9oDwZ8OX8rXZNp+kh/u/3Y2/vCvJX/bf+FMcfmmfK/wC7N/8AGaAPtD7y8d6r3NulzEY5EyD718veBP2tPhn4+vBZ6NcBnJxwsvoT/FEP7pr6ftZkuolnt5Mo3Tj/ABoA5vQPCGl6BO0+nxhA/pn39SfWusChSR1z/SuV8VeL9K8K2Et/qUmyOMAngnuB2B9a+Vf+G5PhP9pksxODJEQD8s3f/tjQB9q7WH8X6UFV6tya+YfCf7U/w78V3K2emSZZvaX3PeIelfSlncw3dut3Dyr9Ov0oAu0UUUAFFFFABRRRQAUUUUAFFFFADAD128/WgAsMOMCqd7exWFo95O2EQZJx747V8r+LP2wfhl4QvHstUnwyHB+WX0B/hiPrQB9acAfMc5pny/6kcf5zXi3wr+O3g/4thj4dkDlMdN/fd/eRf7pr1bVdatdGsXvr0hRGMkc+uOwPrQBrBFQsw74z+FV57YT2rW7jO7g/nXyTq37Zfwt0a7azvbgblOPuzex7RH1r1b4dfHDwn8TIzLoM4Kj2f/a/vIv900Ad5oHg3TfD0zTWYALHPAPv6k+tdYCwzuqL5Gj3xfhU3oD3oAANy4YY9qaVZlxnH61xPjDx9ongu3N1qsoVV7HPt6KfWvm5v21fhT9vaxe4w4IH3Zu4z/zyoA+xtu5t4b9Kf35/CuF8H+PtB8ZW/n6ZIG6HA3d8+qj0ruxjGKAFooooAKKKKACiiigAooooAZ8w6L+tC7j98VTvryKytHvJmwiDJ498V8reKf2wvhj4UvHsNUnAdDg8S+gPaI+vrQB9bDJ70EMejY/CvEfhb8dvCHxZH/FPSBvpv/2v7yL/AHTXQeOPib4d+HyeZrT7R9G9v7qt/eFAHpce1v3oHLdfw4qvcWyXFsbWYZV+P1zXx6f23PhR9pNu8+CP9mb/AOM17Z8PfjT4P+IymXRZwcez/wC1/eRf7tAHaaB4N03w9M01mACxzwD7+pPrXWAsM7qh+R4t8X4VP6A96AEX7xyME0mDtIfpXiPxT+PPgz4T7V8SzBCfUP8A7P8AdRv7wrxxP24/hPKA8U+5T/szf/GaAPs8ncvyHIp5GSCD0rxn4XfG7wl8VFLeHH3AdeHH97+8i/3TXsqkjIPWgCSiiigAooooAKKKKACiiigBgB67efrQAWGHGBVO9vYrC0e8nbCIMk498dq+V/Fn7YPwy8IXj2WqTgMhwfll9Af4Yj60AfWgDbsnpS9Gzj8a8S+Fvx08G/FeLPhucOfYP/tf3kX+6a6Txx8TtA+H8Xm65LgfRu2P7qt/eFAHpKnJPGDVe5giuYDHONynr/kV8Zj9uL4SiVlefGP9mY/+0a9P8DftH+BvHr+Xo8uenaT3/vRr/doA9Y0Hwdp3h+dprMAE+gPv6k+tdZgnIbpUMUiXEIli6N0qck5AoATcf4hj8aCGbocVyXinxjo/hGza91eYKic8g+oH8IPrXzJcftq/CRL1tPmuMOpwflm+vaGgD7Jwc5zSHCnca868E/Ejw94/t/O0pw3/AH13z6qv92vRgvy7TzQA6iiigAooooAKKKKACiiigBnzDov60LuP3xVO+vIrK0e8mbCIMnj3xXyt4p/bC+GPhS8ew1ScB1ODxL6A9oj6+tAH1qfmHTNLz6YrxT4W/HTwh8WFJ8Oyhz7B/wDa/vIv901p/ED4u+HPhxzrsuM+zf7P91W/vCgD1f7pCqOOarXNsLyCS1m+42P8a+PJv22/hVCWDT8j/Zm/+M0ukftsfCjW9Si06C4AdyR92b0z/wA8R6UAfT+heDtM8PTyXNmo3PjpkdMjuT611i/OFcjkZrP0zULXU7WO8tz8rjI6/wBcVexh2Y9OKAHL945GCaTB2kP0rxH4p/HnwZ8J9q+JZghPqH/2f7qN/eFeOJ+3H8J5QHin3Kf9mb/4zQB9nk7l+Q5FPIyQQeleM/C743eEviopbw4+4Drw4/vf3kX+6a9lUkZB60ASUUUUAFFFFABRRRQAUUUUAR891x+NOye4xWNrOt2mh2TX16+EQZ6H1A7A+tfLWtftmfCzRb17C9nwynB+Wb0B7RGgD67HyAR4yKUqUGIx+tfM3hD9qb4d+NJFi0mcFn6ZEg9f70Y9K98vdfsbLTP7TllCoRkHB7HHpQBvBFQsw74z+FV57YT2rW7jO7g/nXyTq37Zfwt0a7azvLgblOPuzfXtEfWvVvh18cPCfxMjMugzgqPZ/wDa/vIv900Ad5oHg3TfD0zTWYALHPAPv6k+tdYCwzuqL5Gj3xfhU3oD3oAANy4YY9qaVZlxnH61xPjDx9ongu3N1qsoVV7HPt6KfWvm5v21fhT9vaxe4w4IH3Zu4z/zyoA+xtu5t4b9Kf35/CuF8H+PtB8ZW/n6ZIG6HA3d8+qj0ruxjGKAFooooAKKKKAKeo/8g+5/64yf+gmv4+9R/wCQhc/9dpP/AEI1/YJqP/IPuf8ArjJ/6Ca/j71H/kIXP/XaT/0I0AU6KKKAP//W/N+rmnf8hC2/67R/+hCqdXNO/wCQhbf9do//AEIUAf2Cad/yD7b/AK4x/wDoIq5VPTv+Qfbf9cY//QRVygAooooAKKKKACiiigAooooAKKKKACiiigAooooAKKKKACiiigAooooAKKKKACiiigAooooAKKKKACiiigAooooAKKKKAGMDuFRXKF48CrFIRmgD5T+KXwL0f4kXcEeppv5bPLD+76Ov92vIPFv7GXw20Xwzc61YwYuoFB+9L1LBe8xH6V+gxIGSFyy+/rXyx+0R8XtE8H6HJo00wWe6Ujox+6UPZSO9AHxN+yN4x1rTvFOoaJesTaQNGF+73WU9gT196/Xi1m8+0WZerjj8DX5Q/sa+AdYm8RajrmsA/Zp2jZM47CYdjnrjtX6w28QtovKH3U6fjQB8x/tIRxzeHLqKTn5Rnt3Svza/Za/Z38EfEPxFqM2uryGTgtJ/dl/uyL/dFfqF8ePDV9rugTW2kjM0i4AGOxT1I9K/I/wb8L/2kvh3r17daNG4hlZSMG27Bv7zMf4jQB+rfhT9lr4c+FbhbjS4AjJ0+eVuufWU+tfSNnax2tutvb/Kq8ev86/LL4b/ALRPi/wfqVvpfxImInmJGCE7Bj/yyjI6Fa/ULSNRj1fTYNRjOYpQT+Rx7HrQBs0UUUAFFFFABRRRQAUUUUAFFFFABRRRQB+Nn/BRi2t73xPo1ldEssrSg4yOi257Yr3X4Xfsd/CvWPCdpqtxGGmlUk/PN/eYf89gOntXK/t3fCPxp4/1HTr7wvAWeEyEEFO4gH8TL/dNeF6Kf2mvBFgi3G9baAdP9F6Z9snvQB+qPww+CvhP4XMR4Zh2Rt/tOem7++7f3jXsu4FvKxj/ADmvhr9nT4+Hxk/9n6xcfv04wV7/ALw9kA7V9xwzLcRb1+6aAPlr9oz4hv4W0v7HbSYeUEAY9DH6qfWviL4J/s+6Z8XNSvrzxlCWSUoQSzdg/wDckX+6K9N/bevri31rTFVdu5pM857Q19Mfs5Wi2+hxkAAuvP4F6APzr+KPh6T9nLxbYWfholIJ3cYz/dVP75k/56Gv18+HWtDWvClheSnMrqxP/fRHoB2r83f28bCG68S6PK/yOGl4/wCAwe9fbfwFvZrjwxaRN91FP6s9AH0JRRRQAUUUUAFFFFABRRRQAUUUUAFR0VJQB4J8Rf2f/B3xLkjk1+Ldt3fxOOu3+7Iv90V8r/FL9lD4ReGfDF35UWx2UEfNP2ZfWU+tfo8WKqXzkfSvzW/bb+Icvh/ULLRYXx9oLg/gIT/dPrQB8nfsJfC+wuPGmozKp2wumMlu6z/7VfudptutnZRW0fG3OPzPrXxV+yV8OW8K2cmr+Vg3QU5z6eaP7x9fSvuILjaT/Dn9aAPlz9pBEm8OXUUnPyjPbvHX5tfstfs8eCPiH4h1GbXV5DJwWk/uy/3ZF/uiv1C+PHhq+13QJrbSRmaRcADHYp6kelfkf4N+F/7SXw7169utGjcQyspGDbdg395mP8RoA/Vvwp+y18OfCtwtxpcARk6fPK3XPrKfWvpGztY7W3W3t/lVePX+dfll8N/2ifF/g/UrfS/iRMRPMSMEJ2DH/llGR0K1+oWkajHq+mwajGcxSgn8jj2PWgDZooooAKKKKACiiigAooooAKKKKAMrV7I6hp0tq38Yx+tfmH8Zf2WfDt9Z3+taiDlgGzl+20dpP6V+p2WL8dK8N+Nyb/Bt5EV52D/0JaAPzu/4J22MGn+IdSsocnyGQdT3W4Pcmvor9rn4oT+DpbfTIX2m73KBx/D5R/un+9Xgf/BP0tH4t1zcOGeL9FnrC/4KGzGLx3oMe7C+ZLx/wC3oA7L4dfsp6H430261/W1PmThWXlvVh/DIvoO1ecq8v7PXjODSbUmOGZyBz6JnvvP/AC0r9V/hVaxL4D02aNOXjbP4Owr8s/8AgoVi1+IHh7yR5ZkkmzjnolvQB+uvhW//ALU8PWt7/fUn/wAeNb93KtvC1w3ASuE+GD/8UJpmTyY2/wDQzXTeJiV0O6K9do/mKAPyv/a48Zatr3iOz0XR5i1s7MrgAD+GI9wD1BrtP+GP/BZ8DN4rEOb+RAx+aTqG2j/lrjp7V45rUf2/x6n2hc7JD1Pqgr9UxG48CiJvlj8s+h/i/wAaAPzb/ZG8a6r4f8Q6hoOrsREGjVc4PAErdgfUV+sUNzDdQLMvIP1r8bNEjNh4+ngg4fzFzj/cJr9f/DMhbQbV8ZJU/wDoRoA6GiiigAooooAKKKKACiiigDI1q0XUNMntG6OAP1FfmN8Z/wBljwzfWupa1qIOSFbq/baO0n9K/UvAJdfpXiHxwVH8IX8ZX+Bf/QloA/O3/gnbYppmvatp8BJRWiHf0uD3Jr7/APjD8L4viC6W033Oc9f9g9mX+7Xwf/wT/KDxXrSIPm3xf+gz1+ubIpGX7d6APg7Uv2K/hhFpTXSWu64iXOd83Un/AK7Yr4/8K3uo/CHxkNK03MMMj4HIbopPfef46/VL4s/EHT/CWiTpcSCOVl4GCehX0B9a/L34T6Lqfxg8ay6g4MsMDgjgL1Vx6p/coA/YPw1efatBtrxud6k/+PEen9K6ADDE+uP0rE0LT/sOiwWPTYCP/HifWtzj8qAPxt/4KMW9vfeJ9G0+7JZZWlBwSOi257V7r8Lv2O/hXrHhS01C5jDTSKSfnm/vMP8AnqB0rlf27PhH418f6hp2peFoCzwmQggp3EI/iZf7prwvRj+014JsEa43rbQjp/op4z7ZPegD9UPhl8FfCXwtaU+G4Nqzbed7n7u7+87f3jXs/wB3BbjH9a+Gf2dfj8/jBpNK1SfM0W0HK9z5hPRB6V9xQ3CTxI6fMHz7dKALNFFFABRRRQAUUUUAFFFFAGVq9kdQ06W1b+MY/WvzD+Mv7LXh2+s7/W9RByQGzl+20dpP6V+p2WL8dK8N+Nyb/Bt5EV52D/0JaAPzu/4J2WCWGt6xYQE7EaEDv2uD3Jr6B/bJht7yOG0lH97PJH/PL0rw79gBSvivXA3ADw/+gz19QftT+BNe8X2ka+H0LSgN02/9M/7xHoaAPk79nv8AZf8Ah34xlml1WEH7p5kl/wCmnpKPSvvrwH+zj4B8CyCTQU249DIf7396Q+pr8r/Cvg79pvwFd3EtiH8hcE/8evTB9Sx719WfBH9onWre/XS/HMm2cHBzt6kOf+WaY9KAP0pgjEEaQ/WiUrFGxPQYqtYXiXtrHdA5DAmodbJXTppB2H9RQB+XP7Z/xB1ifXLLSNGlP2aZmVgAvYQnuM9c10Om/sheBbvwM3ie5hLX86Bj80o5Vio6S46e1ePfGVV1Tx7bJdrtVJD3z1RPT6V+qGkxxt8PYFi/1flnj/gdAH5mfs0eKdW8D+KLzQtXJEJZAuSOgWQ9gfUd6/W6wuYr63jnHpx+Nfjj4u/4l3jqFbY7XaQ7iP8AdH+Nfrt4Om83w9asoydv58mgDqqKKKACiiigAooooAKKKKAMjWrRdQ0ye0bo4A/UV+Y3xn/ZY8M31rqWtaiDkhW6v22jtJ/Sv1LwCXX6V4h8cFR/CF/GV/gX/wBCWgD87f8AgnVYpp2u6xZW7ECNohzz2uD3Jr9K/iJ8IvC/xJXbrqbtvXlx12/3WX+6K/OL9gBCPGOtzHgF4v8A0Gev11IG07RnNAHwb4z/AGN/hTp+gXl4sO3yVB+9N3I/6a1+bHwp+EvhzxF8QrmPQYywtZE6M/dG/vOPQ1+uP7SnxAj8MaBNpm7a1yuOv90xn+6fWvkP9hrwJLbeItT1u5+YTNGRkY6LMPWgD9QfClodO8P2loesakf+PGujxtLN64pFRVXy16L/AFp5weKAPxt/4KMW9vfeJ9G0+7JZZWlBwSOi257V7r8Lv2O/hXrHhS01C5jDTSKSfnm/vMP+eoHSuV/bs+EfjXx/qGnal4WgLPCZCCCncQj+Jl/umvC9GP7TXgmwRrjettCOn+injPtk96AP1Q+GXwV8JfC1pT4bg2rNt53ufu7v7zt/eNez/dwW4x/Wvhn9nX4/P4waTStUnzNFtByvc+YT0QelfcUNwk8SOnzB8+3SgCzRRRQAUUUUAFFFFABRRRQBw3i/RW1qwaxePKyDHX3B9RXyXB+xh4G1i9uLnVovmlKnOZOw9pR6V904yVyckZ7dayNc1W10fTptQnYAKAf1A9P6UAfjF+0N8NbT4FeItNl8EqUDM+/k+keP9Yz/AN816T8UvjnqWl6DpelGYq1yrhuB2KH+571wP7Q/i65+NHjS1tPCbb0gch8D1WM/xhP7hrz79rfw9L4a1LwpG685m38+0PufWgD6L+HP7Keh+NtMute1tT5k4Vl5bsWH8Mi+g7V5yry/s9eM4NJtSY4ZnIHPome+8/8ALSv1X+FVrEvgPTZo05eNs/g7Cvyz/wCChWLX4geHvJHlmSSbOOeiW9AH66+Fb/8AtTw9a3v99Sf/AB41v3cq28LXDcBK4T4YP/xQmmZPJjb/ANDNdN4mJXQ7or12j+YoA/K/9rjxlq2veI7PRdHmLWzsyuAAP4Yj3APUGu0/4Y/8FnwM3isQ5v5EDH5pOobaP+WuOntXjmtR/b/HqfaFzskPU+qCv1TEbjwKIm+WPyz6H+L/ABoA/Nv9kbxrqvh/xDqGg6uxEQaNVzg8ASt2B9RX6xQ3MN1Asy8g/Wvxs0SM2Hj6eCDh/MXOP9wmv1/8MyFtBtXxklT/AOhGgDoaKKKACiiigCnqP/IPuf8ArjJ/6Ca/j71H/kIXP/XaT/0I1/YJqP8AyD7n/rjJ/wCgmv4+9R/5CFz/ANdpP/QjQBTooooA/9f836uad/yELb/rtH/6EKp1c07/AJCFt/12j/8AQhQB/YJp3/IPtv8ArjH/AOgirlU9O/5B9t/1xj/9BFXKACiiigAooooAKKKKACiiigAooooAKKKKACiiigAooooAKKKKACiiigAooooAKKKKACiiigAooooAKKKKACiiigAooooAKQnFNYncKhumKxkjrigDxX4v/FbRfh/pNyt5KIrmULs6n7pX0Vh0avzG8OaP4l/aC8XtPqcnm2sDgrnYOGU+hQ9Y67H9tH4TfGL4jX1u3hVGkWMvnBhHURY++y/3TXhvw/8Ahf8AtO+BUU6PA0bEc82p6Z/vM3940AftN4A8FaZ4T0uG2tAuVGDg+7e59a792j+beQQcd6/O34P/APDQIE0figNuXbjJtv8Ab/u/hXr9hJ8UY9RUSglCfWL0oA+qLyW2ikQSYyc9aglhs/skm/YQ2M9PWvBvixbeOpdGR9Cz55U4x5fXK/3vxr8/dRg/azF/NHbbzASMD/Q/T3oA5n9t6PRbP4gaGumJuYSTZ2lh/BDX60/CYzN4I09pR8rIePozV+cHw8/Z+8deNdbgvviZGXlt2JG7y/4gf+eTj0Wv1X0HT49I0qCwh4iiBA/Ek+5oA2qKKKACiiigAooooAKKKKACiiigBjDnNKxwKdUM5wlAGXc/Y52Tzyu454Ncn4+ttKfwrc212EwU45/2gexr5O/aLsfjK0sMngHd1bp5H/TP/np+NfJ9xpn7WWrn7BqIfY3B/wCPPp17EUAZfwiW0j+IF1H4cUiNpF6E9kf+9+Nfs94ed/7KgEx+fBzz7mvhP4Afs/3/AIXjbUdWTF4wzzjr+8HZyOhr1O1T4lxahnB+yq3y/wCq6fz60AeTfti+GLjV7q1vguUti5z/ALwi9x6V1/7LPjW01SyktARmEAcnHeQ+g9K+ivGPhBPFPhiaPUVzM6gD/voehHpX5Ta18IPjp4C1e5k8BbvKmIxjyOw/6aMx/iNAHXfty67Hqfi7RLewXf8APLnB/wBmD29q/Rv4M6PPY+EbCeT+NDxx2Zvc1+evwp+A3xE8Y6rBffEhSzW5JG7y/wCIN/zycei1+rOi2UOm6ZDYwcJCCAPqSaANeiiigAooooAKKKKACiiigAooooAKKKKAMTXbx7DSZ7sHJjAOPqRX4tfG+5Pxj+IenpbqWW1kfcc5+8if7v8Acr9ifHdpd3nh28tbD/j4nQBRx/CR68dK/Ov9mr4B+MNL8Xahf+N0PkM6mMnZ2WTP+rfPUigD9Dfh5pUGkeGNPtUXDKjZ/M+5ruCVMeHx7jNZskM1lpv2WyHzqDt/PPfNfM6f8LQXWgSCYC3A/ddMfnQB9O3kttFIgkxk561BLDZ/ZJN+whsZ6eteDfFi28dSaMj6Fnzypxjy+uV/vfjX5+6jB+1mL+aO23mAkYH+h+nvQBzP7b0ei2fxA0NdMTcwkmztLD+CGv1p+ExmbwRp7Sj5WQ8fRmr84Ph5+z9468a63BffEyMvLbsSN3l/xA/88nHotfqvoOnx6RpUFhDxFECB+JJ9zQBtUUUUAFFFFABRRRQAUUUUAFFFFAESgtsduSM8/WvDfjjNAPCV75hByg4z/tLXr2ti8Olzx6Z/rwBt6eo/vcV+RHxt0L9pnxDc3NjpCubduAM2vT5T/EQe1AGt+wAYl8VaxFwEZ4+/os9X/wBvbw5Nq/ijR723XKW7ykke6wD19q+SPgv8GP2ovhxr5ubFHVJmy3/Hp2D+rN/er9Po/hp4r8ceGAPGSZu0U8nYeS3+wwHYUAeo/BPx5pWpeDraxWQL9mQ5Bz3Zj6D0r87P2t7iP4j+PNI/s47/ALJJLnH+0sXrt/u1l3fw1/aL8KX81p4ficQOccG26Yz/ABMT3Ne//s+fATxZNePqfxBgJlBB+Yp/tj/lm/0oA+//AIcW5tvBWnWz9URs/wDfRro9cge70u4hiYEsBj8xXEeJrXW9O0c2Xh8ZdF4xt45B/i/GuB+Dkfjw3l1/wlBPlZXGfL9H/u8+lAH52/GTb4A8e2i3xIe5kbBx/dRPTd/er9MV8QwL8MheySqVMWcfR8eleJ/tM/AyX4jC3v8AT4f9Mt95U57t5Y7uo6LXw0ng79p//kBLG5sCdoGbXp1PfPX3oA6H4Nh/Hvjy4lthlYZBz9Uf12/3a/YTQoDb6Tb27cEA/wAya+QP2ZPgafh4z6heL+9uME59R5g/vt/er7TXagIA4TGPxoAnooooAKKKKACiiigAooooAhyrMnrzXh3xvkj/AOETvY3I5QcZ/wBpa9g1xr3+zJ/7O5nwNvT1HrxX5C/G/QP2lvENzc22kh/s7cD/AI9eny+pB6igDY/4J/sq+MNcDkA74u4/uz1+nHjXxrpvhbSJrmdgAgB6n1HsfWvwg+DXwY/ae+G2vyXlsrq0rKZP+PXsHx/G396vqX43eC/2hPFukx21gGAZT5mDb88pjqR6UAcl4u8YeI/j34wj03w/J59tAxEmCi8MoI+8EPVD0r9Kfgt8J9E8AaVDPaxLHcyg+Z8xPIL46sw6NX4zfDb4HftH/Dq5nu9GiaOeUqWP+jN03f3nbsxr7L+Ha/tLRalbHxBua3BO7/j1HY/3eeuKAP1KUgDIHFMR43O5cZFef6ufER8Nj7KMXe3gfL1yM9eOleSfBv8A4WJJqN+3jDItlKbc+X3D/wBznrigD6HuBZzyjz9uT61yXjyDSm8I3dtdBMFOn/Age1fKH7RVp8ZHnjk8Alv4unk/9M/+en418mzaX+1lrCtp+oq4RsDrZ9OvbFAGV8JfIh8eSx+HQRG0nOM84V/7341+z3h0E6Ra+YMOA34cmviP9m/9n+78KynUfEaYnODzjr+8H8Ln1FfeUCCNdq8Iv3aALNFFFABRRRQAUUUUAFFFFAESgtsduSM8/WvDfjjNAPCV75hByg4z/tLXr2ti8Olzx6Z/rwBt6eo/vcV+RHxs0L9pnxDc3NjpCubduAM2vT5T/EQe1AG1+wC8X/CWa0AAqs8X8Weiz1+rt8bTplQw9ea/n2+DXwZ/ai+HOvSalao6wzMpb/j07Bx/fY9Wr788VWPx7l0yP7LuE7D5sfZ+xH4UAfoJqws20yQ3Ozaw+bp6+1fiz8fYrGz+I1lL4eGT5jbipP8Acj9fxrqri1/axupjbvvML5H/AC59v1r1j4H/ALPviXUb1dQ+ICFp8552/wC2P+Wb47CgD9Dfh/8AaG8H6cZ22vsbcDj+8cV0uoILm1ngT0HOa5LXrDUbHQGh0c4mVcIBj1HrxXkvwVb4i/2leReMAfIYrsyY+wf+5z1xQB8BftQwzeEfHWmsRhZpHz/wFYvr61+kui+JdPPw0S4VhuEWTyf759q8x/aS+CUXxKiju7Mf6ba7in1by/V1HRa+Az4M/aftpE0aFXNg2VH/AB69Bz656+9AGz4bnHxI8fbtMTItpDz1+8h9dv8Adr9gfDMLWuiWtvP97a2fwJ9K+L/2YvgVqXgyabUtbjw820knHUeYP4XPrX3ZEqKiqnO38OtAE9FFFABRRRQAUUUUAFFFFAEOVZk9ea8O+N8kY8J3schHKDjP+0tewa417/Zk/wDZ3M+Bt6eo9eK/IX436B+0t4hubm20kP8AZ24GPsv+z6kHqKANn/gn+3/FXa04wis8Xf0Wev1ummjhjadudnXn1r+ej4M/Bv8Aal+GniBr6JHSKdgW/wCPTsHH95j/ABV+yHgGHx7N4ZuI9fB8/avXy+uW/u8elAHwP+2/4tuNU8X6XY6aC6O8gbB/2YT3HtX6BfAbwVbeHPDFjdRDa86sW/Av7n1r41k+AvjLxJ40TUNeQvHE5Izs7rj+Fx6Cv0w8Naeuk6La6eeGRWA/Mn1NAG7gg7gOvWo1MWCseMd+a5XxZ/aq6bctpY/fkDYOPUevHSvDvgwfiYNQuk8YKfs5I2ZMXo/9znrigD6JuBZzyjz9uT61yXjyDSm8I3dtdBMFOn/Age1fKP7RVn8ZXuI5PAJb+Lp5P/TP/np+NfJk2l/tZawrafqKuEbA62fTr2xQBlfCXyIfHksfh0ERtJzjPOFf+9+Nfs94dBOkWvmDDgN+HJr4j/Zv/Z/u/Csp1HxGmJzg846/vB/C59RX3lAgjXavCL92gCzRRRQAUUUUAFFFFABRRRQBm317a6fbPqE/CoMk8/SvzG/aN+Pd5reoN4e8I3Izna2AO4jP8aD0PevuX4uWXiW/8N3lt4dUs0iqFwV7Ff7341+GMX7OP7RK+LbvVEt3cO6lfmtuy47yUAfpb+zd8C7XRg2v64oaa4w2SfTzB2c+o7V4t+3j4TutQ8R6Vc2wzBbM54x3WD3z2rnvDFn+1fYS2ti8bfZ4shjmz75P1r7D1L4a67468NiXxKu67Cnrt67v9lgP4RQB3fwT8eaVqXg62sVkC/ZkOQc92Y+g9K/Oz9re4j+I/jzSP7OO/wCySS5x/tLF67f7tZd38Nf2i/Cl/NaeH4nEDnHBtumM/wATE9zXv/7PnwE8WTXj6n8QYCZQQfmKf7Y/5Zv9KAPv/wCHFubbwVp1s/VEbP8A30a6PXIHu9LuIYmBLAY/MVxHia11vTtHNl4fGXReMbeOQf4vxrgfg5H48N5df8JQT5WVxny/R/7vPpQB+dvxk2+APHtot8SHuZGwcf3UT03f3q/TFfEMC/DIXskqlTFnH0fHpXif7TPwMl+Iwt7/AE+H/TLfeVOe7eWO7qOi18NJ4O/af/5ASxubAnaBm16dT3z196AOh+DYfx748uJbYZWGQc/VH9dv92v2E0KA2+k29u3BAP8AMmvkD9mT4Gn4eM+oXi/vbjBOfUeYP77f3q+012oCAOExj8aAJ6KKKACiiigCnqP/ACD7n/rjJ/6Ca/j71H/kIXP/AF2k/wDQjX9gmo/8g+5/64yf+gmv4+9R/wCQhc/9dpP/AEI0AU6KKKAP/9D836uad/yELb/rtH/6EKp1c07/AJCFt/12j/8AQhQB/YJp3/IPtv8ArjH/AOgirlU9O/5B9t/1xj/9BFXKACiiigAooooAKKKKACiiigAooooAKKKKACiiigAooooAKKKKACiiigAooooAKKKKACiiigAooooAKKKKACiiigAooooAKKKKAGlEbqoP1FJ5cf8AdH5Cn0UANCIOigfhS7V9BS0UAIQD1Gab5cf90flT6KAGhFHQAfhTqKKACiiigAooooAKKKKACiiigAooooAKKKKAGlVbqAfqKTy4/wC6Pyp9FACAAdBijavoKWigAppjQ9VH5U6igBoVV+6APoKdRRQAUUUUAFFFFABRRRQAUUUUAFFFFABRRRQAYzSBVHQAUtFABSbR6ClooAQgHqM03y4/7o/Kn0UANCKOgA/CnUUUAFFFFABRRRQAUUUUAFFFFABRRRQAUwxxnqo/Kn0UAM8qP+4v5U7A9KWigBnloeqj8qcFVegA+lLRQAYzSAAdBilooAQgHrTfLj/uj8qfRQAgAHQYpaKKACiiigAooooAKKKKACiiigApnlxnqo/Kn0UAM8qL+4v5ClKIeqg/hTqKAGeXH/dX8hS+Wg/hH5U6igApAFHQAUtFADSinqAfwpPLj/uj8qfRQAgAHQYpaKKACiiigAooooAKKKKACiiigAphjjPVR+VPooAZ5Uf9xfyFLsQ9VH5U6igBnlx/3V/IU4Kq9AB9KWigApAFHQAUtFACYBpvlx/3R+VPooAQADoMUtFFABRRRQAUUUUAFFFFABRRRQAUzy4z1UflT6KAGeVH/cX8hTgAOgxS0UAN2r1wPyp1FFABSAAdBilooAaUU9QD+FJ5cf8AdH5U+igBAAOgxS0UUAFFFFABRRRQAUUUUAFFFFABjPWmeXH/AHV/IU+igBnlx/3R+VOwOmKWigBnloeqj8qcFVegA+lLRQAYzSAAdBilooAQgHrTfLj/ALo/Kn0UAIAB0GKWiigAooooAKKKKAKeo/8AIPuf+uMn/oJr+PvUf+Qhc/8AXaT/ANCNf2Caj/yD7n/rjJ/6Ca/j71H/AJCFz/12k/8AQjQBTooooA//0fzfq5p3/IQtv+u0f/oQqnVzTv8AkIW3/XaP/wBCFAH9gmnf8g+2/wCuMf8A6CKuVT07/kH23/XGP/0EVcoAKKKKACiiigAooooAKKKKACiiigAooooAKKKKACiiigAooooAKKKKACiiigAooooAKKKKACiiigAooooAKKKKACiiigAooooAKKKKACiiigAooooAKKKKACiiigAooooAKKKKACiiigAooooAKKKKACiiigAooooAKKKKACiiigAooooAKKKKACiiigAooooAKKKKACiiigAooooAKKKKACiiigAooooAKKKKACiiigAooooAKKKKACiiigCEBspvPIzmvBvi7+0H4I+DRhh8TSBPN3YB8zttP8KN/fFe9DYCSTkivxP/AOCl2mw6n4y0GxuXKxzPMD17LbHsRQB9xRftv/CWcRzJc/K2edk3b/tjXZ+Ef2pPh34tmjttLn5yR92Xvn+9GPSvEvh1+xp8KtU8G6ZfSoCXRyfnl/vEf89hXt3hH9lv4c+EbhbjS4huX0eX39ZT60AfSdvcJcQi5UcHn+lWuWHpXhPxB+NPg34RJDp+tzAOcjkP/sn+FH/vCvPtT/bD+GWmwx3EtwNrZ/hl9v8Apl70AfWpIVMnmnfeIYdBmvCPh5+0B4N+IzeXocgJ9PnHXd/eRf7pr1nWNfs9Esftl6QqgZ/UegPrQBv4zzTdxIyFz+NfImo/tk/C7SdQksru42sCB92Y9B7RGvTfh38c/B/xDyuiThhxjhx/e/vIv900Ae2DjquPxp+Nw+YVjarrlho9k19eyBUUZ7+uOw96+Ytd/bD+F2iXj2N5P8ycH5ZvQHtEfWgD60J2/Mo4714n4z+OHg/wLe2+l61MFkmLDo/bB/hQ/wB4VieCf2i/A/xCieLRJdx+kg9f70a/3TX5r/ts6rDZeMtJu3ztLyHqeyw0AftDpmoQalYx6jB9yYZH4HFaBJyBjNfC3hf9rb4Z+HfCVha6jcfNtIPyzdm9oj619D/Dn41+EviXvbQZw4GOz99395F/umgD2HJHG3j60FW/hOPwrgfGXxG0DwRbG51eUKo9Q3t/dU+tfOsn7a3wojuDbS3HzA4+7N/8ZoA+yPuj52z+FIS7fd4ryr4efFzw18SE8zRW3fg/+1/eVf7pr1ZuflPAoAfRRRQAUUUUAFFFFABRRRQAUUUUAFFFFABRRRQAUUUUAFFFFABRRRQAUUUUAFFFFABRRRQAUUUUAFFFFABRRRQAUUUUAFFFFABRRRQAUUUUAFFFFABRRRQAUUUUAFFFFABRRRQAUUUUAFFFFABRRRQAUUUUAFFFFABRRRQAUUUUAFFFFABRRRQAUUUUAFFFFABRRRQAUUUUAU9R/wCQfc/9cZP/AEE1/H3qP/IQuf8ArtJ/6Ea/sE1H/kH3P/XGT/0E1/H3qP8AyELn/rtJ/wChGgCnRRRQB//S/N+rmnf8hC2/67R/+hCqdXNO/wCQhbf9do//AEIUAf2Cad/yD7b/AK4x/wDoIq5VPTv+Qfbf9cY//QRVygAooooAKKKKACiiigAooooAKKKKACiiigAooooAKKKKACiiigAooooAKKKKACiiigAooooAKKKKACiiigAooooAKKKKACiiigAooooAKKKKACiiigAooooAKKKKACiiigAooooAKKKKACiiigAooooAKKKKACiiigAooooAKKKKACiiigAooooAKKKKACiiigAooooAKKKKACiiigAooooAKKKKACiiigAooooAKKKKACiiigAooooAKKKKAGZYE8cdq/Df/gqJ9tHiXQl0ofvd02OnXbbf3q/chjtTNfi//wAFG8L478PKgzmSbP8A3xb0Ac/4L/4axTw3p40kv9mKvjiz6ZP97nrX1X8E1+Pi3ZHi7cYSR1+z/wC3/c59K+yvhOIU8A6VvKY8tvT++1ejoIAoVNuPbFAH4u/8FGba6vtQ0S2cFZMzdD7W/oRXofwa/Zh0jxp4Sj1DxJES235fmbuzD+GQegrk/wDgoxLDbeK9BnuZcBHmzx6rb+lfdH7PvjPR9Q8H2+xxsjTnqOrP7D0oA/ODxpZ3f7NfjSys7AFI7t2A+b+6q+pk/wCele7ftQfF/V9F0jQrWGYq98soxhexi/2T615J+29fWvivx5osemyb/LkkztB7rB649Kzf2u9FvGHhKdFJWMT56f8ATH3oA97+HP7Jvh3xZoZ8Q+IbY/aLlQVO9+xZf4ZQOgHavBvF9vqH7Nfjaw03TnKW9w7gdOgVT38w9ZK/Ub4O+K9Ju/A9rDHMreSnPBHV29R7V+Zn7bt7D4w+Imj/ANmtuaKSTOPdIfXHpQB7L+018ZdS0DRdHtLSYgX6yDGBztMXqp9al+E37Kfh/wAbWUOueKIyxuQTkl+xYfwyj0HavBP2udAup7fwfdKhEcYuN3f/AJ4j1r9Q/gf4w0fWfB9hpto4EsCEHr3Zj3AHagDnfCH7O/gr4eRltATDD3k9/wC87f3jX5b/ALfFlfXHizR4I+RvlGOO6wV+6F3dwrE6SY6djmvxp/bRjSTx3pGOV8yT/wBAhoA9z8NfsoeFdc+G0Oq62v8ApAjyOX7uR/DKB0Arwr4H3d58NPGkul2ZK24cAZ5/hc99x6tX6leHgG+Ftu7L83lf+1K/L68Zh8QCjDavmDn/AIBQB137cPirWLcaQsO42UvmeZjHT9z7Z6074b/DP4B+K9Ng89f9NkHzktcjkE4/iA6CvtTxf8LvB3xD8MWf9vYZwrbc7x/Ev91l/uivjnx/8D9a8AWU+p+ExhUAKkMvYgfxu3qaAPvT4TfC/wAM+AbfOggESehY9N395m/vGvbD8p3M3C+3rX5g/sRfGXxN441i90nxBKW+ylByF/iEx/hQf3R3r9OkbgPGuQ/U59KALFFFFABRRRQAUUUUAFFFFABRRRQAUUUUAFFFFABRRRQAUUUUAFFFFABRRRQAUUUUAFFFFABRRRQAUUUUAFFFFABRRRQAUUUUAFFFFABRRRQAUUUUAFFFFABRRRQAUUUUAFFFFABRRRQAUUUUAFFFFABRRRQAUUUUAFFFFABRRRQAUUUUAFFFFABRRRQAUUUUAFFFFABRRRQBT1H/AJB9z/1xk/8AQTX8feo/8hC5/wCu0n/oRr+wTUf+Qfc/9cZP/QTX8feo/wDIQuf+u0n/AKEaAKdFFFAH/9P836uad/yELb/rtH/6EKp1c07/AJCFt/12j/8AQhQB/YJp3/IPtv8ArjH/AOgirlU9O/5B9t/1xj/9BFXKACiiigAooooAKKKKACiiigAooooAKKKKACiiigAooooAKKKKACiiigAooooAKKKKACiiigAooooAKKKKACiiigAooooAKKKKACiiigAooooAKKKKACiiigAooooAKKKKACiiigAooooAKKKKACiiigAooooAKKKKACiiigAooooAKKKKACiiigAooooAKKKKACiiigAooooAKKKKACiiigAooooAKKKKACiiigAooooAKKKKACiiigAooooAZgEFV4Ar8pv2/PgX8QfiVqNjqXg5SxhLnjy+4gH8br/dNfqyRngHGaYVQ4QqHI9aAPxQ8O6d+1ppWjx6ZGXG0AD/AI8+xJ9T/OvdPhkf2jf7TSDxTuMWef8Aj29GP8H4V+nRjhY7dqhh7U/YgPCjP0oA/FP/AIKHWt9eX+hQTc3DGbPT0t/w6VleHPBXxy0zw9A3gcMkEi8/6g9z/wA9Ce5NfT/7YnwS8T/EvxRpeoaApZYGkL/c7rCP4nX+6a+2fhnoVzo3hWz0y8jCtEpD9D1ZiOhNAH53/BP9n3xrrurpq3xKiLmE5QsU7hwf9W49Fr7B+LHwX0zxh4cUNBumgUiMZPGWX/aH92vpSJECDysBPTFS+x5PYUAfim3gP9o/wxqM1joav9nyAMfZumM/xMT3r2D4K/APxbreovq3xIQmXKkZ2ejj/lk4HYdq/UgopGQoLfQU4KAwO0LigD5z+KHwa0jxp4fECoDcQr8v3uMlf9oDotfnVL4C/aG8IX88HhAOtuCNv/Ht0x/tsT1Jr9oCdoaTGc470hEYKqyAFs/pQB+fXwQtfjZcpJ/wnAbHy9fI/wBv/nn+FcV+0h8DvGXj3xPpmp6OpIgZyT8ndYx/E6/3TX6dfKGRVUANnOB6UpCnKqoyuMfjQBwWh6Ne2vgWHSpD++WMjGB13E+uK+B7j4FeMJfFUWoOhMQdjn5P7uP79fpuVHGD93+tN2AnlBx/WgD4S+POi/FSLR7G38EAh1Dg48r1j/vn618l3GjftV6kzaTebjA+AeLTp17c/rX7RFVYfvFHH40wJCrhWALN7UAfDP7K3wKvfh402q6uu2aXae3UeYP4Xb+9X3T8yR59KQqCVBXA5yKcCd7BvujGKAJKKKKACiiigAooooAKKKKACiiigAooooAKKKKACiiigAooooAKKKKACiiigAooooAKKKKACiiigAooooAKKKKACiiigAooooAKKKKACiiigAooooAKKKKACiiigAooooAKKKKACiiigAooooAKKKKACiiigAooooAKKKKACiiigAooooAKKKKACiiigAooooAKKKKACiiigCnqP/IPuf8ArjJ/6Ca/j71H/kIXP/XaT/0I1/YJqP8AyD7n/rjJ/wCgmv4+9R/5CFz/ANdpP/QjQBTooooA/9T836uad/yELb/rtH/6EKp1c07/AJCFt/12j/8AQhQB/YJp3/IPtv8ArjH/AOgirlU9O/5B9t/1xj/9BFXKACiiigAooooAKKKKACiiigAooooAKKKKACiiigAooooAKKKKACiiigAooooAKKKKACiiigAooooAKKKKACiiigAooooAKKKKACiiigAooooAKKKKACiiigAooooAKKKKACiiigAooooAKKKKACiiigAooooAKKKKACiiigAooooAKKKKACiiigAooooAKKKKACiiigAooooAKKKKACiiigAooooAKKKKACiiigAooooAKKKKACiiigAooooAKKKKACiiigBCqnqAaWiigAooooAKKKKACiiigAooooAKKKKACiiigAooooAKKKKACiiigAooooAKKKKACiiigAooooAKKKKACiiigAooooAKKKKACiiigAooooAKKKKACiiigAooooAKKKKACiiigAooooAKKKKACiiigAooooAKKKKACiiigAooooAKKKKACiiigAooooAKKKKACiiigAooooAKKKKACiiigAooooAKKKKACiiigAooooAKKKKACiiigCnqP/IPuf8ArjJ/6Ca/j71H/kIXP/XaT/0I1/YJqP8AyD7n/rjJ/wCgmv4+9R/5CFz/ANdpP/QjQBTooooA/9k=)"
      ],
      "metadata": {
        "id": "U2WbldaRSg9p"
      }
    },
    {
      "cell_type": "markdown",
      "source": [
        "![스크린샷 2022-08-19 오후 6.10.27-1.jpg](data:image/jpeg;base64,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)"
      ],
      "metadata": {
        "id": "9vmMugR9X7fg"
      }
    },
    {
      "cell_type": "markdown",
      "source": [
        "처음 모델 실행 돌리고 val loss와 train loss 그래프 그림이다.\n",
        "epoch이 약 7-8 지점 부터 과적합 된다고 볼 수 있다.\n",
        "dropout을 설정 해줬는데도 과적합이 되기 때문에 다른 방법을 고려해보는 것도 좋을 것 같다.\n",
        "\n",
        "대표적으로 **훈련 데이터의 개수를 늘리는 방법**이 있지만.... 실제로 val loss는 처음보다 감소했지만 결국 과적합이 되기는 한다. 전과 비슷한 에폭에서. 학습이 너무 오래걸리기 때문에 일단은 epoch 7-8까지만 학습을 하는 방향으로 진행해야겠다. "
      ],
      "metadata": {
        "id": "4CXg5bNGOcFf"
      }
    },
    {
      "cell_type": "markdown",
      "source": [
        "## Step 3. 모델 구현하기\n"
      ],
      "metadata": {
        "id": "Q-RHbEgGBD04"
      }
    },
    {
      "cell_type": "markdown",
      "source": [
        "- 인코더"
      ],
      "metadata": {
        "id": "KDsIqWVEBM3N"
      }
    },
    {
      "cell_type": "code",
      "source": [
        "encoder_model = Model(inputs = encoder_inputs, outputs = encoder_states)\n",
        "encoder_model.summary()\n"
      ],
      "metadata": {
        "colab": {
          "base_uri": "https://localhost:8080/"
        },
        "id": "4xnWApw8BMI-",
        "outputId": "fe746c3c-21ec-42a8-cbf1-fd0666969778"
      },
      "execution_count": 25,
      "outputs": [
        {
          "output_type": "stream",
          "name": "stdout",
          "text": [
            "Model: \"model_1\"\n",
            "_________________________________________________________________\n",
            " Layer (type)                Output Shape              Param #   \n",
            "=================================================================\n",
            " encoder_input (InputLayer)  [(None, None)]            0         \n",
            "                                                                 \n",
            " embedding (Embedding)       (None, None, 512)         3496448   \n",
            "                                                                 \n",
            " masking (Masking)           (None, None, 512)         0         \n",
            "                                                                 \n",
            " lstm (LSTM)                 [(None, 512),             2099200   \n",
            "                              (None, 512),                       \n",
            "                              (None, 512)]                       \n",
            "                                                                 \n",
            "=================================================================\n",
            "Total params: 5,595,648\n",
            "Trainable params: 5,595,648\n",
            "Non-trainable params: 0\n",
            "_________________________________________________________________\n"
          ]
        }
      ]
    },
    {
      "cell_type": "markdown",
      "source": [
        "- 디코더"
      ],
      "metadata": {
        "id": "Vy4bvM63BOOM"
      }
    },
    {
      "cell_type": "code",
      "source": [
        "decoder_state_input_h = Input(shape=(embedding_size,))\n",
        "decoder_state_input_c = Input(shape=(embedding_size,))\n",
        "decoder_states_inputs = [decoder_state_input_h, decoder_state_input_c]\n",
        "\n",
        "dec_emb2 = Embedding(fra_vocab_size, embedding_size)(decoder_inputs)\n",
        "decoder_outputs2, state_h2, state_c2 = decoder_lstm(dec_emb2, initial_state = decoder_states_inputs)\n",
        "decoder_states2 = [state_h2, state_c2]\n",
        "\n",
        "decoder_outputs2 = decoder_softmax_layer(decoder_outputs2)"
      ],
      "metadata": {
        "id": "foqUX6KRBRVv"
      },
      "execution_count": 26,
      "outputs": []
    },
    {
      "cell_type": "code",
      "source": [
        "eng2idx = eng_tokenizer.word_index\n",
        "fra2idx = fra_tokenizer.word_index\n",
        "idx2eng = eng_tokenizer.index_word\n",
        "idx2fra = fra_tokenizer.index_word"
      ],
      "metadata": {
        "id": "Su5W0fh-BR9g"
      },
      "execution_count": 27,
      "outputs": []
    },
    {
      "cell_type": "code",
      "source": [
        "decoder_model = Model(inputs=[decoder_inputs] + decoder_states_inputs, outputs=[decoder_outputs2] + decoder_states2)\n",
        "decoder_model.summary()"
      ],
      "metadata": {
        "colab": {
          "base_uri": "https://localhost:8080/"
        },
        "id": "gbzKTH_xBTos",
        "outputId": "2942b18d-5d33-4744-e832-4e4f4a29ab6c"
      },
      "execution_count": 28,
      "outputs": [
        {
          "output_type": "stream",
          "name": "stdout",
          "text": [
            "Model: \"model_2\"\n",
            "__________________________________________________________________________________________________\n",
            " Layer (type)                   Output Shape         Param #     Connected to                     \n",
            "==================================================================================================\n",
            " decoder_input (InputLayer)     [(None, None)]       0           []                               \n",
            "                                                                                                  \n",
            " embedding_2 (Embedding)        (None, None, 512)    5404672     ['decoder_input[0][0]']          \n",
            "                                                                                                  \n",
            " input_1 (InputLayer)           [(None, 512)]        0           []                               \n",
            "                                                                                                  \n",
            " input_2 (InputLayer)           [(None, 512)]        0           []                               \n",
            "                                                                                                  \n",
            " lstm_1 (LSTM)                  [(None, None, 512),  2099200     ['embedding_2[0][0]',            \n",
            "                                 (None, 512),                     'input_1[0][0]',                \n",
            "                                 (None, 512)]                     'input_2[0][0]']                \n",
            "                                                                                                  \n",
            " dense (Dense)                  (None, None, 10556)  5415228     ['lstm_1[1][0]']                 \n",
            "                                                                                                  \n",
            "==================================================================================================\n",
            "Total params: 12,919,100\n",
            "Trainable params: 12,919,100\n",
            "Non-trainable params: 0\n",
            "__________________________________________________________________________________________________\n"
          ]
        }
      ]
    },
    {
      "cell_type": "code",
      "source": [
        "def decode_sequence(input_seq):\n",
        "    # 입력으로부터 인코더의 상태를 얻음\n",
        "    states_value = encoder_model.predict(input_seq)\n",
        "\n",
        "    # <start>에 해당하는 원-핫 벡터 생성\n",
        "    target_seq = np.zeros((1,1))\n",
        "    target_seq[0, 0] = fra2idx['<start>']\n",
        "    \n",
        "    stop_condition = False\n",
        "    decoded_sentence = \"\"\n",
        "\n",
        "    # stop_condition이 True가 될 때까지 루프 반복\n",
        "    while not stop_condition:\n",
        "        # 이점 시점의 상태 states_value를 현 시점의 초기 상태로 사용\n",
        "        output_tokens, h, c = decoder_model.predict([target_seq] + states_value)\n",
        "\n",
        "        # 예측 결과를 문자로 변환\n",
        "        sampled_token_index = np.argmax(output_tokens[0, -1, :])\n",
        "        sampled_char = idx2fra[sampled_token_index]\n",
        "\n",
        "        # 현재 시점의 예측 문자를 예측 문장에 추가\n",
        "        decoded_sentence += ' '+sampled_char\n",
        "\n",
        "        # <eos>에 도달하거나 최대 길이를 넘으면 중단.\n",
        "        if (sampled_char == '<end>' or\n",
        "           len(decoded_sentence) > max_fra_seq_len):\n",
        "            stop_condition = True\n",
        "\n",
        "        # 현재 시점의 예측 결과를 다음 시점의 입력으로 사용하기 위해 저장\n",
        "        target_seq = np.zeros((1, 1))\n",
        "        target_seq[0, 0] = sampled_token_index\n",
        "\n",
        "        # 현재 시점의 상태를 다음 시점의 상태로 사용하기 위해 저장\n",
        "        states_value = [h, c]\n",
        "\n",
        "    return decoded_sentence"
      ],
      "metadata": {
        "id": "4sXa99uLBXAS"
      },
      "execution_count": 29,
      "outputs": []
    },
    {
      "cell_type": "code",
      "source": [
        "# 원문의 정수 시퀀스를 텍스트 시퀀스로 변환\n",
        "def seq2src(input_seq):\n",
        "    temp=''\n",
        "    for i in input_seq:\n",
        "        if(i!=0):\n",
        "            temp = temp + idx2eng[i]+' '\n",
        "    return temp"
      ],
      "metadata": {
        "id": "L5gocLFeBXhX"
      },
      "execution_count": 30,
      "outputs": []
    },
    {
      "cell_type": "code",
      "source": [
        "# 번역문의 정수 시퀀스를 텍스트 시퀀스로 변환\n",
        "def seq2tar(input_seq):\n",
        "    temp=''\n",
        "    for i in input_seq:\n",
        "        if((i!=0 and i!=fra2idx['<start>']) and i!=fra2idx['<end>']):\n",
        "            temp = temp + idx2fra[i] + ' '\n",
        "    return temp"
      ],
      "metadata": {
        "id": "0QA8dzduBZSJ"
      },
      "execution_count": 31,
      "outputs": []
    },
    {
      "cell_type": "markdown",
      "source": [
        "## Step 4. 모델 평가하기\n"
      ],
      "metadata": {
        "id": "YzApXqsuBbLh"
      }
    },
    {
      "cell_type": "code",
      "source": [
        "for seq_index in [1,201,501,1004,2015]:\n",
        "    input_seq = encoder_input_test[seq_index: seq_index + 1]\n",
        "    decoded_sentence = decode_sequence(input_seq)\n",
        "    print(35 * \"-\")\n",
        "    print('입력 문장:', seq2src(encoder_input_test[seq_index]))\n",
        "    print('정답 문장:', seq2tar(decoder_input_test[seq_index]))\n",
        "    print('번역기가 번역한 문장:', decoded_sentence[:len(decoded_sentence)-1])"
      ],
      "metadata": {
        "colab": {
          "base_uri": "https://localhost:8080/"
        },
        "id": "5VgHYxakBda-",
        "outputId": "06279981-97d1-498f-fed7-058f966137d7"
      },
      "execution_count": 32,
      "outputs": [
        {
          "output_type": "stream",
          "name": "stdout",
          "text": [
            "-----------------------------------\n",
            "입력 문장: don t just stand there . \n",
            "정답 문장: ne restez pas plant es l ! \n",
            "번역기가 번역한 문장:  ne restez juste . \n",
            "-----------------------------------\n",
            "입력 문장: what was it ? \n",
            "정답 문장: qu tait ce ? \n",
            "번역기가 번역한 문장:  qu tait ? ? ? ? ? \n",
            "-----------------------------------\n",
            "입력 문장: i hated doing that . \n",
            "정답 문장: j ai d test faire a . \n",
            "번역기가 번역한 문장:  je d de le a a a . \n",
            "-----------------------------------\n",
            "입력 문장: just ignore it . \n",
            "정답 문장: n y pr te simplement pas attention ! \n",
            "번역기가 번역한 문장:  n n le tout . ! ! \n",
            "-----------------------------------\n",
            "입력 문장: i ve checked . \n",
            "정답 문장: j ai v rifi . \n",
            "번역기가 번역한 문장:  j v . . . . . . . \n"
          ]
        }
      ]
    },
    {
      "cell_type": "markdown",
      "source": [
        "# 토큰화 다른 방식으로 진행한 부분"
      ],
      "metadata": {
        "id": "b2gHgBHQBhRY"
      }
    },
    {
      "cell_type": "code",
      "source": [
        "def preprocess_sentence(s):\n",
        "  s = s.lower().strip() #1 문장을 소문자로 바꾸고 양쪽 공백을 지움\n",
        "  s = re.sub(r\"([?.!,¿])\", r\" \\1\", s) #2 특수 문자 양쪽에 공백을 넣음\n",
        "  s = re.sub(r'[\" \"]+', \" \", s) #3 여러개의 공백을 하나의 공백으로 바꿈\n",
        "  s = re.sub(r'[^a-zA-Z?.!,¿]+', ' ', s) #4 a-zA-Z?.!,¿가 아닌 모든 문자를 하나의 공백으로 바꿈\n",
        "  s = s.strip() #5 양쪽 공백을 지움\n",
        "  return s"
      ],
      "metadata": {
        "id": "YHkXNzzT9jG1"
      },
      "execution_count": 33,
      "outputs": []
    },
    {
      "cell_type": "code",
      "source": [
        "#각각의 컬럼들을 리스트로 저장\n",
        "eng_list = list(lines['eng'])\n",
        "fra_list = list(lines['fra'])"
      ],
      "metadata": {
        "id": "32Oj0orG-S_7"
      },
      "execution_count": 34,
      "outputs": []
    },
    {
      "cell_type": "code",
      "source": [
        "#각 리스트에 있는 문장들 전처리\n",
        "preprocess_eng_list = []\n",
        "preprocess_fra_list = []\n",
        "\n",
        "for s in eng_list:\n",
        "  s = preprocess_sentence(s)\n",
        "  preprocess_eng_list.append(s)\n",
        "\n",
        "for s in fra_list:\n",
        "  s = preprocess_sentence(s)\n",
        "  preprocess_fra_list.append(s)"
      ],
      "metadata": {
        "id": "TE8REsZ2_aA8"
      },
      "execution_count": 35,
      "outputs": []
    },
    {
      "cell_type": "code",
      "source": [
        "# 전처리 잘 됐는지 확인\n",
        "print(len(preprocess_eng_list), preprocess_eng_list[6333])\n",
        "print(len(preprocess_fra_list), preprocess_fra_list[6222])"
      ],
      "metadata": {
        "colab": {
          "base_uri": "https://localhost:8080/"
        },
        "id": "A_3vE8FIAUY2",
        "outputId": "bc237e5f-e2ce-4a0b-abca-38165d380e10"
      },
      "execution_count": 36,
      "outputs": [
        {
          "output_type": "stream",
          "name": "stdout",
          "text": [
            "63000 what a night !\n",
            "63000 nous avons toutes pleur .\n"
          ]
        }
      ]
    },
    {
      "cell_type": "markdown",
      "source": [
        "3. 디코더 문장에 시작 토큰과 종료 토큰 추가"
      ],
      "metadata": {
        "id": "TFWSaZkZA8vr"
      }
    },
    {
      "cell_type": "code",
      "source": [
        "data = pd.DataFrame(zip(preprocess_eng_list, preprocess_fra_list),  columns = ['eng', 'fra'])\n",
        "data.sample(5)"
      ],
      "metadata": {
        "colab": {
          "base_uri": "https://localhost:8080/",
          "height": 206
        },
        "id": "TM6E-BNXEL_v",
        "outputId": "e883b9ef-85e1-4de2-a209-1be7a0f32e48"
      },
      "execution_count": 37,
      "outputs": [
        {
          "output_type": "execute_result",
          "data": {
            "text/plain": [
              "                          eng                                      fra\n",
              "30811    it s something new .         c est quelque chose de nouveau .\n",
              "40951  get in the back seat .  mettez vous dans le si ge de derri re .\n",
              "15294       no one answered .                   personne n a r pondu .\n",
              "33392    you aren t smiling .                    vous ne souriez pas .\n",
              "31074    no one can hear us .         personne ne peut nous entendre ."
            ],
            "text/html": [
              "\n",
              "  <div id=\"df-f050cd81-23c3-4ab8-a644-e357c2a8d7e9\">\n",
              "    <div class=\"colab-df-container\">\n",
              "      <div>\n",
              "<style scoped>\n",
              "    .dataframe tbody tr th:only-of-type {\n",
              "        vertical-align: middle;\n",
              "    }\n",
              "\n",
              "    .dataframe tbody tr th {\n",
              "        vertical-align: top;\n",
              "    }\n",
              "\n",
              "    .dataframe thead th {\n",
              "        text-align: right;\n",
              "    }\n",
              "</style>\n",
              "<table border=\"1\" class=\"dataframe\">\n",
              "  <thead>\n",
              "    <tr style=\"text-align: right;\">\n",
              "      <th></th>\n",
              "      <th>eng</th>\n",
              "      <th>fra</th>\n",
              "    </tr>\n",
              "  </thead>\n",
              "  <tbody>\n",
              "    <tr>\n",
              "      <th>30811</th>\n",
              "      <td>it s something new .</td>\n",
              "      <td>c est quelque chose de nouveau .</td>\n",
              "    </tr>\n",
              "    <tr>\n",
              "      <th>40951</th>\n",
              "      <td>get in the back seat .</td>\n",
              "      <td>mettez vous dans le si ge de derri re .</td>\n",
              "    </tr>\n",
              "    <tr>\n",
              "      <th>15294</th>\n",
              "      <td>no one answered .</td>\n",
              "      <td>personne n a r pondu .</td>\n",
              "    </tr>\n",
              "    <tr>\n",
              "      <th>33392</th>\n",
              "      <td>you aren t smiling .</td>\n",
              "      <td>vous ne souriez pas .</td>\n",
              "    </tr>\n",
              "    <tr>\n",
              "      <th>31074</th>\n",
              "      <td>no one can hear us .</td>\n",
              "      <td>personne ne peut nous entendre .</td>\n",
              "    </tr>\n",
              "  </tbody>\n",
              "</table>\n",
              "</div>\n",
              "      <button class=\"colab-df-convert\" onclick=\"convertToInteractive('df-f050cd81-23c3-4ab8-a644-e357c2a8d7e9')\"\n",
              "              title=\"Convert this dataframe to an interactive table.\"\n",
              "              style=\"display:none;\">\n",
              "        \n",
              "  <svg xmlns=\"http://www.w3.org/2000/svg\" height=\"24px\"viewBox=\"0 0 24 24\"\n",
              "       width=\"24px\">\n",
              "    <path d=\"M0 0h24v24H0V0z\" fill=\"none\"/>\n",
              "    <path d=\"M18.56 5.44l.94 2.06.94-2.06 2.06-.94-2.06-.94-.94-2.06-.94 2.06-2.06.94zm-11 1L8.5 8.5l.94-2.06 2.06-.94-2.06-.94L8.5 2.5l-.94 2.06-2.06.94zm10 10l.94 2.06.94-2.06 2.06-.94-2.06-.94-.94-2.06-.94 2.06-2.06.94z\"/><path d=\"M17.41 7.96l-1.37-1.37c-.4-.4-.92-.59-1.43-.59-.52 0-1.04.2-1.43.59L10.3 9.45l-7.72 7.72c-.78.78-.78 2.05 0 2.83L4 21.41c.39.39.9.59 1.41.59.51 0 1.02-.2 1.41-.59l7.78-7.78 2.81-2.81c.8-.78.8-2.07 0-2.86zM5.41 20L4 18.59l7.72-7.72 1.47 1.35L5.41 20z\"/>\n",
              "  </svg>\n",
              "      </button>\n",
              "      \n",
              "  <style>\n",
              "    .colab-df-container {\n",
              "      display:flex;\n",
              "      flex-wrap:wrap;\n",
              "      gap: 12px;\n",
              "    }\n",
              "\n",
              "    .colab-df-convert {\n",
              "      background-color: #E8F0FE;\n",
              "      border: none;\n",
              "      border-radius: 50%;\n",
              "      cursor: pointer;\n",
              "      display: none;\n",
              "      fill: #1967D2;\n",
              "      height: 32px;\n",
              "      padding: 0 0 0 0;\n",
              "      width: 32px;\n",
              "    }\n",
              "\n",
              "    .colab-df-convert:hover {\n",
              "      background-color: #E2EBFA;\n",
              "      box-shadow: 0px 1px 2px rgba(60, 64, 67, 0.3), 0px 1px 3px 1px rgba(60, 64, 67, 0.15);\n",
              "      fill: #174EA6;\n",
              "    }\n",
              "\n",
              "    [theme=dark] .colab-df-convert {\n",
              "      background-color: #3B4455;\n",
              "      fill: #D2E3FC;\n",
              "    }\n",
              "\n",
              "    [theme=dark] .colab-df-convert:hover {\n",
              "      background-color: #434B5C;\n",
              "      box-shadow: 0px 1px 3px 1px rgba(0, 0, 0, 0.15);\n",
              "      filter: drop-shadow(0px 1px 2px rgba(0, 0, 0, 0.3));\n",
              "      fill: #FFFFFF;\n",
              "    }\n",
              "  </style>\n",
              "\n",
              "      <script>\n",
              "        const buttonEl =\n",
              "          document.querySelector('#df-f050cd81-23c3-4ab8-a644-e357c2a8d7e9 button.colab-df-convert');\n",
              "        buttonEl.style.display =\n",
              "          google.colab.kernel.accessAllowed ? 'block' : 'none';\n",
              "\n",
              "        async function convertToInteractive(key) {\n",
              "          const element = document.querySelector('#df-f050cd81-23c3-4ab8-a644-e357c2a8d7e9');\n",
              "          const dataTable =\n",
              "            await google.colab.kernel.invokeFunction('convertToInteractive',\n",
              "                                                     [key], {});\n",
              "          if (!dataTable) return;\n",
              "\n",
              "          const docLinkHtml = 'Like what you see? Visit the ' +\n",
              "            '<a target=\"_blank\" href=https://colab.research.google.com/notebooks/data_table.ipynb>data table notebook</a>'\n",
              "            + ' to learn more about interactive tables.';\n",
              "          element.innerHTML = '';\n",
              "          dataTable['output_type'] = 'display_data';\n",
              "          await google.colab.output.renderOutput(dataTable, element);\n",
              "          const docLink = document.createElement('div');\n",
              "          docLink.innerHTML = docLinkHtml;\n",
              "          element.appendChild(docLink);\n",
              "        }\n",
              "      </script>\n",
              "    </div>\n",
              "  </div>\n",
              "  "
            ]
          },
          "metadata": {},
          "execution_count": 37
        }
      ]
    },
    {
      "cell_type": "code",
      "source": [
        "# 시작 토큰과 종료 토큰 추가\n",
        "sos_token = '<start>'\n",
        "eos_token = '<end>'\n",
        "data.fra = data.fra.apply(lambda x : '<start> '+ x + ' <end>')\n",
        "print('전체 샘플의 수 :',len(data))\n",
        "data.sample(5)"
      ],
      "metadata": {
        "colab": {
          "base_uri": "https://localhost:8080/",
          "height": 224
        },
        "id": "w9lcMBfBE-D_",
        "outputId": "4e830ac2-6890-4e59-e57e-630c8870eee1"
      },
      "execution_count": 38,
      "outputs": [
        {
          "output_type": "stream",
          "name": "stdout",
          "text": [
            "전체 샘플의 수 : 63000\n"
          ]
        },
        {
          "output_type": "execute_result",
          "data": {
            "text/plain": [
              "                         eng                                              fra\n",
              "36078  i think you re cute .  <start> je pense que vous tes adorables . <end>\n",
              "14395      i want that bag .                   <start> je veux ce sac . <end>\n",
              "23974    i love your dress .               <start> j adore votre robe . <end>\n",
              "23783    i have to go home .         <start> je dois rentrer chez moi . <end>\n",
              "6708         could we walk ?           <start> pourrions nous marcher ? <end>"
            ],
            "text/html": [
              "\n",
              "  <div id=\"df-4d34a41a-cff0-4fb6-ad61-19c6d647078a\">\n",
              "    <div class=\"colab-df-container\">\n",
              "      <div>\n",
              "<style scoped>\n",
              "    .dataframe tbody tr th:only-of-type {\n",
              "        vertical-align: middle;\n",
              "    }\n",
              "\n",
              "    .dataframe tbody tr th {\n",
              "        vertical-align: top;\n",
              "    }\n",
              "\n",
              "    .dataframe thead th {\n",
              "        text-align: right;\n",
              "    }\n",
              "</style>\n",
              "<table border=\"1\" class=\"dataframe\">\n",
              "  <thead>\n",
              "    <tr style=\"text-align: right;\">\n",
              "      <th></th>\n",
              "      <th>eng</th>\n",
              "      <th>fra</th>\n",
              "    </tr>\n",
              "  </thead>\n",
              "  <tbody>\n",
              "    <tr>\n",
              "      <th>36078</th>\n",
              "      <td>i think you re cute .</td>\n",
              "      <td>&lt;start&gt; je pense que vous tes adorables . &lt;end&gt;</td>\n",
              "    </tr>\n",
              "    <tr>\n",
              "      <th>14395</th>\n",
              "      <td>i want that bag .</td>\n",
              "      <td>&lt;start&gt; je veux ce sac . &lt;end&gt;</td>\n",
              "    </tr>\n",
              "    <tr>\n",
              "      <th>23974</th>\n",
              "      <td>i love your dress .</td>\n",
              "      <td>&lt;start&gt; j adore votre robe . &lt;end&gt;</td>\n",
              "    </tr>\n",
              "    <tr>\n",
              "      <th>23783</th>\n",
              "      <td>i have to go home .</td>\n",
              "      <td>&lt;start&gt; je dois rentrer chez moi . &lt;end&gt;</td>\n",
              "    </tr>\n",
              "    <tr>\n",
              "      <th>6708</th>\n",
              "      <td>could we walk ?</td>\n",
              "      <td>&lt;start&gt; pourrions nous marcher ? &lt;end&gt;</td>\n",
              "    </tr>\n",
              "  </tbody>\n",
              "</table>\n",
              "</div>\n",
              "      <button class=\"colab-df-convert\" onclick=\"convertToInteractive('df-4d34a41a-cff0-4fb6-ad61-19c6d647078a')\"\n",
              "              title=\"Convert this dataframe to an interactive table.\"\n",
              "              style=\"display:none;\">\n",
              "        \n",
              "  <svg xmlns=\"http://www.w3.org/2000/svg\" height=\"24px\"viewBox=\"0 0 24 24\"\n",
              "       width=\"24px\">\n",
              "    <path d=\"M0 0h24v24H0V0z\" fill=\"none\"/>\n",
              "    <path d=\"M18.56 5.44l.94 2.06.94-2.06 2.06-.94-2.06-.94-.94-2.06-.94 2.06-2.06.94zm-11 1L8.5 8.5l.94-2.06 2.06-.94-2.06-.94L8.5 2.5l-.94 2.06-2.06.94zm10 10l.94 2.06.94-2.06 2.06-.94-2.06-.94-.94-2.06-.94 2.06-2.06.94z\"/><path d=\"M17.41 7.96l-1.37-1.37c-.4-.4-.92-.59-1.43-.59-.52 0-1.04.2-1.43.59L10.3 9.45l-7.72 7.72c-.78.78-.78 2.05 0 2.83L4 21.41c.39.39.9.59 1.41.59.51 0 1.02-.2 1.41-.59l7.78-7.78 2.81-2.81c.8-.78.8-2.07 0-2.86zM5.41 20L4 18.59l7.72-7.72 1.47 1.35L5.41 20z\"/>\n",
              "  </svg>\n",
              "      </button>\n",
              "      \n",
              "  <style>\n",
              "    .colab-df-container {\n",
              "      display:flex;\n",
              "      flex-wrap:wrap;\n",
              "      gap: 12px;\n",
              "    }\n",
              "\n",
              "    .colab-df-convert {\n",
              "      background-color: #E8F0FE;\n",
              "      border: none;\n",
              "      border-radius: 50%;\n",
              "      cursor: pointer;\n",
              "      display: none;\n",
              "      fill: #1967D2;\n",
              "      height: 32px;\n",
              "      padding: 0 0 0 0;\n",
              "      width: 32px;\n",
              "    }\n",
              "\n",
              "    .colab-df-convert:hover {\n",
              "      background-color: #E2EBFA;\n",
              "      box-shadow: 0px 1px 2px rgba(60, 64, 67, 0.3), 0px 1px 3px 1px rgba(60, 64, 67, 0.15);\n",
              "      fill: #174EA6;\n",
              "    }\n",
              "\n",
              "    [theme=dark] .colab-df-convert {\n",
              "      background-color: #3B4455;\n",
              "      fill: #D2E3FC;\n",
              "    }\n",
              "\n",
              "    [theme=dark] .colab-df-convert:hover {\n",
              "      background-color: #434B5C;\n",
              "      box-shadow: 0px 1px 3px 1px rgba(0, 0, 0, 0.15);\n",
              "      filter: drop-shadow(0px 1px 2px rgba(0, 0, 0, 0.3));\n",
              "      fill: #FFFFFF;\n",
              "    }\n",
              "  </style>\n",
              "\n",
              "      <script>\n",
              "        const buttonEl =\n",
              "          document.querySelector('#df-4d34a41a-cff0-4fb6-ad61-19c6d647078a button.colab-df-convert');\n",
              "        buttonEl.style.display =\n",
              "          google.colab.kernel.accessAllowed ? 'block' : 'none';\n",
              "\n",
              "        async function convertToInteractive(key) {\n",
              "          const element = document.querySelector('#df-4d34a41a-cff0-4fb6-ad61-19c6d647078a');\n",
              "          const dataTable =\n",
              "            await google.colab.kernel.invokeFunction('convertToInteractive',\n",
              "                                                     [key], {});\n",
              "          if (!dataTable) return;\n",
              "\n",
              "          const docLinkHtml = 'Like what you see? Visit the ' +\n",
              "            '<a target=\"_blank\" href=https://colab.research.google.com/notebooks/data_table.ipynb>data table notebook</a>'\n",
              "            + ' to learn more about interactive tables.';\n",
              "          element.innerHTML = '';\n",
              "          dataTable['output_type'] = 'display_data';\n",
              "          await google.colab.output.renderOutput(dataTable, element);\n",
              "          const docLink = document.createElement('div');\n",
              "          docLink.innerHTML = docLinkHtml;\n",
              "          element.appendChild(docLink);\n",
              "        }\n",
              "      </script>\n",
              "    </div>\n",
              "  </div>\n",
              "  "
            ]
          },
          "metadata": {},
          "execution_count": 38
        }
      ]
    },
    {
      "cell_type": "markdown",
      "source": [
        "- eng, fra 토큰화 "
      ],
      "metadata": {
        "id": "rdgyK0ICJVZW"
      }
    },
    {
      "cell_type": "code",
      "source": [
        "eng_list = list(data['eng'])\n",
        "fra_list = list(data['fra'])\n",
        "\n",
        "eng_token = []\n",
        "fra_token = []\n",
        "\n",
        "for i in eng_list:\n",
        "  a = i.split()\n",
        "  eng_token.append(a)\n",
        "\n",
        "for i in fra_list:\n",
        "  a = i.split()\n",
        "  fra_token.append(a)"
      ],
      "metadata": {
        "id": "3-7H7bLOJX_k"
      },
      "execution_count": 39,
      "outputs": []
    },
    {
      "cell_type": "code",
      "source": [
        "print(eng_token[16666])\n",
        "print(fra_token[16666])"
      ],
      "metadata": {
        "colab": {
          "base_uri": "https://localhost:8080/"
        },
        "id": "0CH9doFrJr3p",
        "outputId": "97868610-b7e9-4553-81ed-2d20fd50b109"
      },
      "execution_count": 40,
      "outputs": [
        {
          "output_type": "stream",
          "name": "stdout",
          "text": [
            "['we', 're', 'too', 'close', '.']\n",
            "['<start>', 'nous', 'sommes', 'trop', 'proches', '.', '<end>']\n"
          ]
        }
      ]
    },
    {
      "cell_type": "code",
      "source": [
        "lines_np_eng= np.array(eng_token, dtype=object)\n",
        "lines_np_fra= np.array(fra_token, dtype=object)"
      ],
      "metadata": {
        "id": "hVw-xgIh6fwe"
      },
      "execution_count": 41,
      "outputs": []
    },
    {
      "cell_type": "markdown",
      "source": [
        "## Step 2. 케라스의 토크나이저로 텍스트를 숫자로 바꿔보세요.\n",
        "\n",
        "\n",
        "\n"
      ],
      "metadata": {
        "id": "cPd3jz-1GX9Q"
      }
    },
    {
      "cell_type": "markdown",
      "source": [
        "문자를 모두 인덱스로 바꿈"
      ],
      "metadata": {
        "id": "f-SaojFZOHoS"
      }
    },
    {
      "cell_type": "code",
      "source": [
        "eng_tokenizer = Tokenizer()\n",
        "\n",
        "# fit_on_texts()안에 코퍼스를 입력으로 하면 빈도수를 기준으로 단어 집합을 생성.\n",
        "eng_tokenizer.fit_on_texts(lines_np_eng) \n",
        "input_text = eng_tokenizer.texts_to_sequences(lines_np_eng)    # 단어를 숫자값 인덱스로 변환하여 저장\n",
        "input_text[16666]"
      ],
      "metadata": {
        "id": "mpSUTEMeHMjI",
        "colab": {
          "base_uri": "https://localhost:8080/"
        },
        "outputId": "fe7419ff-b350-4a2b-8d59-c7b525df9898"
      },
      "execution_count": 42,
      "outputs": [
        {
          "output_type": "execute_result",
          "data": {
            "text/plain": [
              "[14, 13, 75, 263, 1]"
            ]
          },
          "metadata": {},
          "execution_count": 42
        }
      ]
    },
    {
      "cell_type": "code",
      "source": [
        "fra_tokenizer = Tokenizer()\n",
        "fra_tokenizer.fit_on_texts(lines_np_fra)\n",
        "target_text = fra_tokenizer.texts_to_sequences(lines_np_fra)     # 단어를 숫자값 인덱스로 변환하여 저장\n",
        "target_text[:3]"
      ],
      "metadata": {
        "id": "aRRh3_AANMKN",
        "colab": {
          "base_uri": "https://localhost:8080/"
        },
        "outputId": "2afd9bbc-5591-4e06-bc20-b45b0a880f62"
      },
      "execution_count": 43,
      "outputs": [
        {
          "output_type": "execute_result",
          "data": {
            "text/plain": [
              "[[1, 96, 20, 2], [1, 536, 3, 2], [1, 1085, 20, 2]]"
            ]
          },
          "metadata": {},
          "execution_count": 43
        }
      ]
    },
    {
      "cell_type": "code",
      "source": [
        "print(type(eng_tokenizer.texts_to_sequences(eng_token)))"
      ],
      "metadata": {
        "colab": {
          "base_uri": "https://localhost:8080/"
        },
        "id": "4jb0Z89AN7Cr",
        "outputId": "1d2416e6-b0b5-4e11-e040-411e257d4004"
      },
      "execution_count": 44,
      "outputs": [
        {
          "output_type": "stream",
          "name": "stdout",
          "text": [
            "<class 'list'>\n"
          ]
        }
      ]
    },
    {
      "cell_type": "markdown",
      "source": [
        "- input, output으로 숫자로 바꾼 것들을 할당\n"
      ],
      "metadata": {
        "id": "mteSDkyYPQG-"
      }
    },
    {
      "cell_type": "markdown",
      "source": [
        "- 단어장 크기 저장"
      ],
      "metadata": {
        "id": "2k41Lz5jO44I"
      }
    },
    {
      "cell_type": "code",
      "source": [
        "eng_vocab_size = len(eng_tokenizer.word_index) + 1\n",
        "fra_vocab_size = len(fra_tokenizer.word_index) + 1\n",
        "print('영어 단어장의 크기 :', eng_vocab_size)\n",
        "print('프랑스어 단어장의 크기 :', fra_vocab_size)"
      ],
      "metadata": {
        "colab": {
          "base_uri": "https://localhost:8080/"
        },
        "id": "bfKpX7jHObJU",
        "outputId": "e4a54171-07eb-4319-c5a9-1b90838ac099"
      },
      "execution_count": 45,
      "outputs": [
        {
          "output_type": "stream",
          "name": "stdout",
          "text": [
            "영어 단어장의 크기 : 6830\n",
            "프랑스어 단어장의 크기 : 10557\n"
          ]
        }
      ]
    },
    {
      "cell_type": "markdown",
      "source": [
        "- 최대 길이 구함"
      ],
      "metadata": {
        "id": "my9y5_jAO8G_"
      }
    },
    {
      "cell_type": "code",
      "source": [
        "max_eng_seq_len = max([len(line) for line in input_text])\n",
        "max_fra_seq_len = max([len(line) for line in target_text])\n",
        "print('영어 시퀀스의 최대 길이', max_eng_seq_len)\n",
        "print('프랑스어 시퀀스의 최대 길이', max_fra_seq_len)"
      ],
      "metadata": {
        "colab": {
          "base_uri": "https://localhost:8080/"
        },
        "id": "MG3_5l4IO--R",
        "outputId": "5cb0fb0f-1478-4fd0-ee74-05f3410e46c9"
      },
      "execution_count": 46,
      "outputs": [
        {
          "output_type": "stream",
          "name": "stdout",
          "text": [
            "영어 시퀀스의 최대 길이 9\n",
            "프랑스어 시퀀스의 최대 길이 20\n"
          ]
        }
      ]
    },
    {
      "cell_type": "code",
      "source": [
        "print('전체 샘플의 수 :',len(lines))\n",
        "print('영어 단어장의 크기 :', eng_vocab_size)\n",
        "print('프랑스어 단어장의 크기 :', fra_vocab_size)\n",
        "print('영어 시퀀스의 최대 길이', max_eng_seq_len)\n",
        "print('프랑스어 시퀀스의 최대 길이', max_fra_seq_len)"
      ],
      "metadata": {
        "colab": {
          "base_uri": "https://localhost:8080/"
        },
        "id": "6g5HEMNiQitd",
        "outputId": "5d5812ec-24ac-42d6-802c-e858271bca28"
      },
      "execution_count": 47,
      "outputs": [
        {
          "output_type": "stream",
          "name": "stdout",
          "text": [
            "전체 샘플의 수 : 63000\n",
            "영어 단어장의 크기 : 6830\n",
            "프랑스어 단어장의 크기 : 10557\n",
            "영어 시퀀스의 최대 길이 9\n",
            "프랑스어 시퀀스의 최대 길이 20\n"
          ]
        }
      ]
    },
    {
      "cell_type": "markdown",
      "source": [
        "## Step 3. 임베딩 층(Embedding layer) 사용하기\n"
      ],
      "metadata": {
        "id": "esqpDoZUYu-N"
      }
    },
    {
      "cell_type": "code",
      "source": [
        "encoder_input = input_text\n",
        "# 종료 토큰 제거\n",
        "decoder_input = [[ char for char in line if char != fra_tokenizer.word_index[eos_token] ] for line in target_text] \n",
        "# 시작 토큰 제거\n",
        "decoder_target = [[ char for char in line if char != fra_tokenizer.word_index[sos_token] ] for line in target_text]"
      ],
      "metadata": {
        "id": "o0mJIzrRYxOg"
      },
      "execution_count": 48,
      "outputs": []
    },
    {
      "cell_type": "markdown",
      "source": [
        "종료 토큰에 해당하는 숫자2와 시작 토큰에 해당하는 숫자1이 각각 디코더의 인풋과 아웃풋에서 사라진것을 볼 수 있다. "
      ],
      "metadata": {
        "id": "NYQpX6tuaH3F"
      }
    },
    {
      "cell_type": "code",
      "source": [
        "print(decoder_input[:3])\n",
        "print(decoder_target[:3])"
      ],
      "metadata": {
        "colab": {
          "base_uri": "https://localhost:8080/"
        },
        "id": "WUobK2_baAWz",
        "outputId": "9443c762-5230-47a7-d521-c4ef752440e4"
      },
      "execution_count": 49,
      "outputs": [
        {
          "output_type": "stream",
          "name": "stdout",
          "text": [
            "[[1, 96, 20], [1, 536, 3], [1, 1085, 20]]\n",
            "[[96, 20, 2], [536, 3, 2], [1085, 20, 2]]\n"
          ]
        }
      ]
    },
    {
      "cell_type": "markdown",
      "source": [
        "- 패딩으로 길이 맞춰줌"
      ],
      "metadata": {
        "id": "i0srsc25dKW6"
      }
    },
    {
      "cell_type": "code",
      "source": [
        "encoder_input = pad_sequences(encoder_input, maxlen = max_eng_seq_len, padding='post')\n",
        "decoder_input = pad_sequences(decoder_input, maxlen = max_fra_seq_len, padding='post')\n",
        "decoder_target = pad_sequences(decoder_target, maxlen = max_fra_seq_len, padding='post')\n",
        "print('영어 데이터의 크기(shape) :',np.shape(encoder_input))\n",
        "print('프랑스어 입력데이터의 크기(shape) :',np.shape(decoder_input))\n",
        "print('프랑스어 출력데이터의 크기(shape) :',np.shape(decoder_target))"
      ],
      "metadata": {
        "colab": {
          "base_uri": "https://localhost:8080/"
        },
        "id": "niH4dLwudHDK",
        "outputId": "da9106e7-4ced-4127-8dd0-704fdebdde56"
      },
      "execution_count": 50,
      "outputs": [
        {
          "output_type": "stream",
          "name": "stdout",
          "text": [
            "영어 데이터의 크기(shape) : (63000, 9)\n",
            "프랑스어 입력데이터의 크기(shape) : (63000, 20)\n",
            "프랑스어 출력데이터의 크기(shape) : (63000, 20)\n"
          ]
        }
      ]
    },
    {
      "cell_type": "code",
      "source": [
        "print((encoder_input))"
      ],
      "metadata": {
        "colab": {
          "base_uri": "https://localhost:8080/"
        },
        "id": "XvF2-KsGdQFV",
        "outputId": "757c4d34-584f-4cd5-f928-f1b9a6744576"
      },
      "execution_count": 51,
      "outputs": [
        {
          "output_type": "stream",
          "name": "stdout",
          "text": [
            "[[33  1  0 ...  0  0  0]\n",
            " [33  1  0 ...  0  0  0]\n",
            " [33  1  0 ...  0  0  0]\n",
            " ...\n",
            " [ 2 24 10 ...  7  1  0]\n",
            " [ 2 24 10 ...  5  1  0]\n",
            " [ 2 24 10 ...  3  1  0]]\n"
          ]
        }
      ]
    },
    {
      "cell_type": "markdown",
      "source": [
        "- 33000데이터 중 3000개 테스트, 30000개 학습"
      ],
      "metadata": {
        "id": "0OfgxkYpdshW"
      }
    },
    {
      "cell_type": "code",
      "source": [
        "indices = np.arange(encoder_input.shape[0])\n",
        "np.random.shuffle(indices)\n",
        "\n",
        "encoder_input = encoder_input[indices]\n",
        "decoder_input = decoder_input[indices]\n",
        "decoder_target = decoder_target[indices]"
      ],
      "metadata": {
        "id": "Jlt2MFBL0sFu"
      },
      "execution_count": 52,
      "outputs": []
    },
    {
      "cell_type": "code",
      "source": [
        "\n",
        "n_of_val = 3000\n",
        "\n",
        "encoder_input_train = encoder_input[:-n_of_val]\n",
        "decoder_input_train = decoder_input[:-n_of_val]\n",
        "decoder_target_train = decoder_target[:-n_of_val]\n",
        "\n",
        "encoder_input_test = encoder_input[-n_of_val:]\n",
        "decoder_input_test = decoder_input[-n_of_val:]\n",
        "decoder_target_test = decoder_target[-n_of_val:]\n",
        "\n",
        "print(encoder_input_train.shape)\n",
        "print(decoder_input_train.shape)\n",
        "print(decoder_target_train.shape)\n",
        "print(encoder_input_test.shape)\n",
        "print(decoder_input_test.shape)\n",
        "print(decoder_target_test.shape)"
      ],
      "metadata": {
        "id": "FIp2Xn-gdsI7",
        "colab": {
          "base_uri": "https://localhost:8080/"
        },
        "outputId": "86128b57-e6e2-4a32-f0f5-ee956da57d3f"
      },
      "execution_count": 53,
      "outputs": [
        {
          "output_type": "stream",
          "name": "stdout",
          "text": [
            "(60000, 9)\n",
            "(60000, 20)\n",
            "(60000, 20)\n",
            "(3000, 9)\n",
            "(3000, 20)\n",
            "(3000, 20)\n"
          ]
        }
      ]
    },
    {
      "cell_type": "markdown",
      "source": [
        "- 인코더 설계"
      ],
      "metadata": {
        "id": "gT_OaWUkcMxz"
      }
    },
    {
      "cell_type": "code",
      "source": [
        "from tensorflow.keras.layers import Input, Embedding, Masking, LSTM, Dense\n",
        "from tensorflow.keras.models import Model\n",
        "\n",
        "# 입력 텐서 생성.\n",
        "encoder_inputs = Input(shape=(None,))\n",
        "enc_emb =  Embedding(eng_vocab_size, 128, input_length=max_eng_seq_len)(encoder_inputs)\n",
        "enc_masking = Masking(mask_value=0.0)(enc_emb)\n",
        "# hidden size가 256인 인코더의 LSTM 셀 생성\n",
        "encoder_lstm = LSTM(units = 256, return_state = True)\n",
        "# 디코더로 전달할 hidden state, cell state를 리턴. encoder_outputs은 여기서는 불필요.\n",
        "encoder_outputs, state_h, state_c = encoder_lstm(enc_masking)\n",
        "# hidden state와 cell state를 다음 time step으로 전달하기 위해서 별도 저장.\n",
        "encoder_states = [state_h, state_c]"
      ],
      "metadata": {
        "id": "ryEuHSBpaBgC"
      },
      "execution_count": 54,
      "outputs": []
    },
    {
      "cell_type": "code",
      "source": [
        "enc_masking.shape"
      ],
      "metadata": {
        "colab": {
          "base_uri": "https://localhost:8080/"
        },
        "id": "hU_EDxaXomLA",
        "outputId": "91b8bd55-3cf0-4ca6-f083-8093eea90646"
      },
      "execution_count": 55,
      "outputs": [
        {
          "output_type": "execute_result",
          "data": {
            "text/plain": [
              "TensorShape([None, None, 128])"
            ]
          },
          "metadata": {},
          "execution_count": 55
        }
      ]
    },
    {
      "cell_type": "markdown",
      "source": [
        "- 디코더 설계"
      ],
      "metadata": {
        "id": "ekJ3GKbdcOXw"
      }
    },
    {
      "cell_type": "code",
      "source": [
        "# 입력 텐서 생성.\n",
        "decoder_inputs = Input(shape=(None,))\n",
        "dec_emb = Embedding(fra_vocab_size, 128)(decoder_inputs)\n",
        "dec_masking = Masking(mask_value=0.0)(dec_emb)\n",
        "# hidden size가 256인 인코더의 LSTM 셀 생성\n",
        "decoder_lstm = LSTM(units = 256, return_sequences = True, return_state=True)\n",
        "# decoder_outputs는 모든 time step의 hidden state\n",
        "decoder_outputs, _, _= decoder_lstm(dec_masking, initial_state = encoder_states)"
      ],
      "metadata": {
        "id": "RdaOLtNEcG7d"
      },
      "execution_count": 56,
      "outputs": []
    },
    {
      "cell_type": "markdown",
      "source": [
        "- 디코더 출력층 설계"
      ],
      "metadata": {
        "id": "J4HfDs_ycaUF"
      }
    },
    {
      "cell_type": "code",
      "source": [
        "decoder_softmax_layer = Dense(fra_vocab_size, activation='softmax')\n",
        "decoder_outputs = decoder_softmax_layer(decoder_outputs)"
      ],
      "metadata": {
        "id": "c_W39CwvcXiX"
      },
      "execution_count": 57,
      "outputs": []
    },
    {
      "cell_type": "code",
      "source": [
        "model = Model([encoder_inputs, decoder_inputs], decoder_outputs)\n",
        "model.compile(optimizer=\"rmsprop\", loss=\"categorical_crossentropy\")\n",
        "model.summary()"
      ],
      "metadata": {
        "id": "b4ZpxQsmct8Z",
        "colab": {
          "base_uri": "https://localhost:8080/"
        },
        "outputId": "8887b8d3-8033-4351-dd2e-6a09304168fd"
      },
      "execution_count": 58,
      "outputs": [
        {
          "output_type": "stream",
          "name": "stdout",
          "text": [
            "Model: \"model_3\"\n",
            "__________________________________________________________________________________________________\n",
            " Layer (type)                   Output Shape         Param #     Connected to                     \n",
            "==================================================================================================\n",
            " input_3 (InputLayer)           [(None, None)]       0           []                               \n",
            "                                                                                                  \n",
            " input_4 (InputLayer)           [(None, None)]       0           []                               \n",
            "                                                                                                  \n",
            " embedding_3 (Embedding)        (None, None, 128)    874240      ['input_3[0][0]']                \n",
            "                                                                                                  \n",
            " embedding_4 (Embedding)        (None, None, 128)    1351296     ['input_4[0][0]']                \n",
            "                                                                                                  \n",
            " masking_2 (Masking)            (None, None, 128)    0           ['embedding_3[0][0]']            \n",
            "                                                                                                  \n",
            " masking_3 (Masking)            (None, None, 128)    0           ['embedding_4[0][0]']            \n",
            "                                                                                                  \n",
            " lstm_2 (LSTM)                  [(None, 256),        394240      ['masking_2[0][0]']              \n",
            "                                 (None, 256),                                                     \n",
            "                                 (None, 256)]                                                     \n",
            "                                                                                                  \n",
            " lstm_3 (LSTM)                  [(None, None, 256),  394240      ['masking_3[0][0]',              \n",
            "                                 (None, 256),                     'lstm_2[0][1]',                 \n",
            "                                 (None, 256)]                     'lstm_2[0][2]']                 \n",
            "                                                                                                  \n",
            " dense_1 (Dense)                (None, None, 10557)  2713149     ['lstm_3[0][0]']                 \n",
            "                                                                                                  \n",
            "==================================================================================================\n",
            "Total params: 5,727,165\n",
            "Trainable params: 5,727,165\n",
            "Non-trainable params: 0\n",
            "__________________________________________________________________________________________________\n"
          ]
        }
      ]
    },
    {
      "cell_type": "code",
      "source": [
        "model.fit(x=[encoder_input_train, decoder_input_train],\n",
        "          y=decoder_target_train, \n",
        "          validation_data = ([encoder_input_test, decoder_input_test], \n",
        "                             decoder_target_test),\n",
        "          batch_size=64, epochs=50)"
      ],
      "metadata": {
        "id": "QVCCp_95dyLq",
        "colab": {
          "base_uri": "https://localhost:8080/",
          "height": 783
        },
        "outputId": "790c8482-a5f3-4010-c5b2-595557cd5cab"
      },
      "execution_count": 59,
      "outputs": [
        {
          "output_type": "stream",
          "name": "stdout",
          "text": [
            "Epoch 1/50\n"
          ]
        },
        {
          "output_type": "error",
          "ename": "ValueError",
          "evalue": "ignored",
          "traceback": [
            "\u001b[0;31m---------------------------------------------------------------------------\u001b[0m",
            "\u001b[0;31mValueError\u001b[0m                                Traceback (most recent call last)",
            "\u001b[0;32m<ipython-input-59-d0a79052e0f5>\u001b[0m in \u001b[0;36m<module>\u001b[0;34m\u001b[0m\n\u001b[1;32m      3\u001b[0m           validation_data = ([encoder_input_test, decoder_input_test], \n\u001b[1;32m      4\u001b[0m                              decoder_target_test),\n\u001b[0;32m----> 5\u001b[0;31m           batch_size=64, epochs=50)\n\u001b[0m",
            "\u001b[0;32m/usr/local/lib/python3.7/dist-packages/keras/utils/traceback_utils.py\u001b[0m in \u001b[0;36merror_handler\u001b[0;34m(*args, **kwargs)\u001b[0m\n\u001b[1;32m     65\u001b[0m     \u001b[0;32mexcept\u001b[0m \u001b[0mException\u001b[0m \u001b[0;32mas\u001b[0m \u001b[0me\u001b[0m\u001b[0;34m:\u001b[0m  \u001b[0;31m# pylint: disable=broad-except\u001b[0m\u001b[0;34m\u001b[0m\u001b[0;34m\u001b[0m\u001b[0m\n\u001b[1;32m     66\u001b[0m       \u001b[0mfiltered_tb\u001b[0m \u001b[0;34m=\u001b[0m \u001b[0m_process_traceback_frames\u001b[0m\u001b[0;34m(\u001b[0m\u001b[0me\u001b[0m\u001b[0;34m.\u001b[0m\u001b[0m__traceback__\u001b[0m\u001b[0;34m)\u001b[0m\u001b[0;34m\u001b[0m\u001b[0;34m\u001b[0m\u001b[0m\n\u001b[0;32m---> 67\u001b[0;31m       \u001b[0;32mraise\u001b[0m \u001b[0me\u001b[0m\u001b[0;34m.\u001b[0m\u001b[0mwith_traceback\u001b[0m\u001b[0;34m(\u001b[0m\u001b[0mfiltered_tb\u001b[0m\u001b[0;34m)\u001b[0m \u001b[0;32mfrom\u001b[0m \u001b[0;32mNone\u001b[0m\u001b[0;34m\u001b[0m\u001b[0;34m\u001b[0m\u001b[0m\n\u001b[0m\u001b[1;32m     68\u001b[0m     \u001b[0;32mfinally\u001b[0m\u001b[0;34m:\u001b[0m\u001b[0;34m\u001b[0m\u001b[0;34m\u001b[0m\u001b[0m\n\u001b[1;32m     69\u001b[0m       \u001b[0;32mdel\u001b[0m \u001b[0mfiltered_tb\u001b[0m\u001b[0;34m\u001b[0m\u001b[0;34m\u001b[0m\u001b[0m\n",
            "\u001b[0;32m/usr/local/lib/python3.7/dist-packages/tensorflow/python/framework/func_graph.py\u001b[0m in \u001b[0;36mautograph_handler\u001b[0;34m(*args, **kwargs)\u001b[0m\n\u001b[1;32m   1145\u001b[0m           \u001b[0;32mexcept\u001b[0m \u001b[0mException\u001b[0m \u001b[0;32mas\u001b[0m \u001b[0me\u001b[0m\u001b[0;34m:\u001b[0m  \u001b[0;31m# pylint:disable=broad-except\u001b[0m\u001b[0;34m\u001b[0m\u001b[0;34m\u001b[0m\u001b[0m\n\u001b[1;32m   1146\u001b[0m             \u001b[0;32mif\u001b[0m \u001b[0mhasattr\u001b[0m\u001b[0;34m(\u001b[0m\u001b[0me\u001b[0m\u001b[0;34m,\u001b[0m \u001b[0;34m\"ag_error_metadata\"\u001b[0m\u001b[0;34m)\u001b[0m\u001b[0;34m:\u001b[0m\u001b[0;34m\u001b[0m\u001b[0;34m\u001b[0m\u001b[0m\n\u001b[0;32m-> 1147\u001b[0;31m               \u001b[0;32mraise\u001b[0m \u001b[0me\u001b[0m\u001b[0;34m.\u001b[0m\u001b[0mag_error_metadata\u001b[0m\u001b[0;34m.\u001b[0m\u001b[0mto_exception\u001b[0m\u001b[0;34m(\u001b[0m\u001b[0me\u001b[0m\u001b[0;34m)\u001b[0m\u001b[0;34m\u001b[0m\u001b[0;34m\u001b[0m\u001b[0m\n\u001b[0m\u001b[1;32m   1148\u001b[0m             \u001b[0;32melse\u001b[0m\u001b[0;34m:\u001b[0m\u001b[0;34m\u001b[0m\u001b[0;34m\u001b[0m\u001b[0m\n\u001b[1;32m   1149\u001b[0m               \u001b[0;32mraise\u001b[0m\u001b[0;34m\u001b[0m\u001b[0;34m\u001b[0m\u001b[0m\n",
            "\u001b[0;31mValueError\u001b[0m: in user code:\n\n    File \"/usr/local/lib/python3.7/dist-packages/keras/engine/training.py\", line 1021, in train_function  *\n        return step_function(self, iterator)\n    File \"/usr/local/lib/python3.7/dist-packages/keras/engine/training.py\", line 1010, in step_function  **\n        outputs = model.distribute_strategy.run(run_step, args=(data,))\n    File \"/usr/local/lib/python3.7/dist-packages/keras/engine/training.py\", line 1000, in run_step  **\n        outputs = model.train_step(data)\n    File \"/usr/local/lib/python3.7/dist-packages/keras/engine/training.py\", line 860, in train_step\n        loss = self.compute_loss(x, y, y_pred, sample_weight)\n    File \"/usr/local/lib/python3.7/dist-packages/keras/engine/training.py\", line 919, in compute_loss\n        y, y_pred, sample_weight, regularization_losses=self.losses)\n    File \"/usr/local/lib/python3.7/dist-packages/keras/engine/compile_utils.py\", line 201, in __call__\n        loss_value = loss_obj(y_t, y_p, sample_weight=sw)\n    File \"/usr/local/lib/python3.7/dist-packages/keras/losses.py\", line 141, in __call__\n        losses = call_fn(y_true, y_pred)\n    File \"/usr/local/lib/python3.7/dist-packages/keras/losses.py\", line 245, in call  **\n        return ag_fn(y_true, y_pred, **self._fn_kwargs)\n    File \"/usr/local/lib/python3.7/dist-packages/keras/losses.py\", line 1790, in categorical_crossentropy\n        y_true, y_pred, from_logits=from_logits, axis=axis)\n    File \"/usr/local/lib/python3.7/dist-packages/keras/backend.py\", line 5083, in categorical_crossentropy\n        target.shape.assert_is_compatible_with(output.shape)\n\n    ValueError: Shapes (None, 20) and (None, 20, 10557) are incompatible\n"
          ]
        }
      ]
    },
    {
      "cell_type": "markdown",
      "source": [
        "## 회고\n",
        "\n",
        "### 1차 예측 번역 결과\n",
        "\n",
        "\n",
        "입력 문장: i think you must be tired .   \n",
        "정답 문장: je pense que tu dois tre fatigu .   \n",
        "번역기가 번역한 문장:  je je que que qu  \n",
        "\n",
        "입력 문장: i m in charge of shopping .   \n",
        "정답 문장: je suis responsable des courses .   \n",
        "번역기가 번역한 문장:  je me de je je .   \n",
        "\n",
        "입력 문장: he was humiliated by her .  \n",
        "정답 문장: elle l <unk> .  \n",
        "번역기가 번역한 문장:  il l t . . . . .  \n",
        "\n",
        "입력 문장: it s a good way to learn .  \n",
        "정답 문장: c est une bonne fa on d apprendre .  \n",
        "번역기가 번역한 문장:  c de bien bien d  \n",
        "\n",
        "입력 문장: you aren t as short as me .  \n",
        "정답 문장: tu n es pas aussi petite que moi .  \n",
        "번역기가 번역한 문장:  vous n tes vous vou  \n",
        "\n",
        "### 2차 번역\n",
        "\n",
        "입력 문장: don t just stand there .   \n",
        "정답 문장: ne restez pas plant es l !   \n",
        "번역기가 번역한 문장:  ne restez juste .   \n",
        "\n",
        "입력 문장: what was it ?   \n",
        "정답 문장: qu tait ce ?   \n",
        "번역기가 번역한 문장:  qu tait ? ? ? ? ?   \n",
        "\n",
        "입력 문장: i hated doing that .   \n",
        "정답 문장: j ai d test faire a .   \n",
        "번역기가 번역한 문장:  je d de le a a a .   \n",
        "\n",
        "입력 문장: just ignore it .   \n",
        "정답 문장: n y pr te simplement pas attention !   \n",
        "번역기가 번역한 문장:  n n le tout . ! !   \n",
        "\n",
        "입력 문장: i ve checked .   \n",
        "정답 문장: j ai v rifi .   \n",
        "번역기가 번역한 문장:  j v . . . . . . .   \n",
        "\n",
        "### 회고\n",
        "\n",
        "처음에 토큰화 부분에서 이 전의 네이버 리뷰 분석에서 했던 토큰화 방법을 사용하지 않고 다른 방법으로 해보려고 데이터에서 column을 리스트로 받아와서 따로 토큰화를 해줬다. 근데 그 리스트로 받아오는 부분부터 문제가 생겼는지는 모르겠지만 모델을 fit하는 부분에서 계속 에러가 났다. 그래서 결국은 네이버 리뷰 분석에서 썼던 토큰화 방법을 사용해서 진행을 하긴 했는데 솔직히 뭐가 문젠지는 모르겠다 ㅎ \n",
        "\n",
        "  처음엔 리스트로 받아오는 부분이 문제라 생각해서 토큰화 진행후에 np.array에 넣어서 넘파이로 바꿔줬는데 그래도 오류가 났다... 코드를 뜯어 봤을때는 토큰화 부분 말고는 다른 부분이 전혀 보이지 않는데 뭐가 문제인가 싶다 정말로...내가 못찾았을수도 있지만 ㅎㅎ\n",
        "\n",
        "그리고 번역 결과가 생각보다 좋지 않은데, 실제로 그래프를 보면 과적합이 생각보다 빨리 온다. 50에폭을 돌려도 한 8에폭 정도에서 과적합이 되는데 데이터를 늘리고, dropout층 추가, 다양한 전처리 방법을 통해 진행하면 성능을 좀 더 높일 수 있을 것 같다. \n",
        "\n"
      ],
      "metadata": {
        "id": "H9pxDnXuSu--"
      }
    }
  ]
}