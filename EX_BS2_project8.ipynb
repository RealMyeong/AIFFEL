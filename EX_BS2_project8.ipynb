{
  "cells": [
    {
      "cell_type": "markdown",
      "metadata": {
        "id": "view-in-github",
        "colab_type": "text"
      },
      "source": [
        "<a href=\"https://colab.research.google.com/github/RealMyeong/Aiffel_Exploration/blob/main/EX_BS2_project8.ipynb\" target=\"_parent\"><img src=\"https://colab.research.google.com/assets/colab-badge.svg\" alt=\"Open In Colab\"/></a>"
      ]
    },
    {
      "cell_type": "markdown",
      "metadata": {
        "id": "DHhqxgt88g10"
      },
      "source": [
        "# 프로젝트 : 네이버 영화리뷰 감성분석 도전하기\n",
        "\n",
        "###  1. 데이터 준비와 확인\n"
      ]
    },
    {
      "cell_type": "markdown",
      "source": [
        "- 필요한 모듈 설치"
      ],
      "metadata": {
        "id": "7RAT3qyYyzft"
      }
    },
    {
      "cell_type": "code",
      "source": [
        "!pip install konlpy\n"
      ],
      "metadata": {
        "id": "MlqPo-1sabvs"
      },
      "execution_count": null,
      "outputs": []
    },
    {
      "cell_type": "code",
      "source": [
        "!apt-get install openjdk-8-jdk-headless -qq > /dev/null\n",
        "!pip3 install JPype1-py3"
      ],
      "metadata": {
        "id": "K8BmeDmuagfe"
      },
      "execution_count": null,
      "outputs": []
    },
    {
      "cell_type": "code",
      "source": [
        "import os\n",
        "os.chdir('/tmp/')\n",
        "!curl -LO https://bitbucket.org/eunjeon/mecab-ko/downloads/mecab-0.996-ko-0.9.2.tar.gz\n",
        "!tar zxfv mecab-0.996-ko-0.9.2.tar.gz\n",
        "os.chdir('/tmp/mecab-0.996-ko-0.9.2')\n",
        "!./configure\n",
        "!make\n",
        "!make check\n",
        "!make install"
      ],
      "metadata": {
        "id": "A8QHEf5za9ku"
      },
      "execution_count": null,
      "outputs": []
    },
    {
      "cell_type": "code",
      "source": [
        "os.chdir('/tmp')\n",
        "!curl -LO http://ftpmirror.gnu.org/automake/automake-1.11.tar.gz\n",
        "!tar -zxvf automake-1.11.tar.gz\n",
        "os.chdir('/tmp/automake-1.11')\n",
        "!./configure\n",
        "!make\n",
        "!make install"
      ],
      "metadata": {
        "id": "6rf8Qo0ebLcY"
      },
      "execution_count": null,
      "outputs": []
    },
    {
      "cell_type": "code",
      "source": [
        "import os\n",
        "os.chdir('/tmp')\n",
        "!curl -LO https://bitbucket.org/eunjeon/mecab-ko-dic/downloads/mecab-ko-dic-2.1.1-20180720.tar.gz\n",
        "!tar -zxvf mecab-ko-dic-2.1.1-20180720.tar.gz\n",
        "os.chdir('/tmp/mecab-ko-dic-2.1.1-20180720')\n",
        "!./autogen.sh\n",
        "!./configure\n",
        "!make\n",
        "# !sh -c 'echo \"dicdir=/usr/local/lib/mecab/dic/mecab-ko-dic\" > /usr/local/etc/mecabrc'\n",
        "!make install"
      ],
      "metadata": {
        "id": "Up5t9OBgbfI7"
      },
      "execution_count": null,
      "outputs": []
    },
    {
      "cell_type": "code",
      "source": [
        "# install mecab-python\n",
        "import os\n",
        "os.chdir('/content')\n",
        "\n",
        "!git clone https://bitbucket.org/eunjeon/mecab-python-0.996.git\n",
        "os.chdir('/content/mecab-python-0.996')\n",
        "\n",
        "!python3 setup.py build\n",
        "!python3 setup.py install"
      ],
      "metadata": {
        "id": "FpZQ0joLb3Kw"
      },
      "execution_count": null,
      "outputs": []
    },
    {
      "cell_type": "code",
      "execution_count": null,
      "metadata": {
        "id": "OsR8p7Ct8vYW"
      },
      "outputs": [],
      "source": [
        "import pandas as pd\n",
        "import konlpy\n",
        "import gensim\n"
      ]
    },
    {
      "cell_type": "code",
      "execution_count": null,
      "metadata": {
        "id": "PCab3wqP7w4x"
      },
      "outputs": [],
      "source": [
        "train_data = pd.read_table('/content/drive/MyDrive/AIFFEL/EX/8. 영화리뷰 감상분석/data/ratings_train.txt')\n",
        "test_data = pd.read_table('/content/drive/MyDrive/AIFFEL/EX/8. 영화리뷰 감상분석/data/ratings_test.txt')"
      ]
    },
    {
      "cell_type": "code",
      "execution_count": null,
      "metadata": {
        "colab": {
          "base_uri": "https://localhost:8080/",
          "height": 206
        },
        "id": "CbptNbt-COAu",
        "outputId": "7e4a142b-f8f1-49ed-cac2-0a1ea22d57c7"
      },
      "outputs": [
        {
          "output_type": "execute_result",
          "data": {
            "text/plain": [
              "         id                                           document  label\n",
              "0   9976970                                아 더빙.. 진짜 짜증나네요 목소리      0\n",
              "1   3819312                  흠...포스터보고 초딩영화줄....오버연기조차 가볍지 않구나      1\n",
              "2  10265843                                  너무재밓었다그래서보는것을추천한다      0\n",
              "3   9045019                      교도소 이야기구먼 ..솔직히 재미는 없다..평점 조정      0\n",
              "4   6483659  사이몬페그의 익살스런 연기가 돋보였던 영화!스파이더맨에서 늙어보이기만 했던 커스틴 ...      1"
            ],
            "text/html": [
              "\n",
              "  <div id=\"df-5e72e12b-1e84-4739-9049-d2fc60e7f289\">\n",
              "    <div class=\"colab-df-container\">\n",
              "      <div>\n",
              "<style scoped>\n",
              "    .dataframe tbody tr th:only-of-type {\n",
              "        vertical-align: middle;\n",
              "    }\n",
              "\n",
              "    .dataframe tbody tr th {\n",
              "        vertical-align: top;\n",
              "    }\n",
              "\n",
              "    .dataframe thead th {\n",
              "        text-align: right;\n",
              "    }\n",
              "</style>\n",
              "<table border=\"1\" class=\"dataframe\">\n",
              "  <thead>\n",
              "    <tr style=\"text-align: right;\">\n",
              "      <th></th>\n",
              "      <th>id</th>\n",
              "      <th>document</th>\n",
              "      <th>label</th>\n",
              "    </tr>\n",
              "  </thead>\n",
              "  <tbody>\n",
              "    <tr>\n",
              "      <th>0</th>\n",
              "      <td>9976970</td>\n",
              "      <td>아 더빙.. 진짜 짜증나네요 목소리</td>\n",
              "      <td>0</td>\n",
              "    </tr>\n",
              "    <tr>\n",
              "      <th>1</th>\n",
              "      <td>3819312</td>\n",
              "      <td>흠...포스터보고 초딩영화줄....오버연기조차 가볍지 않구나</td>\n",
              "      <td>1</td>\n",
              "    </tr>\n",
              "    <tr>\n",
              "      <th>2</th>\n",
              "      <td>10265843</td>\n",
              "      <td>너무재밓었다그래서보는것을추천한다</td>\n",
              "      <td>0</td>\n",
              "    </tr>\n",
              "    <tr>\n",
              "      <th>3</th>\n",
              "      <td>9045019</td>\n",
              "      <td>교도소 이야기구먼 ..솔직히 재미는 없다..평점 조정</td>\n",
              "      <td>0</td>\n",
              "    </tr>\n",
              "    <tr>\n",
              "      <th>4</th>\n",
              "      <td>6483659</td>\n",
              "      <td>사이몬페그의 익살스런 연기가 돋보였던 영화!스파이더맨에서 늙어보이기만 했던 커스틴 ...</td>\n",
              "      <td>1</td>\n",
              "    </tr>\n",
              "  </tbody>\n",
              "</table>\n",
              "</div>\n",
              "      <button class=\"colab-df-convert\" onclick=\"convertToInteractive('df-5e72e12b-1e84-4739-9049-d2fc60e7f289')\"\n",
              "              title=\"Convert this dataframe to an interactive table.\"\n",
              "              style=\"display:none;\">\n",
              "        \n",
              "  <svg xmlns=\"http://www.w3.org/2000/svg\" height=\"24px\"viewBox=\"0 0 24 24\"\n",
              "       width=\"24px\">\n",
              "    <path d=\"M0 0h24v24H0V0z\" fill=\"none\"/>\n",
              "    <path d=\"M18.56 5.44l.94 2.06.94-2.06 2.06-.94-2.06-.94-.94-2.06-.94 2.06-2.06.94zm-11 1L8.5 8.5l.94-2.06 2.06-.94-2.06-.94L8.5 2.5l-.94 2.06-2.06.94zm10 10l.94 2.06.94-2.06 2.06-.94-2.06-.94-.94-2.06-.94 2.06-2.06.94z\"/><path d=\"M17.41 7.96l-1.37-1.37c-.4-.4-.92-.59-1.43-.59-.52 0-1.04.2-1.43.59L10.3 9.45l-7.72 7.72c-.78.78-.78 2.05 0 2.83L4 21.41c.39.39.9.59 1.41.59.51 0 1.02-.2 1.41-.59l7.78-7.78 2.81-2.81c.8-.78.8-2.07 0-2.86zM5.41 20L4 18.59l7.72-7.72 1.47 1.35L5.41 20z\"/>\n",
              "  </svg>\n",
              "      </button>\n",
              "      \n",
              "  <style>\n",
              "    .colab-df-container {\n",
              "      display:flex;\n",
              "      flex-wrap:wrap;\n",
              "      gap: 12px;\n",
              "    }\n",
              "\n",
              "    .colab-df-convert {\n",
              "      background-color: #E8F0FE;\n",
              "      border: none;\n",
              "      border-radius: 50%;\n",
              "      cursor: pointer;\n",
              "      display: none;\n",
              "      fill: #1967D2;\n",
              "      height: 32px;\n",
              "      padding: 0 0 0 0;\n",
              "      width: 32px;\n",
              "    }\n",
              "\n",
              "    .colab-df-convert:hover {\n",
              "      background-color: #E2EBFA;\n",
              "      box-shadow: 0px 1px 2px rgba(60, 64, 67, 0.3), 0px 1px 3px 1px rgba(60, 64, 67, 0.15);\n",
              "      fill: #174EA6;\n",
              "    }\n",
              "\n",
              "    [theme=dark] .colab-df-convert {\n",
              "      background-color: #3B4455;\n",
              "      fill: #D2E3FC;\n",
              "    }\n",
              "\n",
              "    [theme=dark] .colab-df-convert:hover {\n",
              "      background-color: #434B5C;\n",
              "      box-shadow: 0px 1px 3px 1px rgba(0, 0, 0, 0.15);\n",
              "      filter: drop-shadow(0px 1px 2px rgba(0, 0, 0, 0.3));\n",
              "      fill: #FFFFFF;\n",
              "    }\n",
              "  </style>\n",
              "\n",
              "      <script>\n",
              "        const buttonEl =\n",
              "          document.querySelector('#df-5e72e12b-1e84-4739-9049-d2fc60e7f289 button.colab-df-convert');\n",
              "        buttonEl.style.display =\n",
              "          google.colab.kernel.accessAllowed ? 'block' : 'none';\n",
              "\n",
              "        async function convertToInteractive(key) {\n",
              "          const element = document.querySelector('#df-5e72e12b-1e84-4739-9049-d2fc60e7f289');\n",
              "          const dataTable =\n",
              "            await google.colab.kernel.invokeFunction('convertToInteractive',\n",
              "                                                     [key], {});\n",
              "          if (!dataTable) return;\n",
              "\n",
              "          const docLinkHtml = 'Like what you see? Visit the ' +\n",
              "            '<a target=\"_blank\" href=https://colab.research.google.com/notebooks/data_table.ipynb>data table notebook</a>'\n",
              "            + ' to learn more about interactive tables.';\n",
              "          element.innerHTML = '';\n",
              "          dataTable['output_type'] = 'display_data';\n",
              "          await google.colab.output.renderOutput(dataTable, element);\n",
              "          const docLink = document.createElement('div');\n",
              "          docLink.innerHTML = docLinkHtml;\n",
              "          element.appendChild(docLink);\n",
              "        }\n",
              "      </script>\n",
              "    </div>\n",
              "  </div>\n",
              "  "
            ]
          },
          "metadata": {},
          "execution_count": 105
        }
      ],
      "source": [
        "train_data.head()"
      ]
    },
    {
      "cell_type": "code",
      "execution_count": null,
      "metadata": {
        "colab": {
          "base_uri": "https://localhost:8080/"
        },
        "id": "oJhoYwL3C_ke",
        "outputId": "0935fdfd-d401-4a11-b2bd-a412fe78fef1"
      },
      "outputs": [
        {
          "output_type": "execute_result",
          "data": {
            "text/plain": [
              "(150000, 50000)"
            ]
          },
          "metadata": {},
          "execution_count": 106
        }
      ],
      "source": [
        "len(train_data), len(test_data)"
      ]
    },
    {
      "cell_type": "markdown",
      "metadata": {
        "id": "igWsmKKqID8u"
      },
      "source": [
        "- 데이터 합치기"
      ]
    },
    {
      "cell_type": "code",
      "execution_count": null,
      "metadata": {
        "id": "DrXBR975E_7s"
      },
      "outputs": [],
      "source": [
        "all_data = pd.concat([train_data, test_data], axis = 0, ignore_index = True)"
      ]
    },
    {
      "cell_type": "code",
      "execution_count": null,
      "metadata": {
        "colab": {
          "base_uri": "https://localhost:8080/",
          "height": 206
        },
        "id": "puwIzWS-G93u",
        "outputId": "59d21d5a-a9da-46ca-e290-b6d483b64023"
      },
      "outputs": [
        {
          "output_type": "execute_result",
          "data": {
            "text/plain": [
              "             id                                        document  label\n",
              "199995  4608761       오랜만에 평점 로긴했네ㅋㅋ 킹왕짱 쌈뽕한 영화를 만났습니다 강렬하게 육쾌함      1\n",
              "199996  5308387    의지 박약들이나 하는거다 탈영은 일단 주인공 김대희 닮았고 이등병 찐따 OOOO      0\n",
              "199997  9072549              그림도 좋고 완성도도 높았지만... 보는 내내 불안하게 만든다      0\n",
              "199998  5802125  절대 봐서는 안 될 영화.. 재미도 없고 기분만 잡치고.. 한 세트장에서 다 해먹네      0\n",
              "199999  6070594                                      마무리는 또 왜이래      0"
            ],
            "text/html": [
              "\n",
              "  <div id=\"df-85569c4d-4a3e-41ef-bdf9-13f6d47eb8a0\">\n",
              "    <div class=\"colab-df-container\">\n",
              "      <div>\n",
              "<style scoped>\n",
              "    .dataframe tbody tr th:only-of-type {\n",
              "        vertical-align: middle;\n",
              "    }\n",
              "\n",
              "    .dataframe tbody tr th {\n",
              "        vertical-align: top;\n",
              "    }\n",
              "\n",
              "    .dataframe thead th {\n",
              "        text-align: right;\n",
              "    }\n",
              "</style>\n",
              "<table border=\"1\" class=\"dataframe\">\n",
              "  <thead>\n",
              "    <tr style=\"text-align: right;\">\n",
              "      <th></th>\n",
              "      <th>id</th>\n",
              "      <th>document</th>\n",
              "      <th>label</th>\n",
              "    </tr>\n",
              "  </thead>\n",
              "  <tbody>\n",
              "    <tr>\n",
              "      <th>199995</th>\n",
              "      <td>4608761</td>\n",
              "      <td>오랜만에 평점 로긴했네ㅋㅋ 킹왕짱 쌈뽕한 영화를 만났습니다 강렬하게 육쾌함</td>\n",
              "      <td>1</td>\n",
              "    </tr>\n",
              "    <tr>\n",
              "      <th>199996</th>\n",
              "      <td>5308387</td>\n",
              "      <td>의지 박약들이나 하는거다 탈영은 일단 주인공 김대희 닮았고 이등병 찐따 OOOO</td>\n",
              "      <td>0</td>\n",
              "    </tr>\n",
              "    <tr>\n",
              "      <th>199997</th>\n",
              "      <td>9072549</td>\n",
              "      <td>그림도 좋고 완성도도 높았지만... 보는 내내 불안하게 만든다</td>\n",
              "      <td>0</td>\n",
              "    </tr>\n",
              "    <tr>\n",
              "      <th>199998</th>\n",
              "      <td>5802125</td>\n",
              "      <td>절대 봐서는 안 될 영화.. 재미도 없고 기분만 잡치고.. 한 세트장에서 다 해먹네</td>\n",
              "      <td>0</td>\n",
              "    </tr>\n",
              "    <tr>\n",
              "      <th>199999</th>\n",
              "      <td>6070594</td>\n",
              "      <td>마무리는 또 왜이래</td>\n",
              "      <td>0</td>\n",
              "    </tr>\n",
              "  </tbody>\n",
              "</table>\n",
              "</div>\n",
              "      <button class=\"colab-df-convert\" onclick=\"convertToInteractive('df-85569c4d-4a3e-41ef-bdf9-13f6d47eb8a0')\"\n",
              "              title=\"Convert this dataframe to an interactive table.\"\n",
              "              style=\"display:none;\">\n",
              "        \n",
              "  <svg xmlns=\"http://www.w3.org/2000/svg\" height=\"24px\"viewBox=\"0 0 24 24\"\n",
              "       width=\"24px\">\n",
              "    <path d=\"M0 0h24v24H0V0z\" fill=\"none\"/>\n",
              "    <path d=\"M18.56 5.44l.94 2.06.94-2.06 2.06-.94-2.06-.94-.94-2.06-.94 2.06-2.06.94zm-11 1L8.5 8.5l.94-2.06 2.06-.94-2.06-.94L8.5 2.5l-.94 2.06-2.06.94zm10 10l.94 2.06.94-2.06 2.06-.94-2.06-.94-.94-2.06-.94 2.06-2.06.94z\"/><path d=\"M17.41 7.96l-1.37-1.37c-.4-.4-.92-.59-1.43-.59-.52 0-1.04.2-1.43.59L10.3 9.45l-7.72 7.72c-.78.78-.78 2.05 0 2.83L4 21.41c.39.39.9.59 1.41.59.51 0 1.02-.2 1.41-.59l7.78-7.78 2.81-2.81c.8-.78.8-2.07 0-2.86zM5.41 20L4 18.59l7.72-7.72 1.47 1.35L5.41 20z\"/>\n",
              "  </svg>\n",
              "      </button>\n",
              "      \n",
              "  <style>\n",
              "    .colab-df-container {\n",
              "      display:flex;\n",
              "      flex-wrap:wrap;\n",
              "      gap: 12px;\n",
              "    }\n",
              "\n",
              "    .colab-df-convert {\n",
              "      background-color: #E8F0FE;\n",
              "      border: none;\n",
              "      border-radius: 50%;\n",
              "      cursor: pointer;\n",
              "      display: none;\n",
              "      fill: #1967D2;\n",
              "      height: 32px;\n",
              "      padding: 0 0 0 0;\n",
              "      width: 32px;\n",
              "    }\n",
              "\n",
              "    .colab-df-convert:hover {\n",
              "      background-color: #E2EBFA;\n",
              "      box-shadow: 0px 1px 2px rgba(60, 64, 67, 0.3), 0px 1px 3px 1px rgba(60, 64, 67, 0.15);\n",
              "      fill: #174EA6;\n",
              "    }\n",
              "\n",
              "    [theme=dark] .colab-df-convert {\n",
              "      background-color: #3B4455;\n",
              "      fill: #D2E3FC;\n",
              "    }\n",
              "\n",
              "    [theme=dark] .colab-df-convert:hover {\n",
              "      background-color: #434B5C;\n",
              "      box-shadow: 0px 1px 3px 1px rgba(0, 0, 0, 0.15);\n",
              "      filter: drop-shadow(0px 1px 2px rgba(0, 0, 0, 0.3));\n",
              "      fill: #FFFFFF;\n",
              "    }\n",
              "  </style>\n",
              "\n",
              "      <script>\n",
              "        const buttonEl =\n",
              "          document.querySelector('#df-85569c4d-4a3e-41ef-bdf9-13f6d47eb8a0 button.colab-df-convert');\n",
              "        buttonEl.style.display =\n",
              "          google.colab.kernel.accessAllowed ? 'block' : 'none';\n",
              "\n",
              "        async function convertToInteractive(key) {\n",
              "          const element = document.querySelector('#df-85569c4d-4a3e-41ef-bdf9-13f6d47eb8a0');\n",
              "          const dataTable =\n",
              "            await google.colab.kernel.invokeFunction('convertToInteractive',\n",
              "                                                     [key], {});\n",
              "          if (!dataTable) return;\n",
              "\n",
              "          const docLinkHtml = 'Like what you see? Visit the ' +\n",
              "            '<a target=\"_blank\" href=https://colab.research.google.com/notebooks/data_table.ipynb>data table notebook</a>'\n",
              "            + ' to learn more about interactive tables.';\n",
              "          element.innerHTML = '';\n",
              "          dataTable['output_type'] = 'display_data';\n",
              "          await google.colab.output.renderOutput(dataTable, element);\n",
              "          const docLink = document.createElement('div');\n",
              "          docLink.innerHTML = docLinkHtml;\n",
              "          element.appendChild(docLink);\n",
              "        }\n",
              "      </script>\n",
              "    </div>\n",
              "  </div>\n",
              "  "
            ]
          },
          "metadata": {},
          "execution_count": 108
        }
      ],
      "source": [
        "all_data.tail()"
      ]
    },
    {
      "cell_type": "markdown",
      "metadata": {
        "id": "YN0J2bhDIGRV"
      },
      "source": [
        "- 중복치, 결측치 확인 후 제거"
      ]
    },
    {
      "cell_type": "code",
      "execution_count": null,
      "metadata": {
        "colab": {
          "base_uri": "https://localhost:8080/"
        },
        "id": "mY4I7QbUHVvx",
        "outputId": "155e0811-a2c6-4afd-a900-04e0dae253bf"
      },
      "outputs": [
        {
          "output_type": "execute_result",
          "data": {
            "text/plain": [
              "0"
            ]
          },
          "metadata": {},
          "execution_count": 109
        }
      ],
      "source": [
        "all_data.duplicated().sum()"
      ]
    },
    {
      "cell_type": "code",
      "execution_count": null,
      "metadata": {
        "colab": {
          "base_uri": "https://localhost:8080/"
        },
        "id": "WqF5RYPCHH61",
        "outputId": "3c7eacc1-5af2-4a1f-e5e8-4855f6c4d903"
      },
      "outputs": [
        {
          "output_type": "execute_result",
          "data": {
            "text/plain": [
              "id          0\n",
              "document    8\n",
              "label       0\n",
              "dtype: int64"
            ]
          },
          "metadata": {},
          "execution_count": 110
        }
      ],
      "source": [
        "all_data.isnull().sum()"
      ]
    },
    {
      "cell_type": "code",
      "execution_count": null,
      "metadata": {
        "id": "48PJT9yaHvfe"
      },
      "outputs": [],
      "source": [
        "all_data = all_data.dropna(axis=0)"
      ]
    },
    {
      "cell_type": "code",
      "execution_count": null,
      "metadata": {
        "colab": {
          "base_uri": "https://localhost:8080/"
        },
        "id": "JTKFzFUcHzZI",
        "outputId": "c99a705e-f4f8-4896-cbb0-be4d59e621a6"
      },
      "outputs": [
        {
          "output_type": "execute_result",
          "data": {
            "text/plain": [
              "id          0\n",
              "document    0\n",
              "label       0\n",
              "dtype: int64"
            ]
          },
          "metadata": {},
          "execution_count": 112
        }
      ],
      "source": [
        "all_data.isnull().sum()"
      ]
    },
    {
      "cell_type": "code",
      "execution_count": null,
      "metadata": {
        "colab": {
          "base_uri": "https://localhost:8080/"
        },
        "id": "cvXHGQipH93a",
        "outputId": "a1aeb640-d4b0-4e44-82f0-d02a2592ab93"
      },
      "outputs": [
        {
          "output_type": "execute_result",
          "data": {
            "text/plain": [
              "199992"
            ]
          },
          "metadata": {},
          "execution_count": 113
        }
      ],
      "source": [
        "len(all_data)"
      ]
    },
    {
      "cell_type": "markdown",
      "metadata": {
        "id": "EgRPlWYzK29F"
      },
      "source": [
        "- 데이터프레임에서 문장이 들어있는 document 부분을 리스트로 바꿔줌"
      ]
    },
    {
      "cell_type": "code",
      "execution_count": null,
      "metadata": {
        "colab": {
          "base_uri": "https://localhost:8080/"
        },
        "id": "P9eL7ZEUKKwO",
        "outputId": "707be446-bd34-41fb-b169-c2b6b683e560"
      },
      "outputs": [
        {
          "output_type": "execute_result",
          "data": {
            "text/plain": [
              "0                                       아 더빙.. 진짜 짜증나네요 목소리\n",
              "1                         흠...포스터보고 초딩영화줄....오버연기조차 가볍지 않구나\n",
              "2                                         너무재밓었다그래서보는것을추천한다\n",
              "3                             교도소 이야기구먼 ..솔직히 재미는 없다..평점 조정\n",
              "4         사이몬페그의 익살스런 연기가 돋보였던 영화!스파이더맨에서 늙어보이기만 했던 커스틴 ...\n",
              "                                ...                        \n",
              "199995            오랜만에 평점 로긴했네ㅋㅋ 킹왕짱 쌈뽕한 영화를 만났습니다 강렬하게 육쾌함\n",
              "199996         의지 박약들이나 하는거다 탈영은 일단 주인공 김대희 닮았고 이등병 찐따 OOOO\n",
              "199997                   그림도 좋고 완성도도 높았지만... 보는 내내 불안하게 만든다\n",
              "199998       절대 봐서는 안 될 영화.. 재미도 없고 기분만 잡치고.. 한 세트장에서 다 해먹네\n",
              "199999                                           마무리는 또 왜이래\n",
              "Name: document, Length: 199992, dtype: object"
            ]
          },
          "metadata": {},
          "execution_count": 114
        }
      ],
      "source": [
        "all_data['document']"
      ]
    },
    {
      "cell_type": "code",
      "execution_count": null,
      "metadata": {
        "id": "pfrwxZxpKiOu"
      },
      "outputs": [],
      "source": [
        "sentence_list = list(all_data['document'])"
      ]
    },
    {
      "cell_type": "code",
      "execution_count": null,
      "metadata": {
        "colab": {
          "base_uri": "https://localhost:8080/"
        },
        "id": "S8Rk8FdSKpWS",
        "outputId": "c9630892-c01e-469c-d717-c10c791f04d0"
      },
      "outputs": [
        {
          "output_type": "execute_result",
          "data": {
            "text/plain": [
              "199992"
            ]
          },
          "metadata": {},
          "execution_count": 116
        }
      ],
      "source": [
        "len(sentence_list)"
      ]
    },
    {
      "cell_type": "code",
      "execution_count": null,
      "metadata": {
        "colab": {
          "base_uri": "https://localhost:8080/"
        },
        "id": "HPxa22kGLGCD",
        "outputId": "93e00d9d-33f3-4fd5-a396-2d82f89b96ef"
      },
      "outputs": [
        {
          "output_type": "execute_result",
          "data": {
            "text/plain": [
              "['아', '더', '빙', '.', '.', '진짜', '짜증', '나', '네요', '목소리']"
            ]
          },
          "metadata": {},
          "execution_count": 117
        }
      ],
      "source": [
        "from konlpy.tag import Mecab\n",
        "\n",
        "tokenizer = Mecab()\n",
        "(tokenizer.morphs(sentence_list[0]))"
      ]
    },
    {
      "cell_type": "code",
      "source": [
        "all_data = all_data.drop_duplicates('document', keep='first')\n"
      ],
      "metadata": {
        "id": "etrwUPoRfrz6"
      },
      "execution_count": null,
      "outputs": []
    },
    {
      "cell_type": "markdown",
      "metadata": {
        "id": "-Is0D-jdCUVH"
      },
      "source": [
        "###  2. 데이터 로더 구성\n",
        "\n",
        "  실습 때 다루었던 IMDB 데이터셋은 텍스트를 가공하여 imdb.data_loader() 메서드를 호출하면 숫자 인덱스로 변환된 텍스트와 word_to_index 딕셔너리까지 친절하게 제공합니다. 그러나 이번에 다루게 될 nsmc 데이터셋은 전혀 가공되지 않은 텍스트 파일로 이루어져 있습니다. 이것을 읽어서 imdb.data_loader()와 동일하게 동작하는 자신만의 data_loader를 만들어 보는 것으로 시작합니다. data_loader 안에서는 다음을 수행해야 합니다.\n",
        "\n",
        "  - 데이터의 중복 제거\n",
        "  - NaN 결측치 제거\n",
        "  - 한국어 토크나이저로 토큰화\n",
        "  - 불용어(Stopwords) 제거\n",
        "  - 사전 word_to_index 구성\n",
        "  - 텍스트 스트링을 사전 인덱스 스트링으로 변환\n",
        "  - X_train, y_train, X_test, y_test, word_to_index 리턴"
      ]
    },
    {
      "cell_type": "code",
      "execution_count": null,
      "metadata": {
        "id": "AkWhNadkCTEE"
      },
      "outputs": [],
      "source": [
        "from konlpy.tag import Mecab\n",
        "import numpy as np\n",
        "from collections import Counter\n",
        "\n",
        "tokenizer = Mecab()\n",
        "stopwords = ['의','가','이','은','들','는','좀','잘','걍','과','도','를','으로','자','에','와','한','하다']\n",
        "def load_data(train_data, test_data, num_words=15000):\n",
        "  #가공 후에 다시 train, test로 나눠주기 위해 원래 train_data의 크기를 기억\n",
        "  len_train = len(train_data)\n",
        "  #train, test 데이터 합쳐줌. 한 번에 가공 하기 위해서\n",
        "  all_data = pd.concat([train_data, test_data], axis = 0, ignore_index = True) \n",
        "  #중복치와 결측치 제거(중복 제거는 'document'부분에서만 실행) \n",
        "  all_data = all_data.drop_duplicates('document', keep='first')\n",
        "  all_data = all_data.dropna(axis=0)\n",
        "  #후기 문장들을 sentence_list에 list로 저장\n",
        "  sentence_list = list(all_data['document'])\n",
        "  #형태소로 나눈 문장들을 리스트에 따로 저장\n",
        "  token_list=[]\n",
        "  for sentence in sentence_list:\n",
        "    tokenize_sentence = tokenizer.morphs(sentence)\n",
        "    tokenize_sentence = [word for word in tokenize_sentence if not word in stopwords]  #불용어 제거\n",
        "    token_list.append(tokenize_sentence)\n",
        "  #토큰화한 문장들을 train, test로 나눠줌  \n",
        "  X_train = token_list[:len_train]\n",
        "  X_test = token_list[len_train:]\n",
        "  \n",
        "  words = np.concatenate(X_train).tolist()\n",
        "  counter = Counter(words)\n",
        "  counter = counter.most_common(15000-4)\n",
        "  vocab = ['<PAD>', '<BOS>', '<UNK>', '<UNUSED>'] + [key for key, _ in counter]\n",
        "\n",
        "  word2index = {word:index for index, word in enumerate(vocab)}\n",
        "\n",
        "  def wordlist_to_indexlist(wordlist):\n",
        "    return [word2index[word] if word in word2index else word2index['<UNK>'] for word in wordlist]\n",
        "  \n",
        "  X_train = list(map(wordlist_to_indexlist, X_train))\n",
        "  X_test = list(map(wordlist_to_indexlist, X_test))\n",
        "\n",
        "  return X_train, np.array(list(all_data['label'][:len_train])), X_test, np.array(list(all_data['label'][len_train:])), word2index\n",
        "\n",
        "  \n",
        "    \n",
        "X_train, y_train, X_test, y_test, word2index = load_data(train_data, test_data)\n",
        "index2word = {index:word for word, index in word2index.items()}"
      ]
    },
    {
      "cell_type": "code",
      "source": [
        "# 문장 1개를 활용할 딕셔너리와 함께 주면, 단어 인덱스 리스트 벡터로 변환해 주는 함수입니다. \n",
        "# 단, 모든 문장은 <BOS>로 시작하는 것으로 합니다. \n",
        "def get_encoded_sentence(sentence, word_to_index):\n",
        "    return [word_to_index['<BOS>']]+[word_to_index[word] if word in word_to_index else word_to_index['<UNK>'] for word in sentence.split()]\n",
        "\n",
        "# 여러 개의 문장 리스트를 한꺼번에 단어 인덱스 리스트 벡터로 encode해 주는 함수입니다. \n",
        "def get_encoded_sentences(sentences, word_to_index):\n",
        "    return [get_encoded_sentence(sentence, word_to_index) for sentence in sentences]\n",
        "\n",
        "# 숫자 벡터로 encode된 문장을 원래대로 decode하는 함수입니다. \n",
        "def get_decoded_sentence(encoded_sentence, index_to_word):\n",
        "    return ' '.join(index_to_word[index] if index in index_to_word else '<UNK>' for index in encoded_sentence[1:])  #[1:]를 통해 <BOS>를 제외\n",
        "\n",
        "# 여러 개의 숫자 벡터로 encode된 문장을 한꺼번에 원래대로 decode하는 함수입니다. \n",
        "def get_decoded_sentences(encoded_sentences, index_to_word):\n",
        "    return [get_decoded_sentence(encoded_sentence, index_to_word) for encoded_sentence in encoded_sentences]"
      ],
      "metadata": {
        "id": "1TzvFUTeyJfa"
      },
      "execution_count": null,
      "outputs": []
    },
    {
      "cell_type": "markdown",
      "source": [
        "### 3. 모델 구성을 위한 데이터 분석 및 가공\n",
        "\n",
        "- 데이터셋 내 문장 길이 분포\n",
        "- 적절한 최대 문장 길이 지정\n",
        "- keras.preprocessing.sequence.pad_sequences 을 활용한 패딩 추가"
      ],
      "metadata": {
        "id": "we4cJDp8ybdY"
      }
    },
    {
      "cell_type": "code",
      "source": [
        "total_data_text = list(X_train) + list(X_test)\n",
        "\n",
        "\n",
        "# 텍스트데이터 문장길이의 리스트를 생성\n",
        "num_tokens = [len(tokens) for tokens in total_data_text]\n",
        "num_tokens = np.array(num_tokens)\n",
        "\n",
        "# 문장길이의 평균값, 최대값, 표준편차를 계산\n",
        "print('문장길이 평균 : ', np.mean(num_tokens))\n",
        "print('문장길이 최대 : ', np.max(num_tokens))\n",
        "print('문장길이 표준편차 : ', np.std(num_tokens))\n",
        "\n",
        "# 최대 길이를 (평균 + 2*표준편차)로 한다면,  \n",
        "max_tokens = np.mean(num_tokens) + 2 * np.std(num_tokens)\n",
        "maxlen = int(max_tokens)\n",
        "print('pad_sequences maxlen : ', maxlen)\n",
        "print('전체 문장의 {}%가 maxlen 설정값 이내에 포함됩니다. '.format(np.sum(num_tokens < max_tokens) / len(num_tokens)))"
      ],
      "metadata": {
        "colab": {
          "base_uri": "https://localhost:8080/"
        },
        "id": "bW8Y59CCytwy",
        "outputId": "4a312249-990a-4ca9-e0d4-c85e99e75682"
      },
      "execution_count": null,
      "outputs": [
        {
          "output_type": "stream",
          "name": "stdout",
          "text": [
            "문장길이 평균 :  16.0182376132783\n",
            "문장길이 최대 :  116\n",
            "문장길이 표준편차 :  12.842655296434431\n",
            "pad_sequences maxlen :  41\n",
            "전체 문장의 0.9340557100486782%가 maxlen 설정값 이내에 포함됩니다. \n"
          ]
        }
      ]
    },
    {
      "cell_type": "markdown",
      "source": [
        "- maxlen은 41\n"
      ],
      "metadata": {
        "id": "o1azF-wVz4I8"
      }
    },
    {
      "cell_type": "code",
      "source": [
        "import tensorflow as tf\n",
        "\n",
        "#문장의 마지막 입력이 최종 state에 영향을 가장 크게 미치기 때문에 패딩 적용은 pre(뒤쪽)으로 해준다.\n",
        "x_train = tf.keras.preprocessing.sequence.pad_sequences(X_train,\n",
        "                                                        value=word2index[\"<PAD>\"],\n",
        "                                                        padding='pre', \n",
        "                                                        maxlen=maxlen)\n",
        "\n",
        "x_test = tf.keras.preprocessing.sequence.pad_sequences(X_test,\n",
        "                                                       value=word2index[\"<PAD>\"],\n",
        "                                                       padding='pre',\n",
        "                                                       maxlen=maxlen)\n",
        "\n",
        "print(x_train.shape)"
      ],
      "metadata": {
        "colab": {
          "base_uri": "https://localhost:8080/"
        },
        "id": "cPNc-zae0AKy",
        "outputId": "b0d65860-fd78-4aca-b821-af30eb3177da"
      },
      "execution_count": null,
      "outputs": [
        {
          "output_type": "stream",
          "name": "stdout",
          "text": [
            "(150000, 41)\n"
          ]
        }
      ]
    },
    {
      "cell_type": "markdown",
      "source": [
        "### 4. 모델 구성 및 Validation Set 구성\n",
        "\n",
        "- Validation Set은 train데이터의 10%로 설정(15000개)"
      ],
      "metadata": {
        "id": "BzPcaPqj0taC"
      }
    },
    {
      "cell_type": "code",
      "source": [
        "val_x = x_train[:15000]\n",
        "val_y = y_train[:15000]\n",
        "\n",
        "x_train = x_train[15000:]\n",
        "y_train = y_train[15000:]\n",
        "\n",
        "print(x_train.shape, y_train.shape)"
      ],
      "metadata": {
        "colab": {
          "base_uri": "https://localhost:8080/"
        },
        "id": "aKZ8VpW204Yp",
        "outputId": "77d0ba78-cbfe-4b45-aa62-00d654a92e53"
      },
      "execution_count": null,
      "outputs": [
        {
          "output_type": "stream",
          "name": "stdout",
          "text": [
            "(135000, 41) (135000,)\n"
          ]
        }
      ]
    },
    {
      "cell_type": "markdown",
      "source": [
        "1. 1-D CNN"
      ],
      "metadata": {
        "id": "jdon-7G_1j8G"
      }
    },
    {
      "cell_type": "code",
      "source": [
        "vocab_size = 15000\n",
        "word_vector_dim = 100\n",
        "\n",
        "embedding_dim = 512 # 임베딩 벡터의 차원\n",
        "dropout_ratio = 0.4 # 드롭아웃 비율\n",
        "num_filters = 256 # 커널의 수\n",
        "kernel_size = 3 # 커널의 크기\n",
        "hidden_units = 512 # 뉴런의 수\n",
        "\n",
        "model_cnn = tf.keras.Sequential()\n",
        "model_cnn.add(tf.keras.layers.Embedding(vocab_size, embedding_dim))\n",
        "model_cnn.add(tf.keras.layers.Dropout(dropout_ratio))\n",
        "model_cnn.add(tf.keras.layers.Conv1D(num_filters, kernel_size, padding='valid', activation='relu'))\n",
        "model_cnn.add(tf.keras.layers.GlobalMaxPooling1D())\n",
        "model_cnn.add(tf.keras.layers.Dense(hidden_units, activation='relu'))\n",
        "model_cnn.add(tf.keras.layers.Dropout(dropout_ratio))\n",
        "model_cnn.add(tf.keras.layers.Dense(1, activation='sigmoid'))\n",
        "\n",
        "model_cnn.summary()"
      ],
      "metadata": {
        "colab": {
          "base_uri": "https://localhost:8080/"
        },
        "id": "OeAP0txQ1mPH",
        "outputId": "66823d8b-f9a3-4f4f-b11e-d40728801df4"
      },
      "execution_count": null,
      "outputs": [
        {
          "output_type": "stream",
          "name": "stdout",
          "text": [
            "Model: \"sequential_13\"\n",
            "_________________________________________________________________\n",
            " Layer (type)                Output Shape              Param #   \n",
            "=================================================================\n",
            " embedding_8 (Embedding)     (None, None, 256)         3840000   \n",
            "                                                                 \n",
            " dropout_4 (Dropout)         (None, None, 256)         0         \n",
            "                                                                 \n",
            " conv1d_4 (Conv1D)           (None, None, 256)         196864    \n",
            "                                                                 \n",
            " global_max_pooling1d_3 (Glo  (None, 256)              0         \n",
            " balMaxPooling1D)                                                \n",
            "                                                                 \n",
            " dense_20 (Dense)            (None, 128)               32896     \n",
            "                                                                 \n",
            " dropout_5 (Dropout)         (None, 128)               0         \n",
            "                                                                 \n",
            " dense_21 (Dense)            (None, 1)                 129       \n",
            "                                                                 \n",
            "=================================================================\n",
            "Total params: 4,069,889\n",
            "Trainable params: 4,069,889\n",
            "Non-trainable params: 0\n",
            "_________________________________________________________________\n"
          ]
        }
      ]
    },
    {
      "cell_type": "code",
      "source": [
        "\n",
        "model_cnn.compile(optimizer='adam',\n",
        "              loss='binary_crossentropy',\n",
        "              metrics=['accuracy'])\n",
        "\n",
        "\n",
        "history_cnn = model_cnn.fit(x_train,\n",
        "                    y_train,\n",
        "                    epochs=10,\n",
        "                    batch_size=32,\n",
        "                    validation_data=(val_x, val_y),\n",
        "                    verbose=1)"
      ],
      "metadata": {
        "colab": {
          "base_uri": "https://localhost:8080/"
        },
        "id": "5DNMlYTu4O8s",
        "outputId": "542d0002-d59e-44e8-fd21-f873ca9fefd9"
      },
      "execution_count": null,
      "outputs": [
        {
          "output_type": "stream",
          "name": "stdout",
          "text": [
            "Epoch 1/10\n",
            "4219/4219 [==============================] - 22s 5ms/step - loss: 0.3602 - accuracy: 0.8403 - val_loss: 0.3094 - val_accuracy: 0.8646\n",
            "Epoch 2/10\n",
            "4219/4219 [==============================] - 23s 5ms/step - loss: 0.2591 - accuracy: 0.8940 - val_loss: 0.3117 - val_accuracy: 0.8653\n",
            "Epoch 3/10\n",
            "4219/4219 [==============================] - 23s 5ms/step - loss: 0.1860 - accuracy: 0.9274 - val_loss: 0.3466 - val_accuracy: 0.8704\n",
            "Epoch 4/10\n",
            "4219/4219 [==============================] - 22s 5ms/step - loss: 0.1293 - accuracy: 0.9505 - val_loss: 0.4378 - val_accuracy: 0.8578\n",
            "Epoch 5/10\n",
            "4219/4219 [==============================] - 22s 5ms/step - loss: 0.0940 - accuracy: 0.9644 - val_loss: 0.4923 - val_accuracy: 0.8511\n",
            "Epoch 6/10\n",
            "4219/4219 [==============================] - 21s 5ms/step - loss: 0.0739 - accuracy: 0.9717 - val_loss: 0.6005 - val_accuracy: 0.8511\n",
            "Epoch 7/10\n",
            "4219/4219 [==============================] - 21s 5ms/step - loss: 0.0607 - accuracy: 0.9771 - val_loss: 0.6833 - val_accuracy: 0.8568\n",
            "Epoch 8/10\n",
            "4219/4219 [==============================] - 23s 5ms/step - loss: 0.0517 - accuracy: 0.9800 - val_loss: 0.6824 - val_accuracy: 0.8490\n",
            "Epoch 9/10\n",
            "4219/4219 [==============================] - 21s 5ms/step - loss: 0.0459 - accuracy: 0.9823 - val_loss: 0.7631 - val_accuracy: 0.8518\n",
            "Epoch 10/10\n",
            "4219/4219 [==============================] - 22s 5ms/step - loss: 0.0391 - accuracy: 0.9843 - val_loss: 0.8435 - val_accuracy: 0.8458\n"
          ]
        }
      ]
    },
    {
      "cell_type": "code",
      "source": [
        "results = model_cnn.evaluate(x_test,  y_test, verbose=2)\n",
        "\n",
        "print(results)"
      ],
      "metadata": {
        "colab": {
          "base_uri": "https://localhost:8080/"
        },
        "id": "6j-sEEw_5BIs",
        "outputId": "3dc1869e-d725-4f94-a296-3c8edb773901"
      },
      "execution_count": null,
      "outputs": [
        {
          "output_type": "stream",
          "name": "stdout",
          "text": [
            "1392/1392 - 2s - loss: 0.8551 - accuracy: 0.8461 - 2s/epoch - 2ms/step\n",
            "[0.8550602793693542, 0.8461037874221802]\n"
          ]
        }
      ]
    },
    {
      "cell_type": "code",
      "source": [
        "history_dict = history_cnn.history\n",
        "print(history_dict.keys()) # epoch에 따른 그래프를 그려볼 수 있는 항목들"
      ],
      "metadata": {
        "colab": {
          "base_uri": "https://localhost:8080/"
        },
        "id": "d-uGLPHx8DIj",
        "outputId": "14c17310-615e-46a5-81da-1704583e0a20"
      },
      "execution_count": null,
      "outputs": [
        {
          "output_type": "stream",
          "name": "stdout",
          "text": [
            "dict_keys(['loss', 'accuracy', 'val_loss', 'val_accuracy'])\n"
          ]
        }
      ]
    },
    {
      "cell_type": "code",
      "source": [
        "import matplotlib.pyplot as plt\n",
        "\n",
        "acc = history_dict['accuracy']\n",
        "val_acc = history_dict['val_accuracy']\n",
        "loss = history_dict['loss']\n",
        "val_loss = history_dict['val_loss']\n",
        "\n",
        "epochs = range(1, len(acc) + 1)\n",
        "\n",
        "# \"bo\"는 \"파란색 점\"입니다\n",
        "plt.plot(epochs, loss, 'bo', label='Training loss')\n",
        "# b는 \"파란 실선\"입니다\n",
        "plt.plot(epochs, val_loss, 'b', label='Validation loss')\n",
        "plt.title('Training and validation loss')\n",
        "plt.xlabel('Epochs')\n",
        "plt.ylabel('Loss')\n",
        "plt.legend()\n",
        "\n",
        "plt.show()"
      ],
      "metadata": {
        "colab": {
          "base_uri": "https://localhost:8080/",
          "height": 295
        },
        "id": "PpxUhdC98dPy",
        "outputId": "ed0d34c1-e5a5-42c0-80f5-8436b536bf4b"
      },
      "execution_count": null,
      "outputs": [
        {
          "output_type": "display_data",
          "data": {
            "text/plain": [
              "<Figure size 432x288 with 1 Axes>"
            ],
            "image/png": "[encoded data removed]"
          },
          "metadata": {
            "needs_background": "light"
          }
        }
      ]
    },
    {
      "cell_type": "code",
      "source": [
        "plt.clf()   # 그림을 초기화합니다\n",
        "\n",
        "plt.plot(epochs, acc, 'bo', label='Training acc')\n",
        "plt.plot(epochs, val_acc, 'b', label='Validation acc')\n",
        "plt.title('Training and validation accuracy')\n",
        "plt.xlabel('Epochs')\n",
        "plt.ylabel('Accuracy')\n",
        "plt.legend()\n",
        "\n",
        "plt.show()"
      ],
      "metadata": {
        "colab": {
          "base_uri": "https://localhost:8080/",
          "height": 295
        },
        "id": "WJL3YMGy8vl2",
        "outputId": "846a6971-1c13-4735-b2f7-e28f877d247e"
      },
      "execution_count": null,
      "outputs": [
        {
          "output_type": "display_data",
          "data": {
            "text/plain": [
              "<Figure size 432x288 with 1 Axes>"
            ],
            "image/png": "[encoded data removed]"
          },
          "metadata": {
            "needs_background": "light"
          }
        }
      ]
    },
    {
      "cell_type": "markdown",
      "source": [
        "- 2. LSTM"
      ],
      "metadata": {
        "id": "KSCV2ynB86Nr"
      }
    },
    {
      "cell_type": "code",
      "source": [
        "# LSTM\n",
        "vocab_size = 15000\n",
        "word_vector_dim = 100\n",
        "\n",
        "model_lstm = tf.keras.Sequential()\n",
        "model_lstm.add(tf.keras.layers.Embedding(vocab_size, word_vector_dim, input_shape=(None,)))\n",
        "model_lstm.add(tf.keras.layers.LSTM(64, return_sequences=True))   \n",
        "model_lstm.add(tf.keras.layers.Dense(32, activation='relu'))\n",
        "model_lstm.add(tf.keras.layers.LSTM(64, return_sequences=True))\n",
        "model_lstm.add(tf.keras.layers.Dense(32, activation='relu'))\n",
        "model_lstm.add(tf.keras.layers.LSTM(64))\n",
        "model_lstm.add(tf.keras.layers.Dense(32, activation='relu'))\n",
        "model_lstm.add(tf.keras.layers.Dense(1, activation='sigmoid'))  # 최종 출력은 긍정/부정을 나타내는 1dim 입니다.\n",
        "model_lstm.summary()"
      ],
      "metadata": {
        "colab": {
          "base_uri": "https://localhost:8080/"
        },
        "id": "LlZ4Irnt9B-X",
        "outputId": "dd2977db-24c0-4269-a73e-a0bca6546cad"
      },
      "execution_count": null,
      "outputs": [
        {
          "output_type": "stream",
          "name": "stdout",
          "text": [
            "Model: \"sequential_14\"\n",
            "_________________________________________________________________\n",
            " Layer (type)                Output Shape              Param #   \n",
            "=================================================================\n",
            " embedding_9 (Embedding)     (None, None, 100)         1500000   \n",
            "                                                                 \n",
            " lstm_9 (LSTM)               (None, None, 64)          42240     \n",
            "                                                                 \n",
            " dense_22 (Dense)            (None, None, 32)          2080      \n",
            "                                                                 \n",
            " lstm_10 (LSTM)              (None, None, 64)          24832     \n",
            "                                                                 \n",
            " dense_23 (Dense)            (None, None, 32)          2080      \n",
            "                                                                 \n",
            " lstm_11 (LSTM)              (None, 64)                24832     \n",
            "                                                                 \n",
            " dense_24 (Dense)            (None, 32)                2080      \n",
            "                                                                 \n",
            " dense_25 (Dense)            (None, 1)                 33        \n",
            "                                                                 \n",
            "=================================================================\n",
            "Total params: 1,598,177\n",
            "Trainable params: 1,598,177\n",
            "Non-trainable params: 0\n",
            "_________________________________________________________________\n"
          ]
        }
      ]
    },
    {
      "cell_type": "code",
      "source": [
        "model_lstm.compile(optimizer='adam',\n",
        "              loss='binary_crossentropy',\n",
        "              metrics=['accuracy'])\n",
        "              \n",
        "epochs=10  # 몇 epoch를 훈련하면 좋을지 결과를 보면서 바꾸어 봅시다. \n",
        "\n",
        "history_lstm = model_lstm.fit(x_train,\n",
        "                    y_train,\n",
        "                    epochs=epochs,\n",
        "                    batch_size=32,\n",
        "                    validation_data=(val_x, val_y),\n",
        "                    verbose=1)"
      ],
      "metadata": {
        "colab": {
          "base_uri": "https://localhost:8080/"
        },
        "id": "cPBgmYvm9vEX",
        "outputId": "3784d3ce-b719-4942-db51-e7f9613225ed"
      },
      "execution_count": null,
      "outputs": [
        {
          "output_type": "stream",
          "name": "stdout",
          "text": [
            "Epoch 1/10\n",
            "4219/4219 [==============================] - 54s 12ms/step - loss: 0.3609 - accuracy: 0.8377 - val_loss: 0.3231 - val_accuracy: 0.8609\n",
            "Epoch 2/10\n",
            "4219/4219 [==============================] - 47s 11ms/step - loss: 0.2726 - accuracy: 0.8851 - val_loss: 0.3095 - val_accuracy: 0.8691\n",
            "Epoch 3/10\n",
            "4219/4219 [==============================] - 47s 11ms/step - loss: 0.2263 - accuracy: 0.9070 - val_loss: 0.3246 - val_accuracy: 0.8618\n",
            "Epoch 4/10\n",
            "4219/4219 [==============================] - 48s 11ms/step - loss: 0.1858 - accuracy: 0.9253 - val_loss: 0.3490 - val_accuracy: 0.8603\n",
            "Epoch 5/10\n",
            "4219/4219 [==============================] - 47s 11ms/step - loss: 0.1511 - accuracy: 0.9416 - val_loss: 0.4082 - val_accuracy: 0.8573\n",
            "Epoch 6/10\n",
            "4219/4219 [==============================] - 48s 11ms/step - loss: 0.1223 - accuracy: 0.9537 - val_loss: 0.4686 - val_accuracy: 0.8583\n",
            "Epoch 7/10\n",
            "4219/4219 [==============================] - 47s 11ms/step - loss: 0.0999 - accuracy: 0.9622 - val_loss: 0.5323 - val_accuracy: 0.8547\n",
            "Epoch 8/10\n",
            "4219/4219 [==============================] - 47s 11ms/step - loss: 0.0829 - accuracy: 0.9693 - val_loss: 0.5099 - val_accuracy: 0.8526\n",
            "Epoch 9/10\n",
            "4219/4219 [==============================] - 48s 11ms/step - loss: 0.0696 - accuracy: 0.9738 - val_loss: 0.5912 - val_accuracy: 0.8477\n",
            "Epoch 10/10\n",
            "4219/4219 [==============================] - 46s 11ms/step - loss: 0.0586 - accuracy: 0.9781 - val_loss: 0.6507 - val_accuracy: 0.8409\n"
          ]
        }
      ]
    },
    {
      "cell_type": "code",
      "source": [
        "results = model_lstm.evaluate(x_test,  y_test, verbose=2)\n",
        "\n",
        "print(results)"
      ],
      "metadata": {
        "colab": {
          "base_uri": "https://localhost:8080/"
        },
        "id": "E5gcyrEL-Tvi",
        "outputId": "1bb1fe3e-cc23-4af0-f302-49c44a16602e"
      },
      "execution_count": null,
      "outputs": [
        {
          "output_type": "stream",
          "name": "stdout",
          "text": [
            "1392/1392 - 7s - loss: 0.6494 - accuracy: 0.8395 - 7s/epoch - 5ms/step\n",
            "[0.649370014667511, 0.8394809365272522]\n"
          ]
        }
      ]
    },
    {
      "cell_type": "code",
      "source": [
        "history_dict = history_lstm.history\n",
        "print(history_dict.keys()) # epoch에 따른 그래프를 그려볼 수 있는 항목들"
      ],
      "metadata": {
        "colab": {
          "base_uri": "https://localhost:8080/"
        },
        "id": "trdgkokO-lGM",
        "outputId": "42ab49de-46d5-40ba-8f59-c828671656cc"
      },
      "execution_count": null,
      "outputs": [
        {
          "output_type": "stream",
          "name": "stdout",
          "text": [
            "dict_keys(['loss', 'accuracy', 'val_loss', 'val_accuracy'])\n"
          ]
        }
      ]
    },
    {
      "cell_type": "code",
      "source": [
        "acc = history_dict['accuracy']\n",
        "val_acc = history_dict['val_accuracy']\n",
        "loss = history_dict['loss']\n",
        "val_loss = history_dict['val_loss']\n",
        "\n",
        "epochs = range(1, len(acc) + 1)\n",
        "\n",
        "# \"bo\"는 \"파란색 점\"입니다\n",
        "plt.plot(epochs, loss, 'bo', label='Training loss')\n",
        "# b는 \"파란 실선\"입니다\n",
        "plt.plot(epochs, val_loss, 'b', label='Validation loss')\n",
        "plt.title('Training and validation loss')\n",
        "plt.xlabel('Epochs')\n",
        "plt.ylabel('Loss')\n",
        "plt.legend()\n",
        "\n",
        "plt.show()"
      ],
      "metadata": {
        "colab": {
          "base_uri": "https://localhost:8080/",
          "height": 295
        },
        "id": "2GIrNogy-rFL",
        "outputId": "7aed7a4c-dd64-4a7e-8e62-0448b152011b"
      },
      "execution_count": null,
      "outputs": [
        {
          "output_type": "display_data",
          "data": {
            "text/plain": [
              "<Figure size 432x288 with 1 Axes>"
            ],
            "image/png": "[encoded data removed]"
          },
          "metadata": {
            "needs_background": "light"
          }
        }
      ]
    },
    {
      "cell_type": "code",
      "source": [
        "plt.clf()   # 그림을 초기화합니다\n",
        "\n",
        "plt.plot(epochs, acc, 'bo', label='Training acc')\n",
        "plt.plot(epochs, val_acc, 'b', label='Validation acc')\n",
        "plt.title('Training and validation accuracy')\n",
        "plt.xlabel('Epochs')\n",
        "plt.ylabel('Accuracy')\n",
        "plt.legend()\n",
        "\n",
        "plt.show()"
      ],
      "metadata": {
        "colab": {
          "base_uri": "https://localhost:8080/",
          "height": 295
        },
        "id": "3B2km6WT-vOy",
        "outputId": "e3a6cccb-a188-4412-9c16-4d300c9c4816"
      },
      "execution_count": null,
      "outputs": [
        {
          "output_type": "display_data",
          "data": {
            "text/plain": [
              "<Figure size 432x288 with 1 Axes>"
            ],
            "image/png": "[encoded data removed]"
          },
          "metadata": {
            "needs_background": "light"
          }
        }
      ]
    },
    {
      "cell_type": "code",
      "source": [
        "# one GlobalAveragePooling layer\n",
        "simple = tf.keras.Sequential()\n",
        "simple.add(tf.keras.layers.Embedding(vocab_size, word_vector_dim, input_shape=(None,)))\n",
        "simple.add(tf.keras.layers.GlobalAveragePooling1D())\n",
        "simple.add(tf.keras.layers.Dense(16, activation='relu'))\n",
        "simple.add(tf.keras.layers.Dense(1, activation='sigmoid'))\n",
        "\n",
        "simple.summary()"
      ],
      "metadata": {
        "colab": {
          "base_uri": "https://localhost:8080/"
        },
        "id": "QbjaTeNyCWq6",
        "outputId": "db158c90-5ed8-488e-d4cc-d54334c11d4a"
      },
      "execution_count": null,
      "outputs": [
        {
          "output_type": "stream",
          "name": "stdout",
          "text": [
            "Model: \"sequential_15\"\n",
            "_________________________________________________________________\n",
            " Layer (type)                Output Shape              Param #   \n",
            "=================================================================\n",
            " embedding_10 (Embedding)    (None, None, 100)         1500000   \n",
            "                                                                 \n",
            " global_average_pooling1d_2   (None, 100)              0         \n",
            " (GlobalAveragePooling1D)                                        \n",
            "                                                                 \n",
            " dense_26 (Dense)            (None, 16)                1616      \n",
            "                                                                 \n",
            " dense_27 (Dense)            (None, 1)                 17        \n",
            "                                                                 \n",
            "=================================================================\n",
            "Total params: 1,501,633\n",
            "Trainable params: 1,501,633\n",
            "Non-trainable params: 0\n",
            "_________________________________________________________________\n"
          ]
        }
      ]
    },
    {
      "cell_type": "code",
      "source": [
        "simple.compile(optimizer='adam',\n",
        "              loss='binary_crossentropy',\n",
        "              metrics=['accuracy'])\n",
        "\n",
        "history_simple = simple.fit(x_train,\n",
        "                    y_train,\n",
        "                    epochs=10,\n",
        "                    batch_size=32,\n",
        "                    validation_data=(val_x, val_y),\n",
        "                    verbose=1)"
      ],
      "metadata": {
        "colab": {
          "base_uri": "https://localhost:8080/"
        },
        "id": "dyUiaSpuCgLO",
        "outputId": "a7c3b58b-bac0-41d8-e363-0118d85974f2"
      },
      "execution_count": null,
      "outputs": [
        {
          "output_type": "stream",
          "name": "stdout",
          "text": [
            "Epoch 1/10\n",
            "4219/4219 [==============================] - 17s 4ms/step - loss: 0.3922 - accuracy: 0.8250 - val_loss: 0.3432 - val_accuracy: 0.8495\n",
            "Epoch 2/10\n",
            "4219/4219 [==============================] - 16s 4ms/step - loss: 0.3257 - accuracy: 0.8596 - val_loss: 0.3505 - val_accuracy: 0.8452\n",
            "Epoch 3/10\n",
            "4219/4219 [==============================] - 17s 4ms/step - loss: 0.3031 - accuracy: 0.8695 - val_loss: 0.3505 - val_accuracy: 0.8482\n",
            "Epoch 4/10\n",
            "4219/4219 [==============================] - 16s 4ms/step - loss: 0.2875 - accuracy: 0.8768 - val_loss: 0.3661 - val_accuracy: 0.8434\n",
            "Epoch 5/10\n",
            "4219/4219 [==============================] - 15s 4ms/step - loss: 0.2744 - accuracy: 0.8822 - val_loss: 0.3731 - val_accuracy: 0.8447\n",
            "Epoch 6/10\n",
            "4219/4219 [==============================] - 17s 4ms/step - loss: 0.2622 - accuracy: 0.8883 - val_loss: 0.3886 - val_accuracy: 0.8435\n",
            "Epoch 7/10\n",
            "4219/4219 [==============================] - 15s 4ms/step - loss: 0.2514 - accuracy: 0.8941 - val_loss: 0.4070 - val_accuracy: 0.8399\n",
            "Epoch 8/10\n",
            "4219/4219 [==============================] - 16s 4ms/step - loss: 0.2401 - accuracy: 0.8998 - val_loss: 0.4125 - val_accuracy: 0.8365\n",
            "Epoch 9/10\n",
            "4219/4219 [==============================] - 16s 4ms/step - loss: 0.2309 - accuracy: 0.9041 - val_loss: 0.4346 - val_accuracy: 0.8389\n",
            "Epoch 10/10\n",
            "4219/4219 [==============================] - 15s 4ms/step - loss: 0.2209 - accuracy: 0.9093 - val_loss: 0.4541 - val_accuracy: 0.8384\n"
          ]
        }
      ]
    },
    {
      "cell_type": "code",
      "source": [
        "results = simple.evaluate(x_test,  y_test, verbose=2)\n",
        "\n",
        "print(results)"
      ],
      "metadata": {
        "colab": {
          "base_uri": "https://localhost:8080/"
        },
        "id": "Fp45qvj3DA28",
        "outputId": "48efeba5-d5b4-4c5a-e2e5-51699af1ac3f"
      },
      "execution_count": null,
      "outputs": [
        {
          "output_type": "stream",
          "name": "stdout",
          "text": [
            "1392/1392 - 2s - loss: 0.4563 - accuracy: 0.8351 - 2s/epoch - 2ms/step\n",
            "[0.45630425214767456, 0.83514803647995]\n"
          ]
        }
      ]
    },
    {
      "cell_type": "code",
      "source": [
        "history_dict = history_simple.history\n",
        "print(history_dict.keys()) # epoch에 따른 그래프를 그려볼 수 있는 항목들"
      ],
      "metadata": {
        "colab": {
          "base_uri": "https://localhost:8080/"
        },
        "id": "f4Tao2bZC-Pw",
        "outputId": "f9e7b5a7-a683-4d81-8b8d-e53273d13b57"
      },
      "execution_count": null,
      "outputs": [
        {
          "output_type": "stream",
          "name": "stdout",
          "text": [
            "dict_keys(['loss', 'accuracy', 'val_loss', 'val_accuracy'])\n"
          ]
        }
      ]
    },
    {
      "cell_type": "code",
      "source": [
        "acc = history_dict['accuracy']\n",
        "val_acc = history_dict['val_accuracy']\n",
        "loss = history_dict['loss']\n",
        "val_loss = history_dict['val_loss']\n",
        "\n",
        "epochs = range(1, len(acc) + 1)\n",
        "\n",
        "# \"bo\"는 \"파란색 점\"입니다\n",
        "plt.plot(epochs, loss, 'bo', label='Training loss')\n",
        "# b는 \"파란 실선\"입니다\n",
        "plt.plot(epochs, val_loss, 'b', label='Validation loss')\n",
        "plt.title('Training and validation loss')\n",
        "plt.xlabel('Epochs')\n",
        "plt.ylabel('Loss')\n",
        "plt.legend()\n",
        "\n",
        "plt.show()"
      ],
      "metadata": {
        "colab": {
          "base_uri": "https://localhost:8080/",
          "height": 295
        },
        "id": "ssbWk3KYDKzG",
        "outputId": "261e1ae3-3a77-4ad3-f610-41dea39a6beb"
      },
      "execution_count": null,
      "outputs": [
        {
          "output_type": "display_data",
          "data": {
            "text/plain": [
              "<Figure size 432x288 with 1 Axes>"
            ],
            "image/png": "[encoded data removed]"
          },
          "metadata": {
            "needs_background": "light"
          }
        }
      ]
    },
    {
      "cell_type": "code",
      "source": [
        "plt.clf()   # 그림을 초기화합니다\n",
        "\n",
        "plt.plot(epochs, acc, 'bo', label='Training acc')\n",
        "plt.plot(epochs, val_acc, 'b', label='Validation acc')\n",
        "plt.title('Training and validation accuracy')\n",
        "plt.xlabel('Epochs')\n",
        "plt.ylabel('Accuracy')\n",
        "plt.legend()\n",
        "\n",
        "plt.show()"
      ],
      "metadata": {
        "colab": {
          "base_uri": "https://localhost:8080/",
          "height": 295
        },
        "id": "L6GWllNyDQKp",
        "outputId": "4d0f9f8d-b3e0-4d50-d5e5-a564c58ef37d"
      },
      "execution_count": null,
      "outputs": [
        {
          "output_type": "display_data",
          "data": {
            "text/plain": [
              "<Figure size 432x288 with 1 Axes>"
            ],
            "image/png": "[encoded data removed]"
          },
          "metadata": {
            "needs_background": "light"
          }
        }
      ]
    },
    {
      "cell_type": "markdown",
      "source": [
        "### 5. 한국어 Word2Vec 임베딩 활용"
      ],
      "metadata": {
        "id": "tlPn33-zHDVH"
      }
    },
    {
      "cell_type": "code",
      "source": [
        "from gensim.models.keyedvectors import Word2VecKeyedVectors\n",
        "\n",
        "word2vec_file_path = '/content/drive/MyDrive/AIFFEL/EX/8. 영화리뷰 감상분석/data/word2vec_ko.model'\n",
        "word_vectors = Word2VecKeyedVectors.load(word2vec_file_path)\n",
        "vector = word_vectors.wv['끝']"
      ],
      "metadata": {
        "id": "EgWkl8zmET--"
      },
      "execution_count": null,
      "outputs": []
    },
    {
      "cell_type": "code",
      "source": [
        "vector.shape"
      ],
      "metadata": {
        "colab": {
          "base_uri": "https://localhost:8080/"
        },
        "id": "I7PM4vWDFtaM",
        "outputId": "794bfe67-379b-463d-ae78-3e1ed60ef58c"
      },
      "execution_count": null,
      "outputs": [
        {
          "output_type": "execute_result",
          "data": {
            "text/plain": [
              "(100,)"
            ]
          },
          "metadata": {},
          "execution_count": 143
        }
      ]
    },
    {
      "cell_type": "code",
      "source": [
        "vocab_size = 15000   \n",
        "word_vector_dim = 100  # 워드 벡터의 차원수\n",
        "embedding_matrix = np.random.rand(vocab_size, word_vector_dim)\n",
        "\n",
        "# embedding_matrix에 Word2Vec 워드 벡터를 단어 하나씩마다 차례차례 카피한다.\n",
        "for i in range(4,vocab_size):\n",
        "    if index2word[i] in word_vectors.wv:\n",
        "        embedding_matrix[i] = word_vectors.wv[index2word[i]]"
      ],
      "metadata": {
        "id": "PTAGh-u0GV9Y"
      },
      "execution_count": null,
      "outputs": []
    },
    {
      "cell_type": "code",
      "source": [
        "\n",
        "vocab_size = 15000    # 어휘 사전의 크기입니다(10,000개의 단어)\n",
        "word_vector_dim = 100  # 워드 벡터의 차원 수 \n",
        "\n",
        "# 모델 구성\n",
        "model = tf.keras.Sequential()\n",
        "model.add(tf.keras.layers.Embedding(vocab_size, \n",
        "                                 word_vector_dim, \n",
        "                                 embeddings_initializer=tf.keras.initializers.Constant(embedding_matrix),  # 카피한 임베딩을 여기서 활용\n",
        "                                 input_length=maxlen, \n",
        "                                 trainable=True))   # trainable을 True로 주면 Fine-tuning\n",
        "model.add(tf.keras.layers.Conv1D(32, 7, activation='relu'))\n",
        "model.add(tf.keras.layers.MaxPooling1D(5))\n",
        "model.add(tf.keras.layers.Conv1D(32, 7, activation='relu'))\n",
        "model.add(tf.keras.layers.GlobalMaxPooling1D())\n",
        "model.add(tf.keras.layers.Dense(16, activation='relu'))\n",
        "model.add(tf.keras.layers.Dense(1, activation='sigmoid')) \n",
        "\n",
        "model.summary()"
      ],
      "metadata": {
        "colab": {
          "base_uri": "https://localhost:8080/"
        },
        "id": "OATMBQtdGwoj",
        "outputId": "866f97ba-03d8-461d-9b14-01f74edb8298"
      },
      "execution_count": null,
      "outputs": [
        {
          "output_type": "stream",
          "name": "stdout",
          "text": [
            "Model: \"sequential_16\"\n",
            "_________________________________________________________________\n",
            " Layer (type)                Output Shape              Param #   \n",
            "=================================================================\n",
            " embedding_11 (Embedding)    (None, 41, 100)           1500000   \n",
            "                                                                 \n",
            " conv1d_5 (Conv1D)           (None, 35, 32)            22432     \n",
            "                                                                 \n",
            " max_pooling1d_1 (MaxPooling  (None, 7, 32)            0         \n",
            " 1D)                                                             \n",
            "                                                                 \n",
            " conv1d_6 (Conv1D)           (None, 1, 32)             7200      \n",
            "                                                                 \n",
            " global_max_pooling1d_4 (Glo  (None, 32)               0         \n",
            " balMaxPooling1D)                                                \n",
            "                                                                 \n",
            " dense_28 (Dense)            (None, 16)                528       \n",
            "                                                                 \n",
            " dense_29 (Dense)            (None, 1)                 17        \n",
            "                                                                 \n",
            "=================================================================\n",
            "Total params: 1,530,177\n",
            "Trainable params: 1,530,177\n",
            "Non-trainable params: 0\n",
            "_________________________________________________________________\n"
          ]
        }
      ]
    },
    {
      "cell_type": "code",
      "source": [
        "# 학습의 진행\n",
        "model.compile(optimizer='adam',\n",
        "              loss='binary_crossentropy',\n",
        "              metrics=['accuracy'])\n",
        "              \n",
        "\n",
        "history = model.fit(x_train,\n",
        "                    y_train,\n",
        "                    epochs=3,\n",
        "                    batch_size=32,\n",
        "                    validation_data=(val_x, val_y),\n",
        "                    verbose=1)"
      ],
      "metadata": {
        "colab": {
          "base_uri": "https://localhost:8080/"
        },
        "id": "PelEV1ceH_mm",
        "outputId": "a638e14f-6096-435f-9337-7d9af7f14b24"
      },
      "execution_count": null,
      "outputs": [
        {
          "output_type": "stream",
          "name": "stdout",
          "text": [
            "Epoch 1/10\n",
            "4219/4219 [==============================] - 22s 5ms/step - loss: 0.4484 - accuracy: 0.7862 - val_loss: 0.3683 - val_accuracy: 0.8340\n",
            "Epoch 2/10\n",
            "4219/4219 [==============================] - 19s 5ms/step - loss: 0.3361 - accuracy: 0.8536 - val_loss: 0.3383 - val_accuracy: 0.8466\n",
            "Epoch 3/10\n",
            "4219/4219 [==============================] - 19s 5ms/step - loss: 0.2951 - accuracy: 0.8750 - val_loss: 0.3278 - val_accuracy: 0.8590\n",
            "Epoch 4/10\n",
            "4219/4219 [==============================] - 20s 5ms/step - loss: 0.2656 - accuracy: 0.8896 - val_loss: 0.3294 - val_accuracy: 0.8576\n",
            "Epoch 5/10\n",
            "4219/4219 [==============================] - 20s 5ms/step - loss: 0.2414 - accuracy: 0.9013 - val_loss: 0.3424 - val_accuracy: 0.8555\n",
            "Epoch 6/10\n",
            "4219/4219 [==============================] - 19s 5ms/step - loss: 0.2174 - accuracy: 0.9125 - val_loss: 0.3586 - val_accuracy: 0.8559\n",
            "Epoch 7/10\n",
            "4219/4219 [==============================] - 20s 5ms/step - loss: 0.1959 - accuracy: 0.9233 - val_loss: 0.3730 - val_accuracy: 0.8526\n",
            "Epoch 8/10\n",
            "4219/4219 [==============================] - 20s 5ms/step - loss: 0.1750 - accuracy: 0.9315 - val_loss: 0.3890 - val_accuracy: 0.8521\n",
            "Epoch 9/10\n",
            "4219/4219 [==============================] - 20s 5ms/step - loss: 0.1560 - accuracy: 0.9393 - val_loss: 0.4383 - val_accuracy: 0.8542\n",
            "Epoch 10/10\n",
            "4219/4219 [==============================] - 19s 5ms/step - loss: 0.1367 - accuracy: 0.9471 - val_loss: 0.4749 - val_accuracy: 0.8504\n"
          ]
        }
      ]
    },
    {
      "cell_type": "code",
      "source": [
        "# 테스트셋을 통한 모델 평가\n",
        "results = model.evaluate(x_test,  y_test, verbose=2)\n",
        "\n",
        "print(results)"
      ],
      "metadata": {
        "colab": {
          "base_uri": "https://localhost:8080/"
        },
        "id": "qdqlcVFGIp6b",
        "outputId": "d72d6636-dbc7-4ea1-f35c-312ce787b870"
      },
      "execution_count": null,
      "outputs": [
        {
          "output_type": "stream",
          "name": "stdout",
          "text": [
            "1392/1392 - 3s - loss: 0.4851 - accuracy: 0.8457 - 3s/epoch - 2ms/step\n",
            "[0.48513779044151306, 0.8456771969795227]\n"
          ]
        }
      ]
    },
    {
      "cell_type": "code",
      "source": [
        "history_dict = history.history\n",
        "print(history_dict.keys()) # epoch에 따른 그래프를 그려볼 수 있는 항목들"
      ],
      "metadata": {
        "colab": {
          "base_uri": "https://localhost:8080/"
        },
        "id": "YrsPzmSWItFX",
        "outputId": "080c61c9-7d2b-466f-9795-452cfd41ab9c"
      },
      "execution_count": null,
      "outputs": [
        {
          "output_type": "stream",
          "name": "stdout",
          "text": [
            "dict_keys(['loss', 'accuracy', 'val_loss', 'val_accuracy'])\n"
          ]
        }
      ]
    },
    {
      "cell_type": "code",
      "source": [
        "acc = history_dict['accuracy']\n",
        "val_acc = history_dict['val_accuracy']\n",
        "loss = history_dict['loss']\n",
        "val_loss = history_dict['val_loss']\n",
        "\n",
        "epochs = range(1, len(acc) + 1)\n",
        "\n",
        "# \"bo\"는 \"파란색 점\"입니다\n",
        "plt.plot(epochs, loss, 'bo', label='Training loss')\n",
        "# b는 \"파란 실선\"입니다\n",
        "plt.plot(epochs, val_loss, 'b', label='Validation loss')\n",
        "plt.title('Training and validation loss')\n",
        "plt.xlabel('Epochs')\n",
        "plt.ylabel('Loss')\n",
        "plt.legend()\n",
        "\n",
        "plt.show()"
      ],
      "metadata": {
        "colab": {
          "base_uri": "https://localhost:8080/"
        },
        "id": "DH2SYGYOIz1L",
        "outputId": "81172d2f-104e-4758-e235-027f2b3914d2"
      },
      "execution_count": null,
      "outputs": [
        {
          "output_type": "display_data",
          "data": {
            "text/plain": [
              "<Figure size 432x288 with 1 Axes>"
            ],
            "image/png": "[encoded data removed]"
          },
          "metadata": {
            "needs_background": "light"
          }
        }
      ]
    },
    {
      "cell_type": "code",
      "source": [
        "plt.clf()   # 그림을 초기화합니다\n",
        "\n",
        "plt.plot(epochs, acc, 'bo', label='Training acc')\n",
        "plt.plot(epochs, val_acc, 'b', label='Validation acc')\n",
        "plt.title('Training and validation accuracy')\n",
        "plt.xlabel('Epochs')\n",
        "plt.ylabel('Accuracy')\n",
        "plt.legend()\n",
        "\n",
        "plt.show()"
      ],
      "metadata": {
        "colab": {
          "base_uri": "https://localhost:8080/"
        },
        "id": "0LbxO2gaI0G2",
        "outputId": "67b37bee-1e8d-4f28-f767-df1e01a37e32"
      },
      "execution_count": null,
      "outputs": [
        {
          "output_type": "display_data",
          "data": {
            "text/plain": [
              "<Figure size 432x288 with 1 Axes>"
            ],
            "image/png": "[encoded data removed]"
          },
          "metadata": {
            "needs_background": "light"
          }
        }
      ]
    }
  ],
  "metadata": {
    "accelerator": "GPU",
    "colab": {
      "name": "EX_BS2_project8.ipynb",
      "provenance": [],
      "mount_file_id": "1ulssDqAK6ggmJNdaUGS7pQxj1odFwNFk",
      "authorship_tag": "ABX9TyNKb8jc6XFdpMjrr1fJzgnC",
      "include_colab_link": true
    },
    "gpuClass": "standard",
    "kernelspec": {
      "display_name": "Python 3",
      "name": "python3"
    },
    "language_info": {
      "name": "python"
    }
  },
  "nbformat": 4,
  "nbformat_minor": 0
}