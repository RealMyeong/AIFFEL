{
  "nbformat": 4,
  "nbformat_minor": 0,
  "metadata": {
    "colab": {
      "provenance": [],
      "machine_shape": "hm",
      "mount_file_id": "1wa5uH4OqbqeKkTdV7Hwe3JdtiiOKZtaB",
      "authorship_tag": "ABX9TyMNG8C0teS5dEQ9lt7MC7rQ",
      "include_colab_link": true
    },
    "kernelspec": {
      "name": "python3",
      "display_name": "Python 3"
    },
    "language_info": {
      "name": "python"
    },
    "accelerator": "GPU"
  },
  "cells": [
    {
      "cell_type": "markdown",
      "metadata": {
        "id": "view-in-github",
        "colab_type": "text"
      },
      "source": [
        "<a href=\"https://colab.research.google.com/github/RealMyeong/Going_Deeper_NLP/blob/main/GoingDeeper(NLP)_2_%EB%8B%A8%EC%96%B4%EC%82%AC%EC%A0%84%EB%A7%8C%EB%93%A4%EA%B8%B0.ipynb\" target=\"_parent\"><img src=\"https://colab.research.google.com/assets/colab-badge.svg\" alt=\"Open In Colab\"/></a>"
      ]
    },
    {
      "cell_type": "markdown",
      "source": [
        "이번에는 여러 한국어 형태소 분석기를 사용해보고 결과를 비교해보겠습니다.\n",
        "\n",
        "먼저 실습을 진행할 google colab의 환경 설정을 해줍니다.\n"
      ],
      "metadata": {
        "id": "DNl1j-LvAsW_"
      }
    },
    {
      "cell_type": "code",
      "source": [
        "!apt-get update\n",
        "!apt-get install g++ openjdk-8-jdk\n",
        "!pip install konlpy JPype1-py3\n",
        "!bash <(curl -s https://raw.githubusercontent.com/konlpy/konlpy/master/scripts/mecab.sh)\n",
        "!pip install --upgrade gensim\n",
        "# !pip install --upgrade keras==2.6.0\n",
        "# !pip install --upgrade tensorflow==2.6.0"
      ],
      "metadata": {
        "id": "jHZSKQC1ABfR"
      },
      "execution_count": null,
      "outputs": []
    },
    {
      "cell_type": "code",
      "source": [
        "%%bash\n",
        "apt-get update\n",
        "apt-get install g++ openjdk-8-jdk python-dev python3-dev\n",
        "pip3 install JPype1\n",
        "pip3 install konlpy"
      ],
      "metadata": {
        "id": "a2YzZKnqQ7HK"
      },
      "execution_count": null,
      "outputs": []
    },
    {
      "cell_type": "code",
      "source": [
        "%env JAVA_HOME \"/usr/lib/jvm/java-8-openjdk-amd64\""
      ],
      "metadata": {
        "id": "klTJZLZdQ3C7"
      },
      "execution_count": null,
      "outputs": []
    },
    {
      "cell_type": "code",
      "source": [
        "import tensorflow\n",
        "import keras"
      ],
      "metadata": {
        "id": "4P3go_0JAe2-"
      },
      "execution_count": null,
      "outputs": []
    },
    {
      "cell_type": "code",
      "source": [
        "from konlpy.tag import Mecab\n",
        "\n",
        "mecab = Mecab()"
      ],
      "metadata": {
        "id": "eGJafNX0Alui"
      },
      "execution_count": null,
      "outputs": []
    },
    {
      "cell_type": "markdown",
      "source": [
        "사용할 데이터는 한국어의 형태소 분석과 품사 태깅, 기계 번역 연구를 위해 공개된 데이터입니다. 이번에 사용할 데이터는 한국어-영어 병렬을 이루는 말뭉치 중 한국어 부분으로, 전체 병렬 말뭉치는 후에 번역기를 만들며 사용할 예정입니다\n",
        "\n",
        "다른 데이터를 사용하고 싶으시면 아래 주소로 가시면 됩니다.  \n",
        "https://github.com/jungyeul/korean-parallel-corpora\n",
        "\n",
        "데이터를 불러오겠습니다."
      ],
      "metadata": {
        "id": "qSDaBDj5CQHG"
      }
    },
    {
      "cell_type": "code",
      "source": [
        "file_path = '/content/drive/MyDrive/AIFFEL/GoingDeeper(NLP)/2_단어사전만들기/korean-english-park.train.ko'\n",
        "\n",
        "with open(file_path, \"r\") as f:\n",
        "    raw = f.read().splitlines()\n",
        "\n",
        "print(\"Data Size:\", len(raw))\n",
        "\n",
        "print(\"Example:\")\n",
        "for sen in raw[0:100][::20]: print(\">>\", sen)"
      ],
      "metadata": {
        "colab": {
          "base_uri": "https://localhost:8080/"
        },
        "id": "P7DxinqNCHDp",
        "outputId": "054e540b-5555-4f7f-a900-4a2d2c0a42c4"
      },
      "execution_count": null,
      "outputs": [
        {
          "output_type": "stream",
          "name": "stdout",
          "text": [
            "Data Size: 94123\n",
            "Example:\n",
            ">> 개인용 컴퓨터 사용의 상당 부분은 \"이것보다 뛰어날 수 있느냐?\"\n",
            ">> 북한의 핵무기 계획을 포기하도록 하려는 압력이 거세지고 있는 가운데, 일본과 북한의 외교관들이 외교 관계를 정상화하려는 회담을 재개했다.\n",
            ">> \"경호 로보트가 침입자나 화재를 탐지하기 위해서 개인적으로, 그리고 전문적으로 사용되고 있습니다.\"\n",
            ">> 수자원부 당국은 논란이 되고 있고, 막대한 비용이 드는 이 사업에 대해 내년에 건설을 시작할 계획이다.\n",
            ">> 또한 근력 운동은 활발하게 걷는 것이나 최소한 20분 동안 뛰는 것과 같은 유산소 활동에서 얻는 운동 효과를 심장과 폐에 주지 않기 때문에, 연구학자들은 근력 운동이 심장에 큰 영향을 미치는지 여부에 대해 논쟁을 해왔다.\n"
          ]
        }
      ]
    },
    {
      "cell_type": "markdown",
      "source": [
        "문장은 위에서 확인한 것처럼 94123개가 포함되어 있습니다. 우리는 각 문장이 어느 정도의 길이를 가지는지 확인해보겠습니다! 이 과정을 거치면 지나치게 긴 데이터를 삭제하거나 (연산량을 감소시켜 학습 속도가 빨라집니다!) 지나치게 짧은 데이터를 검증 (무조건 필요가 없지는 않습니다, 단어 ↔ 단어 라면 번역을 학습할 수 있겠죠!) 할 수 있습니다. 즉, 데이터를 얼마나 사용할지 타협점을 정의할 수 있습니다.\n",
        "\n",
        "아래 소스는 문장의 최단 길이, 최장 길이, 평균 길이를 구한 후 문장 길이 분포를 막대그래프로 표현해 주는 소스입니다. raw 변수는 앞서 다운로드받은 데이터가 담긴 변수입니다!"
      ],
      "metadata": {
        "id": "mFN-at6KC2VE"
      }
    },
    {
      "cell_type": "code",
      "source": [
        "import numpy as np\n",
        "import tensorflow as tf\n",
        "import matplotlib.pyplot as plt\n",
        "\n",
        "%matplotlib inline\n",
        "\n",
        "min_len = 999\n",
        "max_len = 0\n",
        "sum_len = 0\n",
        "\n",
        "for sen in raw:\n",
        "  length = len(sen)\n",
        "  if min_len > length : \n",
        "    min_len = length\n",
        "  if max_len < length:\n",
        "    max_len = length\n",
        "  sum_len += length\n",
        "\n",
        "print('문장의 최단 길이 : ', min_len)\n",
        "print('문장의 최장 길이 : ', max_len)\n",
        "print('문장의 평균 길이 : ', sum_len // len(raw))\n",
        "\n",
        "sentence_length = np.zeros((max_len), dtype=np.int)\n",
        "\n",
        "for sen in raw:\n",
        "  sentence_length[len(sen)-1] += 1\n",
        "\n",
        "plt.bar(range(max_len), sentence_length, width=1.0)\n",
        "plt.title('Sentence Length Distribution')\n",
        "plt.show()"
      ],
      "metadata": {
        "colab": {
          "base_uri": "https://localhost:8080/",
          "height": 390
        },
        "id": "5E1C7_tKDaHJ",
        "outputId": "a373b0a7-fed3-467b-fd39-92aa94e0df6d"
      },
      "execution_count": null,
      "outputs": [
        {
          "output_type": "stream",
          "name": "stdout",
          "text": [
            "문장의 최단 길이 :  1\n",
            "문장의 최장 길이 :  377\n",
            "문장의 평균 길이 :  60\n"
          ]
        },
        {
          "output_type": "stream",
          "name": "stderr",
          "text": [
            "/usr/local/lib/python3.7/dist-packages/ipykernel_launcher.py:23: DeprecationWarning: `np.int` is a deprecated alias for the builtin `int`. To silence this warning, use `int` by itself. Doing this will not modify any behavior and is safe. When replacing `np.int`, you may wish to use e.g. `np.int64` or `np.int32` to specify the precision. If you wish to review your current use, check the release note link for additional information.\n",
            "Deprecated in NumPy 1.20; for more details and guidance: https://numpy.org/devdocs/release/1.20.0-notes.html#deprecations\n"
          ]
        },
        {
          "output_type": "display_data",
          "data": {
            "text/plain": [
              "<Figure size 432x288 with 1 Axes>"
            ],
            "image/png": "[encoded data removed]"
          },
          "metadata": {
            "needs_background": "light"
          }
        }
      ]
    },
    {
      "cell_type": "markdown",
      "source": [
        "위 그림을 보면 약간 이상한 점이 있습니다.\n",
        "\n",
        "1. 길이 1짜리 문장은 무언인지\n",
        "2. 그림에서 치솟는 임의의 구간은 무엇인지\n",
        "3. 어디서부터 어디까지 잘라서 써야하는지\n",
        "\n",
        "하나하나 살펴보겠습니다.\n"
      ],
      "metadata": {
        "id": "JwJRx7ZwENOA"
      }
    },
    {
      "cell_type": "code",
      "source": [
        "# 길이가 1인 문장 확인\n",
        "def check_sentence_with_length(raw, length):\n",
        "  count = 0\n",
        "\n",
        "  for sen in raw:\n",
        "    if len(sen) == length:\n",
        "      print(sen)\n",
        "      count += 1\n",
        "      if count > 100:\n",
        "        return\n",
        "  \n",
        "check_sentence_with_length(raw, 1)"
      ],
      "metadata": {
        "colab": {
          "base_uri": "https://localhost:8080/"
        },
        "id": "SE0JHvkcE38c",
        "outputId": "5e557f66-bc71-411c-c71c-c981b6bcf04d"
      },
      "execution_count": null,
      "outputs": [
        {
          "output_type": "stream",
          "name": "stdout",
          "text": [
            "’\n"
          ]
        }
      ]
    },
    {
      "cell_type": "markdown",
      "source": [
        "이번에는 문장의 수가 1500을 초과하는 문장 길이를 추출하겠습니다.\n"
      ],
      "metadata": {
        "id": "-sdsfoIXFa52"
      }
    },
    {
      "cell_type": "code",
      "source": [
        "for idx, _sum in enumerate(sentence_length):\n",
        "  if _sum > 1500:\n",
        "    print('Outlier Index : ', idx+1)"
      ],
      "metadata": {
        "colab": {
          "base_uri": "https://localhost:8080/"
        },
        "id": "hJAXJDOhFOz3",
        "outputId": "b79b020f-de58-4952-cb9f-f5617a80e362"
      },
      "execution_count": null,
      "outputs": [
        {
          "output_type": "stream",
          "name": "stdout",
          "text": [
            "Outlier Index :  11\n",
            "Outlier Index :  19\n",
            "Outlier Index :  21\n"
          ]
        }
      ]
    },
    {
      "cell_type": "code",
      "source": [
        "check_sentence_with_length(raw, 11)"
      ],
      "metadata": {
        "colab": {
          "base_uri": "https://localhost:8080/"
        },
        "id": "69CR6bC0FmnY",
        "outputId": "4c9de27b-9934-4992-a936-8d3a6fcf37d6"
      },
      "execution_count": null,
      "outputs": [
        {
          "output_type": "stream",
          "name": "stdout",
          "text": [
            "라고 조던이 말했다.\n",
            "- 모르고 있습니다.\n",
            "- 네, 보이는군요.\n",
            "디즈니사만이 아니다.\n",
            "큰 파티는 아니지요.\n",
            "의자는 비어 있었다.\n",
            "이 일은 계속됩니다.\n",
            "나는 크게 실망했다.\n",
            "그 이유는 간단하다.\n",
            "이력서와 자기 소개서\n",
            "시대가 변하고 있다.\n",
            "는 돌발질문을 했다.\n",
            "9. 몇 분간의 명상\n",
            "하와이, 빅 아일랜드\n",
            "키스를 잘 하는 방법\n",
            "키스를 잘 하는 방법\n",
            "스피어스가 뚱뚱한가?\n",
            "산 위를 나는 느낌.\n",
            "세 시간쯤 걸었을까?\n",
            "(아직 읽고있습니까?\n",
            "처음에는 장난이었다.\n",
            "우리는 운이 좋았다.\n",
            "아기가 숨을 멈출 때\n",
            "건물 전체 무너져내려\n",
            "그녀의 아름다운 눈.\n",
            "대답은 다음과 같다.\n",
            "\"사과할 것이 없다.\n",
            "폭탄테러가 공포 유발\n",
            "그는 \"잘 모르겠다.\n",
            "그는 \"잘 모르겠다.\n",
            "그는 \"잘 모르겠다.\n",
            "그는 \"잘 모르겠다.\n",
            "그는 \"잘 모르겠다.\n",
            "그는 \"잘 모르겠다.\n",
            "그는 \"잘 모르겠다.\n",
            "그는 \"잘 모르겠다.\n",
            "그는 \"잘 모르겠다.\n",
            "케냐 야생동물 고아원\n",
            "경유 1200원대로…\n",
            "더 내려야 하는 이유\n",
            "케냐 야생동물 고아원\n",
            "경유 1200원대로…\n",
            "더 내려야 하는 이유\n",
            "케냐 야생동물 고아원\n",
            "경유 1200원대로…\n",
            "더 내려야 하는 이유\n",
            "케냐 야생동물 고아원\n",
            "경유 1200원대로…\n",
            "더 내려야 하는 이유\n",
            "케냐 야생동물 고아원\n",
            "경유 1200원대로…\n",
            "더 내려야 하는 이유\n",
            "케냐 야생동물 고아원\n",
            "경유 1200원대로…\n",
            "더 내려야 하는 이유\n",
            "케냐 야생동물 고아원\n",
            "경유 1200원대로…\n",
            "더 내려야 하는 이유\n",
            "케냐 야생동물 고아원\n",
            "경유 1200원대로…\n",
            "더 내려야 하는 이유\n",
            "케냐 야생동물 고아원\n",
            "경유 1200원대로…\n",
            "더 내려야 하는 이유\n",
            "케냐 야생동물 고아원\n",
            "경유 1200원대로…\n",
            "더 내려야 하는 이유\n",
            "케냐 야생동물 고아원\n",
            "경유 1200원대로…\n",
            "더 내려야 하는 이유\n",
            "케냐 야생동물 고아원\n",
            "경유 1200원대로…\n",
            "더 내려야 하는 이유\n",
            "케냐 야생동물 고아원\n",
            "경유 1200원대로…\n",
            "더 내려야 하는 이유\n",
            "케냐 야생동물 고아원\n",
            "경유 1200원대로…\n",
            "더 내려야 하는 이유\n",
            "케냐 야생동물 고아원\n",
            "경유 1200원대로…\n",
            "더 내려야 하는 이유\n",
            "케냐 야생동물 고아원\n",
            "경유 1200원대로…\n",
            "더 내려야 하는 이유\n",
            "케냐 야생동물 고아원\n",
            "경유 1200원대로…\n",
            "더 내려야 하는 이유\n",
            "케냐 야생동물 고아원\n",
            "경유 1200원대로…\n",
            "더 내려야 하는 이유\n",
            "케냐 야생동물 고아원\n",
            "경유 1200원대로…\n",
            "더 내려야 하는 이유\n",
            "케냐 야생동물 고아원\n",
            "경유 1200원대로…\n",
            "더 내려야 하는 이유\n",
            "조금은 새침한 샬롯？\n",
            "조금은 새침한 샬롯？\n",
            "케냐 야생동물 고아원\n",
            "경유 1200원대로…\n"
          ]
        }
      ]
    },
    {
      "cell_type": "markdown",
      "source": [
        "중복치가 제거되지 않은 모습을 볼 수 있습니다. 중복치 제거를 해주기 위해서 Python의 기본 자료형 set를 활용하겠습니다. 하지만 set는 순서를 고려하지 않기 때문에 만약 순서가 중요한 데이터를 다룬다면 다른 방법으로 중복치를 제거해야합니다.\n",
        "\n",
        "중복치를 제거한 후 앞에서 분포를 확인한 소스를 다시 실행시켜 보겠습니다.\n"
      ],
      "metadata": {
        "id": "46vO2dhCFzNl"
      }
    },
    {
      "cell_type": "code",
      "source": [
        "min_len = 999\n",
        "max_len = 0\n",
        "sum_len = 0\n",
        "\n",
        "cleaned_corpus = list(set(raw))\n",
        "print('Data Size : ', len(cleaned_corpus))\n",
        "\n",
        "for sen in cleaned_corpus:\n",
        "  length = len(sen)\n",
        "  if length < min_len:\n",
        "    min_len = length\n",
        "  if max_len < length:\n",
        "    max_len = length\n",
        "  sum_len += length\n",
        "\n",
        "print('문장의 최단 길이 : ', min_len)\n",
        "print('문장의 최장 길이 : ', max_len)\n",
        "print('문장의 평균 길이 : ', sum_len // len(cleaned_corpus))\n",
        "\n",
        "sentence_length = np.zeros((max_len), dtype=np.int)\n",
        "\n",
        "for sen in cleaned_corpus:\n",
        "  sentence_length[len(sen)-1] += 1\n",
        "\n",
        "plt.bar(range(max_len), sentence_length, width=1.0)\n",
        "plt.title('Sentence Length Distribution')\n",
        "plt.show()"
      ],
      "metadata": {
        "colab": {
          "base_uri": "https://localhost:8080/",
          "height": 408
        },
        "id": "6UU5xSEBFtQb",
        "outputId": "ee37c435-27e6-4676-fe7e-7d88ab07a5bb"
      },
      "execution_count": null,
      "outputs": [
        {
          "output_type": "stream",
          "name": "stdout",
          "text": [
            "Data Size :  77591\n",
            "문장의 최단 길이 :  1\n",
            "문장의 최장 길이 :  377\n",
            "문장의 평균 길이 :  64\n"
          ]
        },
        {
          "output_type": "stream",
          "name": "stderr",
          "text": [
            "/usr/local/lib/python3.7/dist-packages/ipykernel_launcher.py:20: DeprecationWarning: `np.int` is a deprecated alias for the builtin `int`. To silence this warning, use `int` by itself. Doing this will not modify any behavior and is safe. When replacing `np.int`, you may wish to use e.g. `np.int64` or `np.int32` to specify the precision. If you wish to review your current use, check the release note link for additional information.\n",
            "Deprecated in NumPy 1.20; for more details and guidance: https://numpy.org/devdocs/release/1.20.0-notes.html#deprecations\n"
          ]
        },
        {
          "output_type": "display_data",
          "data": {
            "text/plain": [
              "<Figure size 432x288 with 1 Axes>"
            ],
            "image/png": "[encoded data removed]"
          },
          "metadata": {
            "needs_background": "light"
          }
        }
      ]
    },
    {
      "cell_type": "markdown",
      "source": [
        "처음에 비해 분포 그래프가 깔끔해진 것을 볼 수 있습니다.\n",
        "이제 여기서 생각해볼것은 모든 데이터를 전부 사용할것인가에 대한 것입니다.\n",
        "데이터를 모델에 넣는다고 생각했을때 가장 긴 데이터를 기준으로 Padding처리를 해야합니다. 그 때를 고려하여 길이 150이 넘는 데이터는 제거하고 사용하도록 하겠습니다. \n",
        "그리고 길이가 너무 짧은 10미만인 데이터도 제거하도록 하겠습니다."
      ],
      "metadata": {
        "id": "TW46Zx5SHItD"
      }
    },
    {
      "cell_type": "code",
      "source": [
        "max_len = 150\n",
        "min_len = 10\n",
        "\n",
        "filtered_corpus = [s for s in cleaned_corpus if (len(s) < max_len) and (len(s) >= min_len)]\n",
        "\n",
        "sentence_length = np.zeros((max_len), dtype=np.int)\n",
        "\n",
        "for sen in filtered_corpus:\n",
        "  sentence_length[len(sen)-1] += 1\n",
        "\n",
        "plt.bar(range(max_len), sentence_length, width=1.0)\n",
        "plt.title('Sentence Length Distribution')\n",
        "plt.show()"
      ],
      "metadata": {
        "colab": {
          "base_uri": "https://localhost:8080/",
          "height": 355
        },
        "id": "0nE0qsGbG_yR",
        "outputId": "a4be07f1-6014-42e1-bb97-ee621535f82f"
      },
      "execution_count": null,
      "outputs": [
        {
          "output_type": "stream",
          "name": "stderr",
          "text": [
            "/usr/local/lib/python3.7/dist-packages/ipykernel_launcher.py:6: DeprecationWarning: `np.int` is a deprecated alias for the builtin `int`. To silence this warning, use `int` by itself. Doing this will not modify any behavior and is safe. When replacing `np.int`, you may wish to use e.g. `np.int64` or `np.int32` to specify the precision. If you wish to review your current use, check the release note link for additional information.\n",
            "Deprecated in NumPy 1.20; for more details and guidance: https://numpy.org/devdocs/release/1.20.0-notes.html#deprecations\n",
            "  \n"
          ]
        },
        {
          "output_type": "display_data",
          "data": {
            "text/plain": [
              "<Figure size 432x288 with 1 Axes>"
            ],
            "image/png": "[encoded data removed]"
          },
          "metadata": {
            "needs_background": "light"
          }
        }
      ]
    },
    {
      "cell_type": "markdown",
      "source": [
        "## 공백 기반 토큰화\n",
        "\n",
        "정제된 데이터를 공백 기반으로 토큰화하여 list에 저장한 후, 아래 tokenize() 함수를 사용해 단어 사전과 Tensor 데이터를 얻고, 단어 사전의 크기를 확인 해보겠습니다."
      ],
      "metadata": {
        "id": "pMWqGTMHIPBo"
      }
    },
    {
      "cell_type": "code",
      "source": [
        "def tokenize(corpus):\n",
        "  tokenizer = tf.keras.preprocessing.text.Tokenizer(filters='')\n",
        "  tokenizer.fit_on_texts(corpus)\n",
        "\n",
        "  tensor = tokenizer.texts_to_sequences(corpus)\n",
        "\n",
        "  tensor = tf.keras.preprocessing.sequence.pad_sequences(tensor, padding='post')\n",
        "\n",
        "  return tensor, tokenizer"
      ],
      "metadata": {
        "id": "ZtaywDVvIIlc"
      },
      "execution_count": null,
      "outputs": []
    },
    {
      "cell_type": "code",
      "source": [
        "filtered_corpus[1]"
      ],
      "metadata": {
        "colab": {
          "base_uri": "https://localhost:8080/",
          "height": 36
        },
        "id": "ZuF__FZPKfnH",
        "outputId": "4791d66a-6c85-4237-c7df-6be75df136be"
      },
      "execution_count": null,
      "outputs": [
        {
          "output_type": "execute_result",
          "data": {
            "text/plain": [
              "'지도자들은 저항세력과 대화하는 데 동의했습니다.'"
            ],
            "application/vnd.google.colaboratory.intrinsic+json": {
              "type": "string"
            }
          },
          "metadata": {},
          "execution_count": 11
        }
      ]
    },
    {
      "cell_type": "markdown",
      "source": [
        "먼저 공백을 기준으로 문장을 나눠서 split_corpus 리스트에 넣어주겠습니다."
      ],
      "metadata": {
        "id": "n2DLdjBHLh6s"
      }
    },
    {
      "cell_type": "code",
      "source": [
        "split_corpus = []\n",
        "\n",
        "for kor in filtered_corpus:\n",
        "  split_corpus.append(kor.split())"
      ],
      "metadata": {
        "id": "i_u3QzygKNk8"
      },
      "execution_count": null,
      "outputs": []
    },
    {
      "cell_type": "code",
      "source": [
        "split_corpus[1:3]"
      ],
      "metadata": {
        "colab": {
          "base_uri": "https://localhost:8080/"
        },
        "id": "c1nA8TRWLRZo",
        "outputId": "56eec506-22ca-4ce4-808a-7ef96a86181d"
      },
      "execution_count": null,
      "outputs": [
        {
          "output_type": "execute_result",
          "data": {
            "text/plain": [
              "[['지도자들은', '저항세력과', '대화하는', '데', '동의했습니다.'],\n",
              " ['barrage', '집중', '공세,', '집중', '사격']]"
            ]
          },
          "metadata": {},
          "execution_count": 13
        }
      ]
    },
    {
      "cell_type": "markdown",
      "source": [
        "이제 공백 기반 토큰화를 진행한 후, 단어 사전의 길이를 확인해보겠습니다.\n"
      ],
      "metadata": {
        "id": "RGJc8oWzLcd-"
      }
    },
    {
      "cell_type": "code",
      "source": [
        "split_tensor, split_tokenizer = tokenize(split_corpus)\n",
        "\n",
        "print('Split Vocab Size : ', len(split_tokenizer.index_word))"
      ],
      "metadata": {
        "colab": {
          "base_uri": "https://localhost:8080/"
        },
        "id": "dXzMqnT_Lv64",
        "outputId": "a9a0b5b8-8fa7-4760-a7b9-ed82d1037464"
      },
      "execution_count": null,
      "outputs": [
        {
          "output_type": "stream",
          "name": "stdout",
          "text": [
            "Split Vocab Size :  237435\n"
          ]
        }
      ]
    },
    {
      "cell_type": "code",
      "source": [
        "# 생성된 단어 사전 확인\n",
        "\n",
        "for idx, word in enumerate(split_tokenizer.word_index):\n",
        "  print(idx, ':', word)\n",
        "\n",
        "  if idx > 10:\n",
        "    break"
      ],
      "metadata": {
        "colab": {
          "base_uri": "https://localhost:8080/"
        },
        "id": "H6BXwOehMAcW",
        "outputId": "63c9d582-e9ec-477c-855c-9ade01e978ef"
      },
      "execution_count": null,
      "outputs": [
        {
          "output_type": "stream",
          "name": "stdout",
          "text": [
            "0 : 이\n",
            "1 : 밝혔다.\n",
            "2 : 있다.\n",
            "3 : 말했다.\n",
            "4 : 수\n",
            "5 : 있는\n",
            "6 : 그는\n",
            "7 : 대한\n",
            "8 : 위해\n",
            "9 : 전했다.\n",
            "10 : 지난\n",
            "11 : 이번\n"
          ]
        }
      ]
    },
    {
      "cell_type": "markdown",
      "source": [
        "결과를 보면 공백 기반 토큰화의 문제점을 확인할 수 있습니다. 1번의 밝혔다. 는 밝히다, 밝다 등과 유사한 의미이지만 전혀 다른 단어로 분류되어 있습니다. 이처럼 공백 기반 토큰화는 불필요하게 큰 단어 사전을 가지게 되며 이는 연산량 증가로 이어집니다.\n",
        "\n",
        "만약에 밝+혔다 로 토큰화 했다면 밝+히다, 밝+다 같은 구절이 등장했을 때, 공통된 어절인 밝 은 하나로 묶여 학습 중 의미 파악이 쉬울것입니다. 이를 위해 형태소 분석기가 존재합니다."
      ],
      "metadata": {
        "id": "ghf2trk4MNVv"
      }
    },
    {
      "cell_type": "markdown",
      "source": [
        "## 형태소 기반 토큰화\n",
        "\n",
        "한국어 형태소 분석기는 대표적으로 Khaiii 와 KoNLPy가 사용됩니다. 이번에는 KoNLPy의 MeCab클래스를 활용해 실습해보겠습니다."
      ],
      "metadata": {
        "id": "paWpGqIcMq7Z"
      }
    },
    {
      "cell_type": "code",
      "source": [
        "tokenizer = Mecab()\n",
        "\n",
        "def mecab_split(sentence):\n",
        "  tokenized_sentence = tokenizer.morphs(sentence)\n",
        "\n",
        "  return tokenized_sentence\n",
        "\n",
        "mecab_corpus = []\n",
        "\n",
        "for kor in filtered_corpus:\n",
        "  mecab_corpus.append(mecab_split(kor))"
      ],
      "metadata": {
        "id": "prBlt8btMKdU"
      },
      "execution_count": null,
      "outputs": []
    },
    {
      "cell_type": "markdown",
      "source": [
        "이제 형태소 기반 토큰화를 진행한 후의 단어 사전의 길이를 확인해보겠습니다.\n"
      ],
      "metadata": {
        "id": "1e85NTIlOXIe"
      }
    },
    {
      "cell_type": "code",
      "source": [
        "mecab_tensor, mecab_tokenizer = tokenize(mecab_corpus)\n",
        "\n",
        "print('MeCab Vocab Size : ', len(mecab_tokenizer.word_index))"
      ],
      "metadata": {
        "colab": {
          "base_uri": "https://localhost:8080/"
        },
        "id": "yh6spfRSOUiF",
        "outputId": "fcd77818-42c0-4888-d061-27213f3d888c"
      },
      "execution_count": null,
      "outputs": [
        {
          "output_type": "stream",
          "name": "stdout",
          "text": [
            "MeCab Vocab Size :  52279\n"
          ]
        }
      ]
    },
    {
      "cell_type": "markdown",
      "source": [
        "앞에서 본 공백 기반 토큰화 진행 후의 단어 사전의 길이와 비교해보면 현저히 줄어든 것을 확인할 수 있습니다. 이는 곧 연산량을 감소로 이어져 더 빠른 학습을 가능하게 하고, 모델의 파라미터수를 줄어들게해 학습도 더 잘됩니다. \n",
        "\n",
        "https://aiopen.etri.re.kr/service_dataset.php\n",
        "\n",
        "형태소 분석기로 유명한 KorBERT 모델의 구조를 볼 수 있는 링크입니다."
      ],
      "metadata": {
        "id": "L-kek9oGOo57"
      }
    },
    {
      "cell_type": "markdown",
      "source": [
        "이번에는 tensor로 encoding된 문장을 다시 decoding 해보겠습니다."
      ],
      "metadata": {
        "id": "iiCf93PqQuyF"
      }
    },
    {
      "cell_type": "code",
      "source": [
        "mecab_tensor"
      ],
      "metadata": {
        "colab": {
          "base_uri": "https://localhost:8080/"
        },
        "id": "qqL0MNEYRg5W",
        "outputId": "4e2ce252-63f2-48f7-b224-06a7dbf3eab6"
      },
      "execution_count": null,
      "outputs": [
        {
          "output_type": "execute_result",
          "data": {
            "text/plain": [
              "array([[  148,   272,    14, ...,     0,     0,     0],\n",
              "       [  276,    14,     8, ...,     0,     0,     0],\n",
              "       [32434,  1390,  5010, ...,     0,     0,     0],\n",
              "       ...,\n",
              "       [  390,     4,  3057, ...,     0,     0,     0],\n",
              "       [ 2963,    15,   408, ...,     0,     0,     0],\n",
              "       [   30,    15,   162, ...,     0,     0,     0]], dtype=int32)"
            ]
          },
          "metadata": {},
          "execution_count": 18
        }
      ]
    },
    {
      "cell_type": "code",
      "source": [
        "# Case 1 : tokenizer.sequences_to_texts()\n",
        "\n",
        "texts = mecab_tokenizer.sequences_to_texts([mecab_tensor[100]])\n",
        "texts[0]"
      ],
      "metadata": {
        "colab": {
          "base_uri": "https://localhost:8080/",
          "height": 54
        },
        "id": "lEYMfW4zOkLR",
        "outputId": "749d6066-d416-41cc-a84c-77369397e087"
      },
      "execution_count": null,
      "outputs": [
        {
          "output_type": "execute_result",
          "data": {
            "text/plain": [
              "'엘튼 존 은 이날 공식 웹 사이트 를 통해 ‘ 클 래라 앤드 이다 밸리 댄싱 ’( klara and edda belly - dancing ) 사진 의 주인 이 라고 말 했 다 .'"
            ],
            "application/vnd.google.colaboratory.intrinsic+json": {
              "type": "string"
            }
          },
          "metadata": {},
          "execution_count": 19
        }
      ]
    },
    {
      "cell_type": "code",
      "source": [
        "sentence = ''\n",
        "\n",
        "for w in mecab_tensor[100]:\n",
        "  if w==0:\n",
        "    continue\n",
        "  sentence += mecab_tokenizer.index_word[w]+ ' '\n",
        "\n",
        "print(sentence)"
      ],
      "metadata": {
        "colab": {
          "base_uri": "https://localhost:8080/"
        },
        "id": "8mhn05isQ-Pa",
        "outputId": "1af777d5-245d-492a-fb29-82dca96e874c"
      },
      "execution_count": null,
      "outputs": [
        {
          "output_type": "stream",
          "name": "stdout",
          "text": [
            "엘튼 존 은 이날 공식 웹 사이트 를 통해 ‘ 클 래라 앤드 이다 밸리 댄싱 ’( klara and edda belly - dancing ) 사진 의 주인 이 라고 말 했 다 . \n"
          ]
        }
      ]
    },
    {
      "cell_type": "markdown",
      "source": [
        "## SentencePiece 사용하기\n",
        "\n",
        "라이브러리 버전을 한 번 확인해보겠습니다."
      ],
      "metadata": {
        "id": "xjxN0dEmSsBn"
      }
    },
    {
      "cell_type": "code",
      "source": [
        "import tensorflow as tf\n",
        "import numpy as np\n",
        "import matplotlib.pyplot as plt\n",
        "import matplotlib\n",
        "import konlpy\n",
        "\n",
        "print(tf.__version__)\n",
        "print(np.__version__)\n",
        "print(matplotlib.__version__)\n",
        "print(konlpy.__version__)"
      ],
      "metadata": {
        "colab": {
          "base_uri": "https://localhost:8080/"
        },
        "id": "IhBkeRPtShS4",
        "outputId": "3580359a-b573-4c14-f551-260e5cfe5cac"
      },
      "execution_count": null,
      "outputs": [
        {
          "output_type": "stream",
          "name": "stdout",
          "text": [
            "2.8.2\n",
            "1.21.6\n",
            "3.2.2\n",
            "0.6.0\n"
          ]
        }
      ]
    },
    {
      "cell_type": "markdown",
      "source": [
        "1. SentencePiece 설치\n",
        "\n",
        "https://github.com/google/sentencepiece\n",
        "\n",
        "위 링크에서 자세한 내용을 볼 수 있습니다."
      ],
      "metadata": {
        "id": "AIrbaUvATnN2"
      }
    },
    {
      "cell_type": "code",
      "source": [
        "!pip install sentencepiece"
      ],
      "metadata": {
        "colab": {
          "base_uri": "https://localhost:8080/"
        },
        "id": "8-uFaBdVTBCr",
        "outputId": "951b9ad1-302e-46c2-db50-2547c960ee81"
      },
      "execution_count": null,
      "outputs": [
        {
          "output_type": "stream",
          "name": "stdout",
          "text": [
            "Looking in indexes: https://pypi.org/simple, https://us-python.pkg.dev/colab-wheels/public/simple/\n",
            "Requirement already satisfied: sentencepiece in /usr/local/lib/python3.7/dist-packages (0.1.97)\n"
          ]
        }
      ]
    },
    {
      "cell_type": "markdown",
      "source": [
        "SentencePiece 모델을 학습하겠습니다."
      ],
      "metadata": {
        "id": "fwdoZdWWUOZg"
      }
    },
    {
      "cell_type": "code",
      "source": [
        "import sentencepiece as spm\n",
        "temp_file_path = '/content/drive/MyDrive/AIFFEL/GoingDeeper(NLP)/2_단어사전만들기/korean-english-park.train.ko.temp2'\n",
        "\n",
        "vocab_size = 8000\n",
        "\n",
        "with open(temp_file_path, 'w') as f:\n",
        "  for row in filtered_corpus:\n",
        "    f.write(str(row) + '\\n')\n",
        "\n",
        "spm.SentencePieceTrainer.Train(\n",
        "    '--input={} --model_prefix=korean_spm --vocab_size={} --model_type=unigram'.format(temp_file_path, vocab_size)\n",
        ")\n",
        "#위 Train에서  --model_type = 'unigram'이 디폴트 적용되어 있습니다. --model_type = 'bpe' 로 옵션을 주어 변경할 수 있습니다.\n",
        "\n",
        "!ls -l korean_spm*"
      ],
      "metadata": {
        "colab": {
          "base_uri": "https://localhost:8080/"
        },
        "id": "gW3CSBQJT1OA",
        "outputId": "63b8f3a6-1dfc-4735-ec7d-954c0d5b0ae8"
      },
      "execution_count": null,
      "outputs": [
        {
          "output_type": "stream",
          "name": "stdout",
          "text": [
            "-rw-r--r-- 1 root root 376898 Sep 24 08:45 korean_spm.model\n",
            "-rw-r--r-- 1 root root 146218 Sep 24 08:45 korean_spm.vocab\n"
          ]
        }
      ]
    },
    {
      "cell_type": "markdown",
      "source": [
        "korean_spm.model, korean_spm.vocab 파일이 생성되었음을 볼 수 있습니다.\n",
        "\n",
        "이제 학습된 SentencePiece 모델을 어떻게 활용하는지 살펴보겠습니다."
      ],
      "metadata": {
        "id": "eFF7rNuBVVUZ"
      }
    },
    {
      "cell_type": "code",
      "source": [
        "s = spm.SentencePieceProcessor()\n",
        "s.Load('korean_spm.model')\n",
        "\n",
        "# SentencePiece를 활용한 sentence -> encoding\n",
        "tokensIDs = s.EncodeAsIds(\"아버지가 방...에들어가신다.\")\n",
        "print(tokensIDs)\n",
        "\n",
        "# SentencePiece를 활용한 sentence -> encoded pieces\n",
        "print(s.SampleEncodeAsPieces('아버지가방에들어가신다.',2 ,0.0))\n",
        "\n",
        "# SentencePiece를 활용한 encoding -> sentence 복원\n",
        "print(s.DecodeIds(tokensIDs))"
      ],
      "metadata": {
        "colab": {
          "base_uri": "https://localhost:8080/"
        },
        "id": "31bjweLFVelG",
        "outputId": "2c27b5f0-e2bd-4a26-b063-33341113702e"
      },
      "execution_count": null,
      "outputs": [
        {
          "output_type": "stream",
          "name": "stdout",
          "text": [
            "[1243, 11, 830, 3, 3, 3, 7, 3608, 11, 287, 38, 3]\n",
            "['▁아버지', '가', '방', '에', '들', '어', '가', '신', '다', '.']\n",
            "아버지가 방...에들어가신다.\n"
          ]
        }
      ]
    },
    {
      "cell_type": "code",
      "source": [
        "s.EncodeAsIds('안녕하세요')"
      ],
      "metadata": {
        "colab": {
          "base_uri": "https://localhost:8080/"
        },
        "id": "XGECetinGUNg",
        "outputId": "061367ba-af56-4362-e919-712e5014bfcb"
      },
      "execution_count": null,
      "outputs": [
        {
          "output_type": "execute_result",
          "data": {
            "text/plain": [
              "[277, 7746, 170, 103, 514]"
            ]
          },
          "metadata": {},
          "execution_count": 25
        }
      ]
    },
    {
      "cell_type": "code",
      "source": [
        "type('안녕하세요')"
      ],
      "metadata": {
        "colab": {
          "base_uri": "https://localhost:8080/"
        },
        "id": "2XyzQjZkGaWe",
        "outputId": "26dfeff8-2762-4316-8ede-b91547bd2144"
      },
      "execution_count": null,
      "outputs": [
        {
          "output_type": "execute_result",
          "data": {
            "text/plain": [
              "str"
            ]
          },
          "metadata": {},
          "execution_count": 26
        }
      ]
    },
    {
      "cell_type": "markdown",
      "source": [
        "Tokenizer 함수 작성\n",
        "\n",
        "바로 앞에서 훈련시킨 Sentencepiece를 활용하여 위 함수와 유사한 기능을 하는 sp_tokenize()함수를 정의하겠습니다. 함수는 아래 기능을 갖고 있습니다.\n",
        "\n",
        "1. 매개변수로 토큰화된 문장의 리스트를 전달하는 게 아니라 온전한 문장의 리스트를 전달합니다.\n",
        "2. 생성된 vocab 파일을 읽어와 { 단어 : 인덱스 } 형태를 가지는 word_index 사전과 {인덱스 : 단어} 형태를 가지는 index_word 사전을 생성하고 함께 반환합니다.\n",
        "3. tensor는 토큰화한 후 인코딩된 문장입니다.(인덱스화)"
      ],
      "metadata": {
        "id": "eLeipbC8vI4w"
      }
    },
    {
      "cell_type": "code",
      "source": [
        "def sp_tokenize(s, corpus):\n",
        "  tensor = []\n",
        "\n",
        "  for sen in corpus:\n",
        "    tensor.append(s.EncodeAsIds(sen))\n",
        "  \n",
        "  with open(\"./korean_spm.vocab\", 'r') as f:\n",
        "    vocab = f.readlines()\n",
        "  \n",
        "  word_index = {}\n",
        "  index_word = {}\n",
        "\n",
        "  for idx, line in enumerate(vocab):\n",
        "    word = line.split(\"\\t\")[0]\n",
        "\n",
        "    word_index.update({word:idx})\n",
        "    index_word.update({idx:word})\n",
        "  \n",
        "  tensor = tensorflow.keras.preprocessing.sequence.pad_sequences(tensor, padding='post')\n",
        "\n",
        "  return tensor, word_index, index_word"
      ],
      "metadata": {
        "id": "wsZO1ZG4aGOz"
      },
      "execution_count": null,
      "outputs": []
    },
    {
      "cell_type": "code",
      "source": [
        "# 사용 예시\n",
        "\n",
        "my_corpus =['나는 밥을 먹었습니다.', '그러나 여전히 ㅠㅠ 배가 고픕니다...']\n",
        "tensor, word_index, index_word = sp_tokenize(s, my_corpus)\n",
        "print(tensor)"
      ],
      "metadata": {
        "id": "qckVEulUwex6"
      },
      "execution_count": null,
      "outputs": []
    },
    {
      "cell_type": "markdown",
      "source": [
        "## 실습. 영화리뷰 감성 분석"
      ],
      "metadata": {
        "id": "K6l6OIzokruz"
      }
    },
    {
      "cell_type": "markdown",
      "source": [
        "이번엔 SentencePiece를 이용해 네이버 영화리뷰 감정 분석을 해보겠습니다.\n",
        "\n",
        "그리고 KoNLPy에 Mecab의 결과와 비교해보겠습니다."
      ],
      "metadata": {
        "id": "s58GgbI9xppV"
      }
    },
    {
      "cell_type": "markdown",
      "source": [
        "### SentencePiece(unigram)"
      ],
      "metadata": {
        "id": "Y7ZOCmqxoQPX"
      }
    },
    {
      "cell_type": "code",
      "source": [
        "import pandas as pd\n",
        "import numpy as np\n",
        "import tensorflow as tf\n",
        "\n",
        "\n",
        "train_data = pd.read_table('/content/drive/MyDrive/AIFFEL/GoingDeeper(NLP)/2_단어사전만들기/ratings_train.txt')\n",
        "test_data = pd.read_table('/content/drive/MyDrive/AIFFEL/GoingDeeper(NLP)/2_단어사전만들기/ratings_test.txt')\n"
      ],
      "metadata": {
        "id": "JUAaPUypwqGg"
      },
      "execution_count": null,
      "outputs": []
    },
    {
      "cell_type": "code",
      "source": [
        "train_data.shape"
      ],
      "metadata": {
        "colab": {
          "base_uri": "https://localhost:8080/"
        },
        "id": "Yq8_Hi6cyV5I",
        "outputId": "927df89a-0e96-4dfa-fac3-307091980314"
      },
      "execution_count": null,
      "outputs": [
        {
          "output_type": "execute_result",
          "data": {
            "text/plain": [
              "(150000, 3)"
            ]
          },
          "metadata": {},
          "execution_count": 30
        }
      ]
    },
    {
      "cell_type": "code",
      "source": [
        "train_data.head()"
      ],
      "metadata": {
        "colab": {
          "base_uri": "https://localhost:8080/",
          "height": 206
        },
        "id": "3lZC-lkCyYYf",
        "outputId": "8baac75a-a7ed-4320-c782-d10f0283c09c"
      },
      "execution_count": null,
      "outputs": [
        {
          "output_type": "execute_result",
          "data": {
            "text/plain": [
              "         id                                           document  label\n",
              "0   9976970                                아 더빙.. 진짜 짜증나네요 목소리      0\n",
              "1   3819312                  흠...포스터보고 초딩영화줄....오버연기조차 가볍지 않구나      1\n",
              "2  10265843                                  너무재밓었다그래서보는것을추천한다      0\n",
              "3   9045019                      교도소 이야기구먼 ..솔직히 재미는 없다..평점 조정      0\n",
              "4   6483659  사이몬페그의 익살스런 연기가 돋보였던 영화!스파이더맨에서 늙어보이기만 했던 커스틴 ...      1"
            ],
            "text/html": [
              "\n",
              "  <div id=\"df-3b0f5912-acd8-4221-8dde-db01927cd0de\">\n",
              "    <div class=\"colab-df-container\">\n",
              "      <div>\n",
              "<style scoped>\n",
              "    .dataframe tbody tr th:only-of-type {\n",
              "        vertical-align: middle;\n",
              "    }\n",
              "\n",
              "    .dataframe tbody tr th {\n",
              "        vertical-align: top;\n",
              "    }\n",
              "\n",
              "    .dataframe thead th {\n",
              "        text-align: right;\n",
              "    }\n",
              "</style>\n",
              "<table border=\"1\" class=\"dataframe\">\n",
              "  <thead>\n",
              "    <tr style=\"text-align: right;\">\n",
              "      <th></th>\n",
              "      <th>id</th>\n",
              "      <th>document</th>\n",
              "      <th>label</th>\n",
              "    </tr>\n",
              "  </thead>\n",
              "  <tbody>\n",
              "    <tr>\n",
              "      <th>0</th>\n",
              "      <td>9976970</td>\n",
              "      <td>아 더빙.. 진짜 짜증나네요 목소리</td>\n",
              "      <td>0</td>\n",
              "    </tr>\n",
              "    <tr>\n",
              "      <th>1</th>\n",
              "      <td>3819312</td>\n",
              "      <td>흠...포스터보고 초딩영화줄....오버연기조차 가볍지 않구나</td>\n",
              "      <td>1</td>\n",
              "    </tr>\n",
              "    <tr>\n",
              "      <th>2</th>\n",
              "      <td>10265843</td>\n",
              "      <td>너무재밓었다그래서보는것을추천한다</td>\n",
              "      <td>0</td>\n",
              "    </tr>\n",
              "    <tr>\n",
              "      <th>3</th>\n",
              "      <td>9045019</td>\n",
              "      <td>교도소 이야기구먼 ..솔직히 재미는 없다..평점 조정</td>\n",
              "      <td>0</td>\n",
              "    </tr>\n",
              "    <tr>\n",
              "      <th>4</th>\n",
              "      <td>6483659</td>\n",
              "      <td>사이몬페그의 익살스런 연기가 돋보였던 영화!스파이더맨에서 늙어보이기만 했던 커스틴 ...</td>\n",
              "      <td>1</td>\n",
              "    </tr>\n",
              "  </tbody>\n",
              "</table>\n",
              "</div>\n",
              "      <button class=\"colab-df-convert\" onclick=\"convertToInteractive('df-3b0f5912-acd8-4221-8dde-db01927cd0de')\"\n",
              "              title=\"Convert this dataframe to an interactive table.\"\n",
              "              style=\"display:none;\">\n",
              "        \n",
              "  <svg xmlns=\"http://www.w3.org/2000/svg\" height=\"24px\"viewBox=\"0 0 24 24\"\n",
              "       width=\"24px\">\n",
              "    <path d=\"M0 0h24v24H0V0z\" fill=\"none\"/>\n",
              "    <path d=\"M18.56 5.44l.94 2.06.94-2.06 2.06-.94-2.06-.94-.94-2.06-.94 2.06-2.06.94zm-11 1L8.5 8.5l.94-2.06 2.06-.94-2.06-.94L8.5 2.5l-.94 2.06-2.06.94zm10 10l.94 2.06.94-2.06 2.06-.94-2.06-.94-.94-2.06-.94 2.06-2.06.94z\"/><path d=\"M17.41 7.96l-1.37-1.37c-.4-.4-.92-.59-1.43-.59-.52 0-1.04.2-1.43.59L10.3 9.45l-7.72 7.72c-.78.78-.78 2.05 0 2.83L4 21.41c.39.39.9.59 1.41.59.51 0 1.02-.2 1.41-.59l7.78-7.78 2.81-2.81c.8-.78.8-2.07 0-2.86zM5.41 20L4 18.59l7.72-7.72 1.47 1.35L5.41 20z\"/>\n",
              "  </svg>\n",
              "      </button>\n",
              "      \n",
              "  <style>\n",
              "    .colab-df-container {\n",
              "      display:flex;\n",
              "      flex-wrap:wrap;\n",
              "      gap: 12px;\n",
              "    }\n",
              "\n",
              "    .colab-df-convert {\n",
              "      background-color: #E8F0FE;\n",
              "      border: none;\n",
              "      border-radius: 50%;\n",
              "      cursor: pointer;\n",
              "      display: none;\n",
              "      fill: #1967D2;\n",
              "      height: 32px;\n",
              "      padding: 0 0 0 0;\n",
              "      width: 32px;\n",
              "    }\n",
              "\n",
              "    .colab-df-convert:hover {\n",
              "      background-color: #E2EBFA;\n",
              "      box-shadow: 0px 1px 2px rgba(60, 64, 67, 0.3), 0px 1px 3px 1px rgba(60, 64, 67, 0.15);\n",
              "      fill: #174EA6;\n",
              "    }\n",
              "\n",
              "    [theme=dark] .colab-df-convert {\n",
              "      background-color: #3B4455;\n",
              "      fill: #D2E3FC;\n",
              "    }\n",
              "\n",
              "    [theme=dark] .colab-df-convert:hover {\n",
              "      background-color: #434B5C;\n",
              "      box-shadow: 0px 1px 3px 1px rgba(0, 0, 0, 0.15);\n",
              "      filter: drop-shadow(0px 1px 2px rgba(0, 0, 0, 0.3));\n",
              "      fill: #FFFFFF;\n",
              "    }\n",
              "  </style>\n",
              "\n",
              "      <script>\n",
              "        const buttonEl =\n",
              "          document.querySelector('#df-3b0f5912-acd8-4221-8dde-db01927cd0de button.colab-df-convert');\n",
              "        buttonEl.style.display =\n",
              "          google.colab.kernel.accessAllowed ? 'block' : 'none';\n",
              "\n",
              "        async function convertToInteractive(key) {\n",
              "          const element = document.querySelector('#df-3b0f5912-acd8-4221-8dde-db01927cd0de');\n",
              "          const dataTable =\n",
              "            await google.colab.kernel.invokeFunction('convertToInteractive',\n",
              "                                                     [key], {});\n",
              "          if (!dataTable) return;\n",
              "\n",
              "          const docLinkHtml = 'Like what you see? Visit the ' +\n",
              "            '<a target=\"_blank\" href=https://colab.research.google.com/notebooks/data_table.ipynb>data table notebook</a>'\n",
              "            + ' to learn more about interactive tables.';\n",
              "          element.innerHTML = '';\n",
              "          dataTable['output_type'] = 'display_data';\n",
              "          await google.colab.output.renderOutput(dataTable, element);\n",
              "          const docLink = document.createElement('div');\n",
              "          docLink.innerHTML = docLinkHtml;\n",
              "          element.appendChild(docLink);\n",
              "        }\n",
              "      </script>\n",
              "    </div>\n",
              "  </div>\n",
              "  "
            ]
          },
          "metadata": {},
          "execution_count": 31
        }
      ]
    },
    {
      "cell_type": "code",
      "source": [
        "all_data = pd.concat([train_data, test_data], axis=0, ignore_index=True)"
      ],
      "metadata": {
        "id": "gcad1mGxynMu"
      },
      "execution_count": null,
      "outputs": []
    },
    {
      "cell_type": "code",
      "source": [
        "all_data.head()"
      ],
      "metadata": {
        "colab": {
          "base_uri": "https://localhost:8080/",
          "height": 206
        },
        "id": "4hvWi2hyyuj4",
        "outputId": "6d42997e-53d9-40ec-cb5b-16bcd83a0164"
      },
      "execution_count": null,
      "outputs": [
        {
          "output_type": "execute_result",
          "data": {
            "text/plain": [
              "         id                                           document  label\n",
              "0   9976970                                아 더빙.. 진짜 짜증나네요 목소리      0\n",
              "1   3819312                  흠...포스터보고 초딩영화줄....오버연기조차 가볍지 않구나      1\n",
              "2  10265843                                  너무재밓었다그래서보는것을추천한다      0\n",
              "3   9045019                      교도소 이야기구먼 ..솔직히 재미는 없다..평점 조정      0\n",
              "4   6483659  사이몬페그의 익살스런 연기가 돋보였던 영화!스파이더맨에서 늙어보이기만 했던 커스틴 ...      1"
            ],
            "text/html": [
              "\n",
              "  <div id=\"df-85a47e08-b640-4881-8afe-0c28f83ceddd\">\n",
              "    <div class=\"colab-df-container\">\n",
              "      <div>\n",
              "<style scoped>\n",
              "    .dataframe tbody tr th:only-of-type {\n",
              "        vertical-align: middle;\n",
              "    }\n",
              "\n",
              "    .dataframe tbody tr th {\n",
              "        vertical-align: top;\n",
              "    }\n",
              "\n",
              "    .dataframe thead th {\n",
              "        text-align: right;\n",
              "    }\n",
              "</style>\n",
              "<table border=\"1\" class=\"dataframe\">\n",
              "  <thead>\n",
              "    <tr style=\"text-align: right;\">\n",
              "      <th></th>\n",
              "      <th>id</th>\n",
              "      <th>document</th>\n",
              "      <th>label</th>\n",
              "    </tr>\n",
              "  </thead>\n",
              "  <tbody>\n",
              "    <tr>\n",
              "      <th>0</th>\n",
              "      <td>9976970</td>\n",
              "      <td>아 더빙.. 진짜 짜증나네요 목소리</td>\n",
              "      <td>0</td>\n",
              "    </tr>\n",
              "    <tr>\n",
              "      <th>1</th>\n",
              "      <td>3819312</td>\n",
              "      <td>흠...포스터보고 초딩영화줄....오버연기조차 가볍지 않구나</td>\n",
              "      <td>1</td>\n",
              "    </tr>\n",
              "    <tr>\n",
              "      <th>2</th>\n",
              "      <td>10265843</td>\n",
              "      <td>너무재밓었다그래서보는것을추천한다</td>\n",
              "      <td>0</td>\n",
              "    </tr>\n",
              "    <tr>\n",
              "      <th>3</th>\n",
              "      <td>9045019</td>\n",
              "      <td>교도소 이야기구먼 ..솔직히 재미는 없다..평점 조정</td>\n",
              "      <td>0</td>\n",
              "    </tr>\n",
              "    <tr>\n",
              "      <th>4</th>\n",
              "      <td>6483659</td>\n",
              "      <td>사이몬페그의 익살스런 연기가 돋보였던 영화!스파이더맨에서 늙어보이기만 했던 커스틴 ...</td>\n",
              "      <td>1</td>\n",
              "    </tr>\n",
              "  </tbody>\n",
              "</table>\n",
              "</div>\n",
              "      <button class=\"colab-df-convert\" onclick=\"convertToInteractive('df-85a47e08-b640-4881-8afe-0c28f83ceddd')\"\n",
              "              title=\"Convert this dataframe to an interactive table.\"\n",
              "              style=\"display:none;\">\n",
              "        \n",
              "  <svg xmlns=\"http://www.w3.org/2000/svg\" height=\"24px\"viewBox=\"0 0 24 24\"\n",
              "       width=\"24px\">\n",
              "    <path d=\"M0 0h24v24H0V0z\" fill=\"none\"/>\n",
              "    <path d=\"M18.56 5.44l.94 2.06.94-2.06 2.06-.94-2.06-.94-.94-2.06-.94 2.06-2.06.94zm-11 1L8.5 8.5l.94-2.06 2.06-.94-2.06-.94L8.5 2.5l-.94 2.06-2.06.94zm10 10l.94 2.06.94-2.06 2.06-.94-2.06-.94-.94-2.06-.94 2.06-2.06.94z\"/><path d=\"M17.41 7.96l-1.37-1.37c-.4-.4-.92-.59-1.43-.59-.52 0-1.04.2-1.43.59L10.3 9.45l-7.72 7.72c-.78.78-.78 2.05 0 2.83L4 21.41c.39.39.9.59 1.41.59.51 0 1.02-.2 1.41-.59l7.78-7.78 2.81-2.81c.8-.78.8-2.07 0-2.86zM5.41 20L4 18.59l7.72-7.72 1.47 1.35L5.41 20z\"/>\n",
              "  </svg>\n",
              "      </button>\n",
              "      \n",
              "  <style>\n",
              "    .colab-df-container {\n",
              "      display:flex;\n",
              "      flex-wrap:wrap;\n",
              "      gap: 12px;\n",
              "    }\n",
              "\n",
              "    .colab-df-convert {\n",
              "      background-color: #E8F0FE;\n",
              "      border: none;\n",
              "      border-radius: 50%;\n",
              "      cursor: pointer;\n",
              "      display: none;\n",
              "      fill: #1967D2;\n",
              "      height: 32px;\n",
              "      padding: 0 0 0 0;\n",
              "      width: 32px;\n",
              "    }\n",
              "\n",
              "    .colab-df-convert:hover {\n",
              "      background-color: #E2EBFA;\n",
              "      box-shadow: 0px 1px 2px rgba(60, 64, 67, 0.3), 0px 1px 3px 1px rgba(60, 64, 67, 0.15);\n",
              "      fill: #174EA6;\n",
              "    }\n",
              "\n",
              "    [theme=dark] .colab-df-convert {\n",
              "      background-color: #3B4455;\n",
              "      fill: #D2E3FC;\n",
              "    }\n",
              "\n",
              "    [theme=dark] .colab-df-convert:hover {\n",
              "      background-color: #434B5C;\n",
              "      box-shadow: 0px 1px 3px 1px rgba(0, 0, 0, 0.15);\n",
              "      filter: drop-shadow(0px 1px 2px rgba(0, 0, 0, 0.3));\n",
              "      fill: #FFFFFF;\n",
              "    }\n",
              "  </style>\n",
              "\n",
              "      <script>\n",
              "        const buttonEl =\n",
              "          document.querySelector('#df-85a47e08-b640-4881-8afe-0c28f83ceddd button.colab-df-convert');\n",
              "        buttonEl.style.display =\n",
              "          google.colab.kernel.accessAllowed ? 'block' : 'none';\n",
              "\n",
              "        async function convertToInteractive(key) {\n",
              "          const element = document.querySelector('#df-85a47e08-b640-4881-8afe-0c28f83ceddd');\n",
              "          const dataTable =\n",
              "            await google.colab.kernel.invokeFunction('convertToInteractive',\n",
              "                                                     [key], {});\n",
              "          if (!dataTable) return;\n",
              "\n",
              "          const docLinkHtml = 'Like what you see? Visit the ' +\n",
              "            '<a target=\"_blank\" href=https://colab.research.google.com/notebooks/data_table.ipynb>data table notebook</a>'\n",
              "            + ' to learn more about interactive tables.';\n",
              "          element.innerHTML = '';\n",
              "          dataTable['output_type'] = 'display_data';\n",
              "          await google.colab.output.renderOutput(dataTable, element);\n",
              "          const docLink = document.createElement('div');\n",
              "          docLink.innerHTML = docLinkHtml;\n",
              "          element.appendChild(docLink);\n",
              "        }\n",
              "      </script>\n",
              "    </div>\n",
              "  </div>\n",
              "  "
            ]
          },
          "metadata": {},
          "execution_count": 33
        }
      ]
    },
    {
      "cell_type": "code",
      "source": [
        "all_data.dropna(axis=0 ,inplace=True)"
      ],
      "metadata": {
        "id": "GY4csCUi22Es"
      },
      "execution_count": null,
      "outputs": []
    },
    {
      "cell_type": "code",
      "source": [
        "all_data.shape"
      ],
      "metadata": {
        "colab": {
          "base_uri": "https://localhost:8080/"
        },
        "id": "ccV36TCR3DBl",
        "outputId": "7480a6bd-a2d0-476f-9def-870f80827e36"
      },
      "execution_count": null,
      "outputs": [
        {
          "output_type": "execute_result",
          "data": {
            "text/plain": [
              "(199992, 3)"
            ]
          },
          "metadata": {},
          "execution_count": 35
        }
      ]
    },
    {
      "cell_type": "code",
      "source": [
        "# 중복치 제거\n",
        "all_data=all_data.drop_duplicates('document', keep='first')"
      ],
      "metadata": {
        "id": "anSUBVr64JC1"
      },
      "execution_count": null,
      "outputs": []
    },
    {
      "cell_type": "code",
      "source": [
        "all_data.shape"
      ],
      "metadata": {
        "colab": {
          "base_uri": "https://localhost:8080/"
        },
        "id": "8dgYtLnr4gx2",
        "outputId": "0ae2621d-2ff4-469f-c8bd-f79bc1fca50a"
      },
      "execution_count": null,
      "outputs": [
        {
          "output_type": "execute_result",
          "data": {
            "text/plain": [
              "(194543, 3)"
            ]
          },
          "metadata": {},
          "execution_count": 37
        }
      ]
    },
    {
      "cell_type": "code",
      "source": [
        "sentence = (all_data['document'])\n",
        "sentence"
      ],
      "metadata": {
        "colab": {
          "base_uri": "https://localhost:8080/"
        },
        "id": "7A1xrK9oyw92",
        "outputId": "57db7fca-d742-421c-c0db-2c43d964ad7c"
      },
      "execution_count": null,
      "outputs": [
        {
          "output_type": "execute_result",
          "data": {
            "text/plain": [
              "0                                       아 더빙.. 진짜 짜증나네요 목소리\n",
              "1                         흠...포스터보고 초딩영화줄....오버연기조차 가볍지 않구나\n",
              "2                                         너무재밓었다그래서보는것을추천한다\n",
              "3                             교도소 이야기구먼 ..솔직히 재미는 없다..평점 조정\n",
              "4         사이몬페그의 익살스런 연기가 돋보였던 영화!스파이더맨에서 늙어보이기만 했던 커스틴 ...\n",
              "                                ...                        \n",
              "199995            오랜만에 평점 로긴했네ㅋㅋ 킹왕짱 쌈뽕한 영화를 만났습니다 강렬하게 육쾌함\n",
              "199996         의지 박약들이나 하는거다 탈영은 일단 주인공 김대희 닮았고 이등병 찐따 OOOO\n",
              "199997                   그림도 좋고 완성도도 높았지만... 보는 내내 불안하게 만든다\n",
              "199998       절대 봐서는 안 될 영화.. 재미도 없고 기분만 잡치고.. 한 세트장에서 다 해먹네\n",
              "199999                                           마무리는 또 왜이래\n",
              "Name: document, Length: 194543, dtype: object"
            ]
          },
          "metadata": {},
          "execution_count": 38
        }
      ]
    },
    {
      "cell_type": "code",
      "source": [
        "import matplotlib.pyplot as plt\n",
        "\n",
        "\n",
        "min_len = 999\n",
        "max_len = 0\n",
        "sum_len = 0\n",
        "\n",
        "for s in sentence:\n",
        "  if len(s) > max_len:\n",
        "    max_len = len(s)\n",
        "  if len(s) < min_len:\n",
        "    min_len = len(s)\n",
        "  sum_len += len(s)\n",
        "\n",
        "print('Min length : ', min_len)\n",
        "print('Max length : ', max_len)\n",
        "print('Average length : ', sum_len // len(sentence))\n",
        "\n",
        "sen_length_cnt = [0] * max_len\n",
        "for sen in sentence:\n",
        "  sen_length_cnt[len(sen)-1] += 1\n",
        "\n",
        "plt.bar(range(max_len), sen_length_cnt, width=1.0)\n",
        "plt.show()"
      ],
      "metadata": {
        "colab": {
          "base_uri": "https://localhost:8080/",
          "height": 319
        },
        "id": "BF9l6Rdhzanv",
        "outputId": "e1773bbe-9757-4820-b4e4-bb257a647f13"
      },
      "execution_count": null,
      "outputs": [
        {
          "output_type": "stream",
          "name": "stdout",
          "text": [
            "Min length :  1\n",
            "Max length :  146\n",
            "Average length :  36\n"
          ]
        },
        {
          "output_type": "display_data",
          "data": {
            "text/plain": [
              "<Figure size 432x288 with 1 Axes>"
            ],
            "image/png": "[encoded data removed]"
          },
          "metadata": {
            "needs_background": "light"
          }
        }
      ]
    },
    {
      "cell_type": "code",
      "source": [
        "max_len = 140\n",
        "min_len = 10\n",
        "\n",
        "filtered_sen = [] \n",
        "filtered_target = []  \n",
        "\n",
        "target = np.array(all_data['label'])\n",
        "\n",
        "for s, t in zip(sentence, target):\n",
        "    if (len(str(s)) < max_len) & (len(str(s)) >= min_len):\n",
        "        filtered_sen.append(s) \n",
        "        filtered_target.append(t)\n",
        "\n",
        "print(len(filtered_sen))\n",
        "print(len(filtered_target))"
      ],
      "metadata": {
        "colab": {
          "base_uri": "https://localhost:8080/"
        },
        "id": "NAArqeN57HqE",
        "outputId": "7b8c97d6-a8e8-4f9e-8ce8-f1777606e3f6"
      },
      "execution_count": null,
      "outputs": [
        {
          "output_type": "stream",
          "name": "stdout",
          "text": [
            "180320\n",
            "180320\n"
          ]
        }
      ]
    },
    {
      "cell_type": "markdown",
      "source": [
        "### SentencePiece Model 학습\n",
        "\n",
        "    spm.SentencePieceTrainer.Train(\n",
        "    '--input={} --model_prefix=korean_spm --vocab_size={} --model_type=unigram'.format(temp_file_path, vocab_size))\n",
        "\n",
        "--input: one-sentence-per-line raw corpus file. No need to run tokenizer, normalizer or preprocessor. By default, SentencePiece normalizes the input with Unicode NFKC. You can pass a comma-separated list of files.  \n",
        "--model_prefix: output model name prefix. <model_name>.model and <model_name>.vocab are generated.  \n",
        "--vocab_size: vocabulary size, e.g., 8000, 16000, or 32000  \n",
        "--character_coverage: amount of characters covered by the model, good defaults are: 0.9995 for languages with rich character set like Japanese or Chinese and 1.0 for other languages with small character set.    \n",
        "--model_type: model type. Choose from unigram (default), bpe, char, or word. The input sentence must be pretokenized when using word type.  "
      ],
      "metadata": {
        "id": "EeRobj3fnh3r"
      }
    },
    {
      "cell_type": "code",
      "source": [
        "import sentencepiece as spm\n",
        "temp_file_path = '/content/drive/MyDrive/AIFFEL/GoingDeeper(NLP)/2_단어사전만들기/ratings_test.txt.temp'\n",
        "\n",
        "vocab_size = 16000\n",
        "\n",
        "with open(temp_file_path, 'w') as f:\n",
        "  for row in filtered_sen:\n",
        "    f.write(str(row) + '\\n')\n",
        "\n",
        "spm.SentencePieceTrainer.Train(\n",
        "    '--input={} --model_prefix=korean_spm --vocab_size={} --model_type=unigram'.format(temp_file_path, vocab_size)\n",
        ")\n",
        "#위 Train에서  --model_type = 'unigram'이 디폴트 적용되어 있습니다. --model_type = 'bpe' 로 옵션을 주어 변경할 수 있습니다.\n",
        "\n",
        "!ls -l korean_spm*"
      ],
      "metadata": {
        "colab": {
          "base_uri": "https://localhost:8080/"
        },
        "id": "T6THKLOyk0xM",
        "outputId": "b6bdc177-3899-440e-a59a-680bd06771e5"
      },
      "execution_count": null,
      "outputs": [
        {
          "output_type": "stream",
          "name": "stdout",
          "text": [
            "-rw-r--r-- 1 root root 534123 Sep 24 08:45 korean_spm.model\n",
            "-rw-r--r-- 1 root root 310483 Sep 24 08:45 korean_spm.vocab\n"
          ]
        }
      ]
    },
    {
      "cell_type": "markdown",
      "source": [
        "앞에서 만들어둔 함수를 이용해 토큰화를 진행해보겠습니다. "
      ],
      "metadata": {
        "id": "wF-buc3NCPot"
      }
    },
    {
      "cell_type": "code",
      "source": [
        "def sp_tokenize(s, corpus):\n",
        "  tensor = []\n",
        "\n",
        "  for sen in corpus:\n",
        "    tensor.append(s.EncodeAsIds(sen))\n",
        "  \n",
        "  with open(\"./korean_spm.vocab\", 'r') as f:\n",
        "    vocab = f.readlines()\n",
        "  \n",
        "  word_index = {}\n",
        "  index_word = {}\n",
        "\n",
        "  for idx, line in enumerate(vocab):\n",
        "    word = line.split(\"\\t\")[0]\n",
        "\n",
        "    word_index.update({word:idx})\n",
        "    index_word.update({idx:word})\n",
        "  \n",
        "  tensor = tensorflow.keras.preprocessing.sequence.pad_sequences(tensor, padding='pre')\n",
        "\n",
        "  return tensor, word_index, index_word"
      ],
      "metadata": {
        "id": "UHpR9cTq1eJd"
      },
      "execution_count": null,
      "outputs": []
    },
    {
      "cell_type": "markdown",
      "source": [
        "샘플로 한 번 뽑아보겠습니다.\n",
        "\n",
        "만약 잘 되는게 확인이 된다면 전체 데이터에 대해서 적용시켜 주겠습니다."
      ],
      "metadata": {
        "id": "UuCAoKsIKYZ3"
      }
    },
    {
      "cell_type": "code",
      "source": [
        "import tensorflow\n",
        "\n",
        "s = spm.SentencePieceProcessor()\n",
        "s.Load('korean_spm.model')\n",
        "tensor, word_index, index_word = sp_tokenize(s, sentence[1:3])"
      ],
      "metadata": {
        "id": "XyiMqJw0C8kw"
      },
      "execution_count": null,
      "outputs": []
    },
    {
      "cell_type": "code",
      "source": [
        "print(tensor)"
      ],
      "metadata": {
        "colab": {
          "base_uri": "https://localhost:8080/"
        },
        "id": "pnr_m8nrJX4O",
        "outputId": "57ba613d-65ba-4d20-b516-33e305096e5e"
      },
      "execution_count": null,
      "outputs": [
        {
          "output_type": "stream",
          "name": "stdout",
          "text": [
            "[[ 1659     7  4930   152  1482    34   408    52   184   747   410  1444\n",
            "   8146   828   397]\n",
            " [    0     0     0     0     0     0    20   467     0   437  3308 13125\n",
            "     14  2320   320]]\n"
          ]
        }
      ]
    },
    {
      "cell_type": "code",
      "source": [
        "sentence[1], sentence[2]"
      ],
      "metadata": {
        "colab": {
          "base_uri": "https://localhost:8080/"
        },
        "id": "6b7arrUyfB2g",
        "outputId": "edf50fef-12e2-446d-a403-baa4c0f0be9d"
      },
      "execution_count": null,
      "outputs": [
        {
          "output_type": "execute_result",
          "data": {
            "text/plain": [
              "('흠...포스터보고 초딩영화줄....오버연기조차 가볍지 않구나', '너무재밓었다그래서보는것을추천한다')"
            ]
          },
          "metadata": {},
          "execution_count": 45
        }
      ]
    },
    {
      "cell_type": "code",
      "source": [
        "# 전체 데이터 전처리 + 토큰화\n",
        "tensor, word_index, index_word = sp_tokenize(s, filtered_sen)"
      ],
      "metadata": {
        "id": "Z8mcxeYWR7PU"
      },
      "execution_count": null,
      "outputs": []
    },
    {
      "cell_type": "code",
      "source": [
        "print(tensor.shape)\n",
        "print(tensor)\n",
        "print(len(word_index))\n",
        "print(len(index_word))"
      ],
      "metadata": {
        "colab": {
          "base_uri": "https://localhost:8080/"
        },
        "id": "nSLadoewgFan",
        "outputId": "ebfaa74e-41f1-4348-f2ef-16e629a732ce"
      },
      "execution_count": null,
      "outputs": [
        {
          "output_type": "stream",
          "name": "stdout",
          "text": [
            "(180320, 132)\n",
            "[[   0    0    0 ... 2190   79 1312]\n",
            " [   0    0    0 ... 8146  828  397]\n",
            " [   0    0    0 ...   14 2320  320]\n",
            " ...\n",
            " [   0    0    0 ... 5158  114 2250]\n",
            " [   0    0    0 ...  366  964   57]\n",
            " [   0    0    0 ...   13  162 3473]]\n",
            "16000\n",
            "16000\n"
          ]
        }
      ]
    },
    {
      "cell_type": "markdown",
      "source": [
        "SentencePiece를 이용해 토큰화, 단어 인덱싱, 패딩 등의 과정을 전부 거쳤으니 감성 분류 모델을 설계하고 학습 시켜보겠습니다.\n",
        "\n",
        "그리고 훈련 데이터와 테스트 데이터를 나눠야 하는데\n",
        "\n",
        "훈련, 평가 비율은 8:2 로 하겠습니다."
      ],
      "metadata": {
        "id": "8wfmgZ75sH6M"
      }
    },
    {
      "cell_type": "code",
      "source": [
        "# 데이터 나누기\n",
        "from sklearn.model_selection import train_test_split\n",
        "\n",
        "x_train, val_x, y_train, val_y = train_test_split(tensor, filtered_target, test_size=0.2)\n",
        "y_train = np.array(y_train)\n",
        "val_y = np.array(val_y)"
      ],
      "metadata": {
        "id": "P7v-PVeus4zw"
      },
      "execution_count": null,
      "outputs": []
    },
    {
      "cell_type": "code",
      "source": [
        "x_train.shape, y_train.shape, val_x.shape, val_y.shape"
      ],
      "metadata": {
        "colab": {
          "base_uri": "https://localhost:8080/"
        },
        "id": "nOw6YFWPus8H",
        "outputId": "24de9736-b5da-4d5b-e77e-99e286462aa0"
      },
      "execution_count": null,
      "outputs": [
        {
          "output_type": "execute_result",
          "data": {
            "text/plain": [
              "((144256, 132), (144256,), (36064, 132), (36064,))"
            ]
          },
          "metadata": {},
          "execution_count": 49
        }
      ]
    },
    {
      "cell_type": "code",
      "source": [
        "# LSTM 모델 설계\n",
        "import tensorflow as tf\n",
        "\n",
        "vocab_size = vocab_size\n",
        "word_vector_dim = 200\n",
        "\n",
        "model_lstm = tf.keras.Sequential()\n",
        "model_lstm.add(tf.keras.layers.Embedding(vocab_size, word_vector_dim, input_shape=(None,)))\n",
        "model_lstm.add(tf.keras.layers.LSTM(128))\n",
        "model_lstm.add(tf.keras.layers.Dense(32, activation='relu'))\n",
        "model_lstm.add(tf.keras.layers.Dense(1, activation='sigmoid')) # 최종 출력은 긍정/부정을 나타내는 1dim 입니다.\n",
        "model_lstm.summary()"
      ],
      "metadata": {
        "colab": {
          "base_uri": "https://localhost:8080/"
        },
        "id": "tqa3guz9u6LF",
        "outputId": "958ac8f4-4280-4287-88ea-f63357b82ede"
      },
      "execution_count": null,
      "outputs": [
        {
          "output_type": "stream",
          "name": "stdout",
          "text": [
            "Model: \"sequential\"\n",
            "_________________________________________________________________\n",
            " Layer (type)                Output Shape              Param #   \n",
            "=================================================================\n",
            " embedding (Embedding)       (None, None, 200)         3200000   \n",
            "                                                                 \n",
            " lstm (LSTM)                 (None, 128)               168448    \n",
            "                                                                 \n",
            " dense (Dense)               (None, 32)                4128      \n",
            "                                                                 \n",
            " dense_1 (Dense)             (None, 1)                 33        \n",
            "                                                                 \n",
            "=================================================================\n",
            "Total params: 3,372,609\n",
            "Trainable params: 3,372,609\n",
            "Non-trainable params: 0\n",
            "_________________________________________________________________\n"
          ]
        }
      ]
    },
    {
      "cell_type": "code",
      "source": [
        "# 모델 훈련\n",
        "\n",
        "epochs = 2\n",
        "callback = tf.keras.callbacks.EarlyStopping(monitor = 'val_loss', patience=5)\n",
        "\n",
        "model_lstm.compile(optimizer='adam',\n",
        "             loss = 'binary_crossentropy',\n",
        "             metrics=['accuracy'])\n",
        "\n",
        "history_lstm = model_lstm.fit(x_train,\n",
        "                              y_train,\n",
        "                              epochs=epochs,\n",
        "                              batch_size=128,\n",
        "                              validation_data=(val_x, val_y),\n",
        "                              verbose=1)"
      ],
      "metadata": {
        "colab": {
          "base_uri": "https://localhost:8080/"
        },
        "id": "oXqp976uyIoA",
        "outputId": "fc56707b-668a-45be-cc65-737495f0434d"
      },
      "execution_count": null,
      "outputs": [
        {
          "output_type": "stream",
          "name": "stdout",
          "text": [
            "Epoch 1/2\n",
            "1127/1127 [==============================] - 20s 16ms/step - loss: 0.3753 - accuracy: 0.8308 - val_loss: 0.3176 - val_accuracy: 0.8625\n",
            "Epoch 2/2\n",
            "1127/1127 [==============================] - 17s 15ms/step - loss: 0.2666 - accuracy: 0.8870 - val_loss: 0.3107 - val_accuracy: 0.8657\n"
          ]
        }
      ]
    },
    {
      "cell_type": "code",
      "source": [
        "# 시각화할 수 있는 항목 체크\n",
        "history_dict = history_lstm.history\n",
        "history_dict.keys()"
      ],
      "metadata": {
        "colab": {
          "base_uri": "https://localhost:8080/"
        },
        "id": "IE8lBzMW-VnT",
        "outputId": "0485ca53-33bf-4bab-c8d0-a013bbc92c49"
      },
      "execution_count": null,
      "outputs": [
        {
          "output_type": "execute_result",
          "data": {
            "text/plain": [
              "dict_keys(['loss', 'accuracy', 'val_loss', 'val_accuracy'])"
            ]
          },
          "metadata": {},
          "execution_count": 52
        }
      ]
    },
    {
      "cell_type": "code",
      "source": [
        "loss = history_dict['loss']\n",
        "val_loss = history_dict['val_loss']\n",
        "acc = history_dict['accuracy']\n",
        "val_acc = history_dict['val_accuracy']\n",
        "\n",
        "epochs = range(1, len(acc) + 1)\n",
        "\n",
        "fig, (ax1, ax2) = plt.subplots(1, 2, figsize=(10,8))\n",
        "ax1.plot(epochs, loss, 'bo', label='Training loss')\n",
        "ax1.plot(epochs, val_loss, 'b', label='Validation loss')\n",
        "ax1.set_title('Traning and validation loss')\n",
        "ax1.legend()\n",
        "\n",
        "ax2.plot(epochs, acc, 'bo', label='Training acc')\n",
        "ax2.plot(epochs, val_acc, 'b', label='Validation acc')\n",
        "ax2.set_title('Training and validation acc')\n",
        "ax2.legend()\n",
        "plt.show()\n"
      ],
      "metadata": {
        "colab": {
          "base_uri": "https://localhost:8080/",
          "height": 499
        },
        "id": "R8a8YoUG-9-5",
        "outputId": "f5f8aff6-63f6-49fc-8a84-24909cf957df"
      },
      "execution_count": null,
      "outputs": [
        {
          "output_type": "display_data",
          "data": {
            "text/plain": [
              "<Figure size 720x576 with 2 Axes>"
            ],
            "image/png": "[encoded data removed]"
          },
          "metadata": {
            "needs_background": "light"
          }
        }
      ]
    },
    {
      "cell_type": "markdown",
      "source": [
        "## 결과\n",
        "\n",
        "1. sentencepiece 1\n",
        "  - 문장 길이 : 10 ~ 60\n",
        "  - 단어장 크기 : 16000\n",
        "  - 패딩 : post\n",
        "  - 임베딩 차원 : 200\n",
        "  - 배치사이즈 : 128\n",
        "  - 에폭 20\n",
        "  - loss: 0.0149 - accuracy: 0.9956 - val_loss: 0.9434 - val_accuracy: 0.8228\n",
        "\n",
        "2. sentencepiece 2\n",
        "  - 문장 길이 : 5 ~ 100\n",
        "  - 단어장 크기 : 16000\n",
        "  - 패딩 : post\n",
        "  - 임베딩 차원 : 200\n",
        "  - 배치 사이즈 : 128\n",
        "  - 에폭 : 20\n",
        "  - loss: 0.6932 - accuracy: 0.5018 - val_loss: 0.6932 - val_accuracy: 0.4957\n",
        "\n",
        "3. sentencepiece 3\n",
        "  - 문장 길이 : 5 ~ 100\n",
        "  - 단어장 크기 : 16000\n",
        "  - 패딩 : pre\n",
        "  - 임베딩 차원 : 200\n",
        "  - 배치 사이즈 : 128\n",
        "  - 에폭 : 20\n",
        "  - loss: 0.0058 - accuracy: 0.9981 - val_loss: 1.3404 - val_accuracy: 0.8271\n",
        "\n",
        "4. sentencepiece 4\n",
        "  - 문장 길이 : 전부\n",
        "  - 단어장 크기 : 16000\n",
        "  - 패딩 : pre\n",
        "  - 임베딩 차원 200\n",
        "  - 배치 사이즈 : 128\n",
        "  - 에폭 : 10\n",
        "\n",
        "5. sentencepiece 5\n",
        "  - 단어장 크기 : 32000\n",
        "  - 나머지 4와 동일\n",
        "  - loss: 0.0293 - accuracy: 0.9886 - val_loss: 1.1246 - val_accuracy: 0.8195\n",
        "\n",
        "6. sentencepiece 6\n",
        "  - 문장 길이 : 5 ~ 80\n",
        "  - 나머지 5와 동일\n",
        "  - loss: 0.0097 - accuracy: 0.9965 - val_loss: 1.2195 - val_accuracy: 0.8295\n",
        "\n",
        "7. sentencepiece 7\n",
        "  - 문장 길이 : 10 ~ 80\n",
        "  - 임베딩 차원 100\n",
        "  - 나머지 6과 동일\n",
        "  - loss: 0.0642 - accuracy: 0.9752 - val_loss: 0.7159 - val_accuracy: 0.8366\n",
        "\n",
        "8. sentencepiece 8\n",
        "  - 문장 길이 : 10 ~ 140\n",
        "  - 단어장 크기 : 8000\n",
        "  - 임베딩 차원 : 200\n",
        "  - 나머지 7과 동일\n",
        "  - loss: 0.2945 - accuracy: 0.8719 - val_loss: 0.3251 - val_accuracy: 0.8598\n",
        "\n",
        "결과로 보면 문장의 길이가 너무 짧은 문장을 sentencepiece 모델에 학습시키게 되면 오히려 성능이 안좋아지는 것을 확인할 수 있음.\n",
        "\n",
        "너무 짧은 문장은 버리는 게 좋을 것 같다. 그리고 단어장이 무조건 크다고 좋은것도 아닌 것 같다.\n",
        "\n"
      ],
      "metadata": {
        "id": "6O_62DJHBd4e"
      }
    },
    {
      "cell_type": "markdown",
      "source": [
        "### SentencePiece(bpe)"
      ],
      "metadata": {
        "id": "bKhv_tD8oFXy"
      }
    },
    {
      "cell_type": "code",
      "source": [
        "import pandas as pd\n",
        "import numpy as np\n",
        "import tensorflow as tf\n",
        "\n",
        "\n",
        "train_data = pd.read_table('/content/drive/MyDrive/AIFFEL/GoingDeeper(NLP)/2_단어사전만들기/ratings_train.txt')\n",
        "test_data = pd.read_table('/content/drive/MyDrive/AIFFEL/GoingDeeper(NLP)/2_단어사전만들기/ratings_test.txt')"
      ],
      "metadata": {
        "id": "S5qlsd57oKdD"
      },
      "execution_count": null,
      "outputs": []
    },
    {
      "cell_type": "code",
      "source": [
        "# 모델 합치기, 결측치 제거, 중복치 제거\n",
        "all_data = pd.concat([train_data, test_data], axis=0, ignore_index=True)\n",
        "all_data.dropna(axis=0 ,inplace=True)\n",
        "all_data=all_data.drop_duplicates('document', keep='first')\n",
        "\n",
        "all_data.shape"
      ],
      "metadata": {
        "colab": {
          "base_uri": "https://localhost:8080/"
        },
        "id": "5AtA9TnNosRG",
        "outputId": "47c763ef-27e4-4d2a-e92c-68b0d5d35fb0"
      },
      "execution_count": null,
      "outputs": [
        {
          "output_type": "execute_result",
          "data": {
            "text/plain": [
              "(194543, 3)"
            ]
          },
          "metadata": {},
          "execution_count": 55
        }
      ]
    },
    {
      "cell_type": "code",
      "source": [
        "sentence = (all_data['document'])\n",
        "\n",
        "\n",
        "max_len = 140\n",
        "min_len = 10\n",
        "\n",
        "filtered_sen = [] \n",
        "filtered_target = []  \n",
        "\n",
        "target = np.array(all_data['label'])\n",
        "\n",
        "for s, t in zip(sentence, target):\n",
        "    if (len(str(s)) < max_len) & (len(str(s)) >= min_len):\n",
        "        filtered_sen.append(s) \n",
        "        filtered_target.append(t)\n",
        "\n",
        "print(len(filtered_sen))\n",
        "print(len(filtered_target))"
      ],
      "metadata": {
        "colab": {
          "base_uri": "https://localhost:8080/"
        },
        "id": "VrbPrGpLo_Sb",
        "outputId": "b853e6e2-e55a-4fac-83d8-4a93057204cb"
      },
      "execution_count": null,
      "outputs": [
        {
          "output_type": "stream",
          "name": "stdout",
          "text": [
            "180320\n",
            "180320\n"
          ]
        }
      ]
    },
    {
      "cell_type": "code",
      "source": [
        "import sentencepiece as spm\n",
        "temp_file_path = '/content/drive/MyDrive/AIFFEL/GoingDeeper(NLP)/2_단어사전만들기/ratings_test.txt.temp'\n",
        "\n",
        "vocab_size = 16000\n",
        "\n",
        "with open(temp_file_path, 'w') as f:\n",
        "  for row in filtered_sen:\n",
        "    f.write(str(row) + '\\n')\n",
        "\n",
        "spm.SentencePieceTrainer.Train(\n",
        "    '--input={} --model_prefix=korean_spm --vocab_size={} --model_type=bpe'.format(temp_file_path, vocab_size)\n",
        ")\n",
        "#위 Train에서  --model_type = 'unigram'이 디폴트 적용되어 있습니다. --model_type = 'bpe' 로 옵션을 주어 변경할 수 있습니다.\n",
        "\n",
        "!ls -l korean_spm*"
      ],
      "metadata": {
        "colab": {
          "base_uri": "https://localhost:8080/"
        },
        "id": "rHCkn4NDpKFJ",
        "outputId": "10bf2000-e925-46f0-f8e3-98acf61883ea"
      },
      "execution_count": null,
      "outputs": [
        {
          "output_type": "stream",
          "name": "stdout",
          "text": [
            "-rw-r--r-- 1 root root 523592 Sep 24 08:47 korean_spm.model\n",
            "-rw-r--r-- 1 root root 258735 Sep 24 08:47 korean_spm.vocab\n"
          ]
        }
      ]
    },
    {
      "cell_type": "code",
      "source": [
        "import tensorflow\n",
        "\n",
        "s = spm.SentencePieceProcessor()\n",
        "s.Load('korean_spm.model')\n",
        "\n",
        "# 전체 데이터 전처리 + 토큰화\n",
        "tensor, word_index, index_word = sp_tokenize(s, filtered_sen)"
      ],
      "metadata": {
        "id": "fc2vKTwJpYTj"
      },
      "execution_count": null,
      "outputs": []
    },
    {
      "cell_type": "code",
      "source": [
        "# 데이터 나누기\n",
        "from sklearn.model_selection import train_test_split\n",
        "\n",
        "x_train, val_x, y_train, val_y = train_test_split(tensor, filtered_target, test_size=0.2)\n",
        "y_train = np.array(y_train)\n",
        "val_y = np.array(val_y)"
      ],
      "metadata": {
        "id": "5vQZQXl6piw0"
      },
      "execution_count": null,
      "outputs": []
    },
    {
      "cell_type": "code",
      "source": [
        "# LSTM 모델 설계\n",
        "import tensorflow as tf\n",
        "\n",
        "vocab_size = vocab_size\n",
        "word_vector_dim = 200\n",
        "\n",
        "model_lstm_bpe = tf.keras.Sequential()\n",
        "model_lstm_bpe.add(tf.keras.layers.Embedding(vocab_size, word_vector_dim, input_shape=(None,)))\n",
        "model_lstm_bpe.add(tf.keras.layers.LSTM(128))\n",
        "model_lstm_bpe.add(tf.keras.layers.Dense(32, activation='relu'))\n",
        "model_lstm_bpe.add(tf.keras.layers.Dense(1, activation='sigmoid')) # 최종 출력은 긍정/부정을 나타내는 1dim 입니다.\n",
        "model_lstm_bpe.summary()"
      ],
      "metadata": {
        "colab": {
          "base_uri": "https://localhost:8080/"
        },
        "id": "yhVTWFe4pma8",
        "outputId": "8833ea07-9c82-44a0-8138-5b00b7c50746"
      },
      "execution_count": null,
      "outputs": [
        {
          "output_type": "stream",
          "name": "stdout",
          "text": [
            "Model: \"sequential_1\"\n",
            "_________________________________________________________________\n",
            " Layer (type)                Output Shape              Param #   \n",
            "=================================================================\n",
            " embedding_1 (Embedding)     (None, None, 200)         3200000   \n",
            "                                                                 \n",
            " lstm_1 (LSTM)               (None, 128)               168448    \n",
            "                                                                 \n",
            " dense_2 (Dense)             (None, 32)                4128      \n",
            "                                                                 \n",
            " dense_3 (Dense)             (None, 1)                 33        \n",
            "                                                                 \n",
            "=================================================================\n",
            "Total params: 3,372,609\n",
            "Trainable params: 3,372,609\n",
            "Non-trainable params: 0\n",
            "_________________________________________________________________\n"
          ]
        }
      ]
    },
    {
      "cell_type": "code",
      "source": [
        "# 모델 훈련\n",
        "\n",
        "epochs = 5\n",
        "callback = tf.keras.callbacks.EarlyStopping(monitor = 'val_loss', patience=5)\n",
        "\n",
        "model_lstm_bpe.compile(optimizer='adam',\n",
        "             loss = 'binary_crossentropy',\n",
        "             metrics=['accuracy'])\n",
        "\n",
        "history_lstm_bpe = model_lstm_bpe.fit(x_train,\n",
        "                              y_train,\n",
        "                              epochs=epochs,\n",
        "                              batch_size=128,\n",
        "                              validation_data=(val_x, val_y),\n",
        "                              verbose=1)"
      ],
      "metadata": {
        "colab": {
          "base_uri": "https://localhost:8080/"
        },
        "id": "3djc8k-LpqWw",
        "outputId": "c2bebbb5-95fe-4c9f-9f0f-9938c737a6ee"
      },
      "execution_count": null,
      "outputs": [
        {
          "output_type": "stream",
          "name": "stdout",
          "text": [
            "Epoch 1/5\n",
            "1127/1127 [==============================] - 17s 14ms/step - loss: 0.3754 - accuracy: 0.8296 - val_loss: 0.3242 - val_accuracy: 0.8601\n",
            "Epoch 2/5\n",
            "1127/1127 [==============================] - 15s 13ms/step - loss: 0.2679 - accuracy: 0.8858 - val_loss: 0.3282 - val_accuracy: 0.8649\n",
            "Epoch 3/5\n",
            "1127/1127 [==============================] - 15s 13ms/step - loss: 0.2101 - accuracy: 0.9134 - val_loss: 0.3344 - val_accuracy: 0.8616\n",
            "Epoch 4/5\n",
            "1127/1127 [==============================] - 15s 14ms/step - loss: 0.1551 - accuracy: 0.9372 - val_loss: 0.4055 - val_accuracy: 0.8561\n",
            "Epoch 5/5\n",
            "1127/1127 [==============================] - 15s 13ms/step - loss: 0.1075 - accuracy: 0.9579 - val_loss: 0.4868 - val_accuracy: 0.8471\n"
          ]
        }
      ]
    },
    {
      "cell_type": "code",
      "source": [
        "# 시각화할 수 있는 항목 체크\n",
        "history_dict = history_lstm_bpe.history\n",
        "\n",
        "loss = history_dict['loss']\n",
        "val_loss = history_dict['val_loss']\n",
        "acc = history_dict['accuracy']\n",
        "val_acc = history_dict['val_accuracy']\n",
        "\n",
        "epochs = range(1, len(acc) + 1)\n",
        "\n",
        "fig, (ax1, ax2) = plt.subplots(1, 2, figsize=(10,8))\n",
        "ax1.plot(epochs, loss, 'bo', label='Training loss')\n",
        "ax1.plot(epochs, val_loss, 'b', label='Validation loss')\n",
        "ax1.set_title('Traning and validation loss')\n",
        "ax1.legend()\n",
        "\n",
        "ax2.plot(epochs, acc, 'bo', label='Training acc')\n",
        "ax2.plot(epochs, val_acc, 'b', label='Validation acc')\n",
        "ax2.set_title('Training and validation acc')\n",
        "ax2.legend()\n",
        "plt.show()\n"
      ],
      "metadata": {
        "colab": {
          "base_uri": "https://localhost:8080/",
          "height": 499
        },
        "id": "-AxmE7dfpu68",
        "outputId": "a03eb773-f08c-4779-81f2-4d1e749cb98b"
      },
      "execution_count": null,
      "outputs": [
        {
          "output_type": "display_data",
          "data": {
            "text/plain": [
              "<Figure size 720x576 with 2 Axes>"
            ],
            "image/png": "[encoded data removed]"
          },
          "metadata": {
            "needs_background": "light"
          }
        }
      ]
    },
    {
      "cell_type": "markdown",
      "source": [
        "### Mecab 이용해서 모델 학습"
      ],
      "metadata": {
        "id": "ynxC_XPrMfee"
      }
    },
    {
      "cell_type": "markdown",
      "source": [
        "지금까지 sentencepiece 를 이용해봤으니 이제 mecab을 이용하여 보겠습니다.\n",
        "\n",
        "sentencepiece는 따로 전처리를 하지 않은 raw text를 그대로 받아서 학습했지만 여기서는 전처리를 진행해줘야 합니다."
      ],
      "metadata": {
        "id": "Z9laUa4bO2QN"
      }
    },
    {
      "cell_type": "markdown",
      "source": [
        "전처리는 크게\n",
        "\n",
        "1. 구두점 제거\n",
        "2. 불용어 제거  \n",
        "\n",
        "이 두 가지 전처리를 진행하겠습니다.\n",
        "\n",
        "불용어를 제거할 때 불용서를 모아놓은 .txt 파일을 읽어서 사용해주겠습니다."
      ],
      "metadata": {
        "id": "0Z-WlMfcWioF"
      }
    },
    {
      "cell_type": "markdown",
      "source": [
        "### Mecab\n",
        "\n",
        "먼저 데이터를 다시 불러오겠습니다."
      ],
      "metadata": {
        "id": "Gv4cL63lPocA"
      }
    },
    {
      "cell_type": "code",
      "source": [
        "import pandas as pd\n",
        "import numpy as np\n",
        "import tensorflow as tf\n",
        "\n",
        "\n",
        "train_data = pd.read_table('/content/drive/MyDrive/AIFFEL/GoingDeeper(NLP)/2_단어사전만들기/ratings_train.txt')\n",
        "test_data = pd.read_table('/content/drive/MyDrive/AIFFEL/GoingDeeper(NLP)/2_단어사전만들기/ratings_test.txt')\n"
      ],
      "metadata": {
        "id": "arJPTnDfPrJG"
      },
      "execution_count": null,
      "outputs": []
    },
    {
      "cell_type": "code",
      "source": [
        "train_data.shape, test_data.shape"
      ],
      "metadata": {
        "colab": {
          "base_uri": "https://localhost:8080/"
        },
        "id": "QYaSTgGJQSFs",
        "outputId": "6e66c09f-6a92-4186-ba65-11de767862e9"
      },
      "execution_count": null,
      "outputs": [
        {
          "output_type": "execute_result",
          "data": {
            "text/plain": [
              "((150000, 3), (50000, 3))"
            ]
          },
          "metadata": {},
          "execution_count": 64
        }
      ]
    },
    {
      "cell_type": "code",
      "source": [
        "# 두 데이터 합치기\n",
        "all_data = pd.concat([train_data, test_data], axis=0, ignore_index=True)\n",
        "all_data.head()"
      ],
      "metadata": {
        "colab": {
          "base_uri": "https://localhost:8080/",
          "height": 206
        },
        "id": "TKMtUoAIP0qU",
        "outputId": "39daafa1-e9b8-471f-b06b-f11445b22198"
      },
      "execution_count": null,
      "outputs": [
        {
          "output_type": "execute_result",
          "data": {
            "text/plain": [
              "         id                                           document  label\n",
              "0   9976970                                아 더빙.. 진짜 짜증나네요 목소리      0\n",
              "1   3819312                  흠...포스터보고 초딩영화줄....오버연기조차 가볍지 않구나      1\n",
              "2  10265843                                  너무재밓었다그래서보는것을추천한다      0\n",
              "3   9045019                      교도소 이야기구먼 ..솔직히 재미는 없다..평점 조정      0\n",
              "4   6483659  사이몬페그의 익살스런 연기가 돋보였던 영화!스파이더맨에서 늙어보이기만 했던 커스틴 ...      1"
            ],
            "text/html": [
              "\n",
              "  <div id=\"df-2cd532c7-fc48-47d7-ab16-bfe8fd64f94b\">\n",
              "    <div class=\"colab-df-container\">\n",
              "      <div>\n",
              "<style scoped>\n",
              "    .dataframe tbody tr th:only-of-type {\n",
              "        vertical-align: middle;\n",
              "    }\n",
              "\n",
              "    .dataframe tbody tr th {\n",
              "        vertical-align: top;\n",
              "    }\n",
              "\n",
              "    .dataframe thead th {\n",
              "        text-align: right;\n",
              "    }\n",
              "</style>\n",
              "<table border=\"1\" class=\"dataframe\">\n",
              "  <thead>\n",
              "    <tr style=\"text-align: right;\">\n",
              "      <th></th>\n",
              "      <th>id</th>\n",
              "      <th>document</th>\n",
              "      <th>label</th>\n",
              "    </tr>\n",
              "  </thead>\n",
              "  <tbody>\n",
              "    <tr>\n",
              "      <th>0</th>\n",
              "      <td>9976970</td>\n",
              "      <td>아 더빙.. 진짜 짜증나네요 목소리</td>\n",
              "      <td>0</td>\n",
              "    </tr>\n",
              "    <tr>\n",
              "      <th>1</th>\n",
              "      <td>3819312</td>\n",
              "      <td>흠...포스터보고 초딩영화줄....오버연기조차 가볍지 않구나</td>\n",
              "      <td>1</td>\n",
              "    </tr>\n",
              "    <tr>\n",
              "      <th>2</th>\n",
              "      <td>10265843</td>\n",
              "      <td>너무재밓었다그래서보는것을추천한다</td>\n",
              "      <td>0</td>\n",
              "    </tr>\n",
              "    <tr>\n",
              "      <th>3</th>\n",
              "      <td>9045019</td>\n",
              "      <td>교도소 이야기구먼 ..솔직히 재미는 없다..평점 조정</td>\n",
              "      <td>0</td>\n",
              "    </tr>\n",
              "    <tr>\n",
              "      <th>4</th>\n",
              "      <td>6483659</td>\n",
              "      <td>사이몬페그의 익살스런 연기가 돋보였던 영화!스파이더맨에서 늙어보이기만 했던 커스틴 ...</td>\n",
              "      <td>1</td>\n",
              "    </tr>\n",
              "  </tbody>\n",
              "</table>\n",
              "</div>\n",
              "      <button class=\"colab-df-convert\" onclick=\"convertToInteractive('df-2cd532c7-fc48-47d7-ab16-bfe8fd64f94b')\"\n",
              "              title=\"Convert this dataframe to an interactive table.\"\n",
              "              style=\"display:none;\">\n",
              "        \n",
              "  <svg xmlns=\"http://www.w3.org/2000/svg\" height=\"24px\"viewBox=\"0 0 24 24\"\n",
              "       width=\"24px\">\n",
              "    <path d=\"M0 0h24v24H0V0z\" fill=\"none\"/>\n",
              "    <path d=\"M18.56 5.44l.94 2.06.94-2.06 2.06-.94-2.06-.94-.94-2.06-.94 2.06-2.06.94zm-11 1L8.5 8.5l.94-2.06 2.06-.94-2.06-.94L8.5 2.5l-.94 2.06-2.06.94zm10 10l.94 2.06.94-2.06 2.06-.94-2.06-.94-.94-2.06-.94 2.06-2.06.94z\"/><path d=\"M17.41 7.96l-1.37-1.37c-.4-.4-.92-.59-1.43-.59-.52 0-1.04.2-1.43.59L10.3 9.45l-7.72 7.72c-.78.78-.78 2.05 0 2.83L4 21.41c.39.39.9.59 1.41.59.51 0 1.02-.2 1.41-.59l7.78-7.78 2.81-2.81c.8-.78.8-2.07 0-2.86zM5.41 20L4 18.59l7.72-7.72 1.47 1.35L5.41 20z\"/>\n",
              "  </svg>\n",
              "      </button>\n",
              "      \n",
              "  <style>\n",
              "    .colab-df-container {\n",
              "      display:flex;\n",
              "      flex-wrap:wrap;\n",
              "      gap: 12px;\n",
              "    }\n",
              "\n",
              "    .colab-df-convert {\n",
              "      background-color: #E8F0FE;\n",
              "      border: none;\n",
              "      border-radius: 50%;\n",
              "      cursor: pointer;\n",
              "      display: none;\n",
              "      fill: #1967D2;\n",
              "      height: 32px;\n",
              "      padding: 0 0 0 0;\n",
              "      width: 32px;\n",
              "    }\n",
              "\n",
              "    .colab-df-convert:hover {\n",
              "      background-color: #E2EBFA;\n",
              "      box-shadow: 0px 1px 2px rgba(60, 64, 67, 0.3), 0px 1px 3px 1px rgba(60, 64, 67, 0.15);\n",
              "      fill: #174EA6;\n",
              "    }\n",
              "\n",
              "    [theme=dark] .colab-df-convert {\n",
              "      background-color: #3B4455;\n",
              "      fill: #D2E3FC;\n",
              "    }\n",
              "\n",
              "    [theme=dark] .colab-df-convert:hover {\n",
              "      background-color: #434B5C;\n",
              "      box-shadow: 0px 1px 3px 1px rgba(0, 0, 0, 0.15);\n",
              "      filter: drop-shadow(0px 1px 2px rgba(0, 0, 0, 0.3));\n",
              "      fill: #FFFFFF;\n",
              "    }\n",
              "  </style>\n",
              "\n",
              "      <script>\n",
              "        const buttonEl =\n",
              "          document.querySelector('#df-2cd532c7-fc48-47d7-ab16-bfe8fd64f94b button.colab-df-convert');\n",
              "        buttonEl.style.display =\n",
              "          google.colab.kernel.accessAllowed ? 'block' : 'none';\n",
              "\n",
              "        async function convertToInteractive(key) {\n",
              "          const element = document.querySelector('#df-2cd532c7-fc48-47d7-ab16-bfe8fd64f94b');\n",
              "          const dataTable =\n",
              "            await google.colab.kernel.invokeFunction('convertToInteractive',\n",
              "                                                     [key], {});\n",
              "          if (!dataTable) return;\n",
              "\n",
              "          const docLinkHtml = 'Like what you see? Visit the ' +\n",
              "            '<a target=\"_blank\" href=https://colab.research.google.com/notebooks/data_table.ipynb>data table notebook</a>'\n",
              "            + ' to learn more about interactive tables.';\n",
              "          element.innerHTML = '';\n",
              "          dataTable['output_type'] = 'display_data';\n",
              "          await google.colab.output.renderOutput(dataTable, element);\n",
              "          const docLink = document.createElement('div');\n",
              "          docLink.innerHTML = docLinkHtml;\n",
              "          element.appendChild(docLink);\n",
              "        }\n",
              "      </script>\n",
              "    </div>\n",
              "  </div>\n",
              "  "
            ]
          },
          "metadata": {},
          "execution_count": 65
        }
      ]
    },
    {
      "cell_type": "code",
      "source": [
        "all_data.tail()"
      ],
      "metadata": {
        "colab": {
          "base_uri": "https://localhost:8080/",
          "height": 206
        },
        "id": "6-ZWA7PxQKqr",
        "outputId": "4d38b0c0-a67b-456d-a336-10fa1100861d"
      },
      "execution_count": null,
      "outputs": [
        {
          "output_type": "execute_result",
          "data": {
            "text/plain": [
              "             id                                        document  label\n",
              "199995  4608761       오랜만에 평점 로긴했네ㅋㅋ 킹왕짱 쌈뽕한 영화를 만났습니다 강렬하게 육쾌함      1\n",
              "199996  5308387    의지 박약들이나 하는거다 탈영은 일단 주인공 김대희 닮았고 이등병 찐따 OOOO      0\n",
              "199997  9072549              그림도 좋고 완성도도 높았지만... 보는 내내 불안하게 만든다      0\n",
              "199998  5802125  절대 봐서는 안 될 영화.. 재미도 없고 기분만 잡치고.. 한 세트장에서 다 해먹네      0\n",
              "199999  6070594                                      마무리는 또 왜이래      0"
            ],
            "text/html": [
              "\n",
              "  <div id=\"df-cc675d65-d0ad-4dd4-b2ac-82ebbbdbe735\">\n",
              "    <div class=\"colab-df-container\">\n",
              "      <div>\n",
              "<style scoped>\n",
              "    .dataframe tbody tr th:only-of-type {\n",
              "        vertical-align: middle;\n",
              "    }\n",
              "\n",
              "    .dataframe tbody tr th {\n",
              "        vertical-align: top;\n",
              "    }\n",
              "\n",
              "    .dataframe thead th {\n",
              "        text-align: right;\n",
              "    }\n",
              "</style>\n",
              "<table border=\"1\" class=\"dataframe\">\n",
              "  <thead>\n",
              "    <tr style=\"text-align: right;\">\n",
              "      <th></th>\n",
              "      <th>id</th>\n",
              "      <th>document</th>\n",
              "      <th>label</th>\n",
              "    </tr>\n",
              "  </thead>\n",
              "  <tbody>\n",
              "    <tr>\n",
              "      <th>199995</th>\n",
              "      <td>4608761</td>\n",
              "      <td>오랜만에 평점 로긴했네ㅋㅋ 킹왕짱 쌈뽕한 영화를 만났습니다 강렬하게 육쾌함</td>\n",
              "      <td>1</td>\n",
              "    </tr>\n",
              "    <tr>\n",
              "      <th>199996</th>\n",
              "      <td>5308387</td>\n",
              "      <td>의지 박약들이나 하는거다 탈영은 일단 주인공 김대희 닮았고 이등병 찐따 OOOO</td>\n",
              "      <td>0</td>\n",
              "    </tr>\n",
              "    <tr>\n",
              "      <th>199997</th>\n",
              "      <td>9072549</td>\n",
              "      <td>그림도 좋고 완성도도 높았지만... 보는 내내 불안하게 만든다</td>\n",
              "      <td>0</td>\n",
              "    </tr>\n",
              "    <tr>\n",
              "      <th>199998</th>\n",
              "      <td>5802125</td>\n",
              "      <td>절대 봐서는 안 될 영화.. 재미도 없고 기분만 잡치고.. 한 세트장에서 다 해먹네</td>\n",
              "      <td>0</td>\n",
              "    </tr>\n",
              "    <tr>\n",
              "      <th>199999</th>\n",
              "      <td>6070594</td>\n",
              "      <td>마무리는 또 왜이래</td>\n",
              "      <td>0</td>\n",
              "    </tr>\n",
              "  </tbody>\n",
              "</table>\n",
              "</div>\n",
              "      <button class=\"colab-df-convert\" onclick=\"convertToInteractive('df-cc675d65-d0ad-4dd4-b2ac-82ebbbdbe735')\"\n",
              "              title=\"Convert this dataframe to an interactive table.\"\n",
              "              style=\"display:none;\">\n",
              "        \n",
              "  <svg xmlns=\"http://www.w3.org/2000/svg\" height=\"24px\"viewBox=\"0 0 24 24\"\n",
              "       width=\"24px\">\n",
              "    <path d=\"M0 0h24v24H0V0z\" fill=\"none\"/>\n",
              "    <path d=\"M18.56 5.44l.94 2.06.94-2.06 2.06-.94-2.06-.94-.94-2.06-.94 2.06-2.06.94zm-11 1L8.5 8.5l.94-2.06 2.06-.94-2.06-.94L8.5 2.5l-.94 2.06-2.06.94zm10 10l.94 2.06.94-2.06 2.06-.94-2.06-.94-.94-2.06-.94 2.06-2.06.94z\"/><path d=\"M17.41 7.96l-1.37-1.37c-.4-.4-.92-.59-1.43-.59-.52 0-1.04.2-1.43.59L10.3 9.45l-7.72 7.72c-.78.78-.78 2.05 0 2.83L4 21.41c.39.39.9.59 1.41.59.51 0 1.02-.2 1.41-.59l7.78-7.78 2.81-2.81c.8-.78.8-2.07 0-2.86zM5.41 20L4 18.59l7.72-7.72 1.47 1.35L5.41 20z\"/>\n",
              "  </svg>\n",
              "      </button>\n",
              "      \n",
              "  <style>\n",
              "    .colab-df-container {\n",
              "      display:flex;\n",
              "      flex-wrap:wrap;\n",
              "      gap: 12px;\n",
              "    }\n",
              "\n",
              "    .colab-df-convert {\n",
              "      background-color: #E8F0FE;\n",
              "      border: none;\n",
              "      border-radius: 50%;\n",
              "      cursor: pointer;\n",
              "      display: none;\n",
              "      fill: #1967D2;\n",
              "      height: 32px;\n",
              "      padding: 0 0 0 0;\n",
              "      width: 32px;\n",
              "    }\n",
              "\n",
              "    .colab-df-convert:hover {\n",
              "      background-color: #E2EBFA;\n",
              "      box-shadow: 0px 1px 2px rgba(60, 64, 67, 0.3), 0px 1px 3px 1px rgba(60, 64, 67, 0.15);\n",
              "      fill: #174EA6;\n",
              "    }\n",
              "\n",
              "    [theme=dark] .colab-df-convert {\n",
              "      background-color: #3B4455;\n",
              "      fill: #D2E3FC;\n",
              "    }\n",
              "\n",
              "    [theme=dark] .colab-df-convert:hover {\n",
              "      background-color: #434B5C;\n",
              "      box-shadow: 0px 1px 3px 1px rgba(0, 0, 0, 0.15);\n",
              "      filter: drop-shadow(0px 1px 2px rgba(0, 0, 0, 0.3));\n",
              "      fill: #FFFFFF;\n",
              "    }\n",
              "  </style>\n",
              "\n",
              "      <script>\n",
              "        const buttonEl =\n",
              "          document.querySelector('#df-cc675d65-d0ad-4dd4-b2ac-82ebbbdbe735 button.colab-df-convert');\n",
              "        buttonEl.style.display =\n",
              "          google.colab.kernel.accessAllowed ? 'block' : 'none';\n",
              "\n",
              "        async function convertToInteractive(key) {\n",
              "          const element = document.querySelector('#df-cc675d65-d0ad-4dd4-b2ac-82ebbbdbe735');\n",
              "          const dataTable =\n",
              "            await google.colab.kernel.invokeFunction('convertToInteractive',\n",
              "                                                     [key], {});\n",
              "          if (!dataTable) return;\n",
              "\n",
              "          const docLinkHtml = 'Like what you see? Visit the ' +\n",
              "            '<a target=\"_blank\" href=https://colab.research.google.com/notebooks/data_table.ipynb>data table notebook</a>'\n",
              "            + ' to learn more about interactive tables.';\n",
              "          element.innerHTML = '';\n",
              "          dataTable['output_type'] = 'display_data';\n",
              "          await google.colab.output.renderOutput(dataTable, element);\n",
              "          const docLink = document.createElement('div');\n",
              "          docLink.innerHTML = docLinkHtml;\n",
              "          element.appendChild(docLink);\n",
              "        }\n",
              "      </script>\n",
              "    </div>\n",
              "  </div>\n",
              "  "
            ]
          },
          "metadata": {},
          "execution_count": 66
        }
      ]
    },
    {
      "cell_type": "markdown",
      "source": [
        "load_data 함수를 구현하여 아래 기능을 한 번에 실행해주겠습니다. 포함하는 기능은 아래와 같습니다.\n",
        "1. 데이터의 중복 제거\n",
        "2. 결측치 제거\n",
        "3. 한국어 토크나이저로 토큰화\n",
        "4. 불용어 제거\n",
        "5. 사전 구성\n",
        "6. 텍스트 스트링을 사전 인덱스 스트링으로 변환\n",
        "7. x_train, y_train, val_x, val_y, word_to_index 리턴\n",
        "\n",
        "불용어는 만들어진 불용어 파일을 이용해 제거해주겠습니다."
      ],
      "metadata": {
        "id": "vXoJWSZWQmhz"
      }
    },
    {
      "cell_type": "code",
      "source": [
        "stop_file_path = '/content/drive/MyDrive/AIFFEL/GoingDeeper(NLP)/2_단어사전만들기/stopwords.txt'\n",
        "\n",
        "with open(stop_file_path) as f:\n",
        "  lines = f.read().splitlines()\n"
      ],
      "metadata": {
        "id": "mluQujJ5ZDtm"
      },
      "execution_count": null,
      "outputs": []
    },
    {
      "cell_type": "code",
      "source": [
        "stopwords_list = lines"
      ],
      "metadata": {
        "id": "lhbaRMwMbGhT"
      },
      "execution_count": null,
      "outputs": []
    },
    {
      "cell_type": "code",
      "source": [
        "from konlpy.tag import Mecab\n",
        "import numpy as np\n",
        "from collections import Counter\n",
        "\n",
        "tokenizer_mecab = Mecab()\n",
        "\n",
        "def load_data(train_data, test_data, num_words=16000):\n",
        "  len_train = len(train_data)\n",
        "\n",
        "  all_data = pd.concat([train_data, test_data], axis=0, ignore_index=True)\n",
        "  all_data = all_data.drop_duplicates('document', keep='first')\n",
        "  all_data = all_data.dropna(axis=0)\n",
        "\n",
        "  sentence_list = list(all_data['document'])\n",
        "\n",
        "  token_list = []\n",
        "  for sen in sentence_list:\n",
        "    tokenize_sentence = tokenizer_mecab.morphs(sen)\n",
        "    tokenize_sentence = [word for word in tokenize_sentence if word not in stopwords_list]\n",
        "    token_list.append(tokenize_sentence)\n",
        "  \n",
        "  x_train = token_list[:len_train]\n",
        "  val_x = token_list[len_train:]\n",
        "\n",
        "  words = np.concatenate(x_train).tolist()\n",
        "  counter = Counter(words)\n",
        "  counter = counter.most_common(15000-4)\n",
        "  vocab = ['<PAD>', '<BOS>', '<UNK>', '<UNUSED>'] + [key for key, _ in counter]\n",
        "  \n",
        "  word2index = {word : index for index, word in enumerate(vocab)}\n",
        "\n",
        "  def wordlist_to_indexlist(wordlist):\n",
        "    return [word2index[word] if word in word2index else word2index['<UNK>'] for word in wordlist]\n",
        "  \n",
        "  x_train=np.array(list(map(wordlist_to_indexlist, x_train)), dtype=object)\n",
        "  val_x = np.array(list(map(wordlist_to_indexlist, val_x)), dtype=object)\n",
        "\n",
        "  return x_train, np.array(list(all_data['label'][:len_train]), dtype=object), val_x, np.array(list(all_data['label'][len_train:]), dtype=object), word2index\n",
        "\n",
        "\n"
      ],
      "metadata": {
        "id": "uNJeDSgAQfk_"
      },
      "execution_count": null,
      "outputs": []
    },
    {
      "cell_type": "code",
      "source": [
        "x_train, y_train, val_x, val_y, word2index = load_data(train_data, test_data)"
      ],
      "metadata": {
        "id": "s0MlsrAiBjNq"
      },
      "execution_count": null,
      "outputs": []
    },
    {
      "cell_type": "code",
      "source": [
        "index2word = {index : word for word, index in word2index.items()}"
      ],
      "metadata": {
        "id": "IMJZ11EAUNRN"
      },
      "execution_count": null,
      "outputs": []
    },
    {
      "cell_type": "code",
      "source": [
        "# 문장 1개를 활용할 딕셔너리와 함께 주면 ,단어 인덱스 리스트 벡터로 변환해 주는 함수입니다.\n",
        "# 단, 모든 문장은 <BOS>로 시작하는 것으로 합니다.\n",
        "def get_encoded_sentence(sentence, word_to_index):\n",
        "  return [word_to_index['<BOS>']]+[word_to_index[word] if word in word_to_index else word_to_index['<UNK>'] for word in sentence.split()]\n",
        "\n",
        "# 여러 개의 문장 리스트를 한꺼번에 단어 인덱스 리스트 벡터로 encode해주는 함수입니다.\n",
        "def get_encoded_sentences(sentences, word_to_index):\n",
        "  return [get_encoded_sentence(sentence, word_to_index) for sentence in sentences]\n",
        "\n",
        "# 숫자 벡터로 encode된 문장을 원래대로 decode하는 함수입니다.\n",
        "def get_decoded_sentence(encoded_sentence, index_to_word):\n",
        "  return ' '.join(index_to_word[index] if index in index_to_word else '<UNK>' for index in encoded_sentence[1:])\n",
        "  \n",
        "# 여러 개의 숫자 벡터로 encode된 문장을 한꺼번에 원래대로 decode하는 함수입니다.\n",
        "def get_decoded_sentences(encoded_sentences, index_to_word):\n",
        "  return [get_decoded_sentence(encoded_sentence, index_to_word) for encoded_sentence in encoded_sentences]"
      ],
      "metadata": {
        "id": "6Y9ipjstUbsq"
      },
      "execution_count": null,
      "outputs": []
    },
    {
      "cell_type": "markdown",
      "source": [
        "토큰화된 문장들의 길이분포를 확인하고 최대 문장 길이를 지정해주겠습니다."
      ],
      "metadata": {
        "id": "fBfMRl0eUoK-"
      }
    },
    {
      "cell_type": "code",
      "source": [
        "total_data_text = list(x_train) + list(val_x)\n",
        "\n",
        "# 텍스트데이터 문장길이의 리스트를 생성\n",
        "num_tokens = [len(tokens) for tokens in total_data_text]\n",
        "num_tokens = np.array(num_tokens)\n",
        "\n",
        "# 문장길이의 평균값, 최대값, 표준편차를 계산\n",
        "print('문장길이 평균 : ', np.mean(num_tokens))\n",
        "print('문장길이 최대 : ', np.max(num_tokens))\n",
        "print('문장길이 표준편차 : ', np.std(num_tokens))\n",
        "\n",
        "# 최대 길이를 (평균 + 2 * 표준편차) 로 한다면 남는 문장의 비율은?\n",
        "max_tokens = np.mean(num_tokens) + 2 * np.std(num_tokens)\n",
        "maxlen = int(max_tokens)\n",
        "print('pad_sequences maxlen : ', maxlen)\n",
        "print('전체 문장의 {}%가 maxlen 설정값 이내에 포함됩니다. '.format(np.sum(num_tokens < max_tokens) / len(num_tokens)))"
      ],
      "metadata": {
        "colab": {
          "base_uri": "https://localhost:8080/"
        },
        "id": "f_6soLZdUkM8",
        "outputId": "8438b9ce-e096-47a6-8274-959196bcdd5e"
      },
      "execution_count": null,
      "outputs": [
        {
          "output_type": "stream",
          "name": "stdout",
          "text": [
            "문장길이 평균 :  15.31643903918414\n",
            "문장길이 최대 :  116\n",
            "문장길이 표준편차 :  12.220230883270801\n",
            "pad_sequences maxlen :  39\n",
            "전체 문장의 0.9337370144389672%가 maxlen 설정값 이내에 포함됩니다. \n"
          ]
        }
      ]
    },
    {
      "cell_type": "code",
      "source": [
        "import tensorflow as tf\n",
        "\n",
        "# 문장의 마지막 입력이 최종 state에 영향을 가장 크게 미치기 때문에 패딩 적용은 pre(앞쪽)으로 해줍니다.\n",
        "x_train = tf.keras.preprocessing.sequence.pad_sequences(x_train,\n",
        "                                                        value=word2index['<PAD>'],\n",
        "                                                        padding = 'pre',\n",
        "                                                        maxlen = maxlen)\n",
        " \n",
        "\n",
        "val_x = tf.keras.preprocessing.sequence.pad_sequences(val_x,\n",
        "                                                       value=word2index[\"<PAD>\"],\n",
        "                                                       padding='pre',\n",
        "                                                       maxlen=maxlen)\n",
        "\n",
        "print(x_train.shape)\n"
      ],
      "metadata": {
        "colab": {
          "base_uri": "https://localhost:8080/"
        },
        "id": "SNVcwcHDU0xY",
        "outputId": "78638805-ab48-44cf-a32b-8385d03dccd3"
      },
      "execution_count": null,
      "outputs": [
        {
          "output_type": "stream",
          "name": "stdout",
          "text": [
            "(150000, 39)\n"
          ]
        }
      ]
    },
    {
      "cell_type": "code",
      "source": [
        "x_train = x_train.astype(np.float32)\n",
        "y_train = y_train.astype(np.float32)\n",
        "val_x = val_x.astype(np.float32)\n",
        "val_y = val_y.astype(np.float32)"
      ],
      "metadata": {
        "id": "0ZPsfsTXZzbC"
      },
      "execution_count": null,
      "outputs": []
    },
    {
      "cell_type": "code",
      "source": [
        "vocab_size = 16000\n",
        "word_vector_dim = 200\n",
        "\n",
        "model_lstm_mecab = tf.keras.Sequential()\n",
        "model_lstm_mecab.add(tf.keras.layers.Embedding(vocab_size, word_vector_dim, input_shape=(None,)))\n",
        "model_lstm_mecab.add(tf.keras.layers.LSTM(128))\n",
        "model_lstm_mecab.add(tf.keras.layers.Dense(32, activation='relu'))\n",
        "model_lstm_mecab.add(tf.keras.layers.Dense(1, activation='sigmoid')) # 최종 출력은 긍정/부정을 나타내는 1dim 입니다.\n",
        "model_lstm_mecab.summary()"
      ],
      "metadata": {
        "colab": {
          "base_uri": "https://localhost:8080/"
        },
        "id": "HFftkCxwVAxo",
        "outputId": "1fc9072c-93b6-4ff0-d999-f4d562062750"
      },
      "execution_count": null,
      "outputs": [
        {
          "output_type": "stream",
          "name": "stdout",
          "text": [
            "Model: \"sequential_2\"\n",
            "_________________________________________________________________\n",
            " Layer (type)                Output Shape              Param #   \n",
            "=================================================================\n",
            " embedding_2 (Embedding)     (None, None, 200)         3200000   \n",
            "                                                                 \n",
            " lstm_2 (LSTM)               (None, 128)               168448    \n",
            "                                                                 \n",
            " dense_4 (Dense)             (None, 32)                4128      \n",
            "                                                                 \n",
            " dense_5 (Dense)             (None, 1)                 33        \n",
            "                                                                 \n",
            "=================================================================\n",
            "Total params: 3,372,609\n",
            "Trainable params: 3,372,609\n",
            "Non-trainable params: 0\n",
            "_________________________________________________________________\n"
          ]
        }
      ]
    },
    {
      "cell_type": "code",
      "source": [
        "model_lstm_mecab.compile(optimizer = 'adam',\n",
        "                         loss = 'binary_crossentropy',\n",
        "                         metrics=['accuracy'])\n",
        "\n",
        "epochs = 2\n",
        "\n",
        "history_lstm_mecab = model_lstm_mecab.fit(x_train,\n",
        "                                          y_train,\n",
        "                                          epochs=epochs,\n",
        "                                          batch_size=64,\n",
        "                                          validation_data=(val_x, val_y),\n",
        "                                          )"
      ],
      "metadata": {
        "colab": {
          "base_uri": "https://localhost:8080/"
        },
        "id": "cYznQYrMVSoX",
        "outputId": "79900b8a-b8f8-46a0-9315-0ea134ba495d"
      },
      "execution_count": null,
      "outputs": [
        {
          "output_type": "stream",
          "name": "stdout",
          "text": [
            "Epoch 1/2\n",
            "2344/2344 [==============================] - 17s 7ms/step - loss: 0.3622 - accuracy: 0.8380 - val_loss: 0.3355 - val_accuracy: 0.8556\n",
            "Epoch 2/2\n",
            "2344/2344 [==============================] - 15s 6ms/step - loss: 0.2732 - accuracy: 0.8845 - val_loss: 0.3204 - val_accuracy: 0.8635\n"
          ]
        }
      ]
    },
    {
      "cell_type": "code",
      "source": [
        "history_mecab_dict = history_lstm_mecab.history\n",
        "history_mecab_dict.keys()"
      ],
      "metadata": {
        "colab": {
          "base_uri": "https://localhost:8080/"
        },
        "id": "oaLaiDrTVq88",
        "outputId": "136c6e3a-d4a9-4383-b17d-7154a804a7c6"
      },
      "execution_count": null,
      "outputs": [
        {
          "output_type": "execute_result",
          "data": {
            "text/plain": [
              "dict_keys(['loss', 'accuracy', 'val_loss', 'val_accuracy'])"
            ]
          },
          "metadata": {},
          "execution_count": 78
        }
      ]
    },
    {
      "cell_type": "code",
      "source": [
        "import matplotlib.pyplot as plt\n",
        "\n",
        "loss = history_mecab_dict['loss']\n",
        "val_loss = history_mecab_dict['val_loss']\n",
        "acc = history_mecab_dict['accuracy']\n",
        "val_acc = history_mecab_dict['val_accuracy']\n",
        "\n",
        "epochs = range(1, len(acc) + 1)\n",
        "\n",
        "fig, (ax1, ax2) = plt.subplots(1, 2, figsize=(10,8))\n",
        "ax1.plot(epochs, loss, 'bo', label='Training loss')\n",
        "ax1.plot(epochs, val_loss, 'b', label='Validation loss')\n",
        "ax1.set_title('Traning and validation loss')\n",
        "ax1.legend()\n",
        "\n",
        "ax2.plot(epochs, acc, 'bo', label='Training acc')\n",
        "ax2.plot(epochs, val_acc, 'b', label='Validation acc')\n",
        "ax2.set_title('Training and validation acc')\n",
        "ax2.legend()\n",
        "plt.show()"
      ],
      "metadata": {
        "colab": {
          "base_uri": "https://localhost:8080/",
          "height": 499
        },
        "id": "K2yLz1oPbFbp",
        "outputId": "8209c6cf-53ee-4767-adc3-232017a4a4e6"
      },
      "execution_count": null,
      "outputs": [
        {
          "output_type": "display_data",
          "data": {
            "text/plain": [
              "<Figure size 720x576 with 2 Axes>"
            ],
            "image/png": "[encoded data removed]"
          },
          "metadata": {
            "needs_background": "light"
          }
        }
      ]
    },
    {
      "cell_type": "markdown",
      "source": [
        "## 결과 비교\n",
        "\n",
        "| 전처리, 파라미터 | SentencePiece(unigram) | SentencePiece(BPE) | Mecab |\n",
        "|:---:|:---:|:---:|:---:|\n",
        "|Vocab Size|16000 |16000 | 16000|\n",
        "|문장 길이|10 ~ 140 |10~140 | (토큰의 개수 기준) 39|\n",
        "|패딩 위치| pre| pre|pre |\n",
        "|임베딩 차원| 200| 200|200 |\n",
        "|LSTM hidden size| 128|128|128 |\n",
        "|batch size| 128 | 128| 64|\n",
        "|Validation loss(가장 낮을 때 기준)|0.3107 |0.3282 | 0.3204|\n",
        "|Validation accuracy(가장 높을 때 기준)|0.8657 |0.8649 |0.8635 |\n",
        "\n",
        "\n",
        "이번에 처음 SentencePiece 모델을 사용해봤는데 전처리 없이 그냥 raw text를 그대로 받아서 학습하고 토큰화와 인덱싱까지 해주는 게 너무 편했습니다. Mecab을 사용하려면 기본적인 불용어 제거, 구두점 제거 등의 전처리를 진행해줘야 하는 귀찮음(?)이 있었는데 그게 없는게 가장 컸습니다. 거기에 성능까지 준수하기 때문에 정말 안 쓸 이유가 없는 모델인 것 같습니다.\n",
        "\n",
        "그리고 처음에 LMS에서는 패딩을 'post'로 하는데 LSTM에 들어갈 때 패딩은 'pre'로 하는 게 더 좋다고 들어서 왜 이렇게 하는거지? 라는 생각이 들었습니다.   \n",
        "그래도 일단 'post'로 진행해봤는데 성능이 너무 안좋아서 'pre'로 바꿔주니 확실히 성능이 좋아졌습니다.  \n",
        "그리고 문장의 길이에 따른 성능을 볼 때도 처음에 문장을 전부 다 쓰면 데이터가 많으니까 좋겠지?? 하고 전부 다 사용했습니다. 그랬더니 그래프가 미친듯한 과적합 양상을 보여서 놀래서 중단했습니다. ㅎㅎ;  \n",
        "그 후로  5 ~ 80, 10 ~ 80, 10~140 으로 길이를 바꿔가며 진행 했는데 문장의 길이가 길어지는 것은 성능에 그렇게 큰 영향을 끼치진 않았지만 길이가 너무 짧은(10 미만)문장들은 오히려 성능에 악영향을 끼치는 모습을 보였습니다. 앞으로 문장의 길이가 너무 짧은 것들은 얄짤없이 다 버려야겠습니다.  \n",
        "\n",
        "이번에 처음으로 Mecab대신 다른 SentencePiece라는 모델을 사용해봤는데 전처리가 필요없이 아주 준수한 성능을 내는 모델이란 걸 알았고 다음에 데이터 전처리를 할 때는 웬만해서는 SentencePiece 모델을 사용할 것 같습니다. "
      ],
      "metadata": {
        "id": "oSBIdNV8kDJw"
      }
    }
  ]
}