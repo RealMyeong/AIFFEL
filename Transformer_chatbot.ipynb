{
  "nbformat": 4,
  "nbformat_minor": 0,
  "metadata": {
    "colab": {
      "provenance": [],
      "collapsed_sections": [],
      "machine_shape": "hm",
      "mount_file_id": "1Fiwlrd5KVOKXLBEb-F4J7tr_Gaznn53X",
      "authorship_tag": "ABX9TyN6GHER3bBL9zyfvwp3JYp3",
      "include_colab_link": true
    },
    "kernelspec": {
      "name": "python3",
      "display_name": "Python 3"
    },
    "language_info": {
      "name": "python"
    },
    "accelerator": "GPU",
    "gpuClass": "standard"
  },
  "cells": [
    {
      "cell_type": "markdown",
      "metadata": {
        "id": "view-in-github",
        "colab_type": "text"
      },
      "source": [
        "<a href=\"https://colab.research.google.com/github/RealMyeong/Going_Deeper_NLP/blob/main/Transformer_chatbot.ipynb\" target=\"_parent\"><img src=\"https://colab.research.google.com/assets/colab-badge.svg\" alt=\"Open In Colab\"/></a>"
      ]
    },
    {
      "cell_type": "markdown",
      "source": [
        "## 1. 데이터 불러오고 확인"
      ],
      "metadata": {
        "id": "g8SGc5sV71Do"
      }
    },
    {
      "cell_type": "code",
      "source": [
        "# %%bash\n",
        "# apt-get update\n",
        "# apt-get install g++ openjdk-8-jdk python-dev python3-dev\n",
        "# pip3 install JPype1\n",
        "# pip3 install konlpy"
      ],
      "metadata": {
        "id": "RztOw35suiJb"
      },
      "execution_count": 1,
      "outputs": []
    },
    {
      "cell_type": "code",
      "source": [
        "# %env JAVA_HOME \"/usr/lib/jvm/java-8-openjdk-amd64\""
      ],
      "metadata": {
        "id": "u0mp7tdWuUt9"
      },
      "execution_count": 2,
      "outputs": []
    },
    {
      "cell_type": "code",
      "source": [
        "# # Mecab 설치\n",
        "# !apt-get update\n",
        "# !apt-get install g++ openjdk-8-jdk \n",
        "# !pip3 install konlpy JPype1-py3\n",
        "# !bash <(curl -s https://raw.githubusercontent.com/konlpy/konlpy/master/scripts/mecab.sh)"
      ],
      "metadata": {
        "id": "_ak3DY34uST1"
      },
      "execution_count": 3,
      "outputs": []
    },
    {
      "cell_type": "code",
      "execution_count": 4,
      "metadata": {
        "id": "LK2SMLxlr5BA"
      },
      "outputs": [],
      "source": [
        "import numpy as np\n",
        "import pandas as pd\n",
        "import tensorflow as tf\n",
        "import matplotlib.pyplot as plt\n",
        "import re\n",
        "import konlpy\n",
        "from konlpy.tag import Mecab\n"
      ]
    },
    {
      "cell_type": "code",
      "source": [
        "\n",
        "file_path = '/content/drive/MyDrive/AIFFEL/GoingDeeper_NLP/12_Transformer챗봇/ChatbotData .csv'\n",
        "data = pd.read_csv(file_path)\n",
        "data.head(10)"
      ],
      "metadata": {
        "colab": {
          "base_uri": "https://localhost:8080/",
          "height": 363
        },
        "id": "K1aX-divvnul",
        "outputId": "0e02ec24-2497-4f9c-ce6a-7b48a8a14753"
      },
      "execution_count": 5,
      "outputs": [
        {
          "output_type": "execute_result",
          "data": {
            "text/plain": [
              "                         Q                   A  label\n",
              "0                   12시 땡!          하루가 또 가네요.      0\n",
              "1              1지망 학교 떨어졌어           위로해 드립니다.      0\n",
              "2             3박4일 놀러가고 싶다         여행은 언제나 좋죠.      0\n",
              "3          3박4일 정도 놀러가고 싶다         여행은 언제나 좋죠.      0\n",
              "4                  PPL 심하네          눈살이 찌푸려지죠.      0\n",
              "5                SD카드 망가졌어  다시 새로 사는 게 마음 편해요.      0\n",
              "6                  SD카드 안돼  다시 새로 사는 게 마음 편해요.      0\n",
              "7           SNS 맞팔 왜 안하지ㅠㅠ    잘 모르고 있을 수도 있어요.      0\n",
              "8  SNS 시간낭비인 거 아는데 매일 하는 중       시간을 정하고 해보세요.      0\n",
              "9        SNS 시간낭비인데 자꾸 보게됨       시간을 정하고 해보세요.      0"
            ],
            "text/html": [
              "\n",
              "  <div id=\"df-3e87ebd1-9cb0-4afa-8ca3-191102a52050\">\n",
              "    <div class=\"colab-df-container\">\n",
              "      <div>\n",
              "<style scoped>\n",
              "    .dataframe tbody tr th:only-of-type {\n",
              "        vertical-align: middle;\n",
              "    }\n",
              "\n",
              "    .dataframe tbody tr th {\n",
              "        vertical-align: top;\n",
              "    }\n",
              "\n",
              "    .dataframe thead th {\n",
              "        text-align: right;\n",
              "    }\n",
              "</style>\n",
              "<table border=\"1\" class=\"dataframe\">\n",
              "  <thead>\n",
              "    <tr style=\"text-align: right;\">\n",
              "      <th></th>\n",
              "      <th>Q</th>\n",
              "      <th>A</th>\n",
              "      <th>label</th>\n",
              "    </tr>\n",
              "  </thead>\n",
              "  <tbody>\n",
              "    <tr>\n",
              "      <th>0</th>\n",
              "      <td>12시 땡!</td>\n",
              "      <td>하루가 또 가네요.</td>\n",
              "      <td>0</td>\n",
              "    </tr>\n",
              "    <tr>\n",
              "      <th>1</th>\n",
              "      <td>1지망 학교 떨어졌어</td>\n",
              "      <td>위로해 드립니다.</td>\n",
              "      <td>0</td>\n",
              "    </tr>\n",
              "    <tr>\n",
              "      <th>2</th>\n",
              "      <td>3박4일 놀러가고 싶다</td>\n",
              "      <td>여행은 언제나 좋죠.</td>\n",
              "      <td>0</td>\n",
              "    </tr>\n",
              "    <tr>\n",
              "      <th>3</th>\n",
              "      <td>3박4일 정도 놀러가고 싶다</td>\n",
              "      <td>여행은 언제나 좋죠.</td>\n",
              "      <td>0</td>\n",
              "    </tr>\n",
              "    <tr>\n",
              "      <th>4</th>\n",
              "      <td>PPL 심하네</td>\n",
              "      <td>눈살이 찌푸려지죠.</td>\n",
              "      <td>0</td>\n",
              "    </tr>\n",
              "    <tr>\n",
              "      <th>5</th>\n",
              "      <td>SD카드 망가졌어</td>\n",
              "      <td>다시 새로 사는 게 마음 편해요.</td>\n",
              "      <td>0</td>\n",
              "    </tr>\n",
              "    <tr>\n",
              "      <th>6</th>\n",
              "      <td>SD카드 안돼</td>\n",
              "      <td>다시 새로 사는 게 마음 편해요.</td>\n",
              "      <td>0</td>\n",
              "    </tr>\n",
              "    <tr>\n",
              "      <th>7</th>\n",
              "      <td>SNS 맞팔 왜 안하지ㅠㅠ</td>\n",
              "      <td>잘 모르고 있을 수도 있어요.</td>\n",
              "      <td>0</td>\n",
              "    </tr>\n",
              "    <tr>\n",
              "      <th>8</th>\n",
              "      <td>SNS 시간낭비인 거 아는데 매일 하는 중</td>\n",
              "      <td>시간을 정하고 해보세요.</td>\n",
              "      <td>0</td>\n",
              "    </tr>\n",
              "    <tr>\n",
              "      <th>9</th>\n",
              "      <td>SNS 시간낭비인데 자꾸 보게됨</td>\n",
              "      <td>시간을 정하고 해보세요.</td>\n",
              "      <td>0</td>\n",
              "    </tr>\n",
              "  </tbody>\n",
              "</table>\n",
              "</div>\n",
              "      <button class=\"colab-df-convert\" onclick=\"convertToInteractive('df-3e87ebd1-9cb0-4afa-8ca3-191102a52050')\"\n",
              "              title=\"Convert this dataframe to an interactive table.\"\n",
              "              style=\"display:none;\">\n",
              "        \n",
              "  <svg xmlns=\"http://www.w3.org/2000/svg\" height=\"24px\"viewBox=\"0 0 24 24\"\n",
              "       width=\"24px\">\n",
              "    <path d=\"M0 0h24v24H0V0z\" fill=\"none\"/>\n",
              "    <path d=\"M18.56 5.44l.94 2.06.94-2.06 2.06-.94-2.06-.94-.94-2.06-.94 2.06-2.06.94zm-11 1L8.5 8.5l.94-2.06 2.06-.94-2.06-.94L8.5 2.5l-.94 2.06-2.06.94zm10 10l.94 2.06.94-2.06 2.06-.94-2.06-.94-.94-2.06-.94 2.06-2.06.94z\"/><path d=\"M17.41 7.96l-1.37-1.37c-.4-.4-.92-.59-1.43-.59-.52 0-1.04.2-1.43.59L10.3 9.45l-7.72 7.72c-.78.78-.78 2.05 0 2.83L4 21.41c.39.39.9.59 1.41.59.51 0 1.02-.2 1.41-.59l7.78-7.78 2.81-2.81c.8-.78.8-2.07 0-2.86zM5.41 20L4 18.59l7.72-7.72 1.47 1.35L5.41 20z\"/>\n",
              "  </svg>\n",
              "      </button>\n",
              "      \n",
              "  <style>\n",
              "    .colab-df-container {\n",
              "      display:flex;\n",
              "      flex-wrap:wrap;\n",
              "      gap: 12px;\n",
              "    }\n",
              "\n",
              "    .colab-df-convert {\n",
              "      background-color: #E8F0FE;\n",
              "      border: none;\n",
              "      border-radius: 50%;\n",
              "      cursor: pointer;\n",
              "      display: none;\n",
              "      fill: #1967D2;\n",
              "      height: 32px;\n",
              "      padding: 0 0 0 0;\n",
              "      width: 32px;\n",
              "    }\n",
              "\n",
              "    .colab-df-convert:hover {\n",
              "      background-color: #E2EBFA;\n",
              "      box-shadow: 0px 1px 2px rgba(60, 64, 67, 0.3), 0px 1px 3px 1px rgba(60, 64, 67, 0.15);\n",
              "      fill: #174EA6;\n",
              "    }\n",
              "\n",
              "    [theme=dark] .colab-df-convert {\n",
              "      background-color: #3B4455;\n",
              "      fill: #D2E3FC;\n",
              "    }\n",
              "\n",
              "    [theme=dark] .colab-df-convert:hover {\n",
              "      background-color: #434B5C;\n",
              "      box-shadow: 0px 1px 3px 1px rgba(0, 0, 0, 0.15);\n",
              "      filter: drop-shadow(0px 1px 2px rgba(0, 0, 0, 0.3));\n",
              "      fill: #FFFFFF;\n",
              "    }\n",
              "  </style>\n",
              "\n",
              "      <script>\n",
              "        const buttonEl =\n",
              "          document.querySelector('#df-3e87ebd1-9cb0-4afa-8ca3-191102a52050 button.colab-df-convert');\n",
              "        buttonEl.style.display =\n",
              "          google.colab.kernel.accessAllowed ? 'block' : 'none';\n",
              "\n",
              "        async function convertToInteractive(key) {\n",
              "          const element = document.querySelector('#df-3e87ebd1-9cb0-4afa-8ca3-191102a52050');\n",
              "          const dataTable =\n",
              "            await google.colab.kernel.invokeFunction('convertToInteractive',\n",
              "                                                     [key], {});\n",
              "          if (!dataTable) return;\n",
              "\n",
              "          const docLinkHtml = 'Like what you see? Visit the ' +\n",
              "            '<a target=\"_blank\" href=https://colab.research.google.com/notebooks/data_table.ipynb>data table notebook</a>'\n",
              "            + ' to learn more about interactive tables.';\n",
              "          element.innerHTML = '';\n",
              "          dataTable['output_type'] = 'display_data';\n",
              "          await google.colab.output.renderOutput(dataTable, element);\n",
              "          const docLink = document.createElement('div');\n",
              "          docLink.innerHTML = docLinkHtml;\n",
              "          element.appendChild(docLink);\n",
              "        }\n",
              "      </script>\n",
              "    </div>\n",
              "  </div>\n",
              "  "
            ]
          },
          "metadata": {},
          "execution_count": 5
        }
      ]
    },
    {
      "cell_type": "code",
      "source": [
        "data[-10:]"
      ],
      "metadata": {
        "colab": {
          "base_uri": "https://localhost:8080/",
          "height": 363
        },
        "id": "wK1pjdSG_87M",
        "outputId": "df45cb48-20f3-4f10-eec8-1f9087698f3b"
      },
      "execution_count": 6,
      "outputs": [
        {
          "output_type": "execute_result",
          "data": {
            "text/plain": [
              "                             Q                                            A  \\\n",
              "11813   회사에 좋아하는 남자가 생겼어 어떡하지?                              사랑하기 힘든 관계인가봐요.   \n",
              "11814   회사에서 어떤 사람이랑 자꾸 눈 마추쳐.                      눈 마주치는 게 우연인지 잘 살펴 보세요.   \n",
              "11815      회식 중이라고 하는데 연락이 안돼.  정신 없이 바쁠지도 몰라요. 조금만 더 기다려보고 물어보는게 좋을 것 같아요.   \n",
              "11816        회식하는데 나만 챙겨줘. 썸임?          호감이 있을 수도 있어요. 그렇지만 조금 더 상황을 지켜보세요.   \n",
              "11817            후회 없이 사랑하고 싶어                                진심으로 다가가 보세요.   \n",
              "11818           훔쳐보는 것도 눈치 보임.                           티가 나니까 눈치가 보이는 거죠!   \n",
              "11819           훔쳐보는 것도 눈치 보임.                                훔쳐보는 거 티나나봐요.   \n",
              "11820              흑기사 해주는 짝남.                                       설렜겠어요.   \n",
              "11821  힘든 연애 좋은 연애라는게 무슨 차이일까?                     잘 헤어질 수 있는 사이 여부인 거 같아요.   \n",
              "11822               힘들어서 결혼할까봐                           도피성 결혼은 하지 않길 바라요.   \n",
              "\n",
              "       label  \n",
              "11813      2  \n",
              "11814      2  \n",
              "11815      2  \n",
              "11816      2  \n",
              "11817      2  \n",
              "11818      2  \n",
              "11819      2  \n",
              "11820      2  \n",
              "11821      2  \n",
              "11822      2  "
            ],
            "text/html": [
              "\n",
              "  <div id=\"df-19d30282-4398-4c68-a69f-5410782adb7e\">\n",
              "    <div class=\"colab-df-container\">\n",
              "      <div>\n",
              "<style scoped>\n",
              "    .dataframe tbody tr th:only-of-type {\n",
              "        vertical-align: middle;\n",
              "    }\n",
              "\n",
              "    .dataframe tbody tr th {\n",
              "        vertical-align: top;\n",
              "    }\n",
              "\n",
              "    .dataframe thead th {\n",
              "        text-align: right;\n",
              "    }\n",
              "</style>\n",
              "<table border=\"1\" class=\"dataframe\">\n",
              "  <thead>\n",
              "    <tr style=\"text-align: right;\">\n",
              "      <th></th>\n",
              "      <th>Q</th>\n",
              "      <th>A</th>\n",
              "      <th>label</th>\n",
              "    </tr>\n",
              "  </thead>\n",
              "  <tbody>\n",
              "    <tr>\n",
              "      <th>11813</th>\n",
              "      <td>회사에 좋아하는 남자가 생겼어 어떡하지?</td>\n",
              "      <td>사랑하기 힘든 관계인가봐요.</td>\n",
              "      <td>2</td>\n",
              "    </tr>\n",
              "    <tr>\n",
              "      <th>11814</th>\n",
              "      <td>회사에서 어떤 사람이랑 자꾸 눈 마추쳐.</td>\n",
              "      <td>눈 마주치는 게 우연인지 잘 살펴 보세요.</td>\n",
              "      <td>2</td>\n",
              "    </tr>\n",
              "    <tr>\n",
              "      <th>11815</th>\n",
              "      <td>회식 중이라고 하는데 연락이 안돼.</td>\n",
              "      <td>정신 없이 바쁠지도 몰라요. 조금만 더 기다려보고 물어보는게 좋을 것 같아요.</td>\n",
              "      <td>2</td>\n",
              "    </tr>\n",
              "    <tr>\n",
              "      <th>11816</th>\n",
              "      <td>회식하는데 나만 챙겨줘. 썸임?</td>\n",
              "      <td>호감이 있을 수도 있어요. 그렇지만 조금 더 상황을 지켜보세요.</td>\n",
              "      <td>2</td>\n",
              "    </tr>\n",
              "    <tr>\n",
              "      <th>11817</th>\n",
              "      <td>후회 없이 사랑하고 싶어</td>\n",
              "      <td>진심으로 다가가 보세요.</td>\n",
              "      <td>2</td>\n",
              "    </tr>\n",
              "    <tr>\n",
              "      <th>11818</th>\n",
              "      <td>훔쳐보는 것도 눈치 보임.</td>\n",
              "      <td>티가 나니까 눈치가 보이는 거죠!</td>\n",
              "      <td>2</td>\n",
              "    </tr>\n",
              "    <tr>\n",
              "      <th>11819</th>\n",
              "      <td>훔쳐보는 것도 눈치 보임.</td>\n",
              "      <td>훔쳐보는 거 티나나봐요.</td>\n",
              "      <td>2</td>\n",
              "    </tr>\n",
              "    <tr>\n",
              "      <th>11820</th>\n",
              "      <td>흑기사 해주는 짝남.</td>\n",
              "      <td>설렜겠어요.</td>\n",
              "      <td>2</td>\n",
              "    </tr>\n",
              "    <tr>\n",
              "      <th>11821</th>\n",
              "      <td>힘든 연애 좋은 연애라는게 무슨 차이일까?</td>\n",
              "      <td>잘 헤어질 수 있는 사이 여부인 거 같아요.</td>\n",
              "      <td>2</td>\n",
              "    </tr>\n",
              "    <tr>\n",
              "      <th>11822</th>\n",
              "      <td>힘들어서 결혼할까봐</td>\n",
              "      <td>도피성 결혼은 하지 않길 바라요.</td>\n",
              "      <td>2</td>\n",
              "    </tr>\n",
              "  </tbody>\n",
              "</table>\n",
              "</div>\n",
              "      <button class=\"colab-df-convert\" onclick=\"convertToInteractive('df-19d30282-4398-4c68-a69f-5410782adb7e')\"\n",
              "              title=\"Convert this dataframe to an interactive table.\"\n",
              "              style=\"display:none;\">\n",
              "        \n",
              "  <svg xmlns=\"http://www.w3.org/2000/svg\" height=\"24px\"viewBox=\"0 0 24 24\"\n",
              "       width=\"24px\">\n",
              "    <path d=\"M0 0h24v24H0V0z\" fill=\"none\"/>\n",
              "    <path d=\"M18.56 5.44l.94 2.06.94-2.06 2.06-.94-2.06-.94-.94-2.06-.94 2.06-2.06.94zm-11 1L8.5 8.5l.94-2.06 2.06-.94-2.06-.94L8.5 2.5l-.94 2.06-2.06.94zm10 10l.94 2.06.94-2.06 2.06-.94-2.06-.94-.94-2.06-.94 2.06-2.06.94z\"/><path d=\"M17.41 7.96l-1.37-1.37c-.4-.4-.92-.59-1.43-.59-.52 0-1.04.2-1.43.59L10.3 9.45l-7.72 7.72c-.78.78-.78 2.05 0 2.83L4 21.41c.39.39.9.59 1.41.59.51 0 1.02-.2 1.41-.59l7.78-7.78 2.81-2.81c.8-.78.8-2.07 0-2.86zM5.41 20L4 18.59l7.72-7.72 1.47 1.35L5.41 20z\"/>\n",
              "  </svg>\n",
              "      </button>\n",
              "      \n",
              "  <style>\n",
              "    .colab-df-container {\n",
              "      display:flex;\n",
              "      flex-wrap:wrap;\n",
              "      gap: 12px;\n",
              "    }\n",
              "\n",
              "    .colab-df-convert {\n",
              "      background-color: #E8F0FE;\n",
              "      border: none;\n",
              "      border-radius: 50%;\n",
              "      cursor: pointer;\n",
              "      display: none;\n",
              "      fill: #1967D2;\n",
              "      height: 32px;\n",
              "      padding: 0 0 0 0;\n",
              "      width: 32px;\n",
              "    }\n",
              "\n",
              "    .colab-df-convert:hover {\n",
              "      background-color: #E2EBFA;\n",
              "      box-shadow: 0px 1px 2px rgba(60, 64, 67, 0.3), 0px 1px 3px 1px rgba(60, 64, 67, 0.15);\n",
              "      fill: #174EA6;\n",
              "    }\n",
              "\n",
              "    [theme=dark] .colab-df-convert {\n",
              "      background-color: #3B4455;\n",
              "      fill: #D2E3FC;\n",
              "    }\n",
              "\n",
              "    [theme=dark] .colab-df-convert:hover {\n",
              "      background-color: #434B5C;\n",
              "      box-shadow: 0px 1px 3px 1px rgba(0, 0, 0, 0.15);\n",
              "      filter: drop-shadow(0px 1px 2px rgba(0, 0, 0, 0.3));\n",
              "      fill: #FFFFFF;\n",
              "    }\n",
              "  </style>\n",
              "\n",
              "      <script>\n",
              "        const buttonEl =\n",
              "          document.querySelector('#df-19d30282-4398-4c68-a69f-5410782adb7e button.colab-df-convert');\n",
              "        buttonEl.style.display =\n",
              "          google.colab.kernel.accessAllowed ? 'block' : 'none';\n",
              "\n",
              "        async function convertToInteractive(key) {\n",
              "          const element = document.querySelector('#df-19d30282-4398-4c68-a69f-5410782adb7e');\n",
              "          const dataTable =\n",
              "            await google.colab.kernel.invokeFunction('convertToInteractive',\n",
              "                                                     [key], {});\n",
              "          if (!dataTable) return;\n",
              "\n",
              "          const docLinkHtml = 'Like what you see? Visit the ' +\n",
              "            '<a target=\"_blank\" href=https://colab.research.google.com/notebooks/data_table.ipynb>data table notebook</a>'\n",
              "            + ' to learn more about interactive tables.';\n",
              "          element.innerHTML = '';\n",
              "          dataTable['output_type'] = 'display_data';\n",
              "          await google.colab.output.renderOutput(dataTable, element);\n",
              "          const docLink = document.createElement('div');\n",
              "          docLink.innerHTML = docLinkHtml;\n",
              "          element.appendChild(docLink);\n",
              "        }\n",
              "      </script>\n",
              "    </div>\n",
              "  </div>\n",
              "  "
            ]
          },
          "metadata": {},
          "execution_count": 6
        }
      ]
    },
    {
      "cell_type": "code",
      "source": [
        "len(data)"
      ],
      "metadata": {
        "colab": {
          "base_uri": "https://localhost:8080/"
        },
        "id": "8xVtor04vwSH",
        "outputId": "5ebaa2aa-9dd0-4f69-a17f-42028eb0b817"
      },
      "execution_count": 7,
      "outputs": [
        {
          "output_type": "execute_result",
          "data": {
            "text/plain": [
              "11823"
            ]
          },
          "metadata": {},
          "execution_count": 7
        }
      ]
    },
    {
      "cell_type": "code",
      "source": [
        "questions = (data['Q'])\n",
        "answers = (data['A'])"
      ],
      "metadata": {
        "id": "KqCJRYC6vy6u"
      },
      "execution_count": 8,
      "outputs": []
    },
    {
      "cell_type": "code",
      "source": [
        "len(questions), len(answers)"
      ],
      "metadata": {
        "colab": {
          "base_uri": "https://localhost:8080/"
        },
        "id": "aBCI2-CuypwJ",
        "outputId": "9935b08c-7f76-4207-d8f0-76ce5402ea64"
      },
      "execution_count": 9,
      "outputs": [
        {
          "output_type": "execute_result",
          "data": {
            "text/plain": [
              "(11823, 11823)"
            ]
          },
          "metadata": {},
          "execution_count": 9
        }
      ]
    },
    {
      "cell_type": "markdown",
      "source": [
        "## 2. 데이터 정제"
      ],
      "metadata": {
        "id": "52hFW31674ON"
      }
    },
    {
      "cell_type": "code",
      "source": [
        "# 전처리 함수 정의\n",
        "def preprocess_sentence(sentence):\n",
        "  sentence = sentence.lower().strip()\n",
        "  sentence = re.sub(r\"[^0-9a-zA-Z가-힣ㄱ-ㅎㅏ-ㅣ.!?,]+\", \" \", sentence)\n",
        "\n",
        "  return sentence"
      ],
      "metadata": {
        "id": "I982gLs57OX-"
      },
      "execution_count": 10,
      "outputs": []
    },
    {
      "cell_type": "code",
      "source": [
        "n_dup_q = list(set(questions))"
      ],
      "metadata": {
        "id": "CZsdC57M8iGo"
      },
      "execution_count": 11,
      "outputs": []
    },
    {
      "cell_type": "code",
      "source": [
        "len(n_dup_q)"
      ],
      "metadata": {
        "colab": {
          "base_uri": "https://localhost:8080/"
        },
        "id": "4avbvhLc8mKf",
        "outputId": "9004d931-ee2a-4d72-b1b7-d913fd8f92f9"
      },
      "execution_count": 12,
      "outputs": [
        {
          "output_type": "execute_result",
          "data": {
            "text/plain": [
              "11662"
            ]
          },
          "metadata": {},
          "execution_count": 12
        }
      ]
    },
    {
      "cell_type": "markdown",
      "source": [
        "## 3. 데이터 토큰화\n",
        "\n",
        "토큰화에는 KoNLPy의 mecab 클래스를 사용합니다.\n",
        "\n",
        "아래 조건을 만족하는 build_corpus() 함수를 구현하세요!\n",
        "\n",
        "1. 소스 문장 데이터와 타겟 문장 데이터를 입력으로 받습니다.\n",
        "2. 데이터를 앞서 정의한 preprocess_sentence() 함수로 정제하고, 토큰화합니다.\n",
        "3. 토큰화는 전달받은 토크나이즈 함수를 사용합니다. 이번엔 mecab.morphs 함수를 전달하시면 됩니다.\n",
        "4. 토큰의 개수가 일정 길이 이상인 문장은 데이터에서 제외합니다.\n",
        "5. 중복되는 문장은 데이터에서 제외합니다. 소스 : 타겟 쌍을 비교하지 않고 소스는 소스대로 타겟은 타겟대로 검사합니다. 중복 쌍이 흐트러지지 않도록 유의하세요!\n",
        "\n",
        "구현한 함수를 활용하여 questions 와 answers 를 각각 que_corpus , ans_corpus 에 토큰화하여 저장합니다.\n",
        "\n",
        "\n"
      ],
      "metadata": {
        "id": "hSXVdCyp80h1"
      }
    },
    {
      "cell_type": "code",
      "source": [
        "\n",
        "def build_corpus(question, answer):\n",
        "\n",
        "  mecab = Mecab()\n",
        "  cleaned_q = [preprocess_sentence(x) for x in question]\n",
        "  cleaned_a = [preprocess_sentence(x) for x in answer]\n",
        "\n",
        "  que_corpus = [mecab.morphs(sen) for sen in cleaned_q]\n",
        "  ans_corpus = [mecab.morphs(sen) for sen in cleaned_a]\n",
        "\n",
        "\n",
        "\n",
        "  que_len_list = [[len(sen), index] for index, sen in enumerate(que_corpus)]\n",
        "  ans_len_list = [[len(sen), index] for index, sen in enumerate(ans_corpus)]\n",
        "  \n",
        "  filtered_q = []\n",
        "  filtered_a = []\n",
        "  for q, a in zip(que_len_list, ans_len_list):\n",
        "    if 2< q[0] <= 50 and 2< a[0] <= 50:\n",
        "      filtered_q.append(que_corpus[q[1]])\n",
        "      filtered_a.append(ans_corpus[a[1]])\n",
        "  \n",
        "  return filtered_q, filtered_a\n",
        "  # return que_corpus, ans_corpus\n"
      ],
      "metadata": {
        "id": "ury3KtOB8nyY"
      },
      "execution_count": 13,
      "outputs": []
    },
    {
      "cell_type": "code",
      "source": [
        "que_corpus, ans_corpus = build_corpus(questions, answers)\n",
        "print(len(que_corpus))\n",
        "print(que_corpus[:5])\n",
        "print(len(ans_corpus))\n",
        "print(ans_corpus[:5])"
      ],
      "metadata": {
        "colab": {
          "base_uri": "https://localhost:8080/"
        },
        "id": "NjRTGRW9AFq2",
        "outputId": "da1ae34d-1bb3-4aef-a215-79713146dcfa"
      },
      "execution_count": 14,
      "outputs": [
        {
          "output_type": "stream",
          "name": "stdout",
          "text": [
            "11301\n",
            "[['12', '시', '땡', '!'], ['1', '지망', '학교', '떨어졌', '어'], ['3', '박', '4', '일', '놀', '러', '가', '고', '싶', '다'], ['3', '박', '4', '일', '정도', '놀', '러', '가', '고', '싶', '다'], ['ppl', '심하', '네']]\n",
            "11301\n",
            "[['하루', '가', '또', '가', '네요', '.'], ['위로', '해', '드립니다', '.'], ['여행', '은', '언제나', '좋', '죠', '.'], ['여행', '은', '언제나', '좋', '죠', '.'], ['눈살', '이', '찌푸려', '지', '죠', '.']]\n"
          ]
        }
      ]
    },
    {
      "cell_type": "code",
      "source": [
        "# 나중에 성능 평가에 사용할 문장 10개 미리 뽑아내줌.\n",
        "enc_val = que_corpus[-10:]\n",
        "dec_val = ans_corpus[-10:]\n",
        "\n",
        "que_corpus = que_corpus[:-10]\n",
        "ans_corpus = ans_corpus[:-10]\n"
      ],
      "metadata": {
        "id": "Qzjc37d3zFdw"
      },
      "execution_count": 15,
      "outputs": []
    },
    {
      "cell_type": "code",
      "source": [
        "enc_val"
      ],
      "metadata": {
        "colab": {
          "base_uri": "https://localhost:8080/"
        },
        "id": "NCWNFjwEAXG_",
        "outputId": "0ced9454-63eb-4e5e-ed8a-c9cb37e9b205"
      },
      "execution_count": 16,
      "outputs": [
        {
          "output_type": "execute_result",
          "data": {
            "text/plain": [
              "[['회사', '에', '좋', '아', '하', '는', '남자', '가', '생겼', '어', '어떡', '하', '지', '?'],\n",
              " ['회사', '에서', '어떤', '사람', '이랑', '자꾸', '눈', '마추', '쳐', '.'],\n",
              " ['회식', '중', '이', '라고', '하', '는데', '연락', '이', '안', '돼', '.'],\n",
              " ['회식', '하', '는데', '나', '만', '챙겨', '줘', '.', '썸', '임', '?'],\n",
              " ['후회', '없이', '사랑', '하', '고', '싶', '어'],\n",
              " ['훔쳐', '보', '는', '것', '도', '눈치', '보임', '.'],\n",
              " ['훔쳐', '보', '는', '것', '도', '눈치', '보임', '.'],\n",
              " ['흑기사', '해', '주', '는', '짝', '남', '.'],\n",
              " ['힘든', '연애', '좋', '은', '연애', '라는', '게', '무슨', '차이', '일까', '?'],\n",
              " ['힘들', '어서', '결혼', '할까봐']]"
            ]
          },
          "metadata": {},
          "execution_count": 16
        }
      ]
    },
    {
      "cell_type": "code",
      "source": [
        "dec_val"
      ],
      "metadata": {
        "colab": {
          "base_uri": "https://localhost:8080/"
        },
        "id": "9oizEUnDAd2d",
        "outputId": "f89d9599-2592-4558-d331-4d80489e0fe7"
      },
      "execution_count": 17,
      "outputs": [
        {
          "output_type": "execute_result",
          "data": {
            "text/plain": [
              "[['사랑', '하', '기', '힘든', '관계', '인가', '봐요', '.'],\n",
              " ['눈', '마주치', '는', '게', '우연', '인지', '잘', '살펴', '보', '세요', '.'],\n",
              " ['정신',\n",
              "  '없이',\n",
              "  '바쁠',\n",
              "  '지도',\n",
              "  '몰라요',\n",
              "  '.',\n",
              "  '조금',\n",
              "  '만',\n",
              "  '더',\n",
              "  '기다려',\n",
              "  '보',\n",
              "  '고',\n",
              "  '물',\n",
              "  '어',\n",
              "  '보',\n",
              "  '는',\n",
              "  '게',\n",
              "  '좋',\n",
              "  '을',\n",
              "  '것',\n",
              "  '같',\n",
              "  '아요',\n",
              "  '.'],\n",
              " ['호감',\n",
              "  '이',\n",
              "  '있',\n",
              "  '을',\n",
              "  '수',\n",
              "  '도',\n",
              "  '있',\n",
              "  '어요',\n",
              "  '.',\n",
              "  '그렇지만',\n",
              "  '조금',\n",
              "  '더',\n",
              "  '상황',\n",
              "  '을',\n",
              "  '지켜보',\n",
              "  '세요',\n",
              "  '.'],\n",
              " ['진심', '으로', '다가가', '보', '세요', '.'],\n",
              " ['티', '가', '나', '니까', '눈치', '가', '보이', '는', '거', '죠', '!'],\n",
              " ['훔쳐', '보', '는', '거', '티나', '나', '봐요', '.'],\n",
              " ['설렜', '겠', '어요', '.'],\n",
              " ['잘', '헤어질', '수', '있', '는', '사이', '여부', '인', '거', '같', '아요', '.'],\n",
              " ['도피성', '결혼', '은', '하', '지', '않', '길', '바라', '요', '.']]"
            ]
          },
          "metadata": {},
          "execution_count": 17
        }
      ]
    },
    {
      "cell_type": "markdown",
      "source": [
        "## 4. Augmentation\n",
        "\n",
        "우리에게 주어진 데이터는 1만 개가량으로 적은 편에 속합니다. 이럴 때에 사용할 수 있는 테크닉을 배웠으니 활용해 봐야겠죠? Lexical Substitution을 실제로 적용해 보도록 하겠습니다.\n",
        "\n",
        "아래 링크를 참고하여 한국어로 사전 훈련된 Embedding 모델을 다운로드합니다. Korean (w) 가 Word2Vec으로 학습한 모델이며 용량도 적당하므로 사이트에서 Korean (w)를 찾아 다운로드하고, ko.bin 파일을 얻으세요!\n",
        "\n",
        "[Kyubyong/wordvectors](https://github.com/Kyubyong/wordvectors)  \n",
        "\n",
        "다운로드한 모델을 활용해 데이터를 Augmentation 하세요! 앞서 정의한 lexical_sub() 함수를 참고하면 도움이 많이 될 겁니다.\n",
        "\n",
        "Augmentation된 que_corpus 와 원본 ans_corpus 가 병렬을 이루도록, 이후엔 반대로 원본 que_corpus 와 Augmentation된 ans_corpus 가 병렬을 이루도록 하여 전체 데이터가 원래의 3배가량으로 늘어나도록 합니다."
      ],
      "metadata": {
        "id": "-vCRhWrPEvz9"
      }
    },
    {
      "cell_type": "code",
      "source": [
        "import gensim\n",
        "\n",
        "emb_file_path = '/content/drive/MyDrive/AIFFEL/GoingDeeper_NLP/12_Transformer챗봇/ko/ko.bin'\n",
        "ko_model = gensim.models.Word2Vec.load(emb_file_path)\n",
        "a = ko_model.wv.most_similar(\"강아지\")\n",
        "\n",
        "print(a[:5])"
      ],
      "metadata": {
        "colab": {
          "base_uri": "https://localhost:8080/"
        },
        "id": "Mv6jwShmwCUi",
        "outputId": "7bdc7f92-3167-4186-9dc5-ad1dc5691a8f"
      },
      "execution_count": 18,
      "outputs": [
        {
          "output_type": "stream",
          "name": "stdout",
          "text": [
            "[('고양이', 0.7290452718734741), ('거위', 0.7185635566711426), ('토끼', 0.7056223154067993), ('멧돼지', 0.6950401067733765), ('엄마', 0.6934334635734558)]\n"
          ]
        }
      ]
    },
    {
      "cell_type": "code",
      "source": [
        "# Lexical Substitution 구현하기\n",
        "import random\n",
        "def lexical_sub(sentence, word2vec):\n",
        "    toks = sentence\n",
        "    \n",
        "    try:\n",
        "        _from = random.choice(toks)\n",
        "        replace_list = []\n",
        "        for i in range(2):\n",
        "          _to = word2vec.wv.most_similar(_from)[i][0]\n",
        "          replace_list.append(_to)\n",
        "        \n",
        "    except:   # 단어장에 없는 단어\n",
        "        return None\n",
        "    \n",
        "    res_list = []\n",
        "    for i in range(2):\n",
        "      res = \"\"\n",
        "      for tok in toks:\n",
        "        if tok is _from:\n",
        "          res += replace_list[i] + \" \"\n",
        "        else: res += tok + \" \"\n",
        "      res_list.append(res)\n",
        "\n",
        "    return res_list"
      ],
      "metadata": {
        "id": "Z8-4xD-AAVMk"
      },
      "execution_count": 19,
      "outputs": []
    },
    {
      "cell_type": "code",
      "source": [
        "augment_q = []\n",
        "for i in range(len(que_corpus)):\n",
        "  aug_list = lexical_sub(que_corpus[i], ko_model)\n",
        "  try:\n",
        "    augment_q.append([aug_list[0], aug_list[1], i])\n",
        "  except:\n",
        "    pass\n"
      ],
      "metadata": {
        "id": "Bpn2V88DNh22"
      },
      "execution_count": 20,
      "outputs": []
    },
    {
      "cell_type": "code",
      "source": [
        "augment_a = []\n",
        "for i in range(len(ans_corpus)):\n",
        "  aug_list = lexical_sub(ans_corpus[i], ko_model)\n",
        "  try:\n",
        "    augment_a.append([aug_list[0], aug_list[1], i])\n",
        "  except:\n",
        "    pass"
      ],
      "metadata": {
        "id": "ZI86bpKFTJlF"
      },
      "execution_count": 21,
      "outputs": []
    },
    {
      "cell_type": "markdown",
      "source": [
        "- Augmentation된 문장 2개와 소스 문장의 인덱스가 들어가있음.\n",
        "- 인덱스를 이용해서 타겟 문장과 연결해줄것."
      ],
      "metadata": {
        "id": "8QDO66jIO0GV"
      }
    },
    {
      "cell_type": "code",
      "source": [
        "print(augment_q[1])\n",
        "print(augment_a[1])"
      ],
      "metadata": {
        "colab": {
          "base_uri": "https://localhost:8080/"
        },
        "id": "pI3ttaCQOZgP",
        "outputId": "9255b122-a333-41ac-afe5-15019fbc725f"
      },
      "execution_count": 22,
      "outputs": [
        {
          "output_type": "stream",
          "name": "stdout",
          "text": [
            "['sd 카드 못가 돼 ', 'sd 카드 안가 돼 ', 6]\n",
            "['위로 해의 드립니다 . ', '위로 다음해 드립니다 . ', 1]\n"
          ]
        }
      ]
    },
    {
      "cell_type": "code",
      "source": [
        "original_que = que_corpus.copy()\n",
        "original_ans = ans_corpus.copy()"
      ],
      "metadata": {
        "id": "kmFzxcSsOtnP"
      },
      "execution_count": 23,
      "outputs": []
    },
    {
      "cell_type": "code",
      "source": [
        "original_que[1]"
      ],
      "metadata": {
        "colab": {
          "base_uri": "https://localhost:8080/"
        },
        "id": "fL82u5N5Jyo4",
        "outputId": "ae4affb8-01aa-4457-cc13-ac981321d5ef"
      },
      "execution_count": 24,
      "outputs": [
        {
          "output_type": "execute_result",
          "data": {
            "text/plain": [
              "['1', '지망', '학교', '떨어졌', '어']"
            ]
          },
          "metadata": {},
          "execution_count": 24
        }
      ]
    },
    {
      "cell_type": "code",
      "source": [
        "# Augmentation된 질문 추가\n",
        "for i in range(len(augment_q)):\n",
        "  que_corpus.append(augment_q[i][0].split())\n",
        "  que_corpus.append(augment_q[i][1].split())\n",
        "  ans_corpus.append(original_ans[augment_q[i][2]])\n",
        "  ans_corpus.append(original_ans[augment_q[i][2]])"
      ],
      "metadata": {
        "id": "w8L29zg3PNi2"
      },
      "execution_count": 25,
      "outputs": []
    },
    {
      "cell_type": "code",
      "source": [
        "print(que_corpus[-3:])\n",
        "print(ans_corpus[-3:])"
      ],
      "metadata": {
        "colab": {
          "base_uri": "https://localhost:8080/"
        },
        "id": "nDcOZGY6T49M",
        "outputId": "b183b924-be6f-4ddb-a47e-9478797501dd"
      },
      "execution_count": 26,
      "outputs": [
        {
          "output_type": "stream",
          "name": "stdout",
          "text": [
            "[['홧김', '에', '매듭', '남', '한테', '고백', '했', '다', '.'], ['주식회사', '짝', '남', '오빠', '게임', '초대', '톡', '옴', '.'], ['자회사', '짝', '남', '오빠', '게임', '초대', '톡', '옴', '.']]\n",
            "[['화끈', '하', '시', '네요', '.'], ['설렜', '을', '텐데', '아쉽', '겠', '어요', '.'], ['설렜', '을', '텐데', '아쉽', '겠', '어요', '.']]\n"
          ]
        }
      ]
    },
    {
      "cell_type": "code",
      "source": [
        "# Augmentation된 답변 추가\n",
        "for i in range(len(augment_a)):\n",
        "  ans_corpus.append(augment_a[i][0].split())\n",
        "  ans_corpus.append(augment_a[i][1].split())\n",
        "  que_corpus.append(original_que[augment_a[i][2]])\n",
        "  que_corpus.append(original_que[augment_a[i][2]])"
      ],
      "metadata": {
        "id": "6FHLqsiwS4wg"
      },
      "execution_count": 27,
      "outputs": []
    },
    {
      "cell_type": "code",
      "source": [
        "print(que_corpus[-3:])\n",
        "print(ans_corpus[-3:])"
      ],
      "metadata": {
        "colab": {
          "base_uri": "https://localhost:8080/"
        },
        "id": "CZNOSfIFT3Qm",
        "outputId": "d2dec967-19fd-4a4c-8819-40bb1f7b2514"
      },
      "execution_count": 28,
      "outputs": [
        {
          "output_type": "stream",
          "name": "stdout",
          "text": [
            "[['확실히', '좋', '아', '하', '는', '데', '도', '관심', '있', '는', '거', '티', '안', '내', '려고', '선', '톡', '안', '하', '고', '일부러', '늦', '게', '보내', '고', '그러', '는', '사람', '도', '있', '어요', '?'], ['회사', '짝', '남', '오빠', '게임', '초대', '톡', '옴', '.'], ['회사', '짝', '남', '오빠', '게임', '초대', '톡', '옴', '.']]\n",
            "[['많', '있', '어요', '.'], ['설렜', '을', '텐데', '아쉽', '겠', '어요', '는데'], ['설렜', '을', '텐데', '아쉽', '겠', '어요', '으니']]\n"
          ]
        }
      ]
    },
    {
      "cell_type": "code",
      "source": [
        "# Augmentation후 데이터 길이\n",
        "print(len(que_corpus))\n",
        "print(len(ans_corpus))"
      ],
      "metadata": {
        "colab": {
          "base_uri": "https://localhost:8080/"
        },
        "id": "35Q7gLZCUZ3O",
        "outputId": "1b793bae-254f-4093-cb44-0aa0f8a8a762"
      },
      "execution_count": 29,
      "outputs": [
        {
          "output_type": "stream",
          "name": "stdout",
          "text": [
            "50709\n",
            "50709\n"
          ]
        }
      ]
    },
    {
      "cell_type": "code",
      "source": [
        "# Random Noise Injection 구현하기\n",
        "def random_noise(sentence, word2vec):\n",
        "    toks_1 = sentence.copy()\n",
        "    toks_2 = sentence.copy()\n",
        "\n",
        "    try:\n",
        "        _from = random.choice(toks_1)\n",
        "        inject_list = []\n",
        "        for i in range(2):\n",
        "          _to = word2vec.wv.most_similar(_from)[i][0]\n",
        "          inject_list.append(_to)\n",
        "        \n",
        "    except:   # 단어장에 없는 단어\n",
        "        return None\n",
        "    \n",
        "    res_list = []\n",
        "\n",
        "    index = random.sample(range(len(toks_1)),2)\n",
        "\n",
        "    toks_1.insert(index[0], inject_list[0])\n",
        "    res_list.append(toks_1)\n",
        "\n",
        "    toks_2.insert(index[1], inject_list[1])\n",
        "    res_list.append(toks_2)\n",
        "\n",
        "    return res_list"
      ],
      "metadata": {
        "id": "uufN8Jc44OBu"
      },
      "execution_count": 30,
      "outputs": []
    },
    {
      "cell_type": "code",
      "source": [
        "noise_q = []\n",
        "for i in range(len(original_que)):\n",
        "  noise_list = random_noise(original_que[i], ko_model)\n",
        "  try:\n",
        "    noise_q.append([noise_list[0], noise_list[1], i])\n",
        "  except:\n",
        "    pass"
      ],
      "metadata": {
        "id": "79wkd-nH5xFn"
      },
      "execution_count": 31,
      "outputs": []
    },
    {
      "cell_type": "code",
      "source": [
        "noise_q[:2]"
      ],
      "metadata": {
        "colab": {
          "base_uri": "https://localhost:8080/"
        },
        "id": "6Vq_SmdBGl9l",
        "outputId": "7d6814b3-3cb9-4187-d37b-4e85a562af95"
      },
      "execution_count": 32,
      "outputs": [
        {
          "output_type": "execute_result",
          "data": {
            "text/plain": [
              "[[['1', '중퇴', '지망', '학교', '떨어졌', '어'], ['1', '지망', '자퇴', '학교', '떨어졌', '어'], 1],\n",
              " [['3', '김', '박', '4', '일', '놀', '러', '가', '고', '싶', '다'],\n",
              "  ['3', '박', '4', '일', '놀', '러', '최', '가', '고', '싶', '다'],\n",
              "  2]]"
            ]
          },
          "metadata": {},
          "execution_count": 32
        }
      ]
    },
    {
      "cell_type": "code",
      "source": [
        "noise_a = []\n",
        "for i in range(len(original_ans)):\n",
        "  noise_list = random_noise(original_ans[i], ko_model)\n",
        "  try:\n",
        "    noise_a.append([noise_list[0], noise_list[1], i])\n",
        "  except:\n",
        "    pass"
      ],
      "metadata": {
        "id": "iIIx1N_v9CLU"
      },
      "execution_count": 33,
      "outputs": []
    },
    {
      "cell_type": "code",
      "source": [
        "noise_a[:2]"
      ],
      "metadata": {
        "colab": {
          "base_uri": "https://localhost:8080/"
        },
        "id": "6DqpQ6I_GpjX",
        "outputId": "1fd51ed4-deb2-4c0b-ba33-633f1b3bc5ce"
      },
      "execution_count": 34,
      "outputs": [
        {
          "output_type": "execute_result",
          "data": {
            "text/plain": [
              "[[['하루', '가', '또', '가', '놀드', '네요', '.'],\n",
              "  ['하루', '가', '또', '가', '네요', '머지않', '.'],\n",
              "  0],\n",
              " [['위로', '는데', '해', '드립니다', '.'], ['위로', '해', '드립니다', '으니', '.'], 1]]"
            ]
          },
          "metadata": {},
          "execution_count": 34
        }
      ]
    },
    {
      "cell_type": "code",
      "source": [
        "# Random Noise Injection 질문 추가\n",
        "for i in range(len(noise_q)):\n",
        "  que_corpus.append(noise_q[i][0])\n",
        "  que_corpus.append(noise_q[i][1])\n",
        "  ans_corpus.append(original_ans[noise_q[i][2]])\n",
        "  ans_corpus.append(original_ans[noise_q[i][2]])"
      ],
      "metadata": {
        "id": "hPhs57jA60cm"
      },
      "execution_count": 35,
      "outputs": []
    },
    {
      "cell_type": "code",
      "source": [
        "print(que_corpus[-10:-4])\n",
        "print(ans_corpus[-10:-4])"
      ],
      "metadata": {
        "colab": {
          "base_uri": "https://localhost:8080/"
        },
        "id": "6u57mpT59yLD",
        "outputId": "aca9ec46-10b4-4ca1-df4e-05f2f0ac0744"
      },
      "execution_count": 36,
      "outputs": [
        {
          "output_type": "stream",
          "name": "stdout",
          "text": [
            "[['혼자', '만', '설레', '고', '혼자', '서', '끝내', '는', '짝사랑', '그만', '할래', '거기', '.'], ['혼자', '만', '설레', '고', '혼자', '서', '끝내', '는', '짝사랑', '쫓아가', '그만', '할래', '.'], ['화이트데이', '에', '...', '고백', '할까요', '?'], ['화이트데이', '이야', '에', '고백', '할까요', '?'], ['확실히', '날', '좋', '아', '하', '는', '걸', '아', '여자', '는', '남자', '랑', '친구', '가', '될', '수', '있', '을까', '?'], ['확실히', '날', '좋', '아', '하', '는', '걸', '아', '는', '남자', '랑', '친구', '가', '어린아이', '될', '수', '있', '을까', '?']]\n",
            "[['맘고생', '많', '았', '어요', '.'], ['맘고생', '많', '았', '어요', '.'], ['선물', '을', '주', '면서', '솔직', '하', '고', '당당', '하', '게', '고백', '해', '보', '세요', '.'], ['선물', '을', '주', '면서', '솔직', '하', '고', '당당', '하', '게', '고백', '해', '보', '세요', '.'], ['그', '사람', '을', '위해서', '는', '그러', '면', '안', '돼요', '.'], ['그', '사람', '을', '위해서', '는', '그러', '면', '안', '돼요', '.']]\n"
          ]
        }
      ]
    },
    {
      "cell_type": "code",
      "source": [
        "# Random Noise Injection 답변 추가\n",
        "for i in range(len(noise_a)):\n",
        "  ans_corpus.append(noise_a[i][0])\n",
        "  ans_corpus.append(noise_a[i][1])\n",
        "  que_corpus.append(original_que[noise_a[i][2]])\n",
        "  que_corpus.append(original_que[noise_a[i][2]])"
      ],
      "metadata": {
        "id": "jsqEAG-49d-V"
      },
      "execution_count": 37,
      "outputs": []
    },
    {
      "cell_type": "code",
      "source": [
        "print(que_corpus[-10:-4])\n",
        "print(ans_corpus[-10:-4])"
      ],
      "metadata": {
        "colab": {
          "base_uri": "https://localhost:8080/"
        },
        "id": "xCVXJ0Vl9yzY",
        "outputId": "948a3632-a1a3-4bde-e7b9-91a7ee099755"
      },
      "execution_count": 38,
      "outputs": [
        {
          "output_type": "stream",
          "name": "stdout",
          "text": [
            "[['화장', '안', '했', '는데', '썸남', '이', '영통', '걸', '었', '어', '.', '어떡', '해', '?'], ['화장', '안', '했', '는데', '썸남', '이', '영통', '걸', '었', '어', '.', '어떡', '해', '?'], ['확실히', '날', '좋', '아', '하', '는', '걸', '아', '는', '남자', '랑', '친구', '가', '될', '수', '있', '을까', '?'], ['확실히', '날', '좋', '아', '하', '는', '걸', '아', '는', '남자', '랑', '친구', '가', '될', '수', '있', '을까', '?'], ['확실히', '좋', '아', '하', '는', '데', '도', '관심', '있', '는', '거', '티', '안', '내', '려고', '선', '톡', '안', '하', '고', '일부러', '늦', '게', '보내', '고', '그러', '는', '사람', '도', '있', '어요', '?'], ['확실히', '좋', '아', '하', '는', '데', '도', '관심', '있', '는', '거', '티', '안', '내', '려고', '선', '톡', '안', '하', '고', '일부러', '늦', '게', '보내', '고', '그러', '는', '사람', '도', '있', '어요', '?']]\n",
            "[['햇빛', '화장실', '불빛', '으로', '좀', '멀리', '가리', '고', '해', '보', '세요', '.'], ['화장실', '불빛', '으로', '좀', '별빛', '멀리', '가리', '고', '해', '보', '세요', '.'], ['그', '사람', '을', '위해서', '는', '그러', '면', '안', '못가', '돼요', '.'], ['그', '사람', '안가', '을', '위해서', '는', '그러', '면', '안', '돼요', '.'], ['많이', '있', '는데', '어요', '.'], ['으니', '많이', '있', '어요', '.']]\n"
          ]
        }
      ]
    },
    {
      "cell_type": "code",
      "source": [
        "# Augmentation후 데이터 길이\n",
        "print(len(que_corpus))\n",
        "print(len(ans_corpus))"
      ],
      "metadata": {
        "colab": {
          "base_uri": "https://localhost:8080/"
        },
        "id": "e4hM6Yqx-G7u",
        "outputId": "d05f9162-23e2-486e-e826-d7f969e5739c"
      },
      "execution_count": 39,
      "outputs": [
        {
          "output_type": "stream",
          "name": "stdout",
          "text": [
            "90159\n",
            "90159\n"
          ]
        }
      ]
    },
    {
      "cell_type": "markdown",
      "source": [
        "## 5. 데이터 벡터화"
      ],
      "metadata": {
        "id": "2nzcVD3mXuTD"
      }
    },
    {
      "cell_type": "markdown",
      "source": [
        "답변 문장의 앞 뒤에 시작 토큰과 마무리 토큰 추가해줌.\n",
        "\n",
        "패딩의 최대 길이는 토큰화된 문장의 길이를 출력해서 정해줌"
      ],
      "metadata": {
        "id": "MKuELPdTWIYg"
      }
    },
    {
      "cell_type": "code",
      "source": [
        "# target 문장에 시작 토큰과 마무리 토큰 추가해줌.\n",
        "ans_corpus = [['<start>'] + sen + ['<end>'] for sen in ans_corpus]\n",
        "\n",
        "# 테스트용 데이터에도 추가\n",
        "dec_val = [['<start>'] + sen + ['<end>'] for sen in dec_val]\n",
        "\n",
        "print(ans_corpus[:5])\n",
        "print(dec_val[:5])"
      ],
      "metadata": {
        "colab": {
          "base_uri": "https://localhost:8080/"
        },
        "id": "hlbaJhZbWGl6",
        "outputId": "15153336-4af4-423d-b20c-479a92bd36c8"
      },
      "execution_count": 40,
      "outputs": [
        {
          "output_type": "stream",
          "name": "stdout",
          "text": [
            "[['<start>', '하루', '가', '또', '가', '네요', '.', '<end>'], ['<start>', '위로', '해', '드립니다', '.', '<end>'], ['<start>', '여행', '은', '언제나', '좋', '죠', '.', '<end>'], ['<start>', '여행', '은', '언제나', '좋', '죠', '.', '<end>'], ['<start>', '눈살', '이', '찌푸려', '지', '죠', '.', '<end>']]\n",
            "[['<start>', '사랑', '하', '기', '힘든', '관계', '인가', '봐요', '.', '<end>'], ['<start>', '눈', '마주치', '는', '게', '우연', '인지', '잘', '살펴', '보', '세요', '.', '<end>'], ['<start>', '정신', '없이', '바쁠', '지도', '몰라요', '.', '조금', '만', '더', '기다려', '보', '고', '물', '어', '보', '는', '게', '좋', '을', '것', '같', '아요', '.', '<end>'], ['<start>', '호감', '이', '있', '을', '수', '도', '있', '어요', '.', '그렇지만', '조금', '더', '상황', '을', '지켜보', '세요', '.', '<end>'], ['<start>', '진심', '으로', '다가가', '보', '세요', '.', '<end>']]\n"
          ]
        }
      ]
    },
    {
      "cell_type": "code",
      "source": [
        "from collections import Counter\n",
        "\n",
        "voc_data = que_corpus + ans_corpus + enc_val + dec_val\n",
        "\n",
        "words = np.concatenate(voc_data).tolist()\n",
        "counter = Counter(words)\n",
        "print(len(counter))\n",
        "counter = counter.most_common(30000-2)\n",
        "vocab = ['<pad>', '<unk>'] + [key for key, _ in counter]\n",
        "word_to_index = {word:index for index, word in enumerate(vocab)}\n",
        "index_to_word = {index:word for word, index in word_to_index.items()}"
      ],
      "metadata": {
        "colab": {
          "base_uri": "https://localhost:8080/"
        },
        "id": "3-4wbKnWVq5O",
        "outputId": "17e2e55c-96e9-405e-d295-a5d9b9efac54"
      },
      "execution_count": 41,
      "outputs": [
        {
          "output_type": "stream",
          "name": "stdout",
          "text": [
            "9224\n"
          ]
        }
      ]
    },
    {
      "cell_type": "code",
      "source": [
        "print(len(word_to_index))"
      ],
      "metadata": {
        "colab": {
          "base_uri": "https://localhost:8080/"
        },
        "id": "Cdkz2HayY4U2",
        "outputId": "db3bbac3-e971-47c2-fae9-1beaac5111a8"
      },
      "execution_count": 42,
      "outputs": [
        {
          "output_type": "stream",
          "name": "stdout",
          "text": [
            "9226\n"
          ]
        }
      ]
    },
    {
      "cell_type": "code",
      "source": [
        "word_to_index"
      ],
      "metadata": {
        "colab": {
          "base_uri": "https://localhost:8080/"
        },
        "id": "z8fBBNv2uFSi",
        "outputId": "cc26d2e9-97d3-4b49-9917-b15b39536a74"
      },
      "execution_count": 43,
      "outputs": [
        {
          "output_type": "execute_result",
          "data": {
            "text/plain": [
              "{'<pad>': 0,\n",
              " '<unk>': 1,\n",
              " '.': 2,\n",
              " '<start>': 3,\n",
              " '<end>': 4,\n",
              " '이': 5,\n",
              " '하': 6,\n",
              " '는': 7,\n",
              " '을': 8,\n",
              " '가': 9,\n",
              " '세요': 10,\n",
              " '어': 11,\n",
              " '고': 12,\n",
              " '좋': 13,\n",
              " '해': 14,\n",
              " '있': 15,\n",
              " '거': 16,\n",
              " '보': 17,\n",
              " '은': 18,\n",
              " '지': 19,\n",
              " '?': 20,\n",
              " '아': 21,\n",
              " '도': 22,\n",
              " '게': 23,\n",
              " '나': 24,\n",
              " '겠': 25,\n",
              " '에': 26,\n",
              " '사람': 27,\n",
              " '는데': 28,\n",
              " '예요': 29,\n",
              " '어요': 30,\n",
              " '를': 31,\n",
              " '다': 32,\n",
              " '같': 33,\n",
              " '한': 34,\n",
              " '죠': 35,\n",
              " '싶': 36,\n",
              " '사랑': 37,\n",
              " '없': 38,\n",
              " '네요': 39,\n",
              " '면': 40,\n",
              " '수': 41,\n",
              " '안': 42,\n",
              " '것': 43,\n",
              " '네': 44,\n",
              " '친구': 45,\n",
              " '의': 46,\n",
              " '아요': 47,\n",
              " '생각': 48,\n",
              " '잘': 49,\n",
              " '말': 50,\n",
              " '봐요': 51,\n",
              " '않': 52,\n",
              " '할': 53,\n",
              " '마음': 54,\n",
              " '주': 55,\n",
              " '너무': 56,\n",
              " '되': 57,\n",
              " '했': 58,\n",
              " '만': 59,\n",
              " '내': 60,\n",
              " '더': 61,\n",
              " '기': 62,\n",
              " '일': 63,\n",
              " '들': 64,\n",
              " '었': 65,\n",
              " '으로': 66,\n",
              " '연락': 67,\n",
              " '으니': 68,\n",
              " '여자': 69,\n",
              " '남자': 70,\n",
              " '이별': 71,\n",
              " '힘들': 72,\n",
              " '시간': 73,\n",
              " '많이': 74,\n",
              " '해요': 75,\n",
              " '남': 76,\n",
              " '으면': 77,\n",
              " '한테': 78,\n",
              " '에요': 79,\n",
              " '에서': 80,\n",
              " '먹': 81,\n",
              " '좀': 82,\n",
              " '많': 83,\n",
              " '았': 84,\n",
              " '썸': 85,\n",
              " '짝': 86,\n",
              " '때': 87,\n",
              " '야': 88,\n",
              " '길': 89,\n",
              " '저': 90,\n",
              " '뭐': 91,\n",
              " '받': 92,\n",
              " '괜찮': 93,\n",
              " '건': 94,\n",
              " '만나': 95,\n",
              " '요': 96,\n",
              " '을까': 97,\n",
              " '로': 98,\n",
              " '알': 99,\n",
              " '적': 100,\n",
              " '오늘': 101,\n",
              " '!': 102,\n",
              " '마세요': 103,\n",
              " '그': 104,\n",
              " '애': 105,\n",
              " '에게': 106,\n",
              " '못': 107,\n",
              " '인': 108,\n",
              " '해도': 109,\n",
              " '연애': 110,\n",
              " '아니': 111,\n",
              " '자신': 112,\n",
              " '습니다': 113,\n",
              " '이제': 114,\n",
              " '던': 115,\n",
              " '모르': 116,\n",
              " '살': 117,\n",
              " '랑': 118,\n",
              " '듯': 119,\n",
              " '니': 120,\n",
              " '필요': 121,\n",
              " '할까': 122,\n",
              " '은데': 123,\n",
              " '라고': 124,\n",
              " '왜': 125,\n",
              " '걸': 126,\n",
              " '그러': 127,\n",
              " '다른': 128,\n",
              " '타': 129,\n",
              " '해야': 130,\n",
              " '같이': 131,\n",
              " '끝': 132,\n",
              " '지만': 133,\n",
              " '잊': 134,\n",
              " '싫': 135,\n",
              " '데': 136,\n",
              " '당신': 137,\n",
              " '혼자': 138,\n",
              " '달': 139,\n",
              " '년': 140,\n",
              " '어떻게': 141,\n",
              " '행복': 142,\n",
              " '서': 143,\n",
              " '과': 144,\n",
              " '다시': 145,\n",
              " '제': 146,\n",
              " '전': 147,\n",
              " '돼': 148,\n",
              " '어서': 149,\n",
              " '오': 150,\n",
              " '라': 151,\n",
              " '날': 152,\n",
              " '정말': 153,\n",
              " '사': 154,\n",
              " '지금': 155,\n",
              " '정리': 156,\n",
              " '될': 157,\n",
              " '중': 158,\n",
              " '방법': 159,\n",
              " '중요': 160,\n",
              " '조금': 161,\n",
              " '결혼': 162,\n",
              " '와': 163,\n",
              " '인데': 164,\n",
              " '또': 165,\n",
              " '군요': 166,\n",
              " '보다': 167,\n",
              " '고민': 168,\n",
              " '봐': 169,\n",
              " '이랑': 170,\n",
              " '면서': 171,\n",
              " '물': 172,\n",
              " '준비': 173,\n",
              " '참': 174,\n",
              " '짝사랑': 175,\n",
              " '아직': 176,\n",
              " '하나': 177,\n",
              " '집': 178,\n",
              " '선물': 179,\n",
              " '시키': 180,\n",
              " '줄': 181,\n",
              " '인가': 182,\n",
              " '헤어지': 183,\n",
              " '사귀': 184,\n",
              " '녀': 185,\n",
              " '자꾸': 186,\n",
              " '이야기': 187,\n",
              " '시': 188,\n",
              " '먼저': 189,\n",
              " '맞': 190,\n",
              " '고백': 191,\n",
              " '까지': 192,\n",
              " '그런': 193,\n",
              " '는지': 194,\n",
              " '다면': 195,\n",
              " '후회': 196,\n",
              " '돼요': 197,\n",
              " '술': 198,\n",
              " '는다는': 199,\n",
              " '서로': 200,\n",
              " '볼까': 201,\n",
              " '다고': 202,\n",
              " '하면서': 203,\n",
              " '합니다': 204,\n",
              " '진짜': 205,\n",
              " '쓰': 206,\n",
              " '그녀': 207,\n",
              " '왔': 208,\n",
              " '꿈': 209,\n",
              " '될까': 210,\n",
              " '놀': 211,\n",
              " '지요': 212,\n",
              " '시작': 213,\n",
              " '여': 214,\n",
              " '좋아하': 215,\n",
              " '봅니다': 216,\n",
              " '때문': 217,\n",
              " '번': 218,\n",
              " '해서': 219,\n",
              " '가능': 220,\n",
              " '됐': 221,\n",
              " '감정': 222,\n",
              " '자': 223,\n",
              " '계속': 224,\n",
              " '쉽': 225,\n",
              " '공부': 226,\n",
              " '든': 227,\n",
              " 'ㄴ다는': 228,\n",
              " '아서': 229,\n",
              " '그럴': 230,\n",
              " '이것을': 231,\n",
              " '바랄게요': 232,\n",
              " '두': 233,\n",
              " '헤어진지': 234,\n",
              " '힘든': 235,\n",
              " '곳': 236,\n",
              " '만들': 237,\n",
              " '쉬': 238,\n",
              " '만큼': 239,\n",
              " '걱정': 240,\n",
              " '힘드': 241,\n",
              " '라도': 242,\n",
              " '여친': 243,\n",
              " '기분': 244,\n",
              " '러': 245,\n",
              " '돈': 246,\n",
              " '눈': 247,\n",
              " '여행': 248,\n",
              " '드세요': 249,\n",
              " '씩': 250,\n",
              " '신경': 251,\n",
              " '어도': 252,\n",
              " '데이트': 253,\n",
              " '자고': 254,\n",
              " '이상': 255,\n",
              " 'ㅂ시오': 256,\n",
              " 'ㅂ시다': 257,\n",
              " '살펴보': 258,\n",
              " '으며': 259,\n",
              " '관심': 260,\n",
              " '려고': 261,\n",
              " '후': 262,\n",
              " '기억': 263,\n",
              " '표현': 264,\n",
              " '어떤': 265,\n",
              " '너': 266,\n",
              " '함께': 267,\n",
              " '놀드': 268,\n",
              " '이렇게': 269,\n",
              " '나요': 270,\n",
              " '줘': 271,\n",
              " '하루': 272,\n",
              " '니까요': 273,\n",
              " '아도': 274,\n",
              " '무슨': 275,\n",
              " '남친': 276,\n",
              " '바랍니다': 277,\n",
              " '입니다': 278,\n",
              " '믿': 279,\n",
              " '걸까': 280,\n",
              " ',': 281,\n",
              " '인지': 282,\n",
              " '니까': 283,\n",
              " '대화': 284,\n",
              " '상처': 285,\n",
              " '째': 286,\n",
              " '이해': 287,\n",
              " '머지않': 288,\n",
              " '맛있': 289,\n",
              " '님': 290,\n",
              " '어떨까': 291,\n",
              " '카톡': 292,\n",
              " '맘': 293,\n",
              " '2': 294,\n",
              " '헤어졌': 295,\n",
              " '...': 296,\n",
              " '긴': 297,\n",
              " '내일': 298,\n",
              " '어디': 299,\n",
              " '그냥': 300,\n",
              " '누구': 301,\n",
              " '기다리': 302,\n",
              " '못하': 303,\n",
              " '다가': 304,\n",
              " '노력': 305,\n",
              " '1': 306,\n",
              " '오래': 307,\n",
              " '머리': 308,\n",
              " '나가': 309,\n",
              " '기에': 310,\n",
              " '된': 311,\n",
              " '전화': 312,\n",
              " '몰라요': 313,\n",
              " '였': 314,\n",
              " '해의': 315,\n",
              " '다음해': 316,\n",
              " '이유': 317,\n",
              " '언제': 318,\n",
              " '궁금': 319,\n",
              " '부담': 320,\n",
              " '바라': 321,\n",
              " '직접': 322,\n",
              " '나쁘': 323,\n",
              " '썸남': 324,\n",
              " '회사': 325,\n",
              " '별': 326,\n",
              " '결정': 327,\n",
              " '아프': 328,\n",
              " '셨': 329,\n",
              " '함': 330,\n",
              " '속': 331,\n",
              " '부터': 332,\n",
              " '보내': 333,\n",
              " '우리': 334,\n",
              " '입': 335,\n",
              " '죽': 336,\n",
              " '운동': 337,\n",
              " '이야': 338,\n",
              " '헤어진': 339,\n",
              " '생각나': 340,\n",
              " '거나': 341,\n",
              " '선택': 342,\n",
              " '비': 343,\n",
              " '처럼': 344,\n",
              " '늦': 345,\n",
              " '따라': 346,\n",
              " '새로운': 347,\n",
              " '앞': 348,\n",
              " '3': 349,\n",
              " '음': 350,\n",
              " '미련': 351,\n",
              " '잡': 352,\n",
              " '들여다보': 353,\n",
              " '라면': 354,\n",
              " '어떡': 355,\n",
              " '만날': 356,\n",
              " '잠': 357,\n",
              " '문제': 358,\n",
              " '인생': 359,\n",
              " '추억': 360,\n",
              " '라는': 361,\n",
              " '대': 362,\n",
              " '드': 363,\n",
              " '확신': 364,\n",
              " '인연': 365,\n",
              " '텐데': 366,\n",
              " '잘못': 367,\n",
              " '이젠': 368,\n",
              " '용기': 369,\n",
              " '생겼': 370,\n",
              " '차': 371,\n",
              " '대로': 372,\n",
              " '첫': 373,\n",
              " '항상': 374,\n",
              " '뿐': 375,\n",
              " '처음': 376,\n",
              " '꼼짝': 377,\n",
              " 'ㄹ지': 378,\n",
              " '아침': 379,\n",
              " '상황': 380,\n",
              " '개월': 381,\n",
              " '슬픔': 382,\n",
              " '나의': 383,\n",
              " '다는': 384,\n",
              " '을수록': 385,\n",
              " '느낌': 386,\n",
              " '나이': 387,\n",
              " '찾아보': 388,\n",
              " '스트레스': 389,\n",
              " '사이': 390,\n",
              " '변화': 391,\n",
              " '을까요': 392,\n",
              " '그게': 393,\n",
              " '이나': 394,\n",
              " '자주': 395,\n",
              " '경우': 396,\n",
              " '도움': 397,\n",
              " '볼': 398,\n",
              " '가지': 399,\n",
              " '감': 400,\n",
              " '그렇게': 401,\n",
              " '반': 402,\n",
              " '올': 403,\n",
              " '꼭': 404,\n",
              " '한가': 405,\n",
              " '결국': 406,\n",
              " '똑같': 407,\n",
              " '노래': 408,\n",
              " '다르': 409,\n",
              " '있었': 410,\n",
              " '찾': 411,\n",
              " '만났': 412,\n",
              " '현실': 413,\n",
              " '귀찮': 414,\n",
              " '연인': 415,\n",
              " '몸': 416,\n",
              " '스럽': 417,\n",
              " '답답': 418,\n",
              " '조심': 419,\n",
              " '마지막': 420,\n",
              " '세상': 421,\n",
              " '도록': 422,\n",
              " '매일': 423,\n",
              " '자기': 424,\n",
              " '으세요': 425,\n",
              " '건가': 426,\n",
              " '보이': 427,\n",
              " '어야': 428,\n",
              " '부모': 429,\n",
              " '관계': 430,\n",
              " '분': 431,\n",
              " '질': 432,\n",
              " '만남': 433,\n",
              " '요즘': 434,\n",
              " '다음': 435,\n",
              " '의미': 436,\n",
              " '습관': 437,\n",
              " '놓': 438,\n",
              " '어제': 439,\n",
              " '상대': 440,\n",
              " '건강': 441,\n",
              " '재회': 442,\n",
              " '열심히': 443,\n",
              " '확인': 444,\n",
              " '덜': 445,\n",
              " '가슴': 446,\n",
              " '충분히': 447,\n",
              " '화': 448,\n",
              " '기대': 449,\n",
              " '줬': 450,\n",
              " '축하': 451,\n",
              " '밥': 452,\n",
              " '이런': 453,\n",
              " '넘': 454,\n",
              " '일단': 455,\n",
              " '상대방': 456,\n",
              " '정도': 457,\n",
              " '힘': 458,\n",
              " '까': 459,\n",
              " '지내': 460,\n",
              " '봤': 461,\n",
              " '아무': 462,\n",
              " '큰': 463,\n",
              " '가장': 464,\n",
              " '건지': 465,\n",
              " '말씀': 466,\n",
              " '마시': 467,\n",
              " '순간': 468,\n",
              " '그렇': 469,\n",
              " '풀어쓰': 470,\n",
              " '선': 471,\n",
              " '일까': 472,\n",
              " '난': 473,\n",
              " '추천': 474,\n",
              " '제일': 475,\n",
              " '으니까요': 476,\n",
              " '영화': 477,\n",
              " '모든': 478,\n",
              " '대한': 479,\n",
              " '호감': 480,\n",
              " '그만': 481,\n",
              " '졌': 482,\n",
              " '테': 483,\n",
              " '힘내': 484,\n",
              " '갈': 485,\n",
              " '나쁜': 486,\n",
              " '다니': 487,\n",
              " '마다': 488,\n",
              " '챙겨': 489,\n",
              " '몇': 490,\n",
              " '확실': 491,\n",
              " '그리고': 492,\n",
              " '아닌': 493,\n",
              " '갖': 494,\n",
              " '어때': 495,\n",
              " '제대로': 496,\n",
              " '톡': 497,\n",
              " '진심': 498,\n",
              " '웃': 499,\n",
              " '다가가': 500,\n",
              " '났': 501,\n",
              " '구요': 502,\n",
              " '어렵': 503,\n",
              " '사진': 504,\n",
              " '듣': 505,\n",
              " '엄마': 506,\n",
              " '새': 507,\n",
              " '둘': 508,\n",
              " '연습': 509,\n",
              " '남편': 510,\n",
              " '답': 511,\n",
              " '핸드폰': 512,\n",
              " '울': 513,\n",
              " '자연': 514,\n",
              " '얼굴': 515,\n",
              " '없이': 516,\n",
              " '빨리': 517,\n",
              " '예의': 518,\n",
              " '얼른': 519,\n",
              " '딱': 520,\n",
              " '갑자기': 521,\n",
              " '그래도': 522,\n",
              " '별로': 523,\n",
              " '모두': 524,\n",
              " '날씨': 525,\n",
              " '스스로': 526,\n",
              " '재밌': 527,\n",
              " '가끔': 528,\n",
              " '성공': 529,\n",
              " '소개팅': 530,\n",
              " '무시': 531,\n",
              " '엄청': 532,\n",
              " '커피': 533,\n",
              " '이에': 534,\n",
              " '것들': 535,\n",
              " '뭘': 536,\n",
              " '법': 537,\n",
              " '짧': 538,\n",
              " '헤어짐': 539,\n",
              " '사실': 540,\n",
              " '충분': 541,\n",
              " '정신': 542,\n",
              " '눈물': 543,\n",
              " '주말': 544,\n",
              " '티': 545,\n",
              " '글': 546,\n",
              " '예쁘': 547,\n",
              " '아야': 548,\n",
              " '가져': 549,\n",
              " '편하': 550,\n",
              " '복잡': 551,\n",
              " '받아들이': 552,\n",
              " '뭘까': 553,\n",
              " '드릴게요': 554,\n",
              " '밤': 555,\n",
              " '극복': 556,\n",
              " '위로': 557,\n",
              " '차단': 558,\n",
              " '아픔': 559,\n",
              " '가족': 560,\n",
              " '붙잡': 561,\n",
              " '스러운': 562,\n",
              " '진': 563,\n",
              " '기다려': 564,\n",
              " '버리': 565,\n",
              " '는데요': 566,\n",
              " '학교': 567,\n",
              " '옷': 568,\n",
              " '편': 569,\n",
              " '피곤': 570,\n",
              " '따뜻': 571,\n",
              " '점점': 572,\n",
              " '봄': 573,\n",
              " '모습': 574,\n",
              " '실수': 575,\n",
              " '냐': 576,\n",
              " '뜻': 577,\n",
              " '약': 578,\n",
              " '천천히': 579,\n",
              " '다섯': 580,\n",
              " '란': 581,\n",
              " '바쁘': 582,\n",
              " '바': 583,\n",
              " '솔직': 584,\n",
              " '짜증': 585,\n",
              " '을지': 586,\n",
              " '쉬운': 587,\n",
              " '주변': 588,\n",
              " '더니': 589,\n",
              " '게임': 590,\n",
              " '갔': 591,\n",
              " '원': 592,\n",
              " '시켜': 593,\n",
              " '관리': 594,\n",
              " '바뀌': 595,\n",
              " '젊은이': 596,\n",
              " '여인': 597,\n",
              " '인정': 598,\n",
              " '카나': 599,\n",
              " '아픈': 600,\n",
              " '성격': 601,\n",
              " '차이': 602,\n",
              " '5': 603,\n",
              " '4': 604,\n",
              " '나오': 605,\n",
              " '일어나': 606,\n",
              " '애인': 607,\n",
              " '그분': 608,\n",
              " '후폭풍': 609,\n",
              " '어야지': 610,\n",
              " '떠나': 611,\n",
              " '한두': 612,\n",
              " '풀': 613,\n",
              " '판단': 614,\n",
              " '사세요': 615,\n",
              " '얘기': 616,\n",
              " '능력': 617,\n",
              " '포기': 618,\n",
              " '준': 619,\n",
              " '마련': 620,\n",
              " '잠시': 621,\n",
              " '높': 622,\n",
              " '삶': 623,\n",
              " '운명': 624,\n",
              " '척': 625,\n",
              " '바람': 626,\n",
              " '작': 627,\n",
              " '크': 628,\n",
              " '위해': 629,\n",
              " '6': 630,\n",
              " '찍': 631,\n",
              " '낫': 632,\n",
              " '보여': 633,\n",
              " '잔': 634,\n",
              " '집착': 635,\n",
              " '아무것': 636,\n",
              " '익숙': 637,\n",
              " '으나': 638,\n",
              " '벌써': 639,\n",
              " '직장': 640,\n",
              " '무엇': 641,\n",
              " '읽': 642,\n",
              " '환승': 643,\n",
              " 'ㄴ다면': 644,\n",
              " '거짓말': 645,\n",
              " '재미': 646,\n",
              " '행동': 647,\n",
              " '나와': 648,\n",
              " '얼마': 649,\n",
              " '여유': 650,\n",
              " '그럼': 651,\n",
              " '자면': 652,\n",
              " '임': 653,\n",
              " '형': 654,\n",
              " '만난': 655,\n",
              " '일찍': 656,\n",
              " '아닌데': 657,\n",
              " '아무래도': 658,\n",
              " '세': 659,\n",
              " '감기': 660,\n",
              " '며': 661,\n",
              " '생활': 662,\n",
              " '해야지': 663,\n",
              " '폰': 664,\n",
              " '설레': 665,\n",
              " '장': 666,\n",
              " '언젠간': 667,\n",
              " '없었': 668,\n",
              " '도와': 669,\n",
              " '부족': 670,\n",
              " '소중': 671,\n",
              " '자체': 672,\n",
              " '다행': 673,\n",
              " '알아보': 674,\n",
              " '스러워': 675,\n",
              " '상관': 676,\n",
              " '은데요': 677,\n",
              " '못가': 678,\n",
              " '안가': 679,\n",
              " '재미있': 680,\n",
              " '보통': 681,\n",
              " '지났': 682,\n",
              " '잊혀': 683,\n",
              " '고생': 684,\n",
              " '싸우': 685,\n",
              " '과정': 686,\n",
              " '최고': 687,\n",
              " '동안': 688,\n",
              " '번호': 689,\n",
              " '여기': 690,\n",
              " '깊': 691,\n",
              " '도전': 692,\n",
              " '변하': 693,\n",
              " '귀': 694,\n",
              " '할지': 695,\n",
              " '즐기': 696,\n",
              " '슬픈': 697,\n",
              " '점': 698,\n",
              " '간': 699,\n",
              " '방학': 700,\n",
              " '화장': 701,\n",
              " '카페': 702,\n",
              " '나중': 703,\n",
              " '비밀': 704,\n",
              " '맨날': 705,\n",
              " '곧': 706,\n",
              " '부분': 707,\n",
              " '종교': 708,\n",
              " '언젠가': 709,\n",
              " '아파': 710,\n",
              " '한다고': 711,\n",
              " '생일': 712,\n",
              " '아서요': 713,\n",
              " '거기': 714,\n",
              " '완전': 715,\n",
              " '마주치': 716,\n",
              " '다를': 717,\n",
              " '어려워': 718,\n",
              " '책': 719,\n",
              " '탈': 720,\n",
              " '기회': 721,\n",
              " '한데': 722,\n",
              " '접': 723,\n",
              " '씹': 724,\n",
              " '편지': 725,\n",
              " '손': 726,\n",
              " '하늘': 727,\n",
              " '통보': 728,\n",
              " '는다면': 729,\n",
              " '언제나': 730,\n",
              " '분위기': 731,\n",
              " '본인': 732,\n",
              " '달라지': 733,\n",
              " '취미': 734,\n",
              " '소식': 735,\n",
              " '야지': 736,\n",
              " '스타일': 737,\n",
              " '약속': 738,\n",
              " '미안': 739,\n",
              " '성': 740,\n",
              " '진정': 741,\n",
              " '별후': 742,\n",
              " '소리': 743,\n",
              " '옆': 744,\n",
              " '한지': 745,\n",
              " '동거': 746,\n",
              " '우산': 747,\n",
              " '한다는': 748,\n",
              " '영혼': 749,\n",
              " '비싸': 750,\n",
              " '밖': 751,\n",
              " '쯤': 752,\n",
              " '드리': 753,\n",
              " '뭔지': 754,\n",
              " '존중': 755,\n",
              " '멋진': 756,\n",
              " '응원': 757,\n",
              " '미치': 758,\n",
              " '후련': 759,\n",
              " '잠깐': 760,\n",
              " '려': 761,\n",
              " '굉장히': 762,\n",
              " '알려': 763,\n",
              " '프': 764,\n",
              " '뒤': 765,\n",
              " '상담': 766,\n",
              " '잊어버리': 767,\n",
              " '잖아요': 768,\n",
              " '욕': 769,\n",
              " '줄까': 770,\n",
              " '자존': 771,\n",
              " '끊': 772,\n",
              " '그것': 773,\n",
              " '지나': 774,\n",
              " '해질': 775,\n",
              " '시험': 776,\n",
              " '얼': 777,\n",
              " '소개': 778,\n",
              " '실': 779,\n",
              " '카': 780,\n",
              " '금방': 781,\n",
              " '대해': 782,\n",
              " '벌': 783,\n",
              " '시원': 784,\n",
              " '인기': 785,\n",
              " '우울': 786,\n",
              " '생길': 787,\n",
              " '기간': 788,\n",
              " '줌': 789,\n",
              " '지켜보': 790,\n",
              " '칭찬': 791,\n",
              " '이번': 792,\n",
              " '주일': 793,\n",
              " '아닌지': 794,\n",
              " '마요': 795,\n",
              " '그대로': 796,\n",
              " '절대': 797,\n",
              " '드려요': 798,\n",
              " '엔': 799,\n",
              " '여러': 800,\n",
              " '더라고요': 801,\n",
              " '구': 802,\n",
              " '아닐까요': 803,\n",
              " '멀': 804,\n",
              " '써': 805,\n",
              " '으면서': 806,\n",
              " '헷갈리': 807,\n",
              " '흐르': 808,\n",
              " '가요': 809,\n",
              " '바로': 810,\n",
              " '해결': 811,\n",
              " '흘렀': 812,\n",
              " '워낙': 813,\n",
              " 'sns': 814,\n",
              " '나왔': 815,\n",
              " '깨': 816,\n",
              " '플': 817,\n",
              " '로맨틱': 818,\n",
              " 'ㅠ': 819,\n",
              " '인의': 820,\n",
              " '맞춰': 821,\n",
              " '조언': 822,\n",
              " '갈까': 823,\n",
              " '짐': 824,\n",
              " '꾸준히': 825,\n",
              " '한다면': 826,\n",
              " '쇼핑': 827,\n",
              " '끝내': 828,\n",
              " '주기도': 829,\n",
              " '가능성': 830,\n",
              " '말로': 831,\n",
              " '문자': 832,\n",
              " '썸녀': 833,\n",
              " '자책': 834,\n",
              " '주무세요': 835,\n",
              " '기본': 836,\n",
              " '배우': 837,\n",
              " '선생': 838,\n",
              " '미리': 839,\n",
              " '생기': 840,\n",
              " '이성': 841,\n",
              " '어느': 842,\n",
              " 'ㅠㅠ': 843,\n",
              " '까먹': 844,\n",
              " '피하': 845,\n",
              " '이러': 846,\n",
              " '씻': 847,\n",
              " '사친': 848,\n",
              " '만이': 849,\n",
              " '백만': 850,\n",
              " '한다': 851,\n",
              " '저녁': 852,\n",
              " '서운': 853,\n",
              " '그래요': 854,\n",
              " '해졌': 855,\n",
              " '월급': 856,\n",
              " '드디어': 857,\n",
              " '취직': 858,\n",
              " '어쩔': 859,\n",
              " '적극': 860,\n",
              " '겠지': 861,\n",
              " '예민': 862,\n",
              " '위': 863,\n",
              " '돌아가': 864,\n",
              " '시기': 865,\n",
              " '은가': 866,\n",
              " '답장': 867,\n",
              " '타이밍': 868,\n",
              " '따로': 869,\n",
              " '괴로움': 870,\n",
              " '예쁜': 871,\n",
              " '사과': 872,\n",
              " '자신감': 873,\n",
              " '바보': 874,\n",
              " '어찌': 875,\n",
              " '적기': 876,\n",
              " '죽기': 877,\n",
              " '적응': 878,\n",
              " '걸로': 879,\n",
              " '인사': 880,\n",
              " '대요': 881,\n",
              " '키우': 882,\n",
              " '올려': 883,\n",
              " '즐거운': 884,\n",
              " '그런가': 885,\n",
              " '차리': 886,\n",
              " '짓': 887,\n",
              " '집중': 888,\n",
              " '살짝': 889,\n",
              " '삭제': 890,\n",
              " '버렸': 891,\n",
              " '슬프': 892,\n",
              " '어떻': 893,\n",
              " '위험': 894,\n",
              " '오랜만': 895,\n",
              " '캐치': 896,\n",
              " '스페셜': 897,\n",
              " '장난': 898,\n",
              " '오빠': 899,\n",
              " '커플': 900,\n",
              " '군대': 901,\n",
              " '자유': 902,\n",
              " '매력': 903,\n",
              " '불편': 904,\n",
              " '이사': 905,\n",
              " '아니하': 906,\n",
              " '더라': 907,\n",
              " '발표': 908,\n",
              " '간다': 909,\n",
              " '샀': 910,\n",
              " '본': 911,\n",
              " '꿨': 912,\n",
              " '피해': 913,\n",
              " '의사': 914,\n",
              " '질투': 915,\n",
              " '돌아오': 916,\n",
              " '최선': 917,\n",
              " '전해': 918,\n",
              " '목소리': 919,\n",
              " '지쳤': 920,\n",
              " '연예인': 921,\n",
              " '려면': 922,\n",
              " '허전': 923,\n",
              " '정말로': 924,\n",
              " '라니': 925,\n",
              " '어색': 926,\n",
              " '뭔가': 927,\n",
              " '화장실': 928,\n",
              " '숨': 929,\n",
              " '어느덧': 930,\n",
              " '배려': 931,\n",
              " '그건': 932,\n",
              " '전환': 933,\n",
              " '싸': 934,\n",
              " '거리': 935,\n",
              " '이기': 936,\n",
              " '현상': 937,\n",
              " '상': 938,\n",
              " '현재': 939,\n",
              " '지우': 940,\n",
              " '못한': 941,\n",
              " '두려워': 942,\n",
              " '고치': 943,\n",
              " '자는': 944,\n",
              " '출근': 945,\n",
              " '부탁': 946,\n",
              " '이루어지': 947,\n",
              " '꽃': 948,\n",
              " '당당': 949,\n",
              " '충전': 950,\n",
              " '원망': 951,\n",
              " '완전히': 952,\n",
              " '나눠': 953,\n",
              " '늘': 954,\n",
              " '발전': 955,\n",
              " '때때': 956,\n",
              " '베치': 957,\n",
              " '당황': 958,\n",
              " '누가': 959,\n",
              " '일상': 960,\n",
              " '아무리': 961,\n",
              " '월과': 962,\n",
              " '초순': 963,\n",
              " '됨': 964,\n",
              " '어쩌': 965,\n",
              " '단': 966,\n",
              " '아빠': 967,\n",
              " '당연': 968,\n",
              " '위한': 969,\n",
              " '접촉': 970,\n",
              " '할게요': 971,\n",
              " '적당히': 972,\n",
              " '됩니다': 973,\n",
              " '개': 974,\n",
              " '좋아해': 975,\n",
              " '무': 976,\n",
              " '내기': 977,\n",
              " '크리스마스': 978,\n",
              " '놓아주': 979,\n",
              " '우선': 980,\n",
              " '려나': 981,\n",
              " '걷': 982,\n",
              " '학원': 983,\n",
              " '그래': 984,\n",
              " '심해': 985,\n",
              " '동생': 986,\n",
              " '착각': 987,\n",
              " '막': 988,\n",
              " '기다릴': 989,\n",
              " '열': 990,\n",
              " '한잔': 991,\n",
              " '식': 992,\n",
              " '치': 993,\n",
              " '집안일': 994,\n",
              " '의지': 995,\n",
              " '할수록': 996,\n",
              " '자리': 997,\n",
              " '존재': 998,\n",
              " '데려다': 999,\n",
              " ...}"
            ]
          },
          "metadata": {},
          "execution_count": 43
        }
      ]
    },
    {
      "cell_type": "code",
      "source": [
        "def get_encoded_sentence(sentence, word_to_index):\n",
        "    return [word_to_index[word] if word in word_to_index else word_to_index['<unk>'] for word in sentence]\n",
        "\n",
        "def get_decoded_sentence(encoded_sentence, index_to_word):\n",
        "    return ' '.join(index_to_word[index] if index in index_to_word else '<unk>' for index in encoded_sentence)  #[1:]를 통해 <BOS>를 제외\n",
        "\n",
        "def vectorize(corpus, word_to_index):\n",
        "    data = []\n",
        "    for sen in corpus:\n",
        "        sen = get_encoded_sentence(sen, word_to_index)\n",
        "        data.append(sen)\n",
        "    return data\n",
        "\n",
        "que_train = vectorize(que_corpus, word_to_index)\n",
        "ans_train = vectorize(ans_corpus, word_to_index)\n",
        "\n",
        "enc_val = vectorize(enc_val, word_to_index)\n",
        "dec_val = vectorize(dec_val, word_to_index)\n",
        "\n",
        "print(len(que_train))\n",
        "print(len(ans_train))\n"
      ],
      "metadata": {
        "colab": {
          "base_uri": "https://localhost:8080/"
        },
        "id": "Q1jzltj5V9hJ",
        "outputId": "0f5c6512-989d-44a4-e3bc-f67454e67bb5"
      },
      "execution_count": 44,
      "outputs": [
        {
          "output_type": "stream",
          "name": "stdout",
          "text": [
            "90159\n",
            "90159\n"
          ]
        }
      ]
    },
    {
      "cell_type": "code",
      "source": [
        "# source, target 문장의 토큰 최대 개수 확인\n",
        "\n",
        "max_q_len = 0\n",
        "max_a_len = 0\n",
        "for q, a in zip(que_corpus, ans_corpus):\n",
        "  if len(q) >= max_q_len:\n",
        "    max_q_len = len(q)\n",
        "  if len(a) >= max_a_len:\n",
        "    max_a_len = len(a)\n",
        "  \n",
        "print('질문 최대 토큰 개수: ', max_q_len)\n",
        "print('답변 최대 토큰 개수: ', max_a_len)"
      ],
      "metadata": {
        "colab": {
          "base_uri": "https://localhost:8080/"
        },
        "id": "c5KplI32jsoA",
        "outputId": "19927566-1f03-428a-a057-5b9cd4d307e5"
      },
      "execution_count": 45,
      "outputs": [
        {
          "output_type": "stream",
          "name": "stdout",
          "text": [
            "질문 최대 토큰 개수:  33\n",
            "답변 최대 토큰 개수:  43\n"
          ]
        }
      ]
    },
    {
      "cell_type": "code",
      "source": [
        "\n",
        "max_len = max(max_q_len, max_a_len)\n",
        "\n",
        "enc_tensor = tf.keras.preprocessing.sequence.pad_sequences(que_train, padding='post', maxlen=max_len)\n",
        "dec_tensor = tf.keras.preprocessing.sequence.pad_sequences(ans_train, padding='post', maxlen=max_len)\n",
        "enc_val = tf.keras.preprocessing.sequence.pad_sequences(enc_val, padding='post', maxlen=max_len)\n",
        "dec_val = tf.keras.preprocessing.sequence.pad_sequences(dec_val, padding='post', maxlen=max_len)\n",
        "\n",
        "enc_train = enc_tensor\n",
        "dec_train = dec_tensor\n",
        "\n",
        "\n",
        "print(len(enc_train))\n",
        "print(len(dec_train))\n",
        "print(len(enc_val))\n",
        "print(len(dec_val))\n",
        "print(dec_val[1])\n",
        "print(enc_val[1])"
      ],
      "metadata": {
        "colab": {
          "base_uri": "https://localhost:8080/"
        },
        "id": "-rVgxqhJWCoT",
        "outputId": "85304e47-5b0c-4e49-f54c-a5edd3166194"
      },
      "execution_count": 46,
      "outputs": [
        {
          "output_type": "stream",
          "name": "stdout",
          "text": [
            "90159\n",
            "90159\n",
            "10\n",
            "10\n",
            "[   3  247  716    7   23 1731  282   49 2892   17   10    2    4    0\n",
            "    0    0    0    0    0    0    0    0    0    0    0    0    0    0\n",
            "    0    0    0    0    0    0    0    0    0    0    0    0    0    0\n",
            "    0]\n",
            "[ 325   80  265   27  170  186  247 9224 6111    2    0    0    0    0\n",
            "    0    0    0    0    0    0    0    0    0    0    0    0    0    0\n",
            "    0    0    0    0    0    0    0    0    0    0    0    0    0    0\n",
            "    0]\n"
          ]
        }
      ]
    },
    {
      "cell_type": "code",
      "source": [
        "print(enc_train[1:3])\n",
        "print('\\n')\n",
        "print(dec_train[1:3])"
      ],
      "metadata": {
        "colab": {
          "base_uri": "https://localhost:8080/"
        },
        "id": "miIH9G-6nEcE",
        "outputId": "35f2c9cd-ef5a-4824-8c28-8b3576b2cef1"
      },
      "execution_count": 47,
      "outputs": [
        {
          "output_type": "stream",
          "name": "stdout",
          "text": [
            "[[ 306 3622  567 1038   11    0    0    0    0    0    0    0    0    0\n",
            "     0    0    0    0    0    0    0    0    0    0    0    0    0    0\n",
            "     0    0    0    0    0    0    0    0    0    0    0    0    0    0\n",
            "     0]\n",
            " [ 349 2275  604   63  211  245    9   12   36   32    0    0    0    0\n",
            "     0    0    0    0    0    0    0    0    0    0    0    0    0    0\n",
            "     0    0    0    0    0    0    0    0    0    0    0    0    0    0\n",
            "     0]]\n",
            "\n",
            "\n",
            "[[   3  557   14 1617    2    4    0    0    0    0    0    0    0    0\n",
            "     0    0    0    0    0    0    0    0    0    0    0    0    0    0\n",
            "     0    0    0    0    0    0    0    0    0    0    0    0    0    0\n",
            "     0]\n",
            " [   3  248   18  730   13   35    2    4    0    0    0    0    0    0\n",
            "     0    0    0    0    0    0    0    0    0    0    0    0    0    0\n",
            "     0    0    0    0    0    0    0    0    0    0    0    0    0    0\n",
            "     0]]\n"
          ]
        }
      ]
    },
    {
      "cell_type": "code",
      "source": [
        "enc_tensor.shape"
      ],
      "metadata": {
        "colab": {
          "base_uri": "https://localhost:8080/"
        },
        "id": "JMY_nnMmN6Wr",
        "outputId": "f09cca04-0b98-4905-e993-d0e1b11f6839"
      },
      "execution_count": 48,
      "outputs": [
        {
          "output_type": "execute_result",
          "data": {
            "text/plain": [
              "(90159, 43)"
            ]
          },
          "metadata": {},
          "execution_count": 48
        }
      ]
    },
    {
      "cell_type": "markdown",
      "source": [
        "## 6. 모델 설계 및 훈련"
      ],
      "metadata": {
        "id": "HGexO_PJnhb4"
      }
    },
    {
      "cell_type": "code",
      "source": [
        "def positional_encoding(pos_len, d_model):\n",
        "  def angle(pos, i):\n",
        "    return pos / np.power(10000, (2*int(i))/np.float32(d_model))\n",
        "  def get_posi_angle_vec(pos):\n",
        "    return [angle(pos, i) for i in range(d_model)]\n",
        "  \n",
        "  sinusoid_table = np.array([get_posi_angle_vec(pos_i) for pos_i in range(pos_len)])\n",
        "  sinusoid_table[:, 0::2] = np.sin(sinusoid_table[:, 0::2])\n",
        "  sinusoid_table[:, 1::2] = np.cos(sinusoid_table[:, 1::2])\n",
        "\n",
        "  return sinusoid_table\n",
        "\n",
        "def generate_padding_mask(seq):\n",
        "  seq = tf.cast(tf.math.equal(seq, 0), tf.float32)\n",
        "  return seq[:, tf.newaxis, tf.newaxis, :]\n",
        "\n",
        "def generate_lookahead_mask(size):\n",
        "  mask = 1 - tf.linalg.band_part(tf.ones((size, size)), -1, 0)\n",
        "  return mask\n",
        "\n",
        "def generate_masks(src, tgt):\n",
        "  enc_mask = generate_padding_mask(src)\n",
        "  dec_enc_mask = generate_padding_mask(src)\n",
        "\n",
        "  dec_lookahead_mask = generate_lookahead_mask(tgt.shape[1])\n",
        "  dec_tgt_padding_mask = generate_padding_mask(tgt)\n",
        "  dec_mask = tf.maximum(dec_tgt_padding_mask, dec_lookahead_mask)\n",
        "\n",
        "  return enc_mask, dec_enc_mask, dec_mask\n",
        "\n",
        "class MultiHeadAttention(tf.keras.layers.Layer):\n",
        "  def __init__(self, d_model, n_heads):\n",
        "    super(MultiHeadAttention, self).__init__()\n",
        "    self.d_model = d_model\n",
        "    self.n_heads = n_heads\n",
        "    self.depth = self.d_model // self.n_heads\n",
        "\n",
        "    self.W_q = tf.keras.layers.Dense(d_model)\n",
        "    self.W_k = tf.keras.layers.Dense(d_model)\n",
        "    self.W_v = tf.keras.layers.Dense(d_model)\n",
        "\n",
        "    self.linear = tf.keras.layers.Dense(d_model)\n",
        "  \n",
        "  def scaled_dot_product_attention(self, Q, K, V, mask):\n",
        "    d_k = tf.cast(K.shape[1], tf.float32)\n",
        "    QK = tf.matmul(Q, K, transpose_b = True)\n",
        "    scaled_qk = QK / tf.math.sqrt(d_k)\n",
        "\n",
        "    if mask is not None: scaled_qk += (mask * -1e9)\n",
        "\n",
        "    attention = tf.nn.softmax(scaled_qk)\n",
        "    out = tf.matmul(attention, V)\n",
        "    \n",
        "    return out, attention\n",
        "  \n",
        "  def split_heads(self, x):\n",
        "    batch_size = x.shape[0]\n",
        "\n",
        "    split_x = tf.reshape(x, (batch_size, -1, self.n_heads, self.depth))\n",
        "    split_x = tf.transpose(split_x, perm=[0,2,1,3])\n",
        "\n",
        "    return split_x\n",
        "  \n",
        "  def combine_heads(self, x):\n",
        "    batch_size = x.shape[0]\n",
        "    \n",
        "    combined_x = tf.transpose(x, perm=[0,2,1,3])\n",
        "    combined_x = tf.reshape(combined_x, (batch_size, -1, self.d_model))\n",
        "\n",
        "    return combined_x\n",
        "  \n",
        "  def call(self, Q, K, V, mask):\n",
        "    wq = self.W_q(Q)\n",
        "    wk = self.W_k(K)\n",
        "    wv = self.W_v(V)\n",
        "\n",
        "    split_wq = self.split_heads(wq)\n",
        "    split_wk = self.split_heads(wk)\n",
        "    split_wv = self.split_heads(wv)\n",
        "\n",
        "    out, attention_weights = self.scaled_dot_product_attention(split_wq, split_wk, split_wv, mask)\n",
        "    out = self.combine_heads(out)\n",
        "    out = self.linear(out)\n",
        "\n",
        "    return out, attention_weights\n",
        "\n",
        "class PoswiseFeedForwardNet(tf.keras.layers.Layer):\n",
        "  def __init__(self, d_model, d_ff):\n",
        "    super(PoswiseFeedForwardNet, self).__init__()\n",
        "    self.d_model = d_model\n",
        "    self.d_ff = d_ff\n",
        "    self.ffn1 = tf.keras.layers.Dense(d_ff, activation='relu')\n",
        "    self.ffn2 = tf.keras.layers.Dense(d_model)\n",
        "  \n",
        "  def call(self, x):\n",
        "    out = x\n",
        "    out = self.ffn1(out)\n",
        "    out = self.ffn2(out)\n",
        "    return out\n",
        "\n",
        "class EncoderLayer(tf.keras.layers.Layer):\n",
        "  def __init__(self, d_model, n_heads, d_ff, dropout):\n",
        "    super(EncoderLayer, self).__init__()\n",
        "\n",
        "    self.enc_self_attns = MultiHeadAttention(d_model, n_heads)\n",
        "    self.ffn = PoswiseFeedForwardNet(d_model, d_ff)\n",
        "    self.dropout = tf.keras.layers.Dropout(dropout)\n",
        "\n",
        "    self.norm1 = tf.keras.layers.LayerNormalization(epsilon=1e-6)\n",
        "    self.norm2 = tf.keras.layers.LayerNormalization(epsilon=1e-6)\n",
        "\n",
        "  def call(self, x, mask):\n",
        "    residual = x\n",
        "    out = self.norm1(x)\n",
        "    out, enc_attns = self.enc_self_attns(out, out, out, mask)\n",
        "    out = self.dropout(out)\n",
        "    out += residual\n",
        "\n",
        "    residual = out\n",
        "    out = self.norm2(out)\n",
        "    out = self.ffn(out)\n",
        "    out = self.dropout(out)\n",
        "    out += residual\n",
        "\n",
        "    return out, enc_attns\n",
        "\n",
        "class DecoderLayer(tf.keras.layers.Layer):\n",
        "  def __init__(self, d_model, n_heads, d_ff, dropout):\n",
        "    super(DecoderLayer, self).__init__()\n",
        "    \n",
        "    self.dec_self_attns = MultiHeadAttention(d_model, n_heads)\n",
        "    self.dec_enc_self_attns = MultiHeadAttention(d_model, n_heads)\n",
        "    self.ffn = PoswiseFeedForwardNet(d_model, d_ff)\n",
        "    \n",
        "    self.norm1 = tf.keras.layers.LayerNormalization(epsilon=1e-6)\n",
        "    self.norm2 = tf.keras.layers.LayerNormalization(epsilon=1e-6)\n",
        "    self.norm3 = tf.keras.layers.LayerNormalization(epsilon=1e-6)\n",
        "\n",
        "    self.dropout = tf.keras.layers.Dropout(dropout)\n",
        "\n",
        "  def call(self, x, enc_out, causality_mask, padding_mask):\n",
        "    residual = x\n",
        "    out = self.norm1(x)\n",
        "    out, dec_attns = self.dec_self_attns(out, out, out, padding_mask)\n",
        "    out = self.dropout(out)\n",
        "    out += residual\n",
        "\n",
        "    residual = out\n",
        "    out = self.norm2(out)\n",
        "    out, dec_enc_attns = self.dec_enc_self_attns(out, enc_out, enc_out, causality_mask)\n",
        "    out = self.dropout(out)\n",
        "    out += residual\n",
        "\n",
        "    residual = out\n",
        "    out = self.norm3(out)\n",
        "    out = self.ffn(out)\n",
        "    out = self.dropout(out)\n",
        "    out += residual\n",
        "\n",
        "    return out, dec_attns, dec_enc_attns\n",
        "\n",
        "class Encoder(tf.keras.Model):\n",
        "  def __init__(self, n_layers, d_model, n_heads, d_ff, dropout):\n",
        "    super(Encoder, self).__init__()\n",
        "\n",
        "    self.n_layers = n_layers\n",
        "    self.enc_layers = [EncoderLayer(d_model, n_heads, d_ff, dropout) for _ in range(n_layers)]\n",
        "\n",
        "  def call(self, x, mask):\n",
        "    out = x\n",
        "\n",
        "    enc_attns = []\n",
        "    for i in range(self.n_layers):\n",
        "      out, enc_attn = self.enc_layers[i](out, mask)\n",
        "      enc_attns.append(enc_attn)\n",
        "    \n",
        "    return out, enc_attns\n",
        "\n",
        "class Decoder(tf.keras.Model):\n",
        "  def __init__(self, n_layers, d_model, n_heads, d_ff, dropout):\n",
        "    super(Decoder, self).__init__()\n",
        "\n",
        "    self.n_layers = n_layers\n",
        "    self.dec_layers = [DecoderLayer(d_model, n_heads, d_ff, dropout) for _ in range(n_layers)]\n",
        "    self.dropout = tf.keras.layers.Dropout(dropout)\n",
        "  \n",
        "  def call(self, x, enc_out, causality_mask, padding_mask):\n",
        "    out = x\n",
        "\n",
        "    dec_attns = []\n",
        "    dec_enc_attns = []\n",
        "    for i in range(self.n_layers):\n",
        "      out, dec_attn, dec_enc_attn = self.dec_layers[i](out, enc_out, causality_mask, padding_mask)\n",
        "      dec_attns.append(dec_attn)\n",
        "      dec_enc_attns.append(dec_enc_attn)\n",
        "    \n",
        "    return out, dec_attns, dec_enc_attns\n",
        "\n",
        "class Transformer(tf.keras.Model):\n",
        "    def __init__(self,\n",
        "                    n_layers,\n",
        "                    d_model,\n",
        "                    n_heads,\n",
        "                    d_ff,\n",
        "                    src_vocab_size,\n",
        "                    tgt_vocab_size,\n",
        "                    pos_len,\n",
        "                    dropout=0.2,\n",
        "                    shared_fc=True,\n",
        "                    shared_emb=False):\n",
        "        super(Transformer, self).__init__()\n",
        "        \n",
        "        self.d_model = tf.cast(d_model, tf.float32)\n",
        "\n",
        "        if shared_emb:\n",
        "            self.enc_emb = self.dec_emb = \\\n",
        "            tf.keras.layers.Embedding(src_vocab_size, d_model)\n",
        "        else:\n",
        "            self.enc_emb = tf.keras.layers.Embedding(src_vocab_size, d_model)\n",
        "            self.dec_emb = tf.keras.layers.Embedding(tgt_vocab_size, d_model)\n",
        "\n",
        "        self.pos_encoding = positional_encoding(pos_len, d_model)\n",
        "        self.do = tf.keras.layers.Dropout(dropout)\n",
        "\n",
        "        self.encoder = Encoder(n_layers, d_model, n_heads, d_ff, dropout)\n",
        "        self.decoder = Decoder(n_layers, d_model, n_heads, d_ff, dropout)\n",
        "\n",
        "        self.fc = tf.keras.layers.Dense(tgt_vocab_size)\n",
        "\n",
        "        self.shared_fc = shared_fc\n",
        "\n",
        "        if shared_fc:\n",
        "            self.fc.set_weights(tf.transpose(self.dec_emb.weights))\n",
        "\n",
        "    def embedding(self, emb, x):\n",
        "        seq_len = x.shape[1]\n",
        "\n",
        "        out = emb(x)\n",
        "\n",
        "        if self.shared_fc: out *= tf.math.sqrt(self.d_model)\n",
        "\n",
        "        out += self.pos_encoding[np.newaxis, ...][:, :seq_len, :]\n",
        "        out = self.do(out)\n",
        "\n",
        "        return out\n",
        "\n",
        "        \n",
        "    def call(self, enc_in, dec_in, enc_mask, dec_enc_mask, dec_mask):\n",
        "        enc_in = self.embedding(self.enc_emb, enc_in)\n",
        "        dec_in = self.embedding(self.dec_emb, dec_in)\n",
        "\n",
        "        enc_out, enc_attns = self.encoder(enc_in, enc_mask)\n",
        "        \n",
        "        dec_out, dec_attns, dec_enc_attns = \\\n",
        "        self.decoder(dec_in, enc_out, dec_enc_mask, dec_mask)\n",
        "        \n",
        "        logits = self.fc(dec_out)\n",
        "        \n",
        "        return logits, enc_attns, dec_attns, dec_enc_attns"
      ],
      "metadata": {
        "id": "1lRO6SNsnjat"
      },
      "execution_count": 49,
      "outputs": []
    },
    {
      "cell_type": "code",
      "source": [
        "# 주어진 하이퍼파라미터로 Transformer 인스턴스 생성\n",
        "transformer = Transformer(\n",
        "    n_layers=6,\n",
        "    d_model=512,\n",
        "    n_heads=8,\n",
        "    d_ff=1024,\n",
        "    src_vocab_size=9261,\n",
        "    tgt_vocab_size=9261,\n",
        "    pos_len=43,\n",
        "    dropout=0.3,\n",
        "    shared_fc=True,\n",
        "    shared_emb=True)\n",
        "\t\t\n",
        "d_model = 512"
      ],
      "metadata": {
        "id": "UI_NvaV0-Afu"
      },
      "execution_count": 50,
      "outputs": []
    },
    {
      "cell_type": "code",
      "source": [
        "class LearningRateScheduler(tf.keras.optimizers.schedules.LearningRateSchedule):\n",
        "    def __init__(self, d_model, warmup_steps=2000):\n",
        "        super(LearningRateScheduler, self).__init__()\n",
        "        \n",
        "        self.d_model = d_model\n",
        "        self.warmup_steps = warmup_steps\n",
        "    \n",
        "    def __call__(self, step):\n",
        "        arg1 = step ** -0.5\n",
        "        arg2 = step * (self.warmup_steps ** -1.5)\n",
        "        \n",
        "        return (self.d_model ** -0.5) * tf.math.minimum(arg1, arg2)"
      ],
      "metadata": {
        "id": "rWFjRCUH_i2V"
      },
      "execution_count": 51,
      "outputs": []
    },
    {
      "cell_type": "code",
      "source": [
        "learning_rate = LearningRateScheduler(d_model)\n",
        "\n",
        "optimizer = tf.keras.optimizers.Adam(learning_rate,\n",
        "                                        beta_1=0.9,\n",
        "                                        beta_2=0.98, \n",
        "                                        epsilon=1e-9)"
      ],
      "metadata": {
        "id": "J6Cnc3cv_lRO"
      },
      "execution_count": 52,
      "outputs": []
    },
    {
      "cell_type": "code",
      "source": [
        "loss_object = tf.keras.losses.SparseCategoricalCrossentropy(\n",
        "    from_logits=True, reduction='none')\n",
        "\n",
        "def loss_function(real, pred):\n",
        "    mask = tf.math.logical_not(tf.math.equal(real, 0))\n",
        "    loss_ = loss_object(real, pred)\n",
        "\n",
        "    mask = tf.cast(mask, dtype=loss_.dtype)\n",
        "    loss_ *= mask\n",
        "\n",
        "    return tf.reduce_sum(loss_)/tf.reduce_sum(mask)"
      ],
      "metadata": {
        "id": "NzUHHD6h_0Tt"
      },
      "execution_count": 53,
      "outputs": []
    },
    {
      "cell_type": "code",
      "source": [
        "@tf.function()\n",
        "def train_step(src, tgt, model, optimizer):\n",
        "    tgt_in = tgt[:, :-1]  # Decoder의 input\n",
        "    gold = tgt[:, 1:]     # Decoder의 output과 비교하기 위해 right shift를 통해 생성한 최종 타겟\n",
        "\n",
        "    enc_mask, dec_enc_mask, dec_mask = generate_masks(src, tgt_in)\n",
        "\n",
        "    with tf.GradientTape() as tape:\n",
        "        predictions, enc_attns, dec_attns, dec_enc_attns = \\\n",
        "        model(src, tgt_in, enc_mask, dec_enc_mask, dec_mask)\n",
        "        loss = loss_function(gold, predictions)\n",
        "\n",
        "    gradients = tape.gradient(loss, model.trainable_variables)    \n",
        "    optimizer.apply_gradients(zip(gradients, model.trainable_variables))\n",
        "\n",
        "    return loss, enc_attns, dec_attns, dec_enc_attns"
      ],
      "metadata": {
        "id": "yMn2HaBp_7Zn"
      },
      "execution_count": 54,
      "outputs": []
    },
    {
      "cell_type": "code",
      "source": [
        "def evaluate(sentence, model):\n",
        "    # sentence 전처리(enc_train과 같은 모양으로)\n",
        "    sentence = preprocess_sentence(sentence)\n",
        "    mecab = Mecab()\n",
        "    pieces = mecab.morphs(sentence)\n",
        "    tokens = get_encoded_sentence(pieces, word_to_index)\n",
        "\n",
        "    _input = tf.keras.preprocessing.sequence.pad_sequences([tokens],\n",
        "                                                           maxlen=enc_train.shape[-1],\n",
        "                                                           padding='post')\n",
        "    \n",
        "    ids = []\n",
        "    \n",
        "    output = tf.expand_dims([word_to_index['<start>']], 0) \n",
        "    for i in range(dec_train.shape[-1]):\n",
        "        enc_padding_mask, combined_mask, dec_padding_mask = \\\n",
        "        generate_masks(_input, output)\n",
        "\n",
        "        predictions, enc_attns, dec_attns, dec_enc_attns =\\\n",
        "        model(_input, \n",
        "              output,\n",
        "              enc_padding_mask,\n",
        "              combined_mask,\n",
        "              dec_padding_mask)\n",
        "\n",
        "        predicted_id = \\\n",
        "        tf.argmax(tf.math.softmax(predictions, axis=-1)[0, -1]).numpy().item()\n",
        "        \n",
        "        # 예측 단어가 종료 토큰일 경우\n",
        "        if word_to_index['<end>'] == predicted_id:\n",
        "            result = get_decoded_sentence(ids, index_to_word)\n",
        "            return pieces, result, enc_attns, dec_attns, dec_enc_attns\n",
        "        ##word_to_index\n",
        "        ids.append(predicted_id)\n",
        "        output = tf.concat([output, tf.expand_dims([predicted_id], 0)], axis=-1)\n",
        "\n",
        "    result = get_decoded_sentence(ids, index_to_word)\n",
        "\n",
        "    return pieces, result, enc_attns, dec_attns, dec_enc_attns\n",
        "\n",
        "def translate(sentence, model):\n",
        "    pieces, result, enc_attns, dec_attns, dec_enc_attns = \\\n",
        "    evaluate(sentence, model)\n",
        "    \n",
        "    print('\\nInput: %s' % (sentence))\n",
        "    print('Predicted translation: {}'.format(result))\n",
        "\n",
        "    return result"
      ],
      "metadata": {
        "id": "RHjqFrq3Wtvy"
      },
      "execution_count": 55,
      "outputs": []
    },
    {
      "cell_type": "code",
      "source": [
        "from tqdm import tqdm\n",
        "\n",
        "BATCH_SIZE = 64\n",
        "EPOCHS = 20\n",
        "\n",
        "examples = [\"1지망 학교 떨어졌어\",\n",
        "            \"지루하다, 놀러가고 싶어.\",\n",
        "            \"오늘 일찍 일어났더니 피곤하다.\",\n",
        "            \"간만에 여자친구랑 데이트 하기로 했어.\",\n",
        "            \"집에 있는다는 소리야.\"\n",
        "]\n",
        "\n",
        "loss_ = []\n",
        "\n",
        "for epoch in range(EPOCHS):\n",
        "    total_loss = 0\n",
        "    \n",
        "    idx_list = list(range(0, enc_train.shape[0], BATCH_SIZE))\n",
        "    random.shuffle(idx_list)\n",
        "    t = tqdm(idx_list)\n",
        "\n",
        "    for (batch, idx) in enumerate(t):\n",
        "        batch_loss, enc_attns, dec_attns, dec_enc_attns = \\\n",
        "        train_step(enc_train[idx:idx+BATCH_SIZE],\n",
        "                    dec_train[idx:idx+BATCH_SIZE],\n",
        "                    transformer,\n",
        "                    optimizer)\n",
        "\n",
        "        total_loss += batch_loss\n",
        "        loss_.append(batch_loss)\n",
        "\n",
        "        t.set_description_str('Epoch %2d' % (epoch + 1))\n",
        "        t.set_postfix_str('Loss %.4f' % (total_loss.numpy() / (batch + 1)))\n",
        "        \n",
        "    for example in examples:\n",
        "        translate(example, transformer)"
      ],
      "metadata": {
        "colab": {
          "base_uri": "https://localhost:8080/"
        },
        "id": "S5J9DSBq_-fV",
        "outputId": "a885edd0-eb31-49b2-aee5-628d42b85d05"
      },
      "execution_count": 56,
      "outputs": [
        {
          "output_type": "stream",
          "name": "stderr",
          "text": [
            "Epoch  1: 100%|██████████| 1409/1409 [05:56<00:00,  3.95it/s, Loss 4.1214]\n"
          ]
        },
        {
          "output_type": "stream",
          "name": "stdout",
          "text": [
            "\n",
            "Input: 1지망 학교 떨어졌어\n",
            "Predicted translation: 아무 생각 되 면 돼요 .\n",
            "\n",
            "Input: 지루하다, 놀러가고 싶어.\n",
            "Predicted translation: 지금 도 충분히 아름다워요 .\n",
            "\n",
            "Input: 오늘 일찍 일어났더니 피곤하다.\n",
            "Predicted translation: 소원 을 비 비 비 세요 !\n",
            "\n",
            "Input: 간만에 여자친구랑 데이트 하기로 했어.\n",
            "Predicted translation: 다음 에 는 사람 과 같이 있 어요 .\n",
            "\n",
            "Input: 집에 있는다는 소리야.\n",
            "Predicted translation: 낭만 적 인 시간 이 네요 .\n"
          ]
        },
        {
          "output_type": "stream",
          "name": "stderr",
          "text": [
            "Epoch  2: 100%|██████████| 1409/1409 [05:45<00:00,  4.08it/s, Loss 2.8599]\n"
          ]
        },
        {
          "output_type": "stream",
          "name": "stdout",
          "text": [
            "\n",
            "Input: 1지망 학교 떨어졌어\n",
            "Predicted translation: 네 는데\n",
            "\n",
            "Input: 지루하다, 놀러가고 싶어.\n",
            "Predicted translation: 저 도 타 고 싶 어요 .\n",
            "\n",
            "Input: 오늘 일찍 일어났더니 피곤하다.\n",
            "Predicted translation: 다이어트 파이팅 !\n",
            "\n",
            "Input: 간만에 여자친구랑 데이트 하기로 했어.\n",
            "Predicted translation: 아무것 도 안 해도 재밌 거 예요 .\n",
            "\n",
            "Input: 집에 있는다는 소리야.\n",
            "Predicted translation: 집 에 는 어때요 ?\n"
          ]
        },
        {
          "output_type": "stream",
          "name": "stderr",
          "text": [
            "Epoch  3: 100%|██████████| 1409/1409 [05:44<00:00,  4.09it/s, Loss 2.1754]\n"
          ]
        },
        {
          "output_type": "stream",
          "name": "stdout",
          "text": [
            "\n",
            "Input: 1지망 학교 떨어졌어\n",
            "Predicted translation: 위로 해 드립니다 .\n",
            "\n",
            "Input: 지루하다, 놀러가고 싶어.\n",
            "Predicted translation: 같이 가 고 싶 은 걸 도전 해 봐요 .\n",
            "\n",
            "Input: 오늘 일찍 일어났더니 피곤하다.\n",
            "Predicted translation: 제 가 상사 듯 예요 .\n",
            "\n",
            "Input: 간만에 여자친구랑 데이트 하기로 했어.\n",
            "Predicted translation: 축하 합니다 !\n",
            "\n",
            "Input: 집에 있는다는 소리야.\n",
            "Predicted translation: 집 이 최고 죠 .\n"
          ]
        },
        {
          "output_type": "stream",
          "name": "stderr",
          "text": [
            "Epoch  4: 100%|██████████| 1409/1409 [05:45<00:00,  4.08it/s, Loss 1.6644]\n"
          ]
        },
        {
          "output_type": "stream",
          "name": "stdout",
          "text": [
            "\n",
            "Input: 1지망 학교 떨어졌어\n",
            "Predicted translation: 위로 해 드립니다 .\n",
            "\n",
            "Input: 지루하다, 놀러가고 싶어.\n",
            "Predicted translation: 저 도 배워 보 고 싶 어요 .\n",
            "\n",
            "Input: 오늘 일찍 일어났더니 피곤하다.\n",
            "Predicted translation: 잠 이 중요 해요 . 눈 에서 중요 하 지 않 아요 .\n",
            "\n",
            "Input: 간만에 여자친구랑 데이트 하기로 했어.\n",
            "Predicted translation: 잘 찾아보 세요 .\n",
            "\n",
            "Input: 집에 있는다는 소리야.\n",
            "Predicted translation: 자신 의 몸값 을 걸요 .\n"
          ]
        },
        {
          "output_type": "stream",
          "name": "stderr",
          "text": [
            "Epoch  5: 100%|██████████| 1409/1409 [05:43<00:00,  4.10it/s, Loss 1.3712]\n"
          ]
        },
        {
          "output_type": "stream",
          "name": "stdout",
          "text": [
            "\n",
            "Input: 1지망 학교 떨어졌어\n",
            "Predicted translation: 위로 해 위로 해 위로 해 위로 해 위로 해 위로 해 위로 해 위로 해 위로 해 드립니다 .\n",
            "\n",
            "Input: 지루하다, 놀러가고 싶어.\n",
            "Predicted translation: 같이 가요 .\n",
            "\n",
            "Input: 오늘 일찍 일어났더니 피곤하다.\n",
            "Predicted translation: 언젠간 결정 이 길 바랍니다 .\n",
            "\n",
            "Input: 간만에 여자친구랑 데이트 하기로 했어.\n",
            "Predicted translation: 썸 이나 연인 과 맞 는 건 없 아요 .\n",
            "\n",
            "Input: 집에 있는다는 소리야.\n",
            "Predicted translation: 즐거운 시간 보내 고 싶 돼요 .\n"
          ]
        },
        {
          "output_type": "stream",
          "name": "stderr",
          "text": [
            "Epoch  6: 100%|██████████| 1409/1409 [05:43<00:00,  4.10it/s, Loss 1.1478]\n"
          ]
        },
        {
          "output_type": "stream",
          "name": "stdout",
          "text": [
            "\n",
            "Input: 1지망 학교 떨어졌어\n",
            "Predicted translation: 위로 해 드립니다 .\n",
            "\n",
            "Input: 지루하다, 놀러가고 싶어.\n",
            "Predicted translation: 마음 이 갈 것 그러 군요 것 같 습니다 .\n",
            "\n",
            "Input: 오늘 일찍 일어났더니 피곤하다.\n",
            "Predicted translation: 잠 이 니까요 .\n",
            "\n",
            "Input: 간만에 여자친구랑 데이트 하기로 했어.\n",
            "Predicted translation: 잠 이 많 은 남자 남자 요 . 오 지 않 는 상관 없 어요 .\n",
            "\n",
            "Input: 집에 있는다는 소리야.\n",
            "Predicted translation: 조심히 오 세요 .\n"
          ]
        },
        {
          "output_type": "stream",
          "name": "stderr",
          "text": [
            "Epoch  7: 100%|██████████| 1409/1409 [05:44<00:00,  4.09it/s, Loss 1.0007]\n"
          ]
        },
        {
          "output_type": "stream",
          "name": "stdout",
          "text": [
            "\n",
            "Input: 1지망 학교 떨어졌어\n",
            "Predicted translation: 위로 해의 되 지 않 으면 잘 살 아요 .\n",
            "\n",
            "Input: 지루하다, 놀러가고 싶어.\n",
            "Predicted translation: 많이 위험 하 군요 .\n",
            "\n",
            "Input: 오늘 일찍 일어났더니 피곤하다.\n",
            "Predicted translation: 후회 하 는 것 보단 연락 해 보 세요 .\n",
            "\n",
            "Input: 간만에 여자친구랑 데이트 하기로 했어.\n",
            "Predicted translation: 좋 은 친구 를 뒀 네요 .\n",
            "\n",
            "Input: 집에 있는다는 소리야.\n",
            "Predicted translation: 즐거운 시간 보내 시 길 바랍니다 .\n"
          ]
        },
        {
          "output_type": "stream",
          "name": "stderr",
          "text": [
            "Epoch  8: 100%|██████████| 1409/1409 [05:43<00:00,  4.10it/s, Loss 0.8815]\n"
          ]
        },
        {
          "output_type": "stream",
          "name": "stdout",
          "text": [
            "\n",
            "Input: 1지망 학교 떨어졌어\n",
            "Predicted translation: 위로 해 드립니다 .\n",
            "\n",
            "Input: 지루하다, 놀러가고 싶어.\n",
            "Predicted translation: 제 가 뒤 에 에서 지켜 드릴게요 .\n",
            "\n",
            "Input: 오늘 일찍 일어났더니 피곤하다.\n",
            "Predicted translation: 고민 이 결과 모르 겠 네요 .\n",
            "\n",
            "Input: 간만에 여자친구랑 데이트 하기로 했어.\n",
            "Predicted translation: 그분 에 대한 얘기 가 봐요 .\n",
            "\n",
            "Input: 집에 있는다는 소리야.\n",
            "Predicted translation: 저 에게 괜찮 아도 으면 좋 겠 어요 .\n"
          ]
        },
        {
          "output_type": "stream",
          "name": "stderr",
          "text": [
            "Epoch  9: 100%|██████████| 1409/1409 [05:44<00:00,  4.09it/s, Loss 0.7999]\n"
          ]
        },
        {
          "output_type": "stream",
          "name": "stdout",
          "text": [
            "\n",
            "Input: 1지망 학교 떨어졌어\n",
            "Predicted translation: 위로 해 드립니다 .\n",
            "\n",
            "Input: 지루하다, 놀러가고 싶어.\n",
            "Predicted translation: 저 도 요 ! ! ! ! ! ! ! ! ! ! ! !\n",
            "\n",
            "Input: 오늘 일찍 일어났더니 피곤하다.\n",
            "Predicted translation: 정신 노동 했 나 봐요 .\n",
            "\n",
            "Input: 간만에 여자친구랑 데이트 하기로 했어.\n",
            "Predicted translation: 또 데이트 할 수 있 어요 .\n",
            "\n",
            "Input: 집에 있는다는 소리야.\n",
            "Predicted translation: 집 이 네요 .\n"
          ]
        },
        {
          "output_type": "stream",
          "name": "stderr",
          "text": [
            "Epoch 10: 100%|██████████| 1409/1409 [05:43<00:00,  4.10it/s, Loss 0.7366]\n"
          ]
        },
        {
          "output_type": "stream",
          "name": "stdout",
          "text": [
            "\n",
            "Input: 1지망 학교 떨어졌어\n",
            "Predicted translation: 위로 해 드립니다 .\n",
            "\n",
            "Input: 지루하다, 놀러가고 싶어.\n",
            "Predicted translation: 시간 이 약 이 본인 다시 복잡 하 게 되 면 도움 그러 을 거 예요 .\n",
            "\n",
            "Input: 오늘 일찍 일어났더니 피곤하다.\n",
            "Predicted translation: 잠 이 최고 죠 .\n",
            "\n",
            "Input: 간만에 여자친구랑 데이트 하기로 했어.\n",
            "Predicted translation: 야경 이 없 는 걸 추천 해요 .\n",
            "\n",
            "Input: 집에 있는다는 소리야.\n",
            "Predicted translation: 우연 이 필연 이 되 기 도 합니다 .\n"
          ]
        },
        {
          "output_type": "stream",
          "name": "stderr",
          "text": [
            "Epoch 11: 100%|██████████| 1409/1409 [05:44<00:00,  4.09it/s, Loss 0.6867]\n"
          ]
        },
        {
          "output_type": "stream",
          "name": "stdout",
          "text": [
            "\n",
            "Input: 1지망 학교 떨어졌어\n",
            "Predicted translation: 위로 해 드립니다 .\n",
            "\n",
            "Input: 지루하다, 놀러가고 싶어.\n",
            "Predicted translation: 용기 를 내 서 말 해 보 세요 .\n",
            "\n",
            "Input: 오늘 일찍 일어났더니 피곤하다.\n",
            "Predicted translation: 정신 노동 을 했 나 봐요 .\n",
            "\n",
            "Input: 간만에 여자친구랑 데이트 하기로 했어.\n",
            "Predicted translation: 계속 내 집 에서 준비 하 는 상관 없 어요 .\n",
            "\n",
            "Input: 집에 있는다는 소리야.\n",
            "Predicted translation: 괜찮 은 사람 이 라면 이해 해 보 세요 .\n"
          ]
        },
        {
          "output_type": "stream",
          "name": "stderr",
          "text": [
            "Epoch 12: 100%|██████████| 1409/1409 [05:43<00:00,  4.10it/s, Loss 0.6518]\n"
          ]
        },
        {
          "output_type": "stream",
          "name": "stdout",
          "text": [
            "\n",
            "Input: 1지망 학교 떨어졌어\n",
            "Predicted translation: 위로 드립니다 .\n",
            "\n",
            "Input: 지루하다, 놀러가고 싶어.\n",
            "Predicted translation: 저 도 배워 보 고 싶 어요 .\n",
            "\n",
            "Input: 오늘 일찍 일어났더니 피곤하다.\n",
            "Predicted translation: 정신 차리 세요 .\n",
            "\n",
            "Input: 간만에 여자친구랑 데이트 하기로 했어.\n",
            "Predicted translation: 즐거운 성장 건강 하 되 길 바랍니다 .\n",
            "\n",
            "Input: 집에 있는다는 소리야.\n",
            "Predicted translation: 서로 에게 좋 은 선물 사 는 사람 이 라면 복잡 할 거 예요 .\n"
          ]
        },
        {
          "output_type": "stream",
          "name": "stderr",
          "text": [
            "Epoch 13: 100%|██████████| 1409/1409 [05:43<00:00,  4.10it/s, Loss 0.6139]\n"
          ]
        },
        {
          "output_type": "stream",
          "name": "stdout",
          "text": [
            "\n",
            "Input: 1지망 학교 떨어졌어\n",
            "Predicted translation: 위로 해 드립니다 .\n",
            "\n",
            "Input: 지루하다, 놀러가고 싶어.\n",
            "Predicted translation: 용기 를 내 서 말 해 보 세요 .\n",
            "\n",
            "Input: 오늘 일찍 일어났더니 피곤하다.\n",
            "Predicted translation: 다른 곳 으로 관심 을 돌려 보 세요 .\n",
            "\n",
            "Input: 간만에 여자친구랑 데이트 하기로 했어.\n",
            "Predicted translation: 그분 이 무엇 이 든 물 어 보 는 건 어떨까 요 .\n",
            "\n",
            "Input: 집에 있는다는 소리야.\n",
            "Predicted translation: 각자 에게 사 는 것 보다 좋 을 것 .\n"
          ]
        },
        {
          "output_type": "stream",
          "name": "stderr",
          "text": [
            "Epoch 14: 100%|██████████| 1409/1409 [05:44<00:00,  4.09it/s, Loss 0.5933]\n"
          ]
        },
        {
          "output_type": "stream",
          "name": "stdout",
          "text": [
            "\n",
            "Input: 1지망 학교 떨어졌어\n",
            "Predicted translation: 위로 위로 위로 위로 가 되 었 나 봐요 .\n",
            "\n",
            "Input: 지루하다, 놀러가고 싶어.\n",
            "Predicted translation: 내일 도 더 나 봅니다 .\n",
            "\n",
            "Input: 오늘 일찍 일어났더니 피곤하다.\n",
            "Predicted translation: 좀 후련 하 게 되 기 도 하 죠 .\n",
            "\n",
            "Input: 간만에 여자친구랑 데이트 하기로 했어.\n",
            "Predicted translation: 그것 상상 은 하 는 게 최선 의 라면 괴로움 는데요 .\n",
            "\n",
            "Input: 집에 있는다는 소리야.\n",
            "Predicted translation: 서로 에게 좋 을 인상 을 남겼 으면 좋 겠 네요 .\n"
          ]
        },
        {
          "output_type": "stream",
          "name": "stderr",
          "text": [
            "Epoch 15: 100%|██████████| 1409/1409 [05:43<00:00,  4.10it/s, Loss 0.5658]\n"
          ]
        },
        {
          "output_type": "stream",
          "name": "stdout",
          "text": [
            "\n",
            "Input: 1지망 학교 떨어졌어\n",
            "Predicted translation: 위로 해 드립니다 .\n",
            "\n",
            "Input: 지루하다, 놀러가고 싶어.\n",
            "Predicted translation: 마음 을 정리 할 때 좀 시간 이 네요 .\n",
            "\n",
            "Input: 오늘 일찍 일어났더니 피곤하다.\n",
            "Predicted translation: 정신 은 항상 을 위해 함께 아요 .\n",
            "\n",
            "Input: 간만에 여자친구랑 데이트 하기로 했어.\n",
            "Predicted translation: 완전히 똑같 은 것 보다 더 힘들 게 만들 죠 .\n",
            "\n",
            "Input: 집에 있는다는 소리야.\n",
            "Predicted translation: 신경 사용하 고 싶 지 않 은 사람 이 네요 .\n"
          ]
        },
        {
          "output_type": "stream",
          "name": "stderr",
          "text": [
            "Epoch 16: 100%|██████████| 1409/1409 [05:43<00:00,  4.10it/s, Loss 0.5430]\n"
          ]
        },
        {
          "output_type": "stream",
          "name": "stdout",
          "text": [
            "\n",
            "Input: 1지망 학교 떨어졌어\n",
            "Predicted translation: 위로 해 드립니다 .\n",
            "\n",
            "Input: 지루하다, 놀러가고 싶어.\n",
            "Predicted translation: 용기 를 내 서 말 해 보 세요 .\n",
            "\n",
            "Input: 오늘 일찍 일어났더니 피곤하다.\n",
            "Predicted translation: 고민 이 있 나 봐요 .\n",
            "\n",
            "Input: 간만에 여자친구랑 데이트 하기로 했어.\n",
            "Predicted translation: 건강 에 좋 은 거 예요 .\n",
            "\n",
            "Input: 집에 있는다는 소리야.\n",
            "Predicted translation: 신경 쓰 지 마세요 .\n"
          ]
        },
        {
          "output_type": "stream",
          "name": "stderr",
          "text": [
            "Epoch 17: 100%|██████████| 1409/1409 [05:44<00:00,  4.09it/s, Loss 0.5225]\n"
          ]
        },
        {
          "output_type": "stream",
          "name": "stdout",
          "text": [
            "\n",
            "Input: 1지망 학교 떨어졌어\n",
            "Predicted translation: 위로 해 드립니다 .\n",
            "\n",
            "Input: 지루하다, 놀러가고 싶어.\n",
            "Predicted translation: 저 도 같이 살 죠 .\n",
            "\n",
            "Input: 오늘 일찍 일어났더니 피곤하다.\n",
            "Predicted translation: 개인 시간 이 생길 거 예요 .\n",
            "\n",
            "Input: 간만에 여자친구랑 데이트 하기로 했어.\n",
            "Predicted translation: 카페 처럼 생긴 피시방 이 라면 문제 네요 .\n",
            "\n",
            "Input: 집에 있는다는 소리야.\n",
            "Predicted translation: 같이 라면 서로 에게 좋 을 때 네요 .\n"
          ]
        },
        {
          "output_type": "stream",
          "name": "stderr",
          "text": [
            "Epoch 18: 100%|██████████| 1409/1409 [05:43<00:00,  4.10it/s, Loss 0.5012]\n"
          ]
        },
        {
          "output_type": "stream",
          "name": "stdout",
          "text": [
            "\n",
            "Input: 1지망 학교 떨어졌어\n",
            "Predicted translation: 위로 해 드립니다 .\n",
            "\n",
            "Input: 지루하다, 놀러가고 싶어.\n",
            "Predicted translation: 재미있 게 놀 다 오 세요 .\n",
            "\n",
            "Input: 오늘 일찍 일어났더니 피곤하다.\n",
            "Predicted translation: 충전 시간 그 자체 로 소중 합니다 .\n",
            "\n",
            "Input: 간만에 여자친구랑 데이트 하기로 했어.\n",
            "Predicted translation: 건강 생각 해도 좋 을 거 예요 .\n",
            "\n",
            "Input: 집에 있는다는 소리야.\n",
            "Predicted translation: 사 는 재미 가 있 을 거 예요 .\n"
          ]
        },
        {
          "output_type": "stream",
          "name": "stderr",
          "text": [
            "Epoch 19: 100%|██████████| 1409/1409 [05:44<00:00,  4.09it/s, Loss 0.4897]\n"
          ]
        },
        {
          "output_type": "stream",
          "name": "stdout",
          "text": [
            "\n",
            "Input: 1지망 학교 떨어졌어\n",
            "Predicted translation: 위로 해 드립니다 .\n",
            "\n",
            "Input: 지루하다, 놀러가고 싶어.\n",
            "Predicted translation: 마음 을 정리 하 는 게 좋 겠 어요 .\n",
            "\n",
            "Input: 오늘 일찍 일어났더니 피곤하다.\n",
            "Predicted translation: 어쩔 수 없었 죠 .\n",
            "\n",
            "Input: 간만에 여자친구랑 데이트 하기로 했어.\n",
            "Predicted translation: 카페 처럼 생긴 피시방 이 라면 데이트 도 문제 없 어요 .\n",
            "\n",
            "Input: 집에 있는다는 소리야.\n",
            "Predicted translation: 같이 게임 을 해 보 세요 .\n"
          ]
        },
        {
          "output_type": "stream",
          "name": "stderr",
          "text": [
            "Epoch 20: 100%|██████████| 1409/1409 [05:43<00:00,  4.10it/s, Loss 0.4753]\n"
          ]
        },
        {
          "output_type": "stream",
          "name": "stdout",
          "text": [
            "\n",
            "Input: 1지망 학교 떨어졌어\n",
            "Predicted translation: 위로 해 드립니다 .\n",
            "\n",
            "Input: 지루하다, 놀러가고 싶어.\n",
            "Predicted translation: 달라지 지 않 는다면 이대로 가 나을지도 몰라요 .\n",
            "\n",
            "Input: 오늘 일찍 일어났더니 피곤하다.\n",
            "Predicted translation: 잘못 을 했 나 봐요 .\n",
            "\n",
            "Input: 간만에 여자친구랑 데이트 하기로 했어.\n",
            "Predicted translation: 순간 실수 하 지 않 길 바랄게요 .\n",
            "\n",
            "Input: 집에 있는다는 소리야.\n",
            "Predicted translation: 내 맘 같 지 않 은 것 같이 네요 .\n"
          ]
        }
      ]
    },
    {
      "cell_type": "markdown",
      "source": [
        "## 7. 성능 평가"
      ],
      "metadata": {
        "id": "rodagwnLjk2x"
      }
    },
    {
      "cell_type": "code",
      "source": [
        "from nltk.translate.bleu_score import SmoothingFunction\n",
        "from nltk.translate.bleu_score import sentence_bleu\n",
        "\n",
        "reference = \"자연어 처리에서 트랜스포머는 꼭 자세히 알고 지나가야한다.\".split()\n",
        "candidate = \"자 연어 처리의 트랜스포머는 자세히 알고 가야 된다.\".split()\n",
        "\n",
        "print(\"원문:\", reference)\n",
        "print(\"번역문:\", candidate)\n",
        "print(\"BLEU Score:\", sentence_bleu([reference], candidate))"
      ],
      "metadata": {
        "id": "Wg7VbBu9jom9",
        "colab": {
          "base_uri": "https://localhost:8080/"
        },
        "outputId": "8188880d-b9ad-4130-df25-ac952f424bd3"
      },
      "execution_count": 57,
      "outputs": [
        {
          "output_type": "stream",
          "name": "stdout",
          "text": [
            "원문: ['자연어', '처리에서', '트랜스포머는', '꼭', '자세히', '알고', '지나가야한다.']\n",
            "번역문: ['자', '연어', '처리의', '트랜스포머는', '자세히', '알고', '가야', '된다.']\n",
            "BLEU Score: 7.176381577237209e-155\n"
          ]
        },
        {
          "output_type": "stream",
          "name": "stderr",
          "text": [
            "/usr/local/lib/python3.7/dist-packages/nltk/translate/bleu_score.py:552: UserWarning: \n",
            "The hypothesis contains 0 counts of 3-gram overlaps.\n",
            "Therefore the BLEU score evaluates to 0, independently of\n",
            "how many N-gram overlaps of lower order it contains.\n",
            "Consider using lower n-gram order or use SmoothingFunction()\n",
            "  warnings.warn(_msg)\n",
            "/usr/local/lib/python3.7/dist-packages/nltk/translate/bleu_score.py:552: UserWarning: \n",
            "The hypothesis contains 0 counts of 4-gram overlaps.\n",
            "Therefore the BLEU score evaluates to 0, independently of\n",
            "how many N-gram overlaps of lower order it contains.\n",
            "Consider using lower n-gram order or use SmoothingFunction()\n",
            "  warnings.warn(_msg)\n"
          ]
        }
      ]
    },
    {
      "cell_type": "code",
      "source": [
        "def calculate_bleu(reference, candidate, weights=[0.25, 0.25, 0.25, 0.25]):\n",
        "    return sentence_bleu([reference],\n",
        "                         candidate,\n",
        "                         weights=weights,\n",
        "                         smoothing_function=SmoothingFunction().method1)  # smoothing_function 적용\n",
        "\n",
        "print(\"BLEU-1:\", calculate_bleu(reference, candidate, weights=[1, 0, 0, 0]))\n",
        "print(\"BLEU-2:\", calculate_bleu(reference, candidate, weights=[0, 1, 0, 0]))\n",
        "print(\"BLEU-3:\", calculate_bleu(reference, candidate, weights=[0, 0, 1, 0]))\n",
        "print(\"BLEU-4:\", calculate_bleu(reference, candidate, weights=[0, 0, 0, 1]))\n",
        "\n",
        "print(\"\\nBLEU-Total:\", calculate_bleu(reference, candidate))"
      ],
      "metadata": {
        "id": "iQRrpLY5j-uG",
        "colab": {
          "base_uri": "https://localhost:8080/"
        },
        "outputId": "f95bf13d-f9d4-46c8-9498-ded33401b4ce"
      },
      "execution_count": 58,
      "outputs": [
        {
          "output_type": "stream",
          "name": "stdout",
          "text": [
            "BLEU-1: 0.375\n",
            "BLEU-2: 0.14285714285714285\n",
            "BLEU-3: 0.01666666666666667\n",
            "BLEU-4: 0.02\n",
            "\n",
            "BLEU-Total: 0.06500593260343691\n"
          ]
        }
      ]
    },
    {
      "cell_type": "code",
      "source": [
        "def eval_bleu(src_corpus, tgt_corpus, verbose=True):\n",
        "    total_score = 0.0\n",
        "    sample_size = len(tgt_corpus)\n",
        "\n",
        "    for idx in tqdm(range(sample_size)):\n",
        "        src_tokens = src_corpus[idx]\n",
        "        tgt_tokens = tgt_corpus[idx]\n",
        "        \n",
        "        src = []\n",
        "        tgt = []\n",
        "        \n",
        "        for word in src_tokens:\n",
        "            if word !=0 and word !=1 and word !=3 and word !=4:\n",
        "                src.append(word)\n",
        "        \n",
        "        for word in tgt_tokens:\n",
        "            if word != 0 and word != 3 and word !=4:\n",
        "                tgt.append(word)\n",
        "\n",
        "        src_sentence = get_decoded_sentence(src, index_to_word)\n",
        "        tgt_sentence = get_decoded_sentence(tgt, index_to_word)\n",
        "        \n",
        "        \n",
        "        reference = preprocess_sentence(tgt_sentence)\n",
        "        candidate = translate(src_sentence, transformer)\n",
        "\n",
        "        score = sentence_bleu([reference], candidate,\n",
        "                              smoothing_function=SmoothingFunction().method1)\n",
        "        total_score += score\n",
        "\n",
        "        if verbose:\n",
        "            print(\"Source Sentence: \", src_sentence)\n",
        "            print(\"Model Prediction: \", candidate)\n",
        "            print(\"Real: \", reference)\n",
        "            print(\"Score: %lf\\n\" % score)\n",
        "\n",
        "    print(\"Num of Sample:\", sample_size)\n",
        "    print(\"Total Score:\", total_score / sample_size)"
      ],
      "metadata": {
        "id": "PDzMLZDgkEbB"
      },
      "execution_count": 59,
      "outputs": []
    },
    {
      "cell_type": "code",
      "source": [
        "eval_bleu(enc_val, dec_val, verbose=True)"
      ],
      "metadata": {
        "id": "MTFY7MsZkrrh",
        "colab": {
          "base_uri": "https://localhost:8080/"
        },
        "outputId": "64c8a345-d81d-40b7-e953-0dead40f12bd"
      },
      "execution_count": 60,
      "outputs": [
        {
          "output_type": "stream",
          "name": "stderr",
          "text": [
            " 10%|█         | 1/10 [00:03<00:33,  3.78s/it]"
          ]
        },
        {
          "output_type": "stream",
          "name": "stdout",
          "text": [
            "\n",
            "Input: 회사 에 좋 아 하 는 남자 가 생겼 어 어떡 하 지 ?\n",
            "Predicted translation: 마음 을 ㄴ다는 는다는 는다는 는다는 는다는 는다는 는다는 는다는 대로 하 는 듯 좋 겠 어요 .\n",
            "Source Sentence:  회사 에 좋 아 하 는 남자 가 생겼 어 어떡 하 지 ?\n",
            "Model Prediction:  마음 을 ㄴ다는 는다는 는다는 는다는 는다는 는다는 는다는 는다는 대로 하 는 듯 좋 겠 어요 .\n",
            "Real:  사랑 하 기 힘든 관계 인가 봐요 .\n",
            "Score: 0.032041\n",
            "\n"
          ]
        },
        {
          "output_type": "stream",
          "name": "stderr",
          "text": [
            "\r 20%|██        | 2/10 [00:05<00:22,  2.78s/it]"
          ]
        },
        {
          "output_type": "stream",
          "name": "stdout",
          "text": [
            "\n",
            "Input: 회사 에서 어떤 사람 이랑 자꾸 눈 마추 쳐 .\n",
            "Predicted translation: 그건 본인 의 마음 이 편하 게 아니 에요 .\n",
            "Source Sentence:  회사 에서 어떤 사람 이랑 자꾸 눈 마추 쳐 .\n",
            "Model Prediction:  그건 본인 의 마음 이 편하 게 아니 에요 .\n",
            "Real:  눈 마주치 는 게 우연 인지 잘 살펴 보 세요 .\n",
            "Score: 0.076070\n",
            "\n"
          ]
        },
        {
          "output_type": "stream",
          "name": "stderr",
          "text": [
            "\r 30%|███       | 3/10 [00:07<00:14,  2.04s/it]"
          ]
        },
        {
          "output_type": "stream",
          "name": "stdout",
          "text": [
            "\n",
            "Input: 회식 중 이 라고 하 는데 연락 이 안 돼 .\n",
            "Predicted translation: 맛있 는 거 드세요 .\n",
            "Source Sentence:  회식 중 이 라고 하 는데 연락 이 안 돼 .\n",
            "Model Prediction:  맛있 는 거 드세요 .\n",
            "Real:  정신 없이 바쁠 지도 몰라요 . 조금 만 더 기다려 보 고 물 어 보 는 게 좋 을 것 같 아요 .\n",
            "Score: 0.004094\n",
            "\n"
          ]
        },
        {
          "output_type": "stream",
          "name": "stderr",
          "text": [
            "\r 40%|████      | 4/10 [00:09<00:13,  2.19s/it]"
          ]
        },
        {
          "output_type": "stream",
          "name": "stdout",
          "text": [
            "\n",
            "Input: 회식 하 는데 나 만 챙겨 줘 . 썸 임 ?\n",
            "Predicted translation: 상대방 을 헷갈리 게 하 는 건 좋 지 않 아요 .\n",
            "Source Sentence:  회식 하 는데 나 만 챙겨 줘 . 썸 임 ?\n",
            "Model Prediction:  상대방 을 헷갈리 게 하 는 건 좋 지 않 아요 .\n",
            "Real:  호감 이 있 을 수 도 있 어요 . 그렇지만 조금 더 상황 을 지켜보 세요 .\n",
            "Score: 0.044209\n",
            "\n"
          ]
        },
        {
          "output_type": "stream",
          "name": "stderr",
          "text": [
            "\r 50%|█████     | 5/10 [00:10<00:09,  1.94s/it]"
          ]
        },
        {
          "output_type": "stream",
          "name": "stdout",
          "text": [
            "\n",
            "Input: 후회 없이 사랑 하 고 싶 어\n",
            "Predicted translation: 감정 에 다니 다행 이 에요 .\n",
            "Source Sentence:  후회 없이 사랑 하 고 싶 어\n",
            "Model Prediction:  감정 에 다니 다행 이 에요 .\n",
            "Real:  진심 으로 다가가 보 세요 .\n",
            "Score: 0.080511\n",
            "\n"
          ]
        },
        {
          "output_type": "stream",
          "name": "stderr",
          "text": [
            "\r 60%|██████    | 6/10 [00:12<00:06,  1.73s/it]"
          ]
        },
        {
          "output_type": "stream",
          "name": "stdout",
          "text": [
            "\n",
            "Input: 훔쳐 보 는 것 도 눈치 보임 .\n",
            "Predicted translation: 기분 좋 아 보이 네요 .\n",
            "Source Sentence:  훔쳐 보 는 것 도 눈치 보임 .\n",
            "Model Prediction:  기분 좋 아 보이 네요 .\n",
            "Real:  티 가 나 니까 눈치 가 보이 는 거 죠 !\n",
            "Score: 0.100102\n",
            "\n"
          ]
        },
        {
          "output_type": "stream",
          "name": "stderr",
          "text": [
            "\r 70%|███████   | 7/10 [00:13<00:04,  1.59s/it]"
          ]
        },
        {
          "output_type": "stream",
          "name": "stdout",
          "text": [
            "\n",
            "Input: 훔쳐 보 는 것 도 눈치 보임 .\n",
            "Predicted translation: 기분 좋 아 보이 네요 .\n",
            "Source Sentence:  훔쳐 보 는 것 도 눈치 보임 .\n",
            "Model Prediction:  기분 좋 아 보이 네요 .\n",
            "Real:  훔쳐 보 는 거 티나 나 봐요 .\n",
            "Score: 0.075129\n",
            "\n"
          ]
        },
        {
          "output_type": "stream",
          "name": "stderr",
          "text": [
            "\r 80%|████████  | 8/10 [00:15<00:03,  1.85s/it]"
          ]
        },
        {
          "output_type": "stream",
          "name": "stdout",
          "text": [
            "\n",
            "Input: 흑기사 해 주 는 짝 남 .\n",
            "Predicted translation: 그 항상 에서 자신 을 더 많이 해 보 세요 .\n",
            "Source Sentence:  흑기사 해 주 는 짝 남 .\n",
            "Model Prediction:  그 항상 에서 자신 을 더 많이 해 보 세요 .\n",
            "Real:  설렜 겠 어요 .\n",
            "Score: 0.040859\n",
            "\n"
          ]
        },
        {
          "output_type": "stream",
          "name": "stderr",
          "text": [
            "\r 90%|█████████ | 9/10 [00:18<00:01,  1.93s/it]"
          ]
        },
        {
          "output_type": "stream",
          "name": "stdout",
          "text": [
            "\n",
            "Input: 힘든 연애 좋 은 연애 라는 게 무슨 차이 일까 ?\n",
            "Predicted translation: 알 다가 도 모르 는 게 힘들 거 예요 .\n",
            "Source Sentence:  힘든 연애 좋 은 연애 라는 게 무슨 차이 일까 ?\n",
            "Model Prediction:  알 다가 도 모르 는 게 힘들 거 예요 .\n",
            "Real:  잘 헤어질 수 있 는 사이 여부 인 거 같 아요 .\n",
            "Score: 0.082422\n",
            "\n"
          ]
        },
        {
          "output_type": "stream",
          "name": "stderr",
          "text": [
            "100%|██████████| 10/10 [00:19<00:00,  1.96s/it]"
          ]
        },
        {
          "output_type": "stream",
          "name": "stdout",
          "text": [
            "\n",
            "Input: 힘들 어서 결혼 할까봐\n",
            "Predicted translation: 언젠가 다 잊어버리 을 거 예요 .\n",
            "Source Sentence:  힘들 어서 결혼 할까봐\n",
            "Model Prediction:  언젠가 다 잊어버리 을 거 예요 .\n",
            "Real:  도피성 결혼 은 하 지 않 길 바라 요 .\n",
            "Score: 0.052174\n",
            "\n",
            "Num of Sample: 10\n",
            "Total Score: 0.058761027921926626\n"
          ]
        },
        {
          "output_type": "stream",
          "name": "stderr",
          "text": [
            "\n"
          ]
        }
      ]
    },
    {
      "cell_type": "code",
      "source": [
        "plt.figure(figsize=(10,8))\n",
        "plt.plot(loss_)\n",
        "plt.xlabel('iters')\n",
        "plt.ylabel('loss')\n",
        "plt.show()"
      ],
      "metadata": {
        "id": "EY388Vnemtc8",
        "colab": {
          "base_uri": "https://localhost:8080/",
          "height": 497
        },
        "outputId": "62018bb9-e44c-4818-d28b-558e17db9749"
      },
      "execution_count": 61,
      "outputs": [
        {
          "output_type": "display_data",
          "data": {
            "text/plain": [
              "<Figure size 720x576 with 1 Axes>"
            ],
            "image/png": "[encoded data removed]"
          },
          "metadata": {
            "needs_background": "light"
          }
        }
      ]
    },
    {
      "cell_type": "markdown",
      "source": [
        "## 8. 실험 결과 비교\n"
      ],
      "metadata": {
        "id": "TxDAlvBbls24"
      }
    },
    {
      "cell_type": "markdown",
      "source": [
        "![스크린샷 2022-10-21 오후 2.09.52.png](data:image/png;base64,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)"
      ],
      "metadata": {
        "id": "0vxVjnMz8qlo"
      }
    }
  ]
}