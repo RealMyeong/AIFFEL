{
  "nbformat": 4,
  "nbformat_minor": 0,
  "metadata": {
    "colab": {
      "name": "EX_BS2_project5.ipynb",
      "provenance": [],
      "mount_file_id": "1FI9kQAMQ5FAZ2mkfZ615RAsN5xEuURjQ",
      "authorship_tag": "ABX9TyPKnBYogThzcD2+RZJF6QYc",
      "include_colab_link": true
    },
    "kernelspec": {
      "name": "python3",
      "display_name": "Python 3"
    },
    "language_info": {
      "name": "python"
    }
  },
  "cells": [
    {
      "cell_type": "markdown",
      "metadata": {
        "id": "view-in-github",
        "colab_type": "text"
      },
      "source": [
        "<a href=\"https://colab.research.google.com/github/RealMyeong/Aiffel_Exploration/blob/main/EX_BS2_project5.ipynb\" target=\"_parent\"><img src=\"https://colab.research.google.com/assets/colab-badge.svg\" alt=\"Open In Colab\"/></a>"
      ]
    },
    {
      "cell_type": "code",
      "source": [
        "#라이브러리 import \n",
        "from PIL import Image\n",
        "import matplotlib.pyplot as plt\n",
        "import glob\n",
        "import os"
      ],
      "metadata": {
        "id": "rR-hZa-DJKso"
      },
      "execution_count": null,
      "outputs": []
    },
    {
      "cell_type": "markdown",
      "source": [
        "## 데이터 불러오기 and resize 하기"
      ],
      "metadata": {
        "id": "54RfOr68Gp2Z"
      }
    },
    {
      "cell_type": "code",
      "source": [
        "#이미지 사이즈 28x28로 바꾸는 함수 정의\n",
        "\n",
        "def resize_img(data_path):\n",
        "  images = glob.glob(data_path + '/*.jpg')\n",
        "  print(len(images), ' images to be resized')\n",
        "\n",
        "  #target size를 28x28로 설정\n",
        "  target_size=(28,28)\n",
        "  for img in images:\n",
        "    old_img = Image.open(img)\n",
        "    new_img = old_img.resize(target_size, Image.ANTIALIAS)\n",
        "    new_img.save(img, 'JPEG')\n",
        "  \n",
        "  print(len(images), ' images resized')"
      ],
      "metadata": {
        "id": "oHfEhdiMJfJe"
      },
      "execution_count": null,
      "outputs": []
    },
    {
      "cell_type": "code",
      "source": [
        "#가위 사이즈 바꾸기\n",
        "data_path_s = '/content/drive/MyDrive/가위바위보/train/가위'\n",
        "resize_img(data_path_s)"
      ],
      "metadata": {
        "colab": {
          "base_uri": "https://localhost:8080/"
        },
        "id": "Q_ggodEuKt-y",
        "outputId": "ad498a43-f184-4634-a8bd-125de542ea0a"
      },
      "execution_count": null,
      "outputs": [
        {
          "output_type": "stream",
          "name": "stdout",
          "text": [
            "207  images to be resized\n",
            "207  images resized\n"
          ]
        }
      ]
    },
    {
      "cell_type": "code",
      "source": [
        "#바위 사이즈 바꾸기\n",
        "data_path_r = '/content/drive/MyDrive/가위바위보/train/바위'\n",
        "resize_img(data_path_r)"
      ],
      "metadata": {
        "colab": {
          "base_uri": "https://localhost:8080/"
        },
        "id": "ojOudOHUK8hj",
        "outputId": "9812dae4-2b83-42cb-8d99-073cfadd854b"
      },
      "execution_count": null,
      "outputs": [
        {
          "output_type": "stream",
          "name": "stdout",
          "text": [
            "114  images to be resized\n",
            "114  images resized\n"
          ]
        }
      ]
    },
    {
      "cell_type": "code",
      "source": [
        "#보 사이즈 바꾸기\n",
        "data_path_p = '/content/drive/MyDrive/가위바위보/train/보'\n",
        "resize_img(data_path_p)"
      ],
      "metadata": {
        "colab": {
          "base_uri": "https://localhost:8080/"
        },
        "id": "afjmrWwWLEm6",
        "outputId": "c0cda937-3424-4859-8aac-a314ea170646"
      },
      "execution_count": null,
      "outputs": [
        {
          "output_type": "stream",
          "name": "stdout",
          "text": [
            "107  images to be resized\n",
            "107  images resized\n"
          ]
        }
      ]
    },
    {
      "cell_type": "markdown",
      "source": [
        "## 가위,바위,보 이미지 데이터를 불러오는 load_data 함수 정의하기"
      ],
      "metadata": {
        "id": "QXsITnZ8GuOV"
      }
    },
    {
      "cell_type": "code",
      "source": [
        "#load_data 함수 정의하기\n",
        "\n",
        "import numpy as np\n",
        "\n",
        "def load_data_train(img_path, number_of_data=428):  # 가위바위보 이미지 개수 총합에 주의하세요.\n",
        "    # 가위 : 0, 바위 : 1, 보 : 2\n",
        "    img_size=28\n",
        "    color=3\n",
        "    #이미지 데이터와 라벨(가위 : 0, 바위 : 1, 보 : 2) 데이터를 담을 행렬(matrix) 영역을 생성합니다.\n",
        "    imgs=np.zeros(number_of_data*img_size*img_size*color,dtype=np.int32).reshape(number_of_data,img_size,img_size,color)\n",
        "    labels=np.zeros(number_of_data,dtype=np.int32)\n",
        "\n",
        "    idx=0\n",
        "    for file in glob.iglob(img_path+'/가위/*.jpg'):\n",
        "        img = np.array(Image.open(file),dtype=np.int32)\n",
        "        imgs[idx,:,:,:]=img    # 데이터 영역에 이미지 행렬을 복사\n",
        "        labels[idx]=0   # 가위 : 0\n",
        "        idx=idx+1\n",
        "\n",
        "    for file in glob.iglob(img_path+'/바위/*.jpg'):\n",
        "        img = np.array(Image.open(file),dtype=np.int32)\n",
        "        imgs[idx,:,:,:]=img    # 데이터 영역에 이미지 행렬을 복사\n",
        "        labels[idx]=1   # 바위 : 1\n",
        "        idx=idx+1  \n",
        "    \n",
        "    for file in glob.iglob(img_path+'/보/*.jpg'):\n",
        "        img = np.array(Image.open(file),dtype=np.int32)\n",
        "        imgs[idx,:,:,:]=img    # 데이터 영역에 이미지 행렬을 복사\n",
        "        labels[idx]=2   # 보 : 2\n",
        "        idx=idx+1\n",
        "        \n",
        "    print(\"학습데이터(x_train)의 이미지 개수는\", idx,\"입니다.\")\n",
        "    return imgs, labels\n",
        "\n",
        "image_data_path = '/content/drive/MyDrive/가위바위보/train'\n",
        "(x_train, y_train)=load_data_train(image_data_path)\n",
        "x_train_norm = x_train/255.0   # 입력은 0~1 사이의 값으로 정규화\n",
        "\n",
        "print(\"x_train shape: {}\".format(x_train.shape))\n",
        "print(\"y_train shape: {}\".format(y_train.shape))"
      ],
      "metadata": {
        "colab": {
          "base_uri": "https://localhost:8080/"
        },
        "id": "PjTXoB0IQao3",
        "outputId": "3a9493fd-03bb-421e-9716-8b6fc6959130"
      },
      "execution_count": null,
      "outputs": [
        {
          "output_type": "stream",
          "name": "stdout",
          "text": [
            "학습데이터(x_train)의 이미지 개수는 428 입니다.\n",
            "x_train shape: (428, 28, 28, 3)\n",
            "y_train shape: (428,)\n"
          ]
        }
      ]
    },
    {
      "cell_type": "code",
      "source": [
        "plt.imshow(x_train[0])\n",
        "print('라벨: ', y_train[0])"
      ],
      "metadata": {
        "colab": {
          "base_uri": "https://localhost:8080/",
          "height": 283
        },
        "id": "46pcnAgwRccG",
        "outputId": "165b959c-851a-4699-ecda-1863a49cec9a"
      },
      "execution_count": null,
      "outputs": [
        {
          "output_type": "stream",
          "name": "stdout",
          "text": [
            "라벨:  0\n"
          ]
        },
        {
          "output_type": "display_data",
          "data": {
            "text/plain": [
              "<Figure size 432x288 with 1 Axes>"
            ],
            "image/png": "[encoded data removed]"
          },
          "metadata": {
            "needs_background": "light"
          }
        }
      ]
    },
    {
      "cell_type": "markdown",
      "source": [
        "## 딥러닝 네트워크 설계하기"
      ],
      "metadata": {
        "id": "4K6peZqbR-n4"
      }
    },
    {
      "cell_type": "code",
      "source": [
        "import tensorflow as tf\n",
        "from tensorflow import keras\n",
        "import numpy as np"
      ],
      "metadata": {
        "id": "oTuSpgoTR9sK"
      },
      "execution_count": null,
      "outputs": []
    },
    {
      "cell_type": "code",
      "source": [
        "#LeNet 설계\n",
        "model=keras.models.Sequential()\n",
        "model.add(keras.layers.Conv2D(64, (3,3), activation='relu', input_shape=(28,28,3)))\n",
        "model.add(keras.layers.MaxPool2D(2,2))\n",
        "model.add(keras.layers.Conv2D(128, (3,3), activation='relu'))\n",
        "model.add(keras.layers.MaxPooling2D((2,2)))\n",
        "model.add(keras.layers.Flatten())\n",
        "model.add(keras.layers.Dense(100, activation='relu'))\n",
        "tf.keras.layers.Dropout(0.2)\n",
        "model.add(keras.layers.Dense(3, activation='softmax'))\n",
        "\n",
        "print('Model에 추가된 Layer 개수: ', len(model.layers))"
      ],
      "metadata": {
        "colab": {
          "base_uri": "https://localhost:8080/"
        },
        "id": "fvPzqpmiSpEd",
        "outputId": "5bccfc96-cf26-4de9-8d6b-d3ef13ed421f"
      },
      "execution_count": null,
      "outputs": [
        {
          "output_type": "stream",
          "name": "stdout",
          "text": [
            "Model에 추가된 Layer 개수:  7\n"
          ]
        }
      ]
    },
    {
      "cell_type": "markdown",
      "source": [
        "## 모델 학습시키기"
      ],
      "metadata": {
        "id": "vjoxN4ctTJ7b"
      }
    },
    {
      "cell_type": "code",
      "source": [
        "#학습 진행\n",
        "#train 데이터를 잘 분류하게 만들어줌\n",
        "model.compile(optimizer='adam',\n",
        "             loss='sparse_categorical_crossentropy',\n",
        "             metrics=['accuracy'])\n",
        "\n",
        "model.fit(x_train, y_train, epochs=10)"
      ],
      "metadata": {
        "colab": {
          "base_uri": "https://localhost:8080/"
        },
        "id": "7CxqRLg1TLK7",
        "outputId": "c5716e60-b312-4273-e27c-4c9a428a47de"
      },
      "execution_count": null,
      "outputs": [
        {
          "output_type": "stream",
          "name": "stdout",
          "text": [
            "Epoch 1/10\n",
            "14/14 [==============================] - 2s 93ms/step - loss: 35.5101 - accuracy: 0.4393\n",
            "Epoch 2/10\n",
            "14/14 [==============================] - 1s 69ms/step - loss: 0.9901 - accuracy: 0.7009\n",
            "Epoch 3/10\n",
            "14/14 [==============================] - 1s 65ms/step - loss: 0.5212 - accuracy: 0.8178\n",
            "Epoch 4/10\n",
            "14/14 [==============================] - 1s 65ms/step - loss: 0.2708 - accuracy: 0.9065\n",
            "Epoch 5/10\n",
            "14/14 [==============================] - 1s 62ms/step - loss: 0.0919 - accuracy: 0.9813\n",
            "Epoch 6/10\n",
            "14/14 [==============================] - 1s 64ms/step - loss: 0.0362 - accuracy: 0.9930\n",
            "Epoch 7/10\n",
            "14/14 [==============================] - 1s 64ms/step - loss: 0.0234 - accuracy: 0.9907\n",
            "Epoch 8/10\n",
            "14/14 [==============================] - 1s 65ms/step - loss: 0.0177 - accuracy: 1.0000\n",
            "Epoch 9/10\n",
            "14/14 [==============================] - 1s 65ms/step - loss: 0.0062 - accuracy: 1.0000\n",
            "Epoch 10/10\n",
            "14/14 [==============================] - 1s 69ms/step - loss: 0.0026 - accuracy: 1.0000\n"
          ]
        },
        {
          "output_type": "execute_result",
          "data": {
            "text/plain": [
              "<keras.callbacks.History at 0x7f06c9ee2d10>"
            ]
          },
          "metadata": {},
          "execution_count": 11
        }
      ]
    },
    {
      "cell_type": "code",
      "source": [
        "def load_data_test(img_path, number_of_data=300):  # 가위바위보 이미지 개수 총합에 주의하세요.\n",
        "    # 가위 : 0, 바위 : 1, 보 : 2\n",
        "    img_size=28\n",
        "    color=3\n",
        "    #이미지 데이터와 라벨(가위 : 0, 바위 : 1, 보 : 2) 데이터를 담을 행렬(matrix) 영역을 생성합니다.\n",
        "    imgs=np.zeros(number_of_data*img_size*img_size*color,dtype=np.int32).reshape(number_of_data,img_size,img_size,color)\n",
        "    labels=np.zeros(number_of_data,dtype=np.int32)\n",
        "\n",
        "    idx=0\n",
        "    for file in glob.iglob(img_path+'/가위_test/*.jpg'):\n",
        "        img = np.array(Image.open(file),dtype=np.int32)\n",
        "        imgs[idx,:,:,:]=img    # 데이터 영역에 이미지 행렬을 복사\n",
        "        labels[idx]=0   # 가위 : 0\n",
        "        idx=idx+1\n",
        "\n",
        "    for file in glob.iglob(img_path+'/바위_test/*.jpg'):\n",
        "        img = np.array(Image.open(file),dtype=np.int32)\n",
        "        imgs[idx,:,:,:]=img    # 데이터 영역에 이미지 행렬을 복사\n",
        "        labels[idx]=1   # 바위 : 1\n",
        "        idx=idx+1  \n",
        "    \n",
        "    for file in glob.iglob(img_path+'/보_test/*.jpg'):\n",
        "        img = np.array(Image.open(file),dtype=np.int32)\n",
        "        imgs[idx,:,:,:]=img    # 데이터 영역에 이미지 행렬을 복사\n",
        "        labels[idx]=2   # 보 : 2\n",
        "        idx=idx+1\n",
        "        \n",
        "    print(\"시험 데이터(x_test)의 이미지 개수는\", idx,\"입니다.\")\n",
        "    return imgs, labels"
      ],
      "metadata": {
        "id": "d4_IANEYa7uk"
      },
      "execution_count": null,
      "outputs": []
    },
    {
      "cell_type": "code",
      "source": [
        "#가위 사이즈 바꾸기\n",
        "data_path_s_test = '/content/drive/MyDrive/가위바위보/test/가위_test'\n",
        "resize_img(data_path_s_test)\n",
        "#가위 사이즈 바꾸기\n",
        "data_path_r_test = '/content/drive/MyDrive/가위바위보/test/바위_test'\n",
        "resize_img(data_path_r_test)\n",
        "#가위 사이즈 바꾸기\n",
        "data_path_p_test = '/content/drive/MyDrive/가위바위보/test/보_test'\n",
        "resize_img(data_path_p_test)"
      ],
      "metadata": {
        "colab": {
          "base_uri": "https://localhost:8080/"
        },
        "id": "M8ALaKo_cDMn",
        "outputId": "2828bc56-612d-4939-f221-05f2b8e93be7"
      },
      "execution_count": null,
      "outputs": [
        {
          "output_type": "stream",
          "name": "stdout",
          "text": [
            "100  images to be resized\n",
            "100  images resized\n",
            "100  images to be resized\n",
            "100  images resized\n",
            "100  images to be resized\n",
            "100  images resized\n"
          ]
        }
      ]
    },
    {
      "cell_type": "code",
      "source": [
        "#test 데이터 생성\n",
        "image_data_path = '/content/drive/MyDrive/가위바위보/test'\n",
        "(x_test, y_test)=load_data_test(image_data_path)\n",
        "x_test_norem = x_test/255.0"
      ],
      "metadata": {
        "colab": {
          "base_uri": "https://localhost:8080/"
        },
        "id": "37EsI3ZqTf4R",
        "outputId": "b0f6a137-2619-4b3f-fa28-e94898d003d5"
      },
      "execution_count": null,
      "outputs": [
        {
          "output_type": "stream",
          "name": "stdout",
          "text": [
            "시험 데이터(x_test)의 이미지 개수는 300 입니다.\n"
          ]
        }
      ]
    },
    {
      "cell_type": "code",
      "source": [
        "#test 데이터에 대해서 한 번 정확도 확인\n",
        "test_loss, test_accuracy = model.evaluate(x_test,y_test, verbose=2)\n",
        "print(\"test_loss: {} \".format(test_loss))\n",
        "print(\"test_accuracy: {}\".format(test_accuracy))"
      ],
      "metadata": {
        "colab": {
          "base_uri": "https://localhost:8080/"
        },
        "id": "zwrvlevXcocr",
        "outputId": "06cd43b1-cdc9-4503-a891-41d2889e1277"
      },
      "execution_count": null,
      "outputs": [
        {
          "output_type": "stream",
          "name": "stdout",
          "text": [
            "10/10 - 0s - loss: 4.2892 - accuracy: 0.2533 - 323ms/epoch - 32ms/step\n",
            "test_loss: 4.289200305938721 \n",
            "test_accuracy: 0.25333333015441895\n"
          ]
        }
      ]
    },
    {
      "cell_type": "markdown",
      "source": [
        "- 정확도가 25% 나와서 파라미터 바꿔가면서 정확도 측정"
      ],
      "metadata": {
        "id": "JlbRzAANddOk"
      }
    },
    {
      "cell_type": "code",
      "source": [
        "# 바꿔 볼 수 있는 하이퍼파라미터들\n",
        "# 하이퍼 파라미터를 바꿔가며 확인 가능\n",
        "n_channel_1=32\n",
        "n_channel_2=64\n",
        "n_dense=64\n",
        "n_train_epoch=5\n",
        "\n",
        "model=keras.models.Sequential()\n",
        "model.add(keras.layers.Conv2D(n_channel_1, (3,3), activation='relu', input_shape=(28,28,3)))\n",
        "model.add(keras.layers.MaxPool2D(2,2))\n",
        "model.add(keras.layers.Conv2D(n_channel_2, (3,3), activation='relu'))\n",
        "model.add(keras.layers.MaxPooling2D((2,2)))\n",
        "model.add(keras.layers.Flatten())\n",
        "model.add(keras.layers.Dense(n_dense, activation='relu'))\n",
        "model.add(keras.layers.Dense(3, activation='softmax'))\n",
        "\n",
        "model.summary()\n",
        "model.compile(optimizer='adam',\n",
        "             loss='sparse_categorical_crossentropy',\n",
        "             metrics=['accuracy'])\n",
        "\n",
        "# 모델 훈련\n",
        "model.fit(x_train, y_train, epochs=n_train_epoch)\n",
        "\n",
        "# 모델 시험\n",
        "test_loss, test_accuracy = model.evaluate(x_test, y_test, verbose=2)\n",
        "print(\"test_loss: {} \".format(test_loss))\n",
        "print(\"test_accuracy: {}\".format(test_accuracy))"
      ],
      "metadata": {
        "colab": {
          "base_uri": "https://localhost:8080/"
        },
        "id": "Ghe-c6y0dhzv",
        "outputId": "5ac5e3fd-c28d-4565-cfce-69d8e7a4340b"
      },
      "execution_count": null,
      "outputs": [
        {
          "output_type": "stream",
          "name": "stdout",
          "text": [
            "Model: \"sequential_3\"\n",
            "_________________________________________________________________\n",
            " Layer (type)                Output Shape              Param #   \n",
            "=================================================================\n",
            " conv2d_6 (Conv2D)           (None, 26, 26, 32)        896       \n",
            "                                                                 \n",
            " max_pooling2d_6 (MaxPooling  (None, 13, 13, 32)       0         \n",
            " 2D)                                                             \n",
            "                                                                 \n",
            " conv2d_7 (Conv2D)           (None, 11, 11, 64)        18496     \n",
            "                                                                 \n",
            " max_pooling2d_7 (MaxPooling  (None, 5, 5, 64)         0         \n",
            " 2D)                                                             \n",
            "                                                                 \n",
            " flatten_3 (Flatten)         (None, 1600)              0         \n",
            "                                                                 \n",
            " dense_6 (Dense)             (None, 64)                102464    \n",
            "                                                                 \n",
            " dense_7 (Dense)             (None, 3)                 195       \n",
            "                                                                 \n",
            "=================================================================\n",
            "Total params: 122,051\n",
            "Trainable params: 122,051\n",
            "Non-trainable params: 0\n",
            "_________________________________________________________________\n",
            "Epoch 1/5\n",
            "14/14 [==============================] - 1s 28ms/step - loss: 15.0820 - accuracy: 0.4813\n",
            "Epoch 2/5\n",
            "14/14 [==============================] - 0s 29ms/step - loss: 1.7516 - accuracy: 0.7033\n",
            "Epoch 3/5\n",
            "14/14 [==============================] - 0s 29ms/step - loss: 0.5020 - accuracy: 0.8411\n",
            "Epoch 4/5\n",
            "14/14 [==============================] - 0s 29ms/step - loss: 0.2102 - accuracy: 0.9299\n",
            "Epoch 5/5\n",
            "14/14 [==============================] - 0s 31ms/step - loss: 0.0876 - accuracy: 0.9720\n",
            "10/10 - 0s - loss: 2.7992 - accuracy: 0.2500 - 230ms/epoch - 23ms/step\n",
            "test_loss: 2.7992188930511475 \n",
            "test_accuracy: 0.25\n"
          ]
        }
      ]
    },
    {
      "cell_type": "markdown",
      "source": [
        "1. n_channel_1=32 \\\n",
        "n_channel_2=32 \\\n",
        "n_dense=64 \\\n",
        "n_train_epoch=10 \\\n",
        "정확도 : 42.6%\n",
        "\n",
        "2. n_channel_1=32 \\\n",
        "n_channel_2=64 \\\n",
        "n_dense=64 \\\n",
        "n_train_epoch=10 \\\n",
        "정확도 : 29%\n",
        "\n",
        "3. n_channel_1=64 \\\n",
        "n_channel_2=128 \\\n",
        "n_dense=64 \\\n",
        "n_train_epoch=5 \\\n",
        "정확도 : 50%"
      ],
      "metadata": {
        "id": "O6kxMNIMduwt"
      }
    },
    {
      "cell_type": "markdown",
      "source": [
        "## 회고\n",
        "\n",
        "지금까지 EXPLORATION을 진행하면서 처음으로 기준에 못미쳤다... 항상 익스가 문제없이 진행돼서 내가 생각보다 잘 하고 있는건가...??? 라는 생각이 들었는데... 내가 잘 한게 아니라 사실 LMS의 진행이 너무 좋았던 것 같다. 아직은 많이 부족하다는 걸 알았고, 다시 초심으로 돌아가 열심히 해야 겠다는 생각이 드는 익스였다.\n",
        "\n",
        "그래도 왜 점수가 안나오는지에 대한 고찰은 한 번 해봤다...ㅎㅎ\n",
        "\n",
        "일단 내가 만든 데이터가 너무 편향되어 있다. 데이터 수를 보면 가위가 200장 정도 되고 나머지 바위, 보는 100장 언저리로 가위 이미지가 다른 이미지에 비해 더 많기 때문에 모델이 학습을 잘 못한 것 같다. 이 문제는 다른 사람들이 찍은 모든 데이터를 한 곳에 모아서 학습을 진행하고 테스트를 했다면 해결 될 것 같지만 돌아다니면서 자료좀 달라고 하는게 너무 호들갑 떠는 것 같아서 그 방법은 접어뒀다.\n",
        "\n",
        "그리고 사진을 찍을때 최대한 각도, 배경, 크기를 다르게 한다고 했지만 이게 캡쳐를 할 때 1초에 24프레임을 캡쳐하다 보니까 웬만큼 빠르게 움직이는게 아니면 거의 동일한 사진이 있어보인다. 물론 컴퓨터가 인식할때는 픽셀값들이 다 다르겠지만 크게 차이가 없다고 느꼈을 것 같다.\n",
        "\n",
        "이번 익스는 전반적으로 나의 자만에 대해 돌아보았고, 처음 AIFFEL에 들어올 때의 마음가짐을 다시한번 되새기는 그런 익스였다!! "
      ],
      "metadata": {
        "id": "FidUiAqnG9w5"
      }
    }
  ]
}