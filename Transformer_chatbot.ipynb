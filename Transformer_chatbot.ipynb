{
  "nbformat": 4,
  "nbformat_minor": 0,
  "metadata": {
    "colab": {
      "provenance": [],
      "collapsed_sections": [],
      "machine_shape": "hm",
      "mount_file_id": "1Fiwlrd5KVOKXLBEb-F4J7tr_Gaznn53X",
      "authorship_tag": "ABX9TyNsK92IZz8/4vz7Wl0Gc5W/",
      "include_colab_link": true
    },
    "kernelspec": {
      "name": "python3",
      "display_name": "Python 3"
    },
    "language_info": {
      "name": "python"
    },
    "accelerator": "GPU"
  },
  "cells": [
    {
      "cell_type": "markdown",
      "metadata": {
        "id": "view-in-github",
        "colab_type": "text"
      },
      "source": [
        "<a href=\"https://colab.research.google.com/github/RealMyeong/Going_Deeper_NLP/blob/main/Transformer_chatbot.ipynb\" target=\"_parent\"><img src=\"https://colab.research.google.com/assets/colab-badge.svg\" alt=\"Open In Colab\"/></a>"
      ]
    },
    {
      "cell_type": "markdown",
      "source": [
        "## 1. 데이터 불러오고 확인"
      ],
      "metadata": {
        "id": "g8SGc5sV71Do"
      }
    },
    {
      "cell_type": "code",
      "source": [
        "# %%bash\n",
        "# apt-get update\n",
        "# apt-get install g++ openjdk-8-jdk python-dev python3-dev\n",
        "# pip3 install JPype1\n",
        "# pip3 install konlpy"
      ],
      "metadata": {
        "id": "RztOw35suiJb"
      },
      "execution_count": 1,
      "outputs": []
    },
    {
      "cell_type": "code",
      "source": [
        "# %env JAVA_HOME \"/usr/lib/jvm/java-8-openjdk-amd64\""
      ],
      "metadata": {
        "id": "u0mp7tdWuUt9"
      },
      "execution_count": 2,
      "outputs": []
    },
    {
      "cell_type": "code",
      "source": [
        "# # Mecab 설치\n",
        "# !apt-get update\n",
        "# !apt-get install g++ openjdk-8-jdk \n",
        "# !pip3 install konlpy JPype1-py3\n",
        "# !bash <(curl -s https://raw.githubusercontent.com/konlpy/konlpy/master/scripts/mecab.sh)"
      ],
      "metadata": {
        "id": "_ak3DY34uST1"
      },
      "execution_count": 3,
      "outputs": []
    },
    {
      "cell_type": "code",
      "execution_count": 4,
      "metadata": {
        "id": "LK2SMLxlr5BA"
      },
      "outputs": [],
      "source": [
        "import numpy as np\n",
        "import pandas as pd\n",
        "import tensorflow as tf\n",
        "import matplotlib.pyplot as plt\n",
        "import re\n",
        "import konlpy\n",
        "from konlpy.tag import Mecab\n"
      ]
    },
    {
      "cell_type": "code",
      "source": [
        "\n",
        "file_path = '/content/drive/MyDrive/AIFFEL/GoingDeeper_NLP/12_Transformer챗봇/ChatbotData .csv'\n",
        "data = pd.read_csv(file_path)\n",
        "data.head(10)"
      ],
      "metadata": {
        "colab": {
          "base_uri": "https://localhost:8080/",
          "height": 363
        },
        "id": "K1aX-divvnul",
        "outputId": "e3da8247-5195-42c3-deb0-bfb46c13ecfe"
      },
      "execution_count": 5,
      "outputs": [
        {
          "output_type": "execute_result",
          "data": {
            "text/plain": [
              "                         Q                   A  label\n",
              "0                   12시 땡!          하루가 또 가네요.      0\n",
              "1              1지망 학교 떨어졌어           위로해 드립니다.      0\n",
              "2             3박4일 놀러가고 싶다         여행은 언제나 좋죠.      0\n",
              "3          3박4일 정도 놀러가고 싶다         여행은 언제나 좋죠.      0\n",
              "4                  PPL 심하네          눈살이 찌푸려지죠.      0\n",
              "5                SD카드 망가졌어  다시 새로 사는 게 마음 편해요.      0\n",
              "6                  SD카드 안돼  다시 새로 사는 게 마음 편해요.      0\n",
              "7           SNS 맞팔 왜 안하지ㅠㅠ    잘 모르고 있을 수도 있어요.      0\n",
              "8  SNS 시간낭비인 거 아는데 매일 하는 중       시간을 정하고 해보세요.      0\n",
              "9        SNS 시간낭비인데 자꾸 보게됨       시간을 정하고 해보세요.      0"
            ],
            "text/html": [
              "\n",
              "  <div id=\"df-63bfb397-d22d-4c39-888b-7e950908c3c0\">\n",
              "    <div class=\"colab-df-container\">\n",
              "      <div>\n",
              "<style scoped>\n",
              "    .dataframe tbody tr th:only-of-type {\n",
              "        vertical-align: middle;\n",
              "    }\n",
              "\n",
              "    .dataframe tbody tr th {\n",
              "        vertical-align: top;\n",
              "    }\n",
              "\n",
              "    .dataframe thead th {\n",
              "        text-align: right;\n",
              "    }\n",
              "</style>\n",
              "<table border=\"1\" class=\"dataframe\">\n",
              "  <thead>\n",
              "    <tr style=\"text-align: right;\">\n",
              "      <th></th>\n",
              "      <th>Q</th>\n",
              "      <th>A</th>\n",
              "      <th>label</th>\n",
              "    </tr>\n",
              "  </thead>\n",
              "  <tbody>\n",
              "    <tr>\n",
              "      <th>0</th>\n",
              "      <td>12시 땡!</td>\n",
              "      <td>하루가 또 가네요.</td>\n",
              "      <td>0</td>\n",
              "    </tr>\n",
              "    <tr>\n",
              "      <th>1</th>\n",
              "      <td>1지망 학교 떨어졌어</td>\n",
              "      <td>위로해 드립니다.</td>\n",
              "      <td>0</td>\n",
              "    </tr>\n",
              "    <tr>\n",
              "      <th>2</th>\n",
              "      <td>3박4일 놀러가고 싶다</td>\n",
              "      <td>여행은 언제나 좋죠.</td>\n",
              "      <td>0</td>\n",
              "    </tr>\n",
              "    <tr>\n",
              "      <th>3</th>\n",
              "      <td>3박4일 정도 놀러가고 싶다</td>\n",
              "      <td>여행은 언제나 좋죠.</td>\n",
              "      <td>0</td>\n",
              "    </tr>\n",
              "    <tr>\n",
              "      <th>4</th>\n",
              "      <td>PPL 심하네</td>\n",
              "      <td>눈살이 찌푸려지죠.</td>\n",
              "      <td>0</td>\n",
              "    </tr>\n",
              "    <tr>\n",
              "      <th>5</th>\n",
              "      <td>SD카드 망가졌어</td>\n",
              "      <td>다시 새로 사는 게 마음 편해요.</td>\n",
              "      <td>0</td>\n",
              "    </tr>\n",
              "    <tr>\n",
              "      <th>6</th>\n",
              "      <td>SD카드 안돼</td>\n",
              "      <td>다시 새로 사는 게 마음 편해요.</td>\n",
              "      <td>0</td>\n",
              "    </tr>\n",
              "    <tr>\n",
              "      <th>7</th>\n",
              "      <td>SNS 맞팔 왜 안하지ㅠㅠ</td>\n",
              "      <td>잘 모르고 있을 수도 있어요.</td>\n",
              "      <td>0</td>\n",
              "    </tr>\n",
              "    <tr>\n",
              "      <th>8</th>\n",
              "      <td>SNS 시간낭비인 거 아는데 매일 하는 중</td>\n",
              "      <td>시간을 정하고 해보세요.</td>\n",
              "      <td>0</td>\n",
              "    </tr>\n",
              "    <tr>\n",
              "      <th>9</th>\n",
              "      <td>SNS 시간낭비인데 자꾸 보게됨</td>\n",
              "      <td>시간을 정하고 해보세요.</td>\n",
              "      <td>0</td>\n",
              "    </tr>\n",
              "  </tbody>\n",
              "</table>\n",
              "</div>\n",
              "      <button class=\"colab-df-convert\" onclick=\"convertToInteractive('df-63bfb397-d22d-4c39-888b-7e950908c3c0')\"\n",
              "              title=\"Convert this dataframe to an interactive table.\"\n",
              "              style=\"display:none;\">\n",
              "        \n",
              "  <svg xmlns=\"http://www.w3.org/2000/svg\" height=\"24px\"viewBox=\"0 0 24 24\"\n",
              "       width=\"24px\">\n",
              "    <path d=\"M0 0h24v24H0V0z\" fill=\"none\"/>\n",
              "    <path d=\"M18.56 5.44l.94 2.06.94-2.06 2.06-.94-2.06-.94-.94-2.06-.94 2.06-2.06.94zm-11 1L8.5 8.5l.94-2.06 2.06-.94-2.06-.94L8.5 2.5l-.94 2.06-2.06.94zm10 10l.94 2.06.94-2.06 2.06-.94-2.06-.94-.94-2.06-.94 2.06-2.06.94z\"/><path d=\"M17.41 7.96l-1.37-1.37c-.4-.4-.92-.59-1.43-.59-.52 0-1.04.2-1.43.59L10.3 9.45l-7.72 7.72c-.78.78-.78 2.05 0 2.83L4 21.41c.39.39.9.59 1.41.59.51 0 1.02-.2 1.41-.59l7.78-7.78 2.81-2.81c.8-.78.8-2.07 0-2.86zM5.41 20L4 18.59l7.72-7.72 1.47 1.35L5.41 20z\"/>\n",
              "  </svg>\n",
              "      </button>\n",
              "      \n",
              "  <style>\n",
              "    .colab-df-container {\n",
              "      display:flex;\n",
              "      flex-wrap:wrap;\n",
              "      gap: 12px;\n",
              "    }\n",
              "\n",
              "    .colab-df-convert {\n",
              "      background-color: #E8F0FE;\n",
              "      border: none;\n",
              "      border-radius: 50%;\n",
              "      cursor: pointer;\n",
              "      display: none;\n",
              "      fill: #1967D2;\n",
              "      height: 32px;\n",
              "      padding: 0 0 0 0;\n",
              "      width: 32px;\n",
              "    }\n",
              "\n",
              "    .colab-df-convert:hover {\n",
              "      background-color: #E2EBFA;\n",
              "      box-shadow: 0px 1px 2px rgba(60, 64, 67, 0.3), 0px 1px 3px 1px rgba(60, 64, 67, 0.15);\n",
              "      fill: #174EA6;\n",
              "    }\n",
              "\n",
              "    [theme=dark] .colab-df-convert {\n",
              "      background-color: #3B4455;\n",
              "      fill: #D2E3FC;\n",
              "    }\n",
              "\n",
              "    [theme=dark] .colab-df-convert:hover {\n",
              "      background-color: #434B5C;\n",
              "      box-shadow: 0px 1px 3px 1px rgba(0, 0, 0, 0.15);\n",
              "      filter: drop-shadow(0px 1px 2px rgba(0, 0, 0, 0.3));\n",
              "      fill: #FFFFFF;\n",
              "    }\n",
              "  </style>\n",
              "\n",
              "      <script>\n",
              "        const buttonEl =\n",
              "          document.querySelector('#df-63bfb397-d22d-4c39-888b-7e950908c3c0 button.colab-df-convert');\n",
              "        buttonEl.style.display =\n",
              "          google.colab.kernel.accessAllowed ? 'block' : 'none';\n",
              "\n",
              "        async function convertToInteractive(key) {\n",
              "          const element = document.querySelector('#df-63bfb397-d22d-4c39-888b-7e950908c3c0');\n",
              "          const dataTable =\n",
              "            await google.colab.kernel.invokeFunction('convertToInteractive',\n",
              "                                                     [key], {});\n",
              "          if (!dataTable) return;\n",
              "\n",
              "          const docLinkHtml = 'Like what you see? Visit the ' +\n",
              "            '<a target=\"_blank\" href=https://colab.research.google.com/notebooks/data_table.ipynb>data table notebook</a>'\n",
              "            + ' to learn more about interactive tables.';\n",
              "          element.innerHTML = '';\n",
              "          dataTable['output_type'] = 'display_data';\n",
              "          await google.colab.output.renderOutput(dataTable, element);\n",
              "          const docLink = document.createElement('div');\n",
              "          docLink.innerHTML = docLinkHtml;\n",
              "          element.appendChild(docLink);\n",
              "        }\n",
              "      </script>\n",
              "    </div>\n",
              "  </div>\n",
              "  "
            ]
          },
          "metadata": {},
          "execution_count": 5
        }
      ]
    },
    {
      "cell_type": "code",
      "source": [
        "data[-10:]"
      ],
      "metadata": {
        "colab": {
          "base_uri": "https://localhost:8080/",
          "height": 363
        },
        "id": "wK1pjdSG_87M",
        "outputId": "00a6e1e0-d1e5-4c5b-aaf4-1efef69fedef"
      },
      "execution_count": 6,
      "outputs": [
        {
          "output_type": "execute_result",
          "data": {
            "text/plain": [
              "                             Q                                            A  \\\n",
              "11813   회사에 좋아하는 남자가 생겼어 어떡하지?                              사랑하기 힘든 관계인가봐요.   \n",
              "11814   회사에서 어떤 사람이랑 자꾸 눈 마추쳐.                      눈 마주치는 게 우연인지 잘 살펴 보세요.   \n",
              "11815      회식 중이라고 하는데 연락이 안돼.  정신 없이 바쁠지도 몰라요. 조금만 더 기다려보고 물어보는게 좋을 것 같아요.   \n",
              "11816        회식하는데 나만 챙겨줘. 썸임?          호감이 있을 수도 있어요. 그렇지만 조금 더 상황을 지켜보세요.   \n",
              "11817            후회 없이 사랑하고 싶어                                진심으로 다가가 보세요.   \n",
              "11818           훔쳐보는 것도 눈치 보임.                           티가 나니까 눈치가 보이는 거죠!   \n",
              "11819           훔쳐보는 것도 눈치 보임.                                훔쳐보는 거 티나나봐요.   \n",
              "11820              흑기사 해주는 짝남.                                       설렜겠어요.   \n",
              "11821  힘든 연애 좋은 연애라는게 무슨 차이일까?                     잘 헤어질 수 있는 사이 여부인 거 같아요.   \n",
              "11822               힘들어서 결혼할까봐                           도피성 결혼은 하지 않길 바라요.   \n",
              "\n",
              "       label  \n",
              "11813      2  \n",
              "11814      2  \n",
              "11815      2  \n",
              "11816      2  \n",
              "11817      2  \n",
              "11818      2  \n",
              "11819      2  \n",
              "11820      2  \n",
              "11821      2  \n",
              "11822      2  "
            ],
            "text/html": [
              "\n",
              "  <div id=\"df-c77841b8-ce4d-4c7d-aeae-3a7a988eb033\">\n",
              "    <div class=\"colab-df-container\">\n",
              "      <div>\n",
              "<style scoped>\n",
              "    .dataframe tbody tr th:only-of-type {\n",
              "        vertical-align: middle;\n",
              "    }\n",
              "\n",
              "    .dataframe tbody tr th {\n",
              "        vertical-align: top;\n",
              "    }\n",
              "\n",
              "    .dataframe thead th {\n",
              "        text-align: right;\n",
              "    }\n",
              "</style>\n",
              "<table border=\"1\" class=\"dataframe\">\n",
              "  <thead>\n",
              "    <tr style=\"text-align: right;\">\n",
              "      <th></th>\n",
              "      <th>Q</th>\n",
              "      <th>A</th>\n",
              "      <th>label</th>\n",
              "    </tr>\n",
              "  </thead>\n",
              "  <tbody>\n",
              "    <tr>\n",
              "      <th>11813</th>\n",
              "      <td>회사에 좋아하는 남자가 생겼어 어떡하지?</td>\n",
              "      <td>사랑하기 힘든 관계인가봐요.</td>\n",
              "      <td>2</td>\n",
              "    </tr>\n",
              "    <tr>\n",
              "      <th>11814</th>\n",
              "      <td>회사에서 어떤 사람이랑 자꾸 눈 마추쳐.</td>\n",
              "      <td>눈 마주치는 게 우연인지 잘 살펴 보세요.</td>\n",
              "      <td>2</td>\n",
              "    </tr>\n",
              "    <tr>\n",
              "      <th>11815</th>\n",
              "      <td>회식 중이라고 하는데 연락이 안돼.</td>\n",
              "      <td>정신 없이 바쁠지도 몰라요. 조금만 더 기다려보고 물어보는게 좋을 것 같아요.</td>\n",
              "      <td>2</td>\n",
              "    </tr>\n",
              "    <tr>\n",
              "      <th>11816</th>\n",
              "      <td>회식하는데 나만 챙겨줘. 썸임?</td>\n",
              "      <td>호감이 있을 수도 있어요. 그렇지만 조금 더 상황을 지켜보세요.</td>\n",
              "      <td>2</td>\n",
              "    </tr>\n",
              "    <tr>\n",
              "      <th>11817</th>\n",
              "      <td>후회 없이 사랑하고 싶어</td>\n",
              "      <td>진심으로 다가가 보세요.</td>\n",
              "      <td>2</td>\n",
              "    </tr>\n",
              "    <tr>\n",
              "      <th>11818</th>\n",
              "      <td>훔쳐보는 것도 눈치 보임.</td>\n",
              "      <td>티가 나니까 눈치가 보이는 거죠!</td>\n",
              "      <td>2</td>\n",
              "    </tr>\n",
              "    <tr>\n",
              "      <th>11819</th>\n",
              "      <td>훔쳐보는 것도 눈치 보임.</td>\n",
              "      <td>훔쳐보는 거 티나나봐요.</td>\n",
              "      <td>2</td>\n",
              "    </tr>\n",
              "    <tr>\n",
              "      <th>11820</th>\n",
              "      <td>흑기사 해주는 짝남.</td>\n",
              "      <td>설렜겠어요.</td>\n",
              "      <td>2</td>\n",
              "    </tr>\n",
              "    <tr>\n",
              "      <th>11821</th>\n",
              "      <td>힘든 연애 좋은 연애라는게 무슨 차이일까?</td>\n",
              "      <td>잘 헤어질 수 있는 사이 여부인 거 같아요.</td>\n",
              "      <td>2</td>\n",
              "    </tr>\n",
              "    <tr>\n",
              "      <th>11822</th>\n",
              "      <td>힘들어서 결혼할까봐</td>\n",
              "      <td>도피성 결혼은 하지 않길 바라요.</td>\n",
              "      <td>2</td>\n",
              "    </tr>\n",
              "  </tbody>\n",
              "</table>\n",
              "</div>\n",
              "      <button class=\"colab-df-convert\" onclick=\"convertToInteractive('df-c77841b8-ce4d-4c7d-aeae-3a7a988eb033')\"\n",
              "              title=\"Convert this dataframe to an interactive table.\"\n",
              "              style=\"display:none;\">\n",
              "        \n",
              "  <svg xmlns=\"http://www.w3.org/2000/svg\" height=\"24px\"viewBox=\"0 0 24 24\"\n",
              "       width=\"24px\">\n",
              "    <path d=\"M0 0h24v24H0V0z\" fill=\"none\"/>\n",
              "    <path d=\"M18.56 5.44l.94 2.06.94-2.06 2.06-.94-2.06-.94-.94-2.06-.94 2.06-2.06.94zm-11 1L8.5 8.5l.94-2.06 2.06-.94-2.06-.94L8.5 2.5l-.94 2.06-2.06.94zm10 10l.94 2.06.94-2.06 2.06-.94-2.06-.94-.94-2.06-.94 2.06-2.06.94z\"/><path d=\"M17.41 7.96l-1.37-1.37c-.4-.4-.92-.59-1.43-.59-.52 0-1.04.2-1.43.59L10.3 9.45l-7.72 7.72c-.78.78-.78 2.05 0 2.83L4 21.41c.39.39.9.59 1.41.59.51 0 1.02-.2 1.41-.59l7.78-7.78 2.81-2.81c.8-.78.8-2.07 0-2.86zM5.41 20L4 18.59l7.72-7.72 1.47 1.35L5.41 20z\"/>\n",
              "  </svg>\n",
              "      </button>\n",
              "      \n",
              "  <style>\n",
              "    .colab-df-container {\n",
              "      display:flex;\n",
              "      flex-wrap:wrap;\n",
              "      gap: 12px;\n",
              "    }\n",
              "\n",
              "    .colab-df-convert {\n",
              "      background-color: #E8F0FE;\n",
              "      border: none;\n",
              "      border-radius: 50%;\n",
              "      cursor: pointer;\n",
              "      display: none;\n",
              "      fill: #1967D2;\n",
              "      height: 32px;\n",
              "      padding: 0 0 0 0;\n",
              "      width: 32px;\n",
              "    }\n",
              "\n",
              "    .colab-df-convert:hover {\n",
              "      background-color: #E2EBFA;\n",
              "      box-shadow: 0px 1px 2px rgba(60, 64, 67, 0.3), 0px 1px 3px 1px rgba(60, 64, 67, 0.15);\n",
              "      fill: #174EA6;\n",
              "    }\n",
              "\n",
              "    [theme=dark] .colab-df-convert {\n",
              "      background-color: #3B4455;\n",
              "      fill: #D2E3FC;\n",
              "    }\n",
              "\n",
              "    [theme=dark] .colab-df-convert:hover {\n",
              "      background-color: #434B5C;\n",
              "      box-shadow: 0px 1px 3px 1px rgba(0, 0, 0, 0.15);\n",
              "      filter: drop-shadow(0px 1px 2px rgba(0, 0, 0, 0.3));\n",
              "      fill: #FFFFFF;\n",
              "    }\n",
              "  </style>\n",
              "\n",
              "      <script>\n",
              "        const buttonEl =\n",
              "          document.querySelector('#df-c77841b8-ce4d-4c7d-aeae-3a7a988eb033 button.colab-df-convert');\n",
              "        buttonEl.style.display =\n",
              "          google.colab.kernel.accessAllowed ? 'block' : 'none';\n",
              "\n",
              "        async function convertToInteractive(key) {\n",
              "          const element = document.querySelector('#df-c77841b8-ce4d-4c7d-aeae-3a7a988eb033');\n",
              "          const dataTable =\n",
              "            await google.colab.kernel.invokeFunction('convertToInteractive',\n",
              "                                                     [key], {});\n",
              "          if (!dataTable) return;\n",
              "\n",
              "          const docLinkHtml = 'Like what you see? Visit the ' +\n",
              "            '<a target=\"_blank\" href=https://colab.research.google.com/notebooks/data_table.ipynb>data table notebook</a>'\n",
              "            + ' to learn more about interactive tables.';\n",
              "          element.innerHTML = '';\n",
              "          dataTable['output_type'] = 'display_data';\n",
              "          await google.colab.output.renderOutput(dataTable, element);\n",
              "          const docLink = document.createElement('div');\n",
              "          docLink.innerHTML = docLinkHtml;\n",
              "          element.appendChild(docLink);\n",
              "        }\n",
              "      </script>\n",
              "    </div>\n",
              "  </div>\n",
              "  "
            ]
          },
          "metadata": {},
          "execution_count": 6
        }
      ]
    },
    {
      "cell_type": "code",
      "source": [
        "len(data)"
      ],
      "metadata": {
        "colab": {
          "base_uri": "https://localhost:8080/"
        },
        "id": "8xVtor04vwSH",
        "outputId": "f5ab47a5-a2ab-4965-9333-329cb31650f5"
      },
      "execution_count": 7,
      "outputs": [
        {
          "output_type": "execute_result",
          "data": {
            "text/plain": [
              "11823"
            ]
          },
          "metadata": {},
          "execution_count": 7
        }
      ]
    },
    {
      "cell_type": "code",
      "source": [
        "questions = (data['Q'])\n",
        "answers = (data['A'])"
      ],
      "metadata": {
        "id": "KqCJRYC6vy6u"
      },
      "execution_count": 8,
      "outputs": []
    },
    {
      "cell_type": "code",
      "source": [
        "len(questions), len(answers)"
      ],
      "metadata": {
        "colab": {
          "base_uri": "https://localhost:8080/"
        },
        "id": "aBCI2-CuypwJ",
        "outputId": "527524b9-56df-481d-90b5-a48a77e4e746"
      },
      "execution_count": 9,
      "outputs": [
        {
          "output_type": "execute_result",
          "data": {
            "text/plain": [
              "(11823, 11823)"
            ]
          },
          "metadata": {},
          "execution_count": 9
        }
      ]
    },
    {
      "cell_type": "markdown",
      "source": [
        "## 2. 데이터 정제"
      ],
      "metadata": {
        "id": "52hFW31674ON"
      }
    },
    {
      "cell_type": "code",
      "source": [
        "# 전처리 함수 정의\n",
        "def preprocess_sentence(sentence):\n",
        "  sentence = sentence.lower().strip()\n",
        "  sentence = re.sub(r\"[^0-9a-zA-Z가-힣ㄱ-ㅎㅏ-ㅣ.!?,]+\", \" \", sentence)\n",
        "\n",
        "  return sentence"
      ],
      "metadata": {
        "id": "I982gLs57OX-"
      },
      "execution_count": 10,
      "outputs": []
    },
    {
      "cell_type": "code",
      "source": [
        "n_dup_q = list(set(questions))"
      ],
      "metadata": {
        "id": "CZsdC57M8iGo"
      },
      "execution_count": 11,
      "outputs": []
    },
    {
      "cell_type": "code",
      "source": [
        "len(n_dup_q)"
      ],
      "metadata": {
        "colab": {
          "base_uri": "https://localhost:8080/"
        },
        "id": "4avbvhLc8mKf",
        "outputId": "3f95d390-9b9e-4861-bdb4-b5f136ff13b6"
      },
      "execution_count": 12,
      "outputs": [
        {
          "output_type": "execute_result",
          "data": {
            "text/plain": [
              "11662"
            ]
          },
          "metadata": {},
          "execution_count": 12
        }
      ]
    },
    {
      "cell_type": "markdown",
      "source": [
        "## 3. 데이터 토큰화\n",
        "\n",
        "토큰화에는 KoNLPy의 mecab 클래스를 사용합니다.\n",
        "\n",
        "아래 조건을 만족하는 build_corpus() 함수를 구현하세요!\n",
        "\n",
        "1. 소스 문장 데이터와 타겟 문장 데이터를 입력으로 받습니다.\n",
        "2. 데이터를 앞서 정의한 preprocess_sentence() 함수로 정제하고, 토큰화합니다.\n",
        "3. 토큰화는 전달받은 토크나이즈 함수를 사용합니다. 이번엔 mecab.morphs 함수를 전달하시면 됩니다.\n",
        "4. 토큰의 개수가 일정 길이 이상인 문장은 데이터에서 제외합니다.\n",
        "5. 중복되는 문장은 데이터에서 제외합니다. 소스 : 타겟 쌍을 비교하지 않고 소스는 소스대로 타겟은 타겟대로 검사합니다. 중복 쌍이 흐트러지지 않도록 유의하세요!\n",
        "\n",
        "구현한 함수를 활용하여 questions 와 answers 를 각각 que_corpus , ans_corpus 에 토큰화하여 저장합니다.\n",
        "\n",
        "\n"
      ],
      "metadata": {
        "id": "hSXVdCyp80h1"
      }
    },
    {
      "cell_type": "code",
      "source": [
        "\n",
        "def build_corpus(question, answer):\n",
        "\n",
        "  mecab = Mecab()\n",
        "  cleaned_q = [preprocess_sentence(x) for x in question]\n",
        "  cleaned_a = [preprocess_sentence(x) for x in answer]\n",
        "\n",
        "  que_corpus = [mecab.morphs(sen) for sen in cleaned_q]\n",
        "  ans_corpus = [mecab.morphs(sen) for sen in cleaned_a]\n",
        "\n",
        "\n",
        "\n",
        "  que_len_list = [[len(sen), index] for index, sen in enumerate(que_corpus)]\n",
        "  ans_len_list = [[len(sen), index] for index, sen in enumerate(ans_corpus)]\n",
        "  \n",
        "  filtered_q = []\n",
        "  filtered_a = []\n",
        "  for q, a in zip(que_len_list, ans_len_list):\n",
        "    if 2< q[0] <= 50 and 2< a[0] <= 50:\n",
        "      filtered_q.append(que_corpus[q[1]])\n",
        "      filtered_a.append(ans_corpus[a[1]])\n",
        "  \n",
        "  return filtered_q, filtered_a\n",
        "  # return que_corpus, ans_corpus\n"
      ],
      "metadata": {
        "id": "ury3KtOB8nyY"
      },
      "execution_count": 13,
      "outputs": []
    },
    {
      "cell_type": "code",
      "source": [
        "que_corpus, ans_corpus = build_corpus(questions, answers)\n",
        "print(len(que_corpus))\n",
        "print(que_corpus[:5])\n",
        "print(len(ans_corpus))\n",
        "print(ans_corpus[:5])"
      ],
      "metadata": {
        "colab": {
          "base_uri": "https://localhost:8080/"
        },
        "id": "NjRTGRW9AFq2",
        "outputId": "f709e3b8-fdad-45c4-941b-f995fd127675"
      },
      "execution_count": 14,
      "outputs": [
        {
          "output_type": "stream",
          "name": "stdout",
          "text": [
            "11301\n",
            "[['12', '시', '땡', '!'], ['1', '지망', '학교', '떨어졌', '어'], ['3', '박', '4', '일', '놀', '러', '가', '고', '싶', '다'], ['3', '박', '4', '일', '정도', '놀', '러', '가', '고', '싶', '다'], ['ppl', '심하', '네']]\n",
            "11301\n",
            "[['하루', '가', '또', '가', '네요', '.'], ['위로', '해', '드립니다', '.'], ['여행', '은', '언제나', '좋', '죠', '.'], ['여행', '은', '언제나', '좋', '죠', '.'], ['눈살', '이', '찌푸려', '지', '죠', '.']]\n"
          ]
        }
      ]
    },
    {
      "cell_type": "code",
      "source": [
        "# 나중에 성능 평가에 사용할 문장 10개 미리 뽑아내줌.\n",
        "enc_val = que_corpus[-10:]\n",
        "dec_val = ans_corpus[-10:]\n",
        "\n",
        "que_corpus = que_corpus[:-10]\n",
        "ans_corpus = ans_corpus[:-10]\n"
      ],
      "metadata": {
        "id": "Qzjc37d3zFdw"
      },
      "execution_count": 15,
      "outputs": []
    },
    {
      "cell_type": "code",
      "source": [
        "enc_val"
      ],
      "metadata": {
        "colab": {
          "base_uri": "https://localhost:8080/"
        },
        "id": "NCWNFjwEAXG_",
        "outputId": "2d266593-8521-4e4f-95ac-0413b6f87a51"
      },
      "execution_count": 16,
      "outputs": [
        {
          "output_type": "execute_result",
          "data": {
            "text/plain": [
              "[['회사', '에', '좋', '아', '하', '는', '남자', '가', '생겼', '어', '어떡', '하', '지', '?'],\n",
              " ['회사', '에서', '어떤', '사람', '이랑', '자꾸', '눈', '마추', '쳐', '.'],\n",
              " ['회식', '중', '이', '라고', '하', '는데', '연락', '이', '안', '돼', '.'],\n",
              " ['회식', '하', '는데', '나', '만', '챙겨', '줘', '.', '썸', '임', '?'],\n",
              " ['후회', '없이', '사랑', '하', '고', '싶', '어'],\n",
              " ['훔쳐', '보', '는', '것', '도', '눈치', '보임', '.'],\n",
              " ['훔쳐', '보', '는', '것', '도', '눈치', '보임', '.'],\n",
              " ['흑기사', '해', '주', '는', '짝', '남', '.'],\n",
              " ['힘든', '연애', '좋', '은', '연애', '라는', '게', '무슨', '차이', '일까', '?'],\n",
              " ['힘들', '어서', '결혼', '할까봐']]"
            ]
          },
          "metadata": {},
          "execution_count": 16
        }
      ]
    },
    {
      "cell_type": "code",
      "source": [
        "dec_val"
      ],
      "metadata": {
        "colab": {
          "base_uri": "https://localhost:8080/"
        },
        "id": "9oizEUnDAd2d",
        "outputId": "13abd20e-7c4d-4f8e-ce57-191e926996c4"
      },
      "execution_count": 17,
      "outputs": [
        {
          "output_type": "execute_result",
          "data": {
            "text/plain": [
              "[['사랑', '하', '기', '힘든', '관계', '인가', '봐요', '.'],\n",
              " ['눈', '마주치', '는', '게', '우연', '인지', '잘', '살펴', '보', '세요', '.'],\n",
              " ['정신',\n",
              "  '없이',\n",
              "  '바쁠',\n",
              "  '지도',\n",
              "  '몰라요',\n",
              "  '.',\n",
              "  '조금',\n",
              "  '만',\n",
              "  '더',\n",
              "  '기다려',\n",
              "  '보',\n",
              "  '고',\n",
              "  '물',\n",
              "  '어',\n",
              "  '보',\n",
              "  '는',\n",
              "  '게',\n",
              "  '좋',\n",
              "  '을',\n",
              "  '것',\n",
              "  '같',\n",
              "  '아요',\n",
              "  '.'],\n",
              " ['호감',\n",
              "  '이',\n",
              "  '있',\n",
              "  '을',\n",
              "  '수',\n",
              "  '도',\n",
              "  '있',\n",
              "  '어요',\n",
              "  '.',\n",
              "  '그렇지만',\n",
              "  '조금',\n",
              "  '더',\n",
              "  '상황',\n",
              "  '을',\n",
              "  '지켜보',\n",
              "  '세요',\n",
              "  '.'],\n",
              " ['진심', '으로', '다가가', '보', '세요', '.'],\n",
              " ['티', '가', '나', '니까', '눈치', '가', '보이', '는', '거', '죠', '!'],\n",
              " ['훔쳐', '보', '는', '거', '티나', '나', '봐요', '.'],\n",
              " ['설렜', '겠', '어요', '.'],\n",
              " ['잘', '헤어질', '수', '있', '는', '사이', '여부', '인', '거', '같', '아요', '.'],\n",
              " ['도피성', '결혼', '은', '하', '지', '않', '길', '바라', '요', '.']]"
            ]
          },
          "metadata": {},
          "execution_count": 17
        }
      ]
    },
    {
      "cell_type": "markdown",
      "source": [
        "## 4. Augmentation\n",
        "\n",
        "우리에게 주어진 데이터는 1만 개가량으로 적은 편에 속합니다. 이럴 때에 사용할 수 있는 테크닉을 배웠으니 활용해 봐야겠죠? Lexical Substitution을 실제로 적용해 보도록 하겠습니다.\n",
        "\n",
        "아래 링크를 참고하여 한국어로 사전 훈련된 Embedding 모델을 다운로드합니다. Korean (w) 가 Word2Vec으로 학습한 모델이며 용량도 적당하므로 사이트에서 Korean (w)를 찾아 다운로드하고, ko.bin 파일을 얻으세요!\n",
        "\n",
        "[Kyubyong/wordvectors](https://github.com/Kyubyong/wordvectors)  \n",
        "\n",
        "다운로드한 모델을 활용해 데이터를 Augmentation 하세요! 앞서 정의한 lexical_sub() 함수를 참고하면 도움이 많이 될 겁니다.\n",
        "\n",
        "Augmentation된 que_corpus 와 원본 ans_corpus 가 병렬을 이루도록, 이후엔 반대로 원본 que_corpus 와 Augmentation된 ans_corpus 가 병렬을 이루도록 하여 전체 데이터가 원래의 3배가량으로 늘어나도록 합니다."
      ],
      "metadata": {
        "id": "-vCRhWrPEvz9"
      }
    },
    {
      "cell_type": "code",
      "source": [
        "import gensim\n",
        "\n",
        "emb_file_path = '/content/drive/MyDrive/AIFFEL/GoingDeeper_NLP/12_Transformer챗봇/ko/ko.bin'\n",
        "ko_model = gensim.models.Word2Vec.load(emb_file_path)\n",
        "a = ko_model.wv.most_similar(\"강아지\")\n",
        "\n",
        "print(a[:5])"
      ],
      "metadata": {
        "colab": {
          "base_uri": "https://localhost:8080/"
        },
        "id": "Mv6jwShmwCUi",
        "outputId": "0966dc37-80ee-47c5-d6b4-d5967413382d"
      },
      "execution_count": 18,
      "outputs": [
        {
          "output_type": "stream",
          "name": "stdout",
          "text": [
            "[('고양이', 0.7290452718734741), ('거위', 0.7185635566711426), ('토끼', 0.7056223154067993), ('멧돼지', 0.6950401067733765), ('엄마', 0.6934334635734558)]\n"
          ]
        }
      ]
    },
    {
      "cell_type": "code",
      "source": [
        "# Lexical Substitution 구현하기\n",
        "import random\n",
        "def lexical_sub(sentence, word2vec):\n",
        "    toks = sentence\n",
        "    \n",
        "    try:\n",
        "        _from = random.choice(toks)\n",
        "        replace_list = []\n",
        "        for i in range(2):\n",
        "          _to = word2vec.wv.most_similar(_from)[i][0]\n",
        "          replace_list.append(_to)\n",
        "        \n",
        "    except:   # 단어장에 없는 단어\n",
        "        return None\n",
        "    \n",
        "    res_list = []\n",
        "    for i in range(2):\n",
        "      res = \"\"\n",
        "      for tok in toks:\n",
        "        if tok is _from:\n",
        "          res += replace_list[i] + \" \"\n",
        "        else: res += tok + \" \"\n",
        "      res_list.append(res)\n",
        "\n",
        "    return res_list"
      ],
      "metadata": {
        "id": "Z8-4xD-AAVMk"
      },
      "execution_count": 19,
      "outputs": []
    },
    {
      "cell_type": "code",
      "source": [
        "augment_q = []\n",
        "for i in range(len(que_corpus)):\n",
        "  aug_list = lexical_sub(que_corpus[i], ko_model)\n",
        "  try:\n",
        "    augment_q.append([aug_list[0], aug_list[1], i])\n",
        "  except:\n",
        "    pass\n"
      ],
      "metadata": {
        "id": "Bpn2V88DNh22"
      },
      "execution_count": 20,
      "outputs": []
    },
    {
      "cell_type": "code",
      "source": [
        "augment_a = []\n",
        "for i in range(len(ans_corpus)):\n",
        "  aug_list = lexical_sub(ans_corpus[i], ko_model)\n",
        "  try:\n",
        "    augment_a.append([aug_list[0], aug_list[1], i])\n",
        "  except:\n",
        "    pass"
      ],
      "metadata": {
        "id": "ZI86bpKFTJlF"
      },
      "execution_count": 21,
      "outputs": []
    },
    {
      "cell_type": "markdown",
      "source": [
        "- Augmentation된 문장 2개와 소스 문장의 인덱스가 들어가있음.\n",
        "- 인덱스를 이용해서 타겟 문장과 연결해줄것."
      ],
      "metadata": {
        "id": "8QDO66jIO0GV"
      }
    },
    {
      "cell_type": "code",
      "source": [
        "print(augment_q[1])\n",
        "print(augment_a[1])"
      ],
      "metadata": {
        "colab": {
          "base_uri": "https://localhost:8080/"
        },
        "id": "pI3ttaCQOZgP",
        "outputId": "227e1cd2-1b43-46f6-ef34-c5ae9bfea5a1"
      },
      "execution_count": 22,
      "outputs": [
        {
          "output_type": "stream",
          "name": "stdout",
          "text": [
            "['3 김 4 일 놀 러 가 고 싶 다 ', '3 최 4 일 놀 러 가 고 싶 다 ', 2]\n",
            "['무릎 해 드립니다 . ', '꿇 해 드립니다 . ', 1]\n"
          ]
        }
      ]
    },
    {
      "cell_type": "code",
      "source": [
        "original_que = que_corpus.copy()\n",
        "original_ans = ans_corpus.copy()"
      ],
      "metadata": {
        "id": "kmFzxcSsOtnP"
      },
      "execution_count": 23,
      "outputs": []
    },
    {
      "cell_type": "code",
      "source": [
        "original_que[1]"
      ],
      "metadata": {
        "colab": {
          "base_uri": "https://localhost:8080/"
        },
        "id": "fL82u5N5Jyo4",
        "outputId": "6631cd48-1a48-4455-b103-1a9203dc9e10"
      },
      "execution_count": 24,
      "outputs": [
        {
          "output_type": "execute_result",
          "data": {
            "text/plain": [
              "['1', '지망', '학교', '떨어졌', '어']"
            ]
          },
          "metadata": {},
          "execution_count": 24
        }
      ]
    },
    {
      "cell_type": "code",
      "source": [
        "# Augmentation된 질문 추가\n",
        "for i in range(len(augment_q)):\n",
        "  que_corpus.append(augment_q[i][0].split())\n",
        "  que_corpus.append(augment_q[i][1].split())\n",
        "  ans_corpus.append(original_ans[augment_q[i][2]])\n",
        "  ans_corpus.append(original_ans[augment_q[i][2]])"
      ],
      "metadata": {
        "id": "w8L29zg3PNi2"
      },
      "execution_count": 25,
      "outputs": []
    },
    {
      "cell_type": "code",
      "source": [
        "print(que_corpus[-3:])\n",
        "print(ans_corpus[-3:])"
      ],
      "metadata": {
        "colab": {
          "base_uri": "https://localhost:8080/"
        },
        "id": "nDcOZGY6T49M",
        "outputId": "c7bddd21-45f3-4ab3-b93e-a06fc1dcba19"
      },
      "execution_count": 26,
      "outputs": [
        {
          "output_type": "stream",
          "name": "stdout",
          "text": [
            "[['확실히', '좋', '아', '하', '는', '데', '도', '관심', '있었', '는', '거', '티', '안', '내', '려고', '선', '톡', '안', '하', '고', '일부러', '늦', '게', '보내', '고', '그러', '는', '사람', '도', '있', '어요', '?'], ['주식회사', '짝', '남', '오빠', '게임', '초대', '톡', '옴', '.'], ['자회사', '짝', '남', '오빠', '게임', '초대', '톡', '옴', '.']]\n",
            "[['많이', '있', '어요', '.'], ['설렜', '을', '텐데', '아쉽', '겠', '어요', '.'], ['설렜', '을', '텐데', '아쉽', '겠', '어요', '.']]\n"
          ]
        }
      ]
    },
    {
      "cell_type": "code",
      "source": [
        "# Augmentation된 답변 추가\n",
        "for i in range(len(augment_a)):\n",
        "  ans_corpus.append(augment_a[i][0].split())\n",
        "  ans_corpus.append(augment_a[i][1].split())\n",
        "  que_corpus.append(original_que[augment_a[i][2]])\n",
        "  que_corpus.append(original_que[augment_a[i][2]])"
      ],
      "metadata": {
        "id": "6FHLqsiwS4wg"
      },
      "execution_count": 27,
      "outputs": []
    },
    {
      "cell_type": "code",
      "source": [
        "print(que_corpus[-3:])\n",
        "print(ans_corpus[-3:])"
      ],
      "metadata": {
        "colab": {
          "base_uri": "https://localhost:8080/"
        },
        "id": "CZNOSfIFT3Qm",
        "outputId": "8698fa76-1fa7-4763-f002-aace3227f7bc"
      },
      "execution_count": 28,
      "outputs": [
        {
          "output_type": "stream",
          "name": "stdout",
          "text": [
            "[['확실히', '좋', '아', '하', '는', '데', '도', '관심', '있', '는', '거', '티', '안', '내', '려고', '선', '톡', '안', '하', '고', '일부러', '늦', '게', '보내', '고', '그러', '는', '사람', '도', '있', '어요', '?'], ['홧김', '에', '짝', '남', '한테', '고백', '했', '다', '.'], ['홧김', '에', '짝', '남', '한테', '고백', '했', '다', '.']]\n",
            "[['많', '있', '어요', '.'], ['화끈', '하', '시', '네요', '는데'], ['화끈', '하', '시', '네요', '으니']]\n"
          ]
        }
      ]
    },
    {
      "cell_type": "code",
      "source": [
        "# Augmentation후 데이터 길이\n",
        "print(len(que_corpus))\n",
        "print(len(ans_corpus))"
      ],
      "metadata": {
        "colab": {
          "base_uri": "https://localhost:8080/"
        },
        "id": "35Q7gLZCUZ3O",
        "outputId": "afbc7daa-61cc-42cb-ed76-38af378ac84f"
      },
      "execution_count": 29,
      "outputs": [
        {
          "output_type": "stream",
          "name": "stdout",
          "text": [
            "50735\n",
            "50735\n"
          ]
        }
      ]
    },
    {
      "cell_type": "code",
      "source": [
        "# Random Noise Injection 구현하기\n",
        "def random_noise(sentence, word2vec):\n",
        "    toks_1 = sentence.copy()\n",
        "    toks_2 = sentence.copy()\n",
        "\n",
        "    try:\n",
        "        _from = random.choice(toks_1)\n",
        "        inject_list = []\n",
        "        for i in range(2):\n",
        "          _to = word2vec.wv.most_similar(_from)[i][0]\n",
        "          inject_list.append(_to)\n",
        "        \n",
        "    except:   # 단어장에 없는 단어\n",
        "        return None\n",
        "    \n",
        "    res_list = []\n",
        "\n",
        "    index = random.sample(range(len(toks_1)),2)\n",
        "\n",
        "    toks_1.insert(index[0], inject_list[0])\n",
        "    res_list.append(toks_1)\n",
        "\n",
        "    toks_2.insert(index[1], inject_list[1])\n",
        "    res_list.append(toks_2)\n",
        "\n",
        "    return res_list"
      ],
      "metadata": {
        "id": "uufN8Jc44OBu"
      },
      "execution_count": 30,
      "outputs": []
    },
    {
      "cell_type": "code",
      "source": [
        "noise_q = []\n",
        "for i in range(len(original_que)):\n",
        "  noise_list = random_noise(original_que[i], ko_model)\n",
        "  try:\n",
        "    noise_q.append([noise_list[0], noise_list[1], i])\n",
        "  except:\n",
        "    pass"
      ],
      "metadata": {
        "id": "79wkd-nH5xFn"
      },
      "execution_count": 31,
      "outputs": []
    },
    {
      "cell_type": "code",
      "source": [
        "noise_q[:2]"
      ],
      "metadata": {
        "colab": {
          "base_uri": "https://localhost:8080/"
        },
        "id": "6Vq_SmdBGl9l",
        "outputId": "bf870fdc-c839-422b-a922-aae6d2a52406"
      },
      "execution_count": 32,
      "outputs": [
        {
          "output_type": "execute_result",
          "data": {
            "text/plain": [
              "[[['12', '시가', '시', '땡', '!'], ['12', '시', '시의', '땡', '!'], 0],\n",
              " [['1', '지망', '학교의', '학교', '떨어졌', '어'],\n",
              "  ['강습소', '1', '지망', '학교', '떨어졌', '어'],\n",
              "  1]]"
            ]
          },
          "metadata": {},
          "execution_count": 32
        }
      ]
    },
    {
      "cell_type": "code",
      "source": [
        "noise_a = []\n",
        "for i in range(len(original_ans)):\n",
        "  noise_list = random_noise(original_ans[i], ko_model)\n",
        "  try:\n",
        "    noise_a.append([noise_list[0], noise_list[1], i])\n",
        "  except:\n",
        "    pass"
      ],
      "metadata": {
        "id": "iIIx1N_v9CLU"
      },
      "execution_count": 33,
      "outputs": []
    },
    {
      "cell_type": "code",
      "source": [
        "noise_a[:2]"
      ],
      "metadata": {
        "colab": {
          "base_uri": "https://localhost:8080/"
        },
        "id": "6DqpQ6I_GpjX",
        "outputId": "f2b747a6-d20a-4c88-fe8a-616a5d94f40d"
      },
      "execution_count": 34,
      "outputs": [
        {
          "output_type": "execute_result",
          "data": {
            "text/plain": [
              "[[['하루', '가', '또', '가', '각기', '네요', '.'],\n",
              "  ['설로', '하루', '가', '또', '가', '네요', '.'],\n",
              "  0],\n",
              " [['해의', '위로', '해', '드립니다', '.'], ['위로', '해', '다음해', '드립니다', '.'], 1]]"
            ]
          },
          "metadata": {},
          "execution_count": 34
        }
      ]
    },
    {
      "cell_type": "code",
      "source": [
        "# Random Noise Injection 질문 추가\n",
        "for i in range(len(noise_q)):\n",
        "  que_corpus.append(noise_q[i][0])\n",
        "  que_corpus.append(noise_q[i][1])\n",
        "  ans_corpus.append(original_ans[noise_q[i][2]])\n",
        "  ans_corpus.append(original_ans[noise_q[i][2]])"
      ],
      "metadata": {
        "id": "hPhs57jA60cm"
      },
      "execution_count": 35,
      "outputs": []
    },
    {
      "cell_type": "code",
      "source": [
        "print(que_corpus[-10:-4])\n",
        "print(ans_corpus[-10:-4])"
      ],
      "metadata": {
        "colab": {
          "base_uri": "https://localhost:8080/"
        },
        "id": "6u57mpT59yLD",
        "outputId": "e2536c45-cff7-4b60-cdd1-921848233e1b"
      },
      "execution_count": 36,
      "outputs": [
        {
          "output_type": "stream",
          "name": "stdout",
          "text": [
            "[['혼자', '가', '편하', '다는', '짝', '놀드', '녀', '에게', '들이댔', '음', '.'], ['혼자', '가', '머지않', '편하', '다는', '짝', '녀', '에게', '들이댔', '음', '.'], ['혼자', '만', '금방', '설레', '고', '혼자', '서', '끝내', '는', '짝사랑', '그만', '할래', '.'], ['혼자', '만', '설레', '고', '혼자', '서', '끝내', '는', '그냥', '짝사랑', '그만', '할래', '.'], ['확실히', '날', '좋', '아', '하', '는', '걸', '아', '는', '남자', '랑', '친구', '가', '될', '수', '있', '명확히', '을까', '?'], ['확실히', '날', '좋', '아', '하', '분명히', '는', '걸', '아', '는', '남자', '랑', '친구', '가', '될', '수', '있', '을까', '?']]\n",
            "[['혼자', '가', '편하', '다는', '것', '이', '거절', '의', '뜻', '은', '아니', '었', '을까요', '.'], ['혼자', '가', '편하', '다는', '것', '이', '거절', '의', '뜻', '은', '아니', '었', '을까요', '.'], ['맘고생', '많', '았', '어요', '.'], ['맘고생', '많', '았', '어요', '.'], ['그', '사람', '을', '위해서', '는', '그러', '면', '안', '돼요', '.'], ['그', '사람', '을', '위해서', '는', '그러', '면', '안', '돼요', '.']]\n"
          ]
        }
      ]
    },
    {
      "cell_type": "code",
      "source": [
        "# Random Noise Injection 답변 추가\n",
        "for i in range(len(noise_a)):\n",
        "  ans_corpus.append(noise_a[i][0])\n",
        "  ans_corpus.append(noise_a[i][1])\n",
        "  que_corpus.append(original_que[noise_a[i][2]])\n",
        "  que_corpus.append(original_que[noise_a[i][2]])"
      ],
      "metadata": {
        "id": "jsqEAG-49d-V"
      },
      "execution_count": 37,
      "outputs": []
    },
    {
      "cell_type": "code",
      "source": [
        "print(que_corpus[-10:-4])\n",
        "print(ans_corpus[-10:-4])"
      ],
      "metadata": {
        "colab": {
          "base_uri": "https://localhost:8080/"
        },
        "id": "xCVXJ0Vl9yzY",
        "outputId": "48fd08e7-0e22-4528-f366-b4b040855119"
      },
      "execution_count": 38,
      "outputs": [
        {
          "output_type": "stream",
          "name": "stdout",
          "text": [
            "[['혼자', '만', '설레', '고', '혼자', '서', '끝내', '는', '짝사랑', '그만', '할래', '.'], ['혼자', '만', '설레', '고', '혼자', '서', '끝내', '는', '짝사랑', '그만', '할래', '.'], ['화이트데이', '에', '고백', '할까요', '?'], ['화이트데이', '에', '고백', '할까요', '?'], ['화장', '안', '했', '는데', '썸남', '이', '영통', '걸', '었', '어', '.', '어떡', '해', '?'], ['화장', '안', '했', '는데', '썸남', '이', '영통', '걸', '었', '어', '.', '어떡', '해', '?']]\n",
            "[['맘고생', '많', '았', '어요', '수많', '.'], ['맘고생', '많', '았', '높', '어요', '.'], ['선물', '을', '는데', '주', '면서', '솔직', '하', '고', '당당', '하', '게', '고백', '해', '보', '세요', '.'], ['선물', '을', '주', '면서', '솔직', '하', '고', '당당', '하', '게', '고백', '해', '보', '으니', '세요', '.'], ['화장실', '불빛', '으로', '좀', '멀리', '가리', '으로서', '고', '해', '보', '세요', '.'], ['화장실', '불빛', '으로', '이', '좀', '멀리', '가리', '고', '해', '보', '세요', '.']]\n"
          ]
        }
      ]
    },
    {
      "cell_type": "code",
      "source": [
        "# Augmentation후 데이터 길이\n",
        "print(len(que_corpus))\n",
        "print(len(ans_corpus))"
      ],
      "metadata": {
        "colab": {
          "base_uri": "https://localhost:8080/"
        },
        "id": "e4hM6Yqx-G7u",
        "outputId": "cf04a805-f3fd-48a1-f782-97c4208a91c6"
      },
      "execution_count": 39,
      "outputs": [
        {
          "output_type": "stream",
          "name": "stdout",
          "text": [
            "90179\n",
            "90179\n"
          ]
        }
      ]
    },
    {
      "cell_type": "markdown",
      "source": [
        "## 5. 데이터 벡터화"
      ],
      "metadata": {
        "id": "2nzcVD3mXuTD"
      }
    },
    {
      "cell_type": "markdown",
      "source": [
        "답변 문장의 앞 뒤에 시작 토큰과 마무리 토큰 추가해줌.\n",
        "\n",
        "패딩의 최대 길이는 토큰화된 문장의 길이를 출력해서 정해줌"
      ],
      "metadata": {
        "id": "MKuELPdTWIYg"
      }
    },
    {
      "cell_type": "code",
      "source": [
        "# target 문장에 시작 토큰과 마무리 토큰 추가해줌.\n",
        "ans_corpus = [['<start>'] + sen + ['<end>'] for sen in ans_corpus]\n",
        "\n",
        "# 테스트용 데이터에도 추가\n",
        "dec_val = [['<start>'] + sen + ['<end>'] for sen in dec_val]\n",
        "\n",
        "print(ans_corpus[:5])\n",
        "print(dec_val[:5])"
      ],
      "metadata": {
        "colab": {
          "base_uri": "https://localhost:8080/"
        },
        "id": "hlbaJhZbWGl6",
        "outputId": "b5c934b8-f4b2-4701-f361-e91852a23545"
      },
      "execution_count": 40,
      "outputs": [
        {
          "output_type": "stream",
          "name": "stdout",
          "text": [
            "[['<start>', '하루', '가', '또', '가', '네요', '.', '<end>'], ['<start>', '위로', '해', '드립니다', '.', '<end>'], ['<start>', '여행', '은', '언제나', '좋', '죠', '.', '<end>'], ['<start>', '여행', '은', '언제나', '좋', '죠', '.', '<end>'], ['<start>', '눈살', '이', '찌푸려', '지', '죠', '.', '<end>']]\n",
            "[['<start>', '사랑', '하', '기', '힘든', '관계', '인가', '봐요', '.', '<end>'], ['<start>', '눈', '마주치', '는', '게', '우연', '인지', '잘', '살펴', '보', '세요', '.', '<end>'], ['<start>', '정신', '없이', '바쁠', '지도', '몰라요', '.', '조금', '만', '더', '기다려', '보', '고', '물', '어', '보', '는', '게', '좋', '을', '것', '같', '아요', '.', '<end>'], ['<start>', '호감', '이', '있', '을', '수', '도', '있', '어요', '.', '그렇지만', '조금', '더', '상황', '을', '지켜보', '세요', '.', '<end>'], ['<start>', '진심', '으로', '다가가', '보', '세요', '.', '<end>']]\n"
          ]
        }
      ]
    },
    {
      "cell_type": "code",
      "source": [
        "from collections import Counter\n",
        "\n",
        "voc_data = que_corpus + ans_corpus + enc_val + dec_val\n",
        "\n",
        "words = np.concatenate(voc_data).tolist()\n",
        "counter = Counter(words)\n",
        "print(len(counter))\n",
        "counter = counter.most_common(30000-2)\n",
        "vocab = ['<pad>', '<unk>'] + [key for key, _ in counter]\n",
        "word_to_index = {word:index for index, word in enumerate(vocab)}\n",
        "index_to_word = {index:word for word, index in word_to_index.items()}"
      ],
      "metadata": {
        "colab": {
          "base_uri": "https://localhost:8080/"
        },
        "id": "3-4wbKnWVq5O",
        "outputId": "2ab74663-9b88-4071-ac04-108fc7be7f42"
      },
      "execution_count": 41,
      "outputs": [
        {
          "output_type": "stream",
          "name": "stdout",
          "text": [
            "9247\n"
          ]
        }
      ]
    },
    {
      "cell_type": "code",
      "source": [
        "word_to_index"
      ],
      "metadata": {
        "colab": {
          "base_uri": "https://localhost:8080/"
        },
        "id": "z8fBBNv2uFSi",
        "outputId": "601c0cb0-e222-4824-e4a7-31b2c56e2e0c"
      },
      "execution_count": 42,
      "outputs": [
        {
          "output_type": "execute_result",
          "data": {
            "text/plain": [
              "{'<pad>': 0,\n",
              " '<unk>': 1,\n",
              " '.': 2,\n",
              " '<start>': 3,\n",
              " '<end>': 4,\n",
              " '이': 5,\n",
              " '하': 6,\n",
              " '는': 7,\n",
              " '을': 8,\n",
              " '가': 9,\n",
              " '세요': 10,\n",
              " '어': 11,\n",
              " '고': 12,\n",
              " '좋': 13,\n",
              " '해': 14,\n",
              " '있': 15,\n",
              " '거': 16,\n",
              " '보': 17,\n",
              " '은': 18,\n",
              " '지': 19,\n",
              " '?': 20,\n",
              " '아': 21,\n",
              " '나': 22,\n",
              " '도': 23,\n",
              " '게': 24,\n",
              " '겠': 25,\n",
              " '에': 26,\n",
              " '사람': 27,\n",
              " '는데': 28,\n",
              " '예요': 29,\n",
              " '를': 30,\n",
              " '어요': 31,\n",
              " '다': 32,\n",
              " '같': 33,\n",
              " '한': 34,\n",
              " '사랑': 35,\n",
              " '싶': 36,\n",
              " '죠': 37,\n",
              " '없': 38,\n",
              " '네요': 39,\n",
              " '면': 40,\n",
              " '수': 41,\n",
              " '안': 42,\n",
              " '것': 43,\n",
              " '네': 44,\n",
              " '친구': 45,\n",
              " '의': 46,\n",
              " '아요': 47,\n",
              " '생각': 48,\n",
              " '잘': 49,\n",
              " '봐요': 50,\n",
              " '말': 51,\n",
              " '할': 52,\n",
              " '않': 53,\n",
              " '마음': 54,\n",
              " '너무': 55,\n",
              " '주': 56,\n",
              " '되': 57,\n",
              " '만': 58,\n",
              " '일': 59,\n",
              " '내': 60,\n",
              " '했': 61,\n",
              " '기': 62,\n",
              " '더': 63,\n",
              " '들': 64,\n",
              " '었': 65,\n",
              " '으로': 66,\n",
              " '연락': 67,\n",
              " '여자': 68,\n",
              " '남자': 69,\n",
              " '으니': 70,\n",
              " '이별': 71,\n",
              " '힘들': 72,\n",
              " '시간': 73,\n",
              " '많이': 74,\n",
              " '해요': 75,\n",
              " '남': 76,\n",
              " '한테': 77,\n",
              " '으면': 78,\n",
              " '에요': 79,\n",
              " '많': 80,\n",
              " '먹': 81,\n",
              " '에서': 82,\n",
              " '때': 83,\n",
              " '좀': 84,\n",
              " '았': 85,\n",
              " '썸': 86,\n",
              " '야': 87,\n",
              " '짝': 88,\n",
              " '길': 89,\n",
              " '저': 90,\n",
              " '뭐': 91,\n",
              " '받': 92,\n",
              " '요': 93,\n",
              " '건': 94,\n",
              " '괜찮': 95,\n",
              " '을까': 96,\n",
              " '만나': 97,\n",
              " '알': 98,\n",
              " '로': 99,\n",
              " '적': 100,\n",
              " '오늘': 101,\n",
              " '!': 102,\n",
              " '마세요': 103,\n",
              " '애': 104,\n",
              " '에게': 105,\n",
              " '그': 106,\n",
              " '못': 107,\n",
              " '인': 108,\n",
              " '해도': 109,\n",
              " '아니': 110,\n",
              " '연애': 111,\n",
              " '자신': 112,\n",
              " '습니다': 113,\n",
              " '이제': 114,\n",
              " '살': 115,\n",
              " '모르': 116,\n",
              " '던': 117,\n",
              " '랑': 118,\n",
              " '듯': 119,\n",
              " '니': 120,\n",
              " '라고': 121,\n",
              " '걸': 122,\n",
              " '할까': 123,\n",
              " '필요': 124,\n",
              " '은데': 125,\n",
              " '해야': 126,\n",
              " '그러': 127,\n",
              " '왜': 128,\n",
              " '싫': 129,\n",
              " '지만': 130,\n",
              " '끝': 131,\n",
              " '타': 132,\n",
              " '다른': 133,\n",
              " '당신': 134,\n",
              " '잊': 135,\n",
              " '년': 136,\n",
              " '혼자': 137,\n",
              " '같이': 138,\n",
              " '데': 139,\n",
              " '어떻게': 140,\n",
              " '달': 141,\n",
              " '행복': 142,\n",
              " '과': 143,\n",
              " '서': 144,\n",
              " '돼': 145,\n",
              " '다시': 146,\n",
              " '제': 147,\n",
              " '전': 148,\n",
              " '사': 149,\n",
              " '어서': 150,\n",
              " '오': 151,\n",
              " '정리': 152,\n",
              " '라': 153,\n",
              " '지금': 154,\n",
              " '날': 155,\n",
              " '될': 156,\n",
              " '조금': 157,\n",
              " '정말': 158,\n",
              " '중요': 159,\n",
              " '방법': 160,\n",
              " '군요': 161,\n",
              " '와': 162,\n",
              " '결혼': 163,\n",
              " '중': 164,\n",
              " '인데': 165,\n",
              " '또': 166,\n",
              " '보다': 167,\n",
              " '봐': 168,\n",
              " '이랑': 169,\n",
              " '면서': 170,\n",
              " '하나': 171,\n",
              " '물': 172,\n",
              " '참': 173,\n",
              " '고민': 174,\n",
              " '줄': 175,\n",
              " '시키': 176,\n",
              " '헤어지': 177,\n",
              " '짝사랑': 178,\n",
              " '준비': 179,\n",
              " '아직': 180,\n",
              " '선물': 181,\n",
              " '인가': 182,\n",
              " '사귀': 183,\n",
              " '집': 184,\n",
              " '자꾸': 185,\n",
              " '그런': 186,\n",
              " '시': 187,\n",
              " '먼저': 188,\n",
              " '까지': 189,\n",
              " '다고': 190,\n",
              " '는지': 191,\n",
              " '고백': 192,\n",
              " '하면서': 193,\n",
              " '다면': 194,\n",
              " '맞': 195,\n",
              " '이야기': 196,\n",
              " '녀': 197,\n",
              " '합니다': 198,\n",
              " '왔': 199,\n",
              " '서로': 200,\n",
              " '돼요': 201,\n",
              " '는다는': 202,\n",
              " '후회': 203,\n",
              " '술': 204,\n",
              " '진짜': 205,\n",
              " '지요': 206,\n",
              " '볼까': 207,\n",
              " '시작': 208,\n",
              " '여': 209,\n",
              " '그녀': 210,\n",
              " '될까': 211,\n",
              " '놀': 212,\n",
              " '꿈': 213,\n",
              " '쓰': 214,\n",
              " '좋아하': 215,\n",
              " '봅니다': 216,\n",
              " '계속': 217,\n",
              " '됐': 218,\n",
              " '가능': 219,\n",
              " '감정': 220,\n",
              " '해서': 221,\n",
              " '때문': 222,\n",
              " '자': 223,\n",
              " '든': 224,\n",
              " '아서': 225,\n",
              " 'ㄴ다는': 226,\n",
              " '번': 227,\n",
              " '공부': 228,\n",
              " '이것을': 229,\n",
              " '쉽': 230,\n",
              " '그럴': 231,\n",
              " '힘든': 232,\n",
              " '두': 233,\n",
              " '바랄게요': 234,\n",
              " '헤어진지': 235,\n",
              " '라도': 236,\n",
              " '만들': 237,\n",
              " '곳': 238,\n",
              " '걱정': 239,\n",
              " '기분': 240,\n",
              " '눈': 241,\n",
              " '여행': 242,\n",
              " '만큼': 243,\n",
              " '쉬': 244,\n",
              " '씩': 245,\n",
              " '힘드': 246,\n",
              " '여친': 247,\n",
              " '신경': 248,\n",
              " '러': 249,\n",
              " '이상': 250,\n",
              " '드세요': 251,\n",
              " '데이트': 252,\n",
              " '돈': 253,\n",
              " '어도': 254,\n",
              " 'ㅂ시오': 255,\n",
              " 'ㅂ시다': 256,\n",
              " '함께': 257,\n",
              " '아도': 258,\n",
              " '후': 259,\n",
              " '려고': 260,\n",
              " '살펴보': 261,\n",
              " '으며': 262,\n",
              " '자고': 263,\n",
              " '관심': 264,\n",
              " '나요': 265,\n",
              " '어떤': 266,\n",
              " '줘': 267,\n",
              " '니까요': 268,\n",
              " '기억': 269,\n",
              " '놀드': 270,\n",
              " '표현': 271,\n",
              " '이렇게': 272,\n",
              " '상처': 273,\n",
              " '남친': 274,\n",
              " '입니다': 275,\n",
              " '믿': 276,\n",
              " '너': 277,\n",
              " '인지': 278,\n",
              " '걸까': 279,\n",
              " ',': 280,\n",
              " '하루': 281,\n",
              " '바랍니다': 282,\n",
              " '무슨': 283,\n",
              " '그냥': 284,\n",
              " '대화': 285,\n",
              " '어디': 286,\n",
              " '니까': 287,\n",
              " '머지않': 288,\n",
              " '카톡': 289,\n",
              " '...': 290,\n",
              " '이해': 291,\n",
              " '어떨까': 292,\n",
              " '째': 293,\n",
              " '님': 294,\n",
              " '기다리': 295,\n",
              " '못하': 296,\n",
              " '맘': 297,\n",
              " '누구': 298,\n",
              " '맛있': 299,\n",
              " '내일': 300,\n",
              " '다가': 301,\n",
              " '된': 302,\n",
              " '헤어졌': 303,\n",
              " '긴': 304,\n",
              " '머리': 305,\n",
              " '기에': 306,\n",
              " '썸남': 307,\n",
              " '전화': 308,\n",
              " '바라': 309,\n",
              " '이유': 310,\n",
              " '2': 311,\n",
              " '노력': 312,\n",
              " '오래': 313,\n",
              " '1': 314,\n",
              " '였': 315,\n",
              " '나가': 316,\n",
              " '나쁘': 317,\n",
              " '언제': 318,\n",
              " '보내': 319,\n",
              " '궁금': 320,\n",
              " '결정': 321,\n",
              " '부담': 322,\n",
              " '회사': 323,\n",
              " '몰라요': 324,\n",
              " '별': 325,\n",
              " '이야': 326,\n",
              " '죽': 327,\n",
              " '새로운': 328,\n",
              " '셨': 329,\n",
              " '입': 330,\n",
              " '직접': 331,\n",
              " '함': 332,\n",
              " '해의': 333,\n",
              " '다음해': 334,\n",
              " '3': 335,\n",
              " '라면': 336,\n",
              " '늦': 337,\n",
              " '헤어진': 338,\n",
              " '앞': 339,\n",
              " '아프': 340,\n",
              " '운동': 341,\n",
              " '미련': 342,\n",
              " '속': 343,\n",
              " '우리': 344,\n",
              " '부터': 345,\n",
              " '비': 346,\n",
              " '선택': 347,\n",
              " '거나': 348,\n",
              " '따라': 349,\n",
              " '잠': 350,\n",
              " '들여다보': 351,\n",
              " '처럼': 352,\n",
              " '음': 353,\n",
              " '라는': 354,\n",
              " '어떡': 355,\n",
              " '생각나': 356,\n",
              " '잡': 357,\n",
              " '문제': 358,\n",
              " '추억': 359,\n",
              " '인생': 360,\n",
              " '확신': 361,\n",
              " '항상': 362,\n",
              " '만날': 363,\n",
              " '이젠': 364,\n",
              " '대로': 365,\n",
              " '을까요': 366,\n",
              " '뿐': 367,\n",
              " '대': 368,\n",
              " '드': 369,\n",
              " '첫': 370,\n",
              " '잘못': 371,\n",
              " '생겼': 372,\n",
              " '차': 373,\n",
              " '찾아보': 374,\n",
              " '처음': 375,\n",
              " '사이': 376,\n",
              " '용기': 377,\n",
              " '상황': 378,\n",
              " '텐데': 379,\n",
              " '느낌': 380,\n",
              " '개월': 381,\n",
              " '슬픔': 382,\n",
              " '변화': 383,\n",
              " '이나': 384,\n",
              " '가지': 385,\n",
              " '아침': 386,\n",
              " '그렇게': 387,\n",
              " '인연': 388,\n",
              " '도움': 389,\n",
              " '반': 390,\n",
              " '그게': 391,\n",
              " '다는': 392,\n",
              " '도록': 393,\n",
              " '올': 394,\n",
              " '스트레스': 395,\n",
              " '꼼짝': 396,\n",
              " 'ㄹ지': 397,\n",
              " '감': 398,\n",
              " '다르': 399,\n",
              " '나이': 400,\n",
              " '경우': 401,\n",
              " '자주': 402,\n",
              " '을수록': 403,\n",
              " '한가': 404,\n",
              " '나의': 405,\n",
              " '찾': 406,\n",
              " '노래': 407,\n",
              " '볼': 408,\n",
              " '마지막': 409,\n",
              " '건가': 410,\n",
              " '꼭': 411,\n",
              " '매일': 412,\n",
              " '습관': 413,\n",
              " '결국': 414,\n",
              " '답답': 415,\n",
              " '만났': 416,\n",
              " '관계': 417,\n",
              " '보이': 418,\n",
              " '있었': 419,\n",
              " '자기': 420,\n",
              " '현실': 421,\n",
              " '요즘': 422,\n",
              " '스럽': 423,\n",
              " '으세요': 424,\n",
              " '귀찮': 425,\n",
              " '질': 426,\n",
              " '몸': 427,\n",
              " '분': 428,\n",
              " '만남': 429,\n",
              " '똑같': 430,\n",
              " '건지': 431,\n",
              " '아무': 432,\n",
              " '부모': 433,\n",
              " '열심히': 434,\n",
              " '조심': 435,\n",
              " '연인': 436,\n",
              " '상대': 437,\n",
              " '충분히': 438,\n",
              " '줬': 439,\n",
              " '의미': 440,\n",
              " '기대': 441,\n",
              " '세상': 442,\n",
              " '순간': 443,\n",
              " '봤': 444,\n",
              " '힘': 445,\n",
              " '으니까요': 446,\n",
              " '놓': 447,\n",
              " '덜': 448,\n",
              " '가장': 449,\n",
              " '어제': 450,\n",
              " '확인': 451,\n",
              " '화': 452,\n",
              " '그리고': 453,\n",
              " '어야': 454,\n",
              " '큰': 455,\n",
              " '건강': 456,\n",
              " '재회': 457,\n",
              " '가슴': 458,\n",
              " '상대방': 459,\n",
              " '까': 460,\n",
              " '영화': 461,\n",
              " '풀어쓰': 462,\n",
              " '다음': 463,\n",
              " '축하': 464,\n",
              " '이런': 465,\n",
              " '지내': 466,\n",
              " '일단': 467,\n",
              " '모든': 468,\n",
              " '테': 469,\n",
              " '말씀': 470,\n",
              " '다니': 471,\n",
              " '밥': 472,\n",
              " '그만': 473,\n",
              " '몇': 474,\n",
              " '제일': 475,\n",
              " '마다': 476,\n",
              " '힘내': 477,\n",
              " '추천': 478,\n",
              " '갈': 479,\n",
              " '정도': 480,\n",
              " '마시': 481,\n",
              " '나쁜': 482,\n",
              " '난': 483,\n",
              " '선': 484,\n",
              " '대한': 485,\n",
              " '넘': 486,\n",
              " '졌': 487,\n",
              " '그렇': 488,\n",
              " '답': 489,\n",
              " '구요': 490,\n",
              " '확실': 491,\n",
              " '일까': 492,\n",
              " '울': 493,\n",
              " '났': 494,\n",
              " '진심': 495,\n",
              " '호감': 496,\n",
              " '챙겨': 497,\n",
              " '사진': 498,\n",
              " '남편': 499,\n",
              " '듣': 500,\n",
              " '아닌': 501,\n",
              " '그래도': 502,\n",
              " '엄마': 503,\n",
              " '다가가': 504,\n",
              " '갖': 505,\n",
              " '딱': 506,\n",
              " '얼굴': 507,\n",
              " '빨리': 508,\n",
              " '자연': 509,\n",
              " '어때': 510,\n",
              " '밤': 511,\n",
              " '성공': 512,\n",
              " '짧': 513,\n",
              " '톡': 514,\n",
              " '스스로': 515,\n",
              " '웃': 516,\n",
              " '둘': 517,\n",
              " '연습': 518,\n",
              " '갑자기': 519,\n",
              " '새': 520,\n",
              " '예의': 521,\n",
              " '재밌': 522,\n",
              " '커피': 523,\n",
              " '어렵': 524,\n",
              " '날씨': 525,\n",
              " '핸드폰': 526,\n",
              " '가끔': 527,\n",
              " '얼른': 528,\n",
              " '없이': 529,\n",
              " '소개팅': 530,\n",
              " '주말': 531,\n",
              " '뭘': 532,\n",
              " '제대로': 533,\n",
              " '사실': 534,\n",
              " '이에': 535,\n",
              " '것들': 536,\n",
              " '법': 537,\n",
              " '복잡': 538,\n",
              " '별로': 539,\n",
              " '엄청': 540,\n",
              " '정신': 541,\n",
              " '모두': 542,\n",
              " '무시': 543,\n",
              " '진': 544,\n",
              " '붙잡': 545,\n",
              " '가족': 546,\n",
              " '드릴게요': 547,\n",
              " '헤어짐': 548,\n",
              " '뭘까': 549,\n",
              " '실수': 550,\n",
              " '모습': 551,\n",
              " '는데요': 552,\n",
              " '냐': 553,\n",
              " '아야': 554,\n",
              " '위로': 555,\n",
              " '천천히': 556,\n",
              " '눈물': 557,\n",
              " '예쁘': 558,\n",
              " '티': 559,\n",
              " '스러운': 560,\n",
              " '글': 561,\n",
              " '바뀌': 562,\n",
              " '뜻': 563,\n",
              " '충분': 564,\n",
              " '옷': 565,\n",
              " '젊은이': 566,\n",
              " '여인': 567,\n",
              " '갔': 568,\n",
              " '란': 569,\n",
              " '솔직': 570,\n",
              " '을지': 571,\n",
              " '차단': 572,\n",
              " '기다려': 573,\n",
              " '쉬운': 574,\n",
              " '받아들이': 575,\n",
              " '짜증': 576,\n",
              " '5': 577,\n",
              " '편하': 578,\n",
              " '피곤': 579,\n",
              " '버리': 580,\n",
              " '다섯': 581,\n",
              " '학교': 582,\n",
              " '바쁘': 583,\n",
              " '극복': 584,\n",
              " '가져': 585,\n",
              " '관리': 586,\n",
              " '바': 587,\n",
              " '편': 588,\n",
              " '아픔': 589,\n",
              " '인정': 590,\n",
              " '잠시': 591,\n",
              " '재미': 592,\n",
              " '차이': 593,\n",
              " '약': 594,\n",
              " '카나': 595,\n",
              " '봄': 596,\n",
              " '더니': 597,\n",
              " '주변': 598,\n",
              " '4': 599,\n",
              " '게임': 600,\n",
              " '따뜻': 601,\n",
              " '사세요': 602,\n",
              " '시켜': 603,\n",
              " '보여': 604,\n",
              " '후폭풍': 605,\n",
              " '점점': 606,\n",
              " '일어나': 607,\n",
              " '집착': 608,\n",
              " '행동': 609,\n",
              " '나오': 610,\n",
              " '운명': 611,\n",
              " '익숙': 612,\n",
              " '한두': 613,\n",
              " '6': 614,\n",
              " '작': 615,\n",
              " '어야지': 616,\n",
              " '삶': 617,\n",
              " '포기': 618,\n",
              " '그럼': 619,\n",
              " '낫': 620,\n",
              " '얘기': 621,\n",
              " '크': 622,\n",
              " '원': 623,\n",
              " '준': 624,\n",
              " '만난': 625,\n",
              " '무엇': 626,\n",
              " '능력': 627,\n",
              " '성격': 628,\n",
              " '못가': 629,\n",
              " '안가': 630,\n",
              " '그분': 631,\n",
              " '읽': 632,\n",
              " '판단': 633,\n",
              " '직장': 634,\n",
              " '찍': 635,\n",
              " '바람': 636,\n",
              " '재미있': 637,\n",
              " '설레': 638,\n",
              " '아무것': 639,\n",
              " '벌써': 640,\n",
              " '떠나': 641,\n",
              " '애인': 642,\n",
              " '거짓말': 643,\n",
              " '척': 644,\n",
              " '나와': 645,\n",
              " '아닌데': 646,\n",
              " '일찍': 647,\n",
              " '얼마': 648,\n",
              " '위해': 649,\n",
              " '풀': 650,\n",
              " '아픈': 651,\n",
              " '아무래도': 652,\n",
              " '부족': 653,\n",
              " '다행': 654,\n",
              " '동안': 655,\n",
              " '도와': 656,\n",
              " '감기': 657,\n",
              " '여기': 658,\n",
              " '마련': 659,\n",
              " '환승': 660,\n",
              " '잔': 661,\n",
              " '할지': 662,\n",
              " '형': 663,\n",
              " '장': 664,\n",
              " '생활': 665,\n",
              " '임': 666,\n",
              " '잊혀': 667,\n",
              " '자체': 668,\n",
              " '없었': 669,\n",
              " '최고': 670,\n",
              " '카페': 671,\n",
              " '슬픈': 672,\n",
              " '보통': 673,\n",
              " '여유': 674,\n",
              " '편지': 675,\n",
              " '번호': 676,\n",
              " '간': 677,\n",
              " '도전': 678,\n",
              " '점': 679,\n",
              " '며': 680,\n",
              " '알아보': 681,\n",
              " '해야지': 682,\n",
              " '깊': 683,\n",
              " '세': 684,\n",
              " '높': 685,\n",
              " '으나': 686,\n",
              " '폰': 687,\n",
              " '지났': 688,\n",
              " '과정': 689,\n",
              " '부분': 690,\n",
              " '고생': 691,\n",
              " '스러워': 692,\n",
              " '상관': 693,\n",
              " '종교': 694,\n",
              " '방학': 695,\n",
              " '책': 696,\n",
              " '탈': 697,\n",
              " '인의': 698,\n",
              " '생일': 699,\n",
              " '손': 700,\n",
              " '언젠간': 701,\n",
              " '변하': 702,\n",
              " 'ㄴ다면': 703,\n",
              " '씹': 704,\n",
              " '한데': 705,\n",
              " '싸우': 706,\n",
              " '취미': 707,\n",
              " '귀': 708,\n",
              " '옆': 709,\n",
              " '즐기': 710,\n",
              " '는다면': 711,\n",
              " '자면': 712,\n",
              " '응원': 713,\n",
              " '별후': 714,\n",
              " '화장': 715,\n",
              " '언젠가': 716,\n",
              " '미안': 717,\n",
              " '소중': 718,\n",
              " '기회': 719,\n",
              " '어려워': 720,\n",
              " '하늘': 721,\n",
              " '우산': 722,\n",
              " '곧': 723,\n",
              " '소식': 724,\n",
              " '맨날': 725,\n",
              " '한다고': 726,\n",
              " '소리': 727,\n",
              " '약속': 728,\n",
              " '동거': 729,\n",
              " '굉장히': 730,\n",
              " '욕': 731,\n",
              " '줄까': 732,\n",
              " '얼': 733,\n",
              " '금방': 734,\n",
              " '달라지': 735,\n",
              " '야지': 736,\n",
              " '스타일': 737,\n",
              " '진정': 738,\n",
              " '완전': 739,\n",
              " '밖': 740,\n",
              " '드리': 741,\n",
              " '다를': 742,\n",
              " '은데요': 743,\n",
              " '언제나': 744,\n",
              " '나중': 745,\n",
              " '마주치': 746,\n",
              " '끊': 747,\n",
              " '접': 748,\n",
              " '쯤': 749,\n",
              " '잊어버리': 750,\n",
              " '헷갈리': 751,\n",
              " '통보': 752,\n",
              " '프': 753,\n",
              " '바로': 754,\n",
              " '상담': 755,\n",
              " '생길': 756,\n",
              " '시험': 757,\n",
              " '존중': 758,\n",
              " '벌': 759,\n",
              " '잠깐': 760,\n",
              " '비싸': 761,\n",
              " '비밀': 762,\n",
              " '려': 763,\n",
              " '미치': 764,\n",
              " '꾸준히': 765,\n",
              " '그것': 766,\n",
              " '거기': 767,\n",
              " 'sns': 768,\n",
              " '자존': 769,\n",
              " '본인': 770,\n",
              " '지나': 771,\n",
              " '배우': 772,\n",
              " '구': 773,\n",
              " '아파': 774,\n",
              " '우울': 775,\n",
              " '아닌지': 776,\n",
              " '카': 777,\n",
              " '마요': 778,\n",
              " '뭔지': 779,\n",
              " '이러': 780,\n",
              " '한지': 781,\n",
              " '분위기': 782,\n",
              " 'ㅠ': 783,\n",
              " '잖아요': 784,\n",
              " '한다는': 785,\n",
              " '지켜보': 786,\n",
              " '알려': 787,\n",
              " '후련': 788,\n",
              " '성': 789,\n",
              " '주일': 790,\n",
              " '아서요': 791,\n",
              " '나왔': 792,\n",
              " '문자': 793,\n",
              " '워낙': 794,\n",
              " '주무세요': 795,\n",
              " '대해': 796,\n",
              " '칭찬': 797,\n",
              " '깨': 798,\n",
              " '멋진': 799,\n",
              " '갈까': 800,\n",
              " '해질': 801,\n",
              " '즐거운': 802,\n",
              " '써': 803,\n",
              " '이번': 804,\n",
              " '흘렀': 805,\n",
              " '아닐까요': 806,\n",
              " '실': 807,\n",
              " '시원': 808,\n",
              " '서운': 809,\n",
              " '조언': 810,\n",
              " '자책': 811,\n",
              " '그대로': 812,\n",
              " '인기': 813,\n",
              " '해결': 814,\n",
              " '말로': 815,\n",
              " '멀': 816,\n",
              " '취직': 817,\n",
              " '로맨틱': 818,\n",
              " '예쁜': 819,\n",
              " '돌아가': 820,\n",
              " '사친': 821,\n",
              " '절대': 822,\n",
              " '여러': 823,\n",
              " '키우': 824,\n",
              " '짐': 825,\n",
              " '뒤': 826,\n",
              " '이사': 827,\n",
              " '기간': 828,\n",
              " '어쩔': 829,\n",
              " '가능성': 830,\n",
              " '드려요': 831,\n",
              " '엔': 832,\n",
              " '더라고요': 833,\n",
              " '기본': 834,\n",
              " '올려': 835,\n",
              " '소개': 836,\n",
              " '끝내': 837,\n",
              " '으면서': 838,\n",
              " '흐르': 839,\n",
              " '어느': 840,\n",
              " '줌': 841,\n",
              " '쇼핑': 842,\n",
              " '예민': 843,\n",
              " '버렸': 844,\n",
              " '한다': 845,\n",
              " '플': 846,\n",
              " '가요': 847,\n",
              " '피하': 848,\n",
              " '한다면': 849,\n",
              " '해졌': 850,\n",
              " '겠지': 851,\n",
              " '까먹': 852,\n",
              " '적응': 853,\n",
              " '불편': 854,\n",
              " '맞춰': 855,\n",
              " '바보': 856,\n",
              " '은가': 857,\n",
              " '저녁': 858,\n",
              " '이성': 859,\n",
              " '썸녀': 860,\n",
              " '배려': 861,\n",
              " '장난': 862,\n",
              " '걸로': 863,\n",
              " '전해': 864,\n",
              " '대요': 865,\n",
              " '간다': 866,\n",
              " '답장': 867,\n",
              " '매력': 868,\n",
              " '의사': 869,\n",
              " '군대': 870,\n",
              " '선생': 871,\n",
              " '미리': 872,\n",
              " '영혼': 873,\n",
              " '짓': 874,\n",
              " '그래요': 875,\n",
              " '커플': 876,\n",
              " '어색': 877,\n",
              " '씻': 878,\n",
              " '타이밍': 879,\n",
              " '적극': 880,\n",
              " 'ㅠㅠ': 881,\n",
              " '차리': 882,\n",
              " '자신감': 883,\n",
              " '자유': 884,\n",
              " '시기': 885,\n",
              " '완전히': 886,\n",
              " '따로': 887,\n",
              " '생기': 888,\n",
              " '어떻': 889,\n",
              " '때때': 890,\n",
              " '베치': 891,\n",
              " '라니': 892,\n",
              " '월급': 893,\n",
              " '위': 894,\n",
              " '오랜만': 895,\n",
              " '최선': 896,\n",
              " '주기도': 897,\n",
              " '위험': 898,\n",
              " '돌아오': 899,\n",
              " '적당히': 900,\n",
              " '숨': 901,\n",
              " '그런가': 902,\n",
              " '정말로': 903,\n",
              " '아니하': 904,\n",
              " '드디어': 905,\n",
              " '원래': 906,\n",
              " '인사': 907,\n",
              " '집중': 908,\n",
              " '이기': 909,\n",
              " '어찌': 910,\n",
              " '슬프': 911,\n",
              " '뭔가': 912,\n",
              " '지우': 913,\n",
              " '못한': 914,\n",
              " '놓아주': 915,\n",
              " '오빠': 916,\n",
              " '거리': 917,\n",
              " '일상': 918,\n",
              " '아무리': 919,\n",
              " '당황': 920,\n",
              " '전환': 921,\n",
              " '질투': 922,\n",
              " '삭제': 923,\n",
              " '만이': 924,\n",
              " '백만': 925,\n",
              " '더라': 926,\n",
              " '사과': 927,\n",
              " '본': 928,\n",
              " '고치': 929,\n",
              " '누가': 930,\n",
              " '당당': 931,\n",
              " '피해': 932,\n",
              " '학원': 933,\n",
              " '어려운': 934,\n",
              " '허전': 935,\n",
              " '이루어지': 936,\n",
              " '나눠': 937,\n",
              " '개': 938,\n",
              " '발표': 939,\n",
              " '화장실': 940,\n",
              " '기다릴': 941,\n",
              " '연예인': 942,\n",
              " '려면': 943,\n",
              " '됩니다': 944,\n",
              " '캐치': 945,\n",
              " '스페셜': 946,\n",
              " '월과': 947,\n",
              " '초순': 948,\n",
              " '안녕': 949,\n",
              " '귀엽': 950,\n",
              " '식': 951,\n",
              " '현상': 952,\n",
              " '당했': 953,\n",
              " '두려워': 954,\n",
              " '원망': 955,\n",
              " '꽃': 956,\n",
              " '심하': 957,\n",
              " '크리스마스': 958,\n",
              " '복': 959,\n",
              " '자는': 960,\n",
              " '동생': 961,\n",
              " '완벽': 962,\n",
              " '더라도': 963,\n",
              " '발전': 964,\n",
              " '데려다': 965,\n",
              " '지쳤': 966,\n",
              " '늘': 967,\n",
              " '부탁': 968,\n",
              " '꿨': 969,\n",
              " '싸': 970,\n",
              " '당연': 971,\n",
              " '10': 972,\n",
              " '담배': 973,\n",
              " '면접': 974,\n",
              " '꺼': 975,\n",
              " '출근': 976,\n",
              " '살짝': 977,\n",
              " '충전': 978,\n",
              " '어쩌': 979,\n",
              " '치': 980,\n",
              " '상': 981,\n",
              " '좋아해': 982,\n",
              " '내기': 983,\n",
              " '단': 984,\n",
              " '착각': 985,\n",
              " '새벽': 986,\n",
              " '됨': 987,\n",
              " '샀': 988,\n",
              " '무': 989,\n",
              " '아빠': 990,\n",
              " '계획': 991,\n",
              " '한동안': 992,\n",
              " '위한': 993,\n",
              " '그건': 994,\n",
              " '목소리': 995,\n",
              " '걷': 996,\n",
              " '웨딩': 997,\n",
              " '한잔': 998,\n",
              " '장거리': 999,\n",
              " ...}"
            ]
          },
          "metadata": {},
          "execution_count": 42
        }
      ]
    },
    {
      "cell_type": "code",
      "source": [
        "def get_encoded_sentence(sentence, word_to_index):\n",
        "    return [word_to_index[word] if word in word_to_index else word_to_index['<unk>'] for word in sentence]\n",
        "\n",
        "def get_decoded_sentence(encoded_sentence, index_to_word):\n",
        "    return ' '.join(index_to_word[index] if index in index_to_word else '<unk>' for index in encoded_sentence)  #[1:]를 통해 <BOS>를 제외\n",
        "\n",
        "def vectorize(corpus, word_to_index):\n",
        "    data = []\n",
        "    for sen in corpus:\n",
        "        sen = get_encoded_sentence(sen, word_to_index)\n",
        "        data.append(sen)\n",
        "    return data\n",
        "\n",
        "que_train = vectorize(que_corpus, word_to_index)\n",
        "ans_train = vectorize(ans_corpus, word_to_index)\n",
        "\n",
        "enc_val = vectorize(enc_val, word_to_index)\n",
        "dec_val = vectorize(dec_val, word_to_index)\n",
        "\n",
        "print(len(que_train))\n",
        "print(len(ans_train))\n"
      ],
      "metadata": {
        "colab": {
          "base_uri": "https://localhost:8080/"
        },
        "id": "Q1jzltj5V9hJ",
        "outputId": "712d926e-d05c-4004-ef9b-1d505977757e"
      },
      "execution_count": 43,
      "outputs": [
        {
          "output_type": "stream",
          "name": "stdout",
          "text": [
            "90179\n",
            "90179\n"
          ]
        }
      ]
    },
    {
      "cell_type": "code",
      "source": [
        "# source, target 문장의 토큰 최대 개수 확인\n",
        "\n",
        "max_q_len = 0\n",
        "max_a_len = 0\n",
        "for q, a in zip(que_corpus, ans_corpus):\n",
        "  if len(q) >= max_q_len:\n",
        "    max_q_len = len(q)\n",
        "  if len(a) >= max_a_len:\n",
        "    max_a_len = len(a)\n",
        "  \n",
        "print('질문 최대 토큰 개수: ', max_q_len)\n",
        "print('답변 최대 토큰 개수: ', max_a_len)"
      ],
      "metadata": {
        "colab": {
          "base_uri": "https://localhost:8080/"
        },
        "id": "c5KplI32jsoA",
        "outputId": "c9f745e6-fbb6-4bb1-f0ad-990ff7404c94"
      },
      "execution_count": 44,
      "outputs": [
        {
          "output_type": "stream",
          "name": "stdout",
          "text": [
            "질문 최대 토큰 개수:  33\n",
            "답변 최대 토큰 개수:  43\n"
          ]
        }
      ]
    },
    {
      "cell_type": "code",
      "source": [
        "\n",
        "max_len = max(max_q_len, max_a_len)\n",
        "\n",
        "enc_tensor = tf.keras.preprocessing.sequence.pad_sequences(que_train, padding='post', maxlen=max_len)\n",
        "dec_tensor = tf.keras.preprocessing.sequence.pad_sequences(ans_train, padding='post', maxlen=max_len)\n",
        "enc_val = tf.keras.preprocessing.sequence.pad_sequences(enc_val, padding='post', maxlen=max_len)\n",
        "dec_val = tf.keras.preprocessing.sequence.pad_sequences(dec_val, padding='post', maxlen=max_len)\n",
        "\n",
        "enc_train = enc_tensor\n",
        "dec_train = dec_tensor\n",
        "\n",
        "\n",
        "print(len(enc_train))\n",
        "print(len(dec_train))\n",
        "print(len(enc_val))\n",
        "print(len(dec_val))\n",
        "print(dec_val[1])\n",
        "print(enc_val[1])"
      ],
      "metadata": {
        "colab": {
          "base_uri": "https://localhost:8080/"
        },
        "id": "-rVgxqhJWCoT",
        "outputId": "46fc884e-590c-40a2-f94e-c86bd430b47a"
      },
      "execution_count": 45,
      "outputs": [
        {
          "output_type": "stream",
          "name": "stdout",
          "text": [
            "90179\n",
            "90179\n",
            "10\n",
            "10\n",
            "[   3  241  746    7   24 1791  278   49 2854   17   10    2    4    0\n",
            "    0    0    0    0    0    0    0    0    0    0    0    0    0    0\n",
            "    0    0    0    0    0    0    0    0    0    0    0    0    0    0\n",
            "    0]\n",
            "[ 323   82  266   27  169  185  241 9247 5014    2    0    0    0    0\n",
            "    0    0    0    0    0    0    0    0    0    0    0    0    0    0\n",
            "    0    0    0    0    0    0    0    0    0    0    0    0    0    0\n",
            "    0]\n"
          ]
        }
      ]
    },
    {
      "cell_type": "code",
      "source": [
        "print(enc_train[1:3])\n",
        "print('\\n')\n",
        "print(dec_train[1:3])"
      ],
      "metadata": {
        "colab": {
          "base_uri": "https://localhost:8080/"
        },
        "id": "miIH9G-6nEcE",
        "outputId": "e9c924a2-2c40-4b9c-9773-774931a49e42"
      },
      "execution_count": 46,
      "outputs": [
        {
          "output_type": "stream",
          "name": "stdout",
          "text": [
            "[[ 314 4721  582 1128   11    0    0    0    0    0    0    0    0    0\n",
            "     0    0    0    0    0    0    0    0    0    0    0    0    0    0\n",
            "     0    0    0    0    0    0    0    0    0    0    0    0    0    0\n",
            "     0]\n",
            " [ 335 2266  599   59  212  249    9   12   36   32    0    0    0    0\n",
            "     0    0    0    0    0    0    0    0    0    0    0    0    0    0\n",
            "     0    0    0    0    0    0    0    0    0    0    0    0    0    0\n",
            "     0]]\n",
            "\n",
            "\n",
            "[[   3  555   14 1636    2    4    0    0    0    0    0    0    0    0\n",
            "     0    0    0    0    0    0    0    0    0    0    0    0    0    0\n",
            "     0    0    0    0    0    0    0    0    0    0    0    0    0    0\n",
            "     0]\n",
            " [   3  242   18  744   13   37    2    4    0    0    0    0    0    0\n",
            "     0    0    0    0    0    0    0    0    0    0    0    0    0    0\n",
            "     0    0    0    0    0    0    0    0    0    0    0    0    0    0\n",
            "     0]]\n"
          ]
        }
      ]
    },
    {
      "cell_type": "code",
      "source": [
        "enc_tensor.shape"
      ],
      "metadata": {
        "colab": {
          "base_uri": "https://localhost:8080/"
        },
        "id": "JMY_nnMmN6Wr",
        "outputId": "5e9c32c8-bf50-4b4f-bb51-1f3a3d1e05d6"
      },
      "execution_count": 47,
      "outputs": [
        {
          "output_type": "execute_result",
          "data": {
            "text/plain": [
              "(90179, 43)"
            ]
          },
          "metadata": {},
          "execution_count": 47
        }
      ]
    },
    {
      "cell_type": "markdown",
      "source": [
        "## 6. 모델 설계 및 훈련"
      ],
      "metadata": {
        "id": "HGexO_PJnhb4"
      }
    },
    {
      "cell_type": "code",
      "source": [
        "def positional_encoding(pos_len, d_model):\n",
        "  def angle(pos, i):\n",
        "    return pos / np.power(10000, (2*int(i))/np.float32(d_model))\n",
        "  def get_posi_angle_vec(pos):\n",
        "    return [angle(pos, i) for i in range(d_model)]\n",
        "  \n",
        "  sinusoid_table = np.array([get_posi_angle_vec(pos_i) for pos_i in range(pos_len)])\n",
        "  sinusoid_table[:, 0::2] = np.sin(sinusoid_table[:, 0::2])\n",
        "  sinusoid_table[:, 1::2] = np.cos(sinusoid_table[:, 1::2])\n",
        "\n",
        "  return sinusoid_table\n",
        "\n",
        "def generate_padding_mask(seq):\n",
        "  seq = tf.cast(tf.math.equal(seq, 0), tf.float32)\n",
        "  return seq[:, tf.newaxis, tf.newaxis, :]\n",
        "\n",
        "def generate_lookahead_mask(size):\n",
        "  mask = 1 - tf.linalg.band_part(tf.ones((size, size)), -1, 0)\n",
        "  return mask\n",
        "\n",
        "def generate_masks(src, tgt):\n",
        "  enc_mask = generate_padding_mask(src)\n",
        "  dec_enc_mask = generate_padding_mask(src)\n",
        "\n",
        "  dec_lookahead_mask = generate_lookahead_mask(tgt.shape[1])\n",
        "  dec_tgt_padding_mask = generate_padding_mask(tgt)\n",
        "  dec_mask = tf.maximum(dec_tgt_padding_mask, dec_lookahead_mask)\n",
        "\n",
        "  return enc_mask, dec_enc_mask, dec_mask\n",
        "\n",
        "class MultiHeadAttention(tf.keras.layers.Layer):\n",
        "  def __init__(self, d_model, n_heads):\n",
        "    super(MultiHeadAttention, self).__init__()\n",
        "    self.d_model = d_model\n",
        "    self.n_heads = n_heads\n",
        "    self.depth = self.d_model // self.n_heads\n",
        "\n",
        "    self.W_q = tf.keras.layers.Dense(d_model)\n",
        "    self.W_k = tf.keras.layers.Dense(d_model)\n",
        "    self.W_v = tf.keras.layers.Dense(d_model)\n",
        "\n",
        "    self.linear = tf.keras.layers.Dense(d_model)\n",
        "  \n",
        "  def scaled_dot_product_attention(self, Q, K, V, mask):\n",
        "    d_k = tf.cast(K.shape[1], tf.float32)\n",
        "    QK = tf.matmul(Q, K, transpose_b = True)\n",
        "    scaled_qk = QK / tf.math.sqrt(d_k)\n",
        "\n",
        "    if mask is not None: scaled_qk += (mask * -1e9)\n",
        "\n",
        "    attention = tf.nn.softmax(scaled_qk)\n",
        "    out = tf.matmul(attention, V)\n",
        "    \n",
        "    return out, attention\n",
        "  \n",
        "  def split_heads(self, x):\n",
        "    batch_size = x.shape[0]\n",
        "\n",
        "    split_x = tf.reshape(x, (batch_size, -1, self.n_heads, self.depth))\n",
        "    split_x = tf.transpose(split_x, perm=[0,2,1,3])\n",
        "\n",
        "    return split_x\n",
        "  \n",
        "  def combine_heads(self, x):\n",
        "    batch_size = x.shape[0]\n",
        "    \n",
        "    combined_x = tf.transpose(x, perm=[0,2,1,3])\n",
        "    combined_x = tf.reshape(combined_x, (batch_size, -1, self.d_model))\n",
        "\n",
        "    return combined_x\n",
        "  \n",
        "  def call(self, Q, K, V, mask):\n",
        "    wq = self.W_q(Q)\n",
        "    wk = self.W_k(K)\n",
        "    wv = self.W_v(V)\n",
        "\n",
        "    split_wq = self.split_heads(wq)\n",
        "    split_wk = self.split_heads(wk)\n",
        "    split_wv = self.split_heads(wv)\n",
        "\n",
        "    out, attention_weights = self.scaled_dot_product_attention(split_wq, split_wk, split_wv, mask)\n",
        "    out = self.combine_heads(out)\n",
        "    out = self.linear(out)\n",
        "\n",
        "    return out, attention_weights\n",
        "\n",
        "class PoswiseFeedForwardNet(tf.keras.layers.Layer):\n",
        "  def __init__(self, d_model, d_ff):\n",
        "    super(PoswiseFeedForwardNet, self).__init__()\n",
        "    self.d_model = d_model\n",
        "    self.d_ff = d_ff\n",
        "    self.ffn1 = tf.keras.layers.Dense(d_ff, activation='relu')\n",
        "    self.ffn2 = tf.keras.layers.Dense(d_model)\n",
        "  \n",
        "  def call(self, x):\n",
        "    out = x\n",
        "    out = self.ffn1(out)\n",
        "    out = self.ffn2(out)\n",
        "    return out\n",
        "\n",
        "class EncoderLayer(tf.keras.layers.Layer):\n",
        "  def __init__(self, d_model, n_heads, d_ff, dropout):\n",
        "    super(EncoderLayer, self).__init__()\n",
        "\n",
        "    self.enc_self_attns = MultiHeadAttention(d_model, n_heads)\n",
        "    self.ffn = PoswiseFeedForwardNet(d_model, d_ff)\n",
        "    self.dropout = tf.keras.layers.Dropout(dropout)\n",
        "\n",
        "    self.norm1 = tf.keras.layers.LayerNormalization(epsilon=1e-6)\n",
        "    self.norm2 = tf.keras.layers.LayerNormalization(epsilon=1e-6)\n",
        "\n",
        "  def call(self, x, mask):\n",
        "    residual = x\n",
        "    out = self.norm1(x)\n",
        "    out, enc_attns = self.enc_self_attns(out, out, out, mask)\n",
        "    out = self.dropout(out)\n",
        "    out += residual\n",
        "\n",
        "    residual = out\n",
        "    out = self.norm2(out)\n",
        "    out = self.ffn(out)\n",
        "    out = self.dropout(out)\n",
        "    out += residual\n",
        "\n",
        "    return out, enc_attns\n",
        "\n",
        "class DecoderLayer(tf.keras.layers.Layer):\n",
        "  def __init__(self, d_model, n_heads, d_ff, dropout):\n",
        "    super(DecoderLayer, self).__init__()\n",
        "    \n",
        "    self.dec_self_attns = MultiHeadAttention(d_model, n_heads)\n",
        "    self.dec_enc_self_attns = MultiHeadAttention(d_model, n_heads)\n",
        "    self.ffn = PoswiseFeedForwardNet(d_model, d_ff)\n",
        "    \n",
        "    self.norm1 = tf.keras.layers.LayerNormalization(epsilon=1e-6)\n",
        "    self.norm2 = tf.keras.layers.LayerNormalization(epsilon=1e-6)\n",
        "    self.norm3 = tf.keras.layers.LayerNormalization(epsilon=1e-6)\n",
        "\n",
        "    self.dropout = tf.keras.layers.Dropout(dropout)\n",
        "\n",
        "  def call(self, x, enc_out, causality_mask, padding_mask):\n",
        "    residual = x\n",
        "    out = self.norm1(x)\n",
        "    out, dec_attns = self.dec_self_attns(out, out, out, padding_mask)\n",
        "    out = self.dropout(out)\n",
        "    out += residual\n",
        "\n",
        "    residual = out\n",
        "    out = self.norm2(out)\n",
        "    out, dec_enc_attns = self.dec_enc_self_attns(out, enc_out, enc_out, causality_mask)\n",
        "    out = self.dropout(out)\n",
        "    out += residual\n",
        "\n",
        "    residual = out\n",
        "    out = self.norm3(out)\n",
        "    out = self.ffn(out)\n",
        "    out = self.dropout(out)\n",
        "    out += residual\n",
        "\n",
        "    return out, dec_attns, dec_enc_attns\n",
        "\n",
        "class Encoder(tf.keras.Model):\n",
        "  def __init__(self, n_layers, d_model, n_heads, d_ff, dropout):\n",
        "    super(Encoder, self).__init__()\n",
        "\n",
        "    self.n_layers = n_layers\n",
        "    self.enc_layers = [EncoderLayer(d_model, n_heads, d_ff, dropout) for _ in range(n_layers)]\n",
        "\n",
        "  def call(self, x, mask):\n",
        "    out = x\n",
        "\n",
        "    enc_attns = []\n",
        "    for i in range(self.n_layers):\n",
        "      out, enc_attn = self.enc_layers[i](out, mask)\n",
        "      enc_attns.append(enc_attn)\n",
        "    \n",
        "    return out, enc_attns\n",
        "\n",
        "class Decoder(tf.keras.Model):\n",
        "  def __init__(self, n_layers, d_model, n_heads, d_ff, dropout):\n",
        "    super(Decoder, self).__init__()\n",
        "\n",
        "    self.n_layers = n_layers\n",
        "    self.dec_layers = [DecoderLayer(d_model, n_heads, d_ff, dropout) for _ in range(n_layers)]\n",
        "    self.dropout = tf.keras.layers.Dropout(dropout)\n",
        "  \n",
        "  def call(self, x, enc_out, causality_mask, padding_mask):\n",
        "    out = x\n",
        "\n",
        "    dec_attns = []\n",
        "    dec_enc_attns = []\n",
        "    for i in range(self.n_layers):\n",
        "      out, dec_attn, dec_enc_attn = self.dec_layers[i](out, enc_out, causality_mask, padding_mask)\n",
        "      dec_attns.append(dec_attn)\n",
        "      dec_enc_attns.append(dec_enc_attn)\n",
        "    \n",
        "    return out, dec_attns, dec_enc_attns\n",
        "\n",
        "class Transformer(tf.keras.Model):\n",
        "    def __init__(self,\n",
        "                    n_layers,\n",
        "                    d_model,\n",
        "                    n_heads,\n",
        "                    d_ff,\n",
        "                    src_vocab_size,\n",
        "                    tgt_vocab_size,\n",
        "                    pos_len,\n",
        "                    dropout=0.2,\n",
        "                    shared_fc=True,\n",
        "                    shared_emb=False):\n",
        "        super(Transformer, self).__init__()\n",
        "        \n",
        "        self.d_model = tf.cast(d_model, tf.float32)\n",
        "\n",
        "        if shared_emb:\n",
        "            self.enc_emb = self.dec_emb = \\\n",
        "            tf.keras.layers.Embedding(src_vocab_size, d_model)\n",
        "        else:\n",
        "            self.enc_emb = tf.keras.layers.Embedding(src_vocab_size, d_model)\n",
        "            self.dec_emb = tf.keras.layers.Embedding(tgt_vocab_size, d_model)\n",
        "\n",
        "        self.pos_encoding = positional_encoding(pos_len, d_model)\n",
        "        self.do = tf.keras.layers.Dropout(dropout)\n",
        "\n",
        "        self.encoder = Encoder(n_layers, d_model, n_heads, d_ff, dropout)\n",
        "        self.decoder = Decoder(n_layers, d_model, n_heads, d_ff, dropout)\n",
        "\n",
        "        self.fc = tf.keras.layers.Dense(tgt_vocab_size)\n",
        "\n",
        "        self.shared_fc = shared_fc\n",
        "\n",
        "        if shared_fc:\n",
        "            self.fc.set_weights(tf.transpose(self.dec_emb.weights))\n",
        "\n",
        "    def embedding(self, emb, x):\n",
        "        seq_len = x.shape[1]\n",
        "\n",
        "        out = emb(x)\n",
        "\n",
        "        if self.shared_fc: out *= tf.math.sqrt(self.d_model)\n",
        "\n",
        "        out += self.pos_encoding[np.newaxis, ...][:, :seq_len, :]\n",
        "        out = self.do(out)\n",
        "\n",
        "        return out\n",
        "\n",
        "        \n",
        "    def call(self, enc_in, dec_in, enc_mask, dec_enc_mask, dec_mask):\n",
        "        enc_in = self.embedding(self.enc_emb, enc_in)\n",
        "        dec_in = self.embedding(self.dec_emb, dec_in)\n",
        "\n",
        "        enc_out, enc_attns = self.encoder(enc_in, enc_mask)\n",
        "        \n",
        "        dec_out, dec_attns, dec_enc_attns = \\\n",
        "        self.decoder(dec_in, enc_out, dec_enc_mask, dec_mask)\n",
        "        \n",
        "        logits = self.fc(dec_out)\n",
        "        \n",
        "        return logits, enc_attns, dec_attns, dec_enc_attns"
      ],
      "metadata": {
        "id": "1lRO6SNsnjat"
      },
      "execution_count": 48,
      "outputs": []
    },
    {
      "cell_type": "code",
      "source": [
        "# 주어진 하이퍼파라미터로 Transformer 인스턴스 생성\n",
        "transformer = Transformer(\n",
        "    n_layers=4,\n",
        "    d_model=128,\n",
        "    n_heads=8,\n",
        "    d_ff=256,\n",
        "    src_vocab_size=30000,\n",
        "    tgt_vocab_size=30000,\n",
        "    pos_len=200,\n",
        "    dropout=0.2,\n",
        "    shared_fc=True,\n",
        "    shared_emb=True)\n",
        "\t\t\n",
        "d_model = 128"
      ],
      "metadata": {
        "id": "UI_NvaV0-Afu"
      },
      "execution_count": 49,
      "outputs": []
    },
    {
      "cell_type": "code",
      "source": [
        "class LearningRateScheduler(tf.keras.optimizers.schedules.LearningRateSchedule):\n",
        "    def __init__(self, d_model, warmup_steps=4000):\n",
        "        super(LearningRateScheduler, self).__init__()\n",
        "        \n",
        "        self.d_model = d_model\n",
        "        self.warmup_steps = warmup_steps\n",
        "    \n",
        "    def __call__(self, step):\n",
        "        arg1 = step ** -0.5\n",
        "        arg2 = step * (self.warmup_steps ** -1.5)\n",
        "        \n",
        "        return (self.d_model ** -0.5) * tf.math.minimum(arg1, arg2)"
      ],
      "metadata": {
        "id": "rWFjRCUH_i2V"
      },
      "execution_count": 50,
      "outputs": []
    },
    {
      "cell_type": "code",
      "source": [
        "learning_rate = LearningRateScheduler(d_model)\n",
        "\n",
        "optimizer = tf.keras.optimizers.Adam(learning_rate,\n",
        "                                        beta_1=0.9,\n",
        "                                        beta_2=0.98, \n",
        "                                        epsilon=1e-9)"
      ],
      "metadata": {
        "id": "J6Cnc3cv_lRO"
      },
      "execution_count": 51,
      "outputs": []
    },
    {
      "cell_type": "code",
      "source": [
        "loss_object = tf.keras.losses.SparseCategoricalCrossentropy(\n",
        "    from_logits=True, reduction='none')\n",
        "\n",
        "def loss_function(real, pred):\n",
        "    mask = tf.math.logical_not(tf.math.equal(real, 0))\n",
        "    loss_ = loss_object(real, pred)\n",
        "\n",
        "    mask = tf.cast(mask, dtype=loss_.dtype)\n",
        "    loss_ *= mask\n",
        "\n",
        "    return tf.reduce_sum(loss_)/tf.reduce_sum(mask)"
      ],
      "metadata": {
        "id": "NzUHHD6h_0Tt"
      },
      "execution_count": 52,
      "outputs": []
    },
    {
      "cell_type": "code",
      "source": [
        "@tf.function()\n",
        "def train_step(src, tgt, model, optimizer):\n",
        "    tgt_in = tgt[:, :-1]  # Decoder의 input\n",
        "    gold = tgt[:, 1:]     # Decoder의 output과 비교하기 위해 right shift를 통해 생성한 최종 타겟\n",
        "\n",
        "    enc_mask, dec_enc_mask, dec_mask = generate_masks(src, tgt_in)\n",
        "\n",
        "    with tf.GradientTape() as tape:\n",
        "        predictions, enc_attns, dec_attns, dec_enc_attns = \\\n",
        "        model(src, tgt_in, enc_mask, dec_enc_mask, dec_mask)\n",
        "        loss = loss_function(gold, predictions)\n",
        "\n",
        "    gradients = tape.gradient(loss, model.trainable_variables)    \n",
        "    optimizer.apply_gradients(zip(gradients, model.trainable_variables))\n",
        "\n",
        "    return loss, enc_attns, dec_attns, dec_enc_attns"
      ],
      "metadata": {
        "id": "yMn2HaBp_7Zn"
      },
      "execution_count": 53,
      "outputs": []
    },
    {
      "cell_type": "code",
      "source": [
        "def evaluate(sentence, model):\n",
        "    # sentence 전처리(enc_train과 같은 모양으로)\n",
        "    sentence = preprocess_sentence(sentence)\n",
        "    mecab = Mecab()\n",
        "    pieces = mecab.morphs(sentence)\n",
        "    tokens = get_encoded_sentence(pieces, word_to_index)\n",
        "\n",
        "    _input = tf.keras.preprocessing.sequence.pad_sequences([tokens],\n",
        "                                                           maxlen=enc_train.shape[-1],\n",
        "                                                           padding='post')\n",
        "    \n",
        "    ids = []\n",
        "    \n",
        "    output = tf.expand_dims([word_to_index['<start>']], 0) \n",
        "    for i in range(dec_train.shape[-1]):\n",
        "        enc_padding_mask, combined_mask, dec_padding_mask = \\\n",
        "        generate_masks(_input, output)\n",
        "\n",
        "        predictions, enc_attns, dec_attns, dec_enc_attns =\\\n",
        "        model(_input, \n",
        "              output,\n",
        "              enc_padding_mask,\n",
        "              combined_mask,\n",
        "              dec_padding_mask)\n",
        "\n",
        "        predicted_id = \\\n",
        "        tf.argmax(tf.math.softmax(predictions, axis=-1)[0, -1]).numpy().item()\n",
        "        \n",
        "        # 예측 단어가 종료 토큰일 경우\n",
        "        if word_to_index['<end>'] == predicted_id:\n",
        "            result = get_decoded_sentence(ids, index_to_word)\n",
        "            return pieces, result, enc_attns, dec_attns, dec_enc_attns\n",
        "        ##word_to_index\n",
        "        ids.append(predicted_id)\n",
        "        output = tf.concat([output, tf.expand_dims([predicted_id], 0)], axis=-1)\n",
        "\n",
        "    result = get_decoded_sentence(ids, index_to_word)\n",
        "\n",
        "    return pieces, result, enc_attns, dec_attns, dec_enc_attns\n",
        "\n",
        "def translate(sentence, model):\n",
        "    pieces, result, enc_attns, dec_attns, dec_enc_attns = \\\n",
        "    evaluate(sentence, model)\n",
        "    \n",
        "    print('\\nInput: %s' % (sentence))\n",
        "    print('Predicted translation: {}'.format(result))\n",
        "\n",
        "    return result"
      ],
      "metadata": {
        "id": "RHjqFrq3Wtvy"
      },
      "execution_count": 54,
      "outputs": []
    },
    {
      "cell_type": "code",
      "source": [
        "from tqdm import tqdm\n",
        "\n",
        "BATCH_SIZE = 64\n",
        "EPOCHS = 30\n",
        "\n",
        "examples = [\"1지망 학교 떨어졌어\",\n",
        "            \"지루하다, 놀러가고 싶어.\",\n",
        "            \"오늘 일찍 일어났더니 피곤하다.\",\n",
        "            \"간만에 여자친구랑 데이트 하기로 했어.\",\n",
        "            \"집에 있는다는 소리야.\"\n",
        "]\n",
        "\n",
        "loss_ = []\n",
        "\n",
        "for epoch in range(EPOCHS):\n",
        "    total_loss = 0\n",
        "    \n",
        "    idx_list = list(range(0, enc_train.shape[0], BATCH_SIZE))\n",
        "    random.shuffle(idx_list)\n",
        "    t = tqdm(idx_list)\n",
        "\n",
        "    for (batch, idx) in enumerate(t):\n",
        "        batch_loss, enc_attns, dec_attns, dec_enc_attns = \\\n",
        "        train_step(enc_train[idx:idx+BATCH_SIZE],\n",
        "                    dec_train[idx:idx+BATCH_SIZE],\n",
        "                    transformer,\n",
        "                    optimizer)\n",
        "\n",
        "        total_loss += batch_loss\n",
        "        loss_.append(batch_loss)\n",
        "\n",
        "        t.set_description_str('Epoch %2d' % (epoch + 1))\n",
        "        t.set_postfix_str('Loss %.4f' % (total_loss.numpy() / (batch + 1)))\n",
        "        \n",
        "    for example in examples:\n",
        "        translate(example, transformer)"
      ],
      "metadata": {
        "colab": {
          "base_uri": "https://localhost:8080/"
        },
        "id": "S5J9DSBq_-fV",
        "outputId": "26148c18-5708-4a17-b5c1-616c193e9c97"
      },
      "execution_count": 55,
      "outputs": [
        {
          "output_type": "stream",
          "name": "stderr",
          "text": [
            "Epoch  1: 100%|██████████| 1410/1410 [01:45<00:00, 13.39it/s, Loss 4.6942]\n"
          ]
        },
        {
          "output_type": "stream",
          "name": "stdout",
          "text": [
            "\n",
            "Input: 1지망 학교 떨어졌어\n",
            "Predicted translation: 좋 아 하 세요 .\n",
            "\n",
            "Input: 지루하다, 놀러가고 싶어.\n",
            "Predicted translation: 같이 같이 같이 가요 .\n",
            "\n",
            "Input: 오늘 일찍 일어났더니 피곤하다.\n",
            "Predicted translation: 조금 씩 생각 하 세요 .\n",
            "\n",
            "Input: 간만에 여자친구랑 데이트 하기로 했어.\n",
            "Predicted translation: 같이 가 라고 하 지 않 겠 네요 .\n",
            "\n",
            "Input: 집에 있는다는 소리야.\n",
            "Predicted translation: 혼자 가 있 어도 좋 아 봐요 .\n"
          ]
        },
        {
          "output_type": "stream",
          "name": "stderr",
          "text": [
            "Epoch  2: 100%|██████████| 1410/1410 [01:35<00:00, 14.71it/s, Loss 2.8606]\n"
          ]
        },
        {
          "output_type": "stream",
          "name": "stdout",
          "text": [
            "\n",
            "Input: 1지망 학교 떨어졌어\n",
            "Predicted translation: 배우 면 좋 겠 네요 .\n",
            "\n",
            "Input: 지루하다, 놀러가고 싶어.\n",
            "Predicted translation: 저 랑 놀 아요 .\n",
            "\n",
            "Input: 오늘 일찍 일어났더니 피곤하다.\n",
            "Predicted translation: 맛있 는 운동 먹 고 나 봐요 .\n",
            "\n",
            "Input: 간만에 여자친구랑 데이트 하기로 했어.\n",
            "Predicted translation: 사귀 다가 버거울 거 예요 .\n",
            "\n",
            "Input: 집에 있는다는 소리야.\n",
            "Predicted translation: 집 에서 도 안 안 안 안 안 안 안 안 안 안 안 안 안 안 안 안 안 하 고 있 나 봐요 .\n"
          ]
        },
        {
          "output_type": "stream",
          "name": "stderr",
          "text": [
            "Epoch  3: 100%|██████████| 1410/1410 [01:37<00:00, 14.50it/s, Loss 2.1510]\n"
          ]
        },
        {
          "output_type": "stream",
          "name": "stdout",
          "text": [
            "\n",
            "Input: 1지망 학교 떨어졌어\n",
            "Predicted translation: 먼저 다가가 야죠 .\n",
            "\n",
            "Input: 지루하다, 놀러가고 싶어.\n",
            "Predicted translation: 저 도 좋 아요 .\n",
            "\n",
            "Input: 오늘 일찍 일어났더니 피곤하다.\n",
            "Predicted translation: 오늘 은 쉬 는 건 아닌지 큰 좋 아요 .\n",
            "\n",
            "Input: 간만에 여자친구랑 데이트 하기로 했어.\n",
            "Predicted translation: 아무래도 그렇 겠 죠 .\n",
            "\n",
            "Input: 집에 있는다는 소리야.\n",
            "Predicted translation: 뭐 든 괜찮 아요 .\n"
          ]
        },
        {
          "output_type": "stream",
          "name": "stderr",
          "text": [
            "Epoch  4: 100%|██████████| 1410/1410 [01:38<00:00, 14.39it/s, Loss 1.5325]\n"
          ]
        },
        {
          "output_type": "stream",
          "name": "stdout",
          "text": [
            "\n",
            "Input: 1지망 학교 떨어졌어\n",
            "Predicted translation: 위로 해 드립니다 .\n",
            "\n",
            "Input: 지루하다, 놀러가고 싶어.\n",
            "Predicted translation: 저 도 놀 고 놀 고 싶 어요 .\n",
            "\n",
            "Input: 오늘 일찍 일어났더니 피곤하다.\n",
            "Predicted translation: 아무렇 지 않 은 습관 을 들여 보 세요 .\n",
            "\n",
            "Input: 간만에 여자친구랑 데이트 하기로 했어.\n",
            "Predicted translation: 좋 은 경험 이 되 길 바랄게요 .\n",
            "\n",
            "Input: 집에 있는다는 소리야.\n",
            "Predicted translation: 건강 사람 을 위해 잘 쉬 요 .\n"
          ]
        },
        {
          "output_type": "stream",
          "name": "stderr",
          "text": [
            "Epoch  5: 100%|██████████| 1410/1410 [01:38<00:00, 14.37it/s, Loss 1.0871]\n"
          ]
        },
        {
          "output_type": "stream",
          "name": "stdout",
          "text": [
            "\n",
            "Input: 1지망 학교 떨어졌어\n",
            "Predicted translation: 위로 해 드릴게요 .\n",
            "\n",
            "Input: 지루하다, 놀러가고 싶어.\n",
            "Predicted translation: 할 수 있 는 게 많 아요 .\n",
            "\n",
            "Input: 오늘 일찍 일어났더니 피곤하다.\n",
            "Predicted translation: 고생 많 았 어요 .\n",
            "\n",
            "Input: 간만에 여자친구랑 데이트 하기로 했어.\n",
            "Predicted translation: 현실 이 아니 라 생각 해요 .\n",
            "\n",
            "Input: 집에 있는다는 소리야.\n",
            "Predicted translation: 오래 집 에 해요 .\n"
          ]
        },
        {
          "output_type": "stream",
          "name": "stderr",
          "text": [
            "Epoch  6: 100%|██████████| 1410/1410 [01:38<00:00, 14.37it/s, Loss 0.8789]\n"
          ]
        },
        {
          "output_type": "stream",
          "name": "stdout",
          "text": [
            "\n",
            "Input: 1지망 학교 떨어졌어\n",
            "Predicted translation: 위로 해 해 다음해 다음해 다음해 다음해 다음해 다음해 다음해 해 봐요 .\n",
            "\n",
            "Input: 지루하다, 놀러가고 싶어.\n",
            "Predicted translation: 저 도 요 .\n",
            "\n",
            "Input: 오늘 일찍 일어났더니 피곤하다.\n",
            "Predicted translation: 아무 생각 하 지 말 고 쉬 는 게 좋 아요 .\n",
            "\n",
            "Input: 간만에 여자친구랑 데이트 하기로 했어.\n",
            "Predicted translation: 짝사랑 은 함 이 많이 바뀌 되 었 나 봐요 .\n",
            "\n",
            "Input: 집에 있는다는 소리야.\n",
            "Predicted translation: 오래 사귀 면 돼요 .\n"
          ]
        },
        {
          "output_type": "stream",
          "name": "stderr",
          "text": [
            "Epoch  7: 100%|██████████| 1410/1410 [01:38<00:00, 14.37it/s, Loss 0.7648]\n"
          ]
        },
        {
          "output_type": "stream",
          "name": "stdout",
          "text": [
            "\n",
            "Input: 1지망 학교 떨어졌어\n",
            "Predicted translation: 위로 해 드립니다 .\n",
            "\n",
            "Input: 지루하다, 놀러가고 싶어.\n",
            "Predicted translation: 할 때 저 랑 놀 아요 .\n",
            "\n",
            "Input: 오늘 일찍 일어났더니 피곤하다.\n",
            "Predicted translation: 일찍 주무세요 .\n",
            "\n",
            "Input: 간만에 여자친구랑 데이트 하기로 했어.\n",
            "Predicted translation: 마음 이 좀 후련 하 죠 .\n",
            "\n",
            "Input: 집에 있는다는 소리야.\n",
            "Predicted translation: 좋 은 습관 이 에요 .\n"
          ]
        },
        {
          "output_type": "stream",
          "name": "stderr",
          "text": [
            "Epoch  8: 100%|██████████| 1410/1410 [01:38<00:00, 14.36it/s, Loss 0.6842]\n"
          ]
        },
        {
          "output_type": "stream",
          "name": "stdout",
          "text": [
            "\n",
            "Input: 1지망 학교 떨어졌어\n",
            "Predicted translation: 위로 해 봐요 .\n",
            "\n",
            "Input: 지루하다, 놀러가고 싶어.\n",
            "Predicted translation: 저 랑 놀 아요 .\n",
            "\n",
            "Input: 오늘 일찍 일어났더니 피곤하다.\n",
            "Predicted translation: 일찍 일어나 는 건 면 돼요 .\n",
            "\n",
            "Input: 간만에 여자친구랑 데이트 하기로 했어.\n",
            "Predicted translation: 당신 은 좀 좋아하 길 바랄게요 .\n",
            "\n",
            "Input: 집에 있는다는 소리야.\n",
            "Predicted translation: 오래 살 면 요 .\n"
          ]
        },
        {
          "output_type": "stream",
          "name": "stderr",
          "text": [
            "Epoch  9: 100%|██████████| 1410/1410 [01:38<00:00, 14.37it/s, Loss 0.6234]\n"
          ]
        },
        {
          "output_type": "stream",
          "name": "stdout",
          "text": [
            "\n",
            "Input: 1지망 학교 떨어졌어\n",
            "Predicted translation: 위로 해 드립니다 .\n",
            "\n",
            "Input: 지루하다, 놀러가고 싶어.\n",
            "Predicted translation: 저 도 같이 가요 .\n",
            "\n",
            "Input: 오늘 일찍 일어났더니 피곤하다.\n",
            "Predicted translation: 오늘 일찍 주무세요 .\n",
            "\n",
            "Input: 간만에 여자친구랑 데이트 하기로 했어.\n",
            "Predicted translation: 충분히 힘들 었 다면 잠시 거 같 아요 .\n",
            "\n",
            "Input: 집에 있는다는 소리야.\n",
            "Predicted translation: 큰 용기 가 불필요 하 죠 .\n"
          ]
        },
        {
          "output_type": "stream",
          "name": "stderr",
          "text": [
            "Epoch 10: 100%|██████████| 1410/1410 [01:38<00:00, 14.38it/s, Loss 0.5868]\n"
          ]
        },
        {
          "output_type": "stream",
          "name": "stdout",
          "text": [
            "\n",
            "Input: 1지망 학교 떨어졌어\n",
            "Predicted translation: 위로 해 드립니다 .\n",
            "\n",
            "Input: 지루하다, 놀러가고 싶어.\n",
            "Predicted translation: 같이 놀 러 가 세요 .\n",
            "\n",
            "Input: 오늘 일찍 일어났더니 피곤하다.\n",
            "Predicted translation: 오늘 일찍 감사 하 는 여행 을 나누 어 는데 아요 .\n",
            "\n",
            "Input: 간만에 여자친구랑 데이트 하기로 했어.\n",
            "Predicted translation: 마음 이 좀 걸리 겠 지만 잘 바랄게요 .\n",
            "\n",
            "Input: 집에 있는다는 소리야.\n",
            "Predicted translation: 오래 하 면 사귀 는데 네요 .\n"
          ]
        },
        {
          "output_type": "stream",
          "name": "stderr",
          "text": [
            "Epoch 11: 100%|██████████| 1410/1410 [01:38<00:00, 14.36it/s, Loss 0.5570]\n"
          ]
        },
        {
          "output_type": "stream",
          "name": "stdout",
          "text": [
            "\n",
            "Input: 1지망 학교 떨어졌어\n",
            "Predicted translation: 위로 해 다음해 다음해 다음해 다음해 해 봐요 .\n",
            "\n",
            "Input: 지루하다, 놀러가고 싶어.\n",
            "Predicted translation: 저 도 요 !\n",
            "\n",
            "Input: 오늘 일찍 일어났더니 피곤하다.\n",
            "Predicted translation: 일찍 일어나 는 새 를 아무것 는 것 도 중요 해요 .\n",
            "\n",
            "Input: 간만에 여자친구랑 데이트 하기로 했어.\n",
            "Predicted translation: 마음 도 편하 고 싶 어요 .\n",
            "\n",
            "Input: 집에 있는다는 소리야.\n",
            "Predicted translation: 오래 살 고 싶 은 사람 들 이 요 .\n"
          ]
        },
        {
          "output_type": "stream",
          "name": "stderr",
          "text": [
            "Epoch 12: 100%|██████████| 1410/1410 [01:37<00:00, 14.39it/s, Loss 0.5333]\n"
          ]
        },
        {
          "output_type": "stream",
          "name": "stdout",
          "text": [
            "\n",
            "Input: 1지망 학교 떨어졌어\n",
            "Predicted translation: 위로 해 드립니다 .\n",
            "\n",
            "Input: 지루하다, 놀러가고 싶어.\n",
            "Predicted translation: 저 도 요 !\n",
            "\n",
            "Input: 오늘 일찍 일어났더니 피곤하다.\n",
            "Predicted translation: 것 일어날 때 시간 를 만들 어 보 세요 .\n",
            "\n",
            "Input: 간만에 여자친구랑 데이트 하기로 했어.\n",
            "Predicted translation: 그 분과 의 모든 시작 은 갖 지 않 아요 .\n",
            "\n",
            "Input: 집에 있는다는 소리야.\n",
            "Predicted translation: 괜찮 은 연락 이 네요 .\n"
          ]
        },
        {
          "output_type": "stream",
          "name": "stderr",
          "text": [
            "Epoch 13: 100%|██████████| 1410/1410 [01:38<00:00, 14.38it/s, Loss 0.5153]\n"
          ]
        },
        {
          "output_type": "stream",
          "name": "stdout",
          "text": [
            "\n",
            "Input: 1지망 학교 떨어졌어\n",
            "Predicted translation: 위로 해 드립니다 .\n",
            "\n",
            "Input: 지루하다, 놀러가고 싶어.\n",
            "Predicted translation: 저 랑 놀 아요 .\n",
            "\n",
            "Input: 오늘 일찍 일어났더니 피곤하다.\n",
            "Predicted translation: 일찍 일어나 빨리 일어나 는 새 를 한번 하 쉬 어 보 세요 .\n",
            "\n",
            "Input: 간만에 여자친구랑 데이트 하기로 했어.\n",
            "Predicted translation: 했 다면 했 다면 했 다면 했 나 봐요 .\n",
            "\n",
            "Input: 집에 있는다는 소리야.\n",
            "Predicted translation: 괜찮 은 사람 들 이 는데 네요 .\n"
          ]
        },
        {
          "output_type": "stream",
          "name": "stderr",
          "text": [
            "Epoch 14: 100%|██████████| 1410/1410 [01:38<00:00, 14.38it/s, Loss 0.5001]\n"
          ]
        },
        {
          "output_type": "stream",
          "name": "stdout",
          "text": [
            "\n",
            "Input: 1지망 학교 떨어졌어\n",
            "Predicted translation: 위로 해 드립니다 .\n",
            "\n",
            "Input: 지루하다, 놀러가고 싶어.\n",
            "Predicted translation: 저 도 오자키 !\n",
            "\n",
            "Input: 오늘 일찍 일어났더니 피곤하다.\n",
            "Predicted translation: 것 로 기억 하 고 있 어요 .\n",
            "\n",
            "Input: 간만에 여자친구랑 데이트 하기로 했어.\n",
            "Predicted translation: 바랄게요 .\n",
            "\n",
            "Input: 집에 있는다는 소리야.\n",
            "Predicted translation: 스럽 게 잘 하 실 거 예요 .\n"
          ]
        },
        {
          "output_type": "stream",
          "name": "stderr",
          "text": [
            "Epoch 15: 100%|██████████| 1410/1410 [01:38<00:00, 14.38it/s, Loss 0.4830]\n"
          ]
        },
        {
          "output_type": "stream",
          "name": "stdout",
          "text": [
            "\n",
            "Input: 1지망 학교 떨어졌어\n",
            "Predicted translation: 위로 해 드립니다 .\n",
            "\n",
            "Input: 지루하다, 놀러가고 싶어.\n",
            "Predicted translation: 저 도 요 !\n",
            "\n",
            "Input: 오늘 일찍 일어났더니 피곤하다.\n",
            "Predicted translation: 용기 를 쓰 는 지 마세요 .\n",
            "\n",
            "Input: 간만에 여자친구랑 데이트 하기로 했어.\n",
            "Predicted translation: 고민 하 고 있 다면 그게 맞 을 거 예요 .\n",
            "\n",
            "Input: 집에 있는다는 소리야.\n",
            "Predicted translation: 제 가 축하 해요 .\n"
          ]
        },
        {
          "output_type": "stream",
          "name": "stderr",
          "text": [
            "Epoch 16: 100%|██████████| 1410/1410 [01:38<00:00, 14.35it/s, Loss 0.4731]\n"
          ]
        },
        {
          "output_type": "stream",
          "name": "stdout",
          "text": [
            "\n",
            "Input: 1지망 학교 떨어졌어\n",
            "Predicted translation: 위로 해 드립니다 .\n",
            "\n",
            "Input: 지루하다, 놀러가고 싶어.\n",
            "Predicted translation: 저 랑 한 잔 해요 .\n",
            "\n",
            "Input: 오늘 일찍 일어났더니 피곤하다.\n",
            "Predicted translation: 꼭 노력 하 고 있 어요 .\n",
            "\n",
            "Input: 간만에 여자친구랑 데이트 하기로 했어.\n",
            "Predicted translation: 인연 이 거기 까지 였 나 봐요 .\n",
            "\n",
            "Input: 집에 있는다는 소리야.\n",
            "Predicted translation: 제 가 있 잖아요 .\n"
          ]
        },
        {
          "output_type": "stream",
          "name": "stderr",
          "text": [
            "Epoch 17: 100%|██████████| 1410/1410 [01:38<00:00, 14.38it/s, Loss 0.4588]\n"
          ]
        },
        {
          "output_type": "stream",
          "name": "stdout",
          "text": [
            "\n",
            "Input: 1지망 학교 떨어졌어\n",
            "Predicted translation: 위로 해 드립니다 .\n",
            "\n",
            "Input: 지루하다, 놀러가고 싶어.\n",
            "Predicted translation: 같이 가요 .\n",
            "\n",
            "Input: 오늘 일찍 일어났더니 피곤하다.\n",
            "Predicted translation: 일찍 쉬 는 새 는 시간 을 찾 아 는다는 있 어요 .\n",
            "\n",
            "Input: 간만에 여자친구랑 데이트 하기로 했어.\n",
            "Predicted translation: 좋 은 추억 이 되 길 바랄게요 .\n",
            "\n",
            "Input: 집에 있는다는 소리야.\n",
            "Predicted translation: 네요 .\n"
          ]
        },
        {
          "output_type": "stream",
          "name": "stderr",
          "text": [
            "Epoch 18: 100%|██████████| 1410/1410 [01:38<00:00, 14.37it/s, Loss 0.4437]\n"
          ]
        },
        {
          "output_type": "stream",
          "name": "stdout",
          "text": [
            "\n",
            "Input: 1지망 학교 떨어졌어\n",
            "Predicted translation: 위로 해 드립니다 .\n",
            "\n",
            "Input: 지루하다, 놀러가고 싶어.\n",
            "Predicted translation: 저 한테 도 요 .\n",
            "\n",
            "Input: 오늘 일찍 일어났더니 피곤하다.\n",
            "Predicted translation: 일찍 먹 는 새 는 시간 에 따라 를 힘들 어 하 지 니까요 .\n",
            "\n",
            "Input: 간만에 여자친구랑 데이트 하기로 했어.\n",
            "Predicted translation: 원 하 는 은 방법 은 그 자체 로 만나 세요 .\n",
            "\n",
            "Input: 집에 있는다는 소리야.\n",
            "Predicted translation: 네요 .\n"
          ]
        },
        {
          "output_type": "stream",
          "name": "stderr",
          "text": [
            "Epoch 19: 100%|██████████| 1410/1410 [01:38<00:00, 14.39it/s, Loss 0.4385]\n"
          ]
        },
        {
          "output_type": "stream",
          "name": "stdout",
          "text": [
            "\n",
            "Input: 1지망 학교 떨어졌어\n",
            "Predicted translation: 무릎 해 드립니다 .\n",
            "\n",
            "Input: 지루하다, 놀러가고 싶어.\n",
            "Predicted translation: 으니 저 도 요 .\n",
            "\n",
            "Input: 오늘 일찍 일어났더니 피곤하다.\n",
            "Predicted translation: 이제 오늘 때문 일찍 먹 는 시간 을 정리 하 세요 .\n",
            "\n",
            "Input: 간만에 여자친구랑 데이트 하기로 했어.\n",
            "Predicted translation: 인연 은 거기 까지 였 나 봐요 .\n",
            "\n",
            "Input: 집에 있는다는 소리야.\n",
            "Predicted translation: 제 도 좋 은 네요 .\n"
          ]
        },
        {
          "output_type": "stream",
          "name": "stderr",
          "text": [
            "Epoch 20: 100%|██████████| 1410/1410 [01:38<00:00, 14.38it/s, Loss 0.4271]\n"
          ]
        },
        {
          "output_type": "stream",
          "name": "stdout",
          "text": [
            "\n",
            "Input: 1지망 학교 떨어졌어\n",
            "Predicted translation: 위로 해 드립니다 .\n",
            "\n",
            "Input: 지루하다, 놀러가고 싶어.\n",
            "Predicted translation: 으니 저 도 요 .\n",
            "\n",
            "Input: 오늘 일찍 일어났더니 피곤하다.\n",
            "Predicted translation: 꼭 자신 에게 시키 세요 .\n",
            "\n",
            "Input: 간만에 여자친구랑 데이트 하기로 했어.\n",
            "Predicted translation: 직접 물 어 보 세요 .\n",
            "\n",
            "Input: 집에 있는다는 소리야.\n",
            "Predicted translation: 제 가 있 잖아요 .\n"
          ]
        },
        {
          "output_type": "stream",
          "name": "stderr",
          "text": [
            "Epoch 21: 100%|██████████| 1410/1410 [01:37<00:00, 14.39it/s, Loss 0.4227]\n"
          ]
        },
        {
          "output_type": "stream",
          "name": "stdout",
          "text": [
            "\n",
            "Input: 1지망 학교 떨어졌어\n",
            "Predicted translation: 위로 해 드립니다 .\n",
            "\n",
            "Input: 지루하다, 놀러가고 싶어.\n",
            "Predicted translation: 저 랑 같이 놀 아요 .\n",
            "\n",
            "Input: 오늘 일찍 일어났더니 피곤하다.\n",
            "Predicted translation: 돼요 는데 저 도 시간 을 이 들 어요 .\n",
            "\n",
            "Input: 간만에 여자친구랑 데이트 하기로 했어.\n",
            "Predicted translation: 바랄게요 .\n",
            "\n",
            "Input: 집에 있는다는 소리야.\n",
            "Predicted translation: 제 가 있 잖아요 .\n"
          ]
        },
        {
          "output_type": "stream",
          "name": "stderr",
          "text": [
            "Epoch 22: 100%|██████████| 1410/1410 [01:37<00:00, 14.40it/s, Loss 0.4091]\n"
          ]
        },
        {
          "output_type": "stream",
          "name": "stdout",
          "text": [
            "\n",
            "Input: 1지망 학교 떨어졌어\n",
            "Predicted translation: 위로 해 드립니다 .\n",
            "\n",
            "Input: 지루하다, 놀러가고 싶어.\n",
            "Predicted translation: 저 랑 놀 아요 .\n",
            "\n",
            "Input: 오늘 일찍 일어났더니 피곤하다.\n",
            "Predicted translation: 꼭 쉬 어 는 시간 이 에요 .\n",
            "\n",
            "Input: 간만에 여자친구랑 데이트 하기로 했어.\n",
            "Predicted translation: 바랄게요 .\n",
            "\n",
            "Input: 집에 있는다는 소리야.\n",
            "Predicted translation: 먼저 연락 을 해 보 세요 .\n"
          ]
        },
        {
          "output_type": "stream",
          "name": "stderr",
          "text": [
            "Epoch 23: 100%|██████████| 1410/1410 [01:38<00:00, 14.39it/s, Loss 0.3985]\n"
          ]
        },
        {
          "output_type": "stream",
          "name": "stdout",
          "text": [
            "\n",
            "Input: 1지망 학교 떨어졌어\n",
            "Predicted translation: 위로 해 드립니다 .\n",
            "\n",
            "Input: 지루하다, 놀러가고 싶어.\n",
            "Predicted translation: 같이 할 때 가 바뀌 면 돼요 .\n",
            "\n",
            "Input: 오늘 일찍 일어났더니 피곤하다.\n",
            "Predicted translation: 고생 많 은 것 을 거 예요 .\n",
            "\n",
            "Input: 간만에 여자친구랑 데이트 하기로 했어.\n",
            "Predicted translation: 인연 이 여기 까지 였 나 봐요 .\n",
            "\n",
            "Input: 집에 있는다는 소리야.\n",
            "Predicted translation: 네요 .\n"
          ]
        },
        {
          "output_type": "stream",
          "name": "stderr",
          "text": [
            "Epoch 24: 100%|██████████| 1410/1410 [01:37<00:00, 14.41it/s, Loss 0.3897]\n"
          ]
        },
        {
          "output_type": "stream",
          "name": "stdout",
          "text": [
            "\n",
            "Input: 1지망 학교 떨어졌어\n",
            "Predicted translation: 위로 해 드립니다 .\n",
            "\n",
            "Input: 지루하다, 놀러가고 싶어.\n",
            "Predicted translation: 저 도 요 !\n",
            "\n",
            "Input: 오늘 일찍 일어났더니 피곤하다.\n",
            "Predicted translation: 몰라요 . 제 가 들 어 드릴게요 .\n",
            "\n",
            "Input: 간만에 여자친구랑 데이트 하기로 했어.\n",
            "Predicted translation: 바랄게요 .\n",
            "\n",
            "Input: 집에 있는다는 소리야.\n",
            "Predicted translation: 제 가 있 잖아요 .\n"
          ]
        },
        {
          "output_type": "stream",
          "name": "stderr",
          "text": [
            "Epoch 25: 100%|██████████| 1410/1410 [01:37<00:00, 14.41it/s, Loss 0.3856]\n"
          ]
        },
        {
          "output_type": "stream",
          "name": "stdout",
          "text": [
            "\n",
            "Input: 1지망 학교 떨어졌어\n",
            "Predicted translation: 무릎 해 드립니다 .\n",
            "\n",
            "Input: 지루하다, 놀러가고 싶어.\n",
            "Predicted translation: 저 랑 놀 아요 .\n",
            "\n",
            "Input: 오늘 일찍 일어났더니 피곤하다.\n",
            "Predicted translation: 어렵 일찍 정말 많이 조금 쉬 어 주 바랄게요 .\n",
            "\n",
            "Input: 간만에 여자친구랑 데이트 하기로 했어.\n",
            "Predicted translation: 바랄게요 .\n",
            "\n",
            "Input: 집에 있는다는 소리야.\n",
            "Predicted translation: 먼저 연락 을 해 보 세요 .\n"
          ]
        },
        {
          "output_type": "stream",
          "name": "stderr",
          "text": [
            "Epoch 26: 100%|██████████| 1410/1410 [01:37<00:00, 14.41it/s, Loss 0.3793]\n"
          ]
        },
        {
          "output_type": "stream",
          "name": "stdout",
          "text": [
            "\n",
            "Input: 1지망 학교 떨어졌어\n",
            "Predicted translation: 위로 해 다음해 드립니다 .\n",
            "\n",
            "Input: 지루하다, 놀러가고 싶어.\n",
            "Predicted translation: 저 도 요 !\n",
            "\n",
            "Input: 오늘 일찍 일어났더니 피곤하다.\n",
            "Predicted translation: 것 잡아먹 은 자신 을 좀 쉬 길 바랄게요 .\n",
            "\n",
            "Input: 간만에 여자친구랑 데이트 하기로 했어.\n",
            "Predicted translation: 바랄게요 .\n",
            "\n",
            "Input: 집에 있는다는 소리야.\n",
            "Predicted translation: 괜찮 은 때 네요 .\n"
          ]
        },
        {
          "output_type": "stream",
          "name": "stderr",
          "text": [
            "Epoch 27: 100%|██████████| 1410/1410 [01:37<00:00, 14.39it/s, Loss 0.3773]\n"
          ]
        },
        {
          "output_type": "stream",
          "name": "stdout",
          "text": [
            "\n",
            "Input: 1지망 학교 떨어졌어\n",
            "Predicted translation: 무릎 해 드립니다 .\n",
            "\n",
            "Input: 지루하다, 놀러가고 싶어.\n",
            "Predicted translation: 저 는데 요 !\n",
            "\n",
            "Input: 오늘 일찍 일어났더니 피곤하다.\n",
            "Predicted translation: 힘들 어 하 는 것 는데요 바랄게요 .\n",
            "\n",
            "Input: 간만에 여자친구랑 데이트 하기로 했어.\n",
            "Predicted translation: 바랄게요 .\n",
            "\n",
            "Input: 집에 있는다는 소리야.\n",
            "Predicted translation: 더 좋 은 사람 만날 수 있 을 거 예요 .\n"
          ]
        },
        {
          "output_type": "stream",
          "name": "stderr",
          "text": [
            "Epoch 28: 100%|██████████| 1410/1410 [01:37<00:00, 14.39it/s, Loss 0.3668]\n"
          ]
        },
        {
          "output_type": "stream",
          "name": "stdout",
          "text": [
            "\n",
            "Input: 1지망 학교 떨어졌어\n",
            "Predicted translation: 해의 해의 다면 함께 해 드립니다 .\n",
            "\n",
            "Input: 지루하다, 놀러가고 싶어.\n",
            "Predicted translation: 저 랑 놀 아요 .\n",
            "\n",
            "Input: 오늘 일찍 일어났더니 피곤하다.\n",
            "Predicted translation: 좀 더 일찍 잠자리 에 들 어 보 세요 .\n",
            "\n",
            "Input: 간만에 여자친구랑 데이트 하기로 했어.\n",
            "Predicted translation: 바랄게요 .\n",
            "\n",
            "Input: 집에 있는다는 소리야.\n",
            "Predicted translation: 먼저 연락 을 해 보 세요 .\n"
          ]
        },
        {
          "output_type": "stream",
          "name": "stderr",
          "text": [
            "Epoch 29: 100%|██████████| 1410/1410 [01:37<00:00, 14.41it/s, Loss 0.3621]\n"
          ]
        },
        {
          "output_type": "stream",
          "name": "stdout",
          "text": [
            "\n",
            "Input: 1지망 학교 떨어졌어\n",
            "Predicted translation: 위로 해 드립니다 .\n",
            "\n",
            "Input: 지루하다, 놀러가고 싶어.\n",
            "Predicted translation: 저 도 요 !\n",
            "\n",
            "Input: 오늘 일찍 일어났더니 피곤하다.\n",
            "Predicted translation: 자 는 걸로 을 시작 하 세요 .\n",
            "\n",
            "Input: 간만에 여자친구랑 데이트 하기로 했어.\n",
            "Predicted translation: 바랄게요 .\n",
            "\n",
            "Input: 집에 있는다는 소리야.\n",
            "Predicted translation: 먼저 사 는 사람 이 네요 .\n"
          ]
        },
        {
          "output_type": "stream",
          "name": "stderr",
          "text": [
            "Epoch 30: 100%|██████████| 1410/1410 [01:37<00:00, 14.39it/s, Loss 0.3600]\n"
          ]
        },
        {
          "output_type": "stream",
          "name": "stdout",
          "text": [
            "\n",
            "Input: 1지망 학교 떨어졌어\n",
            "Predicted translation: 위로 해 드립니다 .\n",
            "\n",
            "Input: 지루하다, 놀러가고 싶어.\n",
            "Predicted translation: 저 도 요 .\n",
            "\n",
            "Input: 오늘 일찍 일어났더니 피곤하다.\n",
            "Predicted translation: 이제 일어날 시간 이 에요 .\n",
            "\n",
            "Input: 간만에 여자친구랑 데이트 하기로 했어.\n",
            "Predicted translation: 바랄게요 .\n",
            "\n",
            "Input: 집에 있는다는 소리야.\n",
            "Predicted translation: 네요 .\n"
          ]
        }
      ]
    },
    {
      "cell_type": "markdown",
      "source": [
        "## 7. 성능 평가"
      ],
      "metadata": {
        "id": "rodagwnLjk2x"
      }
    },
    {
      "cell_type": "code",
      "source": [
        "from nltk.translate.bleu_score import SmoothingFunction\n",
        "from nltk.translate.bleu_score import sentence_bleu\n",
        "\n",
        "reference = \"자연어 처리에서 트랜스포머는 꼭 자세히 알고 지나가야한다.\".split()\n",
        "candidate = \"자 연어 처리의 트랜스포머는 자세히 알고 가야 된다.\".split()\n",
        "\n",
        "print(\"원문:\", reference)\n",
        "print(\"번역문:\", candidate)\n",
        "print(\"BLEU Score:\", sentence_bleu([reference], candidate))"
      ],
      "metadata": {
        "colab": {
          "base_uri": "https://localhost:8080/"
        },
        "id": "Wg7VbBu9jom9",
        "outputId": "5ed9bbf9-fd0f-4e76-af8d-536174b2a63f"
      },
      "execution_count": 56,
      "outputs": [
        {
          "output_type": "stream",
          "name": "stdout",
          "text": [
            "원문: ['자연어', '처리에서', '트랜스포머는', '꼭', '자세히', '알고', '지나가야한다.']\n",
            "번역문: ['자', '연어', '처리의', '트랜스포머는', '자세히', '알고', '가야', '된다.']\n",
            "BLEU Score: 7.176381577237209e-155\n"
          ]
        },
        {
          "output_type": "stream",
          "name": "stderr",
          "text": [
            "/usr/local/lib/python3.7/dist-packages/nltk/translate/bleu_score.py:552: UserWarning: \n",
            "The hypothesis contains 0 counts of 3-gram overlaps.\n",
            "Therefore the BLEU score evaluates to 0, independently of\n",
            "how many N-gram overlaps of lower order it contains.\n",
            "Consider using lower n-gram order or use SmoothingFunction()\n",
            "  warnings.warn(_msg)\n",
            "/usr/local/lib/python3.7/dist-packages/nltk/translate/bleu_score.py:552: UserWarning: \n",
            "The hypothesis contains 0 counts of 4-gram overlaps.\n",
            "Therefore the BLEU score evaluates to 0, independently of\n",
            "how many N-gram overlaps of lower order it contains.\n",
            "Consider using lower n-gram order or use SmoothingFunction()\n",
            "  warnings.warn(_msg)\n"
          ]
        }
      ]
    },
    {
      "cell_type": "code",
      "source": [
        "def calculate_bleu(reference, candidate, weights=[0.25, 0.25, 0.25, 0.25]):\n",
        "    return sentence_bleu([reference],\n",
        "                         candidate,\n",
        "                         weights=weights,\n",
        "                         smoothing_function=SmoothingFunction().method1)  # smoothing_function 적용\n",
        "\n",
        "print(\"BLEU-1:\", calculate_bleu(reference, candidate, weights=[1, 0, 0, 0]))\n",
        "print(\"BLEU-2:\", calculate_bleu(reference, candidate, weights=[0, 1, 0, 0]))\n",
        "print(\"BLEU-3:\", calculate_bleu(reference, candidate, weights=[0, 0, 1, 0]))\n",
        "print(\"BLEU-4:\", calculate_bleu(reference, candidate, weights=[0, 0, 0, 1]))\n",
        "\n",
        "print(\"\\nBLEU-Total:\", calculate_bleu(reference, candidate))"
      ],
      "metadata": {
        "colab": {
          "base_uri": "https://localhost:8080/"
        },
        "id": "iQRrpLY5j-uG",
        "outputId": "0811cac3-b9ea-4030-9dc0-ab1b73108d6a"
      },
      "execution_count": 57,
      "outputs": [
        {
          "output_type": "stream",
          "name": "stdout",
          "text": [
            "BLEU-1: 0.375\n",
            "BLEU-2: 0.14285714285714285\n",
            "BLEU-3: 0.01666666666666667\n",
            "BLEU-4: 0.02\n",
            "\n",
            "BLEU-Total: 0.06500593260343691\n"
          ]
        }
      ]
    },
    {
      "cell_type": "code",
      "source": [
        "def eval_bleu(src_corpus, tgt_corpus, verbose=True):\n",
        "    total_score = 0.0\n",
        "    sample_size = len(tgt_corpus)\n",
        "\n",
        "    for idx in tqdm(range(sample_size)):\n",
        "        src_tokens = src_corpus[idx]\n",
        "        tgt_tokens = tgt_corpus[idx]\n",
        "        \n",
        "        src = []\n",
        "        tgt = []\n",
        "        \n",
        "        for word in src_tokens:\n",
        "            if word !=0 and word !=1 and word !=3 and word !=4:\n",
        "                src.append(word)\n",
        "        \n",
        "        for word in tgt_tokens:\n",
        "            if word != 0 and word != 3 and word !=4:\n",
        "                tgt.append(word)\n",
        "\n",
        "        src_sentence = get_decoded_sentence(src, index_to_word)\n",
        "        tgt_sentence = get_decoded_sentence(tgt, index_to_word)\n",
        "        \n",
        "        \n",
        "        reference = preprocess_sentence(tgt_sentence)\n",
        "        candidate = translate(src_sentence, transformer)\n",
        "\n",
        "        score = sentence_bleu([reference], candidate,\n",
        "                              smoothing_function=SmoothingFunction().method1)\n",
        "        total_score += score\n",
        "\n",
        "        if verbose:\n",
        "            print(\"Source Sentence: \", src_sentence)\n",
        "            print(\"Model Prediction: \", candidate)\n",
        "            print(\"Real: \", reference)\n",
        "            print(\"Score: %lf\\n\" % score)\n",
        "\n",
        "    print(\"Num of Sample:\", sample_size)\n",
        "    print(\"Total Score:\", total_score / sample_size)"
      ],
      "metadata": {
        "id": "PDzMLZDgkEbB"
      },
      "execution_count": 58,
      "outputs": []
    },
    {
      "cell_type": "code",
      "source": [
        "eval_bleu(enc_val, dec_val, verbose=True)"
      ],
      "metadata": {
        "colab": {
          "base_uri": "https://localhost:8080/"
        },
        "id": "MTFY7MsZkrrh",
        "outputId": "08bf923b-00d6-4320-c038-ceeaf442d5c7"
      },
      "execution_count": 59,
      "outputs": [
        {
          "output_type": "stream",
          "name": "stderr",
          "text": [
            " 10%|█         | 1/10 [00:01<00:09,  1.06s/it]"
          ]
        },
        {
          "output_type": "stream",
          "name": "stdout",
          "text": [
            "\n",
            "Input: 회사 에 좋 아 하 는 남자 가 생겼 어 어떡 하 지 ?\n",
            "Predicted translation: 마음 으로 복잡 하 겠 어요 .\n",
            "Source Sentence:  회사 에 좋 아 하 는 남자 가 생겼 어 어떡 하 지 ?\n",
            "Model Prediction:  마음 으로 복잡 하 겠 어요 .\n",
            "Real:  사랑 하 기 힘든 관계 인가 봐요 .\n",
            "Score: 0.088817\n",
            "\n"
          ]
        },
        {
          "output_type": "stream",
          "name": "stderr",
          "text": [
            "\r 20%|██        | 2/10 [00:02<00:09,  1.20s/it]"
          ]
        },
        {
          "output_type": "stream",
          "name": "stdout",
          "text": [
            "\n",
            "Input: 회사 에서 어떤 사람 이랑 자꾸 눈 마추 쳐 .\n",
            "Predicted translation: 용기 를 내 서 말 해 보 세요 .\n",
            "Source Sentence:  회사 에서 어떤 사람 이랑 자꾸 눈 마추 쳐 .\n",
            "Model Prediction:  용기 를 내 서 말 해 보 세요 .\n",
            "Real:  눈 마주치 는 게 우연 인지 잘 살펴 보 세요 .\n",
            "Score: 0.231516\n",
            "\n"
          ]
        },
        {
          "output_type": "stream",
          "name": "stderr",
          "text": [
            "\r 30%|███       | 3/10 [00:03<00:07,  1.01s/it]"
          ]
        },
        {
          "output_type": "stream",
          "name": "stdout",
          "text": [
            "\n",
            "Input: 회식 중 이 라고 하 는데 연락 이 안 돼 .\n",
            "Predicted translation: 맛있 는 거 드세요 .\n",
            "Source Sentence:  회식 중 이 라고 하 는데 연락 이 안 돼 .\n",
            "Model Prediction:  맛있 는 거 드세요 .\n",
            "Real:  정신 없이 바쁠 지도 몰라요 . 조금 만 더 기다려 보 고 물 어 보 는 게 좋 을 것 같 아요 .\n",
            "Score: 0.004094\n",
            "\n"
          ]
        },
        {
          "output_type": "stream",
          "name": "stderr",
          "text": [
            "\r 40%|████      | 4/10 [00:03<00:05,  1.09it/s]"
          ]
        },
        {
          "output_type": "stream",
          "name": "stdout",
          "text": [
            "\n",
            "Input: 회식 하 는데 나 만 챙겨 줘 . 썸 임 ?\n",
            "Predicted translation: 병원 가 보 세요 .\n",
            "Source Sentence:  회식 하 는데 나 만 챙겨 줘 . 썸 임 ?\n",
            "Model Prediction:  병원 가 보 세요 .\n",
            "Real:  호감 이 있 을 수 도 있 어요 . 그렇지만 조금 더 상황 을 지켜보 세요 .\n",
            "Score: 0.027054\n",
            "\n"
          ]
        },
        {
          "output_type": "stream",
          "name": "stderr",
          "text": [
            "\r 50%|█████     | 5/10 [00:06<00:07,  1.41s/it]"
          ]
        },
        {
          "output_type": "stream",
          "name": "stdout",
          "text": [
            "\n",
            "Input: 후회 없이 사랑 하 고 싶 어\n",
            "Predicted translation: 후회 하 고 말 으로 하 는 것 도 원 하 는 사람 이 없 죠 .\n",
            "Source Sentence:  후회 없이 사랑 하 고 싶 어\n",
            "Model Prediction:  후회 하 고 말 으로 하 는 것 도 원 하 는 사람 이 없 죠 .\n",
            "Real:  진심 으로 다가가 보 세요 .\n",
            "Score: 0.082026\n",
            "\n"
          ]
        },
        {
          "output_type": "stream",
          "name": "stderr",
          "text": [
            "\r 60%|██████    | 6/10 [00:07<00:05,  1.47s/it]"
          ]
        },
        {
          "output_type": "stream",
          "name": "stdout",
          "text": [
            "\n",
            "Input: 훔쳐 보 는 것 도 눈치 보임 .\n",
            "Predicted translation: 빨리 쉽 게 살 고 자신 이 가장 있 죠 .\n",
            "Source Sentence:  훔쳐 보 는 것 도 눈치 보임 .\n",
            "Model Prediction:  빨리 쉽 게 살 고 자신 이 가장 있 죠 .\n",
            "Real:  티 가 나 니까 눈치 가 보이 는 거 죠 !\n",
            "Score: 0.067198\n",
            "\n"
          ]
        },
        {
          "output_type": "stream",
          "name": "stderr",
          "text": [
            "\r 70%|███████   | 7/10 [00:09<00:04,  1.50s/it]"
          ]
        },
        {
          "output_type": "stream",
          "name": "stdout",
          "text": [
            "\n",
            "Input: 훔쳐 보 는 것 도 눈치 보임 .\n",
            "Predicted translation: 빨리 쉽 게 살 고 자신 이 가장 있 죠 .\n",
            "Source Sentence:  훔쳐 보 는 것 도 눈치 보임 .\n",
            "Model Prediction:  빨리 쉽 게 살 고 자신 이 가장 있 죠 .\n",
            "Real:  훔쳐 보 는 거 티나 나 봐요 .\n",
            "Score: 0.023666\n",
            "\n"
          ]
        },
        {
          "output_type": "stream",
          "name": "stderr",
          "text": [
            "\r 80%|████████  | 8/10 [00:10<00:02,  1.31s/it]"
          ]
        },
        {
          "output_type": "stream",
          "name": "stdout",
          "text": [
            "\n",
            "Input: 흑기사 해 주 는 짝 남 .\n",
            "Predicted translation: 직접 물 어 보 세요 .\n",
            "Source Sentence:  흑기사 해 주 는 짝 남 .\n",
            "Model Prediction:  직접 물 어 보 세요 .\n",
            "Real:  설렜 겠 어요 .\n",
            "Score: 0.101202\n",
            "\n"
          ]
        },
        {
          "output_type": "stream",
          "name": "stderr",
          "text": [
            "\r 90%|█████████ | 9/10 [00:11<00:01,  1.42s/it]"
          ]
        },
        {
          "output_type": "stream",
          "name": "stdout",
          "text": [
            "\n",
            "Input: 힘든 연애 좋 은 연애 라는 게 무슨 차이 일까 ?\n",
            "Predicted translation: 언제 다 으니 그 사람 에 대한 예의 가 없 죠 .\n",
            "Source Sentence:  힘든 연애 좋 은 연애 라는 게 무슨 차이 일까 ?\n",
            "Model Prediction:  언제 다 으니 그 사람 에 대한 예의 가 없 죠 .\n",
            "Real:  잘 헤어질 수 있 는 사이 여부 인 거 같 아요 .\n",
            "Score: 0.026970\n",
            "\n"
          ]
        },
        {
          "output_type": "stream",
          "name": "stderr",
          "text": [
            "100%|██████████| 10/10 [00:12<00:00,  1.28s/it]"
          ]
        },
        {
          "output_type": "stream",
          "name": "stdout",
          "text": [
            "\n",
            "Input: 힘들 어서 결혼 할까봐\n",
            "Predicted translation: 말 도 해 주 세요 .\n",
            "Source Sentence:  힘들 어서 결혼 할까봐\n",
            "Model Prediction:  말 도 해 주 세요 .\n",
            "Real:  도피성 결혼 은 하 지 않 길 바라 요 .\n",
            "Score: 0.043075\n",
            "\n",
            "Num of Sample: 10\n",
            "Total Score: 0.06956178205078141\n"
          ]
        },
        {
          "output_type": "stream",
          "name": "stderr",
          "text": [
            "\n"
          ]
        }
      ]
    },
    {
      "cell_type": "code",
      "source": [
        "plt.figure(figsize=(10,8))\n",
        "plt.plot(loss_)\n",
        "plt.xlabel('iters')\n",
        "plt.ylabel('loss')\n",
        "plt.show()"
      ],
      "metadata": {
        "colab": {
          "base_uri": "https://localhost:8080/",
          "height": 497
        },
        "id": "EY388Vnemtc8",
        "outputId": "59de7f6d-c921-4bf9-9abb-703fd26c3843"
      },
      "execution_count": 60,
      "outputs": [
        {
          "output_type": "display_data",
          "data": {
            "text/plain": [
              "<Figure size 720x576 with 1 Axes>"
            ],
            "image/png": "[encoded data removed]"
          },
          "metadata": {
            "needs_background": "light"
          }
        }
      ]
    },
    {
      "cell_type": "markdown",
      "source": [
        "## 8. 실험 결과 비교\n"
      ],
      "metadata": {
        "id": "TxDAlvBbls24"
      }
    }
  ]
}