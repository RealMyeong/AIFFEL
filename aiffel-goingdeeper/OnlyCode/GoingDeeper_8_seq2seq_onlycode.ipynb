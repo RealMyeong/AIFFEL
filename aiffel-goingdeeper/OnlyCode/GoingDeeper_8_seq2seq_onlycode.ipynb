{
  "nbformat": 4,
  "nbformat_minor": 0,
  "metadata": {
    "colab": {
      "provenance": [],
      "machine_shape": "hm",
      "authorship_tag": "ABX9TyMrkBKTfE6tgkCUGeitIZnZ",
      "include_colab_link": true
    },
    "kernelspec": {
      "name": "python3",
      "display_name": "Python 3"
    },
    "language_info": {
      "name": "python"
    },
    "accelerator": "GPU",
    "gpuClass": "premium"
  },
  "cells": [
    {
      "cell_type": "markdown",
      "metadata": {
        "id": "view-in-github",
        "colab_type": "text"
      },
      "source": [
        "<a href=\"https://colab.research.google.com/github/RealMyeong/Going_Deeper_NLP/blob/main/OnlyCode/GoingDeeper_8_seq2seq_onlycode.ipynb\" target=\"_parent\"><img src=\"https://colab.research.google.com/assets/colab-badge.svg\" alt=\"Open In Colab\"/></a>"
      ]
    },
    {
      "cell_type": "code",
      "execution_count": 1,
      "metadata": {
        "colab": {
          "base_uri": "https://localhost:8080/"
        },
        "id": "iXG8XXvNByI5",
        "outputId": "7e9e609e-b467-47f9-be62-25690334a3c8"
      },
      "outputs": [
        {
          "output_type": "stream",
          "name": "stdout",
          "text": [
            "완료!\n"
          ]
        }
      ],
      "source": [
        "import matplotlib as mpl\n",
        "import matplotlib.pyplot as plt\n",
        " \n",
        "%config InlineBackend.figure_format = 'retina'\n",
        " \n",
        "import matplotlib.font_manager as fm\n",
        "fontpath = '/usr/share/fonts/truetype/nanum/NanumBarunGothic.ttf'\n",
        "font = fm.FontProperties(fname=fontpath, size=9)\n",
        "plt.rc('font', family='NanumBarunGothic') \n",
        "mpl.font_manager.findfont(font)\n",
        "\n",
        "print(\"완료!\")"
      ]
    },
    {
      "cell_type": "code",
      "source": [
        "import tensorflow as tf\n",
        "import numpy as np\n",
        "\n",
        "from sklearn.model_selection import train_test_split\n",
        "\n",
        "import matplotlib.ticker as ticker\n",
        "import matplotlib.pyplot as plt\n",
        "\n",
        "import time\n",
        "import re\n",
        "import os\n",
        "import io\n",
        "\n",
        "print(tf.__version__)"
      ],
      "metadata": {
        "colab": {
          "base_uri": "https://localhost:8080/"
        },
        "id": "kJ64GTEVCNfX",
        "outputId": "f08c5753-7189-4e54-ff6b-788286fc27b4"
      },
      "execution_count": 2,
      "outputs": [
        {
          "output_type": "stream",
          "name": "stdout",
          "text": [
            "2.8.2\n"
          ]
        }
      ]
    },
    {
      "cell_type": "code",
      "source": [
        "path_to_zip = tf.keras.utils.get_file(\n",
        "    'spa-eng.zip',\n",
        "    origin='http://storage.googleapis.com/download.tensorflow.org/data/spa-eng.zip',\n",
        "    extract=True)\n",
        "\n",
        "path_to_file = os.path.dirname(path_to_zip)+\"/spa-eng/spa.txt\""
      ],
      "metadata": {
        "colab": {
          "base_uri": "https://localhost:8080/"
        },
        "id": "TyYNk1k_CUXO",
        "outputId": "494e6f59-f9f4-498b-f3c2-37448634ccc2"
      },
      "execution_count": 3,
      "outputs": [
        {
          "output_type": "stream",
          "name": "stdout",
          "text": [
            "Downloading data from http://storage.googleapis.com/download.tensorflow.org/data/spa-eng.zip\n",
            "2646016/2638744 [==============================] - 0s 0us/step\n",
            "2654208/2638744 [==============================] - 0s 0us/step\n"
          ]
        }
      ]
    },
    {
      "cell_type": "code",
      "source": [
        "with open(path_to_file, \"r\") as f:\n",
        "    raw = f.read().splitlines()\n",
        "\n",
        "print(\"Data Size:\", len(raw))\n",
        "print(\"Example:\")\n",
        "\n",
        "for sen in raw[0:100][::20]: print(\">>\", sen)"
      ],
      "metadata": {
        "colab": {
          "base_uri": "https://localhost:8080/"
        },
        "id": "AKoLanTHCbED",
        "outputId": "0366286d-ad29-4971-d834-09310b2b832e"
      },
      "execution_count": 4,
      "outputs": [
        {
          "output_type": "stream",
          "name": "stdout",
          "text": [
            "Data Size: 118964\n",
            "Example:\n",
            ">> Go.\tVe.\n",
            ">> Wait.\tEsperen.\n",
            ">> Hug me.\tAbrázame.\n",
            ">> No way!\t¡Ni cagando!\n",
            ">> Call me.\tLlamame.\n"
          ]
        }
      ]
    },
    {
      "cell_type": "code",
      "source": [
        "def preprocess_sentence(sentence, s_token=False, e_token=False):\n",
        "    sentence = sentence.lower().strip()\n",
        "\n",
        "    sentence = re.sub(r\"([?.!,])\", r\" \\1 \", sentence)\n",
        "    sentence = re.sub(r'[\" \"]+', \" \", sentence)\n",
        "    sentence = re.sub(r\"[^a-zA-Z?.!,]+\", \" \", sentence)\n",
        "\n",
        "    sentence = sentence.strip()\n",
        "\n",
        "    if s_token:\n",
        "        sentence = '<start> ' + sentence\n",
        "\n",
        "    if e_token:\n",
        "        sentence += ' <end>'\n",
        "    \n",
        "    return sentence\n",
        "\n",
        "print(\"슝~\")"
      ],
      "metadata": {
        "colab": {
          "base_uri": "https://localhost:8080/"
        },
        "id": "Mx-MICs_Cf7t",
        "outputId": "1cc1a0fb-4f37-4e7e-8135-185d9543127c"
      },
      "execution_count": 5,
      "outputs": [
        {
          "output_type": "stream",
          "name": "stdout",
          "text": [
            "슝~\n"
          ]
        }
      ]
    },
    {
      "cell_type": "code",
      "source": [
        "enc_corpus = []\n",
        "dec_corpus = []\n",
        "\n",
        "num_examples = 30000\n",
        "\n",
        "for pair in raw[:num_examples]:\n",
        "    eng, spa = pair.split(\"\\t\")\n",
        "\n",
        "    enc_corpus.append(preprocess_sentence(eng))\n",
        "    dec_corpus.append(preprocess_sentence(spa, s_token=True, e_token=True))\n",
        "\n",
        "print(\"English:\", enc_corpus[100])   # go away !\n",
        "print(\"Spanish:\", dec_corpus[100])   # <start> salga de aqu ! <end>"
      ],
      "metadata": {
        "colab": {
          "base_uri": "https://localhost:8080/"
        },
        "id": "NhEtxRHqClHI",
        "outputId": "62f13a81-efca-4e54-9902-116d9c83fc9e"
      },
      "execution_count": 6,
      "outputs": [
        {
          "output_type": "stream",
          "name": "stdout",
          "text": [
            "English: go away !\n",
            "Spanish: <start> salga de aqu ! <end>\n"
          ]
        }
      ]
    },
    {
      "cell_type": "code",
      "source": [
        "def tokenize(corpus):\n",
        "    tokenizer = tf.keras.preprocessing.text.Tokenizer(filters='')\n",
        "    tokenizer.fit_on_texts(corpus)\n",
        "\n",
        "    tensor = tokenizer.texts_to_sequences(corpus)\n",
        "\n",
        "    tensor = tf.keras.preprocessing.sequence.pad_sequences(tensor, padding='post')\n",
        "\n",
        "    return tensor, tokenizer"
      ],
      "metadata": {
        "id": "c5l5sUQ1Cq_p"
      },
      "execution_count": 7,
      "outputs": []
    },
    {
      "cell_type": "code",
      "source": [
        "# 토큰화하기\n",
        "enc_tensor, enc_tokenizer = tokenize(enc_corpus)\n",
        "dec_tensor, dec_tokenizer = tokenize(dec_corpus)\n",
        "\n",
        "# 훈련 데이터와 검증 데이터로 분리하기\n",
        "enc_train, enc_val, dec_train, dec_val = \\\n",
        "train_test_split(enc_tensor, dec_tensor, test_size=0.2)\n",
        "\n",
        "print(\"English Vocab Size:\", len(enc_tokenizer.index_word))\n",
        "print(\"Spanish Vocab Size:\", len(dec_tokenizer.index_word))"
      ],
      "metadata": {
        "colab": {
          "base_uri": "https://localhost:8080/"
        },
        "id": "ALd0I46EC8r-",
        "outputId": "a28c75c1-397c-4581-eeb7-c88ccbf3c7f4"
      },
      "execution_count": 8,
      "outputs": [
        {
          "output_type": "stream",
          "name": "stdout",
          "text": [
            "English Vocab Size: 4931\n",
            "Spanish Vocab Size: 8893\n"
          ]
        }
      ]
    },
    {
      "cell_type": "code",
      "source": [
        "class BahdanauAttention(tf.keras.layers.Layer):\n",
        "    def __init__(self, units):\n",
        "        super(BahdanauAttention, self).__init__()\n",
        "        self.w_dec = tf.keras.layers.Dense(units)\n",
        "        self.w_enc = tf.keras.layers.Dense(units)\n",
        "        self.w_com = tf.keras.layers.Dense(1)\n",
        "    \n",
        "    def call(self, h_enc, h_dec):\n",
        "        # h_enc shape: [batch x length x units]\n",
        "        # h_dec shape: [batch x units]\n",
        "\n",
        "        h_enc = self.w_enc(h_enc)\n",
        "        h_dec = tf.expand_dims(h_dec, 1)\n",
        "        h_dec = self.w_dec(h_dec)\n",
        "\n",
        "        score = self.w_com(tf.nn.tanh(h_dec + h_enc))\n",
        "        \n",
        "        attn = tf.nn.softmax(score, axis=1)\n",
        "\n",
        "        context_vec = attn * h_enc\n",
        "        context_vec = tf.reduce_sum(context_vec, axis=1)\n",
        "\n",
        "        return context_vec, attn\n",
        "\n",
        "print(\"슝~\")"
      ],
      "metadata": {
        "colab": {
          "base_uri": "https://localhost:8080/"
        },
        "id": "bA6p9p-lC9BZ",
        "outputId": "2bfcac52-6926-4640-8a66-e0adef984f89"
      },
      "execution_count": 9,
      "outputs": [
        {
          "output_type": "stream",
          "name": "stdout",
          "text": [
            "슝~\n"
          ]
        }
      ]
    },
    {
      "cell_type": "code",
      "source": [
        "'''Encoder는 모든 Time-Step의 Hidden State를 출력으로 갖고, \n",
        "Decoder는 Encoder의 출력과 Decoder의 t-1 Step의 Hidden State로 Attention을 취하여 t Step의 Hidden State를 만들어 냅니다.'''\n",
        "\n",
        "class Encoder(tf.keras.Model):\n",
        "    def __init__(self, vocab_size, embedding_dim, enc_units):\n",
        "        super(Encoder, self).__init__()\n",
        "        # TODO: Awesome Encoder Modules\n",
        "        self.enc_units = enc_units\n",
        "        self.embedding = tf.keras.layers.Embedding(vocab_size, embedding_dim)\n",
        "        self.gru = tf.keras.layers.GRU(enc_units, return_sequences=True)\n",
        "\t\t\n",
        "    def call(self, x):\n",
        "        # TODO: Awesome Process\n",
        "        x = self.embedding(x)\n",
        "\n",
        "        output = self.gru(x)\n",
        "\n",
        "        return output"
      ],
      "metadata": {
        "id": "YaKaP9rPDcez"
      },
      "execution_count": 10,
      "outputs": []
    },
    {
      "cell_type": "code",
      "source": [
        "class Decoder(tf.keras.Model):\n",
        "    def __init__(self, vocab_size, embedding_dim, dec_units):\n",
        "        super(Decoder, self).__init__()\n",
        "        # TODO: Awesome Decoder Modules\n",
        "           # Attention 필수 사용!\n",
        "        self.dec_units = dec_units\n",
        "        self.embedding = tf.keras.layers.Embedding(vocab_size, embedding_dim)\n",
        "        self.gru = tf.keras.layers.GRU(dec_units, return_sequences=True, return_state=True)\n",
        "        self.fc = tf.keras.layers.Dense(vocab_size)\n",
        "        self.attention = BahdanauAttention(self.dec_units)\n",
        "        \n",
        "    def call(self, x, h_dec, enc_out):\n",
        "        # TODO: Awesome Process\n",
        "        context_vec, attn = self.attention(enc_out, h_dec)\n",
        "\n",
        "        x = self.embedding(x)\n",
        "        x = tf.concat([tf.expand_dims(context_vec, 1), x], axis=-1)\n",
        "\n",
        "        x, h_dec = self.gru(x)\n",
        "        x = tf.reshape(x, (-1, x.shape[2]))\n",
        "        x = self.fc(x)\n",
        "\n",
        "        return x, h_dec, attn"
      ],
      "metadata": {
        "id": "q12Ls0s6E8rA"
      },
      "execution_count": 11,
      "outputs": []
    },
    {
      "cell_type": "code",
      "source": [
        "# 코드를 실행하세요.\n",
        "\n",
        "BATCH_SIZE     = 64\n",
        "SRC_VOCAB_SIZE = len(enc_tokenizer.index_word) + 1\n",
        "TGT_VOCAB_SIZE = len(dec_tokenizer.index_word) + 1\n",
        "\n",
        "units         = 1024\n",
        "embedding_dim = 512\n",
        "\n",
        "encoder = Encoder(SRC_VOCAB_SIZE, embedding_dim, units)\n",
        "decoder = Decoder(TGT_VOCAB_SIZE, embedding_dim, units)\n",
        "\n",
        "# sample input\n",
        "sequence_len = 30\n",
        "\n",
        "sample_enc = tf.random.uniform((BATCH_SIZE, sequence_len))\n",
        "sample_output = encoder(sample_enc)\n",
        "\n",
        "print ('Encoder Output:', sample_output.shape)\n",
        "\n",
        "sample_state = tf.random.uniform((BATCH_SIZE, units))\n",
        "\n",
        "sample_logits, h_dec, attn = decoder(tf.random.uniform((BATCH_SIZE, 1)),\n",
        "                                     sample_state, sample_output)\n",
        "\n",
        "print ('Decoder Output:', sample_logits.shape)\n",
        "print ('Decoder Hidden State:', h_dec.shape)\n",
        "print ('Attention:', attn.shape)"
      ],
      "metadata": {
        "colab": {
          "base_uri": "https://localhost:8080/"
        },
        "id": "piX1EnGjHymS",
        "outputId": "593bce47-9545-45be-a6fa-7e6f4cd02145"
      },
      "execution_count": 12,
      "outputs": [
        {
          "output_type": "stream",
          "name": "stdout",
          "text": [
            "Encoder Output: (64, 30, 1024)\n",
            "Decoder Output: (64, 8894)\n",
            "Decoder Hidden State: (64, 1024)\n",
            "Attention: (64, 30, 1)\n"
          ]
        }
      ]
    },
    {
      "cell_type": "code",
      "source": [
        "optimizer = tf.keras.optimizers.Adam()\n",
        "loss_object = tf.keras.losses.SparseCategoricalCrossentropy(\n",
        "    from_logits=True, reduction='none')\n",
        "\n",
        "def loss_function(real, pred):\n",
        "    mask = tf.math.logical_not(tf.math.equal(real, 0))\n",
        "    loss = loss_object(real, pred)\n",
        "    \n",
        "    mask = tf.cast(mask, dtype=loss.dtype)\n",
        "    loss *= mask\n",
        "    \n",
        "    return tf.reduce_mean(loss)\n",
        "\n",
        "print(\"슝~\")"
      ],
      "metadata": {
        "colab": {
          "base_uri": "https://localhost:8080/"
        },
        "id": "J3kAXy9mHz9p",
        "outputId": "5d6aece5-5560-4824-8de6-50a9d2a61266"
      },
      "execution_count": 13,
      "outputs": [
        {
          "output_type": "stream",
          "name": "stdout",
          "text": [
            "슝~\n"
          ]
        }
      ]
    },
    {
      "cell_type": "code",
      "source": [
        "@tf.function\n",
        "def train_step(src, tgt, encoder, decoder, optimizer, dec_tok):\n",
        "    bsz = src.shape[0]\n",
        "    loss = 0\n",
        "\n",
        "    with tf.GradientTape() as tape:\n",
        "        enc_out = encoder(src)\n",
        "        h_dec = enc_out[:, -1]\n",
        "        \n",
        "        dec_src = tf.expand_dims([dec_tok.word_index['<start>']] * bsz, 1)\n",
        "\n",
        "        for t in range(1, tgt.shape[1]):\n",
        "            pred, h_dec, _ = decoder(dec_src, h_dec, enc_out)\n",
        "\n",
        "            loss += loss_function(tgt[:, t], pred)\n",
        "            dec_src = tf.expand_dims(tgt[:, t], 1)\n",
        "        \n",
        "    batch_loss = (loss / int(tgt.shape[1]))\n",
        "\n",
        "    variables = encoder.trainable_variables + decoder.trainable_variables\n",
        "    gradients = tape.gradient(loss, variables)\n",
        "    optimizer.apply_gradients(zip(gradients, variables))\n",
        "    \n",
        "    return batch_loss\n",
        "\n",
        "print(\"슝~\")"
      ],
      "metadata": {
        "colab": {
          "base_uri": "https://localhost:8080/"
        },
        "id": "SgWWmA6KJf5g",
        "outputId": "ba155637-ee70-4645-a555-5667855aba5f"
      },
      "execution_count": 14,
      "outputs": [
        {
          "output_type": "stream",
          "name": "stdout",
          "text": [
            "슝~\n"
          ]
        }
      ]
    },
    {
      "cell_type": "code",
      "source": [
        "from tqdm import tqdm    # tqdm\n",
        "import random\n",
        "\n",
        "EPOCHS = 10\n",
        "\n",
        "for epoch in range(EPOCHS):\n",
        "    total_loss = 0\n",
        "    \n",
        "    idx_list = list(range(0, enc_train.shape[0], BATCH_SIZE))\n",
        "    random.shuffle(idx_list)\n",
        "    t = tqdm(idx_list)    # tqdm\n",
        "\n",
        "    for (batch, idx) in enumerate(t):\n",
        "        batch_loss = train_step(enc_train[idx:idx+BATCH_SIZE],\n",
        "                                dec_train[idx:idx+BATCH_SIZE],\n",
        "                                encoder,\n",
        "                                decoder,\n",
        "                                optimizer,\n",
        "                                dec_tokenizer)\n",
        "    \n",
        "        total_loss += batch_loss\n",
        "        \n",
        "        t.set_description_str('Epoch %2d' % (epoch + 1))    # tqdm\n",
        "        t.set_postfix_str('Loss %.4f' % (total_loss.numpy() / (batch + 1)))    # tqdm"
      ],
      "metadata": {
        "colab": {
          "base_uri": "https://localhost:8080/"
        },
        "id": "4CJlKKuGKtNq",
        "outputId": "89b67e61-712c-4329-f82d-9c2aa2bf1885"
      },
      "execution_count": 15,
      "outputs": [
        {
          "output_type": "stream",
          "name": "stderr",
          "text": [
            "Epoch  1: 100%|██████████| 375/375 [00:40<00:00,  9.34it/s, Loss 1.3404]\n",
            "Epoch  2: 100%|██████████| 375/375 [00:15<00:00, 23.51it/s, Loss 0.8759]\n",
            "Epoch  3: 100%|██████████| 375/375 [00:15<00:00, 23.52it/s, Loss 0.6077]\n",
            "Epoch  4: 100%|██████████| 375/375 [00:16<00:00, 23.43it/s, Loss 0.4334]\n",
            "Epoch  5: 100%|██████████| 375/375 [00:15<00:00, 23.53it/s, Loss 0.3226]\n",
            "Epoch  6: 100%|██████████| 375/375 [00:15<00:00, 23.49it/s, Loss 0.2513]\n",
            "Epoch  7: 100%|██████████| 375/375 [00:15<00:00, 23.50it/s, Loss 0.2069]\n",
            "Epoch  8: 100%|██████████| 375/375 [00:15<00:00, 23.50it/s, Loss 0.1760]\n",
            "Epoch  9: 100%|██████████| 375/375 [00:15<00:00, 23.52it/s, Loss 0.1546]\n",
            "Epoch 10: 100%|██████████| 375/375 [00:15<00:00, 23.46it/s, Loss 0.1404]\n"
          ]
        }
      ]
    },
    {
      "cell_type": "code",
      "source": [
        "@tf.function\n",
        "def eval_step(src, tgt, encoder, decoder, dec_tok):\n",
        "    bsz = src.shape[0]\n",
        "    loss = 0\n",
        "\n",
        "    enc_out = encoder(src)\n",
        "\n",
        "    h_dec = enc_out[:, -1]\n",
        "    \n",
        "    dec_src = tf.expand_dims([dec_tok.word_index['<start>']] * bsz, 1)\n",
        "\n",
        "    for t in range(1, tgt.shape[1]):\n",
        "        pred, h_dec, _ = decoder(dec_src, h_dec, enc_out)\n",
        "\n",
        "        loss += loss_function(tgt[:, t], pred)\n",
        "        dec_src = tf.expand_dims(tgt[:, t], 1)\n",
        "        \n",
        "    batch_loss = (loss / int(tgt.shape[1]))\n",
        "    \n",
        "    return batch_loss"
      ],
      "metadata": {
        "id": "h1kBdE8UOsgR"
      },
      "execution_count": 17,
      "outputs": []
    },
    {
      "cell_type": "code",
      "source": [
        "from tqdm import tqdm\n",
        "\n",
        "EPOCHS = 10\n",
        "\n",
        "for epoch in range(EPOCHS):\n",
        "    total_loss = 0\n",
        "    \n",
        "    idx_list = list(range(0, enc_train.shape[0], BATCH_SIZE))\n",
        "    random.shuffle(idx_list)\n",
        "    t = tqdm(idx_list)\n",
        "\n",
        "    for (batch, idx) in enumerate(t):\n",
        "        batch_loss = train_step(enc_train[idx:idx+BATCH_SIZE],\n",
        "                                dec_train[idx:idx+BATCH_SIZE],\n",
        "                                encoder,\n",
        "                                decoder,\n",
        "                                optimizer,\n",
        "                                dec_tokenizer)\n",
        "    \n",
        "        total_loss += batch_loss\n",
        "        \n",
        "        t.set_description_str('Epoch %2d' % (epoch + 1))\n",
        "        t.set_postfix_str('Loss %.4f' % (total_loss.numpy() / (batch + 1)))\n",
        "    \n",
        "    test_loss = 0\n",
        "    \n",
        "    idx_list = list(range(0, enc_val.shape[0], BATCH_SIZE))\n",
        "    random.shuffle(idx_list)\n",
        "    t = tqdm(idx_list)\n",
        "\n",
        "    for (test_batch, idx) in enumerate(t):\n",
        "        test_batch_loss = eval_step(enc_val[idx:idx+BATCH_SIZE],\n",
        "                                    dec_val[idx:idx+BATCH_SIZE],\n",
        "                                    encoder,\n",
        "                                    decoder,\n",
        "                                    dec_tokenizer)\n",
        "    \n",
        "        test_loss += test_batch_loss\n",
        "\n",
        "        t.set_description_str('Test Epoch %2d' % (epoch + 1))\n",
        "        t.set_postfix_str('Test Loss %.4f' % (test_loss.numpy() / (test_batch + 1)))"
      ],
      "metadata": {
        "colab": {
          "base_uri": "https://localhost:8080/"
        },
        "id": "kfyecK7OKtoh",
        "outputId": "de291b3f-d6e1-4d6a-c2c0-76b6084c3ed2"
      },
      "execution_count": 18,
      "outputs": [
        {
          "output_type": "stream",
          "name": "stderr",
          "text": [
            "Epoch  1: 100%|██████████| 375/375 [00:15<00:00, 23.77it/s, Loss 0.1260]\n",
            "Test Epoch  1: 100%|██████████| 94/94 [00:14<00:00,  6.43it/s, Test Loss 0.7044]\n",
            "Epoch  2: 100%|██████████| 375/375 [00:16<00:00, 23.42it/s, Loss 0.1175]\n",
            "Test Epoch  2: 100%|██████████| 94/94 [00:01<00:00, 48.14it/s, Test Loss 0.7123]\n",
            "Epoch  3: 100%|██████████| 375/375 [00:16<00:00, 23.36it/s, Loss 0.1124]\n",
            "Test Epoch  3: 100%|██████████| 94/94 [00:01<00:00, 48.41it/s, Test Loss 0.7249]\n",
            "Epoch  4: 100%|██████████| 375/375 [00:16<00:00, 22.99it/s, Loss 0.1070]\n",
            "Test Epoch  4: 100%|██████████| 94/94 [00:01<00:00, 47.60it/s, Test Loss 0.7292]\n",
            "Epoch  5: 100%|██████████| 375/375 [00:16<00:00, 23.03it/s, Loss 0.1004]\n",
            "Test Epoch  5: 100%|██████████| 94/94 [00:01<00:00, 47.94it/s, Test Loss 0.7311]\n",
            "Epoch  6: 100%|██████████| 375/375 [00:16<00:00, 23.30it/s, Loss 0.0964]\n",
            "Test Epoch  6: 100%|██████████| 94/94 [00:01<00:00, 48.42it/s, Test Loss 0.7614]\n",
            "Epoch  7: 100%|██████████| 375/375 [00:16<00:00, 23.39it/s, Loss 0.0927]\n",
            "Test Epoch  7: 100%|██████████| 94/94 [00:01<00:00, 48.33it/s, Test Loss 0.7540]\n",
            "Epoch  8: 100%|██████████| 375/375 [00:16<00:00, 22.95it/s, Loss 0.0905]\n",
            "Test Epoch  8: 100%|██████████| 94/94 [00:01<00:00, 48.56it/s, Test Loss 0.7549]\n",
            "Epoch  9: 100%|██████████| 375/375 [00:16<00:00, 23.33it/s, Loss 0.0896]\n",
            "Test Epoch  9: 100%|██████████| 94/94 [00:01<00:00, 47.97it/s, Test Loss 0.7698]\n",
            "Epoch 10: 100%|██████████| 375/375 [00:16<00:00, 23.27it/s, Loss 0.0869]\n",
            "Test Epoch 10: 100%|██████████| 94/94 [00:01<00:00, 48.02it/s, Test Loss 0.7665]\n"
          ]
        }
      ]
    },
    {
      "cell_type": "code",
      "source": [
        "def evaluate(sentence, encoder, decoder):\n",
        "    attention = np.zeros((dec_train.shape[-1], enc_train.shape[-1]))\n",
        "    \n",
        "    sentence = preprocess_sentence(sentence)\n",
        "    inputs = enc_tokenizer.texts_to_sequences([sentence.split()])\n",
        "    inputs = tf.keras.preprocessing.sequence.pad_sequences(inputs,\n",
        "                                                           maxlen=enc_train.shape[-1],\n",
        "                                                           padding='post')\n",
        "\n",
        "    result = ''\n",
        "\n",
        "    enc_out = encoder(inputs)\n",
        "\n",
        "    dec_hidden = enc_out[:, -1]\n",
        "    print(enc_out)\n",
        "    print(dec_hidden)\n",
        "    dec_input = tf.expand_dims([dec_tokenizer.word_index['<start>']], 0)\n",
        "\n",
        "    for t in range(dec_train.shape[-1]):\n",
        "        predictions, dec_hidden, attention_weights = decoder(dec_input,\n",
        "                                                             dec_hidden,\n",
        "                                                             enc_out)\n",
        "\n",
        "        attention_weights = tf.reshape(attention_weights, (-1, ))\n",
        "        attention[t] = attention_weights.numpy()\n",
        "\n",
        "        predicted_id = \\\n",
        "        tf.argmax(tf.math.softmax(predictions, axis=-1)[0]).numpy()\n",
        "\n",
        "        result += dec_tokenizer.index_word[predicted_id] + ' '\n",
        "\n",
        "        if dec_tokenizer.index_word[predicted_id] == '<end>':\n",
        "            return result, sentence, attention\n",
        "\n",
        "        dec_input = tf.expand_dims([predicted_id], 0)\n",
        "\n",
        "    return result, sentence, attention\n",
        "\n",
        "\n",
        "def plot_attention(attention, sentence, predicted_sentence):\n",
        "    fig = plt.figure(figsize=(10,10))\n",
        "    ax = fig.add_subplot(1, 1, 1)\n",
        "    ax.matshow(attention, cmap='viridis')\n",
        "\n",
        "    fontdict = {'fontsize': 14}\n",
        "\n",
        "    ax.set_xticklabels([''] + sentence, fontdict=fontdict, rotation=90)\n",
        "    ax.set_yticklabels([''] + predicted_sentence, fontdict=fontdict)\n",
        "\n",
        "    ax.xaxis.set_major_locator(ticker.MultipleLocator(1))\n",
        "    ax.yaxis.set_major_locator(ticker.MultipleLocator(1))\n",
        "\n",
        "    plt.show()\n",
        "\n",
        "\n",
        "def translate(sentence, encoder, decoder):\n",
        "    result, sentence, attention = evaluate(sentence, encoder, decoder)\n",
        "\n",
        "    print('Input: %s' % (sentence))\n",
        "    print('Predicted translation: {}'.format(result))\n",
        "    \n",
        "    attention = attention[:len(result.split()), :len(sentence.split())]\n",
        "    plot_attention(attention, sentence.split(), result.split(' '))\n",
        "\n",
        "\n",
        "translate(\"Can I have some coffee?\", encoder, decoder)"
      ],
      "metadata": {
        "colab": {
          "base_uri": "https://localhost:8080/",
          "height": 967
        },
        "id": "3Uo5_aTEPpVh",
        "outputId": "14e0e9bc-4230-40ea-dbea-5647992270bf"
      },
      "execution_count": 21,
      "outputs": [
        {
          "output_type": "stream",
          "name": "stdout",
          "text": [
            "tf.Tensor(\n",
            "[[[-0.00130987  0.00825493 -0.01624235 ...  0.05714699 -0.00066598\n",
            "   -0.03954993]\n",
            "  [ 0.00348634 -0.005546   -0.00824103 ...  0.02885242 -0.00696638\n",
            "   -0.0050211 ]\n",
            "  [ 0.00431272  0.05834784 -0.00364976 ... -0.12724863 -0.00689354\n",
            "   -0.00682633]\n",
            "  ...\n",
            "  [ 0.00048505 -0.02110223 -0.02383999 ... -0.0395513  -0.04517477\n",
            "    0.11935405]\n",
            "  [-0.01274287 -0.01649621 -0.02331291 ...  0.04326049 -0.04690804\n",
            "    0.16305506]\n",
            "  [-0.01406738 -0.02800126 -0.0083349  ... -0.00434514 -0.04551737\n",
            "    0.17384359]]], shape=(1, 9, 1024), dtype=float32)\n",
            "tf.Tensor(\n",
            "[[-0.01406738 -0.02800126 -0.0083349  ... -0.00434514 -0.04551737\n",
            "   0.17384359]], shape=(1, 1024), dtype=float32)\n",
            "Input: can i have some coffee ?\n",
            "Predicted translation: puedo tomar algo de caf ? <end> \n"
          ]
        },
        {
          "output_type": "display_data",
          "data": {
            "text/plain": [
              "<Figure size 720x720 with 1 Axes>"
            ],
            "image/png": "[encoded data removed]"
          },
          "metadata": {
            "image/png": {
              "width": 537,
              "height": 611
            },
            "needs_background": "light"
          }
        }
      ]
    }
  ]
}