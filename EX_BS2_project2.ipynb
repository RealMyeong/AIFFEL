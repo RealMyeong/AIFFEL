{
  "nbformat": 4,
  "nbformat_minor": 0,
  "metadata": {
    "colab": {
      "name": "EX_BS2_project2.ipynb",
      "provenance": [],
      "collapsed_sections": [],
      "mount_file_id": "1LU00l7wfi4Rf-64GvyFY85wZNrWXA-zW",
      "authorship_tag": "ABX9TyPU0Z1LHwp3czwGQ5PZ0n4O",
      "include_colab_link": true
    },
    "kernelspec": {
      "name": "python3",
      "display_name": "Python 3"
    },
    "language_info": {
      "name": "python"
    },
    "gpuClass": "standard"
  },
  "cells": [
    {
      "cell_type": "markdown",
      "metadata": {
        "id": "view-in-github",
        "colab_type": "text"
      },
      "source": [
        "<a href=\"https://colab.research.google.com/github/RealMyeong/Aiffel_Exploration/blob/main/EX_BS2_project2.ipynb\" target=\"_parent\"><img src=\"https://colab.research.google.com/assets/colab-badge.svg\" alt=\"Open In Colab\"/></a>"
      ]
    },
    {
      "cell_type": "markdown",
      "source": [
        "# 당뇨병 수치 맞추기"
      ],
      "metadata": {
        "id": "-rKr9mcJhP6G"
      }
    },
    {
      "cell_type": "markdown",
      "source": [
        "## 1. 데이터 가져오기"
      ],
      "metadata": {
        "id": "G5k5HHRUhSHA"
      }
    },
    {
      "cell_type": "code",
      "execution_count": null,
      "metadata": {
        "id": "V8kO-hEcgykp"
      },
      "outputs": [],
      "source": [
        "from sklearn.datasets import load_diabetes\n",
        "\n",
        "diabetes = load_diabetes()"
      ]
    },
    {
      "cell_type": "code",
      "source": [
        "diabetes.feature_names"
      ],
      "metadata": {
        "colab": {
          "base_uri": "https://localhost:8080/"
        },
        "id": "gLNm1Ea4p-Si",
        "outputId": "763c9313-2843-46f0-8332-25c3784cdcd9"
      },
      "execution_count": null,
      "outputs": [
        {
          "output_type": "execute_result",
          "data": {
            "text/plain": [
              "['age', 'sex', 'bmi', 'bp', 's1', 's2', 's3', 's4', 's5', 's6']"
            ]
          },
          "metadata": {},
          "execution_count": 2
        }
      ]
    },
    {
      "cell_type": "markdown",
      "source": [
        "## 2. 모델에 입력할 데이터 X 준비하기"
      ],
      "metadata": {
        "id": "fEXAGjh4kASq"
      }
    },
    {
      "cell_type": "code",
      "source": [
        "df_x = diabetes.data\n",
        "\n",
        "print(df_x.shape)"
      ],
      "metadata": {
        "id": "UQ3L3aZymp9W",
        "colab": {
          "base_uri": "https://localhost:8080/"
        },
        "outputId": "664bd683-ee56-4434-e860-59f8fd3c6cf0"
      },
      "execution_count": null,
      "outputs": [
        {
          "output_type": "stream",
          "name": "stdout",
          "text": [
            "(442, 10)\n"
          ]
        }
      ]
    },
    {
      "cell_type": "markdown",
      "source": [
        "## 3. 모델에 예측할 데이터 y준비하기"
      ],
      "metadata": {
        "id": "YSG7i-oHkESB"
      }
    },
    {
      "cell_type": "code",
      "source": [
        "df_y = diabetes.target\n",
        "\n",
        "print(df_y.shape)"
      ],
      "metadata": {
        "colab": {
          "base_uri": "https://localhost:8080/"
        },
        "id": "GlNmt7NWs9B8",
        "outputId": "0279f33f-6bbd-46fd-ba9b-eda1862e04c4"
      },
      "execution_count": null,
      "outputs": [
        {
          "output_type": "stream",
          "name": "stdout",
          "text": [
            "(442,)\n"
          ]
        }
      ]
    },
    {
      "cell_type": "markdown",
      "source": [
        "## 4. train, test데이터로 나누기"
      ],
      "metadata": {
        "id": "sbNfIFsMkIKd"
      }
    },
    {
      "cell_type": "code",
      "source": [
        "from sklearn.model_selection import train_test_split\n",
        "\n",
        "X_train, X_test, y_train, y_test = train_test_split(df_x, df_y, test_size=0.2, random_state=8)\n",
        "\n",
        "print(X_train.shape, X_test.shape)\n",
        "print(y_train.shape, y_test.shape)"
      ],
      "metadata": {
        "colab": {
          "base_uri": "https://localhost:8080/"
        },
        "id": "9-8kz2nJtC_E",
        "outputId": "0790a607-5dd1-48e8-b434-723123b8c6b1"
      },
      "execution_count": null,
      "outputs": [
        {
          "output_type": "stream",
          "name": "stdout",
          "text": [
            "(353, 10) (89, 10)\n",
            "(353,) (89,)\n"
          ]
        }
      ]
    },
    {
      "cell_type": "markdown",
      "source": [
        "## 5. 모델 준비하기"
      ],
      "metadata": {
        "id": "ahbuglzdkMK-"
      }
    },
    {
      "cell_type": "code",
      "source": [
        "# feature의 갯수에 맞는 w, b 정하기\n",
        "# 먼저 가중치 W, b를 임의로 설정해줌\n",
        "import numpy as np\n",
        "\n",
        "W = np.random.rand(10)\n",
        "b = np.random.rand()\n",
        "\n",
        "print(W)\n",
        "print(b)"
      ],
      "metadata": {
        "colab": {
          "base_uri": "https://localhost:8080/"
        },
        "id": "0HFwxCAZtoJ0",
        "outputId": "12657c14-f582-47db-fb7e-6f6b868dbf7c"
      },
      "execution_count": null,
      "outputs": [
        {
          "output_type": "stream",
          "name": "stdout",
          "text": [
            "[0.27630833 0.45728362 0.62605923 0.36964544 0.2561847  0.69207375\n",
            " 0.41697863 0.8544111  0.22197887 0.61452574]\n",
            "0.17237603590504746\n"
          ]
        }
      ]
    },
    {
      "cell_type": "code",
      "source": [
        "# model 준비하기\n",
        "def model(X, W, b):\n",
        "  prediction = 0\n",
        "  for i in range(len(W)):\n",
        "    prediction = prediction + X[:,i] * W[i]\n",
        "  prediction = prediction + b\n",
        "  return prediction\n",
        "  \n"
      ],
      "metadata": {
        "id": "7iTwsKiTuMwo"
      },
      "execution_count": null,
      "outputs": []
    },
    {
      "cell_type": "markdown",
      "source": [
        "## 6. 손실함수 loss정의하기"
      ],
      "metadata": {
        "id": "ZpRdJb2RkPqI"
      }
    },
    {
      "cell_type": "code",
      "source": [
        "# 손실함수 MSE로 정의하기\n",
        "# MSE함수 정의\n",
        "def MSE(a, b):\n",
        "  mse = ((a-b)**2).mean()\n",
        "  return mse\n",
        "\n",
        "#RMSE함수 정의\n",
        "def RMSE(a, b):\n",
        "  rmse = np.sqrt(((a-b)**2).mean())\n",
        "  return rmse\n",
        "\n",
        "def r2_square(y, y_pred):\n",
        "  loss = sum((y-y_pred)**2) / sum((y-y.mean())**2)\n",
        "  return loss\n",
        "\n",
        "\n",
        "#손실함수 정의\n",
        "def loss(X, W, b, y):\n",
        "  predictions = model(X, W, b)\n",
        "  L = RMSE(predictions, y) #손실\n",
        "  return L"
      ],
      "metadata": {
        "id": "MR0IxVJpu2pm"
      },
      "execution_count": null,
      "outputs": []
    },
    {
      "cell_type": "markdown",
      "source": [
        "## 7. 기울기를 구하는 gradient 함수 구현하기"
      ],
      "metadata": {
        "id": "yPx_0aWPkVQI"
      }
    },
    {
      "cell_type": "code",
      "source": [
        "def gradient(X, W, b, y):\n",
        "  # 가중치 개수\n",
        "  N = len(W)\n",
        "\n",
        "  #y_pred 준비\n",
        "  y_pred = model(X, W, b)\n",
        "\n",
        "  #dw 계산\n",
        "  dw = 1/N * 2 * X.T.dot(y_pred - y)\n",
        "\n",
        "  #db 계산\n",
        "  db = (2 * (y_pred - y)).mean()\n",
        "\n",
        "  return dw, db\n"
      ],
      "metadata": {
        "id": "4TmWqNvUwB1h"
      },
      "execution_count": null,
      "outputs": []
    },
    {
      "cell_type": "markdown",
      "source": [
        "## 8. 학습률 설정하기"
      ],
      "metadata": {
        "id": "-tkgqRKTkaZP"
      }
    },
    {
      "cell_type": "code",
      "source": [
        "learning_rate = 0.01\n"
      ],
      "metadata": {
        "id": "BjzTM4wexVoq"
      },
      "execution_count": null,
      "outputs": []
    },
    {
      "cell_type": "markdown",
      "source": [
        "## 9. 모델 학습하기"
      ],
      "metadata": {
        "id": "z1Jr4roJkdKE"
      }
    },
    {
      "cell_type": "code",
      "source": [
        "losses = []\n",
        "\n",
        "for i in range(1, 1001):\n",
        "  dw, db = gradient(X_train, W, b, y_train)\n",
        "  W -= learning_rate*dw\n",
        "  b -= learning_rate*db\n",
        "  L = loss(X_train, W, b, y_train)\n",
        "  losses.append(L)\n",
        "  if i % 10 == 0 :\n",
        "    print('Iteration %d : Loss %.4f' %(i, L))"
      ],
      "metadata": {
        "colab": {
          "base_uri": "https://localhost:8080/"
        },
        "id": "h1R_7qSOxbmz",
        "outputId": "51db143f-5ff9-46c9-d1db-b022d9204b86"
      },
      "execution_count": null,
      "outputs": [
        {
          "output_type": "stream",
          "name": "stdout",
          "text": [
            "Iteration 10 : Loss 144.9673\n",
            "Iteration 20 : Loss 125.2670\n",
            "Iteration 30 : Loss 109.9426\n",
            "Iteration 40 : Loss 98.1611\n",
            "Iteration 50 : Loss 89.2058\n",
            "Iteration 60 : Loss 82.4637\n",
            "Iteration 70 : Loss 77.4196\n",
            "Iteration 80 : Loss 73.6525\n",
            "Iteration 90 : Loss 70.8294\n",
            "Iteration 100 : Loss 68.6949\n",
            "Iteration 110 : Loss 67.0585\n",
            "Iteration 120 : Loss 65.7811\n",
            "Iteration 130 : Loss 64.7631\n",
            "Iteration 140 : Loss 63.9334\n",
            "Iteration 150 : Loss 63.2419\n",
            "Iteration 160 : Loss 62.6534\n",
            "Iteration 170 : Loss 62.1429\n",
            "Iteration 180 : Loss 61.6927\n",
            "Iteration 190 : Loss 61.2900\n",
            "Iteration 200 : Loss 60.9258\n",
            "Iteration 210 : Loss 60.5932\n",
            "Iteration 220 : Loss 60.2872\n",
            "Iteration 230 : Loss 60.0039\n",
            "Iteration 240 : Loss 59.7403\n",
            "Iteration 250 : Loss 59.4940\n",
            "Iteration 260 : Loss 59.2631\n",
            "Iteration 270 : Loss 59.0461\n",
            "Iteration 280 : Loss 58.8415\n",
            "Iteration 290 : Loss 58.6483\n",
            "Iteration 300 : Loss 58.4654\n",
            "Iteration 310 : Loss 58.2920\n",
            "Iteration 320 : Loss 58.1274\n",
            "Iteration 330 : Loss 57.9708\n",
            "Iteration 340 : Loss 57.8217\n",
            "Iteration 350 : Loss 57.6796\n",
            "Iteration 360 : Loss 57.5439\n",
            "Iteration 370 : Loss 57.4143\n",
            "Iteration 380 : Loss 57.2904\n",
            "Iteration 390 : Loss 57.1717\n",
            "Iteration 400 : Loss 57.0580\n",
            "Iteration 410 : Loss 56.9490\n",
            "Iteration 420 : Loss 56.8444\n",
            "Iteration 430 : Loss 56.7440\n",
            "Iteration 440 : Loss 56.6475\n",
            "Iteration 450 : Loss 56.5548\n",
            "Iteration 460 : Loss 56.4656\n",
            "Iteration 470 : Loss 56.3797\n",
            "Iteration 480 : Loss 56.2970\n",
            "Iteration 490 : Loss 56.2174\n",
            "Iteration 500 : Loss 56.1407\n",
            "Iteration 510 : Loss 56.0668\n",
            "Iteration 520 : Loss 55.9955\n",
            "Iteration 530 : Loss 55.9267\n",
            "Iteration 540 : Loss 55.8603\n",
            "Iteration 550 : Loss 55.7963\n",
            "Iteration 560 : Loss 55.7344\n",
            "Iteration 570 : Loss 55.6747\n",
            "Iteration 580 : Loss 55.6171\n",
            "Iteration 590 : Loss 55.5614\n",
            "Iteration 600 : Loss 55.5075\n",
            "Iteration 610 : Loss 55.4555\n",
            "Iteration 620 : Loss 55.4053\n",
            "Iteration 630 : Loss 55.3567\n",
            "Iteration 640 : Loss 55.3097\n",
            "Iteration 650 : Loss 55.2643\n",
            "Iteration 660 : Loss 55.2204\n",
            "Iteration 670 : Loss 55.1779\n",
            "Iteration 680 : Loss 55.1368\n",
            "Iteration 690 : Loss 55.0970\n",
            "Iteration 700 : Loss 55.0586\n",
            "Iteration 710 : Loss 55.0214\n",
            "Iteration 720 : Loss 54.9854\n",
            "Iteration 730 : Loss 54.9505\n",
            "Iteration 740 : Loss 54.9168\n",
            "Iteration 750 : Loss 54.8842\n",
            "Iteration 760 : Loss 54.8526\n",
            "Iteration 770 : Loss 54.8220\n",
            "Iteration 780 : Loss 54.7924\n",
            "Iteration 790 : Loss 54.7637\n",
            "Iteration 800 : Loss 54.7360\n",
            "Iteration 810 : Loss 54.7091\n",
            "Iteration 820 : Loss 54.6831\n",
            "Iteration 830 : Loss 54.6579\n",
            "Iteration 840 : Loss 54.6335\n",
            "Iteration 850 : Loss 54.6098\n",
            "Iteration 860 : Loss 54.5869\n",
            "Iteration 870 : Loss 54.5647\n",
            "Iteration 880 : Loss 54.5432\n",
            "Iteration 890 : Loss 54.5224\n",
            "Iteration 900 : Loss 54.5023\n",
            "Iteration 910 : Loss 54.4827\n",
            "Iteration 920 : Loss 54.4638\n",
            "Iteration 930 : Loss 54.4454\n",
            "Iteration 940 : Loss 54.4277\n",
            "Iteration 950 : Loss 54.4104\n",
            "Iteration 960 : Loss 54.3937\n",
            "Iteration 970 : Loss 54.3776\n",
            "Iteration 980 : Loss 54.3619\n",
            "Iteration 990 : Loss 54.3467\n",
            "Iteration 1000 : Loss 54.3319\n"
          ]
        }
      ]
    },
    {
      "cell_type": "code",
      "source": [
        "import matplotlib.pyplot as plt\n",
        "plt.plot(losses)\n",
        "plt.show()"
      ],
      "metadata": {
        "colab": {
          "base_uri": "https://localhost:8080/",
          "height": 265
        },
        "id": "Bd5NbMhyyoDJ",
        "outputId": "8e697c09-8297-42ca-eefa-30d5f5e336b6"
      },
      "execution_count": null,
      "outputs": [
        {
          "output_type": "display_data",
          "data": {
            "text/plain": [
              "<Figure size 432x288 with 1 Axes>"
            ],
            "image/png": "[encoded data removed]"
          },
          "metadata": {
            "needs_background": "light"
          }
        }
      ]
    },
    {
      "cell_type": "code",
      "source": [
        "W, b, dw, db"
      ],
      "metadata": {
        "id": "mymZLJWJyxV0",
        "colab": {
          "base_uri": "https://localhost:8080/"
        },
        "outputId": "bdf13de1-73dd-42e4-f396-c7ad6bd7b07c"
      },
      "execution_count": null,
      "outputs": [
        {
          "output_type": "execute_result",
          "data": {
            "text/plain": [
              "(array([  19.45032924, -175.24861659,  455.74650396,  317.09164048,\n",
              "         -57.97048302,  -95.63191118, -212.8303758 ,  129.09796372,\n",
              "         338.84744904,  166.02913904]),\n",
              " 152.07224460407025,\n",
              " array([  2.8304882 ,  12.33484542, -12.84279978,  -7.22973172,\n",
              "          6.66274222,   7.16924062,   3.08068701,   0.85858048,\n",
              "         -8.14327741,   2.86429551]),\n",
              " 0.0039148079141195224)"
            ]
          },
          "metadata": {},
          "execution_count": 13
        }
      ]
    },
    {
      "cell_type": "markdown",
      "source": [
        "## 10. test데이터에 대한 성능 확인하기"
      ],
      "metadata": {
        "id": "xzIQYt3skfg-"
      }
    },
    {
      "cell_type": "code",
      "source": [
        "#test 데이터에 대학 예측값의 손실이 얼마나 큰지 측정\n",
        "prediction = model(X_test, W, b)\n",
        "mse = loss(X_test, W, b, y_test)\n",
        "mse"
      ],
      "metadata": {
        "id": "nFs2hqnTzFmR",
        "colab": {
          "base_uri": "https://localhost:8080/"
        },
        "outputId": "954585f9-cfb5-49af-d0d4-b6387ecdc12e"
      },
      "execution_count": null,
      "outputs": [
        {
          "output_type": "execute_result",
          "data": {
            "text/plain": [
              "53.766467708478395"
            ]
          },
          "metadata": {},
          "execution_count": 14
        }
      ]
    },
    {
      "cell_type": "markdown",
      "source": [
        "## 11. 정답 데이터와 예측한 데이터 시각화 하기"
      ],
      "metadata": {
        "id": "yHQM0cWwklei"
      }
    },
    {
      "cell_type": "code",
      "source": [
        "plt.scatter(X_test[:,0], y_test)  #X_test[:,0] -> 모든 행에 대해서 나이부분 값\n",
        "plt.scatter(X_test[:,0], prediction)\n",
        "plt.show()"
      ],
      "metadata": {
        "colab": {
          "base_uri": "https://localhost:8080/",
          "height": 265
        },
        "id": "32mOEMq15nUW",
        "outputId": "8cd9b8b7-3580-456d-e55e-0060bf7c3820"
      },
      "execution_count": null,
      "outputs": [
        {
          "output_type": "display_data",
          "data": {
            "text/plain": [
              "<Figure size 432x288 with 1 Axes>"
            ],
            "image/png": "[encoded data removed]"
          },
          "metadata": {
            "needs_background": "light"
          }
        }
      ]
    },
    {
      "cell_type": "markdown",
      "source": [
        "# 자전거 타는 사람 수 예측"
      ],
      "metadata": {
        "id": "4DxzdVHvknz5"
      }
    },
    {
      "cell_type": "markdown",
      "source": [
        "## 1. 데이터 가져오기"
      ],
      "metadata": {
        "id": "QRpV7DaqlACu"
      }
    },
    {
      "cell_type": "code",
      "source": [
        "import pandas as pd\n",
        "import numpy as np\n",
        "\n",
        "data_path = '/content/drive/MyDrive/캐글_필사/.kaggle/'\n",
        "\n",
        "train = pd.read_csv(data_path + 'train.csv')\n",
        "test = pd.read_csv(data_path + 'test.csv')\n"
      ],
      "metadata": {
        "id": "h2W3rsQfl2VK"
      },
      "execution_count": null,
      "outputs": []
    },
    {
      "cell_type": "code",
      "source": [
        "train.head()"
      ],
      "metadata": {
        "colab": {
          "base_uri": "https://localhost:8080/",
          "height": 206
        },
        "id": "4ErwjYJXmmgC",
        "outputId": "d7ae5187-e972-4f40-df4a-0a8040f13686"
      },
      "execution_count": null,
      "outputs": [
        {
          "output_type": "execute_result",
          "data": {
            "text/plain": [
              "              datetime  season  holiday  workingday  weather  temp   atemp  \\\n",
              "0  2011-01-01 00:00:00       1        0           0        1  9.84  14.395   \n",
              "1  2011-01-01 01:00:00       1        0           0        1  9.02  13.635   \n",
              "2  2011-01-01 02:00:00       1        0           0        1  9.02  13.635   \n",
              "3  2011-01-01 03:00:00       1        0           0        1  9.84  14.395   \n",
              "4  2011-01-01 04:00:00       1        0           0        1  9.84  14.395   \n",
              "\n",
              "   humidity  windspeed  casual  registered  count  \n",
              "0        81        0.0       3          13     16  \n",
              "1        80        0.0       8          32     40  \n",
              "2        80        0.0       5          27     32  \n",
              "3        75        0.0       3          10     13  \n",
              "4        75        0.0       0           1      1  "
            ],
            "text/html": [
              "\n",
              "  <div id=\"df-ae6b148d-b9e3-4157-b9c9-7bdf2a8188bd\">\n",
              "    <div class=\"colab-df-container\">\n",
              "      <div>\n",
              "<style scoped>\n",
              "    .dataframe tbody tr th:only-of-type {\n",
              "        vertical-align: middle;\n",
              "    }\n",
              "\n",
              "    .dataframe tbody tr th {\n",
              "        vertical-align: top;\n",
              "    }\n",
              "\n",
              "    .dataframe thead th {\n",
              "        text-align: right;\n",
              "    }\n",
              "</style>\n",
              "<table border=\"1\" class=\"dataframe\">\n",
              "  <thead>\n",
              "    <tr style=\"text-align: right;\">\n",
              "      <th></th>\n",
              "      <th>datetime</th>\n",
              "      <th>season</th>\n",
              "      <th>holiday</th>\n",
              "      <th>workingday</th>\n",
              "      <th>weather</th>\n",
              "      <th>temp</th>\n",
              "      <th>atemp</th>\n",
              "      <th>humidity</th>\n",
              "      <th>windspeed</th>\n",
              "      <th>casual</th>\n",
              "      <th>registered</th>\n",
              "      <th>count</th>\n",
              "    </tr>\n",
              "  </thead>\n",
              "  <tbody>\n",
              "    <tr>\n",
              "      <th>0</th>\n",
              "      <td>2011-01-01 00:00:00</td>\n",
              "      <td>1</td>\n",
              "      <td>0</td>\n",
              "      <td>0</td>\n",
              "      <td>1</td>\n",
              "      <td>9.84</td>\n",
              "      <td>14.395</td>\n",
              "      <td>81</td>\n",
              "      <td>0.0</td>\n",
              "      <td>3</td>\n",
              "      <td>13</td>\n",
              "      <td>16</td>\n",
              "    </tr>\n",
              "    <tr>\n",
              "      <th>1</th>\n",
              "      <td>2011-01-01 01:00:00</td>\n",
              "      <td>1</td>\n",
              "      <td>0</td>\n",
              "      <td>0</td>\n",
              "      <td>1</td>\n",
              "      <td>9.02</td>\n",
              "      <td>13.635</td>\n",
              "      <td>80</td>\n",
              "      <td>0.0</td>\n",
              "      <td>8</td>\n",
              "      <td>32</td>\n",
              "      <td>40</td>\n",
              "    </tr>\n",
              "    <tr>\n",
              "      <th>2</th>\n",
              "      <td>2011-01-01 02:00:00</td>\n",
              "      <td>1</td>\n",
              "      <td>0</td>\n",
              "      <td>0</td>\n",
              "      <td>1</td>\n",
              "      <td>9.02</td>\n",
              "      <td>13.635</td>\n",
              "      <td>80</td>\n",
              "      <td>0.0</td>\n",
              "      <td>5</td>\n",
              "      <td>27</td>\n",
              "      <td>32</td>\n",
              "    </tr>\n",
              "    <tr>\n",
              "      <th>3</th>\n",
              "      <td>2011-01-01 03:00:00</td>\n",
              "      <td>1</td>\n",
              "      <td>0</td>\n",
              "      <td>0</td>\n",
              "      <td>1</td>\n",
              "      <td>9.84</td>\n",
              "      <td>14.395</td>\n",
              "      <td>75</td>\n",
              "      <td>0.0</td>\n",
              "      <td>3</td>\n",
              "      <td>10</td>\n",
              "      <td>13</td>\n",
              "    </tr>\n",
              "    <tr>\n",
              "      <th>4</th>\n",
              "      <td>2011-01-01 04:00:00</td>\n",
              "      <td>1</td>\n",
              "      <td>0</td>\n",
              "      <td>0</td>\n",
              "      <td>1</td>\n",
              "      <td>9.84</td>\n",
              "      <td>14.395</td>\n",
              "      <td>75</td>\n",
              "      <td>0.0</td>\n",
              "      <td>0</td>\n",
              "      <td>1</td>\n",
              "      <td>1</td>\n",
              "    </tr>\n",
              "  </tbody>\n",
              "</table>\n",
              "</div>\n",
              "      <button class=\"colab-df-convert\" onclick=\"convertToInteractive('df-ae6b148d-b9e3-4157-b9c9-7bdf2a8188bd')\"\n",
              "              title=\"Convert this dataframe to an interactive table.\"\n",
              "              style=\"display:none;\">\n",
              "        \n",
              "  <svg xmlns=\"http://www.w3.org/2000/svg\" height=\"24px\"viewBox=\"0 0 24 24\"\n",
              "       width=\"24px\">\n",
              "    <path d=\"M0 0h24v24H0V0z\" fill=\"none\"/>\n",
              "    <path d=\"M18.56 5.44l.94 2.06.94-2.06 2.06-.94-2.06-.94-.94-2.06-.94 2.06-2.06.94zm-11 1L8.5 8.5l.94-2.06 2.06-.94-2.06-.94L8.5 2.5l-.94 2.06-2.06.94zm10 10l.94 2.06.94-2.06 2.06-.94-2.06-.94-.94-2.06-.94 2.06-2.06.94z\"/><path d=\"M17.41 7.96l-1.37-1.37c-.4-.4-.92-.59-1.43-.59-.52 0-1.04.2-1.43.59L10.3 9.45l-7.72 7.72c-.78.78-.78 2.05 0 2.83L4 21.41c.39.39.9.59 1.41.59.51 0 1.02-.2 1.41-.59l7.78-7.78 2.81-2.81c.8-.78.8-2.07 0-2.86zM5.41 20L4 18.59l7.72-7.72 1.47 1.35L5.41 20z\"/>\n",
              "  </svg>\n",
              "      </button>\n",
              "      \n",
              "  <style>\n",
              "    .colab-df-container {\n",
              "      display:flex;\n",
              "      flex-wrap:wrap;\n",
              "      gap: 12px;\n",
              "    }\n",
              "\n",
              "    .colab-df-convert {\n",
              "      background-color: #E8F0FE;\n",
              "      border: none;\n",
              "      border-radius: 50%;\n",
              "      cursor: pointer;\n",
              "      display: none;\n",
              "      fill: #1967D2;\n",
              "      height: 32px;\n",
              "      padding: 0 0 0 0;\n",
              "      width: 32px;\n",
              "    }\n",
              "\n",
              "    .colab-df-convert:hover {\n",
              "      background-color: #E2EBFA;\n",
              "      box-shadow: 0px 1px 2px rgba(60, 64, 67, 0.3), 0px 1px 3px 1px rgba(60, 64, 67, 0.15);\n",
              "      fill: #174EA6;\n",
              "    }\n",
              "\n",
              "    [theme=dark] .colab-df-convert {\n",
              "      background-color: #3B4455;\n",
              "      fill: #D2E3FC;\n",
              "    }\n",
              "\n",
              "    [theme=dark] .colab-df-convert:hover {\n",
              "      background-color: #434B5C;\n",
              "      box-shadow: 0px 1px 3px 1px rgba(0, 0, 0, 0.15);\n",
              "      filter: drop-shadow(0px 1px 2px rgba(0, 0, 0, 0.3));\n",
              "      fill: #FFFFFF;\n",
              "    }\n",
              "  </style>\n",
              "\n",
              "      <script>\n",
              "        const buttonEl =\n",
              "          document.querySelector('#df-ae6b148d-b9e3-4157-b9c9-7bdf2a8188bd button.colab-df-convert');\n",
              "        buttonEl.style.display =\n",
              "          google.colab.kernel.accessAllowed ? 'block' : 'none';\n",
              "\n",
              "        async function convertToInteractive(key) {\n",
              "          const element = document.querySelector('#df-ae6b148d-b9e3-4157-b9c9-7bdf2a8188bd');\n",
              "          const dataTable =\n",
              "            await google.colab.kernel.invokeFunction('convertToInteractive',\n",
              "                                                     [key], {});\n",
              "          if (!dataTable) return;\n",
              "\n",
              "          const docLinkHtml = 'Like what you see? Visit the ' +\n",
              "            '<a target=\"_blank\" href=https://colab.research.google.com/notebooks/data_table.ipynb>data table notebook</a>'\n",
              "            + ' to learn more about interactive tables.';\n",
              "          element.innerHTML = '';\n",
              "          dataTable['output_type'] = 'display_data';\n",
              "          await google.colab.output.renderOutput(dataTable, element);\n",
              "          const docLink = document.createElement('div');\n",
              "          docLink.innerHTML = docLinkHtml;\n",
              "          element.appendChild(docLink);\n",
              "        }\n",
              "      </script>\n",
              "    </div>\n",
              "  </div>\n",
              "  "
            ]
          },
          "metadata": {},
          "execution_count": 8
        }
      ]
    },
    {
      "cell_type": "code",
      "source": [
        "test.head()"
      ],
      "metadata": {
        "colab": {
          "base_uri": "https://localhost:8080/",
          "height": 206
        },
        "id": "YJ7HaO2ompX7",
        "outputId": "b2173444-24bb-4d3d-f7b0-ab979971d6c0"
      },
      "execution_count": null,
      "outputs": [
        {
          "output_type": "execute_result",
          "data": {
            "text/plain": [
              "              datetime  season  holiday  workingday  weather   temp   atemp  \\\n",
              "0  2011-01-20 00:00:00       1        0           1        1  10.66  11.365   \n",
              "1  2011-01-20 01:00:00       1        0           1        1  10.66  13.635   \n",
              "2  2011-01-20 02:00:00       1        0           1        1  10.66  13.635   \n",
              "3  2011-01-20 03:00:00       1        0           1        1  10.66  12.880   \n",
              "4  2011-01-20 04:00:00       1        0           1        1  10.66  12.880   \n",
              "\n",
              "   humidity  windspeed  \n",
              "0        56    26.0027  \n",
              "1        56     0.0000  \n",
              "2        56     0.0000  \n",
              "3        56    11.0014  \n",
              "4        56    11.0014  "
            ],
            "text/html": [
              "\n",
              "  <div id=\"df-1f0dff34-380a-4e96-8ba6-3e3638ba8e6c\">\n",
              "    <div class=\"colab-df-container\">\n",
              "      <div>\n",
              "<style scoped>\n",
              "    .dataframe tbody tr th:only-of-type {\n",
              "        vertical-align: middle;\n",
              "    }\n",
              "\n",
              "    .dataframe tbody tr th {\n",
              "        vertical-align: top;\n",
              "    }\n",
              "\n",
              "    .dataframe thead th {\n",
              "        text-align: right;\n",
              "    }\n",
              "</style>\n",
              "<table border=\"1\" class=\"dataframe\">\n",
              "  <thead>\n",
              "    <tr style=\"text-align: right;\">\n",
              "      <th></th>\n",
              "      <th>datetime</th>\n",
              "      <th>season</th>\n",
              "      <th>holiday</th>\n",
              "      <th>workingday</th>\n",
              "      <th>weather</th>\n",
              "      <th>temp</th>\n",
              "      <th>atemp</th>\n",
              "      <th>humidity</th>\n",
              "      <th>windspeed</th>\n",
              "    </tr>\n",
              "  </thead>\n",
              "  <tbody>\n",
              "    <tr>\n",
              "      <th>0</th>\n",
              "      <td>2011-01-20 00:00:00</td>\n",
              "      <td>1</td>\n",
              "      <td>0</td>\n",
              "      <td>1</td>\n",
              "      <td>1</td>\n",
              "      <td>10.66</td>\n",
              "      <td>11.365</td>\n",
              "      <td>56</td>\n",
              "      <td>26.0027</td>\n",
              "    </tr>\n",
              "    <tr>\n",
              "      <th>1</th>\n",
              "      <td>2011-01-20 01:00:00</td>\n",
              "      <td>1</td>\n",
              "      <td>0</td>\n",
              "      <td>1</td>\n",
              "      <td>1</td>\n",
              "      <td>10.66</td>\n",
              "      <td>13.635</td>\n",
              "      <td>56</td>\n",
              "      <td>0.0000</td>\n",
              "    </tr>\n",
              "    <tr>\n",
              "      <th>2</th>\n",
              "      <td>2011-01-20 02:00:00</td>\n",
              "      <td>1</td>\n",
              "      <td>0</td>\n",
              "      <td>1</td>\n",
              "      <td>1</td>\n",
              "      <td>10.66</td>\n",
              "      <td>13.635</td>\n",
              "      <td>56</td>\n",
              "      <td>0.0000</td>\n",
              "    </tr>\n",
              "    <tr>\n",
              "      <th>3</th>\n",
              "      <td>2011-01-20 03:00:00</td>\n",
              "      <td>1</td>\n",
              "      <td>0</td>\n",
              "      <td>1</td>\n",
              "      <td>1</td>\n",
              "      <td>10.66</td>\n",
              "      <td>12.880</td>\n",
              "      <td>56</td>\n",
              "      <td>11.0014</td>\n",
              "    </tr>\n",
              "    <tr>\n",
              "      <th>4</th>\n",
              "      <td>2011-01-20 04:00:00</td>\n",
              "      <td>1</td>\n",
              "      <td>0</td>\n",
              "      <td>1</td>\n",
              "      <td>1</td>\n",
              "      <td>10.66</td>\n",
              "      <td>12.880</td>\n",
              "      <td>56</td>\n",
              "      <td>11.0014</td>\n",
              "    </tr>\n",
              "  </tbody>\n",
              "</table>\n",
              "</div>\n",
              "      <button class=\"colab-df-convert\" onclick=\"convertToInteractive('df-1f0dff34-380a-4e96-8ba6-3e3638ba8e6c')\"\n",
              "              title=\"Convert this dataframe to an interactive table.\"\n",
              "              style=\"display:none;\">\n",
              "        \n",
              "  <svg xmlns=\"http://www.w3.org/2000/svg\" height=\"24px\"viewBox=\"0 0 24 24\"\n",
              "       width=\"24px\">\n",
              "    <path d=\"M0 0h24v24H0V0z\" fill=\"none\"/>\n",
              "    <path d=\"M18.56 5.44l.94 2.06.94-2.06 2.06-.94-2.06-.94-.94-2.06-.94 2.06-2.06.94zm-11 1L8.5 8.5l.94-2.06 2.06-.94-2.06-.94L8.5 2.5l-.94 2.06-2.06.94zm10 10l.94 2.06.94-2.06 2.06-.94-2.06-.94-.94-2.06-.94 2.06-2.06.94z\"/><path d=\"M17.41 7.96l-1.37-1.37c-.4-.4-.92-.59-1.43-.59-.52 0-1.04.2-1.43.59L10.3 9.45l-7.72 7.72c-.78.78-.78 2.05 0 2.83L4 21.41c.39.39.9.59 1.41.59.51 0 1.02-.2 1.41-.59l7.78-7.78 2.81-2.81c.8-.78.8-2.07 0-2.86zM5.41 20L4 18.59l7.72-7.72 1.47 1.35L5.41 20z\"/>\n",
              "  </svg>\n",
              "      </button>\n",
              "      \n",
              "  <style>\n",
              "    .colab-df-container {\n",
              "      display:flex;\n",
              "      flex-wrap:wrap;\n",
              "      gap: 12px;\n",
              "    }\n",
              "\n",
              "    .colab-df-convert {\n",
              "      background-color: #E8F0FE;\n",
              "      border: none;\n",
              "      border-radius: 50%;\n",
              "      cursor: pointer;\n",
              "      display: none;\n",
              "      fill: #1967D2;\n",
              "      height: 32px;\n",
              "      padding: 0 0 0 0;\n",
              "      width: 32px;\n",
              "    }\n",
              "\n",
              "    .colab-df-convert:hover {\n",
              "      background-color: #E2EBFA;\n",
              "      box-shadow: 0px 1px 2px rgba(60, 64, 67, 0.3), 0px 1px 3px 1px rgba(60, 64, 67, 0.15);\n",
              "      fill: #174EA6;\n",
              "    }\n",
              "\n",
              "    [theme=dark] .colab-df-convert {\n",
              "      background-color: #3B4455;\n",
              "      fill: #D2E3FC;\n",
              "    }\n",
              "\n",
              "    [theme=dark] .colab-df-convert:hover {\n",
              "      background-color: #434B5C;\n",
              "      box-shadow: 0px 1px 3px 1px rgba(0, 0, 0, 0.15);\n",
              "      filter: drop-shadow(0px 1px 2px rgba(0, 0, 0, 0.3));\n",
              "      fill: #FFFFFF;\n",
              "    }\n",
              "  </style>\n",
              "\n",
              "      <script>\n",
              "        const buttonEl =\n",
              "          document.querySelector('#df-1f0dff34-380a-4e96-8ba6-3e3638ba8e6c button.colab-df-convert');\n",
              "        buttonEl.style.display =\n",
              "          google.colab.kernel.accessAllowed ? 'block' : 'none';\n",
              "\n",
              "        async function convertToInteractive(key) {\n",
              "          const element = document.querySelector('#df-1f0dff34-380a-4e96-8ba6-3e3638ba8e6c');\n",
              "          const dataTable =\n",
              "            await google.colab.kernel.invokeFunction('convertToInteractive',\n",
              "                                                     [key], {});\n",
              "          if (!dataTable) return;\n",
              "\n",
              "          const docLinkHtml = 'Like what you see? Visit the ' +\n",
              "            '<a target=\"_blank\" href=https://colab.research.google.com/notebooks/data_table.ipynb>data table notebook</a>'\n",
              "            + ' to learn more about interactive tables.';\n",
              "          element.innerHTML = '';\n",
              "          dataTable['output_type'] = 'display_data';\n",
              "          await google.colab.output.renderOutput(dataTable, element);\n",
              "          const docLink = document.createElement('div');\n",
              "          docLink.innerHTML = docLinkHtml;\n",
              "          element.appendChild(docLink);\n",
              "        }\n",
              "      </script>\n",
              "    </div>\n",
              "  </div>\n",
              "  "
            ]
          },
          "metadata": {},
          "execution_count": 9
        }
      ]
    },
    {
      "cell_type": "code",
      "source": [
        "train.info()"
      ],
      "metadata": {
        "colab": {
          "base_uri": "https://localhost:8080/"
        },
        "id": "RJLFuzoxongf",
        "outputId": "3e2a3e1d-8a31-46fb-9623-e2ce05f682c1"
      },
      "execution_count": null,
      "outputs": [
        {
          "output_type": "stream",
          "name": "stdout",
          "text": [
            "<class 'pandas.core.frame.DataFrame'>\n",
            "RangeIndex: 10886 entries, 0 to 10885\n",
            "Data columns (total 12 columns):\n",
            " #   Column      Non-Null Count  Dtype  \n",
            "---  ------      --------------  -----  \n",
            " 0   datetime    10886 non-null  object \n",
            " 1   season      10886 non-null  int64  \n",
            " 2   holiday     10886 non-null  int64  \n",
            " 3   workingday  10886 non-null  int64  \n",
            " 4   weather     10886 non-null  int64  \n",
            " 5   temp        10886 non-null  float64\n",
            " 6   atemp       10886 non-null  float64\n",
            " 7   humidity    10886 non-null  int64  \n",
            " 8   windspeed   10886 non-null  float64\n",
            " 9   casual      10886 non-null  int64  \n",
            " 10  registered  10886 non-null  int64  \n",
            " 11  count       10886 non-null  int64  \n",
            "dtypes: float64(3), int64(8), object(1)\n",
            "memory usage: 1020.7+ KB\n"
          ]
        }
      ]
    },
    {
      "cell_type": "markdown",
      "source": [
        "## 2. datatime 컬럼을 datetime 자료형으로 변환하고 연,월,일,시,분,초 6개의 칼럼 생성하기"
      ],
      "metadata": {
        "id": "Tzx293fxlCD0"
      }
    },
    {
      "cell_type": "code",
      "source": [
        "train['date'] = train['datetime'].apply(lambda x : x.split()[0]) \n",
        "\n",
        "train['year'] = train['datetime'].apply(lambda x : x.split()[0].split('-')[0])\n",
        "train['month'] = train['datetime'].apply(lambda x : x.split()[0].split('-')[1])\n",
        "train['day'] = train['datetime'].apply(lambda x : x.split()[0].split('-')[2])\n",
        "train['hour'] = train['datetime'].apply(lambda x : x.split()[1].split(':')[0])\n",
        "train['minute'] = train['datetime'].apply(lambda x : x.split()[1].split(':')[1])\n",
        "train['second'] = train['datetime'].apply(lambda x : x.split()[1].split(':')[2])\n",
        "\n",
        "train.head()"
      ],
      "metadata": {
        "id": "yuFOX_zVl2kL",
        "colab": {
          "base_uri": "https://localhost:8080/",
          "height": 357
        },
        "outputId": "3a6a43ba-4217-4986-a4d0-3e66bcab119c"
      },
      "execution_count": null,
      "outputs": [
        {
          "output_type": "execute_result",
          "data": {
            "text/plain": [
              "              datetime  season  holiday  workingday  weather  temp   atemp  \\\n",
              "0  2011-01-01 00:00:00       1        0           0        1  9.84  14.395   \n",
              "1  2011-01-01 01:00:00       1        0           0        1  9.02  13.635   \n",
              "2  2011-01-01 02:00:00       1        0           0        1  9.02  13.635   \n",
              "3  2011-01-01 03:00:00       1        0           0        1  9.84  14.395   \n",
              "4  2011-01-01 04:00:00       1        0           0        1  9.84  14.395   \n",
              "\n",
              "   humidity  windspeed  casual  registered  count        date  year month day  \\\n",
              "0        81        0.0       3          13     16  2011-01-01  2011    01  01   \n",
              "1        80        0.0       8          32     40  2011-01-01  2011    01  01   \n",
              "2        80        0.0       5          27     32  2011-01-01  2011    01  01   \n",
              "3        75        0.0       3          10     13  2011-01-01  2011    01  01   \n",
              "4        75        0.0       0           1      1  2011-01-01  2011    01  01   \n",
              "\n",
              "  hour minute second  \n",
              "0   00     00     00  \n",
              "1   01     00     00  \n",
              "2   02     00     00  \n",
              "3   03     00     00  \n",
              "4   04     00     00  "
            ],
            "text/html": [
              "\n",
              "  <div id=\"df-dffd9881-6b71-4b64-ba42-0491b1c4439c\">\n",
              "    <div class=\"colab-df-container\">\n",
              "      <div>\n",
              "<style scoped>\n",
              "    .dataframe tbody tr th:only-of-type {\n",
              "        vertical-align: middle;\n",
              "    }\n",
              "\n",
              "    .dataframe tbody tr th {\n",
              "        vertical-align: top;\n",
              "    }\n",
              "\n",
              "    .dataframe thead th {\n",
              "        text-align: right;\n",
              "    }\n",
              "</style>\n",
              "<table border=\"1\" class=\"dataframe\">\n",
              "  <thead>\n",
              "    <tr style=\"text-align: right;\">\n",
              "      <th></th>\n",
              "      <th>datetime</th>\n",
              "      <th>season</th>\n",
              "      <th>holiday</th>\n",
              "      <th>workingday</th>\n",
              "      <th>weather</th>\n",
              "      <th>temp</th>\n",
              "      <th>atemp</th>\n",
              "      <th>humidity</th>\n",
              "      <th>windspeed</th>\n",
              "      <th>casual</th>\n",
              "      <th>registered</th>\n",
              "      <th>count</th>\n",
              "      <th>date</th>\n",
              "      <th>year</th>\n",
              "      <th>month</th>\n",
              "      <th>day</th>\n",
              "      <th>hour</th>\n",
              "      <th>minute</th>\n",
              "      <th>second</th>\n",
              "    </tr>\n",
              "  </thead>\n",
              "  <tbody>\n",
              "    <tr>\n",
              "      <th>0</th>\n",
              "      <td>2011-01-01 00:00:00</td>\n",
              "      <td>1</td>\n",
              "      <td>0</td>\n",
              "      <td>0</td>\n",
              "      <td>1</td>\n",
              "      <td>9.84</td>\n",
              "      <td>14.395</td>\n",
              "      <td>81</td>\n",
              "      <td>0.0</td>\n",
              "      <td>3</td>\n",
              "      <td>13</td>\n",
              "      <td>16</td>\n",
              "      <td>2011-01-01</td>\n",
              "      <td>2011</td>\n",
              "      <td>01</td>\n",
              "      <td>01</td>\n",
              "      <td>00</td>\n",
              "      <td>00</td>\n",
              "      <td>00</td>\n",
              "    </tr>\n",
              "    <tr>\n",
              "      <th>1</th>\n",
              "      <td>2011-01-01 01:00:00</td>\n",
              "      <td>1</td>\n",
              "      <td>0</td>\n",
              "      <td>0</td>\n",
              "      <td>1</td>\n",
              "      <td>9.02</td>\n",
              "      <td>13.635</td>\n",
              "      <td>80</td>\n",
              "      <td>0.0</td>\n",
              "      <td>8</td>\n",
              "      <td>32</td>\n",
              "      <td>40</td>\n",
              "      <td>2011-01-01</td>\n",
              "      <td>2011</td>\n",
              "      <td>01</td>\n",
              "      <td>01</td>\n",
              "      <td>01</td>\n",
              "      <td>00</td>\n",
              "      <td>00</td>\n",
              "    </tr>\n",
              "    <tr>\n",
              "      <th>2</th>\n",
              "      <td>2011-01-01 02:00:00</td>\n",
              "      <td>1</td>\n",
              "      <td>0</td>\n",
              "      <td>0</td>\n",
              "      <td>1</td>\n",
              "      <td>9.02</td>\n",
              "      <td>13.635</td>\n",
              "      <td>80</td>\n",
              "      <td>0.0</td>\n",
              "      <td>5</td>\n",
              "      <td>27</td>\n",
              "      <td>32</td>\n",
              "      <td>2011-01-01</td>\n",
              "      <td>2011</td>\n",
              "      <td>01</td>\n",
              "      <td>01</td>\n",
              "      <td>02</td>\n",
              "      <td>00</td>\n",
              "      <td>00</td>\n",
              "    </tr>\n",
              "    <tr>\n",
              "      <th>3</th>\n",
              "      <td>2011-01-01 03:00:00</td>\n",
              "      <td>1</td>\n",
              "      <td>0</td>\n",
              "      <td>0</td>\n",
              "      <td>1</td>\n",
              "      <td>9.84</td>\n",
              "      <td>14.395</td>\n",
              "      <td>75</td>\n",
              "      <td>0.0</td>\n",
              "      <td>3</td>\n",
              "      <td>10</td>\n",
              "      <td>13</td>\n",
              "      <td>2011-01-01</td>\n",
              "      <td>2011</td>\n",
              "      <td>01</td>\n",
              "      <td>01</td>\n",
              "      <td>03</td>\n",
              "      <td>00</td>\n",
              "      <td>00</td>\n",
              "    </tr>\n",
              "    <tr>\n",
              "      <th>4</th>\n",
              "      <td>2011-01-01 04:00:00</td>\n",
              "      <td>1</td>\n",
              "      <td>0</td>\n",
              "      <td>0</td>\n",
              "      <td>1</td>\n",
              "      <td>9.84</td>\n",
              "      <td>14.395</td>\n",
              "      <td>75</td>\n",
              "      <td>0.0</td>\n",
              "      <td>0</td>\n",
              "      <td>1</td>\n",
              "      <td>1</td>\n",
              "      <td>2011-01-01</td>\n",
              "      <td>2011</td>\n",
              "      <td>01</td>\n",
              "      <td>01</td>\n",
              "      <td>04</td>\n",
              "      <td>00</td>\n",
              "      <td>00</td>\n",
              "    </tr>\n",
              "  </tbody>\n",
              "</table>\n",
              "</div>\n",
              "      <button class=\"colab-df-convert\" onclick=\"convertToInteractive('df-dffd9881-6b71-4b64-ba42-0491b1c4439c')\"\n",
              "              title=\"Convert this dataframe to an interactive table.\"\n",
              "              style=\"display:none;\">\n",
              "        \n",
              "  <svg xmlns=\"http://www.w3.org/2000/svg\" height=\"24px\"viewBox=\"0 0 24 24\"\n",
              "       width=\"24px\">\n",
              "    <path d=\"M0 0h24v24H0V0z\" fill=\"none\"/>\n",
              "    <path d=\"M18.56 5.44l.94 2.06.94-2.06 2.06-.94-2.06-.94-.94-2.06-.94 2.06-2.06.94zm-11 1L8.5 8.5l.94-2.06 2.06-.94-2.06-.94L8.5 2.5l-.94 2.06-2.06.94zm10 10l.94 2.06.94-2.06 2.06-.94-2.06-.94-.94-2.06-.94 2.06-2.06.94z\"/><path d=\"M17.41 7.96l-1.37-1.37c-.4-.4-.92-.59-1.43-.59-.52 0-1.04.2-1.43.59L10.3 9.45l-7.72 7.72c-.78.78-.78 2.05 0 2.83L4 21.41c.39.39.9.59 1.41.59.51 0 1.02-.2 1.41-.59l7.78-7.78 2.81-2.81c.8-.78.8-2.07 0-2.86zM5.41 20L4 18.59l7.72-7.72 1.47 1.35L5.41 20z\"/>\n",
              "  </svg>\n",
              "      </button>\n",
              "      \n",
              "  <style>\n",
              "    .colab-df-container {\n",
              "      display:flex;\n",
              "      flex-wrap:wrap;\n",
              "      gap: 12px;\n",
              "    }\n",
              "\n",
              "    .colab-df-convert {\n",
              "      background-color: #E8F0FE;\n",
              "      border: none;\n",
              "      border-radius: 50%;\n",
              "      cursor: pointer;\n",
              "      display: none;\n",
              "      fill: #1967D2;\n",
              "      height: 32px;\n",
              "      padding: 0 0 0 0;\n",
              "      width: 32px;\n",
              "    }\n",
              "\n",
              "    .colab-df-convert:hover {\n",
              "      background-color: #E2EBFA;\n",
              "      box-shadow: 0px 1px 2px rgba(60, 64, 67, 0.3), 0px 1px 3px 1px rgba(60, 64, 67, 0.15);\n",
              "      fill: #174EA6;\n",
              "    }\n",
              "\n",
              "    [theme=dark] .colab-df-convert {\n",
              "      background-color: #3B4455;\n",
              "      fill: #D2E3FC;\n",
              "    }\n",
              "\n",
              "    [theme=dark] .colab-df-convert:hover {\n",
              "      background-color: #434B5C;\n",
              "      box-shadow: 0px 1px 3px 1px rgba(0, 0, 0, 0.15);\n",
              "      filter: drop-shadow(0px 1px 2px rgba(0, 0, 0, 0.3));\n",
              "      fill: #FFFFFF;\n",
              "    }\n",
              "  </style>\n",
              "\n",
              "      <script>\n",
              "        const buttonEl =\n",
              "          document.querySelector('#df-dffd9881-6b71-4b64-ba42-0491b1c4439c button.colab-df-convert');\n",
              "        buttonEl.style.display =\n",
              "          google.colab.kernel.accessAllowed ? 'block' : 'none';\n",
              "\n",
              "        async function convertToInteractive(key) {\n",
              "          const element = document.querySelector('#df-dffd9881-6b71-4b64-ba42-0491b1c4439c');\n",
              "          const dataTable =\n",
              "            await google.colab.kernel.invokeFunction('convertToInteractive',\n",
              "                                                     [key], {});\n",
              "          if (!dataTable) return;\n",
              "\n",
              "          const docLinkHtml = 'Like what you see? Visit the ' +\n",
              "            '<a target=\"_blank\" href=https://colab.research.google.com/notebooks/data_table.ipynb>data table notebook</a>'\n",
              "            + ' to learn more about interactive tables.';\n",
              "          element.innerHTML = '';\n",
              "          dataTable['output_type'] = 'display_data';\n",
              "          await google.colab.output.renderOutput(dataTable, element);\n",
              "          const docLink = document.createElement('div');\n",
              "          docLink.innerHTML = docLinkHtml;\n",
              "          element.appendChild(docLink);\n",
              "        }\n",
              "      </script>\n",
              "    </div>\n",
              "  </div>\n",
              "  "
            ]
          },
          "metadata": {},
          "execution_count": 11
        }
      ]
    },
    {
      "cell_type": "markdown",
      "source": [
        "## 3. year, month, day, hour, minute, second 데이터 개수 시각화하기\n",
        "\n",
        "\n"
      ],
      "metadata": {
        "id": "aMYECApUlMu5"
      }
    },
    {
      "cell_type": "code",
      "source": [
        "import matplotlib.pyplot as plt\n",
        "import seaborn as sns\n",
        "import matplotlib as mpl \n",
        "\n",
        "%matplotlib inline\n",
        "\n",
        "f, ax = plt.subplots(2, 3, figsize = (20, 18))\n",
        "sns.barplot(x=train['year'], y=train['count'], ax=ax[0,0])\n",
        "sns.barplot(x=train['month'], y=train['count'], ax=ax[0,1])\n",
        "sns.barplot(x=train['day'], y=train['count'], ax=ax[0,2])\n",
        "sns.barplot(x=train['hour'], y=train['count'], ax=ax[1,0])\n",
        "sns.barplot(x=train['minute'], y=train['count'], ax=ax[1,1])\n",
        "sns.barplot(x=train['second'], y=train['count'], ax=ax[1,2])"
      ],
      "metadata": {
        "id": "mHEzojeDl1DM",
        "colab": {
          "base_uri": "https://localhost:8080/",
          "height": 924
        },
        "outputId": "341b90f4-a683-4d7f-b9e7-55e50d48a633"
      },
      "execution_count": null,
      "outputs": [
        {
          "output_type": "execute_result",
          "data": {
            "text/plain": [
              "<matplotlib.axes._subplots.AxesSubplot at 0x7f9406ca7550>"
            ]
          },
          "metadata": {},
          "execution_count": 12
        },
        {
          "output_type": "display_data",
          "data": {
            "text/plain": [
              "<Figure size 1440x1296 with 6 Axes>"
            ],
            "image/png": "[encoded data removed]"
          },
          "metadata": {
            "needs_background": "light"
          }
        }
      ]
    },
    {
      "cell_type": "code",
      "source": [
        "sns.heatmap(train.corr(), annot=True, cmap='RdYlGn', linewidths=0.2)\n",
        "fig = plt.gcf()\n",
        "fig.set_size_inches(10,8)\n",
        "plt.show()"
      ],
      "metadata": {
        "colab": {
          "base_uri": "https://localhost:8080/",
          "height": 535
        },
        "id": "ZuZbU1DW_ZVv",
        "outputId": "456d7c3d-f300-48d8-c9b2-cfff36cce5b4"
      },
      "execution_count": null,
      "outputs": [
        {
          "output_type": "display_data",
          "data": {
            "text/plain": [
              "<Figure size 720x576 with 2 Axes>"
            ],
            "image/png": "[encoded data removed]"
          },
          "metadata": {
            "needs_background": "light"
          }
        }
      ]
    },
    {
      "cell_type": "markdown",
      "source": [
        "- temp와 atemp의 상관관계가 0.98이라 두 데이터 모두는 필요 없어보임\n",
        "- temp나 atemp만 써도 될 것 같다."
      ],
      "metadata": {
        "id": "XxYPMl0dBoVV"
      }
    },
    {
      "cell_type": "code",
      "source": [
        "#temp 구간나누기\n",
        "train['temp_band'] = pd.qcut(train['temp'], 4)\n",
        "train.groupby(['temp_band'])['count'].mean().to_frame().style.background_gradient(cmap='summer_r')"
      ],
      "metadata": {
        "colab": {
          "base_uri": "https://localhost:8080/",
          "height": 206
        },
        "id": "4C83Dc6ZAL9q",
        "outputId": "c3693a02-6e6e-4b1e-e7ad-5e78b6e1317e"
      },
      "execution_count": null,
      "outputs": [
        {
          "output_type": "execute_result",
          "data": {
            "text/plain": [
              "<pandas.io.formats.style.Styler at 0x7f9406547e90>"
            ],
            "text/html": [
              "<style type=\"text/css\">\n",
              "#T_c52de_row0_col0 {\n",
              "  background-color: #ffff66;\n",
              "  color: #000000;\n",
              "}\n",
              "#T_c52de_row1_col0 {\n",
              "  background-color: #9ece66;\n",
              "  color: #000000;\n",
              "}\n",
              "#T_c52de_row2_col0 {\n",
              "  background-color: #60b066;\n",
              "  color: #f1f1f1;\n",
              "}\n",
              "#T_c52de_row3_col0 {\n",
              "  background-color: #008066;\n",
              "  color: #f1f1f1;\n",
              "}\n",
              "</style>\n",
              "<table id=\"T_c52de_\" class=\"dataframe\">\n",
              "  <thead>\n",
              "    <tr>\n",
              "      <th class=\"blank level0\" >&nbsp;</th>\n",
              "      <th class=\"col_heading level0 col0\" >count</th>\n",
              "    </tr>\n",
              "    <tr>\n",
              "      <th class=\"index_name level0\" >temp_band</th>\n",
              "      <th class=\"blank col0\" >&nbsp;</th>\n",
              "    </tr>\n",
              "  </thead>\n",
              "  <tbody>\n",
              "    <tr>\n",
              "      <th id=\"T_c52de_level0_row0\" class=\"row_heading level0 row0\" >(0.819, 13.94]</th>\n",
              "      <td id=\"T_c52de_row0_col0\" class=\"data row0 col0\" >103.200615</td>\n",
              "    </tr>\n",
              "    <tr>\n",
              "      <th id=\"T_c52de_level0_row1\" class=\"row_heading level0 row1\" >(13.94, 20.5]</th>\n",
              "      <td id=\"T_c52de_row1_col0\" class=\"data row1 col0\" >172.143595</td>\n",
              "    </tr>\n",
              "    <tr>\n",
              "      <th id=\"T_c52de_level0_row2\" class=\"row_heading level0 row2\" >(20.5, 26.24]</th>\n",
              "      <td id=\"T_c52de_row2_col0\" class=\"data row2 col0\" >216.393254</td>\n",
              "    </tr>\n",
              "    <tr>\n",
              "      <th id=\"T_c52de_level0_row3\" class=\"row_heading level0 row3\" >(26.24, 41.0]</th>\n",
              "      <td id=\"T_c52de_row3_col0\" class=\"data row3 col0\" >284.861469</td>\n",
              "    </tr>\n",
              "  </tbody>\n",
              "</table>\n"
            ]
          },
          "metadata": {},
          "execution_count": 14
        }
      ]
    },
    {
      "cell_type": "markdown",
      "source": [
        "- 머신러닝에 좀 더 편리하게 하기 위해 continous value인 temp를 categorical value로 변환해줌\n",
        "\n"
      ],
      "metadata": {
        "id": "9o7T-i1Jyzu6"
      }
    },
    {
      "cell_type": "code",
      "source": [
        "train['temp_cat'] = 0\n",
        "train.loc[train['temp']<=13.94, 'temp_cat'] = 0\n",
        "train.loc[(train['temp']>13.94)&(train['temp']<=20.5), 'temp_cat'] = 1\n",
        "train.loc[(train['temp']>20.5)&(train['temp']<=26.24), 'temp_cat'] = 2\n",
        "train.loc[(train['temp']>26.24)&(train['temp']<=41.0), 'temp_cat'] = 3"
      ],
      "metadata": {
        "id": "EdYexD8VB2kO"
      },
      "execution_count": null,
      "outputs": []
    },
    {
      "cell_type": "code",
      "source": [
        "sns.barplot(x=train['temp_cat'], y=train['count'])\n",
        "plt.show()"
      ],
      "metadata": {
        "colab": {
          "base_uri": "https://localhost:8080/",
          "height": 280
        },
        "id": "JF3qPAJ7Cvw_",
        "outputId": "b2a3c6af-9dea-44fb-ec8d-3251c8fc8f08"
      },
      "execution_count": null,
      "outputs": [
        {
          "output_type": "display_data",
          "data": {
            "text/plain": [
              "<Figure size 432x288 with 1 Axes>"
            ],
            "image/png": "[encoded data removed]"
          },
          "metadata": {
            "needs_background": "light"
          }
        }
      ]
    },
    {
      "cell_type": "markdown",
      "source": [
        "temp_cat이 커지며 count가 커지므로 학습에 쓸만한 데이터인것같다."
      ],
      "metadata": {
        "id": "hWbwBPRQGHLd"
      }
    },
    {
      "cell_type": "markdown",
      "source": [
        "- 필요없는 피처 없애기"
      ],
      "metadata": {
        "id": "jWz0wea9G5Pl"
      }
    },
    {
      "cell_type": "code",
      "source": [
        "train.head()"
      ],
      "metadata": {
        "colab": {
          "base_uri": "https://localhost:8080/",
          "height": 386
        },
        "id": "WbXruyKHGOMI",
        "outputId": "bbd7374e-9db7-4180-a4c4-3fc5ebb1d1f6"
      },
      "execution_count": null,
      "outputs": [
        {
          "output_type": "execute_result",
          "data": {
            "text/plain": [
              "              datetime  season  holiday  workingday  weather  temp   atemp  \\\n",
              "0  2011-01-01 00:00:00       1        0           0        1  9.84  14.395   \n",
              "1  2011-01-01 01:00:00       1        0           0        1  9.02  13.635   \n",
              "2  2011-01-01 02:00:00       1        0           0        1  9.02  13.635   \n",
              "3  2011-01-01 03:00:00       1        0           0        1  9.84  14.395   \n",
              "4  2011-01-01 04:00:00       1        0           0        1  9.84  14.395   \n",
              "\n",
              "   humidity  windspeed  casual  ...  count        date  year month day hour  \\\n",
              "0        81        0.0       3  ...     16  2011-01-01  2011    01  01   00   \n",
              "1        80        0.0       8  ...     40  2011-01-01  2011    01  01   01   \n",
              "2        80        0.0       5  ...     32  2011-01-01  2011    01  01   02   \n",
              "3        75        0.0       3  ...     13  2011-01-01  2011    01  01   03   \n",
              "4        75        0.0       0  ...      1  2011-01-01  2011    01  01   04   \n",
              "\n",
              "  minute second       temp_band temp_cat  \n",
              "0     00     00  (0.819, 13.94]        0  \n",
              "1     00     00  (0.819, 13.94]        0  \n",
              "2     00     00  (0.819, 13.94]        0  \n",
              "3     00     00  (0.819, 13.94]        0  \n",
              "4     00     00  (0.819, 13.94]        0  \n",
              "\n",
              "[5 rows x 21 columns]"
            ],
            "text/html": [
              "\n",
              "  <div id=\"df-3884d52b-8582-4a51-9775-06a69fb07460\">\n",
              "    <div class=\"colab-df-container\">\n",
              "      <div>\n",
              "<style scoped>\n",
              "    .dataframe tbody tr th:only-of-type {\n",
              "        vertical-align: middle;\n",
              "    }\n",
              "\n",
              "    .dataframe tbody tr th {\n",
              "        vertical-align: top;\n",
              "    }\n",
              "\n",
              "    .dataframe thead th {\n",
              "        text-align: right;\n",
              "    }\n",
              "</style>\n",
              "<table border=\"1\" class=\"dataframe\">\n",
              "  <thead>\n",
              "    <tr style=\"text-align: right;\">\n",
              "      <th></th>\n",
              "      <th>datetime</th>\n",
              "      <th>season</th>\n",
              "      <th>holiday</th>\n",
              "      <th>workingday</th>\n",
              "      <th>weather</th>\n",
              "      <th>temp</th>\n",
              "      <th>atemp</th>\n",
              "      <th>humidity</th>\n",
              "      <th>windspeed</th>\n",
              "      <th>casual</th>\n",
              "      <th>...</th>\n",
              "      <th>count</th>\n",
              "      <th>date</th>\n",
              "      <th>year</th>\n",
              "      <th>month</th>\n",
              "      <th>day</th>\n",
              "      <th>hour</th>\n",
              "      <th>minute</th>\n",
              "      <th>second</th>\n",
              "      <th>temp_band</th>\n",
              "      <th>temp_cat</th>\n",
              "    </tr>\n",
              "  </thead>\n",
              "  <tbody>\n",
              "    <tr>\n",
              "      <th>0</th>\n",
              "      <td>2011-01-01 00:00:00</td>\n",
              "      <td>1</td>\n",
              "      <td>0</td>\n",
              "      <td>0</td>\n",
              "      <td>1</td>\n",
              "      <td>9.84</td>\n",
              "      <td>14.395</td>\n",
              "      <td>81</td>\n",
              "      <td>0.0</td>\n",
              "      <td>3</td>\n",
              "      <td>...</td>\n",
              "      <td>16</td>\n",
              "      <td>2011-01-01</td>\n",
              "      <td>2011</td>\n",
              "      <td>01</td>\n",
              "      <td>01</td>\n",
              "      <td>00</td>\n",
              "      <td>00</td>\n",
              "      <td>00</td>\n",
              "      <td>(0.819, 13.94]</td>\n",
              "      <td>0</td>\n",
              "    </tr>\n",
              "    <tr>\n",
              "      <th>1</th>\n",
              "      <td>2011-01-01 01:00:00</td>\n",
              "      <td>1</td>\n",
              "      <td>0</td>\n",
              "      <td>0</td>\n",
              "      <td>1</td>\n",
              "      <td>9.02</td>\n",
              "      <td>13.635</td>\n",
              "      <td>80</td>\n",
              "      <td>0.0</td>\n",
              "      <td>8</td>\n",
              "      <td>...</td>\n",
              "      <td>40</td>\n",
              "      <td>2011-01-01</td>\n",
              "      <td>2011</td>\n",
              "      <td>01</td>\n",
              "      <td>01</td>\n",
              "      <td>01</td>\n",
              "      <td>00</td>\n",
              "      <td>00</td>\n",
              "      <td>(0.819, 13.94]</td>\n",
              "      <td>0</td>\n",
              "    </tr>\n",
              "    <tr>\n",
              "      <th>2</th>\n",
              "      <td>2011-01-01 02:00:00</td>\n",
              "      <td>1</td>\n",
              "      <td>0</td>\n",
              "      <td>0</td>\n",
              "      <td>1</td>\n",
              "      <td>9.02</td>\n",
              "      <td>13.635</td>\n",
              "      <td>80</td>\n",
              "      <td>0.0</td>\n",
              "      <td>5</td>\n",
              "      <td>...</td>\n",
              "      <td>32</td>\n",
              "      <td>2011-01-01</td>\n",
              "      <td>2011</td>\n",
              "      <td>01</td>\n",
              "      <td>01</td>\n",
              "      <td>02</td>\n",
              "      <td>00</td>\n",
              "      <td>00</td>\n",
              "      <td>(0.819, 13.94]</td>\n",
              "      <td>0</td>\n",
              "    </tr>\n",
              "    <tr>\n",
              "      <th>3</th>\n",
              "      <td>2011-01-01 03:00:00</td>\n",
              "      <td>1</td>\n",
              "      <td>0</td>\n",
              "      <td>0</td>\n",
              "      <td>1</td>\n",
              "      <td>9.84</td>\n",
              "      <td>14.395</td>\n",
              "      <td>75</td>\n",
              "      <td>0.0</td>\n",
              "      <td>3</td>\n",
              "      <td>...</td>\n",
              "      <td>13</td>\n",
              "      <td>2011-01-01</td>\n",
              "      <td>2011</td>\n",
              "      <td>01</td>\n",
              "      <td>01</td>\n",
              "      <td>03</td>\n",
              "      <td>00</td>\n",
              "      <td>00</td>\n",
              "      <td>(0.819, 13.94]</td>\n",
              "      <td>0</td>\n",
              "    </tr>\n",
              "    <tr>\n",
              "      <th>4</th>\n",
              "      <td>2011-01-01 04:00:00</td>\n",
              "      <td>1</td>\n",
              "      <td>0</td>\n",
              "      <td>0</td>\n",
              "      <td>1</td>\n",
              "      <td>9.84</td>\n",
              "      <td>14.395</td>\n",
              "      <td>75</td>\n",
              "      <td>0.0</td>\n",
              "      <td>0</td>\n",
              "      <td>...</td>\n",
              "      <td>1</td>\n",
              "      <td>2011-01-01</td>\n",
              "      <td>2011</td>\n",
              "      <td>01</td>\n",
              "      <td>01</td>\n",
              "      <td>04</td>\n",
              "      <td>00</td>\n",
              "      <td>00</td>\n",
              "      <td>(0.819, 13.94]</td>\n",
              "      <td>0</td>\n",
              "    </tr>\n",
              "  </tbody>\n",
              "</table>\n",
              "<p>5 rows × 21 columns</p>\n",
              "</div>\n",
              "      <button class=\"colab-df-convert\" onclick=\"convertToInteractive('df-3884d52b-8582-4a51-9775-06a69fb07460')\"\n",
              "              title=\"Convert this dataframe to an interactive table.\"\n",
              "              style=\"display:none;\">\n",
              "        \n",
              "  <svg xmlns=\"http://www.w3.org/2000/svg\" height=\"24px\"viewBox=\"0 0 24 24\"\n",
              "       width=\"24px\">\n",
              "    <path d=\"M0 0h24v24H0V0z\" fill=\"none\"/>\n",
              "    <path d=\"M18.56 5.44l.94 2.06.94-2.06 2.06-.94-2.06-.94-.94-2.06-.94 2.06-2.06.94zm-11 1L8.5 8.5l.94-2.06 2.06-.94-2.06-.94L8.5 2.5l-.94 2.06-2.06.94zm10 10l.94 2.06.94-2.06 2.06-.94-2.06-.94-.94-2.06-.94 2.06-2.06.94z\"/><path d=\"M17.41 7.96l-1.37-1.37c-.4-.4-.92-.59-1.43-.59-.52 0-1.04.2-1.43.59L10.3 9.45l-7.72 7.72c-.78.78-.78 2.05 0 2.83L4 21.41c.39.39.9.59 1.41.59.51 0 1.02-.2 1.41-.59l7.78-7.78 2.81-2.81c.8-.78.8-2.07 0-2.86zM5.41 20L4 18.59l7.72-7.72 1.47 1.35L5.41 20z\"/>\n",
              "  </svg>\n",
              "      </button>\n",
              "      \n",
              "  <style>\n",
              "    .colab-df-container {\n",
              "      display:flex;\n",
              "      flex-wrap:wrap;\n",
              "      gap: 12px;\n",
              "    }\n",
              "\n",
              "    .colab-df-convert {\n",
              "      background-color: #E8F0FE;\n",
              "      border: none;\n",
              "      border-radius: 50%;\n",
              "      cursor: pointer;\n",
              "      display: none;\n",
              "      fill: #1967D2;\n",
              "      height: 32px;\n",
              "      padding: 0 0 0 0;\n",
              "      width: 32px;\n",
              "    }\n",
              "\n",
              "    .colab-df-convert:hover {\n",
              "      background-color: #E2EBFA;\n",
              "      box-shadow: 0px 1px 2px rgba(60, 64, 67, 0.3), 0px 1px 3px 1px rgba(60, 64, 67, 0.15);\n",
              "      fill: #174EA6;\n",
              "    }\n",
              "\n",
              "    [theme=dark] .colab-df-convert {\n",
              "      background-color: #3B4455;\n",
              "      fill: #D2E3FC;\n",
              "    }\n",
              "\n",
              "    [theme=dark] .colab-df-convert:hover {\n",
              "      background-color: #434B5C;\n",
              "      box-shadow: 0px 1px 3px 1px rgba(0, 0, 0, 0.15);\n",
              "      filter: drop-shadow(0px 1px 2px rgba(0, 0, 0, 0.3));\n",
              "      fill: #FFFFFF;\n",
              "    }\n",
              "  </style>\n",
              "\n",
              "      <script>\n",
              "        const buttonEl =\n",
              "          document.querySelector('#df-3884d52b-8582-4a51-9775-06a69fb07460 button.colab-df-convert');\n",
              "        buttonEl.style.display =\n",
              "          google.colab.kernel.accessAllowed ? 'block' : 'none';\n",
              "\n",
              "        async function convertToInteractive(key) {\n",
              "          const element = document.querySelector('#df-3884d52b-8582-4a51-9775-06a69fb07460');\n",
              "          const dataTable =\n",
              "            await google.colab.kernel.invokeFunction('convertToInteractive',\n",
              "                                                     [key], {});\n",
              "          if (!dataTable) return;\n",
              "\n",
              "          const docLinkHtml = 'Like what you see? Visit the ' +\n",
              "            '<a target=\"_blank\" href=https://colab.research.google.com/notebooks/data_table.ipynb>data table notebook</a>'\n",
              "            + ' to learn more about interactive tables.';\n",
              "          element.innerHTML = '';\n",
              "          dataTable['output_type'] = 'display_data';\n",
              "          await google.colab.output.renderOutput(dataTable, element);\n",
              "          const docLink = document.createElement('div');\n",
              "          docLink.innerHTML = docLinkHtml;\n",
              "          element.appendChild(docLink);\n",
              "        }\n",
              "      </script>\n",
              "    </div>\n",
              "  </div>\n",
              "  "
            ]
          },
          "metadata": {},
          "execution_count": 17
        }
      ]
    },
    {
      "cell_type": "code",
      "source": [
        "train = train[train['weather']!=4]  #weather 값이 4가 아닌것들만 가져옴"
      ],
      "metadata": {
        "id": "c_2NQisnaioJ"
      },
      "execution_count": null,
      "outputs": []
    },
    {
      "cell_type": "code",
      "source": [
        "drop_features = ['casual', 'atemp', 'datetime', 'date', 'windspeed', 'month', 'temp_band', 'registered']\n",
        "train = train.drop(drop_features, axis=1)"
      ],
      "metadata": {
        "id": "DSUrTaOLJafy"
      },
      "execution_count": null,
      "outputs": []
    },
    {
      "cell_type": "markdown",
      "source": [
        "- test 데이터에 대해서도 temp 값들을 카테고리화 시켜줌"
      ],
      "metadata": {
        "id": "REZodgoLP7oq"
      }
    },
    {
      "cell_type": "code",
      "source": [
        "test['temp_cat'] = 0\n",
        "test.loc[test['temp']<=13.94, 'temp_cat'] = 0\n",
        "test.loc[(test['temp']>13.94)&(test['temp']<=20.5), 'temp_cat'] = 1\n",
        "test.loc[(test['temp']>20.5)&(test['temp']<=26.24), 'temp_cat'] = 2\n",
        "test.loc[(test['temp']>26.24)&(test['temp']<=41.0), 'temp_cat'] = 3"
      ],
      "metadata": {
        "id": "pOP_BohqT1gM"
      },
      "execution_count": null,
      "outputs": []
    },
    {
      "cell_type": "code",
      "source": [
        "test['date'] = test['datetime'].apply(lambda x : x.split()[0])\n",
        "\n",
        "test['year'] = test['datetime'].apply(lambda x : x.split()[0].split('-')[0])\n",
        "test['month'] = test['datetime'].apply(lambda x : x.split()[0].split('-')[1])\n",
        "test['day'] = test['datetime'].apply(lambda x : x.split()[0].split('-')[2])\n",
        "test['hour'] = test['datetime'].apply(lambda x : x.split()[1].split(':')[0])\n",
        "test['minute'] = test['datetime'].apply(lambda x : x.split()[1].split(':')[1])\n",
        "test['second'] = test['datetime'].apply(lambda x : x.split()[1].split(':')[2])\n",
        "\n",
        "test.head()"
      ],
      "metadata": {
        "colab": {
          "base_uri": "https://localhost:8080/",
          "height": 444
        },
        "id": "mki5fIAEVmlv",
        "outputId": "93db45dd-3262-4a44-ff1f-3cd568a83e5e"
      },
      "execution_count": null,
      "outputs": [
        {
          "output_type": "execute_result",
          "data": {
            "text/plain": [
              "              datetime  season  holiday  workingday  weather   temp   atemp  \\\n",
              "0  2011-01-20 00:00:00       1        0           1        1  10.66  11.365   \n",
              "1  2011-01-20 01:00:00       1        0           1        1  10.66  13.635   \n",
              "2  2011-01-20 02:00:00       1        0           1        1  10.66  13.635   \n",
              "3  2011-01-20 03:00:00       1        0           1        1  10.66  12.880   \n",
              "4  2011-01-20 04:00:00       1        0           1        1  10.66  12.880   \n",
              "\n",
              "   humidity  windspeed  temp_cat        date  year month day hour minute  \\\n",
              "0        56    26.0027         0  2011-01-20  2011    01  20   00     00   \n",
              "1        56     0.0000         0  2011-01-20  2011    01  20   01     00   \n",
              "2        56     0.0000         0  2011-01-20  2011    01  20   02     00   \n",
              "3        56    11.0014         0  2011-01-20  2011    01  20   03     00   \n",
              "4        56    11.0014         0  2011-01-20  2011    01  20   04     00   \n",
              "\n",
              "  second  \n",
              "0     00  \n",
              "1     00  \n",
              "2     00  \n",
              "3     00  \n",
              "4     00  "
            ],
            "text/html": [
              "\n",
              "  <div id=\"df-e6fdfca0-3e57-4a52-aea4-2419473d6c0b\">\n",
              "    <div class=\"colab-df-container\">\n",
              "      <div>\n",
              "<style scoped>\n",
              "    .dataframe tbody tr th:only-of-type {\n",
              "        vertical-align: middle;\n",
              "    }\n",
              "\n",
              "    .dataframe tbody tr th {\n",
              "        vertical-align: top;\n",
              "    }\n",
              "\n",
              "    .dataframe thead th {\n",
              "        text-align: right;\n",
              "    }\n",
              "</style>\n",
              "<table border=\"1\" class=\"dataframe\">\n",
              "  <thead>\n",
              "    <tr style=\"text-align: right;\">\n",
              "      <th></th>\n",
              "      <th>datetime</th>\n",
              "      <th>season</th>\n",
              "      <th>holiday</th>\n",
              "      <th>workingday</th>\n",
              "      <th>weather</th>\n",
              "      <th>temp</th>\n",
              "      <th>atemp</th>\n",
              "      <th>humidity</th>\n",
              "      <th>windspeed</th>\n",
              "      <th>temp_cat</th>\n",
              "      <th>date</th>\n",
              "      <th>year</th>\n",
              "      <th>month</th>\n",
              "      <th>day</th>\n",
              "      <th>hour</th>\n",
              "      <th>minute</th>\n",
              "      <th>second</th>\n",
              "    </tr>\n",
              "  </thead>\n",
              "  <tbody>\n",
              "    <tr>\n",
              "      <th>0</th>\n",
              "      <td>2011-01-20 00:00:00</td>\n",
              "      <td>1</td>\n",
              "      <td>0</td>\n",
              "      <td>1</td>\n",
              "      <td>1</td>\n",
              "      <td>10.66</td>\n",
              "      <td>11.365</td>\n",
              "      <td>56</td>\n",
              "      <td>26.0027</td>\n",
              "      <td>0</td>\n",
              "      <td>2011-01-20</td>\n",
              "      <td>2011</td>\n",
              "      <td>01</td>\n",
              "      <td>20</td>\n",
              "      <td>00</td>\n",
              "      <td>00</td>\n",
              "      <td>00</td>\n",
              "    </tr>\n",
              "    <tr>\n",
              "      <th>1</th>\n",
              "      <td>2011-01-20 01:00:00</td>\n",
              "      <td>1</td>\n",
              "      <td>0</td>\n",
              "      <td>1</td>\n",
              "      <td>1</td>\n",
              "      <td>10.66</td>\n",
              "      <td>13.635</td>\n",
              "      <td>56</td>\n",
              "      <td>0.0000</td>\n",
              "      <td>0</td>\n",
              "      <td>2011-01-20</td>\n",
              "      <td>2011</td>\n",
              "      <td>01</td>\n",
              "      <td>20</td>\n",
              "      <td>01</td>\n",
              "      <td>00</td>\n",
              "      <td>00</td>\n",
              "    </tr>\n",
              "    <tr>\n",
              "      <th>2</th>\n",
              "      <td>2011-01-20 02:00:00</td>\n",
              "      <td>1</td>\n",
              "      <td>0</td>\n",
              "      <td>1</td>\n",
              "      <td>1</td>\n",
              "      <td>10.66</td>\n",
              "      <td>13.635</td>\n",
              "      <td>56</td>\n",
              "      <td>0.0000</td>\n",
              "      <td>0</td>\n",
              "      <td>2011-01-20</td>\n",
              "      <td>2011</td>\n",
              "      <td>01</td>\n",
              "      <td>20</td>\n",
              "      <td>02</td>\n",
              "      <td>00</td>\n",
              "      <td>00</td>\n",
              "    </tr>\n",
              "    <tr>\n",
              "      <th>3</th>\n",
              "      <td>2011-01-20 03:00:00</td>\n",
              "      <td>1</td>\n",
              "      <td>0</td>\n",
              "      <td>1</td>\n",
              "      <td>1</td>\n",
              "      <td>10.66</td>\n",
              "      <td>12.880</td>\n",
              "      <td>56</td>\n",
              "      <td>11.0014</td>\n",
              "      <td>0</td>\n",
              "      <td>2011-01-20</td>\n",
              "      <td>2011</td>\n",
              "      <td>01</td>\n",
              "      <td>20</td>\n",
              "      <td>03</td>\n",
              "      <td>00</td>\n",
              "      <td>00</td>\n",
              "    </tr>\n",
              "    <tr>\n",
              "      <th>4</th>\n",
              "      <td>2011-01-20 04:00:00</td>\n",
              "      <td>1</td>\n",
              "      <td>0</td>\n",
              "      <td>1</td>\n",
              "      <td>1</td>\n",
              "      <td>10.66</td>\n",
              "      <td>12.880</td>\n",
              "      <td>56</td>\n",
              "      <td>11.0014</td>\n",
              "      <td>0</td>\n",
              "      <td>2011-01-20</td>\n",
              "      <td>2011</td>\n",
              "      <td>01</td>\n",
              "      <td>20</td>\n",
              "      <td>04</td>\n",
              "      <td>00</td>\n",
              "      <td>00</td>\n",
              "    </tr>\n",
              "  </tbody>\n",
              "</table>\n",
              "</div>\n",
              "      <button class=\"colab-df-convert\" onclick=\"convertToInteractive('df-e6fdfca0-3e57-4a52-aea4-2419473d6c0b')\"\n",
              "              title=\"Convert this dataframe to an interactive table.\"\n",
              "              style=\"display:none;\">\n",
              "        \n",
              "  <svg xmlns=\"http://www.w3.org/2000/svg\" height=\"24px\"viewBox=\"0 0 24 24\"\n",
              "       width=\"24px\">\n",
              "    <path d=\"M0 0h24v24H0V0z\" fill=\"none\"/>\n",
              "    <path d=\"M18.56 5.44l.94 2.06.94-2.06 2.06-.94-2.06-.94-.94-2.06-.94 2.06-2.06.94zm-11 1L8.5 8.5l.94-2.06 2.06-.94-2.06-.94L8.5 2.5l-.94 2.06-2.06.94zm10 10l.94 2.06.94-2.06 2.06-.94-2.06-.94-.94-2.06-.94 2.06-2.06.94z\"/><path d=\"M17.41 7.96l-1.37-1.37c-.4-.4-.92-.59-1.43-.59-.52 0-1.04.2-1.43.59L10.3 9.45l-7.72 7.72c-.78.78-.78 2.05 0 2.83L4 21.41c.39.39.9.59 1.41.59.51 0 1.02-.2 1.41-.59l7.78-7.78 2.81-2.81c.8-.78.8-2.07 0-2.86zM5.41 20L4 18.59l7.72-7.72 1.47 1.35L5.41 20z\"/>\n",
              "  </svg>\n",
              "      </button>\n",
              "      \n",
              "  <style>\n",
              "    .colab-df-container {\n",
              "      display:flex;\n",
              "      flex-wrap:wrap;\n",
              "      gap: 12px;\n",
              "    }\n",
              "\n",
              "    .colab-df-convert {\n",
              "      background-color: #E8F0FE;\n",
              "      border: none;\n",
              "      border-radius: 50%;\n",
              "      cursor: pointer;\n",
              "      display: none;\n",
              "      fill: #1967D2;\n",
              "      height: 32px;\n",
              "      padding: 0 0 0 0;\n",
              "      width: 32px;\n",
              "    }\n",
              "\n",
              "    .colab-df-convert:hover {\n",
              "      background-color: #E2EBFA;\n",
              "      box-shadow: 0px 1px 2px rgba(60, 64, 67, 0.3), 0px 1px 3px 1px rgba(60, 64, 67, 0.15);\n",
              "      fill: #174EA6;\n",
              "    }\n",
              "\n",
              "    [theme=dark] .colab-df-convert {\n",
              "      background-color: #3B4455;\n",
              "      fill: #D2E3FC;\n",
              "    }\n",
              "\n",
              "    [theme=dark] .colab-df-convert:hover {\n",
              "      background-color: #434B5C;\n",
              "      box-shadow: 0px 1px 3px 1px rgba(0, 0, 0, 0.15);\n",
              "      filter: drop-shadow(0px 1px 2px rgba(0, 0, 0, 0.3));\n",
              "      fill: #FFFFFF;\n",
              "    }\n",
              "  </style>\n",
              "\n",
              "      <script>\n",
              "        const buttonEl =\n",
              "          document.querySelector('#df-e6fdfca0-3e57-4a52-aea4-2419473d6c0b button.colab-df-convert');\n",
              "        buttonEl.style.display =\n",
              "          google.colab.kernel.accessAllowed ? 'block' : 'none';\n",
              "\n",
              "        async function convertToInteractive(key) {\n",
              "          const element = document.querySelector('#df-e6fdfca0-3e57-4a52-aea4-2419473d6c0b');\n",
              "          const dataTable =\n",
              "            await google.colab.kernel.invokeFunction('convertToInteractive',\n",
              "                                                     [key], {});\n",
              "          if (!dataTable) return;\n",
              "\n",
              "          const docLinkHtml = 'Like what you see? Visit the ' +\n",
              "            '<a target=\"_blank\" href=https://colab.research.google.com/notebooks/data_table.ipynb>data table notebook</a>'\n",
              "            + ' to learn more about interactive tables.';\n",
              "          element.innerHTML = '';\n",
              "          dataTable['output_type'] = 'display_data';\n",
              "          await google.colab.output.renderOutput(dataTable, element);\n",
              "          const docLink = document.createElement('div');\n",
              "          docLink.innerHTML = docLinkHtml;\n",
              "          element.appendChild(docLink);\n",
              "        }\n",
              "      </script>\n",
              "    </div>\n",
              "  </div>\n",
              "  "
            ]
          },
          "metadata": {},
          "execution_count": 21
        }
      ]
    },
    {
      "cell_type": "code",
      "source": [
        "drop_features = ['atemp', 'datetime', 'date', 'windspeed', 'month']\n",
        "test = test.drop(drop_features, axis=1)"
      ],
      "metadata": {
        "id": "mIlD8jLFV1W2"
      },
      "execution_count": null,
      "outputs": []
    },
    {
      "cell_type": "markdown",
      "source": [
        "## 4. x, y컬럼 선택과 train/test 데이터 분리"
      ],
      "metadata": {
        "id": "byd49azelU0C"
      }
    },
    {
      "cell_type": "code",
      "source": [
        "all_data = pd.concat([train, test], ignore_index=True)\n",
        "all_data\n",
        "# train, test data set 나누기\n",
        "X_train = all_data[~pd.isnull(all_data['count'])]\n",
        "X_test = all_data[pd.isnull(all_data['count'])]\n",
        "\n",
        "# 타깃값 count 제거\n",
        "X_train = X_train.drop(['count'], axis=1)\n",
        "X_test = X_test.drop(['count'], axis=1)\n",
        "\n",
        "y=train['count'] #타깃값"
      ],
      "metadata": {
        "id": "KegWou-LLImp"
      },
      "execution_count": null,
      "outputs": []
    },
    {
      "cell_type": "markdown",
      "source": [
        "## 5. LinearRegression 모델 학습"
      ],
      "metadata": {
        "id": "GrN-7pioldFw"
      }
    },
    {
      "cell_type": "code",
      "source": [
        "from sklearn.linear_model import LinearRegression\n",
        "\n",
        "model = LinearRegression()\n",
        "model.fit(X_train,y)\n",
        "y_pred = model.predict(X_train)"
      ],
      "metadata": {
        "id": "unn6z7QFl3cP"
      },
      "execution_count": null,
      "outputs": []
    },
    {
      "cell_type": "code",
      "source": [
        "X_train.shape, y.shape, X_test.shape"
      ],
      "metadata": {
        "colab": {
          "base_uri": "https://localhost:8080/"
        },
        "id": "NjZmdD3bbgoe",
        "outputId": "5a456887-e867-4ab1-e6ca-2871e18a9978"
      },
      "execution_count": null,
      "outputs": [
        {
          "output_type": "execute_result",
          "data": {
            "text/plain": [
              "((10885, 12), (10885,), (6493, 12))"
            ]
          },
          "metadata": {},
          "execution_count": 28
        }
      ]
    },
    {
      "cell_type": "markdown",
      "source": [
        "## 6. 학습된 모델로 X_test에 대한 예측값 출력 및 손실함수값 계산"
      ],
      "metadata": {
        "id": "5zgBEdTfljb5"
      }
    },
    {
      "cell_type": "code",
      "source": [
        "#평가지표 계산 함수 정의\n",
        "def r2_square(y, y_pred):\n",
        "  loss = sum((y-y_pred)**2) / sum((y-y.mean())**2)\n",
        "  return loss\n",
        "\n",
        "def mse(y, y_pred):\n",
        "  \n",
        "  loss = np.mean((y-y_pred)**2)\n",
        "  return loss\n",
        "\n",
        "def rmse(y, y_pred):\n",
        "  loss = np.sqrt(mse(y, y_pred))\n",
        "  return loss"
      ],
      "metadata": {
        "id": "ksLi_rXAl387"
      },
      "execution_count": null,
      "outputs": []
    },
    {
      "cell_type": "code",
      "source": [
        "print(f'선형회귀의 r2_square값 : {r2_square(y, y_pred):.4f}')\n",
        "print(f'선형회귀의 mse값 : {mse(y, y_pred):.4f}')\n",
        "print(f'선형회귀의 rmse값 : {rmse(y, y_pred):.4f}')"
      ],
      "metadata": {
        "colab": {
          "base_uri": "https://localhost:8080/"
        },
        "id": "BVzMEP65aN6V",
        "outputId": "d683a0d0-fe24-42b9-abb2-bb517f3489c0"
      },
      "execution_count": null,
      "outputs": [
        {
          "output_type": "stream",
          "name": "stdout",
          "text": [
            "선형회귀의 r2_square값 : 0.6137\n",
            "선형회귀의 mse값 : 20137.3749\n",
            "선형회귀의 rmse값 : 141.9062\n"
          ]
        }
      ]
    },
    {
      "cell_type": "markdown",
      "source": [
        "## 7. x축은 temp 또는 humidity로, y축은 count로 예측 결과 시각화하기"
      ],
      "metadata": {
        "id": "abVrsgfvlqoW"
      }
    },
    {
      "cell_type": "code",
      "source": [
        "from sklearn.linear_model import LinearRegression\n",
        "\n",
        "model = LinearRegression()\n",
        "model.fit(X_train, y)\n",
        "y_pred_2 = model.predict(X_test)"
      ],
      "metadata": {
        "id": "MZUcfYD34IDM"
      },
      "execution_count": null,
      "outputs": []
    },
    {
      "cell_type": "code",
      "source": [
        "\n",
        "f, ax = plt.subplots(1,2, figsize=(24,20))\n",
        "point1 = sns.pointplot(x='temp', y= y, data=train, ax=ax[0]) \n",
        "point2 = sns.pointplot(x='temp', y= y_pred_2, data=test, ax=ax[1]) \n",
        "ax[0].tick_params('x', labelrotation=30)\n",
        "ax[1].tick_params('x', labelrotation=30)\n",
        "\n"
      ],
      "metadata": {
        "id": "9dBGm32El4dP",
        "colab": {
          "base_uri": "https://localhost:8080/",
          "height": 848
        },
        "outputId": "f8e9967b-28b7-4766-9da9-3462d667c86d"
      },
      "execution_count": null,
      "outputs": [
        {
          "output_type": "display_data",
          "data": {
            "text/plain": [
              "<Figure size 1728x1440 with 2 Axes>"
            ],
            "image/png": "[encoded data removed]"
          },
          "metadata": {
            "needs_background": "light"
          }
        }
      ]
    },
    {
      "cell_type": "markdown",
      "source": [
        "# 회고"
      ],
      "metadata": {
        "id": "8nl7JktYWxW2"
      }
    },
    {
      "cell_type": "markdown",
      "source": [
        "1. 당뇨병 수치 예측\n",
        "  - 손실 함수를 정의할 때 처음엔 MSE함수로 정의했다. 그러고 loss값 계산했을 때 2800? 정도로 너무 높게 나오길래 이게 맞나...? 싶었다. 이건 뭔가 잘못됐다는 생각에 손실 함수를 RMSE로 하고 loss값을 구해주니까 50대가 나왔다. 아마 애초에 train데이터의 값들이 이리저리 흩어져 있어서 선형 회귀로는 손실이 높아질 수 밖에 없는 것 같다.\n",
        "  - 그리고 손실함수를 거의 대부분 MSE, RMSE, RMSLE를 사용하길래 왜 R-squared는 사용을 안하지?? 라는 생각이 들어서 R-squared함수를 직접 편미분해서 구한 dw, db를 이용해 예측과 그래프를 그려보려고 했는데... 일단 loss값이 음수가 나오고 db.shape가 (353,)가 나와버리는 기현상이 생겨서 포기했다..어디서 부터 잘못된건지는 모르겠지만, 일단 지금은 넘어가고 나중에 방법이 생각나면 다시 돌아와서 해결해봐야겠다.\n",
        "\n",
        "2. 자전거 타는 사람 수 예측\n",
        "  - 보통 지금까지 LMS나 캐글 필사에서 하던 titanic관련 캐글에서는 모델 학습을 위한 X_train, X_test 등을 나눌 때, sklearn의 train_test_split을 이용해해서 처음엔 그렇게 해봤다. 그랬더니 마지막 시각화 부분에서 y축 부분의 값이 count값이 나오는게 아니라 이상한 -16435 뭐 이런 값이 나와서 또 이건 아니다 싶어 train과 test를 합치고 거기서 다시 X_train과 X_test를 나누는 방법을 사용했더니 y축 값이 바르게 나왔다. 근데 또 신기한건 y값이 -16435 이렇게 나올때랑 그 뒤랑 그래프 모양은 똑같다는 거다....\n",
        "  - 이번에도 손실 함수를 MSE, RMSE 뿐 아니라 R-squared함수를 이용하여 loss값을 구했다..R-squared에 미련이 남은 것 같다.\n",
        "  \n",
        "  - 그리고 아랫부분은 캐글 필사하면서 성능 향상하는 부분이었는데 위의 내용을 다 지우기가 아깝기도 해서 밑에 이어 붙이겠습니다... 양이 너무 많아 질 것 같긴 하지만...ㅎㅎ"
      ],
      "metadata": {
        "id": "su8JYJvX0E3p"
      }
    }
  ]
}