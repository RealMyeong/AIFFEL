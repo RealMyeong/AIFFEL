{
  "nbformat": 4,
  "nbformat_minor": 0,
  "metadata": {
    "colab": {
      "provenance": [],
      "machine_shape": "hm",
      "mount_file_id": "1wa5uH4OqbqeKkTdV7Hwe3JdtiiOKZtaB",
      "authorship_tag": "ABX9TyMqLNI2AXbSxqBbnwu2hzE2",
      "include_colab_link": true
    },
    "kernelspec": {
      "name": "python3",
      "display_name": "Python 3"
    },
    "language_info": {
      "name": "python"
    },
    "accelerator": "GPU"
  },
  "cells": [
    {
      "cell_type": "markdown",
      "metadata": {
        "id": "view-in-github",
        "colab_type": "text"
      },
      "source": [
        "<a href=\"https://colab.research.google.com/github/RealMyeong/Going_Deeper_NLP/blob/main/GoingDeeper(NLP)_2_%EB%8B%A8%EC%96%B4%EC%82%AC%EC%A0%84%EB%A7%8C%EB%93%A4%EA%B8%B0.ipynb\" target=\"_parent\"><img src=\"https://colab.research.google.com/assets/colab-badge.svg\" alt=\"Open In Colab\"/></a>"
      ]
    },
    {
      "cell_type": "markdown",
      "source": [
        "이번에는 여러 한국어 형태소 분석기를 사용해보고 결과를 비교해보겠습니다.\n",
        "\n",
        "먼저 실습을 진행할 google colab의 환경 설정을 해줍니다.\n"
      ],
      "metadata": {
        "id": "DNl1j-LvAsW_"
      }
    },
    {
      "cell_type": "code",
      "source": [
        "!apt-get update\n",
        "!apt-get install g++ openjdk-8-jdk\n",
        "!pip install konlpy JPype1-py3\n",
        "!bash <(curl -s https://raw.githubusercontent.com/konlpy/konlpy/master/scripts/mecab.sh)\n",
        "!pip install --upgrade gensim\n",
        "# !pip install --upgrade keras==2.6.0\n",
        "# !pip install --upgrade tensorflow==2.6.0"
      ],
      "metadata": {
        "id": "jHZSKQC1ABfR"
      },
      "execution_count": null,
      "outputs": []
    },
    {
      "cell_type": "code",
      "source": [
        "import tensorflow\n",
        "import keras"
      ],
      "metadata": {
        "id": "4P3go_0JAe2-"
      },
      "execution_count": 1,
      "outputs": []
    },
    {
      "cell_type": "code",
      "source": [
        "from konlpy.tag import Mecab\n",
        "\n",
        "mecab = Mecab()"
      ],
      "metadata": {
        "id": "eGJafNX0Alui"
      },
      "execution_count": 2,
      "outputs": []
    },
    {
      "cell_type": "markdown",
      "source": [
        "사용할 데이터는 한국어의 형태소 분석과 품사 태깅, 기계 번역 연구를 위해 공개된 데이터입니다. 이번에 사용할 데이터는 한국어-영어 병렬을 이루는 말뭉치 중 한국어 부분으로, 전체 병렬 말뭉치는 후에 번역기를 만들며 사용할 예정입니다\n",
        "\n",
        "다른 데이터를 사용하고 싶으시면 아래 주소로 가시면 됩니다.  \n",
        "https://github.com/jungyeul/korean-parallel-corpora\n",
        "\n",
        "데이터를 불러오겠습니다."
      ],
      "metadata": {
        "id": "qSDaBDj5CQHG"
      }
    },
    {
      "cell_type": "code",
      "source": [
        "file_path = '/content/drive/MyDrive/AIFFEL/GoingDeeper(NLP)/2_단어사전만들기/korean-english-park.train.ko'\n",
        "\n",
        "with open(file_path, \"r\") as f:\n",
        "    raw = f.read().splitlines()\n",
        "\n",
        "print(\"Data Size:\", len(raw))\n",
        "\n",
        "print(\"Example:\")\n",
        "for sen in raw[0:100][::20]: print(\">>\", sen)"
      ],
      "metadata": {
        "colab": {
          "base_uri": "https://localhost:8080/"
        },
        "id": "P7DxinqNCHDp",
        "outputId": "054e540b-5555-4f7f-a900-4a2d2c0a42c4"
      },
      "execution_count": 3,
      "outputs": [
        {
          "output_type": "stream",
          "name": "stdout",
          "text": [
            "Data Size: 94123\n",
            "Example:\n",
            ">> 개인용 컴퓨터 사용의 상당 부분은 \"이것보다 뛰어날 수 있느냐?\"\n",
            ">> 북한의 핵무기 계획을 포기하도록 하려는 압력이 거세지고 있는 가운데, 일본과 북한의 외교관들이 외교 관계를 정상화하려는 회담을 재개했다.\n",
            ">> \"경호 로보트가 침입자나 화재를 탐지하기 위해서 개인적으로, 그리고 전문적으로 사용되고 있습니다.\"\n",
            ">> 수자원부 당국은 논란이 되고 있고, 막대한 비용이 드는 이 사업에 대해 내년에 건설을 시작할 계획이다.\n",
            ">> 또한 근력 운동은 활발하게 걷는 것이나 최소한 20분 동안 뛰는 것과 같은 유산소 활동에서 얻는 운동 효과를 심장과 폐에 주지 않기 때문에, 연구학자들은 근력 운동이 심장에 큰 영향을 미치는지 여부에 대해 논쟁을 해왔다.\n"
          ]
        }
      ]
    },
    {
      "cell_type": "markdown",
      "source": [
        "문장은 위에서 확인한 것처럼 94123개가 포함되어 있습니다. 우리는 각 문장이 어느 정도의 길이를 가지는지 확인해보겠습니다! 이 과정을 거치면 지나치게 긴 데이터를 삭제하거나 (연산량을 감소시켜 학습 속도가 빨라집니다!) 지나치게 짧은 데이터를 검증 (무조건 필요가 없지는 않습니다, 단어 ↔ 단어 라면 번역을 학습할 수 있겠죠!) 할 수 있습니다. 즉, 데이터를 얼마나 사용할지 타협점을 정의할 수 있습니다.\n",
        "\n",
        "아래 소스는 문장의 최단 길이, 최장 길이, 평균 길이를 구한 후 문장 길이 분포를 막대그래프로 표현해 주는 소스입니다. raw 변수는 앞서 다운로드받은 데이터가 담긴 변수입니다!"
      ],
      "metadata": {
        "id": "mFN-at6KC2VE"
      }
    },
    {
      "cell_type": "code",
      "source": [
        "import numpy as np\n",
        "import tensorflow as tf\n",
        "import matplotlib.pyplot as plt\n",
        "\n",
        "%matplotlib inline\n",
        "\n",
        "min_len = 999\n",
        "max_len = 0\n",
        "sum_len = 0\n",
        "\n",
        "for sen in raw:\n",
        "  length = len(sen)\n",
        "  if min_len > length : \n",
        "    min_len = length\n",
        "  if max_len < length:\n",
        "    max_len = length\n",
        "  sum_len += length\n",
        "\n",
        "print('문장의 최단 길이 : ', min_len)\n",
        "print('문장의 최장 길이 : ', max_len)\n",
        "print('문장의 평균 길이 : ', sum_len // len(raw))\n",
        "\n",
        "sentence_length = np.zeros((max_len), dtype=np.int)\n",
        "\n",
        "for sen in raw:\n",
        "  sentence_length[len(sen)-1] += 1\n",
        "\n",
        "plt.bar(range(max_len), sentence_length, width=1.0)\n",
        "plt.title('Sentence Length Distribution')\n",
        "plt.show()"
      ],
      "metadata": {
        "colab": {
          "base_uri": "https://localhost:8080/",
          "height": 390
        },
        "id": "5E1C7_tKDaHJ",
        "outputId": "a373b0a7-fed3-467b-fd39-92aa94e0df6d"
      },
      "execution_count": 4,
      "outputs": [
        {
          "output_type": "stream",
          "name": "stdout",
          "text": [
            "문장의 최단 길이 :  1\n",
            "문장의 최장 길이 :  377\n",
            "문장의 평균 길이 :  60\n"
          ]
        },
        {
          "output_type": "stream",
          "name": "stderr",
          "text": [
            "/usr/local/lib/python3.7/dist-packages/ipykernel_launcher.py:23: DeprecationWarning: `np.int` is a deprecated alias for the builtin `int`. To silence this warning, use `int` by itself. Doing this will not modify any behavior and is safe. When replacing `np.int`, you may wish to use e.g. `np.int64` or `np.int32` to specify the precision. If you wish to review your current use, check the release note link for additional information.\n",
            "Deprecated in NumPy 1.20; for more details and guidance: https://numpy.org/devdocs/release/1.20.0-notes.html#deprecations\n"
          ]
        },
        {
          "output_type": "display_data",
          "data": {
            "text/plain": [
              "<Figure size 432x288 with 1 Axes>"
            ],
            "image/png": "[encoded data removed]"
          },
          "metadata": {
            "needs_background": "light"
          }
        }
      ]
    },
    {
      "cell_type": "markdown",
      "source": [
        "위 그림을 보면 약간 이상한 점이 있습니다.\n",
        "\n",
        "1. 길이 1짜리 문장은 무언인지\n",
        "2. 그림에서 치솟는 임의의 구간은 무엇인지\n",
        "3. 어디서부터 어디까지 잘라서 써야하는지\n",
        "\n",
        "하나하나 살펴보겠습니다.\n"
      ],
      "metadata": {
        "id": "JwJRx7ZwENOA"
      }
    },
    {
      "cell_type": "code",
      "source": [
        "# 길이가 1인 문장 확인\n",
        "def check_sentence_with_length(raw, length):\n",
        "  count = 0\n",
        "\n",
        "  for sen in raw:\n",
        "    if len(sen) == length:\n",
        "      print(sen)\n",
        "      count += 1\n",
        "      if count > 100:\n",
        "        return\n",
        "  \n",
        "check_sentence_with_length(raw, 1)"
      ],
      "metadata": {
        "colab": {
          "base_uri": "https://localhost:8080/"
        },
        "id": "SE0JHvkcE38c",
        "outputId": "5e557f66-bc71-411c-c71c-c981b6bcf04d"
      },
      "execution_count": 5,
      "outputs": [
        {
          "output_type": "stream",
          "name": "stdout",
          "text": [
            "’\n"
          ]
        }
      ]
    },
    {
      "cell_type": "markdown",
      "source": [
        "이번에는 문장의 수가 1500을 초과하는 문장 길이를 추출하겠습니다.\n"
      ],
      "metadata": {
        "id": "-sdsfoIXFa52"
      }
    },
    {
      "cell_type": "code",
      "source": [
        "for idx, _sum in enumerate(sentence_length):\n",
        "  if _sum > 1500:\n",
        "    print('Outlier Index : ', idx+1)"
      ],
      "metadata": {
        "colab": {
          "base_uri": "https://localhost:8080/"
        },
        "id": "hJAXJDOhFOz3",
        "outputId": "b79b020f-de58-4952-cb9f-f5617a80e362"
      },
      "execution_count": 6,
      "outputs": [
        {
          "output_type": "stream",
          "name": "stdout",
          "text": [
            "Outlier Index :  11\n",
            "Outlier Index :  19\n",
            "Outlier Index :  21\n"
          ]
        }
      ]
    },
    {
      "cell_type": "code",
      "source": [
        "check_sentence_with_length(raw, 11)"
      ],
      "metadata": {
        "colab": {
          "base_uri": "https://localhost:8080/"
        },
        "id": "69CR6bC0FmnY",
        "outputId": "4c9de27b-9934-4992-a936-8d3a6fcf37d6"
      },
      "execution_count": 7,
      "outputs": [
        {
          "output_type": "stream",
          "name": "stdout",
          "text": [
            "라고 조던이 말했다.\n",
            "- 모르고 있습니다.\n",
            "- 네, 보이는군요.\n",
            "디즈니사만이 아니다.\n",
            "큰 파티는 아니지요.\n",
            "의자는 비어 있었다.\n",
            "이 일은 계속됩니다.\n",
            "나는 크게 실망했다.\n",
            "그 이유는 간단하다.\n",
            "이력서와 자기 소개서\n",
            "시대가 변하고 있다.\n",
            "는 돌발질문을 했다.\n",
            "9. 몇 분간의 명상\n",
            "하와이, 빅 아일랜드\n",
            "키스를 잘 하는 방법\n",
            "키스를 잘 하는 방법\n",
            "스피어스가 뚱뚱한가?\n",
            "산 위를 나는 느낌.\n",
            "세 시간쯤 걸었을까?\n",
            "(아직 읽고있습니까?\n",
            "처음에는 장난이었다.\n",
            "우리는 운이 좋았다.\n",
            "아기가 숨을 멈출 때\n",
            "건물 전체 무너져내려\n",
            "그녀의 아름다운 눈.\n",
            "대답은 다음과 같다.\n",
            "\"사과할 것이 없다.\n",
            "폭탄테러가 공포 유발\n",
            "그는 \"잘 모르겠다.\n",
            "그는 \"잘 모르겠다.\n",
            "그는 \"잘 모르겠다.\n",
            "그는 \"잘 모르겠다.\n",
            "그는 \"잘 모르겠다.\n",
            "그는 \"잘 모르겠다.\n",
            "그는 \"잘 모르겠다.\n",
            "그는 \"잘 모르겠다.\n",
            "그는 \"잘 모르겠다.\n",
            "케냐 야생동물 고아원\n",
            "경유 1200원대로…\n",
            "더 내려야 하는 이유\n",
            "케냐 야생동물 고아원\n",
            "경유 1200원대로…\n",
            "더 내려야 하는 이유\n",
            "케냐 야생동물 고아원\n",
            "경유 1200원대로…\n",
            "더 내려야 하는 이유\n",
            "케냐 야생동물 고아원\n",
            "경유 1200원대로…\n",
            "더 내려야 하는 이유\n",
            "케냐 야생동물 고아원\n",
            "경유 1200원대로…\n",
            "더 내려야 하는 이유\n",
            "케냐 야생동물 고아원\n",
            "경유 1200원대로…\n",
            "더 내려야 하는 이유\n",
            "케냐 야생동물 고아원\n",
            "경유 1200원대로…\n",
            "더 내려야 하는 이유\n",
            "케냐 야생동물 고아원\n",
            "경유 1200원대로…\n",
            "더 내려야 하는 이유\n",
            "케냐 야생동물 고아원\n",
            "경유 1200원대로…\n",
            "더 내려야 하는 이유\n",
            "케냐 야생동물 고아원\n",
            "경유 1200원대로…\n",
            "더 내려야 하는 이유\n",
            "케냐 야생동물 고아원\n",
            "경유 1200원대로…\n",
            "더 내려야 하는 이유\n",
            "케냐 야생동물 고아원\n",
            "경유 1200원대로…\n",
            "더 내려야 하는 이유\n",
            "케냐 야생동물 고아원\n",
            "경유 1200원대로…\n",
            "더 내려야 하는 이유\n",
            "케냐 야생동물 고아원\n",
            "경유 1200원대로…\n",
            "더 내려야 하는 이유\n",
            "케냐 야생동물 고아원\n",
            "경유 1200원대로…\n",
            "더 내려야 하는 이유\n",
            "케냐 야생동물 고아원\n",
            "경유 1200원대로…\n",
            "더 내려야 하는 이유\n",
            "케냐 야생동물 고아원\n",
            "경유 1200원대로…\n",
            "더 내려야 하는 이유\n",
            "케냐 야생동물 고아원\n",
            "경유 1200원대로…\n",
            "더 내려야 하는 이유\n",
            "케냐 야생동물 고아원\n",
            "경유 1200원대로…\n",
            "더 내려야 하는 이유\n",
            "케냐 야생동물 고아원\n",
            "경유 1200원대로…\n",
            "더 내려야 하는 이유\n",
            "조금은 새침한 샬롯？\n",
            "조금은 새침한 샬롯？\n",
            "케냐 야생동물 고아원\n",
            "경유 1200원대로…\n"
          ]
        }
      ]
    },
    {
      "cell_type": "markdown",
      "source": [
        "중복치가 제거되지 않은 모습을 볼 수 있습니다. 중복치 제거를 해주기 위해서 Python의 기본 자료형 set를 활용하겠습니다. 하지만 set는 순서를 고려하지 않기 때문에 만약 순서가 중요한 데이터를 다룬다면 다른 방법으로 중복치를 제거해야합니다.\n",
        "\n",
        "중복치를 제거한 후 앞에서 분포를 확인한 소스를 다시 실행시켜 보겠습니다.\n"
      ],
      "metadata": {
        "id": "46vO2dhCFzNl"
      }
    },
    {
      "cell_type": "code",
      "source": [
        "min_len = 999\n",
        "max_len = 0\n",
        "sum_len = 0\n",
        "\n",
        "cleaned_corpus = list(set(raw))\n",
        "print('Data Size : ', len(cleaned_corpus))\n",
        "\n",
        "for sen in cleaned_corpus:\n",
        "  length = len(sen)\n",
        "  if length < min_len:\n",
        "    min_len = length\n",
        "  if max_len < length:\n",
        "    max_len = length\n",
        "  sum_len += length\n",
        "\n",
        "print('문장의 최단 길이 : ', min_len)\n",
        "print('문장의 최장 길이 : ', max_len)\n",
        "print('문장의 평균 길이 : ', sum_len // len(cleaned_corpus))\n",
        "\n",
        "sentence_length = np.zeros((max_len), dtype=np.int)\n",
        "\n",
        "for sen in cleaned_corpus:\n",
        "  sentence_length[len(sen)-1] += 1\n",
        "\n",
        "plt.bar(range(max_len), sentence_length, width=1.0)\n",
        "plt.title('Sentence Length Distribution')\n",
        "plt.show()"
      ],
      "metadata": {
        "colab": {
          "base_uri": "https://localhost:8080/",
          "height": 408
        },
        "id": "6UU5xSEBFtQb",
        "outputId": "ee37c435-27e6-4676-fe7e-7d88ab07a5bb"
      },
      "execution_count": 8,
      "outputs": [
        {
          "output_type": "stream",
          "name": "stdout",
          "text": [
            "Data Size :  77591\n",
            "문장의 최단 길이 :  1\n",
            "문장의 최장 길이 :  377\n",
            "문장의 평균 길이 :  64\n"
          ]
        },
        {
          "output_type": "stream",
          "name": "stderr",
          "text": [
            "/usr/local/lib/python3.7/dist-packages/ipykernel_launcher.py:20: DeprecationWarning: `np.int` is a deprecated alias for the builtin `int`. To silence this warning, use `int` by itself. Doing this will not modify any behavior and is safe. When replacing `np.int`, you may wish to use e.g. `np.int64` or `np.int32` to specify the precision. If you wish to review your current use, check the release note link for additional information.\n",
            "Deprecated in NumPy 1.20; for more details and guidance: https://numpy.org/devdocs/release/1.20.0-notes.html#deprecations\n"
          ]
        },
        {
          "output_type": "display_data",
          "data": {
            "text/plain": [
              "<Figure size 432x288 with 1 Axes>"
            ],
            "image/png": "[encoded data removed]"
          },
          "metadata": {
            "needs_background": "light"
          }
        }
      ]
    },
    {
      "cell_type": "markdown",
      "source": [
        "처음에 비해 분포 그래프가 깔끔해진 것을 볼 수 있습니다.\n",
        "이제 여기서 생각해볼것은 모든 데이터를 전부 사용할것인가에 대한 것입니다.\n",
        "데이터를 모델에 넣는다고 생각했을때 가장 긴 데이터를 기준으로 Padding처리를 해야합니다. 그 때를 고려하여 길이 150이 넘는 데이터는 제거하고 사용하도록 하겠습니다. \n",
        "그리고 길이가 너무 짧은 10미만인 데이터도 제거하도록 하겠습니다."
      ],
      "metadata": {
        "id": "TW46Zx5SHItD"
      }
    },
    {
      "cell_type": "code",
      "source": [
        "max_len = 150\n",
        "min_len = 10\n",
        "\n",
        "filtered_corpus = [s for s in cleaned_corpus if (len(s) < max_len) and (len(s) >= min_len)]\n",
        "\n",
        "sentence_length = np.zeros((max_len), dtype=np.int)\n",
        "\n",
        "for sen in filtered_corpus:\n",
        "  sentence_length[len(sen)-1] += 1\n",
        "\n",
        "plt.bar(range(max_len), sentence_length, width=1.0)\n",
        "plt.title('Sentence Length Distribution')\n",
        "plt.show()"
      ],
      "metadata": {
        "colab": {
          "base_uri": "https://localhost:8080/",
          "height": 355
        },
        "id": "0nE0qsGbG_yR",
        "outputId": "a4be07f1-6014-42e1-bb97-ee621535f82f"
      },
      "execution_count": 9,
      "outputs": [
        {
          "output_type": "stream",
          "name": "stderr",
          "text": [
            "/usr/local/lib/python3.7/dist-packages/ipykernel_launcher.py:6: DeprecationWarning: `np.int` is a deprecated alias for the builtin `int`. To silence this warning, use `int` by itself. Doing this will not modify any behavior and is safe. When replacing `np.int`, you may wish to use e.g. `np.int64` or `np.int32` to specify the precision. If you wish to review your current use, check the release note link for additional information.\n",
            "Deprecated in NumPy 1.20; for more details and guidance: https://numpy.org/devdocs/release/1.20.0-notes.html#deprecations\n",
            "  \n"
          ]
        },
        {
          "output_type": "display_data",
          "data": {
            "text/plain": [
              "<Figure size 432x288 with 1 Axes>"
            ],
            "image/png": "[encoded data removed]"
          },
          "metadata": {
            "needs_background": "light"
          }
        }
      ]
    },
    {
      "cell_type": "markdown",
      "source": [
        "## 공백 기반 토큰화\n",
        "\n",
        "정제된 데이터를 공백 기반으로 토큰화하여 list에 저장한 후, 아래 tokenize() 함수를 사용해 단어 사전과 Tensor 데이터를 얻고, 단어 사전의 크기를 확인 해보겠습니다."
      ],
      "metadata": {
        "id": "pMWqGTMHIPBo"
      }
    },
    {
      "cell_type": "code",
      "source": [
        "def tokenize(corpus):\n",
        "  tokenizer = tf.keras.preprocessing.text.Tokenizer(filters='')\n",
        "  tokenizer.fit_on_texts(corpus)\n",
        "\n",
        "  tensor = tokenizer.texts_to_sequences(corpus)\n",
        "\n",
        "  tensor = tf.keras.preprocessing.sequence.pad_sequences(tensor, padding='post')\n",
        "\n",
        "  return tensor, tokenizer"
      ],
      "metadata": {
        "id": "ZtaywDVvIIlc"
      },
      "execution_count": 10,
      "outputs": []
    },
    {
      "cell_type": "code",
      "source": [
        "filtered_corpus[1]"
      ],
      "metadata": {
        "colab": {
          "base_uri": "https://localhost:8080/",
          "height": 36
        },
        "id": "ZuF__FZPKfnH",
        "outputId": "4791d66a-6c85-4237-c7df-6be75df136be"
      },
      "execution_count": 11,
      "outputs": [
        {
          "output_type": "execute_result",
          "data": {
            "text/plain": [
              "'지도자들은 저항세력과 대화하는 데 동의했습니다.'"
            ],
            "application/vnd.google.colaboratory.intrinsic+json": {
              "type": "string"
            }
          },
          "metadata": {},
          "execution_count": 11
        }
      ]
    },
    {
      "cell_type": "markdown",
      "source": [
        "먼저 공백을 기준으로 문장을 나눠서 split_corpus 리스트에 넣어주겠습니다."
      ],
      "metadata": {
        "id": "n2DLdjBHLh6s"
      }
    },
    {
      "cell_type": "code",
      "source": [
        "split_corpus = []\n",
        "\n",
        "for kor in filtered_corpus:\n",
        "  split_corpus.append(kor.split())"
      ],
      "metadata": {
        "id": "i_u3QzygKNk8"
      },
      "execution_count": 12,
      "outputs": []
    },
    {
      "cell_type": "code",
      "source": [
        "split_corpus[1:3]"
      ],
      "metadata": {
        "colab": {
          "base_uri": "https://localhost:8080/"
        },
        "id": "c1nA8TRWLRZo",
        "outputId": "56eec506-22ca-4ce4-808a-7ef96a86181d"
      },
      "execution_count": 13,
      "outputs": [
        {
          "output_type": "execute_result",
          "data": {
            "text/plain": [
              "[['지도자들은', '저항세력과', '대화하는', '데', '동의했습니다.'],\n",
              " ['barrage', '집중', '공세,', '집중', '사격']]"
            ]
          },
          "metadata": {},
          "execution_count": 13
        }
      ]
    },
    {
      "cell_type": "markdown",
      "source": [
        "이제 공백 기반 토큰화를 진행한 후, 단어 사전의 길이를 확인해보겠습니다.\n"
      ],
      "metadata": {
        "id": "RGJc8oWzLcd-"
      }
    },
    {
      "cell_type": "code",
      "source": [
        "split_tensor, split_tokenizer = tokenize(split_corpus)\n",
        "\n",
        "print('Split Vocab Size : ', len(split_tokenizer.index_word))"
      ],
      "metadata": {
        "colab": {
          "base_uri": "https://localhost:8080/"
        },
        "id": "dXzMqnT_Lv64",
        "outputId": "a9a0b5b8-8fa7-4760-a7b9-ed82d1037464"
      },
      "execution_count": 14,
      "outputs": [
        {
          "output_type": "stream",
          "name": "stdout",
          "text": [
            "Split Vocab Size :  237435\n"
          ]
        }
      ]
    },
    {
      "cell_type": "code",
      "source": [
        "# 생성된 단어 사전 확인\n",
        "\n",
        "for idx, word in enumerate(split_tokenizer.word_index):\n",
        "  print(idx, ':', word)\n",
        "\n",
        "  if idx > 10:\n",
        "    break"
      ],
      "metadata": {
        "colab": {
          "base_uri": "https://localhost:8080/"
        },
        "id": "H6BXwOehMAcW",
        "outputId": "63c9d582-e9ec-477c-855c-9ade01e978ef"
      },
      "execution_count": 15,
      "outputs": [
        {
          "output_type": "stream",
          "name": "stdout",
          "text": [
            "0 : 이\n",
            "1 : 밝혔다.\n",
            "2 : 있다.\n",
            "3 : 말했다.\n",
            "4 : 수\n",
            "5 : 있는\n",
            "6 : 그는\n",
            "7 : 대한\n",
            "8 : 위해\n",
            "9 : 전했다.\n",
            "10 : 지난\n",
            "11 : 이번\n"
          ]
        }
      ]
    },
    {
      "cell_type": "markdown",
      "source": [
        "결과를 보면 공백 기반 토큰화의 문제점을 확인할 수 있습니다. 1번의 밝혔다. 는 밝히다, 밝다 등과 유사한 의미이지만 전혀 다른 단어로 분류되어 있습니다. 이처럼 공백 기반 토큰화는 불필요하게 큰 단어 사전을 가지게 되며 이는 연산량 증가로 이어집니다.\n",
        "\n",
        "만약에 밝+혔다 로 토큰화 했다면 밝+히다, 밝+다 같은 구절이 등장했을 때, 공통된 어절인 밝 은 하나로 묶여 학습 중 의미 파악이 쉬울것입니다. 이를 위해 형태소 분석기가 존재합니다."
      ],
      "metadata": {
        "id": "ghf2trk4MNVv"
      }
    },
    {
      "cell_type": "markdown",
      "source": [
        "## 형태소 기반 토큰화\n",
        "\n",
        "한국어 형태소 분석기는 대표적으로 Khaiii 와 KoNLPy가 사용됩니다. 이번에는 KoNLPy의 MeCab클래스를 활용해 실습해보겠습니다."
      ],
      "metadata": {
        "id": "paWpGqIcMq7Z"
      }
    },
    {
      "cell_type": "code",
      "source": [
        "tokenizer = Mecab()\n",
        "\n",
        "def mecab_split(sentence):\n",
        "  tokenized_sentence = tokenizer.morphs(sentence)\n",
        "\n",
        "  return tokenized_sentence\n",
        "\n",
        "mecab_corpus = []\n",
        "\n",
        "for kor in filtered_corpus:\n",
        "  mecab_corpus.append(mecab_split(kor))"
      ],
      "metadata": {
        "id": "prBlt8btMKdU"
      },
      "execution_count": 16,
      "outputs": []
    },
    {
      "cell_type": "markdown",
      "source": [
        "이제 형태소 기반 토큰화를 진행한 후의 단어 사전의 길이를 확인해보겠습니다.\n"
      ],
      "metadata": {
        "id": "1e85NTIlOXIe"
      }
    },
    {
      "cell_type": "code",
      "source": [
        "mecab_tensor, mecab_tokenizer = tokenize(mecab_corpus)\n",
        "\n",
        "print('MeCab Vocab Size : ', len(mecab_tokenizer.word_index))"
      ],
      "metadata": {
        "colab": {
          "base_uri": "https://localhost:8080/"
        },
        "id": "yh6spfRSOUiF",
        "outputId": "fcd77818-42c0-4888-d061-27213f3d888c"
      },
      "execution_count": 17,
      "outputs": [
        {
          "output_type": "stream",
          "name": "stdout",
          "text": [
            "MeCab Vocab Size :  52279\n"
          ]
        }
      ]
    },
    {
      "cell_type": "markdown",
      "source": [
        "앞에서 본 공백 기반 토큰화 진행 후의 단어 사전의 길이와 비교해보면 현저히 줄어든 것을 확인할 수 있습니다. 이는 곧 연산량을 감소로 이어져 더 빠른 학습을 가능하게 하고, 모델의 파라미터수를 줄어들게해 학습도 더 잘됩니다. \n",
        "\n",
        "https://aiopen.etri.re.kr/service_dataset.php\n",
        "\n",
        "형태소 분석기로 유명한 KorBERT 모델의 구조를 볼 수 있는 링크입니다."
      ],
      "metadata": {
        "id": "L-kek9oGOo57"
      }
    },
    {
      "cell_type": "markdown",
      "source": [
        "이번에는 tensor로 encoding된 문장을 다시 decoding 해보겠습니다."
      ],
      "metadata": {
        "id": "iiCf93PqQuyF"
      }
    },
    {
      "cell_type": "code",
      "source": [
        "mecab_tensor"
      ],
      "metadata": {
        "colab": {
          "base_uri": "https://localhost:8080/"
        },
        "id": "qqL0MNEYRg5W",
        "outputId": "4e2ce252-63f2-48f7-b224-06a7dbf3eab6"
      },
      "execution_count": 18,
      "outputs": [
        {
          "output_type": "execute_result",
          "data": {
            "text/plain": [
              "array([[  148,   272,    14, ...,     0,     0,     0],\n",
              "       [  276,    14,     8, ...,     0,     0,     0],\n",
              "       [32434,  1390,  5010, ...,     0,     0,     0],\n",
              "       ...,\n",
              "       [  390,     4,  3057, ...,     0,     0,     0],\n",
              "       [ 2963,    15,   408, ...,     0,     0,     0],\n",
              "       [   30,    15,   162, ...,     0,     0,     0]], dtype=int32)"
            ]
          },
          "metadata": {},
          "execution_count": 18
        }
      ]
    },
    {
      "cell_type": "code",
      "source": [
        "# Case 1 : tokenizer.sequences_to_texts()\n",
        "\n",
        "texts = mecab_tokenizer.sequences_to_texts([mecab_tensor[100]])\n",
        "texts[0]"
      ],
      "metadata": {
        "colab": {
          "base_uri": "https://localhost:8080/",
          "height": 54
        },
        "id": "lEYMfW4zOkLR",
        "outputId": "749d6066-d416-41cc-a84c-77369397e087"
      },
      "execution_count": 19,
      "outputs": [
        {
          "output_type": "execute_result",
          "data": {
            "text/plain": [
              "'엘튼 존 은 이날 공식 웹 사이트 를 통해 ‘ 클 래라 앤드 이다 밸리 댄싱 ’( klara and edda belly - dancing ) 사진 의 주인 이 라고 말 했 다 .'"
            ],
            "application/vnd.google.colaboratory.intrinsic+json": {
              "type": "string"
            }
          },
          "metadata": {},
          "execution_count": 19
        }
      ]
    },
    {
      "cell_type": "code",
      "source": [
        "sentence = ''\n",
        "\n",
        "for w in mecab_tensor[100]:\n",
        "  if w==0:\n",
        "    continue\n",
        "  sentence += mecab_tokenizer.index_word[w]+ ' '\n",
        "\n",
        "print(sentence)"
      ],
      "metadata": {
        "colab": {
          "base_uri": "https://localhost:8080/"
        },
        "id": "8mhn05isQ-Pa",
        "outputId": "1af777d5-245d-492a-fb29-82dca96e874c"
      },
      "execution_count": 20,
      "outputs": [
        {
          "output_type": "stream",
          "name": "stdout",
          "text": [
            "엘튼 존 은 이날 공식 웹 사이트 를 통해 ‘ 클 래라 앤드 이다 밸리 댄싱 ’( klara and edda belly - dancing ) 사진 의 주인 이 라고 말 했 다 . \n"
          ]
        }
      ]
    },
    {
      "cell_type": "markdown",
      "source": [
        "## SentencePiece 사용하기\n",
        "\n",
        "라이브러리 버전을 한 번 확인해보겠습니다."
      ],
      "metadata": {
        "id": "xjxN0dEmSsBn"
      }
    },
    {
      "cell_type": "code",
      "source": [
        "import tensorflow as tf\n",
        "import numpy as np\n",
        "import matplotlib.pyplot as plt\n",
        "import matplotlib\n",
        "import konlpy\n",
        "\n",
        "print(tf.__version__)\n",
        "print(np.__version__)\n",
        "print(matplotlib.__version__)\n",
        "print(konlpy.__version__)"
      ],
      "metadata": {
        "colab": {
          "base_uri": "https://localhost:8080/"
        },
        "id": "IhBkeRPtShS4",
        "outputId": "3580359a-b573-4c14-f551-260e5cfe5cac"
      },
      "execution_count": 21,
      "outputs": [
        {
          "output_type": "stream",
          "name": "stdout",
          "text": [
            "2.8.2\n",
            "1.21.6\n",
            "3.2.2\n",
            "0.6.0\n"
          ]
        }
      ]
    },
    {
      "cell_type": "markdown",
      "source": [
        "1. SentencePiece 설치\n",
        "\n",
        "https://github.com/google/sentencepiece\n",
        "\n",
        "위 링크에서 자세한 내용을 볼 수 있습니다."
      ],
      "metadata": {
        "id": "AIrbaUvATnN2"
      }
    },
    {
      "cell_type": "code",
      "source": [
        "!pip install sentencepiece"
      ],
      "metadata": {
        "colab": {
          "base_uri": "https://localhost:8080/"
        },
        "id": "8-uFaBdVTBCr",
        "outputId": "951b9ad1-302e-46c2-db50-2547c960ee81"
      },
      "execution_count": 22,
      "outputs": [
        {
          "output_type": "stream",
          "name": "stdout",
          "text": [
            "Looking in indexes: https://pypi.org/simple, https://us-python.pkg.dev/colab-wheels/public/simple/\n",
            "Requirement already satisfied: sentencepiece in /usr/local/lib/python3.7/dist-packages (0.1.97)\n"
          ]
        }
      ]
    },
    {
      "cell_type": "markdown",
      "source": [
        "SentencePiece 모델을 학습하겠습니다."
      ],
      "metadata": {
        "id": "fwdoZdWWUOZg"
      }
    },
    {
      "cell_type": "code",
      "source": [
        "import sentencepiece as spm\n",
        "temp_file_path = '/content/drive/MyDrive/AIFFEL/GoingDeeper(NLP)/2_단어사전만들기/korean-english-park.train.ko.temp2'\n",
        "\n",
        "vocab_size = 8000\n",
        "\n",
        "with open(temp_file_path, 'w') as f:\n",
        "  for row in filtered_corpus:\n",
        "    f.write(str(row) + '\\n')\n",
        "\n",
        "spm.SentencePieceTrainer.Train(\n",
        "    '--input={} --model_prefix=korean_spm --vocab_size={} --model_type=unigram'.format(temp_file_path, vocab_size)\n",
        ")\n",
        "#위 Train에서  --model_type = 'unigram'이 디폴트 적용되어 있습니다. --model_type = 'bpe' 로 옵션을 주어 변경할 수 있습니다.\n",
        "\n",
        "!ls -l korean_spm*"
      ],
      "metadata": {
        "colab": {
          "base_uri": "https://localhost:8080/"
        },
        "id": "gW3CSBQJT1OA",
        "outputId": "63b8f3a6-1dfc-4735-ec7d-954c0d5b0ae8"
      },
      "execution_count": 23,
      "outputs": [
        {
          "output_type": "stream",
          "name": "stdout",
          "text": [
            "-rw-r--r-- 1 root root 376898 Sep 24 08:45 korean_spm.model\n",
            "-rw-r--r-- 1 root root 146218 Sep 24 08:45 korean_spm.vocab\n"
          ]
        }
      ]
    },
    {
      "cell_type": "markdown",
      "source": [
        "korean_spm.model, korean_spm.vocab 파일이 생성되었음을 볼 수 있습니다.\n",
        "\n",
        "이제 학습된 SentencePiece 모델을 어떻게 활용하는지 살펴보겠습니다."
      ],
      "metadata": {
        "id": "eFF7rNuBVVUZ"
      }
    },
    {
      "cell_type": "code",
      "source": [
        "s = spm.SentencePieceProcessor()\n",
        "s.Load('korean_spm.model')\n",
        "\n",
        "# SentencePiece를 활용한 sentence -> encoding\n",
        "tokensIDs = s.EncodeAsIds(\"아버지가 방...에들어가신다.\")\n",
        "print(tokensIDs)\n",
        "\n",
        "# SentencePiece를 활용한 sentence -> encoded pieces\n",
        "print(s.SampleEncodeAsPieces('아버지가방에들어가신다.',2 ,0.0))\n",
        "\n",
        "# SentencePiece를 활용한 encoding -> sentence 복원\n",
        "print(s.DecodeIds(tokensIDs))"
      ],
      "metadata": {
        "colab": {
          "base_uri": "https://localhost:8080/"
        },
        "id": "31bjweLFVelG",
        "outputId": "2c27b5f0-e2bd-4a26-b063-33341113702e"
      },
      "execution_count": 24,
      "outputs": [
        {
          "output_type": "stream",
          "name": "stdout",
          "text": [
            "[1243, 11, 830, 3, 3, 3, 7, 3608, 11, 287, 38, 3]\n",
            "['▁아버지', '가', '방', '에', '들', '어', '가', '신', '다', '.']\n",
            "아버지가 방...에들어가신다.\n"
          ]
        }
      ]
    },
    {
      "cell_type": "code",
      "source": [
        "s.EncodeAsIds('안녕하세요')"
      ],
      "metadata": {
        "colab": {
          "base_uri": "https://localhost:8080/"
        },
        "id": "XGECetinGUNg",
        "outputId": "061367ba-af56-4362-e919-712e5014bfcb"
      },
      "execution_count": 25,
      "outputs": [
        {
          "output_type": "execute_result",
          "data": {
            "text/plain": [
              "[277, 7746, 170, 103, 514]"
            ]
          },
          "metadata": {},
          "execution_count": 25
        }
      ]
    },
    {
      "cell_type": "code",
      "source": [
        "type('안녕하세요')"
      ],
      "metadata": {
        "colab": {
          "base_uri": "https://localhost:8080/"
        },
        "id": "2XyzQjZkGaWe",
        "outputId": "26dfeff8-2762-4316-8ede-b91547bd2144"
      },
      "execution_count": 26,
      "outputs": [
        {
          "output_type": "execute_result",
          "data": {
            "text/plain": [
              "str"
            ]
          },
          "metadata": {},
          "execution_count": 26
        }
      ]
    },
    {
      "cell_type": "markdown",
      "source": [
        "Tokenizer 함수 작성\n",
        "\n",
        "바로 앞에서 훈련시킨 Sentencepiece를 활용하여 위 함수와 유사한 기능을 하는 sp_tokenize()함수를 정의하겠습니다. 함수는 아래 기능을 갖고 있습니다.\n",
        "\n",
        "1. 매개변수로 토큰화된 문장의 리스트를 전달하는 게 아니라 온전한 문장의 리스트를 전달합니다.\n",
        "2. 생성된 vocab 파일을 읽어와 { 단어 : 인덱스 } 형태를 가지는 word_index 사전과 {인덱스 : 단어} 형태를 가지는 index_word 사전을 생성하고 함께 반환합니다.\n",
        "3. tensor는 토큰화한 후 인코딩된 문장입니다.(인덱스화)"
      ],
      "metadata": {
        "id": "eLeipbC8vI4w"
      }
    },
    {
      "cell_type": "code",
      "source": [
        "def sp_tokenize(s, corpus):\n",
        "  tensor = []\n",
        "\n",
        "  for sen in corpus:\n",
        "    tensor.append(s.EncodeAsIds(sen))\n",
        "  \n",
        "  with open(\"./korean_spm.vocab\", 'r') as f:\n",
        "    vocab = f.readlines()\n",
        "  \n",
        "  word_index = {}\n",
        "  index_word = {}\n",
        "\n",
        "  for idx, line in enumerate(vocab):\n",
        "    word = line.split(\"\\t\")[0]\n",
        "\n",
        "    word_index.update({word:idx})\n",
        "    index_word.update({idx:word})\n",
        "  \n",
        "  tensor = tensorflow.keras.preprocessing.sequence.pad_sequences(tensor, padding='post')\n",
        "\n",
        "  return tensor, word_index, index_word"
      ],
      "metadata": {
        "id": "wsZO1ZG4aGOz"
      },
      "execution_count": 27,
      "outputs": []
    },
    {
      "cell_type": "code",
      "source": [
        "# 사용 예시\n",
        "\n",
        "my_corpus =['나는 밥을 먹었습니다.', '그러나 여전히 ㅠㅠ 배가 고픕니다...']\n",
        "tensor, word_index, index_word = sp_tokenize(s, my_corpus)\n",
        "print(tensor)\n",
        "print((word_index))\n",
        "print((index_word))"
      ],
      "metadata": {
        "colab": {
          "base_uri": "https://localhost:8080/"
        },
        "id": "qckVEulUwex6",
        "outputId": "b9c10a28-4a08-4ad0-c156-cdb67cc50f58"
      },
      "execution_count": 28,
      "outputs": [
        {
          "output_type": "stream",
          "name": "stdout",
          "text": [
            "[[1954 5665    5    4 7975 1988    3    0    0    0    0    0    0    0]\n",
            " [ 107 1642  101    4    0  417   11    4   14    0 1974    3    3    3]]\n",
            "{'<unk>': 0, '<s>': 1, '</s>': 2, '.': 3, '▁': 4, '을': 5, '의': 6, '에': 7, '이': 8, '를': 9, '는': 10, '가': 11, '은': 12, ',': 13, '고': 14, '에서': 15, '로': 16, '한': 17, '▁“': 18, '인': 19, '”': 20, '일': 21, ')': 22, '(': 23, '과': 24, '▁이': 25, '와': 26, '으로': 27, '▁있다': 28, '지': 29, '도': 30, '▁수': 31, '할': 32, '했다': 33, '▁밝혔다': 34, '▁말했다': 35, '하고': 36, '년': 37, '다': 38, '하는': 39, '▁있는': 40, '기': 41, '리': 42, '▁그': 43, '자': 44, '▁전': 45, '며': 46, '스': 47, '해': 48, '▁2': 49, '▁그는': 50, '▁1': 51, '만': 52, '▁대한': 53, '된': 54, '▁위해': 55, '월': 56, '▁전했다': 57, '▁미국': 58, '▁한': 59, '▁미': 60, '▁3': 61, '▁이번': 62, '▁중': 63, '▁지난': 64, '현지시간': 65, '시': 66, '라': 67, '에게': 68, '나': 69, '▁대해': 70, '어': 71, '\"': 72, '사': 73, 's': 74, '주': 75, '▁것으로': 76, '▁‘': 77, '트': 78, '명이': 79, '▁것이라고': 80, '▁것': 81, '이라고': 82, '게': 83, '들이': 84, '▁\"': 85, '▁4': 86, '드': 87, '대': 88, '▁있다고': 89, '하기': 90, '르': 91, '수': 92, '▁것을': 93, '아': 94, '서': 95, '▁이라크': 96, '▁주': 97, '적인': 98, '▁6': 99, '하지': 100, '히': 101, '’': 102, '세': 103, '▁5': 104, '상': 105, '▁더': 106, '▁그러나': 107, '들은': 108, '부': 109, '하게': 110, '▁다른': 111, '▁대통령': 112, '운': 113, '적': 114, '▁중국': 115, '치': 116, '비': 117, 'e': 118, '명': 119, '▁한편': 120, '▁10': 121, '전': 122, '라고': 123, '던': 124, '성': 125, '▁북한': 126, '프': 127, '▁후': 128, '▁내': 129, '-': 130, '원': 131, '명의': 132, '소': 133, '됐다': 134, '▁바': 135, '미': 136, '정': 137, '▁이후': 138, '선': 139, '했다고': 140, '▁아': 141, '크': 142, '▁정부': 143, '▁영국': 144, '보': 145, '니': 146, '▁7': 147, '▁한국': 148, '▁통해': 149, '▁알': 150, '마': 151, '▁일': 152, '▁제': 153, '▁두': 154, '▁많은': 155, '장': 156, '▁또': 157, '이다': 158, '▁8': 159, '▁위한': 160, '될': 161, '▁대통령은': 162, '분': 163, '위': 164, '▁부시': 165, '진': 166, '화': 167, '야': 168, '▁등': 169, '하': 170, '▁가장': 171, '▁비': 172, '▁동안': 173, '까지': 174, '오': 175, '▁같은': 176, '▁것이다': 177, '제': 178, '▁대변인은': 179, '에는': 180, '▁대': 181, '당': 182, '바': 183, '조': 184, '면': 185, '국': 186, '개': 187, '▁지': 188, '▁유': 189, '디': 190, '들을': 191, '▁약': 192, '▁나': 193, '▁시': 194, '했으며': 195, '▁세계': 196, '파': 197, '하며': 198, '▁부': 199, '▁말': 200, '▁주장했다': 201, '▁문제': 202, '▁사': 203, '▁오바마': 204, '▁정': 205, '▁때': 206, '▁될': 207, '내': 208, '적으로': 209, '우': 210, '즈': 211, '▁것은': 212, '간': 213, '타': 214, '▁19': 215, '▁영화': 216, '▁할': 217, '▁한다': 218, '▁또한': 219, '▁뒤': 220, '▁오': 221, '▁9': 222, '▁마': 223, 'o': 224, '▁12': 225, '▁조사': 226, '▁현재': 227, '▁관련': 228, '▁것이': 229, '구': 230, '▁경제': 231, '▁최근': 232, '▁경우': 233, '▁보도했다': 234, '들': 235, '여': 236, '▁일본': 237, '▁덧붙였다': 238, '레': 239, '▁공격': 240, '▁이상': 241, '▁반': 242, '▁않았다': 243, 'A': 244, '▁있었다': 245, '▁무': 246, '및': 247, '차': 248, '한다': 249, '식': 250, '에서는': 251, '1': 252, '▁불': 253, '그': 254, '용': 255, 'a': 256, '단': 257, '러': 258, '▁국가': 259, 'd': 260, '려': 261, '했던': 262, '▁보': 263, '유': 264, \"'\": 265, '었다': 266, '권': 267, '문': 268, '▁11': 269, '약': 270, '▁기': 271, '▁20': 272, '▁일부': 273, '계': 274, '티': 275, '▁자신의': 276, '▁안': 277, '▁해': 278, '▁거': 279, '2': 280, '▁공': 281, '관': 282, '▁함께': 283, '▁조': 284, '3': 285, '하다': 286, '신': 287, '브': 288, '▁당시': 289, '모': 290, '▁했다': 291, '카': 292, '안': 293, \"▁'\": 294, '▁재': 295, '▁계속': 296, '▁새로': 297, '▁다': 298, '▁모든': 299, '▁파': 300, '▁그리고': 301, '방': 302, '▁후보': 303, '노': 304, '▁없다': 305, '▁하': 306, '회': 307, '실': 308, '▁때문에': 309, 'm': 310, '▁지원': 311, '직': 312, 'S': 313, '코': 314, '보다': 315, '해야': 316, '▁신': 317, '▁미군': 318, '▁파키스탄': 319, '무': 320, '▁예정이다': 321, '▁수도': 322, '린': 323, '▁상': 324, '억': 325, '▁프랑스': 326, '▁자': 327, '▁모두': 328, '호': 329, '▁있습니다': 330, '▁설명했다': 331, '▁몇': 332, '▁결과': 333, '▁러시아': 334, '▁계획': 335, '▁있으며': 336, '▁구': 337, '▁이스라엘': 338, '▁경찰': 339, '체': 340, '▁모': 341, '▁경찰은': 342, '산': 343, '점': 344, '▁지역': 345, '토': 346, '물': 347, '▁세': 348, '▁클린턴': 349, '▁카': 350, '▁유엔': 351, '질': 352, '▁정부는': 353, '▁민주당': 354, '경': 355, '동': 356, '▁테러': 357, '▁큰': 358, '▁도': 359, '▁피': 360, '▁우리': 361, 'C': 362, '법': 363, '▁사고': 364, '▁결정': 365, '▁선거': 366, 't': 367, '▁연구': 368, '들의': 369, '▁여성': 370, 'y': 371, '▁성': 372, '▁30': 373, '▁데': 374, '▁핵': 375, '피': 376, '더': 377, '▁군': 378, '명을': 379, '학': 380, '연': 381, '감': 382, 'u': 383, '▁지난해': 384, '되는': 385, '에따르면': 386, '력': 387, 'c': 388, '▁이들': 389, '▁시작': 390, '에도': 391, '▁강': 392, 'i': 393, '▁않을': 394, '▁열린': 395, '했습니다': 396, '▁줄': 397, '▁방문': 398, '▁발표': 399, '▁달러': 400, '군': 401, '▁당': 402, '▁경기': 403, '지만': 404, '▁대통령이': 405, '공': 406, '교': 407, '버': 408, '▁이란': 409, '▁달': 410, '▁올해': 411, '▁스': 412, '라는': 413, 'n': 414, '▁양': 415, '루': 416, '▁배': 417, '▁발생한': 418, '▁있을': 419, '▁이날': 420, '▁물': 421, '▁총리는': 422, '데': 423, '란': 424, '▁하는': 425, '▁원': 426, '▁소': 427, '행': 428, '▁the': 429, '▁노': 430, '키': 431, '▁발표했다': 432, '시간': 433, '중': 434, '▁15': 435, '심': 436, '재': 437, '▁리': 438, '▁초': 439, '6': 440, '▁발': 441, '▁받고': 442, '▁존': 443, '난': 444, 'D': 445, '살': 446, '▁실': 447, 'l': 448, '▁회담': 449, '이나': 450, '하면서': 451, '▁(': 452, '▁채': 453, '▁A': 454, '▁국제': 455, '▁총리': 456, '터': 457, '▁서': 458, '하여': 459, '▁유럽': 460, '▁총': 461, '▁관계': 462, '았다': 463, '되고': 464, '▁to': 465, '포': 466, '▁가운데': 467, '들에게': 468, '▁미국의': 469, '길': 470, 'P': 471, '▁아프간': 472, '▁S': 473, '으며': 474, '▁간': 475, '▁라': 476, '▁조치': 477, '▁타': 478, '▁기록': 479, '▁코': 480, '▁16': 481, '▁주장': 482, '종': 483, '▁첫': 484, '▁메': 485, '역': 486, '▁개': 487, '▁of': 488, 'M': 489, '▁포': 490, '▁의해': 491, '▁18': 492, '면서': 493, '▁아이': 494, '워': 495, '▁인도': 496, '▁된다': 497, '▁입': 498, '▁매': 499, '▁사람들이': 500, '▁주요': 501, '부터': 502, '▁사건': 503, '든': 504, '▁차': 505, '▁프로그램': 506, '.”': 507, '▁정부가': 508, '건': 509, '임': 510, '▁시위': 511, ')’': 512, '▁다시': 513, '요': 514, '▁감독': 515, '였다': 516, 'ing': 517, '5': 518, '▁인해': 519, 'er': 520, 'f': 521, '▁차량': 522, '▁승리': 523, '되어': 524, '▁보고': 525, '들과': 526, '입니다': 527, '형': 528, '▁동': 529, '▁회사': 530, '▁않은': 531, '설': 532, '▁열': 533, '▁13': 534, '▁투표': 535, '저': 536, '▁여': 537, '석': 538, 'ed': 539, '발': 540, '▁있다는': 541, '▁예정': 542, '거': 543, 'p': 544, '돼': 545, '▁피해': 546, '▁혐의로': 547, '7': 548, '▁어': 549, '▁우': 550, '▁하고': 551, '▁위': 552, '번': 553, '네': 554, '▁시간': 555, '▁활동': 556, '▁지지': 557, '▁혐의': 558, '▁외': 559, '▁반대': 560, 'g': 561, '배': 562, '금': 563, '▁중단': 564, '▁독일': 565, '▁협상': 566, '▁전쟁': 567, 'al': 568, '▁산': 569, '▁생각': 570, '반': 571, '두': 572, '▁합의': 573, '▁in': 574, '되지': 575, '품': 576, '장은': 577, '▁됐다': 578, '▁상원의원': 579, '▁시장': 580, '▁선': 581, '▁14': 582, '슨': 583, '%': 584, 'r': 585, '너': 586, '▁이미': 587, '민': 588, '▁대학': 589, '▁호주': 590, '래': 591, 'km': 592, '▁위치한': 593, '▁받았다': 594, '▁관리': 595, '▁대선': 596, '▁경': 597, '▁뉴욕': 598, '▁탈레반': 599, '료': 600, 'ar': 601, '▁우려': 602, '▁연': 603, '▁명': 604, '/': 605, '년간': 606, '▁팔레스타인': 607, '▁W': 608, '▁없는': 609, '▁호': 610, '스트': 611, '됐다고': 612, '달러': 613, '▁페': 614, '▁여러': 615, '병': 616, '▁우주': 617, '습니다': 618, '▁석방': 619, '론': 620, '달': 621, '▁최고': 622, 'I': 623, '▁아직': 624, '4': 625, '청': 626, '▁조지': 627, '▁내용': 628, '▁TV': 629, '0': 630, '▁새': 631, '▁소속': 632, '이라며': 633, '▁잘': 634, '▁추가': 635, 'an': 636, '로부터': 637, '▁연방': 638, '급': 639, '작': 640, '▁25': 641, '▁사실을': 642, '▁레': 643, '▁점': 644, 'E': 645, '▁위협': 646, '▁단': 647, '통': 648, '이며': 649, '▁매케인': 650, '▁관계자는': 651, '▁김': 652, '▁사용': 653, '속': 654, '▁남': 655, '▁않고': 656, '▁17': 657, '▁확인': 658, '▁포함': 659, 'F': 660, '지는': 661, '▁노력': 662, '다고': 663, '▁방송': 664, '▁많': 665, '릴': 666, '생': 667, '▁인터넷': 668, '판': 669, '▁지적했다': 670, '▁맞': 671, \"▁''\": 672, '▁이용': 673, '▁적': 674, '▁한다고': 675, '류': 676, '▁저': 677, '▁버': 678, '▁지금': 679, '▁도시': 680, '▁이슬람': 681, '▁남부': 682, '?': 683, '스는': 684, '▁사이': 685, '▁장': 686, '▁판매': 687, 'T': 688, '▁인근': 689, '▁비난': 690, '클': 691, '▁정치': 692, '▁매우': 693, '했었다': 694, '출': 695, '▁당국': 696, '▁폭발': 697, 'N': 698, '▁사람': 699, '▁올림픽': 700, '▁심': 701, '▁기술': 702, '천': 703, '▁하나': 704, '범': 705, '▁개발': 706, '▁보도': 707, '▁당국은': 708, '▁입장': 709, '▁대부분': 710, '▁볼': 711, '▁발견': 712, '츠': 713, '온': 714, 'or': 715, '▁사망': 716, '▁증가': 717, '했지만': 718, '메': 719, '▁부상': 720, '에따라': 721, '개월': 722, '했고': 723, '량': 724, '▁감': 725, '▁없다고': 726, '양': 727, '▁이어': 728, '된다': 729, '▁살': 730, '▁명의': 731, '▁B': 732, '▁올': 733, '▁정책': 734, '▁받은': 735, '▁자동차': 736, '▁2006': 737, '처럼': 738, '색': 739, 'K': 740, '▁않는다': 741, '▁손': 742, '▁못했다': 743, '▁이는': 744, '되었다': 745, '결': 746, '▁100': 747, '8': 748, '▁24': 749, '▁준비': 750, '퍼': 751, '증': 752, '▁M': 753, '위원회': 754, '▁루': 755, '▁교': 756, '강': 757, '▁C': 758, '▁날': 759, '▁남자': 760, '▁성명': 761, '▁어떤': 762, '▁생산': 763, '▁집': 764, '▁평화': 765, '▁발생': 766, '▁가족': 767, '▁오늘': 768, '베': 769, '편': 770, '했으나': 771, '▁금융': 772, '▁기자': 773, '▁건물': 774, '날': 775, '▁폭탄': 776, '친': 777, '▁하지만': 778, '▁21': 779, '▁이름': 780, '▁있던': 781, '울': 782, '▁본': 783, '▁베': 784, '▁오후': 785, '개의': 786, '하기로': 787, '▁지도자': 788, 'G': 789, '명은': 790, '이었다': 791, '▁해결': 792, '▁언론': 793, '▁P': 794, 'B': 795, '▁의사': 796, '▁50': 797, '▁방법': 798, 'en': 799, '▁검찰': 800, '▁23': 801, '하는데': 802, '머': 803, '▁27': 804, '▁미얀마': 805, 'h': 806, '▁자신': 807, '▁법원': 808, '▁변화': 809, '▁법': 810, '▁공화당': 811, '▁앞서': 812, '▁공개': 813, '▁대표': 814, '와의': 815, '▁행사': 816, '▁필요': 817, '▁상태': 818, '▁안전': 819, '처': 820, '▁토': 821, '영': 822, '▁북부': 823, '▁이에': 824, '▁22': 825, '립': 826, '▁있어': 827, '복': 828, '▁보호': 829, '▁방': 830, '▁분': 831, '▁종': 832, '▁치': 833, '▁건강': 834, '격': 835, '▁만': 836, '▁치료': 837, '▁인터뷰에서': 838, '▁병원': 839, '▁하지': 840, '절': 841, '▁컴퓨터': 842, '▁T': 843, ':': 844, '▁강조했다': 845, '▁다음': 846, '▁상승': 847, '합': 848, '▁단체': 849, '테': 850, '기를': 851, '▁갖고': 852, '▁아시아': 853, '▁이러': 854, 'b': 855, '▁그들은': 856, '▁살해': 857, '▁현': 858, '▁납치': 859, '▁처음': 860, '▁들어': 861, '각': 862, '예': 863, '는데': 864, '지역': 865, '겨': 866, '층': 867, '▁떨어진': 868, '▁것에': 869, '투': 870, '▁요구': 871, '▁학교': 872, '언': 873, '▁2005': 874, '▁추': 875, '▁힐러리': 876, '렌': 877, '▁원문기사보기': 878, '▁있도록': 879, '▁반군': 880, 'O': 881, '하도록': 882, '▁오전': 883, '▁사태': 884, '▁D': 885, '▁거래': 886, '▁마지막': 887, '▁조직': 888, 'in': 889, '탄': 890, '팀': 891, '▁여행': 892, '▁비난했다': 893, '져': 894, '▁논의': 895, '▁정보': 896, '▁터키': 897, '▁발언': 898, '▁금지': 899, '▁취': 900, '▁상황': 901, '▁북한이': 902, '▁가진': 903, '▁지구': 904, 'and': 905, '▁은행': 906, '▁경찰이': 907, '측': 908, '집': 909, '이라는': 910, '▁최대': 911, '▁진': 912, '▁팀': 913, '▁요청': 914, '▁오는': 915, '▁미국과': 916, '하자': 917, 'ic': 918, '업': 919, '▁F': 920, '▁처음으로': 921, '▁장관은': 922, 'on': 923, '거나': 924, '▁영': 925, '▁각': 926, '▁진행': 927, '▁자신이': 928, '▁연기': 929, '▁그녀는': 930, '▁그녀': 931, '▁이를': 932, '▁막': 933, '▁충돌': 934, '▁판결': 935, '▁출신': 936, '▁앞': 937, '▁온': 938, '으로부터': 939, 'L': 940, '▁사회': 941, '▁버락': 942, '▁규모': 943, 'R': 944, 'v': 945, '▁생': 946, '▁담': 947, '▁a': 948, '▁친': 949, '졌다': 950, '번째': 951, '▁지난달': 952, '됐으며': 953, '▁불법': 954, '▁용의자': 955, '열': 956, '▁없었다': 957, '▁26': 958, '▁행동': 959, '▁이탈리아': 960, '▁밤': 961, '▁최소': 962, '매': 963, '▁결': 964, '▁40': 965, '▁폴': 966, 'le': 967, '▁국민': 968, '▁보내': 969, '▁난': 970, '▁자금': 971, '▁성공': 972, '▁유지': 973, '▁앞으로': 974, '▁있지만': 975, '▁영향': 976, '▁야당': 977, '▁발사': 978, '▁번': 979, '▁없이': 980, '▁지역에서': 981, '▁공항': 982, '박': 983, '▁CNN': 984, '▁보인다': 985, 'w': 986, '▁투자': 987, '▁서울': 988, '▁된': 989, '▁들': 990, '▁̋': 991, '상을': 992, '등': 993, '▁H': 994, '먼': 995, '▁사망했다': 996, '▁예': 997, '▁주둔': 998, '▁관한': 999, '▁공급': 1000, '▁N': 1001, '▁투': 1002, '준': 1003, '림': 1004, 'it': 1005, '▁군사': 1006, '런': 1007, '함': 1008, '리는': 1009, '▁스페인': 1010, '추': 1011, 'k': 1012, '▁환경': 1013, '락': 1014, '▁의회': 1015, '위를': 1016, '령': 1017, '▁좋은': 1018, '▁사망자': 1019, '▁29': 1020, '▁G': 1021, '▁않다': 1022, '해서': 1023, '▁공식': 1024, '승': 1025, '케': 1026, '▁통': 1027, '▁미사일': 1028, '▁제공': 1029, '초': 1030, '▁지방': 1031, '5%': 1032, '▁걸': 1033, '▁가격': 1034, '▁만에': 1035, '_': 1036, '▁회장': 1037, '▁돈': 1038, '▁현지': 1039, '우리는': 1040, '▁사람들': 1041, '▁무샤라프': 1042, '포인트': 1043, '▁돌': 1044, '한다고': 1045, 're': 1046, '▁미국이': 1047, '▁수사': 1048, '▁출연': 1049, '▁하루': 1050, '주의': 1051, '▁L': 1052, '자가': 1053, '자들은': 1054, '▁문': 1055, '후': 1056, '▁런던': 1057, '▁공동': 1058, '▁비행기': 1059, '▁관심': 1060, '▁가능성': 1061, '▁팔': 1062, '▁인정': 1063, '▁사람들은': 1064, '▁선수': 1065, '▁동영상': 1066, '▁28': 1067, '▁코리아': 1068, '외': 1069, '▁관': 1070, '미국': 1071, '▁제작': 1072, '▁백악관': 1073, '▁변': 1074, 'article': 1075, '록': 1076, '▁행위': 1077, '▁범죄': 1078, '입': 1079, '▁인질': 1080, '▁알려졌다': 1081, '▁눈': 1082, '음': 1083, '▁이들은': 1084, '회의': 1085, '▁AP': 1086, '긴': 1087, '독': 1088, '▁무기': 1089, '▁평': 1090, '▁우승': 1091, '▁하락': 1092, '▁벌이': 1093, '혀': 1094, '▁표': 1095, '▁불구하고': 1096, '본': 1097, '▁중요한': 1098, '▁패': 1099, '▁정상': 1100, '▁오바마는': 1101, '▁바그다드': 1102, '▁말했습니다': 1103, '▁정치적': 1104, '▁위험': 1105, '▁나라': 1106, '받': 1107, '▁빌': 1108, '▁박사는': 1109, '있는': 1110, '▁장관': 1111, '▁속': 1112, '▁게임': 1113, '▁체포': 1114, '▁남성': 1115, '▁발생했다': 1116, '간의': 1117, '▁대통령과': 1118, '▁독립': 1119, '▁사망한': 1120, '▁고위': 1121, '▁이전': 1122, '▁사진': 1123, '▁미국은': 1124, '▁자살': 1125, '▁것입니다': 1126, '▁헤': 1127, '▁통과': 1128, '▁시도': 1129, '▁이런': 1130, '▁인용': 1131, '▁여부': 1132, '하겠다고': 1133, '▁의원': 1134, '른': 1135, '하면': 1136, '▁역할': 1137, '▁밀': 1138, '▁반면': 1139, '▁2008': 1140, '렸다': 1141, '▁병력': 1142, '▁운동': 1143, 'at': 1144, '▁정도': 1145, '▁강화': 1146, '▁잠': 1147, '▁드': 1148, '시켰다': 1149, '50': 1150, '▁폐쇄': 1151, '▁워싱턴': 1152, '▁보안': 1153, '표': 1154, '▁곳': 1155, 'H': 1156, '▁직접': 1157, '커': 1158, '▁천': 1159, '▁역사': 1160, '▁이야기': 1161, '▁부토': 1162, '~': 1163, '▁예상': 1164, '▁부족': 1165, '’’': 1166, 'ch': 1167, '▁기업': 1168, '▁회의': 1169, '▁부인': 1170, '▁애': 1171, '▁사실': 1172, '2005.08': 1173, '말': 1174, '있다': 1175, '▁사망했다고': 1176, '▁개인': 1177, '플': 1178, '목': 1179, '자인': 1180, '했을': 1181, '▁딸': 1182, '▁서비스': 1183, '남': 1184, 'CNN': 1185, '백': 1186, '▁누': 1187, '▁보다': 1188, '▁기간': 1189, '▁의하면': 1190, '▁모습을': 1191, '마리': 1192, '▁알카에다': 1193, '▁확보': 1194, '▁골': 1195, '▁재판': 1196, 'un': 1197, '▁c': 1198, '▁해안': 1199, '▁감소': 1200, '만명': 1201, '으나': 1202, '▁것이라는': 1203, '시킬': 1204, '랜드': 1205, '▁사업': 1206, '됐': 1207, '▁아이들': 1208, '▁2005.08': 1209, '하던': 1210, '▁힘': 1211, '억원': 1212, '▁자신들': 1213, '▁뉴스': 1214, '▁청': 1215, '▁높은': 1216, '▁더욱': 1217, '▁통신': 1218, '▁가능성이': 1219, '망': 1220, '▁뜻': 1221, '▁못': 1222, '▁국경': 1223, '▁지나': 1224, '쳐': 1225, '▁전체': 1226, '▁지난주': 1227, '▁상원': 1228, '▁길': 1229, '리아': 1230, '▁참여': 1231, '’(': 1232, '▁야': 1233, '곳': 1234, '▁보고서': 1235, '▁별': 1236, '▁건': 1237, '▁하마스': 1238, '▁성명에서': 1239, '▁출전': 1240, '골': 1241, '장을': 1242, '▁아버지': 1243, '▁&': 1244, '▁왔다': 1245, '▁참가': 1246, '▁비행': 1247, '▁언급': 1248, '▁의견': 1249, '만달러': 1250, '▁K': 1251, '▁구조': 1252, '▁아들': 1253, '▁호텔': 1254, '차례': 1255, '▁위기': 1256, '졌': 1257, '▁죽': 1258, '▁신문': 1259, '▁아침': 1260, '▁지역에': 1261, '▁맥': 1262, '이번': 1263, '▁거리': 1264, '▁아니다': 1265, '였던': 1266, '하려': 1267, '▁승인': 1268, '▁인쇄': 1269, '▁것이며': 1270, '성을': 1271, 'as': 1272, '정부': 1273, '▁for': 1274, '▁베이징': 1275, '▁2004': 1276, '▁총리가': 1277, '▁검사': 1278, '▁전화': 1279, '▁말을': 1280, '▁한나라당': 1281, '합니다': 1282, '▁마을': 1283, '▁알고': 1284, '▁잡': 1285, '▁않는': 1286, '▁이와': 1287, '▁마련': 1288, '▁않았다고': 1289, '▁석유': 1290, '▁주택': 1291, '▁제안': 1292, '자들이': 1293, '▁폭탄테러': 1294, '▁캘리포니아': 1295, '세의': 1296, '맨': 1297, '태': 1298, '현': 1299, '▁키': 1300, '나는': 1301, '▁요': 1302, '▁건설': 1303, 'es': 1304, '▁철수': 1305, '▁시신': 1306, '▁디': 1307, '▁기자회견에서': 1308, '▁핵무기': 1309, '▁어제': 1310, '▁않': 1311, '▁번째': 1312, '돌': 1313, '▁되는': 1314, '▁국회': 1315, '▁시작했다': 1316, '▁보였다': 1317, '설명': 1318, '▁사람이': 1319, '▁필요한': 1320, '▁라이스': 1321, '▁관련된': 1322, '▁아니라': 1323, '자는': 1324, '▁올라': 1325, '▁결혼': 1326, '▁너무': 1327, '▁테': 1328, '▁수행': 1329, '씨': 1330, 'is': 1331, '폭': 1332, '▁선택': 1333, '“': 1334, '▁증거': 1335, '▁국방부': 1336, '▁생활': 1337, '하라': 1338, '튼': 1339, '▁해외': 1340, '▁재개': 1341, 'ation': 1342, '▁박': 1343, '왔다': 1344, '레이': 1345, 'JO': 1346, '그러나': 1347, '▁전에': 1348, '에서도': 1349, '도록': 1350, '▁사르코지': 1351, '▁쓰': 1352, '▁농': 1353, '▁도착': 1354, '단체': 1355, '년대': 1356, '▁시설': 1357, '▁협력': 1358, '▁브라운': 1359, '▁우리는': 1360, '▁타고': 1361, '▁교육': 1362, 'INS': 1363, '▁남편': 1364, '▁인권': 1365, '글': 1366, '▁넘': 1367, '▁받을': 1368, '사는': 1369, '▁s': 1370, '▁원문': 1371, '▁있고': 1372, '▁티베트': 1373, '▁이동': 1374, '▁연합': 1375, '불': 1376, '▁크': 1377, '▁작전': 1378, '년까지': 1379, '▁아프가니스탄': 1380, '▁시위대': 1381, '▁개최': 1382, '▁노무현': 1383, '인한': 1384, '▁결국': 1385, '블': 1386, '▁콜롬비아': 1387, '▁도로': 1388, '평': 1389, '▁거부': 1390, '스타': 1391, '였': 1392, '▁변호사': 1393, '▁참': 1394, '▁역시': 1395, '▁삼': 1396, '▁직원': 1397, '▁주변': 1398, '자들': 1399, '▁네': 1400, '▁체': 1401, '▁에너지': 1402, '▁허': 1403, '▁내년': 1404, '▁친구': 1405, '▁목표': 1406, '▁2003': 1407, '기로': 1408, '▁곧': 1409, '▁이유로': 1410, '년에': 1411, '▁열리는': 1412, '&': 1413, '탈': 1414, '들에': 1415, '▁경쟁': 1416, '족': 1417, '▁참석': 1418, '링': 1419, '▁숨졌다': 1420, '▁격': 1421, '▁몰': 1422, '액': 1423, '▁수준': 1424, '항': 1425, '극': 1426, '별': 1427, '환': 1428, '혈': 1429, '▁인도네시아': 1430, '▁국무부': 1431, '축': 1432, '갈': 1433, '▁사건에': 1434, '▁60': 1435, '기도': 1436, '비아': 1437, '▁타임즈': 1438, '▁몸': 1439, '▁산업': 1440, '▁Korea': 1441, '습': 1442, '▁암': 1443, '렸': 1444, '▁운영': 1445, '엔': 1446, '쿠': 1447, '회사': 1448, '▁연설': 1449, 'ri': 1450, '▁편': 1451, '▁탄': 1452, '애': 1453, '센터': 1454, '▁문제에': 1455, '▁광': 1456, '▁이제': 1457, '▁왕': 1458, '▁예정이라고': 1459, '▁전망': 1460, '▁어떻게': 1461, '▁행': 1462, '▁판사': 1463, '▁최초': 1464, '독해': 1465, '▁훈련': 1466, '▁화요일': 1467, '밀': 1468, '▁있': 1469, '▁E': 1470, '▁극': 1471, '▁R': 1472, '씨는': 1473, '▁자유': 1474, '▁근': 1475, '▁소유': 1476, '▁시스템': 1477, '▁회복': 1478, '▁경선': 1479, '▁I': 1480, '▁같다': 1481, '장이': 1482, '▁대회': 1483, '▁re': 1484, '▁경고': 1485, '▁레바논': 1486, 'ur': 1487, '▁알리': 1488, '하려는': 1489, '율': 1490, '▁한국인': 1491, 'et': 1492, '▁동물': 1493, '되기': 1494, '30': 1495, '▁전문가들은': 1496, '▁또는': 1497, '침': 1498, '▁성장': 1499, '▁원인': 1500, '흐': 1501, '▁임무': 1502, '일간': 1503, '▁국영': 1504, '▁지명': 1505, '▁커': 1506, '▁방안': 1507, '익': 1508, '▁빈': 1509, '▁게': 1510, '▁학생': 1511, '▁인구': 1512, '▁태국': 1513, '▁정보를': 1514, '만원': 1515, '▁일정': 1516, '▁요구했다': 1517, '▁태': 1518, '명과': 1519, '▁U': 1520, 'W': 1521, '▁이같': 1522, '▁만나': 1523, '슈': 1524, '▁있게': 1525, '▁사임': 1526, '▁음악': 1527, '▁있기': 1528, '▁31': 1529, '▁포기': 1530, '▁멕시코': 1531, '▁데이비드': 1532, '▁대선후보': 1533, '잡': 1534, '로서': 1535, '틀': 1536, '▁200': 1537, '▁2000': 1538, '▁제재': 1539, '▁대신': 1540, 'com': 1541, '▁국민들': 1542, '▁중심': 1543, '▁질': 1544, '사를': 1545, 'ro': 1546, '▁주말': 1547, '▁어린이': 1548, '▁아프리카': 1549, '▁받아': 1550, '▁과학자들': 1551, '▁무장': 1552, '▁비디오': 1553, '▁앞두고': 1554, '하거나': 1555, '▁수술': 1556, '▁정권': 1557, 'st': 1558, '▁여객기': 1559, '▁비롯': 1560, '▁대변인': 1561, '▁파괴': 1562, '누': 1563, '▁칼': 1564, '▁사망하고': 1565, '▁양국': 1566, '우리': 1567, 'se': 1568, '이자': 1569, '▁추락': 1570, '▁발견했다': 1571, '▁까지': 1572, '▁배우': 1573, '▁바로': 1574, '▁생각한다': 1575, '▁벌': 1576, '▁샤': 1577, '▁사과': 1578, '▁나타났다': 1579, '▁구성': 1580, '시키는': 1581, '▁부분': 1582, '▁민간인': 1583, '▁스타': 1584, '▁대사관': 1585, '▁면': 1586, '▁관할': 1587, '▁용': 1588, '▁b': 1589, '빌': 1590, '▁갈': 1591, '▁동부': 1592, '▁아기': 1593, '▁촬영': 1594, '▁일이': 1595, '▁항공': 1596, '▁제품': 1597, '▁US': 1598, '▁전투': 1599, '랑': 1600, '▁폭력': 1601, '능': 1602, '▁콜': 1603, '▁있었던': 1604, '▁전세계': 1605, '▁금': 1606, '9': 1607, '▁여자': 1608, '▁자리': 1609, '▁감시': 1610, '▁작업': 1611, '▁북': 1612, '▁독': 1613, '▁포함한': 1614, '▁처': 1615, '▁행정부': 1616, '▁정당': 1617, '▁도움': 1618, '억달러': 1619, '안을': 1620, '한다는': 1621, '▁대규모': 1622, '▁쿠': 1623, '▁주도': 1624, '▁고려': 1625, '페': 1626, '채': 1627, '▁소식': 1628, '▁선고': 1629, '업체': 1630, 'ra': 1631, '냈다': 1632, '▁만들어': 1633, '▁화재': 1634, '▁아닌': 1635, '▁국내': 1636, '패': 1637, '▁주민': 1638, '월에': 1639, '▁총격': 1640, '▁약속': 1641, '▁여전': 1642, '▁가지': 1643, '사건': 1644, '▁로버트': 1645, '▁기대': 1646, '▁f': 1647, '▁책임': 1648, '름': 1649, '북': 1650, '▁살고': 1651, '▁교수는': 1652, '▁특별': 1653, '▁복': 1654, '▁찾아': 1655, 'el': 1656, '펠': 1657, '▁무장세력': 1658, '▁가지고': 1659, '▁내려': 1660, '▁의원은': 1661, '▁출': 1662, '▁촉구했다': 1663, '▁밝혀졌다': 1664, '퍼센트': 1665, '▁보여주': 1666, '리스': 1667, '센': 1668, '톤': 1669, '▁부대': 1670, '▁세력': 1671, '엘': 1672, '▁온라인': 1673, '▁국': 1674, '▁작품': 1675, '▁계약': 1676, '▁2002': 1677, '▁실시': 1678, '▁항의': 1679, '올': 1680, '규': 1681, \")'\": 1682, '엄': 1683, '▁규정': 1684, '시켜': 1685, '▁총선': 1686, '▁0': 1687, '담': 1688, '▁가자지구': 1689, '▁수치': 1690, '▁수단': 1691, '▁특히': 1692, '▁순': 1693, '200': 1694, '▁선정': 1695, '▁인간': 1696, '▁안보': 1697, '▁붕괴': 1698, '총': 1699, '▁연료': 1700, '▁그들의': 1701, '▁수감': 1702, '▁최': 1703, '해왔다': 1704, '▁입은': 1705, '▁맡': 1706, '창': 1707, '▁입었다': 1708, 'us': 1709, '▁월요일': 1710, '관계': 1711, '▁수입': 1712, '▁악': 1713, '▁앤': 1714, '이어': 1715, '20': 1716, '▁LA': 1717, '레스': 1718, '▁놓': 1719, '▁되': 1720, '▁캐': 1721, '자회담': 1722, '랜': 1723, '▁경기에서': 1724, '▁인수': 1725, '▁말한다': 1726, '▁부통령': 1727, 'ion': 1728, '▁설치': 1729, '▁나이': 1730, '▁받았': 1731, '▁이상이': 1732, '▁안에': 1733, '▁책': 1734, '힌': 1735, '▁홍콩': 1736, '▁차지': 1737, '술': 1738, '경기': 1739, '하겠다': 1740, '▁작은': 1741, 'il': 1742, '▁웹사이트': 1743, '▁최종': 1744, '빈': 1745, '샤': 1746, '▁시험': 1747, '▁관계자가': 1748, '▁퍼': 1749, '▁가족들': 1750, '▁심각한': 1751, '▁부부': 1752, '허': 1753, '▁푸틴': 1754, '▁노동': 1755, '스터': 1756, '▁열차': 1757, '셔': 1758, '▁기소': 1759, '▁세금': 1760, '▁외교': 1761, '▁증시': 1762, '▁담당': 1763, '▁창': 1764, '▁필요하다': 1765, '▁메시지': 1766, '▁밝힌': 1767, '▁대의원': 1768, '▁경고했다': 1769, '▁인기': 1770, '▁글': 1771, '▁병': 1772, 'ent': 1773, '하다고': 1774, '▁p': 1775, '▁없을': 1776, '▁가치': 1777, '▁파업': 1778, '▁숨': 1779, '▁환자': 1780, '▁플로리다': 1781, '▁개선': 1782, '▁반응': 1783, '▁과거': 1784, '▁짐바브웨': 1785, '책': 1786, '▁아무': 1787, '기구': 1788, '▁미국인': 1789, '▁기념': 1790, '▁주식': 1791, '줄': 1792, '▁엘': 1793, '▁학생들': 1794, '▁캐나다': 1795, 'ter': 1796, '션': 1797, '▁중인': 1798, '▁회': 1799, '▁일을': 1800, '례': 1801, '▁발표한': 1802, '▁슈': 1803, '▁마이클': 1804, '▁움직임': 1805, '▁암살': 1806, '대로': 1807, '▁다양': 1808, '슬': 1809, '▁문화': 1810, '▁광고': 1811, '▁임명': 1812, '향': 1813, '▁벌였다': 1814, '▁외국인': 1815, '시장': 1816, '▁비해': 1817, '때': 1818, '릭': 1819, '▁라디오': 1820, '▁구속': 1821, '변': 1822, '시키': 1823, '▁얼마': 1824, '▁섬': 1825, '▁폭': 1826, '로운': 1827, '▁보수': 1828, '여명': 1829, '폐': 1830, '▁대만': 1831, '▁국가들': 1832, '▁돌아': 1833, '▁프로': 1834, '▁서부': 1835, '염': 1836, '▁통제': 1837, '▁기록했다': 1838, '▁강제': 1839, '년부터': 1840, '▁지역의': 1841, '▁브라질': 1842, '▁서로': 1843, '▁식량': 1844, '▁위반': 1845, '▁중동': 1846, '▁힐': 1847, '쉬': 1848, '▁진압': 1849, '▁브': 1850, '▁이라크에서': 1851, '▁헬기': 1852, '▁어머니': 1853, '▁스미스': 1854, '▁씨': 1855, '▁여름': 1856, '▁지지자들': 1857, '▁관리들': 1858, '시키기': 1859, '▁가스': 1860, '500': 1861, '▁했다고': 1862, '▁이유': 1863, '▁케냐': 1864, '▁실험': 1865, '▁지불': 1866, '▁취소': 1867, '▁휴': 1868, '▁머리': 1869, '▁파리': 1870, '▁수출': 1871, '겼다': 1872, '▁외국': 1873, '▁그런': 1874, '▁선언': 1875, '드는': 1876, '▁명령': 1877, '▁선출': 1878, '▁국무장관': 1879, '▁w': 1880, '이었던': 1881, '▁울': 1882, '▁추진': 1883, '▁기관': 1884, '▁법안': 1885, '▁내렸다': 1886, '럼': 1887, '앙': 1888, '▁각각': 1889, '광': 1890, '▁관광': 1891, '▁위치': 1892, '▁같이': 1893, '거리': 1894, '▁비용': 1895, '국가': 1896, '움': 1897, '▁시아파': 1898, '되': 1899, '▁소송': 1900, '수가': 1901, '▁대변인이': 1902, '로스': 1903, '▁제한': 1904, '▁밖에': 1905, '▁뉴': 1906, '▁감염': 1907, '▁제출': 1908, '▁평균': 1909, '▁후보가': 1910, '▁일반': 1911, '▁해군': 1912, '▁역': 1913, '▁장소': 1914, '▁권리': 1915, '▁de': 1916, '은행': 1917, '▁위성': 1918, '▁시즌': 1919, '▁축구': 1920, '▁배치': 1921, '▁수십': 1922, '▁하원': 1923, '▁미국에서': 1924, '▁인상': 1925, '▁접근': 1926, '▁경험': 1927, '▁탈': 1928, '▁목적': 1929, '▁임': 1930, '▁쇼': 1931, '▁제기': 1932, '▁차례': 1933, '▁전달': 1934, '=2': 1935, '협회': 1936, '▁여론조사': 1937, '▁프리': 1938, '검': 1939, '▁과정에서': 1940, '▁나온': 1941, '▁전시': 1942, '▁텍사스': 1943, 'im': 1944, '착': 1945, '동안': 1946, '▁않아': 1947, 'th': 1948, '▁처리': 1949, '▁식': 1950, '▁차이': 1951, '▁파병': 1952, '▁급': 1953, '▁나는': 1954, '▁발견됐다': 1955, '▁향': 1956, '▁사건이': 1957, '것': 1958, '▁일본의': 1959, '▁거주': 1960, '일까지': 1961, '▁사원': 1962, '텔': 1963, '▁내무부': 1964, '▁결의안': 1965, '었': 1966, '벨': 1967, '▁신고': 1968, '▁무역': 1969, '학자': 1970, '▁공연': 1971, '▁사형': 1972, '▁h': 1973, '니다': 1974, '▁버스': 1975, '▁걸쳐': 1976, '▁당신': 1977, '시키고': 1978, '▁자료': 1979, 'ir': 1980, '▁귀': 1981, '턴': 1982, '이드': 1983, '하지만': 1984, '▁파견': 1985, '개국': 1986, '▁경찰에': 1987, '었습니다': 1988, '▁제조': 1989, '했다는': 1990, '이란': 1991, 'x': 1992, '▁항공사': 1993, '▁2007': 1994, '▁의미': 1995, '▁제시': 1996, '가지': 1997, '퇴': 1998, '▁전국': 1999, '▁헌법': 2000, '▁음식': 2001, '▁다리': 2002, '▁상황이': 2003, '리고': 2004, '5000': 2005, '▁사이에': 2006, '▁사실이': 2007, '▁수상': 2008, '▁설명': 2009, '▁주재': 2010, '▁살인': 2011, '▁개혁': 2012, '▁설립': 2013, '▁허용': 2014, '▁사랑': 2015, '▁집중': 2016, '▁센터': 2017, '▁500': 2018, '▁대비': 2019, '대가': 2020, '측은': 2021, '▁대상으로': 2022, '▁부상했다': 2023, '▁긴장': 2024, '▁안정': 2025, '새': 2026, '▁이에앞서': 2027, '▁논쟁': 2028, '▁수요일': 2029, '▁위원회': 2030, '지도': 2031, '▁발전': 2032, '▁80': 2033, '▁평가': 2034, '스가': 2035, '▁J': 2036, '▁주지사': 2037, '▁대피': 2038, '하였다': 2039, '중인': 2040, '▁바이러스': 2041, '▁부모': 2042, '트는': 2043, '▁사퇴': 2044, '▁터': 2045, '▁것과': 2046, '▁/': 2047, '사가': 2048, '▁넘어': 2049, '10': 2050, '▁관계자들은': 2051, '▁성폭행': 2052, '▁공습': 2053, '장에서': 2054, '▁그룹': 2055, '송': 2056, '▁따': 2057, '▁명이': 2058, '기가': 2059, '▁희망': 2060, '▁교수': 2061, '률': 2062, '▁아내': 2063, '냐': 2064, '▁교황': 2065, '▁대해서는': 2066, '▁알려진': 2067, 'ol': 2068, '▁목': 2069, '▁결정했다': 2070, '▁The': 2071, '▁인물': 2072, '▁받는': 2073, '▁차베스': 2074, '▁환영': 2075, '▁혼란': 2076, '조사': 2077, '▁후세인': 2078, '▁압력': 2079, '▁발견된': 2080, '▁집회': 2081, '했': 2082, '킹': 2083, '세기': 2084, '▁유일': 2085, '▁m': 2086, '▁한다는': 2087, '십': 2088, '째': 2089, '▁단계': 2090, '▁완전': 2091, '▁관해': 2092, '킨': 2093, '쳤다': 2094, '▁황': 2095, '까': 2096, '▁당선': 2097, '낼': 2098, '▁바란다': 2099, '▁주민들': 2100, '▁EU': 2101, '▁상대로': 2102, '알': 2103, '▁익명': 2104, '▁요청했다': 2105, 'ID': 2106, '명으로': 2107, '▁교통': 2108, '▁교전': 2109, '▁그들이': 2110, '▁마약': 2111, '▁교회': 2112, 'sp': 2113, '▁신원': 2114, '손': 2115, '▁변호사는': 2116, '이라크': 2117, '라며': 2118, '었다고': 2119, '▁대응': 2120, '▁야후': 2121, 'ate': 2122, '▁죽음': 2123, '▁예상된다': 2124, '▁집단': 2125, '벌': 2126, '▁이래': 2127, '문제': 2128, '칠': 2129, '있': 2130, '▁질문': 2131, '▁기지': 2132, '▁되어': 2133, '▁복귀': 2134, '▁시리아': 2135, '▁기사': 2136, '▁왕자': 2137, '험': 2138, '하기도': 2139, '▁절': 2140, '▁on': 2141, '▁이명박': 2142, '▁밝혔습니다': 2143, '▁후보는': 2144, '▁구매': 2145, '악': 2146, '▁로마': 2147, '▁아직까지': 2148, '▁크게': 2149, '▁불만': 2150, '2%': 2151, '▁남북': 2152, '▁미래': 2153, '▁탑승': 2154, '▁있지': 2155, '▁필': 2156, '▁북핵': 2157, '▁끝': 2158, '▁고용': 2159, '찰': 2160, '▁설': 2161, '▁업체': 2162, '▁접': 2163, '▁받지': 2164, '▁정신': 2165, '▁나가': 2166, '수를': 2167, 'lo': 2168, '▁일어나': 2169, '▁폭력사태': 2170, '▁증': 2171, '▁특': 2172, '▁이곳': 2173, '▁남한': 2174, '되었습니다': 2175, '볼': 2176, '3%': 2177, '방송': 2178, '▁가정': 2179, '▁인터뷰': 2180, '▁중앙': 2181, '▁저장': 2182, '▁심장': 2183, 'U': 2184, '▁계': 2185, '햄': 2186, '▁부정': 2187, '▁사람은': 2188, '▁뇌': 2189, '▁임시': 2190, '▁중국은': 2191, '자와': 2192, '일부터': 2193, '되었다고': 2194, '▁이집트': 2195, '대의': 2196, '▁효과': 2197, '▁표현': 2198, '▁따라': 2199, '▁시민': 2200, 'la': 2201, '▁연결': 2202, '▁허가': 2203, '▁베네수엘라': 2204, '녀': 2205, '▁아니라고': 2206, '▁사람들을': 2207, '롭': 2208, '▁민주주의': 2209, '▁따른': 2210, '▁비밀': 2211, '견': 2212, '기관': 2213, '델': 2214, 'ut': 2215, '▁내리': 2216, '▁관계자': 2217, '충': 2218, '▁측': 2219, '▁위해서는': 2220, '▁홀': 2221, '▁마크': 2222, '효': 2223, '▁목요일': 2224, '▁교도소': 2225, '▁여론': 2226, '서는': 2227, '성이': 2228, '존': 2229, '▁때까지': 2230, '▁정부와': 2231, '으로서': 2232, '▁판': 2233, '칭': 2234, '얼': 2235, '▁사이트': 2236, '▁검토': 2237, '▁시카고': 2238, '▁최악': 2239, '▁모델': 2240, '▁권력': 2241, '▁쿠바': 2242, '▁받게': 2243, '▁적이': 2244, '▁여사': 2245, '▁실패': 2246, '▁팬들': 2247, '리자': 2248, '이지만': 2249, '욕': 2250, '시아': 2251, '▁여기': 2252, '▁과정': 2253, '▁합니다': 2254, '▁2001': 2255, '▁임기': 2256, '자로': 2257, '▁만들': 2258, '▁비판': 2259, '었던': 2260, '으': 2261, 'op': 2262, '폰': 2263, '▁장면': 2264, '▁높이': 2265, '▁프라이머리': 2266, '▁무장단체': 2267, '▁분야': 2268, '▁슬': 2269, '▁가졌다': 2270, '▁깊': 2271, '몬': 2272, '▁웨': 2273, '▁내부': 2274, '낸': 2275, '▁매년': 2276, '숙': 2277, '▁사는': 2278, '▁g': 2279, '▁상원의원이': 2280, '▁유명': 2281, '▁못하고': 2282, '▁진출': 2283, '▁이해': 2284, '▁해리': 2285, '▁사라': 2286, '▁병사': 2287, '만이': 2288, '순': 2289, '▁동료': 2290, '▁입원': 2291, '▁수색': 2292, 'ist': 2293, '인들이': 2294, '되면서': 2295, '▁완': 2296, '▁백': 2297, '그는': 2298, '▁계획이다': 2299, '▁철': 2300, '▁일요일': 2301, '▁분쟁': 2302, '▁사무실': 2303, '▁두고': 2304, '북한': 2305, '▁거대': 2306, '▁예측': 2307, '▁자체': 2308, '▁뿐': 2309, '▁넣': 2310, '▁공격으로': 2311, '▁시행': 2312, '▁언급했다': 2313, '▁be': 2314, '▁보냈다': 2315, '헌': 2316, '▁강력한': 2317, '▁보건': 2318, '▁필리핀': 2319, '▁이끄는': 2320, '▁아랍': 2321, '▁국립': 2322, '인들은': 2323, '▁선박': 2324, '▁수많은': 2325, '▁유권자들': 2326, '▁분석': 2327, '▁소방': 2328, '▁도움이': 2329, '▁나왔다': 2330, 'ers': 2331, '▁들어가': 2332, '▁밝혀': 2333, '▁못한': 2334, '▁민': 2335, '찬': 2336, '치는': 2337, '거래': 2338, '▁라이': 2339, '▁버지니아': 2340, '다면': 2341, '쟁': 2342, '인지': 2343, 'ow': 2344, '▁밝히지': 2345, '▁지도자들': 2346, '▁달리': 2347, '▁장기': 2348, '통신': 2349, '‘': 2350, '▁보고서는': 2351, '▁사항': 2352, '느': 2353, '좌': 2354, '▁오른': 2355, '4%': 2356, '▁벤': 2357, '▁의료': 2358, '▁학': 2359, '▁향해': 2360, '▁바다': 2361, '▁강한': 2362, '▁주가': 2363, '▁한반도': 2364, '▁관계자들': 2365, '-1': 2366, '▁보여': 2367, '▁선두': 2368, '▁폐': 2369, '기간': 2370, '▁형': 2371, '금을': 2372, '▁떠나': 2373, '▁되고': 2374, '▁이루': 2375, '▁항공기': 2376, '법원': 2377, '▁의장': 2378, '다른': 2379, '▁수익': 2380, '객': 2381, '▁전력': 2382, '봉': 2383, '논': 2384, '냉': 2385, '▁확인했다': 2386, '겠다': 2387, '▁과학': 2388, '▁관광객': 2389, '▁상대': 2390, '▁군대': 2391, '지에': 2392, '▁심리': 2393, 'ment': 2394, '철': 2395, '▁비슷': 2396, '딘': 2397, '▁빠져': 2398, '▁흑인': 2399, '▁긴급': 2400, '▁힘들': 2401, '▁누구': 2402, '▁약물': 2403, '주의자': 2404, '▁가져': 2405, 'ot': 2406, '▁정부에': 2407, '▁작년': 2408, '람': 2409, '▁UN': 2410, 'id': 2411, '스크': 2412, '▁제거': 2413, '▁나머지': 2414, '▁칸': 2415, '▁저지': 2416, '▁종교': 2417, '▁전략': 2418, '▁주지사는': 2419, '▁레이': 2420, '▁지진': 2421, '▁올랐다': 2422, '▁사우디': 2423, '▁전자': 2424, '▁맺': 2425, '▁범인': 2426, '이라': 2427, '▁고통': 2428, '▁소년': 2429, '▁부상자': 2430, '▁막기': 2431, '▁유권자': 2432, '▁목숨': 2433, '▁숨지고': 2434, '경찰': 2435, '▁육': 2436, '▁소재': 2437, '▁선수들': 2438, '▁소리': 2439, '▁소비자': 2440, '여명이': 2441, '▁희생자': 2442, '음을': 2443, '▁도쿄': 2444, '▁다음달': 2445, '▁만든': 2446, '▁오르': 2447, '▁진행되': 2448, '▁갖': 2449, '▁1000': 2450, '▁대사': 2451, '관리': 2452, '▁대중': 2453, '▁O': 2454, '싱': 2455, '▁정상회담': 2456, '▁분리': 2457, '▁국방장관': 2458, '르는': 2459, 'ig': 2460, '▁시기': 2461, '▁감사': 2462, '▁혼': 2463, '랄': 2464, '▁제임스': 2465, '▁어느': 2466, '▁근무': 2467, '섬': 2468, '▁제외': 2469, '▁악화': 2470, '▁북한에': 2471, '▁받았다고': 2472, '▁없었': 2473, '▁사람들에게': 2474, 'ck': 2475, '행위': 2476, '▁주장하고': 2477, '▁가능한': 2478, 've': 2479, '▁있다며': 2480, 'ive': 2481, '▁법정': 2482, '▁올리': 2483, 'ce': 2484, '베이': 2485, '▁준': 2486, '리가': 2487, '▁싶다': 2488, '▁외무부': 2489, '▁경찰관': 2490, '▁충격': 2491, '▁출발': 2492, '▁총기': 2493, '▁만큼': 2494, '▁인질들': 2495, '▁착륙': 2496, '위에': 2497, '▁질문에': 2498, '▁이라크전': 2499, '▁넘는': 2500, '▁집행': 2501, '▁노조': 2502, '▁항': 2503, '취': 2504, '분기': 2505, '▁아니': 2506, '▁현대': 2507, 'Ch': 2508, '만한': 2509, '▁적어도': 2510, '▁뛰어': 2511, '▁정도로': 2512, '한다면': 2513, '▁군부': 2514, '자금': 2515, '▁끝에': 2516, '널': 2517, '▁풍': 2518, '▁것이라': 2519, '▁작가': 2520, '▁되었다': 2521, '▁동의': 2522, '▁붙': 2523, '▁인사': 2524, '▁곳에서': 2525, '▁보낸': 2526, '되며': 2527, '안에': 2528, '척': 2529, '마다': 2530, '▁여당': 2531, '▁불안': 2532, '▁자국': 2533, '▁권': 2534, '▁가까': 2535, '사회': 2536, '▁어떠한': 2537, '▁허리케인': 2538, '들도': 2539, '▁작업을': 2540, '▁수천': 2541, '▁의혹': 2542, '▁패배': 2543, '40': 2544, '스와': 2545, '▁공장': 2546, '선거': 2547, '▁후에': 2548, 'ap': 2549, '장관': 2550, '▁접촉': 2551, '▁떠': 2552, '▁동결': 2553, '▁중에': 2554, '▁직원들': 2555, '▁직': 2556, '▁수천명': 2557, '▁공공': 2558, '였습니다': 2559, '▁발생했다고': 2560, '▁하기': 2561, 'Y': 2562, '황': 2563, '▁무엇': 2564, '씩': 2565, '▁전문가': 2566, '▁일자리': 2567, '▁보장': 2568, '▁전기': 2569, '▁출마': 2570, '▁되지': 2571, '어질': 2572, '둔': 2573, '▁다이애나': 2574, '▁양측': 2575, '70': 2576, '▁여성들': 2577, '▁st': 2578, '▁끌어': 2579, '▁없어': 2580, '▁확대': 2581, '▁모른다': 2582, '▁폭풍': 2583, '▁압박': 2584, '▁유명한': 2585, '▁승객': 2586, '▁삶': 2587, '▁여성이': 2588, '▁나와': 2589, '귀': 2590, '▁이달': 2591, '▁푸': 2592, '▁발생해': 2593, 'all': 2594, '컵': 2595, '▁증언': 2596, '▁입고': 2597, '▁300': 2598, '스톤': 2599, '▁고문': 2600, '▁합의했다': 2601, '대통령': 2602, '▁35': 2603, '스키': 2604, '▁유로': 2605, '▁쉬': 2606, '▁지속': 2607, '▁합': 2608, '▁방문한': 2609, '▁사상': 2610, '빙': 2611, '▁어려움': 2612, '▁환': 2613, '7%': 2614, '▁유죄': 2615, '니스': 2616, '▁사진을': 2617, '▁완화': 2618, '▁찰스': 2619, '겠다고': 2620, '▁구호': 2621, 'ay': 2622, '▁피해자': 2623, '▁자연': 2624, 'ly': 2625, 'J': 2626, '▁주의': 2627, '▁등의': 2628, '▁동원': 2629, '▁오바마가': 2630, '이것은': 2631, '▁외무장관': 2632, '▁확신': 2633, '▁아주': 2634, '▁마리': 2635, '▁수백': 2636, '▁미군이': 2637, '▁작성': 2638, '▁묻': 2639, '▁지배': 2640, '▁대표는': 2641, '▁십': 2642, '기에': 2643, '▁군인': 2644, '▁듯': 2645, '▁로켓': 2646, '▁소말리아': 2647, '▁목소리': 2648, '▁소녀': 2649, '었으며': 2650, '▁경매': 2651, '▁홍보': 2652, 'est': 2653, '스러운': 2654, '▁것인지': 2655, '▁지도자인': 2656, '▁대해서': 2657, '▁병원에': 2658, '였다고': 2659, '테러': 2660, '해졌다': 2661, '▁끝나': 2662, '▁마음': 2663, '마일': 2664, '▁바라': 2665, '백만': 2666, '▁주민들이': 2667, '▁않았지만': 2668, '▁시상식': 2669, '▁능력': 2670, '▁대화': 2671, '▁전반': 2672, '▁바람': 2673, '근': 2674, '▁체포됐다': 2675, '▁가질': 2676, '▁그리스': 2677, '센트': 2678, '▁존스': 2679, '원은': 2680, '▁화': 2681, '▁현장': 2682, '▁시간이': 2683, '▁연장': 2684, 'j': 2685, '▁신뢰': 2686, '월부터': 2687, '▁평양': 2688, '▁나오': 2689, '▁숨진': 2690, '운동': 2691, '▁총재': 2692, '▁등록': 2693, '▁심각': 2694, '▁적용': 2695, '▁모르': 2696, '▁망명': 2697, '주는': 2698, '▁의원들': 2699, '▁해제': 2700, '▁공군': 2701, '▁언론은': 2702, '부는': 2703, '징': 2704, '▁승': 2705, '켓': 2706, '균': 2707, '▁게이츠': 2708, '▁취임': 2709, '▁머물': 2710, '▁연구소': 2711, '▁절차': 2712, '▁카운티': 2713, '▁티': 2714, '왔': 2715, '타임': 2716, '막': 2717, '▁관련해': 2718, '힐': 2719, '표를': 2720, '▁카메라': 2721, '▁대법원': 2722, '▁사건은': 2723, '옥': 2724, '▁걱정': 2725, '▁프로젝트': 2726, '싼': 2727, '▁말레이시아': 2728, '▁휴대폰': 2729, '▁트럭': 2730, '▁못하': 2731, '▁법적': 2732, '슨은': 2733, '조치': 2734, '▁상당': 2735, '▁존재': 2736, '드로': 2737, '▁잔': 2738, '▁목표로': 2739, '▁아베': 2740, '▁서명': 2741, '▁그것은': 2742, '▁반대하는': 2743, '▁강력': 2744, '했는데': 2745, '▁유세': 2746, '▁기억': 2747, '▁전문': 2748, '쇼': 2749, '▁소비': 2750, '▁최고의': 2751, '럽': 2752, '▁보이는': 2753, '닝': 2754, '▁느끼': 2755, '▁청와대': 2756, '▁아무런': 2757, '▁여왕': 2758, '▁물론': 2759, '▁오래': 2760, '▁신용': 2761, '▁당선인': 2762, '▁크리스': 2763, '▁블': 2764, '60': 2765, '영화': 2766, '▁젊은': 2767, '틴': 2768, '갑': 2769, '▁힐튼': 2770, '▁순간': 2771, '▁항상': 2772, '었고': 2773, '스턴': 2774, '▁영어': 2775, '제도': 2776, '도시': 2777, '중국': 2778, 'The': 2779, '▁등을': 2780, '▁운전': 2781, '▁술': 2782, '▁바이': 2783, '▁신화통신': 2784, '웰': 2785, '▁마드리드': 2786, '▁촉구': 2787, '▁추정': 2788, '6%': 2789, '▁옷': 2790, '▁즐': 2791, '으려': 2792, '▁이라크에': 2793, '▁사기': 2794, '장에': 2795, '#': 2796, '활동': 2797, '연합': 2798, '셀': 2799, '정책': 2800, '▁들고': 2801, '▁수석': 2802, '텐': 2803, '젤': 2804, '▁밝혀지지': 2805, '▁지하': 2806, '▁운행': 2807, '▁오픈': 2808, '▁투입': 2809, '세트': 2810, '▁지역을': 2811, '▁경제적': 2812, '▁놓고': 2813, '▁신청': 2814, '물을': 2815, '▁자주': 2816, '▁그린': 2817, '▁수용': 2818, '▁박물관': 2819, '11': 2820, 'ia': 2821, '념': 2822, 'X': 2823, '젠': 2824, '▁법률': 2825, '▁국제사회': 2826, '▁상징': 2827, '관은': 2828, '▁고래': 2829, '▁법안을': 2830, '75': 2831, '▁도중': 2832, '19': 2833, '▁해야': 2834, '제를': 2835, '시설': 2836, '궁': 2837, '완': 2838, '▁만약': 2839, '뉴': 2840, '공격': 2841, '럴': 2842, '▁챔피언': 2843, '▁나타나': 2844, '▁수니파': 2845, '▁이수지': 2846, '▁판단': 2847, '▁집권': 2848, '▁시작된': 2849, '대표': 2850, '▁도전': 2851, '▁좀': 2852, '▁선거에서': 2853, '▁비상': 2854, '스코': 2855, '▁프': 2856, '▁확산': 2857, '▁굴': 2858, '▁좋아': 2859, '당한': 2860, '왕': 2861, '▁있음을': 2862, '▁본부': 2863, '접': 2864, '▁90': 2865, '80': 2866, '뤄': 2867, '팅': 2868, '▁얼굴': 2869, '▁미군은': 2870, '▁베컴': 2871, '▁토론': 2872, '▁작': 2873, '▁연속': 2874, '▁이전에': 2875, '국장은': 2876, '▁헌': 2877, '▁집계': 2878, '▁피터': 2879, '▁비자': 2880, '▁벌금': 2881, ')/': 2882, '▁윌리엄': 2883, '▁조건': 2884, '▁회담에서': 2885, '▁수반': 2886, '▁동시': 2887, '▁늘어': 2888, '으면': 2889, '닐': 2890, '▁올메르트': 2891, '▁잉글랜드': 2892, '▁아파트': 2893, '▁억류': 2894, '▁애플': 2895, '로써': 2896, '▁전까지': 2897, '▁부패': 2898, '▁구입': 2899, '▁타이': 2900, '▁정말': 2901, '▁진정': 2902, '▁가수': 2903, '해진': 2904, '학교': 2905, '었지만': 2906, '회사인': 2907, '만명이': 2908, '▁연설에서': 2909, '▁기회': 2910, '▁스포츠': 2911, '달러를': 2912, '산업': 2913, '▁자녀': 2914, '▁물질': 2915, '위로': 2916, '▁찬성': 2917, '▁영상': 2918, '▁분노': 2919, '장관은': 2920, '▁전통': 2921, '▁소식통': 2922, '쪽': 2923, '▁차기': 2924, '▁연합군': 2925, '▁부문': 2926, '▁사상자': 2927, '전에': 2928, '▁겪고': 2929, '▁크리스마스': 2930, '▁직후': 2931, '▁확실': 2932, '▁마무리': 2933, '들로': 2934, '▁깨': 2935, '▁정부군': 2936, '▁민주': 2937, '자들의': 2938, '▁대형': 2939, 'te': 2940, '▁개의': 2941, '▁체포했다': 2942, '▁한미': 2943, '▁낮': 2944, '▁땅': 2945, 'V': 2946, '▁곳에': 2947, '▁강조': 2948, '▁블레어': 2949, '▁블랙': 2950, '▁주민들은': 2951, '▁머': 2952, '보호': 2953, '니는': 2954, '시킨': 2955, '트리': 2956, '▁핵심': 2957, '▁대처': 2958, '700': 2959, '▁외교부': 2960, '▁모여': 2961, '▁축하': 2962, '▁수정': 2963, 'cat': 2964, '▁한국은': 2965, '▁마감': 2966, '드리': 2967, '킬': 2968, '▁있는지': 2969, '▁선포': 2970, '윈': 2971, '▁고양이': 2972, '▁시대': 2973, '▁늘': 2974, '▁임신': 2975, 'ver': 2976, '▁휴전': 2977, '▁당했다': 2978, '▁경계': 2979, '▁사살': 2980, '▁밝히': 2981, '▁동맹': 2982, '▁가능': 2983, '▁영국의': 2984, '▁구제': 2985, '놓': 2986, '▁찬': 2987, '▁협의': 2988, '▁비상사태': 2989, '라운드': 2990, '▁언제': 2991, '▁몇몇': 2992, '▁스스로': 2993, '▁놀': 2994, '▁원자로': 2995, '▁산불': 2996, '트로': 2997, '▁그러': 2998, '▁나토': 2999, '▁때문': 3000, '했는지': 3001, '▁병원에서': 3002, '▁con': 3003, '▁씨는': 3004, '▁약간': 3005, '어진': 3006, '▁요원': 3007, '▁맞아': 3008, '▁이밖에': 3009, '▁빠른': 3010, '▁클럽': 3011, '▁탁신': 3012, '▁보이고': 3013, '▁빠르': 3014, '몰': 3015, '▁BBC': 3016, '▁처벌': 3017, '▁감축': 3018, '▁난민': 3019, '▁소지': 3020, '▁최신': 3021, '▁성인': 3022, '▁노출': 3023, '니아': 3024, '▁소장': 3025, '▁팬': 3026, '▁녹': 3027, '▁무사': 3028, '상의': 3029, 'mo': 3030, '▁문서': 3031, '▁유사': 3032, '▁풀': 3033, '▁실시된': 3034, '▁헬': 3035, '군이': 3036, '▁보안관': 3037, '▁높다': 3038, '▁떨어져': 3039, '▁협정': 3040, '▁할리우드': 3041, '▁일어난': 3042, '▁업무': 3043, '▁고속도로': 3044, '함으로써': 3045, '▁절반': 3046, '암': 3047, '사의': 3048, '특': 3049, '▁엔': 3050, '끼': 3051, '▁보이지': 3052, '▁단지': 3053, '▁조금': 3054, '▁현상': 3055, '▁이란이': 3056, '▁차지했다': 3057, '▁대책': 3058, '▁이틀': 3059, '▁트레': 3060, '▁돌아가': 3061, '▁케': 3062, '필': 3063, '원이': 3064, '였으며': 3065, '▁받': 3066, '이었다고': 3067, '롤': 3068, '▁스피어스': 3069, '겐': 3070, '▁코소보': 3071, 'joins': 3072, '혹': 3073, '▁나타냈다': 3074, '▁오랜': 3075, '하길': 3076, '▁조작': 3077, 'ies': 3078, '▁내각': 3079, '▁중이다': 3080, '▁알려지': 3081, '▁강타': 3082, '▁발생할': 3083, '선수': 3084, '▁가량': 3085, '▁나무': 3086, '▁실수': 3087, '▁압': 3088, '▁의원이': 3089, '▁치안': 3090, '월까지': 3091, '스카': 3092, '택': 3093, '▁아마': 3094, '국인': 3095, '▁받기': 3096, '▁컨': 3097, '▁이와같': 3098, '▁북한과': 3099, '▁대화를': 3100, '렉': 3101, '▁찾기': 3102, '▁크리스토퍼': 3103, '▁샤리프': 3104, '▁민병대': 3105, 'ight': 3106, 'ak': 3107, '▁이미지': 3108, '▁결론': 3109, '▁개정': 3110, '▁부인했다': 3111, '▁사망했으며': 3112, '▁벨': 3113, '▁낮은': 3114, '▁이송': 3115, '▁장군': 3116, '화를': 3117, '▁윌리엄스': 3118, '▁지켜': 3119, '▁그에게': 3120, '▁70': 3121, '▁실제': 3122, '▁놀라': 3123, '▁보좌관': 3124, '▁않겠다': 3125, '▁초기': 3126, '헤': 3127, '▁아카데미': 3128, '▁오랫동안': 3129, '꺼': 3130, 'cnn': 3131, '▁개봉': 3132, '▁공원': 3133, '▁태양': 3134, '▁그들': 3135, 'ht': 3136, '▁Korean': 3137, '지르': 3138, '▁확실히': 3139, '지역에서': 3140, '▁매일': 3141, '▁노래': 3142, '뉴스': 3143, '▁의심': 3144, '▁원조': 3145, '▁납': 3146, '▁알게': 3147, '▁죄': 3148, '▁소식을': 3149, '압': 3150, '▁그렇게': 3151, '▁지지율': 3152, '▁대표팀': 3153, '▁개입': 3154, '▁위기에': 3155, '▁추방': 3156, '▁고든': 3157, '력이': 3158, '▁충': 3159, '즈는': 3160, '▁상황에서': 3161, '▁후반': 3162, '▁니': 3163, '▁이용해': 3164, '▁보기': 3165, '▁수백명': 3166, '▁케이': 3167, '▁말하고': 3168, '▁약속했다': 3169, '해주': 3170, '▁해당': 3171, '상태': 3172, 'tp': 3173, '딩': 3174, '덕': 3175, '▁나섰다': 3176, '▁네덜란드': 3177, '▁집에서': 3178, '▁다쳤다': 3179, '▁기자회견': 3180, '▁화성': 3181, '▁지도': 3182, '▁민간': 3183, '▁보유': 3184, '한국': 3185, '▁소식통은': 3186, '▁기반': 3187, '▁블로그에': 3188, '▁원유': 3189, '▁목사': 3190, '▁트': 3191, '▁왔': 3192, '▁손상': 3193, '▁둔': 3194, '▁이혼': 3195, '▁지키': 3196, '▁마르': 3197, '▁증가했다': 3198, '▁수백만': 3199, '물이': 3200, '▁단어': 3201, '▁월드컵': 3202, '▁대통령에게': 3203, '▁경찰과': 3204, '▁쿠르드': 3205, '▁확정': 3206, '▁무가베': 3207, '▁먼저': 3208, '://': 3209, '▁하워드': 3210, '▁부르': 3211, '▁보험': 3212, '▁담배': 3213, '풍': 3214, '▁성적': 3215, '25': 3216, '▁예산': 3217, '▁탐사': 3218, '▁즉': 3219, '▁수는': 3220, '▁시점': 3221, 'up': 3222, '▁실종': 3223, '▁희생': 3224, '▁후보에': 3225, '▁150': 3226, '▁기회를': 3227, 'TA': 3228, '▁모습': 3229, '▁참석한': 3230, '▁방해': 3231, '▁찾는': 3232, '▁캠프': 3233, '▁세르비아': 3234, 'Total': 3235, 'code': 3236, '겠지만': 3237, '▁배럴': 3238, '▁있었으며': 3239, '▁철회': 3240, '▁속에': 3241, '▁사례': 3242, '▁알아': 3243, '▁베이': 3244, '▁후보로': 3245, 'TV': 3246, '우스': 3247, '▁함': 3248, '▁대북': 3249, '▁크기': 3250, '▁연구진': 3251, '▁휴가': 3252, '▁대체': 3253, '사태': 3254, '▁날씨': 3255, '▁증명': 3256, '▁박사': 3257, '▁금리': 3258, '▁외교관': 3259, '▁요구한': 3260, '▁조정': 3261, '▁구성된': 3262, '주년': 3263, '탕': 3264, '▁쥐': 3265, '▁곤': 3266, '▁못할': 3267, '▁우크라이나': 3268, '▁펜실베이니아': 3269, '▁태풍': 3270, '▁알려져': 3271, '▁대기': 3272, '하려고': 3273, '▁통합': 3274, '▁위험한': 3275, '웨이': 3276, '됐지만': 3277, '▁사용하는': 3278, '▁위원장은': 3279, '▁교체': 3280, '▁연루': 3281, '▁그것': 3282, '줬다': 3283, '▁보상': 3284, '달하는': 3285, '항공': 3286, '▁지급': 3287, '버그': 3288, '▁명단': 3289, '▁45': 3290, '▁있는데': 3291, '▁남성이': 3292, '▁의한': 3293, '▁데이': 3294, '▁대표단': 3295, '▁2009': 3296, '촌': 3297, '▁모하메드': 3298, '▁스티븐': 3299, '▁침체': 3300, '▁피랍': 3301, '파운드': 3302, '▁1999': 3303, '▁진입': 3304, '▁기후': 3305, '▁손실': 3306, '위원회는': 3307, '▁휘': 3308, '▁#': 3309, '명에': 3310, '▁벌인': 3311, '▁이행': 3312, '▁재산': 3313, '▁다수': 3314, '자들에게': 3315, '▁중국이': 3316, '▁홍수': 3317, '▁폐기': 3318, '▁니콜라': 3319, '▁실시한': 3320, '▁시작됐다': 3321, '▁웹사이트에': 3322, '▁400': 3323, '▁빨리': 3324, '▁정확한': 3325, '몽': 3326, '▁조종사': 3327, '▁마이크': 3328, '▁분위기': 3329, '▁질병': 3330, '필드': 3331, '▁경찰서': 3332, '▁해변': 3333, '▁그래': 3334, '▁진술': 3335, '▁견': 3336, '▁삼성': 3337, '브라': 3338, '▁궁': 3339, '▁분명': 3340, '▁영향력': 3341, '▁어린': 3342, '▁전역': 3343, '▁재정': 3344, '▁진전': 3345, '라스': 3346, '▁표시': 3347, '▁NASA': 3348, '데이': 3349, '▁32': 3350, '닉': 3351, '▁얻었다': 3352, '쯤': 3353, '▁스티브': 3354, '▁부동산': 3355, '▁엄마': 3356, '▁흔들': 3357, '▁규제': 3358, '▁국왕': 3359, '▁군인들': 3360, '▁기자는': 3361, '▁인정했다': 3362, '짜리': 3363, '▁특사': 3364, '으로써': 3365, '▁현장에': 3366, '▁그중': 3367, '사인': 3368, '▁들었다': 3369, '▁당선자': 3370, '같은': 3371, '▁사무총장은': 3372, '▁저녁': 3373, '▁장난감': 3374, '▁자살폭탄테러': 3375, '▁콘돌': 3376, '▁대답': 3377, 'mp': 3378, '어야': 3379, '▁응': 3380, '▁테러로': 3381, '세계': 3382, '경제': 3383, '▁긴': 3384, '참': 3385, '▁알려': 3386, '▁위원장': 3387, '▁통치': 3388, '▁하락했다': 3389, '▁충분': 3390, '▁무력': 3391, '▁스테': 3392, '▁위해서': 3393, '라도': 3394, '▁왜': 3395, '▁말한': 3396, 'ant': 3397, '▁있었': 3398, '▁태도': 3399, '▁승무원': 3400, '멘': 3401, '렛': 3402, '▁줄어들': 3403, '▁아바스': 3404, '▁며칠': 3405, '▁형태': 3406, '▁가격이': 3407, '▁장애': 3408, 'ill': 3409, '▁예방': 3410, '▁이웃': 3411, '▁인식': 3412, '▁근처': 3413, '▁기울': 3414, '대에': 3415, '▁지도부': 3416, '▁않기': 3417, '15': 3418, '잔': 3419, '카르': 3420, '▁도착했다': 3421, '▁아부': 3422, 'tr': 3423, '사람': 3424, '▁시청': 3425, '혼': 3426, '프라': 3427, '▁토요일': 3428, '▁네팔': 3429, '2009.06': 3430, '개월간': 3431, '2008.0': 3432, 'ry': 3433, '▁문제로': 3434, '▁최소한': 3435, '푸': 3436, '▁떨어졌다': 3437, '▁살해한': 3438, '폴': 3439, '휴': 3440, '▁방어': 3441, '▁않으면': 3442, '▁강도': 3443, '▁색': 3444, '▁자신들이': 3445, '▁수사관': 3446, '▁아직도': 3447, '▁공정': 3448, '졌으며': 3449, '▁하며': 3450, '▁콘': 3451, '▁징역': 3452, '▁청소년': 3453, '▁시리즈': 3454, '▁테이프': 3455, '▁파타': 3456, '더라도': 3457, '▁노대통령': 3458, '▁점령': 3459, '▁FBI': 3460, '웨': 3461, '▁반발': 3462, '▁지출': 3463, '▁시민들': 3464, '▁입국': 3465, '▁돼': 3466, '▁낙': 3467, '▁무시': 3468, '▁기타': 3469, '▁전망이': 3470, '▁송': 3471, '▁생명': 3472, '44': 3473, '▁지휘': 3474, '▁일본은': 3475, ';': 3476, '▁가자': 3477, '▁순찰': 3478, '업자': 3479, '▁장악': 3480, '▁노벨': 3481, '군은': 3482, '▁형성': 3483, 'de': 3484, '▁만들었다': 3485, '▁내린': 3486, 'ity': 3487, '▁결승': 3488, '▁사용할': 3489, '구역': 3490, '소를': 3491, '되면': 3492, '단은': 3493, '잉': 3494, '▁대상': 3495, 'ess': 3496, '▁쉽게': 3497, '▁근거': 3498, '▁침해': 3499, '▁탈출': 3500, '▁솔': 3501, '▁살아': 3502, '▁타격': 3503, '▁감행': 3504, '▁즉시': 3505, '혔다': 3506, '주간': 3507, '▁통화': 3508, '시티': 3509, '걸': 3510, '65': 3511, '계획': 3512, '오바마': 3513, '▁요구하는': 3514, '▁싸': 3515, '▁상황에': 3516, '▁당한': 3517, '▁오하이오': 3518, '64': 3519, '▁끼': 3520, '▁꾸': 3521, '덴': 3522, '州': 3523, '셰': 3524, '▁나타내': 3525, '진다': 3526, '▁한번': 3527, '▁유럽연합': 3528, '▁연락': 3529, '▁실망': 3530, '▁직면': 3531, '▁복제': 3532, '▁기준': 3533, '▁몰아': 3534, '▁추측': 3535, '▁사령관': 3536, '▁웹': 3537, '▁전문가들': 3538, '▁것처럼': 3539, 'age': 3540, '리오': 3541, '▁주에서': 3542, '▁의문': 3543, '그룹': 3544, '77': 3545, '▁방식': 3546, '준다': 3547, '▁소수': 3548, 'der': 3549, '대회': 3550, '헨': 3551, '딜': 3552, 'Z': 3553, '▁엘리자베스': 3554, '램': 3555, '픽': 3556, '▁한국과': 3557, '▁폭격': 3558, '▁선거운동': 3559, '▁만족': 3560, '▁의장은': 3561, '▁지지자': 3562, '▁복용': 3563, '▁상품': 3564, '▁남북한': 3565, '▁연관': 3566, '▁중요하다': 3567, '49': 3568, '▁토니': 3569, '▁우주선': 3570, 'ne': 3571, '주에서': 3572, '▁공화당의': 3573, '달러에': 3574, '곡': 3575, '린다': 3576, '400': 3577, '▁차관': 3578, '▁봉': 3579, '번째로': 3580, '53': 3581, '▁소프트웨어': 3582, '▁협조': 3583, '컬': 3584, '▁활용': 3585, '▁스위스': 3586, '▁론스타': 3587, '▁잭슨': 3588, '된다고': 3589, '▁말라': 3590, '지수': 3591, '▁예술': 3592, '▁끝난': 3593, '▁In': 3594, '▁화산': 3595, '▁구글': 3596, '▁육군': 3597, '▁MS': 3598, 'ear': 3599, '▁짐': 3600, '▁속에서': 3601, '국민': 3602, '▁대출': 3603, '쳤': 3604, '▁현장에서': 3605, '▁회담은': 3606, '▁자산': 3607, '들어': 3608, '어스': 3609, '▁결과가': 3610, '육': 3611, '▁주로': 3612, '▁실제로': 3613, '괴': 3614, '▁총선에서': 3615, '원들이': 3616, '▁매장': 3617, '▁밝': 3618, '▁이르는': 3619, '▁핵실험': 3620, '▁페르베': 3621, '▁김정일': 3622, '▁갖추': 3623, '▁축제': 3624, '함에따라': 3625, '베리': 3626, '▁자격': 3627, '▁\"\"': 3628, '▁대사는': 3629, '52': 3630, '▁신경': 3631, 'ma': 3632, '▁우선': 3633, '▁영국군': 3634, '▁킹': 3635, '46': 3636, '▁홈': 3637, '▁장치': 3638, '▁일부는': 3639, '▁시위자들': 3640, '▁모습이': 3641, '닌': 3642, '▁지적': 3643, '▁잘못': 3644, '▁일으키': 3645, '▁기독교': 3646, '12': 3647, '▁사이클론': 3648, '▁되면': 3649, '▁1997': 3650, 'tion': 3651, '드라': 3652, '려고': 3653, '▁t': 3654, '▁등이': 3655, '▁귀국': 3656, '▁결혼식': 3657, '▁공식적으로': 3658, '▁가는': 3659, '▁신속': 3660, '▁유리': 3661, '▁조사하고': 3662, '▁동물원': 3663, '▁아래': 3664, '▁상점': 3665, '사고': 3666, '▁관광객들': 3667, '▁주는': 3668, '▁지연': 3669, '▁Iraq': 3670, '▁뉴질랜드': 3671, '▁헤럴드': 3672, '▁매들린': 3673, '▁North': 3674, 'qu': 3675, '▁1998': 3676, '▁내놓': 3677, '▁체포된': 3678, '▁구체적인': 3679, '▁받아들이': 3680, '▁아르헨티나': 3681, '득': 3682, '▁파손': 3683, '대사': 3684, '원들은': 3685, '▁요구를': 3686, '▁걸어': 3687, '▁총리와': 3688, '비치': 3689, '▁포함되어': 3690, '칸': 3691, '생활': 3692, 'ho': 3693, '개발': 3694, '▁길이': 3695, '정보': 3696, '▁CBS': 3697, '▁드러났다': 3698, '▁외곽': 3699, '▁이끌어': 3700, '▁해고': 3701, '600': 3702, '7000': 3703, '▁있으나': 3704, '▁올렸다': 3705, '▁같': 3706, '▁의료진': 3707, '▁가입': 3708, '▁압둘라': 3709, '▁수용소': 3710, 'ine': 3711, '▁기구': 3712, '▁나달': 3713, '장인': 3714, '▁지지하는': 3715, '▁해산': 3716, '리그': 3717, '▁인하': 3718, '▁마치': 3719, '▁대단': 3720, '▁사무': 3721, '▁중이라고': 3722, '▁r': 3723, '만큼': 3724, '둘': 3725, '▁얘기': 3726, '▁캠페인': 3727, '`': 3728, '켄': 3729, 'PPP': 3730, '▁가르': 3731, '▁빛': 3732, '▁V': 3733, '▁벗어나': 3734, '▁변경': 3735, '▁성화': 3736, '▁강경': 3737, '▁보석': 3738, '▁즐기': 3739, '800': 3740, '▁이곳에서': 3741, '▁성공했다': 3742, 'BA': 3743, '▁이민': 3744, '▁의도': 3745, '▁권고': 3746, '▁중국과': 3747, '객들': 3748, '캐': 3749, '혁': 3750, '▁리버풀': 3751, '▁싱가포르': 3752, '▁좋지': 3753, '▁케네디': 3754, '꾼': 3755, '쾌': 3756, '▁답변': 3757, '▁달성': 3758, '▁루이스': 3759, '▁행정': 3760, '▁주인공': 3761, '▁불참': 3762, '▁국제적': 3763, '▁에이즈': 3764, '▁폭행': 3765, '▁지진으로': 3766, 'kg': 3767, '▁만드는': 3768, '▁기자들': 3769, '▁대부분은': 3770, '▁민주화': 3771, '▁상업': 3772, '▁관여': 3773, '▁비교': 3774, '▁실행': 3775, '▁영국에서': 3776, '▁투자자들': 3777, '▁경선에서': 3778, '▁포함해': 3779, '▁학대': 3780, '려는': 3781, '▁등장': 3782, '▁해결하기': 3783, '▁소개': 3784, '39': 3785, '▁중요': 3786, '▁어린이들': 3787, '▁곳으로': 3788, '▁주석': 3789, '▁혹': 3790, '탁': 3791, 'ard': 3792, '47': 3793, '▁전해': 3794, '뜨': 3795, '렬': 3796, '훈': 3797, '▁DNA': 3798, '▁맨체스터': 3799, '▁우라늄': 3800, '▁열린우리당': 3801, '▁드라마': 3802, '되었': 3803, '▁벌어진': 3804, '▁음반': 3805, '▁않도록': 3806, 'ain': 3807, '▁방침': 3808, '슬리': 3809, '▁1980': 3810, '▁반정부': 3811, '▁안보리': 3812, '▁행진': 3813, '▁소요': 3814, '-3': 3815, '▁회담에': 3816, '▁장식': 3817, '▁목격': 3818, '4000': 3819, '▁결승전': 3820, '▁포드': 3821, '▁주고': 3822, '▁음': 3823, '▁그와': 3824, '▁맞서': 3825, '▁수영': 3826, '결과': 3827, '▁회원국': 3828, 'co': 3829, '▁is': 3830, '▁지수는': 3831, '▁터키군': 3832, '조직': 3833, '포트': 3834, '핑': 3835, '▁포르투갈': 3836, '▁휘발유': 3837, '▁페일린': 3838, '▁첼시': 3839, 'EU': 3840, '분간': 3841, '▁질환': 3842, '▁가득': 3843, '▁음모': 3844, '▁요구하고': 3845, '▁때문이다': 3846, '▁웃': 3847, '▁화학': 3848, '▁조각': 3849, '검사': 3850, '겼': 3851, '▁잔해': 3852, '부시': 3853, '바르': 3854, '▁기본': 3855, '▁감정': 3856, '▁언급하지': 3857, 'ang': 3858, '▁자세': 3859, '▁장비': 3860, '▁중에는': 3861, '67': 3862, '▁다이': 3863, '▁저는': 3864, '▁덮': 3865, '▁테러가': 3866, '▁거절': 3867, '▁영화제': 3868, '▁석': 3869, '당국': 3870, '▁믿고': 3871, '▁훨씬': 3872, '죠': 3873, '▁베트남': 3874, '흉': 3875, '해리포터': 3876, '▁국제유가': 3877, '▁향후': 3878, '▁문제는': 3879, '▁1990': 3880, '폭탄': 3881, '68': 3882, '▁계획이': 3883, '▁유치': 3884, '▁파악': 3885, '포드': 3886, '바이': 3887, '▁거주하는': 3888, '▁폐지': 3889, '▁생존자': 3890, '▁250': 3891, '▁회담이': 3892, '▁경기에': 3893, '당국은': 3894, '▁장관이': 3895, '▁크리스티': 3896, '픈': 3897, '흑': 3898, '켈': 3899, '▁샌프란시스코': 3900, '▁페더러': 3901, '▁획득': 3902, '▁로봇': 3903, '▁묘사': 3904, '▁운항': 3905, '▁전면': 3906, '주일': 3907, '▁주인': 3908, '오늘': 3909, '▁공개했다': 3910, '▁밀란': 3911, '라드': 3912, '▁지시': 3913, '국이': 3914, '14': 3915, '▁영토': 3916, '▁예정이며': 3917, 'po': 3918, '▁불리는': 3919, '▁지목': 3920, '▁기상': 3921, '측이': 3922, '장치': 3923, '▁내용이': 3924, '▁곡': 3925, '▁추적': 3926, 'man': 3927, '▁병사들': 3928, 'ab': 3929, '▁광장': 3930, '▁외부': 3931, '▁소니': 3932, '▁프레': 3933, '▁입수': 3934, '56': 3935, '▁노동자': 3936, '▁초대': 3937, '▁존슨': 3938, '회담': 3939, '됐고': 3940, '▁테러범': 3941, '▁한국군': 3942, '▁중부': 3943, '핀': 3944, '!': 3945, '▁모스크바': 3946, '▁밖으로': 3947, '룰': 3948, '▁랭킹': 3949, '▁콘서트': 3950, '▁반기문': 3951, '▁검색': 3952, '▁얼음': 3953, '▁맨유': 3954, '곤': 3955, '▁집에': 3956, '▁나쁜': 3957, '콘': 3958, '콜': 3959, '▁빚': 3960, '▁작동': 3961, '네스': 3962, '▁pro': 3963, '▁폭우': 3964, '▁이것이': 3965, '스티': 3966, '▁치르': 3967, '▁빅': 3968, '▁샌': 3969, '▁시절': 3970, '들로부터': 3971, '▁대결': 3972, '▁단체는': 3973, '▁워싱턴에서': 3974, '▁주장하는': 3975, '▁편지': 3976, '▁행성': 3977, '▁학생들이': 3978, '▁희생자들': 3979, '작전': 3980, '▁도달': 3981, '▁주간': 3982, '▁전개': 3983, '▁목격자': 3984, '었으나': 3985, '▁South': 3986, '둥': 3987, '튜': 3988, '▁온난화': 3989, '▁세계대전': 3990, '▁금요일': 3991, '▁이메일': 3992, '▁둘러': 3993, '▁접속': 3994, '▁중재': 3995, '▁목격자들': 3996, '▁토론회': 3997, '▁야생': 3998, '맥': 3999, '▁것보다': 4000, '▁소환': 4001, '듯': 4002, '▁입양': 4003, '▁탐': 4004, '▁밑': 4005, '▁지정': 4006, '▁협회': 4007, '▁예비': 4008, '▁n': 4009, '▁고객': 4010, 'z': 4011, '▁에이': 4012, '▁잃었다': 4013, '▁하이': 4014, '▁방문할': 4015, '▁당선인은': 4016, '▁남쪽': 4017, '대학': 4018, '적이고': 4019, '▁꿈': 4020, '▁방법으로': 4021, '58': 4022, '국은': 4023, '▁무대': 4024, '▁방지': 4025, '\"\"': 4026, '▁충분한': 4027, '▁잡지': 4028, '▁바그다드에서': 4029, '▁심슨': 4030, '년에는': 4031, '▁속도': 4032, '아메리칸': 4033, '현지시각': 4034, '▁특파원': 4035, '▁9.11': 4036, '▁측근': 4037, '▁앨범': 4038, '▁주식시장': 4039, '▁영변': 4040, '▁학살': 4041, '▁성향': 4042, '▁주문': 4043, '▁리비아': 4044, '펜': 4045, '홀': 4046, '▁말합니다': 4047, '▁밖에서': 4048, '▁조사에서': 4049, '▁부근': 4050, '기술': 4051, '▁신체': 4052, '모든': 4053, '▁방문했다': 4054, '▁사법': 4055, '러스': 4056, '▁생각하고': 4057, '▁의무': 4058, '▁이들이': 4059, '되자': 4060, '▁선물': 4061, 'are': 4062, '이션': 4063, '▁의원들은': 4064, '▁38': 4065, '▁남아': 4066, '▁CIA': 4067, '▁이란은': 4068, '탑': 4069, '아메리카': 4070, '▁용의자들': 4071, '▁리콜': 4072, '▁허락': 4073, '▁합동': 4074, '▁저항': 4075, '▁사무총장': 4076, '▁카페': 4077, '▁진행된': 4078, '그들은': 4079, '트라': 4080, '100': 4081, '▁취할': 4082, '▁수집': 4083, '▁내전': 4084, '▁주목': 4085, '▁공중': 4086, '▁미국에': 4087, '▁출시': 4088, '▁예상했다': 4089, '▁체니': 4090, '▁특별한': 4091, '므로': 4092, '▁윤': 4093, '련': 4094, '▁생존': 4095, '▁논란': 4096, '82': 4097, '▁성과': 4098, '▁원하는': 4099, '미군': 4100, '▁레이스': 4101, '▁경기장': 4102, '컴': 4103, '롬': 4104, '▁않았으며': 4105, '▁유나이티드': 4106, '밍': 4107, 'um': 4108, '▁편집': 4109, '▁계획에': 4110, '지구': 4111, '우드': 4112, '▁자기': 4113, '59': 4114, '작업': 4115, '▁이익': 4116, '▁모양': 4117, '▁시작한': 4118, '▁에어': 4119, '▁후임': 4120, '전에서': 4121, '▁대부분이': 4122, '▁철도': 4123, '▁다니': 4124, '▁마시': 4125, '▁에드': 4126, '빠': 4127, '▁사건과': 4128, '럭': 4129, '넬': 4130, '▁붉은': 4131, '▁찾고': 4132, '▁쿠데타': 4133, '▁헤즈볼라': 4134, '롱': 4135, '짝': 4136, '▁대다수': 4137, '▁회견': 4138, '▁봄': 4139, '▁이사': 4140, '▁핵시설': 4141, '▁사건으로': 4142, '죄': 4143, '▁기능': 4144, '▁격차': 4145, '▁다우': 4146, '▁보면': 4147, '놀': 4148, 'ong': 4149, '싸': 4150, '원인': 4151, '▁이번주': 4152, '▁처음이다': 4153, '▁서방': 4154, '량이': 4155, '▁아일랜드': 4156, '사항': 4157, '▁바라고': 4158, '▁Re': 4159, '▁보이': 4160, 'ial': 4161, '▁발표된': 4162, '▁수요': 4163, '▁멸종': 4164, '[': 4165, '첸': 4166, '▁with': 4167, '▁우주비행사': 4168, '▁장례식': 4169, '셉': 4170, '▁여자친구': 4171, '▁아이오와': 4172, '▁겨울': 4173, '▁가까이': 4174, 'cm': 4175, '▁교사': 4176, '▁마틴': 4177, '▁걸릴': 4178, '▁체결': 4179, '▁만날': 4180, '▁복구': 4181, '어져': 4182, 'res': 4183, '▁차드': 4184, '▁나서': 4185, '▁전투기': 4186, '▁37': 4187, '▁tr': 4188, '▁폭발물': 4189, '조차': 4190, '▁산타': 4191, '▁어디': 4192, '▁의회의': 4193, '▁린': 4194, '▁파티': 4195, '▁클라': 4196, '지수는': 4197, '▁톰': 4198, '300': 4199, '▁현재까지': 4200, '▁프라': 4201, '▁중국에서': 4202, '▁CEO': 4203, '▁다이아몬드': 4204, '▁떨어지': 4205, '▁알래스카': 4206, '▁옮겨': 4207, '엑': 4208, '▁적십자': 4209, '▁일환으로': 4210, '▁다르푸르': 4211, '▁경찰서장': 4212, 'ke': 4213, '자리': 4214, '연맹': 4215, '▁특정': 4216, '▁나누': 4217, '▁동반': 4218, '▁물러': 4219, '되어야': 4220, '츠는': 4221, '▁심문': 4222, '▁수감자': 4223, '쓰': 4224, '장의': 4225, '13': 4226, '▁추정되는': 4227, '▁신호': 4228, '▁절대': 4229, '▁최초로': 4230, '85': 4231, '▁평화적': 4232, '학생': 4233, '▁36': 4234, '져야': 4235, '▁다우존스': 4236, '▁달라이라마': 4237, '▁설득': 4238, '▁FTA': 4239, '▁답': 4240, '▁그레': 4241, '▁자치': 4242, '▁교환': 4243, '▁증권': 4244, '▁오염': 4245, 'tor': 4246, '▁일주일': 4247, '▁치러진': 4248, '▁식당': 4249, '▁물건': 4250, '▁웨스트': 4251, '▁보통': 4252, '▁생물': 4253, '▁희': 4254, '▁사실상': 4255, '타르': 4256, '▁니콜': 4257, '민주당': 4258, '▁파산': 4259, '▁잠시': 4260, '했기': 4261, '▁불과': 4262, '▁요인': 4263, '▁회원': 4264, '▁아이들이': 4265, '▁St': 4266, 'our': 4267, '▁이스라엘군': 4268, '▁달라': 4269, '54': 4270, '16': 4271, '▁이스라엘과': 4272, '45': 4273, '춘': 4274, '섭': 4275, '▁내에': 4276, ']': 4277, '▁얻어': 4278, '퀴': 4279, '▁더불어': 4280, '▁쇼핑': 4281, '▁발굴': 4282, '▁바꾸': 4283, '▁폭락': 4284, '▁둘': 4285, '▁행복': 4286, '▁어려운': 4287, 'ational': 4288, '▁커피': 4289, '▁않지만': 4290, '정부는': 4291, '▁그리': 4292, '▁50%': 4293, '시키려': 4294, '원제': 4295, '▁기도': 4296, '▁통신은': 4297, '▁강요': 4298, '76': 4299, '▁세워': 4300, '▁재건': 4301, '▁제안했다': 4302, '▁취하': 4303, '삼': 4304, '농': 4305, '홍': 4306, '라이브': 4307, '▁경보': 4308, '▁업계': 4309, '오는': 4310, '▁친구들': 4311, '▁광산': 4312, '▁보고했다': 4313, '84': 4314, '요원': 4315, '▁국회의원': 4316, '▁목적으로': 4317, '63': 4318, '닥': 4319, 'PA': 4320, '▁FARC': 4321, '묘': 4322, '위기': 4323, '▁됩니다': 4324, '▁스리랑카': 4325, '▁앉아': 4326, '▁에드워즈': 4327, '▁코미디': 4328, '▁갑자': 4329, '▁멜': 4330, '▁사냥': 4331, '▁북극': 4332, '▁기업들': 4333, '▁출석': 4334, '▁담당자': 4335, '▁열리': 4336, '▁매각': 4337, 'out': 4338, '▁도입': 4339, '▁배출': 4340, '▁밝히고': 4341, '▁조합': 4342, '부대': 4343, '▁항소': 4344, '후드': 4345, '차전': 4346, '▁거두': 4347, '▁신임': 4348, '90': 4349, '▁계속되고': 4350, '▁적절한': 4351, '▁소비자들': 4352, '▁확산되': 4353, '뿐': 4354, '▁선보': 4355, '▁투어': 4356, '▁시장에서': 4357, '▁결정은': 4358, '라면': 4359, '▁의회는': 4360, '▁지상': 4361, '▁지점': 4362, '▁된다고': 4363, '▁의식': 4364, '년이': 4365, '▁고대': 4366, '▁있어서': 4367, '▁기분': 4368, '▁벽': 4369, '▁48': 4370, '▁공격이': 4371, '▁윈': 4372, '▁회사들': 4373, '룬': 4374, '님': 4375, '멸': 4376, '쇠': 4377, '▁방글라데시': 4378, '떼': 4379, '렐': 4380, '콤': 4381, '▁오스트리아': 4382, '▁칠레': 4383, '▁NBC': 4384, '▁것이라며': 4385, '▁데이터': 4386, '▁단순': 4387, '빠진': 4388, '18': 4389, '▁성관계': 4390, '▁기존': 4391, '▁서울에서': 4392, '▁자본': 4393, '▁북측': 4394, '만약': 4395, '▁협상이': 4396, '최': 4397, '▁원한다': 4398, '납': 4399, '이슬람': 4400, '▁윌': 4401, '▁사인': 4402, '▁호세': 4403, '▁사전': 4404, '▁아동': 4405, '▁넓': 4406, '페이지': 4407, '▁부근에서': 4408, '▁사용한': 4409, '▁테러리스트': 4410, '▁그림': 4411, '▁외교적': 4412, '79': 4413, '▁sh': 4414, '랭': 4415, '▁노스캐롤라이나': 4416, '▁봉쇄': 4417, '▁공산당': 4418, '▁시드': 4419, '▁합류': 4420, '▁적은': 4421, '▁폭동': 4422, '▁치열': 4423, '▁방영': 4424, '▁의존': 4425, '▁부담': 4426, '▁화물': 4427, 'ure': 4428, 'ance': 4429, '▁예상되': 4430, '▁해양': 4431, '▁피난': 4432, '했음': 4433, '▁美': 4434, '▁고소': 4435, '▁제도': 4436, '▁버마': 4437, '▁노력하고': 4438, '▁이하': 4439, '▁각국': 4440, '▁후원': 4441, '냈': 4442, '▁되기': 4443, '파키스탄': 4444, '▁중독': 4445, 'BC': 4446, '900': 4447, '▁해병대': 4448, '됐을': 4449, '▁수송': 4450, '▁본사': 4451, '▁상승했다': 4452, '▁부여': 4453, '수사': 4454, '▁수상자': 4455, '▁시위에': 4456, '세력': 4457, '▁스키': 4458, '78': 4459, '69': 4460, '▁말까지': 4461, '▁아르': 4462, '▁펜': 4463, '▁책임자': 4464, '께': 4465, '아야': 4466, '흘': 4467, '룩': 4468, '▁없으며': 4469, '▁나이지리아': 4470, '▁카르자이': 4471, '▁마카오': 4472, '▁흡연': 4473, '▁재무장관': 4474, '▁검거': 4475, '▁하늘': 4476, '▁농축': 4477, '▁가옥': 4478, '▁식품': 4479, '▁낸': 4480, '▁실시되': 4481, 'ha': 4482, '▁노동자들': 4483, '조원': 4484, '▁나갈': 4485, '▁대항': 4486, '▁통계': 4487, '▁현실': 4488, '▁많다': 4489, '-2': 4490, '▁세상': 4491, '▁승리했다': 4492, '▁소설': 4493, '▁묵': 4494, '▁어려': 4495, '▁일본에서': 4496, '▁사용되': 4497, '▁측정': 4498, '▁보관': 4499, 'ress': 4500, '▁골드': 4501, '▁조성': 4502, '된다면': 4503, '됐었다': 4504, '▁세우': 4505, '▁잇': 4506, '▁공항에서': 4507, '▁구조대': 4508, '상황': 4509, '▁소식이': 4510, '▁하다': 4511, 'one': 4512, '▁대통령에': 4513, '▁일본이': 4514, '▁북쪽': 4515, '▁연주': 4516, '▁오브': 4517, 'ts': 4518, '레나': 4519, '▁만화': 4520, '▁의지': 4521, '▁의회에': 4522, '▁로한': 4523, '관련': 4524, '▁전날': 4525, '▁고등학교': 4526, '▁네트워크': 4527, '▁훌륭': 4528, '큐': 4529, '장으로': 4530, '▁파예드': 4531, '▁카스트로': 4532, '▁습격': 4533, '▁복잡': 4534, '▁관람': 4535, '▁목록': 4536, '▁혁명': 4537, '▁건축': 4538, '▁극복': 4539, '▁시드니': 4540, '▁인류': 4541, '▁취재': 4542, '▁51': 4543, '▁최선': 4544, '▁페루': 4545, '▁구출': 4546, '▁보복': 4547, '▁망': 4548, '▁증가하고': 4549, '▁개방': 4550, '정도': 4551, '▁유가': 4552, 'ie': 4553, '▁내릴': 4554, '▁베르': 4555, '▁트리': 4556, '칼': 4557, '안전': 4558, '▁체제': 4559, '▁기다리고': 4560, '브레': 4561, '▁국경지역': 4562, '러시아': 4563, '▁이유는': 4564, '기지': 4565, '위원장': 4566, '▁모인': 4567, '▁지수': 4568, '▁자리에서': 4569, '▁사드르': 4570, '▁야기': 4571, '▁맞이': 4572, '▁부과': 4573, '▁왕세자': 4574, '끄': 4575, '넷': 4576, '▁훼손': 4577, '▁거뒀다': 4578, '▁스웨덴': 4579, '덜': 4580, '▁북동부': 4581, '▁혜택': 4582, 'IOC': 4583, '▁숫자': 4584, 'New': 4585, '▁콩고': 4586, '▁남아공': 4587, '▁패션': 4588, '▁경쟁자': 4589, '▁클레': 4590, '▁말하는': 4591, '▁출판': 4592, '▁있었고': 4593, '▁순방': 4594, '▁인종': 4595, '▁움직이': 4596, '▁풀어': 4597, '▁발병': 4598, '▁돌려': 4599, '▁상처': 4600, '▁모색': 4601, '워터': 4602, '▁선언했다': 4603, '▁의학': 4604, '▁태평양': 4605, '▁조기': 4606, '26': 4607, '▁그동안': 4608, '▁나아': 4609, '다시': 4610, '▁유감': 4611, '▁불러': 4612, '값': 4613, 'ba': 4614, '왔으며': 4615, '해줄': 4616, '▁일간': 4617, '▁방화': 4618, '▁유대인': 4619, '▁털': 4620, '▁분석가': 4621, '생물학': 4622, '지난': 4623, '가격': 4624, '흔': 4625, '흥': 4626, '첨': 4627, '혜': 4628, '▁되찾': 4629, '릿': 4630, '▁덴마크': 4631, '▁얻기': 4632, '▁이렇게': 4633, '▁정확히': 4634, '▁펼치': 4635, '나갔다': 4636, 'FRB': 4637, '▁이재민': 4638, '닷컴': 4639, '▁이뤄지': 4640, '스틴': 4641, '▁이주': 4642, '전쟁': 4643, '▁고향': 4644, '▁의회에서': 4645, 'AN': 4646, '▁2010': 4647, '아나': 4648, '▁명예': 4649, '▁사담': 4650, '▁지도자들은': 4651, '▁비율': 4652, '▁진실': 4653, '▁지진이': 4654, '▁AC': 4655, '▁세포': 4656, '▁베이징에서': 4657, '▁로비': 4658, '장과': 4659, '▁현금': 4660, '▁10%': 4661, '기업': 4662, '시위': 4663, '▁올린': 4664, '▁미국인들': 4665, '▁경호원': 4666, '답': 4667, '하고자': 4668, '플레': 4669, '현재': 4670, '▁반군이': 4671, '▁시내': 4672, '명에게': 4673, '▁환자들': 4674, '▁말해': 4675, '▁플레이': 4676, '콩': 4677, '웅': 4678, 'NATO': 4679, 'UEFA': 4680, '▁마찬가지': 4681, '▁챔피언스리그': 4682, '틸': 4683, '▁will': 4684, '▁주제': 4685, '▁커플': 4686, '▁레알': 4687, '▁영업': 4688, '▁일리노이주': 4689, '▁자극': 4690, '▁인공': 4691, '▁입증': 4692, '▁대가로': 4693, '▁만난': 4694, '▁고발': 4695, '▁선발': 4696, '▁말리키': 4697, '▁노리': 4698, '▁발생했으며': 4699, '세인': 4700, '62': 4701, '▁유력': 4702, '▁거부했다': 4703, '▁시위대는': 4704, '희': 4705, '연구소': 4706, '▁앨': 4707, '▁주최': 4708, '▁향하': 4709, '▁제공하는': 4710, '▁실패했다': 4711, '평화': 4712, '▁마치고': 4713, '▁가했다': 4714, '▁Japan': 4715, '▁예루살렘': 4716, '갤': 4717, '▁청문회': 4718, '▁남동부': 4719, '▁plan': 4720, '▁엄청': 4721, '2008.12': 4722, '▁코커스': 4723, '▁새끼': 4724, '섹스': 4725, '▁장착': 4726, '▁과격': 4727, '▁노예': 4728, '▁체계': 4729, '24': 4730, '▁임금': 4731, '▁숙': 4732, '▁초점': 4733, '드시': 4734, '▁배경': 4735, '▁공화국': 4736, '▁진화': 4737, '▁카드': 4738, '스테': 4739, 'IS': 4740, '▁보인다고': 4741, '▁남아있': 4742, '▁보안군': 4743, '지금': 4744, '74': 4745, '▁IAEA': 4746, '팔': 4747, '▁발생하지': 4748, '▁권한': 4749, '▁있다면': 4750, '▁본선': 4751, '정부가': 4752, '21': 4753, '▁그것이': 4754, '▁성화봉송': 4755, '▁외교통상부': 4756, '▁활주로': 4757, '뱀': 4758, '웬': 4759, '▁폴란드': 4760, '▁디즈니': 4761, '▁네바다': 4762, '▁완벽': 4763, '▁다니엘': 4764, '▁민족': 4765, '▁멀': 4766, '▁600': 4767, '▁분열': 4768, '▁사장은': 4769, '▁압수': 4770, '▁소매': 4771, '▁셀': 4772, '▁받아야': 4773, '▁봉사': 4774, '▁이양': 4775, '99': 4776, '▁중순': 4777, '▁대회에서': 4778, '▁수업': 4779, '본부': 4780, '민주': 4781, '리스트': 4782, '▁달려': 4783, '▁델': 4784, 'ice': 4785, '▁경영': 4786, '▁열대': 4787, 'ell': 4788, '▁노인': 4789, '▁방향': 4790, '▁대선에서': 4791, '축구': 4792, '▁갖는': 4793, '▁인디애나': 4794, '렘': 4795, '▁크루즈': 4796, '▁아이디어': 4797, '▁리조트': 4798, '▁삭제': 4799, '▁싸움': 4800, '▁납치된': 4801, '▁타이틀': 4802, '▁중간': 4803, '▁관찰': 4804, 'ood': 4805, '▁합병': 4806, '▁모기지': 4807, '▁무죄': 4808, '▁있었지만': 4809, '▁보잉': 4810, '▁생긴': 4811, '▁관영': 4812, '안보': 4813, '▁빙하': 4814, '▁아니면': 4815, '▁출산': 4816, '▁복무': 4817, '▁군정': 4818, '▁분명히': 4819, '▁철군': 4820, '▁고립': 4821, '행사': 4822, '▁이중': 4823, '▁조사에': 4824, '▁PC': 4825, '6000': 4826, '▁연행': 4827, '▁실적': 4828, '▁견해': 4829, '천만': 4830, 'av': 4831, '▁드러': 4832, '▁대량': 4833, '▁높아지': 4834, '▁구금': 4835, '되었고': 4836, '▁발간': 4837, '▁따르': 4838, '▁중지': 4839, '▁공유': 4840, '디아': 4841, '▁캘리포니아주': 4842, '▁착용': 4843, 'ome': 4844, '▁유전자': 4845, '37': 4846, '수록': 4847, '▁Co': 4848, '으면서': 4849, '▁기차': 4850, '피트': 4851, '▁난사': 4852, '▁런던에서': 4853, '▁전통적': 4854, '▁수상했다': 4855, '범죄': 4856, '짜': 4857, '마르': 4858, '미니': 4859, '▁폭탄이': 4860, '▁인사들': 4861, '▁승객들': 4862, '쉽': 4863, '곰': 4864, '▁라스베이거스': 4865, '▁봤다': 4866, '▁크라이슬러': 4867, '▁태어난': 4868, '▁토마스': 4869, '▁운송': 4870, '▁뉴욕에서': 4871, '▁과학자': 4872, '▁채택': 4873, '▁했지만': 4874, '▁피해가': 4875, '▁은퇴': 4876, '▁독재': 4877, '▁표했다': 4878, '▁방송국': 4879, '▁회동': 4880, '▁계획이라고': 4881, '▁일반적으로': 4882, '▁지시했다': 4883, '▁청구': 4884, '▁갖게': 4885, '▁위원회는': 4886, '▁주지사가': 4887, '금지': 4888, 'IC': 4889, '▁제조업체': 4890, '▁총격전': 4891, '▁돌아오': 4892, '▁서신': 4893, '▁위조': 4894, '▁축': 4895, 'oll': 4896, '▁주한': 4897, '버스': 4898, '▁기대하고': 4899, '▁보고서에서': 4900, '응': 4901, '▁안전한': 4902, '짐': 4903, '디스': 4904, '▁주지': 4905, '▁부서': 4906, '벤': 4907, '앤': 4908, '▁의미한다': 4909, '미터': 4910, '▁고어': 4911, '캔': 4912, '▁사우디아라비아': 4913, '▁쏟아': 4914, '▁협박': 4915, '댄': 4916, '▁이루어지': 4917, '▁심지어': 4918, '▁보여줬다': 4919, '▁빈곤': 4920, '▁하원의원': 4921, '▁매춘': 4922, '▁수감자들': 4923, '▁면담': 4924, '▁응급': 4925, '▁2012': 4926, '영국': 4927, '▁항구': 4928, '▁명백': 4929, '▁누리': 4930, '▁보낼': 4931, '▁지역으로': 4932, '▁카불': 4933, '▁거쳐': 4934, '▁실종된': 4935, '▁대학교': 4936, '▁재난': 4937, '▁보유하고': 4938, '22': 4939, '▁유발': 4940, '일본': 4941, 'ide': 4942, '▁기금': 4943, '▁시장에': 4944, '17': 4945, '▁싶어': 4946, '▁재단': 4947, '▁돼지': 4948, '명도': 4949, '▁크레': 4950, '▁자세한': 4951, '타운': 4952, '▁하면': 4953, '현지': 4954, '▁척': 4955, '▁안에서': 4956, '▁로드': 4957, '김': 4958, '카운티': 4959, '▁이사회': 4960, '▁무선': 4961, '▁나오는': 4962, '시대': 4963, '▁치러': 4964, '▁뼈': 4965, '담당': 4966, '▁바르셀로나': 4967, '▁펼쳐': 4968, '▁휴대전화': 4969, '▁논평': 4970, '▁누군가': 4971, '▁엄격': 4972, '▁베를린': 4973, '느냐': 4974, '▁케이블': 4975, '▁1994': 4976, '▁해결책': 4977, '▁철저': 4978, '▁하와이': 4979, '▁명은': 4980, '▁작용': 4981, '▁마쳤다': 4982, '▁기부': 4983, '▁단속': 4984, '▁CD': 4985, '▁형제': 4986, '▁사장': 4987, '▁생각하는': 4988, 'mb': 4989, '▁추정된다': 4990, '▁승리한': 4991, '▁신발': 4992, '▁무료': 4993, '▁만들어진': 4994, '▁못하게': 4995, '▁값': 4996, '▁듀': 4997, '▁호텔에서': 4998, '▁영장': 4999, '▁리그': 5000, '밤': 5001, '▁시사': 5002, '▁42': 5003, '▁동성애자': 5004, '▁이것': 5005, '▁동티모르': 5006, '▁펼쳤다': 5007, '끈': 5008, '춤': 5009, '▁쓰나미': 5010, 'WHO': 5011, '▁파트너': 5012, '▁에어버스': 5013, '▁주한미군': 5014, '▁외환은행': 5015, '▁바스라': 5016, '▁요리': 5017, '▁급등': 5018, '▁디자인': 5019, '▁th': 5020, '▁두바이': 5021, '기록': 5022, '▁상태에': 5023, '▁사령관은': 5024, '되었으며': 5025, '스타인': 5026, '▁대학생': 5027, '▁3000': 5028, '▁골프': 5029, '▁시각': 5030, '▁중심부': 5031, '▁여권': 5032, '▁신중': 5033, '▁간단': 5034, '▁한때': 5035, '▁의석': 5036, '▁책임이': 5037, '▁하던': 5038, '되었던': 5039, '▁논란이': 5040, '병원': 5041, '차량': 5042, '▁회의에서': 5043, '▁기계': 5044, '위안': 5045, '더스': 5046, '점으로': 5047, '▁말하며': 5048, '활': 5049, '짓': 5050, '▁공간': 5051, '▁발생하는': 5052, '아버지': 5053, '있었다': 5054, '학자들': 5055, '▁비용이': 5056, '엠': 5057, '킬로미터': 5058, '틱': 5059, '▁그렇지': 5060, '▁일으킨': 5061, '▁이루어졌다': 5062, '▁불능화': 5063, '▁차관보는': 5064, '▁송환': 5065, '▁저지른': 5066, '▁(=': 5067, '▁당신이': 5068, 'ence': 5069, 'ast': 5070, '▁바닥': 5071, '▁처해': 5072, '스케': 5073, '▁나올': 5074, '▁기밀': 5075, '▁참석했다': 5076, '▁초래': 5077, '▁보트': 5078, '해왔': 5079, '▁맛': 5080, '▁앞에': 5081, '▁존중': 5082, '▁첫번째': 5083, '슬러': 5084, '▁점차': 5085, '▁공포': 5086, '▁130': 5087, '돼있다': 5088, '▁못한다': 5089, '▁사회적': 5090, '▁응답자': 5091, '▁도시에서': 5092, '▁자문': 5093, '▁우리당': 5094, '▁케리': 5095, '▁지켜보': 5096, '▁마비': 5097, '95': 5098, '▁높아': 5099, '▁운전자': 5100, '▁마감했다': 5101, '▁유전': 5102, '▁예수': 5103, '▁서울시': 5104, '▁이곳에': 5105, '▁검사는': 5106, '이었으며': 5107, '이스라엘': 5108, '솔': 5109, '▁리처드': 5110, '규모': 5111, '따': 5112, '▁한국에서': 5113, '▁레스토랑': 5114, '▁선거캠프': 5115, '▁휩싸': 5116, '꽃': 5117, '▁김대중': 5118, '▁흥분': 5119, '▁벌어지': 5120, '▁우리나라': 5121, '▁적극적': 5122, '▁여학생': 5123, '28': 5124, '▁못해': 5125, '▁받았으며': 5126, '▁검은': 5127, '교회': 5128, '▁종류': 5129, '▁세계은행': 5130, '▁노동당': 5131, '▁개표': 5132, '▁위로': 5133, '▁북미': 5134, '▁신부': 5135, '▁su': 5136, '8000': 5137, '▁특수': 5138, '▁발전소': 5139, '▁표명': 5140, '▁유출': 5141, '▁상공': 5142, '▁답했다': 5143, '▁아니었다': 5144, '받았다': 5145, '35': 5146, '▁가구': 5147, '베나': 5148, '▁자유를': 5149, '▁공약': 5150, '▁제기했다': 5151, '▁선전': 5152, '▁백악관은': 5153, '▁불가능': 5154, '▁국방': 5155, '▁라고': 5156, 'ail': 5157, '▁전사': 5158, '제대로': 5159, '▁비판했다': 5160, '▁압둘': 5161, 'mm': 5162, '▁측은': 5163, '▁일리노이': 5164, '▁생일': 5165, '빛': 5166, '촉': 5167, '첩': 5168, '▁곤잘레스': 5169, '▁만났다': 5170, '0,000': 5171, '▁콜로라도': 5172, '▁구제금융': 5173, '▁헨리': 5174, '▁핵프로그램': 5175, '▁숀': 5176, '▁고위관리': 5177, '▁부정적': 5178, '▁강풍': 5179, '▁경영진': 5180, '▁미국측': 5181, '▁테스트': 5182, '해질': 5183, '▁1970': 5184, '▁인생': 5185, '▁것이었다': 5186, '▁죽은': 5187, '▁그래서': 5188, '▁도망': 5189, '▁이슬람교': 5190, '▁보도에따르면': 5191, '▁피트': 5192, '▁따라서': 5193, '▁벗': 5194, 'act': 5195, '▁백인': 5196, '▁상어': 5197, '▁뇌물': 5198, '▁34': 5199, '▁예전': 5200, 'ti': 5201, '▁불길': 5202, '▁기자들에게': 5203, '▁차단': 5204, '▁나이트': 5205, '▁다루': 5206, '달라고': 5207, '▁요소': 5208, '▁지질': 5209, '▁총장은': 5210, '▁신분': 5211, 'iz': 5212, '▁사망자수': 5213, '스탄': 5214, '▁근로자': 5215, '총리': 5216, '국제': 5217, '▁주기': 5218, '연대': 5219, '▁당수': 5220, '▁시티': 5221, '흡': 5222, '▁들어갔다': 5223, '▁나스닥': 5224, '▁북서부': 5225, '▁침입': 5226, '▁와인하우스': 5227, '▁방콕': 5228, '▁뿐만아니라': 5229, '▁자유롭': 5230, '▁화장실': 5231, '▁ABC': 5232, '▁직업': 5233, '▁법안이': 5234, '▁전역에': 5235, '변화': 5236, '▁출입': 5237, '▁과도': 5238, '▁사막': 5239, '▁진영': 5240, '▁40%': 5241, '▁산림': 5242, '▁화면': 5243, '▁개장': 5244, '▁쓴': 5245, 'ther': 5246, 'ca': 5247, '▁돌파': 5248, '▁칼리': 5249, '▁올려': 5250, '노동': 5251, '▁해임': 5252, '▁미술': 5253, '▁사용될': 5254, '▁내정': 5255, '▁자원': 5256, '▁논의하기': 5257, '▁가능하다': 5258, '▁세대': 5259, 'ens': 5260, '▁해적': 5261, '▁33': 5262, 'lu': 5263, '▁고객들': 5264, '▁집으로': 5265, '▁시민들이': 5266, '▁사용자': 5267, '▁경비': 5268, '▁벌였': 5269, '▁두번째': 5270, '핵': 5271, '▁800': 5272, '뿐만아니라': 5273, '멜': 5274, '▁요르단': 5275, '랙': 5276, '▁President': 5277, '▁궤도': 5278, '▁떠났다': 5279, '▁블라디미': 5280, '▁스코틀랜드': 5281, '▁없지만': 5282, '룸': 5283, '▁법무부': 5284, '▁촉발': 5285, '▁활약': 5286, '▁둘러싸': 5287, '▁성직자': 5288, '▁라이벌': 5289, '▁언어': 5290, '▁가졌': 5291, '▁대륙': 5292, '▁자치정부': 5293, '▁필립': 5294, '▁급증': 5295, '▁아프가니스탄에서': 5296, '▁열어': 5297, '▁리드': 5298, '▁환호': 5299, '▁축소': 5300, '▁맞추': 5301, '▁체중': 5302, '▁왕실': 5303, '▁약화': 5304, '▁짓': 5305, '▁성격': 5306, '▁다우지수': 5307, '▁불편': 5308, '▁자랑': 5309, '▁꼭': 5310, '▁정전': 5311, '▁엘리': 5312, '▁직전': 5313, '연방': 5314, '▁상호': 5315, '▁연금': 5316, '베르': 5317, '▁공모': 5318, '페이스': 5319, '▁일어났': 5320, '▁맥주': 5321, '▁자신에게': 5322, '▁보호하기': 5323, '▁연안': 5324, '▁120': 5325, '▁감지': 5326, '▁백악관에서': 5327, '▁독도': 5328, '48': 5329, '즉각적인': 5330, '▁생각했다': 5331, '▁시기에': 5332, '▁코트': 5333, '▁진술했다': 5334, '▁개시': 5335, '옹': 5336, '▁가택연금': 5337, '▁샤라포바': 5338, 'Q': 5339, '넨': 5340, '퀸': 5341, '▁패트릭': 5342, '▁겨냥': 5343, '▁남서부': 5344, '▁리차드': 5345, '▁받아들일': 5346, '▁촉진': 5347, '▁월스트리트': 5348, '▁천주교': 5349, '▁거듭': 5350, '▁수석대표': 5351, '▁봉송': 5352, '▁붙잡': 5353, '여성': 5354, '▁구축': 5355, '▁낸시': 5356, '▁벌여': 5357, '▁리치': 5358, '▁몰려': 5359, '▁즉각': 5360, '▁월드': 5361, '▁라이트': 5362, '▁들여': 5363, '매우': 5364, '▁걸리': 5365, '▁가해': 5366, '▁홍': 5367, '됐으나': 5368, '스럽게': 5369, '레이크': 5370, '▁주장하며': 5371, '위성': 5372, '후보': 5373, '▁대치': 5374, '투표': 5375, '▁날아': 5376, '▁조약': 5377, '우주': 5378, '▁전환': 5379, '▁여행객': 5380, '▁대상이': 5381, '▁만들고': 5382, '▁포함된': 5383, '▁사람에게': 5384, '▁성공적': 5385, '▁다르': 5386, '▁출동': 5387, '▁인원': 5388, '▁농장': 5389, '▁주었다': 5390, '83': 5391, '▁잡고': 5392, '▁지내': 5393, '삭': 5394, '겁': 5395, '▁쌍둥이': 5396, '▁오사마빈라덴': 5397, '▁알코올': 5398, '▁스파이': 5399, '▁탄핵': 5400, '▁다섯': 5401, '▁상하이': 5402, '▁영웅': 5403, '▁케빈': 5404, '▁동쪽': 5405, '▁타임스': 5406, '풀': 5407, '동맹': 5408, '▁애도': 5409, '▁정착': 5410, '▁폭파': 5411, '헤드': 5412, '▁감염된': 5413, '▁소득': 5414, '▁것인가': 5415, '▁일제': 5416, '▁초반': 5417, '▁스타일': 5418, '▁나토군': 5419, 'pr': 5420, '▁카터': 5421, '▁역사적': 5422, '▁맡은': 5423, '▁비난하고': 5424, '▁하락세': 5425, '▁레드': 5426, '▁국민들에게': 5427, '▁자제': 5428, '▁던지': 5429, '▁떨어졌': 5430, '돼야': 5431, '▁Mo': 5432, '티아': 5433, '▁들어오': 5434, '▁입법': 5435, '▁상태로': 5436, '▁평가했다': 5437, '▁확실한': 5438, '가족': 5439, '▁자사': 5440, '▁폭스': 5441, '버렸다': 5442, '컷': 5443, '▁유튜브': 5444, '빼': 5445, '▁디지털': 5446, '▁마이애미': 5447, '▁미시시피': 5448, '▁애리조나': 5449, '▁천연가스': 5450, '▁캄보디아': 5451, '왓': 5452, '턱': 5453, '▁사찰단': 5454, '▁비타민': 5455, '▁침몰': 5456, '▁중앙일보': 5457, '▁오딩가': 5458, '▁로이터': 5459, '▁졸업': 5460, '▁지하철': 5461, '▁새벽': 5462, '▁날짜': 5463, '때문에': 5464, '▁소련': 5465, '▁산사태': 5466, '▁급격': 5467, '▁채널': 5468, '▁보지': 5469, '▁취임식': 5470, '▁종합': 5471, '▁엔진': 5472, '자동차': 5473, '▁게재': 5474, '▁공개된': 5475, '▁연예': 5476, '▁분류': 5477, '▁55': 5478, '▁감금': 5479, '▁전세계적으로': 5480, '▁완전한': 5481, '▁뛰': 5482, '▁연구팀': 5483, '▁추모': 5484, '▁쌀': 5485, '▁미칠': 5486, '나무': 5487, '부르크': 5488, '▁향상': 5489, '▁장면이': 5490, '▁전부터': 5491, '▁와인': 5492, '▁상승세': 5493, '▁도착한': 5494, '재판소': 5495, '▁경력': 5496, '▁이론': 5497, '▁가리': 5498, '제품': 5499, 'PS': 5500, '▁증상': 5501, '▁원화': 5502, '▁경호': 5503, '라이트': 5504, '▁딕': 5505, '장소': 5506, '▁합의했다고': 5507, '▁정신적': 5508, '▁서쪽': 5509, '정치': 5510, '▁전원': 5511, '쪽으로': 5512, '낭': 5513, '▁결선투표': 5514, '▁뿌리': 5515, '▁쓰촨성': 5516, '쌍': 5517, '▁비핵화': 5518, '놈': 5519, '▁이뤄졌다': 5520, '▁뉴저지': 5521, '▁가즈니': 5522, '▁재무부': 5523, '▁호랑이': 5524, '▁흥미': 5525, '▁over': 5526, '▁걸린': 5527, '▁근육': 5528, '▁받으며': 5529, '▁부총리': 5530, '▁돌입': 5531, '▁다윈': 5532, '벽': 5533, '해야만': 5534, '▁오늘날': 5535, '컨': 5536, '▁끝내': 5537, '쥐': 5538, '▁소집': 5539, '▁부채': 5540, '2009.0': 5541, '년만에': 5542, '▁포경': 5543, '▁가상': 5544, '▁공개적으로': 5545, '▁조류': 5546, '▁호소': 5547, '사진': 5548, '▁대립': 5549, '▁좁': 5550, '▁2-1': 5551, '▁가동': 5552, '▁프레스': 5553, '▁방식으로': 5554, '▁마무': 5555, '▁기다리': 5556, '▁형사': 5557, '▁변호인': 5558, '▁무리': 5559, '당신': 5560, '략': 5561, '맹': 5562, '▁만들기': 5563, '첼': 5564, '업체들': 5565, '▁나오지': 5566, '▁전복': 5567, '얀': 5568, 'CC': 5569, '쁘': 5570, '▁골키퍼': 5571, '▁늦게': 5572, '▁브라이언': 5573, '▁블라고예비치': 5574, '▁알렉산더': 5575, '▁에베레스트': 5576, '▁인플레이션': 5577, '▁토네이도': 5578, '▁필라델피아': 5579, '줘': 5580, '▁키바키': 5581, '▁리히터': 5582, '▁원숭이': 5583, '▁2-0': 5584, '▁스캔들': 5585, '▁오히려': 5586, '▁후보들': 5587, '▁최저': 5588, '.8%': 5589, '▁갖춘': 5590, '▁합법적': 5591, '▁탄압': 5592, '▁이라크군': 5593, '카드': 5594, '▁국가안보': 5595, '비용': 5596, '▁무엇보다': 5597, '▁보스턴': 5598, '▁만남': 5599, '▁*': 5600, '▁들어있': 5601, '물질': 5602, '▁물품': 5603, '▁구조대원들': 5604, '▁반영': 5605, '▁들어간': 5606, '▁이에따라': 5607, '감독': 5608, '▁공사': 5609, '▁겸': 5610, '▁참여한': 5611, '▁소문': 5612, '▁표명했다': 5613, '▁일간지': 5614, '써': 5615, '▁그대로': 5616, '▁노선': 5617, '여행': 5618, '▁사람들과': 5619, '▁것임': 5620, '▁주연': 5621, '▁소위': 5622, '▁간부': 5623, '버리': 5624, '▁상상': 5625, '▁정치인들': 5626, '즘': 5627, '잭': 5628, '▁마이크로소프트': 5629, '▁이슬라마바드': 5630, '슐': 5631, '▁남자친구': 5632, '▁은신처': 5633, '▁아름다': 5634, '▁통일부': 5635, '▁화이트': 5636, 'port': 5637, '▁보여준다': 5638, '▁순례': 5639, '▁중대한': 5640, '▁있었으나': 5641, '▁징역형': 5642, '▁라이언': 5643, '▁벗어': 5644, '▁블루': 5645, '▁가족과': 5646, '▁다음날': 5647, '▁종결': 5648, '▁클리': 5649, '▁지휘관': 5650, '▁로저': 5651, '▁결심': 5652, '▁체코': 5653, '▁젊은이들': 5654, '▁키스': 5655, '리언': 5656, '▁초청': 5657, '털': 5658, '▁기소됐다': 5659, '▁소형': 5660, '▁기각': 5661, '▁동기': 5662, '언론': 5663, '▁알카에다와': 5664, '▁밥': 5665, '▁투르': 5666, '수술': 5667, '▁조사에따르면': 5668, '▁게시': 5669, '▁호수': 5670, '▁매력': 5671, '민들': 5672, '▁공대': 5673, '▁시체': 5674, '▁홍수로': 5675, '▁해병': 5676, '▁정식': 5677, '▁부상으로': 5678, '속도로': 5679, '▁국무': 5680, '랍': 5681, '▁가게': 5682, '▁브리': 5683, '우디': 5684, '펀': 5685, '븐': 5686, '숲': 5687, '▁국제공항': 5688, '▁후진타오': 5689, '▁선관위': 5690, '▁법무장관': 5691, '▁펀드': 5692, '▁불가피': 5693, '▁원칙': 5694, '▁성장률': 5695, '▁1996': 5696, '▁소탕': 5697, '▁출생': 5698, '▁황금': 5699, '▁남극': 5700, '▁사육': 5701, '▁가담': 5702, '▁보고서에따르면': 5703, '▁브랜드': 5704, '▁배후': 5705, '▁제공할': 5706, 'ous': 5707, '▁음주': 5708, '▁물러나': 5709, '▁진단': 5710, '▁피고인': 5711, '시스템': 5712, '▁일으켰다': 5713, '시킨다': 5714, '▁화재로': 5715, '▁기온': 5716, '▁비행사': 5717, '▁근로자들': 5718, '역사적인': 5719, '▁주최측': 5720, '▁쓸': 5721, '▁화해': 5722, '▁불어': 5723, '▁날개': 5724, '▁일어났다': 5725, '▁카라': 5726, '▁부산': 5727, '▁받는다': 5728, '▁일치': 5729, '렸으며': 5730, '▁양국간': 5731, '09': 5732, '▁확인됐다': 5733, '▁지속적': 5734, '▁화상': 5735, '▁직장': 5736, '▁뭄바이': 5737, '▁탱크': 5738, '얄': 5739, '톱': 5740, '▁섭취': 5741, '▁줄리아니': 5742, '▁할머니': 5743, '▁감바리': 5744, '▁택시': 5745, '▁교통사고': 5746, '▁구멍': 5747, '▁캐롤': 5748, '겠습니다': 5749, '▁플라': 5750, '▁소규모': 5751, '▁1993': 5752, '▁인권단체': 5753, '▁라덴': 5754, '▁벨기에': 5755, '▁폭설': 5756, '▁사생활': 5757, '많은': 5758, '▁영양': 5759, '▁보존': 5760, '▁GM': 5761, '▁여론조사에서': 5762, '▁신문사': 5763, '▁관측': 5764, '▁기대한다': 5765, '▁발생하고': 5766, '▁악어': 5767, '▁가방': 5768, '▁노스': 5769, '▁제공한': 5770, '▁기원': 5771, '생산': 5772, '▁수퍼': 5773, '▁급속': 5774, '▁총상': 5775, '▁착수': 5776, '▁자택': 5777, '▁살아있': 5778, '사업': 5779, '▁피부': 5780, '▁참석할': 5781, '▁근처에서': 5782, '켜': 5783, '▁산악': 5784, '▁초안': 5785, '조건': 5786, 'ish': 5787, '▁China': 5788, '▁무슬림': 5789, '▁밴드': 5790, '▁재검토': 5791, '▁횡령': 5792, '▁기쁘다': 5793, '▁테일러': 5794, '▁다시한번': 5795, '▁쓰레기': 5796, '▁플래': 5797, '▁침공': 5798, '▁가벼': 5799, '민감한': 5800, '▁예멘': 5801, '▁괴한': 5802, '▁지붕': 5803, '▁1991': 5804, '▁비난하는': 5805, '▁감옥': 5806, '▁his': 5807, '▁농업': 5808, '▁아이폰': 5809, '폴리스': 5810, '▁포럼': 5811, '▁결함': 5812, '▁진행자': 5813, '▁1%': 5814, '▁국장': 5815, '▁에릭': 5816, '긍정적인': 5817, '▁관중': 5818, '▁판정': 5819, '▁적발': 5820, 'ian': 5821, '▁방송사': 5822, '▁종식': 5823, '▁반복': 5824, '▁곳이다': 5825, '▁개정안': 5826, '▁선포했다': 5827, '▁마친': 5828, '▁나왔': 5829, '▁재임': 5830, '▁비교적': 5831, '▁북쪽으로': 5832, '=': 5833, '▁수립': 5834, '▁늘어나': 5835, '▁사용하지': 5836, '▁생기': 5837, '▁국적': 5838, '▁제작한': 5839, '▁부실': 5840, '▁미국인들이': 5841, '구조': 5842, '▁총회': 5843, '▁모아': 5844, '▁근거로': 5845, '되거나': 5846, '▁세계적으로': 5847, '▁대피했다': 5848, '신문': 5849, '▁구체적': 5850, '▁극장': 5851, '▁순위': 5852, '통제': 5853, '만개': 5854, '▁문제들': 5855, '▁재판관': 5856, '97': 5857, '팝': 5858, '▁DVD': 5859, '▁사우스캐롤라이나': 5860, '▁안전보장이사회': 5861, '▁협약': 5862, '슛': 5863, '툼': 5864, '헐': 5865, '▁광범위': 5866, '▁메르켈': 5867, '▁파나마': 5868, '▁원주민': 5869, '▁스트레스': 5870, '▁미디어': 5871, '▁거짓말': 5872, '▁세인트': 5873, '▁발휘': 5874, '▁사용했다': 5875, '▁호흡': 5876, '▁수상한': 5877, 'part': 5878, '▁억제': 5879, '잘못된': 5880, '▁싸우': 5881, '▁이용하는': 5882, '▁차별': 5883, '▁중이었다': 5884, '▁금연': 5885, '▁신규': 5886, '▁정찰': 5887, 'per': 5888, '▁치명적인': 5889, '▁이륙': 5890, '▁반박': 5891, '▁제목': 5892, '등급': 5893, '▁관계당국': 5894, '▁미치는': 5895, '교육': 5896, '▁자행': 5897, '▁제출했다': 5898, '워드': 5899, '커스': 5900, '▁정상화': 5901, '폭력': 5902, '▁최고치': 5903, '91': 5904, '공사': 5905, '었는지': 5906, '▁혼자': 5907, '▁많아': 5908, '▁성당': 5909, 'ber': 5910, '▁생각하지': 5911, '▁차지하고': 5912, '▁계속될': 5913, '코프': 5914, '▁지점에서': 5915, '▁적절': 5916, '단계': 5917, 'ary': 5918, '▁수십명': 5919, '▁실업': 5920, '▁연구원들': 5921, '▁nuclear': 5922, '▁검문소': 5923, '▁다큐멘터리': 5924, '▁불러일으': 5925, '▁스타디움에서': 5926, '▁식료품': 5927, '▁왼쪽': 5928, '▁쿠웨이트': 5929, '왈': 5930, '▁전당대회': 5931, '▁과반수': 5932, '▁일어날': 5933, '▁데이비스': 5934, '▁사용해': 5935, '▁옹호': 5936, '▁균형': 5937, '▁공산주의': 5938, '▁위안부': 5939, '▁롬니': 5940, '▁승려들': 5941, '▁난민촌': 5942, '▁귀환': 5943, '▁1995': 5944, '▁탑승객': 5945, '▁완료': 5946, '▁표준': 5947, '▁61': 5948, '▁출두': 5949, '▁신사': 5950, '분만에': 5951, '▁화려': 5952, 'day': 5953, '▁인민': 5954, '380': 5955, '▁동생': 5956, '▁서안': 5957, '연구원': 5958, '▁제정': 5959, '▁조언': 5960, '▁고장': 5961, '▁모래': 5962, '▁모임': 5963, '않': 5964, '해지고': 5965, '킨스': 5966, '▁있어야': 5967, '굴': 5968, '돈': 5969, '▁부상당': 5970, 'ph': 5971, '▁주장한다': 5972, '▁조용': 5973, '▁선원': 5974, 'Ma': 5975, '▁보냈': 5976, '▁단체들': 5977, '않게': 5978, '▁실시할': 5979, '▁달린': 5980, '▁하미': 5981, '▁달러화': 5982, '▁AT': 5983, '직원': 5984, '동물': 5985, '겠': 5986, '▁경관': 5987, '▁국제원자력기구': 5988, '▁매사추세츠': 5989, '▁않았던': 5990, '▁어렵다': 5991, '▁없게': 5992, '▁에콰도르': 5993, '▁이산화탄소': 5994, '▁캐릭터': 5995, '▁확장': 5996, '▁매니저': 5997, '▁받아들여': 5998, '▁펠로시': 5999, '▁코끼리': 6000, '▁나타난': 6001, '▁조지아주': 6002, '▁퇴임': 6003, '▁득표율': 6004, '▁범행': 6005, '▁낮추': 6006, '▁침대': 6007, '▁친척': 6008, '▁급락': 6009, '▁쉽지': 6010, '▁떠난': 6011, '▁레이건': 6012, '중앙': 6013, '▁당황': 6014, '발전': 6015, '▁복역': 6016, '▁일련': 6017, '니까': 6018, '예비선거': 6019, '▁당초': 6020, '▁운영하고': 6021, '▁케이트': 6022, '▁신조': 6023, '▁상영': 6024, 'ound': 6025, '▁매체': 6026, '범들': 6027, '▁인력': 6028, '▁포함돼': 6029, '아시아': 6030, '▁모리': 6031, '▁뉴욕시': 6032, '▁무게': 6033, '▁조건으로': 6034, '▁계속되는': 6035, '▁생산량': 6036, '팬': 6037, 'IAEA': 6038, '아일랜드': 6039, '▁요금': 6040, '▁군사적': 6041, '뇌': 6042, '▁텍사스주': 6043, '▁다르다': 6044, '▁창문': 6045, '그녀': 6046, '▁피해자들': 6047, '▁아난': 6048, '▁운전사': 6049, '▁공개됐다': 6050, 'Al': 6051, 'ite': 6052, '▁발견되었다': 6053, '▁확신한다': 6054, '▁유대': 6055, '▁주위': 6056, '▁무장대원': 6057, '▁정원': 6058, '엇': 6059, '템': 6060, '▁from': 6061, '▁샌디에이고': 6062, '▁일으킬': 6063, '▁마라톤': 6064, '▁외무성': 6065, '▁이뤄진': 6066, '▁여겨지': 6067, '▁어깨': 6068, '▁드러냈다': 6069, '▁용납': 6070, '▁상륙': 6071, '▁테니스': 6072, '▁생방송': 6073, '▁끝날': 6074, '▁늘리': 6075, '▁부활': 6076, '▁창출': 6077, '▁최저치': 6078, 'ust': 6079, '▁탄생': 6080, '▁분석가들은': 6081, '▁1960': 6082, '▁추구하': 6083, '89': 6084, '▁방출': 6085, '▁분량': 6086, '▁음성': 6087, '▁거부권': 6088, '▁밝혀진': 6089, '▁중단했다': 6090, '▁증세': 6091, '▁발포': 6092, '▁알렸다': 6093, '▁모건': 6094, '▁오하이오주': 6095, '▁거절했다': 6096, '▁보게': 6097, '▁비난하며': 6098, '▁상태이다': 6099, '▁진보': 6100, '▁마리아': 6101, '▁예정이었다': 6102, '▁조명': 6103, '▁월가': 6104, 'NASA': 6105, '아프리카': 6106, '▁전달했다': 6107, '▁자택에서': 6108, '넣': 6109, '▁회원국들': 6110, '앞으로': 6111, '86': 6112, '▁투명': 6113, '▁기여': 6114, 'ag': 6115, '▁위대': 6116, '▁세부': 6117, '버린': 6118, '뢰': 6119, '▁느낄': 6120, '▁유혈사태': 6121, '▁줄기세포': 6122, '▁프리미어리그': 6123, '▁휩쓸': 6124, '콰': 6125, '▁앤드류': 6126, '▁자카르타': 6127, '쿨': 6128, '▁샘플': 6129, '▁new': 6130, '▁돌고래': 6131, '.9%': 6132, '▁홈페이지': 6133, '▁실업률': 6134, '▁로딕': 6135, '▁중동평화': 6136, '▁탐험': 6137, '▁특징': 6138, '▁계좌': 6139, '▁밝혔지만': 6140, '▁MBC': 6141, '▁축출': 6142, '▁빌딩': 6143, '▁동일한': 6144, '▁다국적군': 6145, '▁표결': 6146, '▁건너': 6147, '▁처방': 6148, '▁회계': 6149, '▁측면': 6150, '▁부위': 6151, '▁서양': 6152, '에이커': 6153, '▁선임': 6154, '▁원래': 6155, '▁치러지': 6156, '▁선호': 6157, '널리': 6158, '▁발행': 6159, '▁해당하는': 6160, '▁식사': 6161, '▁사용된': 6162, '▁2500': 6163, '힘': 6164, '1000': 6165, '유럽': 6166, '진압': 6167, '▁소유하고': 6168, '대책': 6169, '▁보조': 6170, '▁뉴욕주': 6171, '▁실종자': 6172, '봐': 6173, '내용': 6174, '▁항공우주국': 6175, '2006.01': 6176, '▁HIV': 6177, '▁멤버': 6178, '▁않았으나': 6179, '▁애완견': 6180, '▁윔블던': 6181, '▁프랭크': 6182, '넌': 6183, '쏘': 6184, '햇': 6185, '▁노르웨이': 6186, '▁힘입어': 6187, '▁격렬한': 6188, '▁마흐디': 6189, '▁영화배우': 6190, '▁예를들어': 6191, '▁좌절': 6192, '▁득점': 6193, '▁검증': 6194, '▁정거장': 6195, '▁잇따': 6196, '▁브리핑': 6197, '2007.11': 6198, '▁암컷': 6199, '▁not': 6200, '▁밝혔으며': 6201, '▁떠올': 6202, '▁외치': 6203, '▁손님': 6204, '▁음료': 6205, '▁녹음': 6206, '▁화합': 6207, '▁내려졌다': 6208, '▁오마르': 6209, '▁동의했다': 6210, '▁쿠퍼': 6211, '▁포착': 6212, '▁용기': 6213, '▁외환': 6214, '▁통증': 6215, '▁열렸다': 6216, '▁리처드슨': 6217, '▁종료': 6218, '▁해상': 6219, '▁개편': 6220, '▁발표됐다': 6221, '▁매달': 6222, '▁키우': 6223, '▁접전': 6224, '▁고무': 6225, '▁1500': 6226, '방위': 6227, '▁사설': 6228, '▁추세': 6229, '▁재직': 6230, '▁운영하': 6231, '▁보이며': 6232, '프랑스': 6233, '윤': 6234, '▁판다': 6235, '▁실시했다': 6236, '▁88': 6237, 'con': 6238, '때까지': 6239, '▁화장': 6240, '▁부유': 6241, '하우스': 6242, '04': 6243, '연구': 6244, '▁ex': 6245, '▁움직': 6246, '▁긍정적': 6247, '▁포장': 6248, '버트': 6249, '▁외국인들': 6250, '덩': 6251, '▁government': 6252, '▁세웠다': 6253, '▁않았고': 6254, '▁없습니다': 6255, '▁피라미드': 6256, '붐': 6257, '▁라파엘': 6258, '팩': 6259, '▁마돈나': 6260, '▁비틀즈': 6261, '▁자선단체': 6262, '드립니다': 6263, '▁침략': 6264, '▁배터리': 6265, '▁탈북자': 6266, '▁서식지': 6267, '▁객실': 6268, 'NS': 6269, '▁데이빗': 6270, '▁여섯': 6271, '2005.09': 6272, '▁국기': 6273, '▁졸리': 6274, '▁1992': 6275, '98': 6276, '93': 6277, '▁빠지': 6278, '▁금액': 6279, '▁탈락': 6280, '▁테러조직': 6281, '▁않는다면': 6282, '▁촉구하': 6283, '분께': 6284, '▁지분': 6285, '▁산책': 6286, '▁막아': 6287, '07': 6288, '▁아마디': 6289, '▁인형': 6290, '▁전국적으로': 6291, '▁통행': 6292, '▁상당히': 6293, '인들에게': 6294, '▁고급': 6295, '▁본토': 6296, '▁못했': 6297, '▁FA': 6298, '▁30%': 6299, '▁운명': 6300, '포르': 6301, '▁지지한다': 6302, '▁남용': 6303, '▁강행': 6304, '▁피살': 6305, '▁보급': 6306, '▁방향으로': 6307, '▁청사': 6308, '▁잡아': 6309, '▁자동': 6310, '프레드': 6311, '▁불구': 6312, '▁부모들': 6313, '탈레반': 6314, '▁플로리다주': 6315, '▁유산': 6316, '음악': 6317, '▁잡스': 6318, '▁밝혔': 6319, '혔': 6320, '▁잃었': 6321, '96': 6322, 'bu': 6323, '▁배심원': 6324, '내내': 6325, 'min': 6326, '▁강세': 6327, '졸': 6328, '훔': 6329, 'OPEC': 6330, '▁경기부양책': 6331, '▁관타나모': 6332, '▁오토바이': 6333, '▁우주왕복선': 6334, '▁울포위츠': 6335, '▁준결승': 6336, '▁파바로티': 6337, '▁플라스틱': 6338, '社': 6339, '▁자유무역협정': 6340, '▁퍼거슨': 6341, '▁펜실베니아': 6342, '툴': 6343, '펄': 6344, '▁롤링': 6345, '▁헌법재판소': 6346, '▁벌써': 6347, '▁낙태': 6348, '▁저희': 6349, '▁의뢰': 6350, '▁오른쪽': 6351, '▁드러내': 6352, '▁점검': 6353, '▁넘겨': 6354, '▁풀려': 6355, '▁상대방': 6356, '▁사우스': 6357, '▁Ar': 6358, '▁백신': 6359, '▁NK': 6360, '▁집권당': 6361, '▁승무원들': 6362, '▁놓여': 6363, '▁의사들': 6364, '▁군함': 6365, '▁매출': 6366, '▁멀리': 6367, '▁고속': 6368, '▁군복': 6369, '▁표면': 6370, '▁요구하며': 6371, '▁운동가들': 6372, '▁존경': 6373, '▁연계': 6374, '▁실린': 6375, '▁도심': 6376, '▁포함됐다': 6377, '몬드': 6378, '▁이틀간': 6379, '▁밀어': 6380, '▁140': 6381, '▁모금': 6382, '▁내려진': 6383, '▁중요성': 6384, '업계': 6385, '▁다음주': 6386, '금융': 6387, '서비스': 6388, '해달라': 6389, '▁로브': 6390, '줬': 6391, '▁갈라': 6392, '▁제시했다': 6393, '▁160': 6394, '▁기소된': 6395, '▁사망했': 6396, '칙': 6397, '닷': 6398, '▁Obama': 6399, '▁루아얄': 6400, '딴': 6401, '랩': 6402, '펴': 6403, '▁경기침체': 6404, '▁뮤지컬': 6405, '▁허커비': 6406, '킴': 6407, '톨': 6408, '▁아테네': 6409, '▁테네시': 6410, '▁게릴라': 6411, '▁옐친': 6412, '▁징후': 6413, '▁포르노': 6414, '▁2005.10': 6415, '▁시라크': 6416, '▁불가리아': 6417, '▁공룡': 6418, '▁벽돌': 6419, '▁살아남': 6420, '▁본격적': 6421, '▁데일리': 6422, '▁탄광': 6423, '베르토': 6424, '▁있었습니다': 6425, '▁범위': 6426, '▁함유': 6427, '▁제압': 6428, 'American': 6429, '▁형식': 6430, '▁국방성': 6431, '▁히트': 6432, '▁점거': 6433, '▁승부': 6434, '▁자신감': 6435, '▁벌어졌다': 6436, '▁한국은행': 6437, '▁조절': 6438, '▁얼마전': 6439, '▁접수': 6440, '▁공판': 6441, '▁호소했다': 6442, '▁발표했습니다': 6443, '▁통보': 6444, '▁소동': 6445, '▁실무': 6446, '▁좋아하는': 6447, '▁연간': 6448, '▁희망한다': 6449, '▁동맹국': 6450, '▁정기적': 6451, '▁한국인들': 6452, '늘': 6453, '▁동성': 6454, 'form': 6455, '▁사체': 6456, '아프간': 6457, '어떤': 6458, '사령관': 6459, '2000': 6460, '사무소': 6461, '▁감소했다': 6462, '덤': 6463, '▁덧붙': 6464, '2006.08': 6465, '▁디자이너': 6466, '▁루이지애나': 6467, '▁아닙니다': 6468, '▁금메달': 6469, '▁지지선언': 6470, '▁카트리나': 6471, '▁멈추': 6472, '▁앤더슨': 6473, '▁알렉스': 6474, '▁보이콧': 6475, '▁흘러': 6476, '▁징계': 6477, '▁막대한': 6478, '▁이자율': 6479, '▁퇴원': 6480, '▁잠재적': 6481, '▁흔적': 6482, '▁개막': 6483, '강전에서': 6484, '▁기상청': 6485, '기때문에': 6486, '▁디스크': 6487, '▁떠날': 6488, '쳤으며': 6489, '▁양곤': 6490, '▁핵개발': 6491, '▁래리': 6492, '▁통과시켰다': 6493, '▁경향': 6494, '▁오스카': 6495, '▁않으며': 6496, '▁미첼': 6497, '▁러드': 6498, '▁플레이어': 6499, '▁상담': 6500, '▁사이클': 6501, '▁인터': 6502, '▁선고받': 6503, '▁포함하여': 6504, '▁서류': 6505, '▁준수': 6506, '▁내렸': 6507, '▁장교': 6508, '▁발발': 6509, '▁도청': 6510, '기위해': 6511, '▁테러리스트들': 6512, '▁참석하지': 6513, '업자들': 6514, '▁탄소': 6515, '▁대법원장': 6516, 'way': 6517, '55': 6518, '▁레바논군': 6519, '▁계기': 6520, '▁살해했다': 6521, '▁정보부': 6522, '▁우즈': 6523, 'AM': 6524, 'BO': 6525, '뒀': 6526, 'World': 6527, '▁베네딕': 6528, '▁빼앗': 6529, '▁아마디네자드': 6530, '▁에티오피아': 6531, '▁오클라호마': 6532, '▁이브라힘': 6533, '▁최첨단': 6534, '▁히틀러': 6535, '뚫': 6536, '셨': 6537, '▁로드리게스': 6538, '▁평화유지군': 6539, '▁심장마비': 6540, '▁의약품': 6541, '▁따뜻': 6542, '▁압바스': 6543, 'PGA': 6544, '▁중남미': 6545, '▁2008.10': 6546, '▁인터폴': 6547, '▁스크린': 6548, '▁품목': 6549, '2007.12': 6550, '▁이루어진': 6551, '▁농민들': 6552, '▁터널': 6553, '▁NBA': 6554, '▁술집': 6555, '▁거짓': 6556, '▁가짜': 6557, '▁1989': 6558, '▁세탁': 6559, '▁새롭': 6560, '▁채취': 6561, '▁들어갈': 6562, '▁연례': 6563, '▁부탁': 6564, '▁플로': 6565, 'old': 6566, '▁계산': 6567, '▁dis': 6568, '▁구름': 6569, '▁테러단체': 6570, '▁암호': 6571, '▁뿐이다': 6572, '▁조항': 6573, '▁풍부': 6574, '▁발급': 6575, '▁언급하며': 6576, '▁단행': 6577, '▁문구': 6578, '▁휴대': 6579, '▁변호': 6580, '▁대대적': 6581, '▁선거법': 6582, '▁회수': 6583, '▁임대': 6584, '▁스토': 6585, '▁보건부': 6586, '▁해체': 6587, '▁경비원': 6588, '죽': 6589, '공화국': 6590, '못': 6591, '▁당국자들': 6592, '푸르': 6593, '융': 6594, '29': 6595, '뷰': 6596, '2,000': 6597, '5,000': 6598, '▁고이즈미': 6599, '▁뉴올리언스': 6600, '▁느낌': 6601, '▁불확실': 6602, '▁저질렀다': 6603, '▁조승희': 6604, '샬': 6605, '옳': 6606, '칩': 6607, '▁망원경': 6608, '▁성추행': 6609, '▁우울증': 6610, '▁again': 6611, '▁노트북': 6612, '▁두려움': 6613, '▁쇠고기': 6614, '▁시나리오': 6615, '▁무승부': 6616, '▁기숙사': 6617, '▁수류탄': 6618, '▁빠졌다': 6619, '▁허드슨': 6620, '▁소행성': 6621, '▁활발': 6622, '▁무너지': 6623, '▁저항세력': 6624, '▁당부했다': 6625, '▁맥캔': 6626, '▁남아프리카': 6627, '▁구호단체': 6628, '▁교섭': 6629, '▁무덤': 6630, '▁사라졌다': 6631, '▁받아왔다': 6632, '▁박탈': 6633, '▁아니지만': 6634, '▁머무': 6635, '▁체류': 6636, '▁붙여': 6637, '▁고위급': 6638, '▁타밀': 6639, '▁모술': 6640, '▁바탕': 6641, '▁때문이라': 6642, '▁시인했다': 6643, '▁동성애': 6644, '천명': 6645, '연패': 6646, '▁경비대': 6647, '▁낮아': 6648, '같': 6649, '▁전반적인': 6650, '▁밀려': 6651, '▁예약': 6652, '▁열심': 6653, '▁위하여': 6654, '▁구류': 6655, '▁신도들': 6656, '▁경쟁력': 6657, 'US': 6658, '▁경사': 6659, '▁가중': 6660, '▁모터': 6661, '회전': 6662, '▁유통': 6663, '▁착수했다': 6664, '호프': 6665, '▁두려워': 6666, '▁여행객들': 6667, 'ease': 6668, '▁총장': 6669, '▁전해지': 6670, '▁실종됐다': 6671, '▁부검': 6672, '탐': 6673, '최근': 6674, '▁di': 6675, '스럽다': 6676, '▁부족하다': 6677, '갱': 6678, '깃': 6679, '▁talks': 6680, '▁비서실장': 6681, '▁빅토리아': 6682, '▁위스콘신': 6683, '▁유죄판결': 6684, '▁자르다리': 6685, '▁출구조사': 6686, '▁펼친': 6687, '▁플루토늄': 6688, '▁확률': 6689, '박근혜': 6690, '찌': 6691, '텍': 6692, '▁뉴델리': 6693, '▁알바니아': 6694, '▁1987': 6695, '▁국립공원': 6696, '▁도요타': 6697, '▁대서양': 6698, '▁삭감': 6699, '▁숨졌으며': 6700, '▁남자아이': 6701, '▁중앙은행': 6702, '▁남학생': 6703, '▁달한다': 6704, '▁강진이': 6705, '▁부사장': 6706, '카를로스': 6707, '됐는지': 6708, '▁증강': 6709, '▁델타': 6710, '▁물고기': 6711, '▁하원의장': 6712, '▁압도적': 6713, '▁맡았다': 6714, '▁왕세자비': 6715, '▁교외': 6716, '▁이내에': 6717, '▁For': 6718, '▁취급': 6719, '▁예배': 6720, '▁서장': 6721, '▁후송': 6722, '▁업적': 6723, '▁공안': 6724, '▁완성': 6725, '▁양쪽': 6726, '▁총통': 6727, '▁아담': 6728, '▁포터': 6729, '▁부당': 6730, '▁복원': 6731, 'Con': 6732, '▁차질': 6733, '▁물체': 6734, '▁상당수': 6735, '▁관객': 6736, '▁남아있다': 6737, 'has': 6738, 'na': 6739, '▁상금': 6740, '▁동료들': 6741, '눈': 6742, '태평양': 6743, '올림픽': 6744, '팔레스타인': 6745, '▁목격했다': 6746, 'UN': 6747, '▁악화되': 6748, '▁나타났': 6749, '▁체포되었다': 6750, '▁제작사': 6751, '열차': 6752, '빗': 6753, '·': 6754, '벡': 6755, 'head': 6756, '▁visit': 6757, '▁나눴다': 6758, '▁메드베데프': 6759, '▁않았습니다': 6760, '▁앞섰다': 6761, '▁온실가스': 6762, '▁잃어버': 6763, '▁최루탄': 6764, '▁하이브리드': 6765, '믹': 6766, '▁Roh': 6767, '▁글로벌': 6768, '▁이뤄질': 6769, '▁국정원': 6770, '▁해수면': 6771, '▁오렌지': 6772, '▁우간다': 6773, 'MDC': 6774, '▁개체수': 6775, '▁첩보': 6776, '▁교착상태': 6777, '▁에드워드': 6778, '▁유명인사': 6779, '▁염려': 6780, '됨에따라': 6781, '▁워너': 6782, '▁수색작업': 6783, '▁아마존': 6784, '▁재미있': 6785, '▁its': 6786, '▁권총': 6787, '▁금융위기': 6788, '▁고조되': 6789, '▁급습': 6790, '블리': 6791, '▁줄이기': 6792, '▁갈등': 6793, '▁호송': 6794, '▁갑작스': 6795, '▁송금': 6796, '▁금속': 6797, '▁지역사회': 6798, '▁60%': 6799, '▁동물들': 6800, '▁모욕': 6801, '▁연구원은': 6802, '▁추격': 6803, '번호': 6804, '▁데리고': 6805, '▁밝혀내': 6806, '▁실현': 6807, '▁톰슨': 6808, '▁매매': 6809, '▁둔화': 6810, '▁증진': 6811, '▁연출': 6812, '▁정밀': 6813, '▁포스트': 6814, '▁군사력': 6815, 'Pro': 6816, 'red': 6817, '▁보증': 6818, 'ty': 6819, '▁부처': 6820, '▁20%': 6821, '▁장려': 6822, '▁고안': 6823, '▁해저': 6824, 'ame': 6825, 'OS': 6826, '~2': 6827, '▁응답': 6828, '▁남부지역': 6829, '▁참가자들': 6830, '▁남측': 6831, '▁판매량': 6832, 'air': 6833, '▁위험성': 6834, '▁열었다': 6835, '딸': 6836, '▁종교적': 6837, '유엔': 6838, 'ung': 6839, '똑': 6840, '숭': 6841, '샘': 6842, 'FIFA': 6843, '▁IBM': 6844, '▁국가비상사태': 6845, '▁국제우주정거장': 6846, '▁서브프라임': 6847, '▁파파라치': 6848, '퀘': 6849, '▁디스커버리': 6850, '▁메릴랜드': 6851, '▁바티칸': 6852, '눌': 6853, '▁무장괴한': 6854, '▁미성년자': 6855, '▁깨끗': 6856, '▁재배치': 6857, '▁윈도우': 6858, '▁주유소': 6859, '▁좌석': 6860, '▁야생동물': 6861, '▁똑같': 6862, '▁자전거': 6863, '▁치솟': 6864, '▁바꿀': 6865, '▁퇴진': 6866, '▁데뷔': 6867, 'time': 6868, '▁켈리': 6869, '▁국민투표': 6870, '▁행렬': 6871, '▁긴밀': 6872, '▁인접': 6873, '▁Ex': 6874, '▁동참': 6875, 'ah': 6876, '▁다룬': 6877, '▁가택': 6878, '▁유괴': 6879, '▁서식하': 6880, '▁단독': 6881, '▁설계': 6882, '▁절약': 6883, '성근': 6884, '▁위생': 6885, '▁연임': 6886, '▁야구': 6887, '▁상병': 6888, '▁공무원': 6889, 'ER': 6890, '벨리': 6891, '▁발생했': 6892, '▁해적들': 6893, '▁pre': 6894, '▁경영자': 6895, '연승': 6896, '▁출장': 6897, '있으며': 6898, '환경': 6899, '멈': 6900, '▁자원봉사': 6901, '▁Minister': 6902, '▁믿는다': 6903, '▁아웅산수치': 6904, '▁인명피해': 6905, '▁창기라이': 6906, '굿': 6907, '랫': 6908, '렁': 6909, '팜': 6910, '▁AIG': 6911, '▁버몬트': 6912, '▁선거관리위원회': 6913, '▁국세청': 6914, '▁최우선': 6915, '▁세속주의': 6916, '▁모니터': 6917, '▁윈프리': 6918, '▁언덕': 6919, '▁적합한': 6920, '▁아스날': 6921, '▁국무총리': 6922, '▁메이저': 6923, '▁내무장관': 6924, '▁시티그룹': 6925, '▁포셋': 6926, '▁던졌다': 6927, '▁주차장': 6928, '▁구조작업': 6929, '▁앨런': 6930, '▁숙박': 6931, '▁재활용': 6932, '▁환율': 6933, '▁개막식': 6934, '▁돌아갈': 6935, '▁산맥': 6936, '▁돌아왔다': 6937, '▁1986': 6938, '▁교착': 6939, '▁의심되는': 6940, '바라데이': 6941, '▁걸렸다': 6942, '▁존스턴': 6943, '▁창설': 6944, '▁역임': 6945, '▁약혼': 6946, '▁않습니다': 6947, '▁투표율': 6948, '▁시민권': 6949, '▁연말': 6950, '▁못했지만': 6951, '▁던진': 6952, '▁by': 6953, '▁심판': 6954, '▁발령': 6955, '▁발견되지': 6956, '▁찾아내': 6957, '▁여러번': 6958, '▁모집': 6959, '▁시골': 6960, '▁윌슨': 6961, '▁사용자들': 6962, '2005.1': 6963, '▁불가능하다': 6964, '투데이': 6965, '▁파커': 6966, '▁불과하다': 6967, '▁인정받': 6968, '▁관객들': 6969, '사이트': 6970, '94': 6971, '휘': 6972, '말리키': 6973, '빅': 6974, 'FBI': 6975, '잘': 6976, '뉴욕': 6977, '보고서': 6978, '웨스트': 6979, '시즌': 6980, '전략': 6981, '▁토대': 6982, '▁진행중': 6983, '관광': 6984, 'ese': 6985, 'DR': 6986, '꼬': 6987, '▁Seoul': 6988, '▁박격포': 6989, '▁스타벅스': 6990, '▁없애': 6991, '▁켄터키': 6992, '▁호나우두': 6993, '깁': 6994, '껏': 6995, '둑': 6996, '뻐': 6997, '섞': 6998, '왁': 6999, '캄': 7000, '▁토크쇼': 7001, '▁후지모리': 7002, '▁음주운전': 7003, '▁개헌안': 7004, 'WTO': 7005, '▁워렌': 7006, '▁고유가': 7007, '▁포획': 7008, '▁터뜨': 7009, '▁자동차업계': 7010, '▁가끔': 7011, '▁기획': 7012, '▁가져올': 7013, '▁안드레': 7014, '▁돌아올': 7015, '▁군중들': 7016, '▁자발적': 7017, '▁연구결과': 7018, '▁드레스': 7019, '▁로켓포': 7020, '▁포경선': 7021, '▁카라치': 7022, '놨다': 7023, '▁클라크': 7024, '▁처형': 7025, '▁연극': 7026, '▁참배': 7027, '▁결합': 7028, '▁치매': 7029, '▁독감': 7030, '까요': 7031, '▁던져': 7032, '▁대변': 7033, '▁마찰': 7034, '▁매입': 7035, '▁넣었다': 7036, '▁설정': 7037, '▁맞았다': 7038, '▁밀러': 7039, '▁정상들': 7040, '▁유입': 7041, '▁전형적': 7042, 'Com': 7043, '▁일시적': 7044, 'En': 7045, '물리학': 7046, 'ney': 7047, '그것은': 7048, '착륙': 7049, '3000': 7050, '냥': 7051, '▁Bush': 7052, '▁개발도상국': 7053, '▁러닝메이트': 7054, '▁맨해튼': 7055, '▁슈퍼볼': 7056, '▁애완동물': 7057, '▁활성화': 7058, '궐': 7059, '끔찍한': 7060, '닭': 7061, '쉐': 7062, '킥': 7063, '퓨': 7064, '▁유람선': 7065, '▁비공식': 7066, '▁라호르': 7067, '▁섹시': 7068, '▁하버드': 7069, 'APEC': 7070, '▁남아프리카공화국': 7071, '▁라모스': 7072, '▁기다려': 7073, '▁알제리': 7074, '▁넬슨': 7075, '▁브레이크': 7076, '▁미주리': 7077, '▁침수': 7078, '▁밝혀냈다': 7079, 'able': 7080, '▁머레이': 7081, '▁시민단체': 7082, '▁통근': 7083, '▁미셸': 7084, '▁생명체': 7085, '▁외쳤다': 7086, '▁먼지': 7087, 'reat': 7088, '▁승점': 7089, '▁아빠': 7090, '▁탈레반측': 7091, '▁이어졌다': 7092, '▁응원': 7093, '▁대테러': 7094, '▁연령': 7095, '▁기념식': 7096, '▁진료': 7097, '▁불안정': 7098, '▁발매': 7099, '▁만료': 7100, '▁재정적': 7101, '▁철수시키': 7102, '▁있음': 7103, '▁사라진': 7104, '▁화제': 7105, '▁war': 7106, 'ick': 7107, '대원들': 7108, '륙': 7109, '되도록': 7110, '▁지냈': 7111, '클린턴': 7112, '잠': 7113, '▁지속되': 7114, '▁이민자들': 7115, '겔': 7116, '▁느낀다': 7117, '▁최고경영자': 7118, '닛': 7119, '3,000': 7120, '▁고등법원': 7121, '▁디트로이트': 7122, '▁럼스펠드': 7123, '▁억만장자': 7124, '▁텔레비전': 7125, '▁피츠버그': 7126, '▁헬리콥터': 7127, '잎': 7128, '헴': 7129, '▁스탈린': 7130, '▁브루니': 7131, '▁근본주의': 7132, '▁덴버': 7133, '▁미시건': 7134, '▁코카인': 7135, '▁낭비': 7136, '▁딜러': 7137, '2007.09': 7138, '▁티벳': 7139, '▁돌아다니': 7140, '▁왜곡': 7141, '▁친환경': 7142, '▁텐트': 7143, '▁요르단강': 7144, '▁장벽': 7145, '▁동굴': 7146, '▁이른다': 7147, '▁대선주자': 7148, '▁다가오': 7149, '▁70%': 7150, '▁구호품': 7151, 'ash': 7152, '▁복합': 7153, '▁그곳에서': 7154, '▁눈물': 7155, '▁절감': 7156, '▁생겨': 7157, '▁불황': 7158, '▁치른': 7159, '▁위축': 7160, '▁소총': 7161, '▁추천': 7162, '▁휴식': 7163, '하였으며': 7164, '▁유명하다': 7165, '웃': 7166, '소득': 7167, '▁시청자들': 7168, '92': 7169, '▁남성들': 7170, '보좌관': 7171, '▁브랜': 7172, '비행기': 7173, '▁끝났다': 7174, '▁버냉키': 7175, '▁스튜디오': 7176, '▁안토니오': 7177, '前': 7178, '빵': 7179, '펙': 7180, '▁부양책': 7181, '▁침묵': 7182, '▁느껴': 7183, '▁브래드': 7184, '뚜': 7185, '▁규칙': 7186, '▁반체제': 7187, '▁바하마': 7188, '▁take': 7189, '▁예선전': 7190, '▁유수프': 7191, '▁태우고': 7192, '▁국방위원장': 7193, '▁스콧': 7194, '▁놀랄': 7195, '▁휴스턴': 7196, '▁집필': 7197, '봐야': 7198, '▁90%': 7199, '▁가혹': 7200, '▁장거리': 7201, '▁화석': 7202, '▁새겨': 7203, '▁보조금': 7204, '▁comm': 7205, '아웃': 7206, '▁공무원들': 7207, '▁입었': 7208, '▁복장': 7209, '또': 7210, '셋': 7211, '▁민간인들': 7212, '▁자녀들': 7213, '뮤': 7214, '▁괜찮': 7215, '▁마이스페이스': 7216, '▁military': 7217, '▁끊임없': 7218, '▁내셔널': 7219, '▁뒷받침': 7220, '▁마케팅': 7221, '▁애틀랜타': 7222, '▁에르도간': 7223, '▁엔지니어': 7224, '▁풀려났다': 7225, '뚱': 7226, '맘': 7227, 'down': 7228, '▁브리트니': 7229, '▁호날두': 7230, '▁기준금리': 7231, '▁무소속': 7232, '덩어리': 7233, '▁코스피': 7234, '▁1-0': 7235, '▁퇴역': 7236, '▁나눠': 7237, '▁좌파': 7238, '▁신용카드': 7239, '▁바바라': 7240, '▁밝혔으나': 7241, '▁요즘': 7242, '▁재활': 7243, '9000': 7244, '▁화염': 7245, '되었는데': 7246, '▁소방대원': 7247, '▁미치지': 7248, '▁Day': 7249, '▁난민들': 7250, '▁조짐': 7251, '▁때문입니다': 7252, '▁영광': 7253, '▁월터': 7254, '▁방문객들': 7255, 'ook': 7256, '▁돌아온': 7257, '▁도핑': 7258, '▁경제학자들': 7259, '▁레이저': 7260, '▁조씨': 7261, '▁대기업': 7262, '▁로렌': 7263, '▁배심원단': 7264, '▁주주들': 7265, '▁스카이': 7266, '▁제조업': 7267, '▁선원들': 7268, '타이거': 7269, '탈리아': 7270, '몸': 7271, '▁그곳에': 7272, '알카에다': 7273, '▁은행들': 7274, '스페인': 7275, '끔': 7276, '▁득표': 7277, '옐': 7278, '늄': 7279, '▁Show': 7280, '▁골든글로브': 7281, '▁베탕쿠르': 7282, '▁애니메이션': 7283, '▁엘리베이터': 7284, '▁원자바오': 7285, '▁일으켜': 7286, '▁캔자스': 7287, '▁테러지원국': 7288, '긋': 7289, '륜': 7290, '셜': 7291, '쩌': 7292, '캘': 7293, '풋': 7294, '▁가즈프롬': 7295, '▁되돌아': 7296, '▁시애틀': 7297, '셈': 7298, '톡': 7299, '▁1988': 7300, '▁아칸소': 7301, '▁미끄러': 7302, '▁얼룩': 7303, '▁받아들였다': 7304, '▁식민지': 7305, '▁맥케인': 7306, '스프링스': 7307, '▁고릴라': 7308, '▁혈액': 7309, '▁관점에서': 7310, '▁크레이그': 7311, '▁양키스': 7312, '▁트로피': 7313, '▁논문': 7314, '▁인도주의적': 7315, '▁북극곰': 7316, '▁멸종위기': 7317, '▁차원에서': 7318, '▁유적지': 7319, '▁몸값': 7320, '▁군사작전': 7321, '▁가죽': 7322, '▁운반': 7323, '▁적응': 7324, '▁현지경찰': 7325, '▁저택': 7326, '▁폭등': 7327, '▁패리스': 7328, '▁대략': 7329, '▁숨겨': 7330, '▁남녀': 7331, '▁개념': 7332, '▁입었으며': 7333, '▁출범': 7334, '되었지만': 7335, '있거나': 7336, '▁보좌관들': 7337, '▁싶어한다': 7338, '▁기본적': 7339, '▁벌어졌': 7340, '쁜': 7341, '2006.05': 7342, '2007.08': 7343, '▁troops': 7344, '▁구호물품': 7345, '▁국회의사당': 7346, '▁느꼈다': 7347, '▁다운로드': 7348, '▁맥도날드': 7349, '▁머리카락': 7350, '▁베어스턴스': 7351, '▁슈퍼대의원': 7352, '▁에스토니아': 7353, '▁티셔츠': 7354, '▁펭귄': 7355, '▁평화협상': 7356, '댐': 7357, '썩': 7358, '홉': 7359, '2006.02': 7360, '▁덕분에': 7361, '▁베이루트': 7362, '▁비즈니스': 7363, '▁have': 7364, 'NFL': 7365, '▁니케이': 7366, '▁그린피스': 7367, '▁착취': 7368, '▁추산했다': 7369, '▁칭찬': 7370, '▁2008.11': 7371, 'WFP': 7372, '▁상반기': 7373, '▁실업수당': 7374, '▁원문기사': 7375, '▁대한민국': 7376, '▁간호사': 7377, '2007.07': 7378, '▁소탕작전': 7379, '▁바꿔': 7380, '▁진흙': 7381, '▁마사지': 7382, '▁묘지': 7383, '▁오늘밤': 7384, '▁동유럽': 7385, '▁충족': 7386, '▁취득': 7387, '2006.10': 7388, '▁같습니다': 7389, '▁하얀': 7390, '▁명칭': 7391, '▁모르겠다': 7392, 'ext': 7393, '론자들': 7394, 'ator': 7395, 'line': 7396, '붕': 7397, '▁유니세프': 7398, '▁Secretary': 7399, '▁로스앤젤레스': 7400, '▁모가디슈': 7401, '▁상관없이': 7402, '▁오케스트라': 7403, '▁이르렀다': 7404, '▁천문학자들': 7405, '▁칸다하르': 7406, '▁크로아티아': 7407, '▁트라볼타': 7408, '돋': 7409, '쉴': 7410, '쯔': 7411, '핏': 7412, '▁브리티시': 7413, '▁이르기까지': 7414, '▁황우석': 7415, '▁AFP': 7416, '▁무너져': 7417, '▁항생제': 7418, '▁정해지지': 7419, '▁집무실': 7420, '▁계열사': 7421, '▁가속화': 7422, '▁되풀이': 7423, '▁어두운': 7424, '▁1981': 7425, '▁매머드': 7426, '▁중산층': 7427, '▁1/4': 7428, '▁크로커': 7429, '마누엘': 7430, '▁국가주석': 7431, '▁다행히': 7432, '▁세비야': 7433, '▁3-0': 7434, '▁대주교': 7435, '▁유조선': 7436, '▁흐름': 7437, '스트리트': 7438, '▁브루스': 7439, '▁침범': 7440, '(25)': 7441, '▁히드로': 7442, '사령부': 7443, '▁공군기지': 7444, '▁맞붙': 7445, '▁잔혹': 7446, '▁벌어들': 7447, '▁효력': 7448, '▁피닉스호': 7449, '▁면접': 7450, '▁프린스': 7451, '▁comp': 7452, '붙': 7453, '▁요새': 7454, '▁녹색': 7455, 'FARC': 7456, '폭탄테러': 7457, 'ncy': 7458, '검찰': 7459, '스러워': 7460, '▁전설적': 7461, '▁국회의원들': 7462, '회사들': 7463, '▁Foreign': 7464, '▁attack': 7465, '▁극단주의자들': 7466, '▁글래스고': 7467, '▁상파울루': 7468, '▁야스쿠니': 7469, '▁우주정거장': 7470, '▁인종차별': 7471, '▁커뮤니티': 7472, '▁힌두교': 7473, '▁광우병': 7474, '▁스튜어트': 7475, '▁양육권': 7476, '▁왕복선': 7477, '▁카자흐스탄': 7478, '윗': 7479, '▁당나귀': 7480, '▁수퍼대의원': 7481, '▁몸무게': 7482, '▁부작용': 7483, '▁마라도나': 7484, '▁무너진': 7485, '▁kill': 7486, '인디아나': 7487, '▁예언자': 7488, 'ough': 7489, '▁몬테': 7490, '▁일축했다': 7491, '▁카지노': 7492, '▁물리치': 7493, '▁침투': 7494, 'count': 7495, '▁닉슨': 7496, '▁모로코': 7497, '▁교과서': 7498, '▁여자아이': 7499, '▁동북아': 7500, '▁쇼핑몰': 7501, '▁수비수': 7502, '▁State': 7503, '▁높아졌다': 7504, '▁쿠르드족': 7505, '▁도와주': 7506, '▁있었는지': 7507, '▁활기': 7508, '▁필리스': 7509, '넘': 7510, '뼈': 7511, 'CIA': 7512, '▁do': 7513, '▁이례적': 7514, '▁동맹국들': 7515, '▁일상적': 7516, 'oint': 7517, '▁효율': 7518, '▁회원들': 7519, '▁효율적': 7520, '▁파손되': 7521, 'dge': 7522, '멍': 7523, '&#8226;': 7524, '▁Party': 7525, '▁election': 7526, '▁leader': 7527, '▁protest': 7528, '▁뉴캐슬': 7529, '▁동계올림픽': 7530, '▁매코맥': 7531, '▁맥코맥': 7532, '▁미드필더': 7533, '▁세계보건기구': 7534, '▁악영향': 7535, '▁암스트롱': 7536, '▁포괄적': 7537, '넥': 7538, '돔': 7539, '엽': 7540, '옵': 7541, '쿼': 7542, '팽': 7543, '2006.06': 7544, '▁촛불': 7545, '▁친선경기': 7546, '▁도미니카': 7547, '▁여배우': 7548, '▁종신형': 7549, '▁총기난사': 7550, '▁도널드': 7551, '▁바쿠바': 7552, '▁빠뜨': 7553, '▁앵커': 7554, '▁제니퍼': 7555, '▁아스널': 7556, 'PML': 7557, '▁안락사': 7558, '▁흥행': 7559, '흙': 7560, '▶': 7561, '•': 7562, '꽤': 7563, '팍': 7564, '뻔': 7565, '팟': 7566, '깜': 7567, '둬': 7568, '볍': 7569, '팰': 7570, '갓': 7571, '띠': 7572, '삽': 7573, '꾸': 7574, '헬': 7575, '땅': 7576, '덮': 7577, '놔': 7578, '퉁': 7579, '푼': 7580, '겹': 7581, '큰': 7582, '콕': 7583, '낫': 7584, '뇨': 7585, '듬': 7586, '딱': 7587, '룽': 7588, '멕': 7589, '멧': 7590, '찔': 7591, '탬': 7592, '획': 7593, '뭇': 7594, '뭉': 7595, '솜': 7596, '츨': 7597, '캣': 7598, '켐': 7599, '콥': 7600, '펫': 7601, '쿤': 7602, '딕': 7603, '몇': 7604, '앨': 7605, '롯': 7606, '옌': 7607, '짙': 7608, '튠': 7609, '촨': 7610, '즐': 7611, '넓': 7612, '됨': 7613, '벳': 7614, '뉘': 7615, '앵': 7616, '긍': 7617, '둠': 7618, '훌': 7619, '덱': 7620, '밭': 7621, '쳇': 7622, '츄': 7623, '쥬': 7624, '홈': 7625, '톰': 7626, '윌': 7627, '므': 7628, '뷔': 7629, '봇': 7630, '앗': 7631, '툰': 7632, '꼈': 7633, '덟': 7634, '볕': 7635, '윙': 7636, '봅': 7637, '뒤': 7638, '욱': 7639, '굽': 7640, '낀': 7641, '맙': 7642, '샴': 7643, '쩔': 7644, '콴': 7645, '앞': 7646, '꿈': 7647, '왜': 7648, '끝': 7649, '룡': 7650, '늬': 7651, '뜯': 7652, '럿': 7653, '륭': 7654, '빔': 7655, '폼': 7656, '벵': 7657, '낙': 7658, '떠': 7659, '즌': 7660, '캇': 7661, '헝': 7662, '흠': 7663, '잇': 7664, '셸': 7665, '反': 7666, '英': 7667, '깅': 7668, '뚝': 7669, '띤': 7670, '쉘': 7671, '팻': 7672, '퐁': 7673, '샨': 7674, '깊': 7675, '섯': 7676, '콧': 7677, '市': 7678, '늑': 7679, '랏': 7680, '룻': 7681, '쑤': 7682, '윅': 7683, '텀': 7684, '팡': 7685, '펑': 7686, '듀': 7687, '솟': 7688, '줌': 7689, '댈': 7690, '뎌': 7691, '둡': 7692, '쟈': 7693, '엉': 7694, '옴': 7695, '녹': 7696, '숨': 7697, '첫': 7698, '껴': 7699, '뜰': 7700, '샹': 7701, '셍': 7702, '눕': 7703, '랴': 7704, '뭘': 7705, '샵': 7706, '쿡': 7707, '헥': 7708, '듭': 7709, '故': 7710, '뎀': 7711, '샷': 7712, '쏠': 7713, '씬': 7714, '쥔': 7715, '쪼': 7716, '퍽': 7717, '性': 7718, '륨': 7719, '싹': 7720, '챈': 7721, '쓸': 7722, '벗': 7723, '웹': 7724, '즉': 7725, '횡': 7726, '벙': 7727, '싯': 7728, '칫': 7729, '넛': 7730, '랠': 7731, '삐': 7732, '엣': 7733, '엿': 7734, '젼': 7735, '줍': 7736, '쿵': 7737, '핼': 7738, '新': 7739, '옷': 7740, '겸': 7741, '묻': 7742, 'q': 7743, '렝': 7744, '궂': 7745, '녕': 7746, '밥': 7747, '벼': 7748, '훼': 7749, '펭': 7750, '깨': 7751, '좁': 7752, '美': 7753, '낮': 7754, '곧': 7755, '섹': 7756, '냄': 7757, '찮': 7758, '갖': 7759, '꼭': 7760, '묵': 7761, '샌': 7762, '좀': 7763, '놨': 7764, '휠': 7765, '뛰': 7766, '쌀': 7767, '맛': 7768, '멀': 7769, '탤': 7770, '촛': 7771, '낄': 7772, '셴': 7773, '귄': 7774, '쓴': 7775, '밑': 7776, '삶': 7777, '꿀': 7778, '맡': 7779, '큼': 7780, '꿔': 7781, '눠': 7782, '숫': 7783, '덧': 7784, '*': 7785, '뜻': 7786, '룹': 7787, '끗': 7788, '걱': 7789, '빚': 7790, '밝': 7791, '맺': 7792, '힉': 7793, '많': 7794, '숀': 7795, '봄': 7796, '끓': 7797, '갚': 7798, '쾰': 7799, '찼': 7800, '찢': 7801, '잰': 7802, '웸': 7803, '샐': 7804, '깥': 7805, '겉': 7806, '팸': 7807, '몹': 7808, '꼴': 7809, '씌': 7810, '맷': 7811, '뀐': 7812, '깎': 7813, '콸': 7814, '쏴': 7815, '썹': 7816, '슭': 7817, '킷': 7818, '챌': 7819, '얇': 7820, '씀': 7821, '뀔': 7822, '꽉': 7823, '꽂': 7824, '±': 7825, '뭐': 7826, '댕': 7827, '꿨': 7828, '꾀': 7829, '깐': 7830, '얹': 7831, '쐈': 7832, '뱃': 7833, '긱': 7834, '씻': 7835, '뻗': 7836, '렷': 7837, '낚': 7838, '꼼': 7839, '$': 7840, '잦': 7841, '엎': 7842, '숍': 7843, '뭔': 7844, '맑': 7845, '핫': 7846, '핍': 7847, '몫': 7848, '짖': 7849, '샀': 7850, '낡': 7851, '곁': 7852, '컸': 7853, '캡': 7854, '쏜': 7855, '젭': 7856, '싣': 7857, '맵': 7858, '닮': 7859, '젖': 7860, '쁨': 7861, '릅': 7862, '궈': 7863, '탓': 7864, '캥': 7865, '웍': 7866, '굶': 7867, '뮬': 7868, '릇': 7869, '횟': 7870, '췌': 7871, '틈': 7872, '댓': 7873, '붓': 7874, '́': 7875, '챙': 7876, '앰': 7877, '닿': 7878, '펌': 7879, '흩': 7880, '뮌': 7881, '뤼': 7882, '뿔': 7883, '괜': 7884, '뤘': 7885, '튀': 7886, '꼽': 7887, '굳': 7888, '굉': 7889, '녔': 7890, '랬': 7891, '곱': 7892, '픔': 7893, '밸': 7894, '닙': 7895, '낌': 7896, '띄': 7897, '넹': 7898, '밟': 7899, '눴': 7900, '싫': 7901, '윔': 7902, '괄': 7903, '옛': 7904, '탔': 7905, '썼': 7906, '핸': 7907, '딪': 7908, '잊': 7909, '깝': 7910, '멤': 7911, '벅': 7912, '흰': 7913, '갇': 7914, '췄': 7915, '묶': 7916, '뱅': 7917, '닫': 7918, '왼': 7919, '뀌': 7920, '렴': 7921, '읽': 7922, '깔': 7923, '궤': 7924, '탱': 7925, '탠': 7926, '쌓': 7927, '쫓': 7928, '짧': 7929, '쏟': 7930, '뭄': 7931, '뒷': 7932, '걷': 7933, '슴': 7934, '훨': 7935, '릎': 7936, '뽑': 7937, '뿌': 7938, '붉': 7939, '앓': 7940, '얘': 7941, '옆': 7942, '멋': 7943, '꺾': 7944, '낳': 7945, '곽': 7946, '휩': 7947, '돕': 7948, '녁': 7949, '듣': 7950, '춰': 7951, '끊': 7952, '됩': 7953, '젝': 7954, '늦': 7955, '앉': 7956, '슷': 7957, '렵': 7958, '쿄': 7959, '밴': 7960, '옮': 7961, '봤': 7962, '젊': 7963, '챔': 7964, '촬': 7965, '빨': 7966, '찍': 7967, '떻': 7968, '렀': 7969, '웠': 7970, '겪': 7971, '믿': 7972, '펼': 7973, '섰': 7974, '먹': 7975, '렇': 7976, '̋': 7977, '잃': 7978, '캠': 7979, '싶': 7980, '랐': 7981, '끌': 7982, '갔': 7983, '켰': 7984, '밖': 7985, '얻': 7986, '쇄': 7987, '좋': 7988, '찾': 7989, '떨': 7990, '높': 7991, '맞': 7992, '났': 7993, '혐': 7994, '협': 7995, '확': 7996, '없': 7997, '떤': 7998, '았': 7999}\n",
            "{0: '<unk>', 1: '<s>', 2: '</s>', 3: '.', 4: '▁', 5: '을', 6: '의', 7: '에', 8: '이', 9: '를', 10: '는', 11: '가', 12: '은', 13: ',', 14: '고', 15: '에서', 16: '로', 17: '한', 18: '▁“', 19: '인', 20: '”', 21: '일', 22: ')', 23: '(', 24: '과', 25: '▁이', 26: '와', 27: '으로', 28: '▁있다', 29: '지', 30: '도', 31: '▁수', 32: '할', 33: '했다', 34: '▁밝혔다', 35: '▁말했다', 36: '하고', 37: '년', 38: '다', 39: '하는', 40: '▁있는', 41: '기', 42: '리', 43: '▁그', 44: '자', 45: '▁전', 46: '며', 47: '스', 48: '해', 49: '▁2', 50: '▁그는', 51: '▁1', 52: '만', 53: '▁대한', 54: '된', 55: '▁위해', 56: '월', 57: '▁전했다', 58: '▁미국', 59: '▁한', 60: '▁미', 61: '▁3', 62: '▁이번', 63: '▁중', 64: '▁지난', 65: '현지시간', 66: '시', 67: '라', 68: '에게', 69: '나', 70: '▁대해', 71: '어', 72: '\"', 73: '사', 74: 's', 75: '주', 76: '▁것으로', 77: '▁‘', 78: '트', 79: '명이', 80: '▁것이라고', 81: '▁것', 82: '이라고', 83: '게', 84: '들이', 85: '▁\"', 86: '▁4', 87: '드', 88: '대', 89: '▁있다고', 90: '하기', 91: '르', 92: '수', 93: '▁것을', 94: '아', 95: '서', 96: '▁이라크', 97: '▁주', 98: '적인', 99: '▁6', 100: '하지', 101: '히', 102: '’', 103: '세', 104: '▁5', 105: '상', 106: '▁더', 107: '▁그러나', 108: '들은', 109: '부', 110: '하게', 111: '▁다른', 112: '▁대통령', 113: '운', 114: '적', 115: '▁중국', 116: '치', 117: '비', 118: 'e', 119: '명', 120: '▁한편', 121: '▁10', 122: '전', 123: '라고', 124: '던', 125: '성', 126: '▁북한', 127: '프', 128: '▁후', 129: '▁내', 130: '-', 131: '원', 132: '명의', 133: '소', 134: '됐다', 135: '▁바', 136: '미', 137: '정', 138: '▁이후', 139: '선', 140: '했다고', 141: '▁아', 142: '크', 143: '▁정부', 144: '▁영국', 145: '보', 146: '니', 147: '▁7', 148: '▁한국', 149: '▁통해', 150: '▁알', 151: '마', 152: '▁일', 153: '▁제', 154: '▁두', 155: '▁많은', 156: '장', 157: '▁또', 158: '이다', 159: '▁8', 160: '▁위한', 161: '될', 162: '▁대통령은', 163: '분', 164: '위', 165: '▁부시', 166: '진', 167: '화', 168: '야', 169: '▁등', 170: '하', 171: '▁가장', 172: '▁비', 173: '▁동안', 174: '까지', 175: '오', 176: '▁같은', 177: '▁것이다', 178: '제', 179: '▁대변인은', 180: '에는', 181: '▁대', 182: '당', 183: '바', 184: '조', 185: '면', 186: '국', 187: '개', 188: '▁지', 189: '▁유', 190: '디', 191: '들을', 192: '▁약', 193: '▁나', 194: '▁시', 195: '했으며', 196: '▁세계', 197: '파', 198: '하며', 199: '▁부', 200: '▁말', 201: '▁주장했다', 202: '▁문제', 203: '▁사', 204: '▁오바마', 205: '▁정', 206: '▁때', 207: '▁될', 208: '내', 209: '적으로', 210: '우', 211: '즈', 212: '▁것은', 213: '간', 214: '타', 215: '▁19', 216: '▁영화', 217: '▁할', 218: '▁한다', 219: '▁또한', 220: '▁뒤', 221: '▁오', 222: '▁9', 223: '▁마', 224: 'o', 225: '▁12', 226: '▁조사', 227: '▁현재', 228: '▁관련', 229: '▁것이', 230: '구', 231: '▁경제', 232: '▁최근', 233: '▁경우', 234: '▁보도했다', 235: '들', 236: '여', 237: '▁일본', 238: '▁덧붙였다', 239: '레', 240: '▁공격', 241: '▁이상', 242: '▁반', 243: '▁않았다', 244: 'A', 245: '▁있었다', 246: '▁무', 247: '및', 248: '차', 249: '한다', 250: '식', 251: '에서는', 252: '1', 253: '▁불', 254: '그', 255: '용', 256: 'a', 257: '단', 258: '러', 259: '▁국가', 260: 'd', 261: '려', 262: '했던', 263: '▁보', 264: '유', 265: \"'\", 266: '었다', 267: '권', 268: '문', 269: '▁11', 270: '약', 271: '▁기', 272: '▁20', 273: '▁일부', 274: '계', 275: '티', 276: '▁자신의', 277: '▁안', 278: '▁해', 279: '▁거', 280: '2', 281: '▁공', 282: '관', 283: '▁함께', 284: '▁조', 285: '3', 286: '하다', 287: '신', 288: '브', 289: '▁당시', 290: '모', 291: '▁했다', 292: '카', 293: '안', 294: \"▁'\", 295: '▁재', 296: '▁계속', 297: '▁새로', 298: '▁다', 299: '▁모든', 300: '▁파', 301: '▁그리고', 302: '방', 303: '▁후보', 304: '노', 305: '▁없다', 306: '▁하', 307: '회', 308: '실', 309: '▁때문에', 310: 'm', 311: '▁지원', 312: '직', 313: 'S', 314: '코', 315: '보다', 316: '해야', 317: '▁신', 318: '▁미군', 319: '▁파키스탄', 320: '무', 321: '▁예정이다', 322: '▁수도', 323: '린', 324: '▁상', 325: '억', 326: '▁프랑스', 327: '▁자', 328: '▁모두', 329: '호', 330: '▁있습니다', 331: '▁설명했다', 332: '▁몇', 333: '▁결과', 334: '▁러시아', 335: '▁계획', 336: '▁있으며', 337: '▁구', 338: '▁이스라엘', 339: '▁경찰', 340: '체', 341: '▁모', 342: '▁경찰은', 343: '산', 344: '점', 345: '▁지역', 346: '토', 347: '물', 348: '▁세', 349: '▁클린턴', 350: '▁카', 351: '▁유엔', 352: '질', 353: '▁정부는', 354: '▁민주당', 355: '경', 356: '동', 357: '▁테러', 358: '▁큰', 359: '▁도', 360: '▁피', 361: '▁우리', 362: 'C', 363: '법', 364: '▁사고', 365: '▁결정', 366: '▁선거', 367: 't', 368: '▁연구', 369: '들의', 370: '▁여성', 371: 'y', 372: '▁성', 373: '▁30', 374: '▁데', 375: '▁핵', 376: '피', 377: '더', 378: '▁군', 379: '명을', 380: '학', 381: '연', 382: '감', 383: 'u', 384: '▁지난해', 385: '되는', 386: '에따르면', 387: '력', 388: 'c', 389: '▁이들', 390: '▁시작', 391: '에도', 392: '▁강', 393: 'i', 394: '▁않을', 395: '▁열린', 396: '했습니다', 397: '▁줄', 398: '▁방문', 399: '▁발표', 400: '▁달러', 401: '군', 402: '▁당', 403: '▁경기', 404: '지만', 405: '▁대통령이', 406: '공', 407: '교', 408: '버', 409: '▁이란', 410: '▁달', 411: '▁올해', 412: '▁스', 413: '라는', 414: 'n', 415: '▁양', 416: '루', 417: '▁배', 418: '▁발생한', 419: '▁있을', 420: '▁이날', 421: '▁물', 422: '▁총리는', 423: '데', 424: '란', 425: '▁하는', 426: '▁원', 427: '▁소', 428: '행', 429: '▁the', 430: '▁노', 431: '키', 432: '▁발표했다', 433: '시간', 434: '중', 435: '▁15', 436: '심', 437: '재', 438: '▁리', 439: '▁초', 440: '6', 441: '▁발', 442: '▁받고', 443: '▁존', 444: '난', 445: 'D', 446: '살', 447: '▁실', 448: 'l', 449: '▁회담', 450: '이나', 451: '하면서', 452: '▁(', 453: '▁채', 454: '▁A', 455: '▁국제', 456: '▁총리', 457: '터', 458: '▁서', 459: '하여', 460: '▁유럽', 461: '▁총', 462: '▁관계', 463: '았다', 464: '되고', 465: '▁to', 466: '포', 467: '▁가운데', 468: '들에게', 469: '▁미국의', 470: '길', 471: 'P', 472: '▁아프간', 473: '▁S', 474: '으며', 475: '▁간', 476: '▁라', 477: '▁조치', 478: '▁타', 479: '▁기록', 480: '▁코', 481: '▁16', 482: '▁주장', 483: '종', 484: '▁첫', 485: '▁메', 486: '역', 487: '▁개', 488: '▁of', 489: 'M', 490: '▁포', 491: '▁의해', 492: '▁18', 493: '면서', 494: '▁아이', 495: '워', 496: '▁인도', 497: '▁된다', 498: '▁입', 499: '▁매', 500: '▁사람들이', 501: '▁주요', 502: '부터', 503: '▁사건', 504: '든', 505: '▁차', 506: '▁프로그램', 507: '.”', 508: '▁정부가', 509: '건', 510: '임', 511: '▁시위', 512: ')’', 513: '▁다시', 514: '요', 515: '▁감독', 516: '였다', 517: 'ing', 518: '5', 519: '▁인해', 520: 'er', 521: 'f', 522: '▁차량', 523: '▁승리', 524: '되어', 525: '▁보고', 526: '들과', 527: '입니다', 528: '형', 529: '▁동', 530: '▁회사', 531: '▁않은', 532: '설', 533: '▁열', 534: '▁13', 535: '▁투표', 536: '저', 537: '▁여', 538: '석', 539: 'ed', 540: '발', 541: '▁있다는', 542: '▁예정', 543: '거', 544: 'p', 545: '돼', 546: '▁피해', 547: '▁혐의로', 548: '7', 549: '▁어', 550: '▁우', 551: '▁하고', 552: '▁위', 553: '번', 554: '네', 555: '▁시간', 556: '▁활동', 557: '▁지지', 558: '▁혐의', 559: '▁외', 560: '▁반대', 561: 'g', 562: '배', 563: '금', 564: '▁중단', 565: '▁독일', 566: '▁협상', 567: '▁전쟁', 568: 'al', 569: '▁산', 570: '▁생각', 571: '반', 572: '두', 573: '▁합의', 574: '▁in', 575: '되지', 576: '품', 577: '장은', 578: '▁됐다', 579: '▁상원의원', 580: '▁시장', 581: '▁선', 582: '▁14', 583: '슨', 584: '%', 585: 'r', 586: '너', 587: '▁이미', 588: '민', 589: '▁대학', 590: '▁호주', 591: '래', 592: 'km', 593: '▁위치한', 594: '▁받았다', 595: '▁관리', 596: '▁대선', 597: '▁경', 598: '▁뉴욕', 599: '▁탈레반', 600: '료', 601: 'ar', 602: '▁우려', 603: '▁연', 604: '▁명', 605: '/', 606: '년간', 607: '▁팔레스타인', 608: '▁W', 609: '▁없는', 610: '▁호', 611: '스트', 612: '됐다고', 613: '달러', 614: '▁페', 615: '▁여러', 616: '병', 617: '▁우주', 618: '습니다', 619: '▁석방', 620: '론', 621: '달', 622: '▁최고', 623: 'I', 624: '▁아직', 625: '4', 626: '청', 627: '▁조지', 628: '▁내용', 629: '▁TV', 630: '0', 631: '▁새', 632: '▁소속', 633: '이라며', 634: '▁잘', 635: '▁추가', 636: 'an', 637: '로부터', 638: '▁연방', 639: '급', 640: '작', 641: '▁25', 642: '▁사실을', 643: '▁레', 644: '▁점', 645: 'E', 646: '▁위협', 647: '▁단', 648: '통', 649: '이며', 650: '▁매케인', 651: '▁관계자는', 652: '▁김', 653: '▁사용', 654: '속', 655: '▁남', 656: '▁않고', 657: '▁17', 658: '▁확인', 659: '▁포함', 660: 'F', 661: '지는', 662: '▁노력', 663: '다고', 664: '▁방송', 665: '▁많', 666: '릴', 667: '생', 668: '▁인터넷', 669: '판', 670: '▁지적했다', 671: '▁맞', 672: \"▁''\", 673: '▁이용', 674: '▁적', 675: '▁한다고', 676: '류', 677: '▁저', 678: '▁버', 679: '▁지금', 680: '▁도시', 681: '▁이슬람', 682: '▁남부', 683: '?', 684: '스는', 685: '▁사이', 686: '▁장', 687: '▁판매', 688: 'T', 689: '▁인근', 690: '▁비난', 691: '클', 692: '▁정치', 693: '▁매우', 694: '했었다', 695: '출', 696: '▁당국', 697: '▁폭발', 698: 'N', 699: '▁사람', 700: '▁올림픽', 701: '▁심', 702: '▁기술', 703: '천', 704: '▁하나', 705: '범', 706: '▁개발', 707: '▁보도', 708: '▁당국은', 709: '▁입장', 710: '▁대부분', 711: '▁볼', 712: '▁발견', 713: '츠', 714: '온', 715: 'or', 716: '▁사망', 717: '▁증가', 718: '했지만', 719: '메', 720: '▁부상', 721: '에따라', 722: '개월', 723: '했고', 724: '량', 725: '▁감', 726: '▁없다고', 727: '양', 728: '▁이어', 729: '된다', 730: '▁살', 731: '▁명의', 732: '▁B', 733: '▁올', 734: '▁정책', 735: '▁받은', 736: '▁자동차', 737: '▁2006', 738: '처럼', 739: '색', 740: 'K', 741: '▁않는다', 742: '▁손', 743: '▁못했다', 744: '▁이는', 745: '되었다', 746: '결', 747: '▁100', 748: '8', 749: '▁24', 750: '▁준비', 751: '퍼', 752: '증', 753: '▁M', 754: '위원회', 755: '▁루', 756: '▁교', 757: '강', 758: '▁C', 759: '▁날', 760: '▁남자', 761: '▁성명', 762: '▁어떤', 763: '▁생산', 764: '▁집', 765: '▁평화', 766: '▁발생', 767: '▁가족', 768: '▁오늘', 769: '베', 770: '편', 771: '했으나', 772: '▁금융', 773: '▁기자', 774: '▁건물', 775: '날', 776: '▁폭탄', 777: '친', 778: '▁하지만', 779: '▁21', 780: '▁이름', 781: '▁있던', 782: '울', 783: '▁본', 784: '▁베', 785: '▁오후', 786: '개의', 787: '하기로', 788: '▁지도자', 789: 'G', 790: '명은', 791: '이었다', 792: '▁해결', 793: '▁언론', 794: '▁P', 795: 'B', 796: '▁의사', 797: '▁50', 798: '▁방법', 799: 'en', 800: '▁검찰', 801: '▁23', 802: '하는데', 803: '머', 804: '▁27', 805: '▁미얀마', 806: 'h', 807: '▁자신', 808: '▁법원', 809: '▁변화', 810: '▁법', 811: '▁공화당', 812: '▁앞서', 813: '▁공개', 814: '▁대표', 815: '와의', 816: '▁행사', 817: '▁필요', 818: '▁상태', 819: '▁안전', 820: '처', 821: '▁토', 822: '영', 823: '▁북부', 824: '▁이에', 825: '▁22', 826: '립', 827: '▁있어', 828: '복', 829: '▁보호', 830: '▁방', 831: '▁분', 832: '▁종', 833: '▁치', 834: '▁건강', 835: '격', 836: '▁만', 837: '▁치료', 838: '▁인터뷰에서', 839: '▁병원', 840: '▁하지', 841: '절', 842: '▁컴퓨터', 843: '▁T', 844: ':', 845: '▁강조했다', 846: '▁다음', 847: '▁상승', 848: '합', 849: '▁단체', 850: '테', 851: '기를', 852: '▁갖고', 853: '▁아시아', 854: '▁이러', 855: 'b', 856: '▁그들은', 857: '▁살해', 858: '▁현', 859: '▁납치', 860: '▁처음', 861: '▁들어', 862: '각', 863: '예', 864: '는데', 865: '지역', 866: '겨', 867: '층', 868: '▁떨어진', 869: '▁것에', 870: '투', 871: '▁요구', 872: '▁학교', 873: '언', 874: '▁2005', 875: '▁추', 876: '▁힐러리', 877: '렌', 878: '▁원문기사보기', 879: '▁있도록', 880: '▁반군', 881: 'O', 882: '하도록', 883: '▁오전', 884: '▁사태', 885: '▁D', 886: '▁거래', 887: '▁마지막', 888: '▁조직', 889: 'in', 890: '탄', 891: '팀', 892: '▁여행', 893: '▁비난했다', 894: '져', 895: '▁논의', 896: '▁정보', 897: '▁터키', 898: '▁발언', 899: '▁금지', 900: '▁취', 901: '▁상황', 902: '▁북한이', 903: '▁가진', 904: '▁지구', 905: 'and', 906: '▁은행', 907: '▁경찰이', 908: '측', 909: '집', 910: '이라는', 911: '▁최대', 912: '▁진', 913: '▁팀', 914: '▁요청', 915: '▁오는', 916: '▁미국과', 917: '하자', 918: 'ic', 919: '업', 920: '▁F', 921: '▁처음으로', 922: '▁장관은', 923: 'on', 924: '거나', 925: '▁영', 926: '▁각', 927: '▁진행', 928: '▁자신이', 929: '▁연기', 930: '▁그녀는', 931: '▁그녀', 932: '▁이를', 933: '▁막', 934: '▁충돌', 935: '▁판결', 936: '▁출신', 937: '▁앞', 938: '▁온', 939: '으로부터', 940: 'L', 941: '▁사회', 942: '▁버락', 943: '▁규모', 944: 'R', 945: 'v', 946: '▁생', 947: '▁담', 948: '▁a', 949: '▁친', 950: '졌다', 951: '번째', 952: '▁지난달', 953: '됐으며', 954: '▁불법', 955: '▁용의자', 956: '열', 957: '▁없었다', 958: '▁26', 959: '▁행동', 960: '▁이탈리아', 961: '▁밤', 962: '▁최소', 963: '매', 964: '▁결', 965: '▁40', 966: '▁폴', 967: 'le', 968: '▁국민', 969: '▁보내', 970: '▁난', 971: '▁자금', 972: '▁성공', 973: '▁유지', 974: '▁앞으로', 975: '▁있지만', 976: '▁영향', 977: '▁야당', 978: '▁발사', 979: '▁번', 980: '▁없이', 981: '▁지역에서', 982: '▁공항', 983: '박', 984: '▁CNN', 985: '▁보인다', 986: 'w', 987: '▁투자', 988: '▁서울', 989: '▁된', 990: '▁들', 991: '▁̋', 992: '상을', 993: '등', 994: '▁H', 995: '먼', 996: '▁사망했다', 997: '▁예', 998: '▁주둔', 999: '▁관한', 1000: '▁공급', 1001: '▁N', 1002: '▁투', 1003: '준', 1004: '림', 1005: 'it', 1006: '▁군사', 1007: '런', 1008: '함', 1009: '리는', 1010: '▁스페인', 1011: '추', 1012: 'k', 1013: '▁환경', 1014: '락', 1015: '▁의회', 1016: '위를', 1017: '령', 1018: '▁좋은', 1019: '▁사망자', 1020: '▁29', 1021: '▁G', 1022: '▁않다', 1023: '해서', 1024: '▁공식', 1025: '승', 1026: '케', 1027: '▁통', 1028: '▁미사일', 1029: '▁제공', 1030: '초', 1031: '▁지방', 1032: '5%', 1033: '▁걸', 1034: '▁가격', 1035: '▁만에', 1036: '_', 1037: '▁회장', 1038: '▁돈', 1039: '▁현지', 1040: '우리는', 1041: '▁사람들', 1042: '▁무샤라프', 1043: '포인트', 1044: '▁돌', 1045: '한다고', 1046: 're', 1047: '▁미국이', 1048: '▁수사', 1049: '▁출연', 1050: '▁하루', 1051: '주의', 1052: '▁L', 1053: '자가', 1054: '자들은', 1055: '▁문', 1056: '후', 1057: '▁런던', 1058: '▁공동', 1059: '▁비행기', 1060: '▁관심', 1061: '▁가능성', 1062: '▁팔', 1063: '▁인정', 1064: '▁사람들은', 1065: '▁선수', 1066: '▁동영상', 1067: '▁28', 1068: '▁코리아', 1069: '외', 1070: '▁관', 1071: '미국', 1072: '▁제작', 1073: '▁백악관', 1074: '▁변', 1075: 'article', 1076: '록', 1077: '▁행위', 1078: '▁범죄', 1079: '입', 1080: '▁인질', 1081: '▁알려졌다', 1082: '▁눈', 1083: '음', 1084: '▁이들은', 1085: '회의', 1086: '▁AP', 1087: '긴', 1088: '독', 1089: '▁무기', 1090: '▁평', 1091: '▁우승', 1092: '▁하락', 1093: '▁벌이', 1094: '혀', 1095: '▁표', 1096: '▁불구하고', 1097: '본', 1098: '▁중요한', 1099: '▁패', 1100: '▁정상', 1101: '▁오바마는', 1102: '▁바그다드', 1103: '▁말했습니다', 1104: '▁정치적', 1105: '▁위험', 1106: '▁나라', 1107: '받', 1108: '▁빌', 1109: '▁박사는', 1110: '있는', 1111: '▁장관', 1112: '▁속', 1113: '▁게임', 1114: '▁체포', 1115: '▁남성', 1116: '▁발생했다', 1117: '간의', 1118: '▁대통령과', 1119: '▁독립', 1120: '▁사망한', 1121: '▁고위', 1122: '▁이전', 1123: '▁사진', 1124: '▁미국은', 1125: '▁자살', 1126: '▁것입니다', 1127: '▁헤', 1128: '▁통과', 1129: '▁시도', 1130: '▁이런', 1131: '▁인용', 1132: '▁여부', 1133: '하겠다고', 1134: '▁의원', 1135: '른', 1136: '하면', 1137: '▁역할', 1138: '▁밀', 1139: '▁반면', 1140: '▁2008', 1141: '렸다', 1142: '▁병력', 1143: '▁운동', 1144: 'at', 1145: '▁정도', 1146: '▁강화', 1147: '▁잠', 1148: '▁드', 1149: '시켰다', 1150: '50', 1151: '▁폐쇄', 1152: '▁워싱턴', 1153: '▁보안', 1154: '표', 1155: '▁곳', 1156: 'H', 1157: '▁직접', 1158: '커', 1159: '▁천', 1160: '▁역사', 1161: '▁이야기', 1162: '▁부토', 1163: '~', 1164: '▁예상', 1165: '▁부족', 1166: '’’', 1167: 'ch', 1168: '▁기업', 1169: '▁회의', 1170: '▁부인', 1171: '▁애', 1172: '▁사실', 1173: '2005.08', 1174: '말', 1175: '있다', 1176: '▁사망했다고', 1177: '▁개인', 1178: '플', 1179: '목', 1180: '자인', 1181: '했을', 1182: '▁딸', 1183: '▁서비스', 1184: '남', 1185: 'CNN', 1186: '백', 1187: '▁누', 1188: '▁보다', 1189: '▁기간', 1190: '▁의하면', 1191: '▁모습을', 1192: '마리', 1193: '▁알카에다', 1194: '▁확보', 1195: '▁골', 1196: '▁재판', 1197: 'un', 1198: '▁c', 1199: '▁해안', 1200: '▁감소', 1201: '만명', 1202: '으나', 1203: '▁것이라는', 1204: '시킬', 1205: '랜드', 1206: '▁사업', 1207: '됐', 1208: '▁아이들', 1209: '▁2005.08', 1210: '하던', 1211: '▁힘', 1212: '억원', 1213: '▁자신들', 1214: '▁뉴스', 1215: '▁청', 1216: '▁높은', 1217: '▁더욱', 1218: '▁통신', 1219: '▁가능성이', 1220: '망', 1221: '▁뜻', 1222: '▁못', 1223: '▁국경', 1224: '▁지나', 1225: '쳐', 1226: '▁전체', 1227: '▁지난주', 1228: '▁상원', 1229: '▁길', 1230: '리아', 1231: '▁참여', 1232: '’(', 1233: '▁야', 1234: '곳', 1235: '▁보고서', 1236: '▁별', 1237: '▁건', 1238: '▁하마스', 1239: '▁성명에서', 1240: '▁출전', 1241: '골', 1242: '장을', 1243: '▁아버지', 1244: '▁&', 1245: '▁왔다', 1246: '▁참가', 1247: '▁비행', 1248: '▁언급', 1249: '▁의견', 1250: '만달러', 1251: '▁K', 1252: '▁구조', 1253: '▁아들', 1254: '▁호텔', 1255: '차례', 1256: '▁위기', 1257: '졌', 1258: '▁죽', 1259: '▁신문', 1260: '▁아침', 1261: '▁지역에', 1262: '▁맥', 1263: '이번', 1264: '▁거리', 1265: '▁아니다', 1266: '였던', 1267: '하려', 1268: '▁승인', 1269: '▁인쇄', 1270: '▁것이며', 1271: '성을', 1272: 'as', 1273: '정부', 1274: '▁for', 1275: '▁베이징', 1276: '▁2004', 1277: '▁총리가', 1278: '▁검사', 1279: '▁전화', 1280: '▁말을', 1281: '▁한나라당', 1282: '합니다', 1283: '▁마을', 1284: '▁알고', 1285: '▁잡', 1286: '▁않는', 1287: '▁이와', 1288: '▁마련', 1289: '▁않았다고', 1290: '▁석유', 1291: '▁주택', 1292: '▁제안', 1293: '자들이', 1294: '▁폭탄테러', 1295: '▁캘리포니아', 1296: '세의', 1297: '맨', 1298: '태', 1299: '현', 1300: '▁키', 1301: '나는', 1302: '▁요', 1303: '▁건설', 1304: 'es', 1305: '▁철수', 1306: '▁시신', 1307: '▁디', 1308: '▁기자회견에서', 1309: '▁핵무기', 1310: '▁어제', 1311: '▁않', 1312: '▁번째', 1313: '돌', 1314: '▁되는', 1315: '▁국회', 1316: '▁시작했다', 1317: '▁보였다', 1318: '설명', 1319: '▁사람이', 1320: '▁필요한', 1321: '▁라이스', 1322: '▁관련된', 1323: '▁아니라', 1324: '자는', 1325: '▁올라', 1326: '▁결혼', 1327: '▁너무', 1328: '▁테', 1329: '▁수행', 1330: '씨', 1331: 'is', 1332: '폭', 1333: '▁선택', 1334: '“', 1335: '▁증거', 1336: '▁국방부', 1337: '▁생활', 1338: '하라', 1339: '튼', 1340: '▁해외', 1341: '▁재개', 1342: 'ation', 1343: '▁박', 1344: '왔다', 1345: '레이', 1346: 'JO', 1347: '그러나', 1348: '▁전에', 1349: '에서도', 1350: '도록', 1351: '▁사르코지', 1352: '▁쓰', 1353: '▁농', 1354: '▁도착', 1355: '단체', 1356: '년대', 1357: '▁시설', 1358: '▁협력', 1359: '▁브라운', 1360: '▁우리는', 1361: '▁타고', 1362: '▁교육', 1363: 'INS', 1364: '▁남편', 1365: '▁인권', 1366: '글', 1367: '▁넘', 1368: '▁받을', 1369: '사는', 1370: '▁s', 1371: '▁원문', 1372: '▁있고', 1373: '▁티베트', 1374: '▁이동', 1375: '▁연합', 1376: '불', 1377: '▁크', 1378: '▁작전', 1379: '년까지', 1380: '▁아프가니스탄', 1381: '▁시위대', 1382: '▁개최', 1383: '▁노무현', 1384: '인한', 1385: '▁결국', 1386: '블', 1387: '▁콜롬비아', 1388: '▁도로', 1389: '평', 1390: '▁거부', 1391: '스타', 1392: '였', 1393: '▁변호사', 1394: '▁참', 1395: '▁역시', 1396: '▁삼', 1397: '▁직원', 1398: '▁주변', 1399: '자들', 1400: '▁네', 1401: '▁체', 1402: '▁에너지', 1403: '▁허', 1404: '▁내년', 1405: '▁친구', 1406: '▁목표', 1407: '▁2003', 1408: '기로', 1409: '▁곧', 1410: '▁이유로', 1411: '년에', 1412: '▁열리는', 1413: '&', 1414: '탈', 1415: '들에', 1416: '▁경쟁', 1417: '족', 1418: '▁참석', 1419: '링', 1420: '▁숨졌다', 1421: '▁격', 1422: '▁몰', 1423: '액', 1424: '▁수준', 1425: '항', 1426: '극', 1427: '별', 1428: '환', 1429: '혈', 1430: '▁인도네시아', 1431: '▁국무부', 1432: '축', 1433: '갈', 1434: '▁사건에', 1435: '▁60', 1436: '기도', 1437: '비아', 1438: '▁타임즈', 1439: '▁몸', 1440: '▁산업', 1441: '▁Korea', 1442: '습', 1443: '▁암', 1444: '렸', 1445: '▁운영', 1446: '엔', 1447: '쿠', 1448: '회사', 1449: '▁연설', 1450: 'ri', 1451: '▁편', 1452: '▁탄', 1453: '애', 1454: '센터', 1455: '▁문제에', 1456: '▁광', 1457: '▁이제', 1458: '▁왕', 1459: '▁예정이라고', 1460: '▁전망', 1461: '▁어떻게', 1462: '▁행', 1463: '▁판사', 1464: '▁최초', 1465: '독해', 1466: '▁훈련', 1467: '▁화요일', 1468: '밀', 1469: '▁있', 1470: '▁E', 1471: '▁극', 1472: '▁R', 1473: '씨는', 1474: '▁자유', 1475: '▁근', 1476: '▁소유', 1477: '▁시스템', 1478: '▁회복', 1479: '▁경선', 1480: '▁I', 1481: '▁같다', 1482: '장이', 1483: '▁대회', 1484: '▁re', 1485: '▁경고', 1486: '▁레바논', 1487: 'ur', 1488: '▁알리', 1489: '하려는', 1490: '율', 1491: '▁한국인', 1492: 'et', 1493: '▁동물', 1494: '되기', 1495: '30', 1496: '▁전문가들은', 1497: '▁또는', 1498: '침', 1499: '▁성장', 1500: '▁원인', 1501: '흐', 1502: '▁임무', 1503: '일간', 1504: '▁국영', 1505: '▁지명', 1506: '▁커', 1507: '▁방안', 1508: '익', 1509: '▁빈', 1510: '▁게', 1511: '▁학생', 1512: '▁인구', 1513: '▁태국', 1514: '▁정보를', 1515: '만원', 1516: '▁일정', 1517: '▁요구했다', 1518: '▁태', 1519: '명과', 1520: '▁U', 1521: 'W', 1522: '▁이같', 1523: '▁만나', 1524: '슈', 1525: '▁있게', 1526: '▁사임', 1527: '▁음악', 1528: '▁있기', 1529: '▁31', 1530: '▁포기', 1531: '▁멕시코', 1532: '▁데이비드', 1533: '▁대선후보', 1534: '잡', 1535: '로서', 1536: '틀', 1537: '▁200', 1538: '▁2000', 1539: '▁제재', 1540: '▁대신', 1541: 'com', 1542: '▁국민들', 1543: '▁중심', 1544: '▁질', 1545: '사를', 1546: 'ro', 1547: '▁주말', 1548: '▁어린이', 1549: '▁아프리카', 1550: '▁받아', 1551: '▁과학자들', 1552: '▁무장', 1553: '▁비디오', 1554: '▁앞두고', 1555: '하거나', 1556: '▁수술', 1557: '▁정권', 1558: 'st', 1559: '▁여객기', 1560: '▁비롯', 1561: '▁대변인', 1562: '▁파괴', 1563: '누', 1564: '▁칼', 1565: '▁사망하고', 1566: '▁양국', 1567: '우리', 1568: 'se', 1569: '이자', 1570: '▁추락', 1571: '▁발견했다', 1572: '▁까지', 1573: '▁배우', 1574: '▁바로', 1575: '▁생각한다', 1576: '▁벌', 1577: '▁샤', 1578: '▁사과', 1579: '▁나타났다', 1580: '▁구성', 1581: '시키는', 1582: '▁부분', 1583: '▁민간인', 1584: '▁스타', 1585: '▁대사관', 1586: '▁면', 1587: '▁관할', 1588: '▁용', 1589: '▁b', 1590: '빌', 1591: '▁갈', 1592: '▁동부', 1593: '▁아기', 1594: '▁촬영', 1595: '▁일이', 1596: '▁항공', 1597: '▁제품', 1598: '▁US', 1599: '▁전투', 1600: '랑', 1601: '▁폭력', 1602: '능', 1603: '▁콜', 1604: '▁있었던', 1605: '▁전세계', 1606: '▁금', 1607: '9', 1608: '▁여자', 1609: '▁자리', 1610: '▁감시', 1611: '▁작업', 1612: '▁북', 1613: '▁독', 1614: '▁포함한', 1615: '▁처', 1616: '▁행정부', 1617: '▁정당', 1618: '▁도움', 1619: '억달러', 1620: '안을', 1621: '한다는', 1622: '▁대규모', 1623: '▁쿠', 1624: '▁주도', 1625: '▁고려', 1626: '페', 1627: '채', 1628: '▁소식', 1629: '▁선고', 1630: '업체', 1631: 'ra', 1632: '냈다', 1633: '▁만들어', 1634: '▁화재', 1635: '▁아닌', 1636: '▁국내', 1637: '패', 1638: '▁주민', 1639: '월에', 1640: '▁총격', 1641: '▁약속', 1642: '▁여전', 1643: '▁가지', 1644: '사건', 1645: '▁로버트', 1646: '▁기대', 1647: '▁f', 1648: '▁책임', 1649: '름', 1650: '북', 1651: '▁살고', 1652: '▁교수는', 1653: '▁특별', 1654: '▁복', 1655: '▁찾아', 1656: 'el', 1657: '펠', 1658: '▁무장세력', 1659: '▁가지고', 1660: '▁내려', 1661: '▁의원은', 1662: '▁출', 1663: '▁촉구했다', 1664: '▁밝혀졌다', 1665: '퍼센트', 1666: '▁보여주', 1667: '리스', 1668: '센', 1669: '톤', 1670: '▁부대', 1671: '▁세력', 1672: '엘', 1673: '▁온라인', 1674: '▁국', 1675: '▁작품', 1676: '▁계약', 1677: '▁2002', 1678: '▁실시', 1679: '▁항의', 1680: '올', 1681: '규', 1682: \")'\", 1683: '엄', 1684: '▁규정', 1685: '시켜', 1686: '▁총선', 1687: '▁0', 1688: '담', 1689: '▁가자지구', 1690: '▁수치', 1691: '▁수단', 1692: '▁특히', 1693: '▁순', 1694: '200', 1695: '▁선정', 1696: '▁인간', 1697: '▁안보', 1698: '▁붕괴', 1699: '총', 1700: '▁연료', 1701: '▁그들의', 1702: '▁수감', 1703: '▁최', 1704: '해왔다', 1705: '▁입은', 1706: '▁맡', 1707: '창', 1708: '▁입었다', 1709: 'us', 1710: '▁월요일', 1711: '관계', 1712: '▁수입', 1713: '▁악', 1714: '▁앤', 1715: '이어', 1716: '20', 1717: '▁LA', 1718: '레스', 1719: '▁놓', 1720: '▁되', 1721: '▁캐', 1722: '자회담', 1723: '랜', 1724: '▁경기에서', 1725: '▁인수', 1726: '▁말한다', 1727: '▁부통령', 1728: 'ion', 1729: '▁설치', 1730: '▁나이', 1731: '▁받았', 1732: '▁이상이', 1733: '▁안에', 1734: '▁책', 1735: '힌', 1736: '▁홍콩', 1737: '▁차지', 1738: '술', 1739: '경기', 1740: '하겠다', 1741: '▁작은', 1742: 'il', 1743: '▁웹사이트', 1744: '▁최종', 1745: '빈', 1746: '샤', 1747: '▁시험', 1748: '▁관계자가', 1749: '▁퍼', 1750: '▁가족들', 1751: '▁심각한', 1752: '▁부부', 1753: '허', 1754: '▁푸틴', 1755: '▁노동', 1756: '스터', 1757: '▁열차', 1758: '셔', 1759: '▁기소', 1760: '▁세금', 1761: '▁외교', 1762: '▁증시', 1763: '▁담당', 1764: '▁창', 1765: '▁필요하다', 1766: '▁메시지', 1767: '▁밝힌', 1768: '▁대의원', 1769: '▁경고했다', 1770: '▁인기', 1771: '▁글', 1772: '▁병', 1773: 'ent', 1774: '하다고', 1775: '▁p', 1776: '▁없을', 1777: '▁가치', 1778: '▁파업', 1779: '▁숨', 1780: '▁환자', 1781: '▁플로리다', 1782: '▁개선', 1783: '▁반응', 1784: '▁과거', 1785: '▁짐바브웨', 1786: '책', 1787: '▁아무', 1788: '기구', 1789: '▁미국인', 1790: '▁기념', 1791: '▁주식', 1792: '줄', 1793: '▁엘', 1794: '▁학생들', 1795: '▁캐나다', 1796: 'ter', 1797: '션', 1798: '▁중인', 1799: '▁회', 1800: '▁일을', 1801: '례', 1802: '▁발표한', 1803: '▁슈', 1804: '▁마이클', 1805: '▁움직임', 1806: '▁암살', 1807: '대로', 1808: '▁다양', 1809: '슬', 1810: '▁문화', 1811: '▁광고', 1812: '▁임명', 1813: '향', 1814: '▁벌였다', 1815: '▁외국인', 1816: '시장', 1817: '▁비해', 1818: '때', 1819: '릭', 1820: '▁라디오', 1821: '▁구속', 1822: '변', 1823: '시키', 1824: '▁얼마', 1825: '▁섬', 1826: '▁폭', 1827: '로운', 1828: '▁보수', 1829: '여명', 1830: '폐', 1831: '▁대만', 1832: '▁국가들', 1833: '▁돌아', 1834: '▁프로', 1835: '▁서부', 1836: '염', 1837: '▁통제', 1838: '▁기록했다', 1839: '▁강제', 1840: '년부터', 1841: '▁지역의', 1842: '▁브라질', 1843: '▁서로', 1844: '▁식량', 1845: '▁위반', 1846: '▁중동', 1847: '▁힐', 1848: '쉬', 1849: '▁진압', 1850: '▁브', 1851: '▁이라크에서', 1852: '▁헬기', 1853: '▁어머니', 1854: '▁스미스', 1855: '▁씨', 1856: '▁여름', 1857: '▁지지자들', 1858: '▁관리들', 1859: '시키기', 1860: '▁가스', 1861: '500', 1862: '▁했다고', 1863: '▁이유', 1864: '▁케냐', 1865: '▁실험', 1866: '▁지불', 1867: '▁취소', 1868: '▁휴', 1869: '▁머리', 1870: '▁파리', 1871: '▁수출', 1872: '겼다', 1873: '▁외국', 1874: '▁그런', 1875: '▁선언', 1876: '드는', 1877: '▁명령', 1878: '▁선출', 1879: '▁국무장관', 1880: '▁w', 1881: '이었던', 1882: '▁울', 1883: '▁추진', 1884: '▁기관', 1885: '▁법안', 1886: '▁내렸다', 1887: '럼', 1888: '앙', 1889: '▁각각', 1890: '광', 1891: '▁관광', 1892: '▁위치', 1893: '▁같이', 1894: '거리', 1895: '▁비용', 1896: '국가', 1897: '움', 1898: '▁시아파', 1899: '되', 1900: '▁소송', 1901: '수가', 1902: '▁대변인이', 1903: '로스', 1904: '▁제한', 1905: '▁밖에', 1906: '▁뉴', 1907: '▁감염', 1908: '▁제출', 1909: '▁평균', 1910: '▁후보가', 1911: '▁일반', 1912: '▁해군', 1913: '▁역', 1914: '▁장소', 1915: '▁권리', 1916: '▁de', 1917: '은행', 1918: '▁위성', 1919: '▁시즌', 1920: '▁축구', 1921: '▁배치', 1922: '▁수십', 1923: '▁하원', 1924: '▁미국에서', 1925: '▁인상', 1926: '▁접근', 1927: '▁경험', 1928: '▁탈', 1929: '▁목적', 1930: '▁임', 1931: '▁쇼', 1932: '▁제기', 1933: '▁차례', 1934: '▁전달', 1935: '=2', 1936: '협회', 1937: '▁여론조사', 1938: '▁프리', 1939: '검', 1940: '▁과정에서', 1941: '▁나온', 1942: '▁전시', 1943: '▁텍사스', 1944: 'im', 1945: '착', 1946: '동안', 1947: '▁않아', 1948: 'th', 1949: '▁처리', 1950: '▁식', 1951: '▁차이', 1952: '▁파병', 1953: '▁급', 1954: '▁나는', 1955: '▁발견됐다', 1956: '▁향', 1957: '▁사건이', 1958: '것', 1959: '▁일본의', 1960: '▁거주', 1961: '일까지', 1962: '▁사원', 1963: '텔', 1964: '▁내무부', 1965: '▁결의안', 1966: '었', 1967: '벨', 1968: '▁신고', 1969: '▁무역', 1970: '학자', 1971: '▁공연', 1972: '▁사형', 1973: '▁h', 1974: '니다', 1975: '▁버스', 1976: '▁걸쳐', 1977: '▁당신', 1978: '시키고', 1979: '▁자료', 1980: 'ir', 1981: '▁귀', 1982: '턴', 1983: '이드', 1984: '하지만', 1985: '▁파견', 1986: '개국', 1987: '▁경찰에', 1988: '었습니다', 1989: '▁제조', 1990: '했다는', 1991: '이란', 1992: 'x', 1993: '▁항공사', 1994: '▁2007', 1995: '▁의미', 1996: '▁제시', 1997: '가지', 1998: '퇴', 1999: '▁전국', 2000: '▁헌법', 2001: '▁음식', 2002: '▁다리', 2003: '▁상황이', 2004: '리고', 2005: '5000', 2006: '▁사이에', 2007: '▁사실이', 2008: '▁수상', 2009: '▁설명', 2010: '▁주재', 2011: '▁살인', 2012: '▁개혁', 2013: '▁설립', 2014: '▁허용', 2015: '▁사랑', 2016: '▁집중', 2017: '▁센터', 2018: '▁500', 2019: '▁대비', 2020: '대가', 2021: '측은', 2022: '▁대상으로', 2023: '▁부상했다', 2024: '▁긴장', 2025: '▁안정', 2026: '새', 2027: '▁이에앞서', 2028: '▁논쟁', 2029: '▁수요일', 2030: '▁위원회', 2031: '지도', 2032: '▁발전', 2033: '▁80', 2034: '▁평가', 2035: '스가', 2036: '▁J', 2037: '▁주지사', 2038: '▁대피', 2039: '하였다', 2040: '중인', 2041: '▁바이러스', 2042: '▁부모', 2043: '트는', 2044: '▁사퇴', 2045: '▁터', 2046: '▁것과', 2047: '▁/', 2048: '사가', 2049: '▁넘어', 2050: '10', 2051: '▁관계자들은', 2052: '▁성폭행', 2053: '▁공습', 2054: '장에서', 2055: '▁그룹', 2056: '송', 2057: '▁따', 2058: '▁명이', 2059: '기가', 2060: '▁희망', 2061: '▁교수', 2062: '률', 2063: '▁아내', 2064: '냐', 2065: '▁교황', 2066: '▁대해서는', 2067: '▁알려진', 2068: 'ol', 2069: '▁목', 2070: '▁결정했다', 2071: '▁The', 2072: '▁인물', 2073: '▁받는', 2074: '▁차베스', 2075: '▁환영', 2076: '▁혼란', 2077: '조사', 2078: '▁후세인', 2079: '▁압력', 2080: '▁발견된', 2081: '▁집회', 2082: '했', 2083: '킹', 2084: '세기', 2085: '▁유일', 2086: '▁m', 2087: '▁한다는', 2088: '십', 2089: '째', 2090: '▁단계', 2091: '▁완전', 2092: '▁관해', 2093: '킨', 2094: '쳤다', 2095: '▁황', 2096: '까', 2097: '▁당선', 2098: '낼', 2099: '▁바란다', 2100: '▁주민들', 2101: '▁EU', 2102: '▁상대로', 2103: '알', 2104: '▁익명', 2105: '▁요청했다', 2106: 'ID', 2107: '명으로', 2108: '▁교통', 2109: '▁교전', 2110: '▁그들이', 2111: '▁마약', 2112: '▁교회', 2113: 'sp', 2114: '▁신원', 2115: '손', 2116: '▁변호사는', 2117: '이라크', 2118: '라며', 2119: '었다고', 2120: '▁대응', 2121: '▁야후', 2122: 'ate', 2123: '▁죽음', 2124: '▁예상된다', 2125: '▁집단', 2126: '벌', 2127: '▁이래', 2128: '문제', 2129: '칠', 2130: '있', 2131: '▁질문', 2132: '▁기지', 2133: '▁되어', 2134: '▁복귀', 2135: '▁시리아', 2136: '▁기사', 2137: '▁왕자', 2138: '험', 2139: '하기도', 2140: '▁절', 2141: '▁on', 2142: '▁이명박', 2143: '▁밝혔습니다', 2144: '▁후보는', 2145: '▁구매', 2146: '악', 2147: '▁로마', 2148: '▁아직까지', 2149: '▁크게', 2150: '▁불만', 2151: '2%', 2152: '▁남북', 2153: '▁미래', 2154: '▁탑승', 2155: '▁있지', 2156: '▁필', 2157: '▁북핵', 2158: '▁끝', 2159: '▁고용', 2160: '찰', 2161: '▁설', 2162: '▁업체', 2163: '▁접', 2164: '▁받지', 2165: '▁정신', 2166: '▁나가', 2167: '수를', 2168: 'lo', 2169: '▁일어나', 2170: '▁폭력사태', 2171: '▁증', 2172: '▁특', 2173: '▁이곳', 2174: '▁남한', 2175: '되었습니다', 2176: '볼', 2177: '3%', 2178: '방송', 2179: '▁가정', 2180: '▁인터뷰', 2181: '▁중앙', 2182: '▁저장', 2183: '▁심장', 2184: 'U', 2185: '▁계', 2186: '햄', 2187: '▁부정', 2188: '▁사람은', 2189: '▁뇌', 2190: '▁임시', 2191: '▁중국은', 2192: '자와', 2193: '일부터', 2194: '되었다고', 2195: '▁이집트', 2196: '대의', 2197: '▁효과', 2198: '▁표현', 2199: '▁따라', 2200: '▁시민', 2201: 'la', 2202: '▁연결', 2203: '▁허가', 2204: '▁베네수엘라', 2205: '녀', 2206: '▁아니라고', 2207: '▁사람들을', 2208: '롭', 2209: '▁민주주의', 2210: '▁따른', 2211: '▁비밀', 2212: '견', 2213: '기관', 2214: '델', 2215: 'ut', 2216: '▁내리', 2217: '▁관계자', 2218: '충', 2219: '▁측', 2220: '▁위해서는', 2221: '▁홀', 2222: '▁마크', 2223: '효', 2224: '▁목요일', 2225: '▁교도소', 2226: '▁여론', 2227: '서는', 2228: '성이', 2229: '존', 2230: '▁때까지', 2231: '▁정부와', 2232: '으로서', 2233: '▁판', 2234: '칭', 2235: '얼', 2236: '▁사이트', 2237: '▁검토', 2238: '▁시카고', 2239: '▁최악', 2240: '▁모델', 2241: '▁권력', 2242: '▁쿠바', 2243: '▁받게', 2244: '▁적이', 2245: '▁여사', 2246: '▁실패', 2247: '▁팬들', 2248: '리자', 2249: '이지만', 2250: '욕', 2251: '시아', 2252: '▁여기', 2253: '▁과정', 2254: '▁합니다', 2255: '▁2001', 2256: '▁임기', 2257: '자로', 2258: '▁만들', 2259: '▁비판', 2260: '었던', 2261: '으', 2262: 'op', 2263: '폰', 2264: '▁장면', 2265: '▁높이', 2266: '▁프라이머리', 2267: '▁무장단체', 2268: '▁분야', 2269: '▁슬', 2270: '▁가졌다', 2271: '▁깊', 2272: '몬', 2273: '▁웨', 2274: '▁내부', 2275: '낸', 2276: '▁매년', 2277: '숙', 2278: '▁사는', 2279: '▁g', 2280: '▁상원의원이', 2281: '▁유명', 2282: '▁못하고', 2283: '▁진출', 2284: '▁이해', 2285: '▁해리', 2286: '▁사라', 2287: '▁병사', 2288: '만이', 2289: '순', 2290: '▁동료', 2291: '▁입원', 2292: '▁수색', 2293: 'ist', 2294: '인들이', 2295: '되면서', 2296: '▁완', 2297: '▁백', 2298: '그는', 2299: '▁계획이다', 2300: '▁철', 2301: '▁일요일', 2302: '▁분쟁', 2303: '▁사무실', 2304: '▁두고', 2305: '북한', 2306: '▁거대', 2307: '▁예측', 2308: '▁자체', 2309: '▁뿐', 2310: '▁넣', 2311: '▁공격으로', 2312: '▁시행', 2313: '▁언급했다', 2314: '▁be', 2315: '▁보냈다', 2316: '헌', 2317: '▁강력한', 2318: '▁보건', 2319: '▁필리핀', 2320: '▁이끄는', 2321: '▁아랍', 2322: '▁국립', 2323: '인들은', 2324: '▁선박', 2325: '▁수많은', 2326: '▁유권자들', 2327: '▁분석', 2328: '▁소방', 2329: '▁도움이', 2330: '▁나왔다', 2331: 'ers', 2332: '▁들어가', 2333: '▁밝혀', 2334: '▁못한', 2335: '▁민', 2336: '찬', 2337: '치는', 2338: '거래', 2339: '▁라이', 2340: '▁버지니아', 2341: '다면', 2342: '쟁', 2343: '인지', 2344: 'ow', 2345: '▁밝히지', 2346: '▁지도자들', 2347: '▁달리', 2348: '▁장기', 2349: '통신', 2350: '‘', 2351: '▁보고서는', 2352: '▁사항', 2353: '느', 2354: '좌', 2355: '▁오른', 2356: '4%', 2357: '▁벤', 2358: '▁의료', 2359: '▁학', 2360: '▁향해', 2361: '▁바다', 2362: '▁강한', 2363: '▁주가', 2364: '▁한반도', 2365: '▁관계자들', 2366: '-1', 2367: '▁보여', 2368: '▁선두', 2369: '▁폐', 2370: '기간', 2371: '▁형', 2372: '금을', 2373: '▁떠나', 2374: '▁되고', 2375: '▁이루', 2376: '▁항공기', 2377: '법원', 2378: '▁의장', 2379: '다른', 2380: '▁수익', 2381: '객', 2382: '▁전력', 2383: '봉', 2384: '논', 2385: '냉', 2386: '▁확인했다', 2387: '겠다', 2388: '▁과학', 2389: '▁관광객', 2390: '▁상대', 2391: '▁군대', 2392: '지에', 2393: '▁심리', 2394: 'ment', 2395: '철', 2396: '▁비슷', 2397: '딘', 2398: '▁빠져', 2399: '▁흑인', 2400: '▁긴급', 2401: '▁힘들', 2402: '▁누구', 2403: '▁약물', 2404: '주의자', 2405: '▁가져', 2406: 'ot', 2407: '▁정부에', 2408: '▁작년', 2409: '람', 2410: '▁UN', 2411: 'id', 2412: '스크', 2413: '▁제거', 2414: '▁나머지', 2415: '▁칸', 2416: '▁저지', 2417: '▁종교', 2418: '▁전략', 2419: '▁주지사는', 2420: '▁레이', 2421: '▁지진', 2422: '▁올랐다', 2423: '▁사우디', 2424: '▁전자', 2425: '▁맺', 2426: '▁범인', 2427: '이라', 2428: '▁고통', 2429: '▁소년', 2430: '▁부상자', 2431: '▁막기', 2432: '▁유권자', 2433: '▁목숨', 2434: '▁숨지고', 2435: '경찰', 2436: '▁육', 2437: '▁소재', 2438: '▁선수들', 2439: '▁소리', 2440: '▁소비자', 2441: '여명이', 2442: '▁희생자', 2443: '음을', 2444: '▁도쿄', 2445: '▁다음달', 2446: '▁만든', 2447: '▁오르', 2448: '▁진행되', 2449: '▁갖', 2450: '▁1000', 2451: '▁대사', 2452: '관리', 2453: '▁대중', 2454: '▁O', 2455: '싱', 2456: '▁정상회담', 2457: '▁분리', 2458: '▁국방장관', 2459: '르는', 2460: 'ig', 2461: '▁시기', 2462: '▁감사', 2463: '▁혼', 2464: '랄', 2465: '▁제임스', 2466: '▁어느', 2467: '▁근무', 2468: '섬', 2469: '▁제외', 2470: '▁악화', 2471: '▁북한에', 2472: '▁받았다고', 2473: '▁없었', 2474: '▁사람들에게', 2475: 'ck', 2476: '행위', 2477: '▁주장하고', 2478: '▁가능한', 2479: 've', 2480: '▁있다며', 2481: 'ive', 2482: '▁법정', 2483: '▁올리', 2484: 'ce', 2485: '베이', 2486: '▁준', 2487: '리가', 2488: '▁싶다', 2489: '▁외무부', 2490: '▁경찰관', 2491: '▁충격', 2492: '▁출발', 2493: '▁총기', 2494: '▁만큼', 2495: '▁인질들', 2496: '▁착륙', 2497: '위에', 2498: '▁질문에', 2499: '▁이라크전', 2500: '▁넘는', 2501: '▁집행', 2502: '▁노조', 2503: '▁항', 2504: '취', 2505: '분기', 2506: '▁아니', 2507: '▁현대', 2508: 'Ch', 2509: '만한', 2510: '▁적어도', 2511: '▁뛰어', 2512: '▁정도로', 2513: '한다면', 2514: '▁군부', 2515: '자금', 2516: '▁끝에', 2517: '널', 2518: '▁풍', 2519: '▁것이라', 2520: '▁작가', 2521: '▁되었다', 2522: '▁동의', 2523: '▁붙', 2524: '▁인사', 2525: '▁곳에서', 2526: '▁보낸', 2527: '되며', 2528: '안에', 2529: '척', 2530: '마다', 2531: '▁여당', 2532: '▁불안', 2533: '▁자국', 2534: '▁권', 2535: '▁가까', 2536: '사회', 2537: '▁어떠한', 2538: '▁허리케인', 2539: '들도', 2540: '▁작업을', 2541: '▁수천', 2542: '▁의혹', 2543: '▁패배', 2544: '40', 2545: '스와', 2546: '▁공장', 2547: '선거', 2548: '▁후에', 2549: 'ap', 2550: '장관', 2551: '▁접촉', 2552: '▁떠', 2553: '▁동결', 2554: '▁중에', 2555: '▁직원들', 2556: '▁직', 2557: '▁수천명', 2558: '▁공공', 2559: '였습니다', 2560: '▁발생했다고', 2561: '▁하기', 2562: 'Y', 2563: '황', 2564: '▁무엇', 2565: '씩', 2566: '▁전문가', 2567: '▁일자리', 2568: '▁보장', 2569: '▁전기', 2570: '▁출마', 2571: '▁되지', 2572: '어질', 2573: '둔', 2574: '▁다이애나', 2575: '▁양측', 2576: '70', 2577: '▁여성들', 2578: '▁st', 2579: '▁끌어', 2580: '▁없어', 2581: '▁확대', 2582: '▁모른다', 2583: '▁폭풍', 2584: '▁압박', 2585: '▁유명한', 2586: '▁승객', 2587: '▁삶', 2588: '▁여성이', 2589: '▁나와', 2590: '귀', 2591: '▁이달', 2592: '▁푸', 2593: '▁발생해', 2594: 'all', 2595: '컵', 2596: '▁증언', 2597: '▁입고', 2598: '▁300', 2599: '스톤', 2600: '▁고문', 2601: '▁합의했다', 2602: '대통령', 2603: '▁35', 2604: '스키', 2605: '▁유로', 2606: '▁쉬', 2607: '▁지속', 2608: '▁합', 2609: '▁방문한', 2610: '▁사상', 2611: '빙', 2612: '▁어려움', 2613: '▁환', 2614: '7%', 2615: '▁유죄', 2616: '니스', 2617: '▁사진을', 2618: '▁완화', 2619: '▁찰스', 2620: '겠다고', 2621: '▁구호', 2622: 'ay', 2623: '▁피해자', 2624: '▁자연', 2625: 'ly', 2626: 'J', 2627: '▁주의', 2628: '▁등의', 2629: '▁동원', 2630: '▁오바마가', 2631: '이것은', 2632: '▁외무장관', 2633: '▁확신', 2634: '▁아주', 2635: '▁마리', 2636: '▁수백', 2637: '▁미군이', 2638: '▁작성', 2639: '▁묻', 2640: '▁지배', 2641: '▁대표는', 2642: '▁십', 2643: '기에', 2644: '▁군인', 2645: '▁듯', 2646: '▁로켓', 2647: '▁소말리아', 2648: '▁목소리', 2649: '▁소녀', 2650: '었으며', 2651: '▁경매', 2652: '▁홍보', 2653: 'est', 2654: '스러운', 2655: '▁것인지', 2656: '▁지도자인', 2657: '▁대해서', 2658: '▁병원에', 2659: '였다고', 2660: '테러', 2661: '해졌다', 2662: '▁끝나', 2663: '▁마음', 2664: '마일', 2665: '▁바라', 2666: '백만', 2667: '▁주민들이', 2668: '▁않았지만', 2669: '▁시상식', 2670: '▁능력', 2671: '▁대화', 2672: '▁전반', 2673: '▁바람', 2674: '근', 2675: '▁체포됐다', 2676: '▁가질', 2677: '▁그리스', 2678: '센트', 2679: '▁존스', 2680: '원은', 2681: '▁화', 2682: '▁현장', 2683: '▁시간이', 2684: '▁연장', 2685: 'j', 2686: '▁신뢰', 2687: '월부터', 2688: '▁평양', 2689: '▁나오', 2690: '▁숨진', 2691: '운동', 2692: '▁총재', 2693: '▁등록', 2694: '▁심각', 2695: '▁적용', 2696: '▁모르', 2697: '▁망명', 2698: '주는', 2699: '▁의원들', 2700: '▁해제', 2701: '▁공군', 2702: '▁언론은', 2703: '부는', 2704: '징', 2705: '▁승', 2706: '켓', 2707: '균', 2708: '▁게이츠', 2709: '▁취임', 2710: '▁머물', 2711: '▁연구소', 2712: '▁절차', 2713: '▁카운티', 2714: '▁티', 2715: '왔', 2716: '타임', 2717: '막', 2718: '▁관련해', 2719: '힐', 2720: '표를', 2721: '▁카메라', 2722: '▁대법원', 2723: '▁사건은', 2724: '옥', 2725: '▁걱정', 2726: '▁프로젝트', 2727: '싼', 2728: '▁말레이시아', 2729: '▁휴대폰', 2730: '▁트럭', 2731: '▁못하', 2732: '▁법적', 2733: '슨은', 2734: '조치', 2735: '▁상당', 2736: '▁존재', 2737: '드로', 2738: '▁잔', 2739: '▁목표로', 2740: '▁아베', 2741: '▁서명', 2742: '▁그것은', 2743: '▁반대하는', 2744: '▁강력', 2745: '했는데', 2746: '▁유세', 2747: '▁기억', 2748: '▁전문', 2749: '쇼', 2750: '▁소비', 2751: '▁최고의', 2752: '럽', 2753: '▁보이는', 2754: '닝', 2755: '▁느끼', 2756: '▁청와대', 2757: '▁아무런', 2758: '▁여왕', 2759: '▁물론', 2760: '▁오래', 2761: '▁신용', 2762: '▁당선인', 2763: '▁크리스', 2764: '▁블', 2765: '60', 2766: '영화', 2767: '▁젊은', 2768: '틴', 2769: '갑', 2770: '▁힐튼', 2771: '▁순간', 2772: '▁항상', 2773: '었고', 2774: '스턴', 2775: '▁영어', 2776: '제도', 2777: '도시', 2778: '중국', 2779: 'The', 2780: '▁등을', 2781: '▁운전', 2782: '▁술', 2783: '▁바이', 2784: '▁신화통신', 2785: '웰', 2786: '▁마드리드', 2787: '▁촉구', 2788: '▁추정', 2789: '6%', 2790: '▁옷', 2791: '▁즐', 2792: '으려', 2793: '▁이라크에', 2794: '▁사기', 2795: '장에', 2796: '#', 2797: '활동', 2798: '연합', 2799: '셀', 2800: '정책', 2801: '▁들고', 2802: '▁수석', 2803: '텐', 2804: '젤', 2805: '▁밝혀지지', 2806: '▁지하', 2807: '▁운행', 2808: '▁오픈', 2809: '▁투입', 2810: '세트', 2811: '▁지역을', 2812: '▁경제적', 2813: '▁놓고', 2814: '▁신청', 2815: '물을', 2816: '▁자주', 2817: '▁그린', 2818: '▁수용', 2819: '▁박물관', 2820: '11', 2821: 'ia', 2822: '념', 2823: 'X', 2824: '젠', 2825: '▁법률', 2826: '▁국제사회', 2827: '▁상징', 2828: '관은', 2829: '▁고래', 2830: '▁법안을', 2831: '75', 2832: '▁도중', 2833: '19', 2834: '▁해야', 2835: '제를', 2836: '시설', 2837: '궁', 2838: '완', 2839: '▁만약', 2840: '뉴', 2841: '공격', 2842: '럴', 2843: '▁챔피언', 2844: '▁나타나', 2845: '▁수니파', 2846: '▁이수지', 2847: '▁판단', 2848: '▁집권', 2849: '▁시작된', 2850: '대표', 2851: '▁도전', 2852: '▁좀', 2853: '▁선거에서', 2854: '▁비상', 2855: '스코', 2856: '▁프', 2857: '▁확산', 2858: '▁굴', 2859: '▁좋아', 2860: '당한', 2861: '왕', 2862: '▁있음을', 2863: '▁본부', 2864: '접', 2865: '▁90', 2866: '80', 2867: '뤄', 2868: '팅', 2869: '▁얼굴', 2870: '▁미군은', 2871: '▁베컴', 2872: '▁토론', 2873: '▁작', 2874: '▁연속', 2875: '▁이전에', 2876: '국장은', 2877: '▁헌', 2878: '▁집계', 2879: '▁피터', 2880: '▁비자', 2881: '▁벌금', 2882: ')/', 2883: '▁윌리엄', 2884: '▁조건', 2885: '▁회담에서', 2886: '▁수반', 2887: '▁동시', 2888: '▁늘어', 2889: '으면', 2890: '닐', 2891: '▁올메르트', 2892: '▁잉글랜드', 2893: '▁아파트', 2894: '▁억류', 2895: '▁애플', 2896: '로써', 2897: '▁전까지', 2898: '▁부패', 2899: '▁구입', 2900: '▁타이', 2901: '▁정말', 2902: '▁진정', 2903: '▁가수', 2904: '해진', 2905: '학교', 2906: '었지만', 2907: '회사인', 2908: '만명이', 2909: '▁연설에서', 2910: '▁기회', 2911: '▁스포츠', 2912: '달러를', 2913: '산업', 2914: '▁자녀', 2915: '▁물질', 2916: '위로', 2917: '▁찬성', 2918: '▁영상', 2919: '▁분노', 2920: '장관은', 2921: '▁전통', 2922: '▁소식통', 2923: '쪽', 2924: '▁차기', 2925: '▁연합군', 2926: '▁부문', 2927: '▁사상자', 2928: '전에', 2929: '▁겪고', 2930: '▁크리스마스', 2931: '▁직후', 2932: '▁확실', 2933: '▁마무리', 2934: '들로', 2935: '▁깨', 2936: '▁정부군', 2937: '▁민주', 2938: '자들의', 2939: '▁대형', 2940: 'te', 2941: '▁개의', 2942: '▁체포했다', 2943: '▁한미', 2944: '▁낮', 2945: '▁땅', 2946: 'V', 2947: '▁곳에', 2948: '▁강조', 2949: '▁블레어', 2950: '▁블랙', 2951: '▁주민들은', 2952: '▁머', 2953: '보호', 2954: '니는', 2955: '시킨', 2956: '트리', 2957: '▁핵심', 2958: '▁대처', 2959: '700', 2960: '▁외교부', 2961: '▁모여', 2962: '▁축하', 2963: '▁수정', 2964: 'cat', 2965: '▁한국은', 2966: '▁마감', 2967: '드리', 2968: '킬', 2969: '▁있는지', 2970: '▁선포', 2971: '윈', 2972: '▁고양이', 2973: '▁시대', 2974: '▁늘', 2975: '▁임신', 2976: 'ver', 2977: '▁휴전', 2978: '▁당했다', 2979: '▁경계', 2980: '▁사살', 2981: '▁밝히', 2982: '▁동맹', 2983: '▁가능', 2984: '▁영국의', 2985: '▁구제', 2986: '놓', 2987: '▁찬', 2988: '▁협의', 2989: '▁비상사태', 2990: '라운드', 2991: '▁언제', 2992: '▁몇몇', 2993: '▁스스로', 2994: '▁놀', 2995: '▁원자로', 2996: '▁산불', 2997: '트로', 2998: '▁그러', 2999: '▁나토', 3000: '▁때문', 3001: '했는지', 3002: '▁병원에서', 3003: '▁con', 3004: '▁씨는', 3005: '▁약간', 3006: '어진', 3007: '▁요원', 3008: '▁맞아', 3009: '▁이밖에', 3010: '▁빠른', 3011: '▁클럽', 3012: '▁탁신', 3013: '▁보이고', 3014: '▁빠르', 3015: '몰', 3016: '▁BBC', 3017: '▁처벌', 3018: '▁감축', 3019: '▁난민', 3020: '▁소지', 3021: '▁최신', 3022: '▁성인', 3023: '▁노출', 3024: '니아', 3025: '▁소장', 3026: '▁팬', 3027: '▁녹', 3028: '▁무사', 3029: '상의', 3030: 'mo', 3031: '▁문서', 3032: '▁유사', 3033: '▁풀', 3034: '▁실시된', 3035: '▁헬', 3036: '군이', 3037: '▁보안관', 3038: '▁높다', 3039: '▁떨어져', 3040: '▁협정', 3041: '▁할리우드', 3042: '▁일어난', 3043: '▁업무', 3044: '▁고속도로', 3045: '함으로써', 3046: '▁절반', 3047: '암', 3048: '사의', 3049: '특', 3050: '▁엔', 3051: '끼', 3052: '▁보이지', 3053: '▁단지', 3054: '▁조금', 3055: '▁현상', 3056: '▁이란이', 3057: '▁차지했다', 3058: '▁대책', 3059: '▁이틀', 3060: '▁트레', 3061: '▁돌아가', 3062: '▁케', 3063: '필', 3064: '원이', 3065: '였으며', 3066: '▁받', 3067: '이었다고', 3068: '롤', 3069: '▁스피어스', 3070: '겐', 3071: '▁코소보', 3072: 'joins', 3073: '혹', 3074: '▁나타냈다', 3075: '▁오랜', 3076: '하길', 3077: '▁조작', 3078: 'ies', 3079: '▁내각', 3080: '▁중이다', 3081: '▁알려지', 3082: '▁강타', 3083: '▁발생할', 3084: '선수', 3085: '▁가량', 3086: '▁나무', 3087: '▁실수', 3088: '▁압', 3089: '▁의원이', 3090: '▁치안', 3091: '월까지', 3092: '스카', 3093: '택', 3094: '▁아마', 3095: '국인', 3096: '▁받기', 3097: '▁컨', 3098: '▁이와같', 3099: '▁북한과', 3100: '▁대화를', 3101: '렉', 3102: '▁찾기', 3103: '▁크리스토퍼', 3104: '▁샤리프', 3105: '▁민병대', 3106: 'ight', 3107: 'ak', 3108: '▁이미지', 3109: '▁결론', 3110: '▁개정', 3111: '▁부인했다', 3112: '▁사망했으며', 3113: '▁벨', 3114: '▁낮은', 3115: '▁이송', 3116: '▁장군', 3117: '화를', 3118: '▁윌리엄스', 3119: '▁지켜', 3120: '▁그에게', 3121: '▁70', 3122: '▁실제', 3123: '▁놀라', 3124: '▁보좌관', 3125: '▁않겠다', 3126: '▁초기', 3127: '헤', 3128: '▁아카데미', 3129: '▁오랫동안', 3130: '꺼', 3131: 'cnn', 3132: '▁개봉', 3133: '▁공원', 3134: '▁태양', 3135: '▁그들', 3136: 'ht', 3137: '▁Korean', 3138: '지르', 3139: '▁확실히', 3140: '지역에서', 3141: '▁매일', 3142: '▁노래', 3143: '뉴스', 3144: '▁의심', 3145: '▁원조', 3146: '▁납', 3147: '▁알게', 3148: '▁죄', 3149: '▁소식을', 3150: '압', 3151: '▁그렇게', 3152: '▁지지율', 3153: '▁대표팀', 3154: '▁개입', 3155: '▁위기에', 3156: '▁추방', 3157: '▁고든', 3158: '력이', 3159: '▁충', 3160: '즈는', 3161: '▁상황에서', 3162: '▁후반', 3163: '▁니', 3164: '▁이용해', 3165: '▁보기', 3166: '▁수백명', 3167: '▁케이', 3168: '▁말하고', 3169: '▁약속했다', 3170: '해주', 3171: '▁해당', 3172: '상태', 3173: 'tp', 3174: '딩', 3175: '덕', 3176: '▁나섰다', 3177: '▁네덜란드', 3178: '▁집에서', 3179: '▁다쳤다', 3180: '▁기자회견', 3181: '▁화성', 3182: '▁지도', 3183: '▁민간', 3184: '▁보유', 3185: '한국', 3186: '▁소식통은', 3187: '▁기반', 3188: '▁블로그에', 3189: '▁원유', 3190: '▁목사', 3191: '▁트', 3192: '▁왔', 3193: '▁손상', 3194: '▁둔', 3195: '▁이혼', 3196: '▁지키', 3197: '▁마르', 3198: '▁증가했다', 3199: '▁수백만', 3200: '물이', 3201: '▁단어', 3202: '▁월드컵', 3203: '▁대통령에게', 3204: '▁경찰과', 3205: '▁쿠르드', 3206: '▁확정', 3207: '▁무가베', 3208: '▁먼저', 3209: '://', 3210: '▁하워드', 3211: '▁부르', 3212: '▁보험', 3213: '▁담배', 3214: '풍', 3215: '▁성적', 3216: '25', 3217: '▁예산', 3218: '▁탐사', 3219: '▁즉', 3220: '▁수는', 3221: '▁시점', 3222: 'up', 3223: '▁실종', 3224: '▁희생', 3225: '▁후보에', 3226: '▁150', 3227: '▁기회를', 3228: 'TA', 3229: '▁모습', 3230: '▁참석한', 3231: '▁방해', 3232: '▁찾는', 3233: '▁캠프', 3234: '▁세르비아', 3235: 'Total', 3236: 'code', 3237: '겠지만', 3238: '▁배럴', 3239: '▁있었으며', 3240: '▁철회', 3241: '▁속에', 3242: '▁사례', 3243: '▁알아', 3244: '▁베이', 3245: '▁후보로', 3246: 'TV', 3247: '우스', 3248: '▁함', 3249: '▁대북', 3250: '▁크기', 3251: '▁연구진', 3252: '▁휴가', 3253: '▁대체', 3254: '사태', 3255: '▁날씨', 3256: '▁증명', 3257: '▁박사', 3258: '▁금리', 3259: '▁외교관', 3260: '▁요구한', 3261: '▁조정', 3262: '▁구성된', 3263: '주년', 3264: '탕', 3265: '▁쥐', 3266: '▁곤', 3267: '▁못할', 3268: '▁우크라이나', 3269: '▁펜실베이니아', 3270: '▁태풍', 3271: '▁알려져', 3272: '▁대기', 3273: '하려고', 3274: '▁통합', 3275: '▁위험한', 3276: '웨이', 3277: '됐지만', 3278: '▁사용하는', 3279: '▁위원장은', 3280: '▁교체', 3281: '▁연루', 3282: '▁그것', 3283: '줬다', 3284: '▁보상', 3285: '달하는', 3286: '항공', 3287: '▁지급', 3288: '버그', 3289: '▁명단', 3290: '▁45', 3291: '▁있는데', 3292: '▁남성이', 3293: '▁의한', 3294: '▁데이', 3295: '▁대표단', 3296: '▁2009', 3297: '촌', 3298: '▁모하메드', 3299: '▁스티븐', 3300: '▁침체', 3301: '▁피랍', 3302: '파운드', 3303: '▁1999', 3304: '▁진입', 3305: '▁기후', 3306: '▁손실', 3307: '위원회는', 3308: '▁휘', 3309: '▁#', 3310: '명에', 3311: '▁벌인', 3312: '▁이행', 3313: '▁재산', 3314: '▁다수', 3315: '자들에게', 3316: '▁중국이', 3317: '▁홍수', 3318: '▁폐기', 3319: '▁니콜라', 3320: '▁실시한', 3321: '▁시작됐다', 3322: '▁웹사이트에', 3323: '▁400', 3324: '▁빨리', 3325: '▁정확한', 3326: '몽', 3327: '▁조종사', 3328: '▁마이크', 3329: '▁분위기', 3330: '▁질병', 3331: '필드', 3332: '▁경찰서', 3333: '▁해변', 3334: '▁그래', 3335: '▁진술', 3336: '▁견', 3337: '▁삼성', 3338: '브라', 3339: '▁궁', 3340: '▁분명', 3341: '▁영향력', 3342: '▁어린', 3343: '▁전역', 3344: '▁재정', 3345: '▁진전', 3346: '라스', 3347: '▁표시', 3348: '▁NASA', 3349: '데이', 3350: '▁32', 3351: '닉', 3352: '▁얻었다', 3353: '쯤', 3354: '▁스티브', 3355: '▁부동산', 3356: '▁엄마', 3357: '▁흔들', 3358: '▁규제', 3359: '▁국왕', 3360: '▁군인들', 3361: '▁기자는', 3362: '▁인정했다', 3363: '짜리', 3364: '▁특사', 3365: '으로써', 3366: '▁현장에', 3367: '▁그중', 3368: '사인', 3369: '▁들었다', 3370: '▁당선자', 3371: '같은', 3372: '▁사무총장은', 3373: '▁저녁', 3374: '▁장난감', 3375: '▁자살폭탄테러', 3376: '▁콘돌', 3377: '▁대답', 3378: 'mp', 3379: '어야', 3380: '▁응', 3381: '▁테러로', 3382: '세계', 3383: '경제', 3384: '▁긴', 3385: '참', 3386: '▁알려', 3387: '▁위원장', 3388: '▁통치', 3389: '▁하락했다', 3390: '▁충분', 3391: '▁무력', 3392: '▁스테', 3393: '▁위해서', 3394: '라도', 3395: '▁왜', 3396: '▁말한', 3397: 'ant', 3398: '▁있었', 3399: '▁태도', 3400: '▁승무원', 3401: '멘', 3402: '렛', 3403: '▁줄어들', 3404: '▁아바스', 3405: '▁며칠', 3406: '▁형태', 3407: '▁가격이', 3408: '▁장애', 3409: 'ill', 3410: '▁예방', 3411: '▁이웃', 3412: '▁인식', 3413: '▁근처', 3414: '▁기울', 3415: '대에', 3416: '▁지도부', 3417: '▁않기', 3418: '15', 3419: '잔', 3420: '카르', 3421: '▁도착했다', 3422: '▁아부', 3423: 'tr', 3424: '사람', 3425: '▁시청', 3426: '혼', 3427: '프라', 3428: '▁토요일', 3429: '▁네팔', 3430: '2009.06', 3431: '개월간', 3432: '2008.0', 3433: 'ry', 3434: '▁문제로', 3435: '▁최소한', 3436: '푸', 3437: '▁떨어졌다', 3438: '▁살해한', 3439: '폴', 3440: '휴', 3441: '▁방어', 3442: '▁않으면', 3443: '▁강도', 3444: '▁색', 3445: '▁자신들이', 3446: '▁수사관', 3447: '▁아직도', 3448: '▁공정', 3449: '졌으며', 3450: '▁하며', 3451: '▁콘', 3452: '▁징역', 3453: '▁청소년', 3454: '▁시리즈', 3455: '▁테이프', 3456: '▁파타', 3457: '더라도', 3458: '▁노대통령', 3459: '▁점령', 3460: '▁FBI', 3461: '웨', 3462: '▁반발', 3463: '▁지출', 3464: '▁시민들', 3465: '▁입국', 3466: '▁돼', 3467: '▁낙', 3468: '▁무시', 3469: '▁기타', 3470: '▁전망이', 3471: '▁송', 3472: '▁생명', 3473: '44', 3474: '▁지휘', 3475: '▁일본은', 3476: ';', 3477: '▁가자', 3478: '▁순찰', 3479: '업자', 3480: '▁장악', 3481: '▁노벨', 3482: '군은', 3483: '▁형성', 3484: 'de', 3485: '▁만들었다', 3486: '▁내린', 3487: 'ity', 3488: '▁결승', 3489: '▁사용할', 3490: '구역', 3491: '소를', 3492: '되면', 3493: '단은', 3494: '잉', 3495: '▁대상', 3496: 'ess', 3497: '▁쉽게', 3498: '▁근거', 3499: '▁침해', 3500: '▁탈출', 3501: '▁솔', 3502: '▁살아', 3503: '▁타격', 3504: '▁감행', 3505: '▁즉시', 3506: '혔다', 3507: '주간', 3508: '▁통화', 3509: '시티', 3510: '걸', 3511: '65', 3512: '계획', 3513: '오바마', 3514: '▁요구하는', 3515: '▁싸', 3516: '▁상황에', 3517: '▁당한', 3518: '▁오하이오', 3519: '64', 3520: '▁끼', 3521: '▁꾸', 3522: '덴', 3523: '州', 3524: '셰', 3525: '▁나타내', 3526: '진다', 3527: '▁한번', 3528: '▁유럽연합', 3529: '▁연락', 3530: '▁실망', 3531: '▁직면', 3532: '▁복제', 3533: '▁기준', 3534: '▁몰아', 3535: '▁추측', 3536: '▁사령관', 3537: '▁웹', 3538: '▁전문가들', 3539: '▁것처럼', 3540: 'age', 3541: '리오', 3542: '▁주에서', 3543: '▁의문', 3544: '그룹', 3545: '77', 3546: '▁방식', 3547: '준다', 3548: '▁소수', 3549: 'der', 3550: '대회', 3551: '헨', 3552: '딜', 3553: 'Z', 3554: '▁엘리자베스', 3555: '램', 3556: '픽', 3557: '▁한국과', 3558: '▁폭격', 3559: '▁선거운동', 3560: '▁만족', 3561: '▁의장은', 3562: '▁지지자', 3563: '▁복용', 3564: '▁상품', 3565: '▁남북한', 3566: '▁연관', 3567: '▁중요하다', 3568: '49', 3569: '▁토니', 3570: '▁우주선', 3571: 'ne', 3572: '주에서', 3573: '▁공화당의', 3574: '달러에', 3575: '곡', 3576: '린다', 3577: '400', 3578: '▁차관', 3579: '▁봉', 3580: '번째로', 3581: '53', 3582: '▁소프트웨어', 3583: '▁협조', 3584: '컬', 3585: '▁활용', 3586: '▁스위스', 3587: '▁론스타', 3588: '▁잭슨', 3589: '된다고', 3590: '▁말라', 3591: '지수', 3592: '▁예술', 3593: '▁끝난', 3594: '▁In', 3595: '▁화산', 3596: '▁구글', 3597: '▁육군', 3598: '▁MS', 3599: 'ear', 3600: '▁짐', 3601: '▁속에서', 3602: '국민', 3603: '▁대출', 3604: '쳤', 3605: '▁현장에서', 3606: '▁회담은', 3607: '▁자산', 3608: '들어', 3609: '어스', 3610: '▁결과가', 3611: '육', 3612: '▁주로', 3613: '▁실제로', 3614: '괴', 3615: '▁총선에서', 3616: '원들이', 3617: '▁매장', 3618: '▁밝', 3619: '▁이르는', 3620: '▁핵실험', 3621: '▁페르베', 3622: '▁김정일', 3623: '▁갖추', 3624: '▁축제', 3625: '함에따라', 3626: '베리', 3627: '▁자격', 3628: '▁\"\"', 3629: '▁대사는', 3630: '52', 3631: '▁신경', 3632: 'ma', 3633: '▁우선', 3634: '▁영국군', 3635: '▁킹', 3636: '46', 3637: '▁홈', 3638: '▁장치', 3639: '▁일부는', 3640: '▁시위자들', 3641: '▁모습이', 3642: '닌', 3643: '▁지적', 3644: '▁잘못', 3645: '▁일으키', 3646: '▁기독교', 3647: '12', 3648: '▁사이클론', 3649: '▁되면', 3650: '▁1997', 3651: 'tion', 3652: '드라', 3653: '려고', 3654: '▁t', 3655: '▁등이', 3656: '▁귀국', 3657: '▁결혼식', 3658: '▁공식적으로', 3659: '▁가는', 3660: '▁신속', 3661: '▁유리', 3662: '▁조사하고', 3663: '▁동물원', 3664: '▁아래', 3665: '▁상점', 3666: '사고', 3667: '▁관광객들', 3668: '▁주는', 3669: '▁지연', 3670: '▁Iraq', 3671: '▁뉴질랜드', 3672: '▁헤럴드', 3673: '▁매들린', 3674: '▁North', 3675: 'qu', 3676: '▁1998', 3677: '▁내놓', 3678: '▁체포된', 3679: '▁구체적인', 3680: '▁받아들이', 3681: '▁아르헨티나', 3682: '득', 3683: '▁파손', 3684: '대사', 3685: '원들은', 3686: '▁요구를', 3687: '▁걸어', 3688: '▁총리와', 3689: '비치', 3690: '▁포함되어', 3691: '칸', 3692: '생활', 3693: 'ho', 3694: '개발', 3695: '▁길이', 3696: '정보', 3697: '▁CBS', 3698: '▁드러났다', 3699: '▁외곽', 3700: '▁이끌어', 3701: '▁해고', 3702: '600', 3703: '7000', 3704: '▁있으나', 3705: '▁올렸다', 3706: '▁같', 3707: '▁의료진', 3708: '▁가입', 3709: '▁압둘라', 3710: '▁수용소', 3711: 'ine', 3712: '▁기구', 3713: '▁나달', 3714: '장인', 3715: '▁지지하는', 3716: '▁해산', 3717: '리그', 3718: '▁인하', 3719: '▁마치', 3720: '▁대단', 3721: '▁사무', 3722: '▁중이라고', 3723: '▁r', 3724: '만큼', 3725: '둘', 3726: '▁얘기', 3727: '▁캠페인', 3728: '`', 3729: '켄', 3730: 'PPP', 3731: '▁가르', 3732: '▁빛', 3733: '▁V', 3734: '▁벗어나', 3735: '▁변경', 3736: '▁성화', 3737: '▁강경', 3738: '▁보석', 3739: '▁즐기', 3740: '800', 3741: '▁이곳에서', 3742: '▁성공했다', 3743: 'BA', 3744: '▁이민', 3745: '▁의도', 3746: '▁권고', 3747: '▁중국과', 3748: '객들', 3749: '캐', 3750: '혁', 3751: '▁리버풀', 3752: '▁싱가포르', 3753: '▁좋지', 3754: '▁케네디', 3755: '꾼', 3756: '쾌', 3757: '▁답변', 3758: '▁달성', 3759: '▁루이스', 3760: '▁행정', 3761: '▁주인공', 3762: '▁불참', 3763: '▁국제적', 3764: '▁에이즈', 3765: '▁폭행', 3766: '▁지진으로', 3767: 'kg', 3768: '▁만드는', 3769: '▁기자들', 3770: '▁대부분은', 3771: '▁민주화', 3772: '▁상업', 3773: '▁관여', 3774: '▁비교', 3775: '▁실행', 3776: '▁영국에서', 3777: '▁투자자들', 3778: '▁경선에서', 3779: '▁포함해', 3780: '▁학대', 3781: '려는', 3782: '▁등장', 3783: '▁해결하기', 3784: '▁소개', 3785: '39', 3786: '▁중요', 3787: '▁어린이들', 3788: '▁곳으로', 3789: '▁주석', 3790: '▁혹', 3791: '탁', 3792: 'ard', 3793: '47', 3794: '▁전해', 3795: '뜨', 3796: '렬', 3797: '훈', 3798: '▁DNA', 3799: '▁맨체스터', 3800: '▁우라늄', 3801: '▁열린우리당', 3802: '▁드라마', 3803: '되었', 3804: '▁벌어진', 3805: '▁음반', 3806: '▁않도록', 3807: 'ain', 3808: '▁방침', 3809: '슬리', 3810: '▁1980', 3811: '▁반정부', 3812: '▁안보리', 3813: '▁행진', 3814: '▁소요', 3815: '-3', 3816: '▁회담에', 3817: '▁장식', 3818: '▁목격', 3819: '4000', 3820: '▁결승전', 3821: '▁포드', 3822: '▁주고', 3823: '▁음', 3824: '▁그와', 3825: '▁맞서', 3826: '▁수영', 3827: '결과', 3828: '▁회원국', 3829: 'co', 3830: '▁is', 3831: '▁지수는', 3832: '▁터키군', 3833: '조직', 3834: '포트', 3835: '핑', 3836: '▁포르투갈', 3837: '▁휘발유', 3838: '▁페일린', 3839: '▁첼시', 3840: 'EU', 3841: '분간', 3842: '▁질환', 3843: '▁가득', 3844: '▁음모', 3845: '▁요구하고', 3846: '▁때문이다', 3847: '▁웃', 3848: '▁화학', 3849: '▁조각', 3850: '검사', 3851: '겼', 3852: '▁잔해', 3853: '부시', 3854: '바르', 3855: '▁기본', 3856: '▁감정', 3857: '▁언급하지', 3858: 'ang', 3859: '▁자세', 3860: '▁장비', 3861: '▁중에는', 3862: '67', 3863: '▁다이', 3864: '▁저는', 3865: '▁덮', 3866: '▁테러가', 3867: '▁거절', 3868: '▁영화제', 3869: '▁석', 3870: '당국', 3871: '▁믿고', 3872: '▁훨씬', 3873: '죠', 3874: '▁베트남', 3875: '흉', 3876: '해리포터', 3877: '▁국제유가', 3878: '▁향후', 3879: '▁문제는', 3880: '▁1990', 3881: '폭탄', 3882: '68', 3883: '▁계획이', 3884: '▁유치', 3885: '▁파악', 3886: '포드', 3887: '바이', 3888: '▁거주하는', 3889: '▁폐지', 3890: '▁생존자', 3891: '▁250', 3892: '▁회담이', 3893: '▁경기에', 3894: '당국은', 3895: '▁장관이', 3896: '▁크리스티', 3897: '픈', 3898: '흑', 3899: '켈', 3900: '▁샌프란시스코', 3901: '▁페더러', 3902: '▁획득', 3903: '▁로봇', 3904: '▁묘사', 3905: '▁운항', 3906: '▁전면', 3907: '주일', 3908: '▁주인', 3909: '오늘', 3910: '▁공개했다', 3911: '▁밀란', 3912: '라드', 3913: '▁지시', 3914: '국이', 3915: '14', 3916: '▁영토', 3917: '▁예정이며', 3918: 'po', 3919: '▁불리는', 3920: '▁지목', 3921: '▁기상', 3922: '측이', 3923: '장치', 3924: '▁내용이', 3925: '▁곡', 3926: '▁추적', 3927: 'man', 3928: '▁병사들', 3929: 'ab', 3930: '▁광장', 3931: '▁외부', 3932: '▁소니', 3933: '▁프레', 3934: '▁입수', 3935: '56', 3936: '▁노동자', 3937: '▁초대', 3938: '▁존슨', 3939: '회담', 3940: '됐고', 3941: '▁테러범', 3942: '▁한국군', 3943: '▁중부', 3944: '핀', 3945: '!', 3946: '▁모스크바', 3947: '▁밖으로', 3948: '룰', 3949: '▁랭킹', 3950: '▁콘서트', 3951: '▁반기문', 3952: '▁검색', 3953: '▁얼음', 3954: '▁맨유', 3955: '곤', 3956: '▁집에', 3957: '▁나쁜', 3958: '콘', 3959: '콜', 3960: '▁빚', 3961: '▁작동', 3962: '네스', 3963: '▁pro', 3964: '▁폭우', 3965: '▁이것이', 3966: '스티', 3967: '▁치르', 3968: '▁빅', 3969: '▁샌', 3970: '▁시절', 3971: '들로부터', 3972: '▁대결', 3973: '▁단체는', 3974: '▁워싱턴에서', 3975: '▁주장하는', 3976: '▁편지', 3977: '▁행성', 3978: '▁학생들이', 3979: '▁희생자들', 3980: '작전', 3981: '▁도달', 3982: '▁주간', 3983: '▁전개', 3984: '▁목격자', 3985: '었으나', 3986: '▁South', 3987: '둥', 3988: '튜', 3989: '▁온난화', 3990: '▁세계대전', 3991: '▁금요일', 3992: '▁이메일', 3993: '▁둘러', 3994: '▁접속', 3995: '▁중재', 3996: '▁목격자들', 3997: '▁토론회', 3998: '▁야생', 3999: '맥', 4000: '▁것보다', 4001: '▁소환', 4002: '듯', 4003: '▁입양', 4004: '▁탐', 4005: '▁밑', 4006: '▁지정', 4007: '▁협회', 4008: '▁예비', 4009: '▁n', 4010: '▁고객', 4011: 'z', 4012: '▁에이', 4013: '▁잃었다', 4014: '▁하이', 4015: '▁방문할', 4016: '▁당선인은', 4017: '▁남쪽', 4018: '대학', 4019: '적이고', 4020: '▁꿈', 4021: '▁방법으로', 4022: '58', 4023: '국은', 4024: '▁무대', 4025: '▁방지', 4026: '\"\"', 4027: '▁충분한', 4028: '▁잡지', 4029: '▁바그다드에서', 4030: '▁심슨', 4031: '년에는', 4032: '▁속도', 4033: '아메리칸', 4034: '현지시각', 4035: '▁특파원', 4036: '▁9.11', 4037: '▁측근', 4038: '▁앨범', 4039: '▁주식시장', 4040: '▁영변', 4041: '▁학살', 4042: '▁성향', 4043: '▁주문', 4044: '▁리비아', 4045: '펜', 4046: '홀', 4047: '▁말합니다', 4048: '▁밖에서', 4049: '▁조사에서', 4050: '▁부근', 4051: '기술', 4052: '▁신체', 4053: '모든', 4054: '▁방문했다', 4055: '▁사법', 4056: '러스', 4057: '▁생각하고', 4058: '▁의무', 4059: '▁이들이', 4060: '되자', 4061: '▁선물', 4062: 'are', 4063: '이션', 4064: '▁의원들은', 4065: '▁38', 4066: '▁남아', 4067: '▁CIA', 4068: '▁이란은', 4069: '탑', 4070: '아메리카', 4071: '▁용의자들', 4072: '▁리콜', 4073: '▁허락', 4074: '▁합동', 4075: '▁저항', 4076: '▁사무총장', 4077: '▁카페', 4078: '▁진행된', 4079: '그들은', 4080: '트라', 4081: '100', 4082: '▁취할', 4083: '▁수집', 4084: '▁내전', 4085: '▁주목', 4086: '▁공중', 4087: '▁미국에', 4088: '▁출시', 4089: '▁예상했다', 4090: '▁체니', 4091: '▁특별한', 4092: '므로', 4093: '▁윤', 4094: '련', 4095: '▁생존', 4096: '▁논란', 4097: '82', 4098: '▁성과', 4099: '▁원하는', 4100: '미군', 4101: '▁레이스', 4102: '▁경기장', 4103: '컴', 4104: '롬', 4105: '▁않았으며', 4106: '▁유나이티드', 4107: '밍', 4108: 'um', 4109: '▁편집', 4110: '▁계획에', 4111: '지구', 4112: '우드', 4113: '▁자기', 4114: '59', 4115: '작업', 4116: '▁이익', 4117: '▁모양', 4118: '▁시작한', 4119: '▁에어', 4120: '▁후임', 4121: '전에서', 4122: '▁대부분이', 4123: '▁철도', 4124: '▁다니', 4125: '▁마시', 4126: '▁에드', 4127: '빠', 4128: '▁사건과', 4129: '럭', 4130: '넬', 4131: '▁붉은', 4132: '▁찾고', 4133: '▁쿠데타', 4134: '▁헤즈볼라', 4135: '롱', 4136: '짝', 4137: '▁대다수', 4138: '▁회견', 4139: '▁봄', 4140: '▁이사', 4141: '▁핵시설', 4142: '▁사건으로', 4143: '죄', 4144: '▁기능', 4145: '▁격차', 4146: '▁다우', 4147: '▁보면', 4148: '놀', 4149: 'ong', 4150: '싸', 4151: '원인', 4152: '▁이번주', 4153: '▁처음이다', 4154: '▁서방', 4155: '량이', 4156: '▁아일랜드', 4157: '사항', 4158: '▁바라고', 4159: '▁Re', 4160: '▁보이', 4161: 'ial', 4162: '▁발표된', 4163: '▁수요', 4164: '▁멸종', 4165: '[', 4166: '첸', 4167: '▁with', 4168: '▁우주비행사', 4169: '▁장례식', 4170: '셉', 4171: '▁여자친구', 4172: '▁아이오와', 4173: '▁겨울', 4174: '▁가까이', 4175: 'cm', 4176: '▁교사', 4177: '▁마틴', 4178: '▁걸릴', 4179: '▁체결', 4180: '▁만날', 4181: '▁복구', 4182: '어져', 4183: 'res', 4184: '▁차드', 4185: '▁나서', 4186: '▁전투기', 4187: '▁37', 4188: '▁tr', 4189: '▁폭발물', 4190: '조차', 4191: '▁산타', 4192: '▁어디', 4193: '▁의회의', 4194: '▁린', 4195: '▁파티', 4196: '▁클라', 4197: '지수는', 4198: '▁톰', 4199: '300', 4200: '▁현재까지', 4201: '▁프라', 4202: '▁중국에서', 4203: '▁CEO', 4204: '▁다이아몬드', 4205: '▁떨어지', 4206: '▁알래스카', 4207: '▁옮겨', 4208: '엑', 4209: '▁적십자', 4210: '▁일환으로', 4211: '▁다르푸르', 4212: '▁경찰서장', 4213: 'ke', 4214: '자리', 4215: '연맹', 4216: '▁특정', 4217: '▁나누', 4218: '▁동반', 4219: '▁물러', 4220: '되어야', 4221: '츠는', 4222: '▁심문', 4223: '▁수감자', 4224: '쓰', 4225: '장의', 4226: '13', 4227: '▁추정되는', 4228: '▁신호', 4229: '▁절대', 4230: '▁최초로', 4231: '85', 4232: '▁평화적', 4233: '학생', 4234: '▁36', 4235: '져야', 4236: '▁다우존스', 4237: '▁달라이라마', 4238: '▁설득', 4239: '▁FTA', 4240: '▁답', 4241: '▁그레', 4242: '▁자치', 4243: '▁교환', 4244: '▁증권', 4245: '▁오염', 4246: 'tor', 4247: '▁일주일', 4248: '▁치러진', 4249: '▁식당', 4250: '▁물건', 4251: '▁웨스트', 4252: '▁보통', 4253: '▁생물', 4254: '▁희', 4255: '▁사실상', 4256: '타르', 4257: '▁니콜', 4258: '민주당', 4259: '▁파산', 4260: '▁잠시', 4261: '했기', 4262: '▁불과', 4263: '▁요인', 4264: '▁회원', 4265: '▁아이들이', 4266: '▁St', 4267: 'our', 4268: '▁이스라엘군', 4269: '▁달라', 4270: '54', 4271: '16', 4272: '▁이스라엘과', 4273: '45', 4274: '춘', 4275: '섭', 4276: '▁내에', 4277: ']', 4278: '▁얻어', 4279: '퀴', 4280: '▁더불어', 4281: '▁쇼핑', 4282: '▁발굴', 4283: '▁바꾸', 4284: '▁폭락', 4285: '▁둘', 4286: '▁행복', 4287: '▁어려운', 4288: 'ational', 4289: '▁커피', 4290: '▁않지만', 4291: '정부는', 4292: '▁그리', 4293: '▁50%', 4294: '시키려', 4295: '원제', 4296: '▁기도', 4297: '▁통신은', 4298: '▁강요', 4299: '76', 4300: '▁세워', 4301: '▁재건', 4302: '▁제안했다', 4303: '▁취하', 4304: '삼', 4305: '농', 4306: '홍', 4307: '라이브', 4308: '▁경보', 4309: '▁업계', 4310: '오는', 4311: '▁친구들', 4312: '▁광산', 4313: '▁보고했다', 4314: '84', 4315: '요원', 4316: '▁국회의원', 4317: '▁목적으로', 4318: '63', 4319: '닥', 4320: 'PA', 4321: '▁FARC', 4322: '묘', 4323: '위기', 4324: '▁됩니다', 4325: '▁스리랑카', 4326: '▁앉아', 4327: '▁에드워즈', 4328: '▁코미디', 4329: '▁갑자', 4330: '▁멜', 4331: '▁사냥', 4332: '▁북극', 4333: '▁기업들', 4334: '▁출석', 4335: '▁담당자', 4336: '▁열리', 4337: '▁매각', 4338: 'out', 4339: '▁도입', 4340: '▁배출', 4341: '▁밝히고', 4342: '▁조합', 4343: '부대', 4344: '▁항소', 4345: '후드', 4346: '차전', 4347: '▁거두', 4348: '▁신임', 4349: '90', 4350: '▁계속되고', 4351: '▁적절한', 4352: '▁소비자들', 4353: '▁확산되', 4354: '뿐', 4355: '▁선보', 4356: '▁투어', 4357: '▁시장에서', 4358: '▁결정은', 4359: '라면', 4360: '▁의회는', 4361: '▁지상', 4362: '▁지점', 4363: '▁된다고', 4364: '▁의식', 4365: '년이', 4366: '▁고대', 4367: '▁있어서', 4368: '▁기분', 4369: '▁벽', 4370: '▁48', 4371: '▁공격이', 4372: '▁윈', 4373: '▁회사들', 4374: '룬', 4375: '님', 4376: '멸', 4377: '쇠', 4378: '▁방글라데시', 4379: '떼', 4380: '렐', 4381: '콤', 4382: '▁오스트리아', 4383: '▁칠레', 4384: '▁NBC', 4385: '▁것이라며', 4386: '▁데이터', 4387: '▁단순', 4388: '빠진', 4389: '18', 4390: '▁성관계', 4391: '▁기존', 4392: '▁서울에서', 4393: '▁자본', 4394: '▁북측', 4395: '만약', 4396: '▁협상이', 4397: '최', 4398: '▁원한다', 4399: '납', 4400: '이슬람', 4401: '▁윌', 4402: '▁사인', 4403: '▁호세', 4404: '▁사전', 4405: '▁아동', 4406: '▁넓', 4407: '페이지', 4408: '▁부근에서', 4409: '▁사용한', 4410: '▁테러리스트', 4411: '▁그림', 4412: '▁외교적', 4413: '79', 4414: '▁sh', 4415: '랭', 4416: '▁노스캐롤라이나', 4417: '▁봉쇄', 4418: '▁공산당', 4419: '▁시드', 4420: '▁합류', 4421: '▁적은', 4422: '▁폭동', 4423: '▁치열', 4424: '▁방영', 4425: '▁의존', 4426: '▁부담', 4427: '▁화물', 4428: 'ure', 4429: 'ance', 4430: '▁예상되', 4431: '▁해양', 4432: '▁피난', 4433: '했음', 4434: '▁美', 4435: '▁고소', 4436: '▁제도', 4437: '▁버마', 4438: '▁노력하고', 4439: '▁이하', 4440: '▁각국', 4441: '▁후원', 4442: '냈', 4443: '▁되기', 4444: '파키스탄', 4445: '▁중독', 4446: 'BC', 4447: '900', 4448: '▁해병대', 4449: '됐을', 4450: '▁수송', 4451: '▁본사', 4452: '▁상승했다', 4453: '▁부여', 4454: '수사', 4455: '▁수상자', 4456: '▁시위에', 4457: '세력', 4458: '▁스키', 4459: '78', 4460: '69', 4461: '▁말까지', 4462: '▁아르', 4463: '▁펜', 4464: '▁책임자', 4465: '께', 4466: '아야', 4467: '흘', 4468: '룩', 4469: '▁없으며', 4470: '▁나이지리아', 4471: '▁카르자이', 4472: '▁마카오', 4473: '▁흡연', 4474: '▁재무장관', 4475: '▁검거', 4476: '▁하늘', 4477: '▁농축', 4478: '▁가옥', 4479: '▁식품', 4480: '▁낸', 4481: '▁실시되', 4482: 'ha', 4483: '▁노동자들', 4484: '조원', 4485: '▁나갈', 4486: '▁대항', 4487: '▁통계', 4488: '▁현실', 4489: '▁많다', 4490: '-2', 4491: '▁세상', 4492: '▁승리했다', 4493: '▁소설', 4494: '▁묵', 4495: '▁어려', 4496: '▁일본에서', 4497: '▁사용되', 4498: '▁측정', 4499: '▁보관', 4500: 'ress', 4501: '▁골드', 4502: '▁조성', 4503: '된다면', 4504: '됐었다', 4505: '▁세우', 4506: '▁잇', 4507: '▁공항에서', 4508: '▁구조대', 4509: '상황', 4510: '▁소식이', 4511: '▁하다', 4512: 'one', 4513: '▁대통령에', 4514: '▁일본이', 4515: '▁북쪽', 4516: '▁연주', 4517: '▁오브', 4518: 'ts', 4519: '레나', 4520: '▁만화', 4521: '▁의지', 4522: '▁의회에', 4523: '▁로한', 4524: '관련', 4525: '▁전날', 4526: '▁고등학교', 4527: '▁네트워크', 4528: '▁훌륭', 4529: '큐', 4530: '장으로', 4531: '▁파예드', 4532: '▁카스트로', 4533: '▁습격', 4534: '▁복잡', 4535: '▁관람', 4536: '▁목록', 4537: '▁혁명', 4538: '▁건축', 4539: '▁극복', 4540: '▁시드니', 4541: '▁인류', 4542: '▁취재', 4543: '▁51', 4544: '▁최선', 4545: '▁페루', 4546: '▁구출', 4547: '▁보복', 4548: '▁망', 4549: '▁증가하고', 4550: '▁개방', 4551: '정도', 4552: '▁유가', 4553: 'ie', 4554: '▁내릴', 4555: '▁베르', 4556: '▁트리', 4557: '칼', 4558: '안전', 4559: '▁체제', 4560: '▁기다리고', 4561: '브레', 4562: '▁국경지역', 4563: '러시아', 4564: '▁이유는', 4565: '기지', 4566: '위원장', 4567: '▁모인', 4568: '▁지수', 4569: '▁자리에서', 4570: '▁사드르', 4571: '▁야기', 4572: '▁맞이', 4573: '▁부과', 4574: '▁왕세자', 4575: '끄', 4576: '넷', 4577: '▁훼손', 4578: '▁거뒀다', 4579: '▁스웨덴', 4580: '덜', 4581: '▁북동부', 4582: '▁혜택', 4583: 'IOC', 4584: '▁숫자', 4585: 'New', 4586: '▁콩고', 4587: '▁남아공', 4588: '▁패션', 4589: '▁경쟁자', 4590: '▁클레', 4591: '▁말하는', 4592: '▁출판', 4593: '▁있었고', 4594: '▁순방', 4595: '▁인종', 4596: '▁움직이', 4597: '▁풀어', 4598: '▁발병', 4599: '▁돌려', 4600: '▁상처', 4601: '▁모색', 4602: '워터', 4603: '▁선언했다', 4604: '▁의학', 4605: '▁태평양', 4606: '▁조기', 4607: '26', 4608: '▁그동안', 4609: '▁나아', 4610: '다시', 4611: '▁유감', 4612: '▁불러', 4613: '값', 4614: 'ba', 4615: '왔으며', 4616: '해줄', 4617: '▁일간', 4618: '▁방화', 4619: '▁유대인', 4620: '▁털', 4621: '▁분석가', 4622: '생물학', 4623: '지난', 4624: '가격', 4625: '흔', 4626: '흥', 4627: '첨', 4628: '혜', 4629: '▁되찾', 4630: '릿', 4631: '▁덴마크', 4632: '▁얻기', 4633: '▁이렇게', 4634: '▁정확히', 4635: '▁펼치', 4636: '나갔다', 4637: 'FRB', 4638: '▁이재민', 4639: '닷컴', 4640: '▁이뤄지', 4641: '스틴', 4642: '▁이주', 4643: '전쟁', 4644: '▁고향', 4645: '▁의회에서', 4646: 'AN', 4647: '▁2010', 4648: '아나', 4649: '▁명예', 4650: '▁사담', 4651: '▁지도자들은', 4652: '▁비율', 4653: '▁진실', 4654: '▁지진이', 4655: '▁AC', 4656: '▁세포', 4657: '▁베이징에서', 4658: '▁로비', 4659: '장과', 4660: '▁현금', 4661: '▁10%', 4662: '기업', 4663: '시위', 4664: '▁올린', 4665: '▁미국인들', 4666: '▁경호원', 4667: '답', 4668: '하고자', 4669: '플레', 4670: '현재', 4671: '▁반군이', 4672: '▁시내', 4673: '명에게', 4674: '▁환자들', 4675: '▁말해', 4676: '▁플레이', 4677: '콩', 4678: '웅', 4679: 'NATO', 4680: 'UEFA', 4681: '▁마찬가지', 4682: '▁챔피언스리그', 4683: '틸', 4684: '▁will', 4685: '▁주제', 4686: '▁커플', 4687: '▁레알', 4688: '▁영업', 4689: '▁일리노이주', 4690: '▁자극', 4691: '▁인공', 4692: '▁입증', 4693: '▁대가로', 4694: '▁만난', 4695: '▁고발', 4696: '▁선발', 4697: '▁말리키', 4698: '▁노리', 4699: '▁발생했으며', 4700: '세인', 4701: '62', 4702: '▁유력', 4703: '▁거부했다', 4704: '▁시위대는', 4705: '희', 4706: '연구소', 4707: '▁앨', 4708: '▁주최', 4709: '▁향하', 4710: '▁제공하는', 4711: '▁실패했다', 4712: '평화', 4713: '▁마치고', 4714: '▁가했다', 4715: '▁Japan', 4716: '▁예루살렘', 4717: '갤', 4718: '▁청문회', 4719: '▁남동부', 4720: '▁plan', 4721: '▁엄청', 4722: '2008.12', 4723: '▁코커스', 4724: '▁새끼', 4725: '섹스', 4726: '▁장착', 4727: '▁과격', 4728: '▁노예', 4729: '▁체계', 4730: '24', 4731: '▁임금', 4732: '▁숙', 4733: '▁초점', 4734: '드시', 4735: '▁배경', 4736: '▁공화국', 4737: '▁진화', 4738: '▁카드', 4739: '스테', 4740: 'IS', 4741: '▁보인다고', 4742: '▁남아있', 4743: '▁보안군', 4744: '지금', 4745: '74', 4746: '▁IAEA', 4747: '팔', 4748: '▁발생하지', 4749: '▁권한', 4750: '▁있다면', 4751: '▁본선', 4752: '정부가', 4753: '21', 4754: '▁그것이', 4755: '▁성화봉송', 4756: '▁외교통상부', 4757: '▁활주로', 4758: '뱀', 4759: '웬', 4760: '▁폴란드', 4761: '▁디즈니', 4762: '▁네바다', 4763: '▁완벽', 4764: '▁다니엘', 4765: '▁민족', 4766: '▁멀', 4767: '▁600', 4768: '▁분열', 4769: '▁사장은', 4770: '▁압수', 4771: '▁소매', 4772: '▁셀', 4773: '▁받아야', 4774: '▁봉사', 4775: '▁이양', 4776: '99', 4777: '▁중순', 4778: '▁대회에서', 4779: '▁수업', 4780: '본부', 4781: '민주', 4782: '리스트', 4783: '▁달려', 4784: '▁델', 4785: 'ice', 4786: '▁경영', 4787: '▁열대', 4788: 'ell', 4789: '▁노인', 4790: '▁방향', 4791: '▁대선에서', 4792: '축구', 4793: '▁갖는', 4794: '▁인디애나', 4795: '렘', 4796: '▁크루즈', 4797: '▁아이디어', 4798: '▁리조트', 4799: '▁삭제', 4800: '▁싸움', 4801: '▁납치된', 4802: '▁타이틀', 4803: '▁중간', 4804: '▁관찰', 4805: 'ood', 4806: '▁합병', 4807: '▁모기지', 4808: '▁무죄', 4809: '▁있었지만', 4810: '▁보잉', 4811: '▁생긴', 4812: '▁관영', 4813: '안보', 4814: '▁빙하', 4815: '▁아니면', 4816: '▁출산', 4817: '▁복무', 4818: '▁군정', 4819: '▁분명히', 4820: '▁철군', 4821: '▁고립', 4822: '행사', 4823: '▁이중', 4824: '▁조사에', 4825: '▁PC', 4826: '6000', 4827: '▁연행', 4828: '▁실적', 4829: '▁견해', 4830: '천만', 4831: 'av', 4832: '▁드러', 4833: '▁대량', 4834: '▁높아지', 4835: '▁구금', 4836: '되었고', 4837: '▁발간', 4838: '▁따르', 4839: '▁중지', 4840: '▁공유', 4841: '디아', 4842: '▁캘리포니아주', 4843: '▁착용', 4844: 'ome', 4845: '▁유전자', 4846: '37', 4847: '수록', 4848: '▁Co', 4849: '으면서', 4850: '▁기차', 4851: '피트', 4852: '▁난사', 4853: '▁런던에서', 4854: '▁전통적', 4855: '▁수상했다', 4856: '범죄', 4857: '짜', 4858: '마르', 4859: '미니', 4860: '▁폭탄이', 4861: '▁인사들', 4862: '▁승객들', 4863: '쉽', 4864: '곰', 4865: '▁라스베이거스', 4866: '▁봤다', 4867: '▁크라이슬러', 4868: '▁태어난', 4869: '▁토마스', 4870: '▁운송', 4871: '▁뉴욕에서', 4872: '▁과학자', 4873: '▁채택', 4874: '▁했지만', 4875: '▁피해가', 4876: '▁은퇴', 4877: '▁독재', 4878: '▁표했다', 4879: '▁방송국', 4880: '▁회동', 4881: '▁계획이라고', 4882: '▁일반적으로', 4883: '▁지시했다', 4884: '▁청구', 4885: '▁갖게', 4886: '▁위원회는', 4887: '▁주지사가', 4888: '금지', 4889: 'IC', 4890: '▁제조업체', 4891: '▁총격전', 4892: '▁돌아오', 4893: '▁서신', 4894: '▁위조', 4895: '▁축', 4896: 'oll', 4897: '▁주한', 4898: '버스', 4899: '▁기대하고', 4900: '▁보고서에서', 4901: '응', 4902: '▁안전한', 4903: '짐', 4904: '디스', 4905: '▁주지', 4906: '▁부서', 4907: '벤', 4908: '앤', 4909: '▁의미한다', 4910: '미터', 4911: '▁고어', 4912: '캔', 4913: '▁사우디아라비아', 4914: '▁쏟아', 4915: '▁협박', 4916: '댄', 4917: '▁이루어지', 4918: '▁심지어', 4919: '▁보여줬다', 4920: '▁빈곤', 4921: '▁하원의원', 4922: '▁매춘', 4923: '▁수감자들', 4924: '▁면담', 4925: '▁응급', 4926: '▁2012', 4927: '영국', 4928: '▁항구', 4929: '▁명백', 4930: '▁누리', 4931: '▁보낼', 4932: '▁지역으로', 4933: '▁카불', 4934: '▁거쳐', 4935: '▁실종된', 4936: '▁대학교', 4937: '▁재난', 4938: '▁보유하고', 4939: '22', 4940: '▁유발', 4941: '일본', 4942: 'ide', 4943: '▁기금', 4944: '▁시장에', 4945: '17', 4946: '▁싶어', 4947: '▁재단', 4948: '▁돼지', 4949: '명도', 4950: '▁크레', 4951: '▁자세한', 4952: '타운', 4953: '▁하면', 4954: '현지', 4955: '▁척', 4956: '▁안에서', 4957: '▁로드', 4958: '김', 4959: '카운티', 4960: '▁이사회', 4961: '▁무선', 4962: '▁나오는', 4963: '시대', 4964: '▁치러', 4965: '▁뼈', 4966: '담당', 4967: '▁바르셀로나', 4968: '▁펼쳐', 4969: '▁휴대전화', 4970: '▁논평', 4971: '▁누군가', 4972: '▁엄격', 4973: '▁베를린', 4974: '느냐', 4975: '▁케이블', 4976: '▁1994', 4977: '▁해결책', 4978: '▁철저', 4979: '▁하와이', 4980: '▁명은', 4981: '▁작용', 4982: '▁마쳤다', 4983: '▁기부', 4984: '▁단속', 4985: '▁CD', 4986: '▁형제', 4987: '▁사장', 4988: '▁생각하는', 4989: 'mb', 4990: '▁추정된다', 4991: '▁승리한', 4992: '▁신발', 4993: '▁무료', 4994: '▁만들어진', 4995: '▁못하게', 4996: '▁값', 4997: '▁듀', 4998: '▁호텔에서', 4999: '▁영장', 5000: '▁리그', 5001: '밤', 5002: '▁시사', 5003: '▁42', 5004: '▁동성애자', 5005: '▁이것', 5006: '▁동티모르', 5007: '▁펼쳤다', 5008: '끈', 5009: '춤', 5010: '▁쓰나미', 5011: 'WHO', 5012: '▁파트너', 5013: '▁에어버스', 5014: '▁주한미군', 5015: '▁외환은행', 5016: '▁바스라', 5017: '▁요리', 5018: '▁급등', 5019: '▁디자인', 5020: '▁th', 5021: '▁두바이', 5022: '기록', 5023: '▁상태에', 5024: '▁사령관은', 5025: '되었으며', 5026: '스타인', 5027: '▁대학생', 5028: '▁3000', 5029: '▁골프', 5030: '▁시각', 5031: '▁중심부', 5032: '▁여권', 5033: '▁신중', 5034: '▁간단', 5035: '▁한때', 5036: '▁의석', 5037: '▁책임이', 5038: '▁하던', 5039: '되었던', 5040: '▁논란이', 5041: '병원', 5042: '차량', 5043: '▁회의에서', 5044: '▁기계', 5045: '위안', 5046: '더스', 5047: '점으로', 5048: '▁말하며', 5049: '활', 5050: '짓', 5051: '▁공간', 5052: '▁발생하는', 5053: '아버지', 5054: '있었다', 5055: '학자들', 5056: '▁비용이', 5057: '엠', 5058: '킬로미터', 5059: '틱', 5060: '▁그렇지', 5061: '▁일으킨', 5062: '▁이루어졌다', 5063: '▁불능화', 5064: '▁차관보는', 5065: '▁송환', 5066: '▁저지른', 5067: '▁(=', 5068: '▁당신이', 5069: 'ence', 5070: 'ast', 5071: '▁바닥', 5072: '▁처해', 5073: '스케', 5074: '▁나올', 5075: '▁기밀', 5076: '▁참석했다', 5077: '▁초래', 5078: '▁보트', 5079: '해왔', 5080: '▁맛', 5081: '▁앞에', 5082: '▁존중', 5083: '▁첫번째', 5084: '슬러', 5085: '▁점차', 5086: '▁공포', 5087: '▁130', 5088: '돼있다', 5089: '▁못한다', 5090: '▁사회적', 5091: '▁응답자', 5092: '▁도시에서', 5093: '▁자문', 5094: '▁우리당', 5095: '▁케리', 5096: '▁지켜보', 5097: '▁마비', 5098: '95', 5099: '▁높아', 5100: '▁운전자', 5101: '▁마감했다', 5102: '▁유전', 5103: '▁예수', 5104: '▁서울시', 5105: '▁이곳에', 5106: '▁검사는', 5107: '이었으며', 5108: '이스라엘', 5109: '솔', 5110: '▁리처드', 5111: '규모', 5112: '따', 5113: '▁한국에서', 5114: '▁레스토랑', 5115: '▁선거캠프', 5116: '▁휩싸', 5117: '꽃', 5118: '▁김대중', 5119: '▁흥분', 5120: '▁벌어지', 5121: '▁우리나라', 5122: '▁적극적', 5123: '▁여학생', 5124: '28', 5125: '▁못해', 5126: '▁받았으며', 5127: '▁검은', 5128: '교회', 5129: '▁종류', 5130: '▁세계은행', 5131: '▁노동당', 5132: '▁개표', 5133: '▁위로', 5134: '▁북미', 5135: '▁신부', 5136: '▁su', 5137: '8000', 5138: '▁특수', 5139: '▁발전소', 5140: '▁표명', 5141: '▁유출', 5142: '▁상공', 5143: '▁답했다', 5144: '▁아니었다', 5145: '받았다', 5146: '35', 5147: '▁가구', 5148: '베나', 5149: '▁자유를', 5150: '▁공약', 5151: '▁제기했다', 5152: '▁선전', 5153: '▁백악관은', 5154: '▁불가능', 5155: '▁국방', 5156: '▁라고', 5157: 'ail', 5158: '▁전사', 5159: '제대로', 5160: '▁비판했다', 5161: '▁압둘', 5162: 'mm', 5163: '▁측은', 5164: '▁일리노이', 5165: '▁생일', 5166: '빛', 5167: '촉', 5168: '첩', 5169: '▁곤잘레스', 5170: '▁만났다', 5171: '0,000', 5172: '▁콜로라도', 5173: '▁구제금융', 5174: '▁헨리', 5175: '▁핵프로그램', 5176: '▁숀', 5177: '▁고위관리', 5178: '▁부정적', 5179: '▁강풍', 5180: '▁경영진', 5181: '▁미국측', 5182: '▁테스트', 5183: '해질', 5184: '▁1970', 5185: '▁인생', 5186: '▁것이었다', 5187: '▁죽은', 5188: '▁그래서', 5189: '▁도망', 5190: '▁이슬람교', 5191: '▁보도에따르면', 5192: '▁피트', 5193: '▁따라서', 5194: '▁벗', 5195: 'act', 5196: '▁백인', 5197: '▁상어', 5198: '▁뇌물', 5199: '▁34', 5200: '▁예전', 5201: 'ti', 5202: '▁불길', 5203: '▁기자들에게', 5204: '▁차단', 5205: '▁나이트', 5206: '▁다루', 5207: '달라고', 5208: '▁요소', 5209: '▁지질', 5210: '▁총장은', 5211: '▁신분', 5212: 'iz', 5213: '▁사망자수', 5214: '스탄', 5215: '▁근로자', 5216: '총리', 5217: '국제', 5218: '▁주기', 5219: '연대', 5220: '▁당수', 5221: '▁시티', 5222: '흡', 5223: '▁들어갔다', 5224: '▁나스닥', 5225: '▁북서부', 5226: '▁침입', 5227: '▁와인하우스', 5228: '▁방콕', 5229: '▁뿐만아니라', 5230: '▁자유롭', 5231: '▁화장실', 5232: '▁ABC', 5233: '▁직업', 5234: '▁법안이', 5235: '▁전역에', 5236: '변화', 5237: '▁출입', 5238: '▁과도', 5239: '▁사막', 5240: '▁진영', 5241: '▁40%', 5242: '▁산림', 5243: '▁화면', 5244: '▁개장', 5245: '▁쓴', 5246: 'ther', 5247: 'ca', 5248: '▁돌파', 5249: '▁칼리', 5250: '▁올려', 5251: '노동', 5252: '▁해임', 5253: '▁미술', 5254: '▁사용될', 5255: '▁내정', 5256: '▁자원', 5257: '▁논의하기', 5258: '▁가능하다', 5259: '▁세대', 5260: 'ens', 5261: '▁해적', 5262: '▁33', 5263: 'lu', 5264: '▁고객들', 5265: '▁집으로', 5266: '▁시민들이', 5267: '▁사용자', 5268: '▁경비', 5269: '▁벌였', 5270: '▁두번째', 5271: '핵', 5272: '▁800', 5273: '뿐만아니라', 5274: '멜', 5275: '▁요르단', 5276: '랙', 5277: '▁President', 5278: '▁궤도', 5279: '▁떠났다', 5280: '▁블라디미', 5281: '▁스코틀랜드', 5282: '▁없지만', 5283: '룸', 5284: '▁법무부', 5285: '▁촉발', 5286: '▁활약', 5287: '▁둘러싸', 5288: '▁성직자', 5289: '▁라이벌', 5290: '▁언어', 5291: '▁가졌', 5292: '▁대륙', 5293: '▁자치정부', 5294: '▁필립', 5295: '▁급증', 5296: '▁아프가니스탄에서', 5297: '▁열어', 5298: '▁리드', 5299: '▁환호', 5300: '▁축소', 5301: '▁맞추', 5302: '▁체중', 5303: '▁왕실', 5304: '▁약화', 5305: '▁짓', 5306: '▁성격', 5307: '▁다우지수', 5308: '▁불편', 5309: '▁자랑', 5310: '▁꼭', 5311: '▁정전', 5312: '▁엘리', 5313: '▁직전', 5314: '연방', 5315: '▁상호', 5316: '▁연금', 5317: '베르', 5318: '▁공모', 5319: '페이스', 5320: '▁일어났', 5321: '▁맥주', 5322: '▁자신에게', 5323: '▁보호하기', 5324: '▁연안', 5325: '▁120', 5326: '▁감지', 5327: '▁백악관에서', 5328: '▁독도', 5329: '48', 5330: '즉각적인', 5331: '▁생각했다', 5332: '▁시기에', 5333: '▁코트', 5334: '▁진술했다', 5335: '▁개시', 5336: '옹', 5337: '▁가택연금', 5338: '▁샤라포바', 5339: 'Q', 5340: '넨', 5341: '퀸', 5342: '▁패트릭', 5343: '▁겨냥', 5344: '▁남서부', 5345: '▁리차드', 5346: '▁받아들일', 5347: '▁촉진', 5348: '▁월스트리트', 5349: '▁천주교', 5350: '▁거듭', 5351: '▁수석대표', 5352: '▁봉송', 5353: '▁붙잡', 5354: '여성', 5355: '▁구축', 5356: '▁낸시', 5357: '▁벌여', 5358: '▁리치', 5359: '▁몰려', 5360: '▁즉각', 5361: '▁월드', 5362: '▁라이트', 5363: '▁들여', 5364: '매우', 5365: '▁걸리', 5366: '▁가해', 5367: '▁홍', 5368: '됐으나', 5369: '스럽게', 5370: '레이크', 5371: '▁주장하며', 5372: '위성', 5373: '후보', 5374: '▁대치', 5375: '투표', 5376: '▁날아', 5377: '▁조약', 5378: '우주', 5379: '▁전환', 5380: '▁여행객', 5381: '▁대상이', 5382: '▁만들고', 5383: '▁포함된', 5384: '▁사람에게', 5385: '▁성공적', 5386: '▁다르', 5387: '▁출동', 5388: '▁인원', 5389: '▁농장', 5390: '▁주었다', 5391: '83', 5392: '▁잡고', 5393: '▁지내', 5394: '삭', 5395: '겁', 5396: '▁쌍둥이', 5397: '▁오사마빈라덴', 5398: '▁알코올', 5399: '▁스파이', 5400: '▁탄핵', 5401: '▁다섯', 5402: '▁상하이', 5403: '▁영웅', 5404: '▁케빈', 5405: '▁동쪽', 5406: '▁타임스', 5407: '풀', 5408: '동맹', 5409: '▁애도', 5410: '▁정착', 5411: '▁폭파', 5412: '헤드', 5413: '▁감염된', 5414: '▁소득', 5415: '▁것인가', 5416: '▁일제', 5417: '▁초반', 5418: '▁스타일', 5419: '▁나토군', 5420: 'pr', 5421: '▁카터', 5422: '▁역사적', 5423: '▁맡은', 5424: '▁비난하고', 5425: '▁하락세', 5426: '▁레드', 5427: '▁국민들에게', 5428: '▁자제', 5429: '▁던지', 5430: '▁떨어졌', 5431: '돼야', 5432: '▁Mo', 5433: '티아', 5434: '▁들어오', 5435: '▁입법', 5436: '▁상태로', 5437: '▁평가했다', 5438: '▁확실한', 5439: '가족', 5440: '▁자사', 5441: '▁폭스', 5442: '버렸다', 5443: '컷', 5444: '▁유튜브', 5445: '빼', 5446: '▁디지털', 5447: '▁마이애미', 5448: '▁미시시피', 5449: '▁애리조나', 5450: '▁천연가스', 5451: '▁캄보디아', 5452: '왓', 5453: '턱', 5454: '▁사찰단', 5455: '▁비타민', 5456: '▁침몰', 5457: '▁중앙일보', 5458: '▁오딩가', 5459: '▁로이터', 5460: '▁졸업', 5461: '▁지하철', 5462: '▁새벽', 5463: '▁날짜', 5464: '때문에', 5465: '▁소련', 5466: '▁산사태', 5467: '▁급격', 5468: '▁채널', 5469: '▁보지', 5470: '▁취임식', 5471: '▁종합', 5472: '▁엔진', 5473: '자동차', 5474: '▁게재', 5475: '▁공개된', 5476: '▁연예', 5477: '▁분류', 5478: '▁55', 5479: '▁감금', 5480: '▁전세계적으로', 5481: '▁완전한', 5482: '▁뛰', 5483: '▁연구팀', 5484: '▁추모', 5485: '▁쌀', 5486: '▁미칠', 5487: '나무', 5488: '부르크', 5489: '▁향상', 5490: '▁장면이', 5491: '▁전부터', 5492: '▁와인', 5493: '▁상승세', 5494: '▁도착한', 5495: '재판소', 5496: '▁경력', 5497: '▁이론', 5498: '▁가리', 5499: '제품', 5500: 'PS', 5501: '▁증상', 5502: '▁원화', 5503: '▁경호', 5504: '라이트', 5505: '▁딕', 5506: '장소', 5507: '▁합의했다고', 5508: '▁정신적', 5509: '▁서쪽', 5510: '정치', 5511: '▁전원', 5512: '쪽으로', 5513: '낭', 5514: '▁결선투표', 5515: '▁뿌리', 5516: '▁쓰촨성', 5517: '쌍', 5518: '▁비핵화', 5519: '놈', 5520: '▁이뤄졌다', 5521: '▁뉴저지', 5522: '▁가즈니', 5523: '▁재무부', 5524: '▁호랑이', 5525: '▁흥미', 5526: '▁over', 5527: '▁걸린', 5528: '▁근육', 5529: '▁받으며', 5530: '▁부총리', 5531: '▁돌입', 5532: '▁다윈', 5533: '벽', 5534: '해야만', 5535: '▁오늘날', 5536: '컨', 5537: '▁끝내', 5538: '쥐', 5539: '▁소집', 5540: '▁부채', 5541: '2009.0', 5542: '년만에', 5543: '▁포경', 5544: '▁가상', 5545: '▁공개적으로', 5546: '▁조류', 5547: '▁호소', 5548: '사진', 5549: '▁대립', 5550: '▁좁', 5551: '▁2-1', 5552: '▁가동', 5553: '▁프레스', 5554: '▁방식으로', 5555: '▁마무', 5556: '▁기다리', 5557: '▁형사', 5558: '▁변호인', 5559: '▁무리', 5560: '당신', 5561: '략', 5562: '맹', 5563: '▁만들기', 5564: '첼', 5565: '업체들', 5566: '▁나오지', 5567: '▁전복', 5568: '얀', 5569: 'CC', 5570: '쁘', 5571: '▁골키퍼', 5572: '▁늦게', 5573: '▁브라이언', 5574: '▁블라고예비치', 5575: '▁알렉산더', 5576: '▁에베레스트', 5577: '▁인플레이션', 5578: '▁토네이도', 5579: '▁필라델피아', 5580: '줘', 5581: '▁키바키', 5582: '▁리히터', 5583: '▁원숭이', 5584: '▁2-0', 5585: '▁스캔들', 5586: '▁오히려', 5587: '▁후보들', 5588: '▁최저', 5589: '.8%', 5590: '▁갖춘', 5591: '▁합법적', 5592: '▁탄압', 5593: '▁이라크군', 5594: '카드', 5595: '▁국가안보', 5596: '비용', 5597: '▁무엇보다', 5598: '▁보스턴', 5599: '▁만남', 5600: '▁*', 5601: '▁들어있', 5602: '물질', 5603: '▁물품', 5604: '▁구조대원들', 5605: '▁반영', 5606: '▁들어간', 5607: '▁이에따라', 5608: '감독', 5609: '▁공사', 5610: '▁겸', 5611: '▁참여한', 5612: '▁소문', 5613: '▁표명했다', 5614: '▁일간지', 5615: '써', 5616: '▁그대로', 5617: '▁노선', 5618: '여행', 5619: '▁사람들과', 5620: '▁것임', 5621: '▁주연', 5622: '▁소위', 5623: '▁간부', 5624: '버리', 5625: '▁상상', 5626: '▁정치인들', 5627: '즘', 5628: '잭', 5629: '▁마이크로소프트', 5630: '▁이슬라마바드', 5631: '슐', 5632: '▁남자친구', 5633: '▁은신처', 5634: '▁아름다', 5635: '▁통일부', 5636: '▁화이트', 5637: 'port', 5638: '▁보여준다', 5639: '▁순례', 5640: '▁중대한', 5641: '▁있었으나', 5642: '▁징역형', 5643: '▁라이언', 5644: '▁벗어', 5645: '▁블루', 5646: '▁가족과', 5647: '▁다음날', 5648: '▁종결', 5649: '▁클리', 5650: '▁지휘관', 5651: '▁로저', 5652: '▁결심', 5653: '▁체코', 5654: '▁젊은이들', 5655: '▁키스', 5656: '리언', 5657: '▁초청', 5658: '털', 5659: '▁기소됐다', 5660: '▁소형', 5661: '▁기각', 5662: '▁동기', 5663: '언론', 5664: '▁알카에다와', 5665: '▁밥', 5666: '▁투르', 5667: '수술', 5668: '▁조사에따르면', 5669: '▁게시', 5670: '▁호수', 5671: '▁매력', 5672: '민들', 5673: '▁공대', 5674: '▁시체', 5675: '▁홍수로', 5676: '▁해병', 5677: '▁정식', 5678: '▁부상으로', 5679: '속도로', 5680: '▁국무', 5681: '랍', 5682: '▁가게', 5683: '▁브리', 5684: '우디', 5685: '펀', 5686: '븐', 5687: '숲', 5688: '▁국제공항', 5689: '▁후진타오', 5690: '▁선관위', 5691: '▁법무장관', 5692: '▁펀드', 5693: '▁불가피', 5694: '▁원칙', 5695: '▁성장률', 5696: '▁1996', 5697: '▁소탕', 5698: '▁출생', 5699: '▁황금', 5700: '▁남극', 5701: '▁사육', 5702: '▁가담', 5703: '▁보고서에따르면', 5704: '▁브랜드', 5705: '▁배후', 5706: '▁제공할', 5707: 'ous', 5708: '▁음주', 5709: '▁물러나', 5710: '▁진단', 5711: '▁피고인', 5712: '시스템', 5713: '▁일으켰다', 5714: '시킨다', 5715: '▁화재로', 5716: '▁기온', 5717: '▁비행사', 5718: '▁근로자들', 5719: '역사적인', 5720: '▁주최측', 5721: '▁쓸', 5722: '▁화해', 5723: '▁불어', 5724: '▁날개', 5725: '▁일어났다', 5726: '▁카라', 5727: '▁부산', 5728: '▁받는다', 5729: '▁일치', 5730: '렸으며', 5731: '▁양국간', 5732: '09', 5733: '▁확인됐다', 5734: '▁지속적', 5735: '▁화상', 5736: '▁직장', 5737: '▁뭄바이', 5738: '▁탱크', 5739: '얄', 5740: '톱', 5741: '▁섭취', 5742: '▁줄리아니', 5743: '▁할머니', 5744: '▁감바리', 5745: '▁택시', 5746: '▁교통사고', 5747: '▁구멍', 5748: '▁캐롤', 5749: '겠습니다', 5750: '▁플라', 5751: '▁소규모', 5752: '▁1993', 5753: '▁인권단체', 5754: '▁라덴', 5755: '▁벨기에', 5756: '▁폭설', 5757: '▁사생활', 5758: '많은', 5759: '▁영양', 5760: '▁보존', 5761: '▁GM', 5762: '▁여론조사에서', 5763: '▁신문사', 5764: '▁관측', 5765: '▁기대한다', 5766: '▁발생하고', 5767: '▁악어', 5768: '▁가방', 5769: '▁노스', 5770: '▁제공한', 5771: '▁기원', 5772: '생산', 5773: '▁수퍼', 5774: '▁급속', 5775: '▁총상', 5776: '▁착수', 5777: '▁자택', 5778: '▁살아있', 5779: '사업', 5780: '▁피부', 5781: '▁참석할', 5782: '▁근처에서', 5783: '켜', 5784: '▁산악', 5785: '▁초안', 5786: '조건', 5787: 'ish', 5788: '▁China', 5789: '▁무슬림', 5790: '▁밴드', 5791: '▁재검토', 5792: '▁횡령', 5793: '▁기쁘다', 5794: '▁테일러', 5795: '▁다시한번', 5796: '▁쓰레기', 5797: '▁플래', 5798: '▁침공', 5799: '▁가벼', 5800: '민감한', 5801: '▁예멘', 5802: '▁괴한', 5803: '▁지붕', 5804: '▁1991', 5805: '▁비난하는', 5806: '▁감옥', 5807: '▁his', 5808: '▁농업', 5809: '▁아이폰', 5810: '폴리스', 5811: '▁포럼', 5812: '▁결함', 5813: '▁진행자', 5814: '▁1%', 5815: '▁국장', 5816: '▁에릭', 5817: '긍정적인', 5818: '▁관중', 5819: '▁판정', 5820: '▁적발', 5821: 'ian', 5822: '▁방송사', 5823: '▁종식', 5824: '▁반복', 5825: '▁곳이다', 5826: '▁개정안', 5827: '▁선포했다', 5828: '▁마친', 5829: '▁나왔', 5830: '▁재임', 5831: '▁비교적', 5832: '▁북쪽으로', 5833: '=', 5834: '▁수립', 5835: '▁늘어나', 5836: '▁사용하지', 5837: '▁생기', 5838: '▁국적', 5839: '▁제작한', 5840: '▁부실', 5841: '▁미국인들이', 5842: '구조', 5843: '▁총회', 5844: '▁모아', 5845: '▁근거로', 5846: '되거나', 5847: '▁세계적으로', 5848: '▁대피했다', 5849: '신문', 5850: '▁구체적', 5851: '▁극장', 5852: '▁순위', 5853: '통제', 5854: '만개', 5855: '▁문제들', 5856: '▁재판관', 5857: '97', 5858: '팝', 5859: '▁DVD', 5860: '▁사우스캐롤라이나', 5861: '▁안전보장이사회', 5862: '▁협약', 5863: '슛', 5864: '툼', 5865: '헐', 5866: '▁광범위', 5867: '▁메르켈', 5868: '▁파나마', 5869: '▁원주민', 5870: '▁스트레스', 5871: '▁미디어', 5872: '▁거짓말', 5873: '▁세인트', 5874: '▁발휘', 5875: '▁사용했다', 5876: '▁호흡', 5877: '▁수상한', 5878: 'part', 5879: '▁억제', 5880: '잘못된', 5881: '▁싸우', 5882: '▁이용하는', 5883: '▁차별', 5884: '▁중이었다', 5885: '▁금연', 5886: '▁신규', 5887: '▁정찰', 5888: 'per', 5889: '▁치명적인', 5890: '▁이륙', 5891: '▁반박', 5892: '▁제목', 5893: '등급', 5894: '▁관계당국', 5895: '▁미치는', 5896: '교육', 5897: '▁자행', 5898: '▁제출했다', 5899: '워드', 5900: '커스', 5901: '▁정상화', 5902: '폭력', 5903: '▁최고치', 5904: '91', 5905: '공사', 5906: '었는지', 5907: '▁혼자', 5908: '▁많아', 5909: '▁성당', 5910: 'ber', 5911: '▁생각하지', 5912: '▁차지하고', 5913: '▁계속될', 5914: '코프', 5915: '▁지점에서', 5916: '▁적절', 5917: '단계', 5918: 'ary', 5919: '▁수십명', 5920: '▁실업', 5921: '▁연구원들', 5922: '▁nuclear', 5923: '▁검문소', 5924: '▁다큐멘터리', 5925: '▁불러일으', 5926: '▁스타디움에서', 5927: '▁식료품', 5928: '▁왼쪽', 5929: '▁쿠웨이트', 5930: '왈', 5931: '▁전당대회', 5932: '▁과반수', 5933: '▁일어날', 5934: '▁데이비스', 5935: '▁사용해', 5936: '▁옹호', 5937: '▁균형', 5938: '▁공산주의', 5939: '▁위안부', 5940: '▁롬니', 5941: '▁승려들', 5942: '▁난민촌', 5943: '▁귀환', 5944: '▁1995', 5945: '▁탑승객', 5946: '▁완료', 5947: '▁표준', 5948: '▁61', 5949: '▁출두', 5950: '▁신사', 5951: '분만에', 5952: '▁화려', 5953: 'day', 5954: '▁인민', 5955: '380', 5956: '▁동생', 5957: '▁서안', 5958: '연구원', 5959: '▁제정', 5960: '▁조언', 5961: '▁고장', 5962: '▁모래', 5963: '▁모임', 5964: '않', 5965: '해지고', 5966: '킨스', 5967: '▁있어야', 5968: '굴', 5969: '돈', 5970: '▁부상당', 5971: 'ph', 5972: '▁주장한다', 5973: '▁조용', 5974: '▁선원', 5975: 'Ma', 5976: '▁보냈', 5977: '▁단체들', 5978: '않게', 5979: '▁실시할', 5980: '▁달린', 5981: '▁하미', 5982: '▁달러화', 5983: '▁AT', 5984: '직원', 5985: '동물', 5986: '겠', 5987: '▁경관', 5988: '▁국제원자력기구', 5989: '▁매사추세츠', 5990: '▁않았던', 5991: '▁어렵다', 5992: '▁없게', 5993: '▁에콰도르', 5994: '▁이산화탄소', 5995: '▁캐릭터', 5996: '▁확장', 5997: '▁매니저', 5998: '▁받아들여', 5999: '▁펠로시', 6000: '▁코끼리', 6001: '▁나타난', 6002: '▁조지아주', 6003: '▁퇴임', 6004: '▁득표율', 6005: '▁범행', 6006: '▁낮추', 6007: '▁침대', 6008: '▁친척', 6009: '▁급락', 6010: '▁쉽지', 6011: '▁떠난', 6012: '▁레이건', 6013: '중앙', 6014: '▁당황', 6015: '발전', 6016: '▁복역', 6017: '▁일련', 6018: '니까', 6019: '예비선거', 6020: '▁당초', 6021: '▁운영하고', 6022: '▁케이트', 6023: '▁신조', 6024: '▁상영', 6025: 'ound', 6026: '▁매체', 6027: '범들', 6028: '▁인력', 6029: '▁포함돼', 6030: '아시아', 6031: '▁모리', 6032: '▁뉴욕시', 6033: '▁무게', 6034: '▁조건으로', 6035: '▁계속되는', 6036: '▁생산량', 6037: '팬', 6038: 'IAEA', 6039: '아일랜드', 6040: '▁요금', 6041: '▁군사적', 6042: '뇌', 6043: '▁텍사스주', 6044: '▁다르다', 6045: '▁창문', 6046: '그녀', 6047: '▁피해자들', 6048: '▁아난', 6049: '▁운전사', 6050: '▁공개됐다', 6051: 'Al', 6052: 'ite', 6053: '▁발견되었다', 6054: '▁확신한다', 6055: '▁유대', 6056: '▁주위', 6057: '▁무장대원', 6058: '▁정원', 6059: '엇', 6060: '템', 6061: '▁from', 6062: '▁샌디에이고', 6063: '▁일으킬', 6064: '▁마라톤', 6065: '▁외무성', 6066: '▁이뤄진', 6067: '▁여겨지', 6068: '▁어깨', 6069: '▁드러냈다', 6070: '▁용납', 6071: '▁상륙', 6072: '▁테니스', 6073: '▁생방송', 6074: '▁끝날', 6075: '▁늘리', 6076: '▁부활', 6077: '▁창출', 6078: '▁최저치', 6079: 'ust', 6080: '▁탄생', 6081: '▁분석가들은', 6082: '▁1960', 6083: '▁추구하', 6084: '89', 6085: '▁방출', 6086: '▁분량', 6087: '▁음성', 6088: '▁거부권', 6089: '▁밝혀진', 6090: '▁중단했다', 6091: '▁증세', 6092: '▁발포', 6093: '▁알렸다', 6094: '▁모건', 6095: '▁오하이오주', 6096: '▁거절했다', 6097: '▁보게', 6098: '▁비난하며', 6099: '▁상태이다', 6100: '▁진보', 6101: '▁마리아', 6102: '▁예정이었다', 6103: '▁조명', 6104: '▁월가', 6105: 'NASA', 6106: '아프리카', 6107: '▁전달했다', 6108: '▁자택에서', 6109: '넣', 6110: '▁회원국들', 6111: '앞으로', 6112: '86', 6113: '▁투명', 6114: '▁기여', 6115: 'ag', 6116: '▁위대', 6117: '▁세부', 6118: '버린', 6119: '뢰', 6120: '▁느낄', 6121: '▁유혈사태', 6122: '▁줄기세포', 6123: '▁프리미어리그', 6124: '▁휩쓸', 6125: '콰', 6126: '▁앤드류', 6127: '▁자카르타', 6128: '쿨', 6129: '▁샘플', 6130: '▁new', 6131: '▁돌고래', 6132: '.9%', 6133: '▁홈페이지', 6134: '▁실업률', 6135: '▁로딕', 6136: '▁중동평화', 6137: '▁탐험', 6138: '▁특징', 6139: '▁계좌', 6140: '▁밝혔지만', 6141: '▁MBC', 6142: '▁축출', 6143: '▁빌딩', 6144: '▁동일한', 6145: '▁다국적군', 6146: '▁표결', 6147: '▁건너', 6148: '▁처방', 6149: '▁회계', 6150: '▁측면', 6151: '▁부위', 6152: '▁서양', 6153: '에이커', 6154: '▁선임', 6155: '▁원래', 6156: '▁치러지', 6157: '▁선호', 6158: '널리', 6159: '▁발행', 6160: '▁해당하는', 6161: '▁식사', 6162: '▁사용된', 6163: '▁2500', 6164: '힘', 6165: '1000', 6166: '유럽', 6167: '진압', 6168: '▁소유하고', 6169: '대책', 6170: '▁보조', 6171: '▁뉴욕주', 6172: '▁실종자', 6173: '봐', 6174: '내용', 6175: '▁항공우주국', 6176: '2006.01', 6177: '▁HIV', 6178: '▁멤버', 6179: '▁않았으나', 6180: '▁애완견', 6181: '▁윔블던', 6182: '▁프랭크', 6183: '넌', 6184: '쏘', 6185: '햇', 6186: '▁노르웨이', 6187: '▁힘입어', 6188: '▁격렬한', 6189: '▁마흐디', 6190: '▁영화배우', 6191: '▁예를들어', 6192: '▁좌절', 6193: '▁득점', 6194: '▁검증', 6195: '▁정거장', 6196: '▁잇따', 6197: '▁브리핑', 6198: '2007.11', 6199: '▁암컷', 6200: '▁not', 6201: '▁밝혔으며', 6202: '▁떠올', 6203: '▁외치', 6204: '▁손님', 6205: '▁음료', 6206: '▁녹음', 6207: '▁화합', 6208: '▁내려졌다', 6209: '▁오마르', 6210: '▁동의했다', 6211: '▁쿠퍼', 6212: '▁포착', 6213: '▁용기', 6214: '▁외환', 6215: '▁통증', 6216: '▁열렸다', 6217: '▁리처드슨', 6218: '▁종료', 6219: '▁해상', 6220: '▁개편', 6221: '▁발표됐다', 6222: '▁매달', 6223: '▁키우', 6224: '▁접전', 6225: '▁고무', 6226: '▁1500', 6227: '방위', 6228: '▁사설', 6229: '▁추세', 6230: '▁재직', 6231: '▁운영하', 6232: '▁보이며', 6233: '프랑스', 6234: '윤', 6235: '▁판다', 6236: '▁실시했다', 6237: '▁88', 6238: 'con', 6239: '때까지', 6240: '▁화장', 6241: '▁부유', 6242: '하우스', 6243: '04', 6244: '연구', 6245: '▁ex', 6246: '▁움직', 6247: '▁긍정적', 6248: '▁포장', 6249: '버트', 6250: '▁외국인들', 6251: '덩', 6252: '▁government', 6253: '▁세웠다', 6254: '▁않았고', 6255: '▁없습니다', 6256: '▁피라미드', 6257: '붐', 6258: '▁라파엘', 6259: '팩', 6260: '▁마돈나', 6261: '▁비틀즈', 6262: '▁자선단체', 6263: '드립니다', 6264: '▁침략', 6265: '▁배터리', 6266: '▁탈북자', 6267: '▁서식지', 6268: '▁객실', 6269: 'NS', 6270: '▁데이빗', 6271: '▁여섯', 6272: '2005.09', 6273: '▁국기', 6274: '▁졸리', 6275: '▁1992', 6276: '98', 6277: '93', 6278: '▁빠지', 6279: '▁금액', 6280: '▁탈락', 6281: '▁테러조직', 6282: '▁않는다면', 6283: '▁촉구하', 6284: '분께', 6285: '▁지분', 6286: '▁산책', 6287: '▁막아', 6288: '07', 6289: '▁아마디', 6290: '▁인형', 6291: '▁전국적으로', 6292: '▁통행', 6293: '▁상당히', 6294: '인들에게', 6295: '▁고급', 6296: '▁본토', 6297: '▁못했', 6298: '▁FA', 6299: '▁30%', 6300: '▁운명', 6301: '포르', 6302: '▁지지한다', 6303: '▁남용', 6304: '▁강행', 6305: '▁피살', 6306: '▁보급', 6307: '▁방향으로', 6308: '▁청사', 6309: '▁잡아', 6310: '▁자동', 6311: '프레드', 6312: '▁불구', 6313: '▁부모들', 6314: '탈레반', 6315: '▁플로리다주', 6316: '▁유산', 6317: '음악', 6318: '▁잡스', 6319: '▁밝혔', 6320: '혔', 6321: '▁잃었', 6322: '96', 6323: 'bu', 6324: '▁배심원', 6325: '내내', 6326: 'min', 6327: '▁강세', 6328: '졸', 6329: '훔', 6330: 'OPEC', 6331: '▁경기부양책', 6332: '▁관타나모', 6333: '▁오토바이', 6334: '▁우주왕복선', 6335: '▁울포위츠', 6336: '▁준결승', 6337: '▁파바로티', 6338: '▁플라스틱', 6339: '社', 6340: '▁자유무역협정', 6341: '▁퍼거슨', 6342: '▁펜실베니아', 6343: '툴', 6344: '펄', 6345: '▁롤링', 6346: '▁헌법재판소', 6347: '▁벌써', 6348: '▁낙태', 6349: '▁저희', 6350: '▁의뢰', 6351: '▁오른쪽', 6352: '▁드러내', 6353: '▁점검', 6354: '▁넘겨', 6355: '▁풀려', 6356: '▁상대방', 6357: '▁사우스', 6358: '▁Ar', 6359: '▁백신', 6360: '▁NK', 6361: '▁집권당', 6362: '▁승무원들', 6363: '▁놓여', 6364: '▁의사들', 6365: '▁군함', 6366: '▁매출', 6367: '▁멀리', 6368: '▁고속', 6369: '▁군복', 6370: '▁표면', 6371: '▁요구하며', 6372: '▁운동가들', 6373: '▁존경', 6374: '▁연계', 6375: '▁실린', 6376: '▁도심', 6377: '▁포함됐다', 6378: '몬드', 6379: '▁이틀간', 6380: '▁밀어', 6381: '▁140', 6382: '▁모금', 6383: '▁내려진', 6384: '▁중요성', 6385: '업계', 6386: '▁다음주', 6387: '금융', 6388: '서비스', 6389: '해달라', 6390: '▁로브', 6391: '줬', 6392: '▁갈라', 6393: '▁제시했다', 6394: '▁160', 6395: '▁기소된', 6396: '▁사망했', 6397: '칙', 6398: '닷', 6399: '▁Obama', 6400: '▁루아얄', 6401: '딴', 6402: '랩', 6403: '펴', 6404: '▁경기침체', 6405: '▁뮤지컬', 6406: '▁허커비', 6407: '킴', 6408: '톨', 6409: '▁아테네', 6410: '▁테네시', 6411: '▁게릴라', 6412: '▁옐친', 6413: '▁징후', 6414: '▁포르노', 6415: '▁2005.10', 6416: '▁시라크', 6417: '▁불가리아', 6418: '▁공룡', 6419: '▁벽돌', 6420: '▁살아남', 6421: '▁본격적', 6422: '▁데일리', 6423: '▁탄광', 6424: '베르토', 6425: '▁있었습니다', 6426: '▁범위', 6427: '▁함유', 6428: '▁제압', 6429: 'American', 6430: '▁형식', 6431: '▁국방성', 6432: '▁히트', 6433: '▁점거', 6434: '▁승부', 6435: '▁자신감', 6436: '▁벌어졌다', 6437: '▁한국은행', 6438: '▁조절', 6439: '▁얼마전', 6440: '▁접수', 6441: '▁공판', 6442: '▁호소했다', 6443: '▁발표했습니다', 6444: '▁통보', 6445: '▁소동', 6446: '▁실무', 6447: '▁좋아하는', 6448: '▁연간', 6449: '▁희망한다', 6450: '▁동맹국', 6451: '▁정기적', 6452: '▁한국인들', 6453: '늘', 6454: '▁동성', 6455: 'form', 6456: '▁사체', 6457: '아프간', 6458: '어떤', 6459: '사령관', 6460: '2000', 6461: '사무소', 6462: '▁감소했다', 6463: '덤', 6464: '▁덧붙', 6465: '2006.08', 6466: '▁디자이너', 6467: '▁루이지애나', 6468: '▁아닙니다', 6469: '▁금메달', 6470: '▁지지선언', 6471: '▁카트리나', 6472: '▁멈추', 6473: '▁앤더슨', 6474: '▁알렉스', 6475: '▁보이콧', 6476: '▁흘러', 6477: '▁징계', 6478: '▁막대한', 6479: '▁이자율', 6480: '▁퇴원', 6481: '▁잠재적', 6482: '▁흔적', 6483: '▁개막', 6484: '강전에서', 6485: '▁기상청', 6486: '기때문에', 6487: '▁디스크', 6488: '▁떠날', 6489: '쳤으며', 6490: '▁양곤', 6491: '▁핵개발', 6492: '▁래리', 6493: '▁통과시켰다', 6494: '▁경향', 6495: '▁오스카', 6496: '▁않으며', 6497: '▁미첼', 6498: '▁러드', 6499: '▁플레이어', 6500: '▁상담', 6501: '▁사이클', 6502: '▁인터', 6503: '▁선고받', 6504: '▁포함하여', 6505: '▁서류', 6506: '▁준수', 6507: '▁내렸', 6508: '▁장교', 6509: '▁발발', 6510: '▁도청', 6511: '기위해', 6512: '▁테러리스트들', 6513: '▁참석하지', 6514: '업자들', 6515: '▁탄소', 6516: '▁대법원장', 6517: 'way', 6518: '55', 6519: '▁레바논군', 6520: '▁계기', 6521: '▁살해했다', 6522: '▁정보부', 6523: '▁우즈', 6524: 'AM', 6525: 'BO', 6526: '뒀', 6527: 'World', 6528: '▁베네딕', 6529: '▁빼앗', 6530: '▁아마디네자드', 6531: '▁에티오피아', 6532: '▁오클라호마', 6533: '▁이브라힘', 6534: '▁최첨단', 6535: '▁히틀러', 6536: '뚫', 6537: '셨', 6538: '▁로드리게스', 6539: '▁평화유지군', 6540: '▁심장마비', 6541: '▁의약품', 6542: '▁따뜻', 6543: '▁압바스', 6544: 'PGA', 6545: '▁중남미', 6546: '▁2008.10', 6547: '▁인터폴', 6548: '▁스크린', 6549: '▁품목', 6550: '2007.12', 6551: '▁이루어진', 6552: '▁농민들', 6553: '▁터널', 6554: '▁NBA', 6555: '▁술집', 6556: '▁거짓', 6557: '▁가짜', 6558: '▁1989', 6559: '▁세탁', 6560: '▁새롭', 6561: '▁채취', 6562: '▁들어갈', 6563: '▁연례', 6564: '▁부탁', 6565: '▁플로', 6566: 'old', 6567: '▁계산', 6568: '▁dis', 6569: '▁구름', 6570: '▁테러단체', 6571: '▁암호', 6572: '▁뿐이다', 6573: '▁조항', 6574: '▁풍부', 6575: '▁발급', 6576: '▁언급하며', 6577: '▁단행', 6578: '▁문구', 6579: '▁휴대', 6580: '▁변호', 6581: '▁대대적', 6582: '▁선거법', 6583: '▁회수', 6584: '▁임대', 6585: '▁스토', 6586: '▁보건부', 6587: '▁해체', 6588: '▁경비원', 6589: '죽', 6590: '공화국', 6591: '못', 6592: '▁당국자들', 6593: '푸르', 6594: '융', 6595: '29', 6596: '뷰', 6597: '2,000', 6598: '5,000', 6599: '▁고이즈미', 6600: '▁뉴올리언스', 6601: '▁느낌', 6602: '▁불확실', 6603: '▁저질렀다', 6604: '▁조승희', 6605: '샬', 6606: '옳', 6607: '칩', 6608: '▁망원경', 6609: '▁성추행', 6610: '▁우울증', 6611: '▁again', 6612: '▁노트북', 6613: '▁두려움', 6614: '▁쇠고기', 6615: '▁시나리오', 6616: '▁무승부', 6617: '▁기숙사', 6618: '▁수류탄', 6619: '▁빠졌다', 6620: '▁허드슨', 6621: '▁소행성', 6622: '▁활발', 6623: '▁무너지', 6624: '▁저항세력', 6625: '▁당부했다', 6626: '▁맥캔', 6627: '▁남아프리카', 6628: '▁구호단체', 6629: '▁교섭', 6630: '▁무덤', 6631: '▁사라졌다', 6632: '▁받아왔다', 6633: '▁박탈', 6634: '▁아니지만', 6635: '▁머무', 6636: '▁체류', 6637: '▁붙여', 6638: '▁고위급', 6639: '▁타밀', 6640: '▁모술', 6641: '▁바탕', 6642: '▁때문이라', 6643: '▁시인했다', 6644: '▁동성애', 6645: '천명', 6646: '연패', 6647: '▁경비대', 6648: '▁낮아', 6649: '같', 6650: '▁전반적인', 6651: '▁밀려', 6652: '▁예약', 6653: '▁열심', 6654: '▁위하여', 6655: '▁구류', 6656: '▁신도들', 6657: '▁경쟁력', 6658: 'US', 6659: '▁경사', 6660: '▁가중', 6661: '▁모터', 6662: '회전', 6663: '▁유통', 6664: '▁착수했다', 6665: '호프', 6666: '▁두려워', 6667: '▁여행객들', 6668: 'ease', 6669: '▁총장', 6670: '▁전해지', 6671: '▁실종됐다', 6672: '▁부검', 6673: '탐', 6674: '최근', 6675: '▁di', 6676: '스럽다', 6677: '▁부족하다', 6678: '갱', 6679: '깃', 6680: '▁talks', 6681: '▁비서실장', 6682: '▁빅토리아', 6683: '▁위스콘신', 6684: '▁유죄판결', 6685: '▁자르다리', 6686: '▁출구조사', 6687: '▁펼친', 6688: '▁플루토늄', 6689: '▁확률', 6690: '박근혜', 6691: '찌', 6692: '텍', 6693: '▁뉴델리', 6694: '▁알바니아', 6695: '▁1987', 6696: '▁국립공원', 6697: '▁도요타', 6698: '▁대서양', 6699: '▁삭감', 6700: '▁숨졌으며', 6701: '▁남자아이', 6702: '▁중앙은행', 6703: '▁남학생', 6704: '▁달한다', 6705: '▁강진이', 6706: '▁부사장', 6707: '카를로스', 6708: '됐는지', 6709: '▁증강', 6710: '▁델타', 6711: '▁물고기', 6712: '▁하원의장', 6713: '▁압도적', 6714: '▁맡았다', 6715: '▁왕세자비', 6716: '▁교외', 6717: '▁이내에', 6718: '▁For', 6719: '▁취급', 6720: '▁예배', 6721: '▁서장', 6722: '▁후송', 6723: '▁업적', 6724: '▁공안', 6725: '▁완성', 6726: '▁양쪽', 6727: '▁총통', 6728: '▁아담', 6729: '▁포터', 6730: '▁부당', 6731: '▁복원', 6732: 'Con', 6733: '▁차질', 6734: '▁물체', 6735: '▁상당수', 6736: '▁관객', 6737: '▁남아있다', 6738: 'has', 6739: 'na', 6740: '▁상금', 6741: '▁동료들', 6742: '눈', 6743: '태평양', 6744: '올림픽', 6745: '팔레스타인', 6746: '▁목격했다', 6747: 'UN', 6748: '▁악화되', 6749: '▁나타났', 6750: '▁체포되었다', 6751: '▁제작사', 6752: '열차', 6753: '빗', 6754: '·', 6755: '벡', 6756: 'head', 6757: '▁visit', 6758: '▁나눴다', 6759: '▁메드베데프', 6760: '▁않았습니다', 6761: '▁앞섰다', 6762: '▁온실가스', 6763: '▁잃어버', 6764: '▁최루탄', 6765: '▁하이브리드', 6766: '믹', 6767: '▁Roh', 6768: '▁글로벌', 6769: '▁이뤄질', 6770: '▁국정원', 6771: '▁해수면', 6772: '▁오렌지', 6773: '▁우간다', 6774: 'MDC', 6775: '▁개체수', 6776: '▁첩보', 6777: '▁교착상태', 6778: '▁에드워드', 6779: '▁유명인사', 6780: '▁염려', 6781: '됨에따라', 6782: '▁워너', 6783: '▁수색작업', 6784: '▁아마존', 6785: '▁재미있', 6786: '▁its', 6787: '▁권총', 6788: '▁금융위기', 6789: '▁고조되', 6790: '▁급습', 6791: '블리', 6792: '▁줄이기', 6793: '▁갈등', 6794: '▁호송', 6795: '▁갑작스', 6796: '▁송금', 6797: '▁금속', 6798: '▁지역사회', 6799: '▁60%', 6800: '▁동물들', 6801: '▁모욕', 6802: '▁연구원은', 6803: '▁추격', 6804: '번호', 6805: '▁데리고', 6806: '▁밝혀내', 6807: '▁실현', 6808: '▁톰슨', 6809: '▁매매', 6810: '▁둔화', 6811: '▁증진', 6812: '▁연출', 6813: '▁정밀', 6814: '▁포스트', 6815: '▁군사력', 6816: 'Pro', 6817: 'red', 6818: '▁보증', 6819: 'ty', 6820: '▁부처', 6821: '▁20%', 6822: '▁장려', 6823: '▁고안', 6824: '▁해저', 6825: 'ame', 6826: 'OS', 6827: '~2', 6828: '▁응답', 6829: '▁남부지역', 6830: '▁참가자들', 6831: '▁남측', 6832: '▁판매량', 6833: 'air', 6834: '▁위험성', 6835: '▁열었다', 6836: '딸', 6837: '▁종교적', 6838: '유엔', 6839: 'ung', 6840: '똑', 6841: '숭', 6842: '샘', 6843: 'FIFA', 6844: '▁IBM', 6845: '▁국가비상사태', 6846: '▁국제우주정거장', 6847: '▁서브프라임', 6848: '▁파파라치', 6849: '퀘', 6850: '▁디스커버리', 6851: '▁메릴랜드', 6852: '▁바티칸', 6853: '눌', 6854: '▁무장괴한', 6855: '▁미성년자', 6856: '▁깨끗', 6857: '▁재배치', 6858: '▁윈도우', 6859: '▁주유소', 6860: '▁좌석', 6861: '▁야생동물', 6862: '▁똑같', 6863: '▁자전거', 6864: '▁치솟', 6865: '▁바꿀', 6866: '▁퇴진', 6867: '▁데뷔', 6868: 'time', 6869: '▁켈리', 6870: '▁국민투표', 6871: '▁행렬', 6872: '▁긴밀', 6873: '▁인접', 6874: '▁Ex', 6875: '▁동참', 6876: 'ah', 6877: '▁다룬', 6878: '▁가택', 6879: '▁유괴', 6880: '▁서식하', 6881: '▁단독', 6882: '▁설계', 6883: '▁절약', 6884: '성근', 6885: '▁위생', 6886: '▁연임', 6887: '▁야구', 6888: '▁상병', 6889: '▁공무원', 6890: 'ER', 6891: '벨리', 6892: '▁발생했', 6893: '▁해적들', 6894: '▁pre', 6895: '▁경영자', 6896: '연승', 6897: '▁출장', 6898: '있으며', 6899: '환경', 6900: '멈', 6901: '▁자원봉사', 6902: '▁Minister', 6903: '▁믿는다', 6904: '▁아웅산수치', 6905: '▁인명피해', 6906: '▁창기라이', 6907: '굿', 6908: '랫', 6909: '렁', 6910: '팜', 6911: '▁AIG', 6912: '▁버몬트', 6913: '▁선거관리위원회', 6914: '▁국세청', 6915: '▁최우선', 6916: '▁세속주의', 6917: '▁모니터', 6918: '▁윈프리', 6919: '▁언덕', 6920: '▁적합한', 6921: '▁아스날', 6922: '▁국무총리', 6923: '▁메이저', 6924: '▁내무장관', 6925: '▁시티그룹', 6926: '▁포셋', 6927: '▁던졌다', 6928: '▁주차장', 6929: '▁구조작업', 6930: '▁앨런', 6931: '▁숙박', 6932: '▁재활용', 6933: '▁환율', 6934: '▁개막식', 6935: '▁돌아갈', 6936: '▁산맥', 6937: '▁돌아왔다', 6938: '▁1986', 6939: '▁교착', 6940: '▁의심되는', 6941: '바라데이', 6942: '▁걸렸다', 6943: '▁존스턴', 6944: '▁창설', 6945: '▁역임', 6946: '▁약혼', 6947: '▁않습니다', 6948: '▁투표율', 6949: '▁시민권', 6950: '▁연말', 6951: '▁못했지만', 6952: '▁던진', 6953: '▁by', 6954: '▁심판', 6955: '▁발령', 6956: '▁발견되지', 6957: '▁찾아내', 6958: '▁여러번', 6959: '▁모집', 6960: '▁시골', 6961: '▁윌슨', 6962: '▁사용자들', 6963: '2005.1', 6964: '▁불가능하다', 6965: '투데이', 6966: '▁파커', 6967: '▁불과하다', 6968: '▁인정받', 6969: '▁관객들', 6970: '사이트', 6971: '94', 6972: '휘', 6973: '말리키', 6974: '빅', 6975: 'FBI', 6976: '잘', 6977: '뉴욕', 6978: '보고서', 6979: '웨스트', 6980: '시즌', 6981: '전략', 6982: '▁토대', 6983: '▁진행중', 6984: '관광', 6985: 'ese', 6986: 'DR', 6987: '꼬', 6988: '▁Seoul', 6989: '▁박격포', 6990: '▁스타벅스', 6991: '▁없애', 6992: '▁켄터키', 6993: '▁호나우두', 6994: '깁', 6995: '껏', 6996: '둑', 6997: '뻐', 6998: '섞', 6999: '왁', 7000: '캄', 7001: '▁토크쇼', 7002: '▁후지모리', 7003: '▁음주운전', 7004: '▁개헌안', 7005: 'WTO', 7006: '▁워렌', 7007: '▁고유가', 7008: '▁포획', 7009: '▁터뜨', 7010: '▁자동차업계', 7011: '▁가끔', 7012: '▁기획', 7013: '▁가져올', 7014: '▁안드레', 7015: '▁돌아올', 7016: '▁군중들', 7017: '▁자발적', 7018: '▁연구결과', 7019: '▁드레스', 7020: '▁로켓포', 7021: '▁포경선', 7022: '▁카라치', 7023: '놨다', 7024: '▁클라크', 7025: '▁처형', 7026: '▁연극', 7027: '▁참배', 7028: '▁결합', 7029: '▁치매', 7030: '▁독감', 7031: '까요', 7032: '▁던져', 7033: '▁대변', 7034: '▁마찰', 7035: '▁매입', 7036: '▁넣었다', 7037: '▁설정', 7038: '▁맞았다', 7039: '▁밀러', 7040: '▁정상들', 7041: '▁유입', 7042: '▁전형적', 7043: 'Com', 7044: '▁일시적', 7045: 'En', 7046: '물리학', 7047: 'ney', 7048: '그것은', 7049: '착륙', 7050: '3000', 7051: '냥', 7052: '▁Bush', 7053: '▁개발도상국', 7054: '▁러닝메이트', 7055: '▁맨해튼', 7056: '▁슈퍼볼', 7057: '▁애완동물', 7058: '▁활성화', 7059: '궐', 7060: '끔찍한', 7061: '닭', 7062: '쉐', 7063: '킥', 7064: '퓨', 7065: '▁유람선', 7066: '▁비공식', 7067: '▁라호르', 7068: '▁섹시', 7069: '▁하버드', 7070: 'APEC', 7071: '▁남아프리카공화국', 7072: '▁라모스', 7073: '▁기다려', 7074: '▁알제리', 7075: '▁넬슨', 7076: '▁브레이크', 7077: '▁미주리', 7078: '▁침수', 7079: '▁밝혀냈다', 7080: 'able', 7081: '▁머레이', 7082: '▁시민단체', 7083: '▁통근', 7084: '▁미셸', 7085: '▁생명체', 7086: '▁외쳤다', 7087: '▁먼지', 7088: 'reat', 7089: '▁승점', 7090: '▁아빠', 7091: '▁탈레반측', 7092: '▁이어졌다', 7093: '▁응원', 7094: '▁대테러', 7095: '▁연령', 7096: '▁기념식', 7097: '▁진료', 7098: '▁불안정', 7099: '▁발매', 7100: '▁만료', 7101: '▁재정적', 7102: '▁철수시키', 7103: '▁있음', 7104: '▁사라진', 7105: '▁화제', 7106: '▁war', 7107: 'ick', 7108: '대원들', 7109: '륙', 7110: '되도록', 7111: '▁지냈', 7112: '클린턴', 7113: '잠', 7114: '▁지속되', 7115: '▁이민자들', 7116: '겔', 7117: '▁느낀다', 7118: '▁최고경영자', 7119: '닛', 7120: '3,000', 7121: '▁고등법원', 7122: '▁디트로이트', 7123: '▁럼스펠드', 7124: '▁억만장자', 7125: '▁텔레비전', 7126: '▁피츠버그', 7127: '▁헬리콥터', 7128: '잎', 7129: '헴', 7130: '▁스탈린', 7131: '▁브루니', 7132: '▁근본주의', 7133: '▁덴버', 7134: '▁미시건', 7135: '▁코카인', 7136: '▁낭비', 7137: '▁딜러', 7138: '2007.09', 7139: '▁티벳', 7140: '▁돌아다니', 7141: '▁왜곡', 7142: '▁친환경', 7143: '▁텐트', 7144: '▁요르단강', 7145: '▁장벽', 7146: '▁동굴', 7147: '▁이른다', 7148: '▁대선주자', 7149: '▁다가오', 7150: '▁70%', 7151: '▁구호품', 7152: 'ash', 7153: '▁복합', 7154: '▁그곳에서', 7155: '▁눈물', 7156: '▁절감', 7157: '▁생겨', 7158: '▁불황', 7159: '▁치른', 7160: '▁위축', 7161: '▁소총', 7162: '▁추천', 7163: '▁휴식', 7164: '하였으며', 7165: '▁유명하다', 7166: '웃', 7167: '소득', 7168: '▁시청자들', 7169: '92', 7170: '▁남성들', 7171: '보좌관', 7172: '▁브랜', 7173: '비행기', 7174: '▁끝났다', 7175: '▁버냉키', 7176: '▁스튜디오', 7177: '▁안토니오', 7178: '前', 7179: '빵', 7180: '펙', 7181: '▁부양책', 7182: '▁침묵', 7183: '▁느껴', 7184: '▁브래드', 7185: '뚜', 7186: '▁규칙', 7187: '▁반체제', 7188: '▁바하마', 7189: '▁take', 7190: '▁예선전', 7191: '▁유수프', 7192: '▁태우고', 7193: '▁국방위원장', 7194: '▁스콧', 7195: '▁놀랄', 7196: '▁휴스턴', 7197: '▁집필', 7198: '봐야', 7199: '▁90%', 7200: '▁가혹', 7201: '▁장거리', 7202: '▁화석', 7203: '▁새겨', 7204: '▁보조금', 7205: '▁comm', 7206: '아웃', 7207: '▁공무원들', 7208: '▁입었', 7209: '▁복장', 7210: '또', 7211: '셋', 7212: '▁민간인들', 7213: '▁자녀들', 7214: '뮤', 7215: '▁괜찮', 7216: '▁마이스페이스', 7217: '▁military', 7218: '▁끊임없', 7219: '▁내셔널', 7220: '▁뒷받침', 7221: '▁마케팅', 7222: '▁애틀랜타', 7223: '▁에르도간', 7224: '▁엔지니어', 7225: '▁풀려났다', 7226: '뚱', 7227: '맘', 7228: 'down', 7229: '▁브리트니', 7230: '▁호날두', 7231: '▁기준금리', 7232: '▁무소속', 7233: '덩어리', 7234: '▁코스피', 7235: '▁1-0', 7236: '▁퇴역', 7237: '▁나눠', 7238: '▁좌파', 7239: '▁신용카드', 7240: '▁바바라', 7241: '▁밝혔으나', 7242: '▁요즘', 7243: '▁재활', 7244: '9000', 7245: '▁화염', 7246: '되었는데', 7247: '▁소방대원', 7248: '▁미치지', 7249: '▁Day', 7250: '▁난민들', 7251: '▁조짐', 7252: '▁때문입니다', 7253: '▁영광', 7254: '▁월터', 7255: '▁방문객들', 7256: 'ook', 7257: '▁돌아온', 7258: '▁도핑', 7259: '▁경제학자들', 7260: '▁레이저', 7261: '▁조씨', 7262: '▁대기업', 7263: '▁로렌', 7264: '▁배심원단', 7265: '▁주주들', 7266: '▁스카이', 7267: '▁제조업', 7268: '▁선원들', 7269: '타이거', 7270: '탈리아', 7271: '몸', 7272: '▁그곳에', 7273: '알카에다', 7274: '▁은행들', 7275: '스페인', 7276: '끔', 7277: '▁득표', 7278: '옐', 7279: '늄', 7280: '▁Show', 7281: '▁골든글로브', 7282: '▁베탕쿠르', 7283: '▁애니메이션', 7284: '▁엘리베이터', 7285: '▁원자바오', 7286: '▁일으켜', 7287: '▁캔자스', 7288: '▁테러지원국', 7289: '긋', 7290: '륜', 7291: '셜', 7292: '쩌', 7293: '캘', 7294: '풋', 7295: '▁가즈프롬', 7296: '▁되돌아', 7297: '▁시애틀', 7298: '셈', 7299: '톡', 7300: '▁1988', 7301: '▁아칸소', 7302: '▁미끄러', 7303: '▁얼룩', 7304: '▁받아들였다', 7305: '▁식민지', 7306: '▁맥케인', 7307: '스프링스', 7308: '▁고릴라', 7309: '▁혈액', 7310: '▁관점에서', 7311: '▁크레이그', 7312: '▁양키스', 7313: '▁트로피', 7314: '▁논문', 7315: '▁인도주의적', 7316: '▁북극곰', 7317: '▁멸종위기', 7318: '▁차원에서', 7319: '▁유적지', 7320: '▁몸값', 7321: '▁군사작전', 7322: '▁가죽', 7323: '▁운반', 7324: '▁적응', 7325: '▁현지경찰', 7326: '▁저택', 7327: '▁폭등', 7328: '▁패리스', 7329: '▁대략', 7330: '▁숨겨', 7331: '▁남녀', 7332: '▁개념', 7333: '▁입었으며', 7334: '▁출범', 7335: '되었지만', 7336: '있거나', 7337: '▁보좌관들', 7338: '▁싶어한다', 7339: '▁기본적', 7340: '▁벌어졌', 7341: '쁜', 7342: '2006.05', 7343: '2007.08', 7344: '▁troops', 7345: '▁구호물품', 7346: '▁국회의사당', 7347: '▁느꼈다', 7348: '▁다운로드', 7349: '▁맥도날드', 7350: '▁머리카락', 7351: '▁베어스턴스', 7352: '▁슈퍼대의원', 7353: '▁에스토니아', 7354: '▁티셔츠', 7355: '▁펭귄', 7356: '▁평화협상', 7357: '댐', 7358: '썩', 7359: '홉', 7360: '2006.02', 7361: '▁덕분에', 7362: '▁베이루트', 7363: '▁비즈니스', 7364: '▁have', 7365: 'NFL', 7366: '▁니케이', 7367: '▁그린피스', 7368: '▁착취', 7369: '▁추산했다', 7370: '▁칭찬', 7371: '▁2008.11', 7372: 'WFP', 7373: '▁상반기', 7374: '▁실업수당', 7375: '▁원문기사', 7376: '▁대한민국', 7377: '▁간호사', 7378: '2007.07', 7379: '▁소탕작전', 7380: '▁바꿔', 7381: '▁진흙', 7382: '▁마사지', 7383: '▁묘지', 7384: '▁오늘밤', 7385: '▁동유럽', 7386: '▁충족', 7387: '▁취득', 7388: '2006.10', 7389: '▁같습니다', 7390: '▁하얀', 7391: '▁명칭', 7392: '▁모르겠다', 7393: 'ext', 7394: '론자들', 7395: 'ator', 7396: 'line', 7397: '붕', 7398: '▁유니세프', 7399: '▁Secretary', 7400: '▁로스앤젤레스', 7401: '▁모가디슈', 7402: '▁상관없이', 7403: '▁오케스트라', 7404: '▁이르렀다', 7405: '▁천문학자들', 7406: '▁칸다하르', 7407: '▁크로아티아', 7408: '▁트라볼타', 7409: '돋', 7410: '쉴', 7411: '쯔', 7412: '핏', 7413: '▁브리티시', 7414: '▁이르기까지', 7415: '▁황우석', 7416: '▁AFP', 7417: '▁무너져', 7418: '▁항생제', 7419: '▁정해지지', 7420: '▁집무실', 7421: '▁계열사', 7422: '▁가속화', 7423: '▁되풀이', 7424: '▁어두운', 7425: '▁1981', 7426: '▁매머드', 7427: '▁중산층', 7428: '▁1/4', 7429: '▁크로커', 7430: '마누엘', 7431: '▁국가주석', 7432: '▁다행히', 7433: '▁세비야', 7434: '▁3-0', 7435: '▁대주교', 7436: '▁유조선', 7437: '▁흐름', 7438: '스트리트', 7439: '▁브루스', 7440: '▁침범', 7441: '(25)', 7442: '▁히드로', 7443: '사령부', 7444: '▁공군기지', 7445: '▁맞붙', 7446: '▁잔혹', 7447: '▁벌어들', 7448: '▁효력', 7449: '▁피닉스호', 7450: '▁면접', 7451: '▁프린스', 7452: '▁comp', 7453: '붙', 7454: '▁요새', 7455: '▁녹색', 7456: 'FARC', 7457: '폭탄테러', 7458: 'ncy', 7459: '검찰', 7460: '스러워', 7461: '▁전설적', 7462: '▁국회의원들', 7463: '회사들', 7464: '▁Foreign', 7465: '▁attack', 7466: '▁극단주의자들', 7467: '▁글래스고', 7468: '▁상파울루', 7469: '▁야스쿠니', 7470: '▁우주정거장', 7471: '▁인종차별', 7472: '▁커뮤니티', 7473: '▁힌두교', 7474: '▁광우병', 7475: '▁스튜어트', 7476: '▁양육권', 7477: '▁왕복선', 7478: '▁카자흐스탄', 7479: '윗', 7480: '▁당나귀', 7481: '▁수퍼대의원', 7482: '▁몸무게', 7483: '▁부작용', 7484: '▁마라도나', 7485: '▁무너진', 7486: '▁kill', 7487: '인디아나', 7488: '▁예언자', 7489: 'ough', 7490: '▁몬테', 7491: '▁일축했다', 7492: '▁카지노', 7493: '▁물리치', 7494: '▁침투', 7495: 'count', 7496: '▁닉슨', 7497: '▁모로코', 7498: '▁교과서', 7499: '▁여자아이', 7500: '▁동북아', 7501: '▁쇼핑몰', 7502: '▁수비수', 7503: '▁State', 7504: '▁높아졌다', 7505: '▁쿠르드족', 7506: '▁도와주', 7507: '▁있었는지', 7508: '▁활기', 7509: '▁필리스', 7510: '넘', 7511: '뼈', 7512: 'CIA', 7513: '▁do', 7514: '▁이례적', 7515: '▁동맹국들', 7516: '▁일상적', 7517: 'oint', 7518: '▁효율', 7519: '▁회원들', 7520: '▁효율적', 7521: '▁파손되', 7522: 'dge', 7523: '멍', 7524: '&#8226;', 7525: '▁Party', 7526: '▁election', 7527: '▁leader', 7528: '▁protest', 7529: '▁뉴캐슬', 7530: '▁동계올림픽', 7531: '▁매코맥', 7532: '▁맥코맥', 7533: '▁미드필더', 7534: '▁세계보건기구', 7535: '▁악영향', 7536: '▁암스트롱', 7537: '▁포괄적', 7538: '넥', 7539: '돔', 7540: '엽', 7541: '옵', 7542: '쿼', 7543: '팽', 7544: '2006.06', 7545: '▁촛불', 7546: '▁친선경기', 7547: '▁도미니카', 7548: '▁여배우', 7549: '▁종신형', 7550: '▁총기난사', 7551: '▁도널드', 7552: '▁바쿠바', 7553: '▁빠뜨', 7554: '▁앵커', 7555: '▁제니퍼', 7556: '▁아스널', 7557: 'PML', 7558: '▁안락사', 7559: '▁흥행', 7560: '흙', 7561: '▶', 7562: '•', 7563: '꽤', 7564: '팍', 7565: '뻔', 7566: '팟', 7567: '깜', 7568: '둬', 7569: '볍', 7570: '팰', 7571: '갓', 7572: '띠', 7573: '삽', 7574: '꾸', 7575: '헬', 7576: '땅', 7577: '덮', 7578: '놔', 7579: '퉁', 7580: '푼', 7581: '겹', 7582: '큰', 7583: '콕', 7584: '낫', 7585: '뇨', 7586: '듬', 7587: '딱', 7588: '룽', 7589: '멕', 7590: '멧', 7591: '찔', 7592: '탬', 7593: '획', 7594: '뭇', 7595: '뭉', 7596: '솜', 7597: '츨', 7598: '캣', 7599: '켐', 7600: '콥', 7601: '펫', 7602: '쿤', 7603: '딕', 7604: '몇', 7605: '앨', 7606: '롯', 7607: '옌', 7608: '짙', 7609: '튠', 7610: '촨', 7611: '즐', 7612: '넓', 7613: '됨', 7614: '벳', 7615: '뉘', 7616: '앵', 7617: '긍', 7618: '둠', 7619: '훌', 7620: '덱', 7621: '밭', 7622: '쳇', 7623: '츄', 7624: '쥬', 7625: '홈', 7626: '톰', 7627: '윌', 7628: '므', 7629: '뷔', 7630: '봇', 7631: '앗', 7632: '툰', 7633: '꼈', 7634: '덟', 7635: '볕', 7636: '윙', 7637: '봅', 7638: '뒤', 7639: '욱', 7640: '굽', 7641: '낀', 7642: '맙', 7643: '샴', 7644: '쩔', 7645: '콴', 7646: '앞', 7647: '꿈', 7648: '왜', 7649: '끝', 7650: '룡', 7651: '늬', 7652: '뜯', 7653: '럿', 7654: '륭', 7655: '빔', 7656: '폼', 7657: '벵', 7658: '낙', 7659: '떠', 7660: '즌', 7661: '캇', 7662: '헝', 7663: '흠', 7664: '잇', 7665: '셸', 7666: '反', 7667: '英', 7668: '깅', 7669: '뚝', 7670: '띤', 7671: '쉘', 7672: '팻', 7673: '퐁', 7674: '샨', 7675: '깊', 7676: '섯', 7677: '콧', 7678: '市', 7679: '늑', 7680: '랏', 7681: '룻', 7682: '쑤', 7683: '윅', 7684: '텀', 7685: '팡', 7686: '펑', 7687: '듀', 7688: '솟', 7689: '줌', 7690: '댈', 7691: '뎌', 7692: '둡', 7693: '쟈', 7694: '엉', 7695: '옴', 7696: '녹', 7697: '숨', 7698: '첫', 7699: '껴', 7700: '뜰', 7701: '샹', 7702: '셍', 7703: '눕', 7704: '랴', 7705: '뭘', 7706: '샵', 7707: '쿡', 7708: '헥', 7709: '듭', 7710: '故', 7711: '뎀', 7712: '샷', 7713: '쏠', 7714: '씬', 7715: '쥔', 7716: '쪼', 7717: '퍽', 7718: '性', 7719: '륨', 7720: '싹', 7721: '챈', 7722: '쓸', 7723: '벗', 7724: '웹', 7725: '즉', 7726: '횡', 7727: '벙', 7728: '싯', 7729: '칫', 7730: '넛', 7731: '랠', 7732: '삐', 7733: '엣', 7734: '엿', 7735: '젼', 7736: '줍', 7737: '쿵', 7738: '핼', 7739: '新', 7740: '옷', 7741: '겸', 7742: '묻', 7743: 'q', 7744: '렝', 7745: '궂', 7746: '녕', 7747: '밥', 7748: '벼', 7749: '훼', 7750: '펭', 7751: '깨', 7752: '좁', 7753: '美', 7754: '낮', 7755: '곧', 7756: '섹', 7757: '냄', 7758: '찮', 7759: '갖', 7760: '꼭', 7761: '묵', 7762: '샌', 7763: '좀', 7764: '놨', 7765: '휠', 7766: '뛰', 7767: '쌀', 7768: '맛', 7769: '멀', 7770: '탤', 7771: '촛', 7772: '낄', 7773: '셴', 7774: '귄', 7775: '쓴', 7776: '밑', 7777: '삶', 7778: '꿀', 7779: '맡', 7780: '큼', 7781: '꿔', 7782: '눠', 7783: '숫', 7784: '덧', 7785: '*', 7786: '뜻', 7787: '룹', 7788: '끗', 7789: '걱', 7790: '빚', 7791: '밝', 7792: '맺', 7793: '힉', 7794: '많', 7795: '숀', 7796: '봄', 7797: '끓', 7798: '갚', 7799: '쾰', 7800: '찼', 7801: '찢', 7802: '잰', 7803: '웸', 7804: '샐', 7805: '깥', 7806: '겉', 7807: '팸', 7808: '몹', 7809: '꼴', 7810: '씌', 7811: '맷', 7812: '뀐', 7813: '깎', 7814: '콸', 7815: '쏴', 7816: '썹', 7817: '슭', 7818: '킷', 7819: '챌', 7820: '얇', 7821: '씀', 7822: '뀔', 7823: '꽉', 7824: '꽂', 7825: '±', 7826: '뭐', 7827: '댕', 7828: '꿨', 7829: '꾀', 7830: '깐', 7831: '얹', 7832: '쐈', 7833: '뱃', 7834: '긱', 7835: '씻', 7836: '뻗', 7837: '렷', 7838: '낚', 7839: '꼼', 7840: '$', 7841: '잦', 7842: '엎', 7843: '숍', 7844: '뭔', 7845: '맑', 7846: '핫', 7847: '핍', 7848: '몫', 7849: '짖', 7850: '샀', 7851: '낡', 7852: '곁', 7853: '컸', 7854: '캡', 7855: '쏜', 7856: '젭', 7857: '싣', 7858: '맵', 7859: '닮', 7860: '젖', 7861: '쁨', 7862: '릅', 7863: '궈', 7864: '탓', 7865: '캥', 7866: '웍', 7867: '굶', 7868: '뮬', 7869: '릇', 7870: '횟', 7871: '췌', 7872: '틈', 7873: '댓', 7874: '붓', 7875: '́', 7876: '챙', 7877: '앰', 7878: '닿', 7879: '펌', 7880: '흩', 7881: '뮌', 7882: '뤼', 7883: '뿔', 7884: '괜', 7885: '뤘', 7886: '튀', 7887: '꼽', 7888: '굳', 7889: '굉', 7890: '녔', 7891: '랬', 7892: '곱', 7893: '픔', 7894: '밸', 7895: '닙', 7896: '낌', 7897: '띄', 7898: '넹', 7899: '밟', 7900: '눴', 7901: '싫', 7902: '윔', 7903: '괄', 7904: '옛', 7905: '탔', 7906: '썼', 7907: '핸', 7908: '딪', 7909: '잊', 7910: '깝', 7911: '멤', 7912: '벅', 7913: '흰', 7914: '갇', 7915: '췄', 7916: '묶', 7917: '뱅', 7918: '닫', 7919: '왼', 7920: '뀌', 7921: '렴', 7922: '읽', 7923: '깔', 7924: '궤', 7925: '탱', 7926: '탠', 7927: '쌓', 7928: '쫓', 7929: '짧', 7930: '쏟', 7931: '뭄', 7932: '뒷', 7933: '걷', 7934: '슴', 7935: '훨', 7936: '릎', 7937: '뽑', 7938: '뿌', 7939: '붉', 7940: '앓', 7941: '얘', 7942: '옆', 7943: '멋', 7944: '꺾', 7945: '낳', 7946: '곽', 7947: '휩', 7948: '돕', 7949: '녁', 7950: '듣', 7951: '춰', 7952: '끊', 7953: '됩', 7954: '젝', 7955: '늦', 7956: '앉', 7957: '슷', 7958: '렵', 7959: '쿄', 7960: '밴', 7961: '옮', 7962: '봤', 7963: '젊', 7964: '챔', 7965: '촬', 7966: '빨', 7967: '찍', 7968: '떻', 7969: '렀', 7970: '웠', 7971: '겪', 7972: '믿', 7973: '펼', 7974: '섰', 7975: '먹', 7976: '렇', 7977: '̋', 7978: '잃', 7979: '캠', 7980: '싶', 7981: '랐', 7982: '끌', 7983: '갔', 7984: '켰', 7985: '밖', 7986: '얻', 7987: '쇄', 7988: '좋', 7989: '찾', 7990: '떨', 7991: '높', 7992: '맞', 7993: '났', 7994: '혐', 7995: '협', 7996: '확', 7997: '없', 7998: '떤', 7999: '았'}\n"
          ]
        }
      ]
    },
    {
      "cell_type": "markdown",
      "source": [
        "## 실습. 영화리뷰 감성 분석"
      ],
      "metadata": {
        "id": "K6l6OIzokruz"
      }
    },
    {
      "cell_type": "markdown",
      "source": [
        "이번엔 SentencePiece를 이용해 네이버 영화리뷰 감정 분석을 해보겠습니다.\n",
        "\n",
        "그리고 KoNLPy에 Mecab의 결과와 비교해보겠습니다."
      ],
      "metadata": {
        "id": "s58GgbI9xppV"
      }
    },
    {
      "cell_type": "markdown",
      "source": [
        "### SentencePiece(unigram)"
      ],
      "metadata": {
        "id": "Y7ZOCmqxoQPX"
      }
    },
    {
      "cell_type": "code",
      "source": [
        "import pandas as pd\n",
        "import numpy as np\n",
        "import tensorflow as tf\n",
        "\n",
        "\n",
        "train_data = pd.read_table('/content/drive/MyDrive/AIFFEL/GoingDeeper(NLP)/2_단어사전만들기/ratings_train.txt')\n",
        "test_data = pd.read_table('/content/drive/MyDrive/AIFFEL/GoingDeeper(NLP)/2_단어사전만들기/ratings_test.txt')\n"
      ],
      "metadata": {
        "id": "JUAaPUypwqGg"
      },
      "execution_count": 29,
      "outputs": []
    },
    {
      "cell_type": "code",
      "source": [
        "train_data.shape"
      ],
      "metadata": {
        "colab": {
          "base_uri": "https://localhost:8080/"
        },
        "id": "Yq8_Hi6cyV5I",
        "outputId": "927df89a-0e96-4dfa-fac3-307091980314"
      },
      "execution_count": 30,
      "outputs": [
        {
          "output_type": "execute_result",
          "data": {
            "text/plain": [
              "(150000, 3)"
            ]
          },
          "metadata": {},
          "execution_count": 30
        }
      ]
    },
    {
      "cell_type": "code",
      "source": [
        "train_data.head()"
      ],
      "metadata": {
        "colab": {
          "base_uri": "https://localhost:8080/",
          "height": 206
        },
        "id": "3lZC-lkCyYYf",
        "outputId": "8baac75a-a7ed-4320-c782-d10f0283c09c"
      },
      "execution_count": 31,
      "outputs": [
        {
          "output_type": "execute_result",
          "data": {
            "text/plain": [
              "         id                                           document  label\n",
              "0   9976970                                아 더빙.. 진짜 짜증나네요 목소리      0\n",
              "1   3819312                  흠...포스터보고 초딩영화줄....오버연기조차 가볍지 않구나      1\n",
              "2  10265843                                  너무재밓었다그래서보는것을추천한다      0\n",
              "3   9045019                      교도소 이야기구먼 ..솔직히 재미는 없다..평점 조정      0\n",
              "4   6483659  사이몬페그의 익살스런 연기가 돋보였던 영화!스파이더맨에서 늙어보이기만 했던 커스틴 ...      1"
            ],
            "text/html": [
              "\n",
              "  <div id=\"df-3b0f5912-acd8-4221-8dde-db01927cd0de\">\n",
              "    <div class=\"colab-df-container\">\n",
              "      <div>\n",
              "<style scoped>\n",
              "    .dataframe tbody tr th:only-of-type {\n",
              "        vertical-align: middle;\n",
              "    }\n",
              "\n",
              "    .dataframe tbody tr th {\n",
              "        vertical-align: top;\n",
              "    }\n",
              "\n",
              "    .dataframe thead th {\n",
              "        text-align: right;\n",
              "    }\n",
              "</style>\n",
              "<table border=\"1\" class=\"dataframe\">\n",
              "  <thead>\n",
              "    <tr style=\"text-align: right;\">\n",
              "      <th></th>\n",
              "      <th>id</th>\n",
              "      <th>document</th>\n",
              "      <th>label</th>\n",
              "    </tr>\n",
              "  </thead>\n",
              "  <tbody>\n",
              "    <tr>\n",
              "      <th>0</th>\n",
              "      <td>9976970</td>\n",
              "      <td>아 더빙.. 진짜 짜증나네요 목소리</td>\n",
              "      <td>0</td>\n",
              "    </tr>\n",
              "    <tr>\n",
              "      <th>1</th>\n",
              "      <td>3819312</td>\n",
              "      <td>흠...포스터보고 초딩영화줄....오버연기조차 가볍지 않구나</td>\n",
              "      <td>1</td>\n",
              "    </tr>\n",
              "    <tr>\n",
              "      <th>2</th>\n",
              "      <td>10265843</td>\n",
              "      <td>너무재밓었다그래서보는것을추천한다</td>\n",
              "      <td>0</td>\n",
              "    </tr>\n",
              "    <tr>\n",
              "      <th>3</th>\n",
              "      <td>9045019</td>\n",
              "      <td>교도소 이야기구먼 ..솔직히 재미는 없다..평점 조정</td>\n",
              "      <td>0</td>\n",
              "    </tr>\n",
              "    <tr>\n",
              "      <th>4</th>\n",
              "      <td>6483659</td>\n",
              "      <td>사이몬페그의 익살스런 연기가 돋보였던 영화!스파이더맨에서 늙어보이기만 했던 커스틴 ...</td>\n",
              "      <td>1</td>\n",
              "    </tr>\n",
              "  </tbody>\n",
              "</table>\n",
              "</div>\n",
              "      <button class=\"colab-df-convert\" onclick=\"convertToInteractive('df-3b0f5912-acd8-4221-8dde-db01927cd0de')\"\n",
              "              title=\"Convert this dataframe to an interactive table.\"\n",
              "              style=\"display:none;\">\n",
              "        \n",
              "  <svg xmlns=\"http://www.w3.org/2000/svg\" height=\"24px\"viewBox=\"0 0 24 24\"\n",
              "       width=\"24px\">\n",
              "    <path d=\"M0 0h24v24H0V0z\" fill=\"none\"/>\n",
              "    <path d=\"M18.56 5.44l.94 2.06.94-2.06 2.06-.94-2.06-.94-.94-2.06-.94 2.06-2.06.94zm-11 1L8.5 8.5l.94-2.06 2.06-.94-2.06-.94L8.5 2.5l-.94 2.06-2.06.94zm10 10l.94 2.06.94-2.06 2.06-.94-2.06-.94-.94-2.06-.94 2.06-2.06.94z\"/><path d=\"M17.41 7.96l-1.37-1.37c-.4-.4-.92-.59-1.43-.59-.52 0-1.04.2-1.43.59L10.3 9.45l-7.72 7.72c-.78.78-.78 2.05 0 2.83L4 21.41c.39.39.9.59 1.41.59.51 0 1.02-.2 1.41-.59l7.78-7.78 2.81-2.81c.8-.78.8-2.07 0-2.86zM5.41 20L4 18.59l7.72-7.72 1.47 1.35L5.41 20z\"/>\n",
              "  </svg>\n",
              "      </button>\n",
              "      \n",
              "  <style>\n",
              "    .colab-df-container {\n",
              "      display:flex;\n",
              "      flex-wrap:wrap;\n",
              "      gap: 12px;\n",
              "    }\n",
              "\n",
              "    .colab-df-convert {\n",
              "      background-color: #E8F0FE;\n",
              "      border: none;\n",
              "      border-radius: 50%;\n",
              "      cursor: pointer;\n",
              "      display: none;\n",
              "      fill: #1967D2;\n",
              "      height: 32px;\n",
              "      padding: 0 0 0 0;\n",
              "      width: 32px;\n",
              "    }\n",
              "\n",
              "    .colab-df-convert:hover {\n",
              "      background-color: #E2EBFA;\n",
              "      box-shadow: 0px 1px 2px rgba(60, 64, 67, 0.3), 0px 1px 3px 1px rgba(60, 64, 67, 0.15);\n",
              "      fill: #174EA6;\n",
              "    }\n",
              "\n",
              "    [theme=dark] .colab-df-convert {\n",
              "      background-color: #3B4455;\n",
              "      fill: #D2E3FC;\n",
              "    }\n",
              "\n",
              "    [theme=dark] .colab-df-convert:hover {\n",
              "      background-color: #434B5C;\n",
              "      box-shadow: 0px 1px 3px 1px rgba(0, 0, 0, 0.15);\n",
              "      filter: drop-shadow(0px 1px 2px rgba(0, 0, 0, 0.3));\n",
              "      fill: #FFFFFF;\n",
              "    }\n",
              "  </style>\n",
              "\n",
              "      <script>\n",
              "        const buttonEl =\n",
              "          document.querySelector('#df-3b0f5912-acd8-4221-8dde-db01927cd0de button.colab-df-convert');\n",
              "        buttonEl.style.display =\n",
              "          google.colab.kernel.accessAllowed ? 'block' : 'none';\n",
              "\n",
              "        async function convertToInteractive(key) {\n",
              "          const element = document.querySelector('#df-3b0f5912-acd8-4221-8dde-db01927cd0de');\n",
              "          const dataTable =\n",
              "            await google.colab.kernel.invokeFunction('convertToInteractive',\n",
              "                                                     [key], {});\n",
              "          if (!dataTable) return;\n",
              "\n",
              "          const docLinkHtml = 'Like what you see? Visit the ' +\n",
              "            '<a target=\"_blank\" href=https://colab.research.google.com/notebooks/data_table.ipynb>data table notebook</a>'\n",
              "            + ' to learn more about interactive tables.';\n",
              "          element.innerHTML = '';\n",
              "          dataTable['output_type'] = 'display_data';\n",
              "          await google.colab.output.renderOutput(dataTable, element);\n",
              "          const docLink = document.createElement('div');\n",
              "          docLink.innerHTML = docLinkHtml;\n",
              "          element.appendChild(docLink);\n",
              "        }\n",
              "      </script>\n",
              "    </div>\n",
              "  </div>\n",
              "  "
            ]
          },
          "metadata": {},
          "execution_count": 31
        }
      ]
    },
    {
      "cell_type": "code",
      "source": [
        "all_data = pd.concat([train_data, test_data], axis=0, ignore_index=True)"
      ],
      "metadata": {
        "id": "gcad1mGxynMu"
      },
      "execution_count": 32,
      "outputs": []
    },
    {
      "cell_type": "code",
      "source": [
        "all_data.head()"
      ],
      "metadata": {
        "colab": {
          "base_uri": "https://localhost:8080/",
          "height": 206
        },
        "id": "4hvWi2hyyuj4",
        "outputId": "6d42997e-53d9-40ec-cb5b-16bcd83a0164"
      },
      "execution_count": 33,
      "outputs": [
        {
          "output_type": "execute_result",
          "data": {
            "text/plain": [
              "         id                                           document  label\n",
              "0   9976970                                아 더빙.. 진짜 짜증나네요 목소리      0\n",
              "1   3819312                  흠...포스터보고 초딩영화줄....오버연기조차 가볍지 않구나      1\n",
              "2  10265843                                  너무재밓었다그래서보는것을추천한다      0\n",
              "3   9045019                      교도소 이야기구먼 ..솔직히 재미는 없다..평점 조정      0\n",
              "4   6483659  사이몬페그의 익살스런 연기가 돋보였던 영화!스파이더맨에서 늙어보이기만 했던 커스틴 ...      1"
            ],
            "text/html": [
              "\n",
              "  <div id=\"df-85a47e08-b640-4881-8afe-0c28f83ceddd\">\n",
              "    <div class=\"colab-df-container\">\n",
              "      <div>\n",
              "<style scoped>\n",
              "    .dataframe tbody tr th:only-of-type {\n",
              "        vertical-align: middle;\n",
              "    }\n",
              "\n",
              "    .dataframe tbody tr th {\n",
              "        vertical-align: top;\n",
              "    }\n",
              "\n",
              "    .dataframe thead th {\n",
              "        text-align: right;\n",
              "    }\n",
              "</style>\n",
              "<table border=\"1\" class=\"dataframe\">\n",
              "  <thead>\n",
              "    <tr style=\"text-align: right;\">\n",
              "      <th></th>\n",
              "      <th>id</th>\n",
              "      <th>document</th>\n",
              "      <th>label</th>\n",
              "    </tr>\n",
              "  </thead>\n",
              "  <tbody>\n",
              "    <tr>\n",
              "      <th>0</th>\n",
              "      <td>9976970</td>\n",
              "      <td>아 더빙.. 진짜 짜증나네요 목소리</td>\n",
              "      <td>0</td>\n",
              "    </tr>\n",
              "    <tr>\n",
              "      <th>1</th>\n",
              "      <td>3819312</td>\n",
              "      <td>흠...포스터보고 초딩영화줄....오버연기조차 가볍지 않구나</td>\n",
              "      <td>1</td>\n",
              "    </tr>\n",
              "    <tr>\n",
              "      <th>2</th>\n",
              "      <td>10265843</td>\n",
              "      <td>너무재밓었다그래서보는것을추천한다</td>\n",
              "      <td>0</td>\n",
              "    </tr>\n",
              "    <tr>\n",
              "      <th>3</th>\n",
              "      <td>9045019</td>\n",
              "      <td>교도소 이야기구먼 ..솔직히 재미는 없다..평점 조정</td>\n",
              "      <td>0</td>\n",
              "    </tr>\n",
              "    <tr>\n",
              "      <th>4</th>\n",
              "      <td>6483659</td>\n",
              "      <td>사이몬페그의 익살스런 연기가 돋보였던 영화!스파이더맨에서 늙어보이기만 했던 커스틴 ...</td>\n",
              "      <td>1</td>\n",
              "    </tr>\n",
              "  </tbody>\n",
              "</table>\n",
              "</div>\n",
              "      <button class=\"colab-df-convert\" onclick=\"convertToInteractive('df-85a47e08-b640-4881-8afe-0c28f83ceddd')\"\n",
              "              title=\"Convert this dataframe to an interactive table.\"\n",
              "              style=\"display:none;\">\n",
              "        \n",
              "  <svg xmlns=\"http://www.w3.org/2000/svg\" height=\"24px\"viewBox=\"0 0 24 24\"\n",
              "       width=\"24px\">\n",
              "    <path d=\"M0 0h24v24H0V0z\" fill=\"none\"/>\n",
              "    <path d=\"M18.56 5.44l.94 2.06.94-2.06 2.06-.94-2.06-.94-.94-2.06-.94 2.06-2.06.94zm-11 1L8.5 8.5l.94-2.06 2.06-.94-2.06-.94L8.5 2.5l-.94 2.06-2.06.94zm10 10l.94 2.06.94-2.06 2.06-.94-2.06-.94-.94-2.06-.94 2.06-2.06.94z\"/><path d=\"M17.41 7.96l-1.37-1.37c-.4-.4-.92-.59-1.43-.59-.52 0-1.04.2-1.43.59L10.3 9.45l-7.72 7.72c-.78.78-.78 2.05 0 2.83L4 21.41c.39.39.9.59 1.41.59.51 0 1.02-.2 1.41-.59l7.78-7.78 2.81-2.81c.8-.78.8-2.07 0-2.86zM5.41 20L4 18.59l7.72-7.72 1.47 1.35L5.41 20z\"/>\n",
              "  </svg>\n",
              "      </button>\n",
              "      \n",
              "  <style>\n",
              "    .colab-df-container {\n",
              "      display:flex;\n",
              "      flex-wrap:wrap;\n",
              "      gap: 12px;\n",
              "    }\n",
              "\n",
              "    .colab-df-convert {\n",
              "      background-color: #E8F0FE;\n",
              "      border: none;\n",
              "      border-radius: 50%;\n",
              "      cursor: pointer;\n",
              "      display: none;\n",
              "      fill: #1967D2;\n",
              "      height: 32px;\n",
              "      padding: 0 0 0 0;\n",
              "      width: 32px;\n",
              "    }\n",
              "\n",
              "    .colab-df-convert:hover {\n",
              "      background-color: #E2EBFA;\n",
              "      box-shadow: 0px 1px 2px rgba(60, 64, 67, 0.3), 0px 1px 3px 1px rgba(60, 64, 67, 0.15);\n",
              "      fill: #174EA6;\n",
              "    }\n",
              "\n",
              "    [theme=dark] .colab-df-convert {\n",
              "      background-color: #3B4455;\n",
              "      fill: #D2E3FC;\n",
              "    }\n",
              "\n",
              "    [theme=dark] .colab-df-convert:hover {\n",
              "      background-color: #434B5C;\n",
              "      box-shadow: 0px 1px 3px 1px rgba(0, 0, 0, 0.15);\n",
              "      filter: drop-shadow(0px 1px 2px rgba(0, 0, 0, 0.3));\n",
              "      fill: #FFFFFF;\n",
              "    }\n",
              "  </style>\n",
              "\n",
              "      <script>\n",
              "        const buttonEl =\n",
              "          document.querySelector('#df-85a47e08-b640-4881-8afe-0c28f83ceddd button.colab-df-convert');\n",
              "        buttonEl.style.display =\n",
              "          google.colab.kernel.accessAllowed ? 'block' : 'none';\n",
              "\n",
              "        async function convertToInteractive(key) {\n",
              "          const element = document.querySelector('#df-85a47e08-b640-4881-8afe-0c28f83ceddd');\n",
              "          const dataTable =\n",
              "            await google.colab.kernel.invokeFunction('convertToInteractive',\n",
              "                                                     [key], {});\n",
              "          if (!dataTable) return;\n",
              "\n",
              "          const docLinkHtml = 'Like what you see? Visit the ' +\n",
              "            '<a target=\"_blank\" href=https://colab.research.google.com/notebooks/data_table.ipynb>data table notebook</a>'\n",
              "            + ' to learn more about interactive tables.';\n",
              "          element.innerHTML = '';\n",
              "          dataTable['output_type'] = 'display_data';\n",
              "          await google.colab.output.renderOutput(dataTable, element);\n",
              "          const docLink = document.createElement('div');\n",
              "          docLink.innerHTML = docLinkHtml;\n",
              "          element.appendChild(docLink);\n",
              "        }\n",
              "      </script>\n",
              "    </div>\n",
              "  </div>\n",
              "  "
            ]
          },
          "metadata": {},
          "execution_count": 33
        }
      ]
    },
    {
      "cell_type": "code",
      "source": [
        "all_data.dropna(axis=0 ,inplace=True)"
      ],
      "metadata": {
        "id": "GY4csCUi22Es"
      },
      "execution_count": 34,
      "outputs": []
    },
    {
      "cell_type": "code",
      "source": [
        "all_data.shape"
      ],
      "metadata": {
        "colab": {
          "base_uri": "https://localhost:8080/"
        },
        "id": "ccV36TCR3DBl",
        "outputId": "7480a6bd-a2d0-476f-9def-870f80827e36"
      },
      "execution_count": 35,
      "outputs": [
        {
          "output_type": "execute_result",
          "data": {
            "text/plain": [
              "(199992, 3)"
            ]
          },
          "metadata": {},
          "execution_count": 35
        }
      ]
    },
    {
      "cell_type": "code",
      "source": [
        "# 중복치 제거\n",
        "all_data=all_data.drop_duplicates('document', keep='first')"
      ],
      "metadata": {
        "id": "anSUBVr64JC1"
      },
      "execution_count": 36,
      "outputs": []
    },
    {
      "cell_type": "code",
      "source": [
        "all_data.shape"
      ],
      "metadata": {
        "colab": {
          "base_uri": "https://localhost:8080/"
        },
        "id": "8dgYtLnr4gx2",
        "outputId": "0ae2621d-2ff4-469f-c8bd-f79bc1fca50a"
      },
      "execution_count": 37,
      "outputs": [
        {
          "output_type": "execute_result",
          "data": {
            "text/plain": [
              "(194543, 3)"
            ]
          },
          "metadata": {},
          "execution_count": 37
        }
      ]
    },
    {
      "cell_type": "code",
      "source": [
        "sentence = (all_data['document'])\n",
        "sentence"
      ],
      "metadata": {
        "colab": {
          "base_uri": "https://localhost:8080/"
        },
        "id": "7A1xrK9oyw92",
        "outputId": "57db7fca-d742-421c-c0db-2c43d964ad7c"
      },
      "execution_count": 38,
      "outputs": [
        {
          "output_type": "execute_result",
          "data": {
            "text/plain": [
              "0                                       아 더빙.. 진짜 짜증나네요 목소리\n",
              "1                         흠...포스터보고 초딩영화줄....오버연기조차 가볍지 않구나\n",
              "2                                         너무재밓었다그래서보는것을추천한다\n",
              "3                             교도소 이야기구먼 ..솔직히 재미는 없다..평점 조정\n",
              "4         사이몬페그의 익살스런 연기가 돋보였던 영화!스파이더맨에서 늙어보이기만 했던 커스틴 ...\n",
              "                                ...                        \n",
              "199995            오랜만에 평점 로긴했네ㅋㅋ 킹왕짱 쌈뽕한 영화를 만났습니다 강렬하게 육쾌함\n",
              "199996         의지 박약들이나 하는거다 탈영은 일단 주인공 김대희 닮았고 이등병 찐따 OOOO\n",
              "199997                   그림도 좋고 완성도도 높았지만... 보는 내내 불안하게 만든다\n",
              "199998       절대 봐서는 안 될 영화.. 재미도 없고 기분만 잡치고.. 한 세트장에서 다 해먹네\n",
              "199999                                           마무리는 또 왜이래\n",
              "Name: document, Length: 194543, dtype: object"
            ]
          },
          "metadata": {},
          "execution_count": 38
        }
      ]
    },
    {
      "cell_type": "code",
      "source": [
        "import matplotlib.pyplot as plt\n",
        "\n",
        "\n",
        "min_len = 999\n",
        "max_len = 0\n",
        "sum_len = 0\n",
        "\n",
        "for s in sentence:\n",
        "  if len(s) > max_len:\n",
        "    max_len = len(s)\n",
        "  if len(s) < min_len:\n",
        "    min_len = len(s)\n",
        "  sum_len += len(s)\n",
        "\n",
        "print('Min length : ', min_len)\n",
        "print('Max length : ', max_len)\n",
        "print('Average length : ', sum_len // len(sentence))\n",
        "\n",
        "sen_length_cnt = [0] * max_len\n",
        "for sen in sentence:\n",
        "  sen_length_cnt[len(sen)-1] += 1\n",
        "\n",
        "plt.bar(range(max_len), sen_length_cnt, width=1.0)\n",
        "plt.show()"
      ],
      "metadata": {
        "colab": {
          "base_uri": "https://localhost:8080/",
          "height": 319
        },
        "id": "BF9l6Rdhzanv",
        "outputId": "e1773bbe-9757-4820-b4e4-bb257a647f13"
      },
      "execution_count": 39,
      "outputs": [
        {
          "output_type": "stream",
          "name": "stdout",
          "text": [
            "Min length :  1\n",
            "Max length :  146\n",
            "Average length :  36\n"
          ]
        },
        {
          "output_type": "display_data",
          "data": {
            "text/plain": [
              "<Figure size 432x288 with 1 Axes>"
            ],
            "image/png": "[encoded data removed]"
          },
          "metadata": {
            "needs_background": "light"
          }
        }
      ]
    },
    {
      "cell_type": "code",
      "source": [
        "max_len = 140\n",
        "min_len = 10\n",
        "\n",
        "filtered_sen = [] \n",
        "filtered_target = []  \n",
        "\n",
        "target = np.array(all_data['label'])\n",
        "\n",
        "for s, t in zip(sentence, target):\n",
        "    if (len(str(s)) < max_len) & (len(str(s)) >= min_len):\n",
        "        filtered_sen.append(s) \n",
        "        filtered_target.append(t)\n",
        "\n",
        "print(len(filtered_sen))\n",
        "print(len(filtered_target))"
      ],
      "metadata": {
        "colab": {
          "base_uri": "https://localhost:8080/"
        },
        "id": "NAArqeN57HqE",
        "outputId": "7b8c97d6-a8e8-4f9e-8ce8-f1777606e3f6"
      },
      "execution_count": 40,
      "outputs": [
        {
          "output_type": "stream",
          "name": "stdout",
          "text": [
            "180320\n",
            "180320\n"
          ]
        }
      ]
    },
    {
      "cell_type": "markdown",
      "source": [
        "### SentencePiece Model 학습\n",
        "\n",
        "    spm.SentencePieceTrainer.Train(\n",
        "    '--input={} --model_prefix=korean_spm --vocab_size={} --model_type=unigram'.format(temp_file_path, vocab_size))\n",
        "\n",
        "--input: one-sentence-per-line raw corpus file. No need to run tokenizer, normalizer or preprocessor. By default, SentencePiece normalizes the input with Unicode NFKC. You can pass a comma-separated list of files.  \n",
        "--model_prefix: output model name prefix. <model_name>.model and <model_name>.vocab are generated.  \n",
        "--vocab_size: vocabulary size, e.g., 8000, 16000, or 32000  \n",
        "--character_coverage: amount of characters covered by the model, good defaults are: 0.9995 for languages with rich character set like Japanese or Chinese and 1.0 for other languages with small character set.    \n",
        "--model_type: model type. Choose from unigram (default), bpe, char, or word. The input sentence must be pretokenized when using word type.  "
      ],
      "metadata": {
        "id": "EeRobj3fnh3r"
      }
    },
    {
      "cell_type": "code",
      "source": [
        "import sentencepiece as spm\n",
        "temp_file_path = '/content/drive/MyDrive/AIFFEL/GoingDeeper(NLP)/2_단어사전만들기/ratings_test.txt.temp'\n",
        "\n",
        "vocab_size = 16000\n",
        "\n",
        "with open(temp_file_path, 'w') as f:\n",
        "  for row in filtered_sen:\n",
        "    f.write(str(row) + '\\n')\n",
        "\n",
        "spm.SentencePieceTrainer.Train(\n",
        "    '--input={} --model_prefix=korean_spm --vocab_size={} --model_type=unigram'.format(temp_file_path, vocab_size)\n",
        ")\n",
        "#위 Train에서  --model_type = 'unigram'이 디폴트 적용되어 있습니다. --model_type = 'bpe' 로 옵션을 주어 변경할 수 있습니다.\n",
        "\n",
        "!ls -l korean_spm*"
      ],
      "metadata": {
        "colab": {
          "base_uri": "https://localhost:8080/"
        },
        "id": "T6THKLOyk0xM",
        "outputId": "b6bdc177-3899-440e-a59a-680bd06771e5"
      },
      "execution_count": 41,
      "outputs": [
        {
          "output_type": "stream",
          "name": "stdout",
          "text": [
            "-rw-r--r-- 1 root root 534123 Sep 24 08:45 korean_spm.model\n",
            "-rw-r--r-- 1 root root 310483 Sep 24 08:45 korean_spm.vocab\n"
          ]
        }
      ]
    },
    {
      "cell_type": "markdown",
      "source": [
        "앞에서 만들어둔 함수를 이용해 토큰화를 진행해보겠습니다. "
      ],
      "metadata": {
        "id": "wF-buc3NCPot"
      }
    },
    {
      "cell_type": "code",
      "source": [
        "def sp_tokenize(s, corpus):\n",
        "  tensor = []\n",
        "\n",
        "  for sen in corpus:\n",
        "    tensor.append(s.EncodeAsIds(sen))\n",
        "  \n",
        "  with open(\"./korean_spm.vocab\", 'r') as f:\n",
        "    vocab = f.readlines()\n",
        "  \n",
        "  word_index = {}\n",
        "  index_word = {}\n",
        "\n",
        "  for idx, line in enumerate(vocab):\n",
        "    word = line.split(\"\\t\")[0]\n",
        "\n",
        "    word_index.update({word:idx})\n",
        "    index_word.update({idx:word})\n",
        "  \n",
        "  tensor = tensorflow.keras.preprocessing.sequence.pad_sequences(tensor, padding='pre')\n",
        "\n",
        "  return tensor, word_index, index_word"
      ],
      "metadata": {
        "id": "UHpR9cTq1eJd"
      },
      "execution_count": 42,
      "outputs": []
    },
    {
      "cell_type": "markdown",
      "source": [
        "샘플로 한 번 뽑아보겠습니다.\n",
        "\n",
        "만약 잘 되는게 확인이 된다면 전체 데이터에 대해서 적용시켜 주겠습니다."
      ],
      "metadata": {
        "id": "UuCAoKsIKYZ3"
      }
    },
    {
      "cell_type": "code",
      "source": [
        "import tensorflow\n",
        "\n",
        "s = spm.SentencePieceProcessor()\n",
        "s.Load('korean_spm.model')\n",
        "tensor, word_index, index_word = sp_tokenize(s, sentence[1:3])"
      ],
      "metadata": {
        "id": "XyiMqJw0C8kw"
      },
      "execution_count": 43,
      "outputs": []
    },
    {
      "cell_type": "code",
      "source": [
        "print(tensor)"
      ],
      "metadata": {
        "colab": {
          "base_uri": "https://localhost:8080/"
        },
        "id": "pnr_m8nrJX4O",
        "outputId": "57ba613d-65ba-4d20-b516-33e305096e5e"
      },
      "execution_count": 44,
      "outputs": [
        {
          "output_type": "stream",
          "name": "stdout",
          "text": [
            "[[ 1659     7  4930   152  1482    34   408    52   184   747   410  1444\n",
            "   8146   828   397]\n",
            " [    0     0     0     0     0     0    20   467     0   437  3308 13125\n",
            "     14  2320   320]]\n"
          ]
        }
      ]
    },
    {
      "cell_type": "code",
      "source": [
        "sentence[1], sentence[2]"
      ],
      "metadata": {
        "colab": {
          "base_uri": "https://localhost:8080/"
        },
        "id": "6b7arrUyfB2g",
        "outputId": "edf50fef-12e2-446d-a403-baa4c0f0be9d"
      },
      "execution_count": 45,
      "outputs": [
        {
          "output_type": "execute_result",
          "data": {
            "text/plain": [
              "('흠...포스터보고 초딩영화줄....오버연기조차 가볍지 않구나', '너무재밓었다그래서보는것을추천한다')"
            ]
          },
          "metadata": {},
          "execution_count": 45
        }
      ]
    },
    {
      "cell_type": "code",
      "source": [
        "# 전체 데이터 전처리 + 토큰화\n",
        "tensor, word_index, index_word = sp_tokenize(s, filtered_sen)"
      ],
      "metadata": {
        "id": "Z8mcxeYWR7PU"
      },
      "execution_count": 46,
      "outputs": []
    },
    {
      "cell_type": "code",
      "source": [
        "print(tensor.shape)\n",
        "print(tensor)\n",
        "print(len(word_index))\n",
        "print(len(index_word))"
      ],
      "metadata": {
        "colab": {
          "base_uri": "https://localhost:8080/"
        },
        "id": "nSLadoewgFan",
        "outputId": "ebfaa74e-41f1-4348-f2ef-16e629a732ce"
      },
      "execution_count": 47,
      "outputs": [
        {
          "output_type": "stream",
          "name": "stdout",
          "text": [
            "(180320, 132)\n",
            "[[   0    0    0 ... 2190   79 1312]\n",
            " [   0    0    0 ... 8146  828  397]\n",
            " [   0    0    0 ...   14 2320  320]\n",
            " ...\n",
            " [   0    0    0 ... 5158  114 2250]\n",
            " [   0    0    0 ...  366  964   57]\n",
            " [   0    0    0 ...   13  162 3473]]\n",
            "16000\n",
            "16000\n"
          ]
        }
      ]
    },
    {
      "cell_type": "markdown",
      "source": [
        "SentencePiece를 이용해 토큰화, 단어 인덱싱, 패딩 등의 과정을 전부 거쳤으니 감성 분류 모델을 설계하고 학습 시켜보겠습니다.\n",
        "\n",
        "그리고 훈련 데이터와 테스트 데이터를 나눠야 하는데\n",
        "\n",
        "훈련, 평가 비율은 8:2 로 하겠습니다."
      ],
      "metadata": {
        "id": "8wfmgZ75sH6M"
      }
    },
    {
      "cell_type": "code",
      "source": [
        "# 데이터 나누기\n",
        "from sklearn.model_selection import train_test_split\n",
        "\n",
        "x_train, val_x, y_train, val_y = train_test_split(tensor, filtered_target, test_size=0.2)\n",
        "y_train = np.array(y_train)\n",
        "val_y = np.array(val_y)"
      ],
      "metadata": {
        "id": "P7v-PVeus4zw"
      },
      "execution_count": 48,
      "outputs": []
    },
    {
      "cell_type": "code",
      "source": [
        "x_train.shape, y_train.shape, val_x.shape, val_y.shape"
      ],
      "metadata": {
        "colab": {
          "base_uri": "https://localhost:8080/"
        },
        "id": "nOw6YFWPus8H",
        "outputId": "24de9736-b5da-4d5b-e77e-99e286462aa0"
      },
      "execution_count": 49,
      "outputs": [
        {
          "output_type": "execute_result",
          "data": {
            "text/plain": [
              "((144256, 132), (144256,), (36064, 132), (36064,))"
            ]
          },
          "metadata": {},
          "execution_count": 49
        }
      ]
    },
    {
      "cell_type": "code",
      "source": [
        "# LSTM 모델 설계\n",
        "import tensorflow as tf\n",
        "\n",
        "vocab_size = vocab_size\n",
        "word_vector_dim = 200\n",
        "\n",
        "model_lstm = tf.keras.Sequential()\n",
        "model_lstm.add(tf.keras.layers.Embedding(vocab_size, word_vector_dim, input_shape=(None,)))\n",
        "model_lstm.add(tf.keras.layers.LSTM(128))\n",
        "model_lstm.add(tf.keras.layers.Dense(32, activation='relu'))\n",
        "model_lstm.add(tf.keras.layers.Dense(1, activation='sigmoid')) # 최종 출력은 긍정/부정을 나타내는 1dim 입니다.\n",
        "model_lstm.summary()"
      ],
      "metadata": {
        "colab": {
          "base_uri": "https://localhost:8080/"
        },
        "id": "tqa3guz9u6LF",
        "outputId": "958ac8f4-4280-4287-88ea-f63357b82ede"
      },
      "execution_count": 50,
      "outputs": [
        {
          "output_type": "stream",
          "name": "stdout",
          "text": [
            "Model: \"sequential\"\n",
            "_________________________________________________________________\n",
            " Layer (type)                Output Shape              Param #   \n",
            "=================================================================\n",
            " embedding (Embedding)       (None, None, 200)         3200000   \n",
            "                                                                 \n",
            " lstm (LSTM)                 (None, 128)               168448    \n",
            "                                                                 \n",
            " dense (Dense)               (None, 32)                4128      \n",
            "                                                                 \n",
            " dense_1 (Dense)             (None, 1)                 33        \n",
            "                                                                 \n",
            "=================================================================\n",
            "Total params: 3,372,609\n",
            "Trainable params: 3,372,609\n",
            "Non-trainable params: 0\n",
            "_________________________________________________________________\n"
          ]
        }
      ]
    },
    {
      "cell_type": "code",
      "source": [
        "# 모델 훈련\n",
        "\n",
        "epochs = 2\n",
        "callback = tf.keras.callbacks.EarlyStopping(monitor = 'val_loss', patience=5)\n",
        "\n",
        "model_lstm.compile(optimizer='adam',\n",
        "             loss = 'binary_crossentropy',\n",
        "             metrics=['accuracy'])\n",
        "\n",
        "history_lstm = model_lstm.fit(x_train,\n",
        "                              y_train,\n",
        "                              epochs=epochs,\n",
        "                              batch_size=128,\n",
        "                              validation_data=(val_x, val_y),\n",
        "                              verbose=1)"
      ],
      "metadata": {
        "colab": {
          "base_uri": "https://localhost:8080/"
        },
        "id": "oXqp976uyIoA",
        "outputId": "fc56707b-668a-45be-cc65-737495f0434d"
      },
      "execution_count": 51,
      "outputs": [
        {
          "output_type": "stream",
          "name": "stdout",
          "text": [
            "Epoch 1/2\n",
            "1127/1127 [==============================] - 20s 16ms/step - loss: 0.3753 - accuracy: 0.8308 - val_loss: 0.3176 - val_accuracy: 0.8625\n",
            "Epoch 2/2\n",
            "1127/1127 [==============================] - 17s 15ms/step - loss: 0.2666 - accuracy: 0.8870 - val_loss: 0.3107 - val_accuracy: 0.8657\n"
          ]
        }
      ]
    },
    {
      "cell_type": "code",
      "source": [
        "# 시각화할 수 있는 항목 체크\n",
        "history_dict = history_lstm.history\n",
        "history_dict.keys()"
      ],
      "metadata": {
        "colab": {
          "base_uri": "https://localhost:8080/"
        },
        "id": "IE8lBzMW-VnT",
        "outputId": "0485ca53-33bf-4bab-c8d0-a013bbc92c49"
      },
      "execution_count": 52,
      "outputs": [
        {
          "output_type": "execute_result",
          "data": {
            "text/plain": [
              "dict_keys(['loss', 'accuracy', 'val_loss', 'val_accuracy'])"
            ]
          },
          "metadata": {},
          "execution_count": 52
        }
      ]
    },
    {
      "cell_type": "code",
      "source": [
        "loss = history_dict['loss']\n",
        "val_loss = history_dict['val_loss']\n",
        "acc = history_dict['accuracy']\n",
        "val_acc = history_dict['val_accuracy']\n",
        "\n",
        "epochs = range(1, len(acc) + 1)\n",
        "\n",
        "fig, (ax1, ax2) = plt.subplots(1, 2, figsize=(10,8))\n",
        "ax1.plot(epochs, loss, 'bo', label='Training loss')\n",
        "ax1.plot(epochs, val_loss, 'b', label='Validation loss')\n",
        "ax1.set_title('Traning and validation loss')\n",
        "ax1.legend()\n",
        "\n",
        "ax2.plot(epochs, acc, 'bo', label='Training acc')\n",
        "ax2.plot(epochs, val_acc, 'b', label='Validation acc')\n",
        "ax2.set_title('Training and validation acc')\n",
        "ax2.legend()\n",
        "plt.show()\n"
      ],
      "metadata": {
        "colab": {
          "base_uri": "https://localhost:8080/",
          "height": 499
        },
        "id": "R8a8YoUG-9-5",
        "outputId": "f5f8aff6-63f6-49fc-8a84-24909cf957df"
      },
      "execution_count": 53,
      "outputs": [
        {
          "output_type": "display_data",
          "data": {
            "text/plain": [
              "<Figure size 720x576 with 2 Axes>"
            ],
            "image/png": "[encoded data removed]"
          },
          "metadata": {
            "needs_background": "light"
          }
        }
      ]
    },
    {
      "cell_type": "markdown",
      "source": [
        "## 결과\n",
        "\n",
        "1. sentencepiece 1\n",
        "  - 문장 길이 : 10 ~ 60\n",
        "  - 단어장 크기 : 16000\n",
        "  - 패딩 : post\n",
        "  - 임베딩 차원 : 200\n",
        "  - 배치사이즈 : 128\n",
        "  - 에폭 20\n",
        "  - loss: 0.0149 - accuracy: 0.9956 - val_loss: 0.9434 - val_accuracy: 0.8228\n",
        "\n",
        "2. sentencepiece 2\n",
        "  - 문장 길이 : 5 ~ 100\n",
        "  - 단어장 크기 : 16000\n",
        "  - 패딩 : post\n",
        "  - 임베딩 차원 : 200\n",
        "  - 배치 사이즈 : 128\n",
        "  - 에폭 : 20\n",
        "  - loss: 0.6932 - accuracy: 0.5018 - val_loss: 0.6932 - val_accuracy: 0.4957\n",
        "\n",
        "3. sentencepiece 3\n",
        "  - 문장 길이 : 5 ~ 100\n",
        "  - 단어장 크기 : 16000\n",
        "  - 패딩 : pre\n",
        "  - 임베딩 차원 : 200\n",
        "  - 배치 사이즈 : 128\n",
        "  - 에폭 : 20\n",
        "  - loss: 0.0058 - accuracy: 0.9981 - val_loss: 1.3404 - val_accuracy: 0.8271\n",
        "\n",
        "4. sentencepiece 4\n",
        "  - 문장 길이 : 전부\n",
        "  - 단어장 크기 : 16000\n",
        "  - 패딩 : pre\n",
        "  - 임베딩 차원 200\n",
        "  - 배치 사이즈 : 128\n",
        "  - 에폭 : 10\n",
        "\n",
        "5. sentencepiece 5\n",
        "  - 단어장 크기 : 32000\n",
        "  - 나머지 4와 동일\n",
        "  - loss: 0.0293 - accuracy: 0.9886 - val_loss: 1.1246 - val_accuracy: 0.8195\n",
        "\n",
        "6. sentencepiece 6\n",
        "  - 문장 길이 : 5 ~ 80\n",
        "  - 나머지 5와 동일\n",
        "  - loss: 0.0097 - accuracy: 0.9965 - val_loss: 1.2195 - val_accuracy: 0.8295\n",
        "\n",
        "7. sentencepiece 7\n",
        "  - 문장 길이 : 10 ~ 80\n",
        "  - 임베딩 차원 100\n",
        "  - 나머지 6과 동일\n",
        "  - loss: 0.0642 - accuracy: 0.9752 - val_loss: 0.7159 - val_accuracy: 0.8366\n",
        "\n",
        "8. sentencepiece 8\n",
        "  - 문장 길이 : 10 ~ 140\n",
        "  - 단어장 크기 : 8000\n",
        "  - 임베딩 차원 : 200\n",
        "  - 나머지 7과 동일\n",
        "  - loss: 0.2945 - accuracy: 0.8719 - val_loss: 0.3251 - val_accuracy: 0.8598\n",
        "\n",
        "결과로 보면 문장의 길이가 너무 짧은 문장을 sentencepiece 모델에 학습시키게 되면 오히려 성능이 안좋아지는 것을 확인할 수 있음.\n",
        "\n",
        "너무 짧은 문장은 버리는 게 좋을 것 같다. 그리고 단어장이 무조건 크다고 좋은것도 아닌 것 같다.\n",
        "\n"
      ],
      "metadata": {
        "id": "6O_62DJHBd4e"
      }
    },
    {
      "cell_type": "markdown",
      "source": [
        "### SentencePiece(bpe)"
      ],
      "metadata": {
        "id": "bKhv_tD8oFXy"
      }
    },
    {
      "cell_type": "code",
      "source": [
        "import pandas as pd\n",
        "import numpy as np\n",
        "import tensorflow as tf\n",
        "\n",
        "\n",
        "train_data = pd.read_table('/content/drive/MyDrive/AIFFEL/GoingDeeper(NLP)/2_단어사전만들기/ratings_train.txt')\n",
        "test_data = pd.read_table('/content/drive/MyDrive/AIFFEL/GoingDeeper(NLP)/2_단어사전만들기/ratings_test.txt')"
      ],
      "metadata": {
        "id": "S5qlsd57oKdD"
      },
      "execution_count": 54,
      "outputs": []
    },
    {
      "cell_type": "code",
      "source": [
        "# 모델 합치기, 결측치 제거, 중복치 제거\n",
        "all_data = pd.concat([train_data, test_data], axis=0, ignore_index=True)\n",
        "all_data.dropna(axis=0 ,inplace=True)\n",
        "all_data=all_data.drop_duplicates('document', keep='first')\n",
        "\n",
        "all_data.shape"
      ],
      "metadata": {
        "colab": {
          "base_uri": "https://localhost:8080/"
        },
        "id": "5AtA9TnNosRG",
        "outputId": "47c763ef-27e4-4d2a-e92c-68b0d5d35fb0"
      },
      "execution_count": 55,
      "outputs": [
        {
          "output_type": "execute_result",
          "data": {
            "text/plain": [
              "(194543, 3)"
            ]
          },
          "metadata": {},
          "execution_count": 55
        }
      ]
    },
    {
      "cell_type": "code",
      "source": [
        "sentence = (all_data['document'])\n",
        "\n",
        "\n",
        "max_len = 140\n",
        "min_len = 10\n",
        "\n",
        "filtered_sen = [] \n",
        "filtered_target = []  \n",
        "\n",
        "target = np.array(all_data['label'])\n",
        "\n",
        "for s, t in zip(sentence, target):\n",
        "    if (len(str(s)) < max_len) & (len(str(s)) >= min_len):\n",
        "        filtered_sen.append(s) \n",
        "        filtered_target.append(t)\n",
        "\n",
        "print(len(filtered_sen))\n",
        "print(len(filtered_target))"
      ],
      "metadata": {
        "colab": {
          "base_uri": "https://localhost:8080/"
        },
        "id": "VrbPrGpLo_Sb",
        "outputId": "b853e6e2-e55a-4fac-83d8-4a93057204cb"
      },
      "execution_count": 56,
      "outputs": [
        {
          "output_type": "stream",
          "name": "stdout",
          "text": [
            "180320\n",
            "180320\n"
          ]
        }
      ]
    },
    {
      "cell_type": "code",
      "source": [
        "import sentencepiece as spm\n",
        "temp_file_path = '/content/drive/MyDrive/AIFFEL/GoingDeeper(NLP)/2_단어사전만들기/ratings_test.txt.temp'\n",
        "\n",
        "vocab_size = 16000\n",
        "\n",
        "with open(temp_file_path, 'w') as f:\n",
        "  for row in filtered_sen:\n",
        "    f.write(str(row) + '\\n')\n",
        "\n",
        "spm.SentencePieceTrainer.Train(\n",
        "    '--input={} --model_prefix=korean_spm --vocab_size={} --model_type=bpe'.format(temp_file_path, vocab_size)\n",
        ")\n",
        "#위 Train에서  --model_type = 'unigram'이 디폴트 적용되어 있습니다. --model_type = 'bpe' 로 옵션을 주어 변경할 수 있습니다.\n",
        "\n",
        "!ls -l korean_spm*"
      ],
      "metadata": {
        "colab": {
          "base_uri": "https://localhost:8080/"
        },
        "id": "rHCkn4NDpKFJ",
        "outputId": "10bf2000-e925-46f0-f8e3-98acf61883ea"
      },
      "execution_count": 57,
      "outputs": [
        {
          "output_type": "stream",
          "name": "stdout",
          "text": [
            "-rw-r--r-- 1 root root 523592 Sep 24 08:47 korean_spm.model\n",
            "-rw-r--r-- 1 root root 258735 Sep 24 08:47 korean_spm.vocab\n"
          ]
        }
      ]
    },
    {
      "cell_type": "code",
      "source": [
        "import tensorflow\n",
        "\n",
        "s = spm.SentencePieceProcessor()\n",
        "s.Load('korean_spm.model')\n",
        "\n",
        "# 전체 데이터 전처리 + 토큰화\n",
        "tensor, word_index, index_word = sp_tokenize(s, filtered_sen)"
      ],
      "metadata": {
        "id": "fc2vKTwJpYTj"
      },
      "execution_count": 58,
      "outputs": []
    },
    {
      "cell_type": "code",
      "source": [
        "# 데이터 나누기\n",
        "from sklearn.model_selection import train_test_split\n",
        "\n",
        "x_train, val_x, y_train, val_y = train_test_split(tensor, filtered_target, test_size=0.2)\n",
        "y_train = np.array(y_train)\n",
        "val_y = np.array(val_y)"
      ],
      "metadata": {
        "id": "5vQZQXl6piw0"
      },
      "execution_count": 59,
      "outputs": []
    },
    {
      "cell_type": "code",
      "source": [
        "# LSTM 모델 설계\n",
        "import tensorflow as tf\n",
        "\n",
        "vocab_size = vocab_size\n",
        "word_vector_dim = 200\n",
        "\n",
        "model_lstm_bpe = tf.keras.Sequential()\n",
        "model_lstm_bpe.add(tf.keras.layers.Embedding(vocab_size, word_vector_dim, input_shape=(None,)))\n",
        "model_lstm_bpe.add(tf.keras.layers.LSTM(128))\n",
        "model_lstm_bpe.add(tf.keras.layers.Dense(32, activation='relu'))\n",
        "model_lstm_bpe.add(tf.keras.layers.Dense(1, activation='sigmoid')) # 최종 출력은 긍정/부정을 나타내는 1dim 입니다.\n",
        "model_lstm_bpe.summary()"
      ],
      "metadata": {
        "colab": {
          "base_uri": "https://localhost:8080/"
        },
        "id": "yhVTWFe4pma8",
        "outputId": "8833ea07-9c82-44a0-8138-5b00b7c50746"
      },
      "execution_count": 60,
      "outputs": [
        {
          "output_type": "stream",
          "name": "stdout",
          "text": [
            "Model: \"sequential_1\"\n",
            "_________________________________________________________________\n",
            " Layer (type)                Output Shape              Param #   \n",
            "=================================================================\n",
            " embedding_1 (Embedding)     (None, None, 200)         3200000   \n",
            "                                                                 \n",
            " lstm_1 (LSTM)               (None, 128)               168448    \n",
            "                                                                 \n",
            " dense_2 (Dense)             (None, 32)                4128      \n",
            "                                                                 \n",
            " dense_3 (Dense)             (None, 1)                 33        \n",
            "                                                                 \n",
            "=================================================================\n",
            "Total params: 3,372,609\n",
            "Trainable params: 3,372,609\n",
            "Non-trainable params: 0\n",
            "_________________________________________________________________\n"
          ]
        }
      ]
    },
    {
      "cell_type": "code",
      "source": [
        "# 모델 훈련\n",
        "\n",
        "epochs = 5\n",
        "callback = tf.keras.callbacks.EarlyStopping(monitor = 'val_loss', patience=5)\n",
        "\n",
        "model_lstm_bpe.compile(optimizer='adam',\n",
        "             loss = 'binary_crossentropy',\n",
        "             metrics=['accuracy'])\n",
        "\n",
        "history_lstm_bpe = model_lstm_bpe.fit(x_train,\n",
        "                              y_train,\n",
        "                              epochs=epochs,\n",
        "                              batch_size=128,\n",
        "                              validation_data=(val_x, val_y),\n",
        "                              verbose=1)"
      ],
      "metadata": {
        "colab": {
          "base_uri": "https://localhost:8080/"
        },
        "id": "3djc8k-LpqWw",
        "outputId": "c2bebbb5-95fe-4c9f-9f0f-9938c737a6ee"
      },
      "execution_count": 61,
      "outputs": [
        {
          "output_type": "stream",
          "name": "stdout",
          "text": [
            "Epoch 1/5\n",
            "1127/1127 [==============================] - 17s 14ms/step - loss: 0.3754 - accuracy: 0.8296 - val_loss: 0.3242 - val_accuracy: 0.8601\n",
            "Epoch 2/5\n",
            "1127/1127 [==============================] - 15s 13ms/step - loss: 0.2679 - accuracy: 0.8858 - val_loss: 0.3282 - val_accuracy: 0.8649\n",
            "Epoch 3/5\n",
            "1127/1127 [==============================] - 15s 13ms/step - loss: 0.2101 - accuracy: 0.9134 - val_loss: 0.3344 - val_accuracy: 0.8616\n",
            "Epoch 4/5\n",
            "1127/1127 [==============================] - 15s 14ms/step - loss: 0.1551 - accuracy: 0.9372 - val_loss: 0.4055 - val_accuracy: 0.8561\n",
            "Epoch 5/5\n",
            "1127/1127 [==============================] - 15s 13ms/step - loss: 0.1075 - accuracy: 0.9579 - val_loss: 0.4868 - val_accuracy: 0.8471\n"
          ]
        }
      ]
    },
    {
      "cell_type": "code",
      "source": [
        "# 시각화할 수 있는 항목 체크\n",
        "history_dict = history_lstm_bpe.history\n",
        "\n",
        "loss = history_dict['loss']\n",
        "val_loss = history_dict['val_loss']\n",
        "acc = history_dict['accuracy']\n",
        "val_acc = history_dict['val_accuracy']\n",
        "\n",
        "epochs = range(1, len(acc) + 1)\n",
        "\n",
        "fig, (ax1, ax2) = plt.subplots(1, 2, figsize=(10,8))\n",
        "ax1.plot(epochs, loss, 'bo', label='Training loss')\n",
        "ax1.plot(epochs, val_loss, 'b', label='Validation loss')\n",
        "ax1.set_title('Traning and validation loss')\n",
        "ax1.legend()\n",
        "\n",
        "ax2.plot(epochs, acc, 'bo', label='Training acc')\n",
        "ax2.plot(epochs, val_acc, 'b', label='Validation acc')\n",
        "ax2.set_title('Training and validation acc')\n",
        "ax2.legend()\n",
        "plt.show()\n"
      ],
      "metadata": {
        "colab": {
          "base_uri": "https://localhost:8080/",
          "height": 499
        },
        "id": "-AxmE7dfpu68",
        "outputId": "a03eb773-f08c-4779-81f2-4d1e749cb98b"
      },
      "execution_count": 62,
      "outputs": [
        {
          "output_type": "display_data",
          "data": {
            "text/plain": [
              "<Figure size 720x576 with 2 Axes>"
            ],
            "image/png": "[encoded data removed]"
          },
          "metadata": {
            "needs_background": "light"
          }
        }
      ]
    },
    {
      "cell_type": "markdown",
      "source": [
        "### Mecab 이용해서 모델 학습"
      ],
      "metadata": {
        "id": "ynxC_XPrMfee"
      }
    },
    {
      "cell_type": "markdown",
      "source": [
        "지금까지 sentencepiece 를 이용해봤으니 이제 mecab을 이용하여 보겠습니다.\n",
        "\n",
        "sentencepiece는 따로 전처리를 하지 않은 raw text를 그대로 받아서 학습했지만 여기서는 전처리를 진행해줘야 합니다."
      ],
      "metadata": {
        "id": "Z9laUa4bO2QN"
      }
    },
    {
      "cell_type": "markdown",
      "source": [
        "전처리는 크게\n",
        "\n",
        "1. 구두점 제거\n",
        "2. 불용어 제거  \n",
        "\n",
        "이 두 가지 전처리를 진행하겠습니다.\n",
        "\n",
        "불용어를 제거할 때 불용서를 모아놓은 .txt 파일을 읽어서 사용해주겠습니다."
      ],
      "metadata": {
        "id": "0Z-WlMfcWioF"
      }
    },
    {
      "cell_type": "markdown",
      "source": [
        "### Mecab\n",
        "\n",
        "먼저 데이터를 다시 불러오겠습니다."
      ],
      "metadata": {
        "id": "Gv4cL63lPocA"
      }
    },
    {
      "cell_type": "code",
      "source": [
        "import pandas as pd\n",
        "import numpy as np\n",
        "import tensorflow as tf\n",
        "\n",
        "\n",
        "train_data = pd.read_table('/content/drive/MyDrive/AIFFEL/GoingDeeper(NLP)/2_단어사전만들기/ratings_train.txt')\n",
        "test_data = pd.read_table('/content/drive/MyDrive/AIFFEL/GoingDeeper(NLP)/2_단어사전만들기/ratings_test.txt')\n"
      ],
      "metadata": {
        "id": "arJPTnDfPrJG"
      },
      "execution_count": 63,
      "outputs": []
    },
    {
      "cell_type": "code",
      "source": [
        "train_data.shape, test_data.shape"
      ],
      "metadata": {
        "colab": {
          "base_uri": "https://localhost:8080/"
        },
        "id": "QYaSTgGJQSFs",
        "outputId": "6e66c09f-6a92-4186-ba65-11de767862e9"
      },
      "execution_count": 64,
      "outputs": [
        {
          "output_type": "execute_result",
          "data": {
            "text/plain": [
              "((150000, 3), (50000, 3))"
            ]
          },
          "metadata": {},
          "execution_count": 64
        }
      ]
    },
    {
      "cell_type": "code",
      "source": [
        "# 두 데이터 합치기\n",
        "all_data = pd.concat([train_data, test_data], axis=0, ignore_index=True)\n",
        "all_data.head()"
      ],
      "metadata": {
        "colab": {
          "base_uri": "https://localhost:8080/",
          "height": 206
        },
        "id": "TKMtUoAIP0qU",
        "outputId": "39daafa1-e9b8-471f-b06b-f11445b22198"
      },
      "execution_count": 65,
      "outputs": [
        {
          "output_type": "execute_result",
          "data": {
            "text/plain": [
              "         id                                           document  label\n",
              "0   9976970                                아 더빙.. 진짜 짜증나네요 목소리      0\n",
              "1   3819312                  흠...포스터보고 초딩영화줄....오버연기조차 가볍지 않구나      1\n",
              "2  10265843                                  너무재밓었다그래서보는것을추천한다      0\n",
              "3   9045019                      교도소 이야기구먼 ..솔직히 재미는 없다..평점 조정      0\n",
              "4   6483659  사이몬페그의 익살스런 연기가 돋보였던 영화!스파이더맨에서 늙어보이기만 했던 커스틴 ...      1"
            ],
            "text/html": [
              "\n",
              "  <div id=\"df-2cd532c7-fc48-47d7-ab16-bfe8fd64f94b\">\n",
              "    <div class=\"colab-df-container\">\n",
              "      <div>\n",
              "<style scoped>\n",
              "    .dataframe tbody tr th:only-of-type {\n",
              "        vertical-align: middle;\n",
              "    }\n",
              "\n",
              "    .dataframe tbody tr th {\n",
              "        vertical-align: top;\n",
              "    }\n",
              "\n",
              "    .dataframe thead th {\n",
              "        text-align: right;\n",
              "    }\n",
              "</style>\n",
              "<table border=\"1\" class=\"dataframe\">\n",
              "  <thead>\n",
              "    <tr style=\"text-align: right;\">\n",
              "      <th></th>\n",
              "      <th>id</th>\n",
              "      <th>document</th>\n",
              "      <th>label</th>\n",
              "    </tr>\n",
              "  </thead>\n",
              "  <tbody>\n",
              "    <tr>\n",
              "      <th>0</th>\n",
              "      <td>9976970</td>\n",
              "      <td>아 더빙.. 진짜 짜증나네요 목소리</td>\n",
              "      <td>0</td>\n",
              "    </tr>\n",
              "    <tr>\n",
              "      <th>1</th>\n",
              "      <td>3819312</td>\n",
              "      <td>흠...포스터보고 초딩영화줄....오버연기조차 가볍지 않구나</td>\n",
              "      <td>1</td>\n",
              "    </tr>\n",
              "    <tr>\n",
              "      <th>2</th>\n",
              "      <td>10265843</td>\n",
              "      <td>너무재밓었다그래서보는것을추천한다</td>\n",
              "      <td>0</td>\n",
              "    </tr>\n",
              "    <tr>\n",
              "      <th>3</th>\n",
              "      <td>9045019</td>\n",
              "      <td>교도소 이야기구먼 ..솔직히 재미는 없다..평점 조정</td>\n",
              "      <td>0</td>\n",
              "    </tr>\n",
              "    <tr>\n",
              "      <th>4</th>\n",
              "      <td>6483659</td>\n",
              "      <td>사이몬페그의 익살스런 연기가 돋보였던 영화!스파이더맨에서 늙어보이기만 했던 커스틴 ...</td>\n",
              "      <td>1</td>\n",
              "    </tr>\n",
              "  </tbody>\n",
              "</table>\n",
              "</div>\n",
              "      <button class=\"colab-df-convert\" onclick=\"convertToInteractive('df-2cd532c7-fc48-47d7-ab16-bfe8fd64f94b')\"\n",
              "              title=\"Convert this dataframe to an interactive table.\"\n",
              "              style=\"display:none;\">\n",
              "        \n",
              "  <svg xmlns=\"http://www.w3.org/2000/svg\" height=\"24px\"viewBox=\"0 0 24 24\"\n",
              "       width=\"24px\">\n",
              "    <path d=\"M0 0h24v24H0V0z\" fill=\"none\"/>\n",
              "    <path d=\"M18.56 5.44l.94 2.06.94-2.06 2.06-.94-2.06-.94-.94-2.06-.94 2.06-2.06.94zm-11 1L8.5 8.5l.94-2.06 2.06-.94-2.06-.94L8.5 2.5l-.94 2.06-2.06.94zm10 10l.94 2.06.94-2.06 2.06-.94-2.06-.94-.94-2.06-.94 2.06-2.06.94z\"/><path d=\"M17.41 7.96l-1.37-1.37c-.4-.4-.92-.59-1.43-.59-.52 0-1.04.2-1.43.59L10.3 9.45l-7.72 7.72c-.78.78-.78 2.05 0 2.83L4 21.41c.39.39.9.59 1.41.59.51 0 1.02-.2 1.41-.59l7.78-7.78 2.81-2.81c.8-.78.8-2.07 0-2.86zM5.41 20L4 18.59l7.72-7.72 1.47 1.35L5.41 20z\"/>\n",
              "  </svg>\n",
              "      </button>\n",
              "      \n",
              "  <style>\n",
              "    .colab-df-container {\n",
              "      display:flex;\n",
              "      flex-wrap:wrap;\n",
              "      gap: 12px;\n",
              "    }\n",
              "\n",
              "    .colab-df-convert {\n",
              "      background-color: #E8F0FE;\n",
              "      border: none;\n",
              "      border-radius: 50%;\n",
              "      cursor: pointer;\n",
              "      display: none;\n",
              "      fill: #1967D2;\n",
              "      height: 32px;\n",
              "      padding: 0 0 0 0;\n",
              "      width: 32px;\n",
              "    }\n",
              "\n",
              "    .colab-df-convert:hover {\n",
              "      background-color: #E2EBFA;\n",
              "      box-shadow: 0px 1px 2px rgba(60, 64, 67, 0.3), 0px 1px 3px 1px rgba(60, 64, 67, 0.15);\n",
              "      fill: #174EA6;\n",
              "    }\n",
              "\n",
              "    [theme=dark] .colab-df-convert {\n",
              "      background-color: #3B4455;\n",
              "      fill: #D2E3FC;\n",
              "    }\n",
              "\n",
              "    [theme=dark] .colab-df-convert:hover {\n",
              "      background-color: #434B5C;\n",
              "      box-shadow: 0px 1px 3px 1px rgba(0, 0, 0, 0.15);\n",
              "      filter: drop-shadow(0px 1px 2px rgba(0, 0, 0, 0.3));\n",
              "      fill: #FFFFFF;\n",
              "    }\n",
              "  </style>\n",
              "\n",
              "      <script>\n",
              "        const buttonEl =\n",
              "          document.querySelector('#df-2cd532c7-fc48-47d7-ab16-bfe8fd64f94b button.colab-df-convert');\n",
              "        buttonEl.style.display =\n",
              "          google.colab.kernel.accessAllowed ? 'block' : 'none';\n",
              "\n",
              "        async function convertToInteractive(key) {\n",
              "          const element = document.querySelector('#df-2cd532c7-fc48-47d7-ab16-bfe8fd64f94b');\n",
              "          const dataTable =\n",
              "            await google.colab.kernel.invokeFunction('convertToInteractive',\n",
              "                                                     [key], {});\n",
              "          if (!dataTable) return;\n",
              "\n",
              "          const docLinkHtml = 'Like what you see? Visit the ' +\n",
              "            '<a target=\"_blank\" href=https://colab.research.google.com/notebooks/data_table.ipynb>data table notebook</a>'\n",
              "            + ' to learn more about interactive tables.';\n",
              "          element.innerHTML = '';\n",
              "          dataTable['output_type'] = 'display_data';\n",
              "          await google.colab.output.renderOutput(dataTable, element);\n",
              "          const docLink = document.createElement('div');\n",
              "          docLink.innerHTML = docLinkHtml;\n",
              "          element.appendChild(docLink);\n",
              "        }\n",
              "      </script>\n",
              "    </div>\n",
              "  </div>\n",
              "  "
            ]
          },
          "metadata": {},
          "execution_count": 65
        }
      ]
    },
    {
      "cell_type": "code",
      "source": [
        "all_data.tail()"
      ],
      "metadata": {
        "colab": {
          "base_uri": "https://localhost:8080/",
          "height": 206
        },
        "id": "6-ZWA7PxQKqr",
        "outputId": "4d38b0c0-a67b-456d-a336-10fa1100861d"
      },
      "execution_count": 66,
      "outputs": [
        {
          "output_type": "execute_result",
          "data": {
            "text/plain": [
              "             id                                        document  label\n",
              "199995  4608761       오랜만에 평점 로긴했네ㅋㅋ 킹왕짱 쌈뽕한 영화를 만났습니다 강렬하게 육쾌함      1\n",
              "199996  5308387    의지 박약들이나 하는거다 탈영은 일단 주인공 김대희 닮았고 이등병 찐따 OOOO      0\n",
              "199997  9072549              그림도 좋고 완성도도 높았지만... 보는 내내 불안하게 만든다      0\n",
              "199998  5802125  절대 봐서는 안 될 영화.. 재미도 없고 기분만 잡치고.. 한 세트장에서 다 해먹네      0\n",
              "199999  6070594                                      마무리는 또 왜이래      0"
            ],
            "text/html": [
              "\n",
              "  <div id=\"df-cc675d65-d0ad-4dd4-b2ac-82ebbbdbe735\">\n",
              "    <div class=\"colab-df-container\">\n",
              "      <div>\n",
              "<style scoped>\n",
              "    .dataframe tbody tr th:only-of-type {\n",
              "        vertical-align: middle;\n",
              "    }\n",
              "\n",
              "    .dataframe tbody tr th {\n",
              "        vertical-align: top;\n",
              "    }\n",
              "\n",
              "    .dataframe thead th {\n",
              "        text-align: right;\n",
              "    }\n",
              "</style>\n",
              "<table border=\"1\" class=\"dataframe\">\n",
              "  <thead>\n",
              "    <tr style=\"text-align: right;\">\n",
              "      <th></th>\n",
              "      <th>id</th>\n",
              "      <th>document</th>\n",
              "      <th>label</th>\n",
              "    </tr>\n",
              "  </thead>\n",
              "  <tbody>\n",
              "    <tr>\n",
              "      <th>199995</th>\n",
              "      <td>4608761</td>\n",
              "      <td>오랜만에 평점 로긴했네ㅋㅋ 킹왕짱 쌈뽕한 영화를 만났습니다 강렬하게 육쾌함</td>\n",
              "      <td>1</td>\n",
              "    </tr>\n",
              "    <tr>\n",
              "      <th>199996</th>\n",
              "      <td>5308387</td>\n",
              "      <td>의지 박약들이나 하는거다 탈영은 일단 주인공 김대희 닮았고 이등병 찐따 OOOO</td>\n",
              "      <td>0</td>\n",
              "    </tr>\n",
              "    <tr>\n",
              "      <th>199997</th>\n",
              "      <td>9072549</td>\n",
              "      <td>그림도 좋고 완성도도 높았지만... 보는 내내 불안하게 만든다</td>\n",
              "      <td>0</td>\n",
              "    </tr>\n",
              "    <tr>\n",
              "      <th>199998</th>\n",
              "      <td>5802125</td>\n",
              "      <td>절대 봐서는 안 될 영화.. 재미도 없고 기분만 잡치고.. 한 세트장에서 다 해먹네</td>\n",
              "      <td>0</td>\n",
              "    </tr>\n",
              "    <tr>\n",
              "      <th>199999</th>\n",
              "      <td>6070594</td>\n",
              "      <td>마무리는 또 왜이래</td>\n",
              "      <td>0</td>\n",
              "    </tr>\n",
              "  </tbody>\n",
              "</table>\n",
              "</div>\n",
              "      <button class=\"colab-df-convert\" onclick=\"convertToInteractive('df-cc675d65-d0ad-4dd4-b2ac-82ebbbdbe735')\"\n",
              "              title=\"Convert this dataframe to an interactive table.\"\n",
              "              style=\"display:none;\">\n",
              "        \n",
              "  <svg xmlns=\"http://www.w3.org/2000/svg\" height=\"24px\"viewBox=\"0 0 24 24\"\n",
              "       width=\"24px\">\n",
              "    <path d=\"M0 0h24v24H0V0z\" fill=\"none\"/>\n",
              "    <path d=\"M18.56 5.44l.94 2.06.94-2.06 2.06-.94-2.06-.94-.94-2.06-.94 2.06-2.06.94zm-11 1L8.5 8.5l.94-2.06 2.06-.94-2.06-.94L8.5 2.5l-.94 2.06-2.06.94zm10 10l.94 2.06.94-2.06 2.06-.94-2.06-.94-.94-2.06-.94 2.06-2.06.94z\"/><path d=\"M17.41 7.96l-1.37-1.37c-.4-.4-.92-.59-1.43-.59-.52 0-1.04.2-1.43.59L10.3 9.45l-7.72 7.72c-.78.78-.78 2.05 0 2.83L4 21.41c.39.39.9.59 1.41.59.51 0 1.02-.2 1.41-.59l7.78-7.78 2.81-2.81c.8-.78.8-2.07 0-2.86zM5.41 20L4 18.59l7.72-7.72 1.47 1.35L5.41 20z\"/>\n",
              "  </svg>\n",
              "      </button>\n",
              "      \n",
              "  <style>\n",
              "    .colab-df-container {\n",
              "      display:flex;\n",
              "      flex-wrap:wrap;\n",
              "      gap: 12px;\n",
              "    }\n",
              "\n",
              "    .colab-df-convert {\n",
              "      background-color: #E8F0FE;\n",
              "      border: none;\n",
              "      border-radius: 50%;\n",
              "      cursor: pointer;\n",
              "      display: none;\n",
              "      fill: #1967D2;\n",
              "      height: 32px;\n",
              "      padding: 0 0 0 0;\n",
              "      width: 32px;\n",
              "    }\n",
              "\n",
              "    .colab-df-convert:hover {\n",
              "      background-color: #E2EBFA;\n",
              "      box-shadow: 0px 1px 2px rgba(60, 64, 67, 0.3), 0px 1px 3px 1px rgba(60, 64, 67, 0.15);\n",
              "      fill: #174EA6;\n",
              "    }\n",
              "\n",
              "    [theme=dark] .colab-df-convert {\n",
              "      background-color: #3B4455;\n",
              "      fill: #D2E3FC;\n",
              "    }\n",
              "\n",
              "    [theme=dark] .colab-df-convert:hover {\n",
              "      background-color: #434B5C;\n",
              "      box-shadow: 0px 1px 3px 1px rgba(0, 0, 0, 0.15);\n",
              "      filter: drop-shadow(0px 1px 2px rgba(0, 0, 0, 0.3));\n",
              "      fill: #FFFFFF;\n",
              "    }\n",
              "  </style>\n",
              "\n",
              "      <script>\n",
              "        const buttonEl =\n",
              "          document.querySelector('#df-cc675d65-d0ad-4dd4-b2ac-82ebbbdbe735 button.colab-df-convert');\n",
              "        buttonEl.style.display =\n",
              "          google.colab.kernel.accessAllowed ? 'block' : 'none';\n",
              "\n",
              "        async function convertToInteractive(key) {\n",
              "          const element = document.querySelector('#df-cc675d65-d0ad-4dd4-b2ac-82ebbbdbe735');\n",
              "          const dataTable =\n",
              "            await google.colab.kernel.invokeFunction('convertToInteractive',\n",
              "                                                     [key], {});\n",
              "          if (!dataTable) return;\n",
              "\n",
              "          const docLinkHtml = 'Like what you see? Visit the ' +\n",
              "            '<a target=\"_blank\" href=https://colab.research.google.com/notebooks/data_table.ipynb>data table notebook</a>'\n",
              "            + ' to learn more about interactive tables.';\n",
              "          element.innerHTML = '';\n",
              "          dataTable['output_type'] = 'display_data';\n",
              "          await google.colab.output.renderOutput(dataTable, element);\n",
              "          const docLink = document.createElement('div');\n",
              "          docLink.innerHTML = docLinkHtml;\n",
              "          element.appendChild(docLink);\n",
              "        }\n",
              "      </script>\n",
              "    </div>\n",
              "  </div>\n",
              "  "
            ]
          },
          "metadata": {},
          "execution_count": 66
        }
      ]
    },
    {
      "cell_type": "markdown",
      "source": [
        "load_data 함수를 구현하여 아래 기능을 한 번에 실행해주겠습니다. 포함하는 기능은 아래와 같습니다.\n",
        "1. 데이터의 중복 제거\n",
        "2. 결측치 제거\n",
        "3. 한국어 토크나이저로 토큰화\n",
        "4. 불용어 제거\n",
        "5. 사전 구성\n",
        "6. 텍스트 스트링을 사전 인덱스 스트링으로 변환\n",
        "7. x_train, y_train, val_x, val_y, word_to_index 리턴\n",
        "\n",
        "불용어는 만들어진 불용어 파일을 이용해 제거해주겠습니다."
      ],
      "metadata": {
        "id": "vXoJWSZWQmhz"
      }
    },
    {
      "cell_type": "code",
      "source": [
        "stop_file_path = '/content/drive/MyDrive/AIFFEL/GoingDeeper(NLP)/2_단어사전만들기/stopwords.txt'\n",
        "\n",
        "with open(stop_file_path) as f:\n",
        "  lines = f.read().splitlines()\n"
      ],
      "metadata": {
        "id": "mluQujJ5ZDtm"
      },
      "execution_count": 67,
      "outputs": []
    },
    {
      "cell_type": "code",
      "source": [
        "stopwords_list = lines"
      ],
      "metadata": {
        "id": "lhbaRMwMbGhT"
      },
      "execution_count": 68,
      "outputs": []
    },
    {
      "cell_type": "code",
      "source": [
        "from konlpy.tag import Mecab\n",
        "import numpy as np\n",
        "from collections import Counter\n",
        "\n",
        "tokenizer_mecab = Mecab()\n",
        "\n",
        "def load_data(train_data, test_data, num_words=16000):\n",
        "  len_train = len(train_data)\n",
        "\n",
        "  all_data = pd.concat([train_data, test_data], axis=0, ignore_index=True)\n",
        "  all_data = all_data.drop_duplicates('document', keep='first')\n",
        "  all_data = all_data.dropna(axis=0)\n",
        "\n",
        "  sentence_list = list(all_data['document'])\n",
        "\n",
        "  token_list = []\n",
        "  for sen in sentence_list:\n",
        "    tokenize_sentence = tokenizer_mecab.morphs(sen)\n",
        "    tokenize_sentence = [word for word in tokenize_sentence if word not in stopwords_list]\n",
        "    token_list.append(tokenize_sentence)\n",
        "  \n",
        "  x_train = token_list[:len_train]\n",
        "  val_x = token_list[len_train:]\n",
        "\n",
        "  words = np.concatenate(x_train).tolist()\n",
        "  counter = Counter(words)\n",
        "  counter = counter.most_common(15000-4)\n",
        "  vocab = ['<PAD>', '<BOS>', '<UNK>', '<UNUSED>'] + [key for key, _ in counter]\n",
        "  \n",
        "  word2index = {word : index for index, word in enumerate(vocab)}\n",
        "\n",
        "  def wordlist_to_indexlist(wordlist):\n",
        "    return [word2index[word] if word in word2index else word2index['<UNK>'] for word in wordlist]\n",
        "  \n",
        "  x_train=np.array(list(map(wordlist_to_indexlist, x_train)), dtype=object)\n",
        "  val_x = np.array(list(map(wordlist_to_indexlist, val_x)), dtype=object)\n",
        "\n",
        "  return x_train, np.array(list(all_data['label'][:len_train]), dtype=object), val_x, np.array(list(all_data['label'][len_train:]), dtype=object), word2index\n",
        "\n",
        "\n"
      ],
      "metadata": {
        "id": "uNJeDSgAQfk_"
      },
      "execution_count": 69,
      "outputs": []
    },
    {
      "cell_type": "code",
      "source": [
        "x_train, y_train, val_x, val_y, word2index = load_data(train_data, test_data)"
      ],
      "metadata": {
        "id": "s0MlsrAiBjNq"
      },
      "execution_count": 70,
      "outputs": []
    },
    {
      "cell_type": "code",
      "source": [
        "index2word = {index : word for word, index in word2index.items()}"
      ],
      "metadata": {
        "id": "IMJZ11EAUNRN"
      },
      "execution_count": 71,
      "outputs": []
    },
    {
      "cell_type": "code",
      "source": [
        "# 문장 1개를 활용할 딕셔너리와 함께 주면 ,단어 인덱스 리스트 벡터로 변환해 주는 함수입니다.\n",
        "# 단, 모든 문장은 <BOS>로 시작하는 것으로 합니다.\n",
        "def get_encoded_sentence(sentence, word_to_index):\n",
        "  return [word_to_index['<BOS>']]+[word_to_index[word] if word in word_to_index else word_to_index['<UNK>'] for word in sentence.split()]\n",
        "\n",
        "# 여러 개의 문장 리스트를 한꺼번에 단어 인덱스 리스트 벡터로 encode해주는 함수입니다.\n",
        "def get_encoded_sentences(sentences, word_to_index):\n",
        "  return [get_encoded_sentence(sentence, word_to_index) for sentence in sentences]\n",
        "\n",
        "# 숫자 벡터로 encode된 문장을 원래대로 decode하는 함수입니다.\n",
        "def get_decoded_sentence(encoded_sentence, index_to_word):\n",
        "  return ' '.join(index_to_word[index] if index in index_to_word else '<UNK>' for index in encoded_sentence[1:])\n",
        "  \n",
        "# 여러 개의 숫자 벡터로 encode된 문장을 한꺼번에 원래대로 decode하는 함수입니다.\n",
        "def get_decoded_sentences(encoded_sentences, index_to_word):\n",
        "  return [get_decoded_sentence(encoded_sentence, index_to_word) for encoded_sentence in encoded_sentences]"
      ],
      "metadata": {
        "id": "6Y9ipjstUbsq"
      },
      "execution_count": 72,
      "outputs": []
    },
    {
      "cell_type": "markdown",
      "source": [
        "토큰화된 문장들의 길이분포를 확인하고 최대 문장 길이를 지정해주겠습니다."
      ],
      "metadata": {
        "id": "fBfMRl0eUoK-"
      }
    },
    {
      "cell_type": "code",
      "source": [
        "total_data_text = list(x_train) + list(val_x)\n",
        "\n",
        "# 텍스트데이터 문장길이의 리스트를 생성\n",
        "num_tokens = [len(tokens) for tokens in total_data_text]\n",
        "num_tokens = np.array(num_tokens)\n",
        "\n",
        "# 문장길이의 평균값, 최대값, 표준편차를 계산\n",
        "print('문장길이 평균 : ', np.mean(num_tokens))\n",
        "print('문장길이 최대 : ', np.max(num_tokens))\n",
        "print('문장길이 표준편차 : ', np.std(num_tokens))\n",
        "\n",
        "# 최대 길이를 (평균 + 2 * 표준편차) 로 한다면 남는 문장의 비율은?\n",
        "max_tokens = np.mean(num_tokens) + 2 * np.std(num_tokens)\n",
        "maxlen = int(max_tokens)\n",
        "print('pad_sequences maxlen : ', maxlen)\n",
        "print('전체 문장의 {}%가 maxlen 설정값 이내에 포함됩니다. '.format(np.sum(num_tokens < max_tokens) / len(num_tokens)))"
      ],
      "metadata": {
        "colab": {
          "base_uri": "https://localhost:8080/"
        },
        "id": "f_6soLZdUkM8",
        "outputId": "8438b9ce-e096-47a6-8274-959196bcdd5e"
      },
      "execution_count": 73,
      "outputs": [
        {
          "output_type": "stream",
          "name": "stdout",
          "text": [
            "문장길이 평균 :  15.31643903918414\n",
            "문장길이 최대 :  116\n",
            "문장길이 표준편차 :  12.220230883270801\n",
            "pad_sequences maxlen :  39\n",
            "전체 문장의 0.9337370144389672%가 maxlen 설정값 이내에 포함됩니다. \n"
          ]
        }
      ]
    },
    {
      "cell_type": "code",
      "source": [
        "import tensorflow as tf\n",
        "\n",
        "# 문장의 마지막 입력이 최종 state에 영향을 가장 크게 미치기 때문에 패딩 적용은 pre(앞쪽)으로 해줍니다.\n",
        "x_train = tf.keras.preprocessing.sequence.pad_sequences(x_train,\n",
        "                                                        value=word2index['<PAD>'],\n",
        "                                                        padding = 'pre',\n",
        "                                                        maxlen = maxlen)\n",
        " \n",
        "\n",
        "val_x = tf.keras.preprocessing.sequence.pad_sequences(val_x,\n",
        "                                                       value=word2index[\"<PAD>\"],\n",
        "                                                       padding='pre',\n",
        "                                                       maxlen=maxlen)\n",
        "\n",
        "print(x_train.shape)\n"
      ],
      "metadata": {
        "colab": {
          "base_uri": "https://localhost:8080/"
        },
        "id": "SNVcwcHDU0xY",
        "outputId": "78638805-ab48-44cf-a32b-8385d03dccd3"
      },
      "execution_count": 74,
      "outputs": [
        {
          "output_type": "stream",
          "name": "stdout",
          "text": [
            "(150000, 39)\n"
          ]
        }
      ]
    },
    {
      "cell_type": "code",
      "source": [
        "x_train = x_train.astype(np.float32)\n",
        "y_train = y_train.astype(np.float32)\n",
        "val_x = val_x.astype(np.float32)\n",
        "val_y = val_y.astype(np.float32)"
      ],
      "metadata": {
        "id": "0ZPsfsTXZzbC"
      },
      "execution_count": 75,
      "outputs": []
    },
    {
      "cell_type": "code",
      "source": [
        "vocab_size = 16000\n",
        "word_vector_dim = 200\n",
        "\n",
        "model_lstm_mecab = tf.keras.Sequential()\n",
        "model_lstm_mecab.add(tf.keras.layers.Embedding(vocab_size, word_vector_dim, input_shape=(None,)))\n",
        "model_lstm_mecab.add(tf.keras.layers.LSTM(128))\n",
        "model_lstm_mecab.add(tf.keras.layers.Dense(32, activation='relu'))\n",
        "model_lstm_mecab.add(tf.keras.layers.Dense(1, activation='sigmoid')) # 최종 출력은 긍정/부정을 나타내는 1dim 입니다.\n",
        "model_lstm_mecab.summary()"
      ],
      "metadata": {
        "colab": {
          "base_uri": "https://localhost:8080/"
        },
        "id": "HFftkCxwVAxo",
        "outputId": "1fc9072c-93b6-4ff0-d999-f4d562062750"
      },
      "execution_count": 76,
      "outputs": [
        {
          "output_type": "stream",
          "name": "stdout",
          "text": [
            "Model: \"sequential_2\"\n",
            "_________________________________________________________________\n",
            " Layer (type)                Output Shape              Param #   \n",
            "=================================================================\n",
            " embedding_2 (Embedding)     (None, None, 200)         3200000   \n",
            "                                                                 \n",
            " lstm_2 (LSTM)               (None, 128)               168448    \n",
            "                                                                 \n",
            " dense_4 (Dense)             (None, 32)                4128      \n",
            "                                                                 \n",
            " dense_5 (Dense)             (None, 1)                 33        \n",
            "                                                                 \n",
            "=================================================================\n",
            "Total params: 3,372,609\n",
            "Trainable params: 3,372,609\n",
            "Non-trainable params: 0\n",
            "_________________________________________________________________\n"
          ]
        }
      ]
    },
    {
      "cell_type": "code",
      "source": [
        "model_lstm_mecab.compile(optimizer = 'adam',\n",
        "                         loss = 'binary_crossentropy',\n",
        "                         metrics=['accuracy'])\n",
        "\n",
        "epochs = 2\n",
        "\n",
        "history_lstm_mecab = model_lstm_mecab.fit(x_train,\n",
        "                                          y_train,\n",
        "                                          epochs=epochs,\n",
        "                                          batch_size=64,\n",
        "                                          validation_data=(val_x, val_y),\n",
        "                                          )"
      ],
      "metadata": {
        "colab": {
          "base_uri": "https://localhost:8080/"
        },
        "id": "cYznQYrMVSoX",
        "outputId": "79900b8a-b8f8-46a0-9315-0ea134ba495d"
      },
      "execution_count": 77,
      "outputs": [
        {
          "output_type": "stream",
          "name": "stdout",
          "text": [
            "Epoch 1/2\n",
            "2344/2344 [==============================] - 17s 7ms/step - loss: 0.3622 - accuracy: 0.8380 - val_loss: 0.3355 - val_accuracy: 0.8556\n",
            "Epoch 2/2\n",
            "2344/2344 [==============================] - 15s 6ms/step - loss: 0.2732 - accuracy: 0.8845 - val_loss: 0.3204 - val_accuracy: 0.8635\n"
          ]
        }
      ]
    },
    {
      "cell_type": "code",
      "source": [
        "history_mecab_dict = history_lstm_mecab.history\n",
        "history_mecab_dict.keys()"
      ],
      "metadata": {
        "colab": {
          "base_uri": "https://localhost:8080/"
        },
        "id": "oaLaiDrTVq88",
        "outputId": "136c6e3a-d4a9-4383-b17d-7154a804a7c6"
      },
      "execution_count": 78,
      "outputs": [
        {
          "output_type": "execute_result",
          "data": {
            "text/plain": [
              "dict_keys(['loss', 'accuracy', 'val_loss', 'val_accuracy'])"
            ]
          },
          "metadata": {},
          "execution_count": 78
        }
      ]
    },
    {
      "cell_type": "code",
      "source": [
        "import matplotlib.pyplot as plt\n",
        "\n",
        "loss = history_mecab_dict['loss']\n",
        "val_loss = history_mecab_dict['val_loss']\n",
        "acc = history_mecab_dict['accuracy']\n",
        "val_acc = history_mecab_dict['val_accuracy']\n",
        "\n",
        "epochs = range(1, len(acc) + 1)\n",
        "\n",
        "fig, (ax1, ax2) = plt.subplots(1, 2, figsize=(10,8))\n",
        "ax1.plot(epochs, loss, 'bo', label='Training loss')\n",
        "ax1.plot(epochs, val_loss, 'b', label='Validation loss')\n",
        "ax1.set_title('Traning and validation loss')\n",
        "ax1.legend()\n",
        "\n",
        "ax2.plot(epochs, acc, 'bo', label='Training acc')\n",
        "ax2.plot(epochs, val_acc, 'b', label='Validation acc')\n",
        "ax2.set_title('Training and validation acc')\n",
        "ax2.legend()\n",
        "plt.show()"
      ],
      "metadata": {
        "colab": {
          "base_uri": "https://localhost:8080/",
          "height": 499
        },
        "id": "K2yLz1oPbFbp",
        "outputId": "8209c6cf-53ee-4767-adc3-232017a4a4e6"
      },
      "execution_count": 79,
      "outputs": [
        {
          "output_type": "display_data",
          "data": {
            "text/plain": [
              "<Figure size 720x576 with 2 Axes>"
            ],
            "image/png": "[encoded data removed]"
          },
          "metadata": {
            "needs_background": "light"
          }
        }
      ]
    },
    {
      "cell_type": "markdown",
      "source": [
        "## 결과 비교\n",
        "\n",
        "| 전처리, 파라미터 | SentencePiece(unigram) | SentencePiece(BPE) | Mecab |\n",
        "|:---:|:---:|:---:|:---:|\n",
        "|Vocab Size|16000 |16000 | 16000|\n",
        "|문장 길이|10 ~ 140 |10~140 | (토큰의 개수 기준) 39|\n",
        "|패딩 위치| pre| pre|pre |\n",
        "|임베딩 차원| 200| 200|200 |\n",
        "|LSTM hidden size| 128|128|128 |\n",
        "|batch size| 128 | 128| 64|\n",
        "|Validation loss(가장 낮을 때 기준)|0.3107 |0.3282 | 0.3204|\n",
        "|Validation accuracy(가장 높을 때 기준)|0.8657 |0.8649 |0.8635 |\n",
        "\n",
        "\n",
        "이번에 처음 SentencePiece 모델을 사용해봤는데 전처리 없이 그냥 raw text를 그대로 받아서 학습하고 토큰화와 인덱싱까지 해주는 게 너무 편했습니다. Mecab을 사용하려면 기본적인 불용어 제거, 구두점 제거 등의 전처리를 진행해줘야 하는 귀찮음(?)이 있었는데 그게 없는게 가장 컸습니다. 거기에 성능까지 준수하기 때문에 정말 안 쓸 이유가 없는 모델인 것 같습니다.\n",
        "\n",
        "그리고 처음에 LMS에서는 패딩을 'post'로 하는데 LSTM에 들어갈 때 패딩은 'pre'로 하는 게 더 좋다고 들어서 왜 이렇게 하는거지? 라는 생각이 들었습니다.   \n",
        "그래도 일단 'post'로 진행해봤는데 성능이 너무 안좋아서 'pre'로 바꿔주니 확실히 성능이 좋아졌습니다.  \n",
        "그리고 문장의 길이에 따른 성능을 볼 때도 처음에 문장을 전부 다 쓰면 데이터가 많으니까 좋겠지?? 하고 전부 다 사용했습니다. 그랬더니 그래프가 미친듯한 과적합 양상을 보여서 놀래서 중단했습니다. ㅎㅎ;  \n",
        "그 후로  5 ~ 80, 10 ~ 80, 10~140 으로 길이를 바꿔가며 진행 했는데 문장의 길이가 길어지는 것은 성능에 그렇게 큰 영향을 끼치진 않았지만 길이가 너무 짧은(10 미만)문장들은 오히려 성능에 악영향을 끼치는 모습을 보였습니다. 앞으로 문장의 길이가 너무 짧은 것들은 얄짤없이 다 버려야겠습니다.  \n",
        "\n",
        "이번에 처음으로 Mecab대신 다른 SentencePiece라는 모델을 사용해봤는데 전처리가 필요없이 아주 준수한 성능을 내는 모델이란 걸 알았고 다음에 데이터 전처리를 할 때는 웬만해서는 SentencePiece 모델을 사용할 것 같습니다. "
      ],
      "metadata": {
        "id": "oSBIdNV8kDJw"
      }
    }
  ]
}